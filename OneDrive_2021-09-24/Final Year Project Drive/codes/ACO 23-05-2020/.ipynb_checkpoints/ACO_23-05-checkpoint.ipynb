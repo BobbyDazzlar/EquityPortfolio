{
 "cells": [
  {
   "cell_type": "markdown",
   "metadata": {},
   "source": [
    "## ANT COLONY OPTIMIZATION"
   ]
  },
  {
   "cell_type": "code",
   "execution_count": 1,
   "metadata": {},
   "outputs": [],
   "source": [
    "import pandas as pd\n",
    "import numpy as np\n",
    "import random\n",
    "import math\n"
   ]
  },
  {
   "cell_type": "code",
   "execution_count": 2,
   "metadata": {},
   "outputs": [],
   "source": [
    "df=pd.read_csv('n50.csv',parse_dates=['Date'],index_col='Date')  #Importing Dataset\n",
    "df = df.loc[\"2016-01-01\" : ]   #Since 2016-01-01, 5y(1234rows till 2020-12-31)\n",
    "tdf=df.copy()                  #deep copy\n",
    "df.reset_index(drop=True, inplace=True)"
   ]
  },
  {
   "cell_type": "code",
   "execution_count": 3,
   "metadata": {},
   "outputs": [],
   "source": [
    "def number_of_years(y):        #calculates the number of years of the dataset\n",
    "  p=y.index[0]                 #date of first row in the dataset (datetime format)\n",
    "  q=y.index[len(y)-1]          #date of last row in the dataset  (datetime format)\n",
    "  return ((q-p).days+1)/365           #the difference give the number of total days (not trading days) over the total number of years in the dataset"
   ]
  },
  {
   "cell_type": "code",
   "execution_count": 4,
   "metadata": {},
   "outputs": [],
   "source": [
    "trading_days=len(df)/number_of_years(tdf)                       #Trading days per year (automated)"
   ]
  },
  {
   "cell_type": "code",
   "execution_count": 5,
   "metadata": {},
   "outputs": [],
   "source": [
    "returnsh=df.pct_change()                  #Here, returnsh would mean return considered for sharpe ratio\n",
    "returnsh.fillna(0,inplace=True)           #calculating daily returns of the stocks in the portfolio"
   ]
  },
  {
   "cell_type": "code",
   "execution_count": 6,
   "metadata": {},
   "outputs": [],
   "source": [
    "returnso=returnsh.copy()                  #this cell considers only NEGATIVE returns so as to calculate sortino ratio\n",
    "for cols in returnso.columns.tolist():\n",
    "    for i in range(0,len(df)):\n",
    "        if returnso[cols][i] > 0:\n",
    "            returnso[cols][i]=0               #Here, returnso would mean return considered for sortino ratio"
   ]
  },
  {
   "cell_type": "code",
   "execution_count": 7,
   "metadata": {},
   "outputs": [],
   "source": [
    "covmatsh=returnsh.cov()*trading_days      #Annualised covariance matrix calculated wrt returnsh i.e. used to calculate sharpe ratio\n",
    "covmatso=returnso.cov()*trading_days      #Annualised covariance matrix calculated wrt returnso i.e. used to calculate sortino ratio"
   ]
  },
  {
   "cell_type": "code",
   "execution_count": 8,
   "metadata": {},
   "outputs": [],
   "source": [
    "risk_free_rate = 0.0358                   #initializing risk free rate that will be used in calculating both the ratios (absolute value)\n",
    "#referred from url: https://www.rbi.org.in/Scripts/BS_NSDPDisplay.aspx?param=4&Id=24292\n",
    "#In the above url, the 364 (1 year) day treasury bill is 3.58% , when taken absolute value => 0.0358\n",
    "# (improved)"
   ]
  },
  {
   "cell_type": "code",
   "execution_count": 9,
   "metadata": {},
   "outputs": [
    {
     "data": {
      "text/plain": [
       "22"
      ]
     },
     "execution_count": 9,
     "metadata": {},
     "output_type": "execute_result"
    }
   ],
   "source": [
    "df\n",
    "stocks=df.shape[1]\n",
    "stocks"
   ]
  },
  {
   "cell_type": "code",
   "execution_count": 10,
   "metadata": {},
   "outputs": [],
   "source": [
    "global_warr_sortino=[]\n",
    "global_war_sharpe=[]"
   ]
  },
  {
   "cell_type": "code",
   "execution_count": 11,
   "metadata": {},
   "outputs": [],
   "source": [
    "#No of times we want to run the algorithm\n",
    "ITERATIONS=500      #Search for Indian Market. IMPORTANT (Perform Trials and look for optimal value)#$#$#$#$#$#$#$#\n",
    "#Constant<Fixed amount pheromone>\n",
    "Q=0.1\n",
    "#Evaporation rate\n",
    "EVA_RATE=0.01       #Search for Indian Market. IMPORTANT (Perform Trials and look for optimal value)#$#$#$#$#$#$#$#\n",
    "#No of ants\n",
    "ANTS=168            #Search for Indian Market. IMPORTANT (Perform Trials and look for optimal value)#$#$#$#$#$#$#$#\n",
    "\n",
    "#Ant Colony Optimization Approach to Portfolio Optimization – A Lingo Companion Kambiz Forqandoost Haqiqi and Tohid Kazemi"
   ]
  },
  {
   "cell_type": "code",
   "execution_count": 12,
   "metadata": {},
   "outputs": [],
   "source": [
    "def BALANCE(weights):\n",
    "    #Making sure the total sum of the weights eual to 1\n",
    "    weights = [w/sum(weights) for w in weights] # Making sure all weights represent proportions that add up to 1\n",
    "    return weights"
   ]
  },
  {
   "cell_type": "code",
   "execution_count": 13,
   "metadata": {},
   "outputs": [],
   "source": [
    "def ratio(a,b,c):                         #function to calculate ratio i.e. \"(returns-(risk_free_rate))/deviation\"\n",
    "    #calculating sharpe ratio\n",
    "    return (a-c)/b                          #a => annual return, b =>deviation (standard for sharpe, semi for sortino) , c =>risk_free_rate "
   ]
  },
  {
   "cell_type": "code",
   "execution_count": 14,
   "metadata": {},
   "outputs": [],
   "source": [
    "#Initializing pbest(the best fitness value   SHARPE)\n",
    "pbest=-1\n",
    "#Initializing the current fitness value\n",
    "fitness=0\n",
    "\n",
    "#for each iteration\n",
    "for iteration in range(ITERATIONS):\n",
    "    \n",
    "    #PREPARAING THE PHEROMONE MATRIX WHERE THE COLS=STOCKS AND  ROWS=ANTS\n",
    "    pheromon=[[0]*stocks for i in range(ANTS+1)]#why (ants+1)?The last ant can update the pheromone values in the last row\n",
    "    \n",
    "    # Initializing the pheromone status \n",
    "    for i in range(len(pheromon[0])):\n",
    "        pheromon[0][i]=random.randint(1,15)   #When input stocks varies, this needs to vary accordingly.(Divide number of stocks / 2)\n",
    "    \n",
    "    #copying the values and storing it in temp_pher\n",
    "    temp_pher=pheromon[0]\n",
    "    \n",
    "    #Making sure that the total amount of pheromone equals 1 \n",
    "    weights=np.array(BALANCE(temp_pher))\n",
    "    \n",
    "    #calculating annulaised portfolio return\n",
    "    returns_temp = np.sum(returnsh.mean()*weights)*trading_days \n",
    "    \n",
    "    #calculating portfolio varience wrt calculating sharpe ratio\n",
    "    varsh=np.dot(weights.T,np.dot(covmatsh,weights))   \n",
    "    \n",
    "    #portfolio risk\n",
    "    volatility_temp = np.sqrt(varsh)      \n",
    "    \n",
    "    #Calculating fitness value(ie sharpe ratio)\n",
    "    fitness = ratio(returns_temp,volatility_temp,risk_free_rate)\n",
    "    \n",
    "    #Initializing the intial fitness value as the best fitness value(pbest)\n",
    "    if pbest==-1:\n",
    "         pbest=fitness\n",
    "    \n",
    "    #list\n",
    "    path=[]\n",
    "   \n",
    "    #for each ant\n",
    "    for ant in range(ANTS-1):\n",
    "        \n",
    "        #find the total pheromone \n",
    "        total=sum(pheromon[ant])\n",
    "        \n",
    "        #Initializing probability\n",
    "        probability=pheromon[ant][:]\n",
    "        \n",
    "        #finding probability of each stocks pheromone \n",
    "        for p in range(len(probability)):\n",
    "            probability[p]=(probability[p]/total)\n",
    "            \n",
    "        #Trying to select stocks in decreasing order based on their pheromone level and storing the stock order in a list(path)\n",
    "        for stock in range(stocks):\n",
    "            select=probability.index(max(probability))\n",
    "            probability[select]=-math.inf\n",
    "            path.append(select)\n",
    "        \n",
    "        #Updating the pheromone level of each stock for the next ant \n",
    "        #Formula: old pheromone level * (1-eva_rate) + Q * (fitness/pbest) where Q is fixed amount of pheromone\n",
    "        for s in path:\n",
    "            pheromon[ant+1][s]=pheromon[ant][s]*(1-EVA_RATE)+Q*(fitness/pbest)\n",
    "        \n",
    "        \n",
    "        #making sure that the updated pheromon adds upto 1\n",
    "        temp_pher=pheromon[ant+1]\n",
    "        weights=np.array(BALANCE(temp_pher))\n",
    "        returns_temp = np.sum(returnsh.mean()*weights)*trading_days   #calculating annulaised portfolio return\n",
    "        varsh=np.dot(weights.T,np.dot(covmatsh,weights))              #calculating portfolio varience wrt calculating sharpe ratio\n",
    "        volatility_temp = np.sqrt(varsh)                              #portfolio risk\n",
    "        fitness = ratio(returns_temp,volatility_temp,risk_free_rate)  #calculating sharpe ratio\n",
    "        \n",
    "        #comparing the old fitness value with the updated fitness value\n",
    "        if(fitness>pbest):\n",
    "            \n",
    "            #if the updated fitness value is better than the previous, change pbest to present fitness value\n",
    "            pbest=fitness\n",
    "            \n",
    "            #remembering the weights of the best portfolio\n",
    "            global_warr_sharpe=weights.tolist()\n"
   ]
  },
  {
   "cell_type": "code",
   "execution_count": 15,
   "metadata": {},
   "outputs": [
    {
     "name": "stdout",
     "output_type": "stream",
     "text": [
      "ASIANPAINT -> 0.6626604529420664 %\n",
      "BAJFINANCE -> 7.279816582435162 %\n",
      "BAJAJFINSV -> 8.482935878706634 %\n",
      "BRITANNIA -> 6.07669728616369 %\n",
      "DIVISLAB -> 7.279816582435162 %\n",
      "HCLTECH -> 2.467339397349274 %\n",
      "HDFCBANK -> 0.6626604529420664 %\n",
      "HINDALCO -> 3.6704586936207457 %\n",
      "HINDUNILVR -> 3.06889904548501 %\n",
      "HDFC -> 1.8657797492135382 %\n",
      "ICICIBANK -> 4.873577989892219 %\n",
      "INFY -> 8.482935878706634 %\n",
      "JSWSTEEL -> 9.084495526842371 %\n",
      "KOTAKBANK -> 5.475137638027955 %\n",
      "NESTLEIND -> 7.881376230570898 %\n",
      "RELIANCE -> 8.482935878706634 %\n",
      "SHREECEM -> 1.8657797492135382 %\n",
      "TCS -> 3.6704586936207457 %\n",
      "TATASTEEL -> 1.8657797492135382 %\n",
      "TECHM -> 1.2642201010778022 %\n",
      "TITAN -> 1.8657797492135382 %\n",
      "WIPRO -> 3.6704586936207457 %\n"
     ]
    }
   ],
   "source": [
    "names=df.columns\n",
    "j=0\n",
    "for i in (names):\n",
    "    print(\"{} -> {} %\".format(i,global_warr_sharpe[j]*100))\n",
    "    j+=1"
   ]
  },
  {
   "cell_type": "code",
   "execution_count": 16,
   "metadata": {},
   "outputs": [
    {
     "name": "stdout",
     "output_type": "stream",
     "text": [
      "Sharpe Ratio:  1.3828372231187471\n"
     ]
    }
   ],
   "source": [
    "weights=np.array(global_warr_sharpe)\n",
    "returns_temp = np.sum(returnsh.mean()*weights)*trading_days   #calculating annulaised portfolio return\n",
    "varsh=np.dot(weights.T,np.dot(covmatsh,weights))              #calculating portfolio varience wrt calculating sharpe ratio\n",
    "volatility_temp = np.sqrt(varsh)                              #portfolio risk\n",
    "fitness = ratio(returns_temp,volatility_temp,risk_free_rate)  #calculating sharpe ratio\n",
    "print(\"Sharpe Ratio: \",fitness)"
   ]
  },
  {
   "cell_type": "code",
   "execution_count": 17,
   "metadata": {},
   "outputs": [],
   "source": [
    "#Initializing pbest(the best fitness value    SORTINO)\n",
    "pbest=-1\n",
    "#Initializing the current fitness value\n",
    "fitness=0\n",
    "\n",
    "#for each iteration\n",
    "for iteration in range(ITERATIONS):\n",
    "    \n",
    "    #PREPARAING THE PREROMON MATRIX WHERE THE COLS=STOCKS AND  ROWS=ANTS\n",
    "    pheromon=[[0]*stocks for i in range(ANTS)]\n",
    "    for i in range(len(pheromon[0])):\n",
    "        pheromon[0][i]=random.randint(1,15)\n",
    "        \n",
    "    temp_pher=pheromon[0]\n",
    "    weights=np.array(BALANCE(temp_pher))\n",
    "    returns_temp = np.sum(returnsh.mean()*weights)*trading_days   #calculating annulaised portfolio return\n",
    "    varso=np.dot(weights.T,np.dot(covmatso,weights))              #calculating portfolio varience wrt calculating sortino ratio\n",
    "    semi_temp = np.sqrt(varso)                                    #portfolio semi-deviation\n",
    "    fitness = ratio(returns_temp,semi_temp,risk_free_rate)  #calculating Sortino ratio\n",
    "    if pbest==-1:\n",
    "         pbest=fitness\n",
    "    \n",
    "    path=[]\n",
    "   \n",
    "   \n",
    "   \n",
    "    \n",
    "   \n",
    "    for ant in range(ANTS-1):\n",
    "        total=sum(pheromon[ant])\n",
    "        probability=pheromon[ant][:]\n",
    "        for p in range(len(probability)):\n",
    "            probability[p]=(probability[p]/total)\n",
    "        for stock in range(stocks):\n",
    "            select=probability.index(max(probability))\n",
    "            probability[select]=-math.inf\n",
    "            path.append(select)\n",
    "        \n",
    "            \n",
    "        for s in path:\n",
    "            pheromon[ant+1][s]=pheromon[ant][s]*(1-EVA_RATE)+Q*(fitness/pbest)\n",
    "            \n",
    "        temp_pher=pheromon[ant+1]\n",
    "        weights=np.array(BALANCE(temp_pher))\n",
    "        returns_temp = np.sum(returnsh.mean()*weights)*trading_days   #calculating annulaised portfolio return\n",
    "        varso=np.dot(weights.T,np.dot(covmatso,weights))              #calculating portfolio varience wrt calculating sortino ratio\n",
    "        semi_temp = np.sqrt(varso)                                    #portfolio semi-deviation\n",
    "        fitness = ratio(returns_temp,semi_temp,risk_free_rate)  #calculating Sortino ratio\n",
    "        if(fitness>pbest):\n",
    "            pbest=fitness\n",
    "            global_warr_sortino=weights.tolist()"
   ]
  },
  {
   "cell_type": "code",
   "execution_count": 18,
   "metadata": {},
   "outputs": [
    {
     "name": "stdout",
     "output_type": "stream",
     "text": [
      "ASIANPAINT -> 4.373680683252027 %\n",
      "BAJFINANCE -> 6.5331235223694035 %\n",
      "BAJAJFINSV -> 3.2939592636933384 %\n",
      "BRITANNIA -> 2.7540985539139946 %\n",
      "DIVISLAB -> 3.2939592636933384 %\n",
      "HCLTECH -> 7.612844941928092 %\n",
      "HDFCBANK -> 7.072984232148747 %\n",
      "HINDALCO -> 0.5946557147966174 %\n",
      "HINDUNILVR -> 7.612844941928092 %\n",
      "HDFC -> 2.7540985539139946 %\n",
      "ICICIBANK -> 2.7540985539139946 %\n",
      "INFY -> 8.152705651707437 %\n",
      "JSWSTEEL -> 7.072984232148747 %\n",
      "KOTAKBANK -> 0.5946557147966174 %\n",
      "NESTLEIND -> 5.993262812590061 %\n",
      "RELIANCE -> 8.152705651707437 %\n",
      "SHREECEM -> 2.21423784413465 %\n",
      "TCS -> 4.373680683252027 %\n",
      "TATASTEEL -> 4.373680683252027 %\n",
      "TECHM -> 1.6743771343553058 %\n",
      "TITAN -> 5.993262812590061 %\n",
      "WIPRO -> 2.7540985539139946 %\n"
     ]
    }
   ],
   "source": [
    "names=df.columns\n",
    "j=0\n",
    "for i in (names):\n",
    "    print(\"{} -> {} %\".format(i,global_warr_sortino[j]*100))\n",
    "    j+=1"
   ]
  },
  {
   "cell_type": "code",
   "execution_count": 19,
   "metadata": {},
   "outputs": [
    {
     "name": "stdout",
     "output_type": "stream",
     "text": [
      "Sortino Ratio:  2.2116742643138347\n"
     ]
    }
   ],
   "source": [
    "weights=np.array(global_warr_sortino)\n",
    "returns_temp = np.sum(returnsh.mean()*weights)*trading_days   #calculating annulaised portfolio return\n",
    "varso=np.dot(weights.T,np.dot(covmatso,weights))              #calculating portfolio varience wrt calculating sortino ratio\n",
    "semi_temp = np.sqrt(varso)                                    #portfolio semi-deviation\n",
    "fitness = ratio(returns_temp,semi_temp,risk_free_rate)        #calculating Sortino ratio\n",
    "print(\"Sortino Ratio: \",fitness)"
   ]
  },
  {
   "cell_type": "code",
   "execution_count": null,
   "metadata": {},
   "outputs": [],
   "source": []
  },
  {
   "cell_type": "code",
   "execution_count": null,
   "metadata": {},
   "outputs": [],
   "source": []
  },
  {
   "cell_type": "code",
   "execution_count": null,
   "metadata": {},
   "outputs": [],
   "source": []
  },
  {
   "cell_type": "code",
   "execution_count": null,
   "metadata": {},
   "outputs": [],
   "source": []
  },
  {
   "cell_type": "code",
   "execution_count": null,
   "metadata": {},
   "outputs": [],
   "source": []
  }
 ],
 "metadata": {
  "kernelspec": {
   "display_name": "Python 3",
   "language": "python",
   "name": "python3"
  },
  "language_info": {
   "codemirror_mode": {
    "name": "ipython",
    "version": 3
   },
   "file_extension": ".py",
   "mimetype": "text/x-python",
   "name": "python",
   "nbconvert_exporter": "python",
   "pygments_lexer": "ipython3",
   "version": "3.9.1"
  }
 },
 "nbformat": 4,
 "nbformat_minor": 4
}
