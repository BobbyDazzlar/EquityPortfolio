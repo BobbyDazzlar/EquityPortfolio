{
 "cells": [
  {
   "cell_type": "code",
   "execution_count": null,
   "metadata": {},
   "outputs": [],
   "source": [
    "# 1)FOR EACH ITERATIONS\n",
    "#   2)ASSIGN RANDOM WEIGHTS TO THE STOCKS. \n",
    "#   3)ASSUME THE FIRST STOCK TO BE THE BEST(BEST FITMENT)\n",
    "#   4)CREATE A PHEROMON MATRIX WHERE COLUMNS ARE STOCKS AND ROWS ARE ANTS \n",
    "#   5)FOR EACH ANT\n",
    "#     5.1)ASSIGN RANDOM PHEROMON TO ALL THE STOCKS FOR ANT 1.\n",
    "#     5.2)THEN FIND THE PATH/STOCK CONTAINING MAX PHEROMON\n",
    "#     5.3)THEN SELECT ALL THE UNVISITED STOCKS, REPEAT STEP 3.2 UNTIL NO MORE STOCK ARE LEFT\n",
    "#     5.4)FIND THE FITNESS VALUE OF THE PORTFOLIO\n",
    "#     5.5)KEEP A TRACK OF THE PORTFOLIO CONTAINING THE THE MAX FINESS VALUE.\n",
    "#     5.4)THEN UPDATE THE PHERMON OF ALL THE STOCKS \n",
    "#   6)SELECT THE BEST FITNESS PORTFOLIO\n",
    "#   7)REPEAT FOR N ITERATIONS\n",
    "# 8)FROM EACH ITERATION WE WOULD BE GETTING A BEST FITNESS PORTFOLIO, SELECT THE BEST PORTFOLIO OUT OF N ITERATIONS"
   ]
  },
  {
   "cell_type": "code",
   "execution_count": 1,
   "metadata": {},
   "outputs": [],
   "source": [
    "import pandas as pd\n",
    "import numpy as np\n",
    "import random\n",
    "import math\n",
    "# data=pd.read_csv('n50.csv')\n",
    "# data.drop(\"Date\",axis=1,inplace=True)\n",
    "# data"
   ]
  },
  {
   "cell_type": "code",
   "execution_count": 2,
   "metadata": {},
   "outputs": [],
   "source": [
    "df=pd.read_csv('n50.csv',parse_dates=['Date'],index_col='Date')\n",
    "df = df.loc[\"2016-01-01\" : ]   #Since 2016-01-01, 5y(1234rows till 2020-12-31)\n",
    "tdf=df.copy()                  #deep copy\n",
    "df.reset_index(drop=True, inplace=True)"
   ]
  },
  {
   "cell_type": "code",
   "execution_count": 3,
   "metadata": {},
   "outputs": [],
   "source": [
    "def number_of_years(y):        #calculates the number of years of the dataset\n",
    "  p=y.index[0]                 #date of first row in the dataset (datetime format)\n",
    "  q=y.index[len(y)-1]          #date of last row in the dataset  (datetime format)\n",
    "  return ((q-p).days+1)/365           #the difference give the number of total days (not trading days) over the total number of years in the dataset"
   ]
  },
  {
   "cell_type": "code",
   "execution_count": 4,
   "metadata": {},
   "outputs": [],
   "source": [
    "trading_days=len(df)/number_of_years(tdf)                       #Trading days per year (automated)"
   ]
  },
  {
   "cell_type": "code",
   "execution_count": 5,
   "metadata": {},
   "outputs": [],
   "source": [
    "returnsh=df.pct_change()                  #Here, returnsh would mean return considered for sharpe ratio\n",
    "returnsh.fillna(0,inplace=True)           #calculating daily returns of the stocks in the portfolio"
   ]
  },
  {
   "cell_type": "code",
   "execution_count": 6,
   "metadata": {},
   "outputs": [],
   "source": [
    "returnso=returnsh.copy()                  #this cell considers only NEGATIVE returns so as to calculate sortino ratio\n",
    "for cols in returnso.columns.tolist():\n",
    "    for i in range(0,len(df)):\n",
    "      if returnso[cols][i] > 0:\n",
    "        returnso[cols][i]=0               #Here, returnso would mean return considered for sortino ratio"
   ]
  },
  {
   "cell_type": "code",
   "execution_count": 7,
   "metadata": {},
   "outputs": [],
   "source": [
    "covmatsh=returnsh.cov()*trading_days      #Annualised covariance matrix calculated wrt returnsh i.e. used to calculate sharpe ratio\n",
    "covmatso=returnso.cov()*trading_days      #Annualised covariance matrix calculated wrt returnso i.e. used to calculate sortino ratio"
   ]
  },
  {
   "cell_type": "code",
   "execution_count": 8,
   "metadata": {},
   "outputs": [],
   "source": [
    "risk_free_rate = 0.0358                   #initializing risk free rate that will be used in calculating both the ratios (absolute value)\n",
    "#referred from url: https://www.rbi.org.in/Scripts/BS_NSDPDisplay.aspx?param=4&Id=24292\n",
    "#In the above url, the 364 (1 year) day treasury bill is 3.58% , when taken absolute value => 0.0358\n",
    "# (improved)"
   ]
  },
  {
   "cell_type": "code",
   "execution_count": 9,
   "metadata": {},
   "outputs": [
    {
     "data": {
      "text/plain": [
       "23"
      ]
     },
     "execution_count": 9,
     "metadata": {},
     "output_type": "execute_result"
    }
   ],
   "source": [
    "df\n",
    "stocks=df.shape[1]\n",
    "stocks"
   ]
  },
  {
   "cell_type": "code",
   "execution_count": 10,
   "metadata": {},
   "outputs": [],
   "source": [
    "global_warr_sortino=[]\n",
    "global_war_sharpe=[]"
   ]
  },
  {
   "cell_type": "code",
   "execution_count": 11,
   "metadata": {},
   "outputs": [],
   "source": [
    "ITERATIONS=500\n",
    "Q=0.1\n",
    "EVA_RATE=0.01\n",
    "ANTS=168\n",
    "Alpha=pd.DataFrame()\n"
   ]
  },
  {
   "cell_type": "code",
   "execution_count": 12,
   "metadata": {},
   "outputs": [],
   "source": [
    "def BALANCE(weights):\n",
    "    weights = [w/sum(weights) for w in weights] # Making sure all weights represent proportions that add up to 1\n",
    "    return weights"
   ]
  },
  {
   "cell_type": "code",
   "execution_count": 13,
   "metadata": {},
   "outputs": [],
   "source": [
    "def ratio(a,b,c):                         #function to calculate ratio i.e. \"(returns-(risk_free_rate))/deviation\"\n",
    "  return (a-c)/b                          #a => annual return, b => risk_free_rate, c => deviation (standard for sharpe, semi for sortino)"
   ]
  },
  {
   "cell_type": "code",
   "execution_count": 16,
   "metadata": {},
   "outputs": [],
   "source": [
    "#FOR EACH ITERATION (wrt Sharpe Ratio)\n",
    "pbest=-1\n",
    "fitness=0\n",
    "for iteration in range(ITERATIONS):\n",
    "    \n",
    "    #PREPARAING THE PREROMON MATRIX WHERE THE COLS=STOCKS AND  ROWS=ANTS\n",
    "    pheromon=[[0]*stocks for i in range(ANTS)]\n",
    "    for i in range(len(pheromon[0])):\n",
    "        pheromon[0][i]=random.randint(1,15)\n",
    "        \n",
    "    temp_pher=pheromon[0]\n",
    "    weights=np.array(BALANCE(temp_pher))\n",
    "    returns_temp = np.sum(returnsh.mean()*weights)*trading_days   #calculating annulaised portfolio return\n",
    "    varsh=np.dot(weights.T,np.dot(covmatsh,weights))              #calculating portfolio varience wrt calculating sharpe ratio\n",
    "    volatility_temp = np.sqrt(varsh)                              #portfolio risk\n",
    "    fitness = ratio(returns_temp,volatility_temp,risk_free_rate)  #calculating sharpe ratio\n",
    "    if pbest==-1:\n",
    "         pbest=fitness\n",
    "    \n",
    "    path=[]\n",
    "   \n",
    "   \n",
    "   \n",
    "    \n",
    "   \n",
    "    for ant in range(ANTS-1):\n",
    "        total=sum(pheromon[ant])\n",
    "        probability=pheromon[ant][:]\n",
    "        for p in range(len(probability)):\n",
    "            probability[p]=(probability[p]/total)\n",
    "        for stock in range(stocks):\n",
    "            select=probability.index(max(probability))\n",
    "            probability[select]=-math.inf\n",
    "            path.append(select)\n",
    "        \n",
    "            \n",
    "        for s in path:\n",
    "            pheromon[ant+1][s]=pheromon[ant][s]*(1-EVA_RATE)+Q*(fitness/pbest)\n",
    "            \n",
    "        temp_pher=pheromon[ant+1]\n",
    "        weights=np.array(BALANCE(temp_pher))\n",
    "        returns_temp = np.sum(returnsh.mean()*weights)*trading_days   #calculating annulaised portfolio return\n",
    "        varsh=np.dot(weights.T,np.dot(covmatsh,weights))              #calculating portfolio varience wrt calculating sharpe ratio\n",
    "        volatility_temp = np.sqrt(varsh)                              #portfolio risk\n",
    "        fitness = ratio(returns_temp,volatility_temp,risk_free_rate)  #calculating sharpe ratio\n",
    "        if(fitness>pbest):\n",
    "            pbest=fitness\n",
    "            global_warr_sharpe=weights.tolist()\n"
   ]
  },
  {
   "cell_type": "code",
   "execution_count": 22,
   "metadata": {},
   "outputs": [
    {
     "name": "stdout",
     "output_type": "stream",
     "text": [
      "ASIANPAINT -> 3.1621107067168843 %\n",
      "BAJFINANCE -> 5.021528007547227 %\n",
      "BAJAJFINSV -> 6.2611395414341215 %\n",
      "BRITANNIA -> 3.1621107067168843 %\n",
      "DIVISLAB -> 5.641333774490674 %\n",
      "HCLTECH -> 2.542304939773436 %\n",
      "HDFCBANK -> 7.500751075321016 %\n",
      "HDFCLIFE -> 9.360168376151359 %\n",
      "HINDALCO -> 0.6828876389430938 %\n",
      "HINDUNILVR -> 1.3026934058865414 %\n",
      "HDFC -> 2.542304939773436 %\n",
      "ICICIBANK -> 3.1621107067168843 %\n",
      "INFY -> 1.9224991728299885 %\n",
      "JSWSTEEL -> 0.6828876389430938 %\n",
      "KOTAKBANK -> 7.500751075321016 %\n",
      "NESTLEIND -> 8.740362609207912 %\n",
      "RELIANCE -> 8.120556842264463 %\n",
      "SHREECEM -> 1.3026934058865414 %\n",
      "TCS -> 3.7819164736603317 %\n",
      "TATASTEEL -> 4.401722240603779 %\n",
      "TECHM -> 5.021528007547227 %\n",
      "TITAN -> 7.500751075321016 %\n",
      "WIPRO -> 0.6828876389430938 %\n"
     ]
    }
   ],
   "source": [
    "names=df.columns\n",
    "j=0\n",
    "for i in (names):\n",
    "    print(\"{} -> {} %\".format(i,global_warr_sharpe[j]*100))\n",
    "    j+=1"
   ]
  },
  {
   "cell_type": "code",
   "execution_count": 24,
   "metadata": {},
   "outputs": [
    {
     "name": "stdout",
     "output_type": "stream",
     "text": [
      "Sharpe Ratio:  1.438161797989998\n"
     ]
    }
   ],
   "source": [
    "weights=np.array(global_warr_sharpe)\n",
    "returns_temp = np.sum(returnsh.mean()*weights)*trading_days   #calculating annulaised portfolio return\n",
    "varsh=np.dot(weights.T,np.dot(covmatsh,weights))              #calculating portfolio varience wrt calculating sharpe ratio\n",
    "volatility_temp = np.sqrt(varsh)                              #portfolio risk\n",
    "fitness = ratio(returns_temp,volatility_temp,risk_free_rate)  #calculating sharpe ratio\n",
    "print(\"Sharpe Ratio: \",fitness)"
   ]
  },
  {
   "cell_type": "code",
   "execution_count": 25,
   "metadata": {},
   "outputs": [],
   "source": [
    "#FOR EACH ITERATION (wrt Sortino Ratio)\n",
    "pbest=-1\n",
    "fitness=0\n",
    "for iteration in range(ITERATIONS):\n",
    "    \n",
    "    #PREPARAING THE PREROMON MATRIX WHERE THE COLS=STOCKS AND  ROWS=ANTS\n",
    "    pheromon=[[0]*stocks for i in range(ANTS)]\n",
    "    for i in range(len(pheromon[0])):\n",
    "        pheromon[0][i]=random.randint(1,15)\n",
    "        \n",
    "    temp_pher=pheromon[0]\n",
    "    weights=np.array(BALANCE(temp_pher))\n",
    "    returns_temp = np.sum(returnsh.mean()*weights)*trading_days   #calculating annulaised portfolio return\n",
    "    varso=np.dot(weights.T,np.dot(covmatso,weights))              #calculating portfolio varience wrt calculating sortino ratio\n",
    "    semi_temp = np.sqrt(varso)                                    #portfolio semi-deviation\n",
    "    fitness = ratio(returns_temp,semi_temp,risk_free_rate)  #calculating Sortino ratio\n",
    "    if pbest==-1:\n",
    "         pbest=fitness\n",
    "    \n",
    "    path=[]\n",
    "   \n",
    "   \n",
    "   \n",
    "    \n",
    "   \n",
    "    for ant in range(ANTS-1):\n",
    "        total=sum(pheromon[ant])\n",
    "        probability=pheromon[ant][:]\n",
    "        for p in range(len(probability)):\n",
    "            probability[p]=(probability[p]/total)\n",
    "        for stock in range(stocks):\n",
    "            select=probability.index(max(probability))\n",
    "            probability[select]=-math.inf\n",
    "            path.append(select)\n",
    "        \n",
    "            \n",
    "        for s in path:\n",
    "            pheromon[ant+1][s]=pheromon[ant][s]*(1-EVA_RATE)+Q*(fitness/pbest)\n",
    "            \n",
    "        temp_pher=pheromon[ant+1]\n",
    "        weights=np.array(BALANCE(temp_pher))\n",
    "        returns_temp = np.sum(returnsh.mean()*weights)*trading_days   #calculating annulaised portfolio return\n",
    "        varso=np.dot(weights.T,np.dot(covmatso,weights))              #calculating portfolio varience wrt calculating sortino ratio\n",
    "        semi_temp = np.sqrt(varso)                                    #portfolio semi-deviation\n",
    "        fitness = ratio(returns_temp,semi_temp,risk_free_rate)  #calculating Sortino ratio\n",
    "        if(fitness>pbest):\n",
    "            pbest=fitness\n",
    "            global_warr_sortino=weights.tolist()"
   ]
  },
  {
   "cell_type": "code",
   "execution_count": 26,
   "metadata": {},
   "outputs": [
    {
     "name": "stdout",
     "output_type": "stream",
     "text": [
      "ASIANPAINT -> 2.0074881832233102 %\n",
      "BAJFINANCE -> 7.390265361809699 %\n",
      "BAJAJFINSV -> 1.0288014234803304 %\n",
      "BRITANNIA -> 1.5181448033518201 %\n",
      "DIVISLAB -> 7.390265361809699 %\n",
      "HCLTECH -> 5.432891842323739 %\n",
      "HDFCBANK -> 1.5181448033518201 %\n",
      "HDFCLIFE -> 4.943548462452249 %\n",
      "HINDALCO -> 2.9861749429662896 %\n",
      "HINDUNILVR -> 6.900921981938208 %\n",
      "HDFC -> 2.0074881832233102 %\n",
      "ICICIBANK -> 0.5394580436088403 %\n",
      "INFY -> 2.9861749429662896 %\n",
      "JSWSTEEL -> 7.390265361809699 %\n",
      "KOTAKBANK -> 6.900921981938208 %\n",
      "NESTLEIND -> 6.900921981938208 %\n",
      "RELIANCE -> 7.390265361809699 %\n",
      "SHREECEM -> 0.5394580436088403 %\n",
      "TCS -> 6.900921981938208 %\n",
      "TATASTEEL -> 5.922235222195228 %\n",
      "TECHM -> 3.9648617027092694 %\n",
      "TITAN -> 3.9648617027092694 %\n",
      "WIPRO -> 3.4755183228377797 %\n"
     ]
    }
   ],
   "source": [
    "names=df.columns\n",
    "j=0\n",
    "for i in (names):\n",
    "    print(\"{} -> {} %\".format(i,global_warr_sortino[j]*100))\n",
    "    j+=1"
   ]
  },
  {
   "cell_type": "code",
   "execution_count": 27,
   "metadata": {},
   "outputs": [
    {
     "name": "stdout",
     "output_type": "stream",
     "text": [
      "Sortino Ratio:  2.278822429677487\n"
     ]
    }
   ],
   "source": [
    "weights=np.array(global_warr_sortino)\n",
    "returns_temp = np.sum(returnsh.mean()*weights)*trading_days   #calculating annulaised portfolio return\n",
    "varso=np.dot(weights.T,np.dot(covmatso,weights))              #calculating portfolio varience wrt calculating sortino ratio\n",
    "semi_temp = np.sqrt(varso)                                    #portfolio semi-deviation\n",
    "fitness = ratio(returns_temp,semi_temp,risk_free_rate)        #calculating Sortino ratio\n",
    "print(\"Sortino Ratio: \",fitness)"
   ]
  },
  {
   "cell_type": "code",
   "execution_count": null,
   "metadata": {},
   "outputs": [],
   "source": []
  },
  {
   "cell_type": "code",
   "execution_count": null,
   "metadata": {},
   "outputs": [],
   "source": []
  },
  {
   "cell_type": "code",
   "execution_count": null,
   "metadata": {},
   "outputs": [],
   "source": []
  },
  {
   "cell_type": "code",
   "execution_count": null,
   "metadata": {},
   "outputs": [],
   "source": []
  },
  {
   "cell_type": "code",
   "execution_count": null,
   "metadata": {},
   "outputs": [],
   "source": []
  }
 ],
 "metadata": {
  "kernelspec": {
   "display_name": "Python 3",
   "language": "python",
   "name": "python3"
  },
  "language_info": {
   "codemirror_mode": {
    "name": "ipython",
    "version": 3
   },
   "file_extension": ".py",
   "mimetype": "text/x-python",
   "name": "python",
   "nbconvert_exporter": "python",
   "pygments_lexer": "ipython3",
   "version": "3.9.1"
  }
 },
 "nbformat": 4,
 "nbformat_minor": 4
}
