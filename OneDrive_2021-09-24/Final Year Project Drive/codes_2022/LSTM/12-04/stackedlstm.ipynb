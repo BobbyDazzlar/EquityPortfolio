{
 "cells": [
  {
   "cell_type": "code",
   "execution_count": 1,
   "metadata": {},
   "outputs": [],
   "source": [
    "import pandas as pd\n",
    "df=pd.read_csv('n50.csv')"
   ]
  },
  {
   "cell_type": "code",
   "execution_count": 2,
   "metadata": {},
   "outputs": [],
   "source": [
    "df1=df.reset_index()['ASIANPAINT']"
   ]
  },
  {
   "cell_type": "code",
   "execution_count": 3,
   "metadata": {},
   "outputs": [
    {
     "data": {
      "text/plain": [
       "0        845.420471\n",
       "1        847.392639\n",
       "2        866.489807\n",
       "3        852.780334\n",
       "4        839.263062\n",
       "           ...     \n",
       "1477    3272.399902\n",
       "1478    3368.199951\n",
       "1479    3367.449951\n",
       "1480    3365.699951\n",
       "1481    3382.949951\n",
       "Name: ASIANPAINT, Length: 1482, dtype: float64"
      ]
     },
     "execution_count": 3,
     "metadata": {},
     "output_type": "execute_result"
    }
   ],
   "source": [
    "df1"
   ]
  },
  {
   "cell_type": "code",
   "execution_count": 4,
   "metadata": {},
   "outputs": [
    {
     "data": {
      "text/plain": [
       "(1482,)"
      ]
     },
     "execution_count": 4,
     "metadata": {},
     "output_type": "execute_result"
    }
   ],
   "source": [
    "df1.shape"
   ]
  },
  {
   "cell_type": "code",
   "execution_count": 5,
   "metadata": {},
   "outputs": [
    {
     "data": {
      "text/plain": [
       "[<matplotlib.lines.Line2D at 0x17bf0bacd00>]"
      ]
     },
     "execution_count": 5,
     "metadata": {},
     "output_type": "execute_result"
    },
    {
     "data": {
      "image/png": "[encoded data removed]",
      "text/plain": [
       "<Figure size 432x288 with 1 Axes>"
      ]
     },
     "metadata": {
      "needs_background": "light"
     },
     "output_type": "display_data"
    }
   ],
   "source": [
    "import matplotlib.pyplot as plt\n",
    "plt.plot(df1)"
   ]
  },
  {
   "cell_type": "code",
   "execution_count": 6,
   "metadata": {},
   "outputs": [],
   "source": [
    "import numpy as np"
   ]
  },
  {
   "cell_type": "code",
   "execution_count": 7,
   "metadata": {},
   "outputs": [],
   "source": [
    "from sklearn.preprocessing import MinMaxScaler\n",
    "scaler=MinMaxScaler(feature_range=(0,1))\n",
    "df1=scaler.fit_transform(np.array(df1).reshape(-1,1))"
   ]
  },
  {
   "cell_type": "code",
   "execution_count": 8,
   "metadata": {},
   "outputs": [
    {
     "data": {
      "text/plain": [
       "(1482, 1)"
      ]
     },
     "execution_count": 8,
     "metadata": {},
     "output_type": "execute_result"
    }
   ],
   "source": [
    "df1.shape"
   ]
  },
  {
   "cell_type": "code",
   "execution_count": 9,
   "metadata": {},
   "outputs": [],
   "source": [
    "training_size=int(len(df1)*0.80)\n",
    "test_size=len(df1)-training_size\n",
    "train_data,test_data=df1[0:training_size,:],df1[training_size:len(df1),:1]"
   ]
  },
  {
   "cell_type": "code",
   "execution_count": 10,
   "metadata": {},
   "outputs": [],
   "source": [
    "import numpy\n",
    "# convert an array of values into a dataset matrix\n",
    "def create_dataset(dataset, time_step=1):\n",
    "\tdataX, dataY = [], []\n",
    "\tfor i in range(len(dataset)-time_step-1):\n",
    "\t\ta = dataset[i:(i+time_step), 0]   ###i=0, 0,1,2,3-----99   100 \n",
    "\t\tdataX.append(a)\n",
    "\t\tdataY.append(dataset[i + time_step, 0])\n",
    "\treturn numpy.array(dataX), numpy.array(dataY)"
   ]
  },
  {
   "cell_type": "code",
   "execution_count": 11,
   "metadata": {},
   "outputs": [],
   "source": [
    "# reshape into X=t,t+1,t+2,t+3 and Y=t+4\n",
    "time_step = 100\n",
    "X_train, y_train = create_dataset(train_data, time_step)\n",
    "X_test, ytest = create_dataset(test_data, time_step)"
   ]
  },
  {
   "cell_type": "code",
   "execution_count": 12,
   "metadata": {},
   "outputs": [
    {
     "name": "stdout",
     "output_type": "stream",
     "text": [
      "(1084, 100)\n",
      "(1084,)\n"
     ]
    },
    {
     "data": {
      "text/plain": [
       "(None, None)"
      ]
     },
     "execution_count": 12,
     "metadata": {},
     "output_type": "execute_result"
    }
   ],
   "source": [
    "print(X_train.shape), print(y_train.shape)"
   ]
  },
  {
   "cell_type": "code",
   "execution_count": 13,
   "metadata": {},
   "outputs": [
    {
     "name": "stdout",
     "output_type": "stream",
     "text": [
      "(196, 100)\n",
      "(196,)\n"
     ]
    },
    {
     "data": {
      "text/plain": [
       "(None, None)"
      ]
     },
     "execution_count": 13,
     "metadata": {},
     "output_type": "execute_result"
    }
   ],
   "source": [
    "print(X_test.shape), print(ytest.shape)"
   ]
  },
  {
   "cell_type": "code",
   "execution_count": 14,
   "metadata": {},
   "outputs": [],
   "source": [
    "# reshape input to be [samples, time steps, features] which is required for LSTM\n",
    "X_train =X_train.reshape(X_train.shape[0],X_train.shape[1] , 1)\n",
    "X_test = X_test.reshape(X_test.shape[0],X_test.shape[1] , 1)"
   ]
  },
  {
   "cell_type": "code",
   "execution_count": 15,
   "metadata": {},
   "outputs": [],
   "source": [
    "### Create the Stacked LSTM model\n",
    "from tensorflow.keras.models import Sequential\n",
    "from tensorflow.keras.layers import Dense\n",
    "from tensorflow.keras.layers import LSTM"
   ]
  },
  {
   "cell_type": "code",
   "execution_count": 16,
   "metadata": {},
   "outputs": [],
   "source": [
    "model=Sequential()\n",
    "model.add(LSTM(50,return_sequences=True,input_shape=(100,1)))\n",
    "model.add(LSTM(50,return_sequences=True))\n",
    "model.add(LSTM(50))\n",
    "model.add(Dense(1))\n",
    "model.compile(loss='mean_squared_error',optimizer='adam')"
   ]
  },
  {
   "cell_type": "code",
   "execution_count": 17,
   "metadata": {},
   "outputs": [
    {
     "name": "stdout",
     "output_type": "stream",
     "text": [
      "Model: \"sequential\"\n",
      "_________________________________________________________________\n",
      "Layer (type)                 Output Shape              Param #   \n",
      "=================================================================\n",
      "lstm (LSTM)                  (None, 100, 50)           10400     \n",
      "_________________________________________________________________\n",
      "lstm_1 (LSTM)                (None, 100, 50)           20200     \n",
      "_________________________________________________________________\n",
      "lstm_2 (LSTM)                (None, 50)                20200     \n",
      "_________________________________________________________________\n",
      "dense (Dense)                (None, 1)                 51        \n",
      "=================================================================\n",
      "Total params: 50,851\n",
      "Trainable params: 50,851\n",
      "Non-trainable params: 0\n",
      "_________________________________________________________________\n"
     ]
    }
   ],
   "source": [
    "model.summary()"
   ]
  },
  {
   "cell_type": "code",
   "execution_count": 18,
   "metadata": {
    "scrolled": true
   },
   "outputs": [
    {
     "name": "stdout",
     "output_type": "stream",
     "text": [
      "Epoch 1/100\n",
      "17/17 [==============================] - 9s 276ms/step - loss: 0.0111 - val_loss: 0.1007\n",
      "Epoch 2/100\n",
      "17/17 [==============================] - 3s 197ms/step - loss: 0.0016 - val_loss: 0.0088\n",
      "Epoch 3/100\n",
      "17/17 [==============================] - 3s 180ms/step - loss: 6.4938e-04 - val_loss: 0.0016\n",
      "Epoch 4/100\n",
      "17/17 [==============================] - 3s 191ms/step - loss: 5.6924e-04 - val_loss: 0.0047\n",
      "Epoch 5/100\n",
      "17/17 [==============================] - 3s 178ms/step - loss: 5.5175e-04 - val_loss: 0.0029\n",
      "Epoch 6/100\n",
      "17/17 [==============================] - 3s 180ms/step - loss: 5.3454e-04 - val_loss: 0.0036\n",
      "Epoch 7/100\n",
      "17/17 [==============================] - 3s 182ms/step - loss: 5.2385e-04 - val_loss: 0.0032\n",
      "Epoch 8/100\n",
      "17/17 [==============================] - 3s 178ms/step - loss: 5.1959e-04 - val_loss: 0.0035\n",
      "Epoch 9/100\n",
      "17/17 [==============================] - 3s 183ms/step - loss: 5.1282e-04 - val_loss: 0.0019\n",
      "Epoch 10/100\n",
      "17/17 [==============================] - 3s 203ms/step - loss: 5.0060e-04 - val_loss: 0.0028\n",
      "Epoch 11/100\n",
      "17/17 [==============================] - 3s 195ms/step - loss: 5.0468e-04 - val_loss: 0.0015\n",
      "Epoch 12/100\n",
      "17/17 [==============================] - 3s 190ms/step - loss: 4.9556e-04 - val_loss: 0.0030\n",
      "Epoch 13/100\n",
      "17/17 [==============================] - 3s 186ms/step - loss: 5.0392e-04 - val_loss: 0.0030\n",
      "Epoch 14/100\n",
      "17/17 [==============================] - 3s 195ms/step - loss: 4.7251e-04 - val_loss: 0.0016\n",
      "Epoch 15/100\n",
      "17/17 [==============================] - 3s 192ms/step - loss: 5.0499e-04 - val_loss: 0.0023\n",
      "Epoch 16/100\n",
      "17/17 [==============================] - 3s 191ms/step - loss: 4.5413e-04 - val_loss: 0.0023\n",
      "Epoch 17/100\n",
      "17/17 [==============================] - 3s 190ms/step - loss: 4.4459e-04 - val_loss: 0.0015\n",
      "Epoch 18/100\n",
      "17/17 [==============================] - 3s 182ms/step - loss: 4.6467e-04 - val_loss: 0.0013\n",
      "Epoch 19/100\n",
      "17/17 [==============================] - 3s 185ms/step - loss: 4.5289e-04 - val_loss: 0.0016\n",
      "Epoch 20/100\n",
      "17/17 [==============================] - 3s 189ms/step - loss: 4.2847e-04 - val_loss: 0.0013\n",
      "Epoch 21/100\n",
      "17/17 [==============================] - 3s 188ms/step - loss: 4.1261e-04 - val_loss: 0.0038\n",
      "Epoch 22/100\n",
      "17/17 [==============================] - 3s 203ms/step - loss: 4.1544e-04 - val_loss: 0.0026\n",
      "Epoch 23/100\n",
      "17/17 [==============================] - 3s 194ms/step - loss: 4.0146e-04 - val_loss: 0.0018\n",
      "Epoch 24/100\n",
      "17/17 [==============================] - 3s 207ms/step - loss: 3.8902e-04 - val_loss: 0.0013\n",
      "Epoch 25/100\n",
      "17/17 [==============================] - 3s 188ms/step - loss: 4.2782e-04 - val_loss: 0.0013\n",
      "Epoch 26/100\n",
      "17/17 [==============================] - 3s 186ms/step - loss: 4.2446e-04 - val_loss: 0.0024\n",
      "Epoch 27/100\n",
      "17/17 [==============================] - 3s 207ms/step - loss: 3.8930e-04 - val_loss: 0.0018\n",
      "Epoch 28/100\n",
      "17/17 [==============================] - 3s 193ms/step - loss: 3.9959e-04 - val_loss: 0.0033\n",
      "Epoch 29/100\n",
      "17/17 [==============================] - 4s 209ms/step - loss: 4.0637e-04 - val_loss: 0.0023\n",
      "Epoch 30/100\n",
      "17/17 [==============================] - 3s 195ms/step - loss: 3.6172e-04 - val_loss: 0.0017\n",
      "Epoch 31/100\n",
      "17/17 [==============================] - 3s 205ms/step - loss: 3.4170e-04 - val_loss: 0.0016\n",
      "Epoch 32/100\n",
      "17/17 [==============================] - 4s 229ms/step - loss: 3.3271e-04 - val_loss: 0.0034\n",
      "Epoch 33/100\n",
      "17/17 [==============================] - 4s 246ms/step - loss: 3.5185e-04 - val_loss: 0.0036\n",
      "Epoch 34/100\n",
      "17/17 [==============================] - 3s 197ms/step - loss: 3.4144e-04 - val_loss: 0.0045\n",
      "Epoch 35/100\n",
      "17/17 [==============================] - 4s 249ms/step - loss: 3.3183e-04 - val_loss: 0.0032\n",
      "Epoch 36/100\n",
      "17/17 [==============================] - 4s 208ms/step - loss: 3.3607e-04 - val_loss: 0.0016\n",
      "Epoch 37/100\n",
      "17/17 [==============================] - 3s 206ms/step - loss: 3.0858e-04 - val_loss: 0.0020\n",
      "Epoch 38/100\n",
      "17/17 [==============================] - 3s 182ms/step - loss: 3.1490e-04 - val_loss: 0.0022\n",
      "Epoch 39/100\n",
      "17/17 [==============================] - 3s 191ms/step - loss: 3.0151e-04 - val_loss: 0.0048\n",
      "Epoch 40/100\n",
      "17/17 [==============================] - 3s 197ms/step - loss: 3.5705e-04 - val_loss: 0.0012\n",
      "Epoch 41/100\n",
      "17/17 [==============================] - 3s 202ms/step - loss: 3.2444e-04 - val_loss: 0.0012\n",
      "Epoch 42/100\n",
      "17/17 [==============================] - 3s 194ms/step - loss: 2.7679e-04 - val_loss: 0.0010\n",
      "Epoch 43/100\n",
      "17/17 [==============================] - 3s 179ms/step - loss: 2.8083e-04 - val_loss: 0.0029\n",
      "Epoch 44/100\n",
      "17/17 [==============================] - 3s 192ms/step - loss: 2.8037e-04 - val_loss: 0.0017\n",
      "Epoch 45/100\n",
      "17/17 [==============================] - 3s 205ms/step - loss: 2.6266e-04 - val_loss: 0.0017\n",
      "Epoch 46/100\n",
      "17/17 [==============================] - 3s 180ms/step - loss: 2.4659e-04 - val_loss: 0.0025\n",
      "Epoch 47/100\n",
      "17/17 [==============================] - 3s 178ms/step - loss: 2.4302e-04 - val_loss: 0.0015\n",
      "Epoch 48/100\n",
      "17/17 [==============================] - 3s 189ms/step - loss: 2.4245e-04 - val_loss: 0.0020\n",
      "Epoch 49/100\n",
      "17/17 [==============================] - 3s 184ms/step - loss: 2.4602e-04 - val_loss: 0.0024\n",
      "Epoch 50/100\n",
      "17/17 [==============================] - 4s 216ms/step - loss: 2.4173e-04 - val_loss: 0.0020\n",
      "Epoch 51/100\n",
      "17/17 [==============================] - 4s 212ms/step - loss: 2.4352e-04 - val_loss: 0.0037\n",
      "Epoch 52/100\n",
      "17/17 [==============================] - 3s 181ms/step - loss: 2.2941e-04 - val_loss: 8.2854e-04\n",
      "Epoch 53/100\n",
      "17/17 [==============================] - 3s 179ms/step - loss: 2.2273e-04 - val_loss: 0.0043\n",
      "Epoch 54/100\n",
      "17/17 [==============================] - 3s 177ms/step - loss: 2.1492e-04 - val_loss: 9.8942e-04\n",
      "Epoch 55/100\n",
      "17/17 [==============================] - 3s 191ms/step - loss: 2.0494e-04 - val_loss: 0.0018\n",
      "Epoch 56/100\n",
      "17/17 [==============================] - 3s 183ms/step - loss: 2.0853e-04 - val_loss: 0.0018\n",
      "Epoch 57/100\n",
      "17/17 [==============================] - 3s 181ms/step - loss: 1.9145e-04 - val_loss: 0.0013\n",
      "Epoch 58/100\n",
      "17/17 [==============================] - 3s 202ms/step - loss: 2.1756e-04 - val_loss: 0.0025\n",
      "Epoch 59/100\n",
      "17/17 [==============================] - 3s 199ms/step - loss: 2.7943e-04 - val_loss: 8.1914e-04\n",
      "Epoch 60/100\n",
      "17/17 [==============================] - 3s 197ms/step - loss: 2.1668e-04 - val_loss: 0.0011\n",
      "Epoch 61/100\n",
      "17/17 [==============================] - 3s 203ms/step - loss: 2.1103e-04 - val_loss: 7.5691e-04\n",
      "Epoch 62/100\n",
      "17/17 [==============================] - 3s 195ms/step - loss: 2.1406e-04 - val_loss: 0.0013\n",
      "Epoch 63/100\n",
      "17/17 [==============================] - 3s 181ms/step - loss: 1.9676e-04 - val_loss: 0.0020\n",
      "Epoch 64/100\n",
      "17/17 [==============================] - 3s 198ms/step - loss: 2.0374e-04 - val_loss: 7.1600e-04\n",
      "Epoch 65/100\n",
      "17/17 [==============================] - 3s 183ms/step - loss: 1.9231e-04 - val_loss: 0.0012\n",
      "Epoch 66/100\n",
      "17/17 [==============================] - 3s 180ms/step - loss: 1.7463e-04 - val_loss: 7.0566e-04\n",
      "Epoch 67/100\n",
      "17/17 [==============================] - 3s 192ms/step - loss: 1.9152e-04 - val_loss: 7.3077e-04\n",
      "Epoch 68/100\n",
      "17/17 [==============================] - 3s 181ms/step - loss: 1.8947e-04 - val_loss: 0.0013\n",
      "Epoch 69/100\n",
      "17/17 [==============================] - 3s 178ms/step - loss: 1.6485e-04 - val_loss: 6.6287e-04\n",
      "Epoch 70/100\n",
      "17/17 [==============================] - 3s 184ms/step - loss: 1.6219e-04 - val_loss: 8.5687e-04\n",
      "Epoch 71/100\n",
      "17/17 [==============================] - 3s 180ms/step - loss: 1.6550e-04 - val_loss: 6.4296e-04\n",
      "Epoch 72/100\n",
      "17/17 [==============================] - 3s 177ms/step - loss: 1.8490e-04 - val_loss: 0.0010\n",
      "Epoch 73/100\n",
      "17/17 [==============================] - 3s 183ms/step - loss: 1.5665e-04 - val_loss: 6.9540e-04\n",
      "Epoch 74/100\n",
      "17/17 [==============================] - 3s 181ms/step - loss: 1.7665e-04 - val_loss: 5.7547e-04\n",
      "Epoch 75/100\n",
      "17/17 [==============================] - 3s 183ms/step - loss: 1.6107e-04 - val_loss: 5.7086e-04\n",
      "Epoch 76/100\n",
      "17/17 [==============================] - 3s 201ms/step - loss: 1.5485e-04 - val_loss: 5.9356e-04\n",
      "Epoch 77/100\n",
      "17/17 [==============================] - 3s 187ms/step - loss: 1.5233e-04 - val_loss: 7.1805e-04\n"
     ]
    },
    {
     "name": "stdout",
     "output_type": "stream",
     "text": [
      "Epoch 78/100\n",
      "17/17 [==============================] - 3s 205ms/step - loss: 1.5097e-04 - val_loss: 5.5486e-04\n",
      "Epoch 79/100\n",
      "17/17 [==============================] - 3s 195ms/step - loss: 1.4430e-04 - val_loss: 5.5856e-04\n",
      "Epoch 80/100\n",
      "17/17 [==============================] - 4s 216ms/step - loss: 1.5273e-04 - val_loss: 7.3078e-04\n",
      "Epoch 81/100\n",
      "17/17 [==============================] - 3s 186ms/step - loss: 1.5267e-04 - val_loss: 5.0962e-04\n",
      "Epoch 82/100\n",
      "17/17 [==============================] - 4s 207ms/step - loss: 1.3940e-04 - val_loss: 8.4806e-04\n",
      "Epoch 83/100\n",
      "17/17 [==============================] - 3s 197ms/step - loss: 1.6773e-04 - val_loss: 9.0723e-04\n",
      "Epoch 84/100\n",
      "17/17 [==============================] - 3s 184ms/step - loss: 1.4171e-04 - val_loss: 5.5449e-04\n",
      "Epoch 85/100\n",
      "17/17 [==============================] - 3s 182ms/step - loss: 1.3810e-04 - val_loss: 6.1079e-04\n",
      "Epoch 86/100\n",
      "17/17 [==============================] - 3s 177ms/step - loss: 1.3507e-04 - val_loss: 4.7869e-04\n",
      "Epoch 87/100\n",
      "17/17 [==============================] - 3s 176ms/step - loss: 1.3849e-04 - val_loss: 0.0013\n",
      "Epoch 88/100\n",
      "17/17 [==============================] - 3s 183ms/step - loss: 1.5320e-04 - val_loss: 5.4977e-04\n",
      "Epoch 89/100\n",
      "17/17 [==============================] - 3s 191ms/step - loss: 1.4269e-04 - val_loss: 0.0015\n",
      "Epoch 90/100\n",
      "17/17 [==============================] - 3s 187ms/step - loss: 1.4249e-04 - val_loss: 8.6635e-04\n",
      "Epoch 91/100\n",
      "17/17 [==============================] - 3s 175ms/step - loss: 1.3146e-04 - val_loss: 6.9536e-04\n",
      "Epoch 92/100\n",
      "17/17 [==============================] - 4s 262ms/step - loss: 1.2827e-04 - val_loss: 4.9420e-04\n",
      "Epoch 93/100\n",
      "17/17 [==============================] - 3s 188ms/step - loss: 1.3375e-04 - val_loss: 5.6607e-04\n",
      "Epoch 94/100\n",
      "17/17 [==============================] - 3s 177ms/step - loss: 1.3483e-04 - val_loss: 8.1160e-04\n",
      "Epoch 95/100\n",
      "17/17 [==============================] - 3s 177ms/step - loss: 1.2609e-04 - val_loss: 4.1538e-04\n",
      "Epoch 96/100\n",
      "17/17 [==============================] - 3s 178ms/step - loss: 1.2529e-04 - val_loss: 4.8626e-04\n",
      "Epoch 97/100\n",
      "17/17 [==============================] - 3s 177ms/step - loss: 1.3289e-04 - val_loss: 0.0014\n",
      "Epoch 98/100\n",
      "17/17 [==============================] - 3s 176ms/step - loss: 1.4752e-04 - val_loss: 6.0902e-04\n",
      "Epoch 99/100\n",
      "17/17 [==============================] - 3s 193ms/step - loss: 1.3685e-04 - val_loss: 4.2891e-04\n",
      "Epoch 100/100\n",
      "17/17 [==============================] - 4s 209ms/step - loss: 1.1736e-04 - val_loss: 5.5057e-04\n"
     ]
    },
    {
     "data": {
      "text/plain": [
       "<keras.callbacks.History at 0x17b89204a30>"
      ]
     },
     "execution_count": 18,
     "metadata": {},
     "output_type": "execute_result"
    }
   ],
   "source": [
    "model.fit(X_train,y_train,validation_data=(X_test,ytest),epochs=100,batch_size=64,verbose=1)\n"
   ]
  },
  {
   "cell_type": "code",
   "execution_count": 19,
   "metadata": {},
   "outputs": [],
   "source": [
    "### Lets Do the prediction and check performance metrics\n",
    "train_predict=model.predict(X_train)\n",
    "test_predict=model.predict(X_test)"
   ]
  },
  {
   "cell_type": "code",
   "execution_count": 20,
   "metadata": {},
   "outputs": [],
   "source": [
    "##Transformback to original form\n",
    "train_predict=scaler.inverse_transform(train_predict)\n",
    "test_predict=scaler.inverse_transform(test_predict)"
   ]
  },
  {
   "cell_type": "code",
   "execution_count": 21,
   "metadata": {},
   "outputs": [
    {
     "data": {
      "text/plain": [
       "1366.465921684784"
      ]
     },
     "execution_count": 21,
     "metadata": {},
     "output_type": "execute_result"
    }
   ],
   "source": [
    "### Calculate RMSE performance metrics\n",
    "import math\n",
    "from sklearn.metrics import mean_squared_error\n",
    "math.sqrt(mean_squared_error(y_train,train_predict))"
   ]
  },
  {
   "cell_type": "code",
   "execution_count": 22,
   "metadata": {},
   "outputs": [
    {
     "data": {
      "text/plain": [
       "3042.426593363337"
      ]
     },
     "execution_count": 22,
     "metadata": {},
     "output_type": "execute_result"
    }
   ],
   "source": [
    "### Test Data RMSE\n",
    "math.sqrt(mean_squared_error(ytest,test_predict))"
   ]
  },
  {
   "cell_type": "code",
   "execution_count": 23,
   "metadata": {},
   "outputs": [
    {
     "data": {
      "image/png": "[encoded data removed]",
      "text/plain": [
       "<Figure size 432x288 with 1 Axes>"
      ]
     },
     "metadata": {
      "needs_background": "light"
     },
     "output_type": "display_data"
    }
   ],
   "source": [
    "### Plotting \n",
    "# shift train predictions for plotting\n",
    "look_back=100\n",
    "trainPredictPlot = numpy.empty_like(df1)\n",
    "trainPredictPlot[:, :] = np.nan\n",
    "trainPredictPlot[look_back:len(train_predict)+look_back, :] = train_predict\n",
    "# shift test predictions for plotting\n",
    "testPredictPlot = numpy.empty_like(df1)\n",
    "testPredictPlot[:, :] = numpy.nan\n",
    "testPredictPlot[len(train_predict)+(look_back*2)+1:len(df1)-1, :] = test_predict\n",
    "# plot baseline and predictions\n",
    "plt.plot(scaler.inverse_transform(df1))\n",
    "plt.plot(trainPredictPlot)\n",
    "plt.plot(testPredictPlot)\n",
    "plt.show()"
   ]
  },
  {
   "cell_type": "code",
   "execution_count": 24,
   "metadata": {},
   "outputs": [
    {
     "data": {
      "text/plain": [
       "(1, 100)"
      ]
     },
     "execution_count": 24,
     "metadata": {},
     "output_type": "execute_result"
    }
   ],
   "source": [
    "x_input=test_data[197:].reshape(1,-1)\n",
    "x_input.shape"
   ]
  },
  {
   "cell_type": "code",
   "execution_count": 25,
   "metadata": {},
   "outputs": [
    {
     "data": {
      "text/plain": [
       "297"
      ]
     },
     "execution_count": 25,
     "metadata": {},
     "output_type": "execute_result"
    }
   ],
   "source": [
    "len(test_data)"
   ]
  },
  {
   "cell_type": "code",
   "execution_count": 26,
   "metadata": {},
   "outputs": [],
   "source": [
    "temp_input=list(x_input)\n",
    "temp_input=temp_input[0].tolist()"
   ]
  },
  {
   "cell_type": "code",
   "execution_count": 27,
   "metadata": {},
   "outputs": [
    {
     "name": "stdout",
     "output_type": "stream",
     "text": [
      "[0.9861679]\n",
      "101\n",
      "1 day input [0.82169595 0.8199752  0.82107195 0.8260642  0.8195213  0.83612449\n",
      " 0.83092415 0.87305597 0.8596298  0.84771638 0.8447286  0.84533365\n",
      " 0.84425584 0.87146751 0.9064892  0.94483896 0.94440411 0.95847322\n",
      " 0.94967997 0.95750876 0.95764123 0.96132872 0.96915751 0.96743667\n",
      " 0.96357899 0.95972131 0.94495248 0.93303906 0.94727837 0.95041748\n",
      " 0.95160881 1.         0.99321111 0.97394166 0.95251651 0.92286535\n",
      " 0.89760147 0.90658377 0.92668522 0.91061155 0.94033843 0.94640847\n",
      " 0.94608705 0.95259213 0.9526867  0.94296688 0.92167402 0.89983279\n",
      " 0.89448121 0.83109434 0.82368155 0.79934424 0.81891625 0.86613489\n",
      " 0.87571475 0.86958064 0.87779732 0.87081125 0.89629431 0.89197774\n",
      " 0.88393143 0.88663874 0.87268555 0.85572202 0.87821378 0.89555596\n",
      " 0.88911892 0.91886188 0.91757451 0.93060003 0.90193625 0.89112578\n",
      " 0.88629799 0.88586258 0.88631695 0.88607077 0.88398819 0.90006195\n",
      " 0.87349961 0.84618006 0.84316981 0.87276126 0.89934246 0.93889242\n",
      " 0.93764295 0.94432608 0.94601106 0.94474264 0.9239547  0.92234544\n",
      " 0.93442443 0.93773761 0.93311801 0.93951725 0.93482194 0.97109661\n",
      " 0.97081262 0.97014999 0.9766817  0.98616791]\n",
      "1 day output [[0.9921384]]\n",
      "2 day input [0.8199752  0.82107195 0.8260642  0.8195213  0.83612449 0.83092415\n",
      " 0.87305597 0.8596298  0.84771638 0.8447286  0.84533365 0.84425584\n",
      " 0.87146751 0.9064892  0.94483896 0.94440411 0.95847322 0.94967997\n",
      " 0.95750876 0.95764123 0.96132872 0.96915751 0.96743667 0.96357899\n",
      " 0.95972131 0.94495248 0.93303906 0.94727837 0.95041748 0.95160881\n",
      " 1.         0.99321111 0.97394166 0.95251651 0.92286535 0.89760147\n",
      " 0.90658377 0.92668522 0.91061155 0.94033843 0.94640847 0.94608705\n",
      " 0.95259213 0.9526867  0.94296688 0.92167402 0.89983279 0.89448121\n",
      " 0.83109434 0.82368155 0.79934424 0.81891625 0.86613489 0.87571475\n",
      " 0.86958064 0.87779732 0.87081125 0.89629431 0.89197774 0.88393143\n",
      " 0.88663874 0.87268555 0.85572202 0.87821378 0.89555596 0.88911892\n",
      " 0.91886188 0.91757451 0.93060003 0.90193625 0.89112578 0.88629799\n",
      " 0.88586258 0.88631695 0.88607077 0.88398819 0.90006195 0.87349961\n",
      " 0.84618006 0.84316981 0.87276126 0.89934246 0.93889242 0.93764295\n",
      " 0.94432608 0.94601106 0.94474264 0.9239547  0.92234544 0.93442443\n",
      " 0.93773761 0.93311801 0.93951725 0.93482194 0.97109661 0.97081262\n",
      " 0.97014999 0.9766817  0.98616791 0.99213839]\n",
      "2 day output [[1.0007752]]\n",
      "3 day input [0.82107195 0.8260642  0.8195213  0.83612449 0.83092415 0.87305597\n",
      " 0.8596298  0.84771638 0.8447286  0.84533365 0.84425584 0.87146751\n",
      " 0.9064892  0.94483896 0.94440411 0.95847322 0.94967997 0.95750876\n",
      " 0.95764123 0.96132872 0.96915751 0.96743667 0.96357899 0.95972131\n",
      " 0.94495248 0.93303906 0.94727837 0.95041748 0.95160881 1.\n",
      " 0.99321111 0.97394166 0.95251651 0.92286535 0.89760147 0.90658377\n",
      " 0.92668522 0.91061155 0.94033843 0.94640847 0.94608705 0.95259213\n",
      " 0.9526867  0.94296688 0.92167402 0.89983279 0.89448121 0.83109434\n",
      " 0.82368155 0.79934424 0.81891625 0.86613489 0.87571475 0.86958064\n",
      " 0.87779732 0.87081125 0.89629431 0.89197774 0.88393143 0.88663874\n",
      " 0.87268555 0.85572202 0.87821378 0.89555596 0.88911892 0.91886188\n",
      " 0.91757451 0.93060003 0.90193625 0.89112578 0.88629799 0.88586258\n",
      " 0.88631695 0.88607077 0.88398819 0.90006195 0.87349961 0.84618006\n",
      " 0.84316981 0.87276126 0.89934246 0.93889242 0.93764295 0.94432608\n",
      " 0.94601106 0.94474264 0.9239547  0.92234544 0.93442443 0.93773761\n",
      " 0.93311801 0.93951725 0.93482194 0.97109661 0.97081262 0.97014999\n",
      " 0.9766817  0.98616791 0.99213839 1.00077522]\n",
      "3 day output [[1.0099236]]\n",
      "4 day input [0.8260642  0.8195213  0.83612449 0.83092415 0.87305597 0.8596298\n",
      " 0.84771638 0.8447286  0.84533365 0.84425584 0.87146751 0.9064892\n",
      " 0.94483896 0.94440411 0.95847322 0.94967997 0.95750876 0.95764123\n",
      " 0.96132872 0.96915751 0.96743667 0.96357899 0.95972131 0.94495248\n",
      " 0.93303906 0.94727837 0.95041748 0.95160881 1.         0.99321111\n",
      " 0.97394166 0.95251651 0.92286535 0.89760147 0.90658377 0.92668522\n",
      " 0.91061155 0.94033843 0.94640847 0.94608705 0.95259213 0.9526867\n",
      " 0.94296688 0.92167402 0.89983279 0.89448121 0.83109434 0.82368155\n",
      " 0.79934424 0.81891625 0.86613489 0.87571475 0.86958064 0.87779732\n",
      " 0.87081125 0.89629431 0.89197774 0.88393143 0.88663874 0.87268555\n",
      " 0.85572202 0.87821378 0.89555596 0.88911892 0.91886188 0.91757451\n",
      " 0.93060003 0.90193625 0.89112578 0.88629799 0.88586258 0.88631695\n",
      " 0.88607077 0.88398819 0.90006195 0.87349961 0.84618006 0.84316981\n",
      " 0.87276126 0.89934246 0.93889242 0.93764295 0.94432608 0.94601106\n",
      " 0.94474264 0.9239547  0.92234544 0.93442443 0.93773761 0.93311801\n",
      " 0.93951725 0.93482194 0.97109661 0.97081262 0.97014999 0.9766817\n",
      " 0.98616791 0.99213839 1.00077522 1.00992358]\n",
      "4 day output [[1.0190251]]\n",
      "5 day input [0.8195213  0.83612449 0.83092415 0.87305597 0.8596298  0.84771638\n",
      " 0.8447286  0.84533365 0.84425584 0.87146751 0.9064892  0.94483896\n",
      " 0.94440411 0.95847322 0.94967997 0.95750876 0.95764123 0.96132872\n",
      " 0.96915751 0.96743667 0.96357899 0.95972131 0.94495248 0.93303906\n",
      " 0.94727837 0.95041748 0.95160881 1.         0.99321111 0.97394166\n",
      " 0.95251651 0.92286535 0.89760147 0.90658377 0.92668522 0.91061155\n",
      " 0.94033843 0.94640847 0.94608705 0.95259213 0.9526867  0.94296688\n",
      " 0.92167402 0.89983279 0.89448121 0.83109434 0.82368155 0.79934424\n",
      " 0.81891625 0.86613489 0.87571475 0.86958064 0.87779732 0.87081125\n",
      " 0.89629431 0.89197774 0.88393143 0.88663874 0.87268555 0.85572202\n",
      " 0.87821378 0.89555596 0.88911892 0.91886188 0.91757451 0.93060003\n",
      " 0.90193625 0.89112578 0.88629799 0.88586258 0.88631695 0.88607077\n",
      " 0.88398819 0.90006195 0.87349961 0.84618006 0.84316981 0.87276126\n",
      " 0.89934246 0.93889242 0.93764295 0.94432608 0.94601106 0.94474264\n",
      " 0.9239547  0.92234544 0.93442443 0.93773761 0.93311801 0.93951725\n",
      " 0.93482194 0.97109661 0.97081262 0.97014999 0.9766817  0.98616791\n",
      " 0.99213839 1.00077522 1.00992358 1.01902509]\n",
      "5 day output [[1.027727]]\n",
      "6 day input [0.83612449 0.83092415 0.87305597 0.8596298  0.84771638 0.8447286\n",
      " 0.84533365 0.84425584 0.87146751 0.9064892  0.94483896 0.94440411\n",
      " 0.95847322 0.94967997 0.95750876 0.95764123 0.96132872 0.96915751\n",
      " 0.96743667 0.96357899 0.95972131 0.94495248 0.93303906 0.94727837\n",
      " 0.95041748 0.95160881 1.         0.99321111 0.97394166 0.95251651\n",
      " 0.92286535 0.89760147 0.90658377 0.92668522 0.91061155 0.94033843\n",
      " 0.94640847 0.94608705 0.95259213 0.9526867  0.94296688 0.92167402\n",
      " 0.89983279 0.89448121 0.83109434 0.82368155 0.79934424 0.81891625\n",
      " 0.86613489 0.87571475 0.86958064 0.87779732 0.87081125 0.89629431\n",
      " 0.89197774 0.88393143 0.88663874 0.87268555 0.85572202 0.87821378\n",
      " 0.89555596 0.88911892 0.91886188 0.91757451 0.93060003 0.90193625\n",
      " 0.89112578 0.88629799 0.88586258 0.88631695 0.88607077 0.88398819\n",
      " 0.90006195 0.87349961 0.84618006 0.84316981 0.87276126 0.89934246\n",
      " 0.93889242 0.93764295 0.94432608 0.94601106 0.94474264 0.9239547\n",
      " 0.92234544 0.93442443 0.93773761 0.93311801 0.93951725 0.93482194\n",
      " 0.97109661 0.97081262 0.97014999 0.9766817  0.98616791 0.99213839\n",
      " 1.00077522 1.00992358 1.01902509 1.02772701]\n",
      "6 day output [[1.035791]]\n",
      "7 day input [0.83092415 0.87305597 0.8596298  0.84771638 0.8447286  0.84533365\n",
      " 0.84425584 0.87146751 0.9064892  0.94483896 0.94440411 0.95847322\n",
      " 0.94967997 0.95750876 0.95764123 0.96132872 0.96915751 0.96743667\n",
      " 0.96357899 0.95972131 0.94495248 0.93303906 0.94727837 0.95041748\n",
      " 0.95160881 1.         0.99321111 0.97394166 0.95251651 0.92286535\n",
      " 0.89760147 0.90658377 0.92668522 0.91061155 0.94033843 0.94640847\n",
      " 0.94608705 0.95259213 0.9526867  0.94296688 0.92167402 0.89983279\n",
      " 0.89448121 0.83109434 0.82368155 0.79934424 0.81891625 0.86613489\n",
      " 0.87571475 0.86958064 0.87779732 0.87081125 0.89629431 0.89197774\n",
      " 0.88393143 0.88663874 0.87268555 0.85572202 0.87821378 0.89555596\n",
      " 0.88911892 0.91886188 0.91757451 0.93060003 0.90193625 0.89112578\n",
      " 0.88629799 0.88586258 0.88631695 0.88607077 0.88398819 0.90006195\n",
      " 0.87349961 0.84618006 0.84316981 0.87276126 0.89934246 0.93889242\n",
      " 0.93764295 0.94432608 0.94601106 0.94474264 0.9239547  0.92234544\n",
      " 0.93442443 0.93773761 0.93311801 0.93951725 0.93482194 0.97109661\n",
      " 0.97081262 0.97014999 0.9766817  0.98616791 0.99213839 1.00077522\n",
      " 1.00992358 1.01902509 1.02772701 1.03579104]\n",
      "7 day output [[1.0431694]]\n",
      "8 day input [0.87305597 0.8596298  0.84771638 0.8447286  0.84533365 0.84425584\n",
      " 0.87146751 0.9064892  0.94483896 0.94440411 0.95847322 0.94967997\n",
      " 0.95750876 0.95764123 0.96132872 0.96915751 0.96743667 0.96357899\n",
      " 0.95972131 0.94495248 0.93303906 0.94727837 0.95041748 0.95160881\n",
      " 1.         0.99321111 0.97394166 0.95251651 0.92286535 0.89760147\n",
      " 0.90658377 0.92668522 0.91061155 0.94033843 0.94640847 0.94608705\n",
      " 0.95259213 0.9526867  0.94296688 0.92167402 0.89983279 0.89448121\n",
      " 0.83109434 0.82368155 0.79934424 0.81891625 0.86613489 0.87571475\n",
      " 0.86958064 0.87779732 0.87081125 0.89629431 0.89197774 0.88393143\n",
      " 0.88663874 0.87268555 0.85572202 0.87821378 0.89555596 0.88911892\n",
      " 0.91886188 0.91757451 0.93060003 0.90193625 0.89112578 0.88629799\n",
      " 0.88586258 0.88631695 0.88607077 0.88398819 0.90006195 0.87349961\n",
      " 0.84618006 0.84316981 0.87276126 0.89934246 0.93889242 0.93764295\n",
      " 0.94432608 0.94601106 0.94474264 0.9239547  0.92234544 0.93442443\n",
      " 0.93773761 0.93311801 0.93951725 0.93482194 0.97109661 0.97081262\n",
      " 0.97014999 0.9766817  0.98616791 0.99213839 1.00077522 1.00992358\n",
      " 1.01902509 1.02772701 1.03579104 1.04316938]\n",
      "8 day output [[1.0499928]]\n",
      "9 day input [0.8596298  0.84771638 0.8447286  0.84533365 0.84425584 0.87146751\n",
      " 0.9064892  0.94483896 0.94440411 0.95847322 0.94967997 0.95750876\n",
      " 0.95764123 0.96132872 0.96915751 0.96743667 0.96357899 0.95972131\n",
      " 0.94495248 0.93303906 0.94727837 0.95041748 0.95160881 1.\n",
      " 0.99321111 0.97394166 0.95251651 0.92286535 0.89760147 0.90658377\n",
      " 0.92668522 0.91061155 0.94033843 0.94640847 0.94608705 0.95259213\n",
      " 0.9526867  0.94296688 0.92167402 0.89983279 0.89448121 0.83109434\n",
      " 0.82368155 0.79934424 0.81891625 0.86613489 0.87571475 0.86958064\n",
      " 0.87779732 0.87081125 0.89629431 0.89197774 0.88393143 0.88663874\n",
      " 0.87268555 0.85572202 0.87821378 0.89555596 0.88911892 0.91886188\n",
      " 0.91757451 0.93060003 0.90193625 0.89112578 0.88629799 0.88586258\n",
      " 0.88631695 0.88607077 0.88398819 0.90006195 0.87349961 0.84618006\n",
      " 0.84316981 0.87276126 0.89934246 0.93889242 0.93764295 0.94432608\n",
      " 0.94601106 0.94474264 0.9239547  0.92234544 0.93442443 0.93773761\n",
      " 0.93311801 0.93951725 0.93482194 0.97109661 0.97081262 0.97014999\n",
      " 0.9766817  0.98616791 0.99213839 1.00077522 1.00992358 1.01902509\n",
      " 1.02772701 1.03579104 1.04316938 1.0499928 ]\n",
      "9 day output [[1.0564958]]\n",
      "10 day input [0.84771638 0.8447286  0.84533365 0.84425584 0.87146751 0.9064892\n",
      " 0.94483896 0.94440411 0.95847322 0.94967997 0.95750876 0.95764123\n",
      " 0.96132872 0.96915751 0.96743667 0.96357899 0.95972131 0.94495248\n",
      " 0.93303906 0.94727837 0.95041748 0.95160881 1.         0.99321111\n",
      " 0.97394166 0.95251651 0.92286535 0.89760147 0.90658377 0.92668522\n",
      " 0.91061155 0.94033843 0.94640847 0.94608705 0.95259213 0.9526867\n",
      " 0.94296688 0.92167402 0.89983279 0.89448121 0.83109434 0.82368155\n",
      " 0.79934424 0.81891625 0.86613489 0.87571475 0.86958064 0.87779732\n",
      " 0.87081125 0.89629431 0.89197774 0.88393143 0.88663874 0.87268555\n",
      " 0.85572202 0.87821378 0.89555596 0.88911892 0.91886188 0.91757451\n",
      " 0.93060003 0.90193625 0.89112578 0.88629799 0.88586258 0.88631695\n",
      " 0.88607077 0.88398819 0.90006195 0.87349961 0.84618006 0.84316981\n",
      " 0.87276126 0.89934246 0.93889242 0.93764295 0.94432608 0.94601106\n",
      " 0.94474264 0.9239547  0.92234544 0.93442443 0.93773761 0.93311801\n",
      " 0.93951725 0.93482194 0.97109661 0.97081262 0.97014999 0.9766817\n",
      " 0.98616791 0.99213839 1.00077522 1.00992358 1.01902509 1.02772701\n",
      " 1.03579104 1.04316938 1.0499928  1.05649579]\n"
     ]
    },
    {
     "name": "stdout",
     "output_type": "stream",
     "text": [
      "10 day output [[1.0629318]]\n",
      "11 day input [0.8447286  0.84533365 0.84425584 0.87146751 0.9064892  0.94483896\n",
      " 0.94440411 0.95847322 0.94967997 0.95750876 0.95764123 0.96132872\n",
      " 0.96915751 0.96743667 0.96357899 0.95972131 0.94495248 0.93303906\n",
      " 0.94727837 0.95041748 0.95160881 1.         0.99321111 0.97394166\n",
      " 0.95251651 0.92286535 0.89760147 0.90658377 0.92668522 0.91061155\n",
      " 0.94033843 0.94640847 0.94608705 0.95259213 0.9526867  0.94296688\n",
      " 0.92167402 0.89983279 0.89448121 0.83109434 0.82368155 0.79934424\n",
      " 0.81891625 0.86613489 0.87571475 0.86958064 0.87779732 0.87081125\n",
      " 0.89629431 0.89197774 0.88393143 0.88663874 0.87268555 0.85572202\n",
      " 0.87821378 0.89555596 0.88911892 0.91886188 0.91757451 0.93060003\n",
      " 0.90193625 0.89112578 0.88629799 0.88586258 0.88631695 0.88607077\n",
      " 0.88398819 0.90006195 0.87349961 0.84618006 0.84316981 0.87276126\n",
      " 0.89934246 0.93889242 0.93764295 0.94432608 0.94601106 0.94474264\n",
      " 0.9239547  0.92234544 0.93442443 0.93773761 0.93311801 0.93951725\n",
      " 0.93482194 0.97109661 0.97081262 0.97014999 0.9766817  0.98616791\n",
      " 0.99213839 1.00077522 1.00992358 1.01902509 1.02772701 1.03579104\n",
      " 1.04316938 1.0499928  1.05649579 1.06293178]\n",
      "11 day output [[1.0695007]]\n",
      "12 day input [0.84533365 0.84425584 0.87146751 0.9064892  0.94483896 0.94440411\n",
      " 0.95847322 0.94967997 0.95750876 0.95764123 0.96132872 0.96915751\n",
      " 0.96743667 0.96357899 0.95972131 0.94495248 0.93303906 0.94727837\n",
      " 0.95041748 0.95160881 1.         0.99321111 0.97394166 0.95251651\n",
      " 0.92286535 0.89760147 0.90658377 0.92668522 0.91061155 0.94033843\n",
      " 0.94640847 0.94608705 0.95259213 0.9526867  0.94296688 0.92167402\n",
      " 0.89983279 0.89448121 0.83109434 0.82368155 0.79934424 0.81891625\n",
      " 0.86613489 0.87571475 0.86958064 0.87779732 0.87081125 0.89629431\n",
      " 0.89197774 0.88393143 0.88663874 0.87268555 0.85572202 0.87821378\n",
      " 0.89555596 0.88911892 0.91886188 0.91757451 0.93060003 0.90193625\n",
      " 0.89112578 0.88629799 0.88586258 0.88631695 0.88607077 0.88398819\n",
      " 0.90006195 0.87349961 0.84618006 0.84316981 0.87276126 0.89934246\n",
      " 0.93889242 0.93764295 0.94432608 0.94601106 0.94474264 0.9239547\n",
      " 0.92234544 0.93442443 0.93773761 0.93311801 0.93951725 0.93482194\n",
      " 0.97109661 0.97081262 0.97014999 0.9766817  0.98616791 0.99213839\n",
      " 1.00077522 1.00992358 1.01902509 1.02772701 1.03579104 1.04316938\n",
      " 1.0499928  1.05649579 1.06293178 1.06950068]\n",
      "12 day output [[1.0763083]]\n",
      "13 day input [0.84425584 0.87146751 0.9064892  0.94483896 0.94440411 0.95847322\n",
      " 0.94967997 0.95750876 0.95764123 0.96132872 0.96915751 0.96743667\n",
      " 0.96357899 0.95972131 0.94495248 0.93303906 0.94727837 0.95041748\n",
      " 0.95160881 1.         0.99321111 0.97394166 0.95251651 0.92286535\n",
      " 0.89760147 0.90658377 0.92668522 0.91061155 0.94033843 0.94640847\n",
      " 0.94608705 0.95259213 0.9526867  0.94296688 0.92167402 0.89983279\n",
      " 0.89448121 0.83109434 0.82368155 0.79934424 0.81891625 0.86613489\n",
      " 0.87571475 0.86958064 0.87779732 0.87081125 0.89629431 0.89197774\n",
      " 0.88393143 0.88663874 0.87268555 0.85572202 0.87821378 0.89555596\n",
      " 0.88911892 0.91886188 0.91757451 0.93060003 0.90193625 0.89112578\n",
      " 0.88629799 0.88586258 0.88631695 0.88607077 0.88398819 0.90006195\n",
      " 0.87349961 0.84618006 0.84316981 0.87276126 0.89934246 0.93889242\n",
      " 0.93764295 0.94432608 0.94601106 0.94474264 0.9239547  0.92234544\n",
      " 0.93442443 0.93773761 0.93311801 0.93951725 0.93482194 0.97109661\n",
      " 0.97081262 0.97014999 0.9766817  0.98616791 0.99213839 1.00077522\n",
      " 1.00992358 1.01902509 1.02772701 1.03579104 1.04316938 1.0499928\n",
      " 1.05649579 1.06293178 1.06950068 1.07630825]\n",
      "13 day output [[1.0833588]]\n",
      "14 day input [0.87146751 0.9064892  0.94483896 0.94440411 0.95847322 0.94967997\n",
      " 0.95750876 0.95764123 0.96132872 0.96915751 0.96743667 0.96357899\n",
      " 0.95972131 0.94495248 0.93303906 0.94727837 0.95041748 0.95160881\n",
      " 1.         0.99321111 0.97394166 0.95251651 0.92286535 0.89760147\n",
      " 0.90658377 0.92668522 0.91061155 0.94033843 0.94640847 0.94608705\n",
      " 0.95259213 0.9526867  0.94296688 0.92167402 0.89983279 0.89448121\n",
      " 0.83109434 0.82368155 0.79934424 0.81891625 0.86613489 0.87571475\n",
      " 0.86958064 0.87779732 0.87081125 0.89629431 0.89197774 0.88393143\n",
      " 0.88663874 0.87268555 0.85572202 0.87821378 0.89555596 0.88911892\n",
      " 0.91886188 0.91757451 0.93060003 0.90193625 0.89112578 0.88629799\n",
      " 0.88586258 0.88631695 0.88607077 0.88398819 0.90006195 0.87349961\n",
      " 0.84618006 0.84316981 0.87276126 0.89934246 0.93889242 0.93764295\n",
      " 0.94432608 0.94601106 0.94474264 0.9239547  0.92234544 0.93442443\n",
      " 0.93773761 0.93311801 0.93951725 0.93482194 0.97109661 0.97081262\n",
      " 0.97014999 0.9766817  0.98616791 0.99213839 1.00077522 1.00992358\n",
      " 1.01902509 1.02772701 1.03579104 1.04316938 1.0499928  1.05649579\n",
      " 1.06293178 1.06950068 1.07630825 1.08335876]\n",
      "14 day output [[1.0905776]]\n",
      "15 day input [0.9064892  0.94483896 0.94440411 0.95847322 0.94967997 0.95750876\n",
      " 0.95764123 0.96132872 0.96915751 0.96743667 0.96357899 0.95972131\n",
      " 0.94495248 0.93303906 0.94727837 0.95041748 0.95160881 1.\n",
      " 0.99321111 0.97394166 0.95251651 0.92286535 0.89760147 0.90658377\n",
      " 0.92668522 0.91061155 0.94033843 0.94640847 0.94608705 0.95259213\n",
      " 0.9526867  0.94296688 0.92167402 0.89983279 0.89448121 0.83109434\n",
      " 0.82368155 0.79934424 0.81891625 0.86613489 0.87571475 0.86958064\n",
      " 0.87779732 0.87081125 0.89629431 0.89197774 0.88393143 0.88663874\n",
      " 0.87268555 0.85572202 0.87821378 0.89555596 0.88911892 0.91886188\n",
      " 0.91757451 0.93060003 0.90193625 0.89112578 0.88629799 0.88586258\n",
      " 0.88631695 0.88607077 0.88398819 0.90006195 0.87349961 0.84618006\n",
      " 0.84316981 0.87276126 0.89934246 0.93889242 0.93764295 0.94432608\n",
      " 0.94601106 0.94474264 0.9239547  0.92234544 0.93442443 0.93773761\n",
      " 0.93311801 0.93951725 0.93482194 0.97109661 0.97081262 0.97014999\n",
      " 0.9766817  0.98616791 0.99213839 1.00077522 1.00992358 1.01902509\n",
      " 1.02772701 1.03579104 1.04316938 1.0499928  1.05649579 1.06293178\n",
      " 1.06950068 1.07630825 1.08335876 1.0905776 ]\n",
      "15 day output [[1.0978509]]\n",
      "16 day input [0.94483896 0.94440411 0.95847322 0.94967997 0.95750876 0.95764123\n",
      " 0.96132872 0.96915751 0.96743667 0.96357899 0.95972131 0.94495248\n",
      " 0.93303906 0.94727837 0.95041748 0.95160881 1.         0.99321111\n",
      " 0.97394166 0.95251651 0.92286535 0.89760147 0.90658377 0.92668522\n",
      " 0.91061155 0.94033843 0.94640847 0.94608705 0.95259213 0.9526867\n",
      " 0.94296688 0.92167402 0.89983279 0.89448121 0.83109434 0.82368155\n",
      " 0.79934424 0.81891625 0.86613489 0.87571475 0.86958064 0.87779732\n",
      " 0.87081125 0.89629431 0.89197774 0.88393143 0.88663874 0.87268555\n",
      " 0.85572202 0.87821378 0.89555596 0.88911892 0.91886188 0.91757451\n",
      " 0.93060003 0.90193625 0.89112578 0.88629799 0.88586258 0.88631695\n",
      " 0.88607077 0.88398819 0.90006195 0.87349961 0.84618006 0.84316981\n",
      " 0.87276126 0.89934246 0.93889242 0.93764295 0.94432608 0.94601106\n",
      " 0.94474264 0.9239547  0.92234544 0.93442443 0.93773761 0.93311801\n",
      " 0.93951725 0.93482194 0.97109661 0.97081262 0.97014999 0.9766817\n",
      " 0.98616791 0.99213839 1.00077522 1.00992358 1.01902509 1.02772701\n",
      " 1.03579104 1.04316938 1.0499928  1.05649579 1.06293178 1.06950068\n",
      " 1.07630825 1.08335876 1.0905776  1.09785092]\n",
      "16 day output [[1.1050646]]\n",
      "17 day input [0.94440411 0.95847322 0.94967997 0.95750876 0.95764123 0.96132872\n",
      " 0.96915751 0.96743667 0.96357899 0.95972131 0.94495248 0.93303906\n",
      " 0.94727837 0.95041748 0.95160881 1.         0.99321111 0.97394166\n",
      " 0.95251651 0.92286535 0.89760147 0.90658377 0.92668522 0.91061155\n",
      " 0.94033843 0.94640847 0.94608705 0.95259213 0.9526867  0.94296688\n",
      " 0.92167402 0.89983279 0.89448121 0.83109434 0.82368155 0.79934424\n",
      " 0.81891625 0.86613489 0.87571475 0.86958064 0.87779732 0.87081125\n",
      " 0.89629431 0.89197774 0.88393143 0.88663874 0.87268555 0.85572202\n",
      " 0.87821378 0.89555596 0.88911892 0.91886188 0.91757451 0.93060003\n",
      " 0.90193625 0.89112578 0.88629799 0.88586258 0.88631695 0.88607077\n",
      " 0.88398819 0.90006195 0.87349961 0.84618006 0.84316981 0.87276126\n",
      " 0.89934246 0.93889242 0.93764295 0.94432608 0.94601106 0.94474264\n",
      " 0.9239547  0.92234544 0.93442443 0.93773761 0.93311801 0.93951725\n",
      " 0.93482194 0.97109661 0.97081262 0.97014999 0.9766817  0.98616791\n",
      " 0.99213839 1.00077522 1.00992358 1.01902509 1.02772701 1.03579104\n",
      " 1.04316938 1.0499928  1.05649579 1.06293178 1.06950068 1.07630825\n",
      " 1.08335876 1.0905776  1.09785092 1.10506463]\n",
      "17 day output [[1.112137]]\n",
      "18 day input [0.95847322 0.94967997 0.95750876 0.95764123 0.96132872 0.96915751\n",
      " 0.96743667 0.96357899 0.95972131 0.94495248 0.93303906 0.94727837\n",
      " 0.95041748 0.95160881 1.         0.99321111 0.97394166 0.95251651\n",
      " 0.92286535 0.89760147 0.90658377 0.92668522 0.91061155 0.94033843\n",
      " 0.94640847 0.94608705 0.95259213 0.9526867  0.94296688 0.92167402\n",
      " 0.89983279 0.89448121 0.83109434 0.82368155 0.79934424 0.81891625\n",
      " 0.86613489 0.87571475 0.86958064 0.87779732 0.87081125 0.89629431\n",
      " 0.89197774 0.88393143 0.88663874 0.87268555 0.85572202 0.87821378\n",
      " 0.89555596 0.88911892 0.91886188 0.91757451 0.93060003 0.90193625\n",
      " 0.89112578 0.88629799 0.88586258 0.88631695 0.88607077 0.88398819\n",
      " 0.90006195 0.87349961 0.84618006 0.84316981 0.87276126 0.89934246\n",
      " 0.93889242 0.93764295 0.94432608 0.94601106 0.94474264 0.9239547\n",
      " 0.92234544 0.93442443 0.93773761 0.93311801 0.93951725 0.93482194\n",
      " 0.97109661 0.97081262 0.97014999 0.9766817  0.98616791 0.99213839\n",
      " 1.00077522 1.00992358 1.01902509 1.02772701 1.03579104 1.04316938\n",
      " 1.0499928  1.05649579 1.06293178 1.06950068 1.07630825 1.08335876\n",
      " 1.0905776  1.09785092 1.10506463 1.11213696]\n",
      "18 day output [[1.1190314]]\n",
      "19 day input [0.94967997 0.95750876 0.95764123 0.96132872 0.96915751 0.96743667\n",
      " 0.96357899 0.95972131 0.94495248 0.93303906 0.94727837 0.95041748\n",
      " 0.95160881 1.         0.99321111 0.97394166 0.95251651 0.92286535\n",
      " 0.89760147 0.90658377 0.92668522 0.91061155 0.94033843 0.94640847\n",
      " 0.94608705 0.95259213 0.9526867  0.94296688 0.92167402 0.89983279\n",
      " 0.89448121 0.83109434 0.82368155 0.79934424 0.81891625 0.86613489\n",
      " 0.87571475 0.86958064 0.87779732 0.87081125 0.89629431 0.89197774\n",
      " 0.88393143 0.88663874 0.87268555 0.85572202 0.87821378 0.89555596\n",
      " 0.88911892 0.91886188 0.91757451 0.93060003 0.90193625 0.89112578\n",
      " 0.88629799 0.88586258 0.88631695 0.88607077 0.88398819 0.90006195\n",
      " 0.87349961 0.84618006 0.84316981 0.87276126 0.89934246 0.93889242\n",
      " 0.93764295 0.94432608 0.94601106 0.94474264 0.9239547  0.92234544\n",
      " 0.93442443 0.93773761 0.93311801 0.93951725 0.93482194 0.97109661\n",
      " 0.97081262 0.97014999 0.9766817  0.98616791 0.99213839 1.00077522\n",
      " 1.00992358 1.01902509 1.02772701 1.03579104 1.04316938 1.0499928\n",
      " 1.05649579 1.06293178 1.06950068 1.07630825 1.08335876 1.0905776\n",
      " 1.09785092 1.10506463 1.11213696 1.11903143]\n",
      "19 day output [[1.1257563]]\n",
      "20 day input [0.95750876 0.95764123 0.96132872 0.96915751 0.96743667 0.96357899\n",
      " 0.95972131 0.94495248 0.93303906 0.94727837 0.95041748 0.95160881\n",
      " 1.         0.99321111 0.97394166 0.95251651 0.92286535 0.89760147\n",
      " 0.90658377 0.92668522 0.91061155 0.94033843 0.94640847 0.94608705\n",
      " 0.95259213 0.9526867  0.94296688 0.92167402 0.89983279 0.89448121\n",
      " 0.83109434 0.82368155 0.79934424 0.81891625 0.86613489 0.87571475\n",
      " 0.86958064 0.87779732 0.87081125 0.89629431 0.89197774 0.88393143\n",
      " 0.88663874 0.87268555 0.85572202 0.87821378 0.89555596 0.88911892\n",
      " 0.91886188 0.91757451 0.93060003 0.90193625 0.89112578 0.88629799\n",
      " 0.88586258 0.88631695 0.88607077 0.88398819 0.90006195 0.87349961\n",
      " 0.84618006 0.84316981 0.87276126 0.89934246 0.93889242 0.93764295\n",
      " 0.94432608 0.94601106 0.94474264 0.9239547  0.92234544 0.93442443\n",
      " 0.93773761 0.93311801 0.93951725 0.93482194 0.97109661 0.97081262\n",
      " 0.97014999 0.9766817  0.98616791 0.99213839 1.00077522 1.00992358\n",
      " 1.01902509 1.02772701 1.03579104 1.04316938 1.0499928  1.05649579\n",
      " 1.06293178 1.06950068 1.07630825 1.08335876 1.0905776  1.09785092\n",
      " 1.10506463 1.11213696 1.11903143 1.12575626]\n"
     ]
    },
    {
     "name": "stdout",
     "output_type": "stream",
     "text": [
      "20 day output [[1.1323489]]\n",
      "21 day input [0.95764123 0.96132872 0.96915751 0.96743667 0.96357899 0.95972131\n",
      " 0.94495248 0.93303906 0.94727837 0.95041748 0.95160881 1.\n",
      " 0.99321111 0.97394166 0.95251651 0.92286535 0.89760147 0.90658377\n",
      " 0.92668522 0.91061155 0.94033843 0.94640847 0.94608705 0.95259213\n",
      " 0.9526867  0.94296688 0.92167402 0.89983279 0.89448121 0.83109434\n",
      " 0.82368155 0.79934424 0.81891625 0.86613489 0.87571475 0.86958064\n",
      " 0.87779732 0.87081125 0.89629431 0.89197774 0.88393143 0.88663874\n",
      " 0.87268555 0.85572202 0.87821378 0.89555596 0.88911892 0.91886188\n",
      " 0.91757451 0.93060003 0.90193625 0.89112578 0.88629799 0.88586258\n",
      " 0.88631695 0.88607077 0.88398819 0.90006195 0.87349961 0.84618006\n",
      " 0.84316981 0.87276126 0.89934246 0.93889242 0.93764295 0.94432608\n",
      " 0.94601106 0.94474264 0.9239547  0.92234544 0.93442443 0.93773761\n",
      " 0.93311801 0.93951725 0.93482194 0.97109661 0.97081262 0.97014999\n",
      " 0.9766817  0.98616791 0.99213839 1.00077522 1.00992358 1.01902509\n",
      " 1.02772701 1.03579104 1.04316938 1.0499928  1.05649579 1.06293178\n",
      " 1.06950068 1.07630825 1.08335876 1.0905776  1.09785092 1.10506463\n",
      " 1.11213696 1.11903143 1.12575626 1.1323489 ]\n",
      "21 day output [[1.138859]]\n",
      "22 day input [0.96132872 0.96915751 0.96743667 0.96357899 0.95972131 0.94495248\n",
      " 0.93303906 0.94727837 0.95041748 0.95160881 1.         0.99321111\n",
      " 0.97394166 0.95251651 0.92286535 0.89760147 0.90658377 0.92668522\n",
      " 0.91061155 0.94033843 0.94640847 0.94608705 0.95259213 0.9526867\n",
      " 0.94296688 0.92167402 0.89983279 0.89448121 0.83109434 0.82368155\n",
      " 0.79934424 0.81891625 0.86613489 0.87571475 0.86958064 0.87779732\n",
      " 0.87081125 0.89629431 0.89197774 0.88393143 0.88663874 0.87268555\n",
      " 0.85572202 0.87821378 0.89555596 0.88911892 0.91886188 0.91757451\n",
      " 0.93060003 0.90193625 0.89112578 0.88629799 0.88586258 0.88631695\n",
      " 0.88607077 0.88398819 0.90006195 0.87349961 0.84618006 0.84316981\n",
      " 0.87276126 0.89934246 0.93889242 0.93764295 0.94432608 0.94601106\n",
      " 0.94474264 0.9239547  0.92234544 0.93442443 0.93773761 0.93311801\n",
      " 0.93951725 0.93482194 0.97109661 0.97081262 0.97014999 0.9766817\n",
      " 0.98616791 0.99213839 1.00077522 1.00992358 1.01902509 1.02772701\n",
      " 1.03579104 1.04316938 1.0499928  1.05649579 1.06293178 1.06950068\n",
      " 1.07630825 1.08335876 1.0905776  1.09785092 1.10506463 1.11213696\n",
      " 1.11903143 1.12575626 1.1323489  1.13885903]\n",
      "22 day output [[1.1453298]]\n",
      "23 day input [0.96915751 0.96743667 0.96357899 0.95972131 0.94495248 0.93303906\n",
      " 0.94727837 0.95041748 0.95160881 1.         0.99321111 0.97394166\n",
      " 0.95251651 0.92286535 0.89760147 0.90658377 0.92668522 0.91061155\n",
      " 0.94033843 0.94640847 0.94608705 0.95259213 0.9526867  0.94296688\n",
      " 0.92167402 0.89983279 0.89448121 0.83109434 0.82368155 0.79934424\n",
      " 0.81891625 0.86613489 0.87571475 0.86958064 0.87779732 0.87081125\n",
      " 0.89629431 0.89197774 0.88393143 0.88663874 0.87268555 0.85572202\n",
      " 0.87821378 0.89555596 0.88911892 0.91886188 0.91757451 0.93060003\n",
      " 0.90193625 0.89112578 0.88629799 0.88586258 0.88631695 0.88607077\n",
      " 0.88398819 0.90006195 0.87349961 0.84618006 0.84316981 0.87276126\n",
      " 0.89934246 0.93889242 0.93764295 0.94432608 0.94601106 0.94474264\n",
      " 0.9239547  0.92234544 0.93442443 0.93773761 0.93311801 0.93951725\n",
      " 0.93482194 0.97109661 0.97081262 0.97014999 0.9766817  0.98616791\n",
      " 0.99213839 1.00077522 1.00992358 1.01902509 1.02772701 1.03579104\n",
      " 1.04316938 1.0499928  1.05649579 1.06293178 1.06950068 1.07630825\n",
      " 1.08335876 1.0905776  1.09785092 1.10506463 1.11213696 1.11903143\n",
      " 1.12575626 1.1323489  1.13885903 1.14532983]\n",
      "23 day output [[1.1517879]]\n",
      "24 day input [0.96743667 0.96357899 0.95972131 0.94495248 0.93303906 0.94727837\n",
      " 0.95041748 0.95160881 1.         0.99321111 0.97394166 0.95251651\n",
      " 0.92286535 0.89760147 0.90658377 0.92668522 0.91061155 0.94033843\n",
      " 0.94640847 0.94608705 0.95259213 0.9526867  0.94296688 0.92167402\n",
      " 0.89983279 0.89448121 0.83109434 0.82368155 0.79934424 0.81891625\n",
      " 0.86613489 0.87571475 0.86958064 0.87779732 0.87081125 0.89629431\n",
      " 0.89197774 0.88393143 0.88663874 0.87268555 0.85572202 0.87821378\n",
      " 0.89555596 0.88911892 0.91886188 0.91757451 0.93060003 0.90193625\n",
      " 0.89112578 0.88629799 0.88586258 0.88631695 0.88607077 0.88398819\n",
      " 0.90006195 0.87349961 0.84618006 0.84316981 0.87276126 0.89934246\n",
      " 0.93889242 0.93764295 0.94432608 0.94601106 0.94474264 0.9239547\n",
      " 0.92234544 0.93442443 0.93773761 0.93311801 0.93951725 0.93482194\n",
      " 0.97109661 0.97081262 0.97014999 0.9766817  0.98616791 0.99213839\n",
      " 1.00077522 1.00992358 1.01902509 1.02772701 1.03579104 1.04316938\n",
      " 1.0499928  1.05649579 1.06293178 1.06950068 1.07630825 1.08335876\n",
      " 1.0905776  1.09785092 1.10506463 1.11213696 1.11903143 1.12575626\n",
      " 1.1323489  1.13885903 1.14532983 1.15178788]\n",
      "24 day output [[1.1582382]]\n",
      "25 day input [0.96357899 0.95972131 0.94495248 0.93303906 0.94727837 0.95041748\n",
      " 0.95160881 1.         0.99321111 0.97394166 0.95251651 0.92286535\n",
      " 0.89760147 0.90658377 0.92668522 0.91061155 0.94033843 0.94640847\n",
      " 0.94608705 0.95259213 0.9526867  0.94296688 0.92167402 0.89983279\n",
      " 0.89448121 0.83109434 0.82368155 0.79934424 0.81891625 0.86613489\n",
      " 0.87571475 0.86958064 0.87779732 0.87081125 0.89629431 0.89197774\n",
      " 0.88393143 0.88663874 0.87268555 0.85572202 0.87821378 0.89555596\n",
      " 0.88911892 0.91886188 0.91757451 0.93060003 0.90193625 0.89112578\n",
      " 0.88629799 0.88586258 0.88631695 0.88607077 0.88398819 0.90006195\n",
      " 0.87349961 0.84618006 0.84316981 0.87276126 0.89934246 0.93889242\n",
      " 0.93764295 0.94432608 0.94601106 0.94474264 0.9239547  0.92234544\n",
      " 0.93442443 0.93773761 0.93311801 0.93951725 0.93482194 0.97109661\n",
      " 0.97081262 0.97014999 0.9766817  0.98616791 0.99213839 1.00077522\n",
      " 1.00992358 1.01902509 1.02772701 1.03579104 1.04316938 1.0499928\n",
      " 1.05649579 1.06293178 1.06950068 1.07630825 1.08335876 1.0905776\n",
      " 1.09785092 1.10506463 1.11213696 1.11903143 1.12575626 1.1323489\n",
      " 1.13885903 1.14532983 1.15178788 1.15823817]\n",
      "25 day output [[1.1646681]]\n",
      "26 day input [0.95972131 0.94495248 0.93303906 0.94727837 0.95041748 0.95160881\n",
      " 1.         0.99321111 0.97394166 0.95251651 0.92286535 0.89760147\n",
      " 0.90658377 0.92668522 0.91061155 0.94033843 0.94640847 0.94608705\n",
      " 0.95259213 0.9526867  0.94296688 0.92167402 0.89983279 0.89448121\n",
      " 0.83109434 0.82368155 0.79934424 0.81891625 0.86613489 0.87571475\n",
      " 0.86958064 0.87779732 0.87081125 0.89629431 0.89197774 0.88393143\n",
      " 0.88663874 0.87268555 0.85572202 0.87821378 0.89555596 0.88911892\n",
      " 0.91886188 0.91757451 0.93060003 0.90193625 0.89112578 0.88629799\n",
      " 0.88586258 0.88631695 0.88607077 0.88398819 0.90006195 0.87349961\n",
      " 0.84618006 0.84316981 0.87276126 0.89934246 0.93889242 0.93764295\n",
      " 0.94432608 0.94601106 0.94474264 0.9239547  0.92234544 0.93442443\n",
      " 0.93773761 0.93311801 0.93951725 0.93482194 0.97109661 0.97081262\n",
      " 0.97014999 0.9766817  0.98616791 0.99213839 1.00077522 1.00992358\n",
      " 1.01902509 1.02772701 1.03579104 1.04316938 1.0499928  1.05649579\n",
      " 1.06293178 1.06950068 1.07630825 1.08335876 1.0905776  1.09785092\n",
      " 1.10506463 1.11213696 1.11903143 1.12575626 1.1323489  1.13885903\n",
      " 1.14532983 1.15178788 1.15823817 1.16466808]\n",
      "26 day output [[1.1710557]]\n",
      "27 day input [0.94495248 0.93303906 0.94727837 0.95041748 0.95160881 1.\n",
      " 0.99321111 0.97394166 0.95251651 0.92286535 0.89760147 0.90658377\n",
      " 0.92668522 0.91061155 0.94033843 0.94640847 0.94608705 0.95259213\n",
      " 0.9526867  0.94296688 0.92167402 0.89983279 0.89448121 0.83109434\n",
      " 0.82368155 0.79934424 0.81891625 0.86613489 0.87571475 0.86958064\n",
      " 0.87779732 0.87081125 0.89629431 0.89197774 0.88393143 0.88663874\n",
      " 0.87268555 0.85572202 0.87821378 0.89555596 0.88911892 0.91886188\n",
      " 0.91757451 0.93060003 0.90193625 0.89112578 0.88629799 0.88586258\n",
      " 0.88631695 0.88607077 0.88398819 0.90006195 0.87349961 0.84618006\n",
      " 0.84316981 0.87276126 0.89934246 0.93889242 0.93764295 0.94432608\n",
      " 0.94601106 0.94474264 0.9239547  0.92234544 0.93442443 0.93773761\n",
      " 0.93311801 0.93951725 0.93482194 0.97109661 0.97081262 0.97014999\n",
      " 0.9766817  0.98616791 0.99213839 1.00077522 1.00992358 1.01902509\n",
      " 1.02772701 1.03579104 1.04316938 1.0499928  1.05649579 1.06293178\n",
      " 1.06950068 1.07630825 1.08335876 1.0905776  1.09785092 1.10506463\n",
      " 1.11213696 1.11903143 1.12575626 1.1323489  1.13885903 1.14532983\n",
      " 1.15178788 1.15823817 1.16466808 1.17105567]\n",
      "27 day output [[1.1773778]]\n",
      "28 day input [0.93303906 0.94727837 0.95041748 0.95160881 1.         0.99321111\n",
      " 0.97394166 0.95251651 0.92286535 0.89760147 0.90658377 0.92668522\n",
      " 0.91061155 0.94033843 0.94640847 0.94608705 0.95259213 0.9526867\n",
      " 0.94296688 0.92167402 0.89983279 0.89448121 0.83109434 0.82368155\n",
      " 0.79934424 0.81891625 0.86613489 0.87571475 0.86958064 0.87779732\n",
      " 0.87081125 0.89629431 0.89197774 0.88393143 0.88663874 0.87268555\n",
      " 0.85572202 0.87821378 0.89555596 0.88911892 0.91886188 0.91757451\n",
      " 0.93060003 0.90193625 0.89112578 0.88629799 0.88586258 0.88631695\n",
      " 0.88607077 0.88398819 0.90006195 0.87349961 0.84618006 0.84316981\n",
      " 0.87276126 0.89934246 0.93889242 0.93764295 0.94432608 0.94601106\n",
      " 0.94474264 0.9239547  0.92234544 0.93442443 0.93773761 0.93311801\n",
      " 0.93951725 0.93482194 0.97109661 0.97081262 0.97014999 0.9766817\n",
      " 0.98616791 0.99213839 1.00077522 1.00992358 1.01902509 1.02772701\n",
      " 1.03579104 1.04316938 1.0499928  1.05649579 1.06293178 1.06950068\n",
      " 1.07630825 1.08335876 1.0905776  1.09785092 1.10506463 1.11213696\n",
      " 1.11903143 1.12575626 1.1323489  1.13885903 1.14532983 1.15178788\n",
      " 1.15823817 1.16466808 1.17105567 1.17737782]\n",
      "28 day output [[1.1836154]]\n",
      "29 day input [0.94727837 0.95041748 0.95160881 1.         0.99321111 0.97394166\n",
      " 0.95251651 0.92286535 0.89760147 0.90658377 0.92668522 0.91061155\n",
      " 0.94033843 0.94640847 0.94608705 0.95259213 0.9526867  0.94296688\n",
      " 0.92167402 0.89983279 0.89448121 0.83109434 0.82368155 0.79934424\n",
      " 0.81891625 0.86613489 0.87571475 0.86958064 0.87779732 0.87081125\n",
      " 0.89629431 0.89197774 0.88393143 0.88663874 0.87268555 0.85572202\n",
      " 0.87821378 0.89555596 0.88911892 0.91886188 0.91757451 0.93060003\n",
      " 0.90193625 0.89112578 0.88629799 0.88586258 0.88631695 0.88607077\n",
      " 0.88398819 0.90006195 0.87349961 0.84618006 0.84316981 0.87276126\n",
      " 0.89934246 0.93889242 0.93764295 0.94432608 0.94601106 0.94474264\n",
      " 0.9239547  0.92234544 0.93442443 0.93773761 0.93311801 0.93951725\n",
      " 0.93482194 0.97109661 0.97081262 0.97014999 0.9766817  0.98616791\n",
      " 0.99213839 1.00077522 1.00992358 1.01902509 1.02772701 1.03579104\n",
      " 1.04316938 1.0499928  1.05649579 1.06293178 1.06950068 1.07630825\n",
      " 1.08335876 1.0905776  1.09785092 1.10506463 1.11213696 1.11903143\n",
      " 1.12575626 1.1323489  1.13885903 1.14532983 1.15178788 1.15823817\n",
      " 1.16466808 1.17105567 1.17737782 1.18361545]\n",
      "29 day output [[1.1897591]]\n",
      "[[0.9861679077148438], [0.9921383857727051], [1.0007752180099487], [1.0099235773086548], [1.0190250873565674], [1.0277270078659058], [1.035791039466858], [1.043169379234314], [1.0499927997589111], [1.0564957857131958], [1.062931776046753], [1.0695006847381592], [1.076308250427246], [1.0833587646484375], [1.0905776023864746], [1.0978509187698364], [1.1050646305084229], [1.112136960029602], [1.1190314292907715], [1.1257562637329102], [1.132348895072937], [1.1388590335845947], [1.1453298330307007], [1.1517878770828247], [1.158238172531128], [1.164668083190918], [1.1710556745529175], [1.1773778200149536], [1.1836154460906982], [1.1897591352462769]]\n"
     ]
    }
   ],
   "source": [
    "# demonstrate prediction for next 10 days\n",
    "from numpy import array\n",
    "\n",
    "lst_output=[]\n",
    "n_steps=100\n",
    "i=0\n",
    "while(i<30):\n",
    "    \n",
    "    if(len(temp_input)>100):\n",
    "        #print(temp_input)\n",
    "        x_input=np.array(temp_input[1:])\n",
    "        print(\"{} day input {}\".format(i,x_input))\n",
    "        x_input=x_input.reshape(1,-1)\n",
    "        x_input = x_input.reshape((1, n_steps, 1))\n",
    "        #print(x_input)\n",
    "        yhat = model.predict(x_input, verbose=0)\n",
    "        print(\"{} day output {}\".format(i,yhat))\n",
    "        temp_input.extend(yhat[0].tolist())\n",
    "        temp_input=temp_input[1:]\n",
    "        #print(temp_input)\n",
    "        lst_output.extend(yhat.tolist())\n",
    "        i=i+1\n",
    "    else:\n",
    "        x_input = x_input.reshape((1, n_steps,1))\n",
    "        yhat = model.predict(x_input, verbose=0)\n",
    "        print(yhat[0])\n",
    "        temp_input.extend(yhat[0].tolist())\n",
    "        print(len(temp_input))\n",
    "        lst_output.extend(yhat.tolist())\n",
    "        i=i+1\n",
    "    \n",
    "\n",
    "print(lst_output)"
   ]
  },
  {
   "cell_type": "code",
   "execution_count": 28,
   "metadata": {},
   "outputs": [],
   "source": [
    "day_new=np.arange(1,101)\n",
    "day_pred=np.arange(101,101+30)"
   ]
  },
  {
   "cell_type": "code",
   "execution_count": 29,
   "metadata": {},
   "outputs": [
    {
     "data": {
      "text/plain": [
       "array([  1,   2,   3,   4,   5,   6,   7,   8,   9,  10,  11,  12,  13,\n",
       "        14,  15,  16,  17,  18,  19,  20,  21,  22,  23,  24,  25,  26,\n",
       "        27,  28,  29,  30,  31,  32,  33,  34,  35,  36,  37,  38,  39,\n",
       "        40,  41,  42,  43,  44,  45,  46,  47,  48,  49,  50,  51,  52,\n",
       "        53,  54,  55,  56,  57,  58,  59,  60,  61,  62,  63,  64,  65,\n",
       "        66,  67,  68,  69,  70,  71,  72,  73,  74,  75,  76,  77,  78,\n",
       "        79,  80,  81,  82,  83,  84,  85,  86,  87,  88,  89,  90,  91,\n",
       "        92,  93,  94,  95,  96,  97,  98,  99, 100])"
      ]
     },
     "execution_count": 29,
     "metadata": {},
     "output_type": "execute_result"
    }
   ],
   "source": [
    "day_new"
   ]
  },
  {
   "cell_type": "code",
   "execution_count": 30,
   "metadata": {},
   "outputs": [],
   "source": [
    "import matplotlib.pyplot as plt"
   ]
  },
  {
   "cell_type": "code",
   "execution_count": 31,
   "metadata": {},
   "outputs": [
    {
     "data": {
      "text/plain": [
       "array([101, 102, 103, 104, 105, 106, 107, 108, 109, 110, 111, 112, 113,\n",
       "       114, 115, 116, 117, 118, 119, 120, 121, 122, 123, 124, 125, 126,\n",
       "       127, 128, 129, 130])"
      ]
     },
     "execution_count": 31,
     "metadata": {},
     "output_type": "execute_result"
    }
   ],
   "source": [
    "day_pred"
   ]
  },
  {
   "cell_type": "code",
   "execution_count": 32,
   "metadata": {},
   "outputs": [
    {
     "data": {
      "text/plain": [
       "1482"
      ]
     },
     "execution_count": 32,
     "metadata": {},
     "output_type": "execute_result"
    }
   ],
   "source": [
    "len(df1)"
   ]
  },
  {
   "cell_type": "code",
   "execution_count": 33,
   "metadata": {},
   "outputs": [
    {
     "data": {
      "text/plain": [
       "array([[3408.00268002],\n",
       "       [3423.77048773],\n",
       "       [3446.58003641],\n",
       "       [3470.74050881],\n",
       "       [3494.77725409],\n",
       "       [3517.75869845],\n",
       "       [3539.05550223],\n",
       "       [3558.5414197 ],\n",
       "       [3576.56181634],\n",
       "       [3593.73595735],\n",
       "       [3610.73316545],\n",
       "       [3628.08140593],\n",
       "       [3646.05993055],\n",
       "       [3664.6800731 ],\n",
       "       [3683.74475171],\n",
       "       [3702.95330638],\n",
       "       [3722.00444742],\n",
       "       [3740.68220335],\n",
       "       [3758.89023703],\n",
       "       [3776.65027155],\n",
       "       [3794.06116265],\n",
       "       [3811.25419329],\n",
       "       [3828.34333095],\n",
       "       [3845.39878209],\n",
       "       [3862.43376946],\n",
       "       [3879.41492137],\n",
       "       [3896.28430961],\n",
       "       [3912.98085769],\n",
       "       [3929.45419325],\n",
       "       [3945.67944495]])"
      ]
     },
     "execution_count": 33,
     "metadata": {},
     "output_type": "execute_result"
    }
   ],
   "source": [
    "scaler.inverse_transform(lst_output)"
   ]
  },
  {
   "cell_type": "code",
   "execution_count": 34,
   "metadata": {},
   "outputs": [
    {
     "data": {
      "text/plain": [
       "[<matplotlib.lines.Line2D at 0x17b9204a2b0>]"
      ]
     },
     "execution_count": 34,
     "metadata": {},
     "output_type": "execute_result"
    },
    {
     "data": {
      "image/png": "[encoded data removed]",
      "text/plain": [
       "<Figure size 432x288 with 1 Axes>"
      ]
     },
     "metadata": {
      "needs_background": "light"
     },
     "output_type": "display_data"
    }
   ],
   "source": [
    "plt.plot(day_new,scaler.inverse_transform(df1[len(df1)-100:]))\n",
    "plt.plot(day_pred,scaler.inverse_transform(lst_output))"
   ]
  },
  {
   "cell_type": "code",
   "execution_count": null,
   "metadata": {},
   "outputs": [],
   "source": []
  }
 ],
 "metadata": {
  "kernelspec": {
   "display_name": "Python 3 (ipykernel)",
   "language": "python",
   "name": "python3"
  },
  "language_info": {
   "codemirror_mode": {
    "name": "ipython",
    "version": 3
   },
   "file_extension": ".py",
   "mimetype": "text/x-python",
   "name": "python",
   "nbconvert_exporter": "python",
   "pygments_lexer": "ipython3",
   "version": "3.9.6"
  }
 },
 "nbformat": 4,
 "nbformat_minor": 1
}
