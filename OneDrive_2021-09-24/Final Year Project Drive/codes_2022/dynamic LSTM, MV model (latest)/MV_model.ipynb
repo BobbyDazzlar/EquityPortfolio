{
 "cells": [
  {
   "cell_type": "code",
   "execution_count": null,
   "metadata": {
    "colab": {
     "base_uri": "https://localhost:8080/"
    },
    "executionInfo": {
     "elapsed": 666,
     "status": "ok",
     "timestamp": 1621600595909,
     "user": {
      "displayName": "Dhiraj Patidar",
      "photoUrl": "",
      "userId": "01911352281812304855"
     },
     "user_tz": -330
    },
    "id": "WdZZwimUW8U7",
    "outputId": "440d9fcb-c679-4e8a-a591-840ccec095eb"
   },
   "outputs": [
    {
     "name": "stdout",
     "output_type": "stream",
     "text": [
      "Drive already mounted at /content/drive; to attempt to forcibly remount, call drive.mount(\"/content/drive\", force_remount=True).\n"
     ]
    }
   ],
   "source": [
    "from google.colab import drive\n",
    "drive.mount('/content/drive')"
   ]
  },
  {
   "cell_type": "code",
   "execution_count": null,
   "metadata": {
    "id": "s-lgOBxeXP22"
   },
   "outputs": [],
   "source": [
    "import pandas as pd\n",
    "import numpy as np"
   ]
  },
  {
   "cell_type": "code",
   "execution_count": null,
   "metadata": {
    "id": "xKidKyP7XbmM"
   },
   "outputs": [],
   "source": [
    "df=pd.read_csv('/content/drive/My Drive/data/n50.csv',parse_dates=['Date'],index_col='Date')\n",
    "df = df.loc[\"2016-01-01\" : ]   #Since 2016-01-01, 5y(1238rows till 2020-12-31), + year 2021's rows\n",
    "tdf=df.copy()                  #deep copy\n",
    "df.reset_index(drop=True, inplace=True)"
   ]
  },
  {
   "cell_type": "code",
   "execution_count": null,
   "metadata": {
    "id": "D09GZZOWgT1l"
   },
   "outputs": [],
   "source": [
    "def number_of_years(y):        #calculates the number of years of the dataset\n",
    "  p=y.index[0]                 #date of first row in the dataset (datetime format)\n",
    "  q=y.index[len(y)-1]          #date of last row in the dataset  (datetime format)\n",
    "  return ((q-p).days+1)/365           #the difference give the number of total days (not trading days) over the total number of years in the dataset"
   ]
  },
  {
   "cell_type": "code",
   "execution_count": null,
   "metadata": {
    "id": "18cZaIsOfe4f"
   },
   "outputs": [],
   "source": [
    "trading_days=len(df)/number_of_years(tdf)                       #Trading days per year (automated)"
   ]
  },
  {
   "cell_type": "code",
   "execution_count": null,
   "metadata": {
    "id": "5Cvf_5eWXveC"
   },
   "outputs": [],
   "source": [
    "returnsh=df.pct_change()                  #Here, returnsh would mean return considered for sharpe ratio\n",
    "returnsh.fillna(0,inplace=True)           #calculating daily returns of the stocks in the portfolio"
   ]
  },
  {
   "cell_type": "code",
   "execution_count": null,
   "metadata": {
    "id": "qxy4cC3uX_i4"
   },
   "outputs": [],
   "source": [
    "returnso=returnsh.copy()                  #this cell considers only NEGATIVE returns so as to calculate sortino ratio\n",
    "for cols in returnso.columns.tolist():\n",
    "    for i in range(0,len(df)):\n",
    "      if returnso[cols][i] > 0:\n",
    "        returnso[cols][i]=0               #Here, returnso would mean return considered for sortino ratio"
   ]
  },
  {
   "cell_type": "code",
   "execution_count": null,
   "metadata": {
    "id": "-QVl69gSZfGk"
   },
   "outputs": [],
   "source": [
    "covmatsh=returnsh.cov()*trading_days      #Annualised covariance matrix calculated wrt returnsh i.e. used to calculate sharpe ratio\n",
    "covmatso=returnso.cov()*trading_days      #Annualised covariance matrix calculated wrt returnso i.e. used to calculate sortino ratio"
   ]
  },
  {
   "cell_type": "code",
   "execution_count": null,
   "metadata": {
    "id": "j3oj3W-riM2U"
   },
   "outputs": [],
   "source": [
    "num_portfolios = 50000                   #initializing number of portfolios to 50000; referred from Wang et al (2020) (science direct)\n",
    "num_assets = len(df.columns)              #initializing number of stocks/assets considered in the portfolio\n",
    "risk_free_rate = 0.0358                   #initializing risk free rate that will be used in calculating both the ratios (absolute value)\n",
    "#referred from url: https://www.rbi.org.in/Scripts/BS_NSDPDisplay.aspx?param=4&Id=24292\n",
    "#In the above url, the 364 (1 year) day treasury bill is 3.58% , when taken absolute value => 0.0358\n",
    "# (improved)"
   ]
  },
  {
   "cell_type": "code",
   "execution_count": null,
   "metadata": {
    "id": "QjDb76cn3ROe"
   },
   "outputs": [],
   "source": [
    "portfolio_returns = []                    #initializing an empty list for portfolio returns\n",
    "portfolio_volatility =[]                  #initializing an empty list for portfolio risk\n",
    "stock_weights =[]                         #initializing an empty list for portfolio weights\n",
    "semi_deviation =[]                        #initializing an empty list for portfolio semi-deviation\n",
    "sharpe =[]                                #initializing an empty list for portfolio sharpe ratio\n",
    "sortino =[]                               #initializing an empty list for portfolio sortino ratio"
   ]
  },
  {
   "cell_type": "code",
   "execution_count": null,
   "metadata": {
    "id": "vNaM1Eiy7C8I"
   },
   "outputs": [],
   "source": [
    "def ratio(a,b,c):                         #function to calculate ratio i.e. \"(returns-(risk_free_rate))/deviation\"\n",
    "  return (a-c)/b                          #a => annual return, c => risk_free_rate, b => deviation (standard for sharpe, semi for sortino)"
   ]
  },
  {
   "cell_type": "code",
   "execution_count": null,
   "metadata": {
    "id": "7a7NcnCu3eSL"
   },
   "outputs": [],
   "source": [
    "for single_portfolio in range(num_portfolios):                  #iterating forloop for 50000 times to generate 50000 portfolios\n",
    "  weights = np.random.random(num_assets)                        #initializing random weights\n",
    "  weights /= np.sum(weights)                                    #No Short Selling Allowed => weights add up to 1   \"x = x+y\" => \"x+=y\"    weights = weights/np.sum(weights)  \n",
    "  returns_temp = np.sum(returnsh.mean()*weights)*trading_days   #calculating annulaised portfolio return\n",
    "  varsh=np.dot(weights.T,np.dot(covmatsh,weights))              #calculating portfolio varience wrt calculating sharpe ratio\n",
    "  varso=np.dot(weights.T,np.dot(covmatso,weights))              #calculating portfolio varience wrt calculating sortino ratio\n",
    "  volatility_temp = np.sqrt(varsh)                              #portfolio risk\n",
    "  semi_temp = np.sqrt(varso)                                    #portfolio semi-deviation\n",
    "  shtemp = ratio(returns_temp,volatility_temp,risk_free_rate)   #calculating sharpe ratio\n",
    "  sotemp = ratio(returns_temp,semi_temp,risk_free_rate)         #calculating sortino ratio\n",
    "  portfolio_returns.append(returns_temp)                       \n",
    "  portfolio_volatility.append(volatility_temp)\n",
    "  stock_weights.append(weights)\n",
    "  sharpe.append(shtemp)\n",
    "  sortino.append(sotemp)\n",
    "  semi_deviation.append(semi_temp)"
   ]
  },
  {
   "cell_type": "code",
   "execution_count": null,
   "metadata": {
    "id": "TYQlju2K4Ntj"
   },
   "outputs": [],
   "source": [
    "portfolio = {'Returns' : portfolio_returns, 'Standard Deviation' : portfolio_volatility, 'Semi-Deviation' : semi_deviation, 'Sharpe Ratio' : sharpe, \n",
    "             'Sortino Ratio' : sortino}    \n",
    "#here, 'portfolio' is a dictionary which will be used to create dataframe where each row will be a portfolio"
   ]
  },
  {
   "cell_type": "code",
   "execution_count": null,
   "metadata": {
    "id": "ldUZ6FpZ4Wav"
   },
   "outputs": [],
   "source": [
    "for counter,symbol in enumerate(df.columns):\n",
    "  portfolio[symbol + \" Weight\"] = [Weight[counter] for Weight in stock_weights] \n",
    "#to the dictionary (named 'portfolio'), weights for each symbol are added in so as to be displayed in the dataframe"
   ]
  },
  {
   "cell_type": "code",
   "execution_count": null,
   "metadata": {
    "id": "upQ50rlk4fIK"
   },
   "outputs": [],
   "source": [
    "pc = pd.DataFrame(portfolio)         #making the final dataframe where data of 50000 portfolios is appended (subject to be saved, whose code is to be written)"
   ]
  },
  {
   "cell_type": "code",
   "execution_count": null,
   "metadata": {
    "id": "uoxqrDxpwJrT"
   },
   "outputs": [],
   "source": [
    "pc=pc*100                                       #Converting everything to percentage\n",
    "pc['Sharpe Ratio']=pc['Sharpe Ratio']/100       #leaving ratios as it is\n",
    "pc['Sortino Ratio']=pc['Sortino Ratio']/100"
   ]
  },
  {
   "cell_type": "code",
   "execution_count": null,
   "metadata": {
    "id": "FEDWneNnv5SX"
   },
   "outputs": [],
   "source": [
    "pc.to_csv('/content/drive/My Drive/experiment/take 14-03-2021/portfolios_by_MV.csv')  #saving the portfolios data"
   ]
  },
  {
   "cell_type": "code",
   "execution_count": null,
   "metadata": {
    "colab": {
     "base_uri": "https://localhost:8080/",
     "height": 117
    },
    "executionInfo": {
     "elapsed": 424,
     "status": "ok",
     "timestamp": 1621600636249,
     "user": {
      "displayName": "Dhiraj Patidar",
      "photoUrl": "",
      "userId": "01911352281812304855"
     },
     "user_tz": -330
    },
    "id": "7ns3vwlIiihQ",
    "outputId": "84b1912f-7c68-4fcc-b132-c73f14566e93"
   },
   "outputs": [
    {
     "data": {
      "text/html": [
       "<div>\n",
       "<style scoped>\n",
       "    .dataframe tbody tr th:only-of-type {\n",
       "        vertical-align: middle;\n",
       "    }\n",
       "\n",
       "    .dataframe tbody tr th {\n",
       "        vertical-align: top;\n",
       "    }\n",
       "\n",
       "    .dataframe thead th {\n",
       "        text-align: right;\n",
       "    }\n",
       "</style>\n",
       "<table border=\"1\" class=\"dataframe\">\n",
       "  <thead>\n",
       "    <tr style=\"text-align: right;\">\n",
       "      <th></th>\n",
       "      <th>Returns</th>\n",
       "      <th>Standard Deviation</th>\n",
       "      <th>Semi-Deviation</th>\n",
       "      <th>Sharpe Ratio</th>\n",
       "      <th>Sortino Ratio</th>\n",
       "      <th>ASIANPAINT Weight</th>\n",
       "      <th>BAJFINANCE Weight</th>\n",
       "      <th>BAJAJFINSV Weight</th>\n",
       "      <th>BRITANNIA Weight</th>\n",
       "      <th>DIVISLAB Weight</th>\n",
       "      <th>HCLTECH Weight</th>\n",
       "      <th>HDFCBANK Weight</th>\n",
       "      <th>HDFCLIFE Weight</th>\n",
       "      <th>HINDALCO Weight</th>\n",
       "      <th>HINDUNILVR Weight</th>\n",
       "      <th>HDFC Weight</th>\n",
       "      <th>ICICIBANK Weight</th>\n",
       "      <th>INFY Weight</th>\n",
       "      <th>JSWSTEEL Weight</th>\n",
       "      <th>KOTAKBANK Weight</th>\n",
       "      <th>NESTLEIND Weight</th>\n",
       "      <th>RELIANCE Weight</th>\n",
       "      <th>SHREECEM Weight</th>\n",
       "      <th>TCS Weight</th>\n",
       "      <th>TATASTEEL Weight</th>\n",
       "      <th>TECHM Weight</th>\n",
       "      <th>TITAN Weight</th>\n",
       "      <th>WIPRO Weight</th>\n",
       "    </tr>\n",
       "  </thead>\n",
       "  <tbody>\n",
       "    <tr>\n",
       "      <th>9182</th>\n",
       "      <td>28.988566</td>\n",
       "      <td>17.11367</td>\n",
       "      <td>10.690721</td>\n",
       "      <td>1.484694</td>\n",
       "      <td>2.376693</td>\n",
       "      <td>1.549459</td>\n",
       "      <td>8.697908</td>\n",
       "      <td>7.309154</td>\n",
       "      <td>7.867606</td>\n",
       "      <td>8.534857</td>\n",
       "      <td>6.696085</td>\n",
       "      <td>0.079932</td>\n",
       "      <td>6.84089</td>\n",
       "      <td>0.402327</td>\n",
       "      <td>1.315497</td>\n",
       "      <td>0.313284</td>\n",
       "      <td>0.305251</td>\n",
       "      <td>3.464734</td>\n",
       "      <td>0.302845</td>\n",
       "      <td>5.582477</td>\n",
       "      <td>9.844509</td>\n",
       "      <td>7.618349</td>\n",
       "      <td>0.224515</td>\n",
       "      <td>2.688051</td>\n",
       "      <td>5.75369</td>\n",
       "      <td>0.867298</td>\n",
       "      <td>7.651331</td>\n",
       "      <td>6.08995</td>\n",
       "    </tr>\n",
       "  </tbody>\n",
       "</table>\n",
       "</div>"
      ],
      "text/plain": [
       "        Returns  Standard Deviation  ...  TITAN Weight  WIPRO Weight\n",
       "9182  28.988566            17.11367  ...      7.651331       6.08995\n",
       "\n",
       "[1 rows x 28 columns]"
      ]
     },
     "execution_count": 34,
     "metadata": {
      "tags": []
     },
     "output_type": "execute_result"
    }
   ],
   "source": [
    "max_sharpe=pc['Sharpe Ratio'].max()                                             #Best optimised portfolio wrt sharpe ratio\n",
    "max_sharpe_portfolio=pc.loc[pc['Sharpe Ratio'] == max_sharpe]\n",
    "max_sharpe_portfolio"
   ]
  },
  {
   "cell_type": "code",
   "execution_count": null,
   "metadata": {
    "colab": {
     "base_uri": "https://localhost:8080/",
     "height": 117
    },
    "executionInfo": {
     "elapsed": 10,
     "status": "ok",
     "timestamp": 1621600636250,
     "user": {
      "displayName": "Dhiraj Patidar",
      "photoUrl": "",
      "userId": "01911352281812304855"
     },
     "user_tz": -330
    },
    "id": "UC-kxQbux5jc",
    "outputId": "88f6ad88-af94-469b-ac2d-20c125254bba"
   },
   "outputs": [
    {
     "data": {
      "text/html": [
       "<div>\n",
       "<style scoped>\n",
       "    .dataframe tbody tr th:only-of-type {\n",
       "        vertical-align: middle;\n",
       "    }\n",
       "\n",
       "    .dataframe tbody tr th {\n",
       "        vertical-align: top;\n",
       "    }\n",
       "\n",
       "    .dataframe thead th {\n",
       "        text-align: right;\n",
       "    }\n",
       "</style>\n",
       "<table border=\"1\" class=\"dataframe\">\n",
       "  <thead>\n",
       "    <tr style=\"text-align: right;\">\n",
       "      <th></th>\n",
       "      <th>Returns</th>\n",
       "      <th>Standard Deviation</th>\n",
       "      <th>Semi-Deviation</th>\n",
       "      <th>Sharpe Ratio</th>\n",
       "      <th>Sortino Ratio</th>\n",
       "      <th>ASIANPAINT Weight</th>\n",
       "      <th>BAJFINANCE Weight</th>\n",
       "      <th>BAJAJFINSV Weight</th>\n",
       "      <th>BRITANNIA Weight</th>\n",
       "      <th>DIVISLAB Weight</th>\n",
       "      <th>HCLTECH Weight</th>\n",
       "      <th>HDFCBANK Weight</th>\n",
       "      <th>HDFCLIFE Weight</th>\n",
       "      <th>HINDALCO Weight</th>\n",
       "      <th>HINDUNILVR Weight</th>\n",
       "      <th>HDFC Weight</th>\n",
       "      <th>ICICIBANK Weight</th>\n",
       "      <th>INFY Weight</th>\n",
       "      <th>JSWSTEEL Weight</th>\n",
       "      <th>KOTAKBANK Weight</th>\n",
       "      <th>NESTLEIND Weight</th>\n",
       "      <th>RELIANCE Weight</th>\n",
       "      <th>SHREECEM Weight</th>\n",
       "      <th>TCS Weight</th>\n",
       "      <th>TATASTEEL Weight</th>\n",
       "      <th>TECHM Weight</th>\n",
       "      <th>TITAN Weight</th>\n",
       "      <th>WIPRO Weight</th>\n",
       "    </tr>\n",
       "  </thead>\n",
       "  <tbody>\n",
       "    <tr>\n",
       "      <th>37580</th>\n",
       "      <td>26.885501</td>\n",
       "      <td>15.734624</td>\n",
       "      <td>9.770734</td>\n",
       "      <td>1.48116</td>\n",
       "      <td>2.385235</td>\n",
       "      <td>9.173832</td>\n",
       "      <td>2.714857</td>\n",
       "      <td>2.375925</td>\n",
       "      <td>4.012207</td>\n",
       "      <td>6.685499</td>\n",
       "      <td>7.913618</td>\n",
       "      <td>0.618354</td>\n",
       "      <td>8.345997</td>\n",
       "      <td>0.775771</td>\n",
       "      <td>5.653637</td>\n",
       "      <td>0.868243</td>\n",
       "      <td>1.878566</td>\n",
       "      <td>3.245976</td>\n",
       "      <td>3.387397</td>\n",
       "      <td>0.649569</td>\n",
       "      <td>9.309904</td>\n",
       "      <td>8.020694</td>\n",
       "      <td>1.515263</td>\n",
       "      <td>9.350998</td>\n",
       "      <td>2.997622</td>\n",
       "      <td>3.98125</td>\n",
       "      <td>6.109733</td>\n",
       "      <td>0.415089</td>\n",
       "    </tr>\n",
       "  </tbody>\n",
       "</table>\n",
       "</div>"
      ],
      "text/plain": [
       "         Returns  Standard Deviation  ...  TITAN Weight  WIPRO Weight\n",
       "37580  26.885501           15.734624  ...      6.109733      0.415089\n",
       "\n",
       "[1 rows x 28 columns]"
      ]
     },
     "execution_count": 35,
     "metadata": {
      "tags": []
     },
     "output_type": "execute_result"
    }
   ],
   "source": [
    "max_sortino=pc['Sortino Ratio'].max()                                            #Best optimised portfolio wrt sortino ratio\n",
    "max_sortino_portfolio=pc.loc[pc['Sortino Ratio'] == max_sortino]\n",
    "max_sortino_portfolio"
   ]
  },
  {
   "cell_type": "code",
   "execution_count": null,
   "metadata": {
    "id": "z98t-uDoHI6_"
   },
   "outputs": [],
   "source": [
    "#code for visualization is to be written"
   ]
  }
 ],
 "metadata": {
  "colab": {
   "collapsed_sections": [],
   "name": "MV_model.ipynb",
   "provenance": []
  },
  "kernelspec": {
   "display_name": "Python 3 (ipykernel)",
   "language": "python",
   "name": "python3"
  },
  "language_info": {
   "codemirror_mode": {
    "name": "ipython",
    "version": 3
   },
   "file_extension": ".py",
   "mimetype": "text/x-python",
   "name": "python",
   "nbconvert_exporter": "python",
   "pygments_lexer": "ipython3",
   "version": "3.9.6"
  }
 },
 "nbformat": 4,
 "nbformat_minor": 1
}
