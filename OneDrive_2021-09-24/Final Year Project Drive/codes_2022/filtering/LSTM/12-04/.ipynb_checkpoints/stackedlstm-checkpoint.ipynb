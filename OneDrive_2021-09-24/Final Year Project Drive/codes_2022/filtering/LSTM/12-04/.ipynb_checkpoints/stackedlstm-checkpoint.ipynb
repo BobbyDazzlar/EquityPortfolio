{
 "cells": [
  {
   "cell_type": "code",
   "execution_count": 2,
   "metadata": {},
   "outputs": [
    {
     "name": "stderr",
     "output_type": "stream",
     "text": [
      "C:\\Users\\dell\\AppData\\Roaming\\Python\\Python39\\site-packages\\pandas_datareader\\tiingo.py:234: FutureWarning: In a future version of pandas all arguments of concat except for the argument 'objs' will be keyword-only\n",
      "  return pd.concat(dfs, self._concat_axis)\n"
     ]
    }
   ],
   "source": [
    "df = pdr.get_data_tiingo('TSLA', api_key=key)"
   ]
  },
  {
   "cell_type": "code",
   "execution_count": null,
   "metadata": {},
   "outputs": [],
   "source": [
    "import pandas as pd\n",
    "df=pd.read_csv('n50.csv')"
   ]
  },
  {
   "cell_type": "code",
   "execution_count": 3,
   "metadata": {},
   "outputs": [],
   "source": []
  },
  {
   "cell_type": "code",
   "execution_count": 4,
   "metadata": {},
   "outputs": [],
   "source": []
  },
  {
   "cell_type": "code",
   "execution_count": 5,
   "metadata": {},
   "outputs": [],
   "source": []
  },
  {
   "cell_type": "code",
   "execution_count": 6,
   "metadata": {},
   "outputs": [
    {
     "data": {
      "text/html": [
       "<div>\n",
       "<style scoped>\n",
       "    .dataframe tbody tr th:only-of-type {\n",
       "        vertical-align: middle;\n",
       "    }\n",
       "\n",
       "    .dataframe tbody tr th {\n",
       "        vertical-align: top;\n",
       "    }\n",
       "\n",
       "    .dataframe thead th {\n",
       "        text-align: right;\n",
       "    }\n",
       "</style>\n",
       "<table border=\"1\" class=\"dataframe\">\n",
       "  <thead>\n",
       "    <tr style=\"text-align: right;\">\n",
       "      <th></th>\n",
       "      <th>symbol</th>\n",
       "      <th>date</th>\n",
       "      <th>close</th>\n",
       "      <th>high</th>\n",
       "      <th>low</th>\n",
       "      <th>open</th>\n",
       "      <th>volume</th>\n",
       "      <th>adjClose</th>\n",
       "      <th>adjHigh</th>\n",
       "      <th>adjLow</th>\n",
       "      <th>adjOpen</th>\n",
       "      <th>adjVolume</th>\n",
       "      <th>divCash</th>\n",
       "      <th>splitFactor</th>\n",
       "    </tr>\n",
       "  </thead>\n",
       "  <tbody>\n",
       "    <tr>\n",
       "      <th>0</th>\n",
       "      <td>TSLA</td>\n",
       "      <td>2017-04-13 00:00:00+00:00</td>\n",
       "      <td>304.00</td>\n",
       "      <td>307.3900</td>\n",
       "      <td>295.30</td>\n",
       "      <td>296.70</td>\n",
       "      <td>9284634</td>\n",
       "      <td>60.800</td>\n",
       "      <td>61.47800</td>\n",
       "      <td>59.060</td>\n",
       "      <td>59.340</td>\n",
       "      <td>46423170</td>\n",
       "      <td>0.0</td>\n",
       "      <td>1.0</td>\n",
       "    </tr>\n",
       "    <tr>\n",
       "      <th>1</th>\n",
       "      <td>TSLA</td>\n",
       "      <td>2017-04-17 00:00:00+00:00</td>\n",
       "      <td>301.44</td>\n",
       "      <td>304.0000</td>\n",
       "      <td>298.68</td>\n",
       "      <td>302.70</td>\n",
       "      <td>4138736</td>\n",
       "      <td>60.288</td>\n",
       "      <td>60.80000</td>\n",
       "      <td>59.736</td>\n",
       "      <td>60.540</td>\n",
       "      <td>20693680</td>\n",
       "      <td>0.0</td>\n",
       "      <td>1.0</td>\n",
       "    </tr>\n",
       "    <tr>\n",
       "      <th>2</th>\n",
       "      <td>TSLA</td>\n",
       "      <td>2017-04-18 00:00:00+00:00</td>\n",
       "      <td>300.25</td>\n",
       "      <td>300.8399</td>\n",
       "      <td>297.90</td>\n",
       "      <td>299.70</td>\n",
       "      <td>3035698</td>\n",
       "      <td>60.050</td>\n",
       "      <td>60.16798</td>\n",
       "      <td>59.580</td>\n",
       "      <td>59.940</td>\n",
       "      <td>15178490</td>\n",
       "      <td>0.0</td>\n",
       "      <td>1.0</td>\n",
       "    </tr>\n",
       "    <tr>\n",
       "      <th>3</th>\n",
       "      <td>TSLA</td>\n",
       "      <td>2017-04-19 00:00:00+00:00</td>\n",
       "      <td>305.52</td>\n",
       "      <td>306.6200</td>\n",
       "      <td>302.11</td>\n",
       "      <td>302.46</td>\n",
       "      <td>3898024</td>\n",
       "      <td>61.104</td>\n",
       "      <td>61.32400</td>\n",
       "      <td>60.422</td>\n",
       "      <td>60.492</td>\n",
       "      <td>19490120</td>\n",
       "      <td>0.0</td>\n",
       "      <td>1.0</td>\n",
       "    </tr>\n",
       "    <tr>\n",
       "      <th>4</th>\n",
       "      <td>TSLA</td>\n",
       "      <td>2017-04-20 00:00:00+00:00</td>\n",
       "      <td>302.51</td>\n",
       "      <td>309.1500</td>\n",
       "      <td>300.23</td>\n",
       "      <td>306.51</td>\n",
       "      <td>6149352</td>\n",
       "      <td>60.502</td>\n",
       "      <td>61.83000</td>\n",
       "      <td>60.046</td>\n",
       "      <td>61.302</td>\n",
       "      <td>30746760</td>\n",
       "      <td>0.0</td>\n",
       "      <td>1.0</td>\n",
       "    </tr>\n",
       "  </tbody>\n",
       "</table>\n",
       "</div>"
      ],
      "text/plain": [
       "  symbol                       date   close      high     low    open  \\\n",
       "0   TSLA  2017-04-13 00:00:00+00:00  304.00  307.3900  295.30  296.70   \n",
       "1   TSLA  2017-04-17 00:00:00+00:00  301.44  304.0000  298.68  302.70   \n",
       "2   TSLA  2017-04-18 00:00:00+00:00  300.25  300.8399  297.90  299.70   \n",
       "3   TSLA  2017-04-19 00:00:00+00:00  305.52  306.6200  302.11  302.46   \n",
       "4   TSLA  2017-04-20 00:00:00+00:00  302.51  309.1500  300.23  306.51   \n",
       "\n",
       "    volume  adjClose   adjHigh  adjLow  adjOpen  adjVolume  divCash  \\\n",
       "0  9284634    60.800  61.47800  59.060   59.340   46423170      0.0   \n",
       "1  4138736    60.288  60.80000  59.736   60.540   20693680      0.0   \n",
       "2  3035698    60.050  60.16798  59.580   59.940   15178490      0.0   \n",
       "3  3898024    61.104  61.32400  60.422   60.492   19490120      0.0   \n",
       "4  6149352    60.502  61.83000  60.046   61.302   30746760      0.0   \n",
       "\n",
       "   splitFactor  \n",
       "0          1.0  \n",
       "1          1.0  \n",
       "2          1.0  \n",
       "3          1.0  \n",
       "4          1.0  "
      ]
     },
     "execution_count": 6,
     "metadata": {},
     "output_type": "execute_result"
    }
   ],
   "source": [
    "df.head()"
   ]
  },
  {
   "cell_type": "code",
   "execution_count": 7,
   "metadata": {},
   "outputs": [],
   "source": [
    "df1=df.reset_index()['close']"
   ]
  },
  {
   "cell_type": "code",
   "execution_count": 8,
   "metadata": {},
   "outputs": [
    {
     "data": {
      "text/plain": [
       "(1258,)"
      ]
     },
     "execution_count": 8,
     "metadata": {},
     "output_type": "execute_result"
    }
   ],
   "source": [
    "df1.shape"
   ]
  },
  {
   "cell_type": "code",
   "execution_count": 9,
   "metadata": {},
   "outputs": [
    {
     "data": {
      "text/plain": [
       "[<matplotlib.lines.Line2D at 0x1a8f5eb0f40>]"
      ]
     },
     "execution_count": 9,
     "metadata": {},
     "output_type": "execute_result"
    },
    {
     "data": {
      "image/png": "[encoded data removed]",
      "text/plain": [
       "<Figure size 432x288 with 1 Axes>"
      ]
     },
     "metadata": {
      "needs_background": "light"
     },
     "output_type": "display_data"
    }
   ],
   "source": [
    "import matplotlib.pyplot as plt\n",
    "plt.plot(df1)"
   ]
  },
  {
   "cell_type": "code",
   "execution_count": 10,
   "metadata": {},
   "outputs": [],
   "source": [
    "import numpy as np"
   ]
  },
  {
   "cell_type": "code",
   "execution_count": 11,
   "metadata": {},
   "outputs": [],
   "source": [
    "from sklearn.preprocessing import MinMaxScaler\n",
    "scaler=MinMaxScaler(feature_range=(0,1))\n",
    "df1=scaler.fit_transform(np.array(df1).reshape(-1,1))"
   ]
  },
  {
   "cell_type": "code",
   "execution_count": 12,
   "metadata": {},
   "outputs": [
    {
     "data": {
      "text/plain": [
       "(1258, 1)"
      ]
     },
     "execution_count": 12,
     "metadata": {},
     "output_type": "execute_result"
    }
   ],
   "source": [
    "df1.shape"
   ]
  },
  {
   "cell_type": "code",
   "execution_count": 13,
   "metadata": {},
   "outputs": [],
   "source": [
    "training_size=int(len(df1)*0.65)\n",
    "test_size=len(df1)-training_size\n",
    "train_data,test_data=df1[0:training_size,:],df1[training_size:len(df1),:1]"
   ]
  },
  {
   "cell_type": "code",
   "execution_count": 14,
   "metadata": {},
   "outputs": [],
   "source": [
    "import numpy\n",
    "# convert an array of values into a dataset matrix\n",
    "def create_dataset(dataset, time_step=1):\n",
    "\tdataX, dataY = [], []\n",
    "\tfor i in range(len(dataset)-time_step-1):\n",
    "\t\ta = dataset[i:(i+time_step), 0]   ###i=0, 0,1,2,3-----99   100 \n",
    "\t\tdataX.append(a)\n",
    "\t\tdataY.append(dataset[i + time_step, 0])\n",
    "\treturn numpy.array(dataX), numpy.array(dataY)"
   ]
  },
  {
   "cell_type": "code",
   "execution_count": 15,
   "metadata": {},
   "outputs": [],
   "source": [
    "# reshape into X=t,t+1,t+2,t+3 and Y=t+4\n",
    "time_step = 100\n",
    "X_train, y_train = create_dataset(train_data, time_step)\n",
    "X_test, ytest = create_dataset(test_data, time_step)"
   ]
  },
  {
   "cell_type": "code",
   "execution_count": 16,
   "metadata": {},
   "outputs": [
    {
     "name": "stdout",
     "output_type": "stream",
     "text": [
      "(716, 100)\n",
      "(716,)\n"
     ]
    },
    {
     "data": {
      "text/plain": [
       "(None, None)"
      ]
     },
     "execution_count": 16,
     "metadata": {},
     "output_type": "execute_result"
    }
   ],
   "source": [
    "print(X_train.shape), print(y_train.shape)"
   ]
  },
  {
   "cell_type": "code",
   "execution_count": 17,
   "metadata": {},
   "outputs": [
    {
     "name": "stdout",
     "output_type": "stream",
     "text": [
      "(340, 100)\n",
      "(340,)\n"
     ]
    },
    {
     "data": {
      "text/plain": [
       "(None, None)"
      ]
     },
     "execution_count": 17,
     "metadata": {},
     "output_type": "execute_result"
    }
   ],
   "source": [
    "print(X_test.shape), print(ytest.shape)"
   ]
  },
  {
   "cell_type": "code",
   "execution_count": 18,
   "metadata": {},
   "outputs": [],
   "source": [
    "# reshape input to be [samples, time steps, features] which is required for LSTM\n",
    "X_train =X_train.reshape(X_train.shape[0],X_train.shape[1] , 1)\n",
    "X_test = X_test.reshape(X_test.shape[0],X_test.shape[1] , 1)"
   ]
  },
  {
   "cell_type": "code",
   "execution_count": 19,
   "metadata": {},
   "outputs": [],
   "source": [
    "### Create the Stacked LSTM model\n",
    "from tensorflow.keras.models import Sequential\n",
    "from tensorflow.keras.layers import Dense\n",
    "from tensorflow.keras.layers import LSTM"
   ]
  },
  {
   "cell_type": "code",
   "execution_count": 20,
   "metadata": {},
   "outputs": [],
   "source": [
    "model=Sequential()\n",
    "model.add(LSTM(50,return_sequences=True,input_shape=(100,1)))\n",
    "model.add(LSTM(50,return_sequences=True))\n",
    "model.add(LSTM(50))\n",
    "model.add(Dense(1))\n",
    "model.compile(loss='mean_squared_error',optimizer='adam')"
   ]
  },
  {
   "cell_type": "code",
   "execution_count": 21,
   "metadata": {},
   "outputs": [
    {
     "name": "stdout",
     "output_type": "stream",
     "text": [
      "Model: \"sequential\"\n",
      "_________________________________________________________________\n",
      "Layer (type)                 Output Shape              Param #   \n",
      "=================================================================\n",
      "lstm (LSTM)                  (None, 100, 50)           10400     \n",
      "_________________________________________________________________\n",
      "lstm_1 (LSTM)                (None, 100, 50)           20200     \n",
      "_________________________________________________________________\n",
      "lstm_2 (LSTM)                (None, 50)                20200     \n",
      "_________________________________________________________________\n",
      "dense (Dense)                (None, 1)                 51        \n",
      "=================================================================\n",
      "Total params: 50,851\n",
      "Trainable params: 50,851\n",
      "Non-trainable params: 0\n",
      "_________________________________________________________________\n"
     ]
    }
   ],
   "source": [
    "model.summary()"
   ]
  },
  {
   "cell_type": "code",
   "execution_count": 22,
   "metadata": {},
   "outputs": [
    {
     "name": "stdout",
     "output_type": "stream",
     "text": [
      "Epoch 1/100\n",
      "12/12 [==============================] - 8s 208ms/step - loss: 0.0085 - val_loss: 0.0081\n",
      "Epoch 2/100\n",
      "12/12 [==============================] - 2s 129ms/step - loss: 0.0021 - val_loss: 0.0026\n",
      "Epoch 3/100\n",
      "12/12 [==============================] - 2s 165ms/step - loss: 0.0013 - val_loss: 0.0022\n",
      "Epoch 4/100\n",
      "12/12 [==============================] - 3s 213ms/step - loss: 0.0011 - val_loss: 0.0061\n",
      "Epoch 5/100\n",
      "12/12 [==============================] - 2s 205ms/step - loss: 0.0012 - val_loss: 0.0034\n",
      "Epoch 6/100\n",
      "12/12 [==============================] - 3s 228ms/step - loss: 0.0010 - val_loss: 0.0018\n",
      "Epoch 7/100\n",
      "12/12 [==============================] - 2s 195ms/step - loss: 9.8441e-04 - val_loss: 0.0020\n",
      "Epoch 8/100\n",
      "12/12 [==============================] - 2s 201ms/step - loss: 7.8253e-04 - val_loss: 0.0022\n",
      "Epoch 9/100\n",
      "12/12 [==============================] - 3s 225ms/step - loss: 7.5432e-04 - val_loss: 0.0015\n",
      "Epoch 10/100\n",
      "12/12 [==============================] - 2s 207ms/step - loss: 7.3901e-04 - val_loss: 0.0019\n",
      "Epoch 11/100\n",
      "12/12 [==============================] - 2s 194ms/step - loss: 6.8421e-04 - val_loss: 0.0026\n",
      "Epoch 12/100\n",
      "12/12 [==============================] - 2s 197ms/step - loss: 7.3979e-04 - val_loss: 0.0048\n",
      "Epoch 13/100\n",
      "12/12 [==============================] - 3s 252ms/step - loss: 7.9352e-04 - val_loss: 0.0034\n",
      "Epoch 14/100\n",
      "12/12 [==============================] - 3s 219ms/step - loss: 7.9067e-04 - val_loss: 0.0023\n",
      "Epoch 15/100\n",
      "12/12 [==============================] - 2s 209ms/step - loss: 6.6727e-04 - val_loss: 0.0017\n",
      "Epoch 16/100\n",
      "12/12 [==============================] - 2s 212ms/step - loss: 5.9323e-04 - val_loss: 0.0023\n",
      "Epoch 17/100\n",
      "12/12 [==============================] - 2s 194ms/step - loss: 4.8690e-04 - val_loss: 0.0025\n",
      "Epoch 18/100\n",
      "12/12 [==============================] - 2s 202ms/step - loss: 5.1370e-04 - val_loss: 0.0044\n",
      "Epoch 19/100\n",
      "12/12 [==============================] - 3s 220ms/step - loss: 4.9212e-04 - val_loss: 0.0022\n",
      "Epoch 20/100\n",
      "12/12 [==============================] - 3s 273ms/step - loss: 4.7987e-04 - val_loss: 0.0028\n",
      "Epoch 21/100\n",
      "12/12 [==============================] - 3s 282ms/step - loss: 6.0733e-04 - val_loss: 0.0015\n",
      "Epoch 22/100\n",
      "12/12 [==============================] - 3s 236ms/step - loss: 5.6529e-04 - val_loss: 0.0020\n",
      "Epoch 23/100\n",
      "12/12 [==============================] - 3s 212ms/step - loss: 4.9220e-04 - val_loss: 0.0020\n",
      "Epoch 24/100\n",
      "12/12 [==============================] - 2s 199ms/step - loss: 4.9006e-04 - val_loss: 0.0022\n",
      "Epoch 25/100\n",
      "12/12 [==============================] - 2s 195ms/step - loss: 4.4721e-04 - val_loss: 0.0017\n",
      "Epoch 26/100\n",
      "12/12 [==============================] - 3s 229ms/step - loss: 3.9949e-04 - val_loss: 0.0029\n",
      "Epoch 27/100\n",
      "12/12 [==============================] - 3s 223ms/step - loss: 4.0115e-04 - val_loss: 0.0023\n",
      "Epoch 28/100\n",
      "12/12 [==============================] - 3s 222ms/step - loss: 3.9067e-04 - val_loss: 0.0029\n",
      "Epoch 29/100\n",
      "12/12 [==============================] - 2s 207ms/step - loss: 4.0573e-04 - val_loss: 0.0020\n",
      "Epoch 30/100\n",
      "12/12 [==============================] - 2s 193ms/step - loss: 4.3270e-04 - val_loss: 0.0020\n",
      "Epoch 31/100\n",
      "12/12 [==============================] - 2s 200ms/step - loss: 4.0297e-04 - val_loss: 0.0016\n",
      "Epoch 32/100\n",
      "12/12 [==============================] - 2s 195ms/step - loss: 4.6566e-04 - val_loss: 0.0015\n",
      "Epoch 33/100\n",
      "12/12 [==============================] - 2s 194ms/step - loss: 4.0478e-04 - val_loss: 0.0032\n",
      "Epoch 34/100\n",
      "12/12 [==============================] - 2s 195ms/step - loss: 3.9841e-04 - val_loss: 0.0029\n",
      "Epoch 35/100\n",
      "12/12 [==============================] - 2s 194ms/step - loss: 4.0602e-04 - val_loss: 0.0015\n",
      "Epoch 36/100\n",
      "12/12 [==============================] - 2s 195ms/step - loss: 3.8336e-04 - val_loss: 0.0043\n",
      "Epoch 37/100\n",
      "12/12 [==============================] - 2s 194ms/step - loss: 3.8046e-04 - val_loss: 0.0076\n",
      "Epoch 38/100\n",
      "12/12 [==============================] - 2s 193ms/step - loss: 3.6608e-04 - val_loss: 0.0052\n",
      "Epoch 39/100\n",
      "12/12 [==============================] - 2s 207ms/step - loss: 3.7711e-04 - val_loss: 0.0044\n",
      "Epoch 40/100\n",
      "12/12 [==============================] - 3s 233ms/step - loss: 3.5027e-04 - val_loss: 0.0034\n",
      "Epoch 41/100\n",
      "12/12 [==============================] - 3s 220ms/step - loss: 3.3910e-04 - val_loss: 0.0082\n",
      "Epoch 42/100\n",
      "12/12 [==============================] - 2s 207ms/step - loss: 3.5123e-04 - val_loss: 0.0025\n",
      "Epoch 43/100\n",
      "12/12 [==============================] - 2s 201ms/step - loss: 3.3669e-04 - val_loss: 0.0027\n",
      "Epoch 44/100\n",
      "12/12 [==============================] - 2s 192ms/step - loss: 3.6240e-04 - val_loss: 0.0038\n",
      "Epoch 45/100\n",
      "12/12 [==============================] - 2s 194ms/step - loss: 3.3555e-04 - val_loss: 0.0030\n",
      "Epoch 46/100\n",
      "12/12 [==============================] - 2s 211ms/step - loss: 3.6513e-04 - val_loss: 0.0034\n",
      "Epoch 47/100\n",
      "12/12 [==============================] - 2s 203ms/step - loss: 3.2946e-04 - val_loss: 0.0037\n",
      "Epoch 48/100\n",
      "12/12 [==============================] - 2s 195ms/step - loss: 3.3446e-04 - val_loss: 0.0021\n",
      "Epoch 49/100\n",
      "12/12 [==============================] - 2s 201ms/step - loss: 3.7982e-04 - val_loss: 0.0013\n",
      "Epoch 50/100\n",
      "12/12 [==============================] - 3s 213ms/step - loss: 3.9448e-04 - val_loss: 0.0029\n",
      "Epoch 51/100\n",
      "12/12 [==============================] - 2s 198ms/step - loss: 3.3034e-04 - val_loss: 0.0026\n",
      "Epoch 52/100\n",
      "12/12 [==============================] - 2s 197ms/step - loss: 3.1960e-04 - val_loss: 0.0061\n",
      "Epoch 53/100\n",
      "12/12 [==============================] - 2s 201ms/step - loss: 3.1948e-04 - val_loss: 0.0096\n",
      "Epoch 54/100\n",
      "12/12 [==============================] - 2s 196ms/step - loss: 3.0575e-04 - val_loss: 0.0054\n",
      "Epoch 55/100\n",
      "12/12 [==============================] - 2s 200ms/step - loss: 2.8493e-04 - val_loss: 0.0037\n",
      "Epoch 56/100\n",
      "12/12 [==============================] - 2s 195ms/step - loss: 2.4940e-04 - val_loss: 0.0233\n",
      "Epoch 57/100\n",
      "12/12 [==============================] - 2s 192ms/step - loss: 3.3378e-04 - val_loss: 0.0061\n",
      "Epoch 58/100\n",
      "12/12 [==============================] - 2s 192ms/step - loss: 3.0007e-04 - val_loss: 0.0072\n",
      "Epoch 59/100\n",
      "12/12 [==============================] - 2s 204ms/step - loss: 3.5073e-04 - val_loss: 0.0115\n",
      "Epoch 60/100\n",
      "12/12 [==============================] - 2s 194ms/step - loss: 3.9668e-04 - val_loss: 7.8104e-04\n",
      "Epoch 61/100\n",
      "12/12 [==============================] - 2s 192ms/step - loss: 4.0547e-04 - val_loss: 7.4846e-04\n",
      "Epoch 62/100\n",
      "12/12 [==============================] - 2s 196ms/step - loss: 3.1056e-04 - val_loss: 7.1653e-04\n",
      "Epoch 63/100\n",
      "12/12 [==============================] - 2s 193ms/step - loss: 3.1875e-04 - val_loss: 6.2058e-04\n",
      "Epoch 64/100\n",
      "12/12 [==============================] - 2s 192ms/step - loss: 3.1953e-04 - val_loss: 9.9441e-04\n",
      "Epoch 65/100\n",
      "12/12 [==============================] - 2s 193ms/step - loss: 3.0468e-04 - val_loss: 8.8423e-04\n",
      "Epoch 66/100\n",
      "12/12 [==============================] - 2s 192ms/step - loss: 3.2343e-04 - val_loss: 0.0013\n",
      "Epoch 67/100\n",
      "12/12 [==============================] - 2s 210ms/step - loss: 2.9167e-04 - val_loss: 9.1284e-04\n",
      "Epoch 68/100\n",
      "12/12 [==============================] - 2s 207ms/step - loss: 2.7157e-04 - val_loss: 9.6976e-04\n",
      "Epoch 69/100\n",
      "12/12 [==============================] - 2s 195ms/step - loss: 2.6447e-04 - val_loss: 0.0012\n",
      "Epoch 70/100\n",
      "12/12 [==============================] - 2s 192ms/step - loss: 2.6286e-04 - val_loss: 0.0014\n",
      "Epoch 71/100\n",
      "12/12 [==============================] - 2s 193ms/step - loss: 2.5392e-04 - val_loss: 0.0018\n",
      "Epoch 72/100\n",
      "12/12 [==============================] - 2s 192ms/step - loss: 2.9037e-04 - val_loss: 8.2244e-04\n",
      "Epoch 73/100\n",
      "12/12 [==============================] - 2s 194ms/step - loss: 3.1693e-04 - val_loss: 8.6457e-04\n",
      "Epoch 74/100\n",
      "12/12 [==============================] - 2s 193ms/step - loss: 2.6371e-04 - val_loss: 0.0013\n",
      "Epoch 75/100\n",
      "12/12 [==============================] - 2s 197ms/step - loss: 2.6375e-04 - val_loss: 0.0022\n",
      "Epoch 76/100\n",
      "12/12 [==============================] - 2s 199ms/step - loss: 2.7969e-04 - val_loss: 0.0018\n",
      "Epoch 77/100\n",
      "12/12 [==============================] - 2s 194ms/step - loss: 2.5945e-04 - val_loss: 0.0012\n",
      "Epoch 78/100\n",
      "12/12 [==============================] - 2s 193ms/step - loss: 2.7404e-04 - val_loss: 0.0012\n",
      "Epoch 79/100\n",
      "12/12 [==============================] - 2s 193ms/step - loss: 2.4696e-04 - val_loss: 0.0027\n",
      "Epoch 80/100\n",
      "12/12 [==============================] - 2s 196ms/step - loss: 2.1332e-04 - val_loss: 0.0037\n",
      "Epoch 81/100\n",
      "12/12 [==============================] - 2s 198ms/step - loss: 2.1989e-04 - val_loss: 0.0031\n",
      "Epoch 82/100\n",
      "12/12 [==============================] - 2s 193ms/step - loss: 2.1724e-04 - val_loss: 0.0040\n",
      "Epoch 83/100\n",
      "12/12 [==============================] - 2s 193ms/step - loss: 1.9625e-04 - val_loss: 0.0061\n",
      "Epoch 84/100\n",
      "12/12 [==============================] - 2s 202ms/step - loss: 2.4775e-04 - val_loss: 9.4368e-04\n",
      "Epoch 85/100\n",
      "12/12 [==============================] - 3s 232ms/step - loss: 2.1785e-04 - val_loss: 9.7250e-04\n",
      "Epoch 86/100\n",
      "12/12 [==============================] - 3s 228ms/step - loss: 2.0782e-04 - val_loss: 0.0020\n",
      "Epoch 87/100\n",
      "12/12 [==============================] - 3s 237ms/step - loss: 1.9910e-04 - val_loss: 0.0024\n",
      "Epoch 88/100\n",
      "12/12 [==============================] - 3s 222ms/step - loss: 2.0070e-04 - val_loss: 0.0017\n",
      "Epoch 89/100\n",
      "12/12 [==============================] - 3s 222ms/step - loss: 1.8581e-04 - val_loss: 0.0024\n",
      "Epoch 90/100\n",
      "12/12 [==============================] - 3s 214ms/step - loss: 1.8282e-04 - val_loss: 0.0012\n",
      "Epoch 91/100\n",
      "12/12 [==============================] - 2s 193ms/step - loss: 2.0668e-04 - val_loss: 0.0023\n",
      "Epoch 92/100\n",
      "12/12 [==============================] - 2s 193ms/step - loss: 2.4957e-04 - val_loss: 6.8847e-04\n",
      "Epoch 93/100\n",
      "12/12 [==============================] - 3s 222ms/step - loss: 2.0370e-04 - val_loss: 0.0012\n",
      "Epoch 94/100\n",
      "12/12 [==============================] - 3s 235ms/step - loss: 1.8538e-04 - val_loss: 0.0017\n",
      "Epoch 95/100\n",
      "12/12 [==============================] - 3s 230ms/step - loss: 1.8983e-04 - val_loss: 0.0026\n",
      "Epoch 96/100\n",
      "12/12 [==============================] - 3s 222ms/step - loss: 1.7266e-04 - val_loss: 0.0019\n",
      "Epoch 97/100\n",
      "12/12 [==============================] - 3s 227ms/step - loss: 1.8068e-04 - val_loss: 0.0012\n",
      "Epoch 98/100\n",
      "12/12 [==============================] - 3s 219ms/step - loss: 1.5391e-04 - val_loss: 0.0026\n",
      "Epoch 99/100\n",
      "12/12 [==============================] - 3s 224ms/step - loss: 1.9903e-04 - val_loss: 0.0013\n",
      "Epoch 100/100\n",
      "12/12 [==============================] - 2s 201ms/step - loss: 1.6469e-04 - val_loss: 0.0016\n"
     ]
    },
    {
     "data": {
      "text/plain": [
       "<keras.callbacks.History at 0x1a88e42e2e0>"
      ]
     },
     "execution_count": 22,
     "metadata": {},
     "output_type": "execute_result"
    }
   ],
   "source": [
    "model.fit(X_train,y_train,validation_data=(X_test,ytest),epochs=100,batch_size=64,verbose=1)\n"
   ]
  },
  {
   "cell_type": "code",
   "execution_count": 23,
   "metadata": {},
   "outputs": [],
   "source": [
    "### Lets Do the prediction and check performance metrics\n",
    "train_predict=model.predict(X_train)\n",
    "test_predict=model.predict(X_test)"
   ]
  },
  {
   "cell_type": "code",
   "execution_count": 24,
   "metadata": {},
   "outputs": [],
   "source": [
    "##Transformback to original form\n",
    "train_predict=scaler.inverse_transform(train_predict)\n",
    "test_predict=scaler.inverse_transform(test_predict)"
   ]
  },
  {
   "cell_type": "code",
   "execution_count": 25,
   "metadata": {},
   "outputs": [
    {
     "data": {
      "text/plain": [
       "431.26298940799876"
      ]
     },
     "execution_count": 25,
     "metadata": {},
     "output_type": "execute_result"
    }
   ],
   "source": [
    "### Calculate RMSE performance metrics\n",
    "import math\n",
    "from sklearn.metrics import mean_squared_error\n",
    "math.sqrt(mean_squared_error(y_train,train_predict))"
   ]
  },
  {
   "cell_type": "code",
   "execution_count": 26,
   "metadata": {},
   "outputs": [
    {
     "data": {
      "text/plain": [
       "873.9395854791032"
      ]
     },
     "execution_count": 26,
     "metadata": {},
     "output_type": "execute_result"
    }
   ],
   "source": [
    "### Test Data RMSE\n",
    "math.sqrt(mean_squared_error(ytest,test_predict))"
   ]
  },
  {
   "cell_type": "code",
   "execution_count": 27,
   "metadata": {},
   "outputs": [
    {
     "data": {
      "image/png": "[encoded data removed]",
      "text/plain": [
       "<Figure size 432x288 with 1 Axes>"
      ]
     },
     "metadata": {
      "needs_background": "light"
     },
     "output_type": "display_data"
    }
   ],
   "source": [
    "### Plotting \n",
    "# shift train predictions for plotting\n",
    "look_back=100\n",
    "trainPredictPlot = numpy.empty_like(df1)\n",
    "trainPredictPlot[:, :] = np.nan\n",
    "trainPredictPlot[look_back:len(train_predict)+look_back, :] = train_predict\n",
    "# shift test predictions for plotting\n",
    "testPredictPlot = numpy.empty_like(df1)\n",
    "testPredictPlot[:, :] = numpy.nan\n",
    "testPredictPlot[len(train_predict)+(look_back*2)+1:len(df1)-1, :] = test_predict\n",
    "# plot baseline and predictions\n",
    "plt.plot(scaler.inverse_transform(df1))\n",
    "plt.plot(trainPredictPlot)\n",
    "plt.plot(testPredictPlot)\n",
    "plt.show()"
   ]
  },
  {
   "cell_type": "code",
   "execution_count": 28,
   "metadata": {},
   "outputs": [
    {
     "data": {
      "text/plain": [
       "(1, 100)"
      ]
     },
     "execution_count": 28,
     "metadata": {},
     "output_type": "execute_result"
    }
   ],
   "source": [
    "x_input=test_data[341:].reshape(1,-1)\n",
    "x_input.shape"
   ]
  },
  {
   "cell_type": "code",
   "execution_count": 29,
   "metadata": {},
   "outputs": [
    {
     "data": {
      "text/plain": [
       "441"
      ]
     },
     "execution_count": 29,
     "metadata": {},
     "output_type": "execute_result"
    }
   ],
   "source": [
    "len(test_data)"
   ]
  },
  {
   "cell_type": "code",
   "execution_count": 30,
   "metadata": {},
   "outputs": [],
   "source": [
    "temp_input=list(x_input)\n",
    "temp_input=temp_input[0].tolist()"
   ]
  },
  {
   "cell_type": "code",
   "execution_count": 31,
   "metadata": {},
   "outputs": [
    {
     "name": "stdout",
     "output_type": "stream",
     "text": [
      "[0.43339375]\n",
      "101\n",
      "1 day input [0.44539223 0.46514191 0.47475944 0.45153366 0.45491752 0.43837206\n",
      " 0.46510792 0.46888017 0.44472225 0.43967317 0.40586859 0.40297508\n",
      " 0.42372486 0.43208013 0.40044568 0.40686869 0.38229325 0.37845789\n",
      " 0.38694424 0.3631213  0.36586432 0.35002282 0.36875783 0.40290711\n",
      " 0.43112857 0.44420763 0.44155201 0.4404451  0.4327501  0.42616687\n",
      " 0.49559176 0.47122508 0.44138209 0.43001194 0.4116896  0.42681743\n",
      " 0.4298663  0.45016944 0.41392285 0.42268592 0.41341308 0.39648895\n",
      " 0.39678995 0.3713649  0.36461661 0.35898494 0.36821408 0.3156308\n",
      " 0.32400548 0.36787909 0.36522347 0.35279981 0.34575052 0.36137354\n",
      " 0.35361543 0.3607327  0.36558759 0.35226092 0.3306324  0.3382837\n",
      " 0.36094146 0.36140753 0.33857014 0.32916622 0.31195565 0.2840449\n",
      " 0.3018769  0.30629485 0.33569605 0.33275398 0.34028877 0.32057793\n",
      " 0.32009244 0.30372661 0.313349   0.33013234 0.32009729 0.29924555\n",
      " 0.28517609 0.30242065 0.32103429 0.33626407 0.35266873 0.36032489\n",
      " 0.39567818 0.39816874 0.40535882 0.40376642 0.44318811 0.44694094\n",
      " 0.44423191 0.43627475 0.43966831 0.46921516 0.44290652 0.42081679\n",
      " 0.42639991 0.41097593 0.38691511 0.43339375]\n",
      "1 day output [[0.44850332]]\n",
      "2 day input [0.46514191 0.47475944 0.45153366 0.45491752 0.43837206 0.46510792\n",
      " 0.46888017 0.44472225 0.43967317 0.40586859 0.40297508 0.42372486\n",
      " 0.43208013 0.40044568 0.40686869 0.38229325 0.37845789 0.38694424\n",
      " 0.3631213  0.36586432 0.35002282 0.36875783 0.40290711 0.43112857\n",
      " 0.44420763 0.44155201 0.4404451  0.4327501  0.42616687 0.49559176\n",
      " 0.47122508 0.44138209 0.43001194 0.4116896  0.42681743 0.4298663\n",
      " 0.45016944 0.41392285 0.42268592 0.41341308 0.39648895 0.39678995\n",
      " 0.3713649  0.36461661 0.35898494 0.36821408 0.3156308  0.32400548\n",
      " 0.36787909 0.36522347 0.35279981 0.34575052 0.36137354 0.35361543\n",
      " 0.3607327  0.36558759 0.35226092 0.3306324  0.3382837  0.36094146\n",
      " 0.36140753 0.33857014 0.32916622 0.31195565 0.2840449  0.3018769\n",
      " 0.30629485 0.33569605 0.33275398 0.34028877 0.32057793 0.32009244\n",
      " 0.30372661 0.313349   0.33013234 0.32009729 0.29924555 0.28517609\n",
      " 0.30242065 0.32103429 0.33626407 0.35266873 0.36032489 0.39567818\n",
      " 0.39816874 0.40535882 0.40376642 0.44318811 0.44694094 0.44423191\n",
      " 0.43627475 0.43966831 0.46921516 0.44290652 0.42081679 0.42639991\n",
      " 0.41097593 0.38691511 0.43339375 0.44850332]\n",
      "2 day output [[0.47752717]]\n",
      "3 day input [0.47475944 0.45153366 0.45491752 0.43837206 0.46510792 0.46888017\n",
      " 0.44472225 0.43967317 0.40586859 0.40297508 0.42372486 0.43208013\n",
      " 0.40044568 0.40686869 0.38229325 0.37845789 0.38694424 0.3631213\n",
      " 0.36586432 0.35002282 0.36875783 0.40290711 0.43112857 0.44420763\n",
      " 0.44155201 0.4404451  0.4327501  0.42616687 0.49559176 0.47122508\n",
      " 0.44138209 0.43001194 0.4116896  0.42681743 0.4298663  0.45016944\n",
      " 0.41392285 0.42268592 0.41341308 0.39648895 0.39678995 0.3713649\n",
      " 0.36461661 0.35898494 0.36821408 0.3156308  0.32400548 0.36787909\n",
      " 0.36522347 0.35279981 0.34575052 0.36137354 0.35361543 0.3607327\n",
      " 0.36558759 0.35226092 0.3306324  0.3382837  0.36094146 0.36140753\n",
      " 0.33857014 0.32916622 0.31195565 0.2840449  0.3018769  0.30629485\n",
      " 0.33569605 0.33275398 0.34028877 0.32057793 0.32009244 0.30372661\n",
      " 0.313349   0.33013234 0.32009729 0.29924555 0.28517609 0.30242065\n",
      " 0.32103429 0.33626407 0.35266873 0.36032489 0.39567818 0.39816874\n",
      " 0.40535882 0.40376642 0.44318811 0.44694094 0.44423191 0.43627475\n",
      " 0.43966831 0.46921516 0.44290652 0.42081679 0.42639991 0.41097593\n",
      " 0.38691511 0.43339375 0.44850332 0.47752717]\n",
      "3 day output [[0.50933075]]\n",
      "4 day input [0.45153366 0.45491752 0.43837206 0.46510792 0.46888017 0.44472225\n",
      " 0.43967317 0.40586859 0.40297508 0.42372486 0.43208013 0.40044568\n",
      " 0.40686869 0.38229325 0.37845789 0.38694424 0.3631213  0.36586432\n",
      " 0.35002282 0.36875783 0.40290711 0.43112857 0.44420763 0.44155201\n",
      " 0.4404451  0.4327501  0.42616687 0.49559176 0.47122508 0.44138209\n",
      " 0.43001194 0.4116896  0.42681743 0.4298663  0.45016944 0.41392285\n",
      " 0.42268592 0.41341308 0.39648895 0.39678995 0.3713649  0.36461661\n",
      " 0.35898494 0.36821408 0.3156308  0.32400548 0.36787909 0.36522347\n",
      " 0.35279981 0.34575052 0.36137354 0.35361543 0.3607327  0.36558759\n",
      " 0.35226092 0.3306324  0.3382837  0.36094146 0.36140753 0.33857014\n",
      " 0.32916622 0.31195565 0.2840449  0.3018769  0.30629485 0.33569605\n",
      " 0.33275398 0.34028877 0.32057793 0.32009244 0.30372661 0.313349\n",
      " 0.33013234 0.32009729 0.29924555 0.28517609 0.30242065 0.32103429\n",
      " 0.33626407 0.35266873 0.36032489 0.39567818 0.39816874 0.40535882\n",
      " 0.40376642 0.44318811 0.44694094 0.44423191 0.43627475 0.43966831\n",
      " 0.46921516 0.44290652 0.42081679 0.42639991 0.41097593 0.38691511\n",
      " 0.43339375 0.44850332 0.47752717 0.50933075]\n",
      "4 day output [[0.5386878]]\n",
      "5 day input [0.45491752 0.43837206 0.46510792 0.46888017 0.44472225 0.43967317\n",
      " 0.40586859 0.40297508 0.42372486 0.43208013 0.40044568 0.40686869\n",
      " 0.38229325 0.37845789 0.38694424 0.3631213  0.36586432 0.35002282\n",
      " 0.36875783 0.40290711 0.43112857 0.44420763 0.44155201 0.4404451\n",
      " 0.4327501  0.42616687 0.49559176 0.47122508 0.44138209 0.43001194\n",
      " 0.4116896  0.42681743 0.4298663  0.45016944 0.41392285 0.42268592\n",
      " 0.41341308 0.39648895 0.39678995 0.3713649  0.36461661 0.35898494\n",
      " 0.36821408 0.3156308  0.32400548 0.36787909 0.36522347 0.35279981\n",
      " 0.34575052 0.36137354 0.35361543 0.3607327  0.36558759 0.35226092\n",
      " 0.3306324  0.3382837  0.36094146 0.36140753 0.33857014 0.32916622\n",
      " 0.31195565 0.2840449  0.3018769  0.30629485 0.33569605 0.33275398\n",
      " 0.34028877 0.32057793 0.32009244 0.30372661 0.313349   0.33013234\n",
      " 0.32009729 0.29924555 0.28517609 0.30242065 0.32103429 0.33626407\n",
      " 0.35266873 0.36032489 0.39567818 0.39816874 0.40535882 0.40376642\n",
      " 0.44318811 0.44694094 0.44423191 0.43627475 0.43966831 0.46921516\n",
      " 0.44290652 0.42081679 0.42639991 0.41097593 0.38691511 0.43339375\n",
      " 0.44850332 0.47752717 0.50933075 0.53868783]\n",
      "5 day output [[0.5633832]]\n",
      "6 day input [0.43837206 0.46510792 0.46888017 0.44472225 0.43967317 0.40586859\n",
      " 0.40297508 0.42372486 0.43208013 0.40044568 0.40686869 0.38229325\n",
      " 0.37845789 0.38694424 0.3631213  0.36586432 0.35002282 0.36875783\n",
      " 0.40290711 0.43112857 0.44420763 0.44155201 0.4404451  0.4327501\n",
      " 0.42616687 0.49559176 0.47122508 0.44138209 0.43001194 0.4116896\n",
      " 0.42681743 0.4298663  0.45016944 0.41392285 0.42268592 0.41341308\n",
      " 0.39648895 0.39678995 0.3713649  0.36461661 0.35898494 0.36821408\n",
      " 0.3156308  0.32400548 0.36787909 0.36522347 0.35279981 0.34575052\n",
      " 0.36137354 0.35361543 0.3607327  0.36558759 0.35226092 0.3306324\n",
      " 0.3382837  0.36094146 0.36140753 0.33857014 0.32916622 0.31195565\n",
      " 0.2840449  0.3018769  0.30629485 0.33569605 0.33275398 0.34028877\n",
      " 0.32057793 0.32009244 0.30372661 0.313349   0.33013234 0.32009729\n",
      " 0.29924555 0.28517609 0.30242065 0.32103429 0.33626407 0.35266873\n",
      " 0.36032489 0.39567818 0.39816874 0.40535882 0.40376642 0.44318811\n",
      " 0.44694094 0.44423191 0.43627475 0.43966831 0.46921516 0.44290652\n",
      " 0.42081679 0.42639991 0.41097593 0.38691511 0.43339375 0.44850332\n",
      " 0.47752717 0.50933075 0.53868783 0.56338322]\n",
      "6 day output [[0.58341587]]\n",
      "7 day input [0.46510792 0.46888017 0.44472225 0.43967317 0.40586859 0.40297508\n",
      " 0.42372486 0.43208013 0.40044568 0.40686869 0.38229325 0.37845789\n",
      " 0.38694424 0.3631213  0.36586432 0.35002282 0.36875783 0.40290711\n",
      " 0.43112857 0.44420763 0.44155201 0.4404451  0.4327501  0.42616687\n",
      " 0.49559176 0.47122508 0.44138209 0.43001194 0.4116896  0.42681743\n",
      " 0.4298663  0.45016944 0.41392285 0.42268592 0.41341308 0.39648895\n",
      " 0.39678995 0.3713649  0.36461661 0.35898494 0.36821408 0.3156308\n",
      " 0.32400548 0.36787909 0.36522347 0.35279981 0.34575052 0.36137354\n",
      " 0.35361543 0.3607327  0.36558759 0.35226092 0.3306324  0.3382837\n",
      " 0.36094146 0.36140753 0.33857014 0.32916622 0.31195565 0.2840449\n",
      " 0.3018769  0.30629485 0.33569605 0.33275398 0.34028877 0.32057793\n",
      " 0.32009244 0.30372661 0.313349   0.33013234 0.32009729 0.29924555\n",
      " 0.28517609 0.30242065 0.32103429 0.33626407 0.35266873 0.36032489\n",
      " 0.39567818 0.39816874 0.40535882 0.40376642 0.44318811 0.44694094\n",
      " 0.44423191 0.43627475 0.43966831 0.46921516 0.44290652 0.42081679\n",
      " 0.42639991 0.41097593 0.38691511 0.43339375 0.44850332 0.47752717\n",
      " 0.50933075 0.53868783 0.56338322 0.58341587]\n",
      "7 day output [[0.6007925]]\n",
      "8 day input [0.46888017 0.44472225 0.43967317 0.40586859 0.40297508 0.42372486\n",
      " 0.43208013 0.40044568 0.40686869 0.38229325 0.37845789 0.38694424\n",
      " 0.3631213  0.36586432 0.35002282 0.36875783 0.40290711 0.43112857\n",
      " 0.44420763 0.44155201 0.4404451  0.4327501  0.42616687 0.49559176\n",
      " 0.47122508 0.44138209 0.43001194 0.4116896  0.42681743 0.4298663\n",
      " 0.45016944 0.41392285 0.42268592 0.41341308 0.39648895 0.39678995\n",
      " 0.3713649  0.36461661 0.35898494 0.36821408 0.3156308  0.32400548\n",
      " 0.36787909 0.36522347 0.35279981 0.34575052 0.36137354 0.35361543\n",
      " 0.3607327  0.36558759 0.35226092 0.3306324  0.3382837  0.36094146\n",
      " 0.36140753 0.33857014 0.32916622 0.31195565 0.2840449  0.3018769\n",
      " 0.30629485 0.33569605 0.33275398 0.34028877 0.32057793 0.32009244\n",
      " 0.30372661 0.313349   0.33013234 0.32009729 0.29924555 0.28517609\n",
      " 0.30242065 0.32103429 0.33626407 0.35266873 0.36032489 0.39567818\n",
      " 0.39816874 0.40535882 0.40376642 0.44318811 0.44694094 0.44423191\n",
      " 0.43627475 0.43966831 0.46921516 0.44290652 0.42081679 0.42639991\n",
      " 0.41097593 0.38691511 0.43339375 0.44850332 0.47752717 0.50933075\n",
      " 0.53868783 0.56338322 0.58341587 0.60079253]\n",
      "8 day output [[0.619029]]\n",
      "9 day input [0.44472225 0.43967317 0.40586859 0.40297508 0.42372486 0.43208013\n",
      " 0.40044568 0.40686869 0.38229325 0.37845789 0.38694424 0.3631213\n",
      " 0.36586432 0.35002282 0.36875783 0.40290711 0.43112857 0.44420763\n",
      " 0.44155201 0.4404451  0.4327501  0.42616687 0.49559176 0.47122508\n",
      " 0.44138209 0.43001194 0.4116896  0.42681743 0.4298663  0.45016944\n",
      " 0.41392285 0.42268592 0.41341308 0.39648895 0.39678995 0.3713649\n",
      " 0.36461661 0.35898494 0.36821408 0.3156308  0.32400548 0.36787909\n",
      " 0.36522347 0.35279981 0.34575052 0.36137354 0.35361543 0.3607327\n",
      " 0.36558759 0.35226092 0.3306324  0.3382837  0.36094146 0.36140753\n",
      " 0.33857014 0.32916622 0.31195565 0.2840449  0.3018769  0.30629485\n",
      " 0.33569605 0.33275398 0.34028877 0.32057793 0.32009244 0.30372661\n",
      " 0.313349   0.33013234 0.32009729 0.29924555 0.28517609 0.30242065\n",
      " 0.32103429 0.33626407 0.35266873 0.36032489 0.39567818 0.39816874\n",
      " 0.40535882 0.40376642 0.44318811 0.44694094 0.44423191 0.43627475\n",
      " 0.43966831 0.46921516 0.44290652 0.42081679 0.42639991 0.41097593\n",
      " 0.38691511 0.43339375 0.44850332 0.47752717 0.50933075 0.53868783\n",
      " 0.56338322 0.58341587 0.60079253 0.61902899]\n",
      "9 day output [[0.6422883]]\n",
      "10 day input [0.43967317 0.40586859 0.40297508 0.42372486 0.43208013 0.40044568\n",
      " 0.40686869 0.38229325 0.37845789 0.38694424 0.3631213  0.36586432\n",
      " 0.35002282 0.36875783 0.40290711 0.43112857 0.44420763 0.44155201\n",
      " 0.4404451  0.4327501  0.42616687 0.49559176 0.47122508 0.44138209\n",
      " 0.43001194 0.4116896  0.42681743 0.4298663  0.45016944 0.41392285\n",
      " 0.42268592 0.41341308 0.39648895 0.39678995 0.3713649  0.36461661\n",
      " 0.35898494 0.36821408 0.3156308  0.32400548 0.36787909 0.36522347\n",
      " 0.35279981 0.34575052 0.36137354 0.35361543 0.3607327  0.36558759\n",
      " 0.35226092 0.3306324  0.3382837  0.36094146 0.36140753 0.33857014\n",
      " 0.32916622 0.31195565 0.2840449  0.3018769  0.30629485 0.33569605\n",
      " 0.33275398 0.34028877 0.32057793 0.32009244 0.30372661 0.313349\n",
      " 0.33013234 0.32009729 0.29924555 0.28517609 0.30242065 0.32103429\n",
      " 0.33626407 0.35266873 0.36032489 0.39567818 0.39816874 0.40535882\n",
      " 0.40376642 0.44318811 0.44694094 0.44423191 0.43627475 0.43966831\n",
      " 0.46921516 0.44290652 0.42081679 0.42639991 0.41097593 0.38691511\n",
      " 0.43339375 0.44850332 0.47752717 0.50933075 0.53868783 0.56338322\n",
      " 0.58341587 0.60079253 0.61902899 0.64228833]\n",
      "10 day output [[0.6744292]]\n",
      "11 day input [0.40586859 0.40297508 0.42372486 0.43208013 0.40044568 0.40686869\n",
      " 0.38229325 0.37845789 0.38694424 0.3631213  0.36586432 0.35002282\n",
      " 0.36875783 0.40290711 0.43112857 0.44420763 0.44155201 0.4404451\n",
      " 0.4327501  0.42616687 0.49559176 0.47122508 0.44138209 0.43001194\n",
      " 0.4116896  0.42681743 0.4298663  0.45016944 0.41392285 0.42268592\n",
      " 0.41341308 0.39648895 0.39678995 0.3713649  0.36461661 0.35898494\n",
      " 0.36821408 0.3156308  0.32400548 0.36787909 0.36522347 0.35279981\n",
      " 0.34575052 0.36137354 0.35361543 0.3607327  0.36558759 0.35226092\n",
      " 0.3306324  0.3382837  0.36094146 0.36140753 0.33857014 0.32916622\n",
      " 0.31195565 0.2840449  0.3018769  0.30629485 0.33569605 0.33275398\n",
      " 0.34028877 0.32057793 0.32009244 0.30372661 0.313349   0.33013234\n",
      " 0.32009729 0.29924555 0.28517609 0.30242065 0.32103429 0.33626407\n",
      " 0.35266873 0.36032489 0.39567818 0.39816874 0.40535882 0.40376642\n",
      " 0.44318811 0.44694094 0.44423191 0.43627475 0.43966831 0.46921516\n",
      " 0.44290652 0.42081679 0.42639991 0.41097593 0.38691511 0.43339375\n",
      " 0.44850332 0.47752717 0.50933075 0.53868783 0.56338322 0.58341587\n",
      " 0.60079253 0.61902899 0.64228833 0.67442918]\n",
      "11 day output [[0.7182647]]\n",
      "12 day input [0.40297508 0.42372486 0.43208013 0.40044568 0.40686869 0.38229325\n",
      " 0.37845789 0.38694424 0.3631213  0.36586432 0.35002282 0.36875783\n",
      " 0.40290711 0.43112857 0.44420763 0.44155201 0.4404451  0.4327501\n",
      " 0.42616687 0.49559176 0.47122508 0.44138209 0.43001194 0.4116896\n",
      " 0.42681743 0.4298663  0.45016944 0.41392285 0.42268592 0.41341308\n",
      " 0.39648895 0.39678995 0.3713649  0.36461661 0.35898494 0.36821408\n",
      " 0.3156308  0.32400548 0.36787909 0.36522347 0.35279981 0.34575052\n",
      " 0.36137354 0.35361543 0.3607327  0.36558759 0.35226092 0.3306324\n",
      " 0.3382837  0.36094146 0.36140753 0.33857014 0.32916622 0.31195565\n",
      " 0.2840449  0.3018769  0.30629485 0.33569605 0.33275398 0.34028877\n",
      " 0.32057793 0.32009244 0.30372661 0.313349   0.33013234 0.32009729\n",
      " 0.29924555 0.28517609 0.30242065 0.32103429 0.33626407 0.35266873\n",
      " 0.36032489 0.39567818 0.39816874 0.40535882 0.40376642 0.44318811\n",
      " 0.44694094 0.44423191 0.43627475 0.43966831 0.46921516 0.44290652\n",
      " 0.42081679 0.42639991 0.41097593 0.38691511 0.43339375 0.44850332\n",
      " 0.47752717 0.50933075 0.53868783 0.56338322 0.58341587 0.60079253\n",
      " 0.61902899 0.64228833 0.67442918 0.7182647 ]\n"
     ]
    },
    {
     "name": "stdout",
     "output_type": "stream",
     "text": [
      "12 day output [[0.7751783]]\n",
      "13 day input [0.42372486 0.43208013 0.40044568 0.40686869 0.38229325 0.37845789\n",
      " 0.38694424 0.3631213  0.36586432 0.35002282 0.36875783 0.40290711\n",
      " 0.43112857 0.44420763 0.44155201 0.4404451  0.4327501  0.42616687\n",
      " 0.49559176 0.47122508 0.44138209 0.43001194 0.4116896  0.42681743\n",
      " 0.4298663  0.45016944 0.41392285 0.42268592 0.41341308 0.39648895\n",
      " 0.39678995 0.3713649  0.36461661 0.35898494 0.36821408 0.3156308\n",
      " 0.32400548 0.36787909 0.36522347 0.35279981 0.34575052 0.36137354\n",
      " 0.35361543 0.3607327  0.36558759 0.35226092 0.3306324  0.3382837\n",
      " 0.36094146 0.36140753 0.33857014 0.32916622 0.31195565 0.2840449\n",
      " 0.3018769  0.30629485 0.33569605 0.33275398 0.34028877 0.32057793\n",
      " 0.32009244 0.30372661 0.313349   0.33013234 0.32009729 0.29924555\n",
      " 0.28517609 0.30242065 0.32103429 0.33626407 0.35266873 0.36032489\n",
      " 0.39567818 0.39816874 0.40535882 0.40376642 0.44318811 0.44694094\n",
      " 0.44423191 0.43627475 0.43966831 0.46921516 0.44290652 0.42081679\n",
      " 0.42639991 0.41097593 0.38691511 0.43339375 0.44850332 0.47752717\n",
      " 0.50933075 0.53868783 0.56338322 0.58341587 0.60079253 0.61902899\n",
      " 0.64228833 0.67442918 0.7182647  0.77517831]\n",
      "13 day output [[0.8451028]]\n",
      "14 day input [0.43208013 0.40044568 0.40686869 0.38229325 0.37845789 0.38694424\n",
      " 0.3631213  0.36586432 0.35002282 0.36875783 0.40290711 0.43112857\n",
      " 0.44420763 0.44155201 0.4404451  0.4327501  0.42616687 0.49559176\n",
      " 0.47122508 0.44138209 0.43001194 0.4116896  0.42681743 0.4298663\n",
      " 0.45016944 0.41392285 0.42268592 0.41341308 0.39648895 0.39678995\n",
      " 0.3713649  0.36461661 0.35898494 0.36821408 0.3156308  0.32400548\n",
      " 0.36787909 0.36522347 0.35279981 0.34575052 0.36137354 0.35361543\n",
      " 0.3607327  0.36558759 0.35226092 0.3306324  0.3382837  0.36094146\n",
      " 0.36140753 0.33857014 0.32916622 0.31195565 0.2840449  0.3018769\n",
      " 0.30629485 0.33569605 0.33275398 0.34028877 0.32057793 0.32009244\n",
      " 0.30372661 0.313349   0.33013234 0.32009729 0.29924555 0.28517609\n",
      " 0.30242065 0.32103429 0.33626407 0.35266873 0.36032489 0.39567818\n",
      " 0.39816874 0.40535882 0.40376642 0.44318811 0.44694094 0.44423191\n",
      " 0.43627475 0.43966831 0.46921516 0.44290652 0.42081679 0.42639991\n",
      " 0.41097593 0.38691511 0.43339375 0.44850332 0.47752717 0.50933075\n",
      " 0.53868783 0.56338322 0.58341587 0.60079253 0.61902899 0.64228833\n",
      " 0.67442918 0.7182647  0.77517831 0.84510279]\n",
      "14 day output [[0.92681766]]\n",
      "15 day input [0.40044568 0.40686869 0.38229325 0.37845789 0.38694424 0.3631213\n",
      " 0.36586432 0.35002282 0.36875783 0.40290711 0.43112857 0.44420763\n",
      " 0.44155201 0.4404451  0.4327501  0.42616687 0.49559176 0.47122508\n",
      " 0.44138209 0.43001194 0.4116896  0.42681743 0.4298663  0.45016944\n",
      " 0.41392285 0.42268592 0.41341308 0.39648895 0.39678995 0.3713649\n",
      " 0.36461661 0.35898494 0.36821408 0.3156308  0.32400548 0.36787909\n",
      " 0.36522347 0.35279981 0.34575052 0.36137354 0.35361543 0.3607327\n",
      " 0.36558759 0.35226092 0.3306324  0.3382837  0.36094146 0.36140753\n",
      " 0.33857014 0.32916622 0.31195565 0.2840449  0.3018769  0.30629485\n",
      " 0.33569605 0.33275398 0.34028877 0.32057793 0.32009244 0.30372661\n",
      " 0.313349   0.33013234 0.32009729 0.29924555 0.28517609 0.30242065\n",
      " 0.32103429 0.33626407 0.35266873 0.36032489 0.39567818 0.39816874\n",
      " 0.40535882 0.40376642 0.44318811 0.44694094 0.44423191 0.43627475\n",
      " 0.43966831 0.46921516 0.44290652 0.42081679 0.42639991 0.41097593\n",
      " 0.38691511 0.43339375 0.44850332 0.47752717 0.50933075 0.53868783\n",
      " 0.56338322 0.58341587 0.60079253 0.61902899 0.64228833 0.67442918\n",
      " 0.7182647  0.77517831 0.84510279 0.92681766]\n",
      "15 day output [[1.018531]]\n",
      "16 day input [0.40686869 0.38229325 0.37845789 0.38694424 0.3631213  0.36586432\n",
      " 0.35002282 0.36875783 0.40290711 0.43112857 0.44420763 0.44155201\n",
      " 0.4404451  0.4327501  0.42616687 0.49559176 0.47122508 0.44138209\n",
      " 0.43001194 0.4116896  0.42681743 0.4298663  0.45016944 0.41392285\n",
      " 0.42268592 0.41341308 0.39648895 0.39678995 0.3713649  0.36461661\n",
      " 0.35898494 0.36821408 0.3156308  0.32400548 0.36787909 0.36522347\n",
      " 0.35279981 0.34575052 0.36137354 0.35361543 0.3607327  0.36558759\n",
      " 0.35226092 0.3306324  0.3382837  0.36094146 0.36140753 0.33857014\n",
      " 0.32916622 0.31195565 0.2840449  0.3018769  0.30629485 0.33569605\n",
      " 0.33275398 0.34028877 0.32057793 0.32009244 0.30372661 0.313349\n",
      " 0.33013234 0.32009729 0.29924555 0.28517609 0.30242065 0.32103429\n",
      " 0.33626407 0.35266873 0.36032489 0.39567818 0.39816874 0.40535882\n",
      " 0.40376642 0.44318811 0.44694094 0.44423191 0.43627475 0.43966831\n",
      " 0.46921516 0.44290652 0.42081679 0.42639991 0.41097593 0.38691511\n",
      " 0.43339375 0.44850332 0.47752717 0.50933075 0.53868783 0.56338322\n",
      " 0.58341587 0.60079253 0.61902899 0.64228833 0.67442918 0.7182647\n",
      " 0.77517831 0.84510279 0.92681766 1.01853096]\n",
      "16 day output [[1.1187321]]\n",
      "17 day input [0.38229325 0.37845789 0.38694424 0.3631213  0.36586432 0.35002282\n",
      " 0.36875783 0.40290711 0.43112857 0.44420763 0.44155201 0.4404451\n",
      " 0.4327501  0.42616687 0.49559176 0.47122508 0.44138209 0.43001194\n",
      " 0.4116896  0.42681743 0.4298663  0.45016944 0.41392285 0.42268592\n",
      " 0.41341308 0.39648895 0.39678995 0.3713649  0.36461661 0.35898494\n",
      " 0.36821408 0.3156308  0.32400548 0.36787909 0.36522347 0.35279981\n",
      " 0.34575052 0.36137354 0.35361543 0.3607327  0.36558759 0.35226092\n",
      " 0.3306324  0.3382837  0.36094146 0.36140753 0.33857014 0.32916622\n",
      " 0.31195565 0.2840449  0.3018769  0.30629485 0.33569605 0.33275398\n",
      " 0.34028877 0.32057793 0.32009244 0.30372661 0.313349   0.33013234\n",
      " 0.32009729 0.29924555 0.28517609 0.30242065 0.32103429 0.33626407\n",
      " 0.35266873 0.36032489 0.39567818 0.39816874 0.40535882 0.40376642\n",
      " 0.44318811 0.44694094 0.44423191 0.43627475 0.43966831 0.46921516\n",
      " 0.44290652 0.42081679 0.42639991 0.41097593 0.38691511 0.43339375\n",
      " 0.44850332 0.47752717 0.50933075 0.53868783 0.56338322 0.58341587\n",
      " 0.60079253 0.61902899 0.64228833 0.67442918 0.7182647  0.77517831\n",
      " 0.84510279 0.92681766 1.01853096 1.11873209]\n",
      "17 day output [[1.2272398]]\n",
      "18 day input [0.37845789 0.38694424 0.3631213  0.36586432 0.35002282 0.36875783\n",
      " 0.40290711 0.43112857 0.44420763 0.44155201 0.4404451  0.4327501\n",
      " 0.42616687 0.49559176 0.47122508 0.44138209 0.43001194 0.4116896\n",
      " 0.42681743 0.4298663  0.45016944 0.41392285 0.42268592 0.41341308\n",
      " 0.39648895 0.39678995 0.3713649  0.36461661 0.35898494 0.36821408\n",
      " 0.3156308  0.32400548 0.36787909 0.36522347 0.35279981 0.34575052\n",
      " 0.36137354 0.35361543 0.3607327  0.36558759 0.35226092 0.3306324\n",
      " 0.3382837  0.36094146 0.36140753 0.33857014 0.32916622 0.31195565\n",
      " 0.2840449  0.3018769  0.30629485 0.33569605 0.33275398 0.34028877\n",
      " 0.32057793 0.32009244 0.30372661 0.313349   0.33013234 0.32009729\n",
      " 0.29924555 0.28517609 0.30242065 0.32103429 0.33626407 0.35266873\n",
      " 0.36032489 0.39567818 0.39816874 0.40535882 0.40376642 0.44318811\n",
      " 0.44694094 0.44423191 0.43627475 0.43966831 0.46921516 0.44290652\n",
      " 0.42081679 0.42639991 0.41097593 0.38691511 0.43339375 0.44850332\n",
      " 0.47752717 0.50933075 0.53868783 0.56338322 0.58341587 0.60079253\n",
      " 0.61902899 0.64228833 0.67442918 0.7182647  0.77517831 0.84510279\n",
      " 0.92681766 1.01853096 1.11873209 1.22723985]\n",
      "18 day output [[1.3462359]]\n",
      "19 day input [0.38694424 0.3631213  0.36586432 0.35002282 0.36875783 0.40290711\n",
      " 0.43112857 0.44420763 0.44155201 0.4404451  0.4327501  0.42616687\n",
      " 0.49559176 0.47122508 0.44138209 0.43001194 0.4116896  0.42681743\n",
      " 0.4298663  0.45016944 0.41392285 0.42268592 0.41341308 0.39648895\n",
      " 0.39678995 0.3713649  0.36461661 0.35898494 0.36821408 0.3156308\n",
      " 0.32400548 0.36787909 0.36522347 0.35279981 0.34575052 0.36137354\n",
      " 0.35361543 0.3607327  0.36558759 0.35226092 0.3306324  0.3382837\n",
      " 0.36094146 0.36140753 0.33857014 0.32916622 0.31195565 0.2840449\n",
      " 0.3018769  0.30629485 0.33569605 0.33275398 0.34028877 0.32057793\n",
      " 0.32009244 0.30372661 0.313349   0.33013234 0.32009729 0.29924555\n",
      " 0.28517609 0.30242065 0.32103429 0.33626407 0.35266873 0.36032489\n",
      " 0.39567818 0.39816874 0.40535882 0.40376642 0.44318811 0.44694094\n",
      " 0.44423191 0.43627475 0.43966831 0.46921516 0.44290652 0.42081679\n",
      " 0.42639991 0.41097593 0.38691511 0.43339375 0.44850332 0.47752717\n",
      " 0.50933075 0.53868783 0.56338322 0.58341587 0.60079253 0.61902899\n",
      " 0.64228833 0.67442918 0.7182647  0.77517831 0.84510279 0.92681766\n",
      " 1.01853096 1.11873209 1.22723985 1.34623587]\n",
      "19 day output [[1.4808471]]\n",
      "20 day input [0.3631213  0.36586432 0.35002282 0.36875783 0.40290711 0.43112857\n",
      " 0.44420763 0.44155201 0.4404451  0.4327501  0.42616687 0.49559176\n",
      " 0.47122508 0.44138209 0.43001194 0.4116896  0.42681743 0.4298663\n",
      " 0.45016944 0.41392285 0.42268592 0.41341308 0.39648895 0.39678995\n",
      " 0.3713649  0.36461661 0.35898494 0.36821408 0.3156308  0.32400548\n",
      " 0.36787909 0.36522347 0.35279981 0.34575052 0.36137354 0.35361543\n",
      " 0.3607327  0.36558759 0.35226092 0.3306324  0.3382837  0.36094146\n",
      " 0.36140753 0.33857014 0.32916622 0.31195565 0.2840449  0.3018769\n",
      " 0.30629485 0.33569605 0.33275398 0.34028877 0.32057793 0.32009244\n",
      " 0.30372661 0.313349   0.33013234 0.32009729 0.29924555 0.28517609\n",
      " 0.30242065 0.32103429 0.33626407 0.35266873 0.36032489 0.39567818\n",
      " 0.39816874 0.40535882 0.40376642 0.44318811 0.44694094 0.44423191\n",
      " 0.43627475 0.43966831 0.46921516 0.44290652 0.42081679 0.42639991\n",
      " 0.41097593 0.38691511 0.43339375 0.44850332 0.47752717 0.50933075\n",
      " 0.53868783 0.56338322 0.58341587 0.60079253 0.61902899 0.64228833\n",
      " 0.67442918 0.7182647  0.77517831 0.84510279 0.92681766 1.01853096\n",
      " 1.11873209 1.22723985 1.34623587 1.48084712]\n",
      "20 day output [[1.6385952]]\n",
      "21 day input [0.36586432 0.35002282 0.36875783 0.40290711 0.43112857 0.44420763\n",
      " 0.44155201 0.4404451  0.4327501  0.42616687 0.49559176 0.47122508\n",
      " 0.44138209 0.43001194 0.4116896  0.42681743 0.4298663  0.45016944\n",
      " 0.41392285 0.42268592 0.41341308 0.39648895 0.39678995 0.3713649\n",
      " 0.36461661 0.35898494 0.36821408 0.3156308  0.32400548 0.36787909\n",
      " 0.36522347 0.35279981 0.34575052 0.36137354 0.35361543 0.3607327\n",
      " 0.36558759 0.35226092 0.3306324  0.3382837  0.36094146 0.36140753\n",
      " 0.33857014 0.32916622 0.31195565 0.2840449  0.3018769  0.30629485\n",
      " 0.33569605 0.33275398 0.34028877 0.32057793 0.32009244 0.30372661\n",
      " 0.313349   0.33013234 0.32009729 0.29924555 0.28517609 0.30242065\n",
      " 0.32103429 0.33626407 0.35266873 0.36032489 0.39567818 0.39816874\n",
      " 0.40535882 0.40376642 0.44318811 0.44694094 0.44423191 0.43627475\n",
      " 0.43966831 0.46921516 0.44290652 0.42081679 0.42639991 0.41097593\n",
      " 0.38691511 0.43339375 0.44850332 0.47752717 0.50933075 0.53868783\n",
      " 0.56338322 0.58341587 0.60079253 0.61902899 0.64228833 0.67442918\n",
      " 0.7182647  0.77517831 0.84510279 0.92681766 1.01853096 1.11873209\n",
      " 1.22723985 1.34623587 1.48084712 1.63859522]\n",
      "21 day output [[1.8269277]]\n",
      "22 day input [0.35002282 0.36875783 0.40290711 0.43112857 0.44420763 0.44155201\n",
      " 0.4404451  0.4327501  0.42616687 0.49559176 0.47122508 0.44138209\n",
      " 0.43001194 0.4116896  0.42681743 0.4298663  0.45016944 0.41392285\n",
      " 0.42268592 0.41341308 0.39648895 0.39678995 0.3713649  0.36461661\n",
      " 0.35898494 0.36821408 0.3156308  0.32400548 0.36787909 0.36522347\n",
      " 0.35279981 0.34575052 0.36137354 0.35361543 0.3607327  0.36558759\n",
      " 0.35226092 0.3306324  0.3382837  0.36094146 0.36140753 0.33857014\n",
      " 0.32916622 0.31195565 0.2840449  0.3018769  0.30629485 0.33569605\n",
      " 0.33275398 0.34028877 0.32057793 0.32009244 0.30372661 0.313349\n",
      " 0.33013234 0.32009729 0.29924555 0.28517609 0.30242065 0.32103429\n",
      " 0.33626407 0.35266873 0.36032489 0.39567818 0.39816874 0.40535882\n",
      " 0.40376642 0.44318811 0.44694094 0.44423191 0.43627475 0.43966831\n",
      " 0.46921516 0.44290652 0.42081679 0.42639991 0.41097593 0.38691511\n",
      " 0.43339375 0.44850332 0.47752717 0.50933075 0.53868783 0.56338322\n",
      " 0.58341587 0.60079253 0.61902899 0.64228833 0.67442918 0.7182647\n",
      " 0.77517831 0.84510279 0.92681766 1.01853096 1.11873209 1.22723985\n",
      " 1.34623587 1.48084712 1.63859522 1.82692766]\n",
      "22 day output [[2.048438]]\n",
      "23 day input [0.36875783 0.40290711 0.43112857 0.44420763 0.44155201 0.4404451\n",
      " 0.4327501  0.42616687 0.49559176 0.47122508 0.44138209 0.43001194\n",
      " 0.4116896  0.42681743 0.4298663  0.45016944 0.41392285 0.42268592\n",
      " 0.41341308 0.39648895 0.39678995 0.3713649  0.36461661 0.35898494\n",
      " 0.36821408 0.3156308  0.32400548 0.36787909 0.36522347 0.35279981\n",
      " 0.34575052 0.36137354 0.35361543 0.3607327  0.36558759 0.35226092\n",
      " 0.3306324  0.3382837  0.36094146 0.36140753 0.33857014 0.32916622\n",
      " 0.31195565 0.2840449  0.3018769  0.30629485 0.33569605 0.33275398\n",
      " 0.34028877 0.32057793 0.32009244 0.30372661 0.313349   0.33013234\n",
      " 0.32009729 0.29924555 0.28517609 0.30242065 0.32103429 0.33626407\n",
      " 0.35266873 0.36032489 0.39567818 0.39816874 0.40535882 0.40376642\n",
      " 0.44318811 0.44694094 0.44423191 0.43627475 0.43966831 0.46921516\n",
      " 0.44290652 0.42081679 0.42639991 0.41097593 0.38691511 0.43339375\n",
      " 0.44850332 0.47752717 0.50933075 0.53868783 0.56338322 0.58341587\n",
      " 0.60079253 0.61902899 0.64228833 0.67442918 0.7182647  0.77517831\n",
      " 0.84510279 0.92681766 1.01853096 1.11873209 1.22723985 1.34623587\n",
      " 1.48084712 1.63859522 1.82692766 2.04843807]\n"
     ]
    },
    {
     "name": "stdout",
     "output_type": "stream",
     "text": [
      "23 day output [[2.2952645]]\n",
      "24 day input [0.40290711 0.43112857 0.44420763 0.44155201 0.4404451  0.4327501\n",
      " 0.42616687 0.49559176 0.47122508 0.44138209 0.43001194 0.4116896\n",
      " 0.42681743 0.4298663  0.45016944 0.41392285 0.42268592 0.41341308\n",
      " 0.39648895 0.39678995 0.3713649  0.36461661 0.35898494 0.36821408\n",
      " 0.3156308  0.32400548 0.36787909 0.36522347 0.35279981 0.34575052\n",
      " 0.36137354 0.35361543 0.3607327  0.36558759 0.35226092 0.3306324\n",
      " 0.3382837  0.36094146 0.36140753 0.33857014 0.32916622 0.31195565\n",
      " 0.2840449  0.3018769  0.30629485 0.33569605 0.33275398 0.34028877\n",
      " 0.32057793 0.32009244 0.30372661 0.313349   0.33013234 0.32009729\n",
      " 0.29924555 0.28517609 0.30242065 0.32103429 0.33626407 0.35266873\n",
      " 0.36032489 0.39567818 0.39816874 0.40535882 0.40376642 0.44318811\n",
      " 0.44694094 0.44423191 0.43627475 0.43966831 0.46921516 0.44290652\n",
      " 0.42081679 0.42639991 0.41097593 0.38691511 0.43339375 0.44850332\n",
      " 0.47752717 0.50933075 0.53868783 0.56338322 0.58341587 0.60079253\n",
      " 0.61902899 0.64228833 0.67442918 0.7182647  0.77517831 0.84510279\n",
      " 0.92681766 1.01853096 1.11873209 1.22723985 1.34623587 1.48084712\n",
      " 1.63859522 1.82692766 2.04843807 2.29526448]\n",
      "24 day output [[2.5475652]]\n",
      "25 day input [0.43112857 0.44420763 0.44155201 0.4404451  0.4327501  0.42616687\n",
      " 0.49559176 0.47122508 0.44138209 0.43001194 0.4116896  0.42681743\n",
      " 0.4298663  0.45016944 0.41392285 0.42268592 0.41341308 0.39648895\n",
      " 0.39678995 0.3713649  0.36461661 0.35898494 0.36821408 0.3156308\n",
      " 0.32400548 0.36787909 0.36522347 0.35279981 0.34575052 0.36137354\n",
      " 0.35361543 0.3607327  0.36558759 0.35226092 0.3306324  0.3382837\n",
      " 0.36094146 0.36140753 0.33857014 0.32916622 0.31195565 0.2840449\n",
      " 0.3018769  0.30629485 0.33569605 0.33275398 0.34028877 0.32057793\n",
      " 0.32009244 0.30372661 0.313349   0.33013234 0.32009729 0.29924555\n",
      " 0.28517609 0.30242065 0.32103429 0.33626407 0.35266873 0.36032489\n",
      " 0.39567818 0.39816874 0.40535882 0.40376642 0.44318811 0.44694094\n",
      " 0.44423191 0.43627475 0.43966831 0.46921516 0.44290652 0.42081679\n",
      " 0.42639991 0.41097593 0.38691511 0.43339375 0.44850332 0.47752717\n",
      " 0.50933075 0.53868783 0.56338322 0.58341587 0.60079253 0.61902899\n",
      " 0.64228833 0.67442918 0.7182647  0.77517831 0.84510279 0.92681766\n",
      " 1.01853096 1.11873209 1.22723985 1.34623587 1.48084712 1.63859522\n",
      " 1.82692766 2.04843807 2.29526448 2.54756522]\n",
      "25 day output [[2.7811658]]\n",
      "26 day input [0.44420763 0.44155201 0.4404451  0.4327501  0.42616687 0.49559176\n",
      " 0.47122508 0.44138209 0.43001194 0.4116896  0.42681743 0.4298663\n",
      " 0.45016944 0.41392285 0.42268592 0.41341308 0.39648895 0.39678995\n",
      " 0.3713649  0.36461661 0.35898494 0.36821408 0.3156308  0.32400548\n",
      " 0.36787909 0.36522347 0.35279981 0.34575052 0.36137354 0.35361543\n",
      " 0.3607327  0.36558759 0.35226092 0.3306324  0.3382837  0.36094146\n",
      " 0.36140753 0.33857014 0.32916622 0.31195565 0.2840449  0.3018769\n",
      " 0.30629485 0.33569605 0.33275398 0.34028877 0.32057793 0.32009244\n",
      " 0.30372661 0.313349   0.33013234 0.32009729 0.29924555 0.28517609\n",
      " 0.30242065 0.32103429 0.33626407 0.35266873 0.36032489 0.39567818\n",
      " 0.39816874 0.40535882 0.40376642 0.44318811 0.44694094 0.44423191\n",
      " 0.43627475 0.43966831 0.46921516 0.44290652 0.42081679 0.42639991\n",
      " 0.41097593 0.38691511 0.43339375 0.44850332 0.47752717 0.50933075\n",
      " 0.53868783 0.56338322 0.58341587 0.60079253 0.61902899 0.64228833\n",
      " 0.67442918 0.7182647  0.77517831 0.84510279 0.92681766 1.01853096\n",
      " 1.11873209 1.22723985 1.34623587 1.48084712 1.63859522 1.82692766\n",
      " 2.04843807 2.29526448 2.54756522 2.78116584]\n",
      "26 day output [[2.9808714]]\n",
      "27 day input [0.44155201 0.4404451  0.4327501  0.42616687 0.49559176 0.47122508\n",
      " 0.44138209 0.43001194 0.4116896  0.42681743 0.4298663  0.45016944\n",
      " 0.41392285 0.42268592 0.41341308 0.39648895 0.39678995 0.3713649\n",
      " 0.36461661 0.35898494 0.36821408 0.3156308  0.32400548 0.36787909\n",
      " 0.36522347 0.35279981 0.34575052 0.36137354 0.35361543 0.3607327\n",
      " 0.36558759 0.35226092 0.3306324  0.3382837  0.36094146 0.36140753\n",
      " 0.33857014 0.32916622 0.31195565 0.2840449  0.3018769  0.30629485\n",
      " 0.33569605 0.33275398 0.34028877 0.32057793 0.32009244 0.30372661\n",
      " 0.313349   0.33013234 0.32009729 0.29924555 0.28517609 0.30242065\n",
      " 0.32103429 0.33626407 0.35266873 0.36032489 0.39567818 0.39816874\n",
      " 0.40535882 0.40376642 0.44318811 0.44694094 0.44423191 0.43627475\n",
      " 0.43966831 0.46921516 0.44290652 0.42081679 0.42639991 0.41097593\n",
      " 0.38691511 0.43339375 0.44850332 0.47752717 0.50933075 0.53868783\n",
      " 0.56338322 0.58341587 0.60079253 0.61902899 0.64228833 0.67442918\n",
      " 0.7182647  0.77517831 0.84510279 0.92681766 1.01853096 1.11873209\n",
      " 1.22723985 1.34623587 1.48084712 1.63859522 1.82692766 2.04843807\n",
      " 2.29526448 2.54756522 2.78116584 2.98087144]\n",
      "27 day output [[3.146926]]\n",
      "28 day input [0.4404451  0.4327501  0.42616687 0.49559176 0.47122508 0.44138209\n",
      " 0.43001194 0.4116896  0.42681743 0.4298663  0.45016944 0.41392285\n",
      " 0.42268592 0.41341308 0.39648895 0.39678995 0.3713649  0.36461661\n",
      " 0.35898494 0.36821408 0.3156308  0.32400548 0.36787909 0.36522347\n",
      " 0.35279981 0.34575052 0.36137354 0.35361543 0.3607327  0.36558759\n",
      " 0.35226092 0.3306324  0.3382837  0.36094146 0.36140753 0.33857014\n",
      " 0.32916622 0.31195565 0.2840449  0.3018769  0.30629485 0.33569605\n",
      " 0.33275398 0.34028877 0.32057793 0.32009244 0.30372661 0.313349\n",
      " 0.33013234 0.32009729 0.29924555 0.28517609 0.30242065 0.32103429\n",
      " 0.33626407 0.35266873 0.36032489 0.39567818 0.39816874 0.40535882\n",
      " 0.40376642 0.44318811 0.44694094 0.44423191 0.43627475 0.43966831\n",
      " 0.46921516 0.44290652 0.42081679 0.42639991 0.41097593 0.38691511\n",
      " 0.43339375 0.44850332 0.47752717 0.50933075 0.53868783 0.56338322\n",
      " 0.58341587 0.60079253 0.61902899 0.64228833 0.67442918 0.7182647\n",
      " 0.77517831 0.84510279 0.92681766 1.01853096 1.11873209 1.22723985\n",
      " 1.34623587 1.48084712 1.63859522 1.82692766 2.04843807 2.29526448\n",
      " 2.54756522 2.78116584 2.98087144 3.14692593]\n",
      "28 day output [[3.2869632]]\n",
      "29 day input [0.4327501  0.42616687 0.49559176 0.47122508 0.44138209 0.43001194\n",
      " 0.4116896  0.42681743 0.4298663  0.45016944 0.41392285 0.42268592\n",
      " 0.41341308 0.39648895 0.39678995 0.3713649  0.36461661 0.35898494\n",
      " 0.36821408 0.3156308  0.32400548 0.36787909 0.36522347 0.35279981\n",
      " 0.34575052 0.36137354 0.35361543 0.3607327  0.36558759 0.35226092\n",
      " 0.3306324  0.3382837  0.36094146 0.36140753 0.33857014 0.32916622\n",
      " 0.31195565 0.2840449  0.3018769  0.30629485 0.33569605 0.33275398\n",
      " 0.34028877 0.32057793 0.32009244 0.30372661 0.313349   0.33013234\n",
      " 0.32009729 0.29924555 0.28517609 0.30242065 0.32103429 0.33626407\n",
      " 0.35266873 0.36032489 0.39567818 0.39816874 0.40535882 0.40376642\n",
      " 0.44318811 0.44694094 0.44423191 0.43627475 0.43966831 0.46921516\n",
      " 0.44290652 0.42081679 0.42639991 0.41097593 0.38691511 0.43339375\n",
      " 0.44850332 0.47752717 0.50933075 0.53868783 0.56338322 0.58341587\n",
      " 0.60079253 0.61902899 0.64228833 0.67442918 0.7182647  0.77517831\n",
      " 0.84510279 0.92681766 1.01853096 1.11873209 1.22723985 1.34623587\n",
      " 1.48084712 1.63859522 1.82692766 2.04843807 2.29526448 2.54756522\n",
      " 2.78116584 2.98087144 3.14692593 3.28696322]\n",
      "29 day output [[3.4011269]]\n",
      "[[0.4333937466144562], [0.448503315448761], [0.4775271713733673], [0.5093307495117188], [0.5386878252029419], [0.5633832216262817], [0.5834158658981323], [0.6007925271987915], [0.6190289855003357], [0.642288327217102], [0.674429178237915], [0.7182646989822388], [0.7751783132553101], [0.8451027870178223], [0.9268176555633545], [1.0185309648513794], [1.1187320947647095], [1.2272398471832275], [1.3462358713150024], [1.4808471202850342], [1.6385952234268188], [1.826927661895752], [2.04843807220459], [2.295264482498169], [2.547565221786499], [2.781165838241577], [2.9808714389801025], [3.146925926208496], [3.2869632244110107], [3.4011268615722656]]\n"
     ]
    }
   ],
   "source": [
    "# demonstrate prediction for next 10 days\n",
    "from numpy import array\n",
    "\n",
    "lst_output=[]\n",
    "n_steps=100\n",
    "i=0\n",
    "while(i<30):\n",
    "    \n",
    "    if(len(temp_input)>100):\n",
    "        #print(temp_input)\n",
    "        x_input=np.array(temp_input[1:])\n",
    "        print(\"{} day input {}\".format(i,x_input))\n",
    "        x_input=x_input.reshape(1,-1)\n",
    "        x_input = x_input.reshape((1, n_steps, 1))\n",
    "        #print(x_input)\n",
    "        yhat = model.predict(x_input, verbose=0)\n",
    "        print(\"{} day output {}\".format(i,yhat))\n",
    "        temp_input.extend(yhat[0].tolist())\n",
    "        temp_input=temp_input[1:]\n",
    "        #print(temp_input)\n",
    "        lst_output.extend(yhat.tolist())\n",
    "        i=i+1\n",
    "    else:\n",
    "        x_input = x_input.reshape((1, n_steps,1))\n",
    "        yhat = model.predict(x_input, verbose=0)\n",
    "        print(yhat[0])\n",
    "        temp_input.extend(yhat[0].tolist())\n",
    "        print(len(temp_input))\n",
    "        lst_output.extend(yhat.tolist())\n",
    "        i=i+1\n",
    "    \n",
    "\n",
    "print(lst_output)"
   ]
  },
  {
   "cell_type": "code",
   "execution_count": 32,
   "metadata": {},
   "outputs": [],
   "source": [
    "day_new=np.arange(1,101)\n",
    "day_pred=np.arange(101,131)"
   ]
  },
  {
   "cell_type": "code",
   "execution_count": 33,
   "metadata": {},
   "outputs": [],
   "source": [
    "import matplotlib.pyplot as plt"
   ]
  },
  {
   "cell_type": "code",
   "execution_count": 34,
   "metadata": {},
   "outputs": [
    {
     "data": {
      "text/plain": [
       "1258"
      ]
     },
     "execution_count": 34,
     "metadata": {},
     "output_type": "execute_result"
    }
   ],
   "source": [
    "len(df1)"
   ]
  },
  {
   "cell_type": "code",
   "execution_count": 35,
   "metadata": {},
   "outputs": [
    {
     "data": {
      "text/plain": [
       "[<matplotlib.lines.Line2D at 0x1a89727b0a0>]"
      ]
     },
     "execution_count": 35,
     "metadata": {},
     "output_type": "execute_result"
    },
    {
     "data": {
      "image/png": "[encoded data removed]",
      "text/plain": [
       "<Figure size 432x288 with 1 Axes>"
      ]
     },
     "metadata": {
      "needs_background": "light"
     },
     "output_type": "display_data"
    }
   ],
   "source": [
    "plt.plot(day_new,scaler.inverse_transform(df1[1158:]))\n",
    "plt.plot(day_pred,scaler.inverse_transform(lst_output))"
   ]
  },
  {
   "cell_type": "code",
   "execution_count": 36,
   "metadata": {},
   "outputs": [
    {
     "data": {
      "text/plain": [
       "[<matplotlib.lines.Line2D at 0x1a897237100>]"
      ]
     },
     "execution_count": 36,
     "metadata": {},
     "output_type": "execute_result"
    },
    {
     "data": {
      "image/png": "[encoded data removed]",
      "text/plain": [
       "<Figure size 432x288 with 1 Axes>"
      ]
     },
     "metadata": {
      "needs_background": "light"
     },
     "output_type": "display_data"
    }
   ],
   "source": [
    "df3=df1.tolist()\n",
    "df3.extend(lst_output)\n",
    "plt.plot(df3[1200:])"
   ]
  },
  {
   "cell_type": "code",
   "execution_count": null,
   "metadata": {},
   "outputs": [],
   "source": []
  }
 ],
 "metadata": {
  "kernelspec": {
   "display_name": "Python 3 (ipykernel)",
   "language": "python",
   "name": "python3"
  },
  "language_info": {
   "codemirror_mode": {
    "name": "ipython",
    "version": 3
   },
   "file_extension": ".py",
   "mimetype": "text/x-python",
   "name": "python",
   "nbconvert_exporter": "python",
   "pygments_lexer": "ipython3",
   "version": "3.9.6"
  }
 },
 "nbformat": 4,
 "nbformat_minor": 1
}
