{
  "nbformat": 4,
  "nbformat_minor": 0,
  "metadata": {
    "colab": {
      "name": "MV model prototype 06-03-2021.ipynb",
      "provenance": [],
      "collapsed_sections": []
    },
    "kernelspec": {
      "name": "python3",
      "display_name": "Python 3"
    }
  },
  "cells": [
    {
      "cell_type": "code",
      "metadata": {
        "colab": {
          "base_uri": "https://localhost:8080/"
        },
        "id": "WdZZwimUW8U7",
        "outputId": "62df51f4-06f1-480e-aba8-11d953055b16"
      },
      "source": [
        "from google.colab import drive\r\n",
        "drive.mount('/content/drive')"
      ],
      "execution_count": null,
      "outputs": [
        {
          "output_type": "stream",
          "text": [
            "Drive already mounted at /content/drive; to attempt to forcibly remount, call drive.mount(\"/content/drive\", force_remount=True).\n"
          ],
          "name": "stdout"
        }
      ]
    },
    {
      "cell_type": "code",
      "metadata": {
        "id": "s-lgOBxeXP22"
      },
      "source": [
        "import pandas as pd\r\n",
        "import numpy as np"
      ],
      "execution_count": null,
      "outputs": []
    },
    {
      "cell_type": "code",
      "metadata": {
        "id": "xKidKyP7XbmM"
      },
      "source": [
        "df=pd.read_csv('/content/drive/My Drive/fyp/Lagard-less till 2021.csv',parse_dates=['Date'],index_col='Date')\r\n",
        "df = df.loc[\"2016-01-01\" :\"2020-12-31\"]   #Since 2016, 5y\r\n",
        "df.reset_index(drop=True, inplace=True)\r\n",
        "trading_days=len(df)/5                       #Trading days per year (subject to automation)"
      ],
      "execution_count": null,
      "outputs": []
    },
    {
      "cell_type": "code",
      "metadata": {
        "id": "5Cvf_5eWXveC"
      },
      "source": [
        "returnsh=df.pct_change()                  #Here, returnsh would mean return considered for sharpe ratio\r\n",
        "returnsh.fillna(0,inplace=True)           #calculating daily returns of the stocks in the portfolio"
      ],
      "execution_count": null,
      "outputs": []
    },
    {
      "cell_type": "code",
      "metadata": {
        "id": "qxy4cC3uX_i4"
      },
      "source": [
        "returnso=returnsh.copy()                  #this cell considers only NEGATIVE returns so as to calculate sortino ratio\r\n",
        "for cols in returnso.columns.tolist():\r\n",
        "    for i in range(0,len(df)):\r\n",
        "      if returnso[cols][i] > 0:\r\n",
        "        returnso[cols][i]=0               #Here, returnso would mean return considered for sortino ratio"
      ],
      "execution_count": null,
      "outputs": []
    },
    {
      "cell_type": "code",
      "metadata": {
        "id": "-QVl69gSZfGk"
      },
      "source": [
        "covmatsh=returnsh.cov()*trading_days      #Annualised covariance matrix calculated wrt returnsh i.e. used to calculate sharpe ratio\r\n",
        "covmatso=returnso.cov()*trading_days      #Annualised covariance matrix calculated wrt returnso i.e. used to calculate sortino ratio"
      ],
      "execution_count": null,
      "outputs": []
    },
    {
      "cell_type": "code",
      "metadata": {
        "id": "j3oj3W-riM2U"
      },
      "source": [
        "num_portfolios = 100000                   #initializing number of portfolios to 100000; referred from Wang et al (2020)\r\n",
        "num_assets = len(df.columns)              #initializing number of stocks/assets considered in the portfolio\r\n",
        "risk_free_rate = 0.035                    #initializing risk free rate that will be used in calculating both the ratios (absolute value)\r\n",
        "#More clarity on risk free rate. Not satisfactory. (subject to be improved)"
      ],
      "execution_count": null,
      "outputs": []
    },
    {
      "cell_type": "code",
      "metadata": {
        "id": "QjDb76cn3ROe"
      },
      "source": [
        "portfolio_returns = []                    #initializing an empty list for portfolio returns\r\n",
        "portfolio_volatility =[]                  #initializing an empty list for portfolio risk\r\n",
        "stock_weights =[]                         #initializing an empty list for portfolio weights\r\n",
        "semi_deviation =[]                        #initializing an empty list for portfolio semi-deviation\r\n",
        "sharpe =[]                                #initializing an empty list for portfolio sharpe ratio\r\n",
        "sortino =[]                               #initializing an empty list for portfolio sortino ratio"
      ],
      "execution_count": null,
      "outputs": []
    },
    {
      "cell_type": "code",
      "metadata": {
        "id": "vNaM1Eiy7C8I"
      },
      "source": [
        "def ratio(a,b,c):                         #function to calculate ratio i.e. \"(returns-(risk_free_rate))/deviation\"\r\n",
        "  return (a-c)/b                          #a => annual return, b => risk_free_rate, c => deviation (standard for sharpe, semi for sortino)"
      ],
      "execution_count": null,
      "outputs": []
    },
    {
      "cell_type": "code",
      "metadata": {
        "id": "7a7NcnCu3eSL"
      },
      "source": [
        "for single_portfolio in range(num_portfolios):                  #iterating forloop for 100000 times to generate 100000 portfolios\r\n",
        "  weights = np.random.random(num_assets)                        #initializing random weights\r\n",
        "  weights /= np.sum(weights)                                    #weights add up to 1   \"x = x+y\" => \"x+=y\"    weights = weights/np.sum(weights)  \r\n",
        "  returns_temp = np.sum(returnsh.mean()*weights)*trading_days   #calculating annulaised portfolio return\r\n",
        "  varsh=np.dot(weights.T,np.dot(covmatsh,weights))              #calculating portfolio varience wrt calculating sharpe ratio\r\n",
        "  varso=np.dot(weights.T,np.dot(covmatso,weights))              #calculating portfolio varience wrt calculating sortino ratio\r\n",
        "  volatility_temp = np.sqrt(varsh)                              #portfolio risk\r\n",
        "  semi_temp = np.sqrt(varso)                                    #portfolio semi-deviation\r\n",
        "  shtemp = ratio(returns_temp,volatility_temp,risk_free_rate)   #calculating sharpe ratio\r\n",
        "  sotemp = ratio(returns_temp,semi_temp,risk_free_rate)         #calculating sortino ratio\r\n",
        "  portfolio_returns.append(returns_temp)                       \r\n",
        "  portfolio_volatility.append(volatility_temp)\r\n",
        "  stock_weights.append(weights)\r\n",
        "  sharpe.append(shtemp)\r\n",
        "  sortino.append(sotemp)\r\n",
        "  semi_deviation.append(semi_temp)"
      ],
      "execution_count": null,
      "outputs": []
    },
    {
      "cell_type": "code",
      "metadata": {
        "id": "TYQlju2K4Ntj"
      },
      "source": [
        "portfolio = {'Returns' : portfolio_returns, 'Standard Deviation' : portfolio_volatility, 'Semi-Deviation' : semi_deviation, 'Sharpe Ratio' : sharpe, \r\n",
        "             'Sortino Ratio' : sortino}    \r\n",
        "#here, 'portfolio' is a dictionary which will be used to create dataframe where each row will be a portfolio"
      ],
      "execution_count": null,
      "outputs": []
    },
    {
      "cell_type": "code",
      "metadata": {
        "id": "ldUZ6FpZ4Wav"
      },
      "source": [
        "for counter,symbol in enumerate(df.columns):\r\n",
        "  portfolio[symbol + \" Weight\"] = [Weight[counter] for Weight in stock_weights] \r\n",
        "#to the dictionary (named 'portfolio'), weights for each symbol are added in so as to be displayed in the dataframe"
      ],
      "execution_count": null,
      "outputs": []
    },
    {
      "cell_type": "code",
      "metadata": {
        "id": "upQ50rlk4fIK"
      },
      "source": [
        "pc = pd.DataFrame(portfolio)         #making the final dataframe where data of 100000 portfolios is appended (subject to be saved, whose code is to be written)"
      ],
      "execution_count": null,
      "outputs": []
    },
    {
      "cell_type": "code",
      "metadata": {
        "colab": {
          "base_uri": "https://localhost:8080/",
          "height": 134
        },
        "id": "7ns3vwlIiihQ",
        "outputId": "a61f1212-0f3c-41f1-f9e0-32f0a221c287"
      },
      "source": [
        "max_sharpe=pc['Sharpe Ratio'].max()                                             #Best optimised portfolio wrt sharpe ratio\r\n",
        "max_sharpe_portfolio=pc.loc[pc['Sharpe Ratio'] == max_sharpe]\r\n",
        "max_sharpe_portfolio=max_sharpe_portfolio*100                                   #Converting everything to percentage\r\n",
        "max_sharpe_portfolio['Sharpe Ratio']=max_sharpe_portfolio['Sharpe Ratio']/100   #leaving ratios as it is\r\n",
        "max_sharpe_portfolio['Sortino Ratio']=max_sharpe_portfolio['Sortino Ratio']/100\r\n",
        "max_sharpe_portfolio"
      ],
      "execution_count": null,
      "outputs": [
        {
          "output_type": "execute_result",
          "data": {
            "text/html": [
              "<div>\n",
              "<style scoped>\n",
              "    .dataframe tbody tr th:only-of-type {\n",
              "        vertical-align: middle;\n",
              "    }\n",
              "\n",
              "    .dataframe tbody tr th {\n",
              "        vertical-align: top;\n",
              "    }\n",
              "\n",
              "    .dataframe thead th {\n",
              "        text-align: right;\n",
              "    }\n",
              "</style>\n",
              "<table border=\"1\" class=\"dataframe\">\n",
              "  <thead>\n",
              "    <tr style=\"text-align: right;\">\n",
              "      <th></th>\n",
              "      <th>Returns</th>\n",
              "      <th>Standard Deviation</th>\n",
              "      <th>Semi-Deviation</th>\n",
              "      <th>Sharpe Ratio</th>\n",
              "      <th>Sortino Ratio</th>\n",
              "      <th>ADANIPORTS Weight</th>\n",
              "      <th>ASIANPAINT Weight</th>\n",
              "      <th>AXISBANK Weight</th>\n",
              "      <th>BAJAJ-AUTO Weight</th>\n",
              "      <th>BAJFINANCE Weight</th>\n",
              "      <th>BPCL Weight</th>\n",
              "      <th>BHARTIARTL Weight</th>\n",
              "      <th>BRITANNIA Weight</th>\n",
              "      <th>CIPLA Weight</th>\n",
              "      <th>DIVISLAB Weight</th>\n",
              "      <th>DRREDDY Weight</th>\n",
              "      <th>GAIL Weight</th>\n",
              "      <th>GRASIM Weight</th>\n",
              "      <th>HCLTECH Weight</th>\n",
              "      <th>HDFCBANK Weight</th>\n",
              "      <th>HEROMOTOCO Weight</th>\n",
              "      <th>HINDALCO Weight</th>\n",
              "      <th>HINDUNILVR Weight</th>\n",
              "      <th>HDFC Weight</th>\n",
              "      <th>ICICIBANK Weight</th>\n",
              "      <th>ITC Weight</th>\n",
              "      <th>IOC Weight</th>\n",
              "      <th>INDUSINDBK Weight</th>\n",
              "      <th>INFY Weight</th>\n",
              "      <th>JSWSTEEL Weight</th>\n",
              "      <th>KOTAKBANK Weight</th>\n",
              "      <th>LT Weight</th>\n",
              "      <th>M&amp;M Weight</th>\n",
              "      <th>NTPC Weight</th>\n",
              "      <th>ONGC Weight</th>\n",
              "      <th>POWERGRID Weight</th>\n",
              "      <th>RELIANCE Weight</th>\n",
              "      <th>SBIN Weight</th>\n",
              "      <th>SUNPHARMA Weight</th>\n",
              "      <th>TCS Weight</th>\n",
              "      <th>TATAMOTORS Weight</th>\n",
              "      <th>TATASTEEL Weight</th>\n",
              "      <th>TECHM Weight</th>\n",
              "      <th>TITAN Weight</th>\n",
              "      <th>UPL Weight</th>\n",
              "      <th>ULTRACEMCO Weight</th>\n",
              "      <th>WIPRO Weight</th>\n",
              "    </tr>\n",
              "  </thead>\n",
              "  <tbody>\n",
              "    <tr>\n",
              "      <th>44910</th>\n",
              "      <td>16.033001</td>\n",
              "      <td>18.604075</td>\n",
              "      <td>11.959389</td>\n",
              "      <td>0.67367</td>\n",
              "      <td>1.047963</td>\n",
              "      <td>2.823423</td>\n",
              "      <td>4.640336</td>\n",
              "      <td>1.021297</td>\n",
              "      <td>0.640508</td>\n",
              "      <td>3.66495</td>\n",
              "      <td>3.989111</td>\n",
              "      <td>1.22595</td>\n",
              "      <td>4.136235</td>\n",
              "      <td>4.432181</td>\n",
              "      <td>4.768</td>\n",
              "      <td>4.857245</td>\n",
              "      <td>0.541643</td>\n",
              "      <td>1.339971</td>\n",
              "      <td>1.803101</td>\n",
              "      <td>2.169686</td>\n",
              "      <td>1.465102</td>\n",
              "      <td>4.088838</td>\n",
              "      <td>4.884853</td>\n",
              "      <td>3.96714</td>\n",
              "      <td>5.054487</td>\n",
              "      <td>2.092847</td>\n",
              "      <td>1.017915</td>\n",
              "      <td>1.663103</td>\n",
              "      <td>0.420493</td>\n",
              "      <td>0.66347</td>\n",
              "      <td>3.697288</td>\n",
              "      <td>3.050277</td>\n",
              "      <td>1.3627</td>\n",
              "      <td>1.762609</td>\n",
              "      <td>0.064543</td>\n",
              "      <td>0.349124</td>\n",
              "      <td>4.581833</td>\n",
              "      <td>0.233542</td>\n",
              "      <td>0.010088</td>\n",
              "      <td>0.960953</td>\n",
              "      <td>3.0813</td>\n",
              "      <td>2.95327</td>\n",
              "      <td>2.509162</td>\n",
              "      <td>5.253139</td>\n",
              "      <td>0.43482</td>\n",
              "      <td>1.662413</td>\n",
              "      <td>0.661055</td>\n",
              "    </tr>\n",
              "  </tbody>\n",
              "</table>\n",
              "</div>"
            ],
            "text/plain": [
              "         Returns  Standard Deviation  ...  ULTRACEMCO Weight  WIPRO Weight\n",
              "44910  16.033001           18.604075  ...           1.662413      0.661055\n",
              "\n",
              "[1 rows x 47 columns]"
            ]
          },
          "metadata": {
            "tags": []
          },
          "execution_count": 39
        }
      ]
    },
    {
      "cell_type": "code",
      "metadata": {
        "colab": {
          "base_uri": "https://localhost:8080/",
          "height": 134
        },
        "id": "UC-kxQbux5jc",
        "outputId": "7de2006f-6116-4441-c313-69121379a5c6"
      },
      "source": [
        "max_sortino=pc['Sortino Ratio'].max()                                            #Best optimised portfolio wrt sortino ratio\r\n",
        "max_sortino_portfolio=pc.loc[pc['Sortino Ratio'] == max_sortino]\r\n",
        "max_sortino_portfolio=max_sortino_portfolio*100                                   #Converting everything to percentage\r\n",
        "max_sortino_portfolio['Sharpe Ratio']=max_sortino_portfolio['Sharpe Ratio']/100   #leaving ratios as it is\r\n",
        "max_sortino_portfolio['Sortino Ratio']=max_sortino_portfolio['Sortino Ratio']/100\r\n",
        "max_sortino_portfolio"
      ],
      "execution_count": null,
      "outputs": [
        {
          "output_type": "execute_result",
          "data": {
            "text/html": [
              "<div>\n",
              "<style scoped>\n",
              "    .dataframe tbody tr th:only-of-type {\n",
              "        vertical-align: middle;\n",
              "    }\n",
              "\n",
              "    .dataframe tbody tr th {\n",
              "        vertical-align: top;\n",
              "    }\n",
              "\n",
              "    .dataframe thead th {\n",
              "        text-align: right;\n",
              "    }\n",
              "</style>\n",
              "<table border=\"1\" class=\"dataframe\">\n",
              "  <thead>\n",
              "    <tr style=\"text-align: right;\">\n",
              "      <th></th>\n",
              "      <th>Returns</th>\n",
              "      <th>Standard Deviation</th>\n",
              "      <th>Semi-Deviation</th>\n",
              "      <th>Sharpe Ratio</th>\n",
              "      <th>Sortino Ratio</th>\n",
              "      <th>ADANIPORTS Weight</th>\n",
              "      <th>ASIANPAINT Weight</th>\n",
              "      <th>AXISBANK Weight</th>\n",
              "      <th>BAJAJ-AUTO Weight</th>\n",
              "      <th>BAJFINANCE Weight</th>\n",
              "      <th>BPCL Weight</th>\n",
              "      <th>BHARTIARTL Weight</th>\n",
              "      <th>BRITANNIA Weight</th>\n",
              "      <th>CIPLA Weight</th>\n",
              "      <th>DIVISLAB Weight</th>\n",
              "      <th>DRREDDY Weight</th>\n",
              "      <th>GAIL Weight</th>\n",
              "      <th>GRASIM Weight</th>\n",
              "      <th>HCLTECH Weight</th>\n",
              "      <th>HDFCBANK Weight</th>\n",
              "      <th>HEROMOTOCO Weight</th>\n",
              "      <th>HINDALCO Weight</th>\n",
              "      <th>HINDUNILVR Weight</th>\n",
              "      <th>HDFC Weight</th>\n",
              "      <th>ICICIBANK Weight</th>\n",
              "      <th>ITC Weight</th>\n",
              "      <th>IOC Weight</th>\n",
              "      <th>INDUSINDBK Weight</th>\n",
              "      <th>INFY Weight</th>\n",
              "      <th>JSWSTEEL Weight</th>\n",
              "      <th>KOTAKBANK Weight</th>\n",
              "      <th>LT Weight</th>\n",
              "      <th>M&amp;M Weight</th>\n",
              "      <th>NTPC Weight</th>\n",
              "      <th>ONGC Weight</th>\n",
              "      <th>POWERGRID Weight</th>\n",
              "      <th>RELIANCE Weight</th>\n",
              "      <th>SBIN Weight</th>\n",
              "      <th>SUNPHARMA Weight</th>\n",
              "      <th>TCS Weight</th>\n",
              "      <th>TATAMOTORS Weight</th>\n",
              "      <th>TATASTEEL Weight</th>\n",
              "      <th>TECHM Weight</th>\n",
              "      <th>TITAN Weight</th>\n",
              "      <th>UPL Weight</th>\n",
              "      <th>ULTRACEMCO Weight</th>\n",
              "      <th>WIPRO Weight</th>\n",
              "    </tr>\n",
              "  </thead>\n",
              "  <tbody>\n",
              "    <tr>\n",
              "      <th>44910</th>\n",
              "      <td>16.033001</td>\n",
              "      <td>18.604075</td>\n",
              "      <td>11.959389</td>\n",
              "      <td>0.67367</td>\n",
              "      <td>1.047963</td>\n",
              "      <td>2.823423</td>\n",
              "      <td>4.640336</td>\n",
              "      <td>1.021297</td>\n",
              "      <td>0.640508</td>\n",
              "      <td>3.66495</td>\n",
              "      <td>3.989111</td>\n",
              "      <td>1.22595</td>\n",
              "      <td>4.136235</td>\n",
              "      <td>4.432181</td>\n",
              "      <td>4.768</td>\n",
              "      <td>4.857245</td>\n",
              "      <td>0.541643</td>\n",
              "      <td>1.339971</td>\n",
              "      <td>1.803101</td>\n",
              "      <td>2.169686</td>\n",
              "      <td>1.465102</td>\n",
              "      <td>4.088838</td>\n",
              "      <td>4.884853</td>\n",
              "      <td>3.96714</td>\n",
              "      <td>5.054487</td>\n",
              "      <td>2.092847</td>\n",
              "      <td>1.017915</td>\n",
              "      <td>1.663103</td>\n",
              "      <td>0.420493</td>\n",
              "      <td>0.66347</td>\n",
              "      <td>3.697288</td>\n",
              "      <td>3.050277</td>\n",
              "      <td>1.3627</td>\n",
              "      <td>1.762609</td>\n",
              "      <td>0.064543</td>\n",
              "      <td>0.349124</td>\n",
              "      <td>4.581833</td>\n",
              "      <td>0.233542</td>\n",
              "      <td>0.010088</td>\n",
              "      <td>0.960953</td>\n",
              "      <td>3.0813</td>\n",
              "      <td>2.95327</td>\n",
              "      <td>2.509162</td>\n",
              "      <td>5.253139</td>\n",
              "      <td>0.43482</td>\n",
              "      <td>1.662413</td>\n",
              "      <td>0.661055</td>\n",
              "    </tr>\n",
              "  </tbody>\n",
              "</table>\n",
              "</div>"
            ],
            "text/plain": [
              "         Returns  Standard Deviation  ...  ULTRACEMCO Weight  WIPRO Weight\n",
              "44910  16.033001           18.604075  ...           1.662413      0.661055\n",
              "\n",
              "[1 rows x 47 columns]"
            ]
          },
          "metadata": {
            "tags": []
          },
          "execution_count": 41
        }
      ]
    },
    {
      "cell_type": "code",
      "metadata": {
        "colab": {
          "base_uri": "https://localhost:8080/",
          "height": 134
        },
        "id": "PbvNj0tcjioZ",
        "outputId": "f75a7751-c0a2-4588-8933-6c71fe18aa1d"
      },
      "source": [
        "min_risk=pc['Standard Deviation'].min()                                         #Best low risk portfolio i.e., global minima\r\n",
        "min_risk_portfolio=pc.loc[pc['Standard Deviation'] == min_risk]\r\n",
        "min_risk_portfolio=min_risk_portfolio*100                                       #Converting everything to percentage\r\n",
        "min_risk_portfolio['Sharpe Ratio']=min_risk_portfolio['Sharpe Ratio']/100       #leaving ratios as it is\r\n",
        "min_risk_portfolio['Sortino Ratio']=min_risk_portfolio['Sortino Ratio']/100\r\n",
        "min_risk_portfolio"
      ],
      "execution_count": null,
      "outputs": [
        {
          "output_type": "execute_result",
          "data": {
            "text/html": [
              "<div>\n",
              "<style scoped>\n",
              "    .dataframe tbody tr th:only-of-type {\n",
              "        vertical-align: middle;\n",
              "    }\n",
              "\n",
              "    .dataframe tbody tr th {\n",
              "        vertical-align: top;\n",
              "    }\n",
              "\n",
              "    .dataframe thead th {\n",
              "        text-align: right;\n",
              "    }\n",
              "</style>\n",
              "<table border=\"1\" class=\"dataframe\">\n",
              "  <thead>\n",
              "    <tr style=\"text-align: right;\">\n",
              "      <th></th>\n",
              "      <th>Returns</th>\n",
              "      <th>Standard Deviation</th>\n",
              "      <th>Semi-Deviation</th>\n",
              "      <th>Sharpe Ratio</th>\n",
              "      <th>Sortino Ratio</th>\n",
              "      <th>ADANIPORTS Weight</th>\n",
              "      <th>ASIANPAINT Weight</th>\n",
              "      <th>AXISBANK Weight</th>\n",
              "      <th>BAJAJ-AUTO Weight</th>\n",
              "      <th>BAJFINANCE Weight</th>\n",
              "      <th>BPCL Weight</th>\n",
              "      <th>BHARTIARTL Weight</th>\n",
              "      <th>BRITANNIA Weight</th>\n",
              "      <th>CIPLA Weight</th>\n",
              "      <th>DIVISLAB Weight</th>\n",
              "      <th>DRREDDY Weight</th>\n",
              "      <th>GAIL Weight</th>\n",
              "      <th>GRASIM Weight</th>\n",
              "      <th>HCLTECH Weight</th>\n",
              "      <th>HDFCBANK Weight</th>\n",
              "      <th>HEROMOTOCO Weight</th>\n",
              "      <th>HINDALCO Weight</th>\n",
              "      <th>HINDUNILVR Weight</th>\n",
              "      <th>HDFC Weight</th>\n",
              "      <th>ICICIBANK Weight</th>\n",
              "      <th>ITC Weight</th>\n",
              "      <th>IOC Weight</th>\n",
              "      <th>INDUSINDBK Weight</th>\n",
              "      <th>INFY Weight</th>\n",
              "      <th>JSWSTEEL Weight</th>\n",
              "      <th>KOTAKBANK Weight</th>\n",
              "      <th>LT Weight</th>\n",
              "      <th>M&amp;M Weight</th>\n",
              "      <th>NTPC Weight</th>\n",
              "      <th>ONGC Weight</th>\n",
              "      <th>POWERGRID Weight</th>\n",
              "      <th>RELIANCE Weight</th>\n",
              "      <th>SBIN Weight</th>\n",
              "      <th>SUNPHARMA Weight</th>\n",
              "      <th>TCS Weight</th>\n",
              "      <th>TATAMOTORS Weight</th>\n",
              "      <th>TATASTEEL Weight</th>\n",
              "      <th>TECHM Weight</th>\n",
              "      <th>TITAN Weight</th>\n",
              "      <th>UPL Weight</th>\n",
              "      <th>ULTRACEMCO Weight</th>\n",
              "      <th>WIPRO Weight</th>\n",
              "    </tr>\n",
              "  </thead>\n",
              "  <tbody>\n",
              "    <tr>\n",
              "      <th>89090</th>\n",
              "      <td>10.070891</td>\n",
              "      <td>16.565533</td>\n",
              "      <td>10.745988</td>\n",
              "      <td>0.39666</td>\n",
              "      <td>0.611474</td>\n",
              "      <td>1.50691</td>\n",
              "      <td>3.76568</td>\n",
              "      <td>0.837898</td>\n",
              "      <td>1.403628</td>\n",
              "      <td>0.366101</td>\n",
              "      <td>1.2487</td>\n",
              "      <td>5.069195</td>\n",
              "      <td>3.583505</td>\n",
              "      <td>5.024514</td>\n",
              "      <td>3.256148</td>\n",
              "      <td>2.558245</td>\n",
              "      <td>0.80338</td>\n",
              "      <td>1.771919</td>\n",
              "      <td>4.674994</td>\n",
              "      <td>4.808839</td>\n",
              "      <td>2.586308</td>\n",
              "      <td>0.742771</td>\n",
              "      <td>4.909559</td>\n",
              "      <td>0.458421</td>\n",
              "      <td>2.688039</td>\n",
              "      <td>4.459889</td>\n",
              "      <td>0.983403</td>\n",
              "      <td>1.860934</td>\n",
              "      <td>2.974662</td>\n",
              "      <td>2.42125</td>\n",
              "      <td>0.152009</td>\n",
              "      <td>0.526488</td>\n",
              "      <td>0.876233</td>\n",
              "      <td>4.847271</td>\n",
              "      <td>3.802306</td>\n",
              "      <td>5.082551</td>\n",
              "      <td>3.951195</td>\n",
              "      <td>1.048241</td>\n",
              "      <td>1.938363</td>\n",
              "      <td>2.186545</td>\n",
              "      <td>0.546316</td>\n",
              "      <td>1.765863</td>\n",
              "      <td>0.592771</td>\n",
              "      <td>0.527562</td>\n",
              "      <td>1.592964</td>\n",
              "      <td>0.88245</td>\n",
              "      <td>4.915976</td>\n",
              "    </tr>\n",
              "  </tbody>\n",
              "</table>\n",
              "</div>"
            ],
            "text/plain": [
              "         Returns  Standard Deviation  ...  ULTRACEMCO Weight  WIPRO Weight\n",
              "89090  10.070891           16.565533  ...            0.88245      4.915976\n",
              "\n",
              "[1 rows x 47 columns]"
            ]
          },
          "metadata": {
            "tags": []
          },
          "execution_count": 40
        }
      ]
    },
    {
      "cell_type": "code",
      "metadata": {
        "id": "z98t-uDoHI6_"
      },
      "source": [
        "#code for global maxima is to be written\r\n",
        "#code for visualization is to be written"
      ],
      "execution_count": null,
      "outputs": []
    }
  ]
}