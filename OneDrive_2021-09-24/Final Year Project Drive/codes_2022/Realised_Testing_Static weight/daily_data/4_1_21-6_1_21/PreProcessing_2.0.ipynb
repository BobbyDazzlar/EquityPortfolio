{
 "cells": [
  {
   "cell_type": "code",
   "execution_count": 10,
   "metadata": {},
   "outputs": [],
   "source": [
    "import pandas as pd\n",
    "import numpy as np\n",
    "from datetime import date,timedelta"
   ]
  },
  {
   "cell_type": "code",
   "execution_count": 11,
   "metadata": {},
   "outputs": [],
   "source": [
    "from yahoofinance import HistoricalPrices as get_history\n",
    "#ensure yahoofinance package is installed  \"pip install yahoofinance\"\n",
    "import yfinance as yf"
   ]
  },
  {
   "cell_type": "markdown",
   "metadata": {},
   "source": [
    "# Change the dates here carefully "
   ]
  },
  {
   "cell_type": "code",
   "execution_count": 12,
   "metadata": {},
   "outputs": [],
   "source": [
    "start_date = date(2021,1,4)\n",
    "#date in Year, Month, Day\n",
    "end_date = date(2021,1,7)"
   ]
  },
  {
   "cell_type": "code",
   "execution_count": 13,
   "metadata": {},
   "outputs": [],
   "source": [
    "#nifty_50_stocks_list=pd.read_csv('ind_nifty50list2022.csv')\n",
    "#use the csv file from nifty website\n",
    "nifty_50_stocks = [\"ASIANPAINT\",\"BAJFINANCE\",\"BAJAJFINSV\",\"BRITANNIA\",'DIVISLAB','GRASIM','HCLTECH','HDFCBANK',\n",
    "                   'HINDALCO','HINDUNILVR','ICICIBANK','INFY','JSWSTEEL','LT','NESTLEIND','POWERGRID','RELIANCE','TCS','TATACONSUM','TATASTEEL',\n",
    "                   'TECHM','TITAN','ULTRACEMCO','WIPRO'] \n",
    "#Choose the stock symbols"
   ]
  },
  {
   "cell_type": "markdown",
   "metadata": {},
   "source": [
    "## Data collection\n",
    "### "
   ]
  },
  {
   "cell_type": "code",
   "execution_count": 14,
   "metadata": {
    "scrolled": true
   },
   "outputs": [
    {
     "name": "stdout",
     "output_type": "stream",
     "text": [
      "1: stock_name:\t ASIANPAINT\n",
      "[*********************100%***********************]  1 of 1 completed\n",
      "2: stock_name:\t BAJFINANCE\n",
      "[*********************100%***********************]  1 of 1 completed\n",
      "3: stock_name:\t BAJAJFINSV\n",
      "[*********************100%***********************]  1 of 1 completed\n",
      "4: stock_name:\t BRITANNIA\n",
      "[*********************100%***********************]  1 of 1 completed\n",
      "5: stock_name:\t DIVISLAB\n",
      "[*********************100%***********************]  1 of 1 completed\n",
      "6: stock_name:\t GRASIM\n",
      "[*********************100%***********************]  1 of 1 completed\n",
      "7: stock_name:\t HCLTECH\n",
      "[*********************100%***********************]  1 of 1 completed\n",
      "8: stock_name:\t HDFCBANK\n",
      "[*********************100%***********************]  1 of 1 completed\n",
      "9: stock_name:\t HINDALCO\n",
      "[*********************100%***********************]  1 of 1 completed\n",
      "10: stock_name:\t HINDUNILVR\n",
      "[*********************100%***********************]  1 of 1 completed\n",
      "11: stock_name:\t ICICIBANK\n",
      "[*********************100%***********************]  1 of 1 completed\n",
      "12: stock_name:\t INFY\n",
      "[*********************100%***********************]  1 of 1 completed\n",
      "13: stock_name:\t JSWSTEEL\n",
      "[*********************100%***********************]  1 of 1 completed\n",
      "14: stock_name:\t LT\n",
      "[*********************100%***********************]  1 of 1 completed\n",
      "15: stock_name:\t NESTLEIND\n",
      "[*********************100%***********************]  1 of 1 completed\n",
      "16: stock_name:\t POWERGRID\n",
      "[*********************100%***********************]  1 of 1 completed\n",
      "17: stock_name:\t RELIANCE\n",
      "[*********************100%***********************]  1 of 1 completed\n",
      "18: stock_name:\t TCS\n",
      "[*********************100%***********************]  1 of 1 completed\n",
      "19: stock_name:\t TATACONSUM\n",
      "[*********************100%***********************]  1 of 1 completed\n",
      "20: stock_name:\t TATASTEEL\n",
      "[*********************100%***********************]  1 of 1 completed\n",
      "21: stock_name:\t TECHM\n",
      "[*********************100%***********************]  1 of 1 completed\n",
      "22: stock_name:\t TITAN\n",
      "[*********************100%***********************]  1 of 1 completed\n",
      "23: stock_name:\t ULTRACEMCO\n",
      "[*********************100%***********************]  1 of 1 completed\n",
      "24: stock_name:\t WIPRO\n",
      "[*********************100%***********************]  1 of 1 completed\n"
     ]
    }
   ],
   "source": [
    "k=0 \n",
    "for i in nifty_50_stocks :\n",
    "    print(str(k+1)+\": stock_name:\\t\", i)\n",
    "    k+=1\n",
    "    x = yf.download( i+'.NS',start=start_date,end=end_date) #yahoofinance function to get the stock data\n",
    "    \n",
    "    x.to_csv('{}.csv'.format(i))"
   ]
  },
  {
   "cell_type": "code",
   "execution_count": 15,
   "metadata": {},
   "outputs": [
    {
     "data": {
      "text/html": [
       "<div>\n",
       "<style scoped>\n",
       "    .dataframe tbody tr th:only-of-type {\n",
       "        vertical-align: middle;\n",
       "    }\n",
       "\n",
       "    .dataframe tbody tr th {\n",
       "        vertical-align: top;\n",
       "    }\n",
       "\n",
       "    .dataframe thead th {\n",
       "        text-align: right;\n",
       "    }\n",
       "</style>\n",
       "<table border=\"1\" class=\"dataframe\">\n",
       "  <thead>\n",
       "    <tr style=\"text-align: right;\">\n",
       "      <th></th>\n",
       "    </tr>\n",
       "  </thead>\n",
       "  <tbody>\n",
       "  </tbody>\n",
       "</table>\n",
       "</div>"
      ],
      "text/plain": [
       "Empty DataFrame\n",
       "Columns: []\n",
       "Index: []"
      ]
     },
     "execution_count": 15,
     "metadata": {},
     "output_type": "execute_result"
    }
   ],
   "source": [
    "nifty50=pd.DataFrame()\n",
    "nifty50"
   ]
  },
  {
   "cell_type": "code",
   "execution_count": 16,
   "metadata": {},
   "outputs": [],
   "source": [
    "for i in nifty_50_stocks:\n",
    "    x = pd.read_csv('{}.csv'.format(i), usecols=[\"Adj Close\",\"Date\"],index_col=\"Date\")\n",
    "    nifty50 = pd.concat([nifty50,x],axis = 1)\n",
    "                                                       #getting each stock data one by one and concatanating it into the 'allData' frame"
   ]
  },
  {
   "cell_type": "code",
   "execution_count": 17,
   "metadata": {},
   "outputs": [],
   "source": [
    "nifty50.columns=nifty_50_stocks "
   ]
  },
  {
   "cell_type": "code",
   "execution_count": 18,
   "metadata": {},
   "outputs": [
    {
     "data": {
      "text/html": [
       "<div>\n",
       "<style scoped>\n",
       "    .dataframe tbody tr th:only-of-type {\n",
       "        vertical-align: middle;\n",
       "    }\n",
       "\n",
       "    .dataframe tbody tr th {\n",
       "        vertical-align: top;\n",
       "    }\n",
       "\n",
       "    .dataframe thead th {\n",
       "        text-align: right;\n",
       "    }\n",
       "</style>\n",
       "<table border=\"1\" class=\"dataframe\">\n",
       "  <thead>\n",
       "    <tr style=\"text-align: right;\">\n",
       "      <th></th>\n",
       "      <th>ASIANPAINT</th>\n",
       "      <th>BAJFINANCE</th>\n",
       "      <th>BAJAJFINSV</th>\n",
       "      <th>BRITANNIA</th>\n",
       "      <th>DIVISLAB</th>\n",
       "      <th>GRASIM</th>\n",
       "      <th>HCLTECH</th>\n",
       "      <th>HDFCBANK</th>\n",
       "      <th>HINDALCO</th>\n",
       "      <th>HINDUNILVR</th>\n",
       "      <th>...</th>\n",
       "      <th>NESTLEIND</th>\n",
       "      <th>POWERGRID</th>\n",
       "      <th>RELIANCE</th>\n",
       "      <th>TCS</th>\n",
       "      <th>TATACONSUM</th>\n",
       "      <th>TATASTEEL</th>\n",
       "      <th>TECHM</th>\n",
       "      <th>TITAN</th>\n",
       "      <th>ULTRACEMCO</th>\n",
       "      <th>WIPRO</th>\n",
       "    </tr>\n",
       "    <tr>\n",
       "      <th>Date</th>\n",
       "      <th></th>\n",
       "      <th></th>\n",
       "      <th></th>\n",
       "      <th></th>\n",
       "      <th></th>\n",
       "      <th></th>\n",
       "      <th></th>\n",
       "      <th></th>\n",
       "      <th></th>\n",
       "      <th></th>\n",
       "      <th></th>\n",
       "      <th></th>\n",
       "      <th></th>\n",
       "      <th></th>\n",
       "      <th></th>\n",
       "      <th></th>\n",
       "      <th></th>\n",
       "      <th></th>\n",
       "      <th></th>\n",
       "      <th></th>\n",
       "      <th></th>\n",
       "    </tr>\n",
       "  </thead>\n",
       "  <tbody>\n",
       "    <tr>\n",
       "      <th>2021-01-04</th>\n",
       "      <td>2736.903320</td>\n",
       "      <td>5207.785156</td>\n",
       "      <td>8896.592773</td>\n",
       "      <td>3482.132812</td>\n",
       "      <td>3846.482422</td>\n",
       "      <td>961.882263</td>\n",
       "      <td>944.382935</td>\n",
       "      <td>1409.897949</td>\n",
       "      <td>252.552826</td>\n",
       "      <td>2394.354736</td>\n",
       "      <td>...</td>\n",
       "      <td>18170.970703</td>\n",
       "      <td>130.751236</td>\n",
       "      <td>1984.466064</td>\n",
       "      <td>3001.293213</td>\n",
       "      <td>600.519592</td>\n",
       "      <td>677.831238</td>\n",
       "      <td>966.134705</td>\n",
       "      <td>1547.188477</td>\n",
       "      <td>5301.330566</td>\n",
       "      <td>394.867920</td>\n",
       "    </tr>\n",
       "    <tr>\n",
       "      <th>2021-01-05</th>\n",
       "      <td>2776.808594</td>\n",
       "      <td>5110.741699</td>\n",
       "      <td>8818.710938</td>\n",
       "      <td>3480.368896</td>\n",
       "      <td>3826.414795</td>\n",
       "      <td>958.740601</td>\n",
       "      <td>954.930542</td>\n",
       "      <td>1420.551758</td>\n",
       "      <td>248.580322</td>\n",
       "      <td>2418.086182</td>\n",
       "      <td>...</td>\n",
       "      <td>18349.240234</td>\n",
       "      <td>130.439011</td>\n",
       "      <td>1959.795410</td>\n",
       "      <td>3054.170654</td>\n",
       "      <td>606.037598</td>\n",
       "      <td>665.653748</td>\n",
       "      <td>967.966736</td>\n",
       "      <td>1567.190430</td>\n",
       "      <td>5315.262207</td>\n",
       "      <td>404.729645</td>\n",
       "    </tr>\n",
       "    <tr>\n",
       "      <th>2021-01-06</th>\n",
       "      <td>2788.238281</td>\n",
       "      <td>5022.184570</td>\n",
       "      <td>8784.219727</td>\n",
       "      <td>3469.195801</td>\n",
       "      <td>3864.010498</td>\n",
       "      <td>981.978577</td>\n",
       "      <td>942.263672</td>\n",
       "      <td>1414.428345</td>\n",
       "      <td>257.270172</td>\n",
       "      <td>2385.276611</td>\n",
       "      <td>...</td>\n",
       "      <td>18306.724609</td>\n",
       "      <td>136.093674</td>\n",
       "      <td>1908.111694</td>\n",
       "      <td>3013.191895</td>\n",
       "      <td>601.464111</td>\n",
       "      <td>668.832581</td>\n",
       "      <td>961.506226</td>\n",
       "      <td>1568.836426</td>\n",
       "      <td>5421.892090</td>\n",
       "      <td>404.829254</td>\n",
       "    </tr>\n",
       "  </tbody>\n",
       "</table>\n",
       "<p>3 rows × 24 columns</p>\n",
       "</div>"
      ],
      "text/plain": [
       "             ASIANPAINT   BAJFINANCE   BAJAJFINSV    BRITANNIA     DIVISLAB  \\\n",
       "Date                                                                          \n",
       "2021-01-04  2736.903320  5207.785156  8896.592773  3482.132812  3846.482422   \n",
       "2021-01-05  2776.808594  5110.741699  8818.710938  3480.368896  3826.414795   \n",
       "2021-01-06  2788.238281  5022.184570  8784.219727  3469.195801  3864.010498   \n",
       "\n",
       "                GRASIM     HCLTECH     HDFCBANK    HINDALCO   HINDUNILVR  ...  \\\n",
       "Date                                                                      ...   \n",
       "2021-01-04  961.882263  944.382935  1409.897949  252.552826  2394.354736  ...   \n",
       "2021-01-05  958.740601  954.930542  1420.551758  248.580322  2418.086182  ...   \n",
       "2021-01-06  981.978577  942.263672  1414.428345  257.270172  2385.276611  ...   \n",
       "\n",
       "               NESTLEIND   POWERGRID     RELIANCE          TCS  TATACONSUM  \\\n",
       "Date                                                                         \n",
       "2021-01-04  18170.970703  130.751236  1984.466064  3001.293213  600.519592   \n",
       "2021-01-05  18349.240234  130.439011  1959.795410  3054.170654  606.037598   \n",
       "2021-01-06  18306.724609  136.093674  1908.111694  3013.191895  601.464111   \n",
       "\n",
       "             TATASTEEL       TECHM        TITAN   ULTRACEMCO       WIPRO  \n",
       "Date                                                                      \n",
       "2021-01-04  677.831238  966.134705  1547.188477  5301.330566  394.867920  \n",
       "2021-01-05  665.653748  967.966736  1567.190430  5315.262207  404.729645  \n",
       "2021-01-06  668.832581  961.506226  1568.836426  5421.892090  404.829254  \n",
       "\n",
       "[3 rows x 24 columns]"
      ]
     },
     "execution_count": 18,
     "metadata": {},
     "output_type": "execute_result"
    }
   ],
   "source": [
    "nifty50"
   ]
  },
  {
   "cell_type": "code",
   "execution_count": 19,
   "metadata": {},
   "outputs": [],
   "source": [
    "nifty50.to_csv(str(end_date - timedelta(days=1))+'.csv')  #saving the data without preprocessing"
   ]
  },
  {
   "cell_type": "code",
   "execution_count": null,
   "metadata": {},
   "outputs": [],
   "source": []
  }
 ],
 "metadata": {
  "kernelspec": {
   "display_name": "Python 3",
   "language": "python",
   "name": "python3"
  },
  "language_info": {
   "codemirror_mode": {
    "name": "ipython",
    "version": 3
   },
   "file_extension": ".py",
   "mimetype": "text/x-python",
   "name": "python",
   "nbconvert_exporter": "python",
   "pygments_lexer": "ipython3",
   "version": "3.7.6"
  }
 },
 "nbformat": 4,
 "nbformat_minor": 4
}
