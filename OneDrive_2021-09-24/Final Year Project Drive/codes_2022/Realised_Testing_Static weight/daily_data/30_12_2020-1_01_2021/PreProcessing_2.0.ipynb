{
 "cells": [
  {
   "cell_type": "code",
   "execution_count": 1,
   "metadata": {},
   "outputs": [],
   "source": [
    "import pandas as pd\n",
    "import numpy as np\n",
    "from datetime import date,timedelta"
   ]
  },
  {
   "cell_type": "code",
   "execution_count": 2,
   "metadata": {},
   "outputs": [],
   "source": [
    "from yahoofinance import HistoricalPrices as get_history\n",
    "#ensure yahoofinance package is installed  \"pip install yahoofinance\"\n",
    "import yfinance as yf"
   ]
  },
  {
   "cell_type": "markdown",
   "metadata": {},
   "source": [
    "# Change the dates here carefully "
   ]
  },
  {
   "cell_type": "code",
   "execution_count": 3,
   "metadata": {},
   "outputs": [],
   "source": [
    "start_date = date(2020,12,30)\n",
    "#date in Year, Month, Day\n",
    "end_date = date(2021,1,2)"
   ]
  },
  {
   "cell_type": "code",
   "execution_count": 4,
   "metadata": {},
   "outputs": [],
   "source": [
    "#nifty_50_stocks_list=pd.read_csv('ind_nifty50list2022.csv')\n",
    "#use the csv file from nifty website\n",
    "nifty_50_stocks = [\"ASIANPAINT\",\"BAJFINANCE\",\"BAJAJFINSV\",\"BRITANNIA\",'DIVISLAB','GRASIM','HCLTECH','HDFCBANK',\n",
    "                   'HINDALCO','HINDUNILVR','ICICIBANK','INFY','JSWSTEEL','LT','NESTLEIND','POWERGRID','RELIANCE','TCS','TATACONSUM','TATASTEEL',\n",
    "                   'TECHM','TITAN','ULTRACEMCO','WIPRO'] \n",
    "#Choose the stock symbols"
   ]
  },
  {
   "cell_type": "markdown",
   "metadata": {},
   "source": [
    "## Data collection\n",
    "### "
   ]
  },
  {
   "cell_type": "code",
   "execution_count": 5,
   "metadata": {
    "scrolled": true
   },
   "outputs": [
    {
     "name": "stdout",
     "output_type": "stream",
     "text": [
      "1: stock_name:\t ASIANPAINT\n",
      "[*********************100%***********************]  1 of 1 completed\n",
      "2: stock_name:\t BAJFINANCE\n",
      "[*********************100%***********************]  1 of 1 completed\n",
      "3: stock_name:\t BAJAJFINSV\n",
      "[*********************100%***********************]  1 of 1 completed\n",
      "4: stock_name:\t BRITANNIA\n",
      "[*********************100%***********************]  1 of 1 completed\n",
      "5: stock_name:\t DIVISLAB\n",
      "[*********************100%***********************]  1 of 1 completed\n",
      "6: stock_name:\t GRASIM\n",
      "[*********************100%***********************]  1 of 1 completed\n",
      "7: stock_name:\t HCLTECH\n",
      "[*********************100%***********************]  1 of 1 completed\n",
      "8: stock_name:\t HDFCBANK\n",
      "[*********************100%***********************]  1 of 1 completed\n",
      "9: stock_name:\t HINDALCO\n",
      "[*********************100%***********************]  1 of 1 completed\n",
      "10: stock_name:\t HINDUNILVR\n",
      "[*********************100%***********************]  1 of 1 completed\n",
      "11: stock_name:\t ICICIBANK\n",
      "[*********************100%***********************]  1 of 1 completed\n",
      "12: stock_name:\t INFY\n",
      "[*********************100%***********************]  1 of 1 completed\n",
      "13: stock_name:\t JSWSTEEL\n",
      "[*********************100%***********************]  1 of 1 completed\n",
      "14: stock_name:\t LT\n",
      "[*********************100%***********************]  1 of 1 completed\n",
      "15: stock_name:\t NESTLEIND\n",
      "[*********************100%***********************]  1 of 1 completed\n",
      "16: stock_name:\t POWERGRID\n",
      "[*********************100%***********************]  1 of 1 completed\n",
      "17: stock_name:\t RELIANCE\n",
      "[*********************100%***********************]  1 of 1 completed\n",
      "18: stock_name:\t TCS\n",
      "[*********************100%***********************]  1 of 1 completed\n",
      "19: stock_name:\t TATACONSUM\n",
      "[*********************100%***********************]  1 of 1 completed\n",
      "20: stock_name:\t TATASTEEL\n",
      "[*********************100%***********************]  1 of 1 completed\n",
      "21: stock_name:\t TECHM\n",
      "[*********************100%***********************]  1 of 1 completed\n",
      "22: stock_name:\t TITAN\n",
      "[*********************100%***********************]  1 of 1 completed\n",
      "23: stock_name:\t ULTRACEMCO\n",
      "[*********************100%***********************]  1 of 1 completed\n",
      "24: stock_name:\t WIPRO\n",
      "[*********************100%***********************]  1 of 1 completed\n"
     ]
    }
   ],
   "source": [
    "k=0 \n",
    "for i in nifty_50_stocks :\n",
    "    print(str(k+1)+\": stock_name:\\t\", i)\n",
    "    k+=1\n",
    "    x = yf.download( i+'.NS',start=start_date,end=end_date) #yahoofinance function to get the stock data\n",
    "    \n",
    "    x.to_csv('{}.csv'.format(i))"
   ]
  },
  {
   "cell_type": "code",
   "execution_count": 6,
   "metadata": {},
   "outputs": [
    {
     "data": {
      "text/html": [
       "<div>\n",
       "<style scoped>\n",
       "    .dataframe tbody tr th:only-of-type {\n",
       "        vertical-align: middle;\n",
       "    }\n",
       "\n",
       "    .dataframe tbody tr th {\n",
       "        vertical-align: top;\n",
       "    }\n",
       "\n",
       "    .dataframe thead th {\n",
       "        text-align: right;\n",
       "    }\n",
       "</style>\n",
       "<table border=\"1\" class=\"dataframe\">\n",
       "  <thead>\n",
       "    <tr style=\"text-align: right;\">\n",
       "      <th></th>\n",
       "    </tr>\n",
       "  </thead>\n",
       "  <tbody>\n",
       "  </tbody>\n",
       "</table>\n",
       "</div>"
      ],
      "text/plain": [
       "Empty DataFrame\n",
       "Columns: []\n",
       "Index: []"
      ]
     },
     "execution_count": 6,
     "metadata": {},
     "output_type": "execute_result"
    }
   ],
   "source": [
    "nifty50=pd.DataFrame()\n",
    "nifty50"
   ]
  },
  {
   "cell_type": "code",
   "execution_count": 7,
   "metadata": {},
   "outputs": [],
   "source": [
    "for i in nifty_50_stocks:\n",
    "    x = pd.read_csv('{}.csv'.format(i), usecols=[\"Adj Close\",\"Date\"],index_col=\"Date\")\n",
    "    nifty50 = pd.concat([nifty50,x],axis = 1)\n",
    "                                                       #getting each stock data one by one and concatanating it into the 'allData' frame"
   ]
  },
  {
   "cell_type": "code",
   "execution_count": 8,
   "metadata": {},
   "outputs": [],
   "source": [
    "nifty50.columns=nifty_50_stocks "
   ]
  },
  {
   "cell_type": "code",
   "execution_count": 9,
   "metadata": {},
   "outputs": [
    {
     "data": {
      "text/html": [
       "<div>\n",
       "<style scoped>\n",
       "    .dataframe tbody tr th:only-of-type {\n",
       "        vertical-align: middle;\n",
       "    }\n",
       "\n",
       "    .dataframe tbody tr th {\n",
       "        vertical-align: top;\n",
       "    }\n",
       "\n",
       "    .dataframe thead th {\n",
       "        text-align: right;\n",
       "    }\n",
       "</style>\n",
       "<table border=\"1\" class=\"dataframe\">\n",
       "  <thead>\n",
       "    <tr style=\"text-align: right;\">\n",
       "      <th></th>\n",
       "      <th>ASIANPAINT</th>\n",
       "      <th>BAJFINANCE</th>\n",
       "      <th>BAJAJFINSV</th>\n",
       "      <th>BRITANNIA</th>\n",
       "      <th>DIVISLAB</th>\n",
       "      <th>GRASIM</th>\n",
       "      <th>HCLTECH</th>\n",
       "      <th>HDFCBANK</th>\n",
       "      <th>HINDALCO</th>\n",
       "      <th>HINDUNILVR</th>\n",
       "      <th>...</th>\n",
       "      <th>NESTLEIND</th>\n",
       "      <th>POWERGRID</th>\n",
       "      <th>RELIANCE</th>\n",
       "      <th>TCS</th>\n",
       "      <th>TATACONSUM</th>\n",
       "      <th>TATASTEEL</th>\n",
       "      <th>TECHM</th>\n",
       "      <th>TITAN</th>\n",
       "      <th>ULTRACEMCO</th>\n",
       "      <th>WIPRO</th>\n",
       "    </tr>\n",
       "    <tr>\n",
       "      <th>Date</th>\n",
       "      <th></th>\n",
       "      <th></th>\n",
       "      <th></th>\n",
       "      <th></th>\n",
       "      <th></th>\n",
       "      <th></th>\n",
       "      <th></th>\n",
       "      <th></th>\n",
       "      <th></th>\n",
       "      <th></th>\n",
       "      <th></th>\n",
       "      <th></th>\n",
       "      <th></th>\n",
       "      <th></th>\n",
       "      <th></th>\n",
       "      <th></th>\n",
       "      <th></th>\n",
       "      <th></th>\n",
       "      <th></th>\n",
       "      <th></th>\n",
       "      <th></th>\n",
       "    </tr>\n",
       "  </thead>\n",
       "  <tbody>\n",
       "    <tr>\n",
       "      <th>2020-12-30</th>\n",
       "      <td>2717.720947</td>\n",
       "      <td>5325.544434</td>\n",
       "      <td>8959.527344</td>\n",
       "      <td>3512.515381</td>\n",
       "      <td>3784.187744</td>\n",
       "      <td>931.912231</td>\n",
       "      <td>906.141357</td>\n",
       "      <td>1426.326904</td>\n",
       "      <td>235.768936</td>\n",
       "      <td>2374.718506</td>\n",
       "      <td>...</td>\n",
       "      <td>18172.255859</td>\n",
       "      <td>131.965424</td>\n",
       "      <td>1989.101196</td>\n",
       "      <td>2872.776855</td>\n",
       "      <td>590.925171</td>\n",
       "      <td>626.431458</td>\n",
       "      <td>948.103149</td>\n",
       "      <td>1548.884277</td>\n",
       "      <td>5328.746582</td>\n",
       "      <td>382.914276</td>\n",
       "    </tr>\n",
       "    <tr>\n",
       "      <th>2020-12-31</th>\n",
       "      <td>2747.637451</td>\n",
       "      <td>5286.657715</td>\n",
       "      <td>8904.190430</td>\n",
       "      <td>3505.115967</td>\n",
       "      <td>3826.215332</td>\n",
       "      <td>925.379639</td>\n",
       "      <td>911.391052</td>\n",
       "      <td>1430.110474</td>\n",
       "      <td>238.897308</td>\n",
       "      <td>2363.666504</td>\n",
       "      <td>...</td>\n",
       "      <td>18183.132812</td>\n",
       "      <td>131.722580</td>\n",
       "      <td>1978.933960</td>\n",
       "      <td>2826.811523</td>\n",
       "      <td>586.500854</td>\n",
       "      <td>629.561462</td>\n",
       "      <td>938.412415</td>\n",
       "      <td>1563.399536</td>\n",
       "      <td>5262.469727</td>\n",
       "      <td>384.757141</td>\n",
       "    </tr>\n",
       "    <tr>\n",
       "      <th>2021-01-01</th>\n",
       "      <td>2758.620117</td>\n",
       "      <td>5271.631836</td>\n",
       "      <td>8868.299805</td>\n",
       "      <td>3496.736084</td>\n",
       "      <td>3833.336182</td>\n",
       "      <td>930.914917</td>\n",
       "      <td>915.581299</td>\n",
       "      <td>1418.909058</td>\n",
       "      <td>236.712418</td>\n",
       "      <td>2355.920898</td>\n",
       "      <td>...</td>\n",
       "      <td>18242.900391</td>\n",
       "      <td>131.479752</td>\n",
       "      <td>1981.126831</td>\n",
       "      <td>2891.489014</td>\n",
       "      <td>598.033997</td>\n",
       "      <td>629.023438</td>\n",
       "      <td>942.992554</td>\n",
       "      <td>1554.869995</td>\n",
       "      <td>5265.106934</td>\n",
       "      <td>386.600006</td>\n",
       "    </tr>\n",
       "  </tbody>\n",
       "</table>\n",
       "<p>3 rows × 24 columns</p>\n",
       "</div>"
      ],
      "text/plain": [
       "             ASIANPAINT   BAJFINANCE   BAJAJFINSV    BRITANNIA     DIVISLAB  \\\n",
       "Date                                                                          \n",
       "2020-12-30  2717.720947  5325.544434  8959.527344  3512.515381  3784.187744   \n",
       "2020-12-31  2747.637451  5286.657715  8904.190430  3505.115967  3826.215332   \n",
       "2021-01-01  2758.620117  5271.631836  8868.299805  3496.736084  3833.336182   \n",
       "\n",
       "                GRASIM     HCLTECH     HDFCBANK    HINDALCO   HINDUNILVR  ...  \\\n",
       "Date                                                                      ...   \n",
       "2020-12-30  931.912231  906.141357  1426.326904  235.768936  2374.718506  ...   \n",
       "2020-12-31  925.379639  911.391052  1430.110474  238.897308  2363.666504  ...   \n",
       "2021-01-01  930.914917  915.581299  1418.909058  236.712418  2355.920898  ...   \n",
       "\n",
       "               NESTLEIND   POWERGRID     RELIANCE          TCS  TATACONSUM  \\\n",
       "Date                                                                         \n",
       "2020-12-30  18172.255859  131.965424  1989.101196  2872.776855  590.925171   \n",
       "2020-12-31  18183.132812  131.722580  1978.933960  2826.811523  586.500854   \n",
       "2021-01-01  18242.900391  131.479752  1981.126831  2891.489014  598.033997   \n",
       "\n",
       "             TATASTEEL       TECHM        TITAN   ULTRACEMCO       WIPRO  \n",
       "Date                                                                      \n",
       "2020-12-30  626.431458  948.103149  1548.884277  5328.746582  382.914276  \n",
       "2020-12-31  629.561462  938.412415  1563.399536  5262.469727  384.757141  \n",
       "2021-01-01  629.023438  942.992554  1554.869995  5265.106934  386.600006  \n",
       "\n",
       "[3 rows x 24 columns]"
      ]
     },
     "execution_count": 9,
     "metadata": {},
     "output_type": "execute_result"
    }
   ],
   "source": [
    "nifty50"
   ]
  },
  {
   "cell_type": "code",
   "execution_count": 10,
   "metadata": {},
   "outputs": [],
   "source": [
    "nifty50.to_csv(str(end_date - timedelta(days=1))+'.csv')  #saving the data without preprocessing"
   ]
  },
  {
   "cell_type": "code",
   "execution_count": null,
   "metadata": {},
   "outputs": [],
   "source": []
  }
 ],
 "metadata": {
  "kernelspec": {
   "display_name": "Python 3",
   "language": "python",
   "name": "python3"
  },
  "language_info": {
   "codemirror_mode": {
    "name": "ipython",
    "version": 3
   },
   "file_extension": ".py",
   "mimetype": "text/x-python",
   "name": "python",
   "nbconvert_exporter": "python",
   "pygments_lexer": "ipython3",
   "version": "3.7.6"
  }
 },
 "nbformat": 4,
 "nbformat_minor": 4
}
