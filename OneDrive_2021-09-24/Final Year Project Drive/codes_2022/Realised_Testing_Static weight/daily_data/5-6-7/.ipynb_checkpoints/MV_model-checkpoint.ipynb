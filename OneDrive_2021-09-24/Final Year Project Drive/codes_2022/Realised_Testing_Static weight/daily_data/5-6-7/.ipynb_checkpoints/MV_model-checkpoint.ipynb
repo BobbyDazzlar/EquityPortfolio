{
 "cells": [
  {
   "cell_type": "code",
   "execution_count": null,
   "metadata": {
    "id": "s-lgOBxeXP22",
    "pycharm": {
     "is_executing": true
    }
   },
   "outputs": [],
   "source": [
    "import pandas as pd\n",
    "import numpy as np\n",
    "import matplotlib.pyplot as plt\n",
    "import seaborn as sns"
   ]
  },
  {
   "cell_type": "code",
   "execution_count": null,
   "metadata": {
    "id": "xKidKyP7XbmM"
   },
   "outputs": [],
   "source": [
    "df=pd.read_csv('2021-01-07.csv',parse_dates=['Date'],index_col='Date')\n",
    "tdf=df.copy()                  #deep copy\n",
    "df.reset_index(drop=True, inplace=True)"
   ]
  },
  {
   "cell_type": "code",
   "execution_count": null,
   "metadata": {
    "id": "18cZaIsOfe4f"
   },
   "outputs": [],
   "source": [
    "trading_days=3                  #Trading days per year (automated)"
   ]
  },
  {
   "cell_type": "code",
   "execution_count": null,
   "metadata": {
    "id": "5Cvf_5eWXveC"
   },
   "outputs": [],
   "source": [
    "returnsh=df.pct_change()                  #Here, returnsh would mean return considered for sharpe ratio\n",
    "returnsh.fillna(0,inplace=True)           #calculating daily returns of the stocks in the portfolio"
   ]
  },
  {
   "cell_type": "code",
   "execution_count": null,
   "metadata": {},
   "outputs": [],
   "source": [
    "returnsh"
   ]
  },
  {
   "cell_type": "code",
   "execution_count": null,
   "metadata": {
    "id": "qxy4cC3uX_i4"
   },
   "outputs": [],
   "source": [
    "returnso=returnsh.copy()                  #this cell considers only NEGATIVE returns so as to calculate sortino ratio\n",
    "for cols in returnso.columns.tolist():\n",
    "    for i in range(0,len(df)):\n",
    "      if returnso[cols][i] > 0:\n",
    "        returnso[cols][i]=0               #Here, returnso would mean return considered for sortino ratio"
   ]
  },
  {
   "cell_type": "code",
   "execution_count": null,
   "metadata": {},
   "outputs": [],
   "source": [
    "returnso"
   ]
  },
  {
   "cell_type": "code",
   "execution_count": null,
   "metadata": {
    "id": "-QVl69gSZfGk"
   },
   "outputs": [],
   "source": [
    "covmatsh=returnsh.cov()*trading_days      #Annualised covariance matrix calculated wrt returnsh i.e. used to calculate sharpe ratio\n",
    "covmatso=returnso.cov()*trading_days      #Annualised covariance matrix calculated wrt returnso i.e. used to calculate sortino ratio"
   ]
  },
  {
   "cell_type": "code",
   "execution_count": null,
   "metadata": {
    "id": "j3oj3W-riM2U"
   },
   "outputs": [],
   "source": [
    "num_portfolios = 50000                   #initializing number of portfolios to 50000; referred from Wang et al (2020) (science direct)\n",
    "num_assets = len(df.columns)              #initializing number of stocks/assets considered in the portfolio\n",
    "risk_free_rate = 0.0358                   #initializing risk free rate that will be used in calculating both the ratios (absolute value)\n",
    "#referred from url: https://www.rbi.org.in/Scripts/BS_NSDPDisplay.aspx?param=4&Id=24292\n",
    "#In the above url, the 364 (1 year) day treasury bill is 3.58% , when taken absolute value => 0.0358\n",
    "# (improved)"
   ]
  },
  {
   "cell_type": "code",
   "execution_count": null,
   "metadata": {},
   "outputs": [],
   "source": [
    "#2021_chen etal_Mean–variance portfolio optimization using machine learning-based stock price prediction\n",
    "#Repeat the process 50,000times. From a statistical point of view, 50,000 random portfolios cover most possible portfolios with different weights and aresufficiently representative"
   ]
  },
  {
   "cell_type": "code",
   "execution_count": null,
   "metadata": {
    "id": "QjDb76cn3ROe"
   },
   "outputs": [],
   "source": [
    "portfolio_returns = []                    #initializing an empty list for portfolio returns\n",
    "portfolio_volatility =[]                  #initializing an empty list for portfolio risk\n",
    "stock_weights =[]                         #initializing an empty list for portfolio weights\n",
    "semi_deviation =[]                        #initializing an empty list for portfolio semi-deviation\n",
    "sharpe =[]                                #initializing an empty list for portfolio sharpe ratio\n",
    "sortino =[]                               #initializing an empty list for portfolio sortino ratio"
   ]
  },
  {
   "cell_type": "code",
   "execution_count": null,
   "metadata": {
    "id": "vNaM1Eiy7C8I"
   },
   "outputs": [],
   "source": [
    "def ratio(a,b,c):                         #function to calculate ratio i.e. \"(returns-(risk_free_rate))/deviation\"\n",
    "  return (a-c)/b                          #a => annual return, c => risk_free_rate, b => deviation (standard for sharpe, semi for sortino)"
   ]
  },
  {
   "cell_type": "code",
   "execution_count": null,
   "metadata": {
    "id": "7a7NcnCu3eSL"
   },
   "outputs": [],
   "source": [
    "for single_portfolio in range(num_portfolios):                  #iterating forloop for 50000 times to generate 50000 portfolios\n",
    "  weights = np.random.random(num_assets)                        #initializing random weights\n",
    "  weights /= np.sum(weights)                                    #No Short Selling Allowed => weights add up to 1   \"x = x+y\" => \"x+=y\"    weights = weights/np.sum(weights)  \n",
    "  returns_temp = np.sum(returnsh.mean()*weights)*trading_days   #calculating annulaised portfolio return\n",
    "  varsh=np.dot(weights.T,np.dot(covmatsh,weights))              #calculating portfolio varience wrt calculating sharpe ratio\n",
    "  varso=np.dot(weights.T,np.dot(covmatso,weights))              #calculating portfolio varience wrt calculating sortino ratio\n",
    "  volatility_temp = np.sqrt(varsh)                              #portfolio risk\n",
    "  semi_temp = np.sqrt(varso)                                    #portfolio semi-deviation\n",
    "  shtemp = ratio(returns_temp,volatility_temp,risk_free_rate)   #calculating sharpe ratio\n",
    "  sotemp = ratio(returns_temp,semi_temp,risk_free_rate)         #calculating sortino ratio\n",
    "  portfolio_returns.append(returns_temp)                       \n",
    "  portfolio_volatility.append(volatility_temp)\n",
    "  stock_weights.append(weights)\n",
    "  sharpe.append(shtemp)\n",
    "  sortino.append(sotemp)\n",
    "  semi_deviation.append(semi_temp)"
   ]
  },
  {
   "cell_type": "code",
   "execution_count": null,
   "metadata": {
    "id": "TYQlju2K4Ntj"
   },
   "outputs": [],
   "source": [
    "portfolio = {'Returns' : portfolio_returns, 'Standard Deviation' : portfolio_volatility, 'Semi-Deviation' : semi_deviation, 'Sharpe Ratio' : sharpe, \n",
    "             'Sortino Ratio' : sortino}    \n",
    "#here, 'portfolio' is a dictionary which will be used to create dataframe where each row will be a portfolio"
   ]
  },
  {
   "cell_type": "code",
   "execution_count": null,
   "metadata": {
    "id": "ldUZ6FpZ4Wav"
   },
   "outputs": [],
   "source": [
    "for counter,symbol in enumerate(df.columns):\n",
    "  portfolio[symbol + \" Weight\"] = [Weight[counter] for Weight in stock_weights] \n",
    "#to the dictionary (named 'portfolio'), weights for each symbol are added in so as to be displayed in the dataframe"
   ]
  },
  {
   "cell_type": "code",
   "execution_count": null,
   "metadata": {
    "id": "upQ50rlk4fIK"
   },
   "outputs": [],
   "source": [
    "pc = pd.DataFrame(portfolio)         #making the final dataframe where data of 50000 portfolios is appended (subject to be saved, whose code is to be written)"
   ]
  },
  {
   "cell_type": "code",
   "execution_count": null,
   "metadata": {
    "id": "uoxqrDxpwJrT"
   },
   "outputs": [],
   "source": [
    "pc=pc*100                                       #Converting everything to percentage\n",
    "pc['Sharpe Ratio']=pc['Sharpe Ratio']/100       #leaving ratios as it is\n",
    "pc['Sortino Ratio']=pc['Sortino Ratio']/100"
   ]
  },
  {
   "cell_type": "code",
   "execution_count": null,
   "metadata": {
    "id": "FEDWneNnv5SX"
   },
   "outputs": [],
   "source": [
    "#pc.to_csv('portfolios_by_MV.csv')  #saving the portfolios data"
   ]
  },
  {
   "cell_type": "code",
   "execution_count": null,
   "metadata": {
    "colab": {
     "base_uri": "https://localhost:8080/",
     "height": 117
    },
    "executionInfo": {
     "elapsed": 424,
     "status": "ok",
     "timestamp": 1621600636249,
     "user": {
      "displayName": "Dhiraj Patidar",
      "photoUrl": "",
      "userId": "01911352281812304855"
     },
     "user_tz": -330
    },
    "id": "7ns3vwlIiihQ",
    "outputId": "84b1912f-7c68-4fcc-b132-c73f14566e93"
   },
   "outputs": [],
   "source": [
    "max_sharpe=pc['Sharpe Ratio'].max()                                             #Best optimised portfolio wrt sharpe ratio\n",
    "max_sharpe_portfolio=pc.loc[pc['Sharpe Ratio'] == max_sharpe]\n",
    "max_sharpe_portfolio"
   ]
  },
  {
   "cell_type": "code",
   "execution_count": null,
   "metadata": {
    "colab": {
     "base_uri": "https://localhost:8080/",
     "height": 117
    },
    "executionInfo": {
     "elapsed": 10,
     "status": "ok",
     "timestamp": 1621600636250,
     "user": {
      "displayName": "Dhiraj Patidar",
      "photoUrl": "",
      "userId": "01911352281812304855"
     },
     "user_tz": -330
    },
    "id": "UC-kxQbux5jc",
    "outputId": "88f6ad88-af94-469b-ac2d-20c125254bba"
   },
   "outputs": [],
   "source": [
    "max_sortino=pc['Sortino Ratio'].max()                                            #Best optimised portfolio wrt sortino ratio\n",
    "max_sortino_portfolio=pc.loc[pc['Sortino Ratio'] == max_sortino]\n",
    "max_sortino_portfolio"
   ]
  },
  {
   "cell_type": "code",
   "execution_count": null,
   "metadata": {
    "id": "z98t-uDoHI6_"
   },
   "outputs": [],
   "source": [
    "#code for visualization is to be written"
   ]
  },
  {
   "cell_type": "code",
   "execution_count": null,
   "metadata": {},
   "outputs": [],
   "source": [
    "pc_sharpe=pc.drop(columns=['Sortino Ratio','Semi-Deviation'])"
   ]
  },
  {
   "cell_type": "code",
   "execution_count": null,
   "metadata": {},
   "outputs": [],
   "source": [
    "pc_sharpe_top10=pc_sharpe.sort_values(by=['Sharpe Ratio'],ascending=False).head(10)"
   ]
  },
  {
   "cell_type": "code",
   "execution_count": null,
   "metadata": {},
   "outputs": [],
   "source": [
    "pc_sharpe_top10.to_csv('Sharpe_Top10_MV.csv')"
   ]
  },
  {
   "cell_type": "code",
   "execution_count": null,
   "metadata": {},
   "outputs": [],
   "source": [
    "pc_sharpe_bottom10=pc_sharpe.sort_values(by=['Sharpe Ratio'],ascending=False).tail(10)"
   ]
  },
  {
   "cell_type": "code",
   "execution_count": null,
   "metadata": {},
   "outputs": [],
   "source": [
    "pc_sharpe_bottom10.to_csv('Sharpe_Bottom10_MV.csv')"
   ]
  },
  {
   "cell_type": "code",
   "execution_count": null,
   "metadata": {},
   "outputs": [],
   "source": [
    "pc_sharpe_bottom10\n"
   ]
  },
  {
   "cell_type": "code",
   "execution_count": null,
   "metadata": {},
   "outputs": [],
   "source": [
    "pc_sharpe_top10"
   ]
  },
  {
   "cell_type": "code",
   "execution_count": null,
   "metadata": {},
   "outputs": [],
   "source": [
    "sharpe_optimal_portfolio=pc_sharpe_top10.head(1)"
   ]
  },
  {
   "cell_type": "code",
   "execution_count": null,
   "metadata": {},
   "outputs": [],
   "source": [
    "sharpe_optimal_portfolio.to_csv('Sharpe_Optimal_MV.csv')"
   ]
  },
  {
   "cell_type": "code",
   "execution_count": null,
   "metadata": {},
   "outputs": [],
   "source": [
    "sharpe_optimal_portfolio.T"
   ]
  },
  {
   "cell_type": "code",
   "execution_count": null,
   "metadata": {},
   "outputs": [],
   "source": [
    "pc_sortino=pc.drop(columns=['Sharpe Ratio','Standard Deviation'])"
   ]
  },
  {
   "cell_type": "code",
   "execution_count": null,
   "metadata": {},
   "outputs": [],
   "source": [
    "pc_sortino_top10=pc_sortino.sort_values(by=['Sortino Ratio'],ascending=False).head(10)"
   ]
  },
  {
   "cell_type": "code",
   "execution_count": null,
   "metadata": {},
   "outputs": [],
   "source": [
    "pc_sortino_top10.to_csv('Sortino_Top10_MV.csv')"
   ]
  },
  {
   "cell_type": "code",
   "execution_count": null,
   "metadata": {},
   "outputs": [],
   "source": [
    "pc_sortino_top10"
   ]
  },
  {
   "cell_type": "code",
   "execution_count": null,
   "metadata": {},
   "outputs": [],
   "source": [
    "pc_sortino_bottom10=pc_sortino.sort_values(by=['Sortino Ratio'],ascending=False).tail(10)"
   ]
  },
  {
   "cell_type": "code",
   "execution_count": null,
   "metadata": {},
   "outputs": [],
   "source": [
    "pc_sortino_bottom10.to_csv('Sortino_Bottom10_MV.csv')"
   ]
  },
  {
   "cell_type": "code",
   "execution_count": null,
   "metadata": {},
   "outputs": [],
   "source": [
    "pc_sortino_bottom10"
   ]
  },
  {
   "cell_type": "code",
   "execution_count": null,
   "metadata": {},
   "outputs": [],
   "source": [
    "sortino_optimal_portfolio=pc_sortino_top10.head(1)"
   ]
  },
  {
   "cell_type": "code",
   "execution_count": null,
   "metadata": {},
   "outputs": [],
   "source": [
    "sortino_optimal_portfolio.to_csv('Sortino_Optimal_MV.csv')"
   ]
  },
  {
   "cell_type": "code",
   "execution_count": null,
   "metadata": {},
   "outputs": [],
   "source": [
    "sortino_optimal_portfolio.T"
   ]
  },
  {
   "cell_type": "code",
   "execution_count": null,
   "metadata": {},
   "outputs": [],
   "source": [
    "edf=pd.read_csv('n50.csv',parse_dates=['Date'],index_col='Date')\n",
    "edf = edf.loc[\"2016-01-01\" : ]   \n",
    "edf.reset_index(drop=True, inplace=True)\n",
    "(edf / edf.iloc[0]*100).plot(figsize=(10,5))\n"
   ]
  },
  {
   "cell_type": "code",
   "execution_count": null,
   "metadata": {},
   "outputs": [],
   "source": [
    "plt.style.use('seaborn')\n",
    "pc_sharpe.plot.scatter(x='Standard Deviation', y='Returns', marker='o',figsize=(20, 10), grid=True)\n",
    "plt.xlabel('Volatility (Std. Deviation)')\n",
    "plt.ylabel('Expected Returns')\n",
    "plt.title('Efficient Frontier')\n",
    "plt.show()"
   ]
  },
  {
   "cell_type": "code",
   "execution_count": null,
   "metadata": {},
   "outputs": [],
   "source": [
    "#GREEN STAR-> Optimal Risky Portfolio\n",
    "#RED STAR-> Minimum Volatility\n",
    "plt.subplots(figsize=(20, 10))\n",
    "plt.xlabel(\"Expected Volatility\")\n",
    "plt.ylabel(\"Returns\")\n",
    "plt.scatter(pc_sharpe['Standard Deviation'], pc_sharpe['Returns'],marker='o', s=10, alpha=0.3)\n",
    "plt.scatter(minimum_risk_portfolio['Standard Deviation'], minimum_risk_portfolio['Returns'], color='r', marker='*', s=500)\n",
    "plt.scatter(sharpe_optimal_portfolio['Standard Deviation'], sharpe_optimal_portfolio['Returns'], color='g', marker='*', s=500)\n"
   ]
  },
  {
   "cell_type": "code",
   "execution_count": null,
   "metadata": {},
   "outputs": [],
   "source": []
  }
 ],
 "metadata": {
  "colab": {
   "collapsed_sections": [],
   "name": "MV_model.ipynb",
   "provenance": []
  },
  "kernelspec": {
   "display_name": "Python 3 (ipykernel)",
   "language": "python",
   "name": "python3"
  },
  "language_info": {
   "codemirror_mode": {
    "name": "ipython",
    "version": 3
   },
   "file_extension": ".py",
   "mimetype": "text/x-python",
   "name": "python",
   "nbconvert_exporter": "python",
   "pygments_lexer": "ipython3",
   "version": "3.9.6"
  }
 },
 "nbformat": 4,
 "nbformat_minor": 1
}
