{
 "cells": [
  {
   "cell_type": "code",
   "execution_count": null,
   "metadata": {},
   "outputs": [],
   "source": [
    "import pandas as pd\n",
    "import numpy as np\n",
    "from datetime import date,timedelta"
   ]
  },
  {
   "cell_type": "code",
   "execution_count": null,
   "metadata": {},
   "outputs": [],
   "source": [
    "from yahoofinance import HistoricalPrices as get_history\n",
    "#ensure yahoofinance package is installed  \"pip install yahoofinance\"\n",
    "import yfinance as yf"
   ]
  },
  {
   "cell_type": "markdown",
   "metadata": {},
   "source": [
    "# Change the dates here carefully "
   ]
  },
  {
   "cell_type": "code",
   "execution_count": null,
   "metadata": {},
   "outputs": [],
   "source": [
    "start_date = date(2021,1,8)\n",
    "#date in Year, Month, Day\n",
    "end_date = date(2021,1,13)"
   ]
  },
  {
   "cell_type": "code",
   "execution_count": null,
   "metadata": {},
   "outputs": [],
   "source": [
    "#nifty_50_stocks_list=pd.read_csv('ind_nifty50list2022.csv')\n",
    "#use the csv file from nifty website\n",
    "nifty_50_stocks = [\"ASIANPAINT\",\"BAJFINANCE\",\"BAJAJFINSV\",\"BRITANNIA\",'DIVISLAB','GRASIM','HCLTECH','HDFCBANK',\n",
    "                   'HINDALCO','HINDUNILVR','ICICIBANK','INFY','JSWSTEEL','LT','NESTLEIND','POWERGRID','RELIANCE','TCS','TATACONSUM','TATASTEEL',\n",
    "                   'TECHM','TITAN','ULTRACEMCO','WIPRO'] \n",
    "#Choose the stock symbols"
   ]
  },
  {
   "cell_type": "markdown",
   "metadata": {},
   "source": [
    "## Data collection\n",
    "### "
   ]
  },
  {
   "cell_type": "code",
   "execution_count": null,
   "metadata": {
    "scrolled": true
   },
   "outputs": [],
   "source": [
    "k=0 \n",
    "for i in nifty_50_stocks :\n",
    "    print(str(k+1)+\": stock_name:\\t\", i)\n",
    "    k+=1\n",
    "    x = yf.download( i+'.NS',start=start_date,end=end_date) #yahoofinance function to get the stock data\n",
    "    \n",
    "    x.to_csv('{}.csv'.format(i))"
   ]
  },
  {
   "cell_type": "code",
   "execution_count": null,
   "metadata": {},
   "outputs": [],
   "source": [
    "nifty50=pd.DataFrame()\n",
    "nifty50"
   ]
  },
  {
   "cell_type": "code",
   "execution_count": null,
   "metadata": {},
   "outputs": [],
   "source": [
    "for i in nifty_50_stocks:\n",
    "    x = pd.read_csv('{}.csv'.format(i), usecols=[\"Adj Close\",\"Date\"],index_col=\"Date\")\n",
    "    nifty50 = pd.concat([nifty50,x],axis = 1)                                                       \n",
    "#getting each stock data one by one and concatanating it into the 'allData' frame"
   ]
  },
  {
   "cell_type": "code",
   "execution_count": null,
   "metadata": {},
   "outputs": [],
   "source": [
    "nifty50.columns=nifty_50_stocks "
   ]
  },
  {
   "cell_type": "code",
   "execution_count": null,
   "metadata": {},
   "outputs": [],
   "source": [
    "nifty50"
   ]
  },
  {
   "cell_type": "code",
   "execution_count": null,
   "metadata": {},
   "outputs": [],
   "source": [
    "nifty50_open=pd.DataFrame()\n",
    "nifty50_open"
   ]
  },
  {
   "cell_type": "code",
   "execution_count": null,
   "metadata": {},
   "outputs": [],
   "source": []
  },
  {
   "cell_type": "code",
   "execution_count": null,
   "metadata": {},
   "outputs": [],
   "source": [
    "for i in nifty_50_stocks:\n",
    "    x = pd.read_csv('{}.csv'.format(i), usecols=[\"Open\",\"Date\"],index_col=\"Date\")\n",
    "    nifty50_open = pd.concat([nifty50_open,x],axis = 1)                                                       \n",
    "#getting each stock data one by one and concatanating it into the 'allData' frame"
   ]
  },
  {
   "cell_type": "code",
   "execution_count": null,
   "metadata": {},
   "outputs": [],
   "source": [
    "nifty50_open.columns=nifty_50_stocks "
   ]
  },
  {
   "cell_type": "code",
   "execution_count": null,
   "metadata": {},
   "outputs": [],
   "source": [
    "nifty50_open"
   ]
  },
  {
   "cell_type": "code",
   "execution_count": null,
   "metadata": {},
   "outputs": [],
   "source": [
    "nifty50-nifty50_open"
   ]
  },
  {
   "cell_type": "code",
   "execution_count": null,
   "metadata": {},
   "outputs": [],
   "source": [
    "nifty50_final=(nifty50-nifty50_open)/nifty50_open"
   ]
  },
  {
   "cell_type": "code",
   "execution_count": null,
   "metadata": {},
   "outputs": [],
   "source": [
    "nifty50_final"
   ]
  },
  {
   "cell_type": "code",
   "execution_count": null,
   "metadata": {},
   "outputs": [],
   "source": [
    "nifty50_final.to_csv(str(end_date - timedelta(days=1))+'_B.csv')  #saving the data without preprocessing"
   ]
  },
  {
   "cell_type": "code",
   "execution_count": null,
   "metadata": {},
   "outputs": [],
   "source": []
  }
 ],
 "metadata": {
  "kernelspec": {
   "display_name": "Python 3 (ipykernel)",
   "language": "python",
   "name": "python3"
  },
  "language_info": {
   "codemirror_mode": {
    "name": "ipython",
    "version": 3
   },
   "file_extension": ".py",
   "mimetype": "text/x-python",
   "name": "python",
   "nbconvert_exporter": "python",
   "pygments_lexer": "ipython3",
   "version": "3.9.6"
  }
 },
 "nbformat": 4,
 "nbformat_minor": 4
}
