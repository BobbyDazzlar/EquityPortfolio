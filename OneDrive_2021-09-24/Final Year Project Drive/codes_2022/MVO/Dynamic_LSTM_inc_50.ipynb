{
 "cells": [
  {
   "cell_type": "code",
   "execution_count": 1,
   "metadata": {
    "executionInfo": {
     "elapsed": 3153,
     "status": "ok",
     "timestamp": 1623817299021,
     "user": {
      "displayName": "Dhiraj Patidar",
      "photoUrl": "",
      "userId": "01911352281812304855"
     },
     "user_tz": -330
    },
    "id": "0ZUpAr9hmscg"
   },
   "outputs": [
    {
     "ename": "KeyboardInterrupt",
     "evalue": "",
     "output_type": "error",
     "traceback": [
      "\u001B[1;31m---------------------------------------------------------------------------\u001B[0m",
      "\u001B[1;31mKeyboardInterrupt\u001B[0m                         Traceback (most recent call last)",
      "\u001B[1;32m~\\AppData\\Local\\Temp/ipykernel_15376/1141301952.py\u001B[0m in \u001B[0;36m<module>\u001B[1;34m\u001B[0m\n\u001B[0;32m      8\u001B[0m \u001B[1;32mfrom\u001B[0m \u001B[0msklearn\u001B[0m\u001B[1;33m.\u001B[0m\u001B[0mmetrics\u001B[0m \u001B[1;32mimport\u001B[0m \u001B[0mmean_squared_error\u001B[0m\u001B[1;33m\u001B[0m\u001B[1;33m\u001B[0m\u001B[0m\n\u001B[0;32m      9\u001B[0m \u001B[1;32mfrom\u001B[0m \u001B[0msklearn\u001B[0m\u001B[1;33m.\u001B[0m\u001B[0mpreprocessing\u001B[0m \u001B[1;32mimport\u001B[0m \u001B[0mMinMaxScaler\u001B[0m\u001B[1;33m\u001B[0m\u001B[1;33m\u001B[0m\u001B[0m\n\u001B[1;32m---> 10\u001B[1;33m \u001B[1;32mfrom\u001B[0m \u001B[0mtensorflow\u001B[0m\u001B[1;33m.\u001B[0m\u001B[0mkeras\u001B[0m \u001B[1;32mimport\u001B[0m \u001B[0mlayers\u001B[0m\u001B[1;33m\u001B[0m\u001B[1;33m\u001B[0m\u001B[0m\n\u001B[0m\u001B[0;32m     11\u001B[0m \u001B[1;32mfrom\u001B[0m \u001B[0mtensorflow\u001B[0m\u001B[1;33m.\u001B[0m\u001B[0mkeras\u001B[0m\u001B[1;33m.\u001B[0m\u001B[0mmodels\u001B[0m \u001B[1;32mimport\u001B[0m \u001B[0mSequential\u001B[0m\u001B[1;33m\u001B[0m\u001B[1;33m\u001B[0m\u001B[0m\n\u001B[0;32m     12\u001B[0m \u001B[1;32mfrom\u001B[0m \u001B[0mtensorflow\u001B[0m\u001B[1;33m.\u001B[0m\u001B[0mkeras\u001B[0m\u001B[1;33m.\u001B[0m\u001B[0mlayers\u001B[0m \u001B[1;32mimport\u001B[0m \u001B[0mDense\u001B[0m\u001B[1;33m\u001B[0m\u001B[1;33m\u001B[0m\u001B[0m\n",
      "\u001B[1;32mc:\\users\\dell\\appdata\\local\\programs\\python\\python39\\lib\\site-packages\\tensorflow\\__init__.py\u001B[0m in \u001B[0;36m<module>\u001B[1;34m\u001B[0m\n\u001B[0;32m     39\u001B[0m \u001B[1;32mimport\u001B[0m \u001B[0msys\u001B[0m \u001B[1;32mas\u001B[0m \u001B[0m_sys\u001B[0m\u001B[1;33m\u001B[0m\u001B[1;33m\u001B[0m\u001B[0m\n\u001B[0;32m     40\u001B[0m \u001B[1;33m\u001B[0m\u001B[0m\n\u001B[1;32m---> 41\u001B[1;33m \u001B[1;32mfrom\u001B[0m \u001B[0mtensorflow\u001B[0m\u001B[1;33m.\u001B[0m\u001B[0mpython\u001B[0m\u001B[1;33m.\u001B[0m\u001B[0mtools\u001B[0m \u001B[1;32mimport\u001B[0m \u001B[0mmodule_util\u001B[0m \u001B[1;32mas\u001B[0m \u001B[0m_module_util\u001B[0m\u001B[1;33m\u001B[0m\u001B[1;33m\u001B[0m\u001B[0m\n\u001B[0m\u001B[0;32m     42\u001B[0m \u001B[1;32mfrom\u001B[0m \u001B[0mtensorflow\u001B[0m\u001B[1;33m.\u001B[0m\u001B[0mpython\u001B[0m\u001B[1;33m.\u001B[0m\u001B[0mutil\u001B[0m\u001B[1;33m.\u001B[0m\u001B[0mlazy_loader\u001B[0m \u001B[1;32mimport\u001B[0m \u001B[0mLazyLoader\u001B[0m \u001B[1;32mas\u001B[0m \u001B[0m_LazyLoader\u001B[0m\u001B[1;33m\u001B[0m\u001B[1;33m\u001B[0m\u001B[0m\n\u001B[0;32m     43\u001B[0m \u001B[1;33m\u001B[0m\u001B[0m\n",
      "\u001B[1;32mc:\\users\\dell\\appdata\\local\\programs\\python\\python39\\lib\\site-packages\\tensorflow\\python\\__init__.py\u001B[0m in \u001B[0;36m<module>\u001B[1;34m\u001B[0m\n\u001B[0;32m     44\u001B[0m \u001B[1;33m\u001B[0m\u001B[0m\n\u001B[0;32m     45\u001B[0m \u001B[1;31m# Bring in subpackages.\u001B[0m\u001B[1;33m\u001B[0m\u001B[1;33m\u001B[0m\u001B[1;33m\u001B[0m\u001B[0m\n\u001B[1;32m---> 46\u001B[1;33m \u001B[1;32mfrom\u001B[0m \u001B[0mtensorflow\u001B[0m\u001B[1;33m.\u001B[0m\u001B[0mpython\u001B[0m \u001B[1;32mimport\u001B[0m \u001B[0mdata\u001B[0m\u001B[1;33m\u001B[0m\u001B[1;33m\u001B[0m\u001B[0m\n\u001B[0m\u001B[0;32m     47\u001B[0m \u001B[1;32mfrom\u001B[0m \u001B[0mtensorflow\u001B[0m\u001B[1;33m.\u001B[0m\u001B[0mpython\u001B[0m \u001B[1;32mimport\u001B[0m \u001B[0mdistribute\u001B[0m\u001B[1;33m\u001B[0m\u001B[1;33m\u001B[0m\u001B[0m\n\u001B[0;32m     48\u001B[0m \u001B[1;31m# from tensorflow.python import keras\u001B[0m\u001B[1;33m\u001B[0m\u001B[1;33m\u001B[0m\u001B[1;33m\u001B[0m\u001B[0m\n",
      "\u001B[1;32mc:\\users\\dell\\appdata\\local\\programs\\python\\python39\\lib\\site-packages\\tensorflow\\python\\data\\__init__.py\u001B[0m in \u001B[0;36m<module>\u001B[1;34m\u001B[0m\n\u001B[0;32m     23\u001B[0m \u001B[1;33m\u001B[0m\u001B[0m\n\u001B[0;32m     24\u001B[0m \u001B[1;31m# pylint: disable=unused-import\u001B[0m\u001B[1;33m\u001B[0m\u001B[1;33m\u001B[0m\u001B[1;33m\u001B[0m\u001B[0m\n\u001B[1;32m---> 25\u001B[1;33m \u001B[1;32mfrom\u001B[0m \u001B[0mtensorflow\u001B[0m\u001B[1;33m.\u001B[0m\u001B[0mpython\u001B[0m\u001B[1;33m.\u001B[0m\u001B[0mdata\u001B[0m \u001B[1;32mimport\u001B[0m \u001B[0mexperimental\u001B[0m\u001B[1;33m\u001B[0m\u001B[1;33m\u001B[0m\u001B[0m\n\u001B[0m\u001B[0;32m     26\u001B[0m \u001B[1;32mfrom\u001B[0m \u001B[0mtensorflow\u001B[0m\u001B[1;33m.\u001B[0m\u001B[0mpython\u001B[0m\u001B[1;33m.\u001B[0m\u001B[0mdata\u001B[0m\u001B[1;33m.\u001B[0m\u001B[0mops\u001B[0m\u001B[1;33m.\u001B[0m\u001B[0mdataset_ops\u001B[0m \u001B[1;32mimport\u001B[0m \u001B[0mAUTOTUNE\u001B[0m\u001B[1;33m\u001B[0m\u001B[1;33m\u001B[0m\u001B[0m\n\u001B[0;32m     27\u001B[0m \u001B[1;32mfrom\u001B[0m \u001B[0mtensorflow\u001B[0m\u001B[1;33m.\u001B[0m\u001B[0mpython\u001B[0m\u001B[1;33m.\u001B[0m\u001B[0mdata\u001B[0m\u001B[1;33m.\u001B[0m\u001B[0mops\u001B[0m\u001B[1;33m.\u001B[0m\u001B[0mdataset_ops\u001B[0m \u001B[1;32mimport\u001B[0m \u001B[0mDataset\u001B[0m\u001B[1;33m\u001B[0m\u001B[1;33m\u001B[0m\u001B[0m\n",
      "\u001B[1;32mc:\\users\\dell\\appdata\\local\\programs\\python\\python39\\lib\\site-packages\\tensorflow\\python\\data\\experimental\\__init__.py\u001B[0m in \u001B[0;36m<module>\u001B[1;34m\u001B[0m\n\u001B[0;32m     95\u001B[0m \u001B[1;33m\u001B[0m\u001B[0m\n\u001B[0;32m     96\u001B[0m \u001B[1;31m# pylint: disable=unused-import\u001B[0m\u001B[1;33m\u001B[0m\u001B[1;33m\u001B[0m\u001B[1;33m\u001B[0m\u001B[0m\n\u001B[1;32m---> 97\u001B[1;33m \u001B[1;32mfrom\u001B[0m \u001B[0mtensorflow\u001B[0m\u001B[1;33m.\u001B[0m\u001B[0mpython\u001B[0m\u001B[1;33m.\u001B[0m\u001B[0mdata\u001B[0m\u001B[1;33m.\u001B[0m\u001B[0mexperimental\u001B[0m \u001B[1;32mimport\u001B[0m \u001B[0mservice\u001B[0m\u001B[1;33m\u001B[0m\u001B[1;33m\u001B[0m\u001B[0m\n\u001B[0m\u001B[0;32m     98\u001B[0m \u001B[1;32mfrom\u001B[0m \u001B[0mtensorflow\u001B[0m\u001B[1;33m.\u001B[0m\u001B[0mpython\u001B[0m\u001B[1;33m.\u001B[0m\u001B[0mdata\u001B[0m\u001B[1;33m.\u001B[0m\u001B[0mexperimental\u001B[0m\u001B[1;33m.\u001B[0m\u001B[0mops\u001B[0m\u001B[1;33m.\u001B[0m\u001B[0mbatching\u001B[0m \u001B[1;32mimport\u001B[0m \u001B[0mdense_to_ragged_batch\u001B[0m\u001B[1;33m\u001B[0m\u001B[1;33m\u001B[0m\u001B[0m\n\u001B[0;32m     99\u001B[0m \u001B[1;32mfrom\u001B[0m \u001B[0mtensorflow\u001B[0m\u001B[1;33m.\u001B[0m\u001B[0mpython\u001B[0m\u001B[1;33m.\u001B[0m\u001B[0mdata\u001B[0m\u001B[1;33m.\u001B[0m\u001B[0mexperimental\u001B[0m\u001B[1;33m.\u001B[0m\u001B[0mops\u001B[0m\u001B[1;33m.\u001B[0m\u001B[0mbatching\u001B[0m \u001B[1;32mimport\u001B[0m \u001B[0mdense_to_sparse_batch\u001B[0m\u001B[1;33m\u001B[0m\u001B[1;33m\u001B[0m\u001B[0m\n",
      "\u001B[1;32mc:\\users\\dell\\appdata\\local\\programs\\python\\python39\\lib\\site-packages\\tensorflow\\python\\data\\experimental\\service\\__init__.py\u001B[0m in \u001B[0;36m<module>\u001B[1;34m\u001B[0m\n\u001B[0;32m    351\u001B[0m \u001B[1;32mfrom\u001B[0m \u001B[0m__future__\u001B[0m \u001B[1;32mimport\u001B[0m \u001B[0mprint_function\u001B[0m\u001B[1;33m\u001B[0m\u001B[1;33m\u001B[0m\u001B[0m\n\u001B[0;32m    352\u001B[0m \u001B[1;33m\u001B[0m\u001B[0m\n\u001B[1;32m--> 353\u001B[1;33m \u001B[1;32mfrom\u001B[0m \u001B[0mtensorflow\u001B[0m\u001B[1;33m.\u001B[0m\u001B[0mpython\u001B[0m\u001B[1;33m.\u001B[0m\u001B[0mdata\u001B[0m\u001B[1;33m.\u001B[0m\u001B[0mexperimental\u001B[0m\u001B[1;33m.\u001B[0m\u001B[0mops\u001B[0m\u001B[1;33m.\u001B[0m\u001B[0mdata_service_ops\u001B[0m \u001B[1;32mimport\u001B[0m \u001B[0mdistribute\u001B[0m\u001B[1;33m\u001B[0m\u001B[1;33m\u001B[0m\u001B[0m\n\u001B[0m\u001B[0;32m    354\u001B[0m \u001B[1;32mfrom\u001B[0m \u001B[0mtensorflow\u001B[0m\u001B[1;33m.\u001B[0m\u001B[0mpython\u001B[0m\u001B[1;33m.\u001B[0m\u001B[0mdata\u001B[0m\u001B[1;33m.\u001B[0m\u001B[0mexperimental\u001B[0m\u001B[1;33m.\u001B[0m\u001B[0mops\u001B[0m\u001B[1;33m.\u001B[0m\u001B[0mdata_service_ops\u001B[0m \u001B[1;32mimport\u001B[0m \u001B[0mfrom_dataset_id\u001B[0m\u001B[1;33m\u001B[0m\u001B[1;33m\u001B[0m\u001B[0m\n\u001B[0;32m    355\u001B[0m \u001B[1;32mfrom\u001B[0m \u001B[0mtensorflow\u001B[0m\u001B[1;33m.\u001B[0m\u001B[0mpython\u001B[0m\u001B[1;33m.\u001B[0m\u001B[0mdata\u001B[0m\u001B[1;33m.\u001B[0m\u001B[0mexperimental\u001B[0m\u001B[1;33m.\u001B[0m\u001B[0mops\u001B[0m\u001B[1;33m.\u001B[0m\u001B[0mdata_service_ops\u001B[0m \u001B[1;32mimport\u001B[0m \u001B[0mregister_dataset\u001B[0m\u001B[1;33m\u001B[0m\u001B[1;33m\u001B[0m\u001B[0m\n",
      "\u001B[1;32mc:\\users\\dell\\appdata\\local\\programs\\python\\python39\\lib\\site-packages\\tensorflow\\python\\data\\experimental\\ops\\data_service_ops.py\u001B[0m in \u001B[0;36m<module>\u001B[1;34m\u001B[0m\n\u001B[0;32m     28\u001B[0m \u001B[1;32mfrom\u001B[0m \u001B[0mtensorflow\u001B[0m\u001B[1;33m.\u001B[0m\u001B[0mpython\u001B[0m\u001B[1;33m.\u001B[0m\u001B[0mdata\u001B[0m\u001B[1;33m.\u001B[0m\u001B[0mexperimental\u001B[0m\u001B[1;33m.\u001B[0m\u001B[0mops\u001B[0m\u001B[1;33m.\u001B[0m\u001B[0mdistribute_options\u001B[0m \u001B[1;32mimport\u001B[0m \u001B[0mExternalStatePolicy\u001B[0m\u001B[1;33m\u001B[0m\u001B[1;33m\u001B[0m\u001B[0m\n\u001B[0;32m     29\u001B[0m \u001B[1;32mfrom\u001B[0m \u001B[0mtensorflow\u001B[0m\u001B[1;33m.\u001B[0m\u001B[0mpython\u001B[0m\u001B[1;33m.\u001B[0m\u001B[0mdata\u001B[0m\u001B[1;33m.\u001B[0m\u001B[0mexperimental\u001B[0m\u001B[1;33m.\u001B[0m\u001B[0mservice\u001B[0m \u001B[1;32mimport\u001B[0m \u001B[0m_pywrap_utils\u001B[0m\u001B[1;33m\u001B[0m\u001B[1;33m\u001B[0m\u001B[0m\n\u001B[1;32m---> 30\u001B[1;33m \u001B[1;32mfrom\u001B[0m \u001B[0mtensorflow\u001B[0m\u001B[1;33m.\u001B[0m\u001B[0mpython\u001B[0m\u001B[1;33m.\u001B[0m\u001B[0mdata\u001B[0m\u001B[1;33m.\u001B[0m\u001B[0mops\u001B[0m \u001B[1;32mimport\u001B[0m \u001B[0mdataset_ops\u001B[0m\u001B[1;33m\u001B[0m\u001B[1;33m\u001B[0m\u001B[0m\n\u001B[0m\u001B[0;32m     31\u001B[0m \u001B[1;32mfrom\u001B[0m \u001B[0mtensorflow\u001B[0m\u001B[1;33m.\u001B[0m\u001B[0mpython\u001B[0m\u001B[1;33m.\u001B[0m\u001B[0mframework\u001B[0m \u001B[1;32mimport\u001B[0m \u001B[0mdtypes\u001B[0m\u001B[1;33m\u001B[0m\u001B[1;33m\u001B[0m\u001B[0m\n\u001B[0;32m     32\u001B[0m \u001B[1;32mfrom\u001B[0m \u001B[0mtensorflow\u001B[0m\u001B[1;33m.\u001B[0m\u001B[0mpython\u001B[0m\u001B[1;33m.\u001B[0m\u001B[0mframework\u001B[0m \u001B[1;32mimport\u001B[0m \u001B[0mops\u001B[0m\u001B[1;33m\u001B[0m\u001B[1;33m\u001B[0m\u001B[0m\n",
      "\u001B[1;32mc:\\users\\dell\\appdata\\local\\programs\\python\\python39\\lib\\site-packages\\tensorflow\\python\\data\\ops\\dataset_ops.py\u001B[0m in \u001B[0;36m<module>\u001B[1;34m\u001B[0m\n\u001B[0;32m     37\u001B[0m \u001B[1;32mfrom\u001B[0m \u001B[0mtensorflow\u001B[0m\u001B[1;33m.\u001B[0m\u001B[0mpython\u001B[0m\u001B[1;33m.\u001B[0m\u001B[0mdata\u001B[0m\u001B[1;33m.\u001B[0m\u001B[0mexperimental\u001B[0m\u001B[1;33m.\u001B[0m\u001B[0mops\u001B[0m \u001B[1;32mimport\u001B[0m \u001B[0moptimization_options\u001B[0m\u001B[1;33m\u001B[0m\u001B[1;33m\u001B[0m\u001B[0m\n\u001B[0;32m     38\u001B[0m \u001B[1;32mfrom\u001B[0m \u001B[0mtensorflow\u001B[0m\u001B[1;33m.\u001B[0m\u001B[0mpython\u001B[0m\u001B[1;33m.\u001B[0m\u001B[0mdata\u001B[0m\u001B[1;33m.\u001B[0m\u001B[0mexperimental\u001B[0m\u001B[1;33m.\u001B[0m\u001B[0mops\u001B[0m \u001B[1;32mimport\u001B[0m \u001B[0mthreading_options\u001B[0m\u001B[1;33m\u001B[0m\u001B[1;33m\u001B[0m\u001B[0m\n\u001B[1;32m---> 39\u001B[1;33m \u001B[1;32mfrom\u001B[0m \u001B[0mtensorflow\u001B[0m\u001B[1;33m.\u001B[0m\u001B[0mpython\u001B[0m\u001B[1;33m.\u001B[0m\u001B[0mdata\u001B[0m\u001B[1;33m.\u001B[0m\u001B[0mops\u001B[0m \u001B[1;32mimport\u001B[0m \u001B[0miterator_ops\u001B[0m\u001B[1;33m\u001B[0m\u001B[1;33m\u001B[0m\u001B[0m\n\u001B[0m\u001B[0;32m     40\u001B[0m \u001B[1;32mfrom\u001B[0m \u001B[0mtensorflow\u001B[0m\u001B[1;33m.\u001B[0m\u001B[0mpython\u001B[0m\u001B[1;33m.\u001B[0m\u001B[0mdata\u001B[0m\u001B[1;33m.\u001B[0m\u001B[0mutil\u001B[0m \u001B[1;32mimport\u001B[0m \u001B[0mnest\u001B[0m\u001B[1;33m\u001B[0m\u001B[1;33m\u001B[0m\u001B[0m\n\u001B[0;32m     41\u001B[0m \u001B[1;32mfrom\u001B[0m \u001B[0mtensorflow\u001B[0m\u001B[1;33m.\u001B[0m\u001B[0mpython\u001B[0m\u001B[1;33m.\u001B[0m\u001B[0mdata\u001B[0m\u001B[1;33m.\u001B[0m\u001B[0mutil\u001B[0m \u001B[1;32mimport\u001B[0m \u001B[0moptions\u001B[0m \u001B[1;32mas\u001B[0m \u001B[0moptions_lib\u001B[0m\u001B[1;33m\u001B[0m\u001B[1;33m\u001B[0m\u001B[0m\n",
      "\u001B[1;32mc:\\users\\dell\\appdata\\local\\programs\\python\\python39\\lib\\site-packages\\tensorflow\\python\\data\\ops\\iterator_ops.py\u001B[0m in \u001B[0;36m<module>\u001B[1;34m\u001B[0m\n\u001B[0;32m     37\u001B[0m \u001B[1;32mfrom\u001B[0m \u001B[0mtensorflow\u001B[0m\u001B[1;33m.\u001B[0m\u001B[0mpython\u001B[0m\u001B[1;33m.\u001B[0m\u001B[0mframework\u001B[0m \u001B[1;32mimport\u001B[0m \u001B[0mtype_spec\u001B[0m\u001B[1;33m\u001B[0m\u001B[1;33m\u001B[0m\u001B[0m\n\u001B[0;32m     38\u001B[0m \u001B[1;32mfrom\u001B[0m \u001B[0mtensorflow\u001B[0m\u001B[1;33m.\u001B[0m\u001B[0mpython\u001B[0m\u001B[1;33m.\u001B[0m\u001B[0mops\u001B[0m \u001B[1;32mimport\u001B[0m \u001B[0mgen_dataset_ops\u001B[0m\u001B[1;33m\u001B[0m\u001B[1;33m\u001B[0m\u001B[0m\n\u001B[1;32m---> 39\u001B[1;33m \u001B[1;32mfrom\u001B[0m \u001B[0mtensorflow\u001B[0m\u001B[1;33m.\u001B[0m\u001B[0mpython\u001B[0m\u001B[1;33m.\u001B[0m\u001B[0mtraining\u001B[0m\u001B[1;33m.\u001B[0m\u001B[0msaver\u001B[0m \u001B[1;32mimport\u001B[0m \u001B[0mBaseSaverBuilder\u001B[0m\u001B[1;33m\u001B[0m\u001B[1;33m\u001B[0m\u001B[0m\n\u001B[0m\u001B[0;32m     40\u001B[0m \u001B[1;32mfrom\u001B[0m \u001B[0mtensorflow\u001B[0m\u001B[1;33m.\u001B[0m\u001B[0mpython\u001B[0m\u001B[1;33m.\u001B[0m\u001B[0mtraining\u001B[0m\u001B[1;33m.\u001B[0m\u001B[0mtracking\u001B[0m \u001B[1;32mimport\u001B[0m \u001B[0mbase\u001B[0m \u001B[1;32mas\u001B[0m \u001B[0mtrackable\u001B[0m\u001B[1;33m\u001B[0m\u001B[1;33m\u001B[0m\u001B[0m\n\u001B[0;32m     41\u001B[0m \u001B[1;32mfrom\u001B[0m \u001B[0mtensorflow\u001B[0m\u001B[1;33m.\u001B[0m\u001B[0mpython\u001B[0m\u001B[1;33m.\u001B[0m\u001B[0mutil\u001B[0m \u001B[1;32mimport\u001B[0m \u001B[0mdeprecation\u001B[0m\u001B[1;33m\u001B[0m\u001B[1;33m\u001B[0m\u001B[0m\n",
      "\u001B[1;32mc:\\users\\dell\\appdata\\local\\programs\\python\\python39\\lib\\site-packages\\tensorflow\\python\\training\\saver.py\u001B[0m in \u001B[0;36m<module>\u001B[1;34m\u001B[0m\n\u001B[0;32m     47\u001B[0m \u001B[1;32mfrom\u001B[0m \u001B[0mtensorflow\u001B[0m\u001B[1;33m.\u001B[0m\u001B[0mpython\u001B[0m\u001B[1;33m.\u001B[0m\u001B[0mplatform\u001B[0m \u001B[1;32mimport\u001B[0m \u001B[0mgfile\u001B[0m\u001B[1;33m\u001B[0m\u001B[1;33m\u001B[0m\u001B[0m\n\u001B[0;32m     48\u001B[0m \u001B[1;32mfrom\u001B[0m \u001B[0mtensorflow\u001B[0m\u001B[1;33m.\u001B[0m\u001B[0mpython\u001B[0m\u001B[1;33m.\u001B[0m\u001B[0mplatform\u001B[0m \u001B[1;32mimport\u001B[0m \u001B[0mtf_logging\u001B[0m \u001B[1;32mas\u001B[0m \u001B[0mlogging\u001B[0m\u001B[1;33m\u001B[0m\u001B[1;33m\u001B[0m\u001B[0m\n\u001B[1;32m---> 49\u001B[1;33m \u001B[1;32mfrom\u001B[0m \u001B[0mtensorflow\u001B[0m\u001B[1;33m.\u001B[0m\u001B[0mpython\u001B[0m\u001B[1;33m.\u001B[0m\u001B[0mtraining\u001B[0m \u001B[1;32mimport\u001B[0m \u001B[0mcheckpoint_management\u001B[0m\u001B[1;33m\u001B[0m\u001B[1;33m\u001B[0m\u001B[0m\n\u001B[0m\u001B[0;32m     50\u001B[0m \u001B[1;32mfrom\u001B[0m \u001B[0mtensorflow\u001B[0m\u001B[1;33m.\u001B[0m\u001B[0mpython\u001B[0m\u001B[1;33m.\u001B[0m\u001B[0mtraining\u001B[0m \u001B[1;32mimport\u001B[0m \u001B[0mpy_checkpoint_reader\u001B[0m\u001B[1;33m\u001B[0m\u001B[1;33m\u001B[0m\u001B[0m\n\u001B[0;32m     51\u001B[0m \u001B[1;32mfrom\u001B[0m \u001B[0mtensorflow\u001B[0m\u001B[1;33m.\u001B[0m\u001B[0mpython\u001B[0m\u001B[1;33m.\u001B[0m\u001B[0mtraining\u001B[0m \u001B[1;32mimport\u001B[0m \u001B[0mtraining_util\u001B[0m\u001B[1;33m\u001B[0m\u001B[1;33m\u001B[0m\u001B[0m\n",
      "\u001B[1;32mc:\\users\\dell\\appdata\\local\\programs\\python\\python39\\lib\\importlib\\_bootstrap.py\u001B[0m in \u001B[0;36m_find_and_load\u001B[1;34m(name, import_)\u001B[0m\n",
      "\u001B[1;32mc:\\users\\dell\\appdata\\local\\programs\\python\\python39\\lib\\importlib\\_bootstrap.py\u001B[0m in \u001B[0;36m_find_and_load_unlocked\u001B[1;34m(name, import_)\u001B[0m\n",
      "\u001B[1;32mc:\\users\\dell\\appdata\\local\\programs\\python\\python39\\lib\\importlib\\_bootstrap.py\u001B[0m in \u001B[0;36m_load_unlocked\u001B[1;34m(spec)\u001B[0m\n",
      "\u001B[1;32mc:\\users\\dell\\appdata\\local\\programs\\python\\python39\\lib\\importlib\\_bootstrap_external.py\u001B[0m in \u001B[0;36mexec_module\u001B[1;34m(self, module)\u001B[0m\n",
      "\u001B[1;32mc:\\users\\dell\\appdata\\local\\programs\\python\\python39\\lib\\importlib\\_bootstrap_external.py\u001B[0m in \u001B[0;36mget_code\u001B[1;34m(self, fullname)\u001B[0m\n",
      "\u001B[1;32mc:\\users\\dell\\appdata\\local\\programs\\python\\python39\\lib\\importlib\\_bootstrap_external.py\u001B[0m in \u001B[0;36mget_data\u001B[1;34m(self, path)\u001B[0m\n",
      "\u001B[1;31mKeyboardInterrupt\u001B[0m: "
     ]
    }
   ],
   "source": [
    "import pandas as pd\n",
    "import numpy as np           \n",
    "import numpy\n",
    "from numpy import array\n",
    "import math\n",
    "from sklearn.metrics import r2_score\n",
    "from sklearn.metrics import mean_absolute_error\n",
    "from sklearn.metrics import mean_squared_error\n",
    "from sklearn.preprocessing import MinMaxScaler\n",
    "from tensorflow.keras import layers\n",
    "from tensorflow.keras.models import Sequential\n",
    "from tensorflow.keras.layers import Dense\n",
    "from tensorflow.keras.layers import LSTM"
   ]
  },
  {
   "cell_type": "code",
   "execution_count": 2,
   "metadata": {
    "executionInfo": {
     "elapsed": 421,
     "status": "ok",
     "timestamp": 1623817347911,
     "user": {
      "displayName": "Dhiraj Patidar",
      "photoUrl": "",
      "userId": "01911352281812304855"
     },
     "user_tz": -330
    },
    "id": "Mnjvw3h0S2Yu"
   },
   "outputs": [],
   "source": [
    "#code for MAPE, referred from the url: https://scikit-learn.org/stable/modules/model_evaluation.html#mean-absolute-percentage-error\n",
    "#'eps' is an arbitrary small yet strictly positive number to avoid undefined results when y is zero.\n",
    "def mean_absolute_percentage_error(y_true, y_pred):                                        \n",
    "    y_true, y_pred = np.array(y_true), np.array(y_pred)\n",
    "    eps=0.01\n",
    "    for i in range(len(y_true)):\n",
    "      if y_true[i]==0.00:\n",
    "        y_true[i]=eps\n",
    "    return np.mean((np.abs(y_true - y_pred)) / np.abs(y_true)) * 100"
   ]
  },
  {
   "cell_type": "code",
   "execution_count": 3,
   "metadata": {
    "colab": {
     "base_uri": "https://localhost:8080/",
     "height": 443
    },
    "executionInfo": {
     "elapsed": 813,
     "status": "ok",
     "timestamp": 1623817351033,
     "user": {
      "displayName": "Dhiraj Patidar",
      "photoUrl": "",
      "userId": "01911352281812304855"
     },
     "user_tz": -330
    },
    "id": "eSaVvpyV29Hw",
    "outputId": "7d90ffa5-805e-4ca5-85f0-0887320488b9"
   },
   "outputs": [
    {
     "data": {
      "text/html": [
       "<div>\n",
       "<style scoped>\n",
       "    .dataframe tbody tr th:only-of-type {\n",
       "        vertical-align: middle;\n",
       "    }\n",
       "\n",
       "    .dataframe tbody tr th {\n",
       "        vertical-align: top;\n",
       "    }\n",
       "\n",
       "    .dataframe thead th {\n",
       "        text-align: right;\n",
       "    }\n",
       "</style>\n",
       "<table border=\"1\" class=\"dataframe\">\n",
       "  <thead>\n",
       "    <tr style=\"text-align: right;\">\n",
       "      <th></th>\n",
       "      <th>ASIANPAINT</th>\n",
       "      <th>BAJFINANCE</th>\n",
       "      <th>BAJAJFINSV</th>\n",
       "      <th>BRITANNIA</th>\n",
       "      <th>DIVISLAB</th>\n",
       "      <th>HCLTECH</th>\n",
       "      <th>HDFCBANK</th>\n",
       "      <th>HINDALCO</th>\n",
       "      <th>HINDUNILVR</th>\n",
       "      <th>HDFC</th>\n",
       "      <th>...</th>\n",
       "      <th>JSWSTEEL</th>\n",
       "      <th>KOTAKBANK</th>\n",
       "      <th>NESTLEIND</th>\n",
       "      <th>RELIANCE</th>\n",
       "      <th>SHREECEM</th>\n",
       "      <th>TCS</th>\n",
       "      <th>TATASTEEL</th>\n",
       "      <th>TECHM</th>\n",
       "      <th>TITAN</th>\n",
       "      <th>WIPRO</th>\n",
       "    </tr>\n",
       "  </thead>\n",
       "  <tbody>\n",
       "    <tr>\n",
       "      <th>0</th>\n",
       "      <td>850.608887</td>\n",
       "      <td>602.348328</td>\n",
       "      <td>1978.543457</td>\n",
       "      <td>1374.428223</td>\n",
       "      <td>1108.503052</td>\n",
       "      <td>385.106506</td>\n",
       "      <td>528.506653</td>\n",
       "      <td>82.550529</td>\n",
       "      <td>792.340698</td>\n",
       "      <td>1169.114624</td>\n",
       "      <td>...</td>\n",
       "      <td>93.927940</td>\n",
       "      <td>725.564270</td>\n",
       "      <td>5311.719238</td>\n",
       "      <td>486.556549</td>\n",
       "      <td>11121.029297</td>\n",
       "      <td>1082.013306</td>\n",
       "      <td>219.908173</td>\n",
       "      <td>461.389832</td>\n",
       "      <td>340.842285</td>\n",
       "      <td>202.975677</td>\n",
       "    </tr>\n",
       "    <tr>\n",
       "      <th>1</th>\n",
       "      <td>852.593201</td>\n",
       "      <td>598.059875</td>\n",
       "      <td>1954.307739</td>\n",
       "      <td>1368.077148</td>\n",
       "      <td>1096.297607</td>\n",
       "      <td>385.152100</td>\n",
       "      <td>519.647644</td>\n",
       "      <td>78.515373</td>\n",
       "      <td>794.607056</td>\n",
       "      <td>1130.328369</td>\n",
       "      <td>...</td>\n",
       "      <td>95.546753</td>\n",
       "      <td>703.665161</td>\n",
       "      <td>5205.810547</td>\n",
       "      <td>476.948639</td>\n",
       "      <td>10804.255859</td>\n",
       "      <td>1061.057739</td>\n",
       "      <td>219.481003</td>\n",
       "      <td>458.151581</td>\n",
       "      <td>340.212952</td>\n",
       "      <td>203.431641</td>\n",
       "    </tr>\n",
       "    <tr>\n",
       "      <th>2</th>\n",
       "      <td>871.807617</td>\n",
       "      <td>592.664673</td>\n",
       "      <td>1940.843384</td>\n",
       "      <td>1365.361816</td>\n",
       "      <td>1094.199951</td>\n",
       "      <td>383.717926</td>\n",
       "      <td>515.715759</td>\n",
       "      <td>80.314178</td>\n",
       "      <td>784.385376</td>\n",
       "      <td>1123.546631</td>\n",
       "      <td>...</td>\n",
       "      <td>99.058762</td>\n",
       "      <td>706.109497</td>\n",
       "      <td>5199.016113</td>\n",
       "      <td>481.668732</td>\n",
       "      <td>10867.756836</td>\n",
       "      <td>1051.810791</td>\n",
       "      <td>234.346603</td>\n",
       "      <td>463.031219</td>\n",
       "      <td>336.630768</td>\n",
       "      <td>203.139801</td>\n",
       "    </tr>\n",
       "    <tr>\n",
       "      <th>3</th>\n",
       "      <td>858.013977</td>\n",
       "      <td>603.474854</td>\n",
       "      <td>1933.413330</td>\n",
       "      <td>1381.469727</td>\n",
       "      <td>1084.378296</td>\n",
       "      <td>383.080475</td>\n",
       "      <td>517.997192</td>\n",
       "      <td>78.320908</td>\n",
       "      <td>779.852783</td>\n",
       "      <td>1123.453613</td>\n",
       "      <td>...</td>\n",
       "      <td>96.781441</td>\n",
       "      <td>701.969116</td>\n",
       "      <td>5251.443359</td>\n",
       "      <td>494.631134</td>\n",
       "      <td>11188.242188</td>\n",
       "      <td>1066.431152</td>\n",
       "      <td>229.604980</td>\n",
       "      <td>465.870178</td>\n",
       "      <td>336.776001</td>\n",
       "      <td>202.483200</td>\n",
       "    </tr>\n",
       "    <tr>\n",
       "      <th>4</th>\n",
       "      <td>844.413879</td>\n",
       "      <td>603.380981</td>\n",
       "      <td>1921.943726</td>\n",
       "      <td>1356.088257</td>\n",
       "      <td>1074.604370</td>\n",
       "      <td>375.636505</td>\n",
       "      <td>512.706055</td>\n",
       "      <td>74.528839</td>\n",
       "      <td>758.761841</td>\n",
       "      <td>1095.722656</td>\n",
       "      <td>...</td>\n",
       "      <td>93.868484</td>\n",
       "      <td>690.046875</td>\n",
       "      <td>5177.484863</td>\n",
       "      <td>485.550232</td>\n",
       "      <td>10725.758789</td>\n",
       "      <td>1061.796509</td>\n",
       "      <td>213.500595</td>\n",
       "      <td>453.183197</td>\n",
       "      <td>333.096954</td>\n",
       "      <td>200.568176</td>\n",
       "    </tr>\n",
       "    <tr>\n",
       "      <th>...</th>\n",
       "      <td>...</td>\n",
       "      <td>...</td>\n",
       "      <td>...</td>\n",
       "      <td>...</td>\n",
       "      <td>...</td>\n",
       "      <td>...</td>\n",
       "      <td>...</td>\n",
       "      <td>...</td>\n",
       "      <td>...</td>\n",
       "      <td>...</td>\n",
       "      <td>...</td>\n",
       "      <td>...</td>\n",
       "      <td>...</td>\n",
       "      <td>...</td>\n",
       "      <td>...</td>\n",
       "      <td>...</td>\n",
       "      <td>...</td>\n",
       "      <td>...</td>\n",
       "      <td>...</td>\n",
       "      <td>...</td>\n",
       "      <td>...</td>\n",
       "    </tr>\n",
       "    <tr>\n",
       "      <th>1309</th>\n",
       "      <td>2557.899902</td>\n",
       "      <td>4736.549805</td>\n",
       "      <td>10001.750000</td>\n",
       "      <td>3526.107910</td>\n",
       "      <td>3784.350098</td>\n",
       "      <td>918.745850</td>\n",
       "      <td>1404.800049</td>\n",
       "      <td>348.350006</td>\n",
       "      <td>2360.649902</td>\n",
       "      <td>2509.800049</td>\n",
       "      <td>...</td>\n",
       "      <td>655.799988</td>\n",
       "      <td>1759.650024</td>\n",
       "      <td>16779.318359</td>\n",
       "      <td>1937.849976</td>\n",
       "      <td>28062.599609</td>\n",
       "      <td>3085.706299</td>\n",
       "      <td>940.750000</td>\n",
       "      <td>962.200012</td>\n",
       "      <td>1479.849976</td>\n",
       "      <td>480.299988</td>\n",
       "    </tr>\n",
       "    <tr>\n",
       "      <th>1310</th>\n",
       "      <td>2574.350098</td>\n",
       "      <td>4865.049805</td>\n",
       "      <td>10091.349609</td>\n",
       "      <td>3528.100342</td>\n",
       "      <td>3908.949951</td>\n",
       "      <td>918.795288</td>\n",
       "      <td>1438.699951</td>\n",
       "      <td>366.250000</td>\n",
       "      <td>2379.850098</td>\n",
       "      <td>2518.399902</td>\n",
       "      <td>...</td>\n",
       "      <td>665.900024</td>\n",
       "      <td>1750.300049</td>\n",
       "      <td>16688.214844</td>\n",
       "      <td>1988.650024</td>\n",
       "      <td>28098.550781</td>\n",
       "      <td>3116.754150</td>\n",
       "      <td>977.750000</td>\n",
       "      <td>969.250000</td>\n",
       "      <td>1495.099976</td>\n",
       "      <td>485.049988</td>\n",
       "    </tr>\n",
       "    <tr>\n",
       "      <th>1311</th>\n",
       "      <td>2614.550049</td>\n",
       "      <td>5280.899902</td>\n",
       "      <td>10489.299805</td>\n",
       "      <td>3465.881348</td>\n",
       "      <td>3882.600098</td>\n",
       "      <td>913.799988</td>\n",
       "      <td>1476.800049</td>\n",
       "      <td>362.600006</td>\n",
       "      <td>2406.550049</td>\n",
       "      <td>2577.000000</td>\n",
       "      <td>...</td>\n",
       "      <td>662.650024</td>\n",
       "      <td>1811.449951</td>\n",
       "      <td>16543.800781</td>\n",
       "      <td>1997.300049</td>\n",
       "      <td>28687.550781</td>\n",
       "      <td>3108.892822</td>\n",
       "      <td>971.400024</td>\n",
       "      <td>977.400024</td>\n",
       "      <td>1508.849976</td>\n",
       "      <td>489.299988</td>\n",
       "    </tr>\n",
       "    <tr>\n",
       "      <th>1312</th>\n",
       "      <td>2613.449951</td>\n",
       "      <td>5484.850098</td>\n",
       "      <td>11176.549805</td>\n",
       "      <td>3456.067871</td>\n",
       "      <td>3910.850098</td>\n",
       "      <td>909.549988</td>\n",
       "      <td>1472.500000</td>\n",
       "      <td>372.149994</td>\n",
       "      <td>2407.600098</td>\n",
       "      <td>2538.850098</td>\n",
       "      <td>...</td>\n",
       "      <td>726.500000</td>\n",
       "      <td>1805.000000</td>\n",
       "      <td>16502.550781</td>\n",
       "      <td>2024.050049</td>\n",
       "      <td>28444.349609</td>\n",
       "      <td>3100.085693</td>\n",
       "      <td>1031.349976</td>\n",
       "      <td>976.900024</td>\n",
       "      <td>1506.800049</td>\n",
       "      <td>489.850006</td>\n",
       "    </tr>\n",
       "    <tr>\n",
       "      <th>1313</th>\n",
       "      <td>2536.399902</td>\n",
       "      <td>5451.899902</td>\n",
       "      <td>11041.650391</td>\n",
       "      <td>3436.241455</td>\n",
       "      <td>4062.350098</td>\n",
       "      <td>898.950012</td>\n",
       "      <td>1412.300049</td>\n",
       "      <td>364.399994</td>\n",
       "      <td>2353.750000</td>\n",
       "      <td>2420.100098</td>\n",
       "      <td>...</td>\n",
       "      <td>717.849976</td>\n",
       "      <td>1748.800049</td>\n",
       "      <td>16309.250000</td>\n",
       "      <td>1994.500000</td>\n",
       "      <td>27910.500000</td>\n",
       "      <td>3020.873291</td>\n",
       "      <td>1034.000000</td>\n",
       "      <td>960.400024</td>\n",
       "      <td>1491.650024</td>\n",
       "      <td>492.750000</td>\n",
       "    </tr>\n",
       "  </tbody>\n",
       "</table>\n",
       "<p>1314 rows × 22 columns</p>\n",
       "</div>"
      ],
      "text/plain": [
       "       ASIANPAINT   BAJFINANCE    BAJAJFINSV    BRITANNIA     DIVISLAB  \\\n",
       "0      850.608887   602.348328   1978.543457  1374.428223  1108.503052   \n",
       "1      852.593201   598.059875   1954.307739  1368.077148  1096.297607   \n",
       "2      871.807617   592.664673   1940.843384  1365.361816  1094.199951   \n",
       "3      858.013977   603.474854   1933.413330  1381.469727  1084.378296   \n",
       "4      844.413879   603.380981   1921.943726  1356.088257  1074.604370   \n",
       "...           ...          ...           ...          ...          ...   \n",
       "1309  2557.899902  4736.549805  10001.750000  3526.107910  3784.350098   \n",
       "1310  2574.350098  4865.049805  10091.349609  3528.100342  3908.949951   \n",
       "1311  2614.550049  5280.899902  10489.299805  3465.881348  3882.600098   \n",
       "1312  2613.449951  5484.850098  11176.549805  3456.067871  3910.850098   \n",
       "1313  2536.399902  5451.899902  11041.650391  3436.241455  4062.350098   \n",
       "\n",
       "         HCLTECH     HDFCBANK    HINDALCO   HINDUNILVR         HDFC  ...  \\\n",
       "0     385.106506   528.506653   82.550529   792.340698  1169.114624  ...   \n",
       "1     385.152100   519.647644   78.515373   794.607056  1130.328369  ...   \n",
       "2     383.717926   515.715759   80.314178   784.385376  1123.546631  ...   \n",
       "3     383.080475   517.997192   78.320908   779.852783  1123.453613  ...   \n",
       "4     375.636505   512.706055   74.528839   758.761841  1095.722656  ...   \n",
       "...          ...          ...         ...          ...          ...  ...   \n",
       "1309  918.745850  1404.800049  348.350006  2360.649902  2509.800049  ...   \n",
       "1310  918.795288  1438.699951  366.250000  2379.850098  2518.399902  ...   \n",
       "1311  913.799988  1476.800049  362.600006  2406.550049  2577.000000  ...   \n",
       "1312  909.549988  1472.500000  372.149994  2407.600098  2538.850098  ...   \n",
       "1313  898.950012  1412.300049  364.399994  2353.750000  2420.100098  ...   \n",
       "\n",
       "        JSWSTEEL    KOTAKBANK     NESTLEIND     RELIANCE      SHREECEM  \\\n",
       "0      93.927940   725.564270   5311.719238   486.556549  11121.029297   \n",
       "1      95.546753   703.665161   5205.810547   476.948639  10804.255859   \n",
       "2      99.058762   706.109497   5199.016113   481.668732  10867.756836   \n",
       "3      96.781441   701.969116   5251.443359   494.631134  11188.242188   \n",
       "4      93.868484   690.046875   5177.484863   485.550232  10725.758789   \n",
       "...          ...          ...           ...          ...           ...   \n",
       "1309  655.799988  1759.650024  16779.318359  1937.849976  28062.599609   \n",
       "1310  665.900024  1750.300049  16688.214844  1988.650024  28098.550781   \n",
       "1311  662.650024  1811.449951  16543.800781  1997.300049  28687.550781   \n",
       "1312  726.500000  1805.000000  16502.550781  2024.050049  28444.349609   \n",
       "1313  717.849976  1748.800049  16309.250000  1994.500000  27910.500000   \n",
       "\n",
       "              TCS    TATASTEEL       TECHM        TITAN       WIPRO  \n",
       "0     1082.013306   219.908173  461.389832   340.842285  202.975677  \n",
       "1     1061.057739   219.481003  458.151581   340.212952  203.431641  \n",
       "2     1051.810791   234.346603  463.031219   336.630768  203.139801  \n",
       "3     1066.431152   229.604980  465.870178   336.776001  202.483200  \n",
       "4     1061.796509   213.500595  453.183197   333.096954  200.568176  \n",
       "...           ...          ...         ...          ...         ...  \n",
       "1309  3085.706299   940.750000  962.200012  1479.849976  480.299988  \n",
       "1310  3116.754150   977.750000  969.250000  1495.099976  485.049988  \n",
       "1311  3108.892822   971.400024  977.400024  1508.849976  489.299988  \n",
       "1312  3100.085693  1031.349976  976.900024  1506.800049  489.850006  \n",
       "1313  3020.873291  1034.000000  960.400024  1491.650024  492.750000  \n",
       "\n",
       "[1314 rows x 22 columns]"
      ]
     },
     "execution_count": 3,
     "metadata": {},
     "output_type": "execute_result"
    }
   ],
   "source": [
    "x=pd.read_csv('n50.csv',parse_dates=['Date'],index_col='Date')\n",
    "x = x.loc[\"2016-01-01\" :]                         #Since 2016-01-01, 5y(1234rows till 2020-12-31), + year 2021's rows (till 30th of April)\n",
    "y=x.copy()                                        #deep copy\n",
    "x.reset_index(drop=True, inplace=True)\n",
    "x"
   ]
  },
  {
   "cell_type": "code",
   "execution_count": 4,
   "metadata": {
    "colab": {
     "base_uri": "https://localhost:8080/"
    },
    "executionInfo": {
     "elapsed": 607,
     "status": "ok",
     "timestamp": 1623817680052,
     "user": {
      "displayName": "Dhiraj Patidar",
      "photoUrl": "",
      "userId": "01911352281812304855"
     },
     "user_tz": -330
    },
    "id": "WePgv9O6r0I_",
    "outputId": "6b53d356-22a2-4cb5-9112-9a35c2ae048e"
   },
   "outputs": [
    {
     "data": {
      "text/plain": [
       "22"
      ]
     },
     "execution_count": 4,
     "metadata": {},
     "output_type": "execute_result"
    }
   ],
   "source": [
    "stonks=[]\n",
    "for i in x:\n",
    "  stonks.append(i)\n",
    "len(stonks)"
   ]
  },
  {
   "cell_type": "code",
   "execution_count": 5,
   "metadata": {
    "executionInfo": {
     "elapsed": 7,
     "status": "ok",
     "timestamp": 1623817682621,
     "user": {
      "displayName": "Dhiraj Patidar",
      "photoUrl": "",
      "userId": "01911352281812304855"
     },
     "user_tz": -330
    },
    "id": "JfmGW-eD2p73"
   },
   "outputs": [],
   "source": [
    "alldata=x   #the original dataset"
   ]
  },
  {
   "cell_type": "code",
   "execution_count": 6,
   "metadata": {
    "executionInfo": {
     "elapsed": 1,
     "status": "ok",
     "timestamp": 1623817685225,
     "user": {
      "displayName": "Dhiraj Patidar",
      "photoUrl": "",
      "userId": "01911352281812304855"
     },
     "user_tz": -330
    },
    "id": "NuN2s7Ogwz1k"
   },
   "outputs": [],
   "source": [
    "timesteps=60                                     #lstm hyperparameters \"Subject to be tuned\"\n",
    "epoch=1\n",
    "batchSize=32\n",
    "ineurons=175\n",
    "hneurons=187\n",
    "after2020=len(y.loc[\"2021-01-01\" : ])                    #number of days after 31-12-2020 \"automated\""
   ]
  },
  {
   "cell_type": "code",
   "execution_count": 7,
   "metadata": {
    "executionInfo": {
     "elapsed": 2,
     "status": "ok",
     "timestamp": 1623817687733,
     "user": {
      "displayName": "Dhiraj Patidar",
      "photoUrl": "",
      "userId": "01911352281812304855"
     },
     "user_tz": -330
    },
    "id": "DXcGk0vzctud"
   },
   "outputs": [],
   "source": [
    "def create_dataset(dataset, time_step=1):         # convert an array of values into a dataset matrix which will be used to train the lstm model.\n",
    "\tdataX, dataY = [], []\n",
    "\tfor i in range(len(dataset)-time_step):\n",
    "\t\ta = dataset[i:(i+time_step), 0]               #i=0, 0,1,2,3-----(timesteps-1)  -> timesteps\n",
    "\t\tdataX.append(a)\n",
    "\t\tdataY.append(dataset[i + time_step, 0])\n",
    "\treturn numpy.array(dataX), numpy.array(dataY)"
   ]
  },
  {
   "cell_type": "code",
   "execution_count": 8,
   "metadata": {
    "executionInfo": {
     "elapsed": 703,
     "status": "ok",
     "timestamp": 1623817689152,
     "user": {
      "displayName": "Dhiraj Patidar",
      "photoUrl": "",
      "userId": "01911352281812304855"
     },
     "user_tz": -330
    },
    "id": "a4weFefCyPmt"
   },
   "outputs": [],
   "source": [
    "def forcast(df1, timesteps, epoch, batchSize, ineurons, hneurons, after2020):             \n",
    "  scaler=MinMaxScaler(feature_range=(0,1))   \n",
    "  df1=scaler.fit_transform(np.array(df1).reshape(-1,1))           #minmax scalar transformation of data\n",
    "\n",
    "  before_2021_data_length=int(len(df1)-after2020)                 #length of data before 2021\n",
    "  training_size=int(before_2021_data_length*0.80)                 #80% of training size, refered from Yadav et al (2020) (Science Direct)\n",
    "  train_data=df1[0:training_size,:]                              \n",
    "  test_data=df1[training_size:before_2021_data_length,:1]         #20% of testing data, refered from Yadav et al (2020) (Science Direct)                \n",
    "  inpdata=df1[before_2021_data_length-timesteps:len(df1),:1]      #getting the data from 01-01-2021 onwards\n",
    "\n",
    "\n",
    "  #reshape into X=t,t+1,t+2,t+3,........t+\"timestep-1\" and Y=t+\"timestep\"\n",
    "  X_train, y_train = create_dataset(train_data, timesteps)\n",
    "  x_inp, y_inp = create_dataset(inpdata, timesteps)\n",
    "  x_test, y_test = create_dataset(test_data,timesteps)\n",
    "\n",
    "  X_train = X_train.reshape(X_train.shape[0],X_train.shape[1] , 1) \n",
    "  x_inp = x_inp.reshape(x_inp.shape[0],x_inp.shape[1] , 1)        #reshape input to be [samples, time steps, features] which is required for LSTM\n",
    "  x_test = x_test.reshape(x_test.shape[0],x_test.shape[1] , 1)\n",
    "\n",
    "  # initialising stacked lstm\n",
    "  model=Sequential()\n",
    "  model.add(LSTM(ineurons,return_sequences=True,input_shape=(timesteps,1),activation='tanh', dropout=0.1))\n",
    "  model.add(LSTM(hneurons,return_sequences=True,activation='tanh', dropout=0.1))\n",
    "  model.add(LSTM(hneurons,return_sequences=True,activation='tanh', dropout=0.1))\n",
    "  model.add(LSTM(hneurons,return_sequences=True,activation='tanh', dropout=0.1))\n",
    "  model.add(LSTM(hneurons,return_sequences=True,activation='tanh', dropout=0.1))\n",
    "  model.add(LSTM(hneurons,activation='tanh', dropout=0.1))\n",
    "  model.add(Dense(1,activation='sigmoid'))\n",
    "  model.compile(loss='mean_squared_error',optimizer='adam')\n",
    "\n",
    "  model.fit(X_train,y_train,validation_data=(x_test,y_test),epochs=epoch,batch_size=batchSize,verbose=1)     # training of the model\n",
    "  \n",
    "  test_predict=model.predict(x_test)                    #prediction using test data as input\n",
    "\n",
    "  #performance metrics between, original test data and predicted test data\n",
    "  msetst =mean_squared_error(y_test,test_predict)\n",
    "  rmsetst=math.sqrt(msetst)\n",
    "  maetst =mean_absolute_error(y_test,test_predict)\n",
    "  r2tst  =r2_score(y_test,test_predict)\n",
    "  mapetst=mean_absolute_percentage_error(y_test,test_predict)\n",
    "  tstlst =[msetst,rmsetst,maetst,r2tst,mapetst]\n",
    "\n",
    "\n",
    "  #model is trained again on the test data so as to increase the learning (it is often termed as incremental learning)\n",
    "  #refered from url: https://www.justintodata.com/forecast-time-series-lstm-with-tensorflow-keras/#step-2-transforming-the-dataset-for-tensorflow-keras\n",
    "  #refered from url: https://github.com/keras-team/keras/issues/4446\n",
    "  model.fit(x_test,y_test,epochs=epoch,batch_size=batchSize,verbose=1)\n",
    "  \n",
    "  out_predict=model.predict(x_inp)                      #dynamic prediction of the stock's closing price from 01-01-2021 onwards\n",
    "\n",
    "  #performance metrics between, original data(after 31-12-2020) and dynamically predicted data (after 31-12-2020)\n",
    "  mseinp =mean_squared_error(y_inp,out_predict)\n",
    "  rmseinp=math.sqrt(mseinp)\n",
    "  maeinp =mean_absolute_error(y_inp,out_predict)\n",
    "  r2inp  =r2_score(y_inp,out_predict)\n",
    "  mapeinp=mean_absolute_percentage_error(y_inp,out_predict)\n",
    "  inplst =[mseinp,rmseinp,maeinp,r2inp,mapeinp]\n",
    "\n",
    "\n",
    "  lst=[]\n",
    "  for i in out_predict:\n",
    "    lst.append(i)\n",
    "\n",
    "  p=train_data.tolist()\n",
    "  q=test_data.tolist()\n",
    "  p.extend(q)                                         #appending train and test data to make dataset before 2021 (data till 31-12-2020)\n",
    "  p.extend(lst)                                       #appending the data, forcasted from 01-01-2021 onwards, to the data till 31-12-2020\n",
    "  p=scaler.inverse_transform(p).tolist()\n",
    "\n",
    "  return pd.DataFrame(p), tstlst, inplst\n",
    "  #returns a dataframe, tstlst => test performance metrics, inplst => forcasted data performance metrics\n",
    "    "
   ]
  },
  {
   "cell_type": "code",
   "execution_count": null,
   "metadata": {
    "colab": {
     "base_uri": "https://localhost:8080/"
    },
    "executionInfo": {
     "elapsed": 7836262,
     "status": "ok",
     "timestamp": 1623828011697,
     "user": {
      "displayName": "Dhiraj Patidar",
      "photoUrl": "",
      "userId": "01911352281812304855"
     },
     "user_tz": -330
    },
    "id": "wcpJPAnHwTFT",
    "outputId": "1104aab4-b8c2-4d8d-f69f-91b07f01129f",
    "pycharm": {
     "is_executing": true
    }
   },
   "outputs": [
    {
     "name": "stdout",
     "output_type": "stream",
     "text": [
      "29/29 [==============================] - 35s 932ms/step - loss: 0.0236 - val_loss: 0.1471\n",
      "6/6 [==============================] - 4s 640ms/step - loss: 0.0831\n",
      "29/29 [==============================] - 36s 996ms/step - loss: 0.0440 - val_loss: 0.0548\n",
      "6/6 [==============================] - 5s 745ms/step - loss: 0.0331\n",
      "29/29 [==============================] - 38s 1s/step - loss: 0.0148 - val_loss: 0.0189\n",
      "6/6 [==============================] - 4s 728ms/step - loss: 0.0192\n",
      "29/29 [==============================] - 32s 865ms/step - loss: 0.0132 - val_loss: 0.0278\n",
      "6/6 [==============================] - 4s 646ms/step - loss: 0.0192\n",
      "29/29 [==============================] - 35s 978ms/step - loss: 0.0210 - val_loss: 0.2564\n",
      "6/6 [==============================] - 4s 750ms/step - loss: 0.1120\n",
      "29/29 [==============================] - 35s 946ms/step - loss: 0.0202 - val_loss: 0.1593\n",
      "6/6 [==============================] - 4s 676ms/step - loss: 0.0900\n",
      "29/29 [==============================] - 34s 921ms/step - loss: 0.0264 - val_loss: 0.0148\n",
      "6/6 [==============================] - 4s 698ms/step - loss: 0.0138\n",
      "29/29 [==============================] - 38s 1s/step - loss: 0.0090 - val_loss: 0.0090\n",
      "6/6 [==============================] - 5s 837ms/step - loss: 0.0086\n",
      "29/29 [==============================] - 39s 1s/step - loss: 0.0204 - val_loss: 0.0335\n",
      "6/6 [==============================] - 5s 810ms/step - loss: 0.0148\n",
      "29/29 [==============================] - 35s 926ms/step - loss: 0.0259 - val_loss: 0.0172\n",
      "6/6 [==============================] - 4s 656ms/step - loss: 0.0155\n",
      "29/29 [==============================] - 36s 983ms/step - loss: 0.0236 - val_loss: 0.0186\n",
      "6/6 [==============================] - 5s 744ms/step - loss: 0.0124\n",
      "29/29 [==============================] - 33s 890ms/step - loss: 0.0259 - val_loss: 0.1644\n",
      "6/6 [==============================] - 4s 604ms/step - loss: 0.0978\n",
      "29/29 [==============================] - 37s 1s/step - loss: 0.0198 - val_loss: 0.0129\n",
      "6/6 [==============================] - 5s 842ms/step - loss: 0.0128\n",
      "29/29 [==============================] - 35s 941ms/step - loss: 0.0185 - val_loss: 0.0248\n",
      "6/6 [==============================] - 4s 730ms/step - loss: 0.0248\n",
      "29/29 [==============================] - 38s 1s/step - loss: 0.0326 - val_loss: 0.0102\n",
      "6/6 [==============================] - 4s 705ms/step - loss: 0.0063\n",
      "23/29 [======================>.......] - ETA: 5s - loss: 0.0388"
     ]
    }
   ],
   "source": [
    "mtest=[]\n",
    "mdynamic=[]\n",
    "fdata=pd.DataFrame()\n",
    "for i in alldata:                                   # this for loop will be iterated for 42 times i.e. for each column of the original dataset\n",
    "  temp=alldata[i]\n",
    "  ftemp,trmse,drmse=forcast(temp, timesteps, epoch, batchSize, ineurons, hneurons, after2020)    #hyperparameters are provided as input here\n",
    "  fdata = pd.concat([fdata,ftemp],axis = 1)\n",
    "  mtest.append(trmse)\n",
    "  mdynamic.append(drmse)\n",
    "fdata.columns=stonks"
   ]
  },
  {
   "cell_type": "code",
   "execution_count": null,
   "metadata": {
    "colab": {
     "base_uri": "https://localhost:8080/",
     "height": 423
    },
    "executionInfo": {
     "elapsed": 5,
     "status": "ok",
     "timestamp": 1623828011698,
     "user": {
      "displayName": "Dhiraj Patidar",
      "photoUrl": "",
      "userId": "01911352281812304855"
     },
     "user_tz": -330
    },
    "id": "SG5uqRTl44SQ",
    "outputId": "fe99b623-0ad9-499a-9a31-6cd359d26da1",
    "pycharm": {
     "is_executing": true
    }
   },
   "outputs": [],
   "source": [
    "fdata # dataset with 2021 rows forcasted dynamically"
   ]
  },
  {
   "cell_type": "code",
   "execution_count": null,
   "metadata": {
    "colab": {
     "base_uri": "https://localhost:8080/",
     "height": 423
    },
    "executionInfo": {
     "elapsed": 3,
     "status": "ok",
     "timestamp": 1623828011698,
     "user": {
      "displayName": "Dhiraj Patidar",
      "photoUrl": "",
      "userId": "01911352281812304855"
     },
     "user_tz": -330
    },
    "id": "HUIDhvD2LiOI",
    "outputId": "9c2792d0-8945-47eb-d82c-076d4b798572",
    "pycharm": {
     "is_executing": true
    }
   },
   "outputs": [],
   "source": [
    "alldata # dataset with original 2021 rows"
   ]
  },
  {
   "cell_type": "code",
   "execution_count": null,
   "metadata": {
    "executionInfo": {
     "elapsed": 703,
     "status": "ok",
     "timestamp": 1623828012399,
     "user": {
      "displayName": "Dhiraj Patidar",
      "photoUrl": "",
      "userId": "01911352281812304855"
     },
     "user_tz": -330
    },
    "id": "om96PmMpsqZk",
    "pycharm": {
     "is_executing": true
    }
   },
   "outputs": [],
   "source": [
    "fdata.to_csv('data_inc/fdata.csv')   #dataset saved in .csv format"
   ]
  },
  {
   "cell_type": "code",
   "execution_count": null,
   "metadata": {
    "executionInfo": {
     "elapsed": 1,
     "status": "ok",
     "timestamp": 1623828012400,
     "user": {
      "displayName": "Dhiraj Patidar",
      "photoUrl": "",
      "userId": "01911352281812304855"
     },
     "user_tz": -330
    },
    "id": "8f6fEyrzrDGr",
    "pycharm": {
     "is_executing": true
    }
   },
   "outputs": [],
   "source": [
    "clm=['MSE','RMSE','MAE','R2','MAPE']\n",
    "pd.DataFrame(mtest,index=stonks,columns=clm).to_csv('data_inc/mtest.csv') #metric values saved "
   ]
  },
  {
   "cell_type": "code",
   "execution_count": null,
   "metadata": {
    "executionInfo": {
     "elapsed": 913,
     "status": "ok",
     "timestamp": 1623828013312,
     "user": {
      "displayName": "Dhiraj Patidar",
      "photoUrl": "",
      "userId": "01911352281812304855"
     },
     "user_tz": -330
    },
    "id": "1T-KGR6osbBQ",
    "pycharm": {
     "is_executing": true
    }
   },
   "outputs": [],
   "source": [
    "pd.DataFrame(mdynamic,index=stonks,columns=clm).to_csv('data_inc/mdynamic.csv') #metric values saved "
   ]
  },
  {
   "cell_type": "code",
   "execution_count": null,
   "metadata": {
    "pycharm": {
     "is_executing": true
    }
   },
   "outputs": [],
   "source": []
  }
 ],
 "metadata": {
  "colab": {
   "collapsed_sections": [],
   "name": "Dynamic_LSTM_inc.ipynb",
   "provenance": []
  },
  "kernelspec": {
   "display_name": "Python 3 (ipykernel)",
   "language": "python",
   "name": "python3"
  },
  "language_info": {
   "codemirror_mode": {
    "name": "ipython",
    "version": 3
   },
   "file_extension": ".py",
   "mimetype": "text/x-python",
   "name": "python",
   "nbconvert_exporter": "python",
   "pygments_lexer": "ipython3",
   "version": "3.9.6"
  }
 },
 "nbformat": 4,
 "nbformat_minor": 1
}