{
 "cells": [
  {
   "cell_type": "code",
   "execution_count": null,
   "metadata": {
    "id": "uYLDqq786kLC"
   },
   "outputs": [],
   "source": [
    "import optuna\n",
    "import joblib\n",
    "import pandas as pd\n",
    "import numpy as np\n",
    "import random\n",
    "import math"
   ]
  },
  {
   "cell_type": "code",
   "execution_count": 2,
   "metadata": {
    "id": "Cy-Di43uOPkW"
   },
   "outputs": [],
   "source": [
    "def BALANCE(weights):\n",
    "  #Making sure the total sum of the weights eual to 1\n",
    "  weights = [w/sum(weights) for w in weights] \n",
    "  # Making sure all weights represent proportions that add up to 1\n",
    "  return weights"
   ]
  },
  {
   "cell_type": "code",
   "execution_count": 3,
   "metadata": {
    "id": "TvMpzcufOPiU"
   },
   "outputs": [],
   "source": [
    "def ratio(a,b,c):                       \n",
    "  #function to calculate ratio i.e. \"(returns-(risk_free_rate))/deviation\"\n",
    "  #calculating sharpe ratio\n",
    "  return (a-c)/b"
   ]
  },
  {
   "cell_type": "code",
   "execution_count": 4,
   "metadata": {
    "id": "8Z4xIIVEOPf5"
   },
   "outputs": [],
   "source": [
    "def number_of_years(y):#calculates the number of years of the dataset\n",
    "  p=y.index[0]         #date of first row in the dataset (datetime format)\n",
    "  q=y.index[len(y)-1]  #date of last row in the dataset  (datetime format)\n",
    "  return ((q-p).days+1)/365"
   ]
  },
  {
   "cell_type": "code",
   "execution_count": 43,
   "metadata": {
    "id": "BGMVmkDBOPdu"
   },
   "outputs": [
    {
     "data": {
      "text/plain": [
       "(1233, 1)"
      ]
     },
     "execution_count": 43,
     "metadata": {},
     "output_type": "execute_result"
    }
   ],
   "source": [
    "df=pd.read_csv(\"Nifty50.csv\",parse_dates=['Date'],index_col='Date')  #Importing Dataset\n",
    "df = df.loc[\"2016-01-01\" :\"2020-12-31\" ]   #Since 2016-01-01, 5y(1234rows till 2020-12-31)\n",
    "tdf=df.copy()                  #deep copy\n",
    "df.reset_index(drop=True, inplace=True)\n",
    "col=list(df.columns)\n",
    "tdf.shape"
   ]
  },
  {
   "cell_type": "code",
   "execution_count": 6,
   "metadata": {
    "id": "dIqD9wxzOPbc"
   },
   "outputs": [],
   "source": [
    "trading_days=len(df)/number_of_years(tdf) "
   ]
  },
  {
   "cell_type": "code",
   "execution_count": 7,
   "metadata": {
    "id": "TLHm2sI4OPZF"
   },
   "outputs": [],
   "source": [
    "returnsh=df.pct_change()                  \n",
    "#Here, returnsh would mean return considered for sharpe ratio\n",
    "returnsh.fillna(0,inplace=True)"
   ]
  },
  {
   "cell_type": "code",
   "execution_count": 8,
   "metadata": {
    "id": "P02rmZVsYMbN"
   },
   "outputs": [],
   "source": [
    "returnso = returnsh.copy()  # this cell considers only NEGATIVE returns so as to calculate sortino ratio\n",
    "for cols in returnso.columns.tolist():\n",
    "  for i in range(0, len(df)):\n",
    "    if returnso[cols][i] > 0:\n",
    "      returnso[cols][i] = 0\n"
   ]
  },
  {
   "cell_type": "code",
   "execution_count": 9,
   "metadata": {
    "id": "K7eZR3WXOPWk"
   },
   "outputs": [],
   "source": [
    "covmatsh=returnsh.cov()*trading_days     \n",
    "#Annualised covariance matrix calculated wrt returnsh i.e. used to calculate sharpe ratio\n",
    "covmatso = returnso.cov() * trading_days"
   ]
  },
  {
   "cell_type": "code",
   "execution_count": 10,
   "metadata": {
    "id": "6pUgs_cIOPUM"
   },
   "outputs": [],
   "source": [
    "risk_free_rate = 0.0358 #initializing risk free rate that will be used in calculating both the ratios (absolute value)\n",
    "#referred from url: https://www.rbi.org.in/Scripts/BS_NSDPDisplay.aspx?param=4&Id=24292\n",
    "#In the above url, the 364 (1 year) day treasury bill is 3.58% , when taken absolute value => 0.0358\n",
    "# (improved)"
   ]
  },
  {
   "cell_type": "code",
   "execution_count": 11,
   "metadata": {
    "colab": {
     "base_uri": "https://localhost:8080/"
    },
    "id": "psIfrFk-OPP1",
    "outputId": "405c0e32-4894-45d4-a8c3-5270dbff594f"
   },
   "outputs": [
    {
     "data": {
      "text/plain": [
       "1"
      ]
     },
     "execution_count": 11,
     "metadata": {},
     "output_type": "execute_result"
    }
   ],
   "source": [
    "df\n",
    "stocks=df.shape[1]\n",
    "stocks"
   ]
  },
  {
   "cell_type": "markdown",
   "metadata": {
    "id": "9m65O3q0mlwr"
   },
   "source": [
    "# Sharpe\n"
   ]
  },
  {
   "cell_type": "code",
   "execution_count": 12,
   "metadata": {
    "id": "jPjytXKYOPFC"
   },
   "outputs": [],
   "source": [
    "def antcolony_tuning_sharpe(ITERATIONS,Q,EVA_RATE,ANTS):\n",
    "    sharpe_pbest=-1\n",
    "    #Initializing sharpe_pbest(the best fitness value   SHARPE)\n",
    "    #Initializing the current fitness value\n",
    "    fitness=0\n",
    "    #for each iteration\n",
    "    for iteration in range(ITERATIONS):\n",
    "        \n",
    "        #PREPARAING THE PHEROMONE MATRIX WHERE THE COLS=STOCKS AND  ROWS=ANTS\n",
    "        pheromon=[[0]*stocks for i in range(ANTS+1)]#why (ants+1)?The last ant can update the pheromone values in the last row\n",
    "        \n",
    "        # Initializing the pheromone status \n",
    "        for i in range(len(pheromon[0])):\n",
    "            pheromon[0][i]=random.randint(1,15)   #When input stocks varies, this needs to vary accordingly.(Divide number of stocks / 2)\n",
    "        \n",
    "        #copying the values and storing it in temp_pher\n",
    "        temp_pher=pheromon[0]\n",
    "        \n",
    "        #Making sure that the total amount of pheromone equals 1 \n",
    "        weights=np.array(BALANCE(temp_pher))\n",
    "        \n",
    "        #calculating annulaised portfolio return\n",
    "        returns_temp = np.sum(returnsh.mean()*weights)*trading_days \n",
    "        \n",
    "        #calculating portfolio varience wrt calculating sharpe ratio\n",
    "        varsh=np.dot(weights.T,np.dot(covmatsh,weights))   \n",
    "        \n",
    "        #portfolio risk\n",
    "        volatility_temp = np.sqrt(varsh)      \n",
    "        \n",
    "        #Calculating fitness value(ie sharpe ratio)\n",
    "        fitness = ratio(returns_temp,volatility_temp,risk_free_rate)\n",
    "        \n",
    "        #Initializing the intial fitness value as the best fitness value(sharpe_pbest)\n",
    "        if sharpe_pbest==-1:\n",
    "            sharpe_pbest=fitness\n",
    "        \n",
    "        #list\n",
    "        path=[]\n",
    "      \n",
    "        #for each ant\n",
    "        for ant in range(ANTS-1):\n",
    "            \n",
    "            #find the total pheromone \n",
    "            total=sum(pheromon[ant])\n",
    "            \n",
    "            #Initializing probability\n",
    "            probability=pheromon[ant][:] \n",
    "            \n",
    "            #finding probability of each stocks pheromone \n",
    "            for p in range(len(probability)):\n",
    "                probability[p]=(probability[p]/total)\n",
    "                \n",
    "            #Trying to select stocks in decreasing order based on their pheromone level and storing the stock order in a list(path)\n",
    "            for stock in range(stocks):\n",
    "                select=probability.index(max(probability))\n",
    "                probability[select]=-math.inf\n",
    "                path.append(select)\n",
    "            \n",
    "            #Updating the pheromone level of each stock for the next ant \n",
    "            #Formula: old pheromone level * (1-eva_rate) + Q * (fitness/sharpe_pbest) where Q is fixed amount of pheromone\n",
    "            for s in path:\n",
    "                pheromon[ant+1][s]=pheromon[ant][s]*(1-EVA_RATE)+Q*(fitness/sharpe_pbest)\n",
    "            \n",
    "            \n",
    "            #making sure that the updated pheromon adds upto 1\n",
    "            temp_pher=pheromon[ant+1]\n",
    "            weights=np.array(BALANCE(temp_pher))\n",
    "            returns_temp = np.sum(returnsh.mean()*weights)*trading_days   #calculating annulaised portfolio return\n",
    "            varsh=np.dot(weights.T,np.dot(covmatsh,weights))              #calculating portfolio varience wrt calculating sharpe ratio\n",
    "            volatility_temp = np.sqrt(varsh)                              #portfolio risk\n",
    "            fitness = ratio(returns_temp,volatility_temp,risk_free_rate)  #calculating sharpe ratio\n",
    "            \n",
    "            #comparing the old fitness value with the updated fitness value\n",
    "            # explore on scape condition paper ref\n",
    "            if(fitness>sharpe_pbest):\n",
    "                \n",
    "                #if the updated fitness value is better than the previous, change sharpe_pbest to present fitness value\n",
    "                sharpe_pbest=fitness\n",
    "                \n",
    "                #remembering the weights of the best portfolio\n",
    "                global_warr_sharpe=weights.tolist()\n",
    "        #sharpe_portfolio_return.append(returns_temp)\n",
    "        #sharpe_portfolio_risk.append(volatility_temp)\n",
    "        #sharpe_portfolio_shratio.append(fitness)\n",
    "        #sharpe_portfolio_stockWeights.append(weights)\n",
    "    return sharpe_pbest\n"
   ]
  },
  {
   "cell_type": "code",
   "execution_count": 13,
   "metadata": {
    "id": "6XX9KAEeOO7s"
   },
   "outputs": [],
   "source": [
    "#hyperparameter values from literature survey excel sheet\n",
    "def objective(trial):\n",
    "    ITERATIONS=trial.suggest_int('ITERATIONS',2,500)\n",
    "    Q=trial.suggest_float('Q',0.0,1.0)\n",
    "    EVA_RATE=trial.suggest_float('EVA_RATE',0.00,1.00)\n",
    "    ANTS=trial.suggest_int('ANTS',2,500)\n",
    "    return antcolony_tuning_sharpe(int(ITERATIONS),Q,EVA_RATE,int(ANTS))"
   ]
  },
  {
   "cell_type": "code",
   "execution_count": 15,
   "metadata": {
    "colab": {
     "base_uri": "https://localhost:8080/"
    },
    "id": "rV1Mp3bKRTnb",
    "outputId": "cede5341-61e6-4f05-c37b-be6a8868ad55",
    "scrolled": true
   },
   "outputs": [
    {
     "name": "stderr",
     "output_type": "stream",
     "text": [
      "\u001B[32m[I 2022-02-17 18:52:47,253]\u001B[0m A new study created in memory with name: no-name-de510006-fe26-4254-ab80-d2174248e0a1\u001B[0m\n",
      "\u001B[32m[I 2022-02-17 18:53:26,719]\u001B[0m Trial 0 finished with value: 0.5425509460018945 and parameters: {'ITERATIONS': 118, 'Q': 0.2215290735085822, 'EVA_RATE': 0.4303245972094052, 'ANTS': 270}. Best is trial 0 with value: 0.5425509460018945.\u001B[0m\n",
      "\u001B[32m[I 2022-02-17 18:54:18,803]\u001B[0m Trial 1 finished with value: 0.5425509460018945 and parameters: {'ITERATIONS': 292, 'Q': 0.8812391130519529, 'EVA_RATE': 0.5936341893930525, 'ANTS': 141}. Best is trial 0 with value: 0.5425509460018945.\u001B[0m\n",
      "\u001B[32m[I 2022-02-17 18:55:26,775]\u001B[0m Trial 2 finished with value: 0.5425509460018945 and parameters: {'ITERATIONS': 403, 'Q': 0.3465265464120666, 'EVA_RATE': 0.8831039772233126, 'ANTS': 148}. Best is trial 0 with value: 0.5425509460018945.\u001B[0m\n",
      "\u001B[32m[I 2022-02-17 18:56:12,803]\u001B[0m Trial 3 finished with value: 0.5425509460018945 and parameters: {'ITERATIONS': 105, 'Q': 0.38571412960880624, 'EVA_RATE': 0.46596022847499485, 'ANTS': 352}. Best is trial 0 with value: 0.5425509460018945.\u001B[0m\n"
     ]
    },
    {
     "ename": "KeyboardInterrupt",
     "evalue": "",
     "output_type": "error",
     "traceback": [
      "\u001B[1;31m---------------------------------------------------------------------------\u001B[0m",
      "\u001B[1;31mKeyboardInterrupt\u001B[0m                         Traceback (most recent call last)",
      "\u001B[1;32m<ipython-input-15-f679ac9c4a63>\u001B[0m in \u001B[0;36m<module>\u001B[1;34m\u001B[0m\n\u001B[0;32m      1\u001B[0m \u001B[0msharpe_study\u001B[0m\u001B[1;33m=\u001B[0m\u001B[0moptuna\u001B[0m\u001B[1;33m.\u001B[0m\u001B[0mcreate_study\u001B[0m\u001B[1;33m(\u001B[0m\u001B[0mdirection\u001B[0m\u001B[1;33m=\u001B[0m\u001B[1;34m'maximize'\u001B[0m\u001B[1;33m)\u001B[0m\u001B[1;33m\u001B[0m\u001B[1;33m\u001B[0m\u001B[0m\n\u001B[1;32m----> 2\u001B[1;33m \u001B[0msharpe_study\u001B[0m\u001B[1;33m.\u001B[0m\u001B[0moptimize\u001B[0m\u001B[1;33m(\u001B[0m\u001B[0mobjective\u001B[0m\u001B[1;33m,\u001B[0m\u001B[0mn_trials\u001B[0m\u001B[1;33m=\u001B[0m\u001B[1;36m10\u001B[0m\u001B[1;33m)\u001B[0m\u001B[1;33m\u001B[0m\u001B[1;33m\u001B[0m\u001B[0m\n\u001B[0m",
      "\u001B[1;32m~\\anaconda3\\lib\\site-packages\\optuna\\study\\study.py\u001B[0m in \u001B[0;36moptimize\u001B[1;34m(self, func, n_trials, timeout, n_jobs, catch, callbacks, gc_after_trial, show_progress_bar)\u001B[0m\n\u001B[0;32m    407\u001B[0m             \u001B[0mcallbacks\u001B[0m\u001B[1;33m=\u001B[0m\u001B[0mcallbacks\u001B[0m\u001B[1;33m,\u001B[0m\u001B[1;33m\u001B[0m\u001B[1;33m\u001B[0m\u001B[0m\n\u001B[0;32m    408\u001B[0m             \u001B[0mgc_after_trial\u001B[0m\u001B[1;33m=\u001B[0m\u001B[0mgc_after_trial\u001B[0m\u001B[1;33m,\u001B[0m\u001B[1;33m\u001B[0m\u001B[1;33m\u001B[0m\u001B[0m\n\u001B[1;32m--> 409\u001B[1;33m             \u001B[0mshow_progress_bar\u001B[0m\u001B[1;33m=\u001B[0m\u001B[0mshow_progress_bar\u001B[0m\u001B[1;33m,\u001B[0m\u001B[1;33m\u001B[0m\u001B[1;33m\u001B[0m\u001B[0m\n\u001B[0m\u001B[0;32m    410\u001B[0m         )\n\u001B[0;32m    411\u001B[0m \u001B[1;33m\u001B[0m\u001B[0m\n",
      "\u001B[1;32m~\\anaconda3\\lib\\site-packages\\optuna\\study\\_optimize.py\u001B[0m in \u001B[0;36m_optimize\u001B[1;34m(study, func, n_trials, timeout, n_jobs, catch, callbacks, gc_after_trial, show_progress_bar)\u001B[0m\n\u001B[0;32m     74\u001B[0m                 \u001B[0mreseed_sampler_rng\u001B[0m\u001B[1;33m=\u001B[0m\u001B[1;32mFalse\u001B[0m\u001B[1;33m,\u001B[0m\u001B[1;33m\u001B[0m\u001B[1;33m\u001B[0m\u001B[0m\n\u001B[0;32m     75\u001B[0m                 \u001B[0mtime_start\u001B[0m\u001B[1;33m=\u001B[0m\u001B[1;32mNone\u001B[0m\u001B[1;33m,\u001B[0m\u001B[1;33m\u001B[0m\u001B[1;33m\u001B[0m\u001B[0m\n\u001B[1;32m---> 76\u001B[1;33m                 \u001B[0mprogress_bar\u001B[0m\u001B[1;33m=\u001B[0m\u001B[0mprogress_bar\u001B[0m\u001B[1;33m,\u001B[0m\u001B[1;33m\u001B[0m\u001B[1;33m\u001B[0m\u001B[0m\n\u001B[0m\u001B[0;32m     77\u001B[0m             )\n\u001B[0;32m     78\u001B[0m         \u001B[1;32melse\u001B[0m\u001B[1;33m:\u001B[0m\u001B[1;33m\u001B[0m\u001B[1;33m\u001B[0m\u001B[0m\n",
      "\u001B[1;32m~\\anaconda3\\lib\\site-packages\\optuna\\study\\_optimize.py\u001B[0m in \u001B[0;36m_optimize_sequential\u001B[1;34m(study, func, n_trials, timeout, catch, callbacks, gc_after_trial, reseed_sampler_rng, time_start, progress_bar)\u001B[0m\n\u001B[0;32m    161\u001B[0m \u001B[1;33m\u001B[0m\u001B[0m\n\u001B[0;32m    162\u001B[0m         \u001B[1;32mtry\u001B[0m\u001B[1;33m:\u001B[0m\u001B[1;33m\u001B[0m\u001B[1;33m\u001B[0m\u001B[0m\n\u001B[1;32m--> 163\u001B[1;33m             \u001B[0mtrial\u001B[0m \u001B[1;33m=\u001B[0m \u001B[0m_run_trial\u001B[0m\u001B[1;33m(\u001B[0m\u001B[0mstudy\u001B[0m\u001B[1;33m,\u001B[0m \u001B[0mfunc\u001B[0m\u001B[1;33m,\u001B[0m \u001B[0mcatch\u001B[0m\u001B[1;33m)\u001B[0m\u001B[1;33m\u001B[0m\u001B[1;33m\u001B[0m\u001B[0m\n\u001B[0m\u001B[0;32m    164\u001B[0m         \u001B[1;32mexcept\u001B[0m \u001B[0mException\u001B[0m\u001B[1;33m:\u001B[0m\u001B[1;33m\u001B[0m\u001B[1;33m\u001B[0m\u001B[0m\n\u001B[0;32m    165\u001B[0m             \u001B[1;32mraise\u001B[0m\u001B[1;33m\u001B[0m\u001B[1;33m\u001B[0m\u001B[0m\n",
      "\u001B[1;32m~\\anaconda3\\lib\\site-packages\\optuna\\study\\_optimize.py\u001B[0m in \u001B[0;36m_run_trial\u001B[1;34m(study, func, catch)\u001B[0m\n\u001B[0;32m    211\u001B[0m \u001B[1;33m\u001B[0m\u001B[0m\n\u001B[0;32m    212\u001B[0m     \u001B[1;32mtry\u001B[0m\u001B[1;33m:\u001B[0m\u001B[1;33m\u001B[0m\u001B[1;33m\u001B[0m\u001B[0m\n\u001B[1;32m--> 213\u001B[1;33m         \u001B[0mvalue_or_values\u001B[0m \u001B[1;33m=\u001B[0m \u001B[0mfunc\u001B[0m\u001B[1;33m(\u001B[0m\u001B[0mtrial\u001B[0m\u001B[1;33m)\u001B[0m\u001B[1;33m\u001B[0m\u001B[1;33m\u001B[0m\u001B[0m\n\u001B[0m\u001B[0;32m    214\u001B[0m     \u001B[1;32mexcept\u001B[0m \u001B[0mexceptions\u001B[0m\u001B[1;33m.\u001B[0m\u001B[0mTrialPruned\u001B[0m \u001B[1;32mas\u001B[0m \u001B[0me\u001B[0m\u001B[1;33m:\u001B[0m\u001B[1;33m\u001B[0m\u001B[1;33m\u001B[0m\u001B[0m\n\u001B[0;32m    215\u001B[0m         \u001B[1;31m# TODO(mamu): Handle multi-objective cases.\u001B[0m\u001B[1;33m\u001B[0m\u001B[1;33m\u001B[0m\u001B[1;33m\u001B[0m\u001B[0m\n",
      "\u001B[1;32m<ipython-input-13-9c5f963e7bfb>\u001B[0m in \u001B[0;36mobjective\u001B[1;34m(trial)\u001B[0m\n\u001B[0;32m      5\u001B[0m     \u001B[0mEVA_RATE\u001B[0m\u001B[1;33m=\u001B[0m\u001B[0mtrial\u001B[0m\u001B[1;33m.\u001B[0m\u001B[0msuggest_float\u001B[0m\u001B[1;33m(\u001B[0m\u001B[1;34m'EVA_RATE'\u001B[0m\u001B[1;33m,\u001B[0m\u001B[1;36m0.00\u001B[0m\u001B[1;33m,\u001B[0m\u001B[1;36m1.00\u001B[0m\u001B[1;33m)\u001B[0m\u001B[1;33m\u001B[0m\u001B[1;33m\u001B[0m\u001B[0m\n\u001B[0;32m      6\u001B[0m     \u001B[0mANTS\u001B[0m\u001B[1;33m=\u001B[0m\u001B[0mtrial\u001B[0m\u001B[1;33m.\u001B[0m\u001B[0msuggest_int\u001B[0m\u001B[1;33m(\u001B[0m\u001B[1;34m'ANTS'\u001B[0m\u001B[1;33m,\u001B[0m\u001B[1;36m2\u001B[0m\u001B[1;33m,\u001B[0m\u001B[1;36m500\u001B[0m\u001B[1;33m)\u001B[0m\u001B[1;33m\u001B[0m\u001B[1;33m\u001B[0m\u001B[0m\n\u001B[1;32m----> 7\u001B[1;33m     \u001B[1;32mreturn\u001B[0m \u001B[0mantcolony_tuning_sharpe\u001B[0m\u001B[1;33m(\u001B[0m\u001B[0mint\u001B[0m\u001B[1;33m(\u001B[0m\u001B[0mITERATIONS\u001B[0m\u001B[1;33m)\u001B[0m\u001B[1;33m,\u001B[0m\u001B[0mQ\u001B[0m\u001B[1;33m,\u001B[0m\u001B[0mEVA_RATE\u001B[0m\u001B[1;33m,\u001B[0m\u001B[0mint\u001B[0m\u001B[1;33m(\u001B[0m\u001B[0mANTS\u001B[0m\u001B[1;33m)\u001B[0m\u001B[1;33m)\u001B[0m\u001B[1;33m\u001B[0m\u001B[1;33m\u001B[0m\u001B[0m\n\u001B[0m",
      "\u001B[1;32m<ipython-input-12-8def45cca07e>\u001B[0m in \u001B[0;36mantcolony_tuning_sharpe\u001B[1;34m(ITERATIONS, Q, EVA_RATE, ANTS)\u001B[0m\n\u001B[0;32m     61\u001B[0m             \u001B[1;31m#Formula: old pheromone level * (1-eva_rate) + Q * (fitness/sharpe_pbest) where Q is fixed amount of pheromone\u001B[0m\u001B[1;33m\u001B[0m\u001B[1;33m\u001B[0m\u001B[1;33m\u001B[0m\u001B[0m\n\u001B[0;32m     62\u001B[0m             \u001B[1;32mfor\u001B[0m \u001B[0ms\u001B[0m \u001B[1;32min\u001B[0m \u001B[0mpath\u001B[0m\u001B[1;33m:\u001B[0m\u001B[1;33m\u001B[0m\u001B[1;33m\u001B[0m\u001B[0m\n\u001B[1;32m---> 63\u001B[1;33m                 \u001B[0mpheromon\u001B[0m\u001B[1;33m[\u001B[0m\u001B[0mant\u001B[0m\u001B[1;33m+\u001B[0m\u001B[1;36m1\u001B[0m\u001B[1;33m]\u001B[0m\u001B[1;33m[\u001B[0m\u001B[0ms\u001B[0m\u001B[1;33m]\u001B[0m\u001B[1;33m=\u001B[0m\u001B[0mpheromon\u001B[0m\u001B[1;33m[\u001B[0m\u001B[0mant\u001B[0m\u001B[1;33m]\u001B[0m\u001B[1;33m[\u001B[0m\u001B[0ms\u001B[0m\u001B[1;33m]\u001B[0m\u001B[1;33m*\u001B[0m\u001B[1;33m(\u001B[0m\u001B[1;36m1\u001B[0m\u001B[1;33m-\u001B[0m\u001B[0mEVA_RATE\u001B[0m\u001B[1;33m)\u001B[0m\u001B[1;33m+\u001B[0m\u001B[0mQ\u001B[0m\u001B[1;33m*\u001B[0m\u001B[1;33m(\u001B[0m\u001B[0mfitness\u001B[0m\u001B[1;33m/\u001B[0m\u001B[0msharpe_pbest\u001B[0m\u001B[1;33m)\u001B[0m\u001B[1;33m\u001B[0m\u001B[1;33m\u001B[0m\u001B[0m\n\u001B[0m\u001B[0;32m     64\u001B[0m \u001B[1;33m\u001B[0m\u001B[0m\n\u001B[0;32m     65\u001B[0m \u001B[1;33m\u001B[0m\u001B[0m\n",
      "\u001B[1;31mKeyboardInterrupt\u001B[0m: "
     ]
    }
   ],
   "source": [
    "sharpe_study=optuna.create_study(direction='maximize')\n",
    "sharpe_study.optimize(objective,n_trials=10)"
   ]
  },
  {
   "cell_type": "code",
   "execution_count": null,
   "metadata": {
    "colab": {
     "base_uri": "https://localhost:8080/"
    },
    "id": "_3mk8pPPRTlO",
    "outputId": "931e319d-7c13-4eb1-f0cc-33ed6fdae46f"
   },
   "outputs": [],
   "source": [
    "sh_hptuning=sharpe_study.trials_dataframe()\n",
    "sh_hptuning.to_csv(\"sharpe_trial0.csv\")\n",
    "best=sharpe_study.best_params\n",
    "best"
   ]
  },
  {
   "cell_type": "code",
   "execution_count": 16,
   "metadata": {
    "id": "E2_7Q1OpRThr"
   },
   "outputs": [],
   "source": [
    "#value kept from tuned hyperparameter space\n",
    "ITERATIONS=8#int(best['ITERATIONS'])\n",
    "Q=0.5710#best['Q']\n",
    "EVA_RATE=0.3656#best['EVA_RATE']\n",
    "ANTS=64#int(best['ANTS'])"
   ]
  },
  {
   "cell_type": "code",
   "execution_count": 17,
   "metadata": {
    "id": "x2KmTXbjsZEL"
   },
   "outputs": [],
   "source": [
    "global_warr_sortino=[]\n",
    "global_war_sharpe=[]\n",
    "sharpe_portfolio_return=[]\n",
    "sharpe_portfolio_risk=[]\n",
    "sharpe_portfolio_shratio=[]\n",
    "sharpe_portfolio_stockWeights=[]"
   ]
  },
  {
   "cell_type": "code",
   "execution_count": 18,
   "metadata": {
    "id": "iH7x-tm0Ufc_"
   },
   "outputs": [],
   "source": [
    "def antcolony_sharpe(ITERATIONS,Q,EVA_RATE,ANTS):\n",
    "    sharpe_pbest=-1\n",
    "    #Initializing sharpe_pbest(the best fitness value   SHARPE)\n",
    "    #Initializing the current fitness value\n",
    "    fitness=0\n",
    "    #for each iteration\n",
    "    for iteration in range(ITERATIONS):\n",
    "        \n",
    "        #PREPARAING THE PHEROMONE MATRIX WHERE THE COLS=STOCKS AND  ROWS=ANTS\n",
    "        pheromon=[[0]*stocks for i in range(ANTS+1)]#why (ants+1)?The last ant can update the pheromone values in the last row\n",
    "        \n",
    "        # Initializing the pheromone status \n",
    "        for i in range(len(pheromon[0])):\n",
    "            pheromon[0][i]=random.randint(1,15)   #When input stocks varies, this needs to vary accordingly.(Divide number of stocks / 2)\n",
    "        \n",
    "        #copying the values and storing it in temp_pher\n",
    "        temp_pher=pheromon[0]\n",
    "        \n",
    "        #Making sure that the total amount of pheromone equals 1 \n",
    "        weights=np.array(BALANCE(temp_pher))\n",
    "        \n",
    "        #calculating annulaised portfolio return\n",
    "        returns_temp = np.sum(returnsh.mean()*weights)*trading_days \n",
    "        \n",
    "        #calculating portfolio varience wrt calculating sharpe ratio\n",
    "        varsh=np.dot(weights.T,np.dot(covmatsh,weights))   \n",
    "        \n",
    "        #portfolio risk\n",
    "        volatility_temp = np.sqrt(varsh)      \n",
    "        \n",
    "        #Calculating fitness value(ie sharpe ratio)\n",
    "        fitness = ratio(returns_temp,volatility_temp,risk_free_rate)\n",
    "        \n",
    "        #Initializing the intial fitness value as the best fitness value(sharpe_pbest)\n",
    "        if sharpe_pbest==-1:\n",
    "            sharpe_pbest=fitness\n",
    "        \n",
    "        #list\n",
    "        path=[]\n",
    "      \n",
    "        #for each ant\n",
    "        for ant in range(ANTS-1):\n",
    "            \n",
    "            #find the total pheromone \n",
    "            total=sum(pheromon[ant])\n",
    "            \n",
    "            #Initializing probability\n",
    "            probability=pheromon[ant][:] \n",
    "            \n",
    "            #finding probability of each stocks pheromone \n",
    "            for p in range(len(probability)):\n",
    "                probability[p]=(probability[p]/total)\n",
    "                \n",
    "            #Trying to select stocks in decreasing order based on their pheromone level and storing the stock order in a list(path)\n",
    "            for stock in range(stocks):\n",
    "                select=probability.index(max(probability))\n",
    "                probability[select]=-math.inf\n",
    "                path.append(select)\n",
    "            \n",
    "            #Updating the pheromone level of each stock for the next ant \n",
    "            #Formula: old pheromone level * (1-eva_rate) + Q * (fitness/sharpe_pbest) where Q is fixed amount of pheromone\n",
    "            for s in path:\n",
    "                pheromon[ant+1][s]=pheromon[ant][s]*(1-EVA_RATE)+Q*(fitness/sharpe_pbest)\n",
    "            \n",
    "            \n",
    "            #making sure that the updated pheromon adds upto 1\n",
    "            temp_pher=pheromon[ant+1]\n",
    "            weights=np.array(BALANCE(temp_pher))\n",
    "            returns_temp = np.sum(returnsh.mean()*weights)*trading_days   #calculating annulaised portfolio return\n",
    "            varsh=np.dot(weights.T,np.dot(covmatsh,weights))              #calculating portfolio varience wrt calculating sharpe ratio\n",
    "            volatility_temp = np.sqrt(varsh)                              #portfolio risk\n",
    "            fitness = ratio(returns_temp,volatility_temp,risk_free_rate)  #calculating sharpe ratio\n",
    "            \n",
    "            #comparing the old fitness value with the updated fitness value\n",
    "            # explore on scape condition paper ref\n",
    "            if(fitness>sharpe_pbest):\n",
    "                \n",
    "                #if the updated fitness value is better than the previous, change sharpe_pbest to present fitness value\n",
    "                sharpe_pbest=fitness\n",
    "                \n",
    "                #remembering the weights of the best portfolio\n",
    "        \n",
    "                global_warr_sharpe=weights.tolist()\n",
    "            \n",
    "            sharpe_portfolio_return.append(returns_temp)\n",
    "            sharpe_portfolio_risk.append(volatility_temp)\n",
    "            sharpe_portfolio_shratio.append(fitness)\n",
    "            sharpe_portfolio_stockWeights.append(weights)\n",
    "        \n",
    "    return sharpe_pbest\n"
   ]
  },
  {
   "cell_type": "code",
   "execution_count": 19,
   "metadata": {
    "id": "qG9sZOK8RTez"
   },
   "outputs": [],
   "source": [
    "tuned=antcolony_sharpe(ITERATIONS,Q,EVA_RATE,ANTS)"
   ]
  },
  {
   "cell_type": "code",
   "execution_count": 20,
   "metadata": {
    "colab": {
     "base_uri": "https://localhost:8080/"
    },
    "id": "f_Wpz8C_dHf1",
    "outputId": "d6a82810-ce66-4eb0-b67e-9b332909aea2"
   },
   "outputs": [
    {
     "data": {
      "text/plain": [
       "0.5425509460018945"
      ]
     },
     "execution_count": 20,
     "metadata": {},
     "output_type": "execute_result"
    }
   ],
   "source": [
    "tuned"
   ]
  },
  {
   "cell_type": "code",
   "execution_count": 42,
   "metadata": {
    "colab": {
     "base_uri": "https://localhost:8080/",
     "height": 824
    },
    "id": "qVbCiA47RTcU",
    "outputId": "5426e5b2-a0d5-4100-eb5f-c7566568ba1f"
   },
   "outputs": [
    {
     "data": {
      "text/html": [
       "<div>\n",
       "<style scoped>\n",
       "    .dataframe tbody tr th:only-of-type {\n",
       "        vertical-align: middle;\n",
       "    }\n",
       "\n",
       "    .dataframe tbody tr th {\n",
       "        vertical-align: top;\n",
       "    }\n",
       "\n",
       "    .dataframe thead th {\n",
       "        text-align: right;\n",
       "    }\n",
       "</style>\n",
       "<table border=\"1\" class=\"dataframe\">\n",
       "  <thead>\n",
       "    <tr style=\"text-align: right;\">\n",
       "      <th></th>\n",
       "      <th>Returns</th>\n",
       "      <th>Standard Deviation</th>\n",
       "      <th>Sharpe Ratio</th>\n",
       "      <th>Adj Close Weight</th>\n",
       "    </tr>\n",
       "  </thead>\n",
       "  <tbody>\n",
       "    <tr>\n",
       "      <th>0</th>\n",
       "      <td>0.133393</td>\n",
       "      <td>0.179878</td>\n",
       "      <td>0.542551</td>\n",
       "      <td>1.0</td>\n",
       "    </tr>\n",
       "    <tr>\n",
       "      <th>1</th>\n",
       "      <td>0.133393</td>\n",
       "      <td>0.179878</td>\n",
       "      <td>0.542551</td>\n",
       "      <td>1.0</td>\n",
       "    </tr>\n",
       "    <tr>\n",
       "      <th>2</th>\n",
       "      <td>0.133393</td>\n",
       "      <td>0.179878</td>\n",
       "      <td>0.542551</td>\n",
       "      <td>1.0</td>\n",
       "    </tr>\n",
       "    <tr>\n",
       "      <th>3</th>\n",
       "      <td>0.133393</td>\n",
       "      <td>0.179878</td>\n",
       "      <td>0.542551</td>\n",
       "      <td>1.0</td>\n",
       "    </tr>\n",
       "    <tr>\n",
       "      <th>4</th>\n",
       "      <td>0.133393</td>\n",
       "      <td>0.179878</td>\n",
       "      <td>0.542551</td>\n",
       "      <td>1.0</td>\n",
       "    </tr>\n",
       "    <tr>\n",
       "      <th>...</th>\n",
       "      <td>...</td>\n",
       "      <td>...</td>\n",
       "      <td>...</td>\n",
       "      <td>...</td>\n",
       "    </tr>\n",
       "    <tr>\n",
       "      <th>499</th>\n",
       "      <td>0.133393</td>\n",
       "      <td>0.179878</td>\n",
       "      <td>0.542551</td>\n",
       "      <td>1.0</td>\n",
       "    </tr>\n",
       "    <tr>\n",
       "      <th>500</th>\n",
       "      <td>0.133393</td>\n",
       "      <td>0.179878</td>\n",
       "      <td>0.542551</td>\n",
       "      <td>1.0</td>\n",
       "    </tr>\n",
       "    <tr>\n",
       "      <th>501</th>\n",
       "      <td>0.133393</td>\n",
       "      <td>0.179878</td>\n",
       "      <td>0.542551</td>\n",
       "      <td>1.0</td>\n",
       "    </tr>\n",
       "    <tr>\n",
       "      <th>502</th>\n",
       "      <td>0.133393</td>\n",
       "      <td>0.179878</td>\n",
       "      <td>0.542551</td>\n",
       "      <td>1.0</td>\n",
       "    </tr>\n",
       "    <tr>\n",
       "      <th>503</th>\n",
       "      <td>0.133393</td>\n",
       "      <td>0.179878</td>\n",
       "      <td>0.542551</td>\n",
       "      <td>1.0</td>\n",
       "    </tr>\n",
       "  </tbody>\n",
       "</table>\n",
       "<p>504 rows × 4 columns</p>\n",
       "</div>"
      ],
      "text/plain": [
       "      Returns  Standard Deviation  Sharpe Ratio  Adj Close Weight\n",
       "0    0.133393            0.179878      0.542551               1.0\n",
       "1    0.133393            0.179878      0.542551               1.0\n",
       "2    0.133393            0.179878      0.542551               1.0\n",
       "3    0.133393            0.179878      0.542551               1.0\n",
       "4    0.133393            0.179878      0.542551               1.0\n",
       "..        ...                 ...           ...               ...\n",
       "499  0.133393            0.179878      0.542551               1.0\n",
       "500  0.133393            0.179878      0.542551               1.0\n",
       "501  0.133393            0.179878      0.542551               1.0\n",
       "502  0.133393            0.179878      0.542551               1.0\n",
       "503  0.133393            0.179878      0.542551               1.0\n",
       "\n",
       "[504 rows x 4 columns]"
      ]
     },
     "execution_count": 42,
     "metadata": {},
     "output_type": "execute_result"
    }
   ],
   "source": [
    "sharpe_portfolio = {'Returns' : sharpe_portfolio_return, 'Standard Deviation' : sharpe_portfolio_risk,  'Sharpe Ratio' : sharpe_portfolio_shratio}  \n",
    "\n",
    "for counter,symbol in enumerate(df.columns):\n",
    "  sharpe_portfolio[symbol + \" Weight\"] = [Weight[counter] for Weight in sharpe_portfolio_stockWeights]\n",
    "sharpe_pc = pd.DataFrame(sharpe_portfolio)\n",
    "sharpe_optimal=sharpe_pc.iloc[sharpe_pc['Sharpe Ratio'].idxmax()]\n",
    "sharpe_optimal=pd.DataFrame(sharpe_optimal)\n",
    "sharpe_optimal.to_csv(\"sharpe_optimal.csv\")\n",
    "\n",
    "sharpe_pc"
   ]
  },
  {
   "cell_type": "code",
   "execution_count": 22,
   "metadata": {
    "colab": {
     "base_uri": "https://localhost:8080/"
    },
    "id": "HceeCMhV_JRN",
    "outputId": "da546498-9318-43e4-f30e-f80930bdf990"
   },
   "outputs": [
    {
     "data": {
      "text/plain": [
       "(504, 4)"
      ]
     },
     "execution_count": 22,
     "metadata": {},
     "output_type": "execute_result"
    }
   ],
   "source": [
    "sharpe_pc.shape"
   ]
  },
  {
   "cell_type": "markdown",
   "metadata": {
    "id": "LFI_c_tuvy_g"
   },
   "source": [
    "# not sort"
   ]
  },
  {
   "cell_type": "code",
   "execution_count": 23,
   "metadata": {
    "colab": {
     "base_uri": "https://localhost:8080/",
     "height": 359
    },
    "id": "ZCvjDzWFRTSE",
    "outputId": "29c0903e-e3ad-499f-e6b6-52e4e97fe9d9"
   },
   "outputs": [
    {
     "data": {
      "text/html": [
       "<div>\n",
       "<style scoped>\n",
       "    .dataframe tbody tr th:only-of-type {\n",
       "        vertical-align: middle;\n",
       "    }\n",
       "\n",
       "    .dataframe tbody tr th {\n",
       "        vertical-align: top;\n",
       "    }\n",
       "\n",
       "    .dataframe thead th {\n",
       "        text-align: right;\n",
       "    }\n",
       "</style>\n",
       "<table border=\"1\" class=\"dataframe\">\n",
       "  <thead>\n",
       "    <tr style=\"text-align: right;\">\n",
       "      <th></th>\n",
       "      <th>Returns</th>\n",
       "      <th>Standard Deviation</th>\n",
       "      <th>Sharpe Ratio</th>\n",
       "    </tr>\n",
       "  </thead>\n",
       "  <tbody>\n",
       "    <tr>\n",
       "      <th>0</th>\n",
       "      <td>0.133393</td>\n",
       "      <td>0.179878</td>\n",
       "      <td>0.542551</td>\n",
       "    </tr>\n",
       "    <tr>\n",
       "      <th>1</th>\n",
       "      <td>0.133393</td>\n",
       "      <td>0.179878</td>\n",
       "      <td>0.542551</td>\n",
       "    </tr>\n",
       "    <tr>\n",
       "      <th>2</th>\n",
       "      <td>0.133393</td>\n",
       "      <td>0.179878</td>\n",
       "      <td>0.542551</td>\n",
       "    </tr>\n",
       "    <tr>\n",
       "      <th>3</th>\n",
       "      <td>0.133393</td>\n",
       "      <td>0.179878</td>\n",
       "      <td>0.542551</td>\n",
       "    </tr>\n",
       "    <tr>\n",
       "      <th>4</th>\n",
       "      <td>0.133393</td>\n",
       "      <td>0.179878</td>\n",
       "      <td>0.542551</td>\n",
       "    </tr>\n",
       "    <tr>\n",
       "      <th>5</th>\n",
       "      <td>0.133393</td>\n",
       "      <td>0.179878</td>\n",
       "      <td>0.542551</td>\n",
       "    </tr>\n",
       "    <tr>\n",
       "      <th>6</th>\n",
       "      <td>0.133393</td>\n",
       "      <td>0.179878</td>\n",
       "      <td>0.542551</td>\n",
       "    </tr>\n",
       "    <tr>\n",
       "      <th>7</th>\n",
       "      <td>0.133393</td>\n",
       "      <td>0.179878</td>\n",
       "      <td>0.542551</td>\n",
       "    </tr>\n",
       "    <tr>\n",
       "      <th>8</th>\n",
       "      <td>0.133393</td>\n",
       "      <td>0.179878</td>\n",
       "      <td>0.542551</td>\n",
       "    </tr>\n",
       "    <tr>\n",
       "      <th>9</th>\n",
       "      <td>0.133393</td>\n",
       "      <td>0.179878</td>\n",
       "      <td>0.542551</td>\n",
       "    </tr>\n",
       "  </tbody>\n",
       "</table>\n",
       "</div>"
      ],
      "text/plain": [
       "    Returns  Standard Deviation  Sharpe Ratio\n",
       "0  0.133393            0.179878      0.542551\n",
       "1  0.133393            0.179878      0.542551\n",
       "2  0.133393            0.179878      0.542551\n",
       "3  0.133393            0.179878      0.542551\n",
       "4  0.133393            0.179878      0.542551\n",
       "5  0.133393            0.179878      0.542551\n",
       "6  0.133393            0.179878      0.542551\n",
       "7  0.133393            0.179878      0.542551\n",
       "8  0.133393            0.179878      0.542551\n",
       "9  0.133393            0.179878      0.542551"
      ]
     },
     "execution_count": 23,
     "metadata": {},
     "output_type": "execute_result"
    }
   ],
   "source": [
    "sharpe_unsort_top=sharpe_pc.iloc[:,0:3].head(10)\n",
    "sharpe_unsort_top.to_csv(\"sharpe_unsort_top.csv\",)\n",
    "sharpe_unsort_top"
   ]
  },
  {
   "cell_type": "code",
   "execution_count": null,
   "metadata": {
    "colab": {
     "base_uri": "https://localhost:8080/",
     "height": 396
    },
    "id": "ocbF5D5G_NZj",
    "outputId": "acb2e2f9-2ed1-4231-9020-5455ce5f7279"
   },
   "outputs": [],
   "source": [
    "sharpe_unsort_top_all=sharpe_pc.head(10)\n",
    "sharpe_unsort_top_all.to_csv(\"sharpe_unsort_top_all.csv\")\n",
    "sharpe_unsort_top_all"
   ]
  },
  {
   "cell_type": "code",
   "execution_count": null,
   "metadata": {
    "colab": {
     "base_uri": "https://localhost:8080/",
     "height": 359
    },
    "id": "IMrBXTLBU50K",
    "outputId": "840d4bbc-20a3-40d3-e5fc-642e6a85bd47"
   },
   "outputs": [],
   "source": [
    "sharpe_unsort_bottom=sharpe_pc.iloc[:,0:3].tail(10)\n",
    "sharpe_unsort_bottom.to_csv(\"sharpe_unsort_bottom.csv\")\n",
    "sharpe_unsort_bottom"
   ]
  },
  {
   "cell_type": "code",
   "execution_count": null,
   "metadata": {
    "colab": {
     "base_uri": "https://localhost:8080/",
     "height": 396
    },
    "id": "Wx7-xNaR_YYL",
    "outputId": "1540eb7a-ca33-43d2-805c-6bfb2212a84f"
   },
   "outputs": [],
   "source": [
    "sharpe_unsort_bottom_all=sharpe_pc.tail(10)\n",
    "sharpe_unsort_bottom_all.to_csv(\"sharpe_unsort_bottom_all.csv\")\n",
    "sharpe_unsort_bottom_all"
   ]
  },
  {
   "cell_type": "code",
   "execution_count": null,
   "metadata": {
    "id": "P8s7oOOWU5xa"
   },
   "outputs": [],
   "source": [
    "sharpe_pc.to_csv('sharpe_ACO_portfolio.csv')\n",
    "\n",
    "sharpe_pc_sort=sharpe_pc.copy()\n"
   ]
  },
  {
   "cell_type": "markdown",
   "metadata": {
    "id": "NFRpZQNqv7Lg"
   },
   "source": [
    "# sort"
   ]
  },
  {
   "cell_type": "code",
   "execution_count": null,
   "metadata": {
    "id": "LFoHn_qptWBR"
   },
   "outputs": [],
   "source": [
    "sharpe_pc_sort.sort_values(by=['Sharpe Ratio'],ascending=False,inplace=True)\n",
    "sharpe_pc_sort.to_csv(\"sharpe_porfolio_sort.csv\")"
   ]
  },
  {
   "cell_type": "code",
   "execution_count": null,
   "metadata": {
    "colab": {
     "base_uri": "https://localhost:8080/",
     "height": 390
    },
    "id": "YTaRZNxauQoC",
    "outputId": "6b36db4a-1f7b-4ccb-e77c-f01eba353bbd"
   },
   "outputs": [],
   "source": [
    "sharpe_sort_top=sharpe_pc_sort.iloc[1:,0:3].head(11)\n",
    "sharpe_sort_top.to_csv(\"sharpe_sort_top.csv\")\n",
    "sharpe_sort_top"
   ]
  },
  {
   "cell_type": "code",
   "execution_count": null,
   "metadata": {
    "colab": {
     "base_uri": "https://localhost:8080/",
     "height": 427
    },
    "id": "15uAxKORuQgK",
    "outputId": "d3e5665c-16d5-442f-8ca8-7e2f10bc8057"
   },
   "outputs": [],
   "source": [
    "sharpe_sort_top_all=sharpe_pc_sort.iloc[1:,0:].head(11)\n",
    "sharpe_sort_top_all.to_csv(\"sharpe_sort_top_all.csv\")\n",
    "sharpe_sort_top_all"
   ]
  },
  {
   "cell_type": "code",
   "execution_count": null,
   "metadata": {
    "colab": {
     "base_uri": "https://localhost:8080/",
     "height": 359
    },
    "id": "Oz-ijO2XuQXi",
    "outputId": "d752a9e9-3e5f-4dc6-cdaa-48631a8eff95"
   },
   "outputs": [],
   "source": [
    "sharpe_sort_bottom=sharpe_pc_sort.iloc[:,0:3].tail(10)\n",
    "sharpe_sort_bottom.to_csv(\"sharpe_sort_bottom.csv\")\n",
    "sharpe_sort_bottom"
   ]
  },
  {
   "cell_type": "code",
   "execution_count": null,
   "metadata": {
    "colab": {
     "base_uri": "https://localhost:8080/",
     "height": 359
    },
    "id": "Br2oiE3-wqBQ",
    "outputId": "960df62a-ee3f-4751-808a-b50803cacf8e"
   },
   "outputs": [],
   "source": [
    "sharpe_sort_bottom_all=sharpe_pc_sort.iloc[:,0:3].tail(10)\n",
    "sharpe_sort_bottom_all.to_csv(\"sharpe_sort_bottom_all.csv\")\n",
    "sharpe_sort_bottom_all"
   ]
  },
  {
   "cell_type": "markdown",
   "metadata": {
    "id": "m0ugVp-dw1EI"
   },
   "source": [
    "# Sortino"
   ]
  },
  {
   "cell_type": "code",
   "execution_count": 24,
   "metadata": {
    "id": "JGKJM8olw3ZQ"
   },
   "outputs": [],
   "source": [
    "def antcolony_tuning_sortino(ITERATIONS,Q,EVA_RATE,ANTS):\n",
    "    sortino_pbest=-1\n",
    "    #Initializing sortino_pbest(the best fitness value   SHARPE)\n",
    "    #Initializing the current fitness value\n",
    "    fitness=0\n",
    "    #for each iteration\n",
    "    for iteration in range(ITERATIONS):\n",
    "        \n",
    "        #PREPARAING THE PHEROMONE MATRIX WHERE THE COLS=STOCKS AND  ROWS=ANTS\n",
    "        pheromon=[[0]*stocks for i in range(ANTS+1)]#why (ants+1)?The last ant can update the pheromone values in the last row\n",
    "        \n",
    "        # Initializing the pheromone status \n",
    "        for i in range(len(pheromon[0])):\n",
    "            pheromon[0][i]=random.randint(1,15)   #When input stocks varies, this needs to vary accordingly.(Divide number of stocks / 2)\n",
    "        \n",
    "        #copying the values and storing it in temp_pher\n",
    "        temp_pher=pheromon[0]\n",
    "        \n",
    "        #Making sure that the total amount of pheromone equals 1 \n",
    "        weights=np.array(BALANCE(temp_pher))\n",
    "        \n",
    "        #calculating annulaised portfolio return\n",
    "        returns_temp = np.sum(returnsh.mean()*weights)*trading_days \n",
    "        \n",
    "        #calculating portfolio varience wrt calculating sharpe ratio\n",
    "        varso=np.dot(weights.T,np.dot(covmatso,weights))   \n",
    "        \n",
    "        #portfolio risk\n",
    "        volatility_temp = np.sqrt(varso)      \n",
    "        \n",
    "        #Calculating fitness value(ie sortino ratio)\n",
    "        fitness = ratio(returns_temp,volatility_temp,risk_free_rate)\n",
    "        \n",
    "        #Initializing the intial fitness value as the best fitness value(sortino_pbest)\n",
    "        if sortino_pbest==-1:\n",
    "            sortino_pbest=fitness\n",
    "        \n",
    "        #list\n",
    "        path=[]\n",
    "      \n",
    "        #for each ant\n",
    "        for ant in range(ANTS-1):\n",
    "            \n",
    "            #find the total pheromone \n",
    "            total=sum(pheromon[ant])\n",
    "            \n",
    "            #Initializing probability\n",
    "            probability=pheromon[ant][:] \n",
    "            \n",
    "            #finding probability of each stocks pheromone \n",
    "            for p in range(len(probability)):\n",
    "                probability[p]=(probability[p]/total)\n",
    "                \n",
    "            #Trying to select stocks in decreasing order based on their pheromone level and storing the stock order in a list(path)\n",
    "            for stock in range(stocks):\n",
    "                select=probability.index(max(probability))\n",
    "                probability[select]=-math.inf\n",
    "                path.append(select)\n",
    "            \n",
    "            #Updating the pheromone level of each stock for the next ant \n",
    "            #Formula: old pheromone level * (1-eva_rate) + Q * (fitness/pbest) where Q is fixed amount of pheromone\n",
    "            for s in path:\n",
    "                pheromon[ant+1][s]=pheromon[ant][s]*(1-EVA_RATE)+Q*(fitness/sortino_pbest)\n",
    "            \n",
    "            \n",
    "            #making sure that the updated pheromon adds upto 1\n",
    "            temp_pher=pheromon[ant+1]\n",
    "            weights=np.array(BALANCE(temp_pher))\n",
    "            returns_temp = np.sum(returnsh.mean()*weights)*trading_days   #calculating annulaised portfolio return\n",
    "            varso=np.dot(weights.T,np.dot(covmatso,weights))              #calculating portfolio varience wrt calculating sharpe ratio\n",
    "            volatility_temp = np.sqrt(varso)                              #portfolio risk\n",
    "            fitness = ratio(returns_temp,volatility_temp,risk_free_rate)  #calculating sharpe ratio\n",
    "            \n",
    "            #comparing the old fitness value with the updated fitness value\n",
    "            # explore on scape condition paper ref\n",
    "            if(fitness>sortino_pbest):\n",
    "                \n",
    "                #if the updated fitness value is better than the previous, change sortino_pbest to present fitness value\n",
    "                sortino_pbest=fitness\n",
    "                \n",
    "                #remembering the weights of the best portfolio\n",
    "                global_warr_sortino=weights.tolist()\n",
    "        #sortino_portfolio_return.append(returns_temp)\n",
    "        #sortino_portfolio_risk.append(volatility_temp)\n",
    "        #sortino_portfolio_soratio.append(fitness)\n",
    "        #sortino_portfolio_stockWeights.append(weights)\n",
    "    return sortino_pbest\n"
   ]
  },
  {
   "cell_type": "code",
   "execution_count": 25,
   "metadata": {
    "id": "aWAFN4jOw3Wn"
   },
   "outputs": [],
   "source": [
    "#parameter values from excel sheet literature survey\n",
    "def objective(trial):\n",
    "    ITERATIONS=trial.suggest_int('ITERATIONS',2,550)\n",
    "    Q=trial.suggest_float('Q',0.0,1.0)\n",
    "    EVA_RATE=trial.suggest_float('EVA_RATE',0.00,1.00)\n",
    "    ANTS=trial.suggest_int('ANTS',2,550)\n",
    "    return antcolony_tuning_sortino(int(ITERATIONS),Q,EVA_RATE,int(ANTS))\n"
   ]
  },
  {
   "cell_type": "code",
   "execution_count": 27,
   "metadata": {
    "colab": {
     "base_uri": "https://localhost:8080/"
    },
    "id": "q114MVf8w3UQ",
    "outputId": "da83de4b-ebc4-4071-ba0e-c6f2a79c7a86"
   },
   "outputs": [
    {
     "name": "stderr",
     "output_type": "stream",
     "text": [
      "\u001B[32m[I 2022-02-17 19:00:13,374]\u001B[0m A new study created in memory with name: no-name-6f644cd9-363a-4387-b4c3-87fb69b05904\u001B[0m\n",
      "\u001B[32m[I 2022-02-17 19:01:34,307]\u001B[0m Trial 0 finished with value: 0.8083960690989089 and parameters: {'ITERATIONS': 266, 'Q': 0.9185872576483379, 'EVA_RATE': 0.811949278924161, 'ANTS': 240}. Best is trial 0 with value: 0.8083960690989089.\u001B[0m\n"
     ]
    }
   ],
   "source": [
    "sortino_study=optuna.create_study(direction='maximize')\n",
    "sortino_study.optimize(objective,n_trials=1)"
   ]
  },
  {
   "cell_type": "code",
   "execution_count": 28,
   "metadata": {
    "colab": {
     "base_uri": "https://localhost:8080/"
    },
    "id": "EIv9yt61w3SH",
    "outputId": "c911aca8-4509-4fbd-8874-1829297d58d4"
   },
   "outputs": [
    {
     "data": {
      "text/plain": [
       "{'ITERATIONS': 266,\n",
       " 'Q': 0.9185872576483379,\n",
       " 'EVA_RATE': 0.811949278924161,\n",
       " 'ANTS': 240}"
      ]
     },
     "execution_count": 28,
     "metadata": {},
     "output_type": "execute_result"
    }
   ],
   "source": [
    "hptuning=sortino_study.trials_dataframe()\n",
    "hptuning.to_csv(\"sortino_trial0.csv\")\n",
    "best=sortino_study.best_params\n",
    "best"
   ]
  },
  {
   "cell_type": "code",
   "execution_count": 29,
   "metadata": {
    "id": "ybqRRND_tKSR"
   },
   "outputs": [],
   "source": [
    "ITERATIONS=int(best['ITERATIONS'])\n",
    "Q=best['Q']\n",
    "EVA_RATE=best['EVA_RATE']\n",
    "ANTS=int(best['ANTS'])"
   ]
  },
  {
   "cell_type": "code",
   "execution_count": 30,
   "metadata": {
    "id": "y8g56Q94SbpQ"
   },
   "outputs": [],
   "source": [
    "global_warr_sortino=[]\n",
    "sortino_portfolio_return=[]\n",
    "sortino_portfolio_risk=[]\n",
    "sortino_portfolio_soratio=[]\n",
    "sortino_portfolio_stockWeights=[]"
   ]
  },
  {
   "cell_type": "code",
   "execution_count": 31,
   "metadata": {
    "id": "sPd1McTGspPx"
   },
   "outputs": [],
   "source": [
    "def antcolony_sortino(ITERATIONS,Q,EVA_RATE,ANTS):\n",
    "    sortino_pbest=-1\n",
    "    #Initializing sortino_pbest(the best fitness value   SHARPE)\n",
    "    #Initializing the current fitness value\n",
    "    fitness=0\n",
    "    #for each iteration\n",
    "    for iteration in range(ITERATIONS):\n",
    "        \n",
    "        #PREPARAING THE PHEROMONE MATRIX WHERE THE COLS=STOCKS AND  ROWS=ANTS\n",
    "        pheromon=[[0]*stocks for i in range(ANTS+1)]#why (ants+1)?The last ant can update the pheromone values in the last row\n",
    "        \n",
    "        # Initializing the pheromone status \n",
    "        for i in range(len(pheromon[0])):\n",
    "            pheromon[0][i]=random.randint(1,15)   #When input stocks varies, this needs to vary accordingly.(Divide number of stocks / 2)\n",
    "        \n",
    "        #copying the values and storing it in temp_pher\n",
    "        temp_pher=pheromon[0]\n",
    "        \n",
    "        #Making sure that the total amount of pheromone equals 1 \n",
    "        weights=np.array(BALANCE(temp_pher))\n",
    "        \n",
    "        #calculating annulaised portfolio return\n",
    "        returns_temp = np.sum(returnsh.mean()*weights)*trading_days \n",
    "        \n",
    "        #calculating portfolio varience wrt calculating sharpe ratio\n",
    "        varso=np.dot(weights.T,np.dot(covmatso,weights))   \n",
    "        \n",
    "        #portfolio risk\n",
    "        volatility_temp = np.sqrt(varso)      \n",
    "        \n",
    "        #Calculating fitness value(ie sortino ratio)\n",
    "        fitness = ratio(returns_temp,volatility_temp,risk_free_rate)\n",
    "        \n",
    "        #Initializing the intial fitness value as the best fitness value(sortino_pbest)\n",
    "        if sortino_pbest==-1:\n",
    "            sortino_pbest=fitness\n",
    "        \n",
    "        #list\n",
    "        path=[]\n",
    "      \n",
    "        #for each ant\n",
    "        for ant in range(ANTS-1):\n",
    "            \n",
    "            #find the total pheromone \n",
    "            total=sum(pheromon[ant])\n",
    "            \n",
    "            #Initializing probability\n",
    "            probability=pheromon[ant][:] \n",
    "            \n",
    "            #finding probability of each stocks pheromone \n",
    "            for p in range(len(probability)):\n",
    "                probability[p]=(probability[p]/total)\n",
    "                \n",
    "            #Trying to select stocks in decreasing order based on their pheromone level and storing the stock order in a list(path)\n",
    "            for stock in range(stocks):\n",
    "                select=probability.index(max(probability))\n",
    "                probability[select]=-math.inf\n",
    "                path.append(select)\n",
    "            \n",
    "            #Updating the pheromone level of each stock for the next ant \n",
    "            #Formula: old pheromone level * (1-eva_rate) + Q * (fitness/pbest) where Q is fixed amount of pheromone\n",
    "            for s in path:\n",
    "                pheromon[ant+1][s]=pheromon[ant][s]*(1-EVA_RATE)+Q*(fitness/sortino_pbest)\n",
    "            \n",
    "            \n",
    "            #making sure that the updated pheromon adds upto 1\n",
    "            temp_pher=pheromon[ant+1]\n",
    "            weights=np.array(BALANCE(temp_pher))\n",
    "            returns_temp = np.sum(returnsh.mean()*weights)*trading_days   #calculating annulaised portfolio return\n",
    "            varso=np.dot(weights.T,np.dot(covmatso,weights))              #calculating portfolio varience wrt calculating sharpe ratio\n",
    "            volatility_temp = np.sqrt(varso)                              #portfolio risk\n",
    "            fitness = ratio(returns_temp,volatility_temp,risk_free_rate)  #calculating sharpe ratio\n",
    "            \n",
    "            #comparing the old fitness value with the updated fitness value\n",
    "            # explore on scape condition paper ref\n",
    "            if(fitness>sortino_pbest):\n",
    "                \n",
    "                #if the updated fitness value is better than the previous, change sortino_pbest to present fitness value\n",
    "                sortino_pbest=fitness\n",
    "                \n",
    "                #remembering the weights of the best portfolio\n",
    "                global_warr_sortino=weights.tolist()\n",
    "            sortino_portfolio_return.append(returns_temp)\n",
    "            sortino_portfolio_risk.append(volatility_temp)\n",
    "            sortino_portfolio_soratio.append(fitness)\n",
    "            sortino_portfolio_stockWeights.append(weights)\n",
    "    return sortino_pbest\n"
   ]
  },
  {
   "cell_type": "code",
   "execution_count": 32,
   "metadata": {
    "id": "FOlVoCBsw3P_"
   },
   "outputs": [],
   "source": [
    "sortino_tuned=antcolony_sortino(ITERATIONS,Q,EVA_RATE,ANTS)"
   ]
  },
  {
   "cell_type": "code",
   "execution_count": 33,
   "metadata": {
    "colab": {
     "base_uri": "https://localhost:8080/"
    },
    "id": "MlnQ-ViJwMr4",
    "outputId": "496168c4-b707-49a9-d23e-cf6a02202052"
   },
   "outputs": [
    {
     "data": {
      "text/plain": [
       "0.8083960690989089"
      ]
     },
     "execution_count": 33,
     "metadata": {},
     "output_type": "execute_result"
    }
   ],
   "source": [
    "sortino_tuned"
   ]
  },
  {
   "cell_type": "code",
   "execution_count": 41,
   "metadata": {
    "colab": {
     "base_uri": "https://localhost:8080/"
    },
    "id": "fBLzqoDdw3Nn",
    "outputId": "f35d02b0-9651-4f91-9fb6-db0f3bd48c3d"
   },
   "outputs": [
    {
     "data": {
      "text/html": [
       "<div>\n",
       "<style scoped>\n",
       "    .dataframe tbody tr th:only-of-type {\n",
       "        vertical-align: middle;\n",
       "    }\n",
       "\n",
       "    .dataframe tbody tr th {\n",
       "        vertical-align: top;\n",
       "    }\n",
       "\n",
       "    .dataframe thead th {\n",
       "        text-align: right;\n",
       "    }\n",
       "</style>\n",
       "<table border=\"1\" class=\"dataframe\">\n",
       "  <thead>\n",
       "    <tr style=\"text-align: right;\">\n",
       "      <th></th>\n",
       "      <th>Returns</th>\n",
       "      <th>Standard Deviation</th>\n",
       "      <th>Sortino Ratio</th>\n",
       "      <th>Adj Close Weight</th>\n",
       "    </tr>\n",
       "  </thead>\n",
       "  <tbody>\n",
       "    <tr>\n",
       "      <th>0</th>\n",
       "      <td>0.133393</td>\n",
       "      <td>0.120724</td>\n",
       "      <td>0.808396</td>\n",
       "      <td>1.0</td>\n",
       "    </tr>\n",
       "    <tr>\n",
       "      <th>1</th>\n",
       "      <td>0.133393</td>\n",
       "      <td>0.120724</td>\n",
       "      <td>0.808396</td>\n",
       "      <td>1.0</td>\n",
       "    </tr>\n",
       "    <tr>\n",
       "      <th>2</th>\n",
       "      <td>0.133393</td>\n",
       "      <td>0.120724</td>\n",
       "      <td>0.808396</td>\n",
       "      <td>1.0</td>\n",
       "    </tr>\n",
       "    <tr>\n",
       "      <th>3</th>\n",
       "      <td>0.133393</td>\n",
       "      <td>0.120724</td>\n",
       "      <td>0.808396</td>\n",
       "      <td>1.0</td>\n",
       "    </tr>\n",
       "    <tr>\n",
       "      <th>4</th>\n",
       "      <td>0.133393</td>\n",
       "      <td>0.120724</td>\n",
       "      <td>0.808396</td>\n",
       "      <td>1.0</td>\n",
       "    </tr>\n",
       "    <tr>\n",
       "      <th>...</th>\n",
       "      <td>...</td>\n",
       "      <td>...</td>\n",
       "      <td>...</td>\n",
       "      <td>...</td>\n",
       "    </tr>\n",
       "    <tr>\n",
       "      <th>63569</th>\n",
       "      <td>0.133393</td>\n",
       "      <td>0.120724</td>\n",
       "      <td>0.808396</td>\n",
       "      <td>1.0</td>\n",
       "    </tr>\n",
       "    <tr>\n",
       "      <th>63570</th>\n",
       "      <td>0.133393</td>\n",
       "      <td>0.120724</td>\n",
       "      <td>0.808396</td>\n",
       "      <td>1.0</td>\n",
       "    </tr>\n",
       "    <tr>\n",
       "      <th>63571</th>\n",
       "      <td>0.133393</td>\n",
       "      <td>0.120724</td>\n",
       "      <td>0.808396</td>\n",
       "      <td>1.0</td>\n",
       "    </tr>\n",
       "    <tr>\n",
       "      <th>63572</th>\n",
       "      <td>0.133393</td>\n",
       "      <td>0.120724</td>\n",
       "      <td>0.808396</td>\n",
       "      <td>1.0</td>\n",
       "    </tr>\n",
       "    <tr>\n",
       "      <th>63573</th>\n",
       "      <td>0.133393</td>\n",
       "      <td>0.120724</td>\n",
       "      <td>0.808396</td>\n",
       "      <td>1.0</td>\n",
       "    </tr>\n",
       "  </tbody>\n",
       "</table>\n",
       "<p>63574 rows × 4 columns</p>\n",
       "</div>"
      ],
      "text/plain": [
       "        Returns  Standard Deviation  Sortino Ratio  Adj Close Weight\n",
       "0      0.133393            0.120724       0.808396               1.0\n",
       "1      0.133393            0.120724       0.808396               1.0\n",
       "2      0.133393            0.120724       0.808396               1.0\n",
       "3      0.133393            0.120724       0.808396               1.0\n",
       "4      0.133393            0.120724       0.808396               1.0\n",
       "...         ...                 ...            ...               ...\n",
       "63569  0.133393            0.120724       0.808396               1.0\n",
       "63570  0.133393            0.120724       0.808396               1.0\n",
       "63571  0.133393            0.120724       0.808396               1.0\n",
       "63572  0.133393            0.120724       0.808396               1.0\n",
       "63573  0.133393            0.120724       0.808396               1.0\n",
       "\n",
       "[63574 rows x 4 columns]"
      ]
     },
     "execution_count": 41,
     "metadata": {},
     "output_type": "execute_result"
    }
   ],
   "source": [
    "sortino_portfolio = {'Returns' : sortino_portfolio_return, 'Standard Deviation' : sortino_portfolio_risk,  'Sortino Ratio' : sortino_portfolio_soratio}  \n",
    "\n",
    "for counter,symbol in enumerate(df.columns):\n",
    "  sortino_portfolio[symbol + \" Weight\"] = [Weight[counter] for Weight in sortino_portfolio_stockWeights]\n",
    "sortino_pc = pd.DataFrame(sortino_portfolio)\n",
    "sortino_optimal=sortino_pc.iloc[sortino_pc['Sortino Ratio'].idxmax()]\n",
    "sortino_optimal=pd.DataFrame(sortino_optimal)\n",
    "sortino_optimal.to_csv(\"sortino_optimal.csv\")\n",
    "sortino_pc\n"
   ]
  },
  {
   "cell_type": "markdown",
   "metadata": {
    "id": "t69IyiAGy5tI"
   },
   "source": [
    "## not sort "
   ]
  },
  {
   "cell_type": "code",
   "execution_count": 35,
   "metadata": {
    "id": "ov_yb_UOw3FZ"
   },
   "outputs": [],
   "source": [
    "sortino_unsort_top=sortino_pc.iloc[:,0:3].head(10)\n",
    "sortino_unsort_top.to_csv(\"sortino_unsort_top.csv\")"
   ]
  },
  {
   "cell_type": "code",
   "execution_count": 36,
   "metadata": {
    "id": "SfJzakz-zKQ3"
   },
   "outputs": [],
   "source": [
    "sortino_unsort_top_all=sortino_pc.head(10)\n",
    "sortino_unsort_top_all.to_csv(\"sortino_unsort_top_all.csv\")"
   ]
  },
  {
   "cell_type": "code",
   "execution_count": 37,
   "metadata": {
    "id": "_HEQurYqzKJp"
   },
   "outputs": [],
   "source": [
    "sortino_unsort_bottom=sortino_pc.iloc[:,0:3].tail(10)\n",
    "sortino_unsort_bottom.to_csv(\"sortino_unsort_bottom.csv\")"
   ]
  },
  {
   "cell_type": "code",
   "execution_count": 38,
   "metadata": {
    "id": "CtDwcMm5zKFO"
   },
   "outputs": [],
   "source": [
    "sortino_unsort_bottom_all=sortino_pc.tail(10)\n",
    "sortino_unsort_bottom_all.to_csv(\"sortino_unsort_bottom_all.csv\")"
   ]
  },
  {
   "cell_type": "code",
   "execution_count": 39,
   "metadata": {
    "id": "QPntUZC0zJ9w"
   },
   "outputs": [],
   "source": [
    "sortino_pc.to_csv('sortino_ACO_portfolio.csv')\n",
    "\n",
    "sortino_pc_sort=sortino_pc.copy()"
   ]
  },
  {
   "cell_type": "markdown",
   "metadata": {
    "id": "SEUMsz3Uzlif"
   },
   "source": [
    "## sort sortino"
   ]
  },
  {
   "cell_type": "code",
   "execution_count": 40,
   "metadata": {
    "id": "-WIiV8GrznkJ"
   },
   "outputs": [],
   "source": [
    "sortino_pc_sort.sort_values(by=['Sortino Ratio'],ascending=False,inplace=True)\n",
    "sortino_pc_sort.to_csv(\"sortino_porfolio_sort.csv\")"
   ]
  },
  {
   "cell_type": "code",
   "execution_count": null,
   "metadata": {
    "colab": {
     "base_uri": "https://localhost:8080/",
     "height": 390
    },
    "id": "c6QE2ytEznbf",
    "outputId": "d33b6b54-e2e1-4665-f031-3353c1958688"
   },
   "outputs": [],
   "source": [
    "sortino_sort_top=sortino_pc_sort.iloc[1:,0:3].head(11)\n",
    "sortino_sort_top.to_csv(\"sortino_sort_top.csv\")\n",
    "sortino_sort_top"
   ]
  },
  {
   "cell_type": "code",
   "execution_count": null,
   "metadata": {
    "colab": {
     "base_uri": "https://localhost:8080/",
     "height": 427
    },
    "id": "i9JoFzyxznY3",
    "outputId": "7e093e9f-36a9-43a7-fb03-117e6853acfb"
   },
   "outputs": [],
   "source": [
    "sortino_sort_top_all=sortino_pc_sort.iloc[1:,0:].head(11)\n",
    "sortino_sort_top_all.to_csv(\"sortino_sort_top_all.csv\")\n",
    "sortino_sort_top_all"
   ]
  },
  {
   "cell_type": "code",
   "execution_count": null,
   "metadata": {
    "colab": {
     "base_uri": "https://localhost:8080/",
     "height": 359
    },
    "id": "CXeKj09vznV3",
    "outputId": "0733d9af-8307-44c4-a419-70abbbd95818"
   },
   "outputs": [],
   "source": [
    "sortino_sort_bottom=sortino_pc_sort.iloc[:,0:3].tail(10)\n",
    "sortino_sort_bottom.to_csv(\"sortino_sort_bottom.csv\")\n",
    "sortino_sort_bottom"
   ]
  },
  {
   "cell_type": "code",
   "execution_count": null,
   "metadata": {
    "colab": {
     "base_uri": "https://localhost:8080/",
     "height": 359
    },
    "id": "A9el7xkHznOf",
    "outputId": "26001122-ddc1-42ff-b5cc-4030b45b4a43"
   },
   "outputs": [],
   "source": [
    "sortino_sort_bottom_all=sortino_pc_sort.iloc[:,0:3].tail(10)\n",
    "sortino_sort_bottom_all.to_csv(\"sortino_sort_bottom_all.csv\")\n",
    "sortino_sort_bottom_all"
   ]
  },
  {
   "cell_type": "code",
   "execution_count": null,
   "metadata": {
    "id": "oSxav7O4U5qE"
   },
   "outputs": [],
   "source": [
    "\n",
    "#tables in word doc also(final table)\n"
   ]
  },
  {
   "cell_type": "code",
   "execution_count": null,
   "metadata": {
    "id": "P6bO4iFv6imK"
   },
   "outputs": [],
   "source": []
  },
  {
   "cell_type": "code",
   "execution_count": null,
   "metadata": {
    "id": "cm_OLqv2tSWx"
   },
   "outputs": [],
   "source": []
  },
  {
   "cell_type": "code",
   "execution_count": null,
   "metadata": {},
   "outputs": [],
   "source": []
  },
  {
   "cell_type": "code",
   "execution_count": null,
   "metadata": {},
   "outputs": [],
   "source": []
  },
  {
   "cell_type": "code",
   "execution_count": null,
   "metadata": {},
   "outputs": [],
   "source": []
  },
  {
   "cell_type": "code",
   "execution_count": null,
   "metadata": {},
   "outputs": [],
   "source": []
  },
  {
   "cell_type": "code",
   "execution_count": null,
   "metadata": {},
   "outputs": [],
   "source": []
  },
  {
   "cell_type": "code",
   "execution_count": null,
   "metadata": {},
   "outputs": [],
   "source": []
  },
  {
   "cell_type": "code",
   "execution_count": null,
   "metadata": {},
   "outputs": [],
   "source": []
  },
  {
   "cell_type": "code",
   "execution_count": null,
   "metadata": {},
   "outputs": [],
   "source": []
  },
  {
   "cell_type": "code",
   "execution_count": null,
   "metadata": {},
   "outputs": [],
   "source": []
  },
  {
   "cell_type": "code",
   "execution_count": null,
   "metadata": {},
   "outputs": [],
   "source": []
  },
  {
   "cell_type": "code",
   "execution_count": null,
   "metadata": {},
   "outputs": [],
   "source": []
  },
  {
   "cell_type": "code",
   "execution_count": null,
   "metadata": {},
   "outputs": [],
   "source": []
  },
  {
   "cell_type": "code",
   "execution_count": null,
   "metadata": {},
   "outputs": [],
   "source": []
  },
  {
   "cell_type": "code",
   "execution_count": null,
   "metadata": {},
   "outputs": [],
   "source": []
  },
  {
   "cell_type": "code",
   "execution_count": null,
   "metadata": {},
   "outputs": [],
   "source": []
  },
  {
   "cell_type": "code",
   "execution_count": null,
   "metadata": {},
   "outputs": [],
   "source": []
  },
  {
   "cell_type": "code",
   "execution_count": null,
   "metadata": {},
   "outputs": [],
   "source": []
  }
 ],
 "metadata": {
  "colab": {
   "collapsed_sections": [],
   "name": "2Nov2021_ACO_Final.ipynb",
   "provenance": []
  },
  "kernelspec": {
   "display_name": "Python 3",
   "language": "python",
   "name": "python3"
  },
  "language_info": {
   "codemirror_mode": {
    "name": "ipython",
    "version": 3
   },
   "file_extension": ".py",
   "mimetype": "text/x-python",
   "name": "python",
   "nbconvert_exporter": "python",
   "pygments_lexer": "ipython3",
   "version": "3.7.6"
  }
 },
 "nbformat": 4,
 "nbformat_minor": 4
}