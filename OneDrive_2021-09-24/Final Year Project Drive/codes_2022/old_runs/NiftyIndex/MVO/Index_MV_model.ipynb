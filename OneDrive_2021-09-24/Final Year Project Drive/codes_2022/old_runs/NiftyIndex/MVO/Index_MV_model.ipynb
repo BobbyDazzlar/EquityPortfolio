{
 "cells": [
  {
   "cell_type": "code",
   "execution_count": 1,
   "metadata": {
    "id": "s-lgOBxeXP22"
   },
   "outputs": [],
   "source": [
    "import pandas as pd\n",
    "import numpy as np\n",
    "import seaborn as sns\n",
    "import matplotlib.pyplot as plt\n",
    "%matplotlib inline"
   ]
  },
  {
   "cell_type": "code",
   "execution_count": 47,
   "metadata": {
    "id": "xKidKyP7XbmM"
   },
   "outputs": [],
   "source": [
    "df=pd.read_csv('Nifty50.csv',parse_dates=['Date'],index_col='Date')\n",
    "df = df.loc[\"2016-01-01\" : \"2020-12-31\"]   #Since 2016-01-01, 5y(1238rows till 2020-12-31), + year 2021's rows\n",
    "tdf=df.copy()                  #deep copy\n",
    "df.reset_index(drop=True, inplace=True)"
   ]
  },
  {
   "cell_type": "code",
   "execution_count": 48,
   "metadata": {
    "id": "D09GZZOWgT1l"
   },
   "outputs": [],
   "source": [
    "def number_of_years(y):        #calculates the number of years of the dataset\n",
    "  p=y.index[0]                 #date of first row in the dataset (datetime format)\n",
    "  q=y.index[len(y)-1]          #date of last row in the dataset  (datetime format)\n",
    "  return ((q-p).days+1)/365           #the difference give the number of total days (not trading days) over the total number of years in the dataset"
   ]
  },
  {
   "cell_type": "code",
   "execution_count": 49,
   "metadata": {
    "id": "18cZaIsOfe4f"
   },
   "outputs": [],
   "source": [
    "trading_days=len(df)/number_of_years(tdf)                       #Trading days per year (automated)"
   ]
  },
  {
   "cell_type": "code",
   "execution_count": 50,
   "metadata": {
    "id": "5Cvf_5eWXveC"
   },
   "outputs": [],
   "source": [
    "returnsh=df.pct_change()                  #Here, returnsh would mean return considered for sharpe ratio\n",
    "returnsh.fillna(0,inplace=True)           #calculating daily returns of the stocks in the portfolio"
   ]
  },
  {
   "cell_type": "code",
   "execution_count": 51,
   "metadata": {
    "id": "qxy4cC3uX_i4"
   },
   "outputs": [],
   "source": [
    "returnso=returnsh.copy()                  #this cell considers only NEGATIVE returns so as to calculate sortino ratio\n",
    "for cols in returnso.columns.tolist():\n",
    "    for i in range(0,len(df)):\n",
    "      if returnso[cols][i] > 0:\n",
    "        returnso[cols][i]=0               #Here, returnso would mean return considered for sortino ratio"
   ]
  },
  {
   "cell_type": "code",
   "execution_count": 52,
   "metadata": {
    "id": "-QVl69gSZfGk"
   },
   "outputs": [],
   "source": [
    "covmatsh=returnsh.cov()*trading_days      #Annualised covariance matrix calculated wrt returnsh i.e. used to calculate sharpe ratio\n",
    "covmatso=returnso.cov()*trading_days      #Annualised covariance matrix calculated wrt returnso i.e. used to calculate sortino ratio"
   ]
  },
  {
   "cell_type": "code",
   "execution_count": 53,
   "metadata": {
    "id": "j3oj3W-riM2U"
   },
   "outputs": [],
   "source": [
    "num_portfolios = 50000                   #initializing number of portfolios to 50000; referred from Wang et al (2020) (science direct)\n",
    "num_assets = len(df.columns)              #initializing number of stocks/assets considered in the portfolio\n",
    "risk_free_rate = 0.0358                   #initializing risk free rate that will be used in calculating both the ratios (absolute value)\n",
    "#referred from url: https://www.rbi.org.in/Scripts/BS_NSDPDisplay.aspx?param=4&Id=24292\n",
    "#In the above url, the 364 (1 year) day treasury bill is 3.58% , when taken absolute value => 0.0358\n",
    "# (improved)"
   ]
  },
  {
   "cell_type": "code",
   "execution_count": 54,
   "metadata": {},
   "outputs": [],
   "source": [
    "#2021_chen etal_Mean–variance portfolio optimization using machine learning-based stock price prediction\n",
    "#Repeat the process 50,000times. From a statistical point of view, 50,000 random portfolios cover most possible portfolios with different weights and aresufficiently representative"
   ]
  },
  {
   "cell_type": "code",
   "execution_count": 55,
   "metadata": {
    "id": "QjDb76cn3ROe"
   },
   "outputs": [],
   "source": [
    "portfolio_returns = []                    #initializing an empty list for portfolio returns\n",
    "portfolio_volatility =[]                  #initializing an empty list for portfolio risk\n",
    "stock_weights =[]                         #initializing an empty list for portfolio weights\n",
    "semi_deviation =[]                        #initializing an empty list for portfolio semi-deviation\n",
    "sharpe =[]                                #initializing an empty list for portfolio sharpe ratio\n",
    "sortino =[]                               #initializing an empty list for portfolio sortino ratio"
   ]
  },
  {
   "cell_type": "code",
   "execution_count": 56,
   "metadata": {
    "id": "vNaM1Eiy7C8I"
   },
   "outputs": [],
   "source": [
    "def ratio(a,b,c):                         #function to calculate ratio i.e. \"(returns-(risk_free_rate))/deviation\"\n",
    "  return (a-c)/b                          #a => annual return, c => risk_free_rate, b => deviation (standard for sharpe, semi for sortino)"
   ]
  },
  {
   "cell_type": "code",
   "execution_count": 57,
   "metadata": {
    "id": "7a7NcnCu3eSL"
   },
   "outputs": [],
   "source": [
    "for single_portfolio in range(num_portfolios):                  #iterating forloop for 50000 times to generate 50000 portfolios\n",
    "  weights = np.random.random(num_assets)                        #initializing random weights\n",
    "  weights /= np.sum(weights)                                    #No Short Selling Allowed => weights add up to 1   \"x = x+y\" => \"x+=y\"    weights = weights/np.sum(weights)  \n",
    "  returns_temp = np.sum(returnsh.mean()*weights)*trading_days   #calculating annulaised portfolio return\n",
    "  varsh=np.dot(weights.T,np.dot(covmatsh,weights))              #calculating portfolio varience wrt calculating sharpe ratio\n",
    "  varso=np.dot(weights.T,np.dot(covmatso,weights))              #calculating portfolio varience wrt calculating sortino ratio\n",
    "  volatility_temp = np.sqrt(varsh)                              #portfolio risk\n",
    "  semi_temp = np.sqrt(varso)                                    #portfolio semi-deviation\n",
    "  shtemp = ratio(returns_temp,volatility_temp,risk_free_rate)   #calculating sharpe ratio\n",
    "  sotemp = ratio(returns_temp,semi_temp,risk_free_rate)         #calculating sortino ratio\n",
    "  portfolio_returns.append(returns_temp)                       \n",
    "  portfolio_volatility.append(volatility_temp)\n",
    "  stock_weights.append(weights)\n",
    "  sharpe.append(shtemp)\n",
    "  sortino.append(sotemp)\n",
    "  semi_deviation.append(semi_temp)"
   ]
  },
  {
   "cell_type": "code",
   "execution_count": 58,
   "metadata": {
    "id": "TYQlju2K4Ntj"
   },
   "outputs": [],
   "source": [
    "portfolio = {'Returns' : portfolio_returns, 'Standard Deviation' : portfolio_volatility, 'Semi-Deviation' : semi_deviation, 'Sharpe Ratio' : sharpe, \n",
    "             'Sortino Ratio' : sortino}    \n",
    "#here, 'portfolio' is a dictionary which will be used to create dataframe where each row will be a portfolio"
   ]
  },
  {
   "cell_type": "code",
   "execution_count": 59,
   "metadata": {
    "id": "ldUZ6FpZ4Wav"
   },
   "outputs": [],
   "source": [
    "for counter,symbol in enumerate(df.columns):\n",
    "  portfolio[symbol + \" Weight\"] = [Weight[counter] for Weight in stock_weights] \n",
    "#to the dictionary (named 'portfolio'), weights for each symbol are added in so as to be displayed in the dataframe"
   ]
  },
  {
   "cell_type": "code",
   "execution_count": 60,
   "metadata": {
    "id": "upQ50rlk4fIK"
   },
   "outputs": [],
   "source": [
    "pc = pd.DataFrame(portfolio)         #making the final dataframe where data of 50000 portfolios is appended (subject to be saved, whose code is to be written)"
   ]
  },
  {
   "cell_type": "code",
   "execution_count": 61,
   "metadata": {
    "id": "uoxqrDxpwJrT"
   },
   "outputs": [],
   "source": [
    "pc=pc*100                                       #Converting everything to percentage\n",
    "pc['Sharpe Ratio']=pc['Sharpe Ratio']/100       #leaving ratios as it is\n",
    "pc['Sortino Ratio']=pc['Sortino Ratio']/100"
   ]
  },
  {
   "cell_type": "code",
   "execution_count": 62,
   "metadata": {
    "id": "FEDWneNnv5SX"
   },
   "outputs": [],
   "source": [
    "pc.to_csv('portfolios_by_MV.csv')  #saving the portfolios data"
   ]
  },
  {
   "cell_type": "code",
   "execution_count": 63,
   "metadata": {
    "colab": {
     "base_uri": "https://localhost:8080/",
     "height": 117
    },
    "executionInfo": {
     "elapsed": 424,
     "status": "ok",
     "timestamp": 1621600636249,
     "user": {
      "displayName": "Dhiraj Patidar",
      "photoUrl": "",
      "userId": "01911352281812304855"
     },
     "user_tz": -330
    },
    "id": "7ns3vwlIiihQ",
    "outputId": "84b1912f-7c68-4fcc-b132-c73f14566e93"
   },
   "outputs": [
    {
     "data": {
      "text/html": [
       "<div>\n",
       "<style scoped>\n",
       "    .dataframe tbody tr th:only-of-type {\n",
       "        vertical-align: middle;\n",
       "    }\n",
       "\n",
       "    .dataframe tbody tr th {\n",
       "        vertical-align: top;\n",
       "    }\n",
       "\n",
       "    .dataframe thead th {\n",
       "        text-align: right;\n",
       "    }\n",
       "</style>\n",
       "<table border=\"1\" class=\"dataframe\">\n",
       "  <thead>\n",
       "    <tr style=\"text-align: right;\">\n",
       "      <th></th>\n",
       "      <th>Returns</th>\n",
       "      <th>Standard Deviation</th>\n",
       "      <th>Semi-Deviation</th>\n",
       "      <th>Sharpe Ratio</th>\n",
       "      <th>Sortino Ratio</th>\n",
       "      <th>Adj Close Weight</th>\n",
       "    </tr>\n",
       "  </thead>\n",
       "  <tbody>\n",
       "    <tr>\n",
       "      <th>0</th>\n",
       "      <td>13.339271</td>\n",
       "      <td>17.98775</td>\n",
       "      <td>12.072388</td>\n",
       "      <td>0.542551</td>\n",
       "      <td>0.808396</td>\n",
       "      <td>100.0</td>\n",
       "    </tr>\n",
       "    <tr>\n",
       "      <th>1</th>\n",
       "      <td>13.339271</td>\n",
       "      <td>17.98775</td>\n",
       "      <td>12.072388</td>\n",
       "      <td>0.542551</td>\n",
       "      <td>0.808396</td>\n",
       "      <td>100.0</td>\n",
       "    </tr>\n",
       "    <tr>\n",
       "      <th>2</th>\n",
       "      <td>13.339271</td>\n",
       "      <td>17.98775</td>\n",
       "      <td>12.072388</td>\n",
       "      <td>0.542551</td>\n",
       "      <td>0.808396</td>\n",
       "      <td>100.0</td>\n",
       "    </tr>\n",
       "    <tr>\n",
       "      <th>3</th>\n",
       "      <td>13.339271</td>\n",
       "      <td>17.98775</td>\n",
       "      <td>12.072388</td>\n",
       "      <td>0.542551</td>\n",
       "      <td>0.808396</td>\n",
       "      <td>100.0</td>\n",
       "    </tr>\n",
       "    <tr>\n",
       "      <th>4</th>\n",
       "      <td>13.339271</td>\n",
       "      <td>17.98775</td>\n",
       "      <td>12.072388</td>\n",
       "      <td>0.542551</td>\n",
       "      <td>0.808396</td>\n",
       "      <td>100.0</td>\n",
       "    </tr>\n",
       "    <tr>\n",
       "      <th>...</th>\n",
       "      <td>...</td>\n",
       "      <td>...</td>\n",
       "      <td>...</td>\n",
       "      <td>...</td>\n",
       "      <td>...</td>\n",
       "      <td>...</td>\n",
       "    </tr>\n",
       "    <tr>\n",
       "      <th>49995</th>\n",
       "      <td>13.339271</td>\n",
       "      <td>17.98775</td>\n",
       "      <td>12.072388</td>\n",
       "      <td>0.542551</td>\n",
       "      <td>0.808396</td>\n",
       "      <td>100.0</td>\n",
       "    </tr>\n",
       "    <tr>\n",
       "      <th>49996</th>\n",
       "      <td>13.339271</td>\n",
       "      <td>17.98775</td>\n",
       "      <td>12.072388</td>\n",
       "      <td>0.542551</td>\n",
       "      <td>0.808396</td>\n",
       "      <td>100.0</td>\n",
       "    </tr>\n",
       "    <tr>\n",
       "      <th>49997</th>\n",
       "      <td>13.339271</td>\n",
       "      <td>17.98775</td>\n",
       "      <td>12.072388</td>\n",
       "      <td>0.542551</td>\n",
       "      <td>0.808396</td>\n",
       "      <td>100.0</td>\n",
       "    </tr>\n",
       "    <tr>\n",
       "      <th>49998</th>\n",
       "      <td>13.339271</td>\n",
       "      <td>17.98775</td>\n",
       "      <td>12.072388</td>\n",
       "      <td>0.542551</td>\n",
       "      <td>0.808396</td>\n",
       "      <td>100.0</td>\n",
       "    </tr>\n",
       "    <tr>\n",
       "      <th>49999</th>\n",
       "      <td>13.339271</td>\n",
       "      <td>17.98775</td>\n",
       "      <td>12.072388</td>\n",
       "      <td>0.542551</td>\n",
       "      <td>0.808396</td>\n",
       "      <td>100.0</td>\n",
       "    </tr>\n",
       "  </tbody>\n",
       "</table>\n",
       "<p>50000 rows × 6 columns</p>\n",
       "</div>"
      ],
      "text/plain": [
       "         Returns  Standard Deviation  Semi-Deviation  Sharpe Ratio  \\\n",
       "0      13.339271            17.98775       12.072388      0.542551   \n",
       "1      13.339271            17.98775       12.072388      0.542551   \n",
       "2      13.339271            17.98775       12.072388      0.542551   \n",
       "3      13.339271            17.98775       12.072388      0.542551   \n",
       "4      13.339271            17.98775       12.072388      0.542551   \n",
       "...          ...                 ...             ...           ...   \n",
       "49995  13.339271            17.98775       12.072388      0.542551   \n",
       "49996  13.339271            17.98775       12.072388      0.542551   \n",
       "49997  13.339271            17.98775       12.072388      0.542551   \n",
       "49998  13.339271            17.98775       12.072388      0.542551   \n",
       "49999  13.339271            17.98775       12.072388      0.542551   \n",
       "\n",
       "       Sortino Ratio  Adj Close Weight  \n",
       "0           0.808396             100.0  \n",
       "1           0.808396             100.0  \n",
       "2           0.808396             100.0  \n",
       "3           0.808396             100.0  \n",
       "4           0.808396             100.0  \n",
       "...              ...               ...  \n",
       "49995       0.808396             100.0  \n",
       "49996       0.808396             100.0  \n",
       "49997       0.808396             100.0  \n",
       "49998       0.808396             100.0  \n",
       "49999       0.808396             100.0  \n",
       "\n",
       "[50000 rows x 6 columns]"
      ]
     },
     "execution_count": 63,
     "metadata": {},
     "output_type": "execute_result"
    }
   ],
   "source": [
    "max_sharpe=pc['Sharpe Ratio'].max()                                             #Best optimised portfolio wrt sharpe ratio\n",
    "max_sharpe_portfolio=pc.loc[pc['Sharpe Ratio'] == max_sharpe]\n",
    "max_sharpe_portfolio"
   ]
  },
  {
   "cell_type": "code",
   "execution_count": 64,
   "metadata": {
    "colab": {
     "base_uri": "https://localhost:8080/",
     "height": 117
    },
    "executionInfo": {
     "elapsed": 10,
     "status": "ok",
     "timestamp": 1621600636250,
     "user": {
      "displayName": "Dhiraj Patidar",
      "photoUrl": "",
      "userId": "01911352281812304855"
     },
     "user_tz": -330
    },
    "id": "UC-kxQbux5jc",
    "outputId": "88f6ad88-af94-469b-ac2d-20c125254bba"
   },
   "outputs": [
    {
     "data": {
      "text/html": [
       "<div>\n",
       "<style scoped>\n",
       "    .dataframe tbody tr th:only-of-type {\n",
       "        vertical-align: middle;\n",
       "    }\n",
       "\n",
       "    .dataframe tbody tr th {\n",
       "        vertical-align: top;\n",
       "    }\n",
       "\n",
       "    .dataframe thead th {\n",
       "        text-align: right;\n",
       "    }\n",
       "</style>\n",
       "<table border=\"1\" class=\"dataframe\">\n",
       "  <thead>\n",
       "    <tr style=\"text-align: right;\">\n",
       "      <th></th>\n",
       "      <th>Returns</th>\n",
       "      <th>Standard Deviation</th>\n",
       "      <th>Semi-Deviation</th>\n",
       "      <th>Sharpe Ratio</th>\n",
       "      <th>Sortino Ratio</th>\n",
       "      <th>Adj Close Weight</th>\n",
       "    </tr>\n",
       "  </thead>\n",
       "  <tbody>\n",
       "    <tr>\n",
       "      <th>0</th>\n",
       "      <td>13.339271</td>\n",
       "      <td>17.98775</td>\n",
       "      <td>12.072388</td>\n",
       "      <td>0.542551</td>\n",
       "      <td>0.808396</td>\n",
       "      <td>100.0</td>\n",
       "    </tr>\n",
       "    <tr>\n",
       "      <th>1</th>\n",
       "      <td>13.339271</td>\n",
       "      <td>17.98775</td>\n",
       "      <td>12.072388</td>\n",
       "      <td>0.542551</td>\n",
       "      <td>0.808396</td>\n",
       "      <td>100.0</td>\n",
       "    </tr>\n",
       "    <tr>\n",
       "      <th>2</th>\n",
       "      <td>13.339271</td>\n",
       "      <td>17.98775</td>\n",
       "      <td>12.072388</td>\n",
       "      <td>0.542551</td>\n",
       "      <td>0.808396</td>\n",
       "      <td>100.0</td>\n",
       "    </tr>\n",
       "    <tr>\n",
       "      <th>3</th>\n",
       "      <td>13.339271</td>\n",
       "      <td>17.98775</td>\n",
       "      <td>12.072388</td>\n",
       "      <td>0.542551</td>\n",
       "      <td>0.808396</td>\n",
       "      <td>100.0</td>\n",
       "    </tr>\n",
       "    <tr>\n",
       "      <th>4</th>\n",
       "      <td>13.339271</td>\n",
       "      <td>17.98775</td>\n",
       "      <td>12.072388</td>\n",
       "      <td>0.542551</td>\n",
       "      <td>0.808396</td>\n",
       "      <td>100.0</td>\n",
       "    </tr>\n",
       "    <tr>\n",
       "      <th>...</th>\n",
       "      <td>...</td>\n",
       "      <td>...</td>\n",
       "      <td>...</td>\n",
       "      <td>...</td>\n",
       "      <td>...</td>\n",
       "      <td>...</td>\n",
       "    </tr>\n",
       "    <tr>\n",
       "      <th>49995</th>\n",
       "      <td>13.339271</td>\n",
       "      <td>17.98775</td>\n",
       "      <td>12.072388</td>\n",
       "      <td>0.542551</td>\n",
       "      <td>0.808396</td>\n",
       "      <td>100.0</td>\n",
       "    </tr>\n",
       "    <tr>\n",
       "      <th>49996</th>\n",
       "      <td>13.339271</td>\n",
       "      <td>17.98775</td>\n",
       "      <td>12.072388</td>\n",
       "      <td>0.542551</td>\n",
       "      <td>0.808396</td>\n",
       "      <td>100.0</td>\n",
       "    </tr>\n",
       "    <tr>\n",
       "      <th>49997</th>\n",
       "      <td>13.339271</td>\n",
       "      <td>17.98775</td>\n",
       "      <td>12.072388</td>\n",
       "      <td>0.542551</td>\n",
       "      <td>0.808396</td>\n",
       "      <td>100.0</td>\n",
       "    </tr>\n",
       "    <tr>\n",
       "      <th>49998</th>\n",
       "      <td>13.339271</td>\n",
       "      <td>17.98775</td>\n",
       "      <td>12.072388</td>\n",
       "      <td>0.542551</td>\n",
       "      <td>0.808396</td>\n",
       "      <td>100.0</td>\n",
       "    </tr>\n",
       "    <tr>\n",
       "      <th>49999</th>\n",
       "      <td>13.339271</td>\n",
       "      <td>17.98775</td>\n",
       "      <td>12.072388</td>\n",
       "      <td>0.542551</td>\n",
       "      <td>0.808396</td>\n",
       "      <td>100.0</td>\n",
       "    </tr>\n",
       "  </tbody>\n",
       "</table>\n",
       "<p>50000 rows × 6 columns</p>\n",
       "</div>"
      ],
      "text/plain": [
       "         Returns  Standard Deviation  Semi-Deviation  Sharpe Ratio  \\\n",
       "0      13.339271            17.98775       12.072388      0.542551   \n",
       "1      13.339271            17.98775       12.072388      0.542551   \n",
       "2      13.339271            17.98775       12.072388      0.542551   \n",
       "3      13.339271            17.98775       12.072388      0.542551   \n",
       "4      13.339271            17.98775       12.072388      0.542551   \n",
       "...          ...                 ...             ...           ...   \n",
       "49995  13.339271            17.98775       12.072388      0.542551   \n",
       "49996  13.339271            17.98775       12.072388      0.542551   \n",
       "49997  13.339271            17.98775       12.072388      0.542551   \n",
       "49998  13.339271            17.98775       12.072388      0.542551   \n",
       "49999  13.339271            17.98775       12.072388      0.542551   \n",
       "\n",
       "       Sortino Ratio  Adj Close Weight  \n",
       "0           0.808396             100.0  \n",
       "1           0.808396             100.0  \n",
       "2           0.808396             100.0  \n",
       "3           0.808396             100.0  \n",
       "4           0.808396             100.0  \n",
       "...              ...               ...  \n",
       "49995       0.808396             100.0  \n",
       "49996       0.808396             100.0  \n",
       "49997       0.808396             100.0  \n",
       "49998       0.808396             100.0  \n",
       "49999       0.808396             100.0  \n",
       "\n",
       "[50000 rows x 6 columns]"
      ]
     },
     "execution_count": 64,
     "metadata": {},
     "output_type": "execute_result"
    }
   ],
   "source": [
    "max_sortino=pc['Sortino Ratio'].max()                                            #Best optimised portfolio wrt sortino ratio\n",
    "max_sortino_portfolio=pc.loc[pc['Sortino Ratio'] == max_sortino]\n",
    "max_sortino_portfolio"
   ]
  },
  {
   "cell_type": "code",
   "execution_count": 21,
   "metadata": {
    "id": "z98t-uDoHI6_"
   },
   "outputs": [],
   "source": [
    "#code for visualization is to be written"
   ]
  },
  {
   "cell_type": "code",
   "execution_count": 65,
   "metadata": {},
   "outputs": [],
   "source": [
    "pc_sharpe=pc.drop(columns=['Sortino Ratio','Semi-Deviation'])"
   ]
  },
  {
   "cell_type": "code",
   "execution_count": 66,
   "metadata": {},
   "outputs": [],
   "source": [
    "pc_sharpe_top10=pc_sharpe.sort_values(by=['Sharpe Ratio'],ascending=False).head(10)"
   ]
  },
  {
   "cell_type": "code",
   "execution_count": 67,
   "metadata": {},
   "outputs": [],
   "source": [
    "pc_sharpe_top10.to_csv('Sharpe_Top10_MV.csv')"
   ]
  },
  {
   "cell_type": "code",
   "execution_count": 68,
   "metadata": {},
   "outputs": [],
   "source": [
    "pc_sharpe_bottom10=pc_sharpe.sort_values(by=['Sharpe Ratio'],ascending=False).tail(10)"
   ]
  },
  {
   "cell_type": "code",
   "execution_count": 69,
   "metadata": {},
   "outputs": [],
   "source": [
    "pc_sharpe_bottom10.to_csv('Sharpe_Bottom10_MV.csv')"
   ]
  },
  {
   "cell_type": "code",
   "execution_count": 70,
   "metadata": {},
   "outputs": [
    {
     "data": {
      "text/html": [
       "<div>\n",
       "<style scoped>\n",
       "    .dataframe tbody tr th:only-of-type {\n",
       "        vertical-align: middle;\n",
       "    }\n",
       "\n",
       "    .dataframe tbody tr th {\n",
       "        vertical-align: top;\n",
       "    }\n",
       "\n",
       "    .dataframe thead th {\n",
       "        text-align: right;\n",
       "    }\n",
       "</style>\n",
       "<table border=\"1\" class=\"dataframe\">\n",
       "  <thead>\n",
       "    <tr style=\"text-align: right;\">\n",
       "      <th></th>\n",
       "      <th>Returns</th>\n",
       "      <th>Standard Deviation</th>\n",
       "      <th>Sharpe Ratio</th>\n",
       "      <th>Adj Close Weight</th>\n",
       "    </tr>\n",
       "  </thead>\n",
       "  <tbody>\n",
       "    <tr>\n",
       "      <th>16663</th>\n",
       "      <td>13.339271</td>\n",
       "      <td>17.98775</td>\n",
       "      <td>0.542551</td>\n",
       "      <td>100.0</td>\n",
       "    </tr>\n",
       "    <tr>\n",
       "      <th>16664</th>\n",
       "      <td>13.339271</td>\n",
       "      <td>17.98775</td>\n",
       "      <td>0.542551</td>\n",
       "      <td>100.0</td>\n",
       "    </tr>\n",
       "    <tr>\n",
       "      <th>16665</th>\n",
       "      <td>13.339271</td>\n",
       "      <td>17.98775</td>\n",
       "      <td>0.542551</td>\n",
       "      <td>100.0</td>\n",
       "    </tr>\n",
       "    <tr>\n",
       "      <th>16666</th>\n",
       "      <td>13.339271</td>\n",
       "      <td>17.98775</td>\n",
       "      <td>0.542551</td>\n",
       "      <td>100.0</td>\n",
       "    </tr>\n",
       "    <tr>\n",
       "      <th>16667</th>\n",
       "      <td>13.339271</td>\n",
       "      <td>17.98775</td>\n",
       "      <td>0.542551</td>\n",
       "      <td>100.0</td>\n",
       "    </tr>\n",
       "    <tr>\n",
       "      <th>16668</th>\n",
       "      <td>13.339271</td>\n",
       "      <td>17.98775</td>\n",
       "      <td>0.542551</td>\n",
       "      <td>100.0</td>\n",
       "    </tr>\n",
       "    <tr>\n",
       "      <th>16669</th>\n",
       "      <td>13.339271</td>\n",
       "      <td>17.98775</td>\n",
       "      <td>0.542551</td>\n",
       "      <td>100.0</td>\n",
       "    </tr>\n",
       "    <tr>\n",
       "      <th>16670</th>\n",
       "      <td>13.339271</td>\n",
       "      <td>17.98775</td>\n",
       "      <td>0.542551</td>\n",
       "      <td>100.0</td>\n",
       "    </tr>\n",
       "    <tr>\n",
       "      <th>16671</th>\n",
       "      <td>13.339271</td>\n",
       "      <td>17.98775</td>\n",
       "      <td>0.542551</td>\n",
       "      <td>100.0</td>\n",
       "    </tr>\n",
       "    <tr>\n",
       "      <th>49999</th>\n",
       "      <td>13.339271</td>\n",
       "      <td>17.98775</td>\n",
       "      <td>0.542551</td>\n",
       "      <td>100.0</td>\n",
       "    </tr>\n",
       "  </tbody>\n",
       "</table>\n",
       "</div>"
      ],
      "text/plain": [
       "         Returns  Standard Deviation  Sharpe Ratio  Adj Close Weight\n",
       "16663  13.339271            17.98775      0.542551             100.0\n",
       "16664  13.339271            17.98775      0.542551             100.0\n",
       "16665  13.339271            17.98775      0.542551             100.0\n",
       "16666  13.339271            17.98775      0.542551             100.0\n",
       "16667  13.339271            17.98775      0.542551             100.0\n",
       "16668  13.339271            17.98775      0.542551             100.0\n",
       "16669  13.339271            17.98775      0.542551             100.0\n",
       "16670  13.339271            17.98775      0.542551             100.0\n",
       "16671  13.339271            17.98775      0.542551             100.0\n",
       "49999  13.339271            17.98775      0.542551             100.0"
      ]
     },
     "execution_count": 70,
     "metadata": {},
     "output_type": "execute_result"
    }
   ],
   "source": [
    "pc_sharpe_bottom10\n"
   ]
  },
  {
   "cell_type": "code",
   "execution_count": 71,
   "metadata": {},
   "outputs": [
    {
     "data": {
      "text/html": [
       "<div>\n",
       "<style scoped>\n",
       "    .dataframe tbody tr th:only-of-type {\n",
       "        vertical-align: middle;\n",
       "    }\n",
       "\n",
       "    .dataframe tbody tr th {\n",
       "        vertical-align: top;\n",
       "    }\n",
       "\n",
       "    .dataframe thead th {\n",
       "        text-align: right;\n",
       "    }\n",
       "</style>\n",
       "<table border=\"1\" class=\"dataframe\">\n",
       "  <thead>\n",
       "    <tr style=\"text-align: right;\">\n",
       "      <th></th>\n",
       "      <th>Returns</th>\n",
       "      <th>Standard Deviation</th>\n",
       "      <th>Sharpe Ratio</th>\n",
       "      <th>Adj Close Weight</th>\n",
       "    </tr>\n",
       "  </thead>\n",
       "  <tbody>\n",
       "    <tr>\n",
       "      <th>0</th>\n",
       "      <td>13.339271</td>\n",
       "      <td>17.98775</td>\n",
       "      <td>0.542551</td>\n",
       "      <td>100.0</td>\n",
       "    </tr>\n",
       "    <tr>\n",
       "      <th>33350</th>\n",
       "      <td>13.339271</td>\n",
       "      <td>17.98775</td>\n",
       "      <td>0.542551</td>\n",
       "      <td>100.0</td>\n",
       "    </tr>\n",
       "    <tr>\n",
       "      <th>33328</th>\n",
       "      <td>13.339271</td>\n",
       "      <td>17.98775</td>\n",
       "      <td>0.542551</td>\n",
       "      <td>100.0</td>\n",
       "    </tr>\n",
       "    <tr>\n",
       "      <th>33329</th>\n",
       "      <td>13.339271</td>\n",
       "      <td>17.98775</td>\n",
       "      <td>0.542551</td>\n",
       "      <td>100.0</td>\n",
       "    </tr>\n",
       "    <tr>\n",
       "      <th>33330</th>\n",
       "      <td>13.339271</td>\n",
       "      <td>17.98775</td>\n",
       "      <td>0.542551</td>\n",
       "      <td>100.0</td>\n",
       "    </tr>\n",
       "    <tr>\n",
       "      <th>33331</th>\n",
       "      <td>13.339271</td>\n",
       "      <td>17.98775</td>\n",
       "      <td>0.542551</td>\n",
       "      <td>100.0</td>\n",
       "    </tr>\n",
       "    <tr>\n",
       "      <th>33332</th>\n",
       "      <td>13.339271</td>\n",
       "      <td>17.98775</td>\n",
       "      <td>0.542551</td>\n",
       "      <td>100.0</td>\n",
       "    </tr>\n",
       "    <tr>\n",
       "      <th>33333</th>\n",
       "      <td>13.339271</td>\n",
       "      <td>17.98775</td>\n",
       "      <td>0.542551</td>\n",
       "      <td>100.0</td>\n",
       "    </tr>\n",
       "    <tr>\n",
       "      <th>33334</th>\n",
       "      <td>13.339271</td>\n",
       "      <td>17.98775</td>\n",
       "      <td>0.542551</td>\n",
       "      <td>100.0</td>\n",
       "    </tr>\n",
       "    <tr>\n",
       "      <th>33335</th>\n",
       "      <td>13.339271</td>\n",
       "      <td>17.98775</td>\n",
       "      <td>0.542551</td>\n",
       "      <td>100.0</td>\n",
       "    </tr>\n",
       "  </tbody>\n",
       "</table>\n",
       "</div>"
      ],
      "text/plain": [
       "         Returns  Standard Deviation  Sharpe Ratio  Adj Close Weight\n",
       "0      13.339271            17.98775      0.542551             100.0\n",
       "33350  13.339271            17.98775      0.542551             100.0\n",
       "33328  13.339271            17.98775      0.542551             100.0\n",
       "33329  13.339271            17.98775      0.542551             100.0\n",
       "33330  13.339271            17.98775      0.542551             100.0\n",
       "33331  13.339271            17.98775      0.542551             100.0\n",
       "33332  13.339271            17.98775      0.542551             100.0\n",
       "33333  13.339271            17.98775      0.542551             100.0\n",
       "33334  13.339271            17.98775      0.542551             100.0\n",
       "33335  13.339271            17.98775      0.542551             100.0"
      ]
     },
     "execution_count": 71,
     "metadata": {},
     "output_type": "execute_result"
    }
   ],
   "source": [
    "pc_sharpe_top10"
   ]
  },
  {
   "cell_type": "code",
   "execution_count": 72,
   "metadata": {},
   "outputs": [],
   "source": [
    "sharpe_optimal_portfolio=pc_sharpe_top10.head(1)"
   ]
  },
  {
   "cell_type": "code",
   "execution_count": 73,
   "metadata": {},
   "outputs": [],
   "source": [
    "sharpe_optimal_portfolio.to_csv('Sharpe_Optimal_MV.csv')"
   ]
  },
  {
   "cell_type": "code",
   "execution_count": 74,
   "metadata": {},
   "outputs": [
    {
     "data": {
      "text/html": [
       "<div>\n",
       "<style scoped>\n",
       "    .dataframe tbody tr th:only-of-type {\n",
       "        vertical-align: middle;\n",
       "    }\n",
       "\n",
       "    .dataframe tbody tr th {\n",
       "        vertical-align: top;\n",
       "    }\n",
       "\n",
       "    .dataframe thead th {\n",
       "        text-align: right;\n",
       "    }\n",
       "</style>\n",
       "<table border=\"1\" class=\"dataframe\">\n",
       "  <thead>\n",
       "    <tr style=\"text-align: right;\">\n",
       "      <th></th>\n",
       "      <th>0</th>\n",
       "    </tr>\n",
       "  </thead>\n",
       "  <tbody>\n",
       "    <tr>\n",
       "      <th>Returns</th>\n",
       "      <td>13.339271</td>\n",
       "    </tr>\n",
       "    <tr>\n",
       "      <th>Standard Deviation</th>\n",
       "      <td>17.987750</td>\n",
       "    </tr>\n",
       "    <tr>\n",
       "      <th>Sharpe Ratio</th>\n",
       "      <td>0.542551</td>\n",
       "    </tr>\n",
       "    <tr>\n",
       "      <th>Adj Close Weight</th>\n",
       "      <td>100.000000</td>\n",
       "    </tr>\n",
       "  </tbody>\n",
       "</table>\n",
       "</div>"
      ],
      "text/plain": [
       "                             0\n",
       "Returns              13.339271\n",
       "Standard Deviation   17.987750\n",
       "Sharpe Ratio          0.542551\n",
       "Adj Close Weight    100.000000"
      ]
     },
     "execution_count": 74,
     "metadata": {},
     "output_type": "execute_result"
    }
   ],
   "source": [
    "sharpe_optimal_portfolio.T"
   ]
  },
  {
   "cell_type": "code",
   "execution_count": 75,
   "metadata": {},
   "outputs": [],
   "source": [
    "pc_sortino=pc.drop(columns=['Sharpe Ratio','Standard Deviation'])"
   ]
  },
  {
   "cell_type": "code",
   "execution_count": 76,
   "metadata": {},
   "outputs": [],
   "source": [
    "pc_sortino_top10=pc_sortino.sort_values(by=['Sortino Ratio'],ascending=False).head(10)"
   ]
  },
  {
   "cell_type": "code",
   "execution_count": 77,
   "metadata": {},
   "outputs": [],
   "source": [
    "pc_sortino_top10.to_csv('Sortino_Top10_MV.csv')"
   ]
  },
  {
   "cell_type": "code",
   "execution_count": 78,
   "metadata": {},
   "outputs": [
    {
     "data": {
      "text/html": [
       "<div>\n",
       "<style scoped>\n",
       "    .dataframe tbody tr th:only-of-type {\n",
       "        vertical-align: middle;\n",
       "    }\n",
       "\n",
       "    .dataframe tbody tr th {\n",
       "        vertical-align: top;\n",
       "    }\n",
       "\n",
       "    .dataframe thead th {\n",
       "        text-align: right;\n",
       "    }\n",
       "</style>\n",
       "<table border=\"1\" class=\"dataframe\">\n",
       "  <thead>\n",
       "    <tr style=\"text-align: right;\">\n",
       "      <th></th>\n",
       "      <th>Returns</th>\n",
       "      <th>Semi-Deviation</th>\n",
       "      <th>Sortino Ratio</th>\n",
       "      <th>Adj Close Weight</th>\n",
       "    </tr>\n",
       "  </thead>\n",
       "  <tbody>\n",
       "    <tr>\n",
       "      <th>0</th>\n",
       "      <td>13.339271</td>\n",
       "      <td>12.072388</td>\n",
       "      <td>0.808396</td>\n",
       "      <td>100.0</td>\n",
       "    </tr>\n",
       "    <tr>\n",
       "      <th>33350</th>\n",
       "      <td>13.339271</td>\n",
       "      <td>12.072388</td>\n",
       "      <td>0.808396</td>\n",
       "      <td>100.0</td>\n",
       "    </tr>\n",
       "    <tr>\n",
       "      <th>33328</th>\n",
       "      <td>13.339271</td>\n",
       "      <td>12.072388</td>\n",
       "      <td>0.808396</td>\n",
       "      <td>100.0</td>\n",
       "    </tr>\n",
       "    <tr>\n",
       "      <th>33329</th>\n",
       "      <td>13.339271</td>\n",
       "      <td>12.072388</td>\n",
       "      <td>0.808396</td>\n",
       "      <td>100.0</td>\n",
       "    </tr>\n",
       "    <tr>\n",
       "      <th>33330</th>\n",
       "      <td>13.339271</td>\n",
       "      <td>12.072388</td>\n",
       "      <td>0.808396</td>\n",
       "      <td>100.0</td>\n",
       "    </tr>\n",
       "    <tr>\n",
       "      <th>33331</th>\n",
       "      <td>13.339271</td>\n",
       "      <td>12.072388</td>\n",
       "      <td>0.808396</td>\n",
       "      <td>100.0</td>\n",
       "    </tr>\n",
       "    <tr>\n",
       "      <th>33332</th>\n",
       "      <td>13.339271</td>\n",
       "      <td>12.072388</td>\n",
       "      <td>0.808396</td>\n",
       "      <td>100.0</td>\n",
       "    </tr>\n",
       "    <tr>\n",
       "      <th>33333</th>\n",
       "      <td>13.339271</td>\n",
       "      <td>12.072388</td>\n",
       "      <td>0.808396</td>\n",
       "      <td>100.0</td>\n",
       "    </tr>\n",
       "    <tr>\n",
       "      <th>33334</th>\n",
       "      <td>13.339271</td>\n",
       "      <td>12.072388</td>\n",
       "      <td>0.808396</td>\n",
       "      <td>100.0</td>\n",
       "    </tr>\n",
       "    <tr>\n",
       "      <th>33335</th>\n",
       "      <td>13.339271</td>\n",
       "      <td>12.072388</td>\n",
       "      <td>0.808396</td>\n",
       "      <td>100.0</td>\n",
       "    </tr>\n",
       "  </tbody>\n",
       "</table>\n",
       "</div>"
      ],
      "text/plain": [
       "         Returns  Semi-Deviation  Sortino Ratio  Adj Close Weight\n",
       "0      13.339271       12.072388       0.808396             100.0\n",
       "33350  13.339271       12.072388       0.808396             100.0\n",
       "33328  13.339271       12.072388       0.808396             100.0\n",
       "33329  13.339271       12.072388       0.808396             100.0\n",
       "33330  13.339271       12.072388       0.808396             100.0\n",
       "33331  13.339271       12.072388       0.808396             100.0\n",
       "33332  13.339271       12.072388       0.808396             100.0\n",
       "33333  13.339271       12.072388       0.808396             100.0\n",
       "33334  13.339271       12.072388       0.808396             100.0\n",
       "33335  13.339271       12.072388       0.808396             100.0"
      ]
     },
     "execution_count": 78,
     "metadata": {},
     "output_type": "execute_result"
    }
   ],
   "source": [
    "pc_sortino_top10"
   ]
  },
  {
   "cell_type": "code",
   "execution_count": 79,
   "metadata": {},
   "outputs": [],
   "source": [
    "pc_sortino_bottom10=pc_sortino.sort_values(by=['Sortino Ratio'],ascending=False).tail(10)"
   ]
  },
  {
   "cell_type": "code",
   "execution_count": 80,
   "metadata": {},
   "outputs": [],
   "source": [
    "pc_sortino_bottom10.to_csv('Sortino_Bottom10_MV.csv')"
   ]
  },
  {
   "cell_type": "code",
   "execution_count": 81,
   "metadata": {},
   "outputs": [
    {
     "data": {
      "text/html": [
       "<div>\n",
       "<style scoped>\n",
       "    .dataframe tbody tr th:only-of-type {\n",
       "        vertical-align: middle;\n",
       "    }\n",
       "\n",
       "    .dataframe tbody tr th {\n",
       "        vertical-align: top;\n",
       "    }\n",
       "\n",
       "    .dataframe thead th {\n",
       "        text-align: right;\n",
       "    }\n",
       "</style>\n",
       "<table border=\"1\" class=\"dataframe\">\n",
       "  <thead>\n",
       "    <tr style=\"text-align: right;\">\n",
       "      <th></th>\n",
       "      <th>Returns</th>\n",
       "      <th>Semi-Deviation</th>\n",
       "      <th>Sortino Ratio</th>\n",
       "      <th>Adj Close Weight</th>\n",
       "    </tr>\n",
       "  </thead>\n",
       "  <tbody>\n",
       "    <tr>\n",
       "      <th>16663</th>\n",
       "      <td>13.339271</td>\n",
       "      <td>12.072388</td>\n",
       "      <td>0.808396</td>\n",
       "      <td>100.0</td>\n",
       "    </tr>\n",
       "    <tr>\n",
       "      <th>16664</th>\n",
       "      <td>13.339271</td>\n",
       "      <td>12.072388</td>\n",
       "      <td>0.808396</td>\n",
       "      <td>100.0</td>\n",
       "    </tr>\n",
       "    <tr>\n",
       "      <th>16665</th>\n",
       "      <td>13.339271</td>\n",
       "      <td>12.072388</td>\n",
       "      <td>0.808396</td>\n",
       "      <td>100.0</td>\n",
       "    </tr>\n",
       "    <tr>\n",
       "      <th>16666</th>\n",
       "      <td>13.339271</td>\n",
       "      <td>12.072388</td>\n",
       "      <td>0.808396</td>\n",
       "      <td>100.0</td>\n",
       "    </tr>\n",
       "    <tr>\n",
       "      <th>16667</th>\n",
       "      <td>13.339271</td>\n",
       "      <td>12.072388</td>\n",
       "      <td>0.808396</td>\n",
       "      <td>100.0</td>\n",
       "    </tr>\n",
       "    <tr>\n",
       "      <th>16668</th>\n",
       "      <td>13.339271</td>\n",
       "      <td>12.072388</td>\n",
       "      <td>0.808396</td>\n",
       "      <td>100.0</td>\n",
       "    </tr>\n",
       "    <tr>\n",
       "      <th>16669</th>\n",
       "      <td>13.339271</td>\n",
       "      <td>12.072388</td>\n",
       "      <td>0.808396</td>\n",
       "      <td>100.0</td>\n",
       "    </tr>\n",
       "    <tr>\n",
       "      <th>16670</th>\n",
       "      <td>13.339271</td>\n",
       "      <td>12.072388</td>\n",
       "      <td>0.808396</td>\n",
       "      <td>100.0</td>\n",
       "    </tr>\n",
       "    <tr>\n",
       "      <th>16671</th>\n",
       "      <td>13.339271</td>\n",
       "      <td>12.072388</td>\n",
       "      <td>0.808396</td>\n",
       "      <td>100.0</td>\n",
       "    </tr>\n",
       "    <tr>\n",
       "      <th>49999</th>\n",
       "      <td>13.339271</td>\n",
       "      <td>12.072388</td>\n",
       "      <td>0.808396</td>\n",
       "      <td>100.0</td>\n",
       "    </tr>\n",
       "  </tbody>\n",
       "</table>\n",
       "</div>"
      ],
      "text/plain": [
       "         Returns  Semi-Deviation  Sortino Ratio  Adj Close Weight\n",
       "16663  13.339271       12.072388       0.808396             100.0\n",
       "16664  13.339271       12.072388       0.808396             100.0\n",
       "16665  13.339271       12.072388       0.808396             100.0\n",
       "16666  13.339271       12.072388       0.808396             100.0\n",
       "16667  13.339271       12.072388       0.808396             100.0\n",
       "16668  13.339271       12.072388       0.808396             100.0\n",
       "16669  13.339271       12.072388       0.808396             100.0\n",
       "16670  13.339271       12.072388       0.808396             100.0\n",
       "16671  13.339271       12.072388       0.808396             100.0\n",
       "49999  13.339271       12.072388       0.808396             100.0"
      ]
     },
     "execution_count": 81,
     "metadata": {},
     "output_type": "execute_result"
    }
   ],
   "source": [
    "pc_sortino_bottom10"
   ]
  },
  {
   "cell_type": "code",
   "execution_count": 82,
   "metadata": {},
   "outputs": [],
   "source": [
    "sortino_optimal_portfolio=pc_sortino_top10.head(1)"
   ]
  },
  {
   "cell_type": "code",
   "execution_count": 83,
   "metadata": {},
   "outputs": [],
   "source": [
    "sortino_optimal_portfolio.to_csv('Sortino_Optimal_MV.csv')"
   ]
  },
  {
   "cell_type": "code",
   "execution_count": 84,
   "metadata": {},
   "outputs": [
    {
     "data": {
      "text/html": [
       "<div>\n",
       "<style scoped>\n",
       "    .dataframe tbody tr th:only-of-type {\n",
       "        vertical-align: middle;\n",
       "    }\n",
       "\n",
       "    .dataframe tbody tr th {\n",
       "        vertical-align: top;\n",
       "    }\n",
       "\n",
       "    .dataframe thead th {\n",
       "        text-align: right;\n",
       "    }\n",
       "</style>\n",
       "<table border=\"1\" class=\"dataframe\">\n",
       "  <thead>\n",
       "    <tr style=\"text-align: right;\">\n",
       "      <th></th>\n",
       "      <th>0</th>\n",
       "    </tr>\n",
       "  </thead>\n",
       "  <tbody>\n",
       "    <tr>\n",
       "      <th>Returns</th>\n",
       "      <td>13.339271</td>\n",
       "    </tr>\n",
       "    <tr>\n",
       "      <th>Semi-Deviation</th>\n",
       "      <td>12.072388</td>\n",
       "    </tr>\n",
       "    <tr>\n",
       "      <th>Sortino Ratio</th>\n",
       "      <td>0.808396</td>\n",
       "    </tr>\n",
       "    <tr>\n",
       "      <th>Adj Close Weight</th>\n",
       "      <td>100.000000</td>\n",
       "    </tr>\n",
       "  </tbody>\n",
       "</table>\n",
       "</div>"
      ],
      "text/plain": [
       "                           0\n",
       "Returns            13.339271\n",
       "Semi-Deviation     12.072388\n",
       "Sortino Ratio       0.808396\n",
       "Adj Close Weight  100.000000"
      ]
     },
     "execution_count": 84,
     "metadata": {},
     "output_type": "execute_result"
    }
   ],
   "source": [
    "sortino_optimal_portfolio.T"
   ]
  },
  {
   "cell_type": "markdown",
   "metadata": {},
   "source": [
    "## graphs\n"
   ]
  },
  {
   "cell_type": "code",
   "execution_count": 85,
   "metadata": {},
   "outputs": [
    {
     "data": {
      "text/plain": [
       "<matplotlib.axes._subplots.AxesSubplot at 0x1b57572a1c8>"
      ]
     },
     "execution_count": 85,
     "metadata": {},
     "output_type": "execute_result"
    },
    {
     "data": {
      "image/png": "[encoded data removed]",
      "text/plain": [
       "<Figure size 432x288 with 1 Axes>"
      ]
     },
     "metadata": {
      "needs_background": "light"
     },
     "output_type": "display_data"
    }
   ],
   "source": [
    "sns.scatterplot(x=pc_sharpe['Standard Deviation'],y=pc_sharpe['Returns'],hue=pc_sharpe['Sharpe Ratio'])"
   ]
  },
  {
   "cell_type": "code",
   "execution_count": 86,
   "metadata": {},
   "outputs": [
    {
     "data": {
      "text/plain": [
       "<matplotlib.axes._subplots.AxesSubplot at 0x1b579093488>"
      ]
     },
     "execution_count": 86,
     "metadata": {},
     "output_type": "execute_result"
    },
    {
     "data": {
      "image/png": "[encoded data removed]",
      "text/plain": [
       "<Figure size 720x720 with 1 Axes>"
      ]
     },
     "metadata": {
      "needs_background": "light"
     },
     "output_type": "display_data"
    }
   ],
   "source": [
    "pc_sharpe.plot.scatter(x='Standard Deviation',y='Returns', marker='o', s=10, alpha=0.3, grid=True, figsize=[10,10])\n"
   ]
  },
  {
   "cell_type": "code",
   "execution_count": 87,
   "metadata": {},
   "outputs": [
    {
     "data": {
      "text/plain": [
       "<matplotlib.collections.PathCollection at 0x1b575b23288>"
      ]
     },
     "execution_count": 87,
     "metadata": {},
     "output_type": "execute_result"
    },
    {
     "data": {
      "image/png": "[encoded data removed]",
      "text/plain": [
       "<Figure size 720x720 with 1 Axes>"
      ]
     },
     "metadata": {
      "needs_background": "light"
     },
     "output_type": "display_data"
    }
   ],
   "source": [
    "plt.subplots(figsize=[10,10])\n",
    "plt.scatter(x=pc_sharpe['Standard Deviation'],y=pc_sharpe['Returns'],marker='o', s=10, alpha=0.3)\n",
    "plt.scatter(x=sharpe_optimal_portfolio['Standard Deviation'],y=sharpe_optimal_portfolio['Returns'], color='r', marker='*', s=500)\n"
   ]
  },
  {
   "cell_type": "code",
   "execution_count": 88,
   "metadata": {},
   "outputs": [
    {
     "data": {
      "image/png": "[encoded data removed]",
      "text/plain": [
       "<Figure size 1440x720 with 2 Axes>"
      ]
     },
     "metadata": {
      "needs_background": "light"
     },
     "output_type": "display_data"
    }
   ],
   "source": [
    "plt.figure(figsize=(20,10))\n",
    "plt.scatter(pc_sharpe['Standard Deviation'],pc_sharpe['Returns'], c=pc_sharpe['Sharpe Ratio'], cmap='viridis')\n",
    "plt.colorbar(label='Sharpe Ratio')\n",
    "plt.xlabel('Volatility')\n",
    "plt.ylabel('Return')\n",
    "plt.show()"
   ]
  },
  {
   "cell_type": "code",
   "execution_count": 89,
   "metadata": {},
   "outputs": [
    {
     "data": {
      "text/plain": [
       "<matplotlib.axes._subplots.AxesSubplot at 0x1b575bb5308>"
      ]
     },
     "execution_count": 89,
     "metadata": {},
     "output_type": "execute_result"
    },
    {
     "data": {
      "image/png": "[encoded data removed]",
      "text/plain": [
       "<Figure size 432x288 with 1 Axes>"
      ]
     },
     "metadata": {
      "needs_background": "light"
     },
     "output_type": "display_data"
    }
   ],
   "source": [
    "sns.distplot(pc_sharpe)"
   ]
  },
  {
   "cell_type": "code",
   "execution_count": null,
   "metadata": {},
   "outputs": [],
   "source": []
  }
 ],
 "metadata": {
  "colab": {
   "collapsed_sections": [],
   "name": "MV_model.ipynb",
   "provenance": []
  },
  "kernelspec": {
   "display_name": "Python 3",
   "language": "python",
   "name": "python3"
  },
  "language_info": {
   "codemirror_mode": {
    "name": "ipython",
    "version": 3
   },
   "file_extension": ".py",
   "mimetype": "text/x-python",
   "name": "python",
   "nbconvert_exporter": "python",
   "pygments_lexer": "ipython3",
   "version": "3.7.6"
  }
 },
 "nbformat": 4,
 "nbformat_minor": 4
}
