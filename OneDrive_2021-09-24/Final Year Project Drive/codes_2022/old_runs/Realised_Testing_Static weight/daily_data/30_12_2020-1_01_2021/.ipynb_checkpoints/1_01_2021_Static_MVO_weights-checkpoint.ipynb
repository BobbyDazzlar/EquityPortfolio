{
 "cells": [
  {
   "cell_type": "code",
   "execution_count": null,
   "metadata": {
    "id": "uYLDqq786kLC"
   },
   "outputs": [],
   "source": [
    "!pip install optuna\n",
    "#!pip install joblib"
   ]
  },
  {
   "cell_type": "code",
   "execution_count": 25,
   "metadata": {
    "id": "9Nro5RzJ6hMl"
   },
   "outputs": [],
   "source": [
    "import optuna\n",
    "import joblib\n",
    "import pandas as pd\n",
    "import numpy as np\n",
    "import random\n",
    "import math"
   ]
  },
  {
   "cell_type": "code",
   "execution_count": 26,
   "metadata": {
    "id": "Cy-Di43uOPkW"
   },
   "outputs": [],
   "source": [
    "def BALANCE(weights):\n",
    "  #Making sure the total sum of the weights eual to 1\n",
    "  weights = [w/sum(weights) for w in weights] \n",
    "  # Making sure all weights represent proportions that add up to 1\n",
    "  return weights"
   ]
  },
  {
   "cell_type": "code",
   "execution_count": 27,
   "metadata": {
    "id": "TvMpzcufOPiU"
   },
   "outputs": [],
   "source": [
    "def ratio(a,b,c):                       \n",
    "  #function to calculate ratio i.e. \"(returns-(risk_free_rate))/deviation\"\n",
    "  #calculating sharpe ratio\n",
    "  return (a-c)/b"
   ]
  },
  {
   "cell_type": "code",
   "execution_count": 28,
   "metadata": {
    "id": "8Z4xIIVEOPf5"
   },
   "outputs": [],
   "source": [
    "def number_of_years(y):#calculates the number of years of the dataset\n",
    "  p=y.index[0]         #date of first row in the dataset (datetime format)\n",
    "  q=y.index[len(y)-1]  #date of last row in the dataset  (datetime format)\n",
    "  return ((q-p).days+1)/365"
   ]
  },
  {
   "cell_type": "code",
   "execution_count": 29,
   "metadata": {
    "id": "BGMVmkDBOPdu"
   },
   "outputs": [
    {
     "data": {
      "text/plain": [
       "(1233, 1)"
      ]
     },
     "execution_count": 29,
     "metadata": {},
     "output_type": "execute_result"
    }
   ],
   "source": [
    "df=pd.read_csv(\"Nifty50.csv\",parse_dates=['Date'],index_col='Date')  #Importing Dataset\n",
    "df = df.loc[\"2016-01-01\" :\"2020-12-31\" ]   #Since 2016-01-01, 5y(1234rows till 2020-12-31)\n",
    "tdf=df.copy()                  #deep copy\n",
    "df.reset_index(drop=True, inplace=True)\n",
    "col=list(df.columns)\n",
    "tdf.shape"
   ]
  },
  {
   "cell_type": "code",
   "execution_count": 30,
   "metadata": {
    "id": "dIqD9wxzOPbc"
   },
   "outputs": [],
   "source": [
    "trading_days=len(df)/number_of_years(tdf) "
   ]
  },
  {
   "cell_type": "code",
   "execution_count": 31,
   "metadata": {
    "id": "TLHm2sI4OPZF"
   },
   "outputs": [],
   "source": [
    "returnsh=df.pct_change()                  \n",
    "#Here, returnsh would mean return considered for sharpe ratio\n",
    "returnsh.fillna(0,inplace=True)"
   ]
  },
  {
   "cell_type": "code",
   "execution_count": 32,
   "metadata": {
    "id": "P02rmZVsYMbN"
   },
   "outputs": [],
   "source": [
    "returnso = returnsh.copy()  # this cell considers only NEGATIVE returns so as to calculate sortino ratio\n",
    "for cols in returnso.columns.tolist():\n",
    "  for i in range(0, len(df)):\n",
    "    if returnso[cols][i] > 0:\n",
    "      returnso[cols][i] = 0\n"
   ]
  },
  {
   "cell_type": "code",
   "execution_count": 33,
   "metadata": {
    "id": "K7eZR3WXOPWk"
   },
   "outputs": [],
   "source": [
    "covmatsh=returnsh.cov()*trading_days     \n",
    "#Annualised covariance matrix calculated wrt returnsh i.e. used to calculate sharpe ratio\n",
    "covmatso = returnso.cov() * trading_days"
   ]
  },
  {
   "cell_type": "code",
   "execution_count": 34,
   "metadata": {
    "id": "6pUgs_cIOPUM"
   },
   "outputs": [],
   "source": [
    "risk_free_rate = 0.0358 #initializing risk free rate that will be used in calculating both the ratios (absolute value)\n",
    "#referred from url: https://www.rbi.org.in/Scripts/BS_NSDPDisplay.aspx?param=4&Id=24292\n",
    "#In the above url, the 364 (1 year) day treasury bill is 3.58% , when taken absolute value => 0.0358\n",
    "# (improved)"
   ]
  },
  {
   "cell_type": "code",
   "execution_count": 35,
   "metadata": {
    "colab": {
     "base_uri": "https://localhost:8080/"
    },
    "id": "psIfrFk-OPP1",
    "outputId": "405c0e32-4894-45d4-a8c3-5270dbff594f"
   },
   "outputs": [
    {
     "data": {
      "text/plain": [
       "1"
      ]
     },
     "execution_count": 35,
     "metadata": {},
     "output_type": "execute_result"
    }
   ],
   "source": [
    "df\n",
    "stocks=df.shape[1]\n",
    "stocks"
   ]
  },
  {
   "cell_type": "markdown",
   "metadata": {
    "id": "9m65O3q0mlwr"
   },
   "source": [
    "# Sharpe\n"
   ]
  },
  {
   "cell_type": "code",
   "execution_count": 36,
   "metadata": {
    "id": "x2KmTXbjsZEL"
   },
   "outputs": [],
   "source": [
    "global_warr_sortino=[]\n",
    "global_war_sharpe=[]\n",
    "sharpe_portfolio_return=[]\n",
    "sharpe_portfolio_risk=[]\n",
    "sharpe_portfolio_shratio=[]\n",
    "sharpe_portfolio_stockWeights=[]"
   ]
  },
  {
   "cell_type": "code",
   "execution_count": 37,
   "metadata": {
    "id": "iH7x-tm0Ufc_"
   },
   "outputs": [],
   "source": [
    "\n",
    "fitness=0\n",
    "#for each iteration\n",
    "\n",
    "weights=np.array([1])\n",
    "\n",
    "#calculating annulaised portfolio return\n",
    "returns_temp = np.sum(returnsh.mean()*weights)*trading_days \n",
    "\n",
    "#calculating portfolio varience wrt calculating sharpe ratio\n",
    "varsh=np.dot(weights.T,np.dot(covmatsh,weights))   \n",
    "\n",
    "#portfolio risk\n",
    "volatility_temp = np.sqrt(varsh)      \n",
    "\n",
    "#Calculating fitness value(ie sharpe ratio)\n",
    "fitness = ratio(returns_temp,volatility_temp,risk_free_rate)\n",
    "\n",
    "#Initializing the intial fitness value as the best fitness value(sharpe_pbest)\n",
    "\n",
    "\n",
    "sharpe_portfolio_return.append(returns_temp)\n",
    "sharpe_portfolio_risk.append(volatility_temp)\n",
    "sharpe_portfolio_shratio.append(fitness)\n",
    "sharpe_portfolio_stockWeights.append(weights)\n",
    "\n"
   ]
  },
  {
   "cell_type": "code",
   "execution_count": 38,
   "metadata": {
    "colab": {
     "base_uri": "https://localhost:8080/",
     "height": 824
    },
    "id": "qVbCiA47RTcU",
    "outputId": "5426e5b2-a0d5-4100-eb5f-c7566568ba1f"
   },
   "outputs": [
    {
     "data": {
      "text/html": [
       "<div>\n",
       "<style scoped>\n",
       "    .dataframe tbody tr th:only-of-type {\n",
       "        vertical-align: middle;\n",
       "    }\n",
       "\n",
       "    .dataframe tbody tr th {\n",
       "        vertical-align: top;\n",
       "    }\n",
       "\n",
       "    .dataframe thead th {\n",
       "        text-align: right;\n",
       "    }\n",
       "</style>\n",
       "<table border=\"1\" class=\"dataframe\">\n",
       "  <thead>\n",
       "    <tr style=\"text-align: right;\">\n",
       "      <th></th>\n",
       "      <th>Returns</th>\n",
       "      <th>Standard Deviation</th>\n",
       "      <th>Sharpe Ratio</th>\n",
       "      <th>Adj Close Weight</th>\n",
       "    </tr>\n",
       "  </thead>\n",
       "  <tbody>\n",
       "    <tr>\n",
       "      <th>0</th>\n",
       "      <td>0.133393</td>\n",
       "      <td>0.179878</td>\n",
       "      <td>0.542551</td>\n",
       "      <td>1</td>\n",
       "    </tr>\n",
       "  </tbody>\n",
       "</table>\n",
       "</div>"
      ],
      "text/plain": [
       "    Returns  Standard Deviation  Sharpe Ratio  Adj Close Weight\n",
       "0  0.133393            0.179878      0.542551                 1"
      ]
     },
     "execution_count": 38,
     "metadata": {},
     "output_type": "execute_result"
    }
   ],
   "source": [
    "sharpe_portfolio = {'Returns' : sharpe_portfolio_return, 'Standard Deviation' : sharpe_portfolio_risk,  'Sharpe Ratio' : sharpe_portfolio_shratio}  \n",
    "\n",
    "for counter,symbol in enumerate(df.columns):\n",
    "  sharpe_portfolio[symbol + \" Weight\"] = [Weight[counter] for Weight in sharpe_portfolio_stockWeights]\n",
    "sharpe_pc = pd.DataFrame(sharpe_portfolio)\n",
    "sharpe_optimal=sharpe_pc.iloc[sharpe_pc['Sharpe Ratio'].idxmax()]\n",
    "sharpe_optimal=pd.DataFrame(sharpe_optimal)\n",
    "sharpe_optimal.to_csv(\"sharpe_optimal.csv\")\n",
    "\n",
    "sharpe_pc"
   ]
  },
  {
   "cell_type": "code",
   "execution_count": 39,
   "metadata": {
    "colab": {
     "base_uri": "https://localhost:8080/"
    },
    "id": "HceeCMhV_JRN",
    "outputId": "da546498-9318-43e4-f30e-f80930bdf990"
   },
   "outputs": [
    {
     "data": {
      "text/plain": [
       "(1, 4)"
      ]
     },
     "execution_count": 39,
     "metadata": {},
     "output_type": "execute_result"
    }
   ],
   "source": [
    "sharpe_pc.shape"
   ]
  },
  {
   "cell_type": "markdown",
   "metadata": {
    "id": "m0ugVp-dw1EI"
   },
   "source": [
    "# Sortino"
   ]
  },
  {
   "cell_type": "code",
   "execution_count": 40,
   "metadata": {
    "id": "y8g56Q94SbpQ"
   },
   "outputs": [],
   "source": [
    "global_warr_sortino=[]\n",
    "sortino_portfolio_return=[]\n",
    "sortino_portfolio_risk=[]\n",
    "sortino_portfolio_soratio=[]\n",
    "sortino_portfolio_stockWeights=[]"
   ]
  },
  {
   "cell_type": "code",
   "execution_count": 41,
   "metadata": {
    "id": "sPd1McTGspPx"
   },
   "outputs": [],
   "source": [
    "\n",
    "fitness=0\n",
    "#for each iteration\n",
    "\n",
    "\n",
    "#Making sure that the total amount of pheromone equals 1 \n",
    "weights=np.array([1])\n",
    "\n",
    "#calculating annulaised portfolio return\n",
    "returns_temp = np.sum(returnsh.mean()*weights)*trading_days \n",
    "\n",
    "#calculating portfolio varience wrt calculating sharpe ratio\n",
    "varso=np.dot(weights.T,np.dot(covmatso,weights))   \n",
    "\n",
    "#portfolio risk\n",
    "volatility_temp = np.sqrt(varso)      \n",
    "\n",
    "#Calculating fitness value(ie sortino ratio)\n",
    "fitness = ratio(returns_temp,volatility_temp,risk_free_rate)\n",
    "\n",
    "#Initializing the intial fitness value as the best fitness value(sortino_pbest)\n",
    "\n",
    "sortino_portfolio_return.append(returns_temp)\n",
    "sortino_portfolio_risk.append(volatility_temp)\n",
    "sortino_portfolio_soratio.append(fitness)\n",
    "sortino_portfolio_stockWeights.append(weights)\n"
   ]
  },
  {
   "cell_type": "code",
   "execution_count": 42,
   "metadata": {
    "colab": {
     "base_uri": "https://localhost:8080/"
    },
    "id": "fBLzqoDdw3Nn",
    "outputId": "f35d02b0-9651-4f91-9fb6-db0f3bd48c3d"
   },
   "outputs": [
    {
     "data": {
      "text/html": [
       "<div>\n",
       "<style scoped>\n",
       "    .dataframe tbody tr th:only-of-type {\n",
       "        vertical-align: middle;\n",
       "    }\n",
       "\n",
       "    .dataframe tbody tr th {\n",
       "        vertical-align: top;\n",
       "    }\n",
       "\n",
       "    .dataframe thead th {\n",
       "        text-align: right;\n",
       "    }\n",
       "</style>\n",
       "<table border=\"1\" class=\"dataframe\">\n",
       "  <thead>\n",
       "    <tr style=\"text-align: right;\">\n",
       "      <th></th>\n",
       "      <th>Returns</th>\n",
       "      <th>Standard Deviation</th>\n",
       "      <th>Sortino Ratio</th>\n",
       "      <th>Adj Close Weight</th>\n",
       "    </tr>\n",
       "  </thead>\n",
       "  <tbody>\n",
       "    <tr>\n",
       "      <th>0</th>\n",
       "      <td>0.133393</td>\n",
       "      <td>0.120724</td>\n",
       "      <td>0.808396</td>\n",
       "      <td>1</td>\n",
       "    </tr>\n",
       "  </tbody>\n",
       "</table>\n",
       "</div>"
      ],
      "text/plain": [
       "    Returns  Standard Deviation  Sortino Ratio  Adj Close Weight\n",
       "0  0.133393            0.120724       0.808396                 1"
      ]
     },
     "execution_count": 42,
     "metadata": {},
     "output_type": "execute_result"
    }
   ],
   "source": [
    "sortino_portfolio = {'Returns' : sortino_portfolio_return, 'Standard Deviation' : sortino_portfolio_risk,  'Sortino Ratio' : sortino_portfolio_soratio}  \n",
    "\n",
    "for counter,symbol in enumerate(df.columns):\n",
    "  sortino_portfolio[symbol + \" Weight\"] = [Weight[counter] for Weight in sortino_portfolio_stockWeights]\n",
    "sortino_pc = pd.DataFrame(sortino_portfolio)\n",
    "sortino_optimal=sortino_pc.iloc[sortino_pc['Sortino Ratio'].idxmax()]\n",
    "sortino_optimal=pd.DataFrame(sortino_optimal)\n",
    "sortino_optimal.to_csv(\"sortino_optimal.csv\")\n",
    "sortino_pc\n"
   ]
  },
  {
   "cell_type": "code",
   "execution_count": 43,
   "metadata": {
    "id": "oSxav7O4U5qE"
   },
   "outputs": [],
   "source": [
    "\n",
    "#tables in word doc also(final table)\n"
   ]
  },
  {
   "cell_type": "code",
   "execution_count": null,
   "metadata": {
    "id": "P6bO4iFv6imK"
   },
   "outputs": [],
   "source": []
  },
  {
   "cell_type": "code",
   "execution_count": null,
   "metadata": {
    "id": "cm_OLqv2tSWx"
   },
   "outputs": [],
   "source": []
  },
  {
   "cell_type": "code",
   "execution_count": null,
   "metadata": {},
   "outputs": [],
   "source": []
  },
  {
   "cell_type": "code",
   "execution_count": null,
   "metadata": {},
   "outputs": [],
   "source": []
  },
  {
   "cell_type": "code",
   "execution_count": null,
   "metadata": {},
   "outputs": [],
   "source": []
  },
  {
   "cell_type": "code",
   "execution_count": null,
   "metadata": {},
   "outputs": [],
   "source": []
  },
  {
   "cell_type": "code",
   "execution_count": null,
   "metadata": {},
   "outputs": [],
   "source": []
  },
  {
   "cell_type": "code",
   "execution_count": null,
   "metadata": {},
   "outputs": [],
   "source": []
  },
  {
   "cell_type": "code",
   "execution_count": null,
   "metadata": {},
   "outputs": [],
   "source": []
  },
  {
   "cell_type": "code",
   "execution_count": null,
   "metadata": {},
   "outputs": [],
   "source": []
  },
  {
   "cell_type": "code",
   "execution_count": null,
   "metadata": {},
   "outputs": [],
   "source": []
  },
  {
   "cell_type": "code",
   "execution_count": null,
   "metadata": {},
   "outputs": [],
   "source": []
  },
  {
   "cell_type": "code",
   "execution_count": null,
   "metadata": {},
   "outputs": [],
   "source": []
  },
  {
   "cell_type": "code",
   "execution_count": null,
   "metadata": {},
   "outputs": [],
   "source": []
  },
  {
   "cell_type": "code",
   "execution_count": null,
   "metadata": {},
   "outputs": [],
   "source": []
  },
  {
   "cell_type": "code",
   "execution_count": null,
   "metadata": {},
   "outputs": [],
   "source": []
  },
  {
   "cell_type": "code",
   "execution_count": null,
   "metadata": {},
   "outputs": [],
   "source": []
  },
  {
   "cell_type": "code",
   "execution_count": null,
   "metadata": {},
   "outputs": [],
   "source": []
  },
  {
   "cell_type": "code",
   "execution_count": null,
   "metadata": {},
   "outputs": [],
   "source": []
  }
 ],
 "metadata": {
  "colab": {
   "collapsed_sections": [],
   "name": "2Nov2021_ACO_Final.ipynb",
   "provenance": []
  },
  "kernelspec": {
   "display_name": "Python 3",
   "language": "python",
   "name": "python3"
  },
  "language_info": {
   "codemirror_mode": {
    "name": "ipython",
    "version": 3
   },
   "file_extension": ".py",
   "mimetype": "text/x-python",
   "name": "python",
   "nbconvert_exporter": "python",
   "pygments_lexer": "ipython3",
   "version": "3.7.6"
  }
 },
 "nbformat": 4,
 "nbformat_minor": 4
}
