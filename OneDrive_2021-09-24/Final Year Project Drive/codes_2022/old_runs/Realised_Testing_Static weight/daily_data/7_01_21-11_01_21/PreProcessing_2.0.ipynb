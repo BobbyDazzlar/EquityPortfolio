{
 "cells": [
  {
   "cell_type": "code",
   "execution_count": 1,
   "metadata": {},
   "outputs": [],
   "source": [
    "import pandas as pd\n",
    "import numpy as np\n",
    "from datetime import date,timedelta"
   ]
  },
  {
   "cell_type": "code",
   "execution_count": 2,
   "metadata": {},
   "outputs": [],
   "source": [
    "from yahoofinance import HistoricalPrices as get_history\n",
    "#ensure yahoofinance package is installed  \"pip install yahoofinance\"\n",
    "import yfinance as yf"
   ]
  },
  {
   "cell_type": "markdown",
   "metadata": {},
   "source": [
    "# Change the dates here carefully "
   ]
  },
  {
   "cell_type": "code",
   "execution_count": 3,
   "metadata": {},
   "outputs": [],
   "source": [
    "start_date = date(2021,1,7)\n",
    "#date in Year, Month, Day\n",
    "end_date = date(2021,1,12)"
   ]
  },
  {
   "cell_type": "code",
   "execution_count": 4,
   "metadata": {},
   "outputs": [],
   "source": [
    "#nifty_50_stocks_list=pd.read_csv('ind_nifty50list2022.csv')\n",
    "#use the csv file from nifty website\n",
    "nifty_50_stocks = [\"ASIANPAINT\",\"BAJFINANCE\",\"BAJAJFINSV\",\"BRITANNIA\",'DIVISLAB','GRASIM','HCLTECH','HDFCBANK',\n",
    "                   'HINDALCO','HINDUNILVR','ICICIBANK','INFY','JSWSTEEL','LT','NESTLEIND','POWERGRID','RELIANCE','TCS','TATACONSUM','TATASTEEL',\n",
    "                   'TECHM','TITAN','ULTRACEMCO','WIPRO'] \n",
    "#Choose the stock symbols"
   ]
  },
  {
   "cell_type": "markdown",
   "metadata": {},
   "source": [
    "## Data collection\n",
    "### "
   ]
  },
  {
   "cell_type": "code",
   "execution_count": 5,
   "metadata": {
    "scrolled": true
   },
   "outputs": [
    {
     "name": "stdout",
     "output_type": "stream",
     "text": [
      "1: stock_name:\t ASIANPAINT\n",
      "[*********************100%***********************]  1 of 1 completed\n",
      "2: stock_name:\t BAJFINANCE\n",
      "[*********************100%***********************]  1 of 1 completed\n",
      "3: stock_name:\t BAJAJFINSV\n",
      "[*********************100%***********************]  1 of 1 completed\n",
      "4: stock_name:\t BRITANNIA\n",
      "[*********************100%***********************]  1 of 1 completed\n",
      "5: stock_name:\t DIVISLAB\n",
      "[*********************100%***********************]  1 of 1 completed\n",
      "6: stock_name:\t GRASIM\n",
      "[*********************100%***********************]  1 of 1 completed\n",
      "7: stock_name:\t HCLTECH\n",
      "[*********************100%***********************]  1 of 1 completed\n",
      "8: stock_name:\t HDFCBANK\n",
      "[*********************100%***********************]  1 of 1 completed\n",
      "9: stock_name:\t HINDALCO\n",
      "[*********************100%***********************]  1 of 1 completed\n",
      "10: stock_name:\t HINDUNILVR\n",
      "[*********************100%***********************]  1 of 1 completed\n",
      "11: stock_name:\t ICICIBANK\n",
      "[*********************100%***********************]  1 of 1 completed\n",
      "12: stock_name:\t INFY\n",
      "[*********************100%***********************]  1 of 1 completed\n",
      "13: stock_name:\t JSWSTEEL\n",
      "[*********************100%***********************]  1 of 1 completed\n",
      "14: stock_name:\t LT\n",
      "[*********************100%***********************]  1 of 1 completed\n",
      "15: stock_name:\t NESTLEIND\n",
      "[*********************100%***********************]  1 of 1 completed\n",
      "16: stock_name:\t POWERGRID\n",
      "[*********************100%***********************]  1 of 1 completed\n",
      "17: stock_name:\t RELIANCE\n",
      "[*********************100%***********************]  1 of 1 completed\n",
      "18: stock_name:\t TCS\n",
      "[*********************100%***********************]  1 of 1 completed\n",
      "19: stock_name:\t TATACONSUM\n",
      "[*********************100%***********************]  1 of 1 completed\n",
      "20: stock_name:\t TATASTEEL\n",
      "[*********************100%***********************]  1 of 1 completed\n",
      "21: stock_name:\t TECHM\n",
      "[*********************100%***********************]  1 of 1 completed\n",
      "22: stock_name:\t TITAN\n",
      "[*********************100%***********************]  1 of 1 completed\n",
      "23: stock_name:\t ULTRACEMCO\n",
      "[*********************100%***********************]  1 of 1 completed\n",
      "24: stock_name:\t WIPRO\n",
      "[*********************100%***********************]  1 of 1 completed\n"
     ]
    }
   ],
   "source": [
    "k=0 \n",
    "for i in nifty_50_stocks :\n",
    "    print(str(k+1)+\": stock_name:\\t\", i)\n",
    "    k+=1\n",
    "    x = yf.download( i+'.NS',start=start_date,end=end_date) #yahoofinance function to get the stock data\n",
    "    \n",
    "    x.to_csv('{}.csv'.format(i))"
   ]
  },
  {
   "cell_type": "code",
   "execution_count": 6,
   "metadata": {},
   "outputs": [
    {
     "data": {
      "text/html": [
       "<div>\n",
       "<style scoped>\n",
       "    .dataframe tbody tr th:only-of-type {\n",
       "        vertical-align: middle;\n",
       "    }\n",
       "\n",
       "    .dataframe tbody tr th {\n",
       "        vertical-align: top;\n",
       "    }\n",
       "\n",
       "    .dataframe thead th {\n",
       "        text-align: right;\n",
       "    }\n",
       "</style>\n",
       "<table border=\"1\" class=\"dataframe\">\n",
       "  <thead>\n",
       "    <tr style=\"text-align: right;\">\n",
       "      <th></th>\n",
       "    </tr>\n",
       "  </thead>\n",
       "  <tbody>\n",
       "  </tbody>\n",
       "</table>\n",
       "</div>"
      ],
      "text/plain": [
       "Empty DataFrame\n",
       "Columns: []\n",
       "Index: []"
      ]
     },
     "execution_count": 6,
     "metadata": {},
     "output_type": "execute_result"
    }
   ],
   "source": [
    "nifty50=pd.DataFrame()\n",
    "nifty50"
   ]
  },
  {
   "cell_type": "code",
   "execution_count": 7,
   "metadata": {},
   "outputs": [],
   "source": [
    "for i in nifty_50_stocks:\n",
    "    x = pd.read_csv('{}.csv'.format(i), usecols=[\"Adj Close\",\"Date\"],index_col=\"Date\")\n",
    "    nifty50 = pd.concat([nifty50,x],axis = 1)\n",
    "                                                       #getting each stock data one by one and concatanating it into the 'allData' frame"
   ]
  },
  {
   "cell_type": "code",
   "execution_count": 8,
   "metadata": {},
   "outputs": [],
   "source": [
    "nifty50.columns=nifty_50_stocks "
   ]
  },
  {
   "cell_type": "code",
   "execution_count": 9,
   "metadata": {},
   "outputs": [
    {
     "data": {
      "text/html": [
       "<div>\n",
       "<style scoped>\n",
       "    .dataframe tbody tr th:only-of-type {\n",
       "        vertical-align: middle;\n",
       "    }\n",
       "\n",
       "    .dataframe tbody tr th {\n",
       "        vertical-align: top;\n",
       "    }\n",
       "\n",
       "    .dataframe thead th {\n",
       "        text-align: right;\n",
       "    }\n",
       "</style>\n",
       "<table border=\"1\" class=\"dataframe\">\n",
       "  <thead>\n",
       "    <tr style=\"text-align: right;\">\n",
       "      <th></th>\n",
       "      <th>ASIANPAINT</th>\n",
       "      <th>BAJFINANCE</th>\n",
       "      <th>BAJAJFINSV</th>\n",
       "      <th>BRITANNIA</th>\n",
       "      <th>DIVISLAB</th>\n",
       "      <th>GRASIM</th>\n",
       "      <th>HCLTECH</th>\n",
       "      <th>HDFCBANK</th>\n",
       "      <th>HINDALCO</th>\n",
       "      <th>HINDUNILVR</th>\n",
       "      <th>...</th>\n",
       "      <th>NESTLEIND</th>\n",
       "      <th>POWERGRID</th>\n",
       "      <th>RELIANCE</th>\n",
       "      <th>TCS</th>\n",
       "      <th>TATACONSUM</th>\n",
       "      <th>TATASTEEL</th>\n",
       "      <th>TECHM</th>\n",
       "      <th>TITAN</th>\n",
       "      <th>ULTRACEMCO</th>\n",
       "      <th>WIPRO</th>\n",
       "    </tr>\n",
       "    <tr>\n",
       "      <th>Date</th>\n",
       "      <th></th>\n",
       "      <th></th>\n",
       "      <th></th>\n",
       "      <th></th>\n",
       "      <th></th>\n",
       "      <th></th>\n",
       "      <th></th>\n",
       "      <th></th>\n",
       "      <th></th>\n",
       "      <th></th>\n",
       "      <th></th>\n",
       "      <th></th>\n",
       "      <th></th>\n",
       "      <th></th>\n",
       "      <th></th>\n",
       "      <th></th>\n",
       "      <th></th>\n",
       "      <th></th>\n",
       "      <th></th>\n",
       "      <th></th>\n",
       "      <th></th>\n",
       "    </tr>\n",
       "  </thead>\n",
       "  <tbody>\n",
       "    <tr>\n",
       "      <th>2021-01-07</th>\n",
       "      <td>2775.218018</td>\n",
       "      <td>5072.803223</td>\n",
       "      <td>8985.821289</td>\n",
       "      <td>3482.034912</td>\n",
       "      <td>3787.524170</td>\n",
       "      <td>991.203918</td>\n",
       "      <td>927.188599</td>\n",
       "      <td>1410.146851</td>\n",
       "      <td>271.025024</td>\n",
       "      <td>2337.468506</td>\n",
       "      <td>...</td>\n",
       "      <td>17923.144531</td>\n",
       "      <td>136.718140</td>\n",
       "      <td>1905.021729</td>\n",
       "      <td>2994.726562</td>\n",
       "      <td>597.387695</td>\n",
       "      <td>706.978943</td>\n",
       "      <td>959.192078</td>\n",
       "      <td>1538.658813</td>\n",
       "      <td>5371.736816</td>\n",
       "      <td>405.177917</td>\n",
       "    </tr>\n",
       "    <tr>\n",
       "      <th>2021-01-08</th>\n",
       "      <td>2827.348145</td>\n",
       "      <td>5073.801270</td>\n",
       "      <td>9169.375977</td>\n",
       "      <td>3504.037598</td>\n",
       "      <td>3843.395020</td>\n",
       "      <td>1001.626099</td>\n",
       "      <td>958.109375</td>\n",
       "      <td>1425.480591</td>\n",
       "      <td>266.357330</td>\n",
       "      <td>2359.522217</td>\n",
       "      <td>...</td>\n",
       "      <td>18100.078125</td>\n",
       "      <td>141.227982</td>\n",
       "      <td>1927.499268</td>\n",
       "      <td>3081.720459</td>\n",
       "      <td>606.037598</td>\n",
       "      <td>697.540222</td>\n",
       "      <td>1013.527771</td>\n",
       "      <td>1544.893921</td>\n",
       "      <td>5564.595703</td>\n",
       "      <td>428.537292</td>\n",
       "    </tr>\n",
       "    <tr>\n",
       "      <th>2021-01-11</th>\n",
       "      <td>2831.920166</td>\n",
       "      <td>4976.208984</td>\n",
       "      <td>8983.920898</td>\n",
       "      <td>3540.888916</td>\n",
       "      <td>3806.794922</td>\n",
       "      <td>1001.626099</td>\n",
       "      <td>1016.338562</td>\n",
       "      <td>1445.195190</td>\n",
       "      <td>262.881378</td>\n",
       "      <td>2396.920410</td>\n",
       "      <td>...</td>\n",
       "      <td>18184.318359</td>\n",
       "      <td>141.227982</td>\n",
       "      <td>1891.166260</td>\n",
       "      <td>3136.572998</td>\n",
       "      <td>625.375549</td>\n",
       "      <td>680.423279</td>\n",
       "      <td>1039.080444</td>\n",
       "      <td>1560.157349</td>\n",
       "      <td>5596.390625</td>\n",
       "      <td>445.073120</td>\n",
       "    </tr>\n",
       "  </tbody>\n",
       "</table>\n",
       "<p>3 rows × 24 columns</p>\n",
       "</div>"
      ],
      "text/plain": [
       "             ASIANPAINT   BAJFINANCE   BAJAJFINSV    BRITANNIA     DIVISLAB  \\\n",
       "Date                                                                          \n",
       "2021-01-07  2775.218018  5072.803223  8985.821289  3482.034912  3787.524170   \n",
       "2021-01-08  2827.348145  5073.801270  9169.375977  3504.037598  3843.395020   \n",
       "2021-01-11  2831.920166  4976.208984  8983.920898  3540.888916  3806.794922   \n",
       "\n",
       "                 GRASIM      HCLTECH     HDFCBANK    HINDALCO   HINDUNILVR  \\\n",
       "Date                                                                         \n",
       "2021-01-07   991.203918   927.188599  1410.146851  271.025024  2337.468506   \n",
       "2021-01-08  1001.626099   958.109375  1425.480591  266.357330  2359.522217   \n",
       "2021-01-11  1001.626099  1016.338562  1445.195190  262.881378  2396.920410   \n",
       "\n",
       "            ...     NESTLEIND   POWERGRID     RELIANCE          TCS  \\\n",
       "Date        ...                                                       \n",
       "2021-01-07  ...  17923.144531  136.718140  1905.021729  2994.726562   \n",
       "2021-01-08  ...  18100.078125  141.227982  1927.499268  3081.720459   \n",
       "2021-01-11  ...  18184.318359  141.227982  1891.166260  3136.572998   \n",
       "\n",
       "            TATACONSUM   TATASTEEL        TECHM        TITAN   ULTRACEMCO  \\\n",
       "Date                                                                        \n",
       "2021-01-07  597.387695  706.978943   959.192078  1538.658813  5371.736816   \n",
       "2021-01-08  606.037598  697.540222  1013.527771  1544.893921  5564.595703   \n",
       "2021-01-11  625.375549  680.423279  1039.080444  1560.157349  5596.390625   \n",
       "\n",
       "                 WIPRO  \n",
       "Date                    \n",
       "2021-01-07  405.177917  \n",
       "2021-01-08  428.537292  \n",
       "2021-01-11  445.073120  \n",
       "\n",
       "[3 rows x 24 columns]"
      ]
     },
     "execution_count": 9,
     "metadata": {},
     "output_type": "execute_result"
    }
   ],
   "source": [
    "nifty50"
   ]
  },
  {
   "cell_type": "code",
   "execution_count": 10,
   "metadata": {},
   "outputs": [],
   "source": [
    "nifty50.to_csv(str(end_date - timedelta(days=1))+'.csv')  #saving the data without preprocessing"
   ]
  },
  {
   "cell_type": "code",
   "execution_count": null,
   "metadata": {},
   "outputs": [],
   "source": []
  }
 ],
 "metadata": {
  "kernelspec": {
   "display_name": "Python 3",
   "language": "python",
   "name": "python3"
  },
  "language_info": {
   "codemirror_mode": {
    "name": "ipython",
    "version": 3
   },
   "file_extension": ".py",
   "mimetype": "text/x-python",
   "name": "python",
   "nbconvert_exporter": "python",
   "pygments_lexer": "ipython3",
   "version": "3.7.6"
  }
 },
 "nbformat": 4,
 "nbformat_minor": 4
}
