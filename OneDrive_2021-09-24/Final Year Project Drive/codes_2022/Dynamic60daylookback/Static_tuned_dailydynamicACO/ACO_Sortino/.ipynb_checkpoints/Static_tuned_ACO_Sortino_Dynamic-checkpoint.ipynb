{
 "cells": [
  {
   "cell_type": "markdown",
   "metadata": {},
   "source": [
    "## check points\n",
    "1) trading days parity\n",
    "2) hyperparameter search range(original value in in comment)\n",
    "3) file path and names\n"
   ]
  },
  {
   "cell_type": "code",
   "execution_count": null,
   "metadata": {
    "pycharm": {
     "is_executing": true
    }
   },
   "outputs": [],
   "source": [
    "import optuna\n",
    "import pandas as pd\n",
    "import numpy as np\n",
    "import random\n",
    "import math\n"
   ]
  },
  {
   "cell_type": "code",
   "execution_count": 2,
   "metadata": {},
   "outputs": [],
   "source": [
    "def BALANCE(weights):\n",
    "    # Making sure the total sum of the weights eual to 1\n",
    "    weights = [w / sum(weights) for w in weights]\n",
    "    # Making sure all weights represent proportions that add up to 1\n",
    "    return weights\n",
    "\n",
    "\n",
    "def ratio(a, b, c):\n",
    "    # function to calculate ratio i.e. \"(returns-(risk_free_rate))/deviation\"\n",
    "    # calculating sharpe ratio\n",
    "    return (a - c) / b\n",
    "\n",
    "\n",
    "def number_of_years(y):  # calculates the number of years of the dataset\n",
    "    p = y.index[0]  # date of first row in the dataset (datetime format)\n",
    "    q = y.index[len(y) - 1]  # date of last row in the dataset  (datetime format)\n",
    "    return ((q - p).days + 1) / 365"
   ]
  },
  {
   "cell_type": "code",
   "execution_count": 3,
   "metadata": {},
   "outputs": [],
   "source": [
    "#df = pd.read_csv(\"/home/pn_kumar/Karthik/staticlookback30/n50.csv\") \n",
    "df = pd.read_csv(\"n50.csv\")\n",
    "#outter read"
   ]
  },
  {
   "cell_type": "code",
   "execution_count": 4,
   "metadata": {},
   "outputs": [
    {
     "data": {
      "text/plain": [
       "25"
      ]
     },
     "execution_count": 4,
     "metadata": {},
     "output_type": "execute_result"
    }
   ],
   "source": [
    "len(df.columns)"
   ]
  },
  {
   "cell_type": "code",
   "execution_count": 5,
   "metadata": {},
   "outputs": [],
   "source": [
    "aco_sortino=pd.DataFrame(columns=['Date', 'Returns', 'Risk','Ratio'])\n",
    "inputweights=[]"
   ]
  },
  {
   "cell_type": "code",
   "execution_count": 6,
   "metadata": {},
   "outputs": [],
   "source": [
    "# def antcolony_tuning_sharpe(ITERATIONS, Q, EVA_RATE, ANTS,start_date,end_date):\n",
    "#     df = pd.read_csv('n50.csv', parse_dates=['Date'], index_col='Date')\n",
    "#     df=df.loc[start_date:end_date]\n",
    "#     tdf = df.copy()  # deep copy\n",
    "#     df.reset_index(drop=True, inplace=True)\n",
    "#     #trading_days = len(df) / number_of_years(tdf)\n",
    "#     trading_days=60 # check here\n",
    "#     returnsh = df.pct_change()  # Here, returnsh would mean return considered for sharpe ratio\n",
    "#     returnsh.fillna(0, inplace=True)  # calculating daily returns of the stocks in the portfolio\n",
    "# #     returnso = returnsh.copy()  # this cell considers only NEGATIVE returns so as to calculate sortino ratio\n",
    "# #     for cols in returnso.columns.tolist():\n",
    "# #         for i in range(0, len(df)):\n",
    "# #             if returnso[cols][i] > 0:\n",
    "# #                 returnso[cols][i] = 0  \n",
    "#     covmatsh = returnsh.cov() * trading_days  # Annualised covariance matrix calculated wrt returnsh i.e. used to calculate sharpe ratio\n",
    "#     #covmatso = returnso.cov() * trading_days\n",
    "#     stocks = len(df.columns)              #initializing number of stocks/assets considered in the portfolio\n",
    "#     risk_free_rate = 0.0358     \n",
    "#     sharpe_pbest = -1\n",
    "#     # Initializing sharpe_pbest(the best fitness value   SHARPE)\n",
    "#     # Initializing the current fitness value\n",
    "#     fitness = 0\n",
    "#     # for each iteration\n",
    "#     for iteration in range(ITERATIONS):\n",
    "\n",
    "#         # PREPARAING THE PHEROMONE MATRIX WHERE THE COLS=STOCKS AND  ROWS=ANTS\n",
    "#         pheromon = [[0] * stocks for i in\n",
    "#                     range(ANTS + 1)]  # why (ants+1)?The last ant can update the pheromone values in the last row\n",
    "\n",
    "#         # Initializing the pheromone status\n",
    "#         for i in range(len(pheromon[0])):\n",
    "#             pheromon[0][i] = random.randint(1,\n",
    "#                                             15)  # When input stocks varies, this needs to vary accordingly.(Divide number of stocks / 2)\n",
    "\n",
    "#         # copying the values and storing it in temp_pher\n",
    "#         temp_pher = pheromon[0]\n",
    "\n",
    "#         # Making sure that the total amount of pheromone equals 1\n",
    "#         weights = np.array(BALANCE(temp_pher))\n",
    "\n",
    "#         # calculating annulaised portfolio return\n",
    "#         returns_temp = np.sum(returnsh.mean() * weights) * trading_days\n",
    "\n",
    "#         # calculating portfolio varience wrt calculating sharpe ratio\n",
    "#         varsh = np.dot(weights.T, np.dot(covmatsh, weights))\n",
    "\n",
    "#         # portfolio risk\n",
    "#         volatility_temp = np.sqrt(varsh)\n",
    "\n",
    "#         # Calculating fitness value(ie sharpe ratio)\n",
    "#         fitness = ratio(returns_temp, volatility_temp, risk_free_rate)\n",
    "\n",
    "#         # Initializing the intial fitness value as the best fitness value(sharpe_pbest)\n",
    "#         if sharpe_pbest == -1:\n",
    "#             sharpe_pbest = fitness\n",
    "\n",
    "#         # list\n",
    "#         path = []\n",
    "\n",
    "#         # for each ant\n",
    "#         for ant in range(ANTS - 1):\n",
    "\n",
    "#             # find the total pheromone\n",
    "#             total = sum(pheromon[ant])\n",
    "\n",
    "#             # Initializing probability\n",
    "#             probability = pheromon[ant][:]\n",
    "\n",
    "#             # finding probability of each stocks pheromone\n",
    "#             for p in range(len(probability)):\n",
    "#                 probability[p] = (probability[p] / total)\n",
    "\n",
    "#             # Trying to select stocks in decreasing order based on their pheromone level and storing the stock order in a list(path)\n",
    "#             for stock in range(stocks):\n",
    "#                 select = probability.index(max(probability))\n",
    "#                 probability[select] = -math.inf\n",
    "#                 path.append(select)\n",
    "\n",
    "#             # Updating the pheromone level of each stock for the next ant\n",
    "#             # Formula: old pheromone level * (1-eva_rate) + Q * (fitness/sharpe_pbest) where Q is fixed amount of pheromone\n",
    "#             for s in path:\n",
    "#                 pheromon[ant + 1][s] = pheromon[ant][s] * (1 - EVA_RATE) + Q * (fitness / sharpe_pbest)\n",
    "\n",
    "#             # making sure that the updated pheromon adds upto 1\n",
    "#             temp_pher = pheromon[ant + 1]\n",
    "#             weights = np.array(BALANCE(temp_pher))\n",
    "#             returns_temp = np.sum(returnsh.mean() * weights) * trading_days  # calculating annulaised portfolio return\n",
    "#             varsh = np.dot(weights.T,\n",
    "#                            np.dot(covmatsh, weights))  # calculating portfolio varience wrt calculating sharpe ratio\n",
    "#             volatility_temp = np.sqrt(varsh)  # portfolio risk\n",
    "#             fitness = ratio(returns_temp, volatility_temp, risk_free_rate)  # calculating sharpe ratio\n",
    "\n",
    "#             # comparing the old fitness value with the updated fitness value\n",
    "#             # explore on scape condition paper ref\n",
    "#             if (fitness > sharpe_pbest):\n",
    "#                 # if the updated fitness value is better than the previous, change sharpe_pbest to present fitness value\n",
    "#                 sharpe_pbest = fitness\n",
    "\n",
    "#                 # remembering the weights of the best portfolio\n",
    "#                 global_warr_sharpe = weights.tolist()\n",
    "#         # sharpe_portfolio_return.append(returns_temp)\n",
    "#         # sharpe_portfolio_risk.append(volatility_temp)\n",
    "#         # sharpe_portfolio_shratio.append(fitness)\n",
    "#         # sharpe_portfolio_stockWeights.append(weights)\n",
    "#     return sharpe_pbest"
   ]
  },
  {
   "cell_type": "code",
   "execution_count": null,
   "metadata": {},
   "outputs": [],
   "source": []
  },
  {
   "cell_type": "code",
   "execution_count": null,
   "metadata": {},
   "outputs": [],
   "source": []
  },
  {
   "cell_type": "code",
   "execution_count": 7,
   "metadata": {},
   "outputs": [],
   "source": [
    "def objective(trial):\n",
    "    ITERATIONS = trial.suggest_int('ITERATIONS', 2, 5)#500\n",
    "    Q = trial.suggest_float('Q', 0.1, 1.0)\n",
    "    EVA_RATE = trial.suggest_float('EVA_RATE', 0.1, 1.00)\n",
    "    ANTS = trial.suggest_int('ANTS', 2, 5)#500\n",
    "    return antcolony_tuning_sharpe(int(ITERATIONS), Q, EVA_RATE, int(ANTS),start_date,end_date)"
   ]
  },
  {
   "cell_type": "code",
   "execution_count": 8,
   "metadata": {},
   "outputs": [],
   "source": [
    "# sharpe_study = optuna.create_study(direction='maximize')\n",
    "# sharpe_study.optimize(objective, n_trials=50)\n",
    "\n",
    "# sh_hptuning = sharpe_study.trials_dataframe()\n",
    "# sh_hptuning.to_csv(\"/home/pn_kumar/Karthik/staticlookback30/ACO_sharpe_hps.csv\")\n",
    "# best = sharpe_study.best_params\n",
    "\n",
    "# ITERATIONS = int(best['ITERATIONS'])\n",
    "# Q = best['Q']\n",
    "# EVA_RATE = best['EVA_RATE']\n",
    "# ANTS = best['ANTS']"
   ]
  },
  {
   "cell_type": "code",
   "execution_count": null,
   "metadata": {},
   "outputs": [],
   "source": []
  },
  {
   "cell_type": "code",
   "execution_count": 9,
   "metadata": {},
   "outputs": [],
   "source": [
    "def antcolony_sortino_weights(ITERATIONS, Q, EVA_RATE, ANTS,start_date,end_date):\n",
    "    df = pd.read_csv('n50.csv', parse_dates=['Date'], index_col='Date')\n",
    "    df=df.loc[start_date:end_date]\n",
    "    tdf = df.copy()  # deep copy\n",
    "    df.reset_index(drop=True, inplace=True)\n",
    "    #trading_days = len(df) / number_of_years(tdf)\n",
    "    trading_days=1 # check here\n",
    "    returnsh = df.pct_change()  # Here, returnsh would mean return considered for sharpe ratio\n",
    "    returnsh.fillna(0, inplace=True)  # calculating daily returns of the stocks in the portfolio\n",
    "    returnso = returnsh.copy()  # this cell considers only NEGATIVE returns so as to calculate sortino ratio\n",
    "    for cols in returnso.columns.tolist():\n",
    "        for i in range(0, len(df)):\n",
    "            if returnso[cols][i] > 0:\n",
    "                returnso[cols][i] = 0  \n",
    "    #covmatsh = returnsh.cov() * trading_days  # Annualised covariance matrix calculated wrt returnsh i.e. used to calculate sharpe ratio\n",
    "    covmatso = returnso.cov() * trading_days\n",
    "    stocks = len(df.columns)              #initializing number of stocks/assets considered in the portfolio\n",
    "    risk_free_rate = 0.0358/364\n",
    "\n",
    "    sortino_portfolio_return = []\n",
    "    sortino_portfolio_risk = []\n",
    "    sortino_portfolio_soratio = []\n",
    "    sortino_portfolio_stockWeights = []\n",
    "    \n",
    "    sortino_pbest = -1\n",
    "    # Initializing sharpe_pbest(the best fitness value   SHARPE)\n",
    "    # Initializing the current fitness value\n",
    "    fitness = 0\n",
    "    # for each iteration\n",
    "    for iteration in range(ITERATIONS):\n",
    "\n",
    "        # PREPARAING THE PHEROMONE MATRIX WHERE THE COLS=STOCKS AND  ROWS=ANTS\n",
    "        pheromon = [[0] * stocks for i in\n",
    "                    range(ANTS + 1)]  # why (ants+1)?The last ant can update the pheromone values in the last row\n",
    "\n",
    "        # Initializing the pheromone status\n",
    "        for i in range(len(pheromon[0])):\n",
    "            pheromon[0][i] = random.randint(1,\n",
    "                                            15)  # When input stocks varies, this needs to vary accordingly.(Divide number of stocks / 2)\n",
    "\n",
    "        # copying the values and storing it in temp_pher\n",
    "        temp_pher = pheromon[0]\n",
    "\n",
    "        # Making sure that the total amount of pheromone equals 1\n",
    "        weights = np.array(BALANCE(temp_pher))\n",
    "\n",
    "        # calculating annulaised portfolio return\n",
    "        returns_temp = np.sum(returnsh.mean() * weights) * trading_days\n",
    "\n",
    "        # calculating portfolio varience wrt calculating sharpe ratio\n",
    "        varso = np.dot(weights.T, np.dot(covmatso, weights))\n",
    "\n",
    "        # portfolio risk\n",
    "        volatility_temp = np.sqrt(varso)\n",
    "\n",
    "        # Calculating fitness value(ie sharpe ratio)\n",
    "        fitness = ratio(returns_temp, volatility_temp, risk_free_rate)\n",
    "\n",
    "        # Initializing the intial fitness value as the best fitness value(sharpe_pbest)\n",
    "        if sortino_pbest == -1:\n",
    "            sortino_pbest = fitness\n",
    "\n",
    "        # list\n",
    "        path = []\n",
    "\n",
    "        # for each ant\n",
    "        for ant in range(ANTS - 1):\n",
    "\n",
    "            # find the total pheromone\n",
    "            total = sum(pheromon[ant])\n",
    "\n",
    "            # Initializing probability\n",
    "            probability = pheromon[ant][:]\n",
    "\n",
    "            # finding probability of each stocks pheromone\n",
    "            for p in range(len(probability)):\n",
    "                probability[p] = (probability[p] / total)\n",
    "\n",
    "            # Trying to select stocks in decreasing order based on their pheromone level and storing the stock order in a list(path)\n",
    "            for stock in range(stocks):\n",
    "                select = probability.index(max(probability))\n",
    "                probability[select] = -math.inf\n",
    "                path.append(select)\n",
    "\n",
    "            # Updating the pheromone level of each stock for the next ant\n",
    "            # Formula: old pheromone level * (1-eva_rate) + Q * (fitness/sharpe_pbest) where Q is fixed amount of pheromone\n",
    "            for s in path:\n",
    "                pheromon[ant + 1][s] = pheromon[ant][s] * (1 - EVA_RATE) + Q * (fitness / sortino_pbest)\n",
    "\n",
    "            # making sure that the updated pheromon adds upto 1\n",
    "            temp_pher = pheromon[ant + 1]\n",
    "            weights = np.array(BALANCE(temp_pher))\n",
    "            returns_temp = np.sum(returnsh.mean() * weights) * trading_days  # calculating annulaised portfolio return\n",
    "            varso = np.dot(weights.T,\n",
    "                           np.dot(covmatso, weights))  # calculating portfolio varience wrt calculating sharpe ratio\n",
    "            volatility_temp = np.sqrt(varso)  # portfolio risk\n",
    "            fitness = ratio(returns_temp, volatility_temp, risk_free_rate)  # calculating sharpe ratio\n",
    "\n",
    "            # comparing the old fitness value with the updated fitness value\n",
    "            # explore on scape condition paper ref\n",
    "            if (fitness > sortino_pbest):\n",
    "                # if the updated fitness value is better than the previous, change sharpe_pbest to present fitness value\n",
    "                sortino_pbest = fitness\n",
    "\n",
    "                # remembering the weights of the best portfolio\n",
    "\n",
    "                global_warr_sortino = weights.tolist()\n",
    "\n",
    "            sortino_portfolio_return.append(returns_temp)\n",
    "            sortino_portfolio_risk.append(volatility_temp)\n",
    "            sortino_portfolio_soratio.append(fitness)\n",
    "            sortino_portfolio_stockWeights.append(weights)\n",
    "        \n",
    "    portfolio = {'Returns' : sortino_portfolio_return, 'Semi Deviation' : sortino_portfolio_risk, 'Sortino Ratio' : sortino_portfolio_soratio}\n",
    "    for counter,symbol in enumerate(df.columns):\n",
    "        portfolio[symbol + \" Weight\"] = [Weight[counter] for Weight in sortino_portfolio_stockWeights]\n",
    "    pc = pd.DataFrame(portfolio)\n",
    "    pc.loc[:, :] *= 100\n",
    "    pc['Sortino Ratio']=pc['Sortino Ratio']/100 \n",
    "    max_sortino=pc['Sortino Ratio'].max()     \n",
    "    max_sortino_portfolio=pc.loc[pc['Sortino Ratio'] == max_sortino]\n",
    "    max_weights=max_sortino_portfolio.values\n",
    "    max_weights=max_weights[0][3:]\n",
    "    return max_weights\n"
   ]
  },
  {
   "cell_type": "code",
   "execution_count": 10,
   "metadata": {},
   "outputs": [],
   "source": [
    "#tuned = antcolony_sharpe_weights(ITERATIONS, Q, EVA_RATE, ANTS,start_date,end_date,aco_sharpe)"
   ]
  },
  {
   "cell_type": "code",
   "execution_count": 11,
   "metadata": {},
   "outputs": [],
   "source": [
    "def ACO_Sortino_lookback(start_date,end_date,deciding_date,aco_sortino,inputweights):\n",
    "    aco_sortino_list=[]\n",
    "    df = pd.read_csv('n50.csv', parse_dates=['Date'], index_col='Date')\n",
    "    df=df.loc[start_date:end_date]\n",
    "    tdf = df.copy()  # deep copy\n",
    "    df.reset_index(drop=True, inplace=True)\n",
    "    #trading_days = len(df) / number_of_years(tdf)\n",
    "    trading_days=1\n",
    "    returnsh = df.pct_change()  # Here, returnsh would mean return considered for sharpe ratio\n",
    "    returnsh.fillna(0, inplace=True)  # calculating daily returns of the stocks in the portfolio\n",
    "    returnso = returnsh.copy()  # this cell considers only NEGATIVE returns so as to calculate sortino ratio\n",
    "    for cols in returnso.columns.tolist():\n",
    "        for i in range(0, len(df)):\n",
    "            if returnso[cols][i] > 0:\n",
    "                returnso[cols][i] = 0  \n",
    "    #covmatsh = returnsh.cov() * trading_days  # Annualised covariance matrix calculated wrt returnsh i.e. used to calculate sharpe ratio\n",
    "    covmatso = returnso.cov() * trading_days  # Annualised covariance matrix calculated wrt returnso i.e. used to calculate sortino ratio\n",
    "    num_assets = len(df.columns)  # initializing number of stocks/assets considered in the portfolio\n",
    "    risk_free_rate = 0.0358/364 #initializing risk free rate that will be used in calculating both the ratios (absolute value)\n",
    "# referred from url: https://www.rbi.org.in/Scripts/BS_NSDPDisplay.aspx?param=4&Id=24292\n",
    "# In the above url, the 364 (1 year) day treasury bill is 3.58% , when taken absolute value => 0.0358\n",
    "# (improved)\n",
    "    global_war_sortino=[]\n",
    "    sortino_portfolio_return=[]\n",
    "    sortino_portfolio_risk=[]\n",
    "    sortino_portfolio_soratio=[]\n",
    "    sortino_portfolio_stockWeights=[]\n",
    "    fitness=0\n",
    "    weights=np.array(BALANCE(np.array(inputweights)))\n",
    "    returns_temp = np.sum(returnsh.mean()*weights)*trading_days \n",
    "    varso=np.dot(weights.T,np.dot(covmatso,weights))   \n",
    "    volatility_temp = np.sqrt(varso)      \n",
    "    fitness = ratio(returns_temp,volatility_temp,risk_free_rate)\n",
    "    sortino_portfolio_return.append(returns_temp)\n",
    "    sortino_portfolio_risk.append(volatility_temp)\n",
    "    sortino_portfolio_soratio.append(fitness)\n",
    "    sortino_portfolio_stockWeights.append(weights)\n",
    "    sortino_portfolio = {'Returns' : sortino_portfolio_return, 'Semi Deviation' : sortino_portfolio_risk,  'Sortino Ratio' : sortino_portfolio_soratio}  \n",
    "    for counter,symbol in enumerate(df.columns):\n",
    "      sortino_portfolio[symbol + \" Weight\"] = [Weight[counter] for Weight in sortino_portfolio_stockWeights]\n",
    "    sortino_pc = pd.DataFrame(sortino_portfolio)\n",
    "    sortino_optimal=sortino_pc.iloc[sortino_pc['Sortino Ratio'].idxmax()]\n",
    "    sortino_optimal=sortino_optimal.to_frame()\n",
    "    sortino_optimal=sortino_optimal.transpose()\n",
    "    sortino_optimal.loc[:, :] *= 100\n",
    "    sortino_optimal.loc[:, 'Sortino Ratio'] /= 100\n",
    "    to_append=[deciding_date,sortino_optimal['Returns'].values[0],sortino_optimal['Semi Deviation'].values[0],sortino_optimal['Sortino Ratio'].values[0]]\n",
    "    aco_sortino_series = pd.Series(to_append, index = aco_sortino.columns)\n",
    "    aco_sortino = aco_sortino.append(aco_sortino_series, ignore_index=True)\n",
    "    sortino_optimal.to_csv(str(deciding_date)+\"sortino_ACO_dynamic.csv\")\n",
    "    print(aco_sortino)\n",
    "    return aco_sortino"
   ]
  },
  {
   "cell_type": "code",
   "execution_count": null,
   "metadata": {},
   "outputs": [],
   "source": []
  },
  {
   "cell_type": "code",
   "execution_count": 12,
   "metadata": {},
   "outputs": [],
   "source": [
    "start_date=\"2016-01-01\""
   ]
  },
  {
   "cell_type": "code",
   "execution_count": 13,
   "metadata": {},
   "outputs": [],
   "source": [
    "start_date_index=df.index[df['Date'] == start_date] "
   ]
  },
  {
   "cell_type": "code",
   "execution_count": 14,
   "metadata": {},
   "outputs": [],
   "source": [
    "end_date=\"2020-09-30\""
   ]
  },
  {
   "cell_type": "code",
   "execution_count": 15,
   "metadata": {},
   "outputs": [],
   "source": [
    "end_date_index=df.index[df['Date']== end_date]"
   ]
  },
  {
   "cell_type": "code",
   "execution_count": 16,
   "metadata": {},
   "outputs": [],
   "source": [
    "start_date_lookback=\"2020-10-01\""
   ]
  },
  {
   "cell_type": "code",
   "execution_count": 17,
   "metadata": {},
   "outputs": [],
   "source": [
    "start_date_lookback_index=df.index[df['Date'] == start_date_lookback] "
   ]
  },
  {
   "cell_type": "code",
   "execution_count": 18,
   "metadata": {},
   "outputs": [],
   "source": [
    "end_date_lookback=\"2020-12-31\""
   ]
  },
  {
   "cell_type": "code",
   "execution_count": 19,
   "metadata": {},
   "outputs": [],
   "source": [
    "end_date_lookback_index=df.index[df['Date']== end_date_lookback]"
   ]
  },
  {
   "cell_type": "code",
   "execution_count": 20,
   "metadata": {},
   "outputs": [
    {
     "ename": "KeyboardInterrupt",
     "evalue": "",
     "output_type": "error",
     "traceback": [
      "\u001b[1;31m---------------------------------------------------------------------------\u001b[0m",
      "\u001b[1;31mKeyboardInterrupt\u001b[0m                         Traceback (most recent call last)",
      "\u001b[1;32m<ipython-input-20-8d55aed6e141>\u001b[0m in \u001b[0;36m<module>\u001b[1;34m\u001b[0m\n\u001b[0;32m      4\u001b[0m     \u001b[0mEVA_RATE\u001b[0m \u001b[1;33m=\u001b[0m \u001b[1;36m0.3248\u001b[0m\u001b[1;31m#best['EVA_RATE']\u001b[0m\u001b[1;33m\u001b[0m\u001b[1;33m\u001b[0m\u001b[0m\n\u001b[0;32m      5\u001b[0m     \u001b[0mANTS\u001b[0m \u001b[1;33m=\u001b[0m \u001b[1;36m408\u001b[0m\u001b[1;31m#best['ANTS']\u001b[0m\u001b[1;33m\u001b[0m\u001b[1;33m\u001b[0m\u001b[0m\n\u001b[1;32m----> 6\u001b[1;33m     \u001b[0minputweights\u001b[0m\u001b[1;33m=\u001b[0m\u001b[0mantcolony_sortino_weights\u001b[0m\u001b[1;33m(\u001b[0m\u001b[0mITERATIONS\u001b[0m\u001b[1;33m,\u001b[0m\u001b[0mQ\u001b[0m\u001b[1;33m,\u001b[0m\u001b[0mEVA_RATE\u001b[0m\u001b[1;33m,\u001b[0m\u001b[0mANTS\u001b[0m\u001b[1;33m,\u001b[0m\u001b[0mdf\u001b[0m\u001b[1;33m.\u001b[0m\u001b[0miloc\u001b[0m\u001b[1;33m[\u001b[0m\u001b[0mstart_date_index\u001b[0m\u001b[1;33m]\u001b[0m\u001b[1;33m.\u001b[0m\u001b[0mDate\u001b[0m\u001b[1;33m.\u001b[0m\u001b[0mvalues\u001b[0m\u001b[1;33m[\u001b[0m\u001b[1;36m0\u001b[0m\u001b[1;33m]\u001b[0m\u001b[1;33m,\u001b[0m\u001b[0mdf\u001b[0m\u001b[1;33m.\u001b[0m\u001b[0miloc\u001b[0m\u001b[1;33m[\u001b[0m\u001b[0mend_date_index\u001b[0m\u001b[1;33m]\u001b[0m\u001b[1;33m.\u001b[0m\u001b[0mDate\u001b[0m\u001b[1;33m.\u001b[0m\u001b[0mvalues\u001b[0m\u001b[1;33m[\u001b[0m\u001b[1;36m0\u001b[0m\u001b[1;33m]\u001b[0m\u001b[1;33m)\u001b[0m\u001b[1;33m\u001b[0m\u001b[1;33m\u001b[0m\u001b[0m\n\u001b[0m\u001b[0;32m      7\u001b[0m     \u001b[0maco_sortino\u001b[0m\u001b[1;33m=\u001b[0m\u001b[0mACO_Sortino_lookback\u001b[0m\u001b[1;33m(\u001b[0m\u001b[0mdf\u001b[0m\u001b[1;33m.\u001b[0m\u001b[0miloc\u001b[0m\u001b[1;33m[\u001b[0m\u001b[0mstart_date_lookback_index\u001b[0m\u001b[1;33m]\u001b[0m\u001b[1;33m.\u001b[0m\u001b[0mDate\u001b[0m\u001b[1;33m.\u001b[0m\u001b[0mvalues\u001b[0m\u001b[1;33m[\u001b[0m\u001b[1;36m0\u001b[0m\u001b[1;33m]\u001b[0m\u001b[1;33m,\u001b[0m\u001b[0mdf\u001b[0m\u001b[1;33m.\u001b[0m\u001b[0miloc\u001b[0m\u001b[1;33m[\u001b[0m\u001b[0mend_date_lookback_index\u001b[0m\u001b[1;33m]\u001b[0m\u001b[1;33m.\u001b[0m\u001b[0mDate\u001b[0m\u001b[1;33m.\u001b[0m\u001b[0mvalues\u001b[0m\u001b[1;33m[\u001b[0m\u001b[1;36m0\u001b[0m\u001b[1;33m]\u001b[0m\u001b[1;33m,\u001b[0m\u001b[0mdf\u001b[0m\u001b[1;33m.\u001b[0m\u001b[0miloc\u001b[0m\u001b[1;33m[\u001b[0m\u001b[0mend_date_lookback_index\u001b[0m\u001b[1;33m+\u001b[0m\u001b[1;36m1\u001b[0m\u001b[1;33m]\u001b[0m\u001b[1;33m.\u001b[0m\u001b[0mDate\u001b[0m\u001b[1;33m.\u001b[0m\u001b[0mvalues\u001b[0m\u001b[1;33m[\u001b[0m\u001b[1;36m0\u001b[0m\u001b[1;33m]\u001b[0m\u001b[1;33m,\u001b[0m\u001b[0maco_sortino\u001b[0m\u001b[1;33m,\u001b[0m\u001b[0minputweights\u001b[0m\u001b[1;33m)\u001b[0m\u001b[1;33m\u001b[0m\u001b[1;33m\u001b[0m\u001b[0m\n\u001b[0;32m      8\u001b[0m     \u001b[0mstart_date_lookback_index\u001b[0m\u001b[1;33m+=\u001b[0m\u001b[1;36m1\u001b[0m\u001b[1;33m\u001b[0m\u001b[1;33m\u001b[0m\u001b[0m\n",
      "\u001b[1;32m<ipython-input-9-d4bec03013f4>\u001b[0m in \u001b[0;36mantcolony_sortino_weights\u001b[1;34m(ITERATIONS, Q, EVA_RATE, ANTS, start_date, end_date)\u001b[0m\n\u001b[0;32m     91\u001b[0m             \u001b[0mtemp_pher\u001b[0m \u001b[1;33m=\u001b[0m \u001b[0mpheromon\u001b[0m\u001b[1;33m[\u001b[0m\u001b[0mant\u001b[0m \u001b[1;33m+\u001b[0m \u001b[1;36m1\u001b[0m\u001b[1;33m]\u001b[0m\u001b[1;33m\u001b[0m\u001b[1;33m\u001b[0m\u001b[0m\n\u001b[0;32m     92\u001b[0m             \u001b[0mweights\u001b[0m \u001b[1;33m=\u001b[0m \u001b[0mnp\u001b[0m\u001b[1;33m.\u001b[0m\u001b[0marray\u001b[0m\u001b[1;33m(\u001b[0m\u001b[0mBALANCE\u001b[0m\u001b[1;33m(\u001b[0m\u001b[0mtemp_pher\u001b[0m\u001b[1;33m)\u001b[0m\u001b[1;33m)\u001b[0m\u001b[1;33m\u001b[0m\u001b[1;33m\u001b[0m\u001b[0m\n\u001b[1;32m---> 93\u001b[1;33m             \u001b[0mreturns_temp\u001b[0m \u001b[1;33m=\u001b[0m \u001b[0mnp\u001b[0m\u001b[1;33m.\u001b[0m\u001b[0msum\u001b[0m\u001b[1;33m(\u001b[0m\u001b[0mreturnsh\u001b[0m\u001b[1;33m.\u001b[0m\u001b[0mmean\u001b[0m\u001b[1;33m(\u001b[0m\u001b[1;33m)\u001b[0m \u001b[1;33m*\u001b[0m \u001b[0mweights\u001b[0m\u001b[1;33m)\u001b[0m \u001b[1;33m*\u001b[0m \u001b[0mtrading_days\u001b[0m  \u001b[1;31m# calculating annulaised portfolio return\u001b[0m\u001b[1;33m\u001b[0m\u001b[1;33m\u001b[0m\u001b[0m\n\u001b[0m\u001b[0;32m     94\u001b[0m             varso = np.dot(weights.T,\n\u001b[0;32m     95\u001b[0m                            np.dot(covmatso, weights))  # calculating portfolio varience wrt calculating sharpe ratio\n",
      "\u001b[1;32m~\\anaconda3\\lib\\site-packages\\pandas\\core\\generic.py\u001b[0m in \u001b[0;36mstat_func\u001b[1;34m(self, axis, skipna, level, numeric_only, **kwargs)\u001b[0m\n\u001b[0;32m  11215\u001b[0m             \u001b[1;32mreturn\u001b[0m \u001b[0mself\u001b[0m\u001b[1;33m.\u001b[0m\u001b[0m_agg_by_level\u001b[0m\u001b[1;33m(\u001b[0m\u001b[0mname\u001b[0m\u001b[1;33m,\u001b[0m \u001b[0maxis\u001b[0m\u001b[1;33m=\u001b[0m\u001b[0maxis\u001b[0m\u001b[1;33m,\u001b[0m \u001b[0mlevel\u001b[0m\u001b[1;33m=\u001b[0m\u001b[0mlevel\u001b[0m\u001b[1;33m,\u001b[0m \u001b[0mskipna\u001b[0m\u001b[1;33m=\u001b[0m\u001b[0mskipna\u001b[0m\u001b[1;33m)\u001b[0m\u001b[1;33m\u001b[0m\u001b[1;33m\u001b[0m\u001b[0m\n\u001b[0;32m  11216\u001b[0m         return self._reduce(\n\u001b[1;32m> 11217\u001b[1;33m             \u001b[0mf\u001b[0m\u001b[1;33m,\u001b[0m \u001b[0mname\u001b[0m\u001b[1;33m,\u001b[0m \u001b[0maxis\u001b[0m\u001b[1;33m=\u001b[0m\u001b[0maxis\u001b[0m\u001b[1;33m,\u001b[0m \u001b[0mskipna\u001b[0m\u001b[1;33m=\u001b[0m\u001b[0mskipna\u001b[0m\u001b[1;33m,\u001b[0m \u001b[0mnumeric_only\u001b[0m\u001b[1;33m=\u001b[0m\u001b[0mnumeric_only\u001b[0m\u001b[1;33m\u001b[0m\u001b[1;33m\u001b[0m\u001b[0m\n\u001b[0m\u001b[0;32m  11218\u001b[0m         )\n\u001b[0;32m  11219\u001b[0m \u001b[1;33m\u001b[0m\u001b[0m\n",
      "\u001b[1;32m~\\anaconda3\\lib\\site-packages\\pandas\\core\\frame.py\u001b[0m in \u001b[0;36m_reduce\u001b[1;34m(self, op, name, axis, skipna, numeric_only, filter_type, **kwds)\u001b[0m\n\u001b[0;32m   7905\u001b[0m             \u001b[0mvalues\u001b[0m \u001b[1;33m=\u001b[0m \u001b[0mself\u001b[0m\u001b[1;33m.\u001b[0m\u001b[0mvalues\u001b[0m\u001b[1;33m\u001b[0m\u001b[1;33m\u001b[0m\u001b[0m\n\u001b[0;32m   7906\u001b[0m             \u001b[1;32mtry\u001b[0m\u001b[1;33m:\u001b[0m\u001b[1;33m\u001b[0m\u001b[1;33m\u001b[0m\u001b[0m\n\u001b[1;32m-> 7907\u001b[1;33m                 \u001b[0mresult\u001b[0m \u001b[1;33m=\u001b[0m \u001b[0mf\u001b[0m\u001b[1;33m(\u001b[0m\u001b[0mvalues\u001b[0m\u001b[1;33m)\u001b[0m\u001b[1;33m\u001b[0m\u001b[1;33m\u001b[0m\u001b[0m\n\u001b[0m\u001b[0;32m   7908\u001b[0m \u001b[1;33m\u001b[0m\u001b[0m\n\u001b[0;32m   7909\u001b[0m                 \u001b[1;32mif\u001b[0m \u001b[0mfilter_type\u001b[0m \u001b[1;33m==\u001b[0m \u001b[1;34m\"bool\"\u001b[0m \u001b[1;32mand\u001b[0m \u001b[0mis_object_dtype\u001b[0m\u001b[1;33m(\u001b[0m\u001b[0mvalues\u001b[0m\u001b[1;33m)\u001b[0m \u001b[1;32mand\u001b[0m \u001b[0maxis\u001b[0m \u001b[1;32mis\u001b[0m \u001b[1;32mNone\u001b[0m\u001b[1;33m:\u001b[0m\u001b[1;33m\u001b[0m\u001b[1;33m\u001b[0m\u001b[0m\n",
      "\u001b[1;32m~\\anaconda3\\lib\\site-packages\\pandas\\core\\frame.py\u001b[0m in \u001b[0;36mf\u001b[1;34m(x)\u001b[0m\n\u001b[0;32m   7863\u001b[0m \u001b[1;33m\u001b[0m\u001b[0m\n\u001b[0;32m   7864\u001b[0m         \u001b[1;32mdef\u001b[0m \u001b[0mf\u001b[0m\u001b[1;33m(\u001b[0m\u001b[0mx\u001b[0m\u001b[1;33m)\u001b[0m\u001b[1;33m:\u001b[0m\u001b[1;33m\u001b[0m\u001b[1;33m\u001b[0m\u001b[0m\n\u001b[1;32m-> 7865\u001b[1;33m             \u001b[1;32mreturn\u001b[0m \u001b[0mop\u001b[0m\u001b[1;33m(\u001b[0m\u001b[0mx\u001b[0m\u001b[1;33m,\u001b[0m \u001b[0maxis\u001b[0m\u001b[1;33m=\u001b[0m\u001b[0maxis\u001b[0m\u001b[1;33m,\u001b[0m \u001b[0mskipna\u001b[0m\u001b[1;33m=\u001b[0m\u001b[0mskipna\u001b[0m\u001b[1;33m,\u001b[0m \u001b[1;33m**\u001b[0m\u001b[0mkwds\u001b[0m\u001b[1;33m)\u001b[0m\u001b[1;33m\u001b[0m\u001b[1;33m\u001b[0m\u001b[0m\n\u001b[0m\u001b[0;32m   7866\u001b[0m \u001b[1;33m\u001b[0m\u001b[0m\n\u001b[0;32m   7867\u001b[0m         \u001b[1;32mdef\u001b[0m \u001b[0m_get_data\u001b[0m\u001b[1;33m(\u001b[0m\u001b[0maxis_matters\u001b[0m\u001b[1;33m)\u001b[0m\u001b[1;33m:\u001b[0m\u001b[1;33m\u001b[0m\u001b[1;33m\u001b[0m\u001b[0m\n",
      "\u001b[1;32m~\\anaconda3\\lib\\site-packages\\pandas\\core\\nanops.py\u001b[0m in \u001b[0;36m_f\u001b[1;34m(*args, **kwargs)\u001b[0m\n\u001b[0;32m     67\u001b[0m             \u001b[1;32mtry\u001b[0m\u001b[1;33m:\u001b[0m\u001b[1;33m\u001b[0m\u001b[1;33m\u001b[0m\u001b[0m\n\u001b[0;32m     68\u001b[0m                 \u001b[1;32mwith\u001b[0m \u001b[0mnp\u001b[0m\u001b[1;33m.\u001b[0m\u001b[0merrstate\u001b[0m\u001b[1;33m(\u001b[0m\u001b[0minvalid\u001b[0m\u001b[1;33m=\u001b[0m\u001b[1;34m\"ignore\"\u001b[0m\u001b[1;33m)\u001b[0m\u001b[1;33m:\u001b[0m\u001b[1;33m\u001b[0m\u001b[1;33m\u001b[0m\u001b[0m\n\u001b[1;32m---> 69\u001b[1;33m                     \u001b[1;32mreturn\u001b[0m \u001b[0mf\u001b[0m\u001b[1;33m(\u001b[0m\u001b[1;33m*\u001b[0m\u001b[0margs\u001b[0m\u001b[1;33m,\u001b[0m \u001b[1;33m**\u001b[0m\u001b[0mkwargs\u001b[0m\u001b[1;33m)\u001b[0m\u001b[1;33m\u001b[0m\u001b[1;33m\u001b[0m\u001b[0m\n\u001b[0m\u001b[0;32m     70\u001b[0m             \u001b[1;32mexcept\u001b[0m \u001b[0mValueError\u001b[0m \u001b[1;32mas\u001b[0m \u001b[0me\u001b[0m\u001b[1;33m:\u001b[0m\u001b[1;33m\u001b[0m\u001b[1;33m\u001b[0m\u001b[0m\n\u001b[0;32m     71\u001b[0m                 \u001b[1;31m# we want to transform an object array\u001b[0m\u001b[1;33m\u001b[0m\u001b[1;33m\u001b[0m\u001b[1;33m\u001b[0m\u001b[0m\n",
      "\u001b[1;32m~\\anaconda3\\lib\\site-packages\\pandas\\core\\nanops.py\u001b[0m in \u001b[0;36mf\u001b[1;34m(values, axis, skipna, **kwds)\u001b[0m\n\u001b[0;32m    114\u001b[0m                     \u001b[1;31m#  TypeError if called\u001b[0m\u001b[1;33m\u001b[0m\u001b[1;33m\u001b[0m\u001b[1;33m\u001b[0m\u001b[0m\n\u001b[0;32m    115\u001b[0m                     \u001b[0mkwds\u001b[0m\u001b[1;33m.\u001b[0m\u001b[0mpop\u001b[0m\u001b[1;33m(\u001b[0m\u001b[1;34m\"mask\"\u001b[0m\u001b[1;33m,\u001b[0m \u001b[1;32mNone\u001b[0m\u001b[1;33m)\u001b[0m\u001b[1;33m\u001b[0m\u001b[1;33m\u001b[0m\u001b[0m\n\u001b[1;32m--> 116\u001b[1;33m                     \u001b[0mresult\u001b[0m \u001b[1;33m=\u001b[0m \u001b[0mbn_func\u001b[0m\u001b[1;33m(\u001b[0m\u001b[0mvalues\u001b[0m\u001b[1;33m,\u001b[0m \u001b[0maxis\u001b[0m\u001b[1;33m=\u001b[0m\u001b[0maxis\u001b[0m\u001b[1;33m,\u001b[0m \u001b[1;33m**\u001b[0m\u001b[0mkwds\u001b[0m\u001b[1;33m)\u001b[0m\u001b[1;33m\u001b[0m\u001b[1;33m\u001b[0m\u001b[0m\n\u001b[0m\u001b[0;32m    117\u001b[0m \u001b[1;33m\u001b[0m\u001b[0m\n\u001b[0;32m    118\u001b[0m                     \u001b[1;31m# prefer to treat inf/-inf as NA, but must compute the func\u001b[0m\u001b[1;33m\u001b[0m\u001b[1;33m\u001b[0m\u001b[1;33m\u001b[0m\u001b[0m\n",
      "\u001b[1;31mKeyboardInterrupt\u001b[0m: "
     ]
    }
   ],
   "source": [
    "while df.iloc[end_date_index].Date.values[0]:\n",
    "    ITERATIONS = 243#int(best['ITERATIONS'])\n",
    "    Q = 0.1829#best['Q']\n",
    "    EVA_RATE = 0.3248#best['EVA_RATE']\n",
    "    ANTS = 408#best['ANTS']\n",
    "    inputweights=antcolony_sortino_weights(ITERATIONS,Q,EVA_RATE,ANTS,df.iloc[start_date_index].Date.values[0],df.iloc[end_date_index].Date.values[0])\n",
    "    aco_sortino=ACO_Sortino_lookback(df.iloc[start_date_lookback_index].Date.values[0],df.iloc[end_date_lookback_index].Date.values[0],df.iloc[end_date_lookback_index+1].Date.values[0],aco_sortino,inputweights)\n",
    "    start_date_lookback_index+=1\n",
    "    end_date_lookback_index+=1\n",
    "    start_date_index+=1\n",
    "    end_date_index+=1"
   ]
  },
  {
   "cell_type": "code",
   "execution_count": 22,
   "metadata": {},
   "outputs": [],
   "source": [
    "aco_sortino.to_csv('aco_sortino_dynamic.csv')"
   ]
  },
  {
   "cell_type": "code",
   "execution_count": 24,
   "metadata": {},
   "outputs": [
    {
     "data": {
      "text/plain": [
       "[<matplotlib.lines.Line2D at 0x26bae828388>]"
      ]
     },
     "execution_count": 24,
     "metadata": {},
     "output_type": "execute_result"
    },
    {
     "data": {
      "image/png": "[encoded data removed]",
      "text/plain": [
       "<Figure size 432x288 with 1 Axes>"
      ]
     },
     "metadata": {
      "needs_background": "light"
     },
     "output_type": "display_data"
    }
   ],
   "source": [
    "import matplotlib.pyplot as plt\n",
    "plt.plot(aco_sortino.Returns)"
   ]
  },
  {
   "cell_type": "code",
   "execution_count": null,
   "metadata": {},
   "outputs": [],
   "source": []
  },
  {
   "cell_type": "code",
   "execution_count": null,
   "metadata": {},
   "outputs": [],
   "source": []
  }
 ],
 "metadata": {
  "kernelspec": {
   "display_name": "Python 3",
   "language": "python",
   "name": "python3"
  },
  "language_info": {
   "codemirror_mode": {
    "name": "ipython",
    "version": 3
   },
   "file_extension": ".py",
   "mimetype": "text/x-python",
   "name": "python",
   "nbconvert_exporter": "python",
   "pygments_lexer": "ipython3",
   "version": "3.7.6"
  }
 },
 "nbformat": 4,
 "nbformat_minor": 4
}
