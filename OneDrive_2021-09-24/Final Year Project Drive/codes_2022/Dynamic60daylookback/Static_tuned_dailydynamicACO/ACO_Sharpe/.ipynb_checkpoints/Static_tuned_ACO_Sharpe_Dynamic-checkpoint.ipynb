{
 "cells": [
  {
   "cell_type": "markdown",
   "metadata": {},
   "source": [
    "## check points\n",
    "1) trading days parity\n",
    "2) hyperparameter search range(original value in in comment)\n",
    "3) file path and names\n"
   ]
  },
  {
   "cell_type": "code",
   "execution_count": 1,
   "metadata": {},
   "outputs": [],
   "source": [
    "import optuna\n",
    "import pandas as pd\n",
    "import numpy as np\n",
    "import random\n",
    "import math\n"
   ]
  },
  {
   "cell_type": "code",
   "execution_count": 2,
   "metadata": {},
   "outputs": [],
   "source": [
    "def BALANCE(weights):\n",
    "    # Making sure the total sum of the weights eual to 1\n",
    "    weights = [w / sum(weights) for w in weights]\n",
    "    # Making sure all weights represent proportions that add up to 1\n",
    "    return weights\n",
    "\n",
    "\n",
    "def ratio(a, b, c):\n",
    "    # function to calculate ratio i.e. \"(returns-(risk_free_rate))/deviation\"\n",
    "    # calculating sharpe ratio\n",
    "    return (a - c) / b\n",
    "\n",
    "\n",
    "def number_of_years(y):  # calculates the number of years of the dataset\n",
    "    p = y.index[0]  # date of first row in the dataset (datetime format)\n",
    "    q = y.index[len(y) - 1]  # date of last row in the dataset  (datetime format)\n",
    "    return ((q - p).days + 1) / 365"
   ]
  },
  {
   "cell_type": "code",
   "execution_count": 3,
   "metadata": {},
   "outputs": [],
   "source": [
    "#df = pd.read_csv(\"/home/pn_kumar/Karthik/staticlookback30/n50.csv\") \n",
    "df = pd.read_csv(\"n50.csv\")\n",
    "#outter read"
   ]
  },
  {
   "cell_type": "code",
   "execution_count": 4,
   "metadata": {},
   "outputs": [
    {
     "data": {
      "text/plain": [
       "25"
      ]
     },
     "execution_count": 4,
     "metadata": {},
     "output_type": "execute_result"
    }
   ],
   "source": [
    "len(df.columns)"
   ]
  },
  {
   "cell_type": "code",
   "execution_count": 5,
   "metadata": {},
   "outputs": [],
   "source": [
    "aco_sharpe=pd.DataFrame(columns=['Date', 'Returns', 'Risk','Ratio'])\n",
    "inputweights=[]"
   ]
  },
  {
   "cell_type": "code",
   "execution_count": 6,
   "metadata": {},
   "outputs": [],
   "source": [
    "def antcolony_tuning_sharpe(ITERATIONS, Q, EVA_RATE, ANTS,start_date,end_date):\n",
    "    df = pd.read_csv('n50.csv', parse_dates=['Date'], index_col='Date')\n",
    "    df=df.loc[start_date:end_date]\n",
    "    tdf = df.copy()  # deep copy\n",
    "    df.reset_index(drop=True, inplace=True)\n",
    "    #trading_days = len(df) / number_of_years(tdf)\n",
    "    trading_days=60 # check here\n",
    "    returnsh = df.pct_change()  # Here, returnsh would mean return considered for sharpe ratio\n",
    "    returnsh.fillna(0, inplace=True)  # calculating daily returns of the stocks in the portfolio\n",
    "#     returnso = returnsh.copy()  # this cell considers only NEGATIVE returns so as to calculate sortino ratio\n",
    "#     for cols in returnso.columns.tolist():\n",
    "#         for i in range(0, len(df)):\n",
    "#             if returnso[cols][i] > 0:\n",
    "#                 returnso[cols][i] = 0  \n",
    "    covmatsh = returnsh.cov() * trading_days  # Annualised covariance matrix calculated wrt returnsh i.e. used to calculate sharpe ratio\n",
    "    #covmatso = returnso.cov() * trading_days\n",
    "    stocks = len(df.columns)              #initializing number of stocks/assets considered in the portfolio\n",
    "    risk_free_rate = 0.0358     \n",
    "    sharpe_pbest = -1\n",
    "    # Initializing sharpe_pbest(the best fitness value   SHARPE)\n",
    "    # Initializing the current fitness value\n",
    "    fitness = 0\n",
    "    # for each iteration\n",
    "    for iteration in range(ITERATIONS):\n",
    "\n",
    "        # PREPARAING THE PHEROMONE MATRIX WHERE THE COLS=STOCKS AND  ROWS=ANTS\n",
    "        pheromon = [[0] * stocks for i in\n",
    "                    range(ANTS + 1)]  # why (ants+1)?The last ant can update the pheromone values in the last row\n",
    "\n",
    "        # Initializing the pheromone status\n",
    "        for i in range(len(pheromon[0])):\n",
    "            pheromon[0][i] = random.randint(1,\n",
    "                                            15)  # When input stocks varies, this needs to vary accordingly.(Divide number of stocks / 2)\n",
    "\n",
    "        # copying the values and storing it in temp_pher\n",
    "        temp_pher = pheromon[0]\n",
    "\n",
    "        # Making sure that the total amount of pheromone equals 1\n",
    "        weights = np.array(BALANCE(temp_pher))\n",
    "\n",
    "        # calculating annulaised portfolio return\n",
    "        returns_temp = np.sum(returnsh.mean() * weights) * trading_days\n",
    "\n",
    "        # calculating portfolio varience wrt calculating sharpe ratio\n",
    "        varsh = np.dot(weights.T, np.dot(covmatsh, weights))\n",
    "\n",
    "        # portfolio risk\n",
    "        volatility_temp = np.sqrt(varsh)\n",
    "\n",
    "        # Calculating fitness value(ie sharpe ratio)\n",
    "        fitness = ratio(returns_temp, volatility_temp, risk_free_rate)\n",
    "\n",
    "        # Initializing the intial fitness value as the best fitness value(sharpe_pbest)\n",
    "        if sharpe_pbest == -1:\n",
    "            sharpe_pbest = fitness\n",
    "\n",
    "        # list\n",
    "        path = []\n",
    "\n",
    "        # for each ant\n",
    "        for ant in range(ANTS - 1):\n",
    "\n",
    "            # find the total pheromone\n",
    "            total = sum(pheromon[ant])\n",
    "\n",
    "            # Initializing probability\n",
    "            probability = pheromon[ant][:]\n",
    "\n",
    "            # finding probability of each stocks pheromone\n",
    "            for p in range(len(probability)):\n",
    "                probability[p] = (probability[p] / total)\n",
    "\n",
    "            # Trying to select stocks in decreasing order based on their pheromone level and storing the stock order in a list(path)\n",
    "            for stock in range(stocks):\n",
    "                select = probability.index(max(probability))\n",
    "                probability[select] = -math.inf\n",
    "                path.append(select)\n",
    "\n",
    "            # Updating the pheromone level of each stock for the next ant\n",
    "            # Formula: old pheromone level * (1-eva_rate) + Q * (fitness/sharpe_pbest) where Q is fixed amount of pheromone\n",
    "            for s in path:\n",
    "                pheromon[ant + 1][s] = pheromon[ant][s] * (1 - EVA_RATE) + Q * (fitness / sharpe_pbest)\n",
    "\n",
    "            # making sure that the updated pheromon adds upto 1\n",
    "            temp_pher = pheromon[ant + 1]\n",
    "            weights = np.array(BALANCE(temp_pher))\n",
    "            returns_temp = np.sum(returnsh.mean() * weights) * trading_days  # calculating annulaised portfolio return\n",
    "            varsh = np.dot(weights.T,\n",
    "                           np.dot(covmatsh, weights))  # calculating portfolio varience wrt calculating sharpe ratio\n",
    "            volatility_temp = np.sqrt(varsh)  # portfolio risk\n",
    "            fitness = ratio(returns_temp, volatility_temp, risk_free_rate)  # calculating sharpe ratio\n",
    "\n",
    "            # comparing the old fitness value with the updated fitness value\n",
    "            # explore on scape condition paper ref\n",
    "            if (fitness > sharpe_pbest):\n",
    "                # if the updated fitness value is better than the previous, change sharpe_pbest to present fitness value\n",
    "                sharpe_pbest = fitness\n",
    "\n",
    "                # remembering the weights of the best portfolio\n",
    "                global_warr_sharpe = weights.tolist()\n",
    "        # sharpe_portfolio_return.append(returns_temp)\n",
    "        # sharpe_portfolio_risk.append(volatility_temp)\n",
    "        # sharpe_portfolio_shratio.append(fitness)\n",
    "        # sharpe_portfolio_stockWeights.append(weights)\n",
    "    return sharpe_pbest"
   ]
  },
  {
   "cell_type": "code",
   "execution_count": 7,
   "metadata": {},
   "outputs": [],
   "source": [
    "def objective(trial):\n",
    "    ITERATIONS = trial.suggest_int('ITERATIONS', 2, 5)#500\n",
    "    Q = trial.suggest_float('Q', 0.1, 1.0)\n",
    "    EVA_RATE = trial.suggest_float('EVA_RATE', 0.1, 1.00)\n",
    "    ANTS = trial.suggest_int('ANTS', 2, 5)#500\n",
    "    return antcolony_tuning_sharpe(int(ITERATIONS), Q, EVA_RATE, int(ANTS),start_date,end_date)"
   ]
  },
  {
   "cell_type": "code",
   "execution_count": 8,
   "metadata": {},
   "outputs": [],
   "source": [
    "# sharpe_study = optuna.create_study(direction='maximize')\n",
    "# sharpe_study.optimize(objective, n_trials=50)\n",
    "\n",
    "# sh_hptuning = sharpe_study.trials_dataframe()\n",
    "# sh_hptuning.to_csv(\"/home/pn_kumar/Karthik/staticlookback30/ACO_sharpe_hps.csv\")\n",
    "# best = sharpe_study.best_params\n",
    "\n",
    "# ITERATIONS = int(best['ITERATIONS'])\n",
    "# Q = best['Q']\n",
    "# EVA_RATE = best['EVA_RATE']\n",
    "# ANTS = best['ANTS']"
   ]
  },
  {
   "cell_type": "code",
   "execution_count": null,
   "metadata": {},
   "outputs": [],
   "source": []
  },
  {
   "cell_type": "code",
   "execution_count": 9,
   "metadata": {},
   "outputs": [],
   "source": [
    "def antcolony_sharpe_weights(ITERATIONS, Q, EVA_RATE, ANTS,start_date,end_date,aco_sharpe):\n",
    "    df = pd.read_csv('n50.csv', parse_dates=['Date'], index_col='Date')\n",
    "    df=df.loc[start_date:end_date]\n",
    "    tdf = df.copy()  # deep copy\n",
    "    df.reset_index(drop=True, inplace=True)\n",
    "    #trading_days = len(df) / number_of_years(tdf)\n",
    "    trading_days=60 # check here\n",
    "    returnsh = df.pct_change()  # Here, returnsh would mean return considered for sharpe ratio\n",
    "    returnsh.fillna(0, inplace=True)  # calculating daily returns of the stocks in the portfolio\n",
    "#     returnso = returnsh.copy()  # this cell considers only NEGATIVE returns so as to calculate sortino ratio\n",
    "#     for cols in returnso.columns.tolist():\n",
    "#         for i in range(0, len(df)):\n",
    "#             if returnso[cols][i] > 0:\n",
    "#                 returnso[cols][i] = 0  \n",
    "    covmatsh = returnsh.cov() * trading_days  # Annualised covariance matrix calculated wrt returnsh i.e. used to calculate sharpe ratio\n",
    "    #covmatso = returnso.cov() * trading_days\n",
    "    stocks = len(df.columns)              #initializing number of stocks/assets considered in the portfolio\n",
    "    risk_free_rate = 0.0358\n",
    "\n",
    "    sharpe_portfolio_return = []\n",
    "    sharpe_portfolio_risk = []\n",
    "    sharpe_portfolio_shratio = []\n",
    "    sharpe_portfolio_stockWeights = []\n",
    "    \n",
    "    sharpe_pbest = -1\n",
    "    # Initializing sharpe_pbest(the best fitness value   SHARPE)\n",
    "    # Initializing the current fitness value\n",
    "    fitness = 0\n",
    "    # for each iteration\n",
    "    for iteration in range(ITERATIONS):\n",
    "\n",
    "        # PREPARAING THE PHEROMONE MATRIX WHERE THE COLS=STOCKS AND  ROWS=ANTS\n",
    "        pheromon = [[0] * stocks for i in\n",
    "                    range(ANTS + 1)]  # why (ants+1)?The last ant can update the pheromone values in the last row\n",
    "\n",
    "        # Initializing the pheromone status\n",
    "        for i in range(len(pheromon[0])):\n",
    "            pheromon[0][i] = random.randint(1,\n",
    "                                            15)  # When input stocks varies, this needs to vary accordingly.(Divide number of stocks / 2)\n",
    "\n",
    "        # copying the values and storing it in temp_pher\n",
    "        temp_pher = pheromon[0]\n",
    "\n",
    "        # Making sure that the total amount of pheromone equals 1\n",
    "        weights = np.array(BALANCE(temp_pher))\n",
    "\n",
    "        # calculating annulaised portfolio return\n",
    "        returns_temp = np.sum(returnsh.mean() * weights) * trading_days\n",
    "\n",
    "        # calculating portfolio varience wrt calculating sharpe ratio\n",
    "        varsh = np.dot(weights.T, np.dot(covmatsh, weights))\n",
    "\n",
    "        # portfolio risk\n",
    "        volatility_temp = np.sqrt(varsh)\n",
    "\n",
    "        # Calculating fitness value(ie sharpe ratio)\n",
    "        fitness = ratio(returns_temp, volatility_temp, risk_free_rate)\n",
    "\n",
    "        # Initializing the intial fitness value as the best fitness value(sharpe_pbest)\n",
    "        if sharpe_pbest == -1:\n",
    "            sharpe_pbest = fitness\n",
    "\n",
    "        # list\n",
    "        path = []\n",
    "\n",
    "        # for each ant\n",
    "        for ant in range(ANTS - 1):\n",
    "\n",
    "            # find the total pheromone\n",
    "            total = sum(pheromon[ant])\n",
    "\n",
    "            # Initializing probability\n",
    "            probability = pheromon[ant][:]\n",
    "\n",
    "            # finding probability of each stocks pheromone\n",
    "            for p in range(len(probability)):\n",
    "                probability[p] = (probability[p] / total)\n",
    "\n",
    "            # Trying to select stocks in decreasing order based on their pheromone level and storing the stock order in a list(path)\n",
    "            for stock in range(stocks):\n",
    "                select = probability.index(max(probability))\n",
    "                probability[select] = -math.inf\n",
    "                path.append(select)\n",
    "\n",
    "            # Updating the pheromone level of each stock for the next ant\n",
    "            # Formula: old pheromone level * (1-eva_rate) + Q * (fitness/sharpe_pbest) where Q is fixed amount of pheromone\n",
    "            for s in path:\n",
    "                pheromon[ant + 1][s] = pheromon[ant][s] * (1 - EVA_RATE) + Q * (fitness / sharpe_pbest)\n",
    "\n",
    "            # making sure that the updated pheromon adds upto 1\n",
    "            temp_pher = pheromon[ant + 1]\n",
    "            weights = np.array(BALANCE(temp_pher))\n",
    "            returns_temp = np.sum(returnsh.mean() * weights) * trading_days  # calculating annulaised portfolio return\n",
    "            varsh = np.dot(weights.T,\n",
    "                           np.dot(covmatsh, weights))  # calculating portfolio varience wrt calculating sharpe ratio\n",
    "            volatility_temp = np.sqrt(varsh)  # portfolio risk\n",
    "            fitness = ratio(returns_temp, volatility_temp, risk_free_rate)  # calculating sharpe ratio\n",
    "\n",
    "            # comparing the old fitness value with the updated fitness value\n",
    "            # explore on scape condition paper ref\n",
    "            if (fitness > sharpe_pbest):\n",
    "                # if the updated fitness value is better than the previous, change sharpe_pbest to present fitness value\n",
    "                sharpe_pbest = fitness\n",
    "\n",
    "                # remembering the weights of the best portfolio\n",
    "\n",
    "                global_warr_sharpe = weights.tolist()\n",
    "\n",
    "            sharpe_portfolio_return.append(returns_temp)\n",
    "            sharpe_portfolio_risk.append(volatility_temp)\n",
    "            sharpe_portfolio_shratio.append(fitness)\n",
    "            sharpe_portfolio_stockWeights.append(weights)\n",
    "        \n",
    "    portfolio = {'Returns' : sharpe_portfolio_return, 'Standard Deviation' : sharpe_portfolio_risk, 'Sharpe Ratio' : sharpe_portfolio_shratio}\n",
    "    for counter,symbol in enumerate(df.columns):\n",
    "        portfolio[symbol + \" Weight\"] = [Weight[counter] for Weight in sharpe_portfolio_stockWeights]\n",
    "    pc = pd.DataFrame(portfolio)\n",
    "    pc.loc[:, :] *= 100\n",
    "    pc['Sharpe Ratio']=pc['Sharpe Ratio']/100 \n",
    "    max_sharpe=pc['Sharpe Ratio'].max()     \n",
    "    max_sharpe_portfolio=pc.loc[pc['Sharpe Ratio'] == max_sharpe]\n",
    "    max_weights=max_sharpe_portfolio.values\n",
    "    max_weights=max_weights[0][3:]\n",
    "    return max_weights\n"
   ]
  },
  {
   "cell_type": "code",
   "execution_count": 10,
   "metadata": {},
   "outputs": [],
   "source": [
    "#tuned = antcolony_sharpe_weights(ITERATIONS, Q, EVA_RATE, ANTS,start_date,end_date,aco_sharpe)"
   ]
  },
  {
   "cell_type": "code",
   "execution_count": 11,
   "metadata": {},
   "outputs": [],
   "source": [
    "def ACO_Sharpe_lookback(start_date,end_date,deciding_date,aco_sharpe,inputweights):\n",
    "    aco_sharpe_list=[]\n",
    "    df = pd.read_csv('n50.csv', parse_dates=['Date'], index_col='Date')\n",
    "    df=df.loc[start_date:end_date]\n",
    "    tdf = df.copy()  # deep copy\n",
    "    df.reset_index(drop=True, inplace=True)\n",
    "    #trading_days = len(df) / number_of_years(tdf)\n",
    "    trading_days=60\n",
    "    returnsh = df.pct_change()  # Here, returnsh would mean return considered for sharpe ratio\n",
    "    returnsh.fillna(0, inplace=True)  # calculating daily returns of the stocks in the portfolio\n",
    "#     returnso = returnsh.copy()  # this cell considers only NEGATIVE returns so as to calculate sortino ratio\n",
    "#     for cols in returnso.columns.tolist():\n",
    "#         for i in range(0, len(df)):\n",
    "#             if returnso[cols][i] > 0:\n",
    "#                 returnso[cols][i] = 0  \n",
    "    covmatsh = returnsh.cov() * trading_days  # Annualised covariance matrix calculated wrt returnsh i.e. used to calculate sharpe ratio\n",
    "    #covmatso = returnso.cov() * trading_days  # Annualised covariance matrix calculated wrt returnso i.e. used to calculate sortino ratio\n",
    "    num_assets = len(df.columns)  # initializing number of stocks/assets considered in the portfolio\n",
    "    risk_free_rate = 0.0358  #initializing risk free rate that will be used in calculating both the ratios (absolute value)\n",
    "# referred from url: https://www.rbi.org.in/Scripts/BS_NSDPDisplay.aspx?param=4&Id=24292\n",
    "# In the above url, the 364 (1 year) day treasury bill is 3.58% , when taken absolute value => 0.0358\n",
    "# (improved)\n",
    "    global_war_sharpe=[]\n",
    "    sharpe_portfolio_return=[]\n",
    "    sharpe_portfolio_risk=[]\n",
    "    sharpe_portfolio_shratio=[]\n",
    "    sharpe_portfolio_stockWeights=[]\n",
    "    fitness=0\n",
    "    weights=np.array(BALANCE(np.array(inputweights)))\n",
    "    returns_temp = np.sum(returnsh.mean()*weights)*trading_days \n",
    "    varsh=np.dot(weights.T,np.dot(covmatsh,weights))   \n",
    "    volatility_temp = np.sqrt(varsh)      \n",
    "    fitness = ratio(returns_temp,volatility_temp,risk_free_rate)\n",
    "    sharpe_portfolio_return.append(returns_temp)\n",
    "    sharpe_portfolio_risk.append(volatility_temp)\n",
    "    sharpe_portfolio_shratio.append(fitness)\n",
    "    sharpe_portfolio_stockWeights.append(weights)\n",
    "    sharpe_portfolio = {'Returns' : sharpe_portfolio_return, 'Standard Deviation' : sharpe_portfolio_risk,  'Sharpe Ratio' : sharpe_portfolio_shratio}  \n",
    "    for counter,symbol in enumerate(df.columns):\n",
    "      sharpe_portfolio[symbol + \" Weight\"] = [Weight[counter] for Weight in sharpe_portfolio_stockWeights]\n",
    "    sharpe_pc = pd.DataFrame(sharpe_portfolio)\n",
    "    sharpe_optimal=sharpe_pc.iloc[sharpe_pc['Sharpe Ratio'].idxmax()]\n",
    "    sharpe_optimal=sharpe_optimal.to_frame()\n",
    "    sharpe_optimal=sharpe_optimal.transpose()\n",
    "    sharpe_optimal.loc[:, :] *= 100\n",
    "    sharpe_optimal.loc[:, 'Sharpe Ratio'] /= 100\n",
    "    to_append=[deciding_date,sharpe_optimal['Returns'].values[0],sharpe_optimal['Standard Deviation'].values[0],sharpe_optimal['Sharpe Ratio'].values[0]]\n",
    "    aco_sharpe_series = pd.Series(to_append, index = aco_sharpe.columns)\n",
    "    aco_sharpe = aco_sharpe.append(aco_sharpe_series, ignore_index=True)\n",
    "    sharpe_optimal.to_csv(str(deciding_date)+\"sharpe_optimal.csv\")\n",
    "    print(aco_sharpe)\n",
    "    return aco_sharpe"
   ]
  },
  {
   "cell_type": "code",
   "execution_count": null,
   "metadata": {},
   "outputs": [],
   "source": []
  },
  {
   "cell_type": "code",
   "execution_count": 12,
   "metadata": {},
   "outputs": [],
   "source": [
    "start_date=\"2016-01-01\""
   ]
  },
  {
   "cell_type": "code",
   "execution_count": 13,
   "metadata": {},
   "outputs": [],
   "source": [
    "start_date_index=df.index[df['Date'] == start_date] "
   ]
  },
  {
   "cell_type": "code",
   "execution_count": 14,
   "metadata": {},
   "outputs": [],
   "source": [
    "end_date=\"2020-09-30\""
   ]
  },
  {
   "cell_type": "code",
   "execution_count": 15,
   "metadata": {},
   "outputs": [],
   "source": [
    "end_date_index=df.index[df['Date']== end_date]"
   ]
  },
  {
   "cell_type": "code",
   "execution_count": 16,
   "metadata": {},
   "outputs": [],
   "source": [
    "start_date_lookback=\"2020-10-01\""
   ]
  },
  {
   "cell_type": "code",
   "execution_count": 17,
   "metadata": {},
   "outputs": [],
   "source": [
    "start_date_lookback_index=df.index[df['Date'] == start_date_lookback] "
   ]
  },
  {
   "cell_type": "code",
   "execution_count": 18,
   "metadata": {},
   "outputs": [],
   "source": [
    "end_date_lookback=\"2020-12-31\""
   ]
  },
  {
   "cell_type": "code",
   "execution_count": 19,
   "metadata": {},
   "outputs": [],
   "source": [
    "end_date_lookback_index=df.index[df['Date']== end_date_lookback]"
   ]
  },
  {
   "cell_type": "code",
   "execution_count": 20,
   "metadata": {},
   "outputs": [
    {
     "name": "stderr",
     "output_type": "stream",
     "text": [
      "\u001b[32m[I 2022-05-26 20:29:37,241]\u001b[0m A new study created in memory with name: no-name-c6199020-f02e-450e-bd28-29572a7035b7\u001b[0m\n",
      "\u001b[32m[I 2022-05-26 20:29:37,673]\u001b[0m Trial 0 finished with value: 0.27518711790198735 and parameters: {'ITERATIONS': 5, 'Q': 0.17819381607338286, 'EVA_RATE': 0.23878305414520684, 'ANTS': 3}. Best is trial 0 with value: 0.27518711790198735.\u001b[0m\n",
      "\u001b[32m[I 2022-05-26 20:29:37,704]\u001b[0m Trial 1 finished with value: 0.23522285534718565 and parameters: {'ITERATIONS': 2, 'Q': 0.630934313131268, 'EVA_RATE': 0.726792629629843, 'ANTS': 4}. Best is trial 0 with value: 0.27518711790198735.\u001b[0m\n",
      "\u001b[32m[I 2022-05-26 20:29:37,841]\u001b[0m A new study created in memory with name: no-name-0b387f6b-eb91-48f2-a534-69a1cc73c5c0\u001b[0m\n",
      "\u001b[32m[I 2022-05-26 20:29:37,875]\u001b[0m Trial 0 finished with value: 0.23930441254581203 and parameters: {'ITERATIONS': 3, 'Q': 0.32068941450942734, 'EVA_RATE': 0.4556774878093134, 'ANTS': 4}. Best is trial 0 with value: 0.23930441254581203.\u001b[0m\n",
      "\u001b[32m[I 2022-05-26 20:29:37,902]\u001b[0m Trial 1 finished with value: 0.2344903648857937 and parameters: {'ITERATIONS': 3, 'Q': 0.44218390636510296, 'EVA_RATE': 0.668244254481705, 'ANTS': 3}. Best is trial 0 with value: 0.23930441254581203.\u001b[0m\n",
      "\u001b[32m[I 2022-05-26 20:29:37,962]\u001b[0m A new study created in memory with name: no-name-ff3e3b0c-7284-4a81-93ff-85bf02f7801c\u001b[0m\n",
      "\u001b[32m[I 2022-05-26 20:29:38,012]\u001b[0m Trial 0 finished with value: 0.24002457368127225 and parameters: {'ITERATIONS': 3, 'Q': 0.2514271422650546, 'EVA_RATE': 0.9394654780196825, 'ANTS': 5}. Best is trial 0 with value: 0.24002457368127225.\u001b[0m\n"
     ]
    },
    {
     "name": "stdout",
     "output_type": "stream",
     "text": [
      "         Date    Returns     Risk     Ratio\n",
      "0  2021-01-01  20.812991  6.90509  2.495694\n",
      "         Date    Returns      Risk     Ratio\n",
      "0  2021-01-01  20.812991  6.905090  2.495694\n",
      "1  2021-01-04  20.574005  7.037955  2.414623\n"
     ]
    },
    {
     "name": "stderr",
     "output_type": "stream",
     "text": [
      "\u001b[32m[I 2022-05-26 20:29:38,038]\u001b[0m Trial 1 finished with value: 0.18616883799031134 and parameters: {'ITERATIONS': 2, 'Q': 0.2386551219896424, 'EVA_RATE': 0.6066398250719789, 'ANTS': 3}. Best is trial 0 with value: 0.24002457368127225.\u001b[0m\n",
      "\u001b[32m[I 2022-05-26 20:29:38,097]\u001b[0m A new study created in memory with name: no-name-0fcce3c4-2403-4482-ab95-5ce6b5e461f3\u001b[0m\n",
      "\u001b[32m[I 2022-05-26 20:29:38,147]\u001b[0m Trial 0 finished with value: 0.21138252238374922 and parameters: {'ITERATIONS': 5, 'Q': 0.18063170623504482, 'EVA_RATE': 0.9969214824230935, 'ANTS': 4}. Best is trial 0 with value: 0.21138252238374922.\u001b[0m\n",
      "\u001b[32m[I 2022-05-26 20:29:38,170]\u001b[0m Trial 1 finished with value: 0.21083167967607544 and parameters: {'ITERATIONS': 2, 'Q': 0.8816627941493314, 'EVA_RATE': 0.972946744216303, 'ANTS': 3}. Best is trial 0 with value: 0.21138252238374922.\u001b[0m\n",
      "\u001b[32m[I 2022-05-26 20:29:38,245]\u001b[0m A new study created in memory with name: no-name-360e0b9c-f553-4b07-bf42-adcf596c3422\u001b[0m\n",
      "\u001b[32m[I 2022-05-26 20:29:38,292]\u001b[0m Trial 0 finished with value: 0.21002158753847847 and parameters: {'ITERATIONS': 5, 'Q': 0.8437801318034301, 'EVA_RATE': 0.9987426207604468, 'ANTS': 3}. Best is trial 0 with value: 0.21002158753847847.\u001b[0m\n"
     ]
    },
    {
     "name": "stdout",
     "output_type": "stream",
     "text": [
      "         Date    Returns      Risk     Ratio\n",
      "0  2021-01-01  20.812991  6.905090  2.495694\n",
      "1  2021-01-04  20.574005  7.037955  2.414623\n",
      "2  2021-01-05  21.652565  7.046567  2.564733\n",
      "         Date    Returns      Risk     Ratio\n",
      "0  2021-01-01  20.812991  6.905090  2.495694\n",
      "1  2021-01-04  20.574005  7.037955  2.414623\n",
      "2  2021-01-05  21.652565  7.046567  2.564733\n",
      "3  2021-01-06  21.859558  7.094556  2.576561\n"
     ]
    },
    {
     "name": "stderr",
     "output_type": "stream",
     "text": [
      "\u001b[32m[I 2022-05-26 20:29:38,332]\u001b[0m Trial 1 finished with value: 0.24903347532236705 and parameters: {'ITERATIONS': 2, 'Q': 0.3311326904733397, 'EVA_RATE': 0.6839318524910047, 'ANTS': 3}. Best is trial 1 with value: 0.24903347532236705.\u001b[0m\n",
      "\u001b[32m[I 2022-05-26 20:29:38,394]\u001b[0m A new study created in memory with name: no-name-8a6bfd82-0c5c-45bd-a397-57ade9094112\u001b[0m\n",
      "\u001b[32m[I 2022-05-26 20:29:38,429]\u001b[0m Trial 0 finished with value: 0.2134298443330928 and parameters: {'ITERATIONS': 3, 'Q': 0.9418375809189575, 'EVA_RATE': 0.6936194809314872, 'ANTS': 2}. Best is trial 0 with value: 0.2134298443330928.\u001b[0m\n",
      "\u001b[32m[I 2022-05-26 20:29:38,467]\u001b[0m Trial 1 finished with value: 0.2401588659952743 and parameters: {'ITERATIONS': 5, 'Q': 0.5405666046502428, 'EVA_RATE': 0.6150909146340684, 'ANTS': 4}. Best is trial 1 with value: 0.2401588659952743.\u001b[0m\n",
      "\u001b[32m[I 2022-05-26 20:29:38,530]\u001b[0m A new study created in memory with name: no-name-40e4c91c-7bd2-42ab-be12-b2700b9f19c5\u001b[0m\n",
      "\u001b[32m[I 2022-05-26 20:29:38,558]\u001b[0m Trial 0 finished with value: 0.23314968221805887 and parameters: {'ITERATIONS': 2, 'Q': 0.9477465943421433, 'EVA_RATE': 0.4246813748000574, 'ANTS': 4}. Best is trial 0 with value: 0.23314968221805887.\u001b[0m\n"
     ]
    },
    {
     "name": "stdout",
     "output_type": "stream",
     "text": [
      "         Date    Returns      Risk     Ratio\n",
      "0  2021-01-01  20.812991  6.905090  2.495694\n",
      "1  2021-01-04  20.574005  7.037955  2.414623\n",
      "2  2021-01-05  21.652565  7.046567  2.564733\n",
      "3  2021-01-06  21.859558  7.094556  2.576561\n",
      "4  2021-01-07  21.504652  7.347479  2.439565\n",
      "         Date    Returns      Risk     Ratio\n",
      "0  2021-01-01  20.812991  6.905090  2.495694\n",
      "1  2021-01-04  20.574005  7.037955  2.414623\n",
      "2  2021-01-05  21.652565  7.046567  2.564733\n",
      "3  2021-01-06  21.859558  7.094556  2.576561\n",
      "4  2021-01-07  21.504652  7.347479  2.439565\n",
      "5  2021-01-08  23.519035  7.310703  2.727376\n"
     ]
    },
    {
     "name": "stderr",
     "output_type": "stream",
     "text": [
      "\u001b[32m[I 2022-05-26 20:29:38,601]\u001b[0m Trial 1 finished with value: 0.23928313163624823 and parameters: {'ITERATIONS': 4, 'Q': 0.2856573453615789, 'EVA_RATE': 0.5003906056091582, 'ANTS': 3}. Best is trial 1 with value: 0.23928313163624823.\u001b[0m\n",
      "\u001b[32m[I 2022-05-26 20:29:38,662]\u001b[0m A new study created in memory with name: no-name-1d0af6ae-0016-471d-8265-97134df02f5b\u001b[0m\n",
      "\u001b[32m[I 2022-05-26 20:29:38,700]\u001b[0m Trial 0 finished with value: 0.22127039358765585 and parameters: {'ITERATIONS': 2, 'Q': 0.23684325325754646, 'EVA_RATE': 0.8146075988805805, 'ANTS': 4}. Best is trial 0 with value: 0.22127039358765585.\u001b[0m\n",
      "\u001b[32m[I 2022-05-26 20:29:38,739]\u001b[0m Trial 1 finished with value: 0.277602072799413 and parameters: {'ITERATIONS': 2, 'Q': 0.4329075720610326, 'EVA_RATE': 0.4570387401221976, 'ANTS': 5}. Best is trial 1 with value: 0.277602072799413.\u001b[0m\n",
      "\u001b[32m[I 2022-05-26 20:29:38,795]\u001b[0m A new study created in memory with name: no-name-d21d8589-6549-43e9-95c8-5936656025dd\u001b[0m\n",
      "\u001b[32m[I 2022-05-26 20:29:38,817]\u001b[0m Trial 0 finished with value: 0.21160349796895522 and parameters: {'ITERATIONS': 4, 'Q': 0.5880350557278027, 'EVA_RATE': 0.6017263703378144, 'ANTS': 3}. Best is trial 0 with value: 0.21160349796895522.\u001b[0m\n"
     ]
    },
    {
     "name": "stdout",
     "output_type": "stream",
     "text": [
      "         Date    Returns      Risk     Ratio\n",
      "0  2021-01-01  20.812991  6.905090  2.495694\n",
      "1  2021-01-04  20.574005  7.037955  2.414623\n",
      "2  2021-01-05  21.652565  7.046567  2.564733\n",
      "3  2021-01-06  21.859558  7.094556  2.576561\n",
      "4  2021-01-07  21.504652  7.347479  2.439565\n",
      "5  2021-01-08  23.519035  7.310703  2.727376\n",
      "6  2021-01-11  21.459469  6.890132  2.594939\n",
      "         Date    Returns      Risk     Ratio\n",
      "0  2021-01-01  20.812991  6.905090  2.495694\n",
      "1  2021-01-04  20.574005  7.037955  2.414623\n",
      "2  2021-01-05  21.652565  7.046567  2.564733\n",
      "3  2021-01-06  21.859558  7.094556  2.576561\n",
      "4  2021-01-07  21.504652  7.347479  2.439565\n",
      "5  2021-01-08  23.519035  7.310703  2.727376\n",
      "6  2021-01-11  21.459469  6.890132  2.594939\n",
      "7  2021-01-12  22.117574  7.320986  2.532115\n"
     ]
    },
    {
     "name": "stderr",
     "output_type": "stream",
     "text": [
      "\u001b[32m[I 2022-05-26 20:29:38,874]\u001b[0m Trial 1 finished with value: 0.21162820147443354 and parameters: {'ITERATIONS': 5, 'Q': 0.26417846709208964, 'EVA_RATE': 0.9122098555559105, 'ANTS': 2}. Best is trial 1 with value: 0.21162820147443354.\u001b[0m\n",
      "\u001b[32m[I 2022-05-26 20:29:38,975]\u001b[0m A new study created in memory with name: no-name-0043c243-cbd8-422e-99be-2619f470185a\u001b[0m\n",
      "\u001b[32m[I 2022-05-26 20:29:39,002]\u001b[0m Trial 0 finished with value: 0.23694885128615908 and parameters: {'ITERATIONS': 4, 'Q': 0.7993648930158636, 'EVA_RATE': 0.5550000864051516, 'ANTS': 3}. Best is trial 0 with value: 0.23694885128615908.\u001b[0m\n",
      "\u001b[32m[I 2022-05-26 20:29:39,043]\u001b[0m Trial 1 finished with value: 0.24657002072492304 and parameters: {'ITERATIONS': 5, 'Q': 0.28979292972906034, 'EVA_RATE': 0.19929906287362456, 'ANTS': 2}. Best is trial 1 with value: 0.24657002072492304.\u001b[0m\n",
      "\u001b[32m[I 2022-05-26 20:29:39,118]\u001b[0m A new study created in memory with name: no-name-fdbe362a-87e3-4458-b77a-a135e2cf27e4\u001b[0m\n",
      "\u001b[32m[I 2022-05-26 20:29:39,156]\u001b[0m Trial 0 finished with value: 0.2516172125521754 and parameters: {'ITERATIONS': 3, 'Q': 0.4237354461395212, 'EVA_RATE': 0.3534811208626554, 'ANTS': 2}. Best is trial 0 with value: 0.2516172125521754.\u001b[0m\n",
      "\u001b[32m[I 2022-05-26 20:29:39,184]\u001b[0m Trial 1 finished with value: 0.2087711172301041 and parameters: {'ITERATIONS': 2, 'Q': 0.25011371838540986, 'EVA_RATE': 0.4660443857379838, 'ANTS': 2}. Best is trial 0 with value: 0.2516172125521754.\u001b[0m\n"
     ]
    },
    {
     "name": "stdout",
     "output_type": "stream",
     "text": [
      "         Date    Returns      Risk     Ratio\n",
      "0  2021-01-01  20.812991  6.905090  2.495694\n",
      "1  2021-01-04  20.574005  7.037955  2.414623\n",
      "2  2021-01-05  21.652565  7.046567  2.564733\n",
      "3  2021-01-06  21.859558  7.094556  2.576561\n",
      "4  2021-01-07  21.504652  7.347479  2.439565\n",
      "5  2021-01-08  23.519035  7.310703  2.727376\n",
      "6  2021-01-11  21.459469  6.890132  2.594939\n",
      "7  2021-01-12  22.117574  7.320986  2.532115\n",
      "8  2021-01-13  23.235621  7.171798  2.740683\n",
      "         Date    Returns      Risk     Ratio\n",
      "0  2021-01-01  20.812991  6.905090  2.495694\n",
      "1  2021-01-04  20.574005  7.037955  2.414623\n",
      "2  2021-01-05  21.652565  7.046567  2.564733\n",
      "3  2021-01-06  21.859558  7.094556  2.576561\n",
      "4  2021-01-07  21.504652  7.347479  2.439565\n",
      "5  2021-01-08  23.519035  7.310703  2.727376\n",
      "6  2021-01-11  21.459469  6.890132  2.594939\n",
      "7  2021-01-12  22.117574  7.320986  2.532115\n",
      "8  2021-01-13  23.235621  7.171798  2.740683\n",
      "9  2021-01-14  21.264166  6.498624  2.721217\n"
     ]
    },
    {
     "name": "stderr",
     "output_type": "stream",
     "text": [
      "\u001b[32m[I 2022-05-26 20:29:39,282]\u001b[0m A new study created in memory with name: no-name-901d314d-ddde-4f5b-88b4-ba4446c930dc\u001b[0m\n",
      "\u001b[32m[I 2022-05-26 20:29:39,315]\u001b[0m Trial 0 finished with value: 0.2269280599073709 and parameters: {'ITERATIONS': 4, 'Q': 0.4937329230225447, 'EVA_RATE': 0.1079600899504285, 'ANTS': 3}. Best is trial 0 with value: 0.2269280599073709.\u001b[0m\n",
      "\u001b[32m[I 2022-05-26 20:29:39,368]\u001b[0m Trial 1 finished with value: 0.24073496015550597 and parameters: {'ITERATIONS': 5, 'Q': 0.10320357853935352, 'EVA_RATE': 0.9436805021510537, 'ANTS': 5}. Best is trial 1 with value: 0.24073496015550597.\u001b[0m\n"
     ]
    },
    {
     "name": "stdout",
     "output_type": "stream",
     "text": [
      "          Date    Returns      Risk     Ratio\n",
      "0   2021-01-01  20.812991  6.905090  2.495694\n",
      "1   2021-01-04  20.574005  7.037955  2.414623\n",
      "2   2021-01-05  21.652565  7.046567  2.564733\n",
      "3   2021-01-06  21.859558  7.094556  2.576561\n",
      "4   2021-01-07  21.504652  7.347479  2.439565\n",
      "5   2021-01-08  23.519035  7.310703  2.727376\n",
      "6   2021-01-11  21.459469  6.890132  2.594939\n",
      "7   2021-01-12  22.117574  7.320986  2.532115\n",
      "8   2021-01-13  23.235621  7.171798  2.740683\n",
      "9   2021-01-14  21.264166  6.498624  2.721217\n",
      "10  2021-01-15  23.471173  6.825191  2.914376\n",
      "          Date    Returns      Risk     Ratio\n",
      "0   2021-01-01  20.812991  6.905090  2.495694\n",
      "1   2021-01-04  20.574005  7.037955  2.414623\n",
      "2   2021-01-05  21.652565  7.046567  2.564733\n",
      "3   2021-01-06  21.859558  7.094556  2.576561\n",
      "4   2021-01-07  21.504652  7.347479  2.439565\n",
      "5   2021-01-08  23.519035  7.310703  2.727376\n",
      "6   2021-01-11  21.459469  6.890132  2.594939\n",
      "7   2021-01-12  22.117574  7.320986  2.532115\n",
      "8   2021-01-13  23.235621  7.171798  2.740683\n",
      "9   2021-01-14  21.264166  6.498624  2.721217\n",
      "10  2021-01-15  23.471173  6.825191  2.914376\n",
      "11  2021-01-18  20.594558  7.038733  2.417276"
     ]
    },
    {
     "name": "stderr",
     "output_type": "stream",
     "text": [
      "\u001b[32m[I 2022-05-26 20:29:39,483]\u001b[0m A new study created in memory with name: no-name-5a7c329a-dc0d-417b-b184-2f12b20b6be2\u001b[0m\n",
      "\u001b[32m[I 2022-05-26 20:29:39,549]\u001b[0m Trial 0 finished with value: 0.22416024030620638 and parameters: {'ITERATIONS': 5, 'Q': 0.6483154653489474, 'EVA_RATE': 0.10614605423970902, 'ANTS': 2}. Best is trial 0 with value: 0.22416024030620638.\u001b[0m\n",
      "\u001b[32m[I 2022-05-26 20:29:39,625]\u001b[0m Trial 1 finished with value: 0.24752622529438714 and parameters: {'ITERATIONS': 2, 'Q': 0.5250753133077908, 'EVA_RATE': 0.314393418606036, 'ANTS': 4}. Best is trial 1 with value: 0.24752622529438714.\u001b[0m\n"
     ]
    },
    {
     "name": "stdout",
     "output_type": "stream",
     "text": [
      "\n"
     ]
    },
    {
     "name": "stderr",
     "output_type": "stream",
     "text": [
      "\u001b[32m[I 2022-05-26 20:29:39,811]\u001b[0m A new study created in memory with name: no-name-190701e6-102e-4238-8e56-d29e8482b015\u001b[0m\n",
      "\u001b[32m[I 2022-05-26 20:29:39,873]\u001b[0m Trial 0 finished with value: 0.23369734803296904 and parameters: {'ITERATIONS': 3, 'Q': 0.3150100729298478, 'EVA_RATE': 0.19543315493495578, 'ANTS': 2}. Best is trial 0 with value: 0.23369734803296904.\u001b[0m\n",
      "\u001b[32m[I 2022-05-26 20:29:39,945]\u001b[0m Trial 1 finished with value: 0.2155212635086574 and parameters: {'ITERATIONS': 5, 'Q': 0.7668722427048004, 'EVA_RATE': 0.9103345419351483, 'ANTS': 4}. Best is trial 0 with value: 0.23369734803296904.\u001b[0m\n"
     ]
    },
    {
     "name": "stdout",
     "output_type": "stream",
     "text": [
      "          Date    Returns      Risk     Ratio\n",
      "0   2021-01-01  20.812991  6.905090  2.495694\n",
      "1   2021-01-04  20.574005  7.037955  2.414623\n",
      "2   2021-01-05  21.652565  7.046567  2.564733\n",
      "3   2021-01-06  21.859558  7.094556  2.576561\n",
      "4   2021-01-07  21.504652  7.347479  2.439565\n",
      "5   2021-01-08  23.519035  7.310703  2.727376\n",
      "6   2021-01-11  21.459469  6.890132  2.594939\n",
      "7   2021-01-12  22.117574  7.320986  2.532115\n",
      "8   2021-01-13  23.235621  7.171798  2.740683\n",
      "9   2021-01-14  21.264166  6.498624  2.721217\n",
      "10  2021-01-15  23.471173  6.825191  2.914376\n",
      "11  2021-01-18  20.594558  7.038733  2.417276\n",
      "12  2021-01-19  20.121389  7.335345  2.255025\n"
     ]
    },
    {
     "name": "stderr",
     "output_type": "stream",
     "text": [
      "\u001b[32m[I 2022-05-26 20:29:40,111]\u001b[0m A new study created in memory with name: no-name-8fe6bd2a-5845-43e6-afb9-9eaf0641aa21\u001b[0m\n",
      "\u001b[32m[I 2022-05-26 20:29:40,195]\u001b[0m Trial 0 finished with value: 0.20981828301135916 and parameters: {'ITERATIONS': 2, 'Q': 0.27693931821835177, 'EVA_RATE': 0.9770243633026165, 'ANTS': 4}. Best is trial 0 with value: 0.20981828301135916.\u001b[0m\n",
      "\u001b[32m[I 2022-05-26 20:29:40,257]\u001b[0m Trial 1 finished with value: 0.21688417259608858 and parameters: {'ITERATIONS': 4, 'Q': 0.47743796599579647, 'EVA_RATE': 0.9007418714115698, 'ANTS': 2}. Best is trial 1 with value: 0.21688417259608858.\u001b[0m\n"
     ]
    },
    {
     "name": "stdout",
     "output_type": "stream",
     "text": [
      "          Date    Returns      Risk     Ratio\n",
      "0   2021-01-01  20.812991  6.905090  2.495694\n",
      "1   2021-01-04  20.574005  7.037955  2.414623\n",
      "2   2021-01-05  21.652565  7.046567  2.564733\n",
      "3   2021-01-06  21.859558  7.094556  2.576561\n",
      "4   2021-01-07  21.504652  7.347479  2.439565\n",
      "5   2021-01-08  23.519035  7.310703  2.727376\n",
      "6   2021-01-11  21.459469  6.890132  2.594939\n",
      "7   2021-01-12  22.117574  7.320986  2.532115\n",
      "8   2021-01-13  23.235621  7.171798  2.740683\n",
      "9   2021-01-14  21.264166  6.498624  2.721217\n",
      "10  2021-01-15  23.471173  6.825191  2.914376\n",
      "11  2021-01-18  20.594558  7.038733  2.417276\n",
      "12  2021-01-19  20.121389  7.335345  2.255025\n",
      "13  2021-01-20  18.844046  6.839389  2.231785\n"
     ]
    },
    {
     "name": "stderr",
     "output_type": "stream",
     "text": [
      "\u001b[32m[I 2022-05-26 20:29:40,399]\u001b[0m A new study created in memory with name: no-name-f261c5ae-2233-4d54-9f60-b668123b7479\u001b[0m\n",
      "\u001b[32m[I 2022-05-26 20:29:40,464]\u001b[0m Trial 0 finished with value: 0.23373830243662183 and parameters: {'ITERATIONS': 4, 'Q': 0.18218671505429834, 'EVA_RATE': 0.17314265454436678, 'ANTS': 4}. Best is trial 0 with value: 0.23373830243662183.\u001b[0m\n",
      "\u001b[32m[I 2022-05-26 20:29:40,559]\u001b[0m Trial 1 finished with value: 0.2155202986615262 and parameters: {'ITERATIONS': 3, 'Q': 0.36200569774239655, 'EVA_RATE': 0.1761570930487597, 'ANTS': 2}. Best is trial 0 with value: 0.23373830243662183.\u001b[0m\n"
     ]
    },
    {
     "name": "stdout",
     "output_type": "stream",
     "text": [
      "          Date    Returns      Risk     Ratio\n",
      "0   2021-01-01  20.812991  6.905090  2.495694\n",
      "1   2021-01-04  20.574005  7.037955  2.414623\n",
      "2   2021-01-05  21.652565  7.046567  2.564733\n",
      "3   2021-01-06  21.859558  7.094556  2.576561\n",
      "4   2021-01-07  21.504652  7.347479  2.439565\n",
      "5   2021-01-08  23.519035  7.310703  2.727376\n",
      "6   2021-01-11  21.459469  6.890132  2.594939\n",
      "7   2021-01-12  22.117574  7.320986  2.532115\n",
      "8   2021-01-13  23.235621  7.171798  2.740683\n",
      "9   2021-01-14  21.264166  6.498624  2.721217\n",
      "10  2021-01-15  23.471173  6.825191  2.914376\n",
      "11  2021-01-18  20.594558  7.038733  2.417276\n",
      "12  2021-01-19  20.121389  7.335345  2.255025\n",
      "13  2021-01-20  18.844046  6.839389  2.231785\n",
      "14  2021-01-21  22.316147  7.175958  2.610961\n"
     ]
    },
    {
     "name": "stderr",
     "output_type": "stream",
     "text": [
      "\u001b[32m[I 2022-05-26 20:29:40,725]\u001b[0m A new study created in memory with name: no-name-e4bc3c99-fa32-4b7a-a53b-7244901ccab4\u001b[0m\n",
      "\u001b[32m[I 2022-05-26 20:29:40,805]\u001b[0m Trial 0 finished with value: 0.23645203139075852 and parameters: {'ITERATIONS': 3, 'Q': 0.8561217681445794, 'EVA_RATE': 0.5381608496569017, 'ANTS': 5}. Best is trial 0 with value: 0.23645203139075852.\u001b[0m\n",
      "\u001b[32m[I 2022-05-26 20:29:40,869]\u001b[0m Trial 1 finished with value: 0.2480933887966606 and parameters: {'ITERATIONS': 4, 'Q': 0.49084917301407804, 'EVA_RATE': 0.2683736555377916, 'ANTS': 2}. Best is trial 1 with value: 0.2480933887966606.\u001b[0m\n"
     ]
    },
    {
     "name": "stdout",
     "output_type": "stream",
     "text": [
      "          Date    Returns      Risk     Ratio\n",
      "0   2021-01-01  20.812991  6.905090  2.495694\n",
      "1   2021-01-04  20.574005  7.037955  2.414623\n",
      "2   2021-01-05  21.652565  7.046567  2.564733\n",
      "3   2021-01-06  21.859558  7.094556  2.576561\n",
      "4   2021-01-07  21.504652  7.347479  2.439565\n",
      "5   2021-01-08  23.519035  7.310703  2.727376\n",
      "6   2021-01-11  21.459469  6.890132  2.594939\n",
      "7   2021-01-12  22.117574  7.320986  2.532115\n",
      "8   2021-01-13  23.235621  7.171798  2.740683\n",
      "9   2021-01-14  21.264166  6.498624  2.721217\n",
      "10  2021-01-15  23.471173  6.825191  2.914376\n",
      "11  2021-01-18  20.594558  7.038733  2.417276\n",
      "12  2021-01-19  20.121389  7.335345  2.255025\n",
      "13  2021-01-20  18.844046  6.839389  2.231785\n",
      "14  2021-01-21  22.316147  7.175958  2.610961\n",
      "15  2021-01-22  20.401255  7.399313  2.273354\n"
     ]
    },
    {
     "name": "stderr",
     "output_type": "stream",
     "text": [
      "\u001b[32m[I 2022-05-26 20:29:41,873]\u001b[0m A new study created in memory with name: no-name-d2d77490-aebe-4831-a62e-efcb2e91b54a\u001b[0m\n",
      "\u001b[32m[I 2022-05-26 20:29:41,929]\u001b[0m Trial 0 finished with value: 0.2104081793849205 and parameters: {'ITERATIONS': 2, 'Q': 0.4139424796917138, 'EVA_RATE': 0.2407041321932485, 'ANTS': 5}. Best is trial 0 with value: 0.2104081793849205.\u001b[0m\n",
      "\u001b[32m[I 2022-05-26 20:29:41,993]\u001b[0m Trial 1 finished with value: 0.25276039077585927 and parameters: {'ITERATIONS': 4, 'Q': 0.22462158504664043, 'EVA_RATE': 0.8385472442965471, 'ANTS': 5}. Best is trial 1 with value: 0.25276039077585927.\u001b[0m\n"
     ]
    },
    {
     "name": "stdout",
     "output_type": "stream",
     "text": [
      "          Date    Returns      Risk     Ratio\n",
      "0   2021-01-01  20.812991  6.905090  2.495694\n",
      "1   2021-01-04  20.574005  7.037955  2.414623\n",
      "2   2021-01-05  21.652565  7.046567  2.564733\n",
      "3   2021-01-06  21.859558  7.094556  2.576561\n",
      "4   2021-01-07  21.504652  7.347479  2.439565\n",
      "5   2021-01-08  23.519035  7.310703  2.727376\n",
      "6   2021-01-11  21.459469  6.890132  2.594939\n",
      "7   2021-01-12  22.117574  7.320986  2.532115\n",
      "8   2021-01-13  23.235621  7.171798  2.740683\n",
      "9   2021-01-14  21.264166  6.498624  2.721217\n",
      "10  2021-01-15  23.471173  6.825191  2.914376\n",
      "11  2021-01-18  20.594558  7.038733  2.417276\n",
      "12  2021-01-19  20.121389  7.335345  2.255025\n",
      "13  2021-01-20  18.844046  6.839389  2.231785\n",
      "14  2021-01-21  22.316147  7.175958  2.610961\n",
      "15  2021-01-22  20.401255  7.399313  2.273354\n",
      "16  2021-01-25  20.898824  7.351084  2.355955\n"
     ]
    },
    {
     "name": "stderr",
     "output_type": "stream",
     "text": [
      "\u001b[32m[I 2022-05-26 20:29:42,192]\u001b[0m A new study created in memory with name: no-name-748384dd-53a5-4be5-98ee-566aa92cb1db\u001b[0m\n",
      "\u001b[32m[I 2022-05-26 20:29:42,276]\u001b[0m Trial 0 finished with value: 0.22424238421274356 and parameters: {'ITERATIONS': 5, 'Q': 0.6379643653914006, 'EVA_RATE': 0.6154643163916746, 'ANTS': 3}. Best is trial 0 with value: 0.22424238421274356.\u001b[0m\n",
      "\u001b[32m[I 2022-05-26 20:29:42,343]\u001b[0m Trial 1 finished with value: 0.24323956457370952 and parameters: {'ITERATIONS': 3, 'Q': 0.7773651399818005, 'EVA_RATE': 0.9338626907781462, 'ANTS': 5}. Best is trial 1 with value: 0.24323956457370952.\u001b[0m\n"
     ]
    },
    {
     "name": "stdout",
     "output_type": "stream",
     "text": [
      "          Date    Returns      Risk     Ratio\n",
      "0   2021-01-01  20.812991  6.905090  2.495694\n",
      "1   2021-01-04  20.574005  7.037955  2.414623\n",
      "2   2021-01-05  21.652565  7.046567  2.564733\n",
      "3   2021-01-06  21.859558  7.094556  2.576561\n",
      "4   2021-01-07  21.504652  7.347479  2.439565\n",
      "5   2021-01-08  23.519035  7.310703  2.727376\n",
      "6   2021-01-11  21.459469  6.890132  2.594939\n",
      "7   2021-01-12  22.117574  7.320986  2.532115\n",
      "8   2021-01-13  23.235621  7.171798  2.740683\n",
      "9   2021-01-14  21.264166  6.498624  2.721217\n",
      "10  2021-01-15  23.471173  6.825191  2.914376\n",
      "11  2021-01-18  20.594558  7.038733  2.417276\n",
      "12  2021-01-19  20.121389  7.335345  2.255025\n",
      "13  2021-01-20  18.844046  6.839389  2.231785\n",
      "14  2021-01-21  22.316147  7.175958  2.610961\n",
      "15  2021-01-22  20.401255  7.399313  2.273354\n",
      "16  2021-01-25  20.898824  7.351084  2.355955\n",
      "17  2021-01-27  20.748932  7.333587  2.341137\n"
     ]
    },
    {
     "name": "stderr",
     "output_type": "stream",
     "text": [
      "\u001b[32m[I 2022-05-26 20:29:42,539]\u001b[0m A new study created in memory with name: no-name-207fa0a9-0e4b-4e46-8fde-f9ba26afdd76\u001b[0m\n",
      "\u001b[32m[I 2022-05-26 20:29:42,599]\u001b[0m Trial 0 finished with value: 0.2507486751834223 and parameters: {'ITERATIONS': 3, 'Q': 0.8713607793636401, 'EVA_RATE': 0.3105917488957014, 'ANTS': 3}. Best is trial 0 with value: 0.2507486751834223.\u001b[0m\n",
      "\u001b[32m[I 2022-05-26 20:29:42,650]\u001b[0m Trial 1 finished with value: 0.23992405032664949 and parameters: {'ITERATIONS': 3, 'Q': 0.9441811217980566, 'EVA_RATE': 0.6166532086797545, 'ANTS': 3}. Best is trial 0 with value: 0.2507486751834223.\u001b[0m\n"
     ]
    },
    {
     "name": "stdout",
     "output_type": "stream",
     "text": [
      "          Date    Returns      Risk     Ratio\n",
      "0   2021-01-01  20.812991  6.905090  2.495694\n",
      "1   2021-01-04  20.574005  7.037955  2.414623\n",
      "2   2021-01-05  21.652565  7.046567  2.564733\n",
      "3   2021-01-06  21.859558  7.094556  2.576561\n",
      "4   2021-01-07  21.504652  7.347479  2.439565\n",
      "5   2021-01-08  23.519035  7.310703  2.727376\n",
      "6   2021-01-11  21.459469  6.890132  2.594939\n",
      "7   2021-01-12  22.117574  7.320986  2.532115\n",
      "8   2021-01-13  23.235621  7.171798  2.740683\n",
      "9   2021-01-14  21.264166  6.498624  2.721217\n",
      "10  2021-01-15  23.471173  6.825191  2.914376\n",
      "11  2021-01-18  20.594558  7.038733  2.417276\n",
      "12  2021-01-19  20.121389  7.335345  2.255025\n",
      "13  2021-01-20  18.844046  6.839389  2.231785\n",
      "14  2021-01-21  22.316147  7.175958  2.610961\n",
      "15  2021-01-22  20.401255  7.399313  2.273354\n",
      "16  2021-01-25  20.898824  7.351084  2.355955\n",
      "17  2021-01-27  20.748932  7.333587  2.341137\n",
      "18  2021-01-28  19.647876  7.146323  2.248412\n"
     ]
    },
    {
     "name": "stderr",
     "output_type": "stream",
     "text": [
      "\u001b[32m[I 2022-05-26 20:29:42,861]\u001b[0m A new study created in memory with name: no-name-5e138565-96ec-4753-b517-f2fae5efafa2\u001b[0m\n",
      "\u001b[32m[I 2022-05-26 20:29:42,944]\u001b[0m Trial 0 finished with value: 0.2314714056916781 and parameters: {'ITERATIONS': 5, 'Q': 0.8208702337368828, 'EVA_RATE': 0.43511362061485515, 'ANTS': 2}. Best is trial 0 with value: 0.2314714056916781.\u001b[0m\n",
      "\u001b[32m[I 2022-05-26 20:29:43,045]\u001b[0m Trial 1 finished with value: 0.24244362470489156 and parameters: {'ITERATIONS': 5, 'Q': 0.7607418028323492, 'EVA_RATE': 0.4522755026231291, 'ANTS': 4}. Best is trial 1 with value: 0.24244362470489156.\u001b[0m\n"
     ]
    },
    {
     "name": "stdout",
     "output_type": "stream",
     "text": [
      "          Date    Returns      Risk     Ratio\n",
      "0   2021-01-01  20.812991  6.905090  2.495694\n",
      "1   2021-01-04  20.574005  7.037955  2.414623\n",
      "2   2021-01-05  21.652565  7.046567  2.564733\n",
      "3   2021-01-06  21.859558  7.094556  2.576561\n",
      "4   2021-01-07  21.504652  7.347479  2.439565\n",
      "5   2021-01-08  23.519035  7.310703  2.727376\n",
      "6   2021-01-11  21.459469  6.890132  2.594939\n",
      "7   2021-01-12  22.117574  7.320986  2.532115\n",
      "8   2021-01-13  23.235621  7.171798  2.740683\n",
      "9   2021-01-14  21.264166  6.498624  2.721217\n",
      "10  2021-01-15  23.471173  6.825191  2.914376\n",
      "11  2021-01-18  20.594558  7.038733  2.417276\n",
      "12  2021-01-19  20.121389  7.335345  2.255025\n",
      "13  2021-01-20  18.844046  6.839389  2.231785\n",
      "14  2021-01-21  22.316147  7.175958  2.610961\n",
      "15  2021-01-22  20.401255  7.399313  2.273354\n",
      "16  2021-01-25  20.898824  7.351084  2.355955\n",
      "17  2021-01-27  20.748932  7.333587  2.341137\n",
      "18  2021-01-28  19.647876  7.146323  2.248412\n",
      "19  2021-01-29  21.817733  7.955848  2.292368\n"
     ]
    },
    {
     "name": "stderr",
     "output_type": "stream",
     "text": [
      "\u001b[32m[I 2022-05-26 20:29:43,240]\u001b[0m A new study created in memory with name: no-name-df1e1374-f42a-478f-b5ff-59df4aea0c18\u001b[0m\n",
      "\u001b[32m[I 2022-05-26 20:29:43,308]\u001b[0m Trial 0 finished with value: 0.22507225557794833 and parameters: {'ITERATIONS': 3, 'Q': 0.8945145740392191, 'EVA_RATE': 0.961528219265333, 'ANTS': 3}. Best is trial 0 with value: 0.22507225557794833.\u001b[0m\n",
      "\u001b[32m[I 2022-05-26 20:29:43,382]\u001b[0m Trial 1 finished with value: 0.20982190092475153 and parameters: {'ITERATIONS': 2, 'Q': 0.12724849836683297, 'EVA_RATE': 0.9388106649319523, 'ANTS': 4}. Best is trial 0 with value: 0.22507225557794833.\u001b[0m\n"
     ]
    },
    {
     "name": "stdout",
     "output_type": "stream",
     "text": [
      "          Date    Returns      Risk     Ratio\n",
      "0   2021-01-01  20.812991  6.905090  2.495694\n",
      "1   2021-01-04  20.574005  7.037955  2.414623\n",
      "2   2021-01-05  21.652565  7.046567  2.564733\n",
      "3   2021-01-06  21.859558  7.094556  2.576561\n",
      "4   2021-01-07  21.504652  7.347479  2.439565\n",
      "5   2021-01-08  23.519035  7.310703  2.727376\n",
      "6   2021-01-11  21.459469  6.890132  2.594939\n",
      "7   2021-01-12  22.117574  7.320986  2.532115\n",
      "8   2021-01-13  23.235621  7.171798  2.740683\n",
      "9   2021-01-14  21.264166  6.498624  2.721217\n",
      "10  2021-01-15  23.471173  6.825191  2.914376\n",
      "11  2021-01-18  20.594558  7.038733  2.417276\n",
      "12  2021-01-19  20.121389  7.335345  2.255025\n",
      "13  2021-01-20  18.844046  6.839389  2.231785\n",
      "14  2021-01-21  22.316147  7.175958  2.610961\n",
      "15  2021-01-22  20.401255  7.399313  2.273354\n",
      "16  2021-01-25  20.898824  7.351084  2.355955\n",
      "17  2021-01-27  20.748932  7.333587  2.341137\n",
      "18  2021-01-28  19.647876  7.146323  2.248412\n",
      "19  2021-01-29  21.817733  7.955848  2.292368\n",
      "20  2021-02-01  16.505186  7.505780  1.722031\n"
     ]
    },
    {
     "name": "stderr",
     "output_type": "stream",
     "text": [
      "\u001b[32m[I 2022-05-26 20:29:43,583]\u001b[0m A new study created in memory with name: no-name-9314503b-643c-4742-9d1f-0a4f763809b8\u001b[0m\n",
      "\u001b[32m[I 2022-05-26 20:29:43,677]\u001b[0m Trial 0 finished with value: 0.23342424326299535 and parameters: {'ITERATIONS': 3, 'Q': 0.2619684608716838, 'EVA_RATE': 0.8176092074625593, 'ANTS': 5}. Best is trial 0 with value: 0.23342424326299535.\u001b[0m\n",
      "\u001b[32m[I 2022-05-26 20:29:43,746]\u001b[0m Trial 1 finished with value: 0.23935269366485723 and parameters: {'ITERATIONS': 4, 'Q': 0.469174097810373, 'EVA_RATE': 0.6468387867910859, 'ANTS': 3}. Best is trial 1 with value: 0.23935269366485723.\u001b[0m\n"
     ]
    },
    {
     "name": "stdout",
     "output_type": "stream",
     "text": [
      "          Date    Returns      Risk     Ratio\n",
      "0   2021-01-01  20.812991  6.905090  2.495694\n",
      "1   2021-01-04  20.574005  7.037955  2.414623\n",
      "2   2021-01-05  21.652565  7.046567  2.564733\n",
      "3   2021-01-06  21.859558  7.094556  2.576561\n",
      "4   2021-01-07  21.504652  7.347479  2.439565\n",
      "5   2021-01-08  23.519035  7.310703  2.727376\n",
      "6   2021-01-11  21.459469  6.890132  2.594939\n",
      "7   2021-01-12  22.117574  7.320986  2.532115\n",
      "8   2021-01-13  23.235621  7.171798  2.740683\n",
      "9   2021-01-14  21.264166  6.498624  2.721217\n",
      "10  2021-01-15  23.471173  6.825191  2.914376\n",
      "11  2021-01-18  20.594558  7.038733  2.417276\n",
      "12  2021-01-19  20.121389  7.335345  2.255025\n",
      "13  2021-01-20  18.844046  6.839389  2.231785\n",
      "14  2021-01-21  22.316147  7.175958  2.610961\n",
      "15  2021-01-22  20.401255  7.399313  2.273354\n",
      "16  2021-01-25  20.898824  7.351084  2.355955\n",
      "17  2021-01-27  20.748932  7.333587  2.341137\n",
      "18  2021-01-28  19.647876  7.146323  2.248412\n",
      "19  2021-01-29  21.817733  7.955848  2.292368\n",
      "20  2021-02-01  16.505186  7.505780  1.722031\n",
      "21  2021-02-02  21.673665  8.423610  2.147970\n"
     ]
    },
    {
     "name": "stderr",
     "output_type": "stream",
     "text": [
      "\u001b[32m[I 2022-05-26 20:29:43,968]\u001b[0m A new study created in memory with name: no-name-21922bb0-a538-4ed6-967d-2b581a130f65\u001b[0m\n",
      "\u001b[32m[I 2022-05-26 20:29:44,037]\u001b[0m Trial 0 finished with value: 0.21535536184928294 and parameters: {'ITERATIONS': 3, 'Q': 0.6627211145897942, 'EVA_RATE': 0.9015331408115276, 'ANTS': 3}. Best is trial 0 with value: 0.21535536184928294.\u001b[0m\n",
      "\u001b[32m[I 2022-05-26 20:29:44,128]\u001b[0m Trial 1 finished with value: 0.20974572999311247 and parameters: {'ITERATIONS': 4, 'Q': 0.9799148808584652, 'EVA_RATE': 0.793446146081641, 'ANTS': 5}. Best is trial 0 with value: 0.21535536184928294.\u001b[0m\n"
     ]
    },
    {
     "name": "stdout",
     "output_type": "stream",
     "text": [
      "          Date    Returns      Risk     Ratio\n",
      "0   2021-01-01  20.812991  6.905090  2.495694\n",
      "1   2021-01-04  20.574005  7.037955  2.414623\n",
      "2   2021-01-05  21.652565  7.046567  2.564733\n",
      "3   2021-01-06  21.859558  7.094556  2.576561\n",
      "4   2021-01-07  21.504652  7.347479  2.439565\n",
      "5   2021-01-08  23.519035  7.310703  2.727376\n",
      "6   2021-01-11  21.459469  6.890132  2.594939\n",
      "7   2021-01-12  22.117574  7.320986  2.532115\n",
      "8   2021-01-13  23.235621  7.171798  2.740683\n",
      "9   2021-01-14  21.264166  6.498624  2.721217\n",
      "10  2021-01-15  23.471173  6.825191  2.914376\n",
      "11  2021-01-18  20.594558  7.038733  2.417276\n",
      "12  2021-01-19  20.121389  7.335345  2.255025\n",
      "13  2021-01-20  18.844046  6.839389  2.231785\n",
      "14  2021-01-21  22.316147  7.175958  2.610961\n",
      "15  2021-01-22  20.401255  7.399313  2.273354\n",
      "16  2021-01-25  20.898824  7.351084  2.355955\n",
      "17  2021-01-27  20.748932  7.333587  2.341137\n",
      "18  2021-01-28  19.647876  7.146323  2.248412\n",
      "19  2021-01-29  21.817733  7.955848  2.292368\n",
      "20  2021-02-01  16.505186  7.505780  1.722031\n",
      "21  2021-02-02  21.673665  8.423610  2.147970\n",
      "22  2021-02-03  22.308732  7.995959  2.342275\n"
     ]
    },
    {
     "name": "stderr",
     "output_type": "stream",
     "text": [
      "\u001b[32m[I 2022-05-26 20:29:44,294]\u001b[0m A new study created in memory with name: no-name-b0e17172-c94a-41b6-b57c-b15e64c99136\u001b[0m\n",
      "\u001b[32m[I 2022-05-26 20:29:44,344]\u001b[0m Trial 0 finished with value: 0.2184339521534066 and parameters: {'ITERATIONS': 2, 'Q': 0.6381679171665617, 'EVA_RATE': 0.9674805067196394, 'ANTS': 2}. Best is trial 0 with value: 0.2184339521534066.\u001b[0m\n",
      "\u001b[32m[I 2022-05-26 20:29:44,424]\u001b[0m Trial 1 finished with value: 0.24553447667735817 and parameters: {'ITERATIONS': 5, 'Q': 0.18664389331099057, 'EVA_RATE': 0.27082156027904586, 'ANTS': 3}. Best is trial 1 with value: 0.24553447667735817.\u001b[0m\n"
     ]
    },
    {
     "name": "stdout",
     "output_type": "stream",
     "text": [
      "          Date    Returns      Risk     Ratio\n",
      "0   2021-01-01  20.812991  6.905090  2.495694\n",
      "1   2021-01-04  20.574005  7.037955  2.414623\n",
      "2   2021-01-05  21.652565  7.046567  2.564733\n",
      "3   2021-01-06  21.859558  7.094556  2.576561\n",
      "4   2021-01-07  21.504652  7.347479  2.439565\n",
      "5   2021-01-08  23.519035  7.310703  2.727376\n",
      "6   2021-01-11  21.459469  6.890132  2.594939\n",
      "7   2021-01-12  22.117574  7.320986  2.532115\n",
      "8   2021-01-13  23.235621  7.171798  2.740683\n",
      "9   2021-01-14  21.264166  6.498624  2.721217\n",
      "10  2021-01-15  23.471173  6.825191  2.914376\n",
      "11  2021-01-18  20.594558  7.038733  2.417276\n",
      "12  2021-01-19  20.121389  7.335345  2.255025\n",
      "13  2021-01-20  18.844046  6.839389  2.231785\n",
      "14  2021-01-21  22.316147  7.175958  2.610961\n",
      "15  2021-01-22  20.401255  7.399313  2.273354\n",
      "16  2021-01-25  20.898824  7.351084  2.355955\n",
      "17  2021-01-27  20.748932  7.333587  2.341137\n",
      "18  2021-01-28  19.647876  7.146323  2.248412\n",
      "19  2021-01-29  21.817733  7.955848  2.292368\n",
      "20  2021-02-01  16.505186  7.505780  1.722031\n",
      "21  2021-02-02  21.673665  8.423610  2.147970\n",
      "22  2021-02-03  22.308732  7.995959  2.342275\n",
      "23  2021-02-04  23.365989  8.493777  2.329469\n"
     ]
    },
    {
     "name": "stderr",
     "output_type": "stream",
     "text": [
      "\u001b[32m[I 2022-05-26 20:29:44,618]\u001b[0m A new study created in memory with name: no-name-75afa672-3d81-4d06-86d5-6db7e936ac78\u001b[0m\n",
      "\u001b[32m[I 2022-05-26 20:29:44,709]\u001b[0m Trial 0 finished with value: 0.2450160061217123 and parameters: {'ITERATIONS': 4, 'Q': 0.39551732747299373, 'EVA_RATE': 0.11797252095973698, 'ANTS': 5}. Best is trial 0 with value: 0.2450160061217123.\u001b[0m\n",
      "\u001b[32m[I 2022-05-26 20:29:44,767]\u001b[0m Trial 1 finished with value: 0.22896978709616306 and parameters: {'ITERATIONS': 2, 'Q': 0.27170307504276947, 'EVA_RATE': 0.7310664136425523, 'ANTS': 3}. Best is trial 0 with value: 0.2450160061217123.\u001b[0m\n"
     ]
    },
    {
     "name": "stdout",
     "output_type": "stream",
     "text": [
      "          Date    Returns      Risk     Ratio\n",
      "0   2021-01-01  20.812991  6.905090  2.495694\n",
      "1   2021-01-04  20.574005  7.037955  2.414623\n",
      "2   2021-01-05  21.652565  7.046567  2.564733\n",
      "3   2021-01-06  21.859558  7.094556  2.576561\n",
      "4   2021-01-07  21.504652  7.347479  2.439565\n",
      "5   2021-01-08  23.519035  7.310703  2.727376\n",
      "6   2021-01-11  21.459469  6.890132  2.594939\n",
      "7   2021-01-12  22.117574  7.320986  2.532115\n",
      "8   2021-01-13  23.235621  7.171798  2.740683\n",
      "9   2021-01-14  21.264166  6.498624  2.721217\n",
      "10  2021-01-15  23.471173  6.825191  2.914376\n",
      "11  2021-01-18  20.594558  7.038733  2.417276\n",
      "12  2021-01-19  20.121389  7.335345  2.255025\n",
      "13  2021-01-20  18.844046  6.839389  2.231785\n",
      "14  2021-01-21  22.316147  7.175958  2.610961\n",
      "15  2021-01-22  20.401255  7.399313  2.273354\n",
      "16  2021-01-25  20.898824  7.351084  2.355955\n",
      "17  2021-01-27  20.748932  7.333587  2.341137\n",
      "18  2021-01-28  19.647876  7.146323  2.248412\n",
      "19  2021-01-29  21.817733  7.955848  2.292368\n",
      "20  2021-02-01  16.505186  7.505780  1.722031\n",
      "21  2021-02-02  21.673665  8.423610  2.147970\n",
      "22  2021-02-03  22.308732  7.995959  2.342275\n",
      "23  2021-02-04  23.365989  8.493777  2.329469\n",
      "24  2021-02-05  21.970712  8.894019  2.067762\n"
     ]
    },
    {
     "name": "stderr",
     "output_type": "stream",
     "text": [
      "\u001b[32m[I 2022-05-26 20:29:44,960]\u001b[0m A new study created in memory with name: no-name-306484d8-fb57-4bfc-b3b5-99686b6d347f\u001b[0m\n",
      "\u001b[32m[I 2022-05-26 20:29:45,059]\u001b[0m Trial 0 finished with value: 0.22998555270415322 and parameters: {'ITERATIONS': 5, 'Q': 0.9383949159460783, 'EVA_RATE': 0.19752558467308096, 'ANTS': 4}. Best is trial 0 with value: 0.22998555270415322.\u001b[0m\n",
      "\u001b[32m[I 2022-05-26 20:29:45,127]\u001b[0m Trial 1 finished with value: 0.21712521098327076 and parameters: {'ITERATIONS': 2, 'Q': 0.5821046069501381, 'EVA_RATE': 0.3807457143481159, 'ANTS': 3}. Best is trial 0 with value: 0.22998555270415322.\u001b[0m\n"
     ]
    },
    {
     "name": "stdout",
     "output_type": "stream",
     "text": [
      "          Date    Returns      Risk     Ratio\n",
      "0   2021-01-01  20.812991  6.905090  2.495694\n",
      "1   2021-01-04  20.574005  7.037955  2.414623\n",
      "2   2021-01-05  21.652565  7.046567  2.564733\n",
      "3   2021-01-06  21.859558  7.094556  2.576561\n",
      "4   2021-01-07  21.504652  7.347479  2.439565\n",
      "5   2021-01-08  23.519035  7.310703  2.727376\n",
      "6   2021-01-11  21.459469  6.890132  2.594939\n",
      "7   2021-01-12  22.117574  7.320986  2.532115\n",
      "8   2021-01-13  23.235621  7.171798  2.740683\n",
      "9   2021-01-14  21.264166  6.498624  2.721217\n",
      "10  2021-01-15  23.471173  6.825191  2.914376\n",
      "11  2021-01-18  20.594558  7.038733  2.417276\n",
      "12  2021-01-19  20.121389  7.335345  2.255025\n",
      "13  2021-01-20  18.844046  6.839389  2.231785\n",
      "14  2021-01-21  22.316147  7.175958  2.610961\n",
      "15  2021-01-22  20.401255  7.399313  2.273354\n",
      "16  2021-01-25  20.898824  7.351084  2.355955\n",
      "17  2021-01-27  20.748932  7.333587  2.341137\n",
      "18  2021-01-28  19.647876  7.146323  2.248412\n",
      "19  2021-01-29  21.817733  7.955848  2.292368\n",
      "20  2021-02-01  16.505186  7.505780  1.722031\n",
      "21  2021-02-02  21.673665  8.423610  2.147970\n",
      "22  2021-02-03  22.308732  7.995959  2.342275\n",
      "23  2021-02-04  23.365989  8.493777  2.329469\n",
      "24  2021-02-05  21.970712  8.894019  2.067762\n",
      "25  2021-02-08  21.280588  8.263463  2.142030\n"
     ]
    },
    {
     "name": "stderr",
     "output_type": "stream",
     "text": [
      "\u001b[32m[I 2022-05-26 20:29:45,275]\u001b[0m A new study created in memory with name: no-name-b3f38edc-6e55-4285-a22e-3fdd97296e2a\u001b[0m\n",
      "\u001b[32m[I 2022-05-26 20:29:45,348]\u001b[0m Trial 0 finished with value: 0.2098160108386959 and parameters: {'ITERATIONS': 3, 'Q': 0.9079326535253164, 'EVA_RATE': 0.955778253009037, 'ANTS': 4}. Best is trial 0 with value: 0.2098160108386959.\u001b[0m\n",
      "\u001b[32m[I 2022-05-26 20:29:45,408]\u001b[0m Trial 1 finished with value: 0.23200339917744675 and parameters: {'ITERATIONS': 2, 'Q': 0.6315180719177941, 'EVA_RATE': 0.9909939593288354, 'ANTS': 3}. Best is trial 1 with value: 0.23200339917744675.\u001b[0m\n"
     ]
    },
    {
     "name": "stdout",
     "output_type": "stream",
     "text": [
      "          Date    Returns      Risk     Ratio\n",
      "0   2021-01-01  20.812991  6.905090  2.495694\n",
      "1   2021-01-04  20.574005  7.037955  2.414623\n",
      "2   2021-01-05  21.652565  7.046567  2.564733\n",
      "3   2021-01-06  21.859558  7.094556  2.576561\n",
      "4   2021-01-07  21.504652  7.347479  2.439565\n",
      "5   2021-01-08  23.519035  7.310703  2.727376\n",
      "6   2021-01-11  21.459469  6.890132  2.594939\n",
      "7   2021-01-12  22.117574  7.320986  2.532115\n",
      "8   2021-01-13  23.235621  7.171798  2.740683\n",
      "9   2021-01-14  21.264166  6.498624  2.721217\n",
      "10  2021-01-15  23.471173  6.825191  2.914376\n",
      "11  2021-01-18  20.594558  7.038733  2.417276\n",
      "12  2021-01-19  20.121389  7.335345  2.255025\n",
      "13  2021-01-20  18.844046  6.839389  2.231785\n",
      "14  2021-01-21  22.316147  7.175958  2.610961\n",
      "15  2021-01-22  20.401255  7.399313  2.273354\n",
      "16  2021-01-25  20.898824  7.351084  2.355955\n",
      "17  2021-01-27  20.748932  7.333587  2.341137\n",
      "18  2021-01-28  19.647876  7.146323  2.248412\n",
      "19  2021-01-29  21.817733  7.955848  2.292368\n",
      "20  2021-02-01  16.505186  7.505780  1.722031\n",
      "21  2021-02-02  21.673665  8.423610  2.147970\n",
      "22  2021-02-03  22.308732  7.995959  2.342275\n",
      "23  2021-02-04  23.365989  8.493777  2.329469\n",
      "24  2021-02-05  21.970712  8.894019  2.067762\n",
      "25  2021-02-08  21.280588  8.263463  2.142030\n",
      "26  2021-02-09  18.002246  7.794276  1.850364\n"
     ]
    },
    {
     "name": "stderr",
     "output_type": "stream",
     "text": [
      "\u001b[32m[I 2022-05-26 20:29:45,576]\u001b[0m A new study created in memory with name: no-name-e85610a2-dddb-407a-96ed-18fc59921f9a\u001b[0m\n",
      "\u001b[32m[I 2022-05-26 20:29:45,643]\u001b[0m Trial 0 finished with value: 0.21911630300764287 and parameters: {'ITERATIONS': 3, 'Q': 0.6673599404448712, 'EVA_RATE': 0.32931517505080543, 'ANTS': 5}. Best is trial 0 with value: 0.21911630300764287.\u001b[0m\n",
      "\u001b[32m[I 2022-05-26 20:29:45,702]\u001b[0m Trial 1 finished with value: 0.24139199362187436 and parameters: {'ITERATIONS': 3, 'Q': 0.7155017534231897, 'EVA_RATE': 0.586591745662595, 'ANTS': 3}. Best is trial 1 with value: 0.24139199362187436.\u001b[0m\n"
     ]
    },
    {
     "name": "stdout",
     "output_type": "stream",
     "text": [
      "          Date    Returns      Risk     Ratio\n",
      "0   2021-01-01  20.812991  6.905090  2.495694\n",
      "1   2021-01-04  20.574005  7.037955  2.414623\n",
      "2   2021-01-05  21.652565  7.046567  2.564733\n",
      "3   2021-01-06  21.859558  7.094556  2.576561\n",
      "4   2021-01-07  21.504652  7.347479  2.439565\n",
      "5   2021-01-08  23.519035  7.310703  2.727376\n",
      "6   2021-01-11  21.459469  6.890132  2.594939\n",
      "7   2021-01-12  22.117574  7.320986  2.532115\n",
      "8   2021-01-13  23.235621  7.171798  2.740683\n",
      "9   2021-01-14  21.264166  6.498624  2.721217\n",
      "10  2021-01-15  23.471173  6.825191  2.914376\n",
      "11  2021-01-18  20.594558  7.038733  2.417276\n",
      "12  2021-01-19  20.121389  7.335345  2.255025\n",
      "13  2021-01-20  18.844046  6.839389  2.231785\n",
      "14  2021-01-21  22.316147  7.175958  2.610961\n",
      "15  2021-01-22  20.401255  7.399313  2.273354\n",
      "16  2021-01-25  20.898824  7.351084  2.355955\n",
      "17  2021-01-27  20.748932  7.333587  2.341137\n",
      "18  2021-01-28  19.647876  7.146323  2.248412\n",
      "19  2021-01-29  21.817733  7.955848  2.292368\n",
      "20  2021-02-01  16.505186  7.505780  1.722031\n",
      "21  2021-02-02  21.673665  8.423610  2.147970\n",
      "22  2021-02-03  22.308732  7.995959  2.342275\n",
      "23  2021-02-04  23.365989  8.493777  2.329469\n",
      "24  2021-02-05  21.970712  8.894019  2.067762\n",
      "25  2021-02-08  21.280588  8.263463  2.142030\n",
      "26  2021-02-09  18.002246  7.794276  1.850364\n",
      "27  2021-02-10  20.801149  8.256596  2.085744\n"
     ]
    },
    {
     "name": "stderr",
     "output_type": "stream",
     "text": [
      "\u001b[32m[I 2022-05-26 20:29:45,897]\u001b[0m A new study created in memory with name: no-name-96e8c189-96d5-417b-9d18-c8451347627b\u001b[0m\n",
      "\u001b[32m[I 2022-05-26 20:29:45,976]\u001b[0m Trial 0 finished with value: 0.20971349099722852 and parameters: {'ITERATIONS': 3, 'Q': 0.7714599358446609, 'EVA_RATE': 0.20547528014287714, 'ANTS': 4}. Best is trial 0 with value: 0.20971349099722852.\u001b[0m\n",
      "\u001b[32m[I 2022-05-26 20:29:46,062]\u001b[0m Trial 1 finished with value: 0.20983419974670645 and parameters: {'ITERATIONS': 2, 'Q': 0.7303529866823459, 'EVA_RATE': 0.5806089334995339, 'ANTS': 4}. Best is trial 1 with value: 0.20983419974670645.\u001b[0m\n"
     ]
    },
    {
     "name": "stdout",
     "output_type": "stream",
     "text": [
      "          Date    Returns      Risk     Ratio\n",
      "0   2021-01-01  20.812991  6.905090  2.495694\n",
      "1   2021-01-04  20.574005  7.037955  2.414623\n",
      "2   2021-01-05  21.652565  7.046567  2.564733\n",
      "3   2021-01-06  21.859558  7.094556  2.576561\n",
      "4   2021-01-07  21.504652  7.347479  2.439565\n",
      "5   2021-01-08  23.519035  7.310703  2.727376\n",
      "6   2021-01-11  21.459469  6.890132  2.594939\n",
      "7   2021-01-12  22.117574  7.320986  2.532115\n",
      "8   2021-01-13  23.235621  7.171798  2.740683\n",
      "9   2021-01-14  21.264166  6.498624  2.721217\n",
      "10  2021-01-15  23.471173  6.825191  2.914376\n",
      "11  2021-01-18  20.594558  7.038733  2.417276\n",
      "12  2021-01-19  20.121389  7.335345  2.255025\n",
      "13  2021-01-20  18.844046  6.839389  2.231785\n",
      "14  2021-01-21  22.316147  7.175958  2.610961\n",
      "15  2021-01-22  20.401255  7.399313  2.273354\n",
      "16  2021-01-25  20.898824  7.351084  2.355955\n",
      "17  2021-01-27  20.748932  7.333587  2.341137\n",
      "18  2021-01-28  19.647876  7.146323  2.248412\n",
      "19  2021-01-29  21.817733  7.955848  2.292368\n",
      "20  2021-02-01  16.505186  7.505780  1.722031\n",
      "21  2021-02-02  21.673665  8.423610  2.147970\n",
      "22  2021-02-03  22.308732  7.995959  2.342275\n",
      "23  2021-02-04  23.365989  8.493777  2.329469\n",
      "24  2021-02-05  21.970712  8.894019  2.067762\n",
      "25  2021-02-08  21.280588  8.263463  2.142030\n",
      "26  2021-02-09  18.002246  7.794276  1.850364\n",
      "27  2021-02-10  20.801149  8.256596  2.085744\n",
      "28  2021-02-11  20.233545  8.163078  2.040106\n"
     ]
    },
    {
     "name": "stderr",
     "output_type": "stream",
     "text": [
      "\u001b[32m[I 2022-05-26 20:29:46,257]\u001b[0m A new study created in memory with name: no-name-9042f565-2717-42b8-80b6-8a717256bbb8\u001b[0m\n",
      "\u001b[32m[I 2022-05-26 20:29:46,354]\u001b[0m Trial 0 finished with value: 0.23251750797980852 and parameters: {'ITERATIONS': 3, 'Q': 0.1785475305358899, 'EVA_RATE': 0.9471293277431788, 'ANTS': 4}. Best is trial 0 with value: 0.23251750797980852.\u001b[0m\n"
     ]
    },
    {
     "name": "stdout",
     "output_type": "stream",
     "text": [
      "          Date    Returns      Risk     Ratio\n",
      "0   2021-01-01  20.812991  6.905090  2.495694\n",
      "1   2021-01-04  20.574005  7.037955  2.414623\n",
      "2   2021-01-05  21.652565  7.046567  2.564733\n",
      "3   2021-01-06  21.859558  7.094556  2.576561\n",
      "4   2021-01-07  21.504652  7.347479  2.439565\n",
      "5   2021-01-08  23.519035  7.310703  2.727376\n",
      "6   2021-01-11  21.459469  6.890132  2.594939\n",
      "7   2021-01-12  22.117574  7.320986  2.532115\n",
      "8   2021-01-13  23.235621  7.171798  2.740683\n",
      "9   2021-01-14  21.264166  6.498624  2.721217\n",
      "10  2021-01-15  23.471173  6.825191  2.914376\n",
      "11  2021-01-18  20.594558  7.038733  2.417276\n",
      "12  2021-01-19  20.121389  7.335345  2.255025\n",
      "13  2021-01-20  18.844046  6.839389  2.231785\n",
      "14  2021-01-21  22.316147  7.175958  2.610961\n",
      "15  2021-01-22  20.401255  7.399313  2.273354\n",
      "16  2021-01-25  20.898824  7.351084  2.355955\n",
      "17  2021-01-27  20.748932  7.333587  2.341137\n",
      "18  2021-01-28  19.647876  7.146323  2.248412\n",
      "19  2021-01-29  21.817733  7.955848  2.292368\n",
      "20  2021-02-01  16.505186  7.505780  1.722031\n",
      "21  2021-02-02  21.673665  8.423610  2.147970\n",
      "22  2021-02-03  22.308732  7.995959  2.342275\n",
      "23  2021-02-04  23.365989  8.493777  2.329469\n",
      "24  2021-02-05  21.970712  8.894019  2.067762\n",
      "25  2021-02-08  21.280588  8.263463  2.142030\n",
      "26  2021-02-09  18.002246  7.794276  1.850364\n",
      "27  2021-02-10  20.801149  8.256596  2.085744\n",
      "28  2021-02-11  20.233545  8.163078  2.040106\n",
      "29  2021-02-12  19.783314  8.250614  1.963892\n"
     ]
    },
    {
     "name": "stderr",
     "output_type": "stream",
     "text": [
      "\u001b[32m[I 2022-05-26 20:29:46,448]\u001b[0m Trial 1 finished with value: 0.21552889439467046 and parameters: {'ITERATIONS': 3, 'Q': 0.6374452524414664, 'EVA_RATE': 0.3041274570672341, 'ANTS': 3}. Best is trial 0 with value: 0.23251750797980852.\u001b[0m\n",
      "\u001b[32m[I 2022-05-26 20:29:46,624]\u001b[0m A new study created in memory with name: no-name-159b28e3-7acd-44e0-bafa-f3f0dbabf21c\u001b[0m\n",
      "\u001b[32m[I 2022-05-26 20:29:46,692]\u001b[0m Trial 0 finished with value: 0.22979754008107237 and parameters: {'ITERATIONS': 2, 'Q': 0.29138977578249825, 'EVA_RATE': 0.18219442917709305, 'ANTS': 3}. Best is trial 0 with value: 0.22979754008107237.\u001b[0m\n",
      "\u001b[32m[I 2022-05-26 20:29:46,755]\u001b[0m Trial 1 finished with value: 0.2294169654000901 and parameters: {'ITERATIONS': 2, 'Q': 0.7394522244824095, 'EVA_RATE': 0.16666103322645265, 'ANTS': 2}. Best is trial 0 with value: 0.22979754008107237.\u001b[0m\n"
     ]
    },
    {
     "name": "stdout",
     "output_type": "stream",
     "text": [
      "          Date    Returns      Risk     Ratio\n",
      "0   2021-01-01  20.812991  6.905090  2.495694\n",
      "1   2021-01-04  20.574005  7.037955  2.414623\n",
      "2   2021-01-05  21.652565  7.046567  2.564733\n",
      "3   2021-01-06  21.859558  7.094556  2.576561\n",
      "4   2021-01-07  21.504652  7.347479  2.439565\n",
      "5   2021-01-08  23.519035  7.310703  2.727376\n",
      "6   2021-01-11  21.459469  6.890132  2.594939\n",
      "7   2021-01-12  22.117574  7.320986  2.532115\n",
      "8   2021-01-13  23.235621  7.171798  2.740683\n",
      "9   2021-01-14  21.264166  6.498624  2.721217\n",
      "10  2021-01-15  23.471173  6.825191  2.914376\n",
      "11  2021-01-18  20.594558  7.038733  2.417276\n",
      "12  2021-01-19  20.121389  7.335345  2.255025\n",
      "13  2021-01-20  18.844046  6.839389  2.231785\n",
      "14  2021-01-21  22.316147  7.175958  2.610961\n",
      "15  2021-01-22  20.401255  7.399313  2.273354\n",
      "16  2021-01-25  20.898824  7.351084  2.355955\n",
      "17  2021-01-27  20.748932  7.333587  2.341137\n",
      "18  2021-01-28  19.647876  7.146323  2.248412\n",
      "19  2021-01-29  21.817733  7.955848  2.292368\n",
      "20  2021-02-01  16.505186  7.505780  1.722031\n",
      "21  2021-02-02  21.673665  8.423610  2.147970\n",
      "22  2021-02-03  22.308732  7.995959  2.342275\n",
      "23  2021-02-04  23.365989  8.493777  2.329469\n",
      "24  2021-02-05  21.970712  8.894019  2.067762\n",
      "25  2021-02-08  21.280588  8.263463  2.142030\n",
      "26  2021-02-09  18.002246  7.794276  1.850364\n",
      "27  2021-02-10  20.801149  8.256596  2.085744\n",
      "28  2021-02-11  20.233545  8.163078  2.040106\n",
      "29  2021-02-12  19.783314  8.250614  1.963892\n",
      "30  2021-02-15  21.117919  8.625165  2.033343\n"
     ]
    },
    {
     "name": "stderr",
     "output_type": "stream",
     "text": [
      "\u001b[32m[I 2022-05-26 20:29:46,934]\u001b[0m A new study created in memory with name: no-name-7cee0873-ce8a-4933-b2f3-f874f6f7477f\u001b[0m\n",
      "\u001b[32m[I 2022-05-26 20:29:46,993]\u001b[0m Trial 0 finished with value: 0.22688314456514627 and parameters: {'ITERATIONS': 2, 'Q': 0.5746241371517818, 'EVA_RATE': 0.9036564012118775, 'ANTS': 4}. Best is trial 0 with value: 0.22688314456514627.\u001b[0m\n",
      "\u001b[32m[I 2022-05-26 20:29:47,058]\u001b[0m Trial 1 finished with value: 0.1952144116491358 and parameters: {'ITERATIONS': 2, 'Q': 0.6279865886294863, 'EVA_RATE': 0.16955347099331278, 'ANTS': 5}. Best is trial 0 with value: 0.22688314456514627.\u001b[0m\n"
     ]
    },
    {
     "name": "stdout",
     "output_type": "stream",
     "text": [
      "          Date    Returns      Risk     Ratio\n",
      "0   2021-01-01  20.812991  6.905090  2.495694\n",
      "1   2021-01-04  20.574005  7.037955  2.414623\n",
      "2   2021-01-05  21.652565  7.046567  2.564733\n",
      "3   2021-01-06  21.859558  7.094556  2.576561\n",
      "4   2021-01-07  21.504652  7.347479  2.439565\n",
      "5   2021-01-08  23.519035  7.310703  2.727376\n",
      "6   2021-01-11  21.459469  6.890132  2.594939\n",
      "7   2021-01-12  22.117574  7.320986  2.532115\n",
      "8   2021-01-13  23.235621  7.171798  2.740683\n",
      "9   2021-01-14  21.264166  6.498624  2.721217\n",
      "10  2021-01-15  23.471173  6.825191  2.914376\n",
      "11  2021-01-18  20.594558  7.038733  2.417276\n",
      "12  2021-01-19  20.121389  7.335345  2.255025\n",
      "13  2021-01-20  18.844046  6.839389  2.231785\n",
      "14  2021-01-21  22.316147  7.175958  2.610961\n",
      "15  2021-01-22  20.401255  7.399313  2.273354\n",
      "16  2021-01-25  20.898824  7.351084  2.355955\n",
      "17  2021-01-27  20.748932  7.333587  2.341137\n",
      "18  2021-01-28  19.647876  7.146323  2.248412\n",
      "19  2021-01-29  21.817733  7.955848  2.292368\n",
      "20  2021-02-01  16.505186  7.505780  1.722031\n",
      "21  2021-02-02  21.673665  8.423610  2.147970\n",
      "22  2021-02-03  22.308732  7.995959  2.342275\n",
      "23  2021-02-04  23.365989  8.493777  2.329469\n",
      "24  2021-02-05  21.970712  8.894019  2.067762\n",
      "25  2021-02-08  21.280588  8.263463  2.142030\n",
      "26  2021-02-09  18.002246  7.794276  1.850364\n",
      "27  2021-02-10  20.801149  8.256596  2.085744\n",
      "28  2021-02-11  20.233545  8.163078  2.040106\n",
      "29  2021-02-12  19.783314  8.250614  1.963892\n",
      "30  2021-02-15  21.117919  8.625165  2.033343\n",
      "31  2021-02-16  17.919182  8.095644  1.771222\n"
     ]
    },
    {
     "name": "stderr",
     "output_type": "stream",
     "text": [
      "\u001b[32m[I 2022-05-26 20:29:47,241]\u001b[0m A new study created in memory with name: no-name-6e000ffa-0682-4dd9-991f-acaadb8d045f\u001b[0m\n",
      "\u001b[32m[I 2022-05-26 20:29:47,308]\u001b[0m Trial 0 finished with value: 0.24012076276975433 and parameters: {'ITERATIONS': 5, 'Q': 0.20923045263949347, 'EVA_RATE': 0.24030890052327927, 'ANTS': 2}. Best is trial 0 with value: 0.24012076276975433.\u001b[0m\n",
      "\u001b[32m[I 2022-05-26 20:29:47,402]\u001b[0m Trial 1 finished with value: 0.2166271147765648 and parameters: {'ITERATIONS': 2, 'Q': 0.8154306406938144, 'EVA_RATE': 0.39525732277641124, 'ANTS': 4}. Best is trial 0 with value: 0.24012076276975433.\u001b[0m\n"
     ]
    },
    {
     "name": "stdout",
     "output_type": "stream",
     "text": [
      "          Date    Returns      Risk     Ratio\n",
      "0   2021-01-01  20.812991  6.905090  2.495694\n",
      "1   2021-01-04  20.574005  7.037955  2.414623\n",
      "2   2021-01-05  21.652565  7.046567  2.564733\n",
      "3   2021-01-06  21.859558  7.094556  2.576561\n",
      "4   2021-01-07  21.504652  7.347479  2.439565\n",
      "5   2021-01-08  23.519035  7.310703  2.727376\n",
      "6   2021-01-11  21.459469  6.890132  2.594939\n",
      "7   2021-01-12  22.117574  7.320986  2.532115\n",
      "8   2021-01-13  23.235621  7.171798  2.740683\n",
      "9   2021-01-14  21.264166  6.498624  2.721217\n",
      "10  2021-01-15  23.471173  6.825191  2.914376\n",
      "11  2021-01-18  20.594558  7.038733  2.417276\n",
      "12  2021-01-19  20.121389  7.335345  2.255025\n",
      "13  2021-01-20  18.844046  6.839389  2.231785\n",
      "14  2021-01-21  22.316147  7.175958  2.610961\n",
      "15  2021-01-22  20.401255  7.399313  2.273354\n",
      "16  2021-01-25  20.898824  7.351084  2.355955\n",
      "17  2021-01-27  20.748932  7.333587  2.341137\n",
      "18  2021-01-28  19.647876  7.146323  2.248412\n",
      "19  2021-01-29  21.817733  7.955848  2.292368\n",
      "20  2021-02-01  16.505186  7.505780  1.722031\n",
      "21  2021-02-02  21.673665  8.423610  2.147970\n",
      "22  2021-02-03  22.308732  7.995959  2.342275\n",
      "23  2021-02-04  23.365989  8.493777  2.329469\n",
      "24  2021-02-05  21.970712  8.894019  2.067762\n",
      "25  2021-02-08  21.280588  8.263463  2.142030\n",
      "26  2021-02-09  18.002246  7.794276  1.850364\n",
      "27  2021-02-10  20.801149  8.256596  2.085744\n",
      "28  2021-02-11  20.233545  8.163078  2.040106\n",
      "29  2021-02-12  19.783314  8.250614  1.963892\n",
      "30  2021-02-15  21.117919  8.625165  2.033343\n",
      "31  2021-02-16  17.919182  8.095644  1.771222\n",
      "32  2021-02-17  19.152792  8.145012  1.911942\n"
     ]
    },
    {
     "name": "stderr",
     "output_type": "stream",
     "text": [
      "\u001b[32m[I 2022-05-26 20:29:47,608]\u001b[0m A new study created in memory with name: no-name-7b93c74a-ccb2-4727-8afe-7e0f40626e99\u001b[0m\n",
      "\u001b[32m[I 2022-05-26 20:29:47,675]\u001b[0m Trial 0 finished with value: 0.2474759641590701 and parameters: {'ITERATIONS': 3, 'Q': 0.4502252648875017, 'EVA_RATE': 0.1284247208204318, 'ANTS': 3}. Best is trial 0 with value: 0.2474759641590701.\u001b[0m\n",
      "\u001b[32m[I 2022-05-26 20:29:47,759]\u001b[0m Trial 1 finished with value: 0.22569564043184442 and parameters: {'ITERATIONS': 2, 'Q': 0.34680679237958945, 'EVA_RATE': 0.9630490063644332, 'ANTS': 3}. Best is trial 0 with value: 0.2474759641590701.\u001b[0m\n"
     ]
    },
    {
     "name": "stdout",
     "output_type": "stream",
     "text": [
      "          Date    Returns      Risk     Ratio\n",
      "0   2021-01-01  20.812991  6.905090  2.495694\n",
      "1   2021-01-04  20.574005  7.037955  2.414623\n",
      "2   2021-01-05  21.652565  7.046567  2.564733\n",
      "3   2021-01-06  21.859558  7.094556  2.576561\n",
      "4   2021-01-07  21.504652  7.347479  2.439565\n",
      "5   2021-01-08  23.519035  7.310703  2.727376\n",
      "6   2021-01-11  21.459469  6.890132  2.594939\n",
      "7   2021-01-12  22.117574  7.320986  2.532115\n",
      "8   2021-01-13  23.235621  7.171798  2.740683\n",
      "9   2021-01-14  21.264166  6.498624  2.721217\n",
      "10  2021-01-15  23.471173  6.825191  2.914376\n",
      "11  2021-01-18  20.594558  7.038733  2.417276\n",
      "12  2021-01-19  20.121389  7.335345  2.255025\n",
      "13  2021-01-20  18.844046  6.839389  2.231785\n",
      "14  2021-01-21  22.316147  7.175958  2.610961\n",
      "15  2021-01-22  20.401255  7.399313  2.273354\n",
      "16  2021-01-25  20.898824  7.351084  2.355955\n",
      "17  2021-01-27  20.748932  7.333587  2.341137\n",
      "18  2021-01-28  19.647876  7.146323  2.248412\n",
      "19  2021-01-29  21.817733  7.955848  2.292368\n",
      "20  2021-02-01  16.505186  7.505780  1.722031\n",
      "21  2021-02-02  21.673665  8.423610  2.147970\n",
      "22  2021-02-03  22.308732  7.995959  2.342275\n",
      "23  2021-02-04  23.365989  8.493777  2.329469\n",
      "24  2021-02-05  21.970712  8.894019  2.067762\n",
      "25  2021-02-08  21.280588  8.263463  2.142030\n",
      "26  2021-02-09  18.002246  7.794276  1.850364\n",
      "27  2021-02-10  20.801149  8.256596  2.085744\n",
      "28  2021-02-11  20.233545  8.163078  2.040106\n",
      "29  2021-02-12  19.783314  8.250614  1.963892\n",
      "30  2021-02-15  21.117919  8.625165  2.033343\n",
      "31  2021-02-16  17.919182  8.095644  1.771222\n",
      "32  2021-02-17  19.152792  8.145012  1.911942\n",
      "33  2021-02-18  17.268825  7.994105  1.712365\n"
     ]
    },
    {
     "name": "stderr",
     "output_type": "stream",
     "text": [
      "\u001b[32m[I 2022-05-26 20:29:47,977]\u001b[0m A new study created in memory with name: no-name-cde3f942-619e-40fc-99ef-32f293d41ee3\u001b[0m\n",
      "\u001b[32m[I 2022-05-26 20:29:48,049]\u001b[0m Trial 0 finished with value: 0.2578534260653998 and parameters: {'ITERATIONS': 2, 'Q': 0.5229211306215059, 'EVA_RATE': 0.5891214499703339, 'ANTS': 4}. Best is trial 0 with value: 0.2578534260653998.\u001b[0m\n",
      "\u001b[32m[I 2022-05-26 20:29:48,109]\u001b[0m Trial 1 finished with value: 0.204788395521406 and parameters: {'ITERATIONS': 2, 'Q': 0.9654935417695563, 'EVA_RATE': 0.3421236844361765, 'ANTS': 5}. Best is trial 0 with value: 0.2578534260653998.\u001b[0m\n"
     ]
    },
    {
     "name": "stdout",
     "output_type": "stream",
     "text": [
      "          Date    Returns      Risk     Ratio\n",
      "0   2021-01-01  20.812991  6.905090  2.495694\n",
      "1   2021-01-04  20.574005  7.037955  2.414623\n",
      "2   2021-01-05  21.652565  7.046567  2.564733\n",
      "3   2021-01-06  21.859558  7.094556  2.576561\n",
      "4   2021-01-07  21.504652  7.347479  2.439565\n",
      "5   2021-01-08  23.519035  7.310703  2.727376\n",
      "6   2021-01-11  21.459469  6.890132  2.594939\n",
      "7   2021-01-12  22.117574  7.320986  2.532115\n",
      "8   2021-01-13  23.235621  7.171798  2.740683\n",
      "9   2021-01-14  21.264166  6.498624  2.721217\n",
      "10  2021-01-15  23.471173  6.825191  2.914376\n",
      "11  2021-01-18  20.594558  7.038733  2.417276\n",
      "12  2021-01-19  20.121389  7.335345  2.255025\n",
      "13  2021-01-20  18.844046  6.839389  2.231785\n",
      "14  2021-01-21  22.316147  7.175958  2.610961\n",
      "15  2021-01-22  20.401255  7.399313  2.273354\n",
      "16  2021-01-25  20.898824  7.351084  2.355955\n",
      "17  2021-01-27  20.748932  7.333587  2.341137\n",
      "18  2021-01-28  19.647876  7.146323  2.248412\n",
      "19  2021-01-29  21.817733  7.955848  2.292368\n",
      "20  2021-02-01  16.505186  7.505780  1.722031\n",
      "21  2021-02-02  21.673665  8.423610  2.147970\n",
      "22  2021-02-03  22.308732  7.995959  2.342275\n",
      "23  2021-02-04  23.365989  8.493777  2.329469\n",
      "24  2021-02-05  21.970712  8.894019  2.067762\n",
      "25  2021-02-08  21.280588  8.263463  2.142030\n",
      "26  2021-02-09  18.002246  7.794276  1.850364\n",
      "27  2021-02-10  20.801149  8.256596  2.085744\n",
      "28  2021-02-11  20.233545  8.163078  2.040106\n",
      "29  2021-02-12  19.783314  8.250614  1.963892\n",
      "30  2021-02-15  21.117919  8.625165  2.033343\n",
      "31  2021-02-16  17.919182  8.095644  1.771222\n",
      "32  2021-02-17  19.152792  8.145012  1.911942\n",
      "33  2021-02-18  17.268825  7.994105  1.712365\n",
      "34  2021-02-19  18.200745  8.223902  1.777835\n"
     ]
    },
    {
     "name": "stderr",
     "output_type": "stream",
     "text": [
      "\u001b[32m[I 2022-05-26 20:29:48,325]\u001b[0m A new study created in memory with name: no-name-7cce9372-e8e5-43df-b2dd-3b38a16b9785\u001b[0m\n",
      "\u001b[32m[I 2022-05-26 20:29:48,416]\u001b[0m Trial 0 finished with value: 0.24162986877699247 and parameters: {'ITERATIONS': 4, 'Q': 0.6989256724490863, 'EVA_RATE': 0.7360381560778948, 'ANTS': 2}. Best is trial 0 with value: 0.24162986877699247.\u001b[0m\n",
      "\u001b[32m[I 2022-05-26 20:29:48,480]\u001b[0m Trial 1 finished with value: 0.2096892239119779 and parameters: {'ITERATIONS': 2, 'Q': 0.6255919786727538, 'EVA_RATE': 0.18037594419842723, 'ANTS': 3}. Best is trial 0 with value: 0.24162986877699247.\u001b[0m\n"
     ]
    },
    {
     "name": "stdout",
     "output_type": "stream",
     "text": [
      "          Date    Returns      Risk     Ratio\n",
      "0   2021-01-01  20.812991  6.905090  2.495694\n",
      "1   2021-01-04  20.574005  7.037955  2.414623\n",
      "2   2021-01-05  21.652565  7.046567  2.564733\n",
      "3   2021-01-06  21.859558  7.094556  2.576561\n",
      "4   2021-01-07  21.504652  7.347479  2.439565\n",
      "5   2021-01-08  23.519035  7.310703  2.727376\n",
      "6   2021-01-11  21.459469  6.890132  2.594939\n",
      "7   2021-01-12  22.117574  7.320986  2.532115\n",
      "8   2021-01-13  23.235621  7.171798  2.740683\n",
      "9   2021-01-14  21.264166  6.498624  2.721217\n",
      "10  2021-01-15  23.471173  6.825191  2.914376\n",
      "11  2021-01-18  20.594558  7.038733  2.417276\n",
      "12  2021-01-19  20.121389  7.335345  2.255025\n",
      "13  2021-01-20  18.844046  6.839389  2.231785\n",
      "14  2021-01-21  22.316147  7.175958  2.610961\n",
      "15  2021-01-22  20.401255  7.399313  2.273354\n",
      "16  2021-01-25  20.898824  7.351084  2.355955\n",
      "17  2021-01-27  20.748932  7.333587  2.341137\n",
      "18  2021-01-28  19.647876  7.146323  2.248412\n",
      "19  2021-01-29  21.817733  7.955848  2.292368\n",
      "20  2021-02-01  16.505186  7.505780  1.722031\n",
      "21  2021-02-02  21.673665  8.423610  2.147970\n",
      "22  2021-02-03  22.308732  7.995959  2.342275\n",
      "23  2021-02-04  23.365989  8.493777  2.329469\n",
      "24  2021-02-05  21.970712  8.894019  2.067762\n",
      "25  2021-02-08  21.280588  8.263463  2.142030\n",
      "26  2021-02-09  18.002246  7.794276  1.850364\n",
      "27  2021-02-10  20.801149  8.256596  2.085744\n",
      "28  2021-02-11  20.233545  8.163078  2.040106\n",
      "29  2021-02-12  19.783314  8.250614  1.963892\n",
      "30  2021-02-15  21.117919  8.625165  2.033343\n",
      "31  2021-02-16  17.919182  8.095644  1.771222\n",
      "32  2021-02-17  19.152792  8.145012  1.911942\n",
      "33  2021-02-18  17.268825  7.994105  1.712365\n",
      "34  2021-02-19  18.200745  8.223902  1.777835\n",
      "35  2021-02-22  16.488732  8.054173  1.602738\n"
     ]
    },
    {
     "name": "stderr",
     "output_type": "stream",
     "text": [
      "\u001b[32m[I 2022-05-26 20:29:48,658]\u001b[0m A new study created in memory with name: no-name-a7737adb-0f4e-4dcb-93c2-5aae38e95e39\u001b[0m\n",
      "\u001b[32m[I 2022-05-26 20:29:48,740]\u001b[0m Trial 0 finished with value: 0.2253106836108718 and parameters: {'ITERATIONS': 4, 'Q': 0.9913506590064509, 'EVA_RATE': 0.41414942063151405, 'ANTS': 5}. Best is trial 0 with value: 0.2253106836108718.\u001b[0m\n",
      "\u001b[32m[I 2022-05-26 20:29:48,796]\u001b[0m Trial 1 finished with value: 0.22716360920124085 and parameters: {'ITERATIONS': 2, 'Q': 0.1713382596665315, 'EVA_RATE': 0.8661013888978004, 'ANTS': 2}. Best is trial 1 with value: 0.22716360920124085.\u001b[0m\n"
     ]
    },
    {
     "name": "stdout",
     "output_type": "stream",
     "text": [
      "          Date    Returns      Risk     Ratio\n",
      "0   2021-01-01  20.812991  6.905090  2.495694\n",
      "1   2021-01-04  20.574005  7.037955  2.414623\n",
      "2   2021-01-05  21.652565  7.046567  2.564733\n",
      "3   2021-01-06  21.859558  7.094556  2.576561\n",
      "4   2021-01-07  21.504652  7.347479  2.439565\n",
      "5   2021-01-08  23.519035  7.310703  2.727376\n",
      "6   2021-01-11  21.459469  6.890132  2.594939\n",
      "7   2021-01-12  22.117574  7.320986  2.532115\n",
      "8   2021-01-13  23.235621  7.171798  2.740683\n",
      "9   2021-01-14  21.264166  6.498624  2.721217\n",
      "10  2021-01-15  23.471173  6.825191  2.914376\n",
      "11  2021-01-18  20.594558  7.038733  2.417276\n",
      "12  2021-01-19  20.121389  7.335345  2.255025\n",
      "13  2021-01-20  18.844046  6.839389  2.231785\n",
      "14  2021-01-21  22.316147  7.175958  2.610961\n",
      "15  2021-01-22  20.401255  7.399313  2.273354\n",
      "16  2021-01-25  20.898824  7.351084  2.355955\n",
      "17  2021-01-27  20.748932  7.333587  2.341137\n",
      "18  2021-01-28  19.647876  7.146323  2.248412\n",
      "19  2021-01-29  21.817733  7.955848  2.292368\n",
      "20  2021-02-01  16.505186  7.505780  1.722031\n",
      "21  2021-02-02  21.673665  8.423610  2.147970\n",
      "22  2021-02-03  22.308732  7.995959  2.342275\n",
      "23  2021-02-04  23.365989  8.493777  2.329469\n",
      "24  2021-02-05  21.970712  8.894019  2.067762\n",
      "25  2021-02-08  21.280588  8.263463  2.142030\n",
      "26  2021-02-09  18.002246  7.794276  1.850364\n",
      "27  2021-02-10  20.801149  8.256596  2.085744\n",
      "28  2021-02-11  20.233545  8.163078  2.040106\n",
      "29  2021-02-12  19.783314  8.250614  1.963892\n",
      "30  2021-02-15  21.117919  8.625165  2.033343\n",
      "31  2021-02-16  17.919182  8.095644  1.771222\n",
      "32  2021-02-17  19.152792  8.145012  1.911942\n",
      "33  2021-02-18  17.268825  7.994105  1.712365\n",
      "34  2021-02-19  18.200745  8.223902  1.777835\n",
      "35  2021-02-22  16.488732  8.054173  1.602738\n",
      "36  2021-02-23  12.182410  7.941560  1.083214\n"
     ]
    },
    {
     "name": "stderr",
     "output_type": "stream",
     "text": [
      "\u001b[32m[I 2022-05-26 20:29:48,945]\u001b[0m A new study created in memory with name: no-name-26a757ce-14ed-4857-8cb7-13714f5ead29\u001b[0m\n",
      "\u001b[32m[I 2022-05-26 20:29:49,021]\u001b[0m Trial 0 finished with value: 0.2463225550670058 and parameters: {'ITERATIONS': 5, 'Q': 0.32684341756722646, 'EVA_RATE': 0.18743373279519537, 'ANTS': 2}. Best is trial 0 with value: 0.2463225550670058.\u001b[0m\n",
      "\u001b[32m[I 2022-05-26 20:29:49,086]\u001b[0m Trial 1 finished with value: 0.2093475760965608 and parameters: {'ITERATIONS': 2, 'Q': 0.7470124380088449, 'EVA_RATE': 0.48069310016775735, 'ANTS': 5}. Best is trial 0 with value: 0.2463225550670058.\u001b[0m\n"
     ]
    },
    {
     "name": "stdout",
     "output_type": "stream",
     "text": [
      "          Date    Returns      Risk     Ratio\n",
      "0   2021-01-01  20.812991  6.905090  2.495694\n",
      "1   2021-01-04  20.574005  7.037955  2.414623\n",
      "2   2021-01-05  21.652565  7.046567  2.564733\n",
      "3   2021-01-06  21.859558  7.094556  2.576561\n",
      "4   2021-01-07  21.504652  7.347479  2.439565\n",
      "5   2021-01-08  23.519035  7.310703  2.727376\n",
      "6   2021-01-11  21.459469  6.890132  2.594939\n",
      "7   2021-01-12  22.117574  7.320986  2.532115\n",
      "8   2021-01-13  23.235621  7.171798  2.740683\n",
      "9   2021-01-14  21.264166  6.498624  2.721217\n",
      "10  2021-01-15  23.471173  6.825191  2.914376\n",
      "11  2021-01-18  20.594558  7.038733  2.417276\n",
      "12  2021-01-19  20.121389  7.335345  2.255025\n",
      "13  2021-01-20  18.844046  6.839389  2.231785\n",
      "14  2021-01-21  22.316147  7.175958  2.610961\n",
      "15  2021-01-22  20.401255  7.399313  2.273354\n",
      "16  2021-01-25  20.898824  7.351084  2.355955\n",
      "17  2021-01-27  20.748932  7.333587  2.341137\n",
      "18  2021-01-28  19.647876  7.146323  2.248412\n",
      "19  2021-01-29  21.817733  7.955848  2.292368\n",
      "20  2021-02-01  16.505186  7.505780  1.722031\n",
      "21  2021-02-02  21.673665  8.423610  2.147970\n",
      "22  2021-02-03  22.308732  7.995959  2.342275\n",
      "23  2021-02-04  23.365989  8.493777  2.329469\n",
      "24  2021-02-05  21.970712  8.894019  2.067762\n",
      "25  2021-02-08  21.280588  8.263463  2.142030\n",
      "26  2021-02-09  18.002246  7.794276  1.850364\n",
      "27  2021-02-10  20.801149  8.256596  2.085744\n",
      "28  2021-02-11  20.233545  8.163078  2.040106\n",
      "29  2021-02-12  19.783314  8.250614  1.963892\n",
      "30  2021-02-15  21.117919  8.625165  2.033343\n",
      "31  2021-02-16  17.919182  8.095644  1.771222\n",
      "32  2021-02-17  19.152792  8.145012  1.911942\n",
      "33  2021-02-18  17.268825  7.994105  1.712365\n",
      "34  2021-02-19  18.200745  8.223902  1.777835\n",
      "35  2021-02-22  16.488732  8.054173  1.602738\n",
      "36  2021-02-23  12.182410  7.941560  1.083214\n",
      "37  2021-02-24  12.928879  8.035332  1.163471\n"
     ]
    },
    {
     "name": "stderr",
     "output_type": "stream",
     "text": [
      "\u001b[32m[I 2022-05-26 20:29:49,301]\u001b[0m A new study created in memory with name: no-name-17265d0c-8704-4e19-a32d-f4fdaf5144e8\u001b[0m\n",
      "\u001b[32m[I 2022-05-26 20:29:49,386]\u001b[0m Trial 0 finished with value: 0.23122686442962884 and parameters: {'ITERATIONS': 4, 'Q': 0.9656383486992998, 'EVA_RATE': 0.46237423212379547, 'ANTS': 2}. Best is trial 0 with value: 0.23122686442962884.\u001b[0m\n",
      "\u001b[32m[I 2022-05-26 20:29:49,467]\u001b[0m Trial 1 finished with value: 0.220233342177176 and parameters: {'ITERATIONS': 3, 'Q': 0.1679162040543371, 'EVA_RATE': 0.22261090435155434, 'ANTS': 5}. Best is trial 0 with value: 0.23122686442962884.\u001b[0m\n"
     ]
    },
    {
     "name": "stdout",
     "output_type": "stream",
     "text": [
      "          Date    Returns      Risk     Ratio\n",
      "0   2021-01-01  20.812991  6.905090  2.495694\n",
      "1   2021-01-04  20.574005  7.037955  2.414623\n",
      "2   2021-01-05  21.652565  7.046567  2.564733\n",
      "3   2021-01-06  21.859558  7.094556  2.576561\n",
      "4   2021-01-07  21.504652  7.347479  2.439565\n",
      "5   2021-01-08  23.519035  7.310703  2.727376\n",
      "6   2021-01-11  21.459469  6.890132  2.594939\n",
      "7   2021-01-12  22.117574  7.320986  2.532115\n",
      "8   2021-01-13  23.235621  7.171798  2.740683\n",
      "9   2021-01-14  21.264166  6.498624  2.721217\n",
      "10  2021-01-15  23.471173  6.825191  2.914376\n",
      "11  2021-01-18  20.594558  7.038733  2.417276\n",
      "12  2021-01-19  20.121389  7.335345  2.255025\n",
      "13  2021-01-20  18.844046  6.839389  2.231785\n",
      "14  2021-01-21  22.316147  7.175958  2.610961\n",
      "15  2021-01-22  20.401255  7.399313  2.273354\n",
      "16  2021-01-25  20.898824  7.351084  2.355955\n",
      "17  2021-01-27  20.748932  7.333587  2.341137\n",
      "18  2021-01-28  19.647876  7.146323  2.248412\n",
      "19  2021-01-29  21.817733  7.955848  2.292368\n",
      "20  2021-02-01  16.505186  7.505780  1.722031\n",
      "21  2021-02-02  21.673665  8.423610  2.147970\n",
      "22  2021-02-03  22.308732  7.995959  2.342275\n",
      "23  2021-02-04  23.365989  8.493777  2.329469\n",
      "24  2021-02-05  21.970712  8.894019  2.067762\n",
      "25  2021-02-08  21.280588  8.263463  2.142030\n",
      "26  2021-02-09  18.002246  7.794276  1.850364\n",
      "27  2021-02-10  20.801149  8.256596  2.085744\n",
      "28  2021-02-11  20.233545  8.163078  2.040106\n",
      "29  2021-02-12  19.783314  8.250614  1.963892\n",
      "30  2021-02-15  21.117919  8.625165  2.033343\n",
      "31  2021-02-16  17.919182  8.095644  1.771222\n",
      "32  2021-02-17  19.152792  8.145012  1.911942\n",
      "33  2021-02-18  17.268825  7.994105  1.712365\n",
      "34  2021-02-19  18.200745  8.223902  1.777835\n",
      "35  2021-02-22  16.488732  8.054173  1.602738\n",
      "36  2021-02-23  12.182410  7.941560  1.083214\n",
      "37  2021-02-24  12.928879  8.035332  1.163471\n",
      "38  2021-02-25  15.789149  8.684478  1.405859\n"
     ]
    },
    {
     "name": "stderr",
     "output_type": "stream",
     "text": [
      "\u001b[32m[I 2022-05-26 20:29:49,665]\u001b[0m A new study created in memory with name: no-name-0aa13241-c1e1-4e8e-a894-a35ad1b3d3a5\u001b[0m\n",
      "\u001b[32m[I 2022-05-26 20:29:49,753]\u001b[0m Trial 0 finished with value: 0.22980496214280316 and parameters: {'ITERATIONS': 5, 'Q': 0.5136224684602434, 'EVA_RATE': 0.326584536076724, 'ANTS': 4}. Best is trial 0 with value: 0.22980496214280316.\u001b[0m\n",
      "\u001b[32m[I 2022-05-26 20:29:49,815]\u001b[0m Trial 1 finished with value: 0.23885360052839713 and parameters: {'ITERATIONS': 3, 'Q': 0.8315547570002668, 'EVA_RATE': 0.6083692712087296, 'ANTS': 2}. Best is trial 1 with value: 0.23885360052839713.\u001b[0m\n"
     ]
    },
    {
     "name": "stdout",
     "output_type": "stream",
     "text": [
      "          Date    Returns      Risk     Ratio\n",
      "0   2021-01-01  20.812991  6.905090  2.495694\n",
      "1   2021-01-04  20.574005  7.037955  2.414623\n",
      "2   2021-01-05  21.652565  7.046567  2.564733\n",
      "3   2021-01-06  21.859558  7.094556  2.576561\n",
      "4   2021-01-07  21.504652  7.347479  2.439565\n",
      "5   2021-01-08  23.519035  7.310703  2.727376\n",
      "6   2021-01-11  21.459469  6.890132  2.594939\n",
      "7   2021-01-12  22.117574  7.320986  2.532115\n",
      "8   2021-01-13  23.235621  7.171798  2.740683\n",
      "9   2021-01-14  21.264166  6.498624  2.721217\n",
      "10  2021-01-15  23.471173  6.825191  2.914376\n",
      "11  2021-01-18  20.594558  7.038733  2.417276\n",
      "12  2021-01-19  20.121389  7.335345  2.255025\n",
      "13  2021-01-20  18.844046  6.839389  2.231785\n",
      "14  2021-01-21  22.316147  7.175958  2.610961\n",
      "15  2021-01-22  20.401255  7.399313  2.273354\n",
      "16  2021-01-25  20.898824  7.351084  2.355955\n",
      "17  2021-01-27  20.748932  7.333587  2.341137\n",
      "18  2021-01-28  19.647876  7.146323  2.248412\n",
      "19  2021-01-29  21.817733  7.955848  2.292368\n",
      "20  2021-02-01  16.505186  7.505780  1.722031\n",
      "21  2021-02-02  21.673665  8.423610  2.147970\n",
      "22  2021-02-03  22.308732  7.995959  2.342275\n",
      "23  2021-02-04  23.365989  8.493777  2.329469\n",
      "24  2021-02-05  21.970712  8.894019  2.067762\n",
      "25  2021-02-08  21.280588  8.263463  2.142030\n",
      "26  2021-02-09  18.002246  7.794276  1.850364\n",
      "27  2021-02-10  20.801149  8.256596  2.085744\n",
      "28  2021-02-11  20.233545  8.163078  2.040106\n",
      "29  2021-02-12  19.783314  8.250614  1.963892\n",
      "30  2021-02-15  21.117919  8.625165  2.033343\n",
      "31  2021-02-16  17.919182  8.095644  1.771222\n",
      "32  2021-02-17  19.152792  8.145012  1.911942\n",
      "33  2021-02-18  17.268825  7.994105  1.712365\n",
      "34  2021-02-19  18.200745  8.223902  1.777835\n",
      "35  2021-02-22  16.488732  8.054173  1.602738\n",
      "36  2021-02-23  12.182410  7.941560  1.083214\n",
      "37  2021-02-24  12.928879  8.035332  1.163471\n",
      "38  2021-02-25  15.789149  8.684478  1.405859\n",
      "39  2021-02-26  14.134825  7.921006  1.332511\n"
     ]
    },
    {
     "name": "stderr",
     "output_type": "stream",
     "text": [
      "\u001b[32m[I 2022-05-26 20:29:49,971]\u001b[0m A new study created in memory with name: no-name-0dbf8d61-1d51-4d8e-b623-91c0be6219f5\u001b[0m\n",
      "\u001b[32m[I 2022-05-26 20:29:50,040]\u001b[0m Trial 0 finished with value: 0.21702947524876667 and parameters: {'ITERATIONS': 4, 'Q': 0.9104822187971263, 'EVA_RATE': 0.6267468331878929, 'ANTS': 4}. Best is trial 0 with value: 0.21702947524876667.\u001b[0m\n",
      "\u001b[32m[I 2022-05-26 20:29:50,124]\u001b[0m Trial 1 finished with value: 0.2274479188591236 and parameters: {'ITERATIONS': 5, 'Q': 0.7374009141359489, 'EVA_RATE': 0.9615217126813599, 'ANTS': 5}. Best is trial 1 with value: 0.2274479188591236.\u001b[0m\n"
     ]
    },
    {
     "name": "stdout",
     "output_type": "stream",
     "text": [
      "          Date    Returns      Risk     Ratio\n",
      "0   2021-01-01  20.812991  6.905090  2.495694\n",
      "1   2021-01-04  20.574005  7.037955  2.414623\n",
      "2   2021-01-05  21.652565  7.046567  2.564733\n",
      "3   2021-01-06  21.859558  7.094556  2.576561\n",
      "4   2021-01-07  21.504652  7.347479  2.439565\n",
      "5   2021-01-08  23.519035  7.310703  2.727376\n",
      "6   2021-01-11  21.459469  6.890132  2.594939\n",
      "7   2021-01-12  22.117574  7.320986  2.532115\n",
      "8   2021-01-13  23.235621  7.171798  2.740683\n",
      "9   2021-01-14  21.264166  6.498624  2.721217\n",
      "10  2021-01-15  23.471173  6.825191  2.914376\n",
      "11  2021-01-18  20.594558  7.038733  2.417276\n",
      "12  2021-01-19  20.121389  7.335345  2.255025\n",
      "13  2021-01-20  18.844046  6.839389  2.231785\n",
      "14  2021-01-21  22.316147  7.175958  2.610961\n",
      "15  2021-01-22  20.401255  7.399313  2.273354\n",
      "16  2021-01-25  20.898824  7.351084  2.355955\n",
      "17  2021-01-27  20.748932  7.333587  2.341137\n",
      "18  2021-01-28  19.647876  7.146323  2.248412\n",
      "19  2021-01-29  21.817733  7.955848  2.292368\n",
      "20  2021-02-01  16.505186  7.505780  1.722031\n",
      "21  2021-02-02  21.673665  8.423610  2.147970\n",
      "22  2021-02-03  22.308732  7.995959  2.342275\n",
      "23  2021-02-04  23.365989  8.493777  2.329469\n",
      "24  2021-02-05  21.970712  8.894019  2.067762\n",
      "25  2021-02-08  21.280588  8.263463  2.142030\n",
      "26  2021-02-09  18.002246  7.794276  1.850364\n",
      "27  2021-02-10  20.801149  8.256596  2.085744\n",
      "28  2021-02-11  20.233545  8.163078  2.040106\n",
      "29  2021-02-12  19.783314  8.250614  1.963892\n",
      "30  2021-02-15  21.117919  8.625165  2.033343\n",
      "31  2021-02-16  17.919182  8.095644  1.771222\n",
      "32  2021-02-17  19.152792  8.145012  1.911942\n",
      "33  2021-02-18  17.268825  7.994105  1.712365\n",
      "34  2021-02-19  18.200745  8.223902  1.777835\n",
      "35  2021-02-22  16.488732  8.054173  1.602738\n",
      "36  2021-02-23  12.182410  7.941560  1.083214\n",
      "37  2021-02-24  12.928879  8.035332  1.163471\n",
      "38  2021-02-25  15.789149  8.684478  1.405859\n",
      "39  2021-02-26  14.134825  7.921006  1.332511\n",
      "40  2021-03-01  13.398105  8.880362  1.105597\n"
     ]
    },
    {
     "name": "stderr",
     "output_type": "stream",
     "text": [
      "\u001b[32m[I 2022-05-26 20:29:50,365]\u001b[0m A new study created in memory with name: no-name-8d954697-e49a-477b-ab69-4b6e40d8e338\u001b[0m\n",
      "\u001b[32m[I 2022-05-26 20:29:50,440]\u001b[0m Trial 0 finished with value: 0.2086455710596485 and parameters: {'ITERATIONS': 4, 'Q': 0.7020401833064345, 'EVA_RATE': 0.42274983464794114, 'ANTS': 5}. Best is trial 0 with value: 0.2086455710596485.\u001b[0m\n",
      "\u001b[32m[I 2022-05-26 20:29:50,507]\u001b[0m Trial 1 finished with value: 0.2427203455725464 and parameters: {'ITERATIONS': 4, 'Q': 0.4580677033704711, 'EVA_RATE': 0.5344770779547624, 'ANTS': 5}. Best is trial 1 with value: 0.2427203455725464.\u001b[0m\n"
     ]
    },
    {
     "name": "stdout",
     "output_type": "stream",
     "text": [
      "          Date    Returns      Risk     Ratio\n",
      "0   2021-01-01  20.812991  6.905090  2.495694\n",
      "1   2021-01-04  20.574005  7.037955  2.414623\n",
      "2   2021-01-05  21.652565  7.046567  2.564733\n",
      "3   2021-01-06  21.859558  7.094556  2.576561\n",
      "4   2021-01-07  21.504652  7.347479  2.439565\n",
      "5   2021-01-08  23.519035  7.310703  2.727376\n",
      "6   2021-01-11  21.459469  6.890132  2.594939\n",
      "7   2021-01-12  22.117574  7.320986  2.532115\n",
      "8   2021-01-13  23.235621  7.171798  2.740683\n",
      "9   2021-01-14  21.264166  6.498624  2.721217\n",
      "10  2021-01-15  23.471173  6.825191  2.914376\n",
      "11  2021-01-18  20.594558  7.038733  2.417276\n",
      "12  2021-01-19  20.121389  7.335345  2.255025\n",
      "13  2021-01-20  18.844046  6.839389  2.231785\n",
      "14  2021-01-21  22.316147  7.175958  2.610961\n",
      "15  2021-01-22  20.401255  7.399313  2.273354\n",
      "16  2021-01-25  20.898824  7.351084  2.355955\n",
      "17  2021-01-27  20.748932  7.333587  2.341137\n",
      "18  2021-01-28  19.647876  7.146323  2.248412\n",
      "19  2021-01-29  21.817733  7.955848  2.292368\n",
      "20  2021-02-01  16.505186  7.505780  1.722031\n",
      "21  2021-02-02  21.673665  8.423610  2.147970\n",
      "22  2021-02-03  22.308732  7.995959  2.342275\n",
      "23  2021-02-04  23.365989  8.493777  2.329469\n",
      "24  2021-02-05  21.970712  8.894019  2.067762\n",
      "25  2021-02-08  21.280588  8.263463  2.142030\n",
      "26  2021-02-09  18.002246  7.794276  1.850364\n",
      "27  2021-02-10  20.801149  8.256596  2.085744\n",
      "28  2021-02-11  20.233545  8.163078  2.040106\n",
      "29  2021-02-12  19.783314  8.250614  1.963892\n",
      "30  2021-02-15  21.117919  8.625165  2.033343\n",
      "31  2021-02-16  17.919182  8.095644  1.771222\n",
      "32  2021-02-17  19.152792  8.145012  1.911942\n",
      "33  2021-02-18  17.268825  7.994105  1.712365\n",
      "34  2021-02-19  18.200745  8.223902  1.777835\n",
      "35  2021-02-22  16.488732  8.054173  1.602738\n",
      "36  2021-02-23  12.182410  7.941560  1.083214\n",
      "37  2021-02-24  12.928879  8.035332  1.163471\n",
      "38  2021-02-25  15.789149  8.684478  1.405859\n",
      "39  2021-02-26  14.134825  7.921006  1.332511\n",
      "40  2021-03-01  13.398105  8.880362  1.105597\n",
      "41  2021-03-02  12.784150  8.852833  1.039684\n"
     ]
    },
    {
     "name": "stderr",
     "output_type": "stream",
     "text": [
      "\u001b[32m[I 2022-05-26 20:29:50,803]\u001b[0m A new study created in memory with name: no-name-405bbca2-bc26-483f-863e-671b6326f091\u001b[0m\n",
      "\u001b[32m[I 2022-05-26 20:29:50,874]\u001b[0m Trial 0 finished with value: 0.25303382483745807 and parameters: {'ITERATIONS': 4, 'Q': 0.724028684520048, 'EVA_RATE': 0.7255055548571681, 'ANTS': 3}. Best is trial 0 with value: 0.25303382483745807.\u001b[0m\n",
      "\u001b[32m[I 2022-05-26 20:29:50,955]\u001b[0m Trial 1 finished with value: 0.24615091080970677 and parameters: {'ITERATIONS': 4, 'Q': 0.9279242812187091, 'EVA_RATE': 0.2478251676274768, 'ANTS': 3}. Best is trial 0 with value: 0.25303382483745807.\u001b[0m\n"
     ]
    },
    {
     "name": "stdout",
     "output_type": "stream",
     "text": [
      "          Date    Returns      Risk     Ratio\n",
      "0   2021-01-01  20.812991  6.905090  2.495694\n",
      "1   2021-01-04  20.574005  7.037955  2.414623\n",
      "2   2021-01-05  21.652565  7.046567  2.564733\n",
      "3   2021-01-06  21.859558  7.094556  2.576561\n",
      "4   2021-01-07  21.504652  7.347479  2.439565\n",
      "5   2021-01-08  23.519035  7.310703  2.727376\n",
      "6   2021-01-11  21.459469  6.890132  2.594939\n",
      "7   2021-01-12  22.117574  7.320986  2.532115\n",
      "8   2021-01-13  23.235621  7.171798  2.740683\n",
      "9   2021-01-14  21.264166  6.498624  2.721217\n",
      "10  2021-01-15  23.471173  6.825191  2.914376\n",
      "11  2021-01-18  20.594558  7.038733  2.417276\n",
      "12  2021-01-19  20.121389  7.335345  2.255025\n",
      "13  2021-01-20  18.844046  6.839389  2.231785\n",
      "14  2021-01-21  22.316147  7.175958  2.610961\n",
      "15  2021-01-22  20.401255  7.399313  2.273354\n",
      "16  2021-01-25  20.898824  7.351084  2.355955\n",
      "17  2021-01-27  20.748932  7.333587  2.341137\n",
      "18  2021-01-28  19.647876  7.146323  2.248412\n",
      "19  2021-01-29  21.817733  7.955848  2.292368\n",
      "20  2021-02-01  16.505186  7.505780  1.722031\n",
      "21  2021-02-02  21.673665  8.423610  2.147970\n",
      "22  2021-02-03  22.308732  7.995959  2.342275\n",
      "23  2021-02-04  23.365989  8.493777  2.329469\n",
      "24  2021-02-05  21.970712  8.894019  2.067762\n",
      "25  2021-02-08  21.280588  8.263463  2.142030\n",
      "26  2021-02-09  18.002246  7.794276  1.850364\n",
      "27  2021-02-10  20.801149  8.256596  2.085744\n",
      "28  2021-02-11  20.233545  8.163078  2.040106\n",
      "29  2021-02-12  19.783314  8.250614  1.963892\n",
      "30  2021-02-15  21.117919  8.625165  2.033343\n",
      "31  2021-02-16  17.919182  8.095644  1.771222\n",
      "32  2021-02-17  19.152792  8.145012  1.911942\n",
      "33  2021-02-18  17.268825  7.994105  1.712365\n",
      "34  2021-02-19  18.200745  8.223902  1.777835\n",
      "35  2021-02-22  16.488732  8.054173  1.602738\n",
      "36  2021-02-23  12.182410  7.941560  1.083214\n",
      "37  2021-02-24  12.928879  8.035332  1.163471\n",
      "38  2021-02-25  15.789149  8.684478  1.405859\n",
      "39  2021-02-26  14.134825  7.921006  1.332511\n",
      "40  2021-03-01  13.398105  8.880362  1.105597\n",
      "41  2021-03-02  12.784150  8.852833  1.039684\n",
      "42  2021-03-03  13.685961  9.341593  1.081824\n"
     ]
    },
    {
     "name": "stderr",
     "output_type": "stream",
     "text": [
      "\u001b[32m[I 2022-05-26 20:29:51,215]\u001b[0m A new study created in memory with name: no-name-9e5f2663-6458-46bf-ae6d-573bdfeabdc7\u001b[0m\n",
      "\u001b[32m[I 2022-05-26 20:29:51,307]\u001b[0m Trial 0 finished with value: 0.23316245823575185 and parameters: {'ITERATIONS': 3, 'Q': 0.35173911300277716, 'EVA_RATE': 0.13678041327543322, 'ANTS': 4}. Best is trial 0 with value: 0.23316245823575185.\u001b[0m\n"
     ]
    },
    {
     "name": "stdout",
     "output_type": "stream",
     "text": [
      "          Date    Returns      Risk     Ratio\n",
      "0   2021-01-01  20.812991  6.905090  2.495694\n",
      "1   2021-01-04  20.574005  7.037955  2.414623\n",
      "2   2021-01-05  21.652565  7.046567  2.564733\n",
      "3   2021-01-06  21.859558  7.094556  2.576561\n",
      "4   2021-01-07  21.504652  7.347479  2.439565\n",
      "5   2021-01-08  23.519035  7.310703  2.727376\n",
      "6   2021-01-11  21.459469  6.890132  2.594939\n",
      "7   2021-01-12  22.117574  7.320986  2.532115\n",
      "8   2021-01-13  23.235621  7.171798  2.740683\n",
      "9   2021-01-14  21.264166  6.498624  2.721217\n",
      "10  2021-01-15  23.471173  6.825191  2.914376\n",
      "11  2021-01-18  20.594558  7.038733  2.417276\n",
      "12  2021-01-19  20.121389  7.335345  2.255025\n",
      "13  2021-01-20  18.844046  6.839389  2.231785\n",
      "14  2021-01-21  22.316147  7.175958  2.610961\n",
      "15  2021-01-22  20.401255  7.399313  2.273354\n",
      "16  2021-01-25  20.898824  7.351084  2.355955\n",
      "17  2021-01-27  20.748932  7.333587  2.341137\n",
      "18  2021-01-28  19.647876  7.146323  2.248412\n",
      "19  2021-01-29  21.817733  7.955848  2.292368\n",
      "20  2021-02-01  16.505186  7.505780  1.722031\n",
      "21  2021-02-02  21.673665  8.423610  2.147970\n",
      "22  2021-02-03  22.308732  7.995959  2.342275\n",
      "23  2021-02-04  23.365989  8.493777  2.329469\n",
      "24  2021-02-05  21.970712  8.894019  2.067762\n",
      "25  2021-02-08  21.280588  8.263463  2.142030\n",
      "26  2021-02-09  18.002246  7.794276  1.850364\n",
      "27  2021-02-10  20.801149  8.256596  2.085744\n",
      "28  2021-02-11  20.233545  8.163078  2.040106\n",
      "29  2021-02-12  19.783314  8.250614  1.963892\n",
      "30  2021-02-15  21.117919  8.625165  2.033343\n",
      "31  2021-02-16  17.919182  8.095644  1.771222\n",
      "32  2021-02-17  19.152792  8.145012  1.911942\n",
      "33  2021-02-18  17.268825  7.994105  1.712365\n",
      "34  2021-02-19  18.200745  8.223902  1.777835\n",
      "35  2021-02-22  16.488732  8.054173  1.602738\n",
      "36  2021-02-23  12.182410  7.941560  1.083214\n",
      "37  2021-02-24  12.928879  8.035332  1.163471\n",
      "38  2021-02-25  15.789149  8.684478  1.405859\n",
      "39  2021-02-26  14.134825  7.921006  1.332511\n",
      "40  2021-03-01  13.398105  8.880362  1.105597\n",
      "41  2021-03-02  12.784150  8.852833  1.039684\n",
      "42  2021-03-03  13.685961  9.341593  1.081824\n",
      "43  2021-03-04  15.333520  8.912299  1.318798\n"
     ]
    },
    {
     "name": "stderr",
     "output_type": "stream",
     "text": [
      "\u001b[32m[I 2022-05-26 20:29:51,432]\u001b[0m Trial 1 finished with value: 0.23625410190514695 and parameters: {'ITERATIONS': 5, 'Q': 0.21082925752206721, 'EVA_RATE': 0.1069154189175439, 'ANTS': 5}. Best is trial 1 with value: 0.23625410190514695.\u001b[0m\n",
      "\u001b[32m[I 2022-05-26 20:29:51,646]\u001b[0m A new study created in memory with name: no-name-4c7ae261-6c49-4612-b9d5-f30e59546f38\u001b[0m\n",
      "\u001b[32m[I 2022-05-26 20:29:51,717]\u001b[0m Trial 0 finished with value: 0.24653193585113767 and parameters: {'ITERATIONS': 3, 'Q': 0.513409538503557, 'EVA_RATE': 0.4311679369184138, 'ANTS': 4}. Best is trial 0 with value: 0.24653193585113767.\u001b[0m\n",
      "\u001b[32m[I 2022-05-26 20:29:51,776]\u001b[0m Trial 1 finished with value: 0.2182413208595106 and parameters: {'ITERATIONS': 4, 'Q': 0.5974607340762582, 'EVA_RATE': 0.5313519440927633, 'ANTS': 2}. Best is trial 0 with value: 0.24653193585113767.\u001b[0m\n"
     ]
    },
    {
     "name": "stdout",
     "output_type": "stream",
     "text": [
      "          Date    Returns      Risk     Ratio\n",
      "0   2021-01-01  20.812991  6.905090  2.495694\n",
      "1   2021-01-04  20.574005  7.037955  2.414623\n",
      "2   2021-01-05  21.652565  7.046567  2.564733\n",
      "3   2021-01-06  21.859558  7.094556  2.576561\n",
      "4   2021-01-07  21.504652  7.347479  2.439565\n",
      "5   2021-01-08  23.519035  7.310703  2.727376\n",
      "6   2021-01-11  21.459469  6.890132  2.594939\n",
      "7   2021-01-12  22.117574  7.320986  2.532115\n",
      "8   2021-01-13  23.235621  7.171798  2.740683\n",
      "9   2021-01-14  21.264166  6.498624  2.721217\n",
      "10  2021-01-15  23.471173  6.825191  2.914376\n",
      "11  2021-01-18  20.594558  7.038733  2.417276\n",
      "12  2021-01-19  20.121389  7.335345  2.255025\n",
      "13  2021-01-20  18.844046  6.839389  2.231785\n",
      "14  2021-01-21  22.316147  7.175958  2.610961\n",
      "15  2021-01-22  20.401255  7.399313  2.273354\n",
      "16  2021-01-25  20.898824  7.351084  2.355955\n",
      "17  2021-01-27  20.748932  7.333587  2.341137\n",
      "18  2021-01-28  19.647876  7.146323  2.248412\n",
      "19  2021-01-29  21.817733  7.955848  2.292368\n",
      "20  2021-02-01  16.505186  7.505780  1.722031\n",
      "21  2021-02-02  21.673665  8.423610  2.147970\n",
      "22  2021-02-03  22.308732  7.995959  2.342275\n",
      "23  2021-02-04  23.365989  8.493777  2.329469\n",
      "24  2021-02-05  21.970712  8.894019  2.067762\n",
      "25  2021-02-08  21.280588  8.263463  2.142030\n",
      "26  2021-02-09  18.002246  7.794276  1.850364\n",
      "27  2021-02-10  20.801149  8.256596  2.085744\n",
      "28  2021-02-11  20.233545  8.163078  2.040106\n",
      "29  2021-02-12  19.783314  8.250614  1.963892\n",
      "30  2021-02-15  21.117919  8.625165  2.033343\n",
      "31  2021-02-16  17.919182  8.095644  1.771222\n",
      "32  2021-02-17  19.152792  8.145012  1.911942\n",
      "33  2021-02-18  17.268825  7.994105  1.712365\n",
      "34  2021-02-19  18.200745  8.223902  1.777835\n",
      "35  2021-02-22  16.488732  8.054173  1.602738\n",
      "36  2021-02-23  12.182410  7.941560  1.083214\n",
      "37  2021-02-24  12.928879  8.035332  1.163471\n",
      "38  2021-02-25  15.789149  8.684478  1.405859\n",
      "39  2021-02-26  14.134825  7.921006  1.332511\n",
      "40  2021-03-01  13.398105  8.880362  1.105597\n",
      "41  2021-03-02  12.784150  8.852833  1.039684\n",
      "42  2021-03-03  13.685961  9.341593  1.081824\n",
      "43  2021-03-04  15.333520  8.912299  1.318798\n",
      "44  2021-03-05  12.725781  9.188069  0.995398\n"
     ]
    },
    {
     "name": "stderr",
     "output_type": "stream",
     "text": [
      "\u001b[32m[I 2022-05-26 20:29:51,968]\u001b[0m A new study created in memory with name: no-name-ca8619bc-e4b2-4c23-8b90-2911647eb48f\u001b[0m\n",
      "\u001b[32m[I 2022-05-26 20:29:52,071]\u001b[0m Trial 0 finished with value: 0.22976432207327488 and parameters: {'ITERATIONS': 4, 'Q': 0.6345576836925448, 'EVA_RATE': 0.3387274410647603, 'ANTS': 5}. Best is trial 0 with value: 0.22976432207327488.\u001b[0m\n",
      "\u001b[32m[I 2022-05-26 20:29:52,138]\u001b[0m Trial 1 finished with value: 0.20954340128062277 and parameters: {'ITERATIONS': 2, 'Q': 0.4700435989788109, 'EVA_RATE': 0.8379700881441308, 'ANTS': 5}. Best is trial 0 with value: 0.22976432207327488.\u001b[0m\n"
     ]
    },
    {
     "name": "stdout",
     "output_type": "stream",
     "text": [
      "          Date    Returns      Risk     Ratio\n",
      "0   2021-01-01  20.812991  6.905090  2.495694\n",
      "1   2021-01-04  20.574005  7.037955  2.414623\n",
      "2   2021-01-05  21.652565  7.046567  2.564733\n",
      "3   2021-01-06  21.859558  7.094556  2.576561\n",
      "4   2021-01-07  21.504652  7.347479  2.439565\n",
      "5   2021-01-08  23.519035  7.310703  2.727376\n",
      "6   2021-01-11  21.459469  6.890132  2.594939\n",
      "7   2021-01-12  22.117574  7.320986  2.532115\n",
      "8   2021-01-13  23.235621  7.171798  2.740683\n",
      "9   2021-01-14  21.264166  6.498624  2.721217\n",
      "10  2021-01-15  23.471173  6.825191  2.914376\n",
      "11  2021-01-18  20.594558  7.038733  2.417276\n",
      "12  2021-01-19  20.121389  7.335345  2.255025\n",
      "13  2021-01-20  18.844046  6.839389  2.231785\n",
      "14  2021-01-21  22.316147  7.175958  2.610961\n",
      "15  2021-01-22  20.401255  7.399313  2.273354\n",
      "16  2021-01-25  20.898824  7.351084  2.355955\n",
      "17  2021-01-27  20.748932  7.333587  2.341137\n",
      "18  2021-01-28  19.647876  7.146323  2.248412\n",
      "19  2021-01-29  21.817733  7.955848  2.292368\n",
      "20  2021-02-01  16.505186  7.505780  1.722031\n",
      "21  2021-02-02  21.673665  8.423610  2.147970\n",
      "22  2021-02-03  22.308732  7.995959  2.342275\n",
      "23  2021-02-04  23.365989  8.493777  2.329469\n",
      "24  2021-02-05  21.970712  8.894019  2.067762\n",
      "25  2021-02-08  21.280588  8.263463  2.142030\n",
      "26  2021-02-09  18.002246  7.794276  1.850364\n",
      "27  2021-02-10  20.801149  8.256596  2.085744\n",
      "28  2021-02-11  20.233545  8.163078  2.040106\n",
      "29  2021-02-12  19.783314  8.250614  1.963892\n",
      "30  2021-02-15  21.117919  8.625165  2.033343\n",
      "31  2021-02-16  17.919182  8.095644  1.771222\n",
      "32  2021-02-17  19.152792  8.145012  1.911942\n",
      "33  2021-02-18  17.268825  7.994105  1.712365\n",
      "34  2021-02-19  18.200745  8.223902  1.777835\n",
      "35  2021-02-22  16.488732  8.054173  1.602738\n",
      "36  2021-02-23  12.182410  7.941560  1.083214\n",
      "37  2021-02-24  12.928879  8.035332  1.163471\n",
      "38  2021-02-25  15.789149  8.684478  1.405859\n",
      "39  2021-02-26  14.134825  7.921006  1.332511\n",
      "40  2021-03-01  13.398105  8.880362  1.105597\n",
      "41  2021-03-02  12.784150  8.852833  1.039684\n",
      "42  2021-03-03  13.685961  9.341593  1.081824\n",
      "43  2021-03-04  15.333520  8.912299  1.318798\n",
      "44  2021-03-05  12.725781  9.188069  0.995398\n",
      "45  2021-03-08  11.758742  9.757125  0.838233\n"
     ]
    },
    {
     "name": "stderr",
     "output_type": "stream",
     "text": [
      "\u001b[32m[I 2022-05-26 20:29:52,331]\u001b[0m A new study created in memory with name: no-name-145410b4-6dd0-4459-b7d0-0807cf389c0a\u001b[0m\n",
      "\u001b[32m[I 2022-05-26 20:29:52,438]\u001b[0m Trial 0 finished with value: 0.21866439488645933 and parameters: {'ITERATIONS': 2, 'Q': 0.44747622575402535, 'EVA_RATE': 0.154457308558613, 'ANTS': 4}. Best is trial 0 with value: 0.21866439488645933.\u001b[0m\n"
     ]
    },
    {
     "name": "stdout",
     "output_type": "stream",
     "text": [
      "          Date    Returns      Risk     Ratio\n",
      "0   2021-01-01  20.812991  6.905090  2.495694\n",
      "1   2021-01-04  20.574005  7.037955  2.414623\n",
      "2   2021-01-05  21.652565  7.046567  2.564733\n",
      "3   2021-01-06  21.859558  7.094556  2.576561\n",
      "4   2021-01-07  21.504652  7.347479  2.439565\n",
      "5   2021-01-08  23.519035  7.310703  2.727376\n",
      "6   2021-01-11  21.459469  6.890132  2.594939\n",
      "7   2021-01-12  22.117574  7.320986  2.532115\n",
      "8   2021-01-13  23.235621  7.171798  2.740683\n",
      "9   2021-01-14  21.264166  6.498624  2.721217\n",
      "10  2021-01-15  23.471173  6.825191  2.914376\n",
      "11  2021-01-18  20.594558  7.038733  2.417276\n",
      "12  2021-01-19  20.121389  7.335345  2.255025\n",
      "13  2021-01-20  18.844046  6.839389  2.231785\n",
      "14  2021-01-21  22.316147  7.175958  2.610961\n",
      "15  2021-01-22  20.401255  7.399313  2.273354\n",
      "16  2021-01-25  20.898824  7.351084  2.355955\n",
      "17  2021-01-27  20.748932  7.333587  2.341137\n",
      "18  2021-01-28  19.647876  7.146323  2.248412\n",
      "19  2021-01-29  21.817733  7.955848  2.292368\n",
      "20  2021-02-01  16.505186  7.505780  1.722031\n",
      "21  2021-02-02  21.673665  8.423610  2.147970\n",
      "22  2021-02-03  22.308732  7.995959  2.342275\n",
      "23  2021-02-04  23.365989  8.493777  2.329469\n",
      "24  2021-02-05  21.970712  8.894019  2.067762\n",
      "25  2021-02-08  21.280588  8.263463  2.142030\n",
      "26  2021-02-09  18.002246  7.794276  1.850364\n",
      "27  2021-02-10  20.801149  8.256596  2.085744\n",
      "28  2021-02-11  20.233545  8.163078  2.040106\n",
      "29  2021-02-12  19.783314  8.250614  1.963892\n",
      "30  2021-02-15  21.117919  8.625165  2.033343\n",
      "31  2021-02-16  17.919182  8.095644  1.771222\n",
      "32  2021-02-17  19.152792  8.145012  1.911942\n",
      "33  2021-02-18  17.268825  7.994105  1.712365\n",
      "34  2021-02-19  18.200745  8.223902  1.777835\n",
      "35  2021-02-22  16.488732  8.054173  1.602738\n",
      "36  2021-02-23  12.182410  7.941560  1.083214\n",
      "37  2021-02-24  12.928879  8.035332  1.163471\n",
      "38  2021-02-25  15.789149  8.684478  1.405859\n",
      "39  2021-02-26  14.134825  7.921006  1.332511\n",
      "40  2021-03-01  13.398105  8.880362  1.105597\n",
      "41  2021-03-02  12.784150  8.852833  1.039684\n",
      "42  2021-03-03  13.685961  9.341593  1.081824\n",
      "43  2021-03-04  15.333520  8.912299  1.318798\n",
      "44  2021-03-05  12.725781  9.188069  0.995398\n",
      "45  2021-03-08  11.758742  9.757125  0.838233\n",
      "46  2021-03-09  11.518021  9.382080  0.846083\n"
     ]
    },
    {
     "name": "stderr",
     "output_type": "stream",
     "text": [
      "\u001b[32m[I 2022-05-26 20:29:52,539]\u001b[0m Trial 1 finished with value: 0.23274835701084925 and parameters: {'ITERATIONS': 5, 'Q': 0.21124312751772323, 'EVA_RATE': 0.32537235342806486, 'ANTS': 4}. Best is trial 1 with value: 0.23274835701084925.\u001b[0m\n",
      "\u001b[32m[I 2022-05-26 20:29:53,211]\u001b[0m A new study created in memory with name: no-name-39d9845a-bf67-4515-b973-8bb57923ee8f\u001b[0m\n",
      "\u001b[32m[I 2022-05-26 20:29:53,289]\u001b[0m Trial 0 finished with value: 0.20724823388643349 and parameters: {'ITERATIONS': 2, 'Q': 0.9981340394851449, 'EVA_RATE': 0.5540876410268503, 'ANTS': 5}. Best is trial 0 with value: 0.20724823388643349.\u001b[0m\n",
      "\u001b[32m[I 2022-05-26 20:29:53,355]\u001b[0m Trial 1 finished with value: 0.22020503499654287 and parameters: {'ITERATIONS': 2, 'Q': 0.7359858030031693, 'EVA_RATE': 0.8355546413955479, 'ANTS': 2}. Best is trial 1 with value: 0.22020503499654287.\u001b[0m\n"
     ]
    },
    {
     "name": "stdout",
     "output_type": "stream",
     "text": [
      "          Date    Returns      Risk     Ratio\n",
      "0   2021-01-01  20.812991  6.905090  2.495694\n",
      "1   2021-01-04  20.574005  7.037955  2.414623\n",
      "2   2021-01-05  21.652565  7.046567  2.564733\n",
      "3   2021-01-06  21.859558  7.094556  2.576561\n",
      "4   2021-01-07  21.504652  7.347479  2.439565\n",
      "5   2021-01-08  23.519035  7.310703  2.727376\n",
      "6   2021-01-11  21.459469  6.890132  2.594939\n",
      "7   2021-01-12  22.117574  7.320986  2.532115\n",
      "8   2021-01-13  23.235621  7.171798  2.740683\n",
      "9   2021-01-14  21.264166  6.498624  2.721217\n",
      "10  2021-01-15  23.471173  6.825191  2.914376\n",
      "11  2021-01-18  20.594558  7.038733  2.417276\n",
      "12  2021-01-19  20.121389  7.335345  2.255025\n",
      "13  2021-01-20  18.844046  6.839389  2.231785\n",
      "14  2021-01-21  22.316147  7.175958  2.610961\n",
      "15  2021-01-22  20.401255  7.399313  2.273354\n",
      "16  2021-01-25  20.898824  7.351084  2.355955\n",
      "17  2021-01-27  20.748932  7.333587  2.341137\n",
      "18  2021-01-28  19.647876  7.146323  2.248412\n",
      "19  2021-01-29  21.817733  7.955848  2.292368\n",
      "20  2021-02-01  16.505186  7.505780  1.722031\n",
      "21  2021-02-02  21.673665  8.423610  2.147970\n",
      "22  2021-02-03  22.308732  7.995959  2.342275\n",
      "23  2021-02-04  23.365989  8.493777  2.329469\n",
      "24  2021-02-05  21.970712  8.894019  2.067762\n",
      "25  2021-02-08  21.280588  8.263463  2.142030\n",
      "26  2021-02-09  18.002246  7.794276  1.850364\n",
      "27  2021-02-10  20.801149  8.256596  2.085744\n",
      "28  2021-02-11  20.233545  8.163078  2.040106\n",
      "29  2021-02-12  19.783314  8.250614  1.963892\n",
      "30  2021-02-15  21.117919  8.625165  2.033343\n",
      "31  2021-02-16  17.919182  8.095644  1.771222\n",
      "32  2021-02-17  19.152792  8.145012  1.911942\n",
      "33  2021-02-18  17.268825  7.994105  1.712365\n",
      "34  2021-02-19  18.200745  8.223902  1.777835\n",
      "35  2021-02-22  16.488732  8.054173  1.602738\n",
      "36  2021-02-23  12.182410  7.941560  1.083214\n",
      "37  2021-02-24  12.928879  8.035332  1.163471\n",
      "38  2021-02-25  15.789149  8.684478  1.405859\n",
      "39  2021-02-26  14.134825  7.921006  1.332511\n",
      "40  2021-03-01  13.398105  8.880362  1.105597\n",
      "41  2021-03-02  12.784150  8.852833  1.039684\n",
      "42  2021-03-03  13.685961  9.341593  1.081824\n",
      "43  2021-03-04  15.333520  8.912299  1.318798\n",
      "44  2021-03-05  12.725781  9.188069  0.995398\n",
      "45  2021-03-08  11.758742  9.757125  0.838233\n",
      "46  2021-03-09  11.518021  9.382080  0.846083\n",
      "47  2021-03-10   9.592132  9.055041  0.663954\n"
     ]
    },
    {
     "name": "stderr",
     "output_type": "stream",
     "text": [
      "\u001b[32m[I 2022-05-26 20:29:53,520]\u001b[0m A new study created in memory with name: no-name-b1849872-f270-415a-81dd-a8b3829ef19b\u001b[0m\n",
      "\u001b[32m[I 2022-05-26 20:29:53,583]\u001b[0m Trial 0 finished with value: 0.2525794445381383 and parameters: {'ITERATIONS': 2, 'Q': 0.751362600747066, 'EVA_RATE': 0.7726589402797623, 'ANTS': 4}. Best is trial 0 with value: 0.2525794445381383.\u001b[0m\n",
      "\u001b[32m[I 2022-05-26 20:29:53,643]\u001b[0m Trial 1 finished with value: 0.23911204843569286 and parameters: {'ITERATIONS': 2, 'Q': 0.29250759544694543, 'EVA_RATE': 0.38459655670180815, 'ANTS': 2}. Best is trial 0 with value: 0.2525794445381383.\u001b[0m\n"
     ]
    },
    {
     "name": "stdout",
     "output_type": "stream",
     "text": [
      "          Date    Returns      Risk     Ratio\n",
      "0   2021-01-01  20.812991  6.905090  2.495694\n",
      "1   2021-01-04  20.574005  7.037955  2.414623\n",
      "2   2021-01-05  21.652565  7.046567  2.564733\n",
      "3   2021-01-06  21.859558  7.094556  2.576561\n",
      "4   2021-01-07  21.504652  7.347479  2.439565\n",
      "5   2021-01-08  23.519035  7.310703  2.727376\n",
      "6   2021-01-11  21.459469  6.890132  2.594939\n",
      "7   2021-01-12  22.117574  7.320986  2.532115\n",
      "8   2021-01-13  23.235621  7.171798  2.740683\n",
      "9   2021-01-14  21.264166  6.498624  2.721217\n",
      "10  2021-01-15  23.471173  6.825191  2.914376\n",
      "11  2021-01-18  20.594558  7.038733  2.417276\n",
      "12  2021-01-19  20.121389  7.335345  2.255025\n",
      "13  2021-01-20  18.844046  6.839389  2.231785\n",
      "14  2021-01-21  22.316147  7.175958  2.610961\n",
      "15  2021-01-22  20.401255  7.399313  2.273354\n",
      "16  2021-01-25  20.898824  7.351084  2.355955\n",
      "17  2021-01-27  20.748932  7.333587  2.341137\n",
      "18  2021-01-28  19.647876  7.146323  2.248412\n",
      "19  2021-01-29  21.817733  7.955848  2.292368\n",
      "20  2021-02-01  16.505186  7.505780  1.722031\n",
      "21  2021-02-02  21.673665  8.423610  2.147970\n",
      "22  2021-02-03  22.308732  7.995959  2.342275\n",
      "23  2021-02-04  23.365989  8.493777  2.329469\n",
      "24  2021-02-05  21.970712  8.894019  2.067762\n",
      "25  2021-02-08  21.280588  8.263463  2.142030\n",
      "26  2021-02-09  18.002246  7.794276  1.850364\n",
      "27  2021-02-10  20.801149  8.256596  2.085744\n",
      "28  2021-02-11  20.233545  8.163078  2.040106\n",
      "29  2021-02-12  19.783314  8.250614  1.963892\n",
      "30  2021-02-15  21.117919  8.625165  2.033343\n",
      "31  2021-02-16  17.919182  8.095644  1.771222\n",
      "32  2021-02-17  19.152792  8.145012  1.911942\n",
      "33  2021-02-18  17.268825  7.994105  1.712365\n",
      "34  2021-02-19  18.200745  8.223902  1.777835\n",
      "35  2021-02-22  16.488732  8.054173  1.602738\n",
      "36  2021-02-23  12.182410  7.941560  1.083214\n",
      "37  2021-02-24  12.928879  8.035332  1.163471\n",
      "38  2021-02-25  15.789149  8.684478  1.405859\n",
      "39  2021-02-26  14.134825  7.921006  1.332511\n",
      "40  2021-03-01  13.398105  8.880362  1.105597\n",
      "41  2021-03-02  12.784150  8.852833  1.039684\n",
      "42  2021-03-03  13.685961  9.341593  1.081824\n",
      "43  2021-03-04  15.333520  8.912299  1.318798\n",
      "44  2021-03-05  12.725781  9.188069  0.995398\n",
      "45  2021-03-08  11.758742  9.757125  0.838233\n",
      "46  2021-03-09  11.518021  9.382080  0.846083\n",
      "47  2021-03-10   9.592132  9.055041  0.663954\n",
      "48  2021-03-12  12.936608  9.629169  0.971694\n"
     ]
    },
    {
     "name": "stderr",
     "output_type": "stream",
     "text": [
      "\u001b[32m[I 2022-05-26 20:29:53,820]\u001b[0m A new study created in memory with name: no-name-92d36b6b-bae1-4e87-971c-53f8f133ae60\u001b[0m\n",
      "\u001b[32m[I 2022-05-26 20:29:53,872]\u001b[0m Trial 0 finished with value: 0.2268446455538437 and parameters: {'ITERATIONS': 2, 'Q': 0.6976077505136992, 'EVA_RATE': 0.5736498149644401, 'ANTS': 2}. Best is trial 0 with value: 0.2268446455538437.\u001b[0m\n",
      "\u001b[32m[I 2022-05-26 20:29:53,939]\u001b[0m Trial 1 finished with value: 0.22880428640068778 and parameters: {'ITERATIONS': 4, 'Q': 0.9309781518090335, 'EVA_RATE': 0.1808084878887811, 'ANTS': 2}. Best is trial 1 with value: 0.22880428640068778.\u001b[0m\n"
     ]
    },
    {
     "name": "stdout",
     "output_type": "stream",
     "text": [
      "          Date    Returns      Risk     Ratio\n",
      "0   2021-01-01  20.812991  6.905090  2.495694\n",
      "1   2021-01-04  20.574005  7.037955  2.414623\n",
      "2   2021-01-05  21.652565  7.046567  2.564733\n",
      "3   2021-01-06  21.859558  7.094556  2.576561\n",
      "4   2021-01-07  21.504652  7.347479  2.439565\n",
      "5   2021-01-08  23.519035  7.310703  2.727376\n",
      "6   2021-01-11  21.459469  6.890132  2.594939\n",
      "7   2021-01-12  22.117574  7.320986  2.532115\n",
      "8   2021-01-13  23.235621  7.171798  2.740683\n",
      "9   2021-01-14  21.264166  6.498624  2.721217\n",
      "10  2021-01-15  23.471173  6.825191  2.914376\n",
      "11  2021-01-18  20.594558  7.038733  2.417276\n",
      "12  2021-01-19  20.121389  7.335345  2.255025\n",
      "13  2021-01-20  18.844046  6.839389  2.231785\n",
      "14  2021-01-21  22.316147  7.175958  2.610961\n",
      "15  2021-01-22  20.401255  7.399313  2.273354\n",
      "16  2021-01-25  20.898824  7.351084  2.355955\n",
      "17  2021-01-27  20.748932  7.333587  2.341137\n",
      "18  2021-01-28  19.647876  7.146323  2.248412\n",
      "19  2021-01-29  21.817733  7.955848  2.292368\n",
      "20  2021-02-01  16.505186  7.505780  1.722031\n",
      "21  2021-02-02  21.673665  8.423610  2.147970\n",
      "22  2021-02-03  22.308732  7.995959  2.342275\n",
      "23  2021-02-04  23.365989  8.493777  2.329469\n",
      "24  2021-02-05  21.970712  8.894019  2.067762\n",
      "25  2021-02-08  21.280588  8.263463  2.142030\n",
      "26  2021-02-09  18.002246  7.794276  1.850364\n",
      "27  2021-02-10  20.801149  8.256596  2.085744\n",
      "28  2021-02-11  20.233545  8.163078  2.040106\n",
      "29  2021-02-12  19.783314  8.250614  1.963892\n",
      "30  2021-02-15  21.117919  8.625165  2.033343\n",
      "31  2021-02-16  17.919182  8.095644  1.771222\n",
      "32  2021-02-17  19.152792  8.145012  1.911942\n",
      "33  2021-02-18  17.268825  7.994105  1.712365\n",
      "34  2021-02-19  18.200745  8.223902  1.777835\n",
      "35  2021-02-22  16.488732  8.054173  1.602738\n",
      "36  2021-02-23  12.182410  7.941560  1.083214\n",
      "37  2021-02-24  12.928879  8.035332  1.163471\n",
      "38  2021-02-25  15.789149  8.684478  1.405859\n",
      "39  2021-02-26  14.134825  7.921006  1.332511\n",
      "40  2021-03-01  13.398105  8.880362  1.105597\n",
      "41  2021-03-02  12.784150  8.852833  1.039684\n",
      "42  2021-03-03  13.685961  9.341593  1.081824\n",
      "43  2021-03-04  15.333520  8.912299  1.318798\n",
      "44  2021-03-05  12.725781  9.188069  0.995398\n",
      "45  2021-03-08  11.758742  9.757125  0.838233\n",
      "46  2021-03-09  11.518021  9.382080  0.846083\n",
      "47  2021-03-10   9.592132  9.055041  0.663954\n",
      "48  2021-03-12  12.936608  9.629169  0.971694\n",
      "49  2021-03-15  11.611306  8.973829  0.894970\n"
     ]
    },
    {
     "name": "stderr",
     "output_type": "stream",
     "text": [
      "\u001b[32m[I 2022-05-26 20:29:54,104]\u001b[0m A new study created in memory with name: no-name-bcc8c80e-adde-4894-8575-464b0135120f\u001b[0m\n",
      "\u001b[32m[I 2022-05-26 20:29:54,169]\u001b[0m Trial 0 finished with value: 0.2409919128049462 and parameters: {'ITERATIONS': 4, 'Q': 0.6739255817882551, 'EVA_RATE': 0.7088502371116842, 'ANTS': 3}. Best is trial 0 with value: 0.2409919128049462.\u001b[0m\n",
      "\u001b[32m[I 2022-05-26 20:29:54,254]\u001b[0m Trial 1 finished with value: 0.21686776518001577 and parameters: {'ITERATIONS': 5, 'Q': 0.8426370676722261, 'EVA_RATE': 0.8830299273561708, 'ANTS': 5}. Best is trial 0 with value: 0.2409919128049462.\u001b[0m\n"
     ]
    },
    {
     "name": "stdout",
     "output_type": "stream",
     "text": [
      "          Date    Returns      Risk     Ratio\n",
      "0   2021-01-01  20.812991  6.905090  2.495694\n",
      "1   2021-01-04  20.574005  7.037955  2.414623\n",
      "2   2021-01-05  21.652565  7.046567  2.564733\n",
      "3   2021-01-06  21.859558  7.094556  2.576561\n",
      "4   2021-01-07  21.504652  7.347479  2.439565\n",
      "5   2021-01-08  23.519035  7.310703  2.727376\n",
      "6   2021-01-11  21.459469  6.890132  2.594939\n",
      "7   2021-01-12  22.117574  7.320986  2.532115\n",
      "8   2021-01-13  23.235621  7.171798  2.740683\n",
      "9   2021-01-14  21.264166  6.498624  2.721217\n",
      "10  2021-01-15  23.471173  6.825191  2.914376\n",
      "11  2021-01-18  20.594558  7.038733  2.417276\n",
      "12  2021-01-19  20.121389  7.335345  2.255025\n",
      "13  2021-01-20  18.844046  6.839389  2.231785\n",
      "14  2021-01-21  22.316147  7.175958  2.610961\n",
      "15  2021-01-22  20.401255  7.399313  2.273354\n",
      "16  2021-01-25  20.898824  7.351084  2.355955\n",
      "17  2021-01-27  20.748932  7.333587  2.341137\n",
      "18  2021-01-28  19.647876  7.146323  2.248412\n",
      "19  2021-01-29  21.817733  7.955848  2.292368\n",
      "20  2021-02-01  16.505186  7.505780  1.722031\n",
      "21  2021-02-02  21.673665  8.423610  2.147970\n",
      "22  2021-02-03  22.308732  7.995959  2.342275\n",
      "23  2021-02-04  23.365989  8.493777  2.329469\n",
      "24  2021-02-05  21.970712  8.894019  2.067762\n",
      "25  2021-02-08  21.280588  8.263463  2.142030\n",
      "26  2021-02-09  18.002246  7.794276  1.850364\n",
      "27  2021-02-10  20.801149  8.256596  2.085744\n",
      "28  2021-02-11  20.233545  8.163078  2.040106\n",
      "29  2021-02-12  19.783314  8.250614  1.963892\n",
      "30  2021-02-15  21.117919  8.625165  2.033343\n",
      "31  2021-02-16  17.919182  8.095644  1.771222\n",
      "32  2021-02-17  19.152792  8.145012  1.911942\n",
      "33  2021-02-18  17.268825  7.994105  1.712365\n",
      "34  2021-02-19  18.200745  8.223902  1.777835\n",
      "35  2021-02-22  16.488732  8.054173  1.602738\n",
      "36  2021-02-23  12.182410  7.941560  1.083214\n",
      "37  2021-02-24  12.928879  8.035332  1.163471\n",
      "38  2021-02-25  15.789149  8.684478  1.405859\n",
      "39  2021-02-26  14.134825  7.921006  1.332511\n",
      "40  2021-03-01  13.398105  8.880362  1.105597\n",
      "41  2021-03-02  12.784150  8.852833  1.039684\n",
      "42  2021-03-03  13.685961  9.341593  1.081824\n",
      "43  2021-03-04  15.333520  8.912299  1.318798\n",
      "44  2021-03-05  12.725781  9.188069  0.995398\n",
      "45  2021-03-08  11.758742  9.757125  0.838233\n",
      "46  2021-03-09  11.518021  9.382080  0.846083\n",
      "47  2021-03-10   9.592132  9.055041  0.663954\n",
      "48  2021-03-12  12.936608  9.629169  0.971694\n",
      "49  2021-03-15  11.611306  8.973829  0.894970\n",
      "50  2021-03-16  12.192873  9.699608  0.887961\n"
     ]
    },
    {
     "name": "stderr",
     "output_type": "stream",
     "text": [
      "\u001b[32m[I 2022-05-26 20:29:54,469]\u001b[0m A new study created in memory with name: no-name-ff55ed52-335d-4a3f-8e1c-0223592689b3\u001b[0m\n",
      "\u001b[32m[I 2022-05-26 20:29:54,538]\u001b[0m Trial 0 finished with value: 0.22386125120770844 and parameters: {'ITERATIONS': 3, 'Q': 0.4801676083973252, 'EVA_RATE': 0.9730795697087916, 'ANTS': 4}. Best is trial 0 with value: 0.22386125120770844.\u001b[0m\n",
      "\u001b[32m[I 2022-05-26 20:29:54,621]\u001b[0m Trial 1 finished with value: 0.21894671208939478 and parameters: {'ITERATIONS': 5, 'Q': 0.5726669031399904, 'EVA_RATE': 0.8763557026202466, 'ANTS': 4}. Best is trial 0 with value: 0.22386125120770844.\u001b[0m\n"
     ]
    },
    {
     "name": "stdout",
     "output_type": "stream",
     "text": [
      "          Date    Returns      Risk     Ratio\n",
      "0   2021-01-01  20.812991  6.905090  2.495694\n",
      "1   2021-01-04  20.574005  7.037955  2.414623\n",
      "2   2021-01-05  21.652565  7.046567  2.564733\n",
      "3   2021-01-06  21.859558  7.094556  2.576561\n",
      "4   2021-01-07  21.504652  7.347479  2.439565\n",
      "5   2021-01-08  23.519035  7.310703  2.727376\n",
      "6   2021-01-11  21.459469  6.890132  2.594939\n",
      "7   2021-01-12  22.117574  7.320986  2.532115\n",
      "8   2021-01-13  23.235621  7.171798  2.740683\n",
      "9   2021-01-14  21.264166  6.498624  2.721217\n",
      "10  2021-01-15  23.471173  6.825191  2.914376\n",
      "11  2021-01-18  20.594558  7.038733  2.417276\n",
      "12  2021-01-19  20.121389  7.335345  2.255025\n",
      "13  2021-01-20  18.844046  6.839389  2.231785\n",
      "14  2021-01-21  22.316147  7.175958  2.610961\n",
      "15  2021-01-22  20.401255  7.399313  2.273354\n",
      "16  2021-01-25  20.898824  7.351084  2.355955\n",
      "17  2021-01-27  20.748932  7.333587  2.341137\n",
      "18  2021-01-28  19.647876  7.146323  2.248412\n",
      "19  2021-01-29  21.817733  7.955848  2.292368\n",
      "20  2021-02-01  16.505186  7.505780  1.722031\n",
      "21  2021-02-02  21.673665  8.423610  2.147970\n",
      "22  2021-02-03  22.308732  7.995959  2.342275\n",
      "23  2021-02-04  23.365989  8.493777  2.329469\n",
      "24  2021-02-05  21.970712  8.894019  2.067762\n",
      "25  2021-02-08  21.280588  8.263463  2.142030\n",
      "26  2021-02-09  18.002246  7.794276  1.850364\n",
      "27  2021-02-10  20.801149  8.256596  2.085744\n",
      "28  2021-02-11  20.233545  8.163078  2.040106\n",
      "29  2021-02-12  19.783314  8.250614  1.963892\n",
      "30  2021-02-15  21.117919  8.625165  2.033343\n",
      "31  2021-02-16  17.919182  8.095644  1.771222\n",
      "32  2021-02-17  19.152792  8.145012  1.911942\n",
      "33  2021-02-18  17.268825  7.994105  1.712365\n",
      "34  2021-02-19  18.200745  8.223902  1.777835\n",
      "35  2021-02-22  16.488732  8.054173  1.602738\n",
      "36  2021-02-23  12.182410  7.941560  1.083214\n",
      "37  2021-02-24  12.928879  8.035332  1.163471\n",
      "38  2021-02-25  15.789149  8.684478  1.405859\n",
      "39  2021-02-26  14.134825  7.921006  1.332511\n",
      "40  2021-03-01  13.398105  8.880362  1.105597\n",
      "41  2021-03-02  12.784150  8.852833  1.039684\n",
      "42  2021-03-03  13.685961  9.341593  1.081824\n",
      "43  2021-03-04  15.333520  8.912299  1.318798\n",
      "44  2021-03-05  12.725781  9.188069  0.995398\n",
      "45  2021-03-08  11.758742  9.757125  0.838233\n",
      "46  2021-03-09  11.518021  9.382080  0.846083\n",
      "47  2021-03-10   9.592132  9.055041  0.663954\n",
      "48  2021-03-12  12.936608  9.629169  0.971694\n",
      "49  2021-03-15  11.611306  8.973829  0.894970\n",
      "50  2021-03-16  12.192873  9.699608  0.887961\n",
      "51  2021-03-17  11.835976  9.688427  0.852148\n"
     ]
    },
    {
     "name": "stderr",
     "output_type": "stream",
     "text": [
      "\u001b[32m[I 2022-05-26 20:29:54,804]\u001b[0m A new study created in memory with name: no-name-9e3d1b7e-7202-4267-a163-5f01627b6957\u001b[0m\n",
      "\u001b[32m[I 2022-05-26 20:29:54,918]\u001b[0m Trial 0 finished with value: 0.2068495511024254 and parameters: {'ITERATIONS': 4, 'Q': 0.15095924014566936, 'EVA_RATE': 0.823983233034661, 'ANTS': 4}. Best is trial 0 with value: 0.2068495511024254.\u001b[0m\n",
      "\u001b[32m[I 2022-05-26 20:29:55,003]\u001b[0m Trial 1 finished with value: 0.21189670701369842 and parameters: {'ITERATIONS': 3, 'Q': 0.2913193468608113, 'EVA_RATE': 0.1850688377352862, 'ANTS': 2}. Best is trial 1 with value: 0.21189670701369842.\u001b[0m\n"
     ]
    },
    {
     "name": "stdout",
     "output_type": "stream",
     "text": [
      "          Date    Returns      Risk     Ratio\n",
      "0   2021-01-01  20.812991  6.905090  2.495694\n",
      "1   2021-01-04  20.574005  7.037955  2.414623\n",
      "2   2021-01-05  21.652565  7.046567  2.564733\n",
      "3   2021-01-06  21.859558  7.094556  2.576561\n",
      "4   2021-01-07  21.504652  7.347479  2.439565\n",
      "5   2021-01-08  23.519035  7.310703  2.727376\n",
      "6   2021-01-11  21.459469  6.890132  2.594939\n",
      "7   2021-01-12  22.117574  7.320986  2.532115\n",
      "8   2021-01-13  23.235621  7.171798  2.740683\n",
      "9   2021-01-14  21.264166  6.498624  2.721217\n",
      "10  2021-01-15  23.471173  6.825191  2.914376\n",
      "11  2021-01-18  20.594558  7.038733  2.417276\n",
      "12  2021-01-19  20.121389  7.335345  2.255025\n",
      "13  2021-01-20  18.844046  6.839389  2.231785\n",
      "14  2021-01-21  22.316147  7.175958  2.610961\n",
      "15  2021-01-22  20.401255  7.399313  2.273354\n",
      "16  2021-01-25  20.898824  7.351084  2.355955\n",
      "17  2021-01-27  20.748932  7.333587  2.341137\n",
      "18  2021-01-28  19.647876  7.146323  2.248412\n",
      "19  2021-01-29  21.817733  7.955848  2.292368\n",
      "20  2021-02-01  16.505186  7.505780  1.722031\n",
      "21  2021-02-02  21.673665  8.423610  2.147970\n",
      "22  2021-02-03  22.308732  7.995959  2.342275\n",
      "23  2021-02-04  23.365989  8.493777  2.329469\n",
      "24  2021-02-05  21.970712  8.894019  2.067762\n",
      "25  2021-02-08  21.280588  8.263463  2.142030\n",
      "26  2021-02-09  18.002246  7.794276  1.850364\n",
      "27  2021-02-10  20.801149  8.256596  2.085744\n",
      "28  2021-02-11  20.233545  8.163078  2.040106\n",
      "29  2021-02-12  19.783314  8.250614  1.963892\n",
      "30  2021-02-15  21.117919  8.625165  2.033343\n",
      "31  2021-02-16  17.919182  8.095644  1.771222\n",
      "32  2021-02-17  19.152792  8.145012  1.911942\n",
      "33  2021-02-18  17.268825  7.994105  1.712365\n",
      "34  2021-02-19  18.200745  8.223902  1.777835\n",
      "35  2021-02-22  16.488732  8.054173  1.602738\n",
      "36  2021-02-23  12.182410  7.941560  1.083214\n",
      "37  2021-02-24  12.928879  8.035332  1.163471\n",
      "38  2021-02-25  15.789149  8.684478  1.405859\n",
      "39  2021-02-26  14.134825  7.921006  1.332511\n",
      "40  2021-03-01  13.398105  8.880362  1.105597\n",
      "41  2021-03-02  12.784150  8.852833  1.039684\n",
      "42  2021-03-03  13.685961  9.341593  1.081824\n",
      "43  2021-03-04  15.333520  8.912299  1.318798\n",
      "44  2021-03-05  12.725781  9.188069  0.995398\n",
      "45  2021-03-08  11.758742  9.757125  0.838233\n",
      "46  2021-03-09  11.518021  9.382080  0.846083\n",
      "47  2021-03-10   9.592132  9.055041  0.663954\n",
      "48  2021-03-12  12.936608  9.629169  0.971694\n",
      "49  2021-03-15  11.611306  8.973829  0.894970\n",
      "50  2021-03-16  12.192873  9.699608  0.887961\n",
      "51  2021-03-17  11.835976  9.688427  0.852148\n",
      "52  2021-03-18   9.643003  9.350947  0.648384\n"
     ]
    },
    {
     "name": "stderr",
     "output_type": "stream",
     "text": [
      "\u001b[32m[I 2022-05-26 20:29:55,167]\u001b[0m A new study created in memory with name: no-name-477d0ebd-49b1-454e-977f-2d70bc2f8adb\u001b[0m\n",
      "\u001b[32m[I 2022-05-26 20:29:55,255]\u001b[0m Trial 0 finished with value: 0.23032163672388817 and parameters: {'ITERATIONS': 5, 'Q': 0.6456308674093664, 'EVA_RATE': 0.29320192731606864, 'ANTS': 5}. Best is trial 0 with value: 0.23032163672388817.\u001b[0m\n",
      "\u001b[32m[I 2022-05-26 20:29:55,321]\u001b[0m Trial 1 finished with value: 0.2032508694631637 and parameters: {'ITERATIONS': 4, 'Q': 0.636874121585236, 'EVA_RATE': 0.29091549355010293, 'ANTS': 5}. Best is trial 0 with value: 0.23032163672388817.\u001b[0m\n"
     ]
    },
    {
     "name": "stdout",
     "output_type": "stream",
     "text": [
      "          Date    Returns      Risk     Ratio\n",
      "0   2021-01-01  20.812991  6.905090  2.495694\n",
      "1   2021-01-04  20.574005  7.037955  2.414623\n",
      "2   2021-01-05  21.652565  7.046567  2.564733\n",
      "3   2021-01-06  21.859558  7.094556  2.576561\n",
      "4   2021-01-07  21.504652  7.347479  2.439565\n",
      "5   2021-01-08  23.519035  7.310703  2.727376\n",
      "6   2021-01-11  21.459469  6.890132  2.594939\n",
      "7   2021-01-12  22.117574  7.320986  2.532115\n",
      "8   2021-01-13  23.235621  7.171798  2.740683\n",
      "9   2021-01-14  21.264166  6.498624  2.721217\n",
      "10  2021-01-15  23.471173  6.825191  2.914376\n",
      "11  2021-01-18  20.594558  7.038733  2.417276\n",
      "12  2021-01-19  20.121389  7.335345  2.255025\n",
      "13  2021-01-20  18.844046  6.839389  2.231785\n",
      "14  2021-01-21  22.316147  7.175958  2.610961\n",
      "15  2021-01-22  20.401255  7.399313  2.273354\n",
      "16  2021-01-25  20.898824  7.351084  2.355955\n",
      "17  2021-01-27  20.748932  7.333587  2.341137\n",
      "18  2021-01-28  19.647876  7.146323  2.248412\n",
      "19  2021-01-29  21.817733  7.955848  2.292368\n",
      "20  2021-02-01  16.505186  7.505780  1.722031\n",
      "21  2021-02-02  21.673665  8.423610  2.147970\n",
      "22  2021-02-03  22.308732  7.995959  2.342275\n",
      "23  2021-02-04  23.365989  8.493777  2.329469\n",
      "24  2021-02-05  21.970712  8.894019  2.067762\n",
      "25  2021-02-08  21.280588  8.263463  2.142030\n",
      "26  2021-02-09  18.002246  7.794276  1.850364\n",
      "27  2021-02-10  20.801149  8.256596  2.085744\n",
      "28  2021-02-11  20.233545  8.163078  2.040106\n",
      "29  2021-02-12  19.783314  8.250614  1.963892\n",
      "30  2021-02-15  21.117919  8.625165  2.033343\n",
      "31  2021-02-16  17.919182  8.095644  1.771222\n",
      "32  2021-02-17  19.152792  8.145012  1.911942\n",
      "33  2021-02-18  17.268825  7.994105  1.712365\n",
      "34  2021-02-19  18.200745  8.223902  1.777835\n",
      "35  2021-02-22  16.488732  8.054173  1.602738\n",
      "36  2021-02-23  12.182410  7.941560  1.083214\n",
      "37  2021-02-24  12.928879  8.035332  1.163471\n",
      "38  2021-02-25  15.789149  8.684478  1.405859\n",
      "39  2021-02-26  14.134825  7.921006  1.332511\n",
      "40  2021-03-01  13.398105  8.880362  1.105597\n",
      "41  2021-03-02  12.784150  8.852833  1.039684\n",
      "42  2021-03-03  13.685961  9.341593  1.081824\n",
      "43  2021-03-04  15.333520  8.912299  1.318798\n",
      "44  2021-03-05  12.725781  9.188069  0.995398\n",
      "45  2021-03-08  11.758742  9.757125  0.838233\n",
      "46  2021-03-09  11.518021  9.382080  0.846083\n",
      "47  2021-03-10   9.592132  9.055041  0.663954\n",
      "48  2021-03-12  12.936608  9.629169  0.971694\n",
      "49  2021-03-15  11.611306  8.973829  0.894970\n",
      "50  2021-03-16  12.192873  9.699608  0.887961\n",
      "51  2021-03-17  11.835976  9.688427  0.852148\n",
      "52  2021-03-18   9.643003  9.350947  0.648384\n",
      "53  2021-03-19  10.088207  9.780711  0.665412\n"
     ]
    },
    {
     "name": "stderr",
     "output_type": "stream",
     "text": [
      "\u001b[32m[I 2022-05-26 20:29:55,580]\u001b[0m A new study created in memory with name: no-name-c0c2011d-cbc5-460b-b3da-d12821bffa86\u001b[0m\n",
      "\u001b[32m[I 2022-05-26 20:29:55,668]\u001b[0m Trial 0 finished with value: 0.2234255594227637 and parameters: {'ITERATIONS': 5, 'Q': 0.3438912967907021, 'EVA_RATE': 0.9608374020346045, 'ANTS': 4}. Best is trial 0 with value: 0.2234255594227637.\u001b[0m\n",
      "\u001b[32m[I 2022-05-26 20:29:55,738]\u001b[0m Trial 1 finished with value: 0.2207235053716181 and parameters: {'ITERATIONS': 3, 'Q': 0.10697065544870471, 'EVA_RATE': 0.7860771113058629, 'ANTS': 2}. Best is trial 0 with value: 0.2234255594227637.\u001b[0m\n"
     ]
    },
    {
     "name": "stdout",
     "output_type": "stream",
     "text": [
      "          Date    Returns      Risk     Ratio\n",
      "0   2021-01-01  20.812991  6.905090  2.495694\n",
      "1   2021-01-04  20.574005  7.037955  2.414623\n",
      "2   2021-01-05  21.652565  7.046567  2.564733\n",
      "3   2021-01-06  21.859558  7.094556  2.576561\n",
      "4   2021-01-07  21.504652  7.347479  2.439565\n",
      "5   2021-01-08  23.519035  7.310703  2.727376\n",
      "6   2021-01-11  21.459469  6.890132  2.594939\n",
      "7   2021-01-12  22.117574  7.320986  2.532115\n",
      "8   2021-01-13  23.235621  7.171798  2.740683\n",
      "9   2021-01-14  21.264166  6.498624  2.721217\n",
      "10  2021-01-15  23.471173  6.825191  2.914376\n",
      "11  2021-01-18  20.594558  7.038733  2.417276\n",
      "12  2021-01-19  20.121389  7.335345  2.255025\n",
      "13  2021-01-20  18.844046  6.839389  2.231785\n",
      "14  2021-01-21  22.316147  7.175958  2.610961\n",
      "15  2021-01-22  20.401255  7.399313  2.273354\n",
      "16  2021-01-25  20.898824  7.351084  2.355955\n",
      "17  2021-01-27  20.748932  7.333587  2.341137\n",
      "18  2021-01-28  19.647876  7.146323  2.248412\n",
      "19  2021-01-29  21.817733  7.955848  2.292368\n",
      "20  2021-02-01  16.505186  7.505780  1.722031\n",
      "21  2021-02-02  21.673665  8.423610  2.147970\n",
      "22  2021-02-03  22.308732  7.995959  2.342275\n",
      "23  2021-02-04  23.365989  8.493777  2.329469\n",
      "24  2021-02-05  21.970712  8.894019  2.067762\n",
      "25  2021-02-08  21.280588  8.263463  2.142030\n",
      "26  2021-02-09  18.002246  7.794276  1.850364\n",
      "27  2021-02-10  20.801149  8.256596  2.085744\n",
      "28  2021-02-11  20.233545  8.163078  2.040106\n",
      "29  2021-02-12  19.783314  8.250614  1.963892\n",
      "30  2021-02-15  21.117919  8.625165  2.033343\n",
      "31  2021-02-16  17.919182  8.095644  1.771222\n",
      "32  2021-02-17  19.152792  8.145012  1.911942\n",
      "33  2021-02-18  17.268825  7.994105  1.712365\n",
      "34  2021-02-19  18.200745  8.223902  1.777835\n",
      "35  2021-02-22  16.488732  8.054173  1.602738\n",
      "36  2021-02-23  12.182410  7.941560  1.083214\n",
      "37  2021-02-24  12.928879  8.035332  1.163471\n",
      "38  2021-02-25  15.789149  8.684478  1.405859\n",
      "39  2021-02-26  14.134825  7.921006  1.332511\n",
      "40  2021-03-01  13.398105  8.880362  1.105597\n",
      "41  2021-03-02  12.784150  8.852833  1.039684\n",
      "42  2021-03-03  13.685961  9.341593  1.081824\n",
      "43  2021-03-04  15.333520  8.912299  1.318798\n",
      "44  2021-03-05  12.725781  9.188069  0.995398\n",
      "45  2021-03-08  11.758742  9.757125  0.838233\n",
      "46  2021-03-09  11.518021  9.382080  0.846083\n",
      "47  2021-03-10   9.592132  9.055041  0.663954\n",
      "48  2021-03-12  12.936608  9.629169  0.971694\n",
      "49  2021-03-15  11.611306  8.973829  0.894970\n",
      "50  2021-03-16  12.192873  9.699608  0.887961\n",
      "51  2021-03-17  11.835976  9.688427  0.852148\n",
      "52  2021-03-18   9.643003  9.350947  0.648384\n",
      "53  2021-03-19  10.088207  9.780711  0.665412\n",
      "54  2021-03-22   9.862937  9.713797  0.646805\n"
     ]
    },
    {
     "name": "stderr",
     "output_type": "stream",
     "text": [
      "\u001b[32m[I 2022-05-26 20:29:55,966]\u001b[0m A new study created in memory with name: no-name-a4607ac5-d8d9-437f-99bd-fe64306e09e3\u001b[0m\n",
      "\u001b[32m[I 2022-05-26 20:29:56,039]\u001b[0m Trial 0 finished with value: 0.23484600414732687 and parameters: {'ITERATIONS': 4, 'Q': 0.2961144478210679, 'EVA_RATE': 0.9309035016485149, 'ANTS': 4}. Best is trial 0 with value: 0.23484600414732687.\u001b[0m\n",
      "\u001b[32m[I 2022-05-26 20:29:56,093]\u001b[0m Trial 1 finished with value: 0.20988932810687427 and parameters: {'ITERATIONS': 2, 'Q': 0.8148102754371221, 'EVA_RATE': 0.9762879511968767, 'ANTS': 3}. Best is trial 0 with value: 0.23484600414732687.\u001b[0m\n"
     ]
    },
    {
     "name": "stdout",
     "output_type": "stream",
     "text": [
      "          Date    Returns      Risk     Ratio\n",
      "0   2021-01-01  20.812991  6.905090  2.495694\n",
      "1   2021-01-04  20.574005  7.037955  2.414623\n",
      "2   2021-01-05  21.652565  7.046567  2.564733\n",
      "3   2021-01-06  21.859558  7.094556  2.576561\n",
      "4   2021-01-07  21.504652  7.347479  2.439565\n",
      "5   2021-01-08  23.519035  7.310703  2.727376\n",
      "6   2021-01-11  21.459469  6.890132  2.594939\n",
      "7   2021-01-12  22.117574  7.320986  2.532115\n",
      "8   2021-01-13  23.235621  7.171798  2.740683\n",
      "9   2021-01-14  21.264166  6.498624  2.721217\n",
      "10  2021-01-15  23.471173  6.825191  2.914376\n",
      "11  2021-01-18  20.594558  7.038733  2.417276\n",
      "12  2021-01-19  20.121389  7.335345  2.255025\n",
      "13  2021-01-20  18.844046  6.839389  2.231785\n",
      "14  2021-01-21  22.316147  7.175958  2.610961\n",
      "15  2021-01-22  20.401255  7.399313  2.273354\n",
      "16  2021-01-25  20.898824  7.351084  2.355955\n",
      "17  2021-01-27  20.748932  7.333587  2.341137\n",
      "18  2021-01-28  19.647876  7.146323  2.248412\n",
      "19  2021-01-29  21.817733  7.955848  2.292368\n",
      "20  2021-02-01  16.505186  7.505780  1.722031\n",
      "21  2021-02-02  21.673665  8.423610  2.147970\n",
      "22  2021-02-03  22.308732  7.995959  2.342275\n",
      "23  2021-02-04  23.365989  8.493777  2.329469\n",
      "24  2021-02-05  21.970712  8.894019  2.067762\n",
      "25  2021-02-08  21.280588  8.263463  2.142030\n",
      "26  2021-02-09  18.002246  7.794276  1.850364\n",
      "27  2021-02-10  20.801149  8.256596  2.085744\n",
      "28  2021-02-11  20.233545  8.163078  2.040106\n",
      "29  2021-02-12  19.783314  8.250614  1.963892\n",
      "30  2021-02-15  21.117919  8.625165  2.033343\n",
      "31  2021-02-16  17.919182  8.095644  1.771222\n",
      "32  2021-02-17  19.152792  8.145012  1.911942\n",
      "33  2021-02-18  17.268825  7.994105  1.712365\n",
      "34  2021-02-19  18.200745  8.223902  1.777835\n",
      "35  2021-02-22  16.488732  8.054173  1.602738\n",
      "36  2021-02-23  12.182410  7.941560  1.083214\n",
      "37  2021-02-24  12.928879  8.035332  1.163471\n",
      "38  2021-02-25  15.789149  8.684478  1.405859\n",
      "39  2021-02-26  14.134825  7.921006  1.332511\n",
      "40  2021-03-01  13.398105  8.880362  1.105597\n",
      "41  2021-03-02  12.784150  8.852833  1.039684\n",
      "42  2021-03-03  13.685961  9.341593  1.081824\n",
      "43  2021-03-04  15.333520  8.912299  1.318798\n",
      "44  2021-03-05  12.725781  9.188069  0.995398\n",
      "45  2021-03-08  11.758742  9.757125  0.838233\n",
      "46  2021-03-09  11.518021  9.382080  0.846083\n",
      "47  2021-03-10   9.592132  9.055041  0.663954\n",
      "48  2021-03-12  12.936608  9.629169  0.971694\n",
      "49  2021-03-15  11.611306  8.973829  0.894970\n",
      "50  2021-03-16  12.192873  9.699608  0.887961\n",
      "51  2021-03-17  11.835976  9.688427  0.852148\n",
      "52  2021-03-18   9.643003  9.350947  0.648384\n",
      "53  2021-03-19  10.088207  9.780711  0.665412\n",
      "54  2021-03-22   9.862937  9.713797  0.646805\n",
      "55  2021-03-23  13.702063  8.877798  1.140155\n"
     ]
    },
    {
     "name": "stderr",
     "output_type": "stream",
     "text": [
      "\u001b[32m[I 2022-05-26 20:29:56,269]\u001b[0m A new study created in memory with name: no-name-3e96e054-927d-43bc-8d38-71260560d37f\u001b[0m\n",
      "\u001b[32m[I 2022-05-26 20:29:56,346]\u001b[0m Trial 0 finished with value: 0.21579151101415123 and parameters: {'ITERATIONS': 4, 'Q': 0.9314240615306546, 'EVA_RATE': 0.781171585625209, 'ANTS': 4}. Best is trial 0 with value: 0.21579151101415123.\u001b[0m\n",
      "\u001b[32m[I 2022-05-26 20:29:56,401]\u001b[0m Trial 1 finished with value: 0.22820860254428668 and parameters: {'ITERATIONS': 2, 'Q': 0.5553035812518042, 'EVA_RATE': 0.1602325129181339, 'ANTS': 2}. Best is trial 1 with value: 0.22820860254428668.\u001b[0m\n"
     ]
    },
    {
     "name": "stdout",
     "output_type": "stream",
     "text": [
      "          Date    Returns      Risk     Ratio\n",
      "0   2021-01-01  20.812991  6.905090  2.495694\n",
      "1   2021-01-04  20.574005  7.037955  2.414623\n",
      "2   2021-01-05  21.652565  7.046567  2.564733\n",
      "3   2021-01-06  21.859558  7.094556  2.576561\n",
      "4   2021-01-07  21.504652  7.347479  2.439565\n",
      "5   2021-01-08  23.519035  7.310703  2.727376\n",
      "6   2021-01-11  21.459469  6.890132  2.594939\n",
      "7   2021-01-12  22.117574  7.320986  2.532115\n",
      "8   2021-01-13  23.235621  7.171798  2.740683\n",
      "9   2021-01-14  21.264166  6.498624  2.721217\n",
      "10  2021-01-15  23.471173  6.825191  2.914376\n",
      "11  2021-01-18  20.594558  7.038733  2.417276\n",
      "12  2021-01-19  20.121389  7.335345  2.255025\n",
      "13  2021-01-20  18.844046  6.839389  2.231785\n",
      "14  2021-01-21  22.316147  7.175958  2.610961\n",
      "15  2021-01-22  20.401255  7.399313  2.273354\n",
      "16  2021-01-25  20.898824  7.351084  2.355955\n",
      "17  2021-01-27  20.748932  7.333587  2.341137\n",
      "18  2021-01-28  19.647876  7.146323  2.248412\n",
      "19  2021-01-29  21.817733  7.955848  2.292368\n",
      "20  2021-02-01  16.505186  7.505780  1.722031\n",
      "21  2021-02-02  21.673665  8.423610  2.147970\n",
      "22  2021-02-03  22.308732  7.995959  2.342275\n",
      "23  2021-02-04  23.365989  8.493777  2.329469\n",
      "24  2021-02-05  21.970712  8.894019  2.067762\n",
      "25  2021-02-08  21.280588  8.263463  2.142030\n",
      "26  2021-02-09  18.002246  7.794276  1.850364\n",
      "27  2021-02-10  20.801149  8.256596  2.085744\n",
      "28  2021-02-11  20.233545  8.163078  2.040106\n",
      "29  2021-02-12  19.783314  8.250614  1.963892\n",
      "30  2021-02-15  21.117919  8.625165  2.033343\n",
      "31  2021-02-16  17.919182  8.095644  1.771222\n",
      "32  2021-02-17  19.152792  8.145012  1.911942\n",
      "33  2021-02-18  17.268825  7.994105  1.712365\n",
      "34  2021-02-19  18.200745  8.223902  1.777835\n",
      "35  2021-02-22  16.488732  8.054173  1.602738\n",
      "36  2021-02-23  12.182410  7.941560  1.083214\n",
      "37  2021-02-24  12.928879  8.035332  1.163471\n",
      "38  2021-02-25  15.789149  8.684478  1.405859\n",
      "39  2021-02-26  14.134825  7.921006  1.332511\n",
      "40  2021-03-01  13.398105  8.880362  1.105597\n",
      "41  2021-03-02  12.784150  8.852833  1.039684\n",
      "42  2021-03-03  13.685961  9.341593  1.081824\n",
      "43  2021-03-04  15.333520  8.912299  1.318798\n",
      "44  2021-03-05  12.725781  9.188069  0.995398\n",
      "45  2021-03-08  11.758742  9.757125  0.838233\n",
      "46  2021-03-09  11.518021  9.382080  0.846083\n",
      "47  2021-03-10   9.592132  9.055041  0.663954\n",
      "48  2021-03-12  12.936608  9.629169  0.971694\n",
      "49  2021-03-15  11.611306  8.973829  0.894970\n",
      "50  2021-03-16  12.192873  9.699608  0.887961\n",
      "51  2021-03-17  11.835976  9.688427  0.852148\n",
      "52  2021-03-18   9.643003  9.350947  0.648384\n",
      "53  2021-03-19  10.088207  9.780711  0.665412\n",
      "54  2021-03-22   9.862937  9.713797  0.646805\n",
      "55  2021-03-23  13.702063  8.877798  1.140155\n",
      "56  2021-03-24  14.535817  9.563407  1.145598\n"
     ]
    },
    {
     "name": "stderr",
     "output_type": "stream",
     "text": [
      "\u001b[32m[I 2022-05-26 20:29:56,539]\u001b[0m A new study created in memory with name: no-name-0ffebfec-6402-4a5e-bbac-b2fa3e3963d3\u001b[0m\n",
      "\u001b[32m[I 2022-05-26 20:29:56,597]\u001b[0m Trial 0 finished with value: 0.2403321923098006 and parameters: {'ITERATIONS': 4, 'Q': 0.6512763125184108, 'EVA_RATE': 0.24654855606646542, 'ANTS': 2}. Best is trial 0 with value: 0.2403321923098006.\u001b[0m\n",
      "\u001b[32m[I 2022-05-26 20:29:56,649]\u001b[0m Trial 1 finished with value: 0.22873103508785111 and parameters: {'ITERATIONS': 5, 'Q': 0.5192255831198219, 'EVA_RATE': 0.42460219154267975, 'ANTS': 2}. Best is trial 0 with value: 0.2403321923098006.\u001b[0m\n"
     ]
    },
    {
     "name": "stdout",
     "output_type": "stream",
     "text": [
      "          Date    Returns      Risk     Ratio\n",
      "0   2021-01-01  20.812991  6.905090  2.495694\n",
      "1   2021-01-04  20.574005  7.037955  2.414623\n",
      "2   2021-01-05  21.652565  7.046567  2.564733\n",
      "3   2021-01-06  21.859558  7.094556  2.576561\n",
      "4   2021-01-07  21.504652  7.347479  2.439565\n",
      "5   2021-01-08  23.519035  7.310703  2.727376\n",
      "6   2021-01-11  21.459469  6.890132  2.594939\n",
      "7   2021-01-12  22.117574  7.320986  2.532115\n",
      "8   2021-01-13  23.235621  7.171798  2.740683\n",
      "9   2021-01-14  21.264166  6.498624  2.721217\n",
      "10  2021-01-15  23.471173  6.825191  2.914376\n",
      "11  2021-01-18  20.594558  7.038733  2.417276\n",
      "12  2021-01-19  20.121389  7.335345  2.255025\n",
      "13  2021-01-20  18.844046  6.839389  2.231785\n",
      "14  2021-01-21  22.316147  7.175958  2.610961\n",
      "15  2021-01-22  20.401255  7.399313  2.273354\n",
      "16  2021-01-25  20.898824  7.351084  2.355955\n",
      "17  2021-01-27  20.748932  7.333587  2.341137\n",
      "18  2021-01-28  19.647876  7.146323  2.248412\n",
      "19  2021-01-29  21.817733  7.955848  2.292368\n",
      "20  2021-02-01  16.505186  7.505780  1.722031\n",
      "21  2021-02-02  21.673665  8.423610  2.147970\n",
      "22  2021-02-03  22.308732  7.995959  2.342275\n",
      "23  2021-02-04  23.365989  8.493777  2.329469\n",
      "24  2021-02-05  21.970712  8.894019  2.067762\n",
      "25  2021-02-08  21.280588  8.263463  2.142030\n",
      "26  2021-02-09  18.002246  7.794276  1.850364\n",
      "27  2021-02-10  20.801149  8.256596  2.085744\n",
      "28  2021-02-11  20.233545  8.163078  2.040106\n",
      "29  2021-02-12  19.783314  8.250614  1.963892\n",
      "30  2021-02-15  21.117919  8.625165  2.033343\n",
      "31  2021-02-16  17.919182  8.095644  1.771222\n",
      "32  2021-02-17  19.152792  8.145012  1.911942\n",
      "33  2021-02-18  17.268825  7.994105  1.712365\n",
      "34  2021-02-19  18.200745  8.223902  1.777835\n",
      "35  2021-02-22  16.488732  8.054173  1.602738\n",
      "36  2021-02-23  12.182410  7.941560  1.083214\n",
      "37  2021-02-24  12.928879  8.035332  1.163471\n",
      "38  2021-02-25  15.789149  8.684478  1.405859\n",
      "39  2021-02-26  14.134825  7.921006  1.332511\n",
      "40  2021-03-01  13.398105  8.880362  1.105597\n",
      "41  2021-03-02  12.784150  8.852833  1.039684\n",
      "42  2021-03-03  13.685961  9.341593  1.081824\n",
      "43  2021-03-04  15.333520  8.912299  1.318798\n",
      "44  2021-03-05  12.725781  9.188069  0.995398\n",
      "45  2021-03-08  11.758742  9.757125  0.838233\n",
      "46  2021-03-09  11.518021  9.382080  0.846083\n",
      "47  2021-03-10   9.592132  9.055041  0.663954\n",
      "48  2021-03-12  12.936608  9.629169  0.971694\n",
      "49  2021-03-15  11.611306  8.973829  0.894970\n",
      "50  2021-03-16  12.192873  9.699608  0.887961\n",
      "51  2021-03-17  11.835976  9.688427  0.852148\n",
      "52  2021-03-18   9.643003  9.350947  0.648384\n",
      "53  2021-03-19  10.088207  9.780711  0.665412\n",
      "54  2021-03-22   9.862937  9.713797  0.646805\n",
      "55  2021-03-23  13.702063  8.877798  1.140155\n",
      "56  2021-03-24  14.535817  9.563407  1.145598\n",
      "57  2021-03-25   9.427967  9.018863  0.648415\n"
     ]
    },
    {
     "name": "stderr",
     "output_type": "stream",
     "text": [
      "\u001b[32m[I 2022-05-26 20:29:56,794]\u001b[0m A new study created in memory with name: no-name-d7b74844-8af9-429e-adba-8ac8ca360613\u001b[0m\n",
      "\u001b[32m[I 2022-05-26 20:29:56,870]\u001b[0m Trial 0 finished with value: 0.23925391143287464 and parameters: {'ITERATIONS': 4, 'Q': 0.7454837702086962, 'EVA_RATE': 0.23859509405132623, 'ANTS': 3}. Best is trial 0 with value: 0.23925391143287464.\u001b[0m\n",
      "\u001b[32m[I 2022-05-26 20:29:56,927]\u001b[0m Trial 1 finished with value: 0.21088091084100524 and parameters: {'ITERATIONS': 4, 'Q': 0.42089393348363435, 'EVA_RATE': 0.965116306486321, 'ANTS': 2}. Best is trial 0 with value: 0.23925391143287464.\u001b[0m\n"
     ]
    },
    {
     "name": "stdout",
     "output_type": "stream",
     "text": [
      "          Date    Returns      Risk     Ratio\n",
      "0   2021-01-01  20.812991  6.905090  2.495694\n",
      "1   2021-01-04  20.574005  7.037955  2.414623\n",
      "2   2021-01-05  21.652565  7.046567  2.564733\n",
      "3   2021-01-06  21.859558  7.094556  2.576561\n",
      "4   2021-01-07  21.504652  7.347479  2.439565\n",
      "5   2021-01-08  23.519035  7.310703  2.727376\n",
      "6   2021-01-11  21.459469  6.890132  2.594939\n",
      "7   2021-01-12  22.117574  7.320986  2.532115\n",
      "8   2021-01-13  23.235621  7.171798  2.740683\n",
      "9   2021-01-14  21.264166  6.498624  2.721217\n",
      "10  2021-01-15  23.471173  6.825191  2.914376\n",
      "11  2021-01-18  20.594558  7.038733  2.417276\n",
      "12  2021-01-19  20.121389  7.335345  2.255025\n",
      "13  2021-01-20  18.844046  6.839389  2.231785\n",
      "14  2021-01-21  22.316147  7.175958  2.610961\n",
      "15  2021-01-22  20.401255  7.399313  2.273354\n",
      "16  2021-01-25  20.898824  7.351084  2.355955\n",
      "17  2021-01-27  20.748932  7.333587  2.341137\n",
      "18  2021-01-28  19.647876  7.146323  2.248412\n",
      "19  2021-01-29  21.817733  7.955848  2.292368\n",
      "20  2021-02-01  16.505186  7.505780  1.722031\n",
      "21  2021-02-02  21.673665  8.423610  2.147970\n",
      "22  2021-02-03  22.308732  7.995959  2.342275\n",
      "23  2021-02-04  23.365989  8.493777  2.329469\n",
      "24  2021-02-05  21.970712  8.894019  2.067762\n",
      "25  2021-02-08  21.280588  8.263463  2.142030\n",
      "26  2021-02-09  18.002246  7.794276  1.850364\n",
      "27  2021-02-10  20.801149  8.256596  2.085744\n",
      "28  2021-02-11  20.233545  8.163078  2.040106\n",
      "29  2021-02-12  19.783314  8.250614  1.963892\n",
      "30  2021-02-15  21.117919  8.625165  2.033343\n",
      "31  2021-02-16  17.919182  8.095644  1.771222\n",
      "32  2021-02-17  19.152792  8.145012  1.911942\n",
      "33  2021-02-18  17.268825  7.994105  1.712365\n",
      "34  2021-02-19  18.200745  8.223902  1.777835\n",
      "35  2021-02-22  16.488732  8.054173  1.602738\n",
      "36  2021-02-23  12.182410  7.941560  1.083214\n",
      "37  2021-02-24  12.928879  8.035332  1.163471\n",
      "38  2021-02-25  15.789149  8.684478  1.405859\n",
      "39  2021-02-26  14.134825  7.921006  1.332511\n",
      "40  2021-03-01  13.398105  8.880362  1.105597\n",
      "41  2021-03-02  12.784150  8.852833  1.039684\n",
      "42  2021-03-03  13.685961  9.341593  1.081824\n",
      "43  2021-03-04  15.333520  8.912299  1.318798\n",
      "44  2021-03-05  12.725781  9.188069  0.995398\n",
      "45  2021-03-08  11.758742  9.757125  0.838233\n",
      "46  2021-03-09  11.518021  9.382080  0.846083\n",
      "47  2021-03-10   9.592132  9.055041  0.663954\n",
      "48  2021-03-12  12.936608  9.629169  0.971694\n",
      "49  2021-03-15  11.611306  8.973829  0.894970\n",
      "50  2021-03-16  12.192873  9.699608  0.887961\n",
      "51  2021-03-17  11.835976  9.688427  0.852148\n",
      "52  2021-03-18   9.643003  9.350947  0.648384\n",
      "53  2021-03-19  10.088207  9.780711  0.665412\n",
      "54  2021-03-22   9.862937  9.713797  0.646805\n",
      "55  2021-03-23  13.702063  8.877798  1.140155\n",
      "56  2021-03-24  14.535817  9.563407  1.145598\n",
      "57  2021-03-25   9.427967  9.018863  0.648415\n",
      "58  2021-03-26   6.868950  9.390639  0.350237\n"
     ]
    },
    {
     "name": "stderr",
     "output_type": "stream",
     "text": [
      "\u001b[32m[I 2022-05-26 20:29:57,103]\u001b[0m A new study created in memory with name: no-name-ec52f021-ea0e-4b0a-b77e-4fc89b35199a\u001b[0m\n",
      "\u001b[32m[I 2022-05-26 20:29:57,172]\u001b[0m Trial 0 finished with value: 0.23429651443589286 and parameters: {'ITERATIONS': 4, 'Q': 0.8097819050425102, 'EVA_RATE': 0.43936152704691, 'ANTS': 4}. Best is trial 0 with value: 0.23429651443589286.\u001b[0m\n",
      "\u001b[32m[I 2022-05-26 20:29:57,227]\u001b[0m Trial 1 finished with value: 0.20227986227883987 and parameters: {'ITERATIONS': 2, 'Q': 0.659162964489709, 'EVA_RATE': 0.36869315210412257, 'ANTS': 3}. Best is trial 0 with value: 0.23429651443589286.\u001b[0m\n"
     ]
    },
    {
     "name": "stdout",
     "output_type": "stream",
     "text": [
      "          Date    Returns      Risk     Ratio\n",
      "0   2021-01-01  20.812991  6.905090  2.495694\n",
      "1   2021-01-04  20.574005  7.037955  2.414623\n",
      "2   2021-01-05  21.652565  7.046567  2.564733\n",
      "3   2021-01-06  21.859558  7.094556  2.576561\n",
      "4   2021-01-07  21.504652  7.347479  2.439565\n",
      "5   2021-01-08  23.519035  7.310703  2.727376\n",
      "6   2021-01-11  21.459469  6.890132  2.594939\n",
      "7   2021-01-12  22.117574  7.320986  2.532115\n",
      "8   2021-01-13  23.235621  7.171798  2.740683\n",
      "9   2021-01-14  21.264166  6.498624  2.721217\n",
      "10  2021-01-15  23.471173  6.825191  2.914376\n",
      "11  2021-01-18  20.594558  7.038733  2.417276\n",
      "12  2021-01-19  20.121389  7.335345  2.255025\n",
      "13  2021-01-20  18.844046  6.839389  2.231785\n",
      "14  2021-01-21  22.316147  7.175958  2.610961\n",
      "15  2021-01-22  20.401255  7.399313  2.273354\n",
      "16  2021-01-25  20.898824  7.351084  2.355955\n",
      "17  2021-01-27  20.748932  7.333587  2.341137\n",
      "18  2021-01-28  19.647876  7.146323  2.248412\n",
      "19  2021-01-29  21.817733  7.955848  2.292368\n",
      "20  2021-02-01  16.505186  7.505780  1.722031\n",
      "21  2021-02-02  21.673665  8.423610  2.147970\n",
      "22  2021-02-03  22.308732  7.995959  2.342275\n",
      "23  2021-02-04  23.365989  8.493777  2.329469\n",
      "24  2021-02-05  21.970712  8.894019  2.067762\n",
      "25  2021-02-08  21.280588  8.263463  2.142030\n",
      "26  2021-02-09  18.002246  7.794276  1.850364\n",
      "27  2021-02-10  20.801149  8.256596  2.085744\n",
      "28  2021-02-11  20.233545  8.163078  2.040106\n",
      "29  2021-02-12  19.783314  8.250614  1.963892\n",
      "30  2021-02-15  21.117919  8.625165  2.033343\n",
      "31  2021-02-16  17.919182  8.095644  1.771222\n",
      "32  2021-02-17  19.152792  8.145012  1.911942\n",
      "33  2021-02-18  17.268825  7.994105  1.712365\n",
      "34  2021-02-19  18.200745  8.223902  1.777835\n",
      "35  2021-02-22  16.488732  8.054173  1.602738\n",
      "36  2021-02-23  12.182410  7.941560  1.083214\n",
      "37  2021-02-24  12.928879  8.035332  1.163471\n",
      "38  2021-02-25  15.789149  8.684478  1.405859\n",
      "39  2021-02-26  14.134825  7.921006  1.332511\n",
      "40  2021-03-01  13.398105  8.880362  1.105597\n",
      "41  2021-03-02  12.784150  8.852833  1.039684\n",
      "42  2021-03-03  13.685961  9.341593  1.081824\n",
      "43  2021-03-04  15.333520  8.912299  1.318798\n",
      "44  2021-03-05  12.725781  9.188069  0.995398\n",
      "45  2021-03-08  11.758742  9.757125  0.838233\n",
      "46  2021-03-09  11.518021  9.382080  0.846083\n",
      "47  2021-03-10   9.592132  9.055041  0.663954\n",
      "48  2021-03-12  12.936608  9.629169  0.971694\n",
      "49  2021-03-15  11.611306  8.973829  0.894970\n",
      "50  2021-03-16  12.192873  9.699608  0.887961\n",
      "51  2021-03-17  11.835976  9.688427  0.852148\n",
      "52  2021-03-18   9.643003  9.350947  0.648384\n",
      "53  2021-03-19  10.088207  9.780711  0.665412\n",
      "54  2021-03-22   9.862937  9.713797  0.646805\n",
      "55  2021-03-23  13.702063  8.877798  1.140155\n",
      "56  2021-03-24  14.535817  9.563407  1.145598\n",
      "57  2021-03-25   9.427967  9.018863  0.648415\n",
      "58  2021-03-26   6.868950  9.390639  0.350237\n",
      "59  2021-03-30   8.024377  9.134267  0.486561\n"
     ]
    },
    {
     "name": "stderr",
     "output_type": "stream",
     "text": [
      "\u001b[32m[I 2022-05-26 20:29:57,387]\u001b[0m A new study created in memory with name: no-name-8b2c0c29-2b39-4576-a90b-c2d332c12d84\u001b[0m\n",
      "\u001b[32m[I 2022-05-26 20:29:57,460]\u001b[0m Trial 0 finished with value: 0.2283752512622466 and parameters: {'ITERATIONS': 2, 'Q': 0.6056900974724021, 'EVA_RATE': 0.30273511336537623, 'ANTS': 3}. Best is trial 0 with value: 0.2283752512622466.\u001b[0m\n",
      "\u001b[32m[I 2022-05-26 20:29:57,519]\u001b[0m Trial 1 finished with value: 0.22182824302551665 and parameters: {'ITERATIONS': 2, 'Q': 0.8271203300698955, 'EVA_RATE': 0.29000646934150714, 'ANTS': 4}. Best is trial 0 with value: 0.2283752512622466.\u001b[0m\n"
     ]
    },
    {
     "name": "stdout",
     "output_type": "stream",
     "text": [
      "          Date    Returns      Risk     Ratio\n",
      "0   2021-01-01  20.812991  6.905090  2.495694\n",
      "1   2021-01-04  20.574005  7.037955  2.414623\n",
      "2   2021-01-05  21.652565  7.046567  2.564733\n",
      "3   2021-01-06  21.859558  7.094556  2.576561\n",
      "4   2021-01-07  21.504652  7.347479  2.439565\n",
      "..         ...        ...       ...       ...\n",
      "56  2021-03-24  14.535817  9.563407  1.145598\n",
      "57  2021-03-25   9.427967  9.018863  0.648415\n",
      "58  2021-03-26   6.868950  9.390639  0.350237\n",
      "59  2021-03-30   8.024377  9.134267  0.486561\n",
      "60  2021-03-31   9.866954  9.694973  0.648476\n",
      "\n",
      "[61 rows x 4 columns]\n"
     ]
    },
    {
     "name": "stderr",
     "output_type": "stream",
     "text": [
      "\u001b[32m[I 2022-05-26 20:29:57,669]\u001b[0m A new study created in memory with name: no-name-bccdae3b-075f-4da8-8eb3-82109d8f9c70\u001b[0m\n",
      "\u001b[32m[I 2022-05-26 20:29:57,736]\u001b[0m Trial 0 finished with value: 0.24471416704304008 and parameters: {'ITERATIONS': 2, 'Q': 0.9418509735939447, 'EVA_RATE': 0.30839771080956213, 'ANTS': 2}. Best is trial 0 with value: 0.24471416704304008.\u001b[0m\n",
      "\u001b[32m[I 2022-05-26 20:29:57,807]\u001b[0m Trial 1 finished with value: 0.2503210091234536 and parameters: {'ITERATIONS': 3, 'Q': 0.5467039268369475, 'EVA_RATE': 0.2782228587572742, 'ANTS': 2}. Best is trial 1 with value: 0.2503210091234536.\u001b[0m\n"
     ]
    },
    {
     "name": "stdout",
     "output_type": "stream",
     "text": [
      "          Date    Returns      Risk     Ratio\n",
      "0   2021-01-01  20.812991  6.905090  2.495694\n",
      "1   2021-01-04  20.574005  7.037955  2.414623\n",
      "2   2021-01-05  21.652565  7.046567  2.564733\n",
      "3   2021-01-06  21.859558  7.094556  2.576561\n",
      "4   2021-01-07  21.504652  7.347479  2.439565\n",
      "..         ...        ...       ...       ...\n",
      "57  2021-03-25   9.427967  9.018863  0.648415\n",
      "58  2021-03-26   6.868950  9.390639  0.350237\n",
      "59  2021-03-30   8.024377  9.134267  0.486561\n",
      "60  2021-03-31   9.866954  9.694973  0.648476\n",
      "61  2021-04-01  11.874030  9.781629  0.847919\n",
      "\n",
      "[62 rows x 4 columns]\n"
     ]
    },
    {
     "name": "stderr",
     "output_type": "stream",
     "text": [
      "\u001b[32m[I 2022-05-26 20:29:57,982]\u001b[0m A new study created in memory with name: no-name-ea74fb58-aafa-4fd4-81f0-c470109eb510\u001b[0m\n",
      "\u001b[32m[I 2022-05-26 20:29:58,054]\u001b[0m Trial 0 finished with value: 0.24082740791826754 and parameters: {'ITERATIONS': 4, 'Q': 0.8970538906768591, 'EVA_RATE': 0.9395448438446854, 'ANTS': 4}. Best is trial 0 with value: 0.24082740791826754.\u001b[0m\n",
      "\u001b[32m[I 2022-05-26 20:29:58,116]\u001b[0m Trial 1 finished with value: 0.21184651220277764 and parameters: {'ITERATIONS': 2, 'Q': 0.40503260628299254, 'EVA_RATE': 0.7278590147180262, 'ANTS': 2}. Best is trial 0 with value: 0.24082740791826754.\u001b[0m\n"
     ]
    },
    {
     "name": "stdout",
     "output_type": "stream",
     "text": [
      "          Date    Returns      Risk     Ratio\n",
      "0   2021-01-01  20.812991  6.905090  2.495694\n",
      "1   2021-01-04  20.574005  7.037955  2.414623\n",
      "2   2021-01-05  21.652565  7.046567  2.564733\n",
      "3   2021-01-06  21.859558  7.094556  2.576561\n",
      "4   2021-01-07  21.504652  7.347479  2.439565\n",
      "..         ...        ...       ...       ...\n",
      "58  2021-03-26   6.868950  9.390639  0.350237\n",
      "59  2021-03-30   8.024377  9.134267  0.486561\n",
      "60  2021-03-31   9.866954  9.694973  0.648476\n",
      "61  2021-04-01  11.874030  9.781629  0.847919\n",
      "62  2021-04-05  10.571774  9.776981  0.715126\n",
      "\n",
      "[63 rows x 4 columns]\n"
     ]
    },
    {
     "name": "stderr",
     "output_type": "stream",
     "text": [
      "\u001b[32m[I 2022-05-26 20:29:58,301]\u001b[0m A new study created in memory with name: no-name-8bbb8ef2-bc2b-4ca2-aa89-a333dc57b309\u001b[0m\n",
      "\u001b[32m[I 2022-05-26 20:29:58,391]\u001b[0m Trial 0 finished with value: 0.24625921532798256 and parameters: {'ITERATIONS': 4, 'Q': 0.8308798268124119, 'EVA_RATE': 0.4051817613129317, 'ANTS': 2}. Best is trial 0 with value: 0.24625921532798256.\u001b[0m\n",
      "\u001b[32m[I 2022-05-26 20:29:58,469]\u001b[0m Trial 1 finished with value: 0.23077216453811578 and parameters: {'ITERATIONS': 5, 'Q': 0.9070853188889209, 'EVA_RATE': 0.8133066408948324, 'ANTS': 2}. Best is trial 0 with value: 0.24625921532798256.\u001b[0m\n"
     ]
    },
    {
     "name": "stdout",
     "output_type": "stream",
     "text": [
      "          Date    Returns      Risk     Ratio\n",
      "0   2021-01-01  20.812991  6.905090  2.495694\n",
      "1   2021-01-04  20.574005  7.037955  2.414623\n",
      "2   2021-01-05  21.652565  7.046567  2.564733\n",
      "3   2021-01-06  21.859558  7.094556  2.576561\n",
      "4   2021-01-07  21.504652  7.347479  2.439565\n",
      "..         ...        ...       ...       ...\n",
      "59  2021-03-30   8.024377  9.134267  0.486561\n",
      "60  2021-03-31   9.866954  9.694973  0.648476\n",
      "61  2021-04-01  11.874030  9.781629  0.847919\n",
      "62  2021-04-05  10.571774  9.776981  0.715126\n",
      "63  2021-04-06  10.715150  9.711776  0.734690\n",
      "\n",
      "[64 rows x 4 columns]\n"
     ]
    },
    {
     "name": "stderr",
     "output_type": "stream",
     "text": [
      "\u001b[32m[I 2022-05-26 20:29:58,638]\u001b[0m A new study created in memory with name: no-name-c22c5bba-cdb5-4b80-bce4-2eaf33c37a1a\u001b[0m\n",
      "\u001b[32m[I 2022-05-26 20:29:58,723]\u001b[0m Trial 0 finished with value: 0.22583096873815892 and parameters: {'ITERATIONS': 4, 'Q': 0.3117779248081206, 'EVA_RATE': 0.1771159995437216, 'ANTS': 3}. Best is trial 0 with value: 0.22583096873815892.\u001b[0m\n",
      "\u001b[32m[I 2022-05-26 20:29:58,818]\u001b[0m Trial 1 finished with value: 0.24067112170086333 and parameters: {'ITERATIONS': 2, 'Q': 0.8703138354694079, 'EVA_RATE': 0.37039744104275474, 'ANTS': 5}. Best is trial 1 with value: 0.24067112170086333.\u001b[0m\n"
     ]
    },
    {
     "name": "stdout",
     "output_type": "stream",
     "text": [
      "          Date    Returns      Risk     Ratio\n",
      "0   2021-01-01  20.812991  6.905090  2.495694\n",
      "1   2021-01-04  20.574005  7.037955  2.414623\n",
      "2   2021-01-05  21.652565  7.046567  2.564733\n",
      "3   2021-01-06  21.859558  7.094556  2.576561\n",
      "4   2021-01-07  21.504652  7.347479  2.439565\n",
      "..         ...        ...       ...       ...\n",
      "60  2021-03-31   9.866954  9.694973  0.648476\n",
      "61  2021-04-01  11.874030  9.781629  0.847919\n",
      "62  2021-04-05  10.571774  9.776981  0.715126\n",
      "63  2021-04-06  10.715150  9.711776  0.734690\n",
      "64  2021-04-07   8.683882  9.611668  0.531009\n",
      "\n",
      "[65 rows x 4 columns]\n"
     ]
    },
    {
     "name": "stderr",
     "output_type": "stream",
     "text": [
      "\u001b[32m[I 2022-05-26 20:29:59,014]\u001b[0m A new study created in memory with name: no-name-ce4fca86-cb14-40ac-80df-8e6d8d9554c0\u001b[0m\n",
      "\u001b[32m[I 2022-05-26 20:29:59,069]\u001b[0m Trial 0 finished with value: 0.20310730285499512 and parameters: {'ITERATIONS': 2, 'Q': 0.7782184885379528, 'EVA_RATE': 0.8269556879337436, 'ANTS': 2}. Best is trial 0 with value: 0.20310730285499512.\u001b[0m\n",
      "\u001b[32m[I 2022-05-26 20:29:59,131]\u001b[0m Trial 1 finished with value: 0.22009401392110606 and parameters: {'ITERATIONS': 3, 'Q': 0.9330105438130823, 'EVA_RATE': 0.17398124118838143, 'ANTS': 4}. Best is trial 1 with value: 0.22009401392110606.\u001b[0m\n"
     ]
    },
    {
     "name": "stdout",
     "output_type": "stream",
     "text": [
      "          Date    Returns       Risk     Ratio\n",
      "0   2021-01-01  20.812991   6.905090  2.495694\n",
      "1   2021-01-04  20.574005   7.037955  2.414623\n",
      "2   2021-01-05  21.652565   7.046567  2.564733\n",
      "3   2021-01-06  21.859558   7.094556  2.576561\n",
      "4   2021-01-07  21.504652   7.347479  2.439565\n",
      "..         ...        ...        ...       ...\n",
      "61  2021-04-01  11.874030   9.781629  0.847919\n",
      "62  2021-04-05  10.571774   9.776981  0.715126\n",
      "63  2021-04-06  10.715150   9.711776  0.734690\n",
      "64  2021-04-07   8.683882   9.611668  0.531009\n",
      "65  2021-04-08  13.904605  10.110996  1.021126\n",
      "\n",
      "[66 rows x 4 columns]\n"
     ]
    },
    {
     "name": "stderr",
     "output_type": "stream",
     "text": [
      "\u001b[32m[I 2022-05-26 20:29:59,319]\u001b[0m A new study created in memory with name: no-name-93d47f71-16ed-4a86-99be-3f4339d77fec\u001b[0m\n",
      "\u001b[32m[I 2022-05-26 20:29:59,393]\u001b[0m Trial 0 finished with value: 0.23240113052990824 and parameters: {'ITERATIONS': 2, 'Q': 0.8101551922872443, 'EVA_RATE': 0.804332425083929, 'ANTS': 2}. Best is trial 0 with value: 0.23240113052990824.\u001b[0m\n",
      "\u001b[32m[I 2022-05-26 20:29:59,499]\u001b[0m Trial 1 finished with value: 0.22408114662224501 and parameters: {'ITERATIONS': 4, 'Q': 0.6151458671354952, 'EVA_RATE': 0.5163294691524191, 'ANTS': 5}. Best is trial 0 with value: 0.23240113052990824.\u001b[0m\n"
     ]
    },
    {
     "name": "stdout",
     "output_type": "stream",
     "text": [
      "          Date    Returns       Risk     Ratio\n",
      "0   2021-01-01  20.812991   6.905090  2.495694\n",
      "1   2021-01-04  20.574005   7.037955  2.414623\n",
      "2   2021-01-05  21.652565   7.046567  2.564733\n",
      "3   2021-01-06  21.859558   7.094556  2.576561\n",
      "4   2021-01-07  21.504652   7.347479  2.439565\n",
      "..         ...        ...        ...       ...\n",
      "62  2021-04-05  10.571774   9.776981  0.715126\n",
      "63  2021-04-06  10.715150   9.711776  0.734690\n",
      "64  2021-04-07   8.683882   9.611668  0.531009\n",
      "65  2021-04-08  13.904605  10.110996  1.021126\n",
      "66  2021-04-09  12.392632  10.128261  0.870103\n",
      "\n",
      "[67 rows x 4 columns]\n"
     ]
    },
    {
     "name": "stderr",
     "output_type": "stream",
     "text": [
      "\u001b[32m[I 2022-05-26 20:29:59,702]\u001b[0m A new study created in memory with name: no-name-93cbd902-9149-4ba7-a926-1780925051b5\u001b[0m\n",
      "\u001b[32m[I 2022-05-26 20:29:59,782]\u001b[0m Trial 0 finished with value: 0.23322809999989946 and parameters: {'ITERATIONS': 5, 'Q': 0.7378026334514391, 'EVA_RATE': 0.9153076425524412, 'ANTS': 3}. Best is trial 0 with value: 0.23322809999989946.\u001b[0m\n"
     ]
    },
    {
     "name": "stdout",
     "output_type": "stream",
     "text": [
      "          Date    Returns       Risk     Ratio\n",
      "0   2021-01-01  20.812991   6.905090  2.495694\n",
      "1   2021-01-04  20.574005   7.037955  2.414623\n",
      "2   2021-01-05  21.652565   7.046567  2.564733\n",
      "3   2021-01-06  21.859558   7.094556  2.576561\n",
      "4   2021-01-07  21.504652   7.347479  2.439565\n",
      "..         ...        ...        ...       ...\n",
      "63  2021-04-06  10.715150   9.711776  0.734690\n",
      "64  2021-04-07   8.683882   9.611668  0.531009\n",
      "65  2021-04-08  13.904605  10.110996  1.021126\n",
      "66  2021-04-09  12.392632  10.128261  0.870103\n",
      "67  2021-04-12  12.257764   9.510348  0.912455\n",
      "\n",
      "[68 rows x 4 columns]\n"
     ]
    },
    {
     "name": "stderr",
     "output_type": "stream",
     "text": [
      "\u001b[32m[I 2022-05-26 20:29:59,885]\u001b[0m Trial 1 finished with value: 0.22062098985967274 and parameters: {'ITERATIONS': 3, 'Q': 0.612331304413942, 'EVA_RATE': 0.651148490329267, 'ANTS': 5}. Best is trial 0 with value: 0.23322809999989946.\u001b[0m\n",
      "\u001b[32m[I 2022-05-26 20:30:00,096]\u001b[0m A new study created in memory with name: no-name-fc15b6d7-b3cf-4674-b86b-17fd42bc4de2\u001b[0m\n",
      "\u001b[32m[I 2022-05-26 20:30:00,159]\u001b[0m Trial 0 finished with value: 0.22820018792435331 and parameters: {'ITERATIONS': 5, 'Q': 0.7411205019140035, 'EVA_RATE': 0.7949621806404313, 'ANTS': 2}. Best is trial 0 with value: 0.22820018792435331.\u001b[0m\n",
      "\u001b[32m[I 2022-05-26 20:30:00,252]\u001b[0m Trial 1 finished with value: 0.22526044199569165 and parameters: {'ITERATIONS': 5, 'Q': 0.635847814998943, 'EVA_RATE': 0.5772730847300023, 'ANTS': 5}. Best is trial 0 with value: 0.22820018792435331.\u001b[0m\n"
     ]
    },
    {
     "name": "stdout",
     "output_type": "stream",
     "text": [
      "          Date    Returns       Risk     Ratio\n",
      "0   2021-01-01  20.812991   6.905090  2.495694\n",
      "1   2021-01-04  20.574005   7.037955  2.414623\n",
      "2   2021-01-05  21.652565   7.046567  2.564733\n",
      "3   2021-01-06  21.859558   7.094556  2.576561\n",
      "4   2021-01-07  21.504652   7.347479  2.439565\n",
      "..         ...        ...        ...       ...\n",
      "64  2021-04-07   8.683882   9.611668  0.531009\n",
      "65  2021-04-08  13.904605  10.110996  1.021126\n",
      "66  2021-04-09  12.392632  10.128261  0.870103\n",
      "67  2021-04-12  12.257764   9.510348  0.912455\n",
      "68  2021-04-13   7.871994  10.422068  0.411818\n",
      "\n",
      "[69 rows x 4 columns]\n"
     ]
    },
    {
     "name": "stderr",
     "output_type": "stream",
     "text": [
      "\u001b[32m[I 2022-05-26 20:30:00,408]\u001b[0m A new study created in memory with name: no-name-b140b554-f629-4ad7-8960-b4265769c535\u001b[0m\n",
      "\u001b[32m[I 2022-05-26 20:30:00,502]\u001b[0m Trial 0 finished with value: 0.2243660553874244 and parameters: {'ITERATIONS': 2, 'Q': 0.6459691773640707, 'EVA_RATE': 0.5103990200080982, 'ANTS': 2}. Best is trial 0 with value: 0.2243660553874244.\u001b[0m\n",
      "\u001b[32m[I 2022-05-26 20:30:00,580]\u001b[0m Trial 1 finished with value: 0.21196970328646664 and parameters: {'ITERATIONS': 4, 'Q': 0.3822109318530369, 'EVA_RATE': 0.5440803167460001, 'ANTS': 5}. Best is trial 0 with value: 0.2243660553874244.\u001b[0m\n"
     ]
    },
    {
     "name": "stdout",
     "output_type": "stream",
     "text": [
      "          Date    Returns       Risk     Ratio\n",
      "0   2021-01-01  20.812991   6.905090  2.495694\n",
      "1   2021-01-04  20.574005   7.037955  2.414623\n",
      "2   2021-01-05  21.652565   7.046567  2.564733\n",
      "3   2021-01-06  21.859558   7.094556  2.576561\n",
      "4   2021-01-07  21.504652   7.347479  2.439565\n",
      "..         ...        ...        ...       ...\n",
      "65  2021-04-08  13.904605  10.110996  1.021126\n",
      "66  2021-04-09  12.392632  10.128261  0.870103\n",
      "67  2021-04-12  12.257764   9.510348  0.912455\n",
      "68  2021-04-13   7.871994  10.422068  0.411818\n",
      "69  2021-04-15   6.176660  10.296169  0.252197\n",
      "\n",
      "[70 rows x 4 columns]\n"
     ]
    },
    {
     "name": "stderr",
     "output_type": "stream",
     "text": [
      "\u001b[32m[I 2022-05-26 20:30:00,705]\u001b[0m A new study created in memory with name: no-name-f92f18ba-f0ad-496a-8b5f-6ac8b407f180\u001b[0m\n",
      "\u001b[32m[I 2022-05-26 20:30:00,736]\u001b[0m Trial 0 finished with value: 0.23903189262158225 and parameters: {'ITERATIONS': 3, 'Q': 0.143352997949983, 'EVA_RATE': 0.4219011381900206, 'ANTS': 2}. Best is trial 0 with value: 0.23903189262158225.\u001b[0m\n",
      "\u001b[32m[I 2022-05-26 20:30:00,845]\u001b[0m Trial 1 finished with value: 0.22364516927316197 and parameters: {'ITERATIONS': 4, 'Q': 0.8038006597897777, 'EVA_RATE': 0.5240036707028737, 'ANTS': 5}. Best is trial 0 with value: 0.23903189262158225.\u001b[0m\n"
     ]
    },
    {
     "name": "stdout",
     "output_type": "stream",
     "text": [
      "          Date    Returns       Risk     Ratio\n",
      "0   2021-01-01  20.812991   6.905090  2.495694\n",
      "1   2021-01-04  20.574005   7.037955  2.414623\n",
      "2   2021-01-05  21.652565   7.046567  2.564733\n",
      "3   2021-01-06  21.859558   7.094556  2.576561\n",
      "4   2021-01-07  21.504652   7.347479  2.439565\n",
      "..         ...        ...        ...       ...\n",
      "66  2021-04-09  12.392632  10.128261  0.870103\n",
      "67  2021-04-12  12.257764   9.510348  0.912455\n",
      "68  2021-04-13   7.871994  10.422068  0.411818\n",
      "69  2021-04-15   6.176660  10.296169  0.252197\n",
      "70  2021-04-16   7.224690  10.376251  0.351253\n",
      "\n",
      "[71 rows x 4 columns]\n"
     ]
    },
    {
     "name": "stderr",
     "output_type": "stream",
     "text": [
      "\u001b[32m[I 2022-05-26 20:30:01,017]\u001b[0m A new study created in memory with name: no-name-9d2b195f-2159-4570-b754-1dedcaccd4f4\u001b[0m\n",
      "\u001b[32m[I 2022-05-26 20:30:01,080]\u001b[0m Trial 0 finished with value: 0.22307565153818082 and parameters: {'ITERATIONS': 5, 'Q': 0.4873241632398, 'EVA_RATE': 0.9629070152099174, 'ANTS': 2}. Best is trial 0 with value: 0.22307565153818082.\u001b[0m\n",
      "\u001b[32m[I 2022-05-26 20:30:01,150]\u001b[0m Trial 1 finished with value: 0.23390711989522214 and parameters: {'ITERATIONS': 3, 'Q': 0.4904770486261668, 'EVA_RATE': 0.6622858101719301, 'ANTS': 4}. Best is trial 1 with value: 0.23390711989522214.\u001b[0m\n"
     ]
    },
    {
     "name": "stdout",
     "output_type": "stream",
     "text": [
      "          Date    Returns       Risk     Ratio\n",
      "0   2021-01-01  20.812991   6.905090  2.495694\n",
      "1   2021-01-04  20.574005   7.037955  2.414623\n",
      "2   2021-01-05  21.652565   7.046567  2.564733\n",
      "3   2021-01-06  21.859558   7.094556  2.576561\n",
      "4   2021-01-07  21.504652   7.347479  2.439565\n",
      "..         ...        ...        ...       ...\n",
      "67  2021-04-12  12.257764   9.510348  0.912455\n",
      "68  2021-04-13   7.871994  10.422068  0.411818\n",
      "69  2021-04-15   6.176660  10.296169  0.252197\n",
      "70  2021-04-16   7.224690  10.376251  0.351253\n",
      "71  2021-04-19   8.021807  10.586774  0.419562\n",
      "\n",
      "[72 rows x 4 columns]\n"
     ]
    },
    {
     "name": "stderr",
     "output_type": "stream",
     "text": [
      "\u001b[32m[I 2022-05-26 20:30:01,392]\u001b[0m A new study created in memory with name: no-name-48977cd2-828e-4699-8bd8-b3c14580b108\u001b[0m\n",
      "\u001b[32m[I 2022-05-26 20:30:01,492]\u001b[0m Trial 0 finished with value: 0.21642216787383659 and parameters: {'ITERATIONS': 5, 'Q': 0.884307707434472, 'EVA_RATE': 0.12373947281745584, 'ANTS': 3}. Best is trial 0 with value: 0.21642216787383659.\u001b[0m\n",
      "\u001b[32m[I 2022-05-26 20:30:01,549]\u001b[0m Trial 1 finished with value: 0.21991814823953798 and parameters: {'ITERATIONS': 4, 'Q': 0.19587246408412312, 'EVA_RATE': 0.9617324252642409, 'ANTS': 2}. Best is trial 1 with value: 0.21991814823953798.\u001b[0m\n"
     ]
    },
    {
     "name": "stdout",
     "output_type": "stream",
     "text": [
      "          Date    Returns       Risk     Ratio\n",
      "0   2021-01-01  20.812991   6.905090  2.495694\n",
      "1   2021-01-04  20.574005   7.037955  2.414623\n",
      "2   2021-01-05  21.652565   7.046567  2.564733\n",
      "3   2021-01-06  21.859558   7.094556  2.576561\n",
      "4   2021-01-07  21.504652   7.347479  2.439565\n",
      "..         ...        ...        ...       ...\n",
      "68  2021-04-13   7.871994  10.422068  0.411818\n",
      "69  2021-04-15   6.176660  10.296169  0.252197\n",
      "70  2021-04-16   7.224690  10.376251  0.351253\n",
      "71  2021-04-19   8.021807  10.586774  0.419562\n",
      "72  2021-04-20   6.389216  10.595059  0.265144\n",
      "\n",
      "[73 rows x 4 columns]\n"
     ]
    },
    {
     "name": "stderr",
     "output_type": "stream",
     "text": [
      "\u001b[32m[I 2022-05-26 20:30:01,741]\u001b[0m A new study created in memory with name: no-name-5ddfd2bf-578c-4c44-aee3-9d07d4cfa6ce\u001b[0m\n",
      "\u001b[32m[I 2022-05-26 20:30:01,803]\u001b[0m Trial 0 finished with value: 0.20224141081515148 and parameters: {'ITERATIONS': 2, 'Q': 0.7109836756652329, 'EVA_RATE': 0.5103384368919659, 'ANTS': 2}. Best is trial 0 with value: 0.20224141081515148.\u001b[0m\n",
      "\u001b[32m[I 2022-05-26 20:30:01,864]\u001b[0m Trial 1 finished with value: 0.21460389927377616 and parameters: {'ITERATIONS': 4, 'Q': 0.37888115181398907, 'EVA_RATE': 0.8744589841974191, 'ANTS': 2}. Best is trial 1 with value: 0.21460389927377616.\u001b[0m\n"
     ]
    },
    {
     "name": "stdout",
     "output_type": "stream",
     "text": [
      "          Date    Returns       Risk     Ratio\n",
      "0   2021-01-01  20.812991   6.905090  2.495694\n",
      "1   2021-01-04  20.574005   7.037955  2.414623\n",
      "2   2021-01-05  21.652565   7.046567  2.564733\n",
      "3   2021-01-06  21.859558   7.094556  2.576561\n",
      "4   2021-01-07  21.504652   7.347479  2.439565\n",
      "..         ...        ...        ...       ...\n",
      "69  2021-04-15   6.176660  10.296169  0.252197\n",
      "70  2021-04-16   7.224690  10.376251  0.351253\n",
      "71  2021-04-19   8.021807  10.586774  0.419562\n",
      "72  2021-04-20   6.389216  10.595059  0.265144\n",
      "73  2021-04-22   9.248660  10.843097  0.522790\n",
      "\n",
      "[74 rows x 4 columns]\n"
     ]
    },
    {
     "name": "stderr",
     "output_type": "stream",
     "text": [
      "\u001b[32m[I 2022-05-26 20:30:02,052]\u001b[0m A new study created in memory with name: no-name-b5eb6f4c-7548-42fb-a92c-b986d6cbda6f\u001b[0m\n",
      "\u001b[32m[I 2022-05-26 20:30:02,155]\u001b[0m Trial 0 finished with value: 0.24567917974689094 and parameters: {'ITERATIONS': 4, 'Q': 0.22042569787060437, 'EVA_RATE': 0.6517147015985962, 'ANTS': 5}. Best is trial 0 with value: 0.24567917974689094.\u001b[0m\n"
     ]
    },
    {
     "name": "stdout",
     "output_type": "stream",
     "text": [
      "          Date    Returns       Risk     Ratio\n",
      "0   2021-01-01  20.812991   6.905090  2.495694\n",
      "1   2021-01-04  20.574005   7.037955  2.414623\n",
      "2   2021-01-05  21.652565   7.046567  2.564733\n",
      "3   2021-01-06  21.859558   7.094556  2.576561\n",
      "4   2021-01-07  21.504652   7.347479  2.439565\n",
      "..         ...        ...        ...       ...\n",
      "70  2021-04-16   7.224690  10.376251  0.351253\n",
      "71  2021-04-19   8.021807  10.586774  0.419562\n",
      "72  2021-04-20   6.389216  10.595059  0.265144\n",
      "73  2021-04-22   9.248660  10.843097  0.522790\n",
      "74  2021-04-23   9.290051  10.122903  0.564073\n",
      "\n",
      "[75 rows x 4 columns]\n"
     ]
    },
    {
     "name": "stderr",
     "output_type": "stream",
     "text": [
      "\u001b[32m[I 2022-05-26 20:30:02,295]\u001b[0m Trial 1 finished with value: 0.23143287134146695 and parameters: {'ITERATIONS': 4, 'Q': 0.51310277562053, 'EVA_RATE': 0.7062763610265743, 'ANTS': 5}. Best is trial 0 with value: 0.24567917974689094.\u001b[0m\n",
      "\u001b[32m[I 2022-05-26 20:30:02,541]\u001b[0m A new study created in memory with name: no-name-764392ce-9f70-491f-863a-a910a6cc50f3\u001b[0m\n",
      "\u001b[32m[I 2022-05-26 20:30:02,619]\u001b[0m Trial 0 finished with value: 0.2097691745579581 and parameters: {'ITERATIONS': 3, 'Q': 0.43795982979048587, 'EVA_RATE': 0.4121563644798444, 'ANTS': 5}. Best is trial 0 with value: 0.2097691745579581.\u001b[0m\n",
      "\u001b[32m[I 2022-05-26 20:30:02,700]\u001b[0m Trial 1 finished with value: 0.22376797404017662 and parameters: {'ITERATIONS': 3, 'Q': 0.13820766908769797, 'EVA_RATE': 0.3154933521307164, 'ANTS': 5}. Best is trial 1 with value: 0.22376797404017662.\u001b[0m\n"
     ]
    },
    {
     "name": "stdout",
     "output_type": "stream",
     "text": [
      "          Date    Returns       Risk     Ratio\n",
      "0   2021-01-01  20.812991   6.905090  2.495694\n",
      "1   2021-01-04  20.574005   7.037955  2.414623\n",
      "2   2021-01-05  21.652565   7.046567  2.564733\n",
      "3   2021-01-06  21.859558   7.094556  2.576561\n",
      "4   2021-01-07  21.504652   7.347479  2.439565\n",
      "..         ...        ...        ...       ...\n",
      "71  2021-04-19   8.021807  10.586774  0.419562\n",
      "72  2021-04-20   6.389216  10.595059  0.265144\n",
      "73  2021-04-22   9.248660  10.843097  0.522790\n",
      "74  2021-04-23   9.290051  10.122903  0.564073\n",
      "75  2021-04-26   6.909652  10.030862  0.331941\n",
      "\n",
      "[76 rows x 4 columns]\n"
     ]
    },
    {
     "name": "stderr",
     "output_type": "stream",
     "text": [
      "\u001b[32m[I 2022-05-26 20:30:02,918]\u001b[0m A new study created in memory with name: no-name-666e855c-68fa-49df-8cd0-e0b9c3f2e391\u001b[0m\n",
      "\u001b[32m[I 2022-05-26 20:30:03,013]\u001b[0m Trial 0 finished with value: 0.22713920840234306 and parameters: {'ITERATIONS': 2, 'Q': 0.7076339459731753, 'EVA_RATE': 0.3428340460070718, 'ANTS': 5}. Best is trial 0 with value: 0.22713920840234306.\u001b[0m\n",
      "\u001b[32m[I 2022-05-26 20:30:03,091]\u001b[0m Trial 1 finished with value: 0.22807334965480222 and parameters: {'ITERATIONS': 3, 'Q': 0.47664463774715604, 'EVA_RATE': 0.7463068988956241, 'ANTS': 3}. Best is trial 1 with value: 0.22807334965480222.\u001b[0m\n"
     ]
    },
    {
     "name": "stdout",
     "output_type": "stream",
     "text": [
      "          Date    Returns       Risk     Ratio\n",
      "0   2021-01-01  20.812991   6.905090  2.495694\n",
      "1   2021-01-04  20.574005   7.037955  2.414623\n",
      "2   2021-01-05  21.652565   7.046567  2.564733\n",
      "3   2021-01-06  21.859558   7.094556  2.576561\n",
      "4   2021-01-07  21.504652   7.347479  2.439565\n",
      "..         ...        ...        ...       ...\n",
      "72  2021-04-20   6.389216  10.595059  0.265144\n",
      "73  2021-04-22   9.248660  10.843097  0.522790\n",
      "74  2021-04-23   9.290051  10.122903  0.564073\n",
      "75  2021-04-26   6.909652  10.030862  0.331941\n",
      "76  2021-04-27   3.477022   9.499709 -0.010840\n",
      "\n",
      "[77 rows x 4 columns]\n"
     ]
    },
    {
     "name": "stderr",
     "output_type": "stream",
     "text": [
      "\u001b[32m[I 2022-05-26 20:30:03,299]\u001b[0m A new study created in memory with name: no-name-a3d0b9be-8d05-49d6-804d-769f691e558d\u001b[0m\n",
      "\u001b[32m[I 2022-05-26 20:30:03,384]\u001b[0m Trial 0 finished with value: 0.21960120363938304 and parameters: {'ITERATIONS': 4, 'Q': 0.8079377315960506, 'EVA_RATE': 0.7780468686678716, 'ANTS': 3}. Best is trial 0 with value: 0.21960120363938304.\u001b[0m\n",
      "\u001b[32m[I 2022-05-26 20:30:03,440]\u001b[0m Trial 1 finished with value: 0.21555670784778722 and parameters: {'ITERATIONS': 2, 'Q': 0.6440463548728541, 'EVA_RATE': 0.17904133355562957, 'ANTS': 2}. Best is trial 0 with value: 0.21960120363938304.\u001b[0m\n"
     ]
    },
    {
     "name": "stdout",
     "output_type": "stream",
     "text": [
      "          Date    Returns       Risk     Ratio\n",
      "0   2021-01-01  20.812991   6.905090  2.495694\n",
      "1   2021-01-04  20.574005   7.037955  2.414623\n",
      "2   2021-01-05  21.652565   7.046567  2.564733\n",
      "3   2021-01-06  21.859558   7.094556  2.576561\n",
      "4   2021-01-07  21.504652   7.347479  2.439565\n",
      "..         ...        ...        ...       ...\n",
      "73  2021-04-22   9.248660  10.843097  0.522790\n",
      "74  2021-04-23   9.290051  10.122903  0.564073\n",
      "75  2021-04-26   6.909652  10.030862  0.331941\n",
      "76  2021-04-27   3.477022   9.499709 -0.010840\n",
      "77  2021-04-28   7.821687  10.154504  0.417715\n",
      "\n",
      "[78 rows x 4 columns]\n"
     ]
    },
    {
     "name": "stderr",
     "output_type": "stream",
     "text": [
      "\u001b[32m[I 2022-05-26 20:30:03,668]\u001b[0m A new study created in memory with name: no-name-d258e4b7-ddde-4f7f-ac91-7b99045c98a5\u001b[0m\n",
      "\u001b[32m[I 2022-05-26 20:30:03,759]\u001b[0m Trial 0 finished with value: 0.23447853638360328 and parameters: {'ITERATIONS': 5, 'Q': 0.7852422317738547, 'EVA_RATE': 0.6580562396984772, 'ANTS': 4}. Best is trial 0 with value: 0.23447853638360328.\u001b[0m\n"
     ]
    },
    {
     "name": "stdout",
     "output_type": "stream",
     "text": [
      "          Date    Returns       Risk     Ratio\n",
      "0   2021-01-01  20.812991   6.905090  2.495694\n",
      "1   2021-01-04  20.574005   7.037955  2.414623\n",
      "2   2021-01-05  21.652565   7.046567  2.564733\n",
      "3   2021-01-06  21.859558   7.094556  2.576561\n",
      "4   2021-01-07  21.504652   7.347479  2.439565\n",
      "..         ...        ...        ...       ...\n",
      "74  2021-04-23   9.290051  10.122903  0.564073\n",
      "75  2021-04-26   6.909652  10.030862  0.331941\n",
      "76  2021-04-27   3.477022   9.499709 -0.010840\n",
      "77  2021-04-28   7.821687  10.154504  0.417715\n",
      "78  2021-04-29  14.651853  10.893614  1.016362\n",
      "\n",
      "[79 rows x 4 columns]\n"
     ]
    },
    {
     "name": "stderr",
     "output_type": "stream",
     "text": [
      "\u001b[32m[I 2022-05-26 20:30:03,855]\u001b[0m Trial 1 finished with value: 0.2268210291984846 and parameters: {'ITERATIONS': 4, 'Q': 0.26379423227949683, 'EVA_RATE': 0.8855158965547916, 'ANTS': 4}. Best is trial 0 with value: 0.23447853638360328.\u001b[0m\n",
      "\u001b[32m[I 2022-05-26 20:30:04,087]\u001b[0m A new study created in memory with name: no-name-8b58aeff-2017-47f1-8f2b-f46458da3ca4\u001b[0m\n",
      "\u001b[32m[I 2022-05-26 20:30:04,157]\u001b[0m Trial 0 finished with value: 0.22012105213410033 and parameters: {'ITERATIONS': 3, 'Q': 0.6466545244339222, 'EVA_RATE': 0.44246201413539066, 'ANTS': 3}. Best is trial 0 with value: 0.22012105213410033.\u001b[0m\n",
      "\u001b[32m[I 2022-05-26 20:30:04,253]\u001b[0m Trial 1 finished with value: 0.2273927920382004 and parameters: {'ITERATIONS': 3, 'Q': 0.3569187705772493, 'EVA_RATE': 0.4641397749683499, 'ANTS': 4}. Best is trial 1 with value: 0.2273927920382004.\u001b[0m\n"
     ]
    },
    {
     "name": "stdout",
     "output_type": "stream",
     "text": [
      "          Date    Returns       Risk     Ratio\n",
      "0   2021-01-01  20.812991   6.905090  2.495694\n",
      "1   2021-01-04  20.574005   7.037955  2.414623\n",
      "2   2021-01-05  21.652565   7.046567  2.564733\n",
      "3   2021-01-06  21.859558   7.094556  2.576561\n",
      "4   2021-01-07  21.504652   7.347479  2.439565\n",
      "..         ...        ...        ...       ...\n",
      "75  2021-04-26   6.909652  10.030862  0.331941\n",
      "76  2021-04-27   3.477022   9.499709 -0.010840\n",
      "77  2021-04-28   7.821687  10.154504  0.417715\n",
      "78  2021-04-29  14.651853  10.893614  1.016362\n",
      "79  2021-04-30  13.996544  10.321743  1.009185\n",
      "\n",
      "[80 rows x 4 columns]\n"
     ]
    },
    {
     "name": "stderr",
     "output_type": "stream",
     "text": [
      "\u001b[32m[I 2022-05-26 20:30:04,412]\u001b[0m A new study created in memory with name: no-name-b548c63f-01b0-4a8d-99d0-da1d60577ed4\u001b[0m\n",
      "\u001b[32m[I 2022-05-26 20:30:04,488]\u001b[0m Trial 0 finished with value: 0.2099798423637304 and parameters: {'ITERATIONS': 2, 'Q': 0.4419116885915608, 'EVA_RATE': 0.6294912781149862, 'ANTS': 5}. Best is trial 0 with value: 0.2099798423637304.\u001b[0m\n",
      "\u001b[32m[I 2022-05-26 20:30:04,579]\u001b[0m Trial 1 finished with value: 0.22525862926023882 and parameters: {'ITERATIONS': 4, 'Q': 0.3825963874429452, 'EVA_RATE': 0.7236420723915131, 'ANTS': 4}. Best is trial 1 with value: 0.22525862926023882.\u001b[0m\n"
     ]
    },
    {
     "name": "stdout",
     "output_type": "stream",
     "text": [
      "          Date    Returns       Risk     Ratio\n",
      "0   2021-01-01  20.812991   6.905090  2.495694\n",
      "1   2021-01-04  20.574005   7.037955  2.414623\n",
      "2   2021-01-05  21.652565   7.046567  2.564733\n",
      "3   2021-01-06  21.859558   7.094556  2.576561\n",
      "4   2021-01-07  21.504652   7.347479  2.439565\n",
      "..         ...        ...        ...       ...\n",
      "76  2021-04-27   3.477022   9.499709 -0.010840\n",
      "77  2021-04-28   7.821687  10.154504  0.417715\n",
      "78  2021-04-29  14.651853  10.893614  1.016362\n",
      "79  2021-04-30  13.996544  10.321743  1.009185\n",
      "80  2021-05-03  16.687747  11.311318  1.158817\n",
      "\n",
      "[81 rows x 4 columns]\n"
     ]
    },
    {
     "name": "stderr",
     "output_type": "stream",
     "text": [
      "\u001b[32m[I 2022-05-26 20:30:04,757]\u001b[0m A new study created in memory with name: no-name-16b2dcf4-4abb-490a-9f76-54bdd2aeee76\u001b[0m\n",
      "\u001b[32m[I 2022-05-26 20:30:04,808]\u001b[0m Trial 0 finished with value: 0.23034110653718212 and parameters: {'ITERATIONS': 2, 'Q': 0.10873568301963113, 'EVA_RATE': 0.9095079558435969, 'ANTS': 3}. Best is trial 0 with value: 0.23034110653718212.\u001b[0m\n",
      "\u001b[32m[I 2022-05-26 20:30:04,864]\u001b[0m Trial 1 finished with value: 0.20628407246988456 and parameters: {'ITERATIONS': 3, 'Q': 0.4487376270036195, 'EVA_RATE': 0.26636904162385633, 'ANTS': 3}. Best is trial 0 with value: 0.23034110653718212.\u001b[0m\n"
     ]
    },
    {
     "name": "stdout",
     "output_type": "stream",
     "text": [
      "          Date    Returns       Risk     Ratio\n",
      "0   2021-01-01  20.812991   6.905090  2.495694\n",
      "1   2021-01-04  20.574005   7.037955  2.414623\n",
      "2   2021-01-05  21.652565   7.046567  2.564733\n",
      "3   2021-01-06  21.859558   7.094556  2.576561\n",
      "4   2021-01-07  21.504652   7.347479  2.439565\n",
      "..         ...        ...        ...       ...\n",
      "77  2021-04-28   7.821687  10.154504  0.417715\n",
      "78  2021-04-29  14.651853  10.893614  1.016362\n",
      "79  2021-04-30  13.996544  10.321743  1.009185\n",
      "80  2021-05-03  16.687747  11.311318  1.158817\n",
      "81  2021-05-04  14.487784  10.186834  1.070773\n",
      "\n",
      "[82 rows x 4 columns]\n"
     ]
    },
    {
     "name": "stderr",
     "output_type": "stream",
     "text": [
      "\u001b[32m[I 2022-05-26 20:30:05,047]\u001b[0m A new study created in memory with name: no-name-2c64e078-e4a0-4332-9781-9133dc405675\u001b[0m\n",
      "\u001b[32m[I 2022-05-26 20:30:05,133]\u001b[0m Trial 0 finished with value: 0.22293463835682428 and parameters: {'ITERATIONS': 5, 'Q': 0.9875084824992267, 'EVA_RATE': 0.5210728908210339, 'ANTS': 3}. Best is trial 0 with value: 0.22293463835682428.\u001b[0m\n",
      "\u001b[32m[I 2022-05-26 20:30:05,216]\u001b[0m Trial 1 finished with value: 0.20983842982268472 and parameters: {'ITERATIONS': 2, 'Q': 0.9531290727360979, 'EVA_RATE': 0.742490856546422, 'ANTS': 4}. Best is trial 0 with value: 0.22293463835682428.\u001b[0m\n"
     ]
    },
    {
     "name": "stdout",
     "output_type": "stream",
     "text": [
      "          Date    Returns       Risk     Ratio\n",
      "0   2021-01-01  20.812991   6.905090  2.495694\n",
      "1   2021-01-04  20.574005   7.037955  2.414623\n",
      "2   2021-01-05  21.652565   7.046567  2.564733\n",
      "3   2021-01-06  21.859558   7.094556  2.576561\n",
      "4   2021-01-07  21.504652   7.347479  2.439565\n",
      "..         ...        ...        ...       ...\n",
      "78  2021-04-29  14.651853  10.893614  1.016362\n",
      "79  2021-04-30  13.996544  10.321743  1.009185\n",
      "80  2021-05-03  16.687747  11.311318  1.158817\n",
      "81  2021-05-04  14.487784  10.186834  1.070773\n",
      "82  2021-05-05  14.716307   9.742096  1.143112\n",
      "\n",
      "[83 rows x 4 columns]\n"
     ]
    },
    {
     "name": "stderr",
     "output_type": "stream",
     "text": [
      "\u001b[32m[I 2022-05-26 20:30:05,421]\u001b[0m A new study created in memory with name: no-name-4fb4e36a-68a2-4692-96c4-4021f0965081\u001b[0m\n",
      "\u001b[32m[I 2022-05-26 20:30:05,484]\u001b[0m Trial 0 finished with value: 0.2328047684106716 and parameters: {'ITERATIONS': 2, 'Q': 0.4498505139981661, 'EVA_RATE': 0.7698096022417585, 'ANTS': 2}. Best is trial 0 with value: 0.2328047684106716.\u001b[0m\n",
      "\u001b[32m[I 2022-05-26 20:30:05,568]\u001b[0m Trial 1 finished with value: 0.21680030232641187 and parameters: {'ITERATIONS': 4, 'Q': 0.8378429560290628, 'EVA_RATE': 0.2052346719365083, 'ANTS': 2}. Best is trial 0 with value: 0.2328047684106716.\u001b[0m\n"
     ]
    },
    {
     "name": "stdout",
     "output_type": "stream",
     "text": [
      "          Date    Returns       Risk     Ratio\n",
      "0   2021-01-01  20.812991   6.905090  2.495694\n",
      "1   2021-01-04  20.574005   7.037955  2.414623\n",
      "2   2021-01-05  21.652565   7.046567  2.564733\n",
      "3   2021-01-06  21.859558   7.094556  2.576561\n",
      "4   2021-01-07  21.504652   7.347479  2.439565\n",
      "..         ...        ...        ...       ...\n",
      "79  2021-04-30  13.996544  10.321743  1.009185\n",
      "80  2021-05-03  16.687747  11.311318  1.158817\n",
      "81  2021-05-04  14.487784  10.186834  1.070773\n",
      "82  2021-05-05  14.716307   9.742096  1.143112\n",
      "83  2021-05-06  15.023839   9.824305  1.164850\n",
      "\n",
      "[84 rows x 4 columns]\n"
     ]
    },
    {
     "name": "stderr",
     "output_type": "stream",
     "text": [
      "\u001b[32m[I 2022-05-26 20:30:05,726]\u001b[0m A new study created in memory with name: no-name-09a4b9ec-66f2-4301-9329-b41f0b2c307e\u001b[0m\n",
      "\u001b[32m[I 2022-05-26 20:30:05,800]\u001b[0m Trial 0 finished with value: 0.232197236911796 and parameters: {'ITERATIONS': 5, 'Q': 0.8933130334086342, 'EVA_RATE': 0.14060790860816555, 'ANTS': 3}. Best is trial 0 with value: 0.232197236911796.\u001b[0m\n",
      "\u001b[32m[I 2022-05-26 20:30:05,930]\u001b[0m Trial 1 finished with value: 0.2324507339535973 and parameters: {'ITERATIONS': 5, 'Q': 0.43415683316009857, 'EVA_RATE': 0.8924781990766883, 'ANTS': 4}. Best is trial 1 with value: 0.2324507339535973.\u001b[0m\n"
     ]
    },
    {
     "name": "stdout",
     "output_type": "stream",
     "text": [
      "          Date    Returns       Risk     Ratio\n",
      "0   2021-01-01  20.812991   6.905090  2.495694\n",
      "1   2021-01-04  20.574005   7.037955  2.414623\n",
      "2   2021-01-05  21.652565   7.046567  2.564733\n",
      "3   2021-01-06  21.859558   7.094556  2.576561\n",
      "4   2021-01-07  21.504652   7.347479  2.439565\n",
      "..         ...        ...        ...       ...\n",
      "80  2021-05-03  16.687747  11.311318  1.158817\n",
      "81  2021-05-04  14.487784  10.186834  1.070773\n",
      "82  2021-05-05  14.716307   9.742096  1.143112\n",
      "83  2021-05-06  15.023839   9.824305  1.164850\n",
      "84  2021-05-07  14.151788   9.722982  1.087299\n",
      "\n",
      "[85 rows x 4 columns]\n"
     ]
    },
    {
     "name": "stderr",
     "output_type": "stream",
     "text": [
      "\u001b[32m[I 2022-05-26 20:30:06,170]\u001b[0m A new study created in memory with name: no-name-ae13cb21-c7c0-4202-b1b2-b36927a93fb9\u001b[0m\n",
      "\u001b[32m[I 2022-05-26 20:30:06,262]\u001b[0m Trial 0 finished with value: 0.242739428867653 and parameters: {'ITERATIONS': 5, 'Q': 0.8857255639158699, 'EVA_RATE': 0.6072297058509561, 'ANTS': 4}. Best is trial 0 with value: 0.242739428867653.\u001b[0m\n",
      "\u001b[32m[I 2022-05-26 20:30:06,341]\u001b[0m Trial 1 finished with value: 0.2393640386391553 and parameters: {'ITERATIONS': 4, 'Q': 0.44430030115865526, 'EVA_RATE': 0.8784170848400052, 'ANTS': 5}. Best is trial 0 with value: 0.242739428867653.\u001b[0m\n"
     ]
    },
    {
     "name": "stdout",
     "output_type": "stream",
     "text": [
      "          Date    Returns       Risk     Ratio\n",
      "0   2021-01-01  20.812991   6.905090  2.495694\n",
      "1   2021-01-04  20.574005   7.037955  2.414623\n",
      "2   2021-01-05  21.652565   7.046567  2.564733\n",
      "3   2021-01-06  21.859558   7.094556  2.576561\n",
      "4   2021-01-07  21.504652   7.347479  2.439565\n",
      "..         ...        ...        ...       ...\n",
      "81  2021-05-04  14.487784  10.186834  1.070773\n",
      "82  2021-05-05  14.716307   9.742096  1.143112\n",
      "83  2021-05-06  15.023839   9.824305  1.164850\n",
      "84  2021-05-07  14.151788   9.722982  1.087299\n",
      "85  2021-05-10  12.463230   9.258950  0.959421\n",
      "\n",
      "[86 rows x 4 columns]\n"
     ]
    },
    {
     "name": "stderr",
     "output_type": "stream",
     "text": [
      "\u001b[32m[I 2022-05-26 20:30:06,567]\u001b[0m A new study created in memory with name: no-name-ab85b83c-3b71-413a-84f6-743c7aeb0f90\u001b[0m\n",
      "\u001b[32m[I 2022-05-26 20:30:06,650]\u001b[0m Trial 0 finished with value: 0.2152800407636264 and parameters: {'ITERATIONS': 4, 'Q': 0.41218071814645063, 'EVA_RATE': 0.9498186532373499, 'ANTS': 3}. Best is trial 0 with value: 0.2152800407636264.\u001b[0m\n",
      "\u001b[32m[I 2022-05-26 20:30:06,721]\u001b[0m Trial 1 finished with value: 0.22519226936077147 and parameters: {'ITERATIONS': 2, 'Q': 0.5874164971370727, 'EVA_RATE': 0.3913245493693257, 'ANTS': 3}. Best is trial 1 with value: 0.22519226936077147.\u001b[0m\n"
     ]
    },
    {
     "name": "stdout",
     "output_type": "stream",
     "text": [
      "          Date    Returns      Risk     Ratio\n",
      "0   2021-01-01  20.812991  6.905090  2.495694\n",
      "1   2021-01-04  20.574005  7.037955  2.414623\n",
      "2   2021-01-05  21.652565  7.046567  2.564733\n",
      "3   2021-01-06  21.859558  7.094556  2.576561\n",
      "4   2021-01-07  21.504652  7.347479  2.439565\n",
      "..         ...        ...       ...       ...\n",
      "82  2021-05-05  14.716307  9.742096  1.143112\n",
      "83  2021-05-06  15.023839  9.824305  1.164850\n",
      "84  2021-05-07  14.151788  9.722982  1.087299\n",
      "85  2021-05-10  12.463230  9.258950  0.959421\n",
      "86  2021-05-11  13.488618  9.433717  1.050341\n",
      "\n",
      "[87 rows x 4 columns]\n"
     ]
    },
    {
     "name": "stderr",
     "output_type": "stream",
     "text": [
      "\u001b[32m[I 2022-05-26 20:30:06,929]\u001b[0m A new study created in memory with name: no-name-10b25dc7-5926-4b19-9abc-e7f7265d368b\u001b[0m\n",
      "\u001b[32m[I 2022-05-26 20:30:06,993]\u001b[0m Trial 0 finished with value: 0.21708941686001965 and parameters: {'ITERATIONS': 3, 'Q': 0.4424961613964956, 'EVA_RATE': 0.10926954514434074, 'ANTS': 4}. Best is trial 0 with value: 0.21708941686001965.\u001b[0m\n",
      "\u001b[32m[I 2022-05-26 20:30:07,057]\u001b[0m Trial 1 finished with value: 0.23408162160961773 and parameters: {'ITERATIONS': 2, 'Q': 0.4502606717810358, 'EVA_RATE': 0.6933444355605483, 'ANTS': 5}. Best is trial 1 with value: 0.23408162160961773.\u001b[0m\n"
     ]
    },
    {
     "name": "stdout",
     "output_type": "stream",
     "text": [
      "          Date    Returns      Risk     Ratio\n",
      "0   2021-01-01  20.812991  6.905090  2.495694\n",
      "1   2021-01-04  20.574005  7.037955  2.414623\n",
      "2   2021-01-05  21.652565  7.046567  2.564733\n",
      "3   2021-01-06  21.859558  7.094556  2.576561\n",
      "4   2021-01-07  21.504652  7.347479  2.439565\n",
      "..         ...        ...       ...       ...\n",
      "83  2021-05-06  15.023839  9.824305  1.164850\n",
      "84  2021-05-07  14.151788  9.722982  1.087299\n",
      "85  2021-05-10  12.463230  9.258950  0.959421\n",
      "86  2021-05-11  13.488618  9.433717  1.050341\n",
      "87  2021-05-12  14.048959  9.586098  1.092098\n",
      "\n",
      "[88 rows x 4 columns]\n"
     ]
    },
    {
     "name": "stderr",
     "output_type": "stream",
     "text": [
      "\u001b[32m[I 2022-05-26 20:30:07,238]\u001b[0m A new study created in memory with name: no-name-71923998-8b18-4723-b806-0bb3fcd910e5\u001b[0m\n",
      "\u001b[32m[I 2022-05-26 20:30:07,318]\u001b[0m Trial 0 finished with value: 0.21969293032398807 and parameters: {'ITERATIONS': 4, 'Q': 0.3729736984799715, 'EVA_RATE': 0.5532128030312462, 'ANTS': 2}. Best is trial 0 with value: 0.21969293032398807.\u001b[0m\n",
      "\u001b[32m[I 2022-05-26 20:30:07,396]\u001b[0m Trial 1 finished with value: 0.2204437973659687 and parameters: {'ITERATIONS': 3, 'Q': 0.8671537044725723, 'EVA_RATE': 0.15721555327722778, 'ANTS': 3}. Best is trial 1 with value: 0.2204437973659687.\u001b[0m\n"
     ]
    },
    {
     "name": "stdout",
     "output_type": "stream",
     "text": [
      "          Date    Returns      Risk     Ratio\n",
      "0   2021-01-01  20.812991  6.905090  2.495694\n",
      "1   2021-01-04  20.574005  7.037955  2.414623\n",
      "2   2021-01-05  21.652565  7.046567  2.564733\n",
      "3   2021-01-06  21.859558  7.094556  2.576561\n",
      "4   2021-01-07  21.504652  7.347479  2.439565\n",
      "..         ...        ...       ...       ...\n",
      "84  2021-05-07  14.151788  9.722982  1.087299\n",
      "85  2021-05-10  12.463230  9.258950  0.959421\n",
      "86  2021-05-11  13.488618  9.433717  1.050341\n",
      "87  2021-05-12  14.048959  9.586098  1.092098\n",
      "88  2021-05-14   9.054760  9.678151  0.565682\n",
      "\n",
      "[89 rows x 4 columns]\n"
     ]
    },
    {
     "name": "stderr",
     "output_type": "stream",
     "text": [
      "\u001b[32m[I 2022-05-26 20:30:07,583]\u001b[0m A new study created in memory with name: no-name-ee9bafe3-9271-4297-9c78-6354e77571a5\u001b[0m\n",
      "\u001b[32m[I 2022-05-26 20:30:07,681]\u001b[0m Trial 0 finished with value: 0.23061990123643414 and parameters: {'ITERATIONS': 5, 'Q': 0.8293851805152975, 'EVA_RATE': 0.5611013414638397, 'ANTS': 3}. Best is trial 0 with value: 0.23061990123643414.\u001b[0m\n",
      "\u001b[32m[I 2022-05-26 20:30:07,775]\u001b[0m Trial 1 finished with value: 0.21327667425262006 and parameters: {'ITERATIONS': 5, 'Q': 0.8859214440343302, 'EVA_RATE': 0.9842910670080638, 'ANTS': 3}. Best is trial 0 with value: 0.23061990123643414.\u001b[0m\n"
     ]
    },
    {
     "name": "stdout",
     "output_type": "stream",
     "text": [
      "          Date    Returns      Risk     Ratio\n",
      "0   2021-01-01  20.812991  6.905090  2.495694\n",
      "1   2021-01-04  20.574005  7.037955  2.414623\n",
      "2   2021-01-05  21.652565  7.046567  2.564733\n",
      "3   2021-01-06  21.859558  7.094556  2.576561\n",
      "4   2021-01-07  21.504652  7.347479  2.439565\n",
      "..         ...        ...       ...       ...\n",
      "85  2021-05-10  12.463230  9.258950  0.959421\n",
      "86  2021-05-11  13.488618  9.433717  1.050341\n",
      "87  2021-05-12  14.048959  9.586098  1.092098\n",
      "88  2021-05-14   9.054760  9.678151  0.565682\n",
      "89  2021-05-17  11.715460  9.032882  0.900649\n",
      "\n",
      "[90 rows x 4 columns]\n"
     ]
    },
    {
     "name": "stderr",
     "output_type": "stream",
     "text": [
      "\u001b[32m[I 2022-05-26 20:30:07,965]\u001b[0m A new study created in memory with name: no-name-d1e17ee3-f979-4257-a1d2-f506e897d08b\u001b[0m\n",
      "\u001b[32m[I 2022-05-26 20:30:08,081]\u001b[0m Trial 0 finished with value: 0.20491109051855905 and parameters: {'ITERATIONS': 4, 'Q': 0.4723380888400436, 'EVA_RATE': 0.555497728342, 'ANTS': 4}. Best is trial 0 with value: 0.20491109051855905.\u001b[0m\n"
     ]
    },
    {
     "name": "stdout",
     "output_type": "stream",
     "text": [
      "          Date    Returns      Risk     Ratio\n",
      "0   2021-01-01  20.812991  6.905090  2.495694\n",
      "1   2021-01-04  20.574005  7.037955  2.414623\n",
      "2   2021-01-05  21.652565  7.046567  2.564733\n",
      "3   2021-01-06  21.859558  7.094556  2.576561\n",
      "4   2021-01-07  21.504652  7.347479  2.439565\n",
      "..         ...        ...       ...       ...\n",
      "86  2021-05-11  13.488618  9.433717  1.050341\n",
      "87  2021-05-12  14.048959  9.586098  1.092098\n",
      "88  2021-05-14   9.054760  9.678151  0.565682\n",
      "89  2021-05-17  11.715460  9.032882  0.900649\n",
      "90  2021-05-18   7.668238  9.220845  0.443369\n",
      "\n",
      "[91 rows x 4 columns]\n"
     ]
    },
    {
     "name": "stderr",
     "output_type": "stream",
     "text": [
      "\u001b[32m[I 2022-05-26 20:30:08,166]\u001b[0m Trial 1 finished with value: 0.20972777672152595 and parameters: {'ITERATIONS': 5, 'Q': 0.918811828736361, 'EVA_RATE': 0.8371948276255265, 'ANTS': 5}. Best is trial 1 with value: 0.20972777672152595.\u001b[0m\n",
      "\u001b[32m[I 2022-05-26 20:30:08,406]\u001b[0m A new study created in memory with name: no-name-1eda9ad4-2b75-46da-bfa8-12518d17d4ba\u001b[0m\n",
      "\u001b[32m[I 2022-05-26 20:30:08,471]\u001b[0m Trial 0 finished with value: 0.22341487138038563 and parameters: {'ITERATIONS': 2, 'Q': 0.8486844988257503, 'EVA_RATE': 0.7708686186468418, 'ANTS': 2}. Best is trial 0 with value: 0.22341487138038563.\u001b[0m\n",
      "\u001b[32m[I 2022-05-26 20:30:08,565]\u001b[0m Trial 1 finished with value: 0.22549484534054798 and parameters: {'ITERATIONS': 4, 'Q': 0.8833794456951275, 'EVA_RATE': 0.406154685909087, 'ANTS': 3}. Best is trial 1 with value: 0.22549484534054798.\u001b[0m\n"
     ]
    },
    {
     "name": "stdout",
     "output_type": "stream",
     "text": [
      "          Date    Returns      Risk     Ratio\n",
      "0   2021-01-01  20.812991  6.905090  2.495694\n",
      "1   2021-01-04  20.574005  7.037955  2.414623\n",
      "2   2021-01-05  21.652565  7.046567  2.564733\n",
      "3   2021-01-06  21.859558  7.094556  2.576561\n",
      "4   2021-01-07  21.504652  7.347479  2.439565\n",
      "..         ...        ...       ...       ...\n",
      "87  2021-05-12  14.048959  9.586098  1.092098\n",
      "88  2021-05-14   9.054760  9.678151  0.565682\n",
      "89  2021-05-17  11.715460  9.032882  0.900649\n",
      "90  2021-05-18   7.668238  9.220845  0.443369\n",
      "91  2021-05-19  11.526230  9.477960  0.838390\n",
      "\n",
      "[92 rows x 4 columns]\n"
     ]
    },
    {
     "name": "stderr",
     "output_type": "stream",
     "text": [
      "\u001b[32m[I 2022-05-26 20:30:08,790]\u001b[0m A new study created in memory with name: no-name-c8cd3731-f952-492b-a694-d49d107762d2\u001b[0m\n",
      "\u001b[32m[I 2022-05-26 20:30:08,860]\u001b[0m Trial 0 finished with value: 0.20902142189801895 and parameters: {'ITERATIONS': 2, 'Q': 0.6770070954455596, 'EVA_RATE': 0.6762763784490509, 'ANTS': 5}. Best is trial 0 with value: 0.20902142189801895.\u001b[0m\n",
      "\u001b[32m[I 2022-05-26 20:30:08,931]\u001b[0m Trial 1 finished with value: 0.25946066898971626 and parameters: {'ITERATIONS': 5, 'Q': 0.2631326143667975, 'EVA_RATE': 0.41663246863935255, 'ANTS': 2}. Best is trial 1 with value: 0.25946066898971626.\u001b[0m\n"
     ]
    },
    {
     "name": "stdout",
     "output_type": "stream",
     "text": [
      "          Date    Returns      Risk     Ratio\n",
      "0   2021-01-01  20.812991  6.905090  2.495694\n",
      "1   2021-01-04  20.574005  7.037955  2.414623\n",
      "2   2021-01-05  21.652565  7.046567  2.564733\n",
      "3   2021-01-06  21.859558  7.094556  2.576561\n",
      "4   2021-01-07  21.504652  7.347479  2.439565\n",
      "..         ...        ...       ...       ...\n",
      "88  2021-05-14   9.054760  9.678151  0.565682\n",
      "89  2021-05-17  11.715460  9.032882  0.900649\n",
      "90  2021-05-18   7.668238  9.220845  0.443369\n",
      "91  2021-05-19  11.526230  9.477960  0.838390\n",
      "92  2021-05-20  11.692750  9.678891  0.838190\n",
      "\n",
      "[93 rows x 4 columns]\n"
     ]
    },
    {
     "name": "stderr",
     "output_type": "stream",
     "text": [
      "\u001b[32m[I 2022-05-26 20:30:09,154]\u001b[0m A new study created in memory with name: no-name-86a41401-f3ba-4812-a828-123c4a0c79e1\u001b[0m\n",
      "\u001b[32m[I 2022-05-26 20:30:09,250]\u001b[0m Trial 0 finished with value: 0.22543566126615858 and parameters: {'ITERATIONS': 5, 'Q': 0.4519465159171794, 'EVA_RATE': 0.701885188385953, 'ANTS': 5}. Best is trial 0 with value: 0.22543566126615858.\u001b[0m\n"
     ]
    },
    {
     "name": "stdout",
     "output_type": "stream",
     "text": [
      "          Date    Returns      Risk     Ratio\n",
      "0   2021-01-01  20.812991  6.905090  2.495694\n",
      "1   2021-01-04  20.574005  7.037955  2.414623\n",
      "2   2021-01-05  21.652565  7.046567  2.564733\n",
      "3   2021-01-06  21.859558  7.094556  2.576561\n",
      "4   2021-01-07  21.504652  7.347479  2.439565\n",
      "..         ...        ...       ...       ...\n",
      "89  2021-05-17  11.715460  9.032882  0.900649\n",
      "90  2021-05-18   7.668238  9.220845  0.443369\n",
      "91  2021-05-19  11.526230  9.477960  0.838390\n",
      "92  2021-05-20  11.692750  9.678891  0.838190\n",
      "93  2021-05-21  10.477221  9.945862  0.693476\n",
      "\n",
      "[94 rows x 4 columns]\n"
     ]
    },
    {
     "name": "stderr",
     "output_type": "stream",
     "text": [
      "\u001b[32m[I 2022-05-26 20:30:09,354]\u001b[0m Trial 1 finished with value: 0.20977947258161328 and parameters: {'ITERATIONS': 4, 'Q': 0.4998868869806671, 'EVA_RATE': 0.833625828658979, 'ANTS': 5}. Best is trial 0 with value: 0.22543566126615858.\u001b[0m\n",
      "\u001b[32m[I 2022-05-26 20:30:09,639]\u001b[0m A new study created in memory with name: no-name-37b565fe-ca68-4c3d-9868-c00cfbc50562\u001b[0m\n",
      "\u001b[32m[I 2022-05-26 20:30:09,750]\u001b[0m Trial 0 finished with value: 0.23730780633890092 and parameters: {'ITERATIONS': 4, 'Q': 0.10840765116231289, 'EVA_RATE': 0.8288615194899489, 'ANTS': 5}. Best is trial 0 with value: 0.23730780633890092.\u001b[0m\n",
      "\u001b[32m[I 2022-05-26 20:30:09,822]\u001b[0m Trial 1 finished with value: 0.22959020850863945 and parameters: {'ITERATIONS': 5, 'Q': 0.7122373461240012, 'EVA_RATE': 0.4782798427018654, 'ANTS': 3}. Best is trial 0 with value: 0.23730780633890092.\u001b[0m\n"
     ]
    },
    {
     "name": "stdout",
     "output_type": "stream",
     "text": [
      "          Date    Returns      Risk     Ratio\n",
      "0   2021-01-01  20.812991  6.905090  2.495694\n",
      "1   2021-01-04  20.574005  7.037955  2.414623\n",
      "2   2021-01-05  21.652565  7.046567  2.564733\n",
      "3   2021-01-06  21.859558  7.094556  2.576561\n",
      "4   2021-01-07  21.504652  7.347479  2.439565\n",
      "..         ...        ...       ...       ...\n",
      "90  2021-05-18   7.668238  9.220845  0.443369\n",
      "91  2021-05-19  11.526230  9.477960  0.838390\n",
      "92  2021-05-20  11.692750  9.678891  0.838190\n",
      "93  2021-05-21  10.477221  9.945862  0.693476\n",
      "94  2021-05-24   9.767074  9.498318  0.651386\n",
      "\n",
      "[95 rows x 4 columns]\n"
     ]
    },
    {
     "name": "stderr",
     "output_type": "stream",
     "text": [
      "\u001b[32m[I 2022-05-26 20:30:10,043]\u001b[0m A new study created in memory with name: no-name-3656c9cb-412c-4e39-ae5e-595c1ff646b4\u001b[0m\n",
      "\u001b[32m[I 2022-05-26 20:30:10,122]\u001b[0m Trial 0 finished with value: 0.21180801667949378 and parameters: {'ITERATIONS': 4, 'Q': 0.21525472699352155, 'EVA_RATE': 0.2865109815634073, 'ANTS': 4}. Best is trial 0 with value: 0.21180801667949378.\u001b[0m\n",
      "\u001b[32m[I 2022-05-26 20:30:10,179]\u001b[0m Trial 1 finished with value: 0.21308343812280903 and parameters: {'ITERATIONS': 3, 'Q': 0.3777075059447149, 'EVA_RATE': 0.11150694837622789, 'ANTS': 3}. Best is trial 1 with value: 0.21308343812280903.\u001b[0m\n"
     ]
    },
    {
     "name": "stdout",
     "output_type": "stream",
     "text": [
      "          Date    Returns      Risk     Ratio\n",
      "0   2021-01-01  20.812991  6.905090  2.495694\n",
      "1   2021-01-04  20.574005  7.037955  2.414623\n",
      "2   2021-01-05  21.652565  7.046567  2.564733\n",
      "3   2021-01-06  21.859558  7.094556  2.576561\n",
      "4   2021-01-07  21.504652  7.347479  2.439565\n",
      "..         ...        ...       ...       ...\n",
      "91  2021-05-19  11.526230  9.477960  0.838390\n",
      "92  2021-05-20  11.692750  9.678891  0.838190\n",
      "93  2021-05-21  10.477221  9.945862  0.693476\n",
      "94  2021-05-24   9.767074  9.498318  0.651386\n",
      "95  2021-05-25   8.543220  9.136646  0.543221\n",
      "\n",
      "[96 rows x 4 columns]\n"
     ]
    },
    {
     "name": "stderr",
     "output_type": "stream",
     "text": [
      "\u001b[32m[I 2022-05-26 20:30:10,402]\u001b[0m A new study created in memory with name: no-name-5732d632-9c49-4063-b957-2eb7574999d9\u001b[0m\n",
      "\u001b[32m[I 2022-05-26 20:30:10,480]\u001b[0m Trial 0 finished with value: 0.21536794893830424 and parameters: {'ITERATIONS': 4, 'Q': 0.14805815930930316, 'EVA_RATE': 0.9465435668496226, 'ANTS': 4}. Best is trial 0 with value: 0.21536794893830424.\u001b[0m\n",
      "\u001b[32m[I 2022-05-26 20:30:10,582]\u001b[0m Trial 1 finished with value: 0.21835444560243883 and parameters: {'ITERATIONS': 5, 'Q': 0.8296436050535938, 'EVA_RATE': 0.9524920312873904, 'ANTS': 4}. Best is trial 1 with value: 0.21835444560243883.\u001b[0m\n"
     ]
    },
    {
     "name": "stdout",
     "output_type": "stream",
     "text": [
      "          Date    Returns      Risk     Ratio\n",
      "0   2021-01-01  20.812991  6.905090  2.495694\n",
      "1   2021-01-04  20.574005  7.037955  2.414623\n",
      "2   2021-01-05  21.652565  7.046567  2.564733\n",
      "3   2021-01-06  21.859558  7.094556  2.576561\n",
      "4   2021-01-07  21.504652  7.347479  2.439565\n",
      "..         ...        ...       ...       ...\n",
      "92  2021-05-20  11.692750  9.678891  0.838190\n",
      "93  2021-05-21  10.477221  9.945862  0.693476\n",
      "94  2021-05-24   9.767074  9.498318  0.651386\n",
      "95  2021-05-25   8.543220  9.136646  0.543221\n",
      "96  2021-05-26  11.001547  9.558035  0.776472\n",
      "\n",
      "[97 rows x 4 columns]\n"
     ]
    },
    {
     "name": "stderr",
     "output_type": "stream",
     "text": [
      "\u001b[32m[I 2022-05-26 20:30:10,763]\u001b[0m A new study created in memory with name: no-name-73063d9d-60ee-43dd-aa1d-5278f85c8a37\u001b[0m\n",
      "\u001b[32m[I 2022-05-26 20:30:10,851]\u001b[0m Trial 0 finished with value: 0.22671573821287902 and parameters: {'ITERATIONS': 4, 'Q': 0.4859303918630018, 'EVA_RATE': 0.24305381233767057, 'ANTS': 3}. Best is trial 0 with value: 0.22671573821287902.\u001b[0m\n",
      "\u001b[32m[I 2022-05-26 20:30:10,925]\u001b[0m Trial 1 finished with value: 0.2542316363993394 and parameters: {'ITERATIONS': 4, 'Q': 0.4968450008057642, 'EVA_RATE': 0.5493509240212712, 'ANTS': 4}. Best is trial 1 with value: 0.2542316363993394.\u001b[0m\n"
     ]
    },
    {
     "name": "stdout",
     "output_type": "stream",
     "text": [
      "          Date    Returns      Risk     Ratio\n",
      "0   2021-01-01  20.812991  6.905090  2.495694\n",
      "1   2021-01-04  20.574005  7.037955  2.414623\n",
      "2   2021-01-05  21.652565  7.046567  2.564733\n",
      "3   2021-01-06  21.859558  7.094556  2.576561\n",
      "4   2021-01-07  21.504652  7.347479  2.439565\n",
      "..         ...        ...       ...       ...\n",
      "93  2021-05-21  10.477221  9.945862  0.693476\n",
      "94  2021-05-24   9.767074  9.498318  0.651386\n",
      "95  2021-05-25   8.543220  9.136646  0.543221\n",
      "96  2021-05-26  11.001547  9.558035  0.776472\n",
      "97  2021-05-27  13.008449  9.622986  0.979784\n",
      "\n",
      "[98 rows x 4 columns]\n"
     ]
    },
    {
     "name": "stderr",
     "output_type": "stream",
     "text": [
      "\u001b[32m[I 2022-05-26 20:30:11,061]\u001b[0m A new study created in memory with name: no-name-bf9611d7-273d-4bd2-9842-5d02b0692fe2\u001b[0m\n",
      "\u001b[32m[I 2022-05-26 20:30:11,126]\u001b[0m Trial 0 finished with value: 0.18413325847660425 and parameters: {'ITERATIONS': 2, 'Q': 0.7974021250984561, 'EVA_RATE': 0.18505792132693052, 'ANTS': 3}. Best is trial 0 with value: 0.18413325847660425.\u001b[0m\n",
      "\u001b[32m[I 2022-05-26 20:30:11,185]\u001b[0m Trial 1 finished with value: 0.2237321362312258 and parameters: {'ITERATIONS': 2, 'Q': 0.5817874325315556, 'EVA_RATE': 0.12239884026335825, 'ANTS': 4}. Best is trial 1 with value: 0.2237321362312258.\u001b[0m\n"
     ]
    },
    {
     "name": "stdout",
     "output_type": "stream",
     "text": [
      "          Date    Returns      Risk     Ratio\n",
      "0   2021-01-01  20.812991  6.905090  2.495694\n",
      "1   2021-01-04  20.574005  7.037955  2.414623\n",
      "2   2021-01-05  21.652565  7.046567  2.564733\n",
      "3   2021-01-06  21.859558  7.094556  2.576561\n",
      "4   2021-01-07  21.504652  7.347479  2.439565\n",
      "..         ...        ...       ...       ...\n",
      "94  2021-05-24   9.767074  9.498318  0.651386\n",
      "95  2021-05-25   8.543220  9.136646  0.543221\n",
      "96  2021-05-26  11.001547  9.558035  0.776472\n",
      "97  2021-05-27  13.008449  9.622986  0.979784\n",
      "98  2021-05-28  12.663517  9.770776  0.929662\n",
      "\n",
      "[99 rows x 4 columns]\n"
     ]
    },
    {
     "name": "stderr",
     "output_type": "stream",
     "text": [
      "\u001b[32m[I 2022-05-26 20:30:11,331]\u001b[0m A new study created in memory with name: no-name-5db07883-367b-4c45-b7bc-123f5ed883f4\u001b[0m\n",
      "\u001b[32m[I 2022-05-26 20:30:11,408]\u001b[0m Trial 0 finished with value: 0.19273353920257014 and parameters: {'ITERATIONS': 2, 'Q': 0.15256292022226553, 'EVA_RATE': 0.5435720837032298, 'ANTS': 4}. Best is trial 0 with value: 0.19273353920257014.\u001b[0m\n",
      "\u001b[32m[I 2022-05-26 20:30:11,461]\u001b[0m Trial 1 finished with value: 0.22707874371882272 and parameters: {'ITERATIONS': 4, 'Q': 0.46213840036391707, 'EVA_RATE': 0.961156766987881, 'ANTS': 2}. Best is trial 1 with value: 0.22707874371882272.\u001b[0m\n"
     ]
    },
    {
     "name": "stdout",
     "output_type": "stream",
     "text": [
      "          Date    Returns      Risk     Ratio\n",
      "0   2021-01-01  20.812991  6.905090  2.495694\n",
      "1   2021-01-04  20.574005  7.037955  2.414623\n",
      "2   2021-01-05  21.652565  7.046567  2.564733\n",
      "3   2021-01-06  21.859558  7.094556  2.576561\n",
      "4   2021-01-07  21.504652  7.347479  2.439565\n",
      "..         ...        ...       ...       ...\n",
      "95  2021-05-25   8.543220  9.136646  0.543221\n",
      "96  2021-05-26  11.001547  9.558035  0.776472\n",
      "97  2021-05-27  13.008449  9.622986  0.979784\n",
      "98  2021-05-28  12.663517  9.770776  0.929662\n",
      "99  2021-05-31  15.538559  9.479240  1.261552\n",
      "\n",
      "[100 rows x 4 columns]\n"
     ]
    },
    {
     "name": "stderr",
     "output_type": "stream",
     "text": [
      "\u001b[32m[I 2022-05-26 20:30:11,613]\u001b[0m A new study created in memory with name: no-name-98e704cf-e714-456f-b317-5f3619edfb83\u001b[0m\n",
      "\u001b[32m[I 2022-05-26 20:30:11,681]\u001b[0m Trial 0 finished with value: 0.21636161119807662 and parameters: {'ITERATIONS': 3, 'Q': 0.6571435809431423, 'EVA_RATE': 0.7357235765952148, 'ANTS': 5}. Best is trial 0 with value: 0.21636161119807662.\u001b[0m\n",
      "\u001b[32m[I 2022-05-26 20:30:11,739]\u001b[0m Trial 1 finished with value: 0.23818731225247144 and parameters: {'ITERATIONS': 2, 'Q': 0.7186289624565488, 'EVA_RATE': 0.5974512350138912, 'ANTS': 2}. Best is trial 1 with value: 0.23818731225247144.\u001b[0m\n"
     ]
    },
    {
     "name": "stdout",
     "output_type": "stream",
     "text": [
      "           Date    Returns      Risk     Ratio\n",
      "0    2021-01-01  20.812991  6.905090  2.495694\n",
      "1    2021-01-04  20.574005  7.037955  2.414623\n",
      "2    2021-01-05  21.652565  7.046567  2.564733\n",
      "3    2021-01-06  21.859558  7.094556  2.576561\n",
      "4    2021-01-07  21.504652  7.347479  2.439565\n",
      "..          ...        ...       ...       ...\n",
      "96   2021-05-26  11.001547  9.558035  0.776472\n",
      "97   2021-05-27  13.008449  9.622986  0.979784\n",
      "98   2021-05-28  12.663517  9.770776  0.929662\n",
      "99   2021-05-31  15.538559  9.479240  1.261552\n",
      "100  2021-06-01  13.572084  9.476705  1.054384\n",
      "\n",
      "[101 rows x 4 columns]\n"
     ]
    },
    {
     "name": "stderr",
     "output_type": "stream",
     "text": [
      "\u001b[32m[I 2022-05-26 20:30:11,898]\u001b[0m A new study created in memory with name: no-name-79c393a3-293a-4366-8b0f-72651c4e4351\u001b[0m\n",
      "\u001b[32m[I 2022-05-26 20:30:11,992]\u001b[0m Trial 0 finished with value: 0.2310109474286197 and parameters: {'ITERATIONS': 4, 'Q': 0.913794459928703, 'EVA_RATE': 0.5892365703049157, 'ANTS': 3}. Best is trial 0 with value: 0.2310109474286197.\u001b[0m\n",
      "\u001b[32m[I 2022-05-26 20:30:12,047]\u001b[0m Trial 1 finished with value: 0.23191706585955435 and parameters: {'ITERATIONS': 4, 'Q': 0.3130588558138242, 'EVA_RATE': 0.8370119867676735, 'ANTS': 2}. Best is trial 1 with value: 0.23191706585955435.\u001b[0m\n"
     ]
    },
    {
     "name": "stdout",
     "output_type": "stream",
     "text": [
      "           Date    Returns      Risk     Ratio\n",
      "0    2021-01-01  20.812991  6.905090  2.495694\n",
      "1    2021-01-04  20.574005  7.037955  2.414623\n",
      "2    2021-01-05  21.652565  7.046567  2.564733\n",
      "3    2021-01-06  21.859558  7.094556  2.576561\n",
      "4    2021-01-07  21.504652  7.347479  2.439565\n",
      "..          ...        ...       ...       ...\n",
      "97   2021-05-27  13.008449  9.622986  0.979784\n",
      "98   2021-05-28  12.663517  9.770776  0.929662\n",
      "99   2021-05-31  15.538559  9.479240  1.261552\n",
      "100  2021-06-01  13.572084  9.476705  1.054384\n",
      "101  2021-06-02  14.834987  9.710454  1.159059\n",
      "\n",
      "[102 rows x 4 columns]\n"
     ]
    },
    {
     "name": "stderr",
     "output_type": "stream",
     "text": [
      "\u001b[32m[I 2022-05-26 20:30:12,242]\u001b[0m A new study created in memory with name: no-name-7f7bbce2-f358-443d-a257-794203335a1f\u001b[0m\n",
      "\u001b[32m[I 2022-05-26 20:30:12,301]\u001b[0m Trial 0 finished with value: 0.22473126934695703 and parameters: {'ITERATIONS': 5, 'Q': 0.857383741487243, 'EVA_RATE': 0.10786533194975136, 'ANTS': 2}. Best is trial 0 with value: 0.22473126934695703.\u001b[0m\n",
      "\u001b[32m[I 2022-05-26 20:30:12,378]\u001b[0m Trial 1 finished with value: 0.22856411031803286 and parameters: {'ITERATIONS': 3, 'Q': 0.3973591205985876, 'EVA_RATE': 0.9257702718816244, 'ANTS': 5}. Best is trial 1 with value: 0.22856411031803286.\u001b[0m\n"
     ]
    },
    {
     "name": "stdout",
     "output_type": "stream",
     "text": [
      "           Date    Returns      Risk     Ratio\n",
      "0    2021-01-01  20.812991  6.905090  2.495694\n",
      "1    2021-01-04  20.574005  7.037955  2.414623\n",
      "2    2021-01-05  21.652565  7.046567  2.564733\n",
      "3    2021-01-06  21.859558  7.094556  2.576561\n",
      "4    2021-01-07  21.504652  7.347479  2.439565\n",
      "..          ...        ...       ...       ...\n",
      "98   2021-05-28  12.663517  9.770776  0.929662\n",
      "99   2021-05-31  15.538559  9.479240  1.261552\n",
      "100  2021-06-01  13.572084  9.476705  1.054384\n",
      "101  2021-06-02  14.834987  9.710454  1.159059\n",
      "102  2021-06-03  18.375178  9.197807  1.608555\n",
      "\n",
      "[103 rows x 4 columns]\n"
     ]
    },
    {
     "name": "stderr",
     "output_type": "stream",
     "text": [
      "\u001b[32m[I 2022-05-26 20:30:12,546]\u001b[0m A new study created in memory with name: no-name-0ae6fc21-e09d-42f8-9d1d-fb8c071ae9cf\u001b[0m\n",
      "\u001b[32m[I 2022-05-26 20:30:12,615]\u001b[0m Trial 0 finished with value: 0.23129378549028093 and parameters: {'ITERATIONS': 5, 'Q': 0.3801662637914033, 'EVA_RATE': 0.6368144296573633, 'ANTS': 3}. Best is trial 0 with value: 0.23129378549028093.\u001b[0m\n",
      "\u001b[32m[I 2022-05-26 20:30:12,714]\u001b[0m Trial 1 finished with value: 0.22591258779500378 and parameters: {'ITERATIONS': 5, 'Q': 0.6202066455510652, 'EVA_RATE': 0.7811495619602051, 'ANTS': 4}. Best is trial 0 with value: 0.23129378549028093.\u001b[0m\n"
     ]
    },
    {
     "name": "stdout",
     "output_type": "stream",
     "text": [
      "           Date    Returns      Risk     Ratio\n",
      "0    2021-01-01  20.812991  6.905090  2.495694\n",
      "1    2021-01-04  20.574005  7.037955  2.414623\n",
      "2    2021-01-05  21.652565  7.046567  2.564733\n",
      "3    2021-01-06  21.859558  7.094556  2.576561\n",
      "4    2021-01-07  21.504652  7.347479  2.439565\n",
      "..          ...        ...       ...       ...\n",
      "99   2021-05-31  15.538559  9.479240  1.261552\n",
      "100  2021-06-01  13.572084  9.476705  1.054384\n",
      "101  2021-06-02  14.834987  9.710454  1.159059\n",
      "102  2021-06-03  18.375178  9.197807  1.608555\n",
      "103  2021-06-04  15.491832  8.501835  1.401090\n",
      "\n",
      "[104 rows x 4 columns]\n"
     ]
    },
    {
     "name": "stderr",
     "output_type": "stream",
     "text": [
      "\u001b[32m[I 2022-05-26 20:30:12,913]\u001b[0m A new study created in memory with name: no-name-800eb852-8355-420a-bf43-2676ea79e70f\u001b[0m\n",
      "\u001b[32m[I 2022-05-26 20:30:12,971]\u001b[0m Trial 0 finished with value: 0.22704231605367123 and parameters: {'ITERATIONS': 5, 'Q': 0.9443424441618343, 'EVA_RATE': 0.835623361198273, 'ANTS': 2}. Best is trial 0 with value: 0.22704231605367123.\u001b[0m\n",
      "\u001b[32m[I 2022-05-26 20:30:13,046]\u001b[0m Trial 1 finished with value: 0.22563311296286112 and parameters: {'ITERATIONS': 5, 'Q': 0.25805702179783974, 'EVA_RATE': 0.8460564158314515, 'ANTS': 4}. Best is trial 0 with value: 0.22704231605367123.\u001b[0m\n"
     ]
    },
    {
     "name": "stdout",
     "output_type": "stream",
     "text": [
      "           Date    Returns      Risk     Ratio\n",
      "0    2021-01-01  20.812991  6.905090  2.495694\n",
      "1    2021-01-04  20.574005  7.037955  2.414623\n",
      "2    2021-01-05  21.652565  7.046567  2.564733\n",
      "3    2021-01-06  21.859558  7.094556  2.576561\n",
      "4    2021-01-07  21.504652  7.347479  2.439565\n",
      "..          ...        ...       ...       ...\n",
      "100  2021-06-01  13.572084  9.476705  1.054384\n",
      "101  2021-06-02  14.834987  9.710454  1.159059\n",
      "102  2021-06-03  18.375178  9.197807  1.608555\n",
      "103  2021-06-04  15.491832  8.501835  1.401090\n",
      "104  2021-06-07  14.367348  8.750458  1.232775\n",
      "\n",
      "[105 rows x 4 columns]\n"
     ]
    },
    {
     "name": "stderr",
     "output_type": "stream",
     "text": [
      "\u001b[32m[I 2022-05-26 20:30:13,210]\u001b[0m A new study created in memory with name: no-name-259b5b78-2be8-4e0e-a6a4-bc4c3127ae24\u001b[0m\n",
      "\u001b[32m[I 2022-05-26 20:30:13,263]\u001b[0m Trial 0 finished with value: 0.24161789348995139 and parameters: {'ITERATIONS': 2, 'Q': 0.12963616722636348, 'EVA_RATE': 0.44929080957718737, 'ANTS': 5}. Best is trial 0 with value: 0.24161789348995139.\u001b[0m\n",
      "\u001b[32m[I 2022-05-26 20:30:13,338]\u001b[0m Trial 1 finished with value: 0.20101027916153666 and parameters: {'ITERATIONS': 3, 'Q': 0.8380891349337435, 'EVA_RATE': 0.4353925002280725, 'ANTS': 2}. Best is trial 0 with value: 0.24161789348995139.\u001b[0m\n"
     ]
    },
    {
     "name": "stdout",
     "output_type": "stream",
     "text": [
      "           Date    Returns      Risk     Ratio\n",
      "0    2021-01-01  20.812991  6.905090  2.495694\n",
      "1    2021-01-04  20.574005  7.037955  2.414623\n",
      "2    2021-01-05  21.652565  7.046567  2.564733\n",
      "3    2021-01-06  21.859558  7.094556  2.576561\n",
      "4    2021-01-07  21.504652  7.347479  2.439565\n",
      "..          ...        ...       ...       ...\n",
      "101  2021-06-02  14.834987  9.710454  1.159059\n",
      "102  2021-06-03  18.375178  9.197807  1.608555\n",
      "103  2021-06-04  15.491832  8.501835  1.401090\n",
      "104  2021-06-07  14.367348  8.750458  1.232775\n",
      "105  2021-06-08  11.643684  8.083492  0.997550\n",
      "\n",
      "[106 rows x 4 columns]\n"
     ]
    },
    {
     "name": "stderr",
     "output_type": "stream",
     "text": [
      "\u001b[32m[I 2022-05-26 20:30:13,511]\u001b[0m A new study created in memory with name: no-name-102160ad-9cbd-4dfa-83da-d370cf4e5400\u001b[0m\n",
      "\u001b[32m[I 2022-05-26 20:30:13,585]\u001b[0m Trial 0 finished with value: 0.21591171415285584 and parameters: {'ITERATIONS': 4, 'Q': 0.5154549492388603, 'EVA_RATE': 0.9421882570939957, 'ANTS': 2}. Best is trial 0 with value: 0.21591171415285584.\u001b[0m\n",
      "\u001b[32m[I 2022-05-26 20:30:13,681]\u001b[0m Trial 1 finished with value: 0.2198700738470546 and parameters: {'ITERATIONS': 4, 'Q': 0.8369846157480993, 'EVA_RATE': 0.6541942627301905, 'ANTS': 5}. Best is trial 1 with value: 0.2198700738470546.\u001b[0m\n"
     ]
    },
    {
     "name": "stdout",
     "output_type": "stream",
     "text": [
      "           Date    Returns      Risk     Ratio\n",
      "0    2021-01-01  20.812991  6.905090  2.495694\n",
      "1    2021-01-04  20.574005  7.037955  2.414623\n",
      "2    2021-01-05  21.652565  7.046567  2.564733\n",
      "3    2021-01-06  21.859558  7.094556  2.576561\n",
      "4    2021-01-07  21.504652  7.347479  2.439565\n",
      "..          ...        ...       ...       ...\n",
      "102  2021-06-03  18.375178  9.197807  1.608555\n",
      "103  2021-06-04  15.491832  8.501835  1.401090\n",
      "104  2021-06-07  14.367348  8.750458  1.232775\n",
      "105  2021-06-08  11.643684  8.083492  0.997550\n",
      "106  2021-06-09  12.305657  8.025941  1.087182\n",
      "\n",
      "[107 rows x 4 columns]\n"
     ]
    },
    {
     "name": "stderr",
     "output_type": "stream",
     "text": [
      "\u001b[32m[I 2022-05-26 20:30:13,861]\u001b[0m A new study created in memory with name: no-name-cce02d05-4871-49d5-aae0-b493127eea93\u001b[0m\n",
      "\u001b[32m[I 2022-05-26 20:30:13,925]\u001b[0m Trial 0 finished with value: 0.2312677502399175 and parameters: {'ITERATIONS': 2, 'Q': 0.5324227892515385, 'EVA_RATE': 0.6212508368787867, 'ANTS': 3}. Best is trial 0 with value: 0.2312677502399175.\u001b[0m\n",
      "\u001b[32m[I 2022-05-26 20:30:13,996]\u001b[0m Trial 1 finished with value: 0.2311884918771307 and parameters: {'ITERATIONS': 3, 'Q': 0.6297413013350239, 'EVA_RATE': 0.15635744305277358, 'ANTS': 2}. Best is trial 0 with value: 0.2312677502399175.\u001b[0m\n"
     ]
    },
    {
     "name": "stdout",
     "output_type": "stream",
     "text": [
      "           Date    Returns      Risk     Ratio\n",
      "0    2021-01-01  20.812991  6.905090  2.495694\n",
      "1    2021-01-04  20.574005  7.037955  2.414623\n",
      "2    2021-01-05  21.652565  7.046567  2.564733\n",
      "3    2021-01-06  21.859558  7.094556  2.576561\n",
      "4    2021-01-07  21.504652  7.347479  2.439565\n",
      "..          ...        ...       ...       ...\n",
      "103  2021-06-04  15.491832  8.501835  1.401090\n",
      "104  2021-06-07  14.367348  8.750458  1.232775\n",
      "105  2021-06-08  11.643684  8.083492  0.997550\n",
      "106  2021-06-09  12.305657  8.025941  1.087182\n",
      "107  2021-06-10  13.437109  7.770667  1.268502\n",
      "\n",
      "[108 rows x 4 columns]\n"
     ]
    },
    {
     "name": "stderr",
     "output_type": "stream",
     "text": [
      "\u001b[32m[I 2022-05-26 20:30:14,178]\u001b[0m A new study created in memory with name: no-name-bf24a11a-c1a7-49ed-a137-f8d1afdf588d\u001b[0m\n",
      "\u001b[32m[I 2022-05-26 20:30:14,247]\u001b[0m Trial 0 finished with value: 0.2170319350625255 and parameters: {'ITERATIONS': 4, 'Q': 0.9140496819350226, 'EVA_RATE': 0.8162369077132052, 'ANTS': 4}. Best is trial 0 with value: 0.2170319350625255.\u001b[0m\n",
      "\u001b[32m[I 2022-05-26 20:30:14,305]\u001b[0m Trial 1 finished with value: 0.21472367365416495 and parameters: {'ITERATIONS': 3, 'Q': 0.10233272567541156, 'EVA_RATE': 0.9540283829957256, 'ANTS': 3}. Best is trial 0 with value: 0.2170319350625255.\u001b[0m\n"
     ]
    },
    {
     "name": "stdout",
     "output_type": "stream",
     "text": [
      "           Date    Returns      Risk     Ratio\n",
      "0    2021-01-01  20.812991  6.905090  2.495694\n",
      "1    2021-01-04  20.574005  7.037955  2.414623\n",
      "2    2021-01-05  21.652565  7.046567  2.564733\n",
      "3    2021-01-06  21.859558  7.094556  2.576561\n",
      "4    2021-01-07  21.504652  7.347479  2.439565\n",
      "..          ...        ...       ...       ...\n",
      "104  2021-06-07  14.367348  8.750458  1.232775\n",
      "105  2021-06-08  11.643684  8.083492  0.997550\n",
      "106  2021-06-09  12.305657  8.025941  1.087182\n",
      "107  2021-06-10  13.437109  7.770667  1.268502\n",
      "108  2021-06-11  14.776633  8.477830  1.320696\n",
      "\n",
      "[109 rows x 4 columns]\n"
     ]
    },
    {
     "name": "stderr",
     "output_type": "stream",
     "text": [
      "\u001b[32m[I 2022-05-26 20:30:14,526]\u001b[0m A new study created in memory with name: no-name-3eaa7df8-1a26-413e-868f-9d69e7e61aeb\u001b[0m\n",
      "\u001b[32m[I 2022-05-26 20:30:14,608]\u001b[0m Trial 0 finished with value: 0.22364196646408638 and parameters: {'ITERATIONS': 3, 'Q': 0.6186399991549627, 'EVA_RATE': 0.44936811272069355, 'ANTS': 5}. Best is trial 0 with value: 0.22364196646408638.\u001b[0m\n",
      "\u001b[32m[I 2022-05-26 20:30:14,662]\u001b[0m Trial 1 finished with value: 0.23029459850087272 and parameters: {'ITERATIONS': 4, 'Q': 0.19257406101522245, 'EVA_RATE': 0.45186656675586956, 'ANTS': 4}. Best is trial 1 with value: 0.23029459850087272.\u001b[0m\n"
     ]
    },
    {
     "name": "stdout",
     "output_type": "stream",
     "text": [
      "           Date    Returns      Risk     Ratio\n",
      "0    2021-01-01  20.812991  6.905090  2.495694\n",
      "1    2021-01-04  20.574005  7.037955  2.414623\n",
      "2    2021-01-05  21.652565  7.046567  2.564733\n",
      "3    2021-01-06  21.859558  7.094556  2.576561\n",
      "4    2021-01-07  21.504652  7.347479  2.439565\n",
      "..          ...        ...       ...       ...\n",
      "105  2021-06-08  11.643684  8.083492  0.997550\n",
      "106  2021-06-09  12.305657  8.025941  1.087182\n",
      "107  2021-06-10  13.437109  7.770667  1.268502\n",
      "108  2021-06-11  14.776633  8.477830  1.320696\n",
      "109  2021-06-14  15.112397  8.263229  1.395628\n",
      "\n",
      "[110 rows x 4 columns]\n"
     ]
    },
    {
     "name": "stderr",
     "output_type": "stream",
     "text": [
      "\u001b[32m[I 2022-05-26 20:30:14,862]\u001b[0m A new study created in memory with name: no-name-d50a8f5f-ea5f-47d7-a28d-d54885556ed5\u001b[0m\n",
      "\u001b[32m[I 2022-05-26 20:30:14,946]\u001b[0m Trial 0 finished with value: 0.22716097126324866 and parameters: {'ITERATIONS': 5, 'Q': 0.47632036774397246, 'EVA_RATE': 0.8705339580609942, 'ANTS': 3}. Best is trial 0 with value: 0.22716097126324866.\u001b[0m\n",
      "\u001b[32m[I 2022-05-26 20:30:15,025]\u001b[0m Trial 1 finished with value: 0.24180253626965334 and parameters: {'ITERATIONS': 5, 'Q': 0.3641839862391807, 'EVA_RATE': 0.17811342616086456, 'ANTS': 2}. Best is trial 1 with value: 0.24180253626965334.\u001b[0m\n"
     ]
    },
    {
     "name": "stdout",
     "output_type": "stream",
     "text": [
      "           Date    Returns      Risk     Ratio\n",
      "0    2021-01-01  20.812991  6.905090  2.495694\n",
      "1    2021-01-04  20.574005  7.037955  2.414623\n",
      "2    2021-01-05  21.652565  7.046567  2.564733\n",
      "3    2021-01-06  21.859558  7.094556  2.576561\n",
      "4    2021-01-07  21.504652  7.347479  2.439565\n",
      "..          ...        ...       ...       ...\n",
      "106  2021-06-09  12.305657  8.025941  1.087182\n",
      "107  2021-06-10  13.437109  7.770667  1.268502\n",
      "108  2021-06-11  14.776633  8.477830  1.320696\n",
      "109  2021-06-14  15.112397  8.263229  1.395628\n",
      "110  2021-06-15  14.218610  8.042912  1.322731\n",
      "\n",
      "[111 rows x 4 columns]\n"
     ]
    },
    {
     "name": "stderr",
     "output_type": "stream",
     "text": [
      "\u001b[32m[I 2022-05-26 20:30:15,257]\u001b[0m A new study created in memory with name: no-name-31c65baa-2854-46e3-a465-9fa7e5c12375\u001b[0m\n",
      "\u001b[32m[I 2022-05-26 20:30:15,329]\u001b[0m Trial 0 finished with value: 0.21017698063952084 and parameters: {'ITERATIONS': 3, 'Q': 0.8910657485608349, 'EVA_RATE': 0.41451650331779555, 'ANTS': 3}. Best is trial 0 with value: 0.21017698063952084.\u001b[0m\n",
      "\u001b[32m[I 2022-05-26 20:30:15,428]\u001b[0m Trial 1 finished with value: 0.2260819369517431 and parameters: {'ITERATIONS': 5, 'Q': 0.32657723042912157, 'EVA_RATE': 0.9630239487037461, 'ANTS': 5}. Best is trial 1 with value: 0.2260819369517431.\u001b[0m\n"
     ]
    },
    {
     "name": "stdout",
     "output_type": "stream",
     "text": [
      "           Date    Returns      Risk     Ratio\n",
      "0    2021-01-01  20.812991  6.905090  2.495694\n",
      "1    2021-01-04  20.574005  7.037955  2.414623\n",
      "2    2021-01-05  21.652565  7.046567  2.564733\n",
      "3    2021-01-06  21.859558  7.094556  2.576561\n",
      "4    2021-01-07  21.504652  7.347479  2.439565\n",
      "..          ...        ...       ...       ...\n",
      "107  2021-06-10  13.437109  7.770667  1.268502\n",
      "108  2021-06-11  14.776633  8.477830  1.320696\n",
      "109  2021-06-14  15.112397  8.263229  1.395628\n",
      "110  2021-06-15  14.218610  8.042912  1.322731\n",
      "111  2021-06-16  15.780937  8.895955  1.371515\n",
      "\n",
      "[112 rows x 4 columns]\n"
     ]
    },
    {
     "name": "stderr",
     "output_type": "stream",
     "text": [
      "\u001b[32m[I 2022-05-26 20:30:15,618]\u001b[0m A new study created in memory with name: no-name-507c6767-c29e-4966-8252-743e0f01063c\u001b[0m\n",
      "\u001b[32m[I 2022-05-26 20:30:15,674]\u001b[0m Trial 0 finished with value: 0.26958960482762023 and parameters: {'ITERATIONS': 2, 'Q': 0.36267281090205516, 'EVA_RATE': 0.494803631939707, 'ANTS': 5}. Best is trial 0 with value: 0.26958960482762023.\u001b[0m\n",
      "\u001b[32m[I 2022-05-26 20:30:15,737]\u001b[0m Trial 1 finished with value: 0.20829309973019736 and parameters: {'ITERATIONS': 3, 'Q': 0.5484089771587661, 'EVA_RATE': 0.24087349283509277, 'ANTS': 3}. Best is trial 0 with value: 0.26958960482762023.\u001b[0m\n"
     ]
    },
    {
     "name": "stdout",
     "output_type": "stream",
     "text": [
      "           Date    Returns      Risk     Ratio\n",
      "0    2021-01-01  20.812991  6.905090  2.495694\n",
      "1    2021-01-04  20.574005  7.037955  2.414623\n",
      "2    2021-01-05  21.652565  7.046567  2.564733\n",
      "3    2021-01-06  21.859558  7.094556  2.576561\n",
      "4    2021-01-07  21.504652  7.347479  2.439565\n",
      "..          ...        ...       ...       ...\n",
      "108  2021-06-11  14.776633  8.477830  1.320696\n",
      "109  2021-06-14  15.112397  8.263229  1.395628\n",
      "110  2021-06-15  14.218610  8.042912  1.322731\n",
      "111  2021-06-16  15.780937  8.895955  1.371515\n",
      "112  2021-06-17  13.983933  7.813538  1.331526\n",
      "\n",
      "[113 rows x 4 columns]\n"
     ]
    },
    {
     "name": "stderr",
     "output_type": "stream",
     "text": [
      "\u001b[32m[I 2022-05-26 20:30:15,929]\u001b[0m A new study created in memory with name: no-name-32f7921b-c810-41e1-acef-8b801ab2a474\u001b[0m\n",
      "\u001b[32m[I 2022-05-26 20:30:15,991]\u001b[0m Trial 0 finished with value: 0.21006385248828116 and parameters: {'ITERATIONS': 5, 'Q': 0.8903561292971814, 'EVA_RATE': 0.38870605885653764, 'ANTS': 3}. Best is trial 0 with value: 0.21006385248828116.\u001b[0m\n",
      "\u001b[32m[I 2022-05-26 20:30:16,063]\u001b[0m Trial 1 finished with value: 0.2270360833848326 and parameters: {'ITERATIONS': 3, 'Q': 0.4495434212843371, 'EVA_RATE': 0.4306685339027909, 'ANTS': 2}. Best is trial 1 with value: 0.2270360833848326.\u001b[0m\n"
     ]
    },
    {
     "name": "stdout",
     "output_type": "stream",
     "text": [
      "           Date    Returns      Risk     Ratio\n",
      "0    2021-01-01  20.812991  6.905090  2.495694\n",
      "1    2021-01-04  20.574005  7.037955  2.414623\n",
      "2    2021-01-05  21.652565  7.046567  2.564733\n",
      "3    2021-01-06  21.859558  7.094556  2.576561\n",
      "4    2021-01-07  21.504652  7.347479  2.439565\n",
      "..          ...        ...       ...       ...\n",
      "109  2021-06-14  15.112397  8.263229  1.395628\n",
      "110  2021-06-15  14.218610  8.042912  1.322731\n",
      "111  2021-06-16  15.780937  8.895955  1.371515\n",
      "112  2021-06-17  13.983933  7.813538  1.331526\n",
      "113  2021-06-18  13.859021  8.154177  1.260584\n",
      "\n",
      "[114 rows x 4 columns]\n"
     ]
    },
    {
     "name": "stderr",
     "output_type": "stream",
     "text": [
      "\u001b[32m[I 2022-05-26 20:30:16,243]\u001b[0m A new study created in memory with name: no-name-cc055ae9-049d-433e-9fc7-4cf1169247e3\u001b[0m\n",
      "\u001b[32m[I 2022-05-26 20:30:16,329]\u001b[0m Trial 0 finished with value: 0.22110396996186626 and parameters: {'ITERATIONS': 4, 'Q': 0.8386644870781307, 'EVA_RATE': 0.3052600765919511, 'ANTS': 5}. Best is trial 0 with value: 0.22110396996186626.\u001b[0m\n",
      "\u001b[32m[I 2022-05-26 20:30:16,386]\u001b[0m Trial 1 finished with value: 0.2345463009219454 and parameters: {'ITERATIONS': 3, 'Q': 0.9585087066876206, 'EVA_RATE': 0.29233193403643143, 'ANTS': 3}. Best is trial 1 with value: 0.2345463009219454.\u001b[0m\n"
     ]
    },
    {
     "name": "stdout",
     "output_type": "stream",
     "text": [
      "           Date    Returns      Risk     Ratio\n",
      "0    2021-01-01  20.812991  6.905090  2.495694\n",
      "1    2021-01-04  20.574005  7.037955  2.414623\n",
      "2    2021-01-05  21.652565  7.046567  2.564733\n",
      "3    2021-01-06  21.859558  7.094556  2.576561\n",
      "4    2021-01-07  21.504652  7.347479  2.439565\n",
      "..          ...        ...       ...       ...\n",
      "110  2021-06-15  14.218610  8.042912  1.322731\n",
      "111  2021-06-16  15.780937  8.895955  1.371515\n",
      "112  2021-06-17  13.983933  7.813538  1.331526\n",
      "113  2021-06-18  13.859021  8.154177  1.260584\n",
      "114  2021-06-21  16.732541  8.499458  1.547456\n",
      "\n",
      "[115 rows x 4 columns]\n"
     ]
    },
    {
     "name": "stderr",
     "output_type": "stream",
     "text": [
      "\u001b[32m[I 2022-05-26 20:30:16,542]\u001b[0m A new study created in memory with name: no-name-cdb652b1-2a00-47d3-9b88-d8a851364b1f\u001b[0m\n",
      "\u001b[32m[I 2022-05-26 20:30:16,613]\u001b[0m Trial 0 finished with value: 0.24783439447191424 and parameters: {'ITERATIONS': 4, 'Q': 0.4089652922974282, 'EVA_RATE': 0.26480891693488917, 'ANTS': 3}. Best is trial 0 with value: 0.24783439447191424.\u001b[0m\n",
      "\u001b[32m[I 2022-05-26 20:30:16,676]\u001b[0m Trial 1 finished with value: 0.20533595238455876 and parameters: {'ITERATIONS': 2, 'Q': 0.3763197122972345, 'EVA_RATE': 0.47170426168040425, 'ANTS': 2}. Best is trial 0 with value: 0.24783439447191424.\u001b[0m\n"
     ]
    },
    {
     "name": "stdout",
     "output_type": "stream",
     "text": [
      "           Date    Returns      Risk     Ratio\n",
      "0    2021-01-01  20.812991  6.905090  2.495694\n",
      "1    2021-01-04  20.574005  7.037955  2.414623\n",
      "2    2021-01-05  21.652565  7.046567  2.564733\n",
      "3    2021-01-06  21.859558  7.094556  2.576561\n",
      "4    2021-01-07  21.504652  7.347479  2.439565\n",
      "..          ...        ...       ...       ...\n",
      "111  2021-06-16  15.780937  8.895955  1.371515\n",
      "112  2021-06-17  13.983933  7.813538  1.331526\n",
      "113  2021-06-18  13.859021  8.154177  1.260584\n",
      "114  2021-06-21  16.732541  8.499458  1.547456\n",
      "115  2021-06-22  14.934142  8.093238  1.402917\n",
      "\n",
      "[116 rows x 4 columns]\n"
     ]
    },
    {
     "name": "stderr",
     "output_type": "stream",
     "text": [
      "\u001b[32m[I 2022-05-26 20:30:16,843]\u001b[0m A new study created in memory with name: no-name-cfc87b52-2e80-492f-b19c-45fa54a220e5\u001b[0m\n",
      "\u001b[32m[I 2022-05-26 20:30:16,913]\u001b[0m Trial 0 finished with value: 0.21479233849651816 and parameters: {'ITERATIONS': 4, 'Q': 0.7246488777131904, 'EVA_RATE': 0.9605762656542483, 'ANTS': 3}. Best is trial 0 with value: 0.21479233849651816.\u001b[0m\n",
      "\u001b[32m[I 2022-05-26 20:30:16,968]\u001b[0m Trial 1 finished with value: 0.23749091961990088 and parameters: {'ITERATIONS': 5, 'Q': 0.20110056979071397, 'EVA_RATE': 0.1405359926968563, 'ANTS': 2}. Best is trial 1 with value: 0.23749091961990088.\u001b[0m\n"
     ]
    },
    {
     "name": "stdout",
     "output_type": "stream",
     "text": [
      "           Date    Returns      Risk     Ratio\n",
      "0    2021-01-01  20.812991  6.905090  2.495694\n",
      "1    2021-01-04  20.574005  7.037955  2.414623\n",
      "2    2021-01-05  21.652565  7.046567  2.564733\n",
      "3    2021-01-06  21.859558  7.094556  2.576561\n",
      "4    2021-01-07  21.504652  7.347479  2.439565\n",
      "..          ...        ...       ...       ...\n",
      "112  2021-06-17  13.983933  7.813538  1.331526\n",
      "113  2021-06-18  13.859021  8.154177  1.260584\n",
      "114  2021-06-21  16.732541  8.499458  1.547456\n",
      "115  2021-06-22  14.934142  8.093238  1.402917\n",
      "116  2021-06-23  15.132037  7.720692  1.496244\n",
      "\n",
      "[117 rows x 4 columns]\n"
     ]
    },
    {
     "name": "stderr",
     "output_type": "stream",
     "text": [
      "\u001b[32m[I 2022-05-26 20:30:17,144]\u001b[0m A new study created in memory with name: no-name-ef18f73b-1626-42c6-8557-b3286bb7de2c\u001b[0m\n",
      "\u001b[32m[I 2022-05-26 20:30:17,229]\u001b[0m Trial 0 finished with value: 0.20797015758971377 and parameters: {'ITERATIONS': 4, 'Q': 0.3057812467422895, 'EVA_RATE': 0.4670768181346462, 'ANTS': 4}. Best is trial 0 with value: 0.20797015758971377.\u001b[0m\n",
      "\u001b[32m[I 2022-05-26 20:30:17,296]\u001b[0m Trial 1 finished with value: 0.192471182394951 and parameters: {'ITERATIONS': 3, 'Q': 0.5492229866659488, 'EVA_RATE': 0.12996064474487792, 'ANTS': 5}. Best is trial 0 with value: 0.20797015758971377.\u001b[0m\n"
     ]
    },
    {
     "name": "stdout",
     "output_type": "stream",
     "text": [
      "           Date    Returns      Risk     Ratio\n",
      "0    2021-01-01  20.812991  6.905090  2.495694\n",
      "1    2021-01-04  20.574005  7.037955  2.414623\n",
      "2    2021-01-05  21.652565  7.046567  2.564733\n",
      "3    2021-01-06  21.859558  7.094556  2.576561\n",
      "4    2021-01-07  21.504652  7.347479  2.439565\n",
      "..          ...        ...       ...       ...\n",
      "113  2021-06-18  13.859021  8.154177  1.260584\n",
      "114  2021-06-21  16.732541  8.499458  1.547456\n",
      "115  2021-06-22  14.934142  8.093238  1.402917\n",
      "116  2021-06-23  15.132037  7.720692  1.496244\n",
      "117  2021-06-24  13.610565  7.918299  1.266757\n",
      "\n",
      "[118 rows x 4 columns]\n"
     ]
    },
    {
     "name": "stderr",
     "output_type": "stream",
     "text": [
      "\u001b[32m[I 2022-05-26 20:30:17,491]\u001b[0m A new study created in memory with name: no-name-9022a526-4c19-41bb-92e9-f2290ffe3c7e\u001b[0m\n",
      "\u001b[32m[I 2022-05-26 20:30:17,568]\u001b[0m Trial 0 finished with value: 0.22753101881006907 and parameters: {'ITERATIONS': 3, 'Q': 0.4427068816713612, 'EVA_RATE': 0.5803417453593939, 'ANTS': 4}. Best is trial 0 with value: 0.22753101881006907.\u001b[0m\n",
      "\u001b[32m[I 2022-05-26 20:30:17,644]\u001b[0m Trial 1 finished with value: 0.22473855174650492 and parameters: {'ITERATIONS': 3, 'Q': 0.6115519161517803, 'EVA_RATE': 0.7291298960206694, 'ANTS': 5}. Best is trial 0 with value: 0.22753101881006907.\u001b[0m\n"
     ]
    },
    {
     "name": "stdout",
     "output_type": "stream",
     "text": [
      "           Date    Returns      Risk     Ratio\n",
      "0    2021-01-01  20.812991  6.905090  2.495694\n",
      "1    2021-01-04  20.574005  7.037955  2.414623\n",
      "2    2021-01-05  21.652565  7.046567  2.564733\n",
      "3    2021-01-06  21.859558  7.094556  2.576561\n",
      "4    2021-01-07  21.504652  7.347479  2.439565\n",
      "..          ...        ...       ...       ...\n",
      "114  2021-06-21  16.732541  8.499458  1.547456\n",
      "115  2021-06-22  14.934142  8.093238  1.402917\n",
      "116  2021-06-23  15.132037  7.720692  1.496244\n",
      "117  2021-06-24  13.610565  7.918299  1.266757\n",
      "118  2021-06-25  13.748568  7.704265  1.319862\n",
      "\n",
      "[119 rows x 4 columns]\n"
     ]
    },
    {
     "name": "stderr",
     "output_type": "stream",
     "text": [
      "\u001b[32m[I 2022-05-26 20:30:17,852]\u001b[0m A new study created in memory with name: no-name-83005ed7-fec0-495a-973f-6860ff69b43c\u001b[0m\n",
      "\u001b[32m[I 2022-05-26 20:30:17,916]\u001b[0m Trial 0 finished with value: 0.2300177542517269 and parameters: {'ITERATIONS': 3, 'Q': 0.6134755036376928, 'EVA_RATE': 0.7829904057390124, 'ANTS': 2}. Best is trial 0 with value: 0.2300177542517269.\u001b[0m\n",
      "\u001b[32m[I 2022-05-26 20:30:18,009]\u001b[0m Trial 1 finished with value: 0.23781451636950313 and parameters: {'ITERATIONS': 5, 'Q': 0.9073206880406326, 'EVA_RATE': 0.6696040742883442, 'ANTS': 3}. Best is trial 1 with value: 0.23781451636950313.\u001b[0m\n"
     ]
    },
    {
     "name": "stdout",
     "output_type": "stream",
     "text": [
      "           Date    Returns      Risk     Ratio\n",
      "0    2021-01-01  20.812991  6.905090  2.495694\n",
      "1    2021-01-04  20.574005  7.037955  2.414623\n",
      "2    2021-01-05  21.652565  7.046567  2.564733\n",
      "3    2021-01-06  21.859558  7.094556  2.576561\n",
      "4    2021-01-07  21.504652  7.347479  2.439565\n",
      "..          ...        ...       ...       ...\n",
      "115  2021-06-22  14.934142  8.093238  1.402917\n",
      "116  2021-06-23  15.132037  7.720692  1.496244\n",
      "117  2021-06-24  13.610565  7.918299  1.266757\n",
      "118  2021-06-25  13.748568  7.704265  1.319862\n",
      "119  2021-06-28  15.392100  7.574178  1.559522\n",
      "\n",
      "[120 rows x 4 columns]\n"
     ]
    },
    {
     "name": "stderr",
     "output_type": "stream",
     "text": [
      "\u001b[32m[I 2022-05-26 20:30:18,196]\u001b[0m A new study created in memory with name: no-name-5c908c09-2970-423b-b840-803c575b2ab7\u001b[0m\n",
      "\u001b[32m[I 2022-05-26 20:30:18,278]\u001b[0m Trial 0 finished with value: 0.20998453693975383 and parameters: {'ITERATIONS': 5, 'Q': 0.5443839256970893, 'EVA_RATE': 0.4940000723216481, 'ANTS': 4}. Best is trial 0 with value: 0.20998453693975383.\u001b[0m\n",
      "\u001b[32m[I 2022-05-26 20:30:18,341]\u001b[0m Trial 1 finished with value: 0.2181812121182543 and parameters: {'ITERATIONS': 2, 'Q': 0.8250260608295169, 'EVA_RATE': 0.27013233663707337, 'ANTS': 5}. Best is trial 1 with value: 0.2181812121182543.\u001b[0m\n"
     ]
    },
    {
     "name": "stdout",
     "output_type": "stream",
     "text": [
      "           Date    Returns      Risk     Ratio\n",
      "0    2021-01-01  20.812991  6.905090  2.495694\n",
      "1    2021-01-04  20.574005  7.037955  2.414623\n",
      "2    2021-01-05  21.652565  7.046567  2.564733\n",
      "3    2021-01-06  21.859558  7.094556  2.576561\n",
      "4    2021-01-07  21.504652  7.347479  2.439565\n",
      "..          ...        ...       ...       ...\n",
      "116  2021-06-23  15.132037  7.720692  1.496244\n",
      "117  2021-06-24  13.610565  7.918299  1.266757\n",
      "118  2021-06-25  13.748568  7.704265  1.319862\n",
      "119  2021-06-28  15.392100  7.574178  1.559522\n",
      "120  2021-06-29  18.984203  7.711513  1.997559\n",
      "\n",
      "[121 rows x 4 columns]\n"
     ]
    },
    {
     "name": "stderr",
     "output_type": "stream",
     "text": [
      "\u001b[32m[I 2022-05-26 20:30:18,529]\u001b[0m A new study created in memory with name: no-name-ddf936aa-2b3c-44f0-92e8-b325a103c931\u001b[0m\n",
      "\u001b[32m[I 2022-05-26 20:30:18,604]\u001b[0m Trial 0 finished with value: 0.2556418207888283 and parameters: {'ITERATIONS': 5, 'Q': 0.2160659956710223, 'EVA_RATE': 0.2831951440679806, 'ANTS': 2}. Best is trial 0 with value: 0.2556418207888283.\u001b[0m\n",
      "\u001b[32m[I 2022-05-26 20:30:18,683]\u001b[0m Trial 1 finished with value: 0.22583859601021297 and parameters: {'ITERATIONS': 5, 'Q': 0.380573777526205, 'EVA_RATE': 0.30118977444508205, 'ANTS': 5}. Best is trial 0 with value: 0.2556418207888283.\u001b[0m\n"
     ]
    },
    {
     "name": "stdout",
     "output_type": "stream",
     "text": [
      "           Date    Returns      Risk     Ratio\n",
      "0    2021-01-01  20.812991  6.905090  2.495694\n",
      "1    2021-01-04  20.574005  7.037955  2.414623\n",
      "2    2021-01-05  21.652565  7.046567  2.564733\n",
      "3    2021-01-06  21.859558  7.094556  2.576561\n",
      "4    2021-01-07  21.504652  7.347479  2.439565\n",
      "..          ...        ...       ...       ...\n",
      "117  2021-06-24  13.610565  7.918299  1.266757\n",
      "118  2021-06-25  13.748568  7.704265  1.319862\n",
      "119  2021-06-28  15.392100  7.574178  1.559522\n",
      "120  2021-06-29  18.984203  7.711513  1.997559\n",
      "121  2021-06-30  14.430123  7.037638  1.541728\n",
      "\n",
      "[122 rows x 4 columns]\n"
     ]
    },
    {
     "name": "stderr",
     "output_type": "stream",
     "text": [
      "\u001b[32m[I 2022-05-26 20:30:18,863]\u001b[0m A new study created in memory with name: no-name-b191381b-b584-463d-8e54-57ec64be142b\u001b[0m\n",
      "\u001b[32m[I 2022-05-26 20:30:18,958]\u001b[0m Trial 0 finished with value: 0.2249643461334391 and parameters: {'ITERATIONS': 4, 'Q': 0.5512998037531639, 'EVA_RATE': 0.911139003379314, 'ANTS': 5}. Best is trial 0 with value: 0.2249643461334391.\u001b[0m\n"
     ]
    },
    {
     "name": "stdout",
     "output_type": "stream",
     "text": [
      "           Date    Returns      Risk     Ratio\n",
      "0    2021-01-01  20.812991  6.905090  2.495694\n",
      "1    2021-01-04  20.574005  7.037955  2.414623\n",
      "2    2021-01-05  21.652565  7.046567  2.564733\n",
      "3    2021-01-06  21.859558  7.094556  2.576561\n",
      "4    2021-01-07  21.504652  7.347479  2.439565\n",
      "..          ...        ...       ...       ...\n",
      "118  2021-06-25  13.748568  7.704265  1.319862\n",
      "119  2021-06-28  15.392100  7.574178  1.559522\n",
      "120  2021-06-29  18.984203  7.711513  1.997559\n",
      "121  2021-06-30  14.430123  7.037638  1.541728\n",
      "122  2021-07-01  11.079902  7.167734  1.046342\n",
      "\n",
      "[123 rows x 4 columns]\n"
     ]
    },
    {
     "name": "stderr",
     "output_type": "stream",
     "text": [
      "\u001b[32m[I 2022-05-26 20:30:19,055]\u001b[0m Trial 1 finished with value: 0.23829441001159302 and parameters: {'ITERATIONS': 5, 'Q': 0.6345873148402599, 'EVA_RATE': 0.6023482159493561, 'ANTS': 5}. Best is trial 1 with value: 0.23829441001159302.\u001b[0m\n",
      "\u001b[32m[I 2022-05-26 20:30:19,225]\u001b[0m A new study created in memory with name: no-name-0117a38b-33aa-4aaa-a994-e21cf92af793\u001b[0m\n",
      "\u001b[32m[I 2022-05-26 20:30:19,310]\u001b[0m Trial 0 finished with value: 0.20710981272910725 and parameters: {'ITERATIONS': 4, 'Q': 0.41730901426039113, 'EVA_RATE': 0.31141028629777956, 'ANTS': 5}. Best is trial 0 with value: 0.20710981272910725.\u001b[0m\n",
      "\u001b[32m[I 2022-05-26 20:30:19,366]\u001b[0m Trial 1 finished with value: 0.20671694870178028 and parameters: {'ITERATIONS': 2, 'Q': 0.6739172512544371, 'EVA_RATE': 0.22058835878112285, 'ANTS': 3}. Best is trial 0 with value: 0.20710981272910725.\u001b[0m\n"
     ]
    },
    {
     "name": "stdout",
     "output_type": "stream",
     "text": [
      "           Date    Returns      Risk     Ratio\n",
      "0    2021-01-01  20.812991  6.905090  2.495694\n",
      "1    2021-01-04  20.574005  7.037955  2.414623\n",
      "2    2021-01-05  21.652565  7.046567  2.564733\n",
      "3    2021-01-06  21.859558  7.094556  2.576561\n",
      "4    2021-01-07  21.504652  7.347479  2.439565\n",
      "..          ...        ...       ...       ...\n",
      "119  2021-06-28  15.392100  7.574178  1.559522\n",
      "120  2021-06-29  18.984203  7.711513  1.997559\n",
      "121  2021-06-30  14.430123  7.037638  1.541728\n",
      "122  2021-07-01  11.079902  7.167734  1.046342\n",
      "123  2021-07-02  13.757782  6.753966  1.506934\n",
      "\n",
      "[124 rows x 4 columns]\n"
     ]
    },
    {
     "name": "stderr",
     "output_type": "stream",
     "text": [
      "\u001b[32m[I 2022-05-26 20:30:19,625]\u001b[0m A new study created in memory with name: no-name-9d55d4de-d74d-402c-8838-0ad21f088ab7\u001b[0m\n",
      "\u001b[32m[I 2022-05-26 20:30:19,678]\u001b[0m Trial 0 finished with value: 0.2213062575229099 and parameters: {'ITERATIONS': 3, 'Q': 0.41261000024589045, 'EVA_RATE': 0.19253343250318136, 'ANTS': 3}. Best is trial 0 with value: 0.2213062575229099.\u001b[0m\n",
      "\u001b[32m[I 2022-05-26 20:30:19,742]\u001b[0m Trial 1 finished with value: 0.22155586123546933 and parameters: {'ITERATIONS': 5, 'Q': 0.6166145862908602, 'EVA_RATE': 0.12828225808524182, 'ANTS': 4}. Best is trial 1 with value: 0.22155586123546933.\u001b[0m\n"
     ]
    },
    {
     "name": "stdout",
     "output_type": "stream",
     "text": [
      "           Date    Returns      Risk     Ratio\n",
      "0    2021-01-01  20.812991  6.905090  2.495694\n",
      "1    2021-01-04  20.574005  7.037955  2.414623\n",
      "2    2021-01-05  21.652565  7.046567  2.564733\n",
      "3    2021-01-06  21.859558  7.094556  2.576561\n",
      "4    2021-01-07  21.504652  7.347479  2.439565\n",
      "..          ...        ...       ...       ...\n",
      "120  2021-06-29  18.984203  7.711513  1.997559\n",
      "121  2021-06-30  14.430123  7.037638  1.541728\n",
      "122  2021-07-01  11.079902  7.167734  1.046342\n",
      "123  2021-07-02  13.757782  6.753966  1.506934\n",
      "124  2021-07-05  11.136602  6.541041  1.155260\n",
      "\n",
      "[125 rows x 4 columns]\n"
     ]
    },
    {
     "name": "stderr",
     "output_type": "stream",
     "text": [
      "\u001b[32m[I 2022-05-26 20:30:19,925]\u001b[0m A new study created in memory with name: no-name-a6ce41b9-a877-4c47-9ff6-0d4f47e7e075\u001b[0m\n",
      "\u001b[32m[I 2022-05-26 20:30:20,028]\u001b[0m Trial 0 finished with value: 0.22763421135745174 and parameters: {'ITERATIONS': 5, 'Q': 0.28154282196559044, 'EVA_RATE': 0.2483574547789551, 'ANTS': 3}. Best is trial 0 with value: 0.22763421135745174.\u001b[0m\n"
     ]
    },
    {
     "name": "stdout",
     "output_type": "stream",
     "text": [
      "           Date    Returns      Risk     Ratio\n",
      "0    2021-01-01  20.812991  6.905090  2.495694\n",
      "1    2021-01-04  20.574005  7.037955  2.414623\n",
      "2    2021-01-05  21.652565  7.046567  2.564733\n",
      "3    2021-01-06  21.859558  7.094556  2.576561\n",
      "4    2021-01-07  21.504652  7.347479  2.439565\n",
      "..          ...        ...       ...       ...\n",
      "121  2021-06-30  14.430123  7.037638  1.541728\n",
      "122  2021-07-01  11.079902  7.167734  1.046342\n",
      "123  2021-07-02  13.757782  6.753966  1.506934\n",
      "124  2021-07-05  11.136602  6.541041  1.155260\n",
      "125  2021-07-06  11.833764  6.675326  1.236459\n",
      "\n",
      "[126 rows x 4 columns]\n"
     ]
    },
    {
     "name": "stderr",
     "output_type": "stream",
     "text": [
      "\u001b[32m[I 2022-05-26 20:30:20,110]\u001b[0m Trial 1 finished with value: 0.24122851235803466 and parameters: {'ITERATIONS': 2, 'Q': 0.8644203360483528, 'EVA_RATE': 0.2013110222552274, 'ANTS': 4}. Best is trial 1 with value: 0.24122851235803466.\u001b[0m\n",
      "\u001b[32m[I 2022-05-26 20:30:20,310]\u001b[0m A new study created in memory with name: no-name-0e7e12cf-741b-46b0-9426-5bf2ef50697e\u001b[0m\n",
      "\u001b[32m[I 2022-05-26 20:30:20,393]\u001b[0m Trial 0 finished with value: 0.20902602241184537 and parameters: {'ITERATIONS': 3, 'Q': 0.47852859729058317, 'EVA_RATE': 0.816731186992568, 'ANTS': 4}. Best is trial 0 with value: 0.20902602241184537.\u001b[0m\n",
      "\u001b[32m[I 2022-05-26 20:30:20,453]\u001b[0m Trial 1 finished with value: 0.2281622204076891 and parameters: {'ITERATIONS': 2, 'Q': 0.810641943285792, 'EVA_RATE': 0.7830278937027121, 'ANTS': 3}. Best is trial 1 with value: 0.2281622204076891.\u001b[0m\n"
     ]
    },
    {
     "name": "stdout",
     "output_type": "stream",
     "text": [
      "           Date    Returns      Risk     Ratio\n",
      "0    2021-01-01  20.812991  6.905090  2.495694\n",
      "1    2021-01-04  20.574005  7.037955  2.414623\n",
      "2    2021-01-05  21.652565  7.046567  2.564733\n",
      "3    2021-01-06  21.859558  7.094556  2.576561\n",
      "4    2021-01-07  21.504652  7.347479  2.439565\n",
      "..          ...        ...       ...       ...\n",
      "122  2021-07-01  11.079902  7.167734  1.046342\n",
      "123  2021-07-02  13.757782  6.753966  1.506934\n",
      "124  2021-07-05  11.136602  6.541041  1.155260\n",
      "125  2021-07-06  11.833764  6.675326  1.236459\n",
      "126  2021-07-07  11.573452  6.852997  1.166417\n",
      "\n",
      "[127 rows x 4 columns]\n"
     ]
    },
    {
     "name": "stderr",
     "output_type": "stream",
     "text": [
      "\u001b[32m[I 2022-05-26 20:30:20,632]\u001b[0m A new study created in memory with name: no-name-b5eab900-b017-4890-b12c-446e05f541b5\u001b[0m\n",
      "\u001b[32m[I 2022-05-26 20:30:20,689]\u001b[0m Trial 0 finished with value: 0.21660780736275267 and parameters: {'ITERATIONS': 2, 'Q': 0.5300090285576884, 'EVA_RATE': 0.7093196925031402, 'ANTS': 4}. Best is trial 0 with value: 0.21660780736275267.\u001b[0m\n",
      "\u001b[32m[I 2022-05-26 20:30:20,756]\u001b[0m Trial 1 finished with value: 0.22833611205598064 and parameters: {'ITERATIONS': 4, 'Q': 0.20514388426692046, 'EVA_RATE': 0.7218187453007396, 'ANTS': 3}. Best is trial 1 with value: 0.22833611205598064.\u001b[0m\n"
     ]
    },
    {
     "name": "stdout",
     "output_type": "stream",
     "text": [
      "           Date    Returns      Risk     Ratio\n",
      "0    2021-01-01  20.812991  6.905090  2.495694\n",
      "1    2021-01-04  20.574005  7.037955  2.414623\n",
      "2    2021-01-05  21.652565  7.046567  2.564733\n",
      "3    2021-01-06  21.859558  7.094556  2.576561\n",
      "4    2021-01-07  21.504652  7.347479  2.439565\n",
      "..          ...        ...       ...       ...\n",
      "123  2021-07-02  13.757782  6.753966  1.506934\n",
      "124  2021-07-05  11.136602  6.541041  1.155260\n",
      "125  2021-07-06  11.833764  6.675326  1.236459\n",
      "126  2021-07-07  11.573452  6.852997  1.166417\n",
      "127  2021-07-08  11.218019  6.352139  1.202433\n",
      "\n",
      "[128 rows x 4 columns]\n"
     ]
    },
    {
     "name": "stderr",
     "output_type": "stream",
     "text": [
      "\u001b[32m[I 2022-05-26 20:30:20,927]\u001b[0m A new study created in memory with name: no-name-445907fe-49cd-44fa-94c8-aa24773f2808\u001b[0m\n",
      "\u001b[32m[I 2022-05-26 20:30:20,994]\u001b[0m Trial 0 finished with value: 0.25075645564863375 and parameters: {'ITERATIONS': 5, 'Q': 0.920731109959611, 'EVA_RATE': 0.364148492915221, 'ANTS': 3}. Best is trial 0 with value: 0.25075645564863375.\u001b[0m\n",
      "\u001b[32m[I 2022-05-26 20:30:21,066]\u001b[0m Trial 1 finished with value: 0.2528056829945084 and parameters: {'ITERATIONS': 3, 'Q': 0.5429226387561135, 'EVA_RATE': 0.7268747890144716, 'ANTS': 3}. Best is trial 1 with value: 0.2528056829945084.\u001b[0m\n"
     ]
    },
    {
     "name": "stdout",
     "output_type": "stream",
     "text": [
      "           Date    Returns      Risk     Ratio\n",
      "0    2021-01-01  20.812991  6.905090  2.495694\n",
      "1    2021-01-04  20.574005  7.037955  2.414623\n",
      "2    2021-01-05  21.652565  7.046567  2.564733\n",
      "3    2021-01-06  21.859558  7.094556  2.576561\n",
      "4    2021-01-07  21.504652  7.347479  2.439565\n",
      "..          ...        ...       ...       ...\n",
      "124  2021-07-05  11.136602  6.541041  1.155260\n",
      "125  2021-07-06  11.833764  6.675326  1.236459\n",
      "126  2021-07-07  11.573452  6.852997  1.166417\n",
      "127  2021-07-08  11.218019  6.352139  1.202433\n",
      "128  2021-07-09   7.030201  6.118076  0.563936\n",
      "\n",
      "[129 rows x 4 columns]\n"
     ]
    },
    {
     "name": "stderr",
     "output_type": "stream",
     "text": [
      "\u001b[32m[I 2022-05-26 20:30:21,257]\u001b[0m A new study created in memory with name: no-name-27c87983-ed11-46f9-8fd2-b63c782936c8\u001b[0m\n",
      "\u001b[32m[I 2022-05-26 20:30:21,341]\u001b[0m Trial 0 finished with value: 0.22093716423359155 and parameters: {'ITERATIONS': 5, 'Q': 0.8011689982547201, 'EVA_RATE': 0.19211040997079415, 'ANTS': 4}. Best is trial 0 with value: 0.22093716423359155.\u001b[0m\n",
      "\u001b[32m[I 2022-05-26 20:30:21,406]\u001b[0m Trial 1 finished with value: 0.21585220429903484 and parameters: {'ITERATIONS': 3, 'Q': 0.9120819976344838, 'EVA_RATE': 0.4093727664001212, 'ANTS': 3}. Best is trial 0 with value: 0.22093716423359155.\u001b[0m\n"
     ]
    },
    {
     "name": "stdout",
     "output_type": "stream",
     "text": [
      "           Date    Returns      Risk     Ratio\n",
      "0    2021-01-01  20.812991  6.905090  2.495694\n",
      "1    2021-01-04  20.574005  7.037955  2.414623\n",
      "2    2021-01-05  21.652565  7.046567  2.564733\n",
      "3    2021-01-06  21.859558  7.094556  2.576561\n",
      "4    2021-01-07  21.504652  7.347479  2.439565\n",
      "..          ...        ...       ...       ...\n",
      "125  2021-07-06  11.833764  6.675326  1.236459\n",
      "126  2021-07-07  11.573452  6.852997  1.166417\n",
      "127  2021-07-08  11.218019  6.352139  1.202433\n",
      "128  2021-07-09   7.030201  6.118076  0.563936\n",
      "129  2021-07-12  10.080001  6.749382  0.963051\n",
      "\n",
      "[130 rows x 4 columns]\n"
     ]
    },
    {
     "name": "stderr",
     "output_type": "stream",
     "text": [
      "\u001b[32m[I 2022-05-26 20:30:21,592]\u001b[0m A new study created in memory with name: no-name-af12ef02-3a92-4ad0-9181-00823499d816\u001b[0m\n",
      "\u001b[32m[I 2022-05-26 20:30:21,652]\u001b[0m Trial 0 finished with value: 0.234253189523047 and parameters: {'ITERATIONS': 4, 'Q': 0.7625659785578105, 'EVA_RATE': 0.6472104409838751, 'ANTS': 2}. Best is trial 0 with value: 0.234253189523047.\u001b[0m\n",
      "\u001b[32m[I 2022-05-26 20:30:21,709]\u001b[0m Trial 1 finished with value: 0.1955289955816029 and parameters: {'ITERATIONS': 4, 'Q': 0.23575266115067398, 'EVA_RATE': 0.6077739589622593, 'ANTS': 2}. Best is trial 0 with value: 0.234253189523047.\u001b[0m\n"
     ]
    },
    {
     "name": "stdout",
     "output_type": "stream",
     "text": [
      "           Date    Returns      Risk     Ratio\n",
      "0    2021-01-01  20.812991  6.905090  2.495694\n",
      "1    2021-01-04  20.574005  7.037955  2.414623\n",
      "2    2021-01-05  21.652565  7.046567  2.564733\n",
      "3    2021-01-06  21.859558  7.094556  2.576561\n",
      "4    2021-01-07  21.504652  7.347479  2.439565\n",
      "..          ...        ...       ...       ...\n",
      "126  2021-07-07  11.573452  6.852997  1.166417\n",
      "127  2021-07-08  11.218019  6.352139  1.202433\n",
      "128  2021-07-09   7.030201  6.118076  0.563936\n",
      "129  2021-07-12  10.080001  6.749382  0.963051\n",
      "130  2021-07-13  12.099766  5.588286  1.524576\n",
      "\n",
      "[131 rows x 4 columns]\n"
     ]
    },
    {
     "name": "stderr",
     "output_type": "stream",
     "text": [
      "\u001b[32m[I 2022-05-26 20:30:21,908]\u001b[0m A new study created in memory with name: no-name-e02289ac-0886-4861-acf4-825cf258e7d4\u001b[0m\n",
      "\u001b[32m[I 2022-05-26 20:30:21,993]\u001b[0m Trial 0 finished with value: 0.20670682009268054 and parameters: {'ITERATIONS': 2, 'Q': 0.34308001692102463, 'EVA_RATE': 0.5019709296180453, 'ANTS': 5}. Best is trial 0 with value: 0.20670682009268054.\u001b[0m\n",
      "\u001b[32m[I 2022-05-26 20:30:22,052]\u001b[0m Trial 1 finished with value: 0.24922898612349978 and parameters: {'ITERATIONS': 3, 'Q': 0.24468382707868336, 'EVA_RATE': 0.26798109271149584, 'ANTS': 5}. Best is trial 1 with value: 0.24922898612349978.\u001b[0m\n"
     ]
    },
    {
     "name": "stdout",
     "output_type": "stream",
     "text": [
      "           Date    Returns      Risk     Ratio\n",
      "0    2021-01-01  20.812991  6.905090  2.495694\n",
      "1    2021-01-04  20.574005  7.037955  2.414623\n",
      "2    2021-01-05  21.652565  7.046567  2.564733\n",
      "3    2021-01-06  21.859558  7.094556  2.576561\n",
      "4    2021-01-07  21.504652  7.347479  2.439565\n",
      "..          ...        ...       ...       ...\n",
      "127  2021-07-08  11.218019  6.352139  1.202433\n",
      "128  2021-07-09   7.030201  6.118076  0.563936\n",
      "129  2021-07-12  10.080001  6.749382  0.963051\n",
      "130  2021-07-13  12.099766  5.588286  1.524576\n",
      "131  2021-07-14  13.512499  5.668900  1.752103\n",
      "\n",
      "[132 rows x 4 columns]\n"
     ]
    },
    {
     "name": "stderr",
     "output_type": "stream",
     "text": [
      "\u001b[32m[I 2022-05-26 20:30:22,223]\u001b[0m A new study created in memory with name: no-name-012f8172-6b0c-4bfb-9af8-81c0d3186bdf\u001b[0m\n",
      "\u001b[32m[I 2022-05-26 20:30:22,320]\u001b[0m Trial 0 finished with value: 0.22517731432539292 and parameters: {'ITERATIONS': 5, 'Q': 0.4299571827067724, 'EVA_RATE': 0.7090093887450747, 'ANTS': 5}. Best is trial 0 with value: 0.22517731432539292.\u001b[0m\n",
      "\u001b[32m[I 2022-05-26 20:30:22,403]\u001b[0m Trial 1 finished with value: 0.2130261309541109 and parameters: {'ITERATIONS': 3, 'Q': 0.8635934593194219, 'EVA_RATE': 0.12910562116225408, 'ANTS': 2}. Best is trial 0 with value: 0.22517731432539292.\u001b[0m\n"
     ]
    },
    {
     "name": "stdout",
     "output_type": "stream",
     "text": [
      "           Date    Returns      Risk     Ratio\n",
      "0    2021-01-01  20.812991  6.905090  2.495694\n",
      "1    2021-01-04  20.574005  7.037955  2.414623\n",
      "2    2021-01-05  21.652565  7.046567  2.564733\n",
      "3    2021-01-06  21.859558  7.094556  2.576561\n",
      "4    2021-01-07  21.504652  7.347479  2.439565\n",
      "..          ...        ...       ...       ...\n",
      "128  2021-07-09   7.030201  6.118076  0.563936\n",
      "129  2021-07-12  10.080001  6.749382  0.963051\n",
      "130  2021-07-13  12.099766  5.588286  1.524576\n",
      "131  2021-07-14  13.512499  5.668900  1.752103\n",
      "132  2021-07-15  12.545680  5.832285  1.537250\n",
      "\n",
      "[133 rows x 4 columns]\n"
     ]
    },
    {
     "name": "stderr",
     "output_type": "stream",
     "text": [
      "\u001b[32m[I 2022-05-26 20:30:22,592]\u001b[0m A new study created in memory with name: no-name-186a46da-35b5-4001-9b2a-f79bccfc1d2a\u001b[0m\n",
      "\u001b[32m[I 2022-05-26 20:30:22,649]\u001b[0m Trial 0 finished with value: 0.24422399462205732 and parameters: {'ITERATIONS': 4, 'Q': 0.7762165147032108, 'EVA_RATE': 0.4010055975449208, 'ANTS': 2}. Best is trial 0 with value: 0.24422399462205732.\u001b[0m\n",
      "\u001b[32m[I 2022-05-26 20:30:22,727]\u001b[0m Trial 1 finished with value: 0.23516219450180814 and parameters: {'ITERATIONS': 5, 'Q': 0.27796537788105335, 'EVA_RATE': 0.8728884895873504, 'ANTS': 3}. Best is trial 0 with value: 0.24422399462205732.\u001b[0m\n"
     ]
    },
    {
     "name": "stdout",
     "output_type": "stream",
     "text": [
      "           Date    Returns      Risk     Ratio\n",
      "0    2021-01-01  20.812991  6.905090  2.495694\n",
      "1    2021-01-04  20.574005  7.037955  2.414623\n",
      "2    2021-01-05  21.652565  7.046567  2.564733\n",
      "3    2021-01-06  21.859558  7.094556  2.576561\n",
      "4    2021-01-07  21.504652  7.347479  2.439565\n",
      "..          ...        ...       ...       ...\n",
      "129  2021-07-12  10.080001  6.749382  0.963051\n",
      "130  2021-07-13  12.099766  5.588286  1.524576\n",
      "131  2021-07-14  13.512499  5.668900  1.752103\n",
      "132  2021-07-15  12.545680  5.832285  1.537250\n",
      "133  2021-07-16  10.805564  5.400520  1.337939\n",
      "\n",
      "[134 rows x 4 columns]\n"
     ]
    },
    {
     "name": "stderr",
     "output_type": "stream",
     "text": [
      "\u001b[32m[I 2022-05-26 20:30:22,975]\u001b[0m A new study created in memory with name: no-name-f342d91c-9b20-4aa1-9c89-1112d9f5ab70\u001b[0m\n",
      "\u001b[32m[I 2022-05-26 20:30:23,042]\u001b[0m Trial 0 finished with value: 0.256663679711338 and parameters: {'ITERATIONS': 4, 'Q': 0.2166429412932619, 'EVA_RATE': 0.7532242874891503, 'ANTS': 3}. Best is trial 0 with value: 0.256663679711338.\u001b[0m\n",
      "\u001b[32m[I 2022-05-26 20:30:23,141]\u001b[0m Trial 1 finished with value: 0.22557860176477 and parameters: {'ITERATIONS': 5, 'Q': 0.2865998731678856, 'EVA_RATE': 0.5488533060043482, 'ANTS': 3}. Best is trial 0 with value: 0.256663679711338.\u001b[0m\n"
     ]
    },
    {
     "name": "stdout",
     "output_type": "stream",
     "text": [
      "           Date    Returns      Risk     Ratio\n",
      "0    2021-01-01  20.812991  6.905090  2.495694\n",
      "1    2021-01-04  20.574005  7.037955  2.414623\n",
      "2    2021-01-05  21.652565  7.046567  2.564733\n",
      "3    2021-01-06  21.859558  7.094556  2.576561\n",
      "4    2021-01-07  21.504652  7.347479  2.439565\n",
      "..          ...        ...       ...       ...\n",
      "130  2021-07-13  12.099766  5.588286  1.524576\n",
      "131  2021-07-14  13.512499  5.668900  1.752103\n",
      "132  2021-07-15  12.545680  5.832285  1.537250\n",
      "133  2021-07-16  10.805564  5.400520  1.337939\n",
      "134  2021-07-19  13.317135  4.895837  1.988860\n",
      "\n",
      "[135 rows x 4 columns]\n"
     ]
    },
    {
     "name": "stderr",
     "output_type": "stream",
     "text": [
      "\u001b[32m[I 2022-05-26 20:30:23,386]\u001b[0m A new study created in memory with name: no-name-216417b9-d31e-4bfd-aab8-e39e3e48c7fb\u001b[0m\n",
      "\u001b[32m[I 2022-05-26 20:30:23,476]\u001b[0m Trial 0 finished with value: 0.254624102755505 and parameters: {'ITERATIONS': 5, 'Q': 0.6909673870981448, 'EVA_RATE': 0.35046726961449903, 'ANTS': 5}. Best is trial 0 with value: 0.254624102755505.\u001b[0m\n"
     ]
    },
    {
     "name": "stdout",
     "output_type": "stream",
     "text": [
      "           Date    Returns      Risk     Ratio\n",
      "0    2021-01-01  20.812991  6.905090  2.495694\n",
      "1    2021-01-04  20.574005  7.037955  2.414623\n",
      "2    2021-01-05  21.652565  7.046567  2.564733\n",
      "3    2021-01-06  21.859558  7.094556  2.576561\n",
      "4    2021-01-07  21.504652  7.347479  2.439565\n",
      "..          ...        ...       ...       ...\n",
      "131  2021-07-14  13.512499  5.668900  1.752103\n",
      "132  2021-07-15  12.545680  5.832285  1.537250\n",
      "133  2021-07-16  10.805564  5.400520  1.337939\n",
      "134  2021-07-19  13.317135  4.895837  1.988860\n",
      "135  2021-07-20  11.562456  5.162715  1.546174\n",
      "\n",
      "[136 rows x 4 columns]\n"
     ]
    },
    {
     "name": "stderr",
     "output_type": "stream",
     "text": [
      "\u001b[32m[I 2022-05-26 20:30:23,576]\u001b[0m Trial 1 finished with value: 0.22009298833929306 and parameters: {'ITERATIONS': 4, 'Q': 0.7815071072527819, 'EVA_RATE': 0.12900945888457474, 'ANTS': 3}. Best is trial 0 with value: 0.254624102755505.\u001b[0m\n",
      "\u001b[32m[I 2022-05-26 20:30:23,783]\u001b[0m A new study created in memory with name: no-name-9faa53ed-2293-485d-be63-4c297c819cd2\u001b[0m\n",
      "\u001b[32m[I 2022-05-26 20:30:23,857]\u001b[0m Trial 0 finished with value: 0.22513469210301745 and parameters: {'ITERATIONS': 2, 'Q': 0.3660418137570135, 'EVA_RATE': 0.17964743305913786, 'ANTS': 2}. Best is trial 0 with value: 0.22513469210301745.\u001b[0m\n",
      "\u001b[32m[I 2022-05-26 20:30:23,942]\u001b[0m Trial 1 finished with value: 0.23105222947260226 and parameters: {'ITERATIONS': 3, 'Q': 0.8800389866565216, 'EVA_RATE': 0.5211474481974632, 'ANTS': 5}. Best is trial 1 with value: 0.23105222947260226.\u001b[0m\n"
     ]
    },
    {
     "name": "stdout",
     "output_type": "stream",
     "text": [
      "           Date    Returns      Risk     Ratio\n",
      "0    2021-01-01  20.812991  6.905090  2.495694\n",
      "1    2021-01-04  20.574005  7.037955  2.414623\n",
      "2    2021-01-05  21.652565  7.046567  2.564733\n",
      "3    2021-01-06  21.859558  7.094556  2.576561\n",
      "4    2021-01-07  21.504652  7.347479  2.439565\n",
      "..          ...        ...       ...       ...\n",
      "132  2021-07-15  12.545680  5.832285  1.537250\n",
      "133  2021-07-16  10.805564  5.400520  1.337939\n",
      "134  2021-07-19  13.317135  4.895837  1.988860\n",
      "135  2021-07-20  11.562456  5.162715  1.546174\n",
      "136  2021-07-22  11.273842  4.871293  1.579425\n",
      "\n",
      "[137 rows x 4 columns]\n"
     ]
    },
    {
     "name": "stderr",
     "output_type": "stream",
     "text": [
      "\u001b[32m[I 2022-05-26 20:30:24,171]\u001b[0m A new study created in memory with name: no-name-6f3ff4df-fc58-467c-9166-3fcfa5b4ac91\u001b[0m\n",
      "\u001b[32m[I 2022-05-26 20:30:24,238]\u001b[0m Trial 0 finished with value: 0.2602198463343837 and parameters: {'ITERATIONS': 3, 'Q': 0.41055508284377584, 'EVA_RATE': 0.12247500298217737, 'ANTS': 2}. Best is trial 0 with value: 0.2602198463343837.\u001b[0m\n",
      "\u001b[32m[I 2022-05-26 20:30:24,310]\u001b[0m Trial 1 finished with value: 0.2101580723154902 and parameters: {'ITERATIONS': 2, 'Q': 0.21883783491090286, 'EVA_RATE': 0.8504068386952522, 'ANTS': 5}. Best is trial 0 with value: 0.2602198463343837.\u001b[0m\n"
     ]
    },
    {
     "name": "stdout",
     "output_type": "stream",
     "text": [
      "           Date    Returns      Risk     Ratio\n",
      "0    2021-01-01  20.812991  6.905090  2.495694\n",
      "1    2021-01-04  20.574005  7.037955  2.414623\n",
      "2    2021-01-05  21.652565  7.046567  2.564733\n",
      "3    2021-01-06  21.859558  7.094556  2.576561\n",
      "4    2021-01-07  21.504652  7.347479  2.439565\n",
      "..          ...        ...       ...       ...\n",
      "133  2021-07-16  10.805564  5.400520  1.337939\n",
      "134  2021-07-19  13.317135  4.895837  1.988860\n",
      "135  2021-07-20  11.562456  5.162715  1.546174\n",
      "136  2021-07-22  11.273842  4.871293  1.579425\n",
      "137  2021-07-23  15.167468  5.762558  2.010820\n",
      "\n",
      "[138 rows x 4 columns]\n"
     ]
    },
    {
     "name": "stderr",
     "output_type": "stream",
     "text": [
      "\u001b[32m[I 2022-05-26 20:30:24,553]\u001b[0m A new study created in memory with name: no-name-281981f4-e8bd-4b6a-8b09-f0aa2e0c6bb4\u001b[0m\n",
      "\u001b[32m[I 2022-05-26 20:30:24,641]\u001b[0m Trial 0 finished with value: 0.2342861482787227 and parameters: {'ITERATIONS': 3, 'Q': 0.8578599662581442, 'EVA_RATE': 0.7560506152559968, 'ANTS': 3}. Best is trial 0 with value: 0.2342861482787227.\u001b[0m\n",
      "\u001b[32m[I 2022-05-26 20:30:24,749]\u001b[0m Trial 1 finished with value: 0.20931741746813898 and parameters: {'ITERATIONS': 3, 'Q': 0.46988721401980793, 'EVA_RATE': 0.7274263649367267, 'ANTS': 5}. Best is trial 0 with value: 0.2342861482787227.\u001b[0m\n"
     ]
    },
    {
     "name": "stdout",
     "output_type": "stream",
     "text": [
      "           Date    Returns      Risk     Ratio\n",
      "0    2021-01-01  20.812991  6.905090  2.495694\n",
      "1    2021-01-04  20.574005  7.037955  2.414623\n",
      "2    2021-01-05  21.652565  7.046567  2.564733\n",
      "3    2021-01-06  21.859558  7.094556  2.576561\n",
      "4    2021-01-07  21.504652  7.347479  2.439565\n",
      "..          ...        ...       ...       ...\n",
      "134  2021-07-19  13.317135  4.895837  1.988860\n",
      "135  2021-07-20  11.562456  5.162715  1.546174\n",
      "136  2021-07-22  11.273842  4.871293  1.579425\n",
      "137  2021-07-23  15.167468  5.762558  2.010820\n",
      "138  2021-07-26  13.602434  5.222897  1.918941\n",
      "\n",
      "[139 rows x 4 columns]\n"
     ]
    },
    {
     "name": "stderr",
     "output_type": "stream",
     "text": [
      "\u001b[32m[I 2022-05-26 20:30:25,817]\u001b[0m A new study created in memory with name: no-name-a6b287d1-d36c-4be8-badb-9788ab8069b7\u001b[0m\n",
      "\u001b[32m[I 2022-05-26 20:30:25,891]\u001b[0m Trial 0 finished with value: 0.22350479876656235 and parameters: {'ITERATIONS': 5, 'Q': 0.8633163295678382, 'EVA_RATE': 0.8870787454444224, 'ANTS': 5}. Best is trial 0 with value: 0.22350479876656235.\u001b[0m\n",
      "\u001b[32m[I 2022-05-26 20:30:25,970]\u001b[0m Trial 1 finished with value: 0.21533625221680228 and parameters: {'ITERATIONS': 4, 'Q': 0.6939172797439821, 'EVA_RATE': 0.13928136180594586, 'ANTS': 5}. Best is trial 0 with value: 0.22350479876656235.\u001b[0m\n"
     ]
    },
    {
     "name": "stdout",
     "output_type": "stream",
     "text": [
      "           Date    Returns      Risk     Ratio\n",
      "0    2021-01-01  20.812991  6.905090  2.495694\n",
      "1    2021-01-04  20.574005  7.037955  2.414623\n",
      "2    2021-01-05  21.652565  7.046567  2.564733\n",
      "3    2021-01-06  21.859558  7.094556  2.576561\n",
      "4    2021-01-07  21.504652  7.347479  2.439565\n",
      "..          ...        ...       ...       ...\n",
      "135  2021-07-20  11.562456  5.162715  1.546174\n",
      "136  2021-07-22  11.273842  4.871293  1.579425\n",
      "137  2021-07-23  15.167468  5.762558  2.010820\n",
      "138  2021-07-26  13.602434  5.222897  1.918941\n",
      "139  2021-07-27  12.554360  5.396664  1.662946\n",
      "\n",
      "[140 rows x 4 columns]\n"
     ]
    },
    {
     "name": "stderr",
     "output_type": "stream",
     "text": [
      "\u001b[32m[I 2022-05-26 20:30:26,136]\u001b[0m A new study created in memory with name: no-name-22a89f42-cff3-4f88-bf4d-50e4dd05a609\u001b[0m\n",
      "\u001b[32m[I 2022-05-26 20:30:26,195]\u001b[0m Trial 0 finished with value: 0.23165258710565761 and parameters: {'ITERATIONS': 3, 'Q': 0.3153284741333207, 'EVA_RATE': 0.4063791199948875, 'ANTS': 4}. Best is trial 0 with value: 0.23165258710565761.\u001b[0m\n",
      "\u001b[32m[I 2022-05-26 20:30:26,262]\u001b[0m Trial 1 finished with value: 0.26941937641276364 and parameters: {'ITERATIONS': 5, 'Q': 0.14167631475320075, 'EVA_RATE': 0.10125363458130143, 'ANTS': 3}. Best is trial 1 with value: 0.26941937641276364.\u001b[0m\n"
     ]
    },
    {
     "name": "stdout",
     "output_type": "stream",
     "text": [
      "           Date    Returns      Risk     Ratio\n",
      "0    2021-01-01  20.812991  6.905090  2.495694\n",
      "1    2021-01-04  20.574005  7.037955  2.414623\n",
      "2    2021-01-05  21.652565  7.046567  2.564733\n",
      "3    2021-01-06  21.859558  7.094556  2.576561\n",
      "4    2021-01-07  21.504652  7.347479  2.439565\n",
      "..          ...        ...       ...       ...\n",
      "136  2021-07-22  11.273842  4.871293  1.579425\n",
      "137  2021-07-23  15.167468  5.762558  2.010820\n",
      "138  2021-07-26  13.602434  5.222897  1.918941\n",
      "139  2021-07-27  12.554360  5.396664  1.662946\n",
      "140  2021-07-28  11.290704  5.040327  1.529802\n",
      "\n",
      "[141 rows x 4 columns]\n"
     ]
    },
    {
     "name": "stderr",
     "output_type": "stream",
     "text": [
      "\u001b[32m[I 2022-05-26 20:30:26,441]\u001b[0m A new study created in memory with name: no-name-5c20b574-1664-4479-85a0-11632bfb2e0d\u001b[0m\n",
      "\u001b[32m[I 2022-05-26 20:30:26,525]\u001b[0m Trial 0 finished with value: 0.20887102799281465 and parameters: {'ITERATIONS': 3, 'Q': 0.29673067600086395, 'EVA_RATE': 0.20331864568855593, 'ANTS': 3}. Best is trial 0 with value: 0.20887102799281465.\u001b[0m\n",
      "\u001b[32m[I 2022-05-26 20:30:26,574]\u001b[0m Trial 1 finished with value: 0.21674330700083722 and parameters: {'ITERATIONS': 2, 'Q': 0.7246355491844442, 'EVA_RATE': 0.7137582194584292, 'ANTS': 4}. Best is trial 1 with value: 0.21674330700083722.\u001b[0m\n"
     ]
    },
    {
     "name": "stdout",
     "output_type": "stream",
     "text": [
      "           Date    Returns      Risk     Ratio\n",
      "0    2021-01-01  20.812991  6.905090  2.495694\n",
      "1    2021-01-04  20.574005  7.037955  2.414623\n",
      "2    2021-01-05  21.652565  7.046567  2.564733\n",
      "3    2021-01-06  21.859558  7.094556  2.576561\n",
      "4    2021-01-07  21.504652  7.347479  2.439565\n",
      "..          ...        ...       ...       ...\n",
      "137  2021-07-23  15.167468  5.762558  2.010820\n",
      "138  2021-07-26  13.602434  5.222897  1.918941\n",
      "139  2021-07-27  12.554360  5.396664  1.662946\n",
      "140  2021-07-28  11.290704  5.040327  1.529802\n",
      "141  2021-07-29  12.212482  5.048350  1.709961\n",
      "\n",
      "[142 rows x 4 columns]\n"
     ]
    },
    {
     "name": "stderr",
     "output_type": "stream",
     "text": [
      "\u001b[32m[I 2022-05-26 20:30:26,737]\u001b[0m A new study created in memory with name: no-name-6d0d9c24-e94a-4f23-a9e7-65e053cdd31c\u001b[0m\n",
      "\u001b[32m[I 2022-05-26 20:30:26,821]\u001b[0m Trial 0 finished with value: 0.22448560875652346 and parameters: {'ITERATIONS': 5, 'Q': 0.7678339607487192, 'EVA_RATE': 0.5338754347895994, 'ANTS': 5}. Best is trial 0 with value: 0.22448560875652346.\u001b[0m\n",
      "\u001b[32m[I 2022-05-26 20:30:26,891]\u001b[0m Trial 1 finished with value: 0.25891901323219657 and parameters: {'ITERATIONS': 3, 'Q': 0.5824523369622167, 'EVA_RATE': 0.2051124922999279, 'ANTS': 2}. Best is trial 1 with value: 0.25891901323219657.\u001b[0m\n"
     ]
    },
    {
     "name": "stdout",
     "output_type": "stream",
     "text": [
      "           Date    Returns      Risk     Ratio\n",
      "0    2021-01-01  20.812991  6.905090  2.495694\n",
      "1    2021-01-04  20.574005  7.037955  2.414623\n",
      "2    2021-01-05  21.652565  7.046567  2.564733\n",
      "3    2021-01-06  21.859558  7.094556  2.576561\n",
      "4    2021-01-07  21.504652  7.347479  2.439565\n",
      "..          ...        ...       ...       ...\n",
      "138  2021-07-26  13.602434  5.222897  1.918941\n",
      "139  2021-07-27  12.554360  5.396664  1.662946\n",
      "140  2021-07-28  11.290704  5.040327  1.529802\n",
      "141  2021-07-29  12.212482  5.048350  1.709961\n",
      "142  2021-07-30  11.617351  5.082965  1.581233\n",
      "\n",
      "[143 rows x 4 columns]\n"
     ]
    },
    {
     "name": "stderr",
     "output_type": "stream",
     "text": [
      "\u001b[32m[I 2022-05-26 20:30:27,183]\u001b[0m A new study created in memory with name: no-name-3d416745-dbbb-4ea1-9640-e6c6a18d7f11\u001b[0m\n",
      "\u001b[32m[I 2022-05-26 20:30:27,258]\u001b[0m Trial 0 finished with value: 0.23221150179697855 and parameters: {'ITERATIONS': 5, 'Q': 0.49572133217664394, 'EVA_RATE': 0.42147279844732377, 'ANTS': 3}. Best is trial 0 with value: 0.23221150179697855.\u001b[0m\n",
      "\u001b[32m[I 2022-05-26 20:30:27,334]\u001b[0m Trial 1 finished with value: 0.24608527039398548 and parameters: {'ITERATIONS': 5, 'Q': 0.31327544775690597, 'EVA_RATE': 0.46274810205367, 'ANTS': 2}. Best is trial 1 with value: 0.24608527039398548.\u001b[0m\n"
     ]
    },
    {
     "name": "stdout",
     "output_type": "stream",
     "text": [
      "           Date    Returns      Risk     Ratio\n",
      "0    2021-01-01  20.812991  6.905090  2.495694\n",
      "1    2021-01-04  20.574005  7.037955  2.414623\n",
      "2    2021-01-05  21.652565  7.046567  2.564733\n",
      "3    2021-01-06  21.859558  7.094556  2.576561\n",
      "4    2021-01-07  21.504652  7.347479  2.439565\n",
      "..          ...        ...       ...       ...\n",
      "139  2021-07-27  12.554360  5.396664  1.662946\n",
      "140  2021-07-28  11.290704  5.040327  1.529802\n",
      "141  2021-07-29  12.212482  5.048350  1.709961\n",
      "142  2021-07-30  11.617351  5.082965  1.581233\n",
      "143  2021-08-02  12.367445  5.240997  1.676674\n",
      "\n",
      "[144 rows x 4 columns]\n"
     ]
    },
    {
     "name": "stderr",
     "output_type": "stream",
     "text": [
      "\u001b[32m[I 2022-05-26 20:30:27,522]\u001b[0m A new study created in memory with name: no-name-1da0d25e-1e8d-4803-bd11-c7846955a236\u001b[0m\n",
      "\u001b[32m[I 2022-05-26 20:30:27,606]\u001b[0m Trial 0 finished with value: 0.2183984247745587 and parameters: {'ITERATIONS': 4, 'Q': 0.884467679590851, 'EVA_RATE': 0.624655012637901, 'ANTS': 4}. Best is trial 0 with value: 0.2183984247745587.\u001b[0m\n",
      "\u001b[32m[I 2022-05-26 20:30:27,681]\u001b[0m Trial 1 finished with value: 0.2374374194491698 and parameters: {'ITERATIONS': 5, 'Q': 0.7432890751290168, 'EVA_RATE': 0.45233485141732976, 'ANTS': 3}. Best is trial 1 with value: 0.2374374194491698.\u001b[0m\n"
     ]
    },
    {
     "name": "stdout",
     "output_type": "stream",
     "text": [
      "           Date    Returns      Risk     Ratio\n",
      "0    2021-01-01  20.812991  6.905090  2.495694\n",
      "1    2021-01-04  20.574005  7.037955  2.414623\n",
      "2    2021-01-05  21.652565  7.046567  2.564733\n",
      "3    2021-01-06  21.859558  7.094556  2.576561\n",
      "4    2021-01-07  21.504652  7.347479  2.439565\n",
      "..          ...        ...       ...       ...\n",
      "140  2021-07-28  11.290704  5.040327  1.529802\n",
      "141  2021-07-29  12.212482  5.048350  1.709961\n",
      "142  2021-07-30  11.617351  5.082965  1.581233\n",
      "143  2021-08-02  12.367445  5.240997  1.676674\n",
      "144  2021-08-03  13.359733  4.927097  1.984888\n",
      "\n",
      "[145 rows x 4 columns]\n"
     ]
    },
    {
     "name": "stderr",
     "output_type": "stream",
     "text": [
      "\u001b[32m[I 2022-05-26 20:30:27,853]\u001b[0m A new study created in memory with name: no-name-3fa75f32-8f75-4db3-9d60-3eefd880ede5\u001b[0m\n",
      "\u001b[32m[I 2022-05-26 20:30:27,931]\u001b[0m Trial 0 finished with value: 0.23115280459583432 and parameters: {'ITERATIONS': 4, 'Q': 0.6431549997494325, 'EVA_RATE': 0.9866209827605055, 'ANTS': 4}. Best is trial 0 with value: 0.23115280459583432.\u001b[0m\n",
      "\u001b[32m[I 2022-05-26 20:30:28,007]\u001b[0m Trial 1 finished with value: 0.26737201639612884 and parameters: {'ITERATIONS': 4, 'Q': 0.5270868834678512, 'EVA_RATE': 0.1532386294321052, 'ANTS': 5}. Best is trial 1 with value: 0.26737201639612884.\u001b[0m\n"
     ]
    },
    {
     "name": "stdout",
     "output_type": "stream",
     "text": [
      "           Date    Returns      Risk     Ratio\n",
      "0    2021-01-01  20.812991  6.905090  2.495694\n",
      "1    2021-01-04  20.574005  7.037955  2.414623\n",
      "2    2021-01-05  21.652565  7.046567  2.564733\n",
      "3    2021-01-06  21.859558  7.094556  2.576561\n",
      "4    2021-01-07  21.504652  7.347479  2.439565\n",
      "..          ...        ...       ...       ...\n",
      "141  2021-07-29  12.212482  5.048350  1.709961\n",
      "142  2021-07-30  11.617351  5.082965  1.581233\n",
      "143  2021-08-02  12.367445  5.240997  1.676674\n",
      "144  2021-08-03  13.359733  4.927097  1.984888\n",
      "145  2021-08-04  14.997090  4.811148  2.373049\n",
      "\n",
      "[146 rows x 4 columns]\n"
     ]
    },
    {
     "name": "stderr",
     "output_type": "stream",
     "text": [
      "\u001b[32m[I 2022-05-26 20:30:28,156]\u001b[0m A new study created in memory with name: no-name-9566c80f-16c9-4ef0-8ab0-d4ff39dfdab7\u001b[0m\n",
      "\u001b[32m[I 2022-05-26 20:30:28,241]\u001b[0m Trial 0 finished with value: 0.23000134194988361 and parameters: {'ITERATIONS': 2, 'Q': 0.24514825518970293, 'EVA_RATE': 0.3631031797736276, 'ANTS': 4}. Best is trial 0 with value: 0.23000134194988361.\u001b[0m\n",
      "\u001b[32m[I 2022-05-26 20:30:28,307]\u001b[0m Trial 1 finished with value: 0.21569117615933545 and parameters: {'ITERATIONS': 5, 'Q': 0.830591240924138, 'EVA_RATE': 0.7193687018951226, 'ANTS': 3}. Best is trial 0 with value: 0.23000134194988361.\u001b[0m\n"
     ]
    },
    {
     "name": "stdout",
     "output_type": "stream",
     "text": [
      "           Date    Returns      Risk     Ratio\n",
      "0    2021-01-01  20.812991  6.905090  2.495694\n",
      "1    2021-01-04  20.574005  7.037955  2.414623\n",
      "2    2021-01-05  21.652565  7.046567  2.564733\n",
      "3    2021-01-06  21.859558  7.094556  2.576561\n",
      "4    2021-01-07  21.504652  7.347479  2.439565\n",
      "..          ...        ...       ...       ...\n",
      "142  2021-07-30  11.617351  5.082965  1.581233\n",
      "143  2021-08-02  12.367445  5.240997  1.676674\n",
      "144  2021-08-03  13.359733  4.927097  1.984888\n",
      "145  2021-08-04  14.997090  4.811148  2.373049\n",
      "146  2021-08-05  13.554681  4.441659  2.245711\n",
      "\n",
      "[147 rows x 4 columns]\n"
     ]
    },
    {
     "name": "stderr",
     "output_type": "stream",
     "text": [
      "\u001b[32m[I 2022-05-26 20:30:28,456]\u001b[0m A new study created in memory with name: no-name-fa7ac4ca-d123-49f1-ad55-1a01aed58a07\u001b[0m\n",
      "\u001b[32m[I 2022-05-26 20:30:28,540]\u001b[0m Trial 0 finished with value: 0.23769719364761113 and parameters: {'ITERATIONS': 5, 'Q': 0.8676177444362638, 'EVA_RATE': 0.3034992639580991, 'ANTS': 2}. Best is trial 0 with value: 0.23769719364761113.\u001b[0m\n",
      "\u001b[32m[I 2022-05-26 20:30:28,612]\u001b[0m Trial 1 finished with value: 0.23223671666530482 and parameters: {'ITERATIONS': 3, 'Q': 0.8928397126175203, 'EVA_RATE': 0.3966455464865297, 'ANTS': 4}. Best is trial 0 with value: 0.23769719364761113.\u001b[0m\n"
     ]
    },
    {
     "name": "stdout",
     "output_type": "stream",
     "text": [
      "           Date    Returns      Risk     Ratio\n",
      "0    2021-01-01  20.812991  6.905090  2.495694\n",
      "1    2021-01-04  20.574005  7.037955  2.414623\n",
      "2    2021-01-05  21.652565  7.046567  2.564733\n",
      "3    2021-01-06  21.859558  7.094556  2.576561\n",
      "4    2021-01-07  21.504652  7.347479  2.439565\n",
      "..          ...        ...       ...       ...\n",
      "143  2021-08-02  12.367445  5.240997  1.676674\n",
      "144  2021-08-03  13.359733  4.927097  1.984888\n",
      "145  2021-08-04  14.997090  4.811148  2.373049\n",
      "146  2021-08-05  13.554681  4.441659  2.245711\n",
      "147  2021-08-06  12.450007  4.954603  1.790256\n",
      "\n",
      "[148 rows x 4 columns]\n"
     ]
    },
    {
     "name": "stderr",
     "output_type": "stream",
     "text": [
      "\u001b[32m[I 2022-05-26 20:30:28,788]\u001b[0m A new study created in memory with name: no-name-f04bcd8b-dc63-42db-9726-6a1beacfe286\u001b[0m\n",
      "\u001b[32m[I 2022-05-26 20:30:28,858]\u001b[0m Trial 0 finished with value: 0.24890536017758144 and parameters: {'ITERATIONS': 4, 'Q': 0.6708441654974087, 'EVA_RATE': 0.41898422081157993, 'ANTS': 2}. Best is trial 0 with value: 0.24890536017758144.\u001b[0m\n",
      "\u001b[32m[I 2022-05-26 20:30:28,925]\u001b[0m Trial 1 finished with value: 0.2139860166053158 and parameters: {'ITERATIONS': 2, 'Q': 0.9075848241798629, 'EVA_RATE': 0.9176077446947642, 'ANTS': 2}. Best is trial 0 with value: 0.24890536017758144.\u001b[0m\n"
     ]
    },
    {
     "name": "stdout",
     "output_type": "stream",
     "text": [
      "           Date    Returns      Risk     Ratio\n",
      "0    2021-01-01  20.812991  6.905090  2.495694\n",
      "1    2021-01-04  20.574005  7.037955  2.414623\n",
      "2    2021-01-05  21.652565  7.046567  2.564733\n",
      "3    2021-01-06  21.859558  7.094556  2.576561\n",
      "4    2021-01-07  21.504652  7.347479  2.439565\n",
      "..          ...        ...       ...       ...\n",
      "144  2021-08-03  13.359733  4.927097  1.984888\n",
      "145  2021-08-04  14.997090  4.811148  2.373049\n",
      "146  2021-08-05  13.554681  4.441659  2.245711\n",
      "147  2021-08-06  12.450007  4.954603  1.790256\n",
      "148  2021-08-09  11.663282  5.093343  1.587029\n",
      "\n",
      "[149 rows x 4 columns]\n"
     ]
    },
    {
     "name": "stderr",
     "output_type": "stream",
     "text": [
      "\u001b[32m[I 2022-05-26 20:30:29,073]\u001b[0m A new study created in memory with name: no-name-87a22935-fd29-4436-a6f4-524c693158fb\u001b[0m\n",
      "\u001b[32m[I 2022-05-26 20:30:29,135]\u001b[0m Trial 0 finished with value: 0.20068953432952824 and parameters: {'ITERATIONS': 2, 'Q': 0.3511230609668671, 'EVA_RATE': 0.5223817623861001, 'ANTS': 2}. Best is trial 0 with value: 0.20068953432952824.\u001b[0m\n",
      "\u001b[32m[I 2022-05-26 20:30:29,205]\u001b[0m Trial 1 finished with value: 0.21495901459706715 and parameters: {'ITERATIONS': 3, 'Q': 0.8133953076624356, 'EVA_RATE': 0.6582663283854916, 'ANTS': 3}. Best is trial 1 with value: 0.21495901459706715.\u001b[0m\n"
     ]
    },
    {
     "name": "stdout",
     "output_type": "stream",
     "text": [
      "           Date    Returns      Risk     Ratio\n",
      "0    2021-01-01  20.812991  6.905090  2.495694\n",
      "1    2021-01-04  20.574005  7.037955  2.414623\n",
      "2    2021-01-05  21.652565  7.046567  2.564733\n",
      "3    2021-01-06  21.859558  7.094556  2.576561\n",
      "4    2021-01-07  21.504652  7.347479  2.439565\n",
      "..          ...        ...       ...       ...\n",
      "145  2021-08-04  14.997090  4.811148  2.373049\n",
      "146  2021-08-05  13.554681  4.441659  2.245711\n",
      "147  2021-08-06  12.450007  4.954603  1.790256\n",
      "148  2021-08-09  11.663282  5.093343  1.587029\n",
      "149  2021-08-10  12.188582  4.928123  1.746828\n",
      "\n",
      "[150 rows x 4 columns]\n"
     ]
    },
    {
     "name": "stderr",
     "output_type": "stream",
     "text": [
      "\u001b[32m[I 2022-05-26 20:30:29,368]\u001b[0m A new study created in memory with name: no-name-88786de8-c266-40d9-b029-4570d8df2e45\u001b[0m\n",
      "\u001b[32m[I 2022-05-26 20:30:29,441]\u001b[0m Trial 0 finished with value: 0.20584058480527978 and parameters: {'ITERATIONS': 3, 'Q': 0.40073617066196965, 'EVA_RATE': 0.7991842272891396, 'ANTS': 2}. Best is trial 0 with value: 0.20584058480527978.\u001b[0m\n",
      "\u001b[32m[I 2022-05-26 20:30:29,525]\u001b[0m Trial 1 finished with value: 0.2647598337246292 and parameters: {'ITERATIONS': 5, 'Q': 0.28920497735087713, 'EVA_RATE': 0.4904939462537067, 'ANTS': 5}. Best is trial 1 with value: 0.2647598337246292.\u001b[0m\n"
     ]
    },
    {
     "name": "stdout",
     "output_type": "stream",
     "text": [
      "           Date    Returns      Risk     Ratio\n",
      "0    2021-01-01  20.812991  6.905090  2.495694\n",
      "1    2021-01-04  20.574005  7.037955  2.414623\n",
      "2    2021-01-05  21.652565  7.046567  2.564733\n",
      "3    2021-01-06  21.859558  7.094556  2.576561\n",
      "4    2021-01-07  21.504652  7.347479  2.439565\n",
      "..          ...        ...       ...       ...\n",
      "146  2021-08-05  13.554681  4.441659  2.245711\n",
      "147  2021-08-06  12.450007  4.954603  1.790256\n",
      "148  2021-08-09  11.663282  5.093343  1.587029\n",
      "149  2021-08-10  12.188582  4.928123  1.746828\n",
      "150  2021-08-11  12.352018  4.674883  1.876415\n",
      "\n",
      "[151 rows x 4 columns]\n"
     ]
    },
    {
     "name": "stderr",
     "output_type": "stream",
     "text": [
      "\u001b[32m[I 2022-05-26 20:30:29,688]\u001b[0m A new study created in memory with name: no-name-a53bd7c6-cf1d-4db4-8f7a-d05cabee02dc\u001b[0m\n",
      "\u001b[32m[I 2022-05-26 20:30:29,758]\u001b[0m Trial 0 finished with value: 0.22458020522892844 and parameters: {'ITERATIONS': 3, 'Q': 0.8096773865316222, 'EVA_RATE': 0.6143173782842114, 'ANTS': 4}. Best is trial 0 with value: 0.22458020522892844.\u001b[0m\n",
      "\u001b[32m[I 2022-05-26 20:30:29,855]\u001b[0m Trial 1 finished with value: 0.21825214820248515 and parameters: {'ITERATIONS': 5, 'Q': 0.6339007715530358, 'EVA_RATE': 0.9723444490151654, 'ANTS': 5}. Best is trial 0 with value: 0.22458020522892844.\u001b[0m\n"
     ]
    },
    {
     "name": "stdout",
     "output_type": "stream",
     "text": [
      "           Date    Returns      Risk     Ratio\n",
      "0    2021-01-01  20.812991  6.905090  2.495694\n",
      "1    2021-01-04  20.574005  7.037955  2.414623\n",
      "2    2021-01-05  21.652565  7.046567  2.564733\n",
      "3    2021-01-06  21.859558  7.094556  2.576561\n",
      "4    2021-01-07  21.504652  7.347479  2.439565\n",
      "..          ...        ...       ...       ...\n",
      "147  2021-08-06  12.450007  4.954603  1.790256\n",
      "148  2021-08-09  11.663282  5.093343  1.587029\n",
      "149  2021-08-10  12.188582  4.928123  1.746828\n",
      "150  2021-08-11  12.352018  4.674883  1.876415\n",
      "151  2021-08-12  13.300365  4.524838  2.148224\n",
      "\n",
      "[152 rows x 4 columns]\n"
     ]
    },
    {
     "name": "stderr",
     "output_type": "stream",
     "text": [
      "\u001b[32m[I 2022-05-26 20:30:30,008]\u001b[0m A new study created in memory with name: no-name-b9ecbe9c-62fb-4268-b148-44c32b079b7f\u001b[0m\n",
      "\u001b[32m[I 2022-05-26 20:30:30,107]\u001b[0m Trial 0 finished with value: 0.24161170501189158 and parameters: {'ITERATIONS': 4, 'Q': 0.1472963999353839, 'EVA_RATE': 0.6221818313303096, 'ANTS': 4}. Best is trial 0 with value: 0.24161170501189158.\u001b[0m\n",
      "\u001b[32m[I 2022-05-26 20:30:30,167]\u001b[0m Trial 1 finished with value: 0.2177462984091204 and parameters: {'ITERATIONS': 2, 'Q': 0.36509914864137527, 'EVA_RATE': 0.7189295050881838, 'ANTS': 5}. Best is trial 0 with value: 0.24161170501189158.\u001b[0m\n"
     ]
    },
    {
     "name": "stdout",
     "output_type": "stream",
     "text": [
      "           Date    Returns      Risk     Ratio\n",
      "0    2021-01-01  20.812991  6.905090  2.495694\n",
      "1    2021-01-04  20.574005  7.037955  2.414623\n",
      "2    2021-01-05  21.652565  7.046567  2.564733\n",
      "3    2021-01-06  21.859558  7.094556  2.576561\n",
      "4    2021-01-07  21.504652  7.347479  2.439565\n",
      "..          ...        ...       ...       ...\n",
      "148  2021-08-09  11.663282  5.093343  1.587029\n",
      "149  2021-08-10  12.188582  4.928123  1.746828\n",
      "150  2021-08-11  12.352018  4.674883  1.876415\n",
      "151  2021-08-12  13.300365  4.524838  2.148224\n",
      "152  2021-08-13  13.337169  4.727171  2.064061\n",
      "\n",
      "[153 rows x 4 columns]\n"
     ]
    },
    {
     "name": "stderr",
     "output_type": "stream",
     "text": [
      "\u001b[32m[I 2022-05-26 20:30:30,317]\u001b[0m A new study created in memory with name: no-name-9debfcec-854b-4a29-94c3-070b2368f5b2\u001b[0m\n",
      "\u001b[32m[I 2022-05-26 20:30:30,381]\u001b[0m Trial 0 finished with value: 0.2117470589445965 and parameters: {'ITERATIONS': 4, 'Q': 0.46437365769042316, 'EVA_RATE': 0.5254425673917573, 'ANTS': 2}. Best is trial 0 with value: 0.2117470589445965.\u001b[0m\n",
      "\u001b[32m[I 2022-05-26 20:30:30,450]\u001b[0m Trial 1 finished with value: 0.20151830350824557 and parameters: {'ITERATIONS': 3, 'Q': 0.16896062383545943, 'EVA_RATE': 0.8037197534074746, 'ANTS': 3}. Best is trial 0 with value: 0.2117470589445965.\u001b[0m\n"
     ]
    },
    {
     "name": "stdout",
     "output_type": "stream",
     "text": [
      "           Date    Returns      Risk     Ratio\n",
      "0    2021-01-01  20.812991  6.905090  2.495694\n",
      "1    2021-01-04  20.574005  7.037955  2.414623\n",
      "2    2021-01-05  21.652565  7.046567  2.564733\n",
      "3    2021-01-06  21.859558  7.094556  2.576561\n",
      "4    2021-01-07  21.504652  7.347479  2.439565\n",
      "..          ...        ...       ...       ...\n",
      "149  2021-08-10  12.188582  4.928123  1.746828\n",
      "150  2021-08-11  12.352018  4.674883  1.876415\n",
      "151  2021-08-12  13.300365  4.524838  2.148224\n",
      "152  2021-08-13  13.337169  4.727171  2.064061\n",
      "153  2021-08-16  13.603830  4.093561  2.448682\n",
      "\n",
      "[154 rows x 4 columns]\n"
     ]
    },
    {
     "name": "stderr",
     "output_type": "stream",
     "text": [
      "\u001b[32m[I 2022-05-26 20:30:30,619]\u001b[0m A new study created in memory with name: no-name-50a15b61-7c70-4bd7-900d-ab06f1020dd8\u001b[0m\n",
      "\u001b[32m[I 2022-05-26 20:30:30,689]\u001b[0m Trial 0 finished with value: 0.23491195384089558 and parameters: {'ITERATIONS': 5, 'Q': 0.5008142387638055, 'EVA_RATE': 0.1585527760627029, 'ANTS': 3}. Best is trial 0 with value: 0.23491195384089558.\u001b[0m\n",
      "\u001b[32m[I 2022-05-26 20:30:30,787]\u001b[0m Trial 1 finished with value: 0.2192437293584702 and parameters: {'ITERATIONS': 5, 'Q': 0.1506631556853538, 'EVA_RATE': 0.987723283140772, 'ANTS': 3}. Best is trial 0 with value: 0.23491195384089558.\u001b[0m\n"
     ]
    },
    {
     "name": "stdout",
     "output_type": "stream",
     "text": [
      "           Date    Returns      Risk     Ratio\n",
      "0    2021-01-01  20.812991  6.905090  2.495694\n",
      "1    2021-01-04  20.574005  7.037955  2.414623\n",
      "2    2021-01-05  21.652565  7.046567  2.564733\n",
      "3    2021-01-06  21.859558  7.094556  2.576561\n",
      "4    2021-01-07  21.504652  7.347479  2.439565\n",
      "..          ...        ...       ...       ...\n",
      "150  2021-08-11  12.352018  4.674883  1.876415\n",
      "151  2021-08-12  13.300365  4.524838  2.148224\n",
      "152  2021-08-13  13.337169  4.727171  2.064061\n",
      "153  2021-08-16  13.603830  4.093561  2.448682\n",
      "154  2021-08-17  11.944724  4.859864  1.721185\n",
      "\n",
      "[155 rows x 4 columns]\n"
     ]
    },
    {
     "name": "stderr",
     "output_type": "stream",
     "text": [
      "\u001b[32m[I 2022-05-26 20:30:30,983]\u001b[0m A new study created in memory with name: no-name-8d0fdd74-080e-4d9d-b16c-c53056b1c68b\u001b[0m\n",
      "\u001b[32m[I 2022-05-26 20:30:31,044]\u001b[0m Trial 0 finished with value: 0.22395280934396833 and parameters: {'ITERATIONS': 4, 'Q': 0.265130384690885, 'EVA_RATE': 0.4484445836665315, 'ANTS': 2}. Best is trial 0 with value: 0.22395280934396833.\u001b[0m\n",
      "\u001b[32m[I 2022-05-26 20:30:31,094]\u001b[0m Trial 1 finished with value: 0.2236953602363476 and parameters: {'ITERATIONS': 4, 'Q': 0.4986180016445275, 'EVA_RATE': 0.5340423845356016, 'ANTS': 2}. Best is trial 0 with value: 0.22395280934396833.\u001b[0m\n"
     ]
    },
    {
     "name": "stdout",
     "output_type": "stream",
     "text": [
      "           Date    Returns      Risk     Ratio\n",
      "0    2021-01-01  20.812991  6.905090  2.495694\n",
      "1    2021-01-04  20.574005  7.037955  2.414623\n",
      "2    2021-01-05  21.652565  7.046567  2.564733\n",
      "3    2021-01-06  21.859558  7.094556  2.576561\n",
      "4    2021-01-07  21.504652  7.347479  2.439565\n",
      "..          ...        ...       ...       ...\n",
      "151  2021-08-12  13.300365  4.524838  2.148224\n",
      "152  2021-08-13  13.337169  4.727171  2.064061\n",
      "153  2021-08-16  13.603830  4.093561  2.448682\n",
      "154  2021-08-17  11.944724  4.859864  1.721185\n",
      "155  2021-08-18  14.472159  4.236900  2.570785\n",
      "\n",
      "[156 rows x 4 columns]\n"
     ]
    },
    {
     "name": "stderr",
     "output_type": "stream",
     "text": [
      "\u001b[32m[I 2022-05-26 20:30:31,255]\u001b[0m A new study created in memory with name: no-name-c840ca1a-0a65-4b3b-8231-c36f167ebade\u001b[0m\n",
      "\u001b[32m[I 2022-05-26 20:30:31,338]\u001b[0m Trial 0 finished with value: 0.25303324662577453 and parameters: {'ITERATIONS': 4, 'Q': 0.8469873283619068, 'EVA_RATE': 0.10733576764429242, 'ANTS': 4}. Best is trial 0 with value: 0.25303324662577453.\u001b[0m\n",
      "\u001b[32m[I 2022-05-26 20:30:31,403]\u001b[0m Trial 1 finished with value: 0.24434610795429565 and parameters: {'ITERATIONS': 2, 'Q': 0.8103035032206801, 'EVA_RATE': 0.9712757358314358, 'ANTS': 2}. Best is trial 0 with value: 0.25303324662577453.\u001b[0m\n"
     ]
    },
    {
     "name": "stdout",
     "output_type": "stream",
     "text": [
      "           Date    Returns      Risk     Ratio\n",
      "0    2021-01-01  20.812991  6.905090  2.495694\n",
      "1    2021-01-04  20.574005  7.037955  2.414623\n",
      "2    2021-01-05  21.652565  7.046567  2.564733\n",
      "3    2021-01-06  21.859558  7.094556  2.576561\n",
      "4    2021-01-07  21.504652  7.347479  2.439565\n",
      "..          ...        ...       ...       ...\n",
      "152  2021-08-13  13.337169  4.727171  2.064061\n",
      "153  2021-08-16  13.603830  4.093561  2.448682\n",
      "154  2021-08-17  11.944724  4.859864  1.721185\n",
      "155  2021-08-18  14.472159  4.236900  2.570785\n",
      "156  2021-08-20  15.323009  4.295433  2.733836\n",
      "\n",
      "[157 rows x 4 columns]\n"
     ]
    },
    {
     "name": "stderr",
     "output_type": "stream",
     "text": [
      "\u001b[32m[I 2022-05-26 20:30:31,598]\u001b[0m A new study created in memory with name: no-name-40a456a0-6b29-4c57-9803-46403c782cd3\u001b[0m\n",
      "\u001b[32m[I 2022-05-26 20:30:31,682]\u001b[0m Trial 0 finished with value: 0.26731034570843254 and parameters: {'ITERATIONS': 5, 'Q': 0.4807652319780472, 'EVA_RATE': 0.80590451781533, 'ANTS': 3}. Best is trial 0 with value: 0.26731034570843254.\u001b[0m\n",
      "\u001b[32m[I 2022-05-26 20:30:31,751]\u001b[0m Trial 1 finished with value: 0.20982006197659903 and parameters: {'ITERATIONS': 3, 'Q': 0.7246102998997279, 'EVA_RATE': 0.9795349635368058, 'ANTS': 4}. Best is trial 0 with value: 0.26731034570843254.\u001b[0m\n"
     ]
    },
    {
     "name": "stdout",
     "output_type": "stream",
     "text": [
      "           Date    Returns      Risk     Ratio\n",
      "0    2021-01-01  20.812991  6.905090  2.495694\n",
      "1    2021-01-04  20.574005  7.037955  2.414623\n",
      "2    2021-01-05  21.652565  7.046567  2.564733\n",
      "3    2021-01-06  21.859558  7.094556  2.576561\n",
      "4    2021-01-07  21.504652  7.347479  2.439565\n",
      "..          ...        ...       ...       ...\n",
      "153  2021-08-16  13.603830  4.093561  2.448682\n",
      "154  2021-08-17  11.944724  4.859864  1.721185\n",
      "155  2021-08-18  14.472159  4.236900  2.570785\n",
      "156  2021-08-20  15.323009  4.295433  2.733836\n",
      "157  2021-08-23  15.698744  4.534024  2.672845\n",
      "\n",
      "[158 rows x 4 columns]\n"
     ]
    },
    {
     "name": "stderr",
     "output_type": "stream",
     "text": [
      "\u001b[32m[I 2022-05-26 20:30:31,913]\u001b[0m A new study created in memory with name: no-name-634a3aed-f213-48f9-b6c6-71204db9800b\u001b[0m\n",
      "\u001b[32m[I 2022-05-26 20:30:31,992]\u001b[0m Trial 0 finished with value: 0.18187592735880295 and parameters: {'ITERATIONS': 4, 'Q': 0.29091763663322756, 'EVA_RATE': 0.18001404057130804, 'ANTS': 4}. Best is trial 0 with value: 0.18187592735880295.\u001b[0m\n",
      "\u001b[32m[I 2022-05-26 20:30:32,061]\u001b[0m Trial 1 finished with value: 0.20803486993893072 and parameters: {'ITERATIONS': 3, 'Q': 0.6904287253386734, 'EVA_RATE': 0.8840662866682308, 'ANTS': 3}. Best is trial 1 with value: 0.20803486993893072.\u001b[0m\n"
     ]
    },
    {
     "name": "stdout",
     "output_type": "stream",
     "text": [
      "           Date    Returns      Risk     Ratio\n",
      "0    2021-01-01  20.812991  6.905090  2.495694\n",
      "1    2021-01-04  20.574005  7.037955  2.414623\n",
      "2    2021-01-05  21.652565  7.046567  2.564733\n",
      "3    2021-01-06  21.859558  7.094556  2.576561\n",
      "4    2021-01-07  21.504652  7.347479  2.439565\n",
      "..          ...        ...       ...       ...\n",
      "154  2021-08-17  11.944724  4.859864  1.721185\n",
      "155  2021-08-18  14.472159  4.236900  2.570785\n",
      "156  2021-08-20  15.323009  4.295433  2.733836\n",
      "157  2021-08-23  15.698744  4.534024  2.672845\n",
      "158  2021-08-24  12.327788  4.065466  2.151731\n",
      "\n",
      "[159 rows x 4 columns]\n"
     ]
    },
    {
     "name": "stderr",
     "output_type": "stream",
     "text": [
      "\u001b[32m[I 2022-05-26 20:30:32,238]\u001b[0m A new study created in memory with name: no-name-82ecda1e-3887-452e-86c6-782589091165\u001b[0m\n",
      "\u001b[32m[I 2022-05-26 20:30:32,329]\u001b[0m Trial 0 finished with value: 0.20731908043627748 and parameters: {'ITERATIONS': 3, 'Q': 0.9031736790496602, 'EVA_RATE': 0.5373357979877557, 'ANTS': 5}. Best is trial 0 with value: 0.20731908043627748.\u001b[0m\n",
      "\u001b[32m[I 2022-05-26 20:30:32,394]\u001b[0m Trial 1 finished with value: 0.2157996639688751 and parameters: {'ITERATIONS': 2, 'Q': 0.7818532050356714, 'EVA_RATE': 0.558404037298468, 'ANTS': 2}. Best is trial 1 with value: 0.2157996639688751.\u001b[0m\n"
     ]
    },
    {
     "name": "stdout",
     "output_type": "stream",
     "text": [
      "           Date    Returns      Risk     Ratio\n",
      "0    2021-01-01  20.812991  6.905090  2.495694\n",
      "1    2021-01-04  20.574005  7.037955  2.414623\n",
      "2    2021-01-05  21.652565  7.046567  2.564733\n",
      "3    2021-01-06  21.859558  7.094556  2.576561\n",
      "4    2021-01-07  21.504652  7.347479  2.439565\n",
      "..          ...        ...       ...       ...\n",
      "155  2021-08-18  14.472159  4.236900  2.570785\n",
      "156  2021-08-20  15.323009  4.295433  2.733836\n",
      "157  2021-08-23  15.698744  4.534024  2.672845\n",
      "158  2021-08-24  12.327788  4.065466  2.151731\n",
      "159  2021-08-25  13.816500  4.167263  2.456409\n",
      "\n",
      "[160 rows x 4 columns]\n"
     ]
    },
    {
     "name": "stderr",
     "output_type": "stream",
     "text": [
      "\u001b[32m[I 2022-05-26 20:30:32,537]\u001b[0m A new study created in memory with name: no-name-e67067ec-f431-4b8b-9bde-05dc4274f25a\u001b[0m\n",
      "\u001b[32m[I 2022-05-26 20:30:32,616]\u001b[0m Trial 0 finished with value: 0.26612557583136914 and parameters: {'ITERATIONS': 4, 'Q': 0.48139382319335267, 'EVA_RATE': 0.20356495365106284, 'ANTS': 5}. Best is trial 0 with value: 0.26612557583136914.\u001b[0m\n"
     ]
    },
    {
     "name": "stdout",
     "output_type": "stream",
     "text": [
      "           Date    Returns      Risk     Ratio\n",
      "0    2021-01-01  20.812991  6.905090  2.495694\n",
      "1    2021-01-04  20.574005  7.037955  2.414623\n",
      "2    2021-01-05  21.652565  7.046567  2.564733\n",
      "3    2021-01-06  21.859558  7.094556  2.576561\n",
      "4    2021-01-07  21.504652  7.347479  2.439565\n",
      "..          ...        ...       ...       ...\n",
      "156  2021-08-20  15.323009  4.295433  2.733836\n",
      "157  2021-08-23  15.698744  4.534024  2.672845\n",
      "158  2021-08-24  12.327788  4.065466  2.151731\n",
      "159  2021-08-25  13.816500  4.167263  2.456409\n",
      "160  2021-08-26  13.939475  4.963151  2.087278\n",
      "\n",
      "[161 rows x 4 columns]\n"
     ]
    },
    {
     "name": "stderr",
     "output_type": "stream",
     "text": [
      "\u001b[32m[I 2022-05-26 20:30:32,704]\u001b[0m Trial 1 finished with value: 0.2314820551002577 and parameters: {'ITERATIONS': 5, 'Q': 0.16369654624932828, 'EVA_RATE': 0.9612418264467951, 'ANTS': 4}. Best is trial 0 with value: 0.26612557583136914.\u001b[0m\n",
      "\u001b[32m[I 2022-05-26 20:30:32,922]\u001b[0m A new study created in memory with name: no-name-3fe1e802-ba72-4dc4-a69a-6d26d5087f77\u001b[0m\n",
      "\u001b[32m[I 2022-05-26 20:30:33,005]\u001b[0m Trial 0 finished with value: 0.21512107160461133 and parameters: {'ITERATIONS': 3, 'Q': 0.5890414785773629, 'EVA_RATE': 0.7669818676158265, 'ANTS': 5}. Best is trial 0 with value: 0.21512107160461133.\u001b[0m\n",
      "\u001b[32m[I 2022-05-26 20:30:33,079]\u001b[0m Trial 1 finished with value: 0.22023947232663527 and parameters: {'ITERATIONS': 5, 'Q': 0.8543315465716368, 'EVA_RATE': 0.4597951444975431, 'ANTS': 3}. Best is trial 1 with value: 0.22023947232663527.\u001b[0m\n"
     ]
    },
    {
     "name": "stdout",
     "output_type": "stream",
     "text": [
      "           Date    Returns      Risk     Ratio\n",
      "0    2021-01-01  20.812991  6.905090  2.495694\n",
      "1    2021-01-04  20.574005  7.037955  2.414623\n",
      "2    2021-01-05  21.652565  7.046567  2.564733\n",
      "3    2021-01-06  21.859558  7.094556  2.576561\n",
      "4    2021-01-07  21.504652  7.347479  2.439565\n",
      "..          ...        ...       ...       ...\n",
      "157  2021-08-23  15.698744  4.534024  2.672845\n",
      "158  2021-08-24  12.327788  4.065466  2.151731\n",
      "159  2021-08-25  13.816500  4.167263  2.456409\n",
      "160  2021-08-26  13.939475  4.963151  2.087278\n",
      "161  2021-08-27  13.248673  4.311579  2.242490\n",
      "\n",
      "[162 rows x 4 columns]\n"
     ]
    },
    {
     "name": "stderr",
     "output_type": "stream",
     "text": [
      "\u001b[32m[I 2022-05-26 20:30:33,299]\u001b[0m A new study created in memory with name: no-name-f2f83bc7-117f-4625-b8d4-20c9a23077cd\u001b[0m\n",
      "\u001b[32m[I 2022-05-26 20:30:33,384]\u001b[0m Trial 0 finished with value: 0.22388646593191674 and parameters: {'ITERATIONS': 5, 'Q': 0.46685307343581295, 'EVA_RATE': 0.9672519727428395, 'ANTS': 2}. Best is trial 0 with value: 0.22388646593191674.\u001b[0m\n"
     ]
    },
    {
     "name": "stdout",
     "output_type": "stream",
     "text": [
      "           Date    Returns      Risk     Ratio\n",
      "0    2021-01-01  20.812991  6.905090  2.495694\n",
      "1    2021-01-04  20.574005  7.037955  2.414623\n",
      "2    2021-01-05  21.652565  7.046567  2.564733\n",
      "3    2021-01-06  21.859558  7.094556  2.576561\n",
      "4    2021-01-07  21.504652  7.347479  2.439565\n",
      "..          ...        ...       ...       ...\n",
      "158  2021-08-24  12.327788  4.065466  2.151731\n",
      "159  2021-08-25  13.816500  4.167263  2.456409\n",
      "160  2021-08-26  13.939475  4.963151  2.087278\n",
      "161  2021-08-27  13.248673  4.311579  2.242490\n",
      "162  2021-08-30  13.637782  4.559113  2.206083\n",
      "\n",
      "[163 rows x 4 columns]\n"
     ]
    },
    {
     "name": "stderr",
     "output_type": "stream",
     "text": [
      "\u001b[32m[I 2022-05-26 20:30:33,516]\u001b[0m Trial 1 finished with value: 0.23836773775598402 and parameters: {'ITERATIONS': 5, 'Q': 0.7967744514759995, 'EVA_RATE': 0.4343013768273356, 'ANTS': 5}. Best is trial 1 with value: 0.23836773775598402.\u001b[0m\n",
      "\u001b[32m[I 2022-05-26 20:30:33,728]\u001b[0m A new study created in memory with name: no-name-541f5aac-ef3a-4552-a164-73f61c247ccb\u001b[0m\n",
      "\u001b[32m[I 2022-05-26 20:30:33,812]\u001b[0m Trial 0 finished with value: 0.22158012706651936 and parameters: {'ITERATIONS': 2, 'Q': 0.2100670917947169, 'EVA_RATE': 0.5010782139549268, 'ANTS': 4}. Best is trial 0 with value: 0.22158012706651936.\u001b[0m\n",
      "\u001b[32m[I 2022-05-26 20:30:33,902]\u001b[0m Trial 1 finished with value: 0.23353143451434671 and parameters: {'ITERATIONS': 5, 'Q': 0.2040273868099981, 'EVA_RATE': 0.9527675088365533, 'ANTS': 4}. Best is trial 1 with value: 0.23353143451434671.\u001b[0m\n"
     ]
    },
    {
     "name": "stdout",
     "output_type": "stream",
     "text": [
      "           Date    Returns      Risk     Ratio\n",
      "0    2021-01-01  20.812991  6.905090  2.495694\n",
      "1    2021-01-04  20.574005  7.037955  2.414623\n",
      "2    2021-01-05  21.652565  7.046567  2.564733\n",
      "3    2021-01-06  21.859558  7.094556  2.576561\n",
      "4    2021-01-07  21.504652  7.347479  2.439565\n",
      "..          ...        ...       ...       ...\n",
      "159  2021-08-25  13.816500  4.167263  2.456409\n",
      "160  2021-08-26  13.939475  4.963151  2.087278\n",
      "161  2021-08-27  13.248673  4.311579  2.242490\n",
      "162  2021-08-30  13.637782  4.559113  2.206083\n",
      "163  2021-08-31  13.501091  4.576400  2.167881\n",
      "\n",
      "[164 rows x 4 columns]\n"
     ]
    },
    {
     "name": "stderr",
     "output_type": "stream",
     "text": [
      "\u001b[32m[I 2022-05-26 20:30:34,074]\u001b[0m A new study created in memory with name: no-name-b71036fa-8a2e-43a3-9c16-e21ae5cd3714\u001b[0m\n",
      "\u001b[32m[I 2022-05-26 20:30:34,146]\u001b[0m Trial 0 finished with value: 0.22347796186141694 and parameters: {'ITERATIONS': 4, 'Q': 0.7520484415465305, 'EVA_RATE': 0.8268827537679485, 'ANTS': 2}. Best is trial 0 with value: 0.22347796186141694.\u001b[0m\n",
      "\u001b[32m[I 2022-05-26 20:30:34,208]\u001b[0m Trial 1 finished with value: 0.2198354001072854 and parameters: {'ITERATIONS': 3, 'Q': 0.4919363287605809, 'EVA_RATE': 0.898763925360993, 'ANTS': 2}. Best is trial 0 with value: 0.22347796186141694.\u001b[0m\n"
     ]
    },
    {
     "name": "stdout",
     "output_type": "stream",
     "text": [
      "           Date    Returns      Risk     Ratio\n",
      "0    2021-01-01  20.812991  6.905090  2.495694\n",
      "1    2021-01-04  20.574005  7.037955  2.414623\n",
      "2    2021-01-05  21.652565  7.046567  2.564733\n",
      "3    2021-01-06  21.859558  7.094556  2.576561\n",
      "4    2021-01-07  21.504652  7.347479  2.439565\n",
      "..          ...        ...       ...       ...\n",
      "160  2021-08-26  13.939475  4.963151  2.087278\n",
      "161  2021-08-27  13.248673  4.311579  2.242490\n",
      "162  2021-08-30  13.637782  4.559113  2.206083\n",
      "163  2021-08-31  13.501091  4.576400  2.167881\n",
      "164  2021-09-01  14.452838  4.376561  2.484334\n",
      "\n",
      "[165 rows x 4 columns]\n"
     ]
    },
    {
     "name": "stderr",
     "output_type": "stream",
     "text": [
      "\u001b[32m[I 2022-05-26 20:30:34,371]\u001b[0m A new study created in memory with name: no-name-916e0f51-dcf8-49b0-9f8f-c803da8323c1\u001b[0m\n",
      "\u001b[32m[I 2022-05-26 20:30:34,450]\u001b[0m Trial 0 finished with value: 0.23553418975467108 and parameters: {'ITERATIONS': 4, 'Q': 0.5967461583249384, 'EVA_RATE': 0.37185443232089554, 'ANTS': 2}. Best is trial 0 with value: 0.23553418975467108.\u001b[0m\n",
      "\u001b[32m[I 2022-05-26 20:30:34,515]\u001b[0m Trial 1 finished with value: 0.22596310530837121 and parameters: {'ITERATIONS': 2, 'Q': 0.39139778688228866, 'EVA_RATE': 0.7922460229000939, 'ANTS': 5}. Best is trial 0 with value: 0.23553418975467108.\u001b[0m\n"
     ]
    },
    {
     "name": "stdout",
     "output_type": "stream",
     "text": [
      "           Date    Returns      Risk     Ratio\n",
      "0    2021-01-01  20.812991  6.905090  2.495694\n",
      "1    2021-01-04  20.574005  7.037955  2.414623\n",
      "2    2021-01-05  21.652565  7.046567  2.564733\n",
      "3    2021-01-06  21.859558  7.094556  2.576561\n",
      "4    2021-01-07  21.504652  7.347479  2.439565\n",
      "..          ...        ...       ...       ...\n",
      "161  2021-08-27  13.248673  4.311579  2.242490\n",
      "162  2021-08-30  13.637782  4.559113  2.206083\n",
      "163  2021-08-31  13.501091  4.576400  2.167881\n",
      "164  2021-09-01  14.452838  4.376561  2.484334\n",
      "165  2021-09-02  13.464553  4.043977  2.444265\n",
      "\n",
      "[166 rows x 4 columns]\n"
     ]
    },
    {
     "name": "stderr",
     "output_type": "stream",
     "text": [
      "\u001b[32m[I 2022-05-26 20:30:34,718]\u001b[0m A new study created in memory with name: no-name-db8b5a11-cf7f-4f56-8a6a-f43b0513a3c1\u001b[0m\n",
      "\u001b[32m[I 2022-05-26 20:30:34,795]\u001b[0m Trial 0 finished with value: 0.2073823594639265 and parameters: {'ITERATIONS': 2, 'Q': 0.5030593667274519, 'EVA_RATE': 0.11561837273917443, 'ANTS': 5}. Best is trial 0 with value: 0.2073823594639265.\u001b[0m\n",
      "\u001b[32m[I 2022-05-26 20:30:34,875]\u001b[0m Trial 1 finished with value: 0.23620334440189078 and parameters: {'ITERATIONS': 2, 'Q': 0.5655648721374433, 'EVA_RATE': 0.9446746713432482, 'ANTS': 5}. Best is trial 1 with value: 0.23620334440189078.\u001b[0m\n"
     ]
    },
    {
     "name": "stdout",
     "output_type": "stream",
     "text": [
      "           Date    Returns      Risk     Ratio\n",
      "0    2021-01-01  20.812991  6.905090  2.495694\n",
      "1    2021-01-04  20.574005  7.037955  2.414623\n",
      "2    2021-01-05  21.652565  7.046567  2.564733\n",
      "3    2021-01-06  21.859558  7.094556  2.576561\n",
      "4    2021-01-07  21.504652  7.347479  2.439565\n",
      "..          ...        ...       ...       ...\n",
      "162  2021-08-30  13.637782  4.559113  2.206083\n",
      "163  2021-08-31  13.501091  4.576400  2.167881\n",
      "164  2021-09-01  14.452838  4.376561  2.484334\n",
      "165  2021-09-02  13.464553  4.043977  2.444265\n",
      "166  2021-09-03  12.581489  4.488123  2.005624\n",
      "\n",
      "[167 rows x 4 columns]\n"
     ]
    },
    {
     "name": "stderr",
     "output_type": "stream",
     "text": [
      "\u001b[32m[I 2022-05-26 20:30:35,078]\u001b[0m A new study created in memory with name: no-name-0aa2060c-54bb-42f5-b633-bb11885a2454\u001b[0m\n",
      "\u001b[32m[I 2022-05-26 20:30:35,168]\u001b[0m Trial 0 finished with value: 0.22376969506212077 and parameters: {'ITERATIONS': 4, 'Q': 0.767336040347611, 'EVA_RATE': 0.744290466265916, 'ANTS': 2}. Best is trial 0 with value: 0.22376969506212077.\u001b[0m\n"
     ]
    },
    {
     "name": "stdout",
     "output_type": "stream",
     "text": [
      "           Date    Returns      Risk     Ratio\n",
      "0    2021-01-01  20.812991  6.905090  2.495694\n",
      "1    2021-01-04  20.574005  7.037955  2.414623\n",
      "2    2021-01-05  21.652565  7.046567  2.564733\n",
      "3    2021-01-06  21.859558  7.094556  2.576561\n",
      "4    2021-01-07  21.504652  7.347479  2.439565\n",
      "..          ...        ...       ...       ...\n",
      "163  2021-08-31  13.501091  4.576400  2.167881\n",
      "164  2021-09-01  14.452838  4.376561  2.484334\n",
      "165  2021-09-02  13.464553  4.043977  2.444265\n",
      "166  2021-09-03  12.581489  4.488123  2.005624\n",
      "167  2021-09-06  14.198818  4.485214  2.367517\n",
      "\n",
      "[168 rows x 4 columns]\n"
     ]
    },
    {
     "name": "stderr",
     "output_type": "stream",
     "text": [
      "\u001b[32m[I 2022-05-26 20:30:35,263]\u001b[0m Trial 1 finished with value: 0.2256225798820772 and parameters: {'ITERATIONS': 5, 'Q': 0.33458207528566675, 'EVA_RATE': 0.20022013767700889, 'ANTS': 3}. Best is trial 1 with value: 0.2256225798820772.\u001b[0m\n",
      "\u001b[32m[I 2022-05-26 20:30:35,453]\u001b[0m A new study created in memory with name: no-name-c7d0f31a-1450-47db-a699-cc52bd99aeb3\u001b[0m\n",
      "\u001b[32m[I 2022-05-26 20:30:35,527]\u001b[0m Trial 0 finished with value: 0.21458492287336575 and parameters: {'ITERATIONS': 4, 'Q': 0.26172243303416, 'EVA_RATE': 0.15423256683597483, 'ANTS': 3}. Best is trial 0 with value: 0.21458492287336575.\u001b[0m\n",
      "\u001b[32m[I 2022-05-26 20:30:35,620]\u001b[0m Trial 1 finished with value: 0.20946573131225577 and parameters: {'ITERATIONS': 4, 'Q': 0.6718648506700456, 'EVA_RATE': 0.8620660902429962, 'ANTS': 4}. Best is trial 0 with value: 0.21458492287336575.\u001b[0m\n"
     ]
    },
    {
     "name": "stdout",
     "output_type": "stream",
     "text": [
      "           Date    Returns      Risk     Ratio\n",
      "0    2021-01-01  20.812991  6.905090  2.495694\n",
      "1    2021-01-04  20.574005  7.037955  2.414623\n",
      "2    2021-01-05  21.652565  7.046567  2.564733\n",
      "3    2021-01-06  21.859558  7.094556  2.576561\n",
      "4    2021-01-07  21.504652  7.347479  2.439565\n",
      "..          ...        ...       ...       ...\n",
      "164  2021-09-01  14.452838  4.376561  2.484334\n",
      "165  2021-09-02  13.464553  4.043977  2.444265\n",
      "166  2021-09-03  12.581489  4.488123  2.005624\n",
      "167  2021-09-06  14.198818  4.485214  2.367517\n",
      "168  2021-09-07  13.939478  4.902843  2.112953\n",
      "\n",
      "[169 rows x 4 columns]\n"
     ]
    },
    {
     "name": "stderr",
     "output_type": "stream",
     "text": [
      "\u001b[32m[I 2022-05-26 20:30:35,768]\u001b[0m A new study created in memory with name: no-name-429b304b-b45b-4136-b7d5-21ffff8ceeee\u001b[0m\n",
      "\u001b[32m[I 2022-05-26 20:30:35,852]\u001b[0m Trial 0 finished with value: 0.21443942010911063 and parameters: {'ITERATIONS': 2, 'Q': 0.7355836248875546, 'EVA_RATE': 0.43434998702256433, 'ANTS': 4}. Best is trial 0 with value: 0.21443942010911063.\u001b[0m\n",
      "\u001b[32m[I 2022-05-26 20:30:35,921]\u001b[0m Trial 1 finished with value: 0.23827284225490217 and parameters: {'ITERATIONS': 3, 'Q': 0.7073141553406336, 'EVA_RATE': 0.5580895325184079, 'ANTS': 2}. Best is trial 1 with value: 0.23827284225490217.\u001b[0m\n"
     ]
    },
    {
     "name": "stdout",
     "output_type": "stream",
     "text": [
      "           Date    Returns      Risk     Ratio\n",
      "0    2021-01-01  20.812991  6.905090  2.495694\n",
      "1    2021-01-04  20.574005  7.037955  2.414623\n",
      "2    2021-01-05  21.652565  7.046567  2.564733\n",
      "3    2021-01-06  21.859558  7.094556  2.576561\n",
      "4    2021-01-07  21.504652  7.347479  2.439565\n",
      "..          ...        ...       ...       ...\n",
      "165  2021-09-02  13.464553  4.043977  2.444265\n",
      "166  2021-09-03  12.581489  4.488123  2.005624\n",
      "167  2021-09-06  14.198818  4.485214  2.367517\n",
      "168  2021-09-07  13.939478  4.902843  2.112953\n",
      "169  2021-09-08  15.178799  4.509251  2.572223\n",
      "\n",
      "[170 rows x 4 columns]\n"
     ]
    },
    {
     "name": "stderr",
     "output_type": "stream",
     "text": [
      "\u001b[32m[I 2022-05-26 20:30:36,069]\u001b[0m A new study created in memory with name: no-name-84280a08-6d14-4d60-9439-e78c20f8dd07\u001b[0m\n",
      "\u001b[32m[I 2022-05-26 20:30:36,152]\u001b[0m Trial 0 finished with value: 0.23024891496546726 and parameters: {'ITERATIONS': 5, 'Q': 0.7657293176338573, 'EVA_RATE': 0.8321489972164057, 'ANTS': 3}. Best is trial 0 with value: 0.23024891496546726.\u001b[0m\n",
      "\u001b[32m[I 2022-05-26 20:30:36,219]\u001b[0m Trial 1 finished with value: 0.23790182121923245 and parameters: {'ITERATIONS': 4, 'Q': 0.4012874037725115, 'EVA_RATE': 0.4398015184307952, 'ANTS': 4}. Best is trial 1 with value: 0.23790182121923245.\u001b[0m\n"
     ]
    },
    {
     "name": "stdout",
     "output_type": "stream",
     "text": [
      "           Date    Returns      Risk     Ratio\n",
      "0    2021-01-01  20.812991  6.905090  2.495694\n",
      "1    2021-01-04  20.574005  7.037955  2.414623\n",
      "2    2021-01-05  21.652565  7.046567  2.564733\n",
      "3    2021-01-06  21.859558  7.094556  2.576561\n",
      "4    2021-01-07  21.504652  7.347479  2.439565\n",
      "..          ...        ...       ...       ...\n",
      "166  2021-09-03  12.581489  4.488123  2.005624\n",
      "167  2021-09-06  14.198818  4.485214  2.367517\n",
      "168  2021-09-07  13.939478  4.902843  2.112953\n",
      "169  2021-09-08  15.178799  4.509251  2.572223\n",
      "170  2021-09-09  14.320074  4.192655  2.561640\n",
      "\n",
      "[171 rows x 4 columns]\n"
     ]
    },
    {
     "name": "stderr",
     "output_type": "stream",
     "text": [
      "\u001b[32m[I 2022-05-26 20:30:36,434]\u001b[0m A new study created in memory with name: no-name-e9f3633a-9d49-4561-8dde-ebd4f27c8c1e\u001b[0m\n",
      "\u001b[32m[I 2022-05-26 20:30:36,493]\u001b[0m Trial 0 finished with value: 0.23539666987923125 and parameters: {'ITERATIONS': 2, 'Q': 0.9217655467031793, 'EVA_RATE': 0.7733884563651883, 'ANTS': 5}. Best is trial 0 with value: 0.23539666987923125.\u001b[0m\n",
      "\u001b[32m[I 2022-05-26 20:30:36,553]\u001b[0m Trial 1 finished with value: 0.22405006256691812 and parameters: {'ITERATIONS': 3, 'Q': 0.5535201709425411, 'EVA_RATE': 0.6697618630423909, 'ANTS': 2}. Best is trial 0 with value: 0.23539666987923125.\u001b[0m\n"
     ]
    },
    {
     "name": "stdout",
     "output_type": "stream",
     "text": [
      "           Date    Returns      Risk     Ratio\n",
      "0    2021-01-01  20.812991  6.905090  2.495694\n",
      "1    2021-01-04  20.574005  7.037955  2.414623\n",
      "2    2021-01-05  21.652565  7.046567  2.564733\n",
      "3    2021-01-06  21.859558  7.094556  2.576561\n",
      "4    2021-01-07  21.504652  7.347479  2.439565\n",
      "..          ...        ...       ...       ...\n",
      "167  2021-09-06  14.198818  4.485214  2.367517\n",
      "168  2021-09-07  13.939478  4.902843  2.112953\n",
      "169  2021-09-08  15.178799  4.509251  2.572223\n",
      "170  2021-09-09  14.320074  4.192655  2.561640\n",
      "171  2021-09-13  13.436112  4.304512  2.289716\n",
      "\n",
      "[172 rows x 4 columns]\n"
     ]
    },
    {
     "name": "stderr",
     "output_type": "stream",
     "text": [
      "\u001b[32m[I 2022-05-26 20:30:36,741]\u001b[0m A new study created in memory with name: no-name-c0d7fcaf-0f79-4495-abbb-dd158bccf77e\u001b[0m\n",
      "\u001b[32m[I 2022-05-26 20:30:36,815]\u001b[0m Trial 0 finished with value: 0.22008203439076968 and parameters: {'ITERATIONS': 3, 'Q': 0.3343589370603687, 'EVA_RATE': 0.4398067718841019, 'ANTS': 3}. Best is trial 0 with value: 0.22008203439076968.\u001b[0m\n",
      "\u001b[32m[I 2022-05-26 20:30:36,897]\u001b[0m Trial 1 finished with value: 0.23121094241111073 and parameters: {'ITERATIONS': 5, 'Q': 0.4719634861029285, 'EVA_RATE': 0.7380699922853742, 'ANTS': 4}. Best is trial 1 with value: 0.23121094241111073.\u001b[0m\n"
     ]
    },
    {
     "name": "stdout",
     "output_type": "stream",
     "text": [
      "           Date    Returns      Risk     Ratio\n",
      "0    2021-01-01  20.812991  6.905090  2.495694\n",
      "1    2021-01-04  20.574005  7.037955  2.414623\n",
      "2    2021-01-05  21.652565  7.046567  2.564733\n",
      "3    2021-01-06  21.859558  7.094556  2.576561\n",
      "4    2021-01-07  21.504652  7.347479  2.439565\n",
      "..          ...        ...       ...       ...\n",
      "168  2021-09-07  13.939478  4.902843  2.112953\n",
      "169  2021-09-08  15.178799  4.509251  2.572223\n",
      "170  2021-09-09  14.320074  4.192655  2.561640\n",
      "171  2021-09-13  13.436112  4.304512  2.289716\n",
      "172  2021-09-14  13.389806  4.396194  2.231431\n",
      "\n",
      "[173 rows x 4 columns]\n"
     ]
    },
    {
     "name": "stderr",
     "output_type": "stream",
     "text": [
      "\u001b[32m[I 2022-05-26 20:30:37,135]\u001b[0m A new study created in memory with name: no-name-196c93a9-a9a7-4348-a3d8-b3cd22e8ca6c\u001b[0m\n",
      "\u001b[32m[I 2022-05-26 20:30:37,223]\u001b[0m Trial 0 finished with value: 0.2395956070194759 and parameters: {'ITERATIONS': 4, 'Q': 0.8510938550293031, 'EVA_RATE': 0.8704371429175347, 'ANTS': 5}. Best is trial 0 with value: 0.2395956070194759.\u001b[0m\n",
      "\u001b[32m[I 2022-05-26 20:30:37,322]\u001b[0m Trial 1 finished with value: 0.20328079944865687 and parameters: {'ITERATIONS': 5, 'Q': 0.12551864191379783, 'EVA_RATE': 0.7051516975928679, 'ANTS': 4}. Best is trial 0 with value: 0.2395956070194759.\u001b[0m\n"
     ]
    },
    {
     "name": "stdout",
     "output_type": "stream",
     "text": [
      "           Date    Returns      Risk     Ratio\n",
      "0    2021-01-01  20.812991  6.905090  2.495694\n",
      "1    2021-01-04  20.574005  7.037955  2.414623\n",
      "2    2021-01-05  21.652565  7.046567  2.564733\n",
      "3    2021-01-06  21.859558  7.094556  2.576561\n",
      "4    2021-01-07  21.504652  7.347479  2.439565\n",
      "..          ...        ...       ...       ...\n",
      "169  2021-09-08  15.178799  4.509251  2.572223\n",
      "170  2021-09-09  14.320074  4.192655  2.561640\n",
      "171  2021-09-13  13.436112  4.304512  2.289716\n",
      "172  2021-09-14  13.389806  4.396194  2.231431\n",
      "173  2021-09-15  14.464111  4.378027  2.486077\n",
      "\n",
      "[174 rows x 4 columns]\n"
     ]
    },
    {
     "name": "stderr",
     "output_type": "stream",
     "text": [
      "\u001b[32m[I 2022-05-26 20:30:37,513]\u001b[0m A new study created in memory with name: no-name-0673939a-fc37-427d-9601-96b83d4b5e98\u001b[0m\n",
      "\u001b[32m[I 2022-05-26 20:30:37,594]\u001b[0m Trial 0 finished with value: 0.20977466878932993 and parameters: {'ITERATIONS': 2, 'Q': 0.6504305620221186, 'EVA_RATE': 0.746345536702848, 'ANTS': 5}. Best is trial 0 with value: 0.20977466878932993.\u001b[0m\n",
      "\u001b[32m[I 2022-05-26 20:30:37,667]\u001b[0m Trial 1 finished with value: 0.22045966290956934 and parameters: {'ITERATIONS': 4, 'Q': 0.7433731231278239, 'EVA_RATE': 0.9442989256192923, 'ANTS': 4}. Best is trial 1 with value: 0.22045966290956934.\u001b[0m\n"
     ]
    },
    {
     "name": "stdout",
     "output_type": "stream",
     "text": [
      "           Date    Returns      Risk     Ratio\n",
      "0    2021-01-01  20.812991  6.905090  2.495694\n",
      "1    2021-01-04  20.574005  7.037955  2.414623\n",
      "2    2021-01-05  21.652565  7.046567  2.564733\n",
      "3    2021-01-06  21.859558  7.094556  2.576561\n",
      "4    2021-01-07  21.504652  7.347479  2.439565\n",
      "..          ...        ...       ...       ...\n",
      "170  2021-09-09  14.320074  4.192655  2.561640\n",
      "171  2021-09-13  13.436112  4.304512  2.289716\n",
      "172  2021-09-14  13.389806  4.396194  2.231431\n",
      "173  2021-09-15  14.464111  4.378027  2.486077\n",
      "174  2021-09-16  14.777147  4.241748  2.639748\n",
      "\n",
      "[175 rows x 4 columns]\n"
     ]
    },
    {
     "name": "stderr",
     "output_type": "stream",
     "text": [
      "\u001b[32m[I 2022-05-26 20:30:37,852]\u001b[0m A new study created in memory with name: no-name-b51a0c36-fdce-4c1c-b07f-909e6761d44a\u001b[0m\n",
      "\u001b[32m[I 2022-05-26 20:30:37,925]\u001b[0m Trial 0 finished with value: 0.23353260140077198 and parameters: {'ITERATIONS': 4, 'Q': 0.9554032470551809, 'EVA_RATE': 0.19370214436628647, 'ANTS': 4}. Best is trial 0 with value: 0.23353260140077198.\u001b[0m\n",
      "\u001b[32m[I 2022-05-26 20:30:38,017]\u001b[0m Trial 1 finished with value: 0.23714630999577296 and parameters: {'ITERATIONS': 4, 'Q': 0.9894647339135035, 'EVA_RATE': 0.536527795844044, 'ANTS': 3}. Best is trial 1 with value: 0.23714630999577296.\u001b[0m\n"
     ]
    },
    {
     "name": "stdout",
     "output_type": "stream",
     "text": [
      "           Date    Returns      Risk     Ratio\n",
      "0    2021-01-01  20.812991  6.905090  2.495694\n",
      "1    2021-01-04  20.574005  7.037955  2.414623\n",
      "2    2021-01-05  21.652565  7.046567  2.564733\n",
      "3    2021-01-06  21.859558  7.094556  2.576561\n",
      "4    2021-01-07  21.504652  7.347479  2.439565\n",
      "..          ...        ...       ...       ...\n",
      "171  2021-09-13  13.436112  4.304512  2.289716\n",
      "172  2021-09-14  13.389806  4.396194  2.231431\n",
      "173  2021-09-15  14.464111  4.378027  2.486077\n",
      "174  2021-09-16  14.777147  4.241748  2.639748\n",
      "175  2021-09-17  15.156466  4.401628  2.630042\n",
      "\n",
      "[176 rows x 4 columns]\n"
     ]
    },
    {
     "name": "stderr",
     "output_type": "stream",
     "text": [
      "\u001b[32m[I 2022-05-26 20:30:38,209]\u001b[0m A new study created in memory with name: no-name-364366e2-8f33-4cfd-91d6-09f4f78a0d5c\u001b[0m\n",
      "\u001b[32m[I 2022-05-26 20:30:38,282]\u001b[0m Trial 0 finished with value: 0.22455140796985276 and parameters: {'ITERATIONS': 2, 'Q': 0.5977165019604399, 'EVA_RATE': 0.7013653747775604, 'ANTS': 2}. Best is trial 0 with value: 0.22455140796985276.\u001b[0m\n",
      "\u001b[32m[I 2022-05-26 20:30:38,363]\u001b[0m Trial 1 finished with value: 0.23215964346319248 and parameters: {'ITERATIONS': 2, 'Q': 0.515211364353772, 'EVA_RATE': 0.5946918773680517, 'ANTS': 5}. Best is trial 1 with value: 0.23215964346319248.\u001b[0m\n"
     ]
    },
    {
     "name": "stdout",
     "output_type": "stream",
     "text": [
      "           Date    Returns      Risk     Ratio\n",
      "0    2021-01-01  20.812991  6.905090  2.495694\n",
      "1    2021-01-04  20.574005  7.037955  2.414623\n",
      "2    2021-01-05  21.652565  7.046567  2.564733\n",
      "3    2021-01-06  21.859558  7.094556  2.576561\n",
      "4    2021-01-07  21.504652  7.347479  2.439565\n",
      "..          ...        ...       ...       ...\n",
      "172  2021-09-14  13.389806  4.396194  2.231431\n",
      "173  2021-09-15  14.464111  4.378027  2.486077\n",
      "174  2021-09-16  14.777147  4.241748  2.639748\n",
      "175  2021-09-17  15.156466  4.401628  2.630042\n",
      "176  2021-09-20  13.960601  4.074015  2.548003\n",
      "\n",
      "[177 rows x 4 columns]\n"
     ]
    },
    {
     "name": "stderr",
     "output_type": "stream",
     "text": [
      "\u001b[32m[I 2022-05-26 20:30:38,543]\u001b[0m A new study created in memory with name: no-name-792068a8-bd34-46d9-bdd8-3ce6a092dc09\u001b[0m\n",
      "\u001b[32m[I 2022-05-26 20:30:38,613]\u001b[0m Trial 0 finished with value: 0.2504988347236701 and parameters: {'ITERATIONS': 5, 'Q': 0.30476328078739007, 'EVA_RATE': 0.28973366694483815, 'ANTS': 2}. Best is trial 0 with value: 0.2504988347236701.\u001b[0m\n",
      "\u001b[32m[I 2022-05-26 20:30:38,694]\u001b[0m Trial 1 finished with value: 0.22673193382864668 and parameters: {'ITERATIONS': 5, 'Q': 0.15010620400420885, 'EVA_RATE': 0.19721058423949733, 'ANTS': 2}. Best is trial 0 with value: 0.2504988347236701.\u001b[0m\n"
     ]
    },
    {
     "name": "stdout",
     "output_type": "stream",
     "text": [
      "           Date    Returns      Risk     Ratio\n",
      "0    2021-01-01  20.812991  6.905090  2.495694\n",
      "1    2021-01-04  20.574005  7.037955  2.414623\n",
      "2    2021-01-05  21.652565  7.046567  2.564733\n",
      "3    2021-01-06  21.859558  7.094556  2.576561\n",
      "4    2021-01-07  21.504652  7.347479  2.439565\n",
      "..          ...        ...       ...       ...\n",
      "173  2021-09-15  14.464111  4.378027  2.486077\n",
      "174  2021-09-16  14.777147  4.241748  2.639748\n",
      "175  2021-09-17  15.156466  4.401628  2.630042\n",
      "176  2021-09-20  13.960601  4.074015  2.548003\n",
      "177  2021-09-21  14.500125  5.511245  1.981426\n",
      "\n",
      "[178 rows x 4 columns]\n"
     ]
    },
    {
     "name": "stderr",
     "output_type": "stream",
     "text": [
      "\u001b[32m[I 2022-05-26 20:30:38,923]\u001b[0m A new study created in memory with name: no-name-bcc5bc63-a352-4ad6-b23b-5c7392af3cef\u001b[0m\n",
      "\u001b[32m[I 2022-05-26 20:30:39,019]\u001b[0m Trial 0 finished with value: 0.22203508356214216 and parameters: {'ITERATIONS': 5, 'Q': 0.5522755135171735, 'EVA_RATE': 0.7118223711794696, 'ANTS': 3}. Best is trial 0 with value: 0.22203508356214216.\u001b[0m\n",
      "\u001b[32m[I 2022-05-26 20:30:39,101]\u001b[0m Trial 1 finished with value: 0.23745960349907247 and parameters: {'ITERATIONS': 5, 'Q': 0.7717615953491767, 'EVA_RATE': 0.4489924289567787, 'ANTS': 5}. Best is trial 1 with value: 0.23745960349907247.\u001b[0m\n"
     ]
    },
    {
     "name": "stdout",
     "output_type": "stream",
     "text": [
      "           Date    Returns      Risk     Ratio\n",
      "0    2021-01-01  20.812991  6.905090  2.495694\n",
      "1    2021-01-04  20.574005  7.037955  2.414623\n",
      "2    2021-01-05  21.652565  7.046567  2.564733\n",
      "3    2021-01-06  21.859558  7.094556  2.576561\n",
      "4    2021-01-07  21.504652  7.347479  2.439565\n",
      "..          ...        ...       ...       ...\n",
      "174  2021-09-16  14.777147  4.241748  2.639748\n",
      "175  2021-09-17  15.156466  4.401628  2.630042\n",
      "176  2021-09-20  13.960601  4.074015  2.548003\n",
      "177  2021-09-21  14.500125  5.511245  1.981426\n",
      "178  2021-09-22  15.408508  5.227691  2.262664\n",
      "\n",
      "[179 rows x 4 columns]\n"
     ]
    },
    {
     "name": "stderr",
     "output_type": "stream",
     "text": [
      "\u001b[32m[I 2022-05-26 20:30:39,360]\u001b[0m A new study created in memory with name: no-name-dc5f66fe-86b9-457f-ad3b-74c4891c55c8\u001b[0m\n",
      "\u001b[32m[I 2022-05-26 20:30:39,451]\u001b[0m Trial 0 finished with value: 0.23285389024601588 and parameters: {'ITERATIONS': 3, 'Q': 0.9236781985315871, 'EVA_RATE': 0.5048657742737035, 'ANTS': 5}. Best is trial 0 with value: 0.23285389024601588.\u001b[0m\n",
      "\u001b[32m[I 2022-05-26 20:30:39,535]\u001b[0m Trial 1 finished with value: 0.2216806488186079 and parameters: {'ITERATIONS': 2, 'Q': 0.9753053119034855, 'EVA_RATE': 0.9032872169786492, 'ANTS': 4}. Best is trial 0 with value: 0.23285389024601588.\u001b[0m\n"
     ]
    },
    {
     "name": "stdout",
     "output_type": "stream",
     "text": [
      "           Date    Returns      Risk     Ratio\n",
      "0    2021-01-01  20.812991  6.905090  2.495694\n",
      "1    2021-01-04  20.574005  7.037955  2.414623\n",
      "2    2021-01-05  21.652565  7.046567  2.564733\n",
      "3    2021-01-06  21.859558  7.094556  2.576561\n",
      "4    2021-01-07  21.504652  7.347479  2.439565\n",
      "..          ...        ...       ...       ...\n",
      "175  2021-09-17  15.156466  4.401628  2.630042\n",
      "176  2021-09-20  13.960601  4.074015  2.548003\n",
      "177  2021-09-21  14.500125  5.511245  1.981426\n",
      "178  2021-09-22  15.408508  5.227691  2.262664\n",
      "179  2021-09-23  14.440113  4.857309  2.235829\n",
      "\n",
      "[180 rows x 4 columns]\n"
     ]
    },
    {
     "name": "stderr",
     "output_type": "stream",
     "text": [
      "\u001b[32m[I 2022-05-26 20:30:39,743]\u001b[0m A new study created in memory with name: no-name-1ac3574a-f503-4dae-9965-630361a88234\u001b[0m\n",
      "\u001b[32m[I 2022-05-26 20:30:39,837]\u001b[0m Trial 0 finished with value: 0.20922812677861802 and parameters: {'ITERATIONS': 3, 'Q': 0.4481399464710093, 'EVA_RATE': 0.789918693095443, 'ANTS': 4}. Best is trial 0 with value: 0.20922812677861802.\u001b[0m\n",
      "\u001b[32m[I 2022-05-26 20:30:39,928]\u001b[0m Trial 1 finished with value: 0.23022226042125574 and parameters: {'ITERATIONS': 5, 'Q': 0.27343976292910493, 'EVA_RATE': 0.7931195355460843, 'ANTS': 4}. Best is trial 1 with value: 0.23022226042125574.\u001b[0m\n"
     ]
    },
    {
     "name": "stdout",
     "output_type": "stream",
     "text": [
      "           Date    Returns      Risk     Ratio\n",
      "0    2021-01-01  20.812991  6.905090  2.495694\n",
      "1    2021-01-04  20.574005  7.037955  2.414623\n",
      "2    2021-01-05  21.652565  7.046567  2.564733\n",
      "3    2021-01-06  21.859558  7.094556  2.576561\n",
      "4    2021-01-07  21.504652  7.347479  2.439565\n",
      "..          ...        ...       ...       ...\n",
      "176  2021-09-20  13.960601  4.074015  2.548003\n",
      "177  2021-09-21  14.500125  5.511245  1.981426\n",
      "178  2021-09-22  15.408508  5.227691  2.262664\n",
      "179  2021-09-23  14.440113  4.857309  2.235829\n",
      "180  2021-09-24  16.018681  5.127331  2.425956\n",
      "\n",
      "[181 rows x 4 columns]\n"
     ]
    },
    {
     "name": "stderr",
     "output_type": "stream",
     "text": [
      "\u001b[32m[I 2022-05-26 20:30:40,148]\u001b[0m A new study created in memory with name: no-name-9be5a442-f10b-49ef-b1a8-eb8e27e6fd16\u001b[0m\n",
      "\u001b[32m[I 2022-05-26 20:30:40,253]\u001b[0m Trial 0 finished with value: 0.21751754402844367 and parameters: {'ITERATIONS': 3, 'Q': 0.4424838373741705, 'EVA_RATE': 0.5858253125626819, 'ANTS': 5}. Best is trial 0 with value: 0.21751754402844367.\u001b[0m\n",
      "\u001b[32m[I 2022-05-26 20:30:40,311]\u001b[0m Trial 1 finished with value: 0.22470675959359782 and parameters: {'ITERATIONS': 3, 'Q': 0.2445193336019772, 'EVA_RATE': 0.9492713130792529, 'ANTS': 2}. Best is trial 1 with value: 0.22470675959359782.\u001b[0m\n"
     ]
    },
    {
     "name": "stdout",
     "output_type": "stream",
     "text": [
      "           Date    Returns      Risk     Ratio\n",
      "0    2021-01-01  20.812991  6.905090  2.495694\n",
      "1    2021-01-04  20.574005  7.037955  2.414623\n",
      "2    2021-01-05  21.652565  7.046567  2.564733\n",
      "3    2021-01-06  21.859558  7.094556  2.576561\n",
      "4    2021-01-07  21.504652  7.347479  2.439565\n",
      "..          ...        ...       ...       ...\n",
      "177  2021-09-21  14.500125  5.511245  1.981426\n",
      "178  2021-09-22  15.408508  5.227691  2.262664\n",
      "179  2021-09-23  14.440113  4.857309  2.235829\n",
      "180  2021-09-24  16.018681  5.127331  2.425956\n",
      "181  2021-09-27  14.477444  4.245707  2.566697\n",
      "\n",
      "[182 rows x 4 columns]\n"
     ]
    },
    {
     "name": "stderr",
     "output_type": "stream",
     "text": [
      "\u001b[32m[I 2022-05-26 20:30:40,501]\u001b[0m A new study created in memory with name: no-name-e5824052-b5aa-46bc-8f40-b2fa28cd8d1a\u001b[0m\n",
      "\u001b[32m[I 2022-05-26 20:30:40,579]\u001b[0m Trial 0 finished with value: 0.23918762593989665 and parameters: {'ITERATIONS': 4, 'Q': 0.7469212873155864, 'EVA_RATE': 0.15032976327894515, 'ANTS': 2}. Best is trial 0 with value: 0.23918762593989665.\u001b[0m\n",
      "\u001b[32m[I 2022-05-26 20:30:40,672]\u001b[0m Trial 1 finished with value: 0.24160994771541225 and parameters: {'ITERATIONS': 3, 'Q': 0.8624569988564471, 'EVA_RATE': 0.18270156779100474, 'ANTS': 2}. Best is trial 1 with value: 0.24160994771541225.\u001b[0m\n"
     ]
    },
    {
     "name": "stdout",
     "output_type": "stream",
     "text": [
      "           Date    Returns      Risk     Ratio\n",
      "0    2021-01-01  20.812991  6.905090  2.495694\n",
      "1    2021-01-04  20.574005  7.037955  2.414623\n",
      "2    2021-01-05  21.652565  7.046567  2.564733\n",
      "3    2021-01-06  21.859558  7.094556  2.576561\n",
      "4    2021-01-07  21.504652  7.347479  2.439565\n",
      "..          ...        ...       ...       ...\n",
      "178  2021-09-22  15.408508  5.227691  2.262664\n",
      "179  2021-09-23  14.440113  4.857309  2.235829\n",
      "180  2021-09-24  16.018681  5.127331  2.425956\n",
      "181  2021-09-27  14.477444  4.245707  2.566697\n",
      "182  2021-09-28  13.877836  4.883671  2.108626\n",
      "\n",
      "[183 rows x 4 columns]\n"
     ]
    },
    {
     "name": "stderr",
     "output_type": "stream",
     "text": [
      "\u001b[32m[I 2022-05-26 20:30:40,925]\u001b[0m A new study created in memory with name: no-name-302ba498-c671-4eb0-8892-c9e3723fdc92\u001b[0m\n",
      "\u001b[32m[I 2022-05-26 20:30:40,997]\u001b[0m Trial 0 finished with value: 0.20320762581780233 and parameters: {'ITERATIONS': 3, 'Q': 0.6145295787276622, 'EVA_RATE': 0.5558008189169016, 'ANTS': 3}. Best is trial 0 with value: 0.20320762581780233.\u001b[0m\n",
      "\u001b[32m[I 2022-05-26 20:30:41,069]\u001b[0m Trial 1 finished with value: 0.24484956004097708 and parameters: {'ITERATIONS': 3, 'Q': 0.2745960167343591, 'EVA_RATE': 0.42087393125343364, 'ANTS': 2}. Best is trial 1 with value: 0.24484956004097708.\u001b[0m\n"
     ]
    },
    {
     "name": "stdout",
     "output_type": "stream",
     "text": [
      "           Date    Returns      Risk     Ratio\n",
      "0    2021-01-01  20.812991  6.905090  2.495694\n",
      "1    2021-01-04  20.574005  7.037955  2.414623\n",
      "2    2021-01-05  21.652565  7.046567  2.564733\n",
      "3    2021-01-06  21.859558  7.094556  2.576561\n",
      "4    2021-01-07  21.504652  7.347479  2.439565\n",
      "..          ...        ...       ...       ...\n",
      "179  2021-09-23  14.440113  4.857309  2.235829\n",
      "180  2021-09-24  16.018681  5.127331  2.425956\n",
      "181  2021-09-27  14.477444  4.245707  2.566697\n",
      "182  2021-09-28  13.877836  4.883671  2.108626\n",
      "183  2021-09-29  12.752049  6.018398  1.524002\n",
      "\n",
      "[184 rows x 4 columns]\n"
     ]
    },
    {
     "name": "stderr",
     "output_type": "stream",
     "text": [
      "\u001b[32m[I 2022-05-26 20:30:41,264]\u001b[0m A new study created in memory with name: no-name-6a959fff-d351-4ef7-b5e8-5de173b010fc\u001b[0m\n",
      "\u001b[32m[I 2022-05-26 20:30:41,397]\u001b[0m Trial 0 finished with value: 0.23581816555797536 and parameters: {'ITERATIONS': 5, 'Q': 0.3132074470640321, 'EVA_RATE': 0.26598020533259115, 'ANTS': 5}. Best is trial 0 with value: 0.23581816555797536.\u001b[0m\n"
     ]
    },
    {
     "name": "stdout",
     "output_type": "stream",
     "text": [
      "           Date    Returns      Risk     Ratio\n",
      "0    2021-01-01  20.812991  6.905090  2.495694\n",
      "1    2021-01-04  20.574005  7.037955  2.414623\n",
      "2    2021-01-05  21.652565  7.046567  2.564733\n",
      "3    2021-01-06  21.859558  7.094556  2.576561\n",
      "4    2021-01-07  21.504652  7.347479  2.439565\n",
      "..          ...        ...       ...       ...\n",
      "180  2021-09-24  16.018681  5.127331  2.425956\n",
      "181  2021-09-27  14.477444  4.245707  2.566697\n",
      "182  2021-09-28  13.877836  4.883671  2.108626\n",
      "183  2021-09-29  12.752049  6.018398  1.524002\n",
      "184  2021-09-30  14.124881  4.954417  2.128380\n",
      "\n",
      "[185 rows x 4 columns]\n"
     ]
    },
    {
     "name": "stderr",
     "output_type": "stream",
     "text": [
      "\u001b[32m[I 2022-05-26 20:30:41,470]\u001b[0m Trial 1 finished with value: 0.21498524710897826 and parameters: {'ITERATIONS': 2, 'Q': 0.36176355240842273, 'EVA_RATE': 0.3290298762688878, 'ANTS': 3}. Best is trial 0 with value: 0.23581816555797536.\u001b[0m\n",
      "\u001b[32m[I 2022-05-26 20:30:41,726]\u001b[0m A new study created in memory with name: no-name-8b96edd7-3525-4e77-8dc6-6870b912d7a6\u001b[0m\n",
      "\u001b[32m[I 2022-05-26 20:30:41,779]\u001b[0m Trial 0 finished with value: 0.22159302243133336 and parameters: {'ITERATIONS': 4, 'Q': 0.8627064878704921, 'EVA_RATE': 0.951027201588084, 'ANTS': 2}. Best is trial 0 with value: 0.22159302243133336.\u001b[0m\n",
      "\u001b[32m[I 2022-05-26 20:30:41,859]\u001b[0m Trial 1 finished with value: 0.22218525412049459 and parameters: {'ITERATIONS': 5, 'Q': 0.6575726391346011, 'EVA_RATE': 0.45039684775423505, 'ANTS': 3}. Best is trial 1 with value: 0.22218525412049459.\u001b[0m\n"
     ]
    },
    {
     "name": "stdout",
     "output_type": "stream",
     "text": [
      "           Date    Returns      Risk     Ratio\n",
      "0    2021-01-01  20.812991  6.905090  2.495694\n",
      "1    2021-01-04  20.574005  7.037955  2.414623\n",
      "2    2021-01-05  21.652565  7.046567  2.564733\n",
      "3    2021-01-06  21.859558  7.094556  2.576561\n",
      "4    2021-01-07  21.504652  7.347479  2.439565\n",
      "..          ...        ...       ...       ...\n",
      "181  2021-09-27  14.477444  4.245707  2.566697\n",
      "182  2021-09-28  13.877836  4.883671  2.108626\n",
      "183  2021-09-29  12.752049  6.018398  1.524002\n",
      "184  2021-09-30  14.124881  4.954417  2.128380\n",
      "185  2021-10-01  13.236903  5.172391  1.867009\n",
      "\n",
      "[186 rows x 4 columns]\n"
     ]
    },
    {
     "name": "stderr",
     "output_type": "stream",
     "text": [
      "\u001b[32m[I 2022-05-26 20:30:42,032]\u001b[0m A new study created in memory with name: no-name-c40d3731-f4c1-445e-b8f9-305ec121dfbf\u001b[0m\n",
      "\u001b[32m[I 2022-05-26 20:30:42,113]\u001b[0m Trial 0 finished with value: 0.23949812539637655 and parameters: {'ITERATIONS': 5, 'Q': 0.7252921957482112, 'EVA_RATE': 0.730592410207399, 'ANTS': 2}. Best is trial 0 with value: 0.23949812539637655.\u001b[0m\n",
      "\u001b[32m[I 2022-05-26 20:30:42,234]\u001b[0m Trial 1 finished with value: 0.26905796641823676 and parameters: {'ITERATIONS': 5, 'Q': 0.16203633234924628, 'EVA_RATE': 0.12901295749940409, 'ANTS': 5}. Best is trial 1 with value: 0.26905796641823676.\u001b[0m\n"
     ]
    },
    {
     "name": "stdout",
     "output_type": "stream",
     "text": [
      "           Date    Returns      Risk     Ratio\n",
      "0    2021-01-01  20.812991  6.905090  2.495694\n",
      "1    2021-01-04  20.574005  7.037955  2.414623\n",
      "2    2021-01-05  21.652565  7.046567  2.564733\n",
      "3    2021-01-06  21.859558  7.094556  2.576561\n",
      "4    2021-01-07  21.504652  7.347479  2.439565\n",
      "..          ...        ...       ...       ...\n",
      "182  2021-09-28  13.877836  4.883671  2.108626\n",
      "183  2021-09-29  12.752049  6.018398  1.524002\n",
      "184  2021-09-30  14.124881  4.954417  2.128380\n",
      "185  2021-10-01  13.236903  5.172391  1.867009\n",
      "186  2021-10-04  14.729114  5.347946  2.084747\n",
      "\n",
      "[187 rows x 4 columns]\n"
     ]
    },
    {
     "name": "stderr",
     "output_type": "stream",
     "text": [
      "\u001b[32m[I 2022-05-26 20:30:42,431]\u001b[0m A new study created in memory with name: no-name-60cbdf85-029a-431d-b032-224e832bf112\u001b[0m\n",
      "\u001b[32m[I 2022-05-26 20:30:42,518]\u001b[0m Trial 0 finished with value: 0.22613581982010406 and parameters: {'ITERATIONS': 4, 'Q': 0.9818205030315132, 'EVA_RATE': 0.654024525069586, 'ANTS': 3}. Best is trial 0 with value: 0.22613581982010406.\u001b[0m\n",
      "\u001b[32m[I 2022-05-26 20:30:42,590]\u001b[0m Trial 1 finished with value: 0.22107933847733507 and parameters: {'ITERATIONS': 4, 'Q': 0.936275630616718, 'EVA_RATE': 0.3066425728654712, 'ANTS': 4}. Best is trial 0 with value: 0.22613581982010406.\u001b[0m\n"
     ]
    },
    {
     "name": "stdout",
     "output_type": "stream",
     "text": [
      "           Date    Returns      Risk     Ratio\n",
      "0    2021-01-01  20.812991  6.905090  2.495694\n",
      "1    2021-01-04  20.574005  7.037955  2.414623\n",
      "2    2021-01-05  21.652565  7.046567  2.564733\n",
      "3    2021-01-06  21.859558  7.094556  2.576561\n",
      "4    2021-01-07  21.504652  7.347479  2.439565\n",
      "..          ...        ...       ...       ...\n",
      "183  2021-09-29  12.752049  6.018398  1.524002\n",
      "184  2021-09-30  14.124881  4.954417  2.128380\n",
      "185  2021-10-01  13.236903  5.172391  1.867009\n",
      "186  2021-10-04  14.729114  5.347946  2.084747\n",
      "187  2021-10-05  13.904307  5.923021  1.743081\n",
      "\n",
      "[188 rows x 4 columns]\n"
     ]
    },
    {
     "name": "stderr",
     "output_type": "stream",
     "text": [
      "\u001b[32m[I 2022-05-26 20:30:42,759]\u001b[0m A new study created in memory with name: no-name-beaaf90d-dff6-4fee-b837-ed721e528cb0\u001b[0m\n",
      "\u001b[32m[I 2022-05-26 20:30:42,836]\u001b[0m Trial 0 finished with value: 0.22674925933775497 and parameters: {'ITERATIONS': 5, 'Q': 0.22593057537236633, 'EVA_RATE': 0.2950065378164648, 'ANTS': 2}. Best is trial 0 with value: 0.22674925933775497.\u001b[0m\n",
      "\u001b[32m[I 2022-05-26 20:30:42,907]\u001b[0m Trial 1 finished with value: 0.2099227274216321 and parameters: {'ITERATIONS': 4, 'Q': 0.3188474353208459, 'EVA_RATE': 0.853070993748774, 'ANTS': 3}. Best is trial 0 with value: 0.22674925933775497.\u001b[0m\n"
     ]
    },
    {
     "name": "stdout",
     "output_type": "stream",
     "text": [
      "           Date    Returns      Risk     Ratio\n",
      "0    2021-01-01  20.812991  6.905090  2.495694\n",
      "1    2021-01-04  20.574005  7.037955  2.414623\n",
      "2    2021-01-05  21.652565  7.046567  2.564733\n",
      "3    2021-01-06  21.859558  7.094556  2.576561\n",
      "4    2021-01-07  21.504652  7.347479  2.439565\n",
      "..          ...        ...       ...       ...\n",
      "184  2021-09-30  14.124881  4.954417  2.128380\n",
      "185  2021-10-01  13.236903  5.172391  1.867009\n",
      "186  2021-10-04  14.729114  5.347946  2.084747\n",
      "187  2021-10-05  13.904307  5.923021  1.743081\n",
      "188  2021-10-06  14.568837  4.943241  2.223002\n",
      "\n",
      "[189 rows x 4 columns]\n"
     ]
    },
    {
     "name": "stderr",
     "output_type": "stream",
     "text": [
      "\u001b[32m[I 2022-05-26 20:30:43,129]\u001b[0m A new study created in memory with name: no-name-bc9d210f-8b68-4359-a062-0fc3c198d196\u001b[0m\n",
      "\u001b[32m[I 2022-05-26 20:30:43,204]\u001b[0m Trial 0 finished with value: 0.2226095816897779 and parameters: {'ITERATIONS': 2, 'Q': 0.5893376934554018, 'EVA_RATE': 0.7382090760085321, 'ANTS': 2}. Best is trial 0 with value: 0.2226095816897779.\u001b[0m\n",
      "\u001b[32m[I 2022-05-26 20:30:43,261]\u001b[0m Trial 1 finished with value: 0.20134905593226438 and parameters: {'ITERATIONS': 2, 'Q': 0.912241441199172, 'EVA_RATE': 0.7651985426641392, 'ANTS': 2}. Best is trial 0 with value: 0.2226095816897779.\u001b[0m\n"
     ]
    },
    {
     "name": "stdout",
     "output_type": "stream",
     "text": [
      "           Date    Returns      Risk     Ratio\n",
      "0    2021-01-01  20.812991  6.905090  2.495694\n",
      "1    2021-01-04  20.574005  7.037955  2.414623\n",
      "2    2021-01-05  21.652565  7.046567  2.564733\n",
      "3    2021-01-06  21.859558  7.094556  2.576561\n",
      "4    2021-01-07  21.504652  7.347479  2.439565\n",
      "..          ...        ...       ...       ...\n",
      "185  2021-10-01  13.236903  5.172391  1.867009\n",
      "186  2021-10-04  14.729114  5.347946  2.084747\n",
      "187  2021-10-05  13.904307  5.923021  1.743081\n",
      "188  2021-10-06  14.568837  4.943241  2.223002\n",
      "189  2021-10-07  13.860762  5.938680  1.731153\n",
      "\n",
      "[190 rows x 4 columns]\n"
     ]
    },
    {
     "name": "stderr",
     "output_type": "stream",
     "text": [
      "\u001b[32m[I 2022-05-26 20:30:43,458]\u001b[0m A new study created in memory with name: no-name-99aa4c38-9c58-4f37-ab6c-e20cec0baec6\u001b[0m\n",
      "\u001b[32m[I 2022-05-26 20:30:43,550]\u001b[0m Trial 0 finished with value: 0.22652954039025155 and parameters: {'ITERATIONS': 5, 'Q': 0.9792472710601615, 'EVA_RATE': 0.5959233634366637, 'ANTS': 5}. Best is trial 0 with value: 0.22652954039025155.\u001b[0m\n",
      "\u001b[32m[I 2022-05-26 20:30:43,618]\u001b[0m Trial 1 finished with value: 0.20379859494826524 and parameters: {'ITERATIONS': 2, 'Q': 0.5108611393013794, 'EVA_RATE': 0.3641650713818241, 'ANTS': 5}. Best is trial 0 with value: 0.22652954039025155.\u001b[0m\n"
     ]
    },
    {
     "name": "stdout",
     "output_type": "stream",
     "text": [
      "           Date    Returns      Risk     Ratio\n",
      "0    2021-01-01  20.812991  6.905090  2.495694\n",
      "1    2021-01-04  20.574005  7.037955  2.414623\n",
      "2    2021-01-05  21.652565  7.046567  2.564733\n",
      "3    2021-01-06  21.859558  7.094556  2.576561\n",
      "4    2021-01-07  21.504652  7.347479  2.439565\n",
      "..          ...        ...       ...       ...\n",
      "186  2021-10-04  14.729114  5.347946  2.084747\n",
      "187  2021-10-05  13.904307  5.923021  1.743081\n",
      "188  2021-10-06  14.568837  4.943241  2.223002\n",
      "189  2021-10-07  13.860762  5.938680  1.731153\n",
      "190  2021-10-08  12.504902  5.287880  1.687803\n",
      "\n",
      "[191 rows x 4 columns]\n"
     ]
    },
    {
     "name": "stderr",
     "output_type": "stream",
     "text": [
      "\u001b[32m[I 2022-05-26 20:30:43,847]\u001b[0m A new study created in memory with name: no-name-8aca7464-d1fa-4d92-a172-455ee37b3c30\u001b[0m\n",
      "\u001b[32m[I 2022-05-26 20:30:43,961]\u001b[0m Trial 0 finished with value: 0.23694806412668748 and parameters: {'ITERATIONS': 4, 'Q': 0.5950380482434423, 'EVA_RATE': 0.5053373788358416, 'ANTS': 5}. Best is trial 0 with value: 0.23694806412668748.\u001b[0m\n",
      "\u001b[32m[I 2022-05-26 20:30:44,040]\u001b[0m Trial 1 finished with value: 0.21095770214882661 and parameters: {'ITERATIONS': 3, 'Q': 0.4816299671150319, 'EVA_RATE': 0.5166523943508003, 'ANTS': 2}. Best is trial 0 with value: 0.23694806412668748.\u001b[0m\n"
     ]
    },
    {
     "name": "stdout",
     "output_type": "stream",
     "text": [
      "           Date    Returns      Risk     Ratio\n",
      "0    2021-01-01  20.812991  6.905090  2.495694\n",
      "1    2021-01-04  20.574005  7.037955  2.414623\n",
      "2    2021-01-05  21.652565  7.046567  2.564733\n",
      "3    2021-01-06  21.859558  7.094556  2.576561\n",
      "4    2021-01-07  21.504652  7.347479  2.439565\n",
      "..          ...        ...       ...       ...\n",
      "187  2021-10-05  13.904307  5.923021  1.743081\n",
      "188  2021-10-06  14.568837  4.943241  2.223002\n",
      "189  2021-10-07  13.860762  5.938680  1.731153\n",
      "190  2021-10-08  12.504902  5.287880  1.687803\n",
      "191  2021-10-11  13.847731  5.153105  1.992533\n",
      "\n",
      "[192 rows x 4 columns]\n"
     ]
    },
    {
     "name": "stderr",
     "output_type": "stream",
     "text": [
      "\u001b[32m[I 2022-05-26 20:30:44,257]\u001b[0m A new study created in memory with name: no-name-05303a0e-0e27-4f55-aa02-371fbe2f83bf\u001b[0m\n",
      "\u001b[32m[I 2022-05-26 20:30:44,347]\u001b[0m Trial 0 finished with value: 0.23235781783322346 and parameters: {'ITERATIONS': 3, 'Q': 0.44006224169298436, 'EVA_RATE': 0.4448061723013881, 'ANTS': 5}. Best is trial 0 with value: 0.23235781783322346.\u001b[0m\n",
      "\u001b[32m[I 2022-05-26 20:30:44,429]\u001b[0m Trial 1 finished with value: 0.22834592866562567 and parameters: {'ITERATIONS': 5, 'Q': 0.9534216510398694, 'EVA_RATE': 0.4767531004619402, 'ANTS': 5}. Best is trial 0 with value: 0.23235781783322346.\u001b[0m\n"
     ]
    },
    {
     "name": "stdout",
     "output_type": "stream",
     "text": [
      "           Date    Returns      Risk     Ratio\n",
      "0    2021-01-01  20.812991  6.905090  2.495694\n",
      "1    2021-01-04  20.574005  7.037955  2.414623\n",
      "2    2021-01-05  21.652565  7.046567  2.564733\n",
      "3    2021-01-06  21.859558  7.094556  2.576561\n",
      "4    2021-01-07  21.504652  7.347479  2.439565\n",
      "..          ...        ...       ...       ...\n",
      "188  2021-10-06  14.568837  4.943241  2.223002\n",
      "189  2021-10-07  13.860762  5.938680  1.731153\n",
      "190  2021-10-08  12.504902  5.287880  1.687803\n",
      "191  2021-10-11  13.847731  5.153105  1.992533\n",
      "192  2021-10-12  14.006436  5.147814  2.025410\n",
      "\n",
      "[193 rows x 4 columns]\n"
     ]
    },
    {
     "name": "stderr",
     "output_type": "stream",
     "text": [
      "\u001b[32m[I 2022-05-26 20:30:44,647]\u001b[0m A new study created in memory with name: no-name-61f2a10e-ded3-47bc-9f88-0a9e254103a9\u001b[0m\n",
      "\u001b[32m[I 2022-05-26 20:30:44,716]\u001b[0m Trial 0 finished with value: 0.21963100986363568 and parameters: {'ITERATIONS': 4, 'Q': 0.39733115812932174, 'EVA_RATE': 0.19451923758969925, 'ANTS': 4}. Best is trial 0 with value: 0.21963100986363568.\u001b[0m\n",
      "\u001b[32m[I 2022-05-26 20:30:44,800]\u001b[0m Trial 1 finished with value: 0.20589852163664055 and parameters: {'ITERATIONS': 2, 'Q': 0.4993362031080192, 'EVA_RATE': 0.7747501199307814, 'ANTS': 2}. Best is trial 0 with value: 0.21963100986363568.\u001b[0m\n"
     ]
    },
    {
     "name": "stdout",
     "output_type": "stream",
     "text": [
      "           Date    Returns      Risk     Ratio\n",
      "0    2021-01-01  20.812991  6.905090  2.495694\n",
      "1    2021-01-04  20.574005  7.037955  2.414623\n",
      "2    2021-01-05  21.652565  7.046567  2.564733\n",
      "3    2021-01-06  21.859558  7.094556  2.576561\n",
      "4    2021-01-07  21.504652  7.347479  2.439565\n",
      "..          ...        ...       ...       ...\n",
      "189  2021-10-07  13.860762  5.938680  1.731153\n",
      "190  2021-10-08  12.504902  5.287880  1.687803\n",
      "191  2021-10-11  13.847731  5.153105  1.992533\n",
      "192  2021-10-12  14.006436  5.147814  2.025410\n",
      "193  2021-10-13  15.673752  5.338920  2.265206\n",
      "\n",
      "[194 rows x 4 columns]\n"
     ]
    },
    {
     "name": "stderr",
     "output_type": "stream",
     "text": [
      "\u001b[32m[I 2022-05-26 20:30:44,973]\u001b[0m A new study created in memory with name: no-name-9dd235c3-50e9-40c2-8ea4-a2559bdffbeb\u001b[0m\n",
      "\u001b[32m[I 2022-05-26 20:30:45,100]\u001b[0m Trial 0 finished with value: 0.23189840076964507 and parameters: {'ITERATIONS': 5, 'Q': 0.8888696301493947, 'EVA_RATE': 0.3139229915051218, 'ANTS': 4}. Best is trial 0 with value: 0.23189840076964507.\u001b[0m\n"
     ]
    },
    {
     "name": "stdout",
     "output_type": "stream",
     "text": [
      "           Date    Returns      Risk     Ratio\n",
      "0    2021-01-01  20.812991  6.905090  2.495694\n",
      "1    2021-01-04  20.574005  7.037955  2.414623\n",
      "2    2021-01-05  21.652565  7.046567  2.564733\n",
      "3    2021-01-06  21.859558  7.094556  2.576561\n",
      "4    2021-01-07  21.504652  7.347479  2.439565\n",
      "..          ...        ...       ...       ...\n",
      "190  2021-10-08  12.504902  5.287880  1.687803\n",
      "191  2021-10-11  13.847731  5.153105  1.992533\n",
      "192  2021-10-12  14.006436  5.147814  2.025410\n",
      "193  2021-10-13  15.673752  5.338920  2.265206\n",
      "194  2021-10-14  15.116258  5.876746  1.963035\n",
      "\n",
      "[195 rows x 4 columns]\n"
     ]
    },
    {
     "name": "stderr",
     "output_type": "stream",
     "text": [
      "\u001b[32m[I 2022-05-26 20:30:45,164]\u001b[0m Trial 1 finished with value: 0.20819009975286293 and parameters: {'ITERATIONS': 4, 'Q': 0.7176034135125382, 'EVA_RATE': 0.8619908050628095, 'ANTS': 3}. Best is trial 0 with value: 0.23189840076964507.\u001b[0m\n",
      "\u001b[32m[I 2022-05-26 20:30:45,349]\u001b[0m A new study created in memory with name: no-name-060ec509-cfb1-4a3c-9451-e2487ded0832\u001b[0m\n",
      "\u001b[32m[I 2022-05-26 20:30:45,438]\u001b[0m Trial 0 finished with value: 0.24171911001744162 and parameters: {'ITERATIONS': 5, 'Q': 0.933337914026059, 'EVA_RATE': 0.8800298288250812, 'ANTS': 3}. Best is trial 0 with value: 0.24171911001744162.\u001b[0m\n",
      "\u001b[32m[I 2022-05-26 20:30:45,531]\u001b[0m Trial 1 finished with value: 0.28479477832840294 and parameters: {'ITERATIONS': 4, 'Q': 0.5671498352612763, 'EVA_RATE': 0.14149148452359578, 'ANTS': 5}. Best is trial 1 with value: 0.28479477832840294.\u001b[0m\n"
     ]
    },
    {
     "name": "stdout",
     "output_type": "stream",
     "text": [
      "           Date    Returns      Risk     Ratio\n",
      "0    2021-01-01  20.812991  6.905090  2.495694\n",
      "1    2021-01-04  20.574005  7.037955  2.414623\n",
      "2    2021-01-05  21.652565  7.046567  2.564733\n",
      "3    2021-01-06  21.859558  7.094556  2.576561\n",
      "4    2021-01-07  21.504652  7.347479  2.439565\n",
      "..          ...        ...       ...       ...\n",
      "191  2021-10-11  13.847731  5.153105  1.992533\n",
      "192  2021-10-12  14.006436  5.147814  2.025410\n",
      "193  2021-10-13  15.673752  5.338920  2.265206\n",
      "194  2021-10-14  15.116258  5.876746  1.963035\n",
      "195  2021-10-18  16.712020  5.776431  2.273379\n",
      "\n",
      "[196 rows x 4 columns]\n"
     ]
    },
    {
     "name": "stderr",
     "output_type": "stream",
     "text": [
      "\u001b[32m[I 2022-05-26 20:30:45,710]\u001b[0m A new study created in memory with name: no-name-0df4b0f9-5b04-4b56-9d04-bbce484f851c\u001b[0m\n",
      "\u001b[32m[I 2022-05-26 20:30:45,779]\u001b[0m Trial 0 finished with value: 0.2419925472639012 and parameters: {'ITERATIONS': 4, 'Q': 0.2575068742436147, 'EVA_RATE': 0.6617253222920485, 'ANTS': 5}. Best is trial 0 with value: 0.2419925472639012.\u001b[0m\n",
      "\u001b[32m[I 2022-05-26 20:30:45,861]\u001b[0m Trial 1 finished with value: 0.20825163486050974 and parameters: {'ITERATIONS': 4, 'Q': 0.2155330204566182, 'EVA_RATE': 0.5378722130646882, 'ANTS': 2}. Best is trial 0 with value: 0.2419925472639012.\u001b[0m\n"
     ]
    },
    {
     "name": "stdout",
     "output_type": "stream",
     "text": [
      "           Date    Returns      Risk     Ratio\n",
      "0    2021-01-01  20.812991  6.905090  2.495694\n",
      "1    2021-01-04  20.574005  7.037955  2.414623\n",
      "2    2021-01-05  21.652565  7.046567  2.564733\n",
      "3    2021-01-06  21.859558  7.094556  2.576561\n",
      "4    2021-01-07  21.504652  7.347479  2.439565\n",
      "..          ...        ...       ...       ...\n",
      "192  2021-10-12  14.006436  5.147814  2.025410\n",
      "193  2021-10-13  15.673752  5.338920  2.265206\n",
      "194  2021-10-14  15.116258  5.876746  1.963035\n",
      "195  2021-10-18  16.712020  5.776431  2.273379\n",
      "196  2021-10-19  16.249287  5.660582  2.238160\n",
      "\n",
      "[197 rows x 4 columns]\n"
     ]
    },
    {
     "name": "stderr",
     "output_type": "stream",
     "text": [
      "\u001b[32m[I 2022-05-26 20:30:46,075]\u001b[0m A new study created in memory with name: no-name-a356a6e8-1c76-4570-9842-028062f50969\u001b[0m\n",
      "\u001b[32m[I 2022-05-26 20:30:46,151]\u001b[0m Trial 0 finished with value: 0.22447419616094977 and parameters: {'ITERATIONS': 4, 'Q': 0.33617386568159435, 'EVA_RATE': 0.6082314494573641, 'ANTS': 2}. Best is trial 0 with value: 0.22447419616094977.\u001b[0m\n",
      "\u001b[32m[I 2022-05-26 20:30:46,212]\u001b[0m Trial 1 finished with value: 0.20725818324981166 and parameters: {'ITERATIONS': 2, 'Q': 0.9515070016727156, 'EVA_RATE': 0.9587631640148027, 'ANTS': 2}. Best is trial 0 with value: 0.22447419616094977.\u001b[0m\n"
     ]
    },
    {
     "name": "stdout",
     "output_type": "stream",
     "text": [
      "           Date    Returns      Risk     Ratio\n",
      "0    2021-01-01  20.812991  6.905090  2.495694\n",
      "1    2021-01-04  20.574005  7.037955  2.414623\n",
      "2    2021-01-05  21.652565  7.046567  2.564733\n",
      "3    2021-01-06  21.859558  7.094556  2.576561\n",
      "4    2021-01-07  21.504652  7.347479  2.439565\n",
      "..          ...        ...       ...       ...\n",
      "193  2021-10-13  15.673752  5.338920  2.265206\n",
      "194  2021-10-14  15.116258  5.876746  1.963035\n",
      "195  2021-10-18  16.712020  5.776431  2.273379\n",
      "196  2021-10-19  16.249287  5.660582  2.238160\n",
      "197  2021-10-20  17.595634  5.694893  2.461088\n",
      "\n",
      "[198 rows x 4 columns]\n"
     ]
    },
    {
     "name": "stderr",
     "output_type": "stream",
     "text": [
      "\u001b[32m[I 2022-05-26 20:30:46,466]\u001b[0m A new study created in memory with name: no-name-9d415e71-ef19-473b-bfd1-e95110c8f159\u001b[0m\n",
      "\u001b[32m[I 2022-05-26 20:30:46,550]\u001b[0m Trial 0 finished with value: 0.23016570150550383 and parameters: {'ITERATIONS': 5, 'Q': 0.11166996848241878, 'EVA_RATE': 0.11940387888645604, 'ANTS': 3}. Best is trial 0 with value: 0.23016570150550383.\u001b[0m\n",
      "\u001b[32m[I 2022-05-26 20:30:46,632]\u001b[0m Trial 1 finished with value: 0.2456460017099324 and parameters: {'ITERATIONS': 3, 'Q': 0.7294395158244769, 'EVA_RATE': 0.1285050640393506, 'ANTS': 3}. Best is trial 1 with value: 0.2456460017099324.\u001b[0m\n"
     ]
    },
    {
     "name": "stdout",
     "output_type": "stream",
     "text": [
      "           Date    Returns      Risk     Ratio\n",
      "0    2021-01-01  20.812991  6.905090  2.495694\n",
      "1    2021-01-04  20.574005  7.037955  2.414623\n",
      "2    2021-01-05  21.652565  7.046567  2.564733\n",
      "3    2021-01-06  21.859558  7.094556  2.576561\n",
      "4    2021-01-07  21.504652  7.347479  2.439565\n",
      "..          ...        ...       ...       ...\n",
      "194  2021-10-14  15.116258  5.876746  1.963035\n",
      "195  2021-10-18  16.712020  5.776431  2.273379\n",
      "196  2021-10-19  16.249287  5.660582  2.238160\n",
      "197  2021-10-20  17.595634  5.694893  2.461088\n",
      "198  2021-10-21  15.117663  5.456732  2.114391\n",
      "\n",
      "[199 rows x 4 columns]\n"
     ]
    },
    {
     "name": "stderr",
     "output_type": "stream",
     "text": [
      "\u001b[32m[I 2022-05-26 20:30:46,834]\u001b[0m A new study created in memory with name: no-name-13510903-4a5f-4086-86a3-20721367b3fe\u001b[0m\n",
      "\u001b[32m[I 2022-05-26 20:30:46,916]\u001b[0m Trial 0 finished with value: 0.21963746963840836 and parameters: {'ITERATIONS': 3, 'Q': 0.9972341540156705, 'EVA_RATE': 0.558789442226251, 'ANTS': 3}. Best is trial 0 with value: 0.21963746963840836.\u001b[0m\n",
      "\u001b[32m[I 2022-05-26 20:30:46,979]\u001b[0m Trial 1 finished with value: 0.2385662888304798 and parameters: {'ITERATIONS': 3, 'Q': 0.4927867772985355, 'EVA_RATE': 0.31844904843067245, 'ANTS': 3}. Best is trial 1 with value: 0.2385662888304798.\u001b[0m\n"
     ]
    },
    {
     "name": "stdout",
     "output_type": "stream",
     "text": [
      "           Date    Returns      Risk     Ratio\n",
      "0    2021-01-01  20.812991  6.905090  2.495694\n",
      "1    2021-01-04  20.574005  7.037955  2.414623\n",
      "2    2021-01-05  21.652565  7.046567  2.564733\n",
      "3    2021-01-06  21.859558  7.094556  2.576561\n",
      "4    2021-01-07  21.504652  7.347479  2.439565\n",
      "..          ...        ...       ...       ...\n",
      "195  2021-10-18  16.712020  5.776431  2.273379\n",
      "196  2021-10-19  16.249287  5.660582  2.238160\n",
      "197  2021-10-20  17.595634  5.694893  2.461088\n",
      "198  2021-10-21  15.117663  5.456732  2.114391\n",
      "199  2021-10-22  12.588498  5.591198  1.611193\n",
      "\n",
      "[200 rows x 4 columns]\n"
     ]
    },
    {
     "name": "stderr",
     "output_type": "stream",
     "text": [
      "\u001b[32m[I 2022-05-26 20:30:47,182]\u001b[0m A new study created in memory with name: no-name-3963043a-c4bc-4b17-ac9e-925ba7e77a23\u001b[0m\n",
      "\u001b[32m[I 2022-05-26 20:30:47,248]\u001b[0m Trial 0 finished with value: 0.2177749152857359 and parameters: {'ITERATIONS': 5, 'Q': 0.28327244606299773, 'EVA_RATE': 0.31210007652251204, 'ANTS': 2}. Best is trial 0 with value: 0.2177749152857359.\u001b[0m\n",
      "\u001b[32m[I 2022-05-26 20:30:47,329]\u001b[0m Trial 1 finished with value: 0.2207146574844094 and parameters: {'ITERATIONS': 4, 'Q': 0.4644302258216072, 'EVA_RATE': 0.3405554748336073, 'ANTS': 4}. Best is trial 1 with value: 0.2207146574844094.\u001b[0m\n"
     ]
    },
    {
     "name": "stdout",
     "output_type": "stream",
     "text": [
      "           Date    Returns      Risk     Ratio\n",
      "0    2021-01-01  20.812991  6.905090  2.495694\n",
      "1    2021-01-04  20.574005  7.037955  2.414623\n",
      "2    2021-01-05  21.652565  7.046567  2.564733\n",
      "3    2021-01-06  21.859558  7.094556  2.576561\n",
      "4    2021-01-07  21.504652  7.347479  2.439565\n",
      "..          ...        ...       ...       ...\n",
      "196  2021-10-19  16.249287  5.660582  2.238160\n",
      "197  2021-10-20  17.595634  5.694893  2.461088\n",
      "198  2021-10-21  15.117663  5.456732  2.114391\n",
      "199  2021-10-22  12.588498  5.591198  1.611193\n",
      "200  2021-10-25  10.580623  5.717103  1.224505\n",
      "\n",
      "[201 rows x 4 columns]\n"
     ]
    },
    {
     "name": "stderr",
     "output_type": "stream",
     "text": [
      "\u001b[32m[I 2022-05-26 20:30:47,533]\u001b[0m A new study created in memory with name: no-name-76abd063-6925-4407-8039-fa2b18e4ff4b\u001b[0m\n",
      "\u001b[32m[I 2022-05-26 20:30:47,634]\u001b[0m Trial 0 finished with value: 0.23082712926730994 and parameters: {'ITERATIONS': 5, 'Q': 0.5980348976374895, 'EVA_RATE': 0.5952939047334826, 'ANTS': 5}. Best is trial 0 with value: 0.23082712926730994.\u001b[0m\n"
     ]
    },
    {
     "name": "stdout",
     "output_type": "stream",
     "text": [
      "           Date    Returns      Risk     Ratio\n",
      "0    2021-01-01  20.812991  6.905090  2.495694\n",
      "1    2021-01-04  20.574005  7.037955  2.414623\n",
      "2    2021-01-05  21.652565  7.046567  2.564733\n",
      "3    2021-01-06  21.859558  7.094556  2.576561\n",
      "4    2021-01-07  21.504652  7.347479  2.439565\n",
      "..          ...        ...       ...       ...\n",
      "197  2021-10-20  17.595634  5.694893  2.461088\n",
      "198  2021-10-21  15.117663  5.456732  2.114391\n",
      "199  2021-10-22  12.588498  5.591198  1.611193\n",
      "200  2021-10-25  10.580623  5.717103  1.224505\n",
      "201  2021-10-26  12.087966  5.088816  1.671895\n",
      "\n",
      "[202 rows x 4 columns]\n"
     ]
    },
    {
     "name": "stderr",
     "output_type": "stream",
     "text": [
      "\u001b[32m[I 2022-05-26 20:30:47,730]\u001b[0m Trial 1 finished with value: 0.21376298364585491 and parameters: {'ITERATIONS': 5, 'Q': 0.9129532621505836, 'EVA_RATE': 0.7554863719648409, 'ANTS': 3}. Best is trial 0 with value: 0.23082712926730994.\u001b[0m\n",
      "\u001b[32m[I 2022-05-26 20:30:47,922]\u001b[0m A new study created in memory with name: no-name-2371fc16-6d2a-46ee-9ffd-c8ed72db9bdd\u001b[0m\n",
      "\u001b[32m[I 2022-05-26 20:30:47,985]\u001b[0m Trial 0 finished with value: 0.22087221659618655 and parameters: {'ITERATIONS': 3, 'Q': 0.11742945294163058, 'EVA_RATE': 0.518173320497088, 'ANTS': 4}. Best is trial 0 with value: 0.22087221659618655.\u001b[0m\n",
      "\u001b[32m[I 2022-05-26 20:30:48,050]\u001b[0m Trial 1 finished with value: 0.21891554488351003 and parameters: {'ITERATIONS': 4, 'Q': 0.20930363536510826, 'EVA_RATE': 0.49333645347003274, 'ANTS': 2}. Best is trial 0 with value: 0.22087221659618655.\u001b[0m\n"
     ]
    },
    {
     "name": "stdout",
     "output_type": "stream",
     "text": [
      "           Date    Returns      Risk     Ratio\n",
      "0    2021-01-01  20.812991  6.905090  2.495694\n",
      "1    2021-01-04  20.574005  7.037955  2.414623\n",
      "2    2021-01-05  21.652565  7.046567  2.564733\n",
      "3    2021-01-06  21.859558  7.094556  2.576561\n",
      "4    2021-01-07  21.504652  7.347479  2.439565\n",
      "..          ...        ...       ...       ...\n",
      "198  2021-10-21  15.117663  5.456732  2.114391\n",
      "199  2021-10-22  12.588498  5.591198  1.611193\n",
      "200  2021-10-25  10.580623  5.717103  1.224505\n",
      "201  2021-10-26  12.087966  5.088816  1.671895\n",
      "202  2021-10-27  11.483699  6.361266  1.242473\n",
      "\n",
      "[203 rows x 4 columns]\n"
     ]
    },
    {
     "name": "stderr",
     "output_type": "stream",
     "text": [
      "\u001b[32m[I 2022-05-26 20:30:48,213]\u001b[0m A new study created in memory with name: no-name-7ae42dab-38de-4120-a981-42cf6e83538e\u001b[0m\n",
      "\u001b[32m[I 2022-05-26 20:30:48,283]\u001b[0m Trial 0 finished with value: 0.24618699124627025 and parameters: {'ITERATIONS': 5, 'Q': 0.42781290604754973, 'EVA_RATE': 0.5705891463323303, 'ANTS': 2}. Best is trial 0 with value: 0.24618699124627025.\u001b[0m\n",
      "\u001b[32m[I 2022-05-26 20:30:48,349]\u001b[0m Trial 1 finished with value: 0.22637273947611836 and parameters: {'ITERATIONS': 4, 'Q': 0.5827299292027398, 'EVA_RATE': 0.2667578147596307, 'ANTS': 4}. Best is trial 0 with value: 0.24618699124627025.\u001b[0m\n"
     ]
    },
    {
     "name": "stdout",
     "output_type": "stream",
     "text": [
      "           Date    Returns      Risk     Ratio\n",
      "0    2021-01-01  20.812991  6.905090  2.495694\n",
      "1    2021-01-04  20.574005  7.037955  2.414623\n",
      "2    2021-01-05  21.652565  7.046567  2.564733\n",
      "3    2021-01-06  21.859558  7.094556  2.576561\n",
      "4    2021-01-07  21.504652  7.347479  2.439565\n",
      "..          ...        ...       ...       ...\n",
      "199  2021-10-22  12.588498  5.591198  1.611193\n",
      "200  2021-10-25  10.580623  5.717103  1.224505\n",
      "201  2021-10-26  12.087966  5.088816  1.671895\n",
      "202  2021-10-27  11.483699  6.361266  1.242473\n",
      "203  2021-10-28  11.920302  5.690640  1.465618\n",
      "\n",
      "[204 rows x 4 columns]\n"
     ]
    },
    {
     "name": "stderr",
     "output_type": "stream",
     "text": [
      "\u001b[32m[I 2022-05-26 20:30:48,538]\u001b[0m A new study created in memory with name: no-name-8cf8e6d7-d221-4ffd-978b-fc8783b814cb\u001b[0m\n",
      "\u001b[32m[I 2022-05-26 20:30:48,648]\u001b[0m Trial 0 finished with value: 0.23262436630361438 and parameters: {'ITERATIONS': 4, 'Q': 0.8969174514114314, 'EVA_RATE': 0.21735120816696937, 'ANTS': 5}. Best is trial 0 with value: 0.23262436630361438.\u001b[0m\n"
     ]
    },
    {
     "name": "stdout",
     "output_type": "stream",
     "text": [
      "           Date    Returns      Risk     Ratio\n",
      "0    2021-01-01  20.812991  6.905090  2.495694\n",
      "1    2021-01-04  20.574005  7.037955  2.414623\n",
      "2    2021-01-05  21.652565  7.046567  2.564733\n",
      "3    2021-01-06  21.859558  7.094556  2.576561\n",
      "4    2021-01-07  21.504652  7.347479  2.439565\n",
      "..          ...        ...       ...       ...\n",
      "200  2021-10-25  10.580623  5.717103  1.224505\n",
      "201  2021-10-26  12.087966  5.088816  1.671895\n",
      "202  2021-10-27  11.483699  6.361266  1.242473\n",
      "203  2021-10-28  11.920302  5.690640  1.465618\n",
      "204  2021-10-29   9.562106  5.956818  1.004245\n",
      "\n",
      "[205 rows x 4 columns]\n"
     ]
    },
    {
     "name": "stderr",
     "output_type": "stream",
     "text": [
      "\u001b[32m[I 2022-05-26 20:30:48,716]\u001b[0m Trial 1 finished with value: 0.18627556222887642 and parameters: {'ITERATIONS': 2, 'Q': 0.7118458930607416, 'EVA_RATE': 0.18244971176521596, 'ANTS': 2}. Best is trial 0 with value: 0.23262436630361438.\u001b[0m\n",
      "\u001b[32m[I 2022-05-26 20:30:48,948]\u001b[0m A new study created in memory with name: no-name-d258c47e-fed5-4cf1-b2d1-472980009f10\u001b[0m\n",
      "\u001b[32m[I 2022-05-26 20:30:49,015]\u001b[0m Trial 0 finished with value: 0.2209688069495047 and parameters: {'ITERATIONS': 3, 'Q': 0.7576639936364865, 'EVA_RATE': 0.5295321773795942, 'ANTS': 4}. Best is trial 0 with value: 0.2209688069495047.\u001b[0m\n",
      "\u001b[32m[I 2022-05-26 20:30:49,099]\u001b[0m Trial 1 finished with value: 0.2395736700717087 and parameters: {'ITERATIONS': 2, 'Q': 0.15053655969390187, 'EVA_RATE': 0.7786002488798052, 'ANTS': 5}. Best is trial 1 with value: 0.2395736700717087.\u001b[0m\n"
     ]
    },
    {
     "name": "stdout",
     "output_type": "stream",
     "text": [
      "           Date    Returns      Risk     Ratio\n",
      "0    2021-01-01  20.812991  6.905090  2.495694\n",
      "1    2021-01-04  20.574005  7.037955  2.414623\n",
      "2    2021-01-05  21.652565  7.046567  2.564733\n",
      "3    2021-01-06  21.859558  7.094556  2.576561\n",
      "4    2021-01-07  21.504652  7.347479  2.439565\n",
      "..          ...        ...       ...       ...\n",
      "201  2021-10-26  12.087966  5.088816  1.671895\n",
      "202  2021-10-27  11.483699  6.361266  1.242473\n",
      "203  2021-10-28  11.920302  5.690640  1.465618\n",
      "204  2021-10-29   9.562106  5.956818  1.004245\n",
      "205  2021-11-01   9.170706  6.437781  0.868421\n",
      "\n",
      "[206 rows x 4 columns]\n"
     ]
    },
    {
     "name": "stderr",
     "output_type": "stream",
     "text": [
      "\u001b[32m[I 2022-05-26 20:30:49,332]\u001b[0m A new study created in memory with name: no-name-61631812-c692-4885-b60d-743563a2c471\u001b[0m\n",
      "\u001b[32m[I 2022-05-26 20:30:49,399]\u001b[0m Trial 0 finished with value: 0.2081791363662855 and parameters: {'ITERATIONS': 4, 'Q': 0.4405419685287193, 'EVA_RATE': 0.5964887071239131, 'ANTS': 3}. Best is trial 0 with value: 0.2081791363662855.\u001b[0m\n",
      "\u001b[32m[I 2022-05-26 20:30:49,498]\u001b[0m Trial 1 finished with value: 0.22186492481253456 and parameters: {'ITERATIONS': 4, 'Q': 0.3674541205624936, 'EVA_RATE': 0.18866139087702435, 'ANTS': 4}. Best is trial 1 with value: 0.22186492481253456.\u001b[0m\n"
     ]
    },
    {
     "name": "stdout",
     "output_type": "stream",
     "text": [
      "           Date    Returns      Risk     Ratio\n",
      "0    2021-01-01  20.812991  6.905090  2.495694\n",
      "1    2021-01-04  20.574005  7.037955  2.414623\n",
      "2    2021-01-05  21.652565  7.046567  2.564733\n",
      "3    2021-01-06  21.859558  7.094556  2.576561\n",
      "4    2021-01-07  21.504652  7.347479  2.439565\n",
      "..          ...        ...       ...       ...\n",
      "202  2021-10-27  11.483699  6.361266  1.242473\n",
      "203  2021-10-28  11.920302  5.690640  1.465618\n",
      "204  2021-10-29   9.562106  5.956818  1.004245\n",
      "205  2021-11-01   9.170706  6.437781  0.868421\n",
      "206  2021-11-02   9.893951  6.175970  1.022342\n",
      "\n",
      "[207 rows x 4 columns]\n"
     ]
    },
    {
     "name": "stderr",
     "output_type": "stream",
     "text": [
      "\u001b[32m[I 2022-05-26 20:30:49,681]\u001b[0m A new study created in memory with name: no-name-9a598fe3-a9c6-458c-ab15-6fa87e8f1b12\u001b[0m\n",
      "\u001b[32m[I 2022-05-26 20:30:49,747]\u001b[0m Trial 0 finished with value: 0.2264353095657807 and parameters: {'ITERATIONS': 2, 'Q': 0.48831349324679363, 'EVA_RATE': 0.8843257370126106, 'ANTS': 5}. Best is trial 0 with value: 0.2264353095657807.\u001b[0m\n",
      "\u001b[32m[I 2022-05-26 20:30:49,815]\u001b[0m Trial 1 finished with value: 0.22984737603109634 and parameters: {'ITERATIONS': 5, 'Q': 0.5123916148206874, 'EVA_RATE': 0.726654902791826, 'ANTS': 3}. Best is trial 1 with value: 0.22984737603109634.\u001b[0m\n"
     ]
    },
    {
     "name": "stdout",
     "output_type": "stream",
     "text": [
      "           Date    Returns      Risk     Ratio\n",
      "0    2021-01-01  20.812991  6.905090  2.495694\n",
      "1    2021-01-04  20.574005  7.037955  2.414623\n",
      "2    2021-01-05  21.652565  7.046567  2.564733\n",
      "3    2021-01-06  21.859558  7.094556  2.576561\n",
      "4    2021-01-07  21.504652  7.347479  2.439565\n",
      "..          ...        ...       ...       ...\n",
      "203  2021-10-28  11.920302  5.690640  1.465618\n",
      "204  2021-10-29   9.562106  5.956818  1.004245\n",
      "205  2021-11-01   9.170706  6.437781  0.868421\n",
      "206  2021-11-02   9.893951  6.175970  1.022342\n",
      "207  2021-11-03   7.520624  6.298085  0.625686\n",
      "\n",
      "[208 rows x 4 columns]\n"
     ]
    },
    {
     "name": "stderr",
     "output_type": "stream",
     "text": [
      "\u001b[32m[I 2022-05-26 20:30:50,031]\u001b[0m A new study created in memory with name: no-name-19b3d285-c966-4723-8221-daec646084f4\u001b[0m\n",
      "\u001b[32m[I 2022-05-26 20:30:50,105]\u001b[0m Trial 0 finished with value: 0.22684742742910058 and parameters: {'ITERATIONS': 5, 'Q': 0.17973531430310402, 'EVA_RATE': 0.6724707753898767, 'ANTS': 4}. Best is trial 0 with value: 0.22684742742910058.\u001b[0m\n",
      "\u001b[32m[I 2022-05-26 20:30:50,171]\u001b[0m Trial 1 finished with value: 0.2184667119774598 and parameters: {'ITERATIONS': 3, 'Q': 0.8322127554533244, 'EVA_RATE': 0.37290432881006386, 'ANTS': 4}. Best is trial 0 with value: 0.22684742742910058.\u001b[0m\n"
     ]
    },
    {
     "name": "stdout",
     "output_type": "stream",
     "text": [
      "           Date    Returns      Risk     Ratio\n",
      "0    2021-01-01  20.812991  6.905090  2.495694\n",
      "1    2021-01-04  20.574005  7.037955  2.414623\n",
      "2    2021-01-05  21.652565  7.046567  2.564733\n",
      "3    2021-01-06  21.859558  7.094556  2.576561\n",
      "4    2021-01-07  21.504652  7.347479  2.439565\n",
      "..          ...        ...       ...       ...\n",
      "204  2021-10-29   9.562106  5.956818  1.004245\n",
      "205  2021-11-01   9.170706  6.437781  0.868421\n",
      "206  2021-11-02   9.893951  6.175970  1.022342\n",
      "207  2021-11-03   7.520624  6.298085  0.625686\n",
      "208  2021-11-04   8.986092  6.690907  0.807976\n",
      "\n",
      "[209 rows x 4 columns]\n"
     ]
    },
    {
     "name": "stderr",
     "output_type": "stream",
     "text": [
      "\u001b[32m[I 2022-05-26 20:30:50,358]\u001b[0m A new study created in memory with name: no-name-6e7340a1-ef43-4c99-932f-9da02e90be31\u001b[0m\n",
      "\u001b[32m[I 2022-05-26 20:30:50,415]\u001b[0m Trial 0 finished with value: 0.21764534853992035 and parameters: {'ITERATIONS': 2, 'Q': 0.6386144657791943, 'EVA_RATE': 0.318265062275337, 'ANTS': 4}. Best is trial 0 with value: 0.21764534853992035.\u001b[0m\n",
      "\u001b[32m[I 2022-05-26 20:30:50,474]\u001b[0m Trial 1 finished with value: 0.23953141247340903 and parameters: {'ITERATIONS': 3, 'Q': 0.8744198516781968, 'EVA_RATE': 0.9836539030067453, 'ANTS': 5}. Best is trial 1 with value: 0.23953141247340903.\u001b[0m\n"
     ]
    },
    {
     "name": "stdout",
     "output_type": "stream",
     "text": [
      "           Date    Returns      Risk     Ratio\n",
      "0    2021-01-01  20.812991  6.905090  2.495694\n",
      "1    2021-01-04  20.574005  7.037955  2.414623\n",
      "2    2021-01-05  21.652565  7.046567  2.564733\n",
      "3    2021-01-06  21.859558  7.094556  2.576561\n",
      "4    2021-01-07  21.504652  7.347479  2.439565\n",
      "..          ...        ...       ...       ...\n",
      "205  2021-11-01   9.170706  6.437781  0.868421\n",
      "206  2021-11-02   9.893951  6.175970  1.022342\n",
      "207  2021-11-03   7.520624  6.298085  0.625686\n",
      "208  2021-11-04   8.986092  6.690907  0.807976\n",
      "209  2021-11-08   9.129883  5.875500  0.944581\n",
      "\n",
      "[210 rows x 4 columns]\n"
     ]
    },
    {
     "name": "stderr",
     "output_type": "stream",
     "text": [
      "\u001b[32m[I 2022-05-26 20:30:50,664]\u001b[0m A new study created in memory with name: no-name-707acf75-36e6-47ca-8073-c7b5493fc399\u001b[0m\n",
      "\u001b[32m[I 2022-05-26 20:30:50,748]\u001b[0m Trial 0 finished with value: 0.21445901353997526 and parameters: {'ITERATIONS': 3, 'Q': 0.9419623535368804, 'EVA_RATE': 0.3728614030040336, 'ANTS': 2}. Best is trial 0 with value: 0.21445901353997526.\u001b[0m\n",
      "\u001b[32m[I 2022-05-26 20:30:50,826]\u001b[0m Trial 1 finished with value: 0.20050819405974343 and parameters: {'ITERATIONS': 2, 'Q': 0.6041871088812716, 'EVA_RATE': 0.10714932134515656, 'ANTS': 2}. Best is trial 0 with value: 0.21445901353997526.\u001b[0m\n"
     ]
    },
    {
     "name": "stdout",
     "output_type": "stream",
     "text": [
      "           Date    Returns      Risk     Ratio\n",
      "0    2021-01-01  20.812991  6.905090  2.495694\n",
      "1    2021-01-04  20.574005  7.037955  2.414623\n",
      "2    2021-01-05  21.652565  7.046567  2.564733\n",
      "3    2021-01-06  21.859558  7.094556  2.576561\n",
      "4    2021-01-07  21.504652  7.347479  2.439565\n",
      "..          ...        ...       ...       ...\n",
      "206  2021-11-02   9.893951  6.175970  1.022342\n",
      "207  2021-11-03   7.520624  6.298085  0.625686\n",
      "208  2021-11-04   8.986092  6.690907  0.807976\n",
      "209  2021-11-08   9.129883  5.875500  0.944581\n",
      "210  2021-11-09   9.554970  6.116472  0.976865\n",
      "\n",
      "[211 rows x 4 columns]\n"
     ]
    },
    {
     "name": "stderr",
     "output_type": "stream",
     "text": [
      "\u001b[32m[I 2022-05-26 20:30:50,979]\u001b[0m A new study created in memory with name: no-name-4c439565-a97a-47e0-b35b-4ca3ef48d39e\u001b[0m\n",
      "\u001b[32m[I 2022-05-26 20:30:51,027]\u001b[0m Trial 0 finished with value: 0.22750121891877192 and parameters: {'ITERATIONS': 5, 'Q': 0.19642718670503284, 'EVA_RATE': 0.7027080053563919, 'ANTS': 2}. Best is trial 0 with value: 0.22750121891877192.\u001b[0m\n",
      "\u001b[32m[I 2022-05-26 20:30:51,082]\u001b[0m Trial 1 finished with value: 0.24047115007935896 and parameters: {'ITERATIONS': 4, 'Q': 0.3070211025728904, 'EVA_RATE': 0.45752823061903836, 'ANTS': 2}. Best is trial 1 with value: 0.24047115007935896.\u001b[0m\n"
     ]
    },
    {
     "name": "stdout",
     "output_type": "stream",
     "text": [
      "           Date    Returns      Risk     Ratio\n",
      "0    2021-01-01  20.812991  6.905090  2.495694\n",
      "1    2021-01-04  20.574005  7.037955  2.414623\n",
      "2    2021-01-05  21.652565  7.046567  2.564733\n",
      "3    2021-01-06  21.859558  7.094556  2.576561\n",
      "4    2021-01-07  21.504652  7.347479  2.439565\n",
      "..          ...        ...       ...       ...\n",
      "207  2021-11-03   7.520624  6.298085  0.625686\n",
      "208  2021-11-04   8.986092  6.690907  0.807976\n",
      "209  2021-11-08   9.129883  5.875500  0.944581\n",
      "210  2021-11-09   9.554970  6.116472  0.976865\n",
      "211  2021-11-10   9.622459  6.953173  0.869022\n",
      "\n",
      "[212 rows x 4 columns]\n"
     ]
    },
    {
     "name": "stderr",
     "output_type": "stream",
     "text": [
      "\u001b[32m[I 2022-05-26 20:30:51,299]\u001b[0m A new study created in memory with name: no-name-f2c7cf6b-b88d-4d76-85c9-3395ba507689\u001b[0m\n",
      "\u001b[32m[I 2022-05-26 20:30:51,379]\u001b[0m Trial 0 finished with value: 0.23970716595962988 and parameters: {'ITERATIONS': 5, 'Q': 0.2672587741864786, 'EVA_RATE': 0.20379312556711204, 'ANTS': 2}. Best is trial 0 with value: 0.23970716595962988.\u001b[0m\n",
      "\u001b[32m[I 2022-05-26 20:30:51,463]\u001b[0m Trial 1 finished with value: 0.22875332411853128 and parameters: {'ITERATIONS': 4, 'Q': 0.9688659137780379, 'EVA_RATE': 0.9040618964276101, 'ANTS': 3}. Best is trial 0 with value: 0.23970716595962988.\u001b[0m\n"
     ]
    },
    {
     "name": "stdout",
     "output_type": "stream",
     "text": [
      "           Date    Returns      Risk     Ratio\n",
      "0    2021-01-01  20.812991  6.905090  2.495694\n",
      "1    2021-01-04  20.574005  7.037955  2.414623\n",
      "2    2021-01-05  21.652565  7.046567  2.564733\n",
      "3    2021-01-06  21.859558  7.094556  2.576561\n",
      "4    2021-01-07  21.504652  7.347479  2.439565\n",
      "..          ...        ...       ...       ...\n",
      "208  2021-11-04   8.986092  6.690907  0.807976\n",
      "209  2021-11-08   9.129883  5.875500  0.944581\n",
      "210  2021-11-09   9.554970  6.116472  0.976865\n",
      "211  2021-11-10   9.622459  6.953173  0.869022\n",
      "212  2021-11-11  11.156811  6.856699  1.105023\n",
      "\n",
      "[213 rows x 4 columns]\n"
     ]
    },
    {
     "name": "stderr",
     "output_type": "stream",
     "text": [
      "\u001b[32m[I 2022-05-26 20:30:51,646]\u001b[0m A new study created in memory with name: no-name-93dbdb54-e8fd-4e34-ab9d-efdb3175dffa\u001b[0m\n",
      "\u001b[32m[I 2022-05-26 20:30:51,704]\u001b[0m Trial 0 finished with value: 0.21915651216987558 and parameters: {'ITERATIONS': 5, 'Q': 0.696994026370657, 'EVA_RATE': 0.7619774873090069, 'ANTS': 3}. Best is trial 0 with value: 0.21915651216987558.\u001b[0m\n",
      "\u001b[32m[I 2022-05-26 20:30:51,779]\u001b[0m Trial 1 finished with value: 0.2429788785735411 and parameters: {'ITERATIONS': 3, 'Q': 0.4387032836068696, 'EVA_RATE': 0.32096312401196375, 'ANTS': 4}. Best is trial 1 with value: 0.2429788785735411.\u001b[0m\n"
     ]
    },
    {
     "name": "stdout",
     "output_type": "stream",
     "text": [
      "           Date    Returns      Risk     Ratio\n",
      "0    2021-01-01  20.812991  6.905090  2.495694\n",
      "1    2021-01-04  20.574005  7.037955  2.414623\n",
      "2    2021-01-05  21.652565  7.046567  2.564733\n",
      "3    2021-01-06  21.859558  7.094556  2.576561\n",
      "4    2021-01-07  21.504652  7.347479  2.439565\n",
      "..          ...        ...       ...       ...\n",
      "209  2021-11-08   9.129883  5.875500  0.944581\n",
      "210  2021-11-09   9.554970  6.116472  0.976865\n",
      "211  2021-11-10   9.622459  6.953173  0.869022\n",
      "212  2021-11-11  11.156811  6.856699  1.105023\n",
      "213  2021-11-12   7.785555  5.938452  0.708191\n",
      "\n",
      "[214 rows x 4 columns]\n"
     ]
    },
    {
     "name": "stderr",
     "output_type": "stream",
     "text": [
      "\u001b[32m[I 2022-05-26 20:30:51,927]\u001b[0m A new study created in memory with name: no-name-48971547-e8d1-4173-8a0b-1efa045160b0\u001b[0m\n",
      "\u001b[32m[I 2022-05-26 20:30:52,010]\u001b[0m Trial 0 finished with value: 0.2327442526639018 and parameters: {'ITERATIONS': 5, 'Q': 0.7721475902048431, 'EVA_RATE': 0.37025807310889813, 'ANTS': 4}. Best is trial 0 with value: 0.2327442526639018.\u001b[0m\n",
      "\u001b[32m[I 2022-05-26 20:30:52,061]\u001b[0m Trial 1 finished with value: 0.2386584578255383 and parameters: {'ITERATIONS': 2, 'Q': 0.4130693935512818, 'EVA_RATE': 0.1723884950254838, 'ANTS': 2}. Best is trial 1 with value: 0.2386584578255383.\u001b[0m\n"
     ]
    },
    {
     "name": "stdout",
     "output_type": "stream",
     "text": [
      "           Date    Returns      Risk     Ratio\n",
      "0    2021-01-01  20.812991  6.905090  2.495694\n",
      "1    2021-01-04  20.574005  7.037955  2.414623\n",
      "2    2021-01-05  21.652565  7.046567  2.564733\n",
      "3    2021-01-06  21.859558  7.094556  2.576561\n",
      "4    2021-01-07  21.504652  7.347479  2.439565\n",
      "..          ...        ...       ...       ...\n",
      "210  2021-11-09   9.554970  6.116472  0.976865\n",
      "211  2021-11-10   9.622459  6.953173  0.869022\n",
      "212  2021-11-11  11.156811  6.856699  1.105023\n",
      "213  2021-11-12   7.785555  5.938452  0.708191\n",
      "214  2021-11-15   9.764194  6.388454  0.968027\n",
      "\n",
      "[215 rows x 4 columns]\n"
     ]
    },
    {
     "name": "stderr",
     "output_type": "stream",
     "text": [
      "\u001b[32m[I 2022-05-26 20:30:52,239]\u001b[0m A new study created in memory with name: no-name-e3951f36-e532-4bfb-8140-9388499ca973\u001b[0m\n",
      "\u001b[32m[I 2022-05-26 20:30:52,294]\u001b[0m Trial 0 finished with value: 0.22363886234418423 and parameters: {'ITERATIONS': 3, 'Q': 0.8943781682783559, 'EVA_RATE': 0.5724449978159104, 'ANTS': 3}. Best is trial 0 with value: 0.22363886234418423.\u001b[0m\n",
      "\u001b[32m[I 2022-05-26 20:30:52,407]\u001b[0m Trial 1 finished with value: 0.240760317465331 and parameters: {'ITERATIONS': 2, 'Q': 0.3827548977989982, 'EVA_RATE': 0.8295363801557293, 'ANTS': 5}. Best is trial 1 with value: 0.240760317465331.\u001b[0m\n"
     ]
    },
    {
     "name": "stdout",
     "output_type": "stream",
     "text": [
      "           Date    Returns      Risk     Ratio\n",
      "0    2021-01-01  20.812991  6.905090  2.495694\n",
      "1    2021-01-04  20.574005  7.037955  2.414623\n",
      "2    2021-01-05  21.652565  7.046567  2.564733\n",
      "3    2021-01-06  21.859558  7.094556  2.576561\n",
      "4    2021-01-07  21.504652  7.347479  2.439565\n",
      "..          ...        ...       ...       ...\n",
      "211  2021-11-10   9.622459  6.953173  0.869022\n",
      "212  2021-11-11  11.156811  6.856699  1.105023\n",
      "213  2021-11-12   7.785555  5.938452  0.708191\n",
      "214  2021-11-15   9.764194  6.388454  0.968027\n",
      "215  2021-11-16   9.213671  6.376588  0.883493\n",
      "\n",
      "[216 rows x 4 columns]\n"
     ]
    },
    {
     "name": "stderr",
     "output_type": "stream",
     "text": [
      "\u001b[32m[I 2022-05-26 20:30:52,611]\u001b[0m A new study created in memory with name: no-name-acefce6b-bb75-47ff-b68c-e731c163af65\u001b[0m\n",
      "\u001b[32m[I 2022-05-26 20:30:52,699]\u001b[0m Trial 0 finished with value: 0.23547776850755167 and parameters: {'ITERATIONS': 5, 'Q': 0.13039884357826306, 'EVA_RATE': 0.4943357402098977, 'ANTS': 2}. Best is trial 0 with value: 0.23547776850755167.\u001b[0m\n",
      "\u001b[32m[I 2022-05-26 20:30:52,777]\u001b[0m Trial 1 finished with value: 0.2238684218045995 and parameters: {'ITERATIONS': 2, 'Q': 0.3573477963658287, 'EVA_RATE': 0.42142337603785973, 'ANTS': 3}. Best is trial 0 with value: 0.23547776850755167.\u001b[0m\n"
     ]
    },
    {
     "name": "stdout",
     "output_type": "stream",
     "text": [
      "           Date    Returns      Risk     Ratio\n",
      "0    2021-01-01  20.812991  6.905090  2.495694\n",
      "1    2021-01-04  20.574005  7.037955  2.414623\n",
      "2    2021-01-05  21.652565  7.046567  2.564733\n",
      "3    2021-01-06  21.859558  7.094556  2.576561\n",
      "4    2021-01-07  21.504652  7.347479  2.439565\n",
      "..          ...        ...       ...       ...\n",
      "212  2021-11-11  11.156811  6.856699  1.105023\n",
      "213  2021-11-12   7.785555  5.938452  0.708191\n",
      "214  2021-11-15   9.764194  6.388454  0.968027\n",
      "215  2021-11-16   9.213671  6.376588  0.883493\n",
      "216  2021-11-17   6.743435  6.273331  0.504267\n",
      "\n",
      "[217 rows x 4 columns]\n"
     ]
    },
    {
     "name": "stderr",
     "output_type": "stream",
     "text": [
      "\u001b[32m[I 2022-05-26 20:30:53,008]\u001b[0m A new study created in memory with name: no-name-ee8a23ba-68c3-4357-98b0-acd5f186615c\u001b[0m\n",
      "\u001b[32m[I 2022-05-26 20:30:53,082]\u001b[0m Trial 0 finished with value: 0.21271995963264811 and parameters: {'ITERATIONS': 5, 'Q': 0.8784247489783078, 'EVA_RATE': 0.20466293659341106, 'ANTS': 4}. Best is trial 0 with value: 0.21271995963264811.\u001b[0m\n",
      "\u001b[32m[I 2022-05-26 20:30:53,162]\u001b[0m Trial 1 finished with value: 0.22083315325456185 and parameters: {'ITERATIONS': 5, 'Q': 0.4780244204997146, 'EVA_RATE': 0.2962438164147244, 'ANTS': 3}. Best is trial 1 with value: 0.22083315325456185.\u001b[0m\n"
     ]
    },
    {
     "name": "stdout",
     "output_type": "stream",
     "text": [
      "           Date    Returns      Risk     Ratio\n",
      "0    2021-01-01  20.812991  6.905090  2.495694\n",
      "1    2021-01-04  20.574005  7.037955  2.414623\n",
      "2    2021-01-05  21.652565  7.046567  2.564733\n",
      "3    2021-01-06  21.859558  7.094556  2.576561\n",
      "4    2021-01-07  21.504652  7.347479  2.439565\n",
      "..          ...        ...       ...       ...\n",
      "213  2021-11-12   7.785555  5.938452  0.708191\n",
      "214  2021-11-15   9.764194  6.388454  0.968027\n",
      "215  2021-11-16   9.213671  6.376588  0.883493\n",
      "216  2021-11-17   6.743435  6.273331  0.504267\n",
      "217  2021-11-18   7.202314  6.142697  0.589694\n",
      "\n",
      "[218 rows x 4 columns]\n"
     ]
    },
    {
     "name": "stderr",
     "output_type": "stream",
     "text": [
      "\u001b[32m[I 2022-05-26 20:30:53,329]\u001b[0m A new study created in memory with name: no-name-8d47a6c2-8a08-423a-9ba5-61a7b7e430d9\u001b[0m\n",
      "\u001b[32m[I 2022-05-26 20:30:53,412]\u001b[0m Trial 0 finished with value: 0.23743839772135153 and parameters: {'ITERATIONS': 4, 'Q': 0.4515932892809479, 'EVA_RATE': 0.5720768048263463, 'ANTS': 5}. Best is trial 0 with value: 0.23743839772135153.\u001b[0m\n",
      "\u001b[32m[I 2022-05-26 20:30:53,479]\u001b[0m Trial 1 finished with value: 0.21677202762909165 and parameters: {'ITERATIONS': 3, 'Q': 0.8272825180182335, 'EVA_RATE': 0.34643934154882916, 'ANTS': 4}. Best is trial 0 with value: 0.23743839772135153.\u001b[0m\n"
     ]
    },
    {
     "name": "stdout",
     "output_type": "stream",
     "text": [
      "           Date    Returns      Risk     Ratio\n",
      "0    2021-01-01  20.812991  6.905090  2.495694\n",
      "1    2021-01-04  20.574005  7.037955  2.414623\n",
      "2    2021-01-05  21.652565  7.046567  2.564733\n",
      "3    2021-01-06  21.859558  7.094556  2.576561\n",
      "4    2021-01-07  21.504652  7.347479  2.439565\n",
      "..          ...        ...       ...       ...\n",
      "214  2021-11-15   9.764194  6.388454  0.968027\n",
      "215  2021-11-16   9.213671  6.376588  0.883493\n",
      "216  2021-11-17   6.743435  6.273331  0.504267\n",
      "217  2021-11-18   7.202314  6.142697  0.589694\n",
      "218  2021-11-22   3.626633  6.052843  0.007704\n",
      "\n",
      "[219 rows x 4 columns]\n"
     ]
    },
    {
     "name": "stderr",
     "output_type": "stream",
     "text": [
      "\u001b[32m[I 2022-05-26 20:30:53,702]\u001b[0m A new study created in memory with name: no-name-824fcb7e-2ed2-43d5-86d8-441591958a0d\u001b[0m\n",
      "\u001b[32m[I 2022-05-26 20:30:53,787]\u001b[0m Trial 0 finished with value: 0.2099951328342587 and parameters: {'ITERATIONS': 4, 'Q': 0.9236997572413752, 'EVA_RATE': 0.9993541131780773, 'ANTS': 4}. Best is trial 0 with value: 0.2099951328342587.\u001b[0m\n",
      "\u001b[32m[I 2022-05-26 20:30:53,864]\u001b[0m Trial 1 finished with value: 0.21229563008081273 and parameters: {'ITERATIONS': 5, 'Q': 0.7118092921783913, 'EVA_RATE': 0.49388885696468954, 'ANTS': 4}. Best is trial 1 with value: 0.21229563008081273.\u001b[0m\n"
     ]
    },
    {
     "name": "stdout",
     "output_type": "stream",
     "text": [
      "           Date    Returns      Risk     Ratio\n",
      "0    2021-01-01  20.812991  6.905090  2.495694\n",
      "1    2021-01-04  20.574005  7.037955  2.414623\n",
      "2    2021-01-05  21.652565  7.046567  2.564733\n",
      "3    2021-01-06  21.859558  7.094556  2.576561\n",
      "4    2021-01-07  21.504652  7.347479  2.439565\n",
      "..          ...        ...       ...       ...\n",
      "215  2021-11-16   9.213671  6.376588  0.883493\n",
      "216  2021-11-17   6.743435  6.273331  0.504267\n",
      "217  2021-11-18   7.202314  6.142697  0.589694\n",
      "218  2021-11-22   3.626633  6.052843  0.007704\n",
      "219  2021-11-23   2.948961  6.620041 -0.095323\n",
      "\n",
      "[220 rows x 4 columns]\n"
     ]
    },
    {
     "name": "stderr",
     "output_type": "stream",
     "text": [
      "\u001b[32m[I 2022-05-26 20:30:54,027]\u001b[0m A new study created in memory with name: no-name-91146daa-20fb-4f64-85a7-45c877a3e3da\u001b[0m\n",
      "\u001b[32m[I 2022-05-26 20:30:54,112]\u001b[0m Trial 0 finished with value: 0.23061838246405705 and parameters: {'ITERATIONS': 5, 'Q': 0.48255878088138826, 'EVA_RATE': 0.8924450580963423, 'ANTS': 4}. Best is trial 0 with value: 0.23061838246405705.\u001b[0m\n",
      "\u001b[32m[I 2022-05-26 20:30:54,178]\u001b[0m Trial 1 finished with value: 0.23569716674010685 and parameters: {'ITERATIONS': 4, 'Q': 0.1597745684202266, 'EVA_RATE': 0.6892851340517138, 'ANTS': 3}. Best is trial 1 with value: 0.23569716674010685.\u001b[0m\n"
     ]
    },
    {
     "name": "stdout",
     "output_type": "stream",
     "text": [
      "           Date    Returns      Risk     Ratio\n",
      "0    2021-01-01  20.812991  6.905090  2.495694\n",
      "1    2021-01-04  20.574005  7.037955  2.414623\n",
      "2    2021-01-05  21.652565  7.046567  2.564733\n",
      "3    2021-01-06  21.859558  7.094556  2.576561\n",
      "4    2021-01-07  21.504652  7.347479  2.439565\n",
      "..          ...        ...       ...       ...\n",
      "216  2021-11-17   6.743435  6.273331  0.504267\n",
      "217  2021-11-18   7.202314  6.142697  0.589694\n",
      "218  2021-11-22   3.626633  6.052843  0.007704\n",
      "219  2021-11-23   2.948961  6.620041 -0.095323\n",
      "220  2021-11-24   3.816895  7.048465  0.033609\n",
      "\n",
      "[221 rows x 4 columns]\n"
     ]
    },
    {
     "name": "stderr",
     "output_type": "stream",
     "text": [
      "\u001b[32m[I 2022-05-26 20:30:54,328]\u001b[0m A new study created in memory with name: no-name-6ec6a063-c408-480b-992d-7c1962241776\u001b[0m\n",
      "\u001b[32m[I 2022-05-26 20:30:54,412]\u001b[0m Trial 0 finished with value: 0.2066358775396498 and parameters: {'ITERATIONS': 5, 'Q': 0.41438919522518625, 'EVA_RATE': 0.5838857551620977, 'ANTS': 2}. Best is trial 0 with value: 0.2066358775396498.\u001b[0m\n",
      "\u001b[32m[I 2022-05-26 20:30:54,479]\u001b[0m Trial 1 finished with value: 0.2072163589298598 and parameters: {'ITERATIONS': 4, 'Q': 0.696522283504475, 'EVA_RATE': 0.4346082792717737, 'ANTS': 5}. Best is trial 1 with value: 0.2072163589298598.\u001b[0m\n"
     ]
    },
    {
     "name": "stdout",
     "output_type": "stream",
     "text": [
      "           Date    Returns      Risk     Ratio\n",
      "0    2021-01-01  20.812991  6.905090  2.495694\n",
      "1    2021-01-04  20.574005  7.037955  2.414623\n",
      "2    2021-01-05  21.652565  7.046567  2.564733\n",
      "3    2021-01-06  21.859558  7.094556  2.576561\n",
      "4    2021-01-07  21.504652  7.347479  2.439565\n",
      "..          ...        ...       ...       ...\n",
      "217  2021-11-18   7.202314  6.142697  0.589694\n",
      "218  2021-11-22   3.626633  6.052843  0.007704\n",
      "219  2021-11-23   2.948961  6.620041 -0.095323\n",
      "220  2021-11-24   3.816895  7.048465  0.033609\n",
      "221  2021-11-25   2.770812  6.021465 -0.134384\n",
      "\n",
      "[222 rows x 4 columns]\n"
     ]
    },
    {
     "name": "stderr",
     "output_type": "stream",
     "text": [
      "\u001b[32m[I 2022-05-26 20:30:54,692]\u001b[0m A new study created in memory with name: no-name-406baf40-cf90-4182-91c1-8588fdf66ff7\u001b[0m\n",
      "\u001b[32m[I 2022-05-26 20:30:54,754]\u001b[0m Trial 0 finished with value: 0.20797562955356308 and parameters: {'ITERATIONS': 3, 'Q': 0.5621777215320538, 'EVA_RATE': 0.46374687409771964, 'ANTS': 2}. Best is trial 0 with value: 0.20797562955356308.\u001b[0m\n",
      "\u001b[32m[I 2022-05-26 20:30:54,813]\u001b[0m Trial 1 finished with value: 0.22755281697670746 and parameters: {'ITERATIONS': 5, 'Q': 0.8309813024974031, 'EVA_RATE': 0.7929450925784034, 'ANTS': 3}. Best is trial 1 with value: 0.22755281697670746.\u001b[0m\n"
     ]
    },
    {
     "name": "stdout",
     "output_type": "stream",
     "text": [
      "           Date    Returns      Risk     Ratio\n",
      "0    2021-01-01  20.812991  6.905090  2.495694\n",
      "1    2021-01-04  20.574005  7.037955  2.414623\n",
      "2    2021-01-05  21.652565  7.046567  2.564733\n",
      "3    2021-01-06  21.859558  7.094556  2.576561\n",
      "4    2021-01-07  21.504652  7.347479  2.439565\n",
      "..          ...        ...       ...       ...\n",
      "218  2021-11-22   3.626633  6.052843  0.007704\n",
      "219  2021-11-23   2.948961  6.620041 -0.095323\n",
      "220  2021-11-24   3.816895  7.048465  0.033609\n",
      "221  2021-11-25   2.770812  6.021465 -0.134384\n",
      "222  2021-11-26   4.055686  6.758943  0.070379\n",
      "\n",
      "[223 rows x 4 columns]\n"
     ]
    },
    {
     "name": "stderr",
     "output_type": "stream",
     "text": [
      "\u001b[32m[I 2022-05-26 20:30:54,978]\u001b[0m A new study created in memory with name: no-name-1573d5c7-6c0c-4490-a956-01069b01f238\u001b[0m\n",
      "\u001b[32m[I 2022-05-26 20:30:55,056]\u001b[0m Trial 0 finished with value: 0.19811011721229121 and parameters: {'ITERATIONS': 3, 'Q': 0.43521908441680457, 'EVA_RATE': 0.2144506894156095, 'ANTS': 4}. Best is trial 0 with value: 0.19811011721229121.\u001b[0m\n",
      "\u001b[32m[I 2022-05-26 20:30:55,128]\u001b[0m Trial 1 finished with value: 0.23075548883476787 and parameters: {'ITERATIONS': 3, 'Q': 0.6936260671558111, 'EVA_RATE': 0.8370942358381466, 'ANTS': 3}. Best is trial 1 with value: 0.23075548883476787.\u001b[0m\n"
     ]
    },
    {
     "name": "stdout",
     "output_type": "stream",
     "text": [
      "           Date    Returns      Risk     Ratio\n",
      "0    2021-01-01  20.812991  6.905090  2.495694\n",
      "1    2021-01-04  20.574005  7.037955  2.414623\n",
      "2    2021-01-05  21.652565  7.046567  2.564733\n",
      "3    2021-01-06  21.859558  7.094556  2.576561\n",
      "4    2021-01-07  21.504652  7.347479  2.439565\n",
      "..          ...        ...       ...       ...\n",
      "219  2021-11-23   2.948961  6.620041 -0.095323\n",
      "220  2021-11-24   3.816895  7.048465  0.033609\n",
      "221  2021-11-25   2.770812  6.021465 -0.134384\n",
      "222  2021-11-26   4.055686  6.758943  0.070379\n",
      "223  2021-11-29   0.461015  7.170139 -0.434996\n",
      "\n",
      "[224 rows x 4 columns]\n"
     ]
    },
    {
     "name": "stderr",
     "output_type": "stream",
     "text": [
      "\u001b[32m[I 2022-05-26 20:30:55,326]\u001b[0m A new study created in memory with name: no-name-47740633-3350-4b20-9485-9d4d97b0ab5d\u001b[0m\n",
      "\u001b[32m[I 2022-05-26 20:30:55,403]\u001b[0m Trial 0 finished with value: 0.2484690863255743 and parameters: {'ITERATIONS': 4, 'Q': 0.7231271067129319, 'EVA_RATE': 0.7814376739623762, 'ANTS': 3}. Best is trial 0 with value: 0.2484690863255743.\u001b[0m\n",
      "\u001b[32m[I 2022-05-26 20:30:55,477]\u001b[0m Trial 1 finished with value: 0.22248531571818803 and parameters: {'ITERATIONS': 3, 'Q': 0.850290321598861, 'EVA_RATE': 0.6736803955370465, 'ANTS': 4}. Best is trial 0 with value: 0.2484690863255743.\u001b[0m\n"
     ]
    },
    {
     "name": "stdout",
     "output_type": "stream",
     "text": [
      "           Date    Returns      Risk     Ratio\n",
      "0    2021-01-01  20.812991  6.905090  2.495694\n",
      "1    2021-01-04  20.574005  7.037955  2.414623\n",
      "2    2021-01-05  21.652565  7.046567  2.564733\n",
      "3    2021-01-06  21.859558  7.094556  2.576561\n",
      "4    2021-01-07  21.504652  7.347479  2.439565\n",
      "..          ...        ...       ...       ...\n",
      "220  2021-11-24   3.816895  7.048465  0.033609\n",
      "221  2021-11-25   2.770812  6.021465 -0.134384\n",
      "222  2021-11-26   4.055686  6.758943  0.070379\n",
      "223  2021-11-29   0.461015  7.170139 -0.434996\n",
      "224  2021-11-30   1.033995  7.650276 -0.332799\n",
      "\n",
      "[225 rows x 4 columns]\n"
     ]
    },
    {
     "name": "stderr",
     "output_type": "stream",
     "text": [
      "\u001b[32m[I 2022-05-26 20:30:55,689]\u001b[0m A new study created in memory with name: no-name-378b0f6e-9802-49e4-91cc-098456eea33d\u001b[0m\n",
      "\u001b[32m[I 2022-05-26 20:30:55,772]\u001b[0m Trial 0 finished with value: 0.21784977209903492 and parameters: {'ITERATIONS': 3, 'Q': 0.5271563407458927, 'EVA_RATE': 0.5883439335573779, 'ANTS': 3}. Best is trial 0 with value: 0.21784977209903492.\u001b[0m\n",
      "\u001b[32m[I 2022-05-26 20:30:55,860]\u001b[0m Trial 1 finished with value: 0.2572742266435579 and parameters: {'ITERATIONS': 5, 'Q': 0.8737445520703218, 'EVA_RATE': 0.17553086470455576, 'ANTS': 3}. Best is trial 1 with value: 0.2572742266435579.\u001b[0m\n"
     ]
    },
    {
     "name": "stdout",
     "output_type": "stream",
     "text": [
      "           Date    Returns      Risk     Ratio\n",
      "0    2021-01-01  20.812991  6.905090  2.495694\n",
      "1    2021-01-04  20.574005  7.037955  2.414623\n",
      "2    2021-01-05  21.652565  7.046567  2.564733\n",
      "3    2021-01-06  21.859558  7.094556  2.576561\n",
      "4    2021-01-07  21.504652  7.347479  2.439565\n",
      "..          ...        ...       ...       ...\n",
      "221  2021-11-25   2.770812  6.021465 -0.134384\n",
      "222  2021-11-26   4.055686  6.758943  0.070379\n",
      "223  2021-11-29   0.461015  7.170139 -0.434996\n",
      "224  2021-11-30   1.033995  7.650276 -0.332799\n",
      "225  2021-12-01  -0.346765  7.374570 -0.532474\n",
      "\n",
      "[226 rows x 4 columns]\n"
     ]
    },
    {
     "name": "stderr",
     "output_type": "stream",
     "text": [
      "\u001b[32m[I 2022-05-26 20:30:56,024]\u001b[0m A new study created in memory with name: no-name-b20b2a7f-3de2-4006-a254-39726a6142cb\u001b[0m\n",
      "\u001b[32m[I 2022-05-26 20:30:56,094]\u001b[0m Trial 0 finished with value: 0.25676617538113283 and parameters: {'ITERATIONS': 5, 'Q': 0.4740394073578308, 'EVA_RATE': 0.37942674098426976, 'ANTS': 2}. Best is trial 0 with value: 0.25676617538113283.\u001b[0m\n",
      "\u001b[32m[I 2022-05-26 20:30:56,173]\u001b[0m Trial 1 finished with value: 0.22603377088406268 and parameters: {'ITERATIONS': 4, 'Q': 0.7521681877288746, 'EVA_RATE': 0.671087125476566, 'ANTS': 2}. Best is trial 0 with value: 0.25676617538113283.\u001b[0m\n"
     ]
    },
    {
     "name": "stdout",
     "output_type": "stream",
     "text": [
      "           Date    Returns      Risk     Ratio\n",
      "0    2021-01-01  20.812991  6.905090  2.495694\n",
      "1    2021-01-04  20.574005  7.037955  2.414623\n",
      "2    2021-01-05  21.652565  7.046567  2.564733\n",
      "3    2021-01-06  21.859558  7.094556  2.576561\n",
      "4    2021-01-07  21.504652  7.347479  2.439565\n",
      "..          ...        ...       ...       ...\n",
      "222  2021-11-26   4.055686  6.758943  0.070379\n",
      "223  2021-11-29   0.461015  7.170139 -0.434996\n",
      "224  2021-11-30   1.033995  7.650276 -0.332799\n",
      "225  2021-12-01  -0.346765  7.374570 -0.532474\n",
      "226  2021-12-02  -1.840936  7.298243 -0.742773\n",
      "\n",
      "[227 rows x 4 columns]\n"
     ]
    },
    {
     "name": "stderr",
     "output_type": "stream",
     "text": [
      "\u001b[32m[I 2022-05-26 20:30:56,390]\u001b[0m A new study created in memory with name: no-name-0c2a9159-acf7-43bd-9012-11874f457861\u001b[0m\n",
      "\u001b[32m[I 2022-05-26 20:30:56,471]\u001b[0m Trial 0 finished with value: 0.2312052851385229 and parameters: {'ITERATIONS': 3, 'Q': 0.23664197927339425, 'EVA_RATE': 0.3760764299078275, 'ANTS': 3}. Best is trial 0 with value: 0.2312052851385229.\u001b[0m\n",
      "\u001b[32m[I 2022-05-26 20:30:56,544]\u001b[0m Trial 1 finished with value: 0.22009994356693455 and parameters: {'ITERATIONS': 2, 'Q': 0.8394347761037394, 'EVA_RATE': 0.5189860819991701, 'ANTS': 3}. Best is trial 0 with value: 0.2312052851385229.\u001b[0m\n"
     ]
    },
    {
     "name": "stdout",
     "output_type": "stream",
     "text": [
      "           Date    Returns      Risk     Ratio\n",
      "0    2021-01-01  20.812991  6.905090  2.495694\n",
      "1    2021-01-04  20.574005  7.037955  2.414623\n",
      "2    2021-01-05  21.652565  7.046567  2.564733\n",
      "3    2021-01-06  21.859558  7.094556  2.576561\n",
      "4    2021-01-07  21.504652  7.347479  2.439565\n",
      "..          ...        ...       ...       ...\n",
      "223  2021-11-29   0.461015  7.170139 -0.434996\n",
      "224  2021-11-30   1.033995  7.650276 -0.332799\n",
      "225  2021-12-01  -0.346765  7.374570 -0.532474\n",
      "226  2021-12-02  -1.840936  7.298243 -0.742773\n",
      "227  2021-12-03   0.128091  6.835688 -0.504983\n",
      "\n",
      "[228 rows x 4 columns]\n"
     ]
    },
    {
     "name": "stderr",
     "output_type": "stream",
     "text": [
      "\u001b[32m[I 2022-05-26 20:30:56,727]\u001b[0m A new study created in memory with name: no-name-2f5a74c7-3f7a-4086-b4fa-45af937ed07e\u001b[0m\n",
      "\u001b[32m[I 2022-05-26 20:30:56,810]\u001b[0m Trial 0 finished with value: 0.21832255333578063 and parameters: {'ITERATIONS': 2, 'Q': 0.9518122344079307, 'EVA_RATE': 0.9437730360160644, 'ANTS': 3}. Best is trial 0 with value: 0.21832255333578063.\u001b[0m\n",
      "\u001b[32m[I 2022-05-26 20:30:56,910]\u001b[0m Trial 1 finished with value: 0.25576454303718377 and parameters: {'ITERATIONS': 4, 'Q': 0.7604459409159462, 'EVA_RATE': 0.6904844264264185, 'ANTS': 4}. Best is trial 1 with value: 0.25576454303718377.\u001b[0m\n"
     ]
    },
    {
     "name": "stdout",
     "output_type": "stream",
     "text": [
      "           Date    Returns      Risk     Ratio\n",
      "0    2021-01-01  20.812991  6.905090  2.495694\n",
      "1    2021-01-04  20.574005  7.037955  2.414623\n",
      "2    2021-01-05  21.652565  7.046567  2.564733\n",
      "3    2021-01-06  21.859558  7.094556  2.576561\n",
      "4    2021-01-07  21.504652  7.347479  2.439565\n",
      "..          ...        ...       ...       ...\n",
      "224  2021-11-30   1.033995  7.650276 -0.332799\n",
      "225  2021-12-01  -0.346765  7.374570 -0.532474\n",
      "226  2021-12-02  -1.840936  7.298243 -0.742773\n",
      "227  2021-12-03   0.128091  6.835688 -0.504983\n",
      "228  2021-12-06  -1.371740  7.275401 -0.680614\n",
      "\n",
      "[229 rows x 4 columns]\n"
     ]
    },
    {
     "name": "stderr",
     "output_type": "stream",
     "text": [
      "\u001b[32m[I 2022-05-26 20:30:57,092]\u001b[0m A new study created in memory with name: no-name-4906a02b-76df-4c3a-80b2-2c48a6c1f0a9\u001b[0m\n",
      "\u001b[32m[I 2022-05-26 20:30:57,193]\u001b[0m Trial 0 finished with value: 0.24350712539581051 and parameters: {'ITERATIONS': 4, 'Q': 0.16383837948796143, 'EVA_RATE': 0.457256341533009, 'ANTS': 5}. Best is trial 0 with value: 0.24350712539581051.\u001b[0m\n",
      "\u001b[32m[I 2022-05-26 20:30:57,269]\u001b[0m Trial 1 finished with value: 0.22700138780972004 and parameters: {'ITERATIONS': 5, 'Q': 0.7273781747535969, 'EVA_RATE': 0.34642022527846517, 'ANTS': 3}. Best is trial 0 with value: 0.24350712539581051.\u001b[0m\n"
     ]
    },
    {
     "name": "stdout",
     "output_type": "stream",
     "text": [
      "           Date    Returns      Risk     Ratio\n",
      "0    2021-01-01  20.812991  6.905090  2.495694\n",
      "1    2021-01-04  20.574005  7.037955  2.414623\n",
      "2    2021-01-05  21.652565  7.046567  2.564733\n",
      "3    2021-01-06  21.859558  7.094556  2.576561\n",
      "4    2021-01-07  21.504652  7.347479  2.439565\n",
      "..          ...        ...       ...       ...\n",
      "225  2021-12-01  -0.346765  7.374570 -0.532474\n",
      "226  2021-12-02  -1.840936  7.298243 -0.742773\n",
      "227  2021-12-03   0.128091  6.835688 -0.504983\n",
      "228  2021-12-06  -1.371740  7.275401 -0.680614\n",
      "229  2021-12-07  -2.788152  6.940212 -0.917573\n",
      "\n",
      "[230 rows x 4 columns]\n"
     ]
    },
    {
     "name": "stderr",
     "output_type": "stream",
     "text": [
      "\u001b[32m[I 2022-05-26 20:30:57,470]\u001b[0m A new study created in memory with name: no-name-511be4e6-f217-4668-9384-4a8b84924bae\u001b[0m\n",
      "\u001b[32m[I 2022-05-26 20:30:57,543]\u001b[0m Trial 0 finished with value: 0.20977575200561213 and parameters: {'ITERATIONS': 3, 'Q': 0.7871405721769934, 'EVA_RATE': 0.9165201866922142, 'ANTS': 4}. Best is trial 0 with value: 0.20977575200561213.\u001b[0m\n"
     ]
    },
    {
     "name": "stdout",
     "output_type": "stream",
     "text": [
      "           Date    Returns      Risk     Ratio\n",
      "0    2021-01-01  20.812991  6.905090  2.495694\n",
      "1    2021-01-04  20.574005  7.037955  2.414623\n",
      "2    2021-01-05  21.652565  7.046567  2.564733\n",
      "3    2021-01-06  21.859558  7.094556  2.576561\n",
      "4    2021-01-07  21.504652  7.347479  2.439565\n",
      "..          ...        ...       ...       ...\n",
      "226  2021-12-02  -1.840936  7.298243 -0.742773\n",
      "227  2021-12-03   0.128091  6.835688 -0.504983\n",
      "228  2021-12-06  -1.371740  7.275401 -0.680614\n",
      "229  2021-12-07  -2.788152  6.940212 -0.917573\n",
      "230  2021-12-08  -1.900659  7.967386 -0.687887\n",
      "\n",
      "[231 rows x 4 columns]\n"
     ]
    },
    {
     "name": "stderr",
     "output_type": "stream",
     "text": [
      "\u001b[32m[I 2022-05-26 20:30:57,644]\u001b[0m Trial 1 finished with value: 0.21879614577620207 and parameters: {'ITERATIONS': 5, 'Q': 0.2705644571510878, 'EVA_RATE': 0.32990020328392883, 'ANTS': 4}. Best is trial 1 with value: 0.21879614577620207.\u001b[0m\n",
      "\u001b[32m[I 2022-05-26 20:30:57,902]\u001b[0m A new study created in memory with name: no-name-4c246167-83f1-47d9-b2aa-4995f299e0f7\u001b[0m\n",
      "\u001b[32m[I 2022-05-26 20:30:57,978]\u001b[0m Trial 0 finished with value: 0.22459821954593487 and parameters: {'ITERATIONS': 3, 'Q': 0.44368979289278054, 'EVA_RATE': 0.6728842737885956, 'ANTS': 4}. Best is trial 0 with value: 0.22459821954593487.\u001b[0m\n",
      "\u001b[32m[I 2022-05-26 20:30:58,044]\u001b[0m Trial 1 finished with value: 0.2168981788710341 and parameters: {'ITERATIONS': 3, 'Q': 0.46459809510185435, 'EVA_RATE': 0.32193437745502507, 'ANTS': 3}. Best is trial 0 with value: 0.22459821954593487.\u001b[0m\n"
     ]
    },
    {
     "name": "stdout",
     "output_type": "stream",
     "text": [
      "           Date    Returns      Risk     Ratio\n",
      "0    2021-01-01  20.812991  6.905090  2.495694\n",
      "1    2021-01-04  20.574005  7.037955  2.414623\n",
      "2    2021-01-05  21.652565  7.046567  2.564733\n",
      "3    2021-01-06  21.859558  7.094556  2.576561\n",
      "4    2021-01-07  21.504652  7.347479  2.439565\n",
      "..          ...        ...       ...       ...\n",
      "227  2021-12-03   0.128091  6.835688 -0.504983\n",
      "228  2021-12-06  -1.371740  7.275401 -0.680614\n",
      "229  2021-12-07  -2.788152  6.940212 -0.917573\n",
      "230  2021-12-08  -1.900659  7.967386 -0.687887\n",
      "231  2021-12-09  -0.092759  7.837141 -0.468635\n",
      "\n",
      "[232 rows x 4 columns]\n"
     ]
    },
    {
     "name": "stderr",
     "output_type": "stream",
     "text": [
      "\u001b[32m[I 2022-05-26 20:30:58,224]\u001b[0m A new study created in memory with name: no-name-ed8b1911-d567-4ef0-b61f-8ff1d16c56e2\u001b[0m\n",
      "\u001b[32m[I 2022-05-26 20:30:58,304]\u001b[0m Trial 0 finished with value: 0.21987067493734597 and parameters: {'ITERATIONS': 4, 'Q': 0.3501260063298993, 'EVA_RATE': 0.935921480127781, 'ANTS': 5}. Best is trial 0 with value: 0.21987067493734597.\u001b[0m\n",
      "\u001b[32m[I 2022-05-26 20:30:58,385]\u001b[0m Trial 1 finished with value: 0.23564100030862156 and parameters: {'ITERATIONS': 4, 'Q': 0.5907479133211763, 'EVA_RATE': 0.7097516402239076, 'ANTS': 5}. Best is trial 1 with value: 0.23564100030862156.\u001b[0m\n"
     ]
    },
    {
     "name": "stdout",
     "output_type": "stream",
     "text": [
      "           Date    Returns      Risk     Ratio\n",
      "0    2021-01-01  20.812991  6.905090  2.495694\n",
      "1    2021-01-04  20.574005  7.037955  2.414623\n",
      "2    2021-01-05  21.652565  7.046567  2.564733\n",
      "3    2021-01-06  21.859558  7.094556  2.576561\n",
      "4    2021-01-07  21.504652  7.347479  2.439565\n",
      "..          ...        ...       ...       ...\n",
      "228  2021-12-06  -1.371740  7.275401 -0.680614\n",
      "229  2021-12-07  -2.788152  6.940212 -0.917573\n",
      "230  2021-12-08  -1.900659  7.967386 -0.687887\n",
      "231  2021-12-09  -0.092759  7.837141 -0.468635\n",
      "232  2021-12-10  -1.032654  7.365917 -0.626216\n",
      "\n",
      "[233 rows x 4 columns]\n"
     ]
    },
    {
     "name": "stderr",
     "output_type": "stream",
     "text": [
      "\u001b[32m[I 2022-05-26 20:30:58,588]\u001b[0m A new study created in memory with name: no-name-1c1868b2-9234-4ea9-b0a3-b73d76bc5be3\u001b[0m\n",
      "\u001b[32m[I 2022-05-26 20:30:58,659]\u001b[0m Trial 0 finished with value: 0.2279950542450377 and parameters: {'ITERATIONS': 3, 'Q': 0.7782410388387335, 'EVA_RATE': 0.6554298937094691, 'ANTS': 4}. Best is trial 0 with value: 0.2279950542450377.\u001b[0m\n",
      "\u001b[32m[I 2022-05-26 20:30:58,715]\u001b[0m Trial 1 finished with value: 0.23315754005616612 and parameters: {'ITERATIONS': 3, 'Q': 0.7633718861467048, 'EVA_RATE': 0.9157934072133075, 'ANTS': 3}. Best is trial 1 with value: 0.23315754005616612.\u001b[0m\n"
     ]
    },
    {
     "name": "stdout",
     "output_type": "stream",
     "text": [
      "           Date    Returns      Risk     Ratio\n",
      "0    2021-01-01  20.812991  6.905090  2.495694\n",
      "1    2021-01-04  20.574005  7.037955  2.414623\n",
      "2    2021-01-05  21.652565  7.046567  2.564733\n",
      "3    2021-01-06  21.859558  7.094556  2.576561\n",
      "4    2021-01-07  21.504652  7.347479  2.439565\n",
      "..          ...        ...       ...       ...\n",
      "229  2021-12-07  -2.788152  6.940212 -0.917573\n",
      "230  2021-12-08  -1.900659  7.967386 -0.687887\n",
      "231  2021-12-09  -0.092759  7.837141 -0.468635\n",
      "232  2021-12-10  -1.032654  7.365917 -0.626216\n",
      "233  2021-12-13  -0.627973  7.684784 -0.547572\n",
      "\n",
      "[234 rows x 4 columns]\n"
     ]
    },
    {
     "name": "stderr",
     "output_type": "stream",
     "text": [
      "\u001b[32m[I 2022-05-26 20:30:58,908]\u001b[0m A new study created in memory with name: no-name-9bbc24bd-4247-4854-854f-72dfb7d77251\u001b[0m\n",
      "\u001b[32m[I 2022-05-26 20:30:58,991]\u001b[0m Trial 0 finished with value: 0.22786256306266336 and parameters: {'ITERATIONS': 3, 'Q': 0.4396441418062236, 'EVA_RATE': 0.13518932780704843, 'ANTS': 5}. Best is trial 0 with value: 0.22786256306266336.\u001b[0m\n",
      "\u001b[32m[I 2022-05-26 20:30:59,051]\u001b[0m Trial 1 finished with value: 0.22891496379574594 and parameters: {'ITERATIONS': 3, 'Q': 0.911000391268481, 'EVA_RATE': 0.8307871348774226, 'ANTS': 3}. Best is trial 1 with value: 0.22891496379574594.\u001b[0m\n"
     ]
    },
    {
     "name": "stdout",
     "output_type": "stream",
     "text": [
      "           Date    Returns      Risk     Ratio\n",
      "0    2021-01-01  20.812991  6.905090  2.495694\n",
      "1    2021-01-04  20.574005  7.037955  2.414623\n",
      "2    2021-01-05  21.652565  7.046567  2.564733\n",
      "3    2021-01-06  21.859558  7.094556  2.576561\n",
      "4    2021-01-07  21.504652  7.347479  2.439565\n",
      "..          ...        ...       ...       ...\n",
      "230  2021-12-08  -1.900659  7.967386 -0.687887\n",
      "231  2021-12-09  -0.092759  7.837141 -0.468635\n",
      "232  2021-12-10  -1.032654  7.365917 -0.626216\n",
      "233  2021-12-13  -0.627973  7.684784 -0.547572\n",
      "234  2021-12-14  -1.533886  7.890423 -0.648113\n",
      "\n",
      "[235 rows x 4 columns]\n"
     ]
    },
    {
     "name": "stderr",
     "output_type": "stream",
     "text": [
      "\u001b[32m[I 2022-05-26 20:30:59,224]\u001b[0m A new study created in memory with name: no-name-186dce98-e4ce-4e67-b8ae-04a1f83871d8\u001b[0m\n",
      "\u001b[32m[I 2022-05-26 20:30:59,293]\u001b[0m Trial 0 finished with value: 0.23033156445394873 and parameters: {'ITERATIONS': 3, 'Q': 0.858146943707971, 'EVA_RATE': 0.7386482729098677, 'ANTS': 2}. Best is trial 0 with value: 0.23033156445394873.\u001b[0m\n",
      "\u001b[32m[I 2022-05-26 20:30:59,359]\u001b[0m Trial 1 finished with value: 0.21537902829779562 and parameters: {'ITERATIONS': 4, 'Q': 0.9897144943300852, 'EVA_RATE': 0.18553436125627099, 'ANTS': 4}. Best is trial 0 with value: 0.23033156445394873.\u001b[0m\n"
     ]
    },
    {
     "name": "stdout",
     "output_type": "stream",
     "text": [
      "           Date    Returns      Risk     Ratio\n",
      "0    2021-01-01  20.812991  6.905090  2.495694\n",
      "1    2021-01-04  20.574005  7.037955  2.414623\n",
      "2    2021-01-05  21.652565  7.046567  2.564733\n",
      "3    2021-01-06  21.859558  7.094556  2.576561\n",
      "4    2021-01-07  21.504652  7.347479  2.439565\n",
      "..          ...        ...       ...       ...\n",
      "231  2021-12-09  -0.092759  7.837141 -0.468635\n",
      "232  2021-12-10  -1.032654  7.365917 -0.626216\n",
      "233  2021-12-13  -0.627973  7.684784 -0.547572\n",
      "234  2021-12-14  -1.533886  7.890423 -0.648113\n",
      "235  2021-12-15  -1.417464  7.803447 -0.640418\n",
      "\n",
      "[236 rows x 4 columns]\n"
     ]
    },
    {
     "name": "stderr",
     "output_type": "stream",
     "text": [
      "\u001b[32m[I 2022-05-26 20:30:59,518]\u001b[0m A new study created in memory with name: no-name-576459f7-cbce-41d7-a1ff-09624a3e841f\u001b[0m\n",
      "\u001b[32m[I 2022-05-26 20:30:59,580]\u001b[0m Trial 0 finished with value: 0.2360242643962913 and parameters: {'ITERATIONS': 2, 'Q': 0.6444077746737368, 'EVA_RATE': 0.14460982979307543, 'ANTS': 4}. Best is trial 0 with value: 0.2360242643962913.\u001b[0m\n",
      "\u001b[32m[I 2022-05-26 20:30:59,654]\u001b[0m Trial 1 finished with value: 0.22396942541802128 and parameters: {'ITERATIONS': 2, 'Q': 0.4873829904949537, 'EVA_RATE': 0.8777690356769535, 'ANTS': 2}. Best is trial 0 with value: 0.2360242643962913.\u001b[0m\n"
     ]
    },
    {
     "name": "stdout",
     "output_type": "stream",
     "text": [
      "           Date    Returns      Risk     Ratio\n",
      "0    2021-01-01  20.812991  6.905090  2.495694\n",
      "1    2021-01-04  20.574005  7.037955  2.414623\n",
      "2    2021-01-05  21.652565  7.046567  2.564733\n",
      "3    2021-01-06  21.859558  7.094556  2.576561\n",
      "4    2021-01-07  21.504652  7.347479  2.439565\n",
      "..          ...        ...       ...       ...\n",
      "232  2021-12-10  -1.032654  7.365917 -0.626216\n",
      "233  2021-12-13  -0.627973  7.684784 -0.547572\n",
      "234  2021-12-14  -1.533886  7.890423 -0.648113\n",
      "235  2021-12-15  -1.417464  7.803447 -0.640418\n",
      "236  2021-12-16  -2.600625  8.281269 -0.746338\n",
      "\n",
      "[237 rows x 4 columns]\n"
     ]
    },
    {
     "name": "stderr",
     "output_type": "stream",
     "text": [
      "\u001b[32m[I 2022-05-26 20:30:59,795]\u001b[0m A new study created in memory with name: no-name-6fb6a461-7b90-43be-b300-5e01f45de6c9\u001b[0m\n",
      "\u001b[32m[I 2022-05-26 20:30:59,845]\u001b[0m Trial 0 finished with value: 0.21936398533871357 and parameters: {'ITERATIONS': 3, 'Q': 0.19992207394028993, 'EVA_RATE': 0.6515339568866628, 'ANTS': 5}. Best is trial 0 with value: 0.21936398533871357.\u001b[0m\n",
      "\u001b[32m[I 2022-05-26 20:30:59,924]\u001b[0m Trial 1 finished with value: 0.2571523103427409 and parameters: {'ITERATIONS': 4, 'Q': 0.529028204605422, 'EVA_RATE': 0.4103143583989953, 'ANTS': 4}. Best is trial 1 with value: 0.2571523103427409.\u001b[0m\n"
     ]
    },
    {
     "name": "stdout",
     "output_type": "stream",
     "text": [
      "           Date    Returns      Risk     Ratio\n",
      "0    2021-01-01  20.812991  6.905090  2.495694\n",
      "1    2021-01-04  20.574005  7.037955  2.414623\n",
      "2    2021-01-05  21.652565  7.046567  2.564733\n",
      "3    2021-01-06  21.859558  7.094556  2.576561\n",
      "4    2021-01-07  21.504652  7.347479  2.439565\n",
      "..          ...        ...       ...       ...\n",
      "233  2021-12-13  -0.627973  7.684784 -0.547572\n",
      "234  2021-12-14  -1.533886  7.890423 -0.648113\n",
      "235  2021-12-15  -1.417464  7.803447 -0.640418\n",
      "236  2021-12-16  -2.600625  8.281269 -0.746338\n",
      "237  2021-12-17  -1.317377  7.759473 -0.631148\n",
      "\n",
      "[238 rows x 4 columns]\n"
     ]
    },
    {
     "name": "stderr",
     "output_type": "stream",
     "text": [
      "\u001b[32m[I 2022-05-26 20:31:00,123]\u001b[0m A new study created in memory with name: no-name-ed893ac0-2bac-4cde-856f-3964ea4a4a24\u001b[0m\n",
      "\u001b[32m[I 2022-05-26 20:31:00,192]\u001b[0m Trial 0 finished with value: 0.2246707333613764 and parameters: {'ITERATIONS': 5, 'Q': 0.9321563067093667, 'EVA_RATE': 0.17996577189531038, 'ANTS': 2}. Best is trial 0 with value: 0.2246707333613764.\u001b[0m\n",
      "\u001b[32m[I 2022-05-26 20:31:00,231]\u001b[0m Trial 1 finished with value: 0.22895459916723185 and parameters: {'ITERATIONS': 2, 'Q': 0.12566791925079918, 'EVA_RATE': 0.7146092510935514, 'ANTS': 2}. Best is trial 1 with value: 0.22895459916723185.\u001b[0m\n"
     ]
    },
    {
     "name": "stdout",
     "output_type": "stream",
     "text": [
      "           Date    Returns      Risk     Ratio\n",
      "0    2021-01-01  20.812991  6.905090  2.495694\n",
      "1    2021-01-04  20.574005  7.037955  2.414623\n",
      "2    2021-01-05  21.652565  7.046567  2.564733\n",
      "3    2021-01-06  21.859558  7.094556  2.576561\n",
      "4    2021-01-07  21.504652  7.347479  2.439565\n",
      "..          ...        ...       ...       ...\n",
      "234  2021-12-14  -1.533886  7.890423 -0.648113\n",
      "235  2021-12-15  -1.417464  7.803447 -0.640418\n",
      "236  2021-12-16  -2.600625  8.281269 -0.746338\n",
      "237  2021-12-17  -1.317377  7.759473 -0.631148\n",
      "238  2021-12-20  -3.570276  7.342399 -0.973834\n",
      "\n",
      "[239 rows x 4 columns]\n"
     ]
    },
    {
     "name": "stderr",
     "output_type": "stream",
     "text": [
      "\u001b[32m[I 2022-05-26 20:31:00,386]\u001b[0m A new study created in memory with name: no-name-2ebfcf68-b1a2-497e-87c4-a00fa2d4e25a\u001b[0m\n",
      "\u001b[32m[I 2022-05-26 20:31:00,456]\u001b[0m Trial 0 finished with value: 0.25796693123356834 and parameters: {'ITERATIONS': 5, 'Q': 0.10274899985885913, 'EVA_RATE': 0.4214972725640077, 'ANTS': 3}. Best is trial 0 with value: 0.25796693123356834.\u001b[0m\n",
      "\u001b[32m[I 2022-05-26 20:31:00,496]\u001b[0m Trial 1 finished with value: 0.23869800877946407 and parameters: {'ITERATIONS': 2, 'Q': 0.27951429100896374, 'EVA_RATE': 0.672901712523473, 'ANTS': 3}. Best is trial 0 with value: 0.25796693123356834.\u001b[0m\n"
     ]
    },
    {
     "name": "stdout",
     "output_type": "stream",
     "text": [
      "           Date    Returns      Risk     Ratio\n",
      "0    2021-01-01  20.812991  6.905090  2.495694\n",
      "1    2021-01-04  20.574005  7.037955  2.414623\n",
      "2    2021-01-05  21.652565  7.046567  2.564733\n",
      "3    2021-01-06  21.859558  7.094556  2.576561\n",
      "4    2021-01-07  21.504652  7.347479  2.439565\n",
      "..          ...        ...       ...       ...\n",
      "235  2021-12-15  -1.417464  7.803447 -0.640418\n",
      "236  2021-12-16  -2.600625  8.281269 -0.746338\n",
      "237  2021-12-17  -1.317377  7.759473 -0.631148\n",
      "238  2021-12-20  -3.570276  7.342399 -0.973834\n",
      "239  2021-12-21  -4.040784  8.100325 -0.940800\n",
      "\n",
      "[240 rows x 4 columns]\n"
     ]
    },
    {
     "name": "stderr",
     "output_type": "stream",
     "text": [
      "\u001b[32m[I 2022-05-26 20:31:00,670]\u001b[0m A new study created in memory with name: no-name-3974f5b1-620d-4196-89e1-25fc515eb650\u001b[0m\n",
      "\u001b[32m[I 2022-05-26 20:31:00,744]\u001b[0m Trial 0 finished with value: 0.21301216956957045 and parameters: {'ITERATIONS': 3, 'Q': 0.21553788622152187, 'EVA_RATE': 0.9866111561069087, 'ANTS': 2}. Best is trial 0 with value: 0.21301216956957045.\u001b[0m\n",
      "\u001b[32m[I 2022-05-26 20:31:00,817]\u001b[0m Trial 1 finished with value: 0.21124361918149118 and parameters: {'ITERATIONS': 5, 'Q': 0.318891285227499, 'EVA_RATE': 0.9012597526337096, 'ANTS': 2}. Best is trial 0 with value: 0.21301216956957045.\u001b[0m\n"
     ]
    },
    {
     "name": "stdout",
     "output_type": "stream",
     "text": [
      "           Date    Returns      Risk     Ratio\n",
      "0    2021-01-01  20.812991  6.905090  2.495694\n",
      "1    2021-01-04  20.574005  7.037955  2.414623\n",
      "2    2021-01-05  21.652565  7.046567  2.564733\n",
      "3    2021-01-06  21.859558  7.094556  2.576561\n",
      "4    2021-01-07  21.504652  7.347479  2.439565\n",
      "..          ...        ...       ...       ...\n",
      "236  2021-12-16  -2.600625  8.281269 -0.746338\n",
      "237  2021-12-17  -1.317377  7.759473 -0.631148\n",
      "238  2021-12-20  -3.570276  7.342399 -0.973834\n",
      "239  2021-12-21  -4.040784  8.100325 -0.940800\n",
      "240  2021-12-22  -4.787392  7.390139 -1.132238\n",
      "\n",
      "[241 rows x 4 columns]\n"
     ]
    },
    {
     "name": "stderr",
     "output_type": "stream",
     "text": [
      "\u001b[32m[I 2022-05-26 20:31:00,959]\u001b[0m A new study created in memory with name: no-name-e43b512a-46ce-4fa4-a28d-3c418193c8be\u001b[0m\n",
      "\u001b[32m[I 2022-05-26 20:31:01,026]\u001b[0m Trial 0 finished with value: 0.2358354480985634 and parameters: {'ITERATIONS': 3, 'Q': 0.38187052711689196, 'EVA_RATE': 0.3202298245242906, 'ANTS': 3}. Best is trial 0 with value: 0.2358354480985634.\u001b[0m\n",
      "\u001b[32m[I 2022-05-26 20:31:01,097]\u001b[0m Trial 1 finished with value: 0.2333648523175308 and parameters: {'ITERATIONS': 5, 'Q': 0.9381140171081719, 'EVA_RATE': 0.1316490216884152, 'ANTS': 5}. Best is trial 0 with value: 0.2358354480985634.\u001b[0m\n"
     ]
    },
    {
     "name": "stdout",
     "output_type": "stream",
     "text": [
      "           Date    Returns      Risk     Ratio\n",
      "0    2021-01-01  20.812991  6.905090  2.495694\n",
      "1    2021-01-04  20.574005  7.037955  2.414623\n",
      "2    2021-01-05  21.652565  7.046567  2.564733\n",
      "3    2021-01-06  21.859558  7.094556  2.576561\n",
      "4    2021-01-07  21.504652  7.347479  2.439565\n",
      "..          ...        ...       ...       ...\n",
      "237  2021-12-17  -1.317377  7.759473 -0.631148\n",
      "238  2021-12-20  -3.570276  7.342399 -0.973834\n",
      "239  2021-12-21  -4.040784  8.100325 -0.940800\n",
      "240  2021-12-22  -4.787392  7.390139 -1.132238\n",
      "241  2021-12-23  -2.517918  7.825347 -0.779252\n",
      "\n",
      "[242 rows x 4 columns]\n"
     ]
    },
    {
     "name": "stderr",
     "output_type": "stream",
     "text": [
      "\u001b[32m[I 2022-05-26 20:31:01,258]\u001b[0m A new study created in memory with name: no-name-e9859d7c-4f2c-4e27-a854-41b39fc6ccc0\u001b[0m\n",
      "\u001b[32m[I 2022-05-26 20:31:01,338]\u001b[0m Trial 0 finished with value: 0.22404410003513953 and parameters: {'ITERATIONS': 5, 'Q': 0.6774096307264568, 'EVA_RATE': 0.4455006967463897, 'ANTS': 4}. Best is trial 0 with value: 0.22404410003513953.\u001b[0m\n",
      "\u001b[32m[I 2022-05-26 20:31:01,424]\u001b[0m Trial 1 finished with value: 0.22849984368315243 and parameters: {'ITERATIONS': 3, 'Q': 0.30447775098675933, 'EVA_RATE': 0.4687638232630492, 'ANTS': 5}. Best is trial 1 with value: 0.22849984368315243.\u001b[0m\n"
     ]
    },
    {
     "name": "stdout",
     "output_type": "stream",
     "text": [
      "           Date    Returns      Risk     Ratio\n",
      "0    2021-01-01  20.812991  6.905090  2.495694\n",
      "1    2021-01-04  20.574005  7.037955  2.414623\n",
      "2    2021-01-05  21.652565  7.046567  2.564733\n",
      "3    2021-01-06  21.859558  7.094556  2.576561\n",
      "4    2021-01-07  21.504652  7.347479  2.439565\n",
      "..          ...        ...       ...       ...\n",
      "238  2021-12-20  -3.570276  7.342399 -0.973834\n",
      "239  2021-12-21  -4.040784  8.100325 -0.940800\n",
      "240  2021-12-22  -4.787392  7.390139 -1.132238\n",
      "241  2021-12-23  -2.517918  7.825347 -0.779252\n",
      "242  2021-12-24  -2.228094  7.739938 -0.750406\n",
      "\n",
      "[243 rows x 4 columns]\n"
     ]
    },
    {
     "name": "stderr",
     "output_type": "stream",
     "text": [
      "\u001b[32m[I 2022-05-26 20:31:01,591]\u001b[0m A new study created in memory with name: no-name-a2ec0199-0344-42f7-a3a4-2fbc60ee2410\u001b[0m\n",
      "\u001b[32m[I 2022-05-26 20:31:01,684]\u001b[0m Trial 0 finished with value: 0.22832567348766963 and parameters: {'ITERATIONS': 3, 'Q': 0.17362147363355737, 'EVA_RATE': 0.8182577708664099, 'ANTS': 3}. Best is trial 0 with value: 0.22832567348766963.\u001b[0m\n",
      "\u001b[32m[I 2022-05-26 20:31:01,760]\u001b[0m Trial 1 finished with value: 0.23429940452210946 and parameters: {'ITERATIONS': 4, 'Q': 0.25641346382238434, 'EVA_RATE': 0.3486076439792265, 'ANTS': 3}. Best is trial 1 with value: 0.23429940452210946.\u001b[0m\n"
     ]
    },
    {
     "name": "stdout",
     "output_type": "stream",
     "text": [
      "           Date    Returns      Risk     Ratio\n",
      "0    2021-01-01  20.812991  6.905090  2.495694\n",
      "1    2021-01-04  20.574005  7.037955  2.414623\n",
      "2    2021-01-05  21.652565  7.046567  2.564733\n",
      "3    2021-01-06  21.859558  7.094556  2.576561\n",
      "4    2021-01-07  21.504652  7.347479  2.439565\n",
      "..          ...        ...       ...       ...\n",
      "239  2021-12-21  -4.040784  8.100325 -0.940800\n",
      "240  2021-12-22  -4.787392  7.390139 -1.132238\n",
      "241  2021-12-23  -2.517918  7.825347 -0.779252\n",
      "242  2021-12-24  -2.228094  7.739938 -0.750406\n",
      "243  2021-12-27  -2.511037  7.851033 -0.775826\n",
      "\n",
      "[244 rows x 4 columns]\n"
     ]
    },
    {
     "name": "stderr",
     "output_type": "stream",
     "text": [
      "\u001b[32m[I 2022-05-26 20:31:01,922]\u001b[0m A new study created in memory with name: no-name-d01928d5-488c-4220-82b4-3825b1cad77b\u001b[0m\n",
      "\u001b[32m[I 2022-05-26 20:31:02,007]\u001b[0m Trial 0 finished with value: 0.22904455371147772 and parameters: {'ITERATIONS': 4, 'Q': 0.5831003027227484, 'EVA_RATE': 0.5097151899596165, 'ANTS': 4}. Best is trial 0 with value: 0.22904455371147772.\u001b[0m\n",
      "\u001b[32m[I 2022-05-26 20:31:02,061]\u001b[0m Trial 1 finished with value: 0.23742644390252254 and parameters: {'ITERATIONS': 2, 'Q': 0.6919904886588215, 'EVA_RATE': 0.6796635173389046, 'ANTS': 2}. Best is trial 1 with value: 0.23742644390252254.\u001b[0m\n"
     ]
    },
    {
     "name": "stdout",
     "output_type": "stream",
     "text": [
      "           Date    Returns      Risk     Ratio\n",
      "0    2021-01-01  20.812991  6.905090  2.495694\n",
      "1    2021-01-04  20.574005  7.037955  2.414623\n",
      "2    2021-01-05  21.652565  7.046567  2.564733\n",
      "3    2021-01-06  21.859558  7.094556  2.576561\n",
      "4    2021-01-07  21.504652  7.347479  2.439565\n",
      "..          ...        ...       ...       ...\n",
      "240  2021-12-22  -4.787392  7.390139 -1.132238\n",
      "241  2021-12-23  -2.517918  7.825347 -0.779252\n",
      "242  2021-12-24  -2.228094  7.739938 -0.750406\n",
      "243  2021-12-27  -2.511037  7.851033 -0.775826\n",
      "244  2021-12-28  -2.736788  7.556284 -0.835965\n",
      "\n",
      "[245 rows x 4 columns]\n"
     ]
    },
    {
     "name": "stderr",
     "output_type": "stream",
     "text": [
      "\u001b[32m[I 2022-05-26 20:31:02,205]\u001b[0m A new study created in memory with name: no-name-8f91badc-52c9-473e-84d4-eb37c303bcc9\u001b[0m\n",
      "\u001b[32m[I 2022-05-26 20:31:02,268]\u001b[0m Trial 0 finished with value: 0.23213082519399594 and parameters: {'ITERATIONS': 2, 'Q': 0.7761500155628523, 'EVA_RATE': 0.9452883191388991, 'ANTS': 3}. Best is trial 0 with value: 0.23213082519399594.\u001b[0m\n",
      "\u001b[32m[I 2022-05-26 20:31:02,377]\u001b[0m Trial 1 finished with value: 0.23405123410925752 and parameters: {'ITERATIONS': 4, 'Q': 0.6444095533040086, 'EVA_RATE': 0.7454864945673922, 'ANTS': 3}. Best is trial 1 with value: 0.23405123410925752.\u001b[0m\n"
     ]
    },
    {
     "name": "stdout",
     "output_type": "stream",
     "text": [
      "           Date    Returns      Risk     Ratio\n",
      "0    2021-01-01  20.812991  6.905090  2.495694\n",
      "1    2021-01-04  20.574005  7.037955  2.414623\n",
      "2    2021-01-05  21.652565  7.046567  2.564733\n",
      "3    2021-01-06  21.859558  7.094556  2.576561\n",
      "4    2021-01-07  21.504652  7.347479  2.439565\n",
      "..          ...        ...       ...       ...\n",
      "241  2021-12-23  -2.517918  7.825347 -0.779252\n",
      "242  2021-12-24  -2.228094  7.739938 -0.750406\n",
      "243  2021-12-27  -2.511037  7.851033 -0.775826\n",
      "244  2021-12-28  -2.736788  7.556284 -0.835965\n",
      "245  2021-12-29   1.578284  7.758949 -0.257988\n",
      "\n",
      "[246 rows x 4 columns]\n"
     ]
    },
    {
     "name": "stderr",
     "output_type": "stream",
     "text": [
      "\u001b[32m[I 2022-05-26 20:31:02,576]\u001b[0m A new study created in memory with name: no-name-5ec4e7dd-fe31-4c0b-88ad-31ec6ee8f4aa\u001b[0m\n",
      "\u001b[32m[I 2022-05-26 20:31:02,680]\u001b[0m Trial 0 finished with value: 0.2285618275430371 and parameters: {'ITERATIONS': 5, 'Q': 0.6571268369488344, 'EVA_RATE': 0.29210075166462823, 'ANTS': 4}. Best is trial 0 with value: 0.2285618275430371.\u001b[0m\n",
      "\u001b[32m[I 2022-05-26 20:31:02,756]\u001b[0m Trial 1 finished with value: 0.24873390016739008 and parameters: {'ITERATIONS': 4, 'Q': 0.8197330599202323, 'EVA_RATE': 0.9537928187888229, 'ANTS': 5}. Best is trial 1 with value: 0.24873390016739008.\u001b[0m\n"
     ]
    },
    {
     "name": "stdout",
     "output_type": "stream",
     "text": [
      "           Date    Returns      Risk     Ratio\n",
      "0    2021-01-01  20.812991  6.905090  2.495694\n",
      "1    2021-01-04  20.574005  7.037955  2.414623\n",
      "2    2021-01-05  21.652565  7.046567  2.564733\n",
      "3    2021-01-06  21.859558  7.094556  2.576561\n",
      "4    2021-01-07  21.504652  7.347479  2.439565\n",
      "..          ...        ...       ...       ...\n",
      "242  2021-12-24  -2.228094  7.739938 -0.750406\n",
      "243  2021-12-27  -2.511037  7.851033 -0.775826\n",
      "244  2021-12-28  -2.736788  7.556284 -0.835965\n",
      "245  2021-12-29   1.578284  7.758949 -0.257988\n",
      "246  2021-12-30  -0.074489  8.403685 -0.434867\n",
      "\n",
      "[247 rows x 4 columns]\n"
     ]
    },
    {
     "name": "stderr",
     "output_type": "stream",
     "text": [
      "\u001b[32m[I 2022-05-26 20:31:02,941]\u001b[0m A new study created in memory with name: no-name-7e17db43-8862-4ebd-913e-404c204d7af1\u001b[0m\n",
      "\u001b[32m[I 2022-05-26 20:31:03,015]\u001b[0m Trial 0 finished with value: 0.23049684852024255 and parameters: {'ITERATIONS': 3, 'Q': 0.4643172671156067, 'EVA_RATE': 0.9391765096880508, 'ANTS': 5}. Best is trial 0 with value: 0.23049684852024255.\u001b[0m\n",
      "\u001b[32m[I 2022-05-26 20:31:03,067]\u001b[0m Trial 1 finished with value: 0.23540024402814202 and parameters: {'ITERATIONS': 3, 'Q': 0.30301111180244433, 'EVA_RATE': 0.2766746881631839, 'ANTS': 3}. Best is trial 1 with value: 0.23540024402814202.\u001b[0m\n"
     ]
    },
    {
     "name": "stdout",
     "output_type": "stream",
     "text": [
      "           Date    Returns      Risk     Ratio\n",
      "0    2021-01-01  20.812991  6.905090  2.495694\n",
      "1    2021-01-04  20.574005  7.037955  2.414623\n",
      "2    2021-01-05  21.652565  7.046567  2.564733\n",
      "3    2021-01-06  21.859558  7.094556  2.576561\n",
      "4    2021-01-07  21.504652  7.347479  2.439565\n",
      "..          ...        ...       ...       ...\n",
      "243  2021-12-27  -2.511037  7.851033 -0.775826\n",
      "244  2021-12-28  -2.736788  7.556284 -0.835965\n",
      "245  2021-12-29   1.578284  7.758949 -0.257988\n",
      "246  2021-12-30  -0.074489  8.403685 -0.434867\n",
      "247  2021-12-31  -0.132543  7.866757 -0.471928\n",
      "\n",
      "[248 rows x 4 columns]\n"
     ]
    },
    {
     "name": "stderr",
     "output_type": "stream",
     "text": [
      "\u001b[32m[I 2022-05-26 20:31:03,212]\u001b[0m A new study created in memory with name: no-name-d585f23a-c51c-42cd-9cbc-3f5bcb728d1f\u001b[0m\n",
      "\u001b[32m[I 2022-05-26 20:31:03,272]\u001b[0m Trial 0 finished with value: 0.21576677334324182 and parameters: {'ITERATIONS': 2, 'Q': 0.8369277867482514, 'EVA_RATE': 0.8895121296873109, 'ANTS': 4}. Best is trial 0 with value: 0.21576677334324182.\u001b[0m\n",
      "\u001b[32m[I 2022-05-26 20:31:03,326]\u001b[0m Trial 1 finished with value: 0.23408046022016932 and parameters: {'ITERATIONS': 2, 'Q': 0.624197864685049, 'EVA_RATE': 0.9194793136183258, 'ANTS': 5}. Best is trial 1 with value: 0.23408046022016932.\u001b[0m\n"
     ]
    },
    {
     "name": "stdout",
     "output_type": "stream",
     "text": [
      "           Date    Returns      Risk     Ratio\n",
      "0    2021-01-01  20.812991  6.905090  2.495694\n",
      "1    2021-01-04  20.574005  7.037955  2.414623\n",
      "2    2021-01-05  21.652565  7.046567  2.564733\n",
      "3    2021-01-06  21.859558  7.094556  2.576561\n",
      "4    2021-01-07  21.504652  7.347479  2.439565\n",
      "..          ...        ...       ...       ...\n",
      "244  2021-12-28  -2.736788  7.556284 -0.835965\n",
      "245  2021-12-29   1.578284  7.758949 -0.257988\n",
      "246  2021-12-30  -0.074489  8.403685 -0.434867\n",
      "247  2021-12-31  -0.132543  7.866757 -0.471928\n",
      "248  2022-01-03   3.973619  7.866434  0.050038\n",
      "\n",
      "[249 rows x 4 columns]\n"
     ]
    },
    {
     "name": "stderr",
     "output_type": "stream",
     "text": [
      "\u001b[32m[I 2022-05-26 20:31:03,523]\u001b[0m A new study created in memory with name: no-name-ee99539f-da9c-4272-979b-2bd6331c3bcd\u001b[0m\n",
      "\u001b[32m[I 2022-05-26 20:31:03,609]\u001b[0m Trial 0 finished with value: 0.21770047265865583 and parameters: {'ITERATIONS': 5, 'Q': 0.1436618735366318, 'EVA_RATE': 0.9283052234390796, 'ANTS': 4}. Best is trial 0 with value: 0.21770047265865583.\u001b[0m\n",
      "\u001b[32m[I 2022-05-26 20:31:03,683]\u001b[0m Trial 1 finished with value: 0.21336433041932937 and parameters: {'ITERATIONS': 4, 'Q': 0.34521944727848475, 'EVA_RATE': 0.2980729984637994, 'ANTS': 4}. Best is trial 0 with value: 0.21770047265865583.\u001b[0m\n"
     ]
    },
    {
     "name": "stdout",
     "output_type": "stream",
     "text": [
      "           Date    Returns      Risk     Ratio\n",
      "0    2021-01-01  20.812991  6.905090  2.495694\n",
      "1    2021-01-04  20.574005  7.037955  2.414623\n",
      "2    2021-01-05  21.652565  7.046567  2.564733\n",
      "3    2021-01-06  21.859558  7.094556  2.576561\n",
      "4    2021-01-07  21.504652  7.347479  2.439565\n",
      "..          ...        ...       ...       ...\n",
      "245  2021-12-29   1.578284  7.758949 -0.257988\n",
      "246  2021-12-30  -0.074489  8.403685 -0.434867\n",
      "247  2021-12-31  -0.132543  7.866757 -0.471928\n",
      "248  2022-01-03   3.973619  7.866434  0.050038\n",
      "249  2022-01-04   1.775308  7.903689 -0.228335\n",
      "\n",
      "[250 rows x 4 columns]\n"
     ]
    },
    {
     "name": "stderr",
     "output_type": "stream",
     "text": [
      "\u001b[32m[I 2022-05-26 20:31:03,855]\u001b[0m A new study created in memory with name: no-name-1882bef0-f078-4205-9894-5239b278954a\u001b[0m\n",
      "\u001b[32m[I 2022-05-26 20:31:03,898]\u001b[0m Trial 0 finished with value: 0.22361643971954875 and parameters: {'ITERATIONS': 3, 'Q': 0.8640521463227837, 'EVA_RATE': 0.6795699230944259, 'ANTS': 2}. Best is trial 0 with value: 0.22361643971954875.\u001b[0m\n",
      "\u001b[32m[I 2022-05-26 20:31:03,963]\u001b[0m Trial 1 finished with value: 0.2697539452897871 and parameters: {'ITERATIONS': 5, 'Q': 0.5643429831891315, 'EVA_RATE': 0.46067514364678697, 'ANTS': 2}. Best is trial 1 with value: 0.2697539452897871.\u001b[0m\n"
     ]
    },
    {
     "name": "stdout",
     "output_type": "stream",
     "text": [
      "           Date    Returns      Risk     Ratio\n",
      "0    2021-01-01  20.812991  6.905090  2.495694\n",
      "1    2021-01-04  20.574005  7.037955  2.414623\n",
      "2    2021-01-05  21.652565  7.046567  2.564733\n",
      "3    2021-01-06  21.859558  7.094556  2.576561\n",
      "4    2021-01-07  21.504652  7.347479  2.439565\n",
      "..          ...        ...       ...       ...\n",
      "246  2021-12-30  -0.074489  8.403685 -0.434867\n",
      "247  2021-12-31  -0.132543  7.866757 -0.471928\n",
      "248  2022-01-03   3.973619  7.866434  0.050038\n",
      "249  2022-01-04   1.775308  7.903689 -0.228335\n",
      "250  2022-01-05   2.137371  8.173958 -0.176491\n",
      "\n",
      "[251 rows x 4 columns]\n"
     ]
    },
    {
     "name": "stderr",
     "output_type": "stream",
     "text": [
      "\u001b[32m[I 2022-05-26 20:31:04,140]\u001b[0m A new study created in memory with name: no-name-f8e89eca-d057-43f4-92bc-c107252bcc62\u001b[0m\n",
      "\u001b[32m[I 2022-05-26 20:31:04,210]\u001b[0m Trial 0 finished with value: 0.20689395573947852 and parameters: {'ITERATIONS': 2, 'Q': 0.11788652606647786, 'EVA_RATE': 0.7153761475611956, 'ANTS': 4}. Best is trial 0 with value: 0.20689395573947852.\u001b[0m\n",
      "\u001b[32m[I 2022-05-26 20:31:04,281]\u001b[0m Trial 1 finished with value: 0.22797061031299462 and parameters: {'ITERATIONS': 4, 'Q': 0.12453231873372346, 'EVA_RATE': 0.284719100062765, 'ANTS': 4}. Best is trial 1 with value: 0.22797061031299462.\u001b[0m\n"
     ]
    },
    {
     "name": "stdout",
     "output_type": "stream",
     "text": [
      "           Date    Returns      Risk     Ratio\n",
      "0    2021-01-01  20.812991  6.905090  2.495694\n",
      "1    2021-01-04  20.574005  7.037955  2.414623\n",
      "2    2021-01-05  21.652565  7.046567  2.564733\n",
      "3    2021-01-06  21.859558  7.094556  2.576561\n",
      "4    2021-01-07  21.504652  7.347479  2.439565\n",
      "..          ...        ...       ...       ...\n",
      "247  2021-12-31  -0.132543  7.866757 -0.471928\n",
      "248  2022-01-03   3.973619  7.866434  0.050038\n",
      "249  2022-01-04   1.775308  7.903689 -0.228335\n",
      "250  2022-01-05   2.137371  8.173958 -0.176491\n",
      "251  2022-01-06   1.546475  7.577770 -0.268354\n",
      "\n",
      "[252 rows x 4 columns]\n"
     ]
    },
    {
     "name": "stderr",
     "output_type": "stream",
     "text": [
      "\u001b[32m[I 2022-05-26 20:31:04,437]\u001b[0m A new study created in memory with name: no-name-875d5d08-0b62-4be4-b31a-28d5aa3ec0ad\u001b[0m\n",
      "\u001b[32m[I 2022-05-26 20:31:04,504]\u001b[0m Trial 0 finished with value: 0.24764916862651598 and parameters: {'ITERATIONS': 5, 'Q': 0.610954562542868, 'EVA_RATE': 0.24543537332139684, 'ANTS': 3}. Best is trial 0 with value: 0.24764916862651598.\u001b[0m\n",
      "\u001b[32m[I 2022-05-26 20:31:04,575]\u001b[0m Trial 1 finished with value: 0.2345199011144315 and parameters: {'ITERATIONS': 5, 'Q': 0.8618091527231729, 'EVA_RATE': 0.40341012192795944, 'ANTS': 5}. Best is trial 0 with value: 0.24764916862651598.\u001b[0m\n"
     ]
    },
    {
     "name": "stdout",
     "output_type": "stream",
     "text": [
      "           Date    Returns      Risk     Ratio\n",
      "0    2021-01-01  20.812991  6.905090  2.495694\n",
      "1    2021-01-04  20.574005  7.037955  2.414623\n",
      "2    2021-01-05  21.652565  7.046567  2.564733\n",
      "3    2021-01-06  21.859558  7.094556  2.576561\n",
      "4    2021-01-07  21.504652  7.347479  2.439565\n",
      "..          ...        ...       ...       ...\n",
      "248  2022-01-03   3.973619  7.866434  0.050038\n",
      "249  2022-01-04   1.775308  7.903689 -0.228335\n",
      "250  2022-01-05   2.137371  8.173958 -0.176491\n",
      "251  2022-01-06   1.546475  7.577770 -0.268354\n",
      "252  2022-01-07   2.115985  8.033936 -0.182229\n",
      "\n",
      "[253 rows x 4 columns]\n"
     ]
    },
    {
     "name": "stderr",
     "output_type": "stream",
     "text": [
      "\u001b[32m[I 2022-05-26 20:31:04,755]\u001b[0m A new study created in memory with name: no-name-a160faaa-7245-413c-b137-0a99310a2a5a\u001b[0m\n",
      "\u001b[32m[I 2022-05-26 20:31:04,824]\u001b[0m Trial 0 finished with value: 0.2113863522822853 and parameters: {'ITERATIONS': 5, 'Q': 0.7857271141022865, 'EVA_RATE': 0.9826523198022132, 'ANTS': 3}. Best is trial 0 with value: 0.2113863522822853.\u001b[0m\n",
      "\u001b[32m[I 2022-05-26 20:31:04,877]\u001b[0m Trial 1 finished with value: 0.2382915569525142 and parameters: {'ITERATIONS': 3, 'Q': 0.2102920873600771, 'EVA_RATE': 0.687088365586964, 'ANTS': 3}. Best is trial 1 with value: 0.2382915569525142.\u001b[0m\n"
     ]
    },
    {
     "name": "stdout",
     "output_type": "stream",
     "text": [
      "           Date    Returns      Risk     Ratio\n",
      "0    2021-01-01  20.812991  6.905090  2.495694\n",
      "1    2021-01-04  20.574005  7.037955  2.414623\n",
      "2    2021-01-05  21.652565  7.046567  2.564733\n",
      "3    2021-01-06  21.859558  7.094556  2.576561\n",
      "4    2021-01-07  21.504652  7.347479  2.439565\n",
      "..          ...        ...       ...       ...\n",
      "249  2022-01-04   1.775308  7.903689 -0.228335\n",
      "250  2022-01-05   2.137371  8.173958 -0.176491\n",
      "251  2022-01-06   1.546475  7.577770 -0.268354\n",
      "252  2022-01-07   2.115985  8.033936 -0.182229\n",
      "253  2022-01-10   1.682560  8.036763 -0.236095\n",
      "\n",
      "[254 rows x 4 columns]\n"
     ]
    },
    {
     "name": "stderr",
     "output_type": "stream",
     "text": [
      "\u001b[32m[I 2022-05-26 20:31:05,029]\u001b[0m A new study created in memory with name: no-name-b2063cdc-b262-4e3a-b9fb-416d6ef518ee\u001b[0m\n",
      "\u001b[32m[I 2022-05-26 20:31:05,083]\u001b[0m Trial 0 finished with value: 0.2268883341417794 and parameters: {'ITERATIONS': 2, 'Q': 0.4747656565719497, 'EVA_RATE': 0.8763970028557793, 'ANTS': 5}. Best is trial 0 with value: 0.2268883341417794.\u001b[0m\n",
      "\u001b[32m[I 2022-05-26 20:31:05,149]\u001b[0m Trial 1 finished with value: 0.27698159748097223 and parameters: {'ITERATIONS': 3, 'Q': 0.9781280166844303, 'EVA_RATE': 0.7571903699368343, 'ANTS': 3}. Best is trial 1 with value: 0.27698159748097223.\u001b[0m\n"
     ]
    },
    {
     "name": "stdout",
     "output_type": "stream",
     "text": [
      "           Date    Returns      Risk     Ratio\n",
      "0    2021-01-01  20.812991  6.905090  2.495694\n",
      "1    2021-01-04  20.574005  7.037955  2.414623\n",
      "2    2021-01-05  21.652565  7.046567  2.564733\n",
      "3    2021-01-06  21.859558  7.094556  2.576561\n",
      "4    2021-01-07  21.504652  7.347479  2.439565\n",
      "..          ...        ...       ...       ...\n",
      "250  2022-01-05   2.137371  8.173958 -0.176491\n",
      "251  2022-01-06   1.546475  7.577770 -0.268354\n",
      "252  2022-01-07   2.115985  8.033936 -0.182229\n",
      "253  2022-01-10   1.682560  8.036763 -0.236095\n",
      "254  2022-01-11   2.900516  7.756034 -0.087607\n",
      "\n",
      "[255 rows x 4 columns]\n"
     ]
    },
    {
     "name": "stderr",
     "output_type": "stream",
     "text": [
      "\u001b[32m[I 2022-05-26 20:31:05,308]\u001b[0m A new study created in memory with name: no-name-2e3852de-81dd-4424-bf15-4ca4fe393222\u001b[0m\n",
      "\u001b[32m[I 2022-05-26 20:31:05,367]\u001b[0m Trial 0 finished with value: 0.2247295825100511 and parameters: {'ITERATIONS': 2, 'Q': 0.41629451797694694, 'EVA_RATE': 0.11724116701845551, 'ANTS': 4}. Best is trial 0 with value: 0.2247295825100511.\u001b[0m\n",
      "\u001b[32m[I 2022-05-26 20:31:05,448]\u001b[0m Trial 1 finished with value: 0.2502735973689326 and parameters: {'ITERATIONS': 4, 'Q': 0.252045602970597, 'EVA_RATE': 0.130645298855837, 'ANTS': 2}. Best is trial 1 with value: 0.2502735973689326.\u001b[0m\n"
     ]
    },
    {
     "name": "stdout",
     "output_type": "stream",
     "text": [
      "           Date    Returns      Risk     Ratio\n",
      "0    2021-01-01  20.812991  6.905090  2.495694\n",
      "1    2021-01-04  20.574005  7.037955  2.414623\n",
      "2    2021-01-05  21.652565  7.046567  2.564733\n",
      "3    2021-01-06  21.859558  7.094556  2.576561\n",
      "4    2021-01-07  21.504652  7.347479  2.439565\n",
      "..          ...        ...       ...       ...\n",
      "251  2022-01-06   1.546475  7.577770 -0.268354\n",
      "252  2022-01-07   2.115985  8.033936 -0.182229\n",
      "253  2022-01-10   1.682560  8.036763 -0.236095\n",
      "254  2022-01-11   2.900516  7.756034 -0.087607\n",
      "255  2022-01-12   2.250765  8.080690 -0.164495\n",
      "\n",
      "[256 rows x 4 columns]\n"
     ]
    },
    {
     "name": "stderr",
     "output_type": "stream",
     "text": [
      "\u001b[32m[I 2022-05-26 20:31:05,605]\u001b[0m A new study created in memory with name: no-name-f851cf71-5d65-4ef9-b279-a2bc9ffe5837\u001b[0m\n",
      "\u001b[32m[I 2022-05-26 20:31:05,690]\u001b[0m Trial 0 finished with value: 0.2208264069727119 and parameters: {'ITERATIONS': 5, 'Q': 0.8261472081969319, 'EVA_RATE': 0.32941404342134384, 'ANTS': 2}. Best is trial 0 with value: 0.2208264069727119.\u001b[0m\n",
      "\u001b[32m[I 2022-05-26 20:31:05,775]\u001b[0m Trial 1 finished with value: 0.21852389167217376 and parameters: {'ITERATIONS': 4, 'Q': 0.13893925113020145, 'EVA_RATE': 0.6600446455214463, 'ANTS': 2}. Best is trial 0 with value: 0.2208264069727119.\u001b[0m\n"
     ]
    },
    {
     "name": "stdout",
     "output_type": "stream",
     "text": [
      "           Date    Returns      Risk     Ratio\n",
      "0    2021-01-01  20.812991  6.905090  2.495694\n",
      "1    2021-01-04  20.574005  7.037955  2.414623\n",
      "2    2021-01-05  21.652565  7.046567  2.564733\n",
      "3    2021-01-06  21.859558  7.094556  2.576561\n",
      "4    2021-01-07  21.504652  7.347479  2.439565\n",
      "..          ...        ...       ...       ...\n",
      "252  2022-01-07   2.115985  8.033936 -0.182229\n",
      "253  2022-01-10   1.682560  8.036763 -0.236095\n",
      "254  2022-01-11   2.900516  7.756034 -0.087607\n",
      "255  2022-01-12   2.250765  8.080690 -0.164495\n",
      "256  2022-01-13   2.293242  8.244729 -0.156070\n",
      "\n",
      "[257 rows x 4 columns]\n"
     ]
    },
    {
     "name": "stderr",
     "output_type": "stream",
     "text": [
      "\u001b[32m[I 2022-05-26 20:31:05,907]\u001b[0m A new study created in memory with name: no-name-ab9e8ffb-a13d-4e6d-a1d8-ef36e3108a21\u001b[0m\n",
      "\u001b[32m[I 2022-05-26 20:31:05,989]\u001b[0m Trial 0 finished with value: 0.21686651344147348 and parameters: {'ITERATIONS': 4, 'Q': 0.31979297007581026, 'EVA_RATE': 0.7659261429534643, 'ANTS': 5}. Best is trial 0 with value: 0.21686651344147348.\u001b[0m\n",
      "\u001b[32m[I 2022-05-26 20:31:06,054]\u001b[0m Trial 1 finished with value: 0.20825743595532498 and parameters: {'ITERATIONS': 5, 'Q': 0.7129338372204377, 'EVA_RATE': 0.9106886531169959, 'ANTS': 3}. Best is trial 0 with value: 0.21686651344147348.\u001b[0m\n"
     ]
    },
    {
     "name": "stdout",
     "output_type": "stream",
     "text": [
      "           Date    Returns      Risk     Ratio\n",
      "0    2021-01-01  20.812991  6.905090  2.495694\n",
      "1    2021-01-04  20.574005  7.037955  2.414623\n",
      "2    2021-01-05  21.652565  7.046567  2.564733\n",
      "3    2021-01-06  21.859558  7.094556  2.576561\n",
      "4    2021-01-07  21.504652  7.347479  2.439565\n",
      "..          ...        ...       ...       ...\n",
      "253  2022-01-10   1.682560  8.036763 -0.236095\n",
      "254  2022-01-11   2.900516  7.756034 -0.087607\n",
      "255  2022-01-12   2.250765  8.080690 -0.164495\n",
      "256  2022-01-13   2.293242  8.244729 -0.156070\n",
      "257  2022-01-14   1.194658  7.709980 -0.309384\n",
      "\n",
      "[258 rows x 4 columns]\n"
     ]
    },
    {
     "name": "stderr",
     "output_type": "stream",
     "text": [
      "\u001b[32m[I 2022-05-26 20:31:06,249]\u001b[0m A new study created in memory with name: no-name-c6c60031-ca40-4abc-92f8-2281ecd55250\u001b[0m\n",
      "\u001b[32m[I 2022-05-26 20:31:06,312]\u001b[0m Trial 0 finished with value: 0.20898134200976284 and parameters: {'ITERATIONS': 2, 'Q': 0.24117234597295809, 'EVA_RATE': 0.3726775801766682, 'ANTS': 5}. Best is trial 0 with value: 0.20898134200976284.\u001b[0m\n",
      "\u001b[32m[I 2022-05-26 20:31:06,369]\u001b[0m Trial 1 finished with value: 0.22308324554609751 and parameters: {'ITERATIONS': 5, 'Q': 0.7172285723063244, 'EVA_RATE': 0.5816616815207056, 'ANTS': 3}. Best is trial 1 with value: 0.22308324554609751.\u001b[0m\n"
     ]
    },
    {
     "name": "stdout",
     "output_type": "stream",
     "text": [
      "           Date    Returns      Risk     Ratio\n",
      "0    2021-01-01  20.812991  6.905090  2.495694\n",
      "1    2021-01-04  20.574005  7.037955  2.414623\n",
      "2    2021-01-05  21.652565  7.046567  2.564733\n",
      "3    2021-01-06  21.859558  7.094556  2.576561\n",
      "4    2021-01-07  21.504652  7.347479  2.439565\n",
      "..          ...        ...       ...       ...\n",
      "254  2022-01-11   2.900516  7.756034 -0.087607\n",
      "255  2022-01-12   2.250765  8.080690 -0.164495\n",
      "256  2022-01-13   2.293242  8.244729 -0.156070\n",
      "257  2022-01-14   1.194658  7.709980 -0.309384\n",
      "258  2022-01-17   0.631728  7.551896 -0.390402\n",
      "\n",
      "[259 rows x 4 columns]\n"
     ]
    },
    {
     "name": "stderr",
     "output_type": "stream",
     "text": [
      "\u001b[32m[I 2022-05-26 20:31:06,529]\u001b[0m A new study created in memory with name: no-name-72619dd1-ac1f-4231-960e-0690e652b3d5\u001b[0m\n",
      "\u001b[32m[I 2022-05-26 20:31:06,597]\u001b[0m Trial 0 finished with value: 0.24027870810096297 and parameters: {'ITERATIONS': 4, 'Q': 0.8911350691137139, 'EVA_RATE': 0.5443576292012199, 'ANTS': 2}. Best is trial 0 with value: 0.24027870810096297.\u001b[0m\n",
      "\u001b[32m[I 2022-05-26 20:31:06,664]\u001b[0m Trial 1 finished with value: 0.21011620680878393 and parameters: {'ITERATIONS': 2, 'Q': 0.9279340248445636, 'EVA_RATE': 0.28609856510114884, 'ANTS': 5}. Best is trial 0 with value: 0.24027870810096297.\u001b[0m\n"
     ]
    },
    {
     "name": "stdout",
     "output_type": "stream",
     "text": [
      "           Date    Returns      Risk     Ratio\n",
      "0    2021-01-01  20.812991  6.905090  2.495694\n",
      "1    2021-01-04  20.574005  7.037955  2.414623\n",
      "2    2021-01-05  21.652565  7.046567  2.564733\n",
      "3    2021-01-06  21.859558  7.094556  2.576561\n",
      "4    2021-01-07  21.504652  7.347479  2.439565\n",
      "..          ...        ...       ...       ...\n",
      "255  2022-01-12   2.250765  8.080690 -0.164495\n",
      "256  2022-01-13   2.293242  8.244729 -0.156070\n",
      "257  2022-01-14   1.194658  7.709980 -0.309384\n",
      "258  2022-01-17   0.631728  7.551896 -0.390402\n",
      "259  2022-01-18   0.268732  7.990328 -0.414409\n",
      "\n",
      "[260 rows x 4 columns]\n"
     ]
    },
    {
     "name": "stderr",
     "output_type": "stream",
     "text": [
      "\u001b[32m[I 2022-05-26 20:31:06,835]\u001b[0m A new study created in memory with name: no-name-4eb6b6b6-e520-4325-b028-2a0861cf45da\u001b[0m\n",
      "\u001b[32m[I 2022-05-26 20:31:06,897]\u001b[0m Trial 0 finished with value: 0.20188937068768673 and parameters: {'ITERATIONS': 2, 'Q': 0.15711127261651653, 'EVA_RATE': 0.7038920638697919, 'ANTS': 3}. Best is trial 0 with value: 0.20188937068768673.\u001b[0m\n",
      "\u001b[32m[I 2022-05-26 20:31:06,990]\u001b[0m Trial 1 finished with value: 0.22234374460590375 and parameters: {'ITERATIONS': 4, 'Q': 0.23020159755453892, 'EVA_RATE': 0.5649347172006496, 'ANTS': 5}. Best is trial 1 with value: 0.22234374460590375.\u001b[0m\n"
     ]
    },
    {
     "name": "stdout",
     "output_type": "stream",
     "text": [
      "           Date    Returns      Risk     Ratio\n",
      "0    2021-01-01  20.812991  6.905090  2.495694\n",
      "1    2021-01-04  20.574005  7.037955  2.414623\n",
      "2    2021-01-05  21.652565  7.046567  2.564733\n",
      "3    2021-01-06  21.859558  7.094556  2.576561\n",
      "4    2021-01-07  21.504652  7.347479  2.439565\n",
      "..          ...        ...       ...       ...\n",
      "256  2022-01-13   2.293242  8.244729 -0.156070\n",
      "257  2022-01-14   1.194658  7.709980 -0.309384\n",
      "258  2022-01-17   0.631728  7.551896 -0.390402\n",
      "259  2022-01-18   0.268732  7.990328 -0.414409\n",
      "260  2022-01-19   0.229648  7.515568 -0.445788\n",
      "\n",
      "[261 rows x 4 columns]\n"
     ]
    },
    {
     "name": "stderr",
     "output_type": "stream",
     "text": [
      "\u001b[32m[I 2022-05-26 20:31:07,155]\u001b[0m A new study created in memory with name: no-name-8db126f5-a10a-46cf-bcdc-e55ed9de424f\u001b[0m\n",
      "\u001b[32m[I 2022-05-26 20:31:07,224]\u001b[0m Trial 0 finished with value: 0.1969566313031319 and parameters: {'ITERATIONS': 2, 'Q': 0.26433922597679016, 'EVA_RATE': 0.29024608514058436, 'ANTS': 5}. Best is trial 0 with value: 0.1969566313031319.\u001b[0m\n",
      "\u001b[32m[I 2022-05-26 20:31:07,290]\u001b[0m Trial 1 finished with value: 0.22205354754058332 and parameters: {'ITERATIONS': 4, 'Q': 0.9639165138909267, 'EVA_RATE': 0.15647896178366721, 'ANTS': 4}. Best is trial 1 with value: 0.22205354754058332.\u001b[0m\n"
     ]
    },
    {
     "name": "stdout",
     "output_type": "stream",
     "text": [
      "           Date    Returns      Risk     Ratio\n",
      "0    2021-01-01  20.812991  6.905090  2.495694\n",
      "1    2021-01-04  20.574005  7.037955  2.414623\n",
      "2    2021-01-05  21.652565  7.046567  2.564733\n",
      "3    2021-01-06  21.859558  7.094556  2.576561\n",
      "4    2021-01-07  21.504652  7.347479  2.439565\n",
      "..          ...        ...       ...       ...\n",
      "257  2022-01-14   1.194658  7.709980 -0.309384\n",
      "258  2022-01-17   0.631728  7.551896 -0.390402\n",
      "259  2022-01-18   0.268732  7.990328 -0.414409\n",
      "260  2022-01-19   0.229648  7.515568 -0.445788\n",
      "261  2022-01-20   0.211181  7.729911 -0.435816\n",
      "\n",
      "[262 rows x 4 columns]\n"
     ]
    },
    {
     "name": "stderr",
     "output_type": "stream",
     "text": [
      "\u001b[32m[I 2022-05-26 20:31:07,454]\u001b[0m A new study created in memory with name: no-name-01279e16-8150-4d04-b35f-a5ea1bcc17e7\u001b[0m\n",
      "\u001b[32m[I 2022-05-26 20:31:07,541]\u001b[0m Trial 0 finished with value: 0.21061863061734756 and parameters: {'ITERATIONS': 5, 'Q': 0.9840632421388723, 'EVA_RATE': 0.11893904197440014, 'ANTS': 4}. Best is trial 0 with value: 0.21061863061734756.\u001b[0m\n",
      "\u001b[32m[I 2022-05-26 20:31:07,599]\u001b[0m Trial 1 finished with value: 0.20923937333860193 and parameters: {'ITERATIONS': 3, 'Q': 0.7199836699165176, 'EVA_RATE': 0.7680495497679493, 'ANTS': 3}. Best is trial 0 with value: 0.21061863061734756.\u001b[0m\n"
     ]
    },
    {
     "name": "stdout",
     "output_type": "stream",
     "text": [
      "           Date    Returns      Risk     Ratio\n",
      "0    2021-01-01  20.812991  6.905090  2.495694\n",
      "1    2021-01-04  20.574005  7.037955  2.414623\n",
      "2    2021-01-05  21.652565  7.046567  2.564733\n",
      "3    2021-01-06  21.859558  7.094556  2.576561\n",
      "4    2021-01-07  21.504652  7.347479  2.439565\n",
      "..          ...        ...       ...       ...\n",
      "258  2022-01-17   0.631728  7.551896 -0.390402\n",
      "259  2022-01-18   0.268732  7.990328 -0.414409\n",
      "260  2022-01-19   0.229648  7.515568 -0.445788\n",
      "261  2022-01-20   0.211181  7.729911 -0.435816\n",
      "262  2022-01-21   1.887605  7.562533 -0.223787\n",
      "\n",
      "[263 rows x 4 columns]\n"
     ]
    },
    {
     "name": "stderr",
     "output_type": "stream",
     "text": [
      "\u001b[32m[I 2022-05-26 20:31:07,772]\u001b[0m A new study created in memory with name: no-name-a99be6f5-9ea4-4666-b14b-da4c22023a17\u001b[0m\n",
      "\u001b[32m[I 2022-05-26 20:31:07,838]\u001b[0m Trial 0 finished with value: 0.263418308791751 and parameters: {'ITERATIONS': 5, 'Q': 0.15209788285987919, 'EVA_RATE': 0.4157550942979864, 'ANTS': 2}. Best is trial 0 with value: 0.263418308791751.\u001b[0m\n",
      "\u001b[32m[I 2022-05-26 20:31:07,892]\u001b[0m Trial 1 finished with value: 0.23392967915559743 and parameters: {'ITERATIONS': 2, 'Q': 0.8417589262308646, 'EVA_RATE': 0.7078922969377769, 'ANTS': 5}. Best is trial 0 with value: 0.263418308791751.\u001b[0m\n"
     ]
    },
    {
     "name": "stdout",
     "output_type": "stream",
     "text": [
      "           Date    Returns      Risk     Ratio\n",
      "0    2021-01-01  20.812991  6.905090  2.495694\n",
      "1    2021-01-04  20.574005  7.037955  2.414623\n",
      "2    2021-01-05  21.652565  7.046567  2.564733\n",
      "3    2021-01-06  21.859558  7.094556  2.576561\n",
      "4    2021-01-07  21.504652  7.347479  2.439565\n",
      "..          ...        ...       ...       ...\n",
      "259  2022-01-18   0.268732  7.990328 -0.414409\n",
      "260  2022-01-19   0.229648  7.515568 -0.445788\n",
      "261  2022-01-20   0.211181  7.729911 -0.435816\n",
      "262  2022-01-21   1.887605  7.562533 -0.223787\n",
      "263  2022-01-24   0.146767  7.596999 -0.451920\n",
      "\n",
      "[264 rows x 4 columns]\n"
     ]
    },
    {
     "name": "stderr",
     "output_type": "stream",
     "text": [
      "\u001b[32m[I 2022-05-26 20:31:08,039]\u001b[0m A new study created in memory with name: no-name-a772de09-4a92-44c7-a175-0a3a229782ca\u001b[0m\n",
      "\u001b[32m[I 2022-05-26 20:31:08,106]\u001b[0m Trial 0 finished with value: 0.26890093002827004 and parameters: {'ITERATIONS': 5, 'Q': 0.11254588508116821, 'EVA_RATE': 0.7104393248512371, 'ANTS': 4}. Best is trial 0 with value: 0.26890093002827004.\u001b[0m\n",
      "\u001b[32m[I 2022-05-26 20:31:08,189]\u001b[0m Trial 1 finished with value: 0.22041655725739526 and parameters: {'ITERATIONS': 5, 'Q': 0.9982926241336061, 'EVA_RATE': 0.6947414417904371, 'ANTS': 5}. Best is trial 0 with value: 0.26890093002827004.\u001b[0m\n"
     ]
    },
    {
     "name": "stdout",
     "output_type": "stream",
     "text": [
      "           Date    Returns      Risk     Ratio\n",
      "0    2021-01-01  20.812991  6.905090  2.495694\n",
      "1    2021-01-04  20.574005  7.037955  2.414623\n",
      "2    2021-01-05  21.652565  7.046567  2.564733\n",
      "3    2021-01-06  21.859558  7.094556  2.576561\n",
      "4    2021-01-07  21.504652  7.347479  2.439565\n",
      "..          ...        ...       ...       ...\n",
      "260  2022-01-19   0.229648  7.515568 -0.445788\n",
      "261  2022-01-20   0.211181  7.729911 -0.435816\n",
      "262  2022-01-21   1.887605  7.562533 -0.223787\n",
      "263  2022-01-24   0.146767  7.596999 -0.451920\n",
      "264  2022-01-25  -5.711747  8.248610 -1.126462\n",
      "\n",
      "[265 rows x 4 columns]\n"
     ]
    },
    {
     "name": "stderr",
     "output_type": "stream",
     "text": [
      "\u001b[32m[I 2022-05-26 20:31:08,371]\u001b[0m A new study created in memory with name: no-name-2e5b85a4-273c-42dc-b8ec-203472763800\u001b[0m\n",
      "\u001b[32m[I 2022-05-26 20:31:08,435]\u001b[0m Trial 0 finished with value: 0.23472518731962655 and parameters: {'ITERATIONS': 3, 'Q': 0.250265851412976, 'EVA_RATE': 0.2976177237000478, 'ANTS': 3}. Best is trial 0 with value: 0.23472518731962655.\u001b[0m\n",
      "\u001b[32m[I 2022-05-26 20:31:08,506]\u001b[0m Trial 1 finished with value: 0.2348086636851737 and parameters: {'ITERATIONS': 5, 'Q': 0.31479826899028085, 'EVA_RATE': 0.7531607846096918, 'ANTS': 2}. Best is trial 1 with value: 0.2348086636851737.\u001b[0m\n"
     ]
    },
    {
     "name": "stdout",
     "output_type": "stream",
     "text": [
      "           Date    Returns      Risk     Ratio\n",
      "0    2021-01-01  20.812991  6.905090  2.495694\n",
      "1    2021-01-04  20.574005  7.037955  2.414623\n",
      "2    2021-01-05  21.652565  7.046567  2.564733\n",
      "3    2021-01-06  21.859558  7.094556  2.576561\n",
      "4    2021-01-07  21.504652  7.347479  2.439565\n",
      "..          ...        ...       ...       ...\n",
      "261  2022-01-20   0.211181  7.729911 -0.435816\n",
      "262  2022-01-21   1.887605  7.562533 -0.223787\n",
      "263  2022-01-24   0.146767  7.596999 -0.451920\n",
      "264  2022-01-25  -5.711747  8.248610 -1.126462\n",
      "265  2022-01-27  -3.522837  8.394311 -0.846149\n",
      "\n",
      "[266 rows x 4 columns]\n"
     ]
    },
    {
     "name": "stderr",
     "output_type": "stream",
     "text": [
      "\u001b[32m[I 2022-05-26 20:31:08,677]\u001b[0m A new study created in memory with name: no-name-435ca577-89e3-4325-b554-40d341d17650\u001b[0m\n",
      "\u001b[32m[I 2022-05-26 20:31:08,774]\u001b[0m Trial 0 finished with value: 0.22587645357064084 and parameters: {'ITERATIONS': 5, 'Q': 0.43987481633386816, 'EVA_RATE': 0.7203210093430075, 'ANTS': 4}. Best is trial 0 with value: 0.22587645357064084.\u001b[0m\n",
      "\u001b[32m[I 2022-05-26 20:31:08,842]\u001b[0m Trial 1 finished with value: 0.22250422010102242 and parameters: {'ITERATIONS': 2, 'Q': 0.9197686034329107, 'EVA_RATE': 0.8487230258945884, 'ANTS': 3}. Best is trial 0 with value: 0.22587645357064084.\u001b[0m\n"
     ]
    },
    {
     "name": "stdout",
     "output_type": "stream",
     "text": [
      "           Date    Returns      Risk     Ratio\n",
      "0    2021-01-01  20.812991  6.905090  2.495694\n",
      "1    2021-01-04  20.574005  7.037955  2.414623\n",
      "2    2021-01-05  21.652565  7.046567  2.564733\n",
      "3    2021-01-06  21.859558  7.094556  2.576561\n",
      "4    2021-01-07  21.504652  7.347479  2.439565\n",
      "..          ...        ...       ...       ...\n",
      "262  2022-01-21   1.887605  7.562533 -0.223787\n",
      "263  2022-01-24   0.146767  7.596999 -0.451920\n",
      "264  2022-01-25  -5.711747  8.248610 -1.126462\n",
      "265  2022-01-27  -3.522837  8.394311 -0.846149\n",
      "266  2022-01-28  -4.438603  8.445200 -0.949487\n",
      "\n",
      "[267 rows x 4 columns]\n"
     ]
    },
    {
     "name": "stderr",
     "output_type": "stream",
     "text": [
      "\u001b[32m[I 2022-05-26 20:31:09,004]\u001b[0m A new study created in memory with name: no-name-38efb5aa-7c07-4836-a1c1-15afdbf5eadb\u001b[0m\n",
      "\u001b[32m[I 2022-05-26 20:31:09,079]\u001b[0m Trial 0 finished with value: 0.20332317965756833 and parameters: {'ITERATIONS': 2, 'Q': 0.9054746107800791, 'EVA_RATE': 0.37350027040172573, 'ANTS': 3}. Best is trial 0 with value: 0.20332317965756833.\u001b[0m\n",
      "\u001b[32m[I 2022-05-26 20:31:09,145]\u001b[0m Trial 1 finished with value: 0.20813443492345465 and parameters: {'ITERATIONS': 2, 'Q': 0.38433483777243127, 'EVA_RATE': 0.6553213914717106, 'ANTS': 2}. Best is trial 1 with value: 0.20813443492345465.\u001b[0m\n"
     ]
    },
    {
     "name": "stdout",
     "output_type": "stream",
     "text": [
      "           Date    Returns      Risk     Ratio\n",
      "0    2021-01-01  20.812991  6.905090  2.495694\n",
      "1    2021-01-04  20.574005  7.037955  2.414623\n",
      "2    2021-01-05  21.652565  7.046567  2.564733\n",
      "3    2021-01-06  21.859558  7.094556  2.576561\n",
      "4    2021-01-07  21.504652  7.347479  2.439565\n",
      "..          ...        ...       ...       ...\n",
      "263  2022-01-24   0.146767  7.596999 -0.451920\n",
      "264  2022-01-25  -5.711747  8.248610 -1.126462\n",
      "265  2022-01-27  -3.522837  8.394311 -0.846149\n",
      "266  2022-01-28  -4.438603  8.445200 -0.949487\n",
      "267  2022-01-31  -4.748092  8.428206 -0.988122\n",
      "\n",
      "[268 rows x 4 columns]\n"
     ]
    },
    {
     "name": "stderr",
     "output_type": "stream",
     "text": [
      "\u001b[32m[I 2022-05-26 20:31:09,304]\u001b[0m A new study created in memory with name: no-name-2ae0c2f4-7ac1-4ea6-b021-14d17309d742\u001b[0m\n",
      "\u001b[32m[I 2022-05-26 20:31:09,387]\u001b[0m Trial 0 finished with value: 0.22730369963426458 and parameters: {'ITERATIONS': 3, 'Q': 0.7795555360839329, 'EVA_RATE': 0.5888590252891355, 'ANTS': 5}. Best is trial 0 with value: 0.22730369963426458.\u001b[0m\n",
      "\u001b[32m[I 2022-05-26 20:31:09,473]\u001b[0m Trial 1 finished with value: 0.22824858451962413 and parameters: {'ITERATIONS': 4, 'Q': 0.5364635522414213, 'EVA_RATE': 0.1470371233496388, 'ANTS': 3}. Best is trial 1 with value: 0.22824858451962413.\u001b[0m\n"
     ]
    },
    {
     "name": "stdout",
     "output_type": "stream",
     "text": [
      "           Date    Returns      Risk     Ratio\n",
      "0    2021-01-01  20.812991  6.905090  2.495694\n",
      "1    2021-01-04  20.574005  7.037955  2.414623\n",
      "2    2021-01-05  21.652565  7.046567  2.564733\n",
      "3    2021-01-06  21.859558  7.094556  2.576561\n",
      "4    2021-01-07  21.504652  7.347479  2.439565\n",
      "..          ...        ...       ...       ...\n",
      "264  2022-01-25  -5.711747  8.248610 -1.126462\n",
      "265  2022-01-27  -3.522837  8.394311 -0.846149\n",
      "266  2022-01-28  -4.438603  8.445200 -0.949487\n",
      "267  2022-01-31  -4.748092  8.428206 -0.988122\n",
      "268  2022-02-01  -4.303689  8.586606 -0.918138\n",
      "\n",
      "[269 rows x 4 columns]\n"
     ]
    },
    {
     "name": "stderr",
     "output_type": "stream",
     "text": [
      "\u001b[32m[I 2022-05-26 20:31:09,669]\u001b[0m A new study created in memory with name: no-name-94c84e5f-aa52-4f4f-a8e2-4723c124a346\u001b[0m\n",
      "\u001b[32m[I 2022-05-26 20:31:09,755]\u001b[0m Trial 0 finished with value: 0.22996432907403358 and parameters: {'ITERATIONS': 3, 'Q': 0.7192118156895186, 'EVA_RATE': 0.634298033635817, 'ANTS': 2}. Best is trial 0 with value: 0.22996432907403358.\u001b[0m\n",
      "\u001b[32m[I 2022-05-26 20:31:09,810]\u001b[0m Trial 1 finished with value: 0.22305336441081414 and parameters: {'ITERATIONS': 3, 'Q': 0.737320592514661, 'EVA_RATE': 0.6706901980996653, 'ANTS': 2}. Best is trial 0 with value: 0.22996432907403358.\u001b[0m\n"
     ]
    },
    {
     "name": "stdout",
     "output_type": "stream",
     "text": [
      "           Date    Returns      Risk     Ratio\n",
      "0    2021-01-01  20.812991  6.905090  2.495694\n",
      "1    2021-01-04  20.574005  7.037955  2.414623\n",
      "2    2021-01-05  21.652565  7.046567  2.564733\n",
      "3    2021-01-06  21.859558  7.094556  2.576561\n",
      "4    2021-01-07  21.504652  7.347479  2.439565\n",
      "..          ...        ...       ...       ...\n",
      "265  2022-01-27  -3.522837  8.394311 -0.846149\n",
      "266  2022-01-28  -4.438603  8.445200 -0.949487\n",
      "267  2022-01-31  -4.748092  8.428206 -0.988122\n",
      "268  2022-02-01  -4.303689  8.586606 -0.918138\n",
      "269  2022-02-02  -1.263277  8.848533 -0.547354\n",
      "\n",
      "[270 rows x 4 columns]\n"
     ]
    },
    {
     "name": "stderr",
     "output_type": "stream",
     "text": [
      "\u001b[32m[I 2022-05-26 20:31:09,956]\u001b[0m A new study created in memory with name: no-name-343fb375-019d-4c43-ba4a-508aac73ac92\u001b[0m\n",
      "\u001b[32m[I 2022-05-26 20:31:10,022]\u001b[0m Trial 0 finished with value: 0.22022036401235834 and parameters: {'ITERATIONS': 5, 'Q': 0.9574241618817475, 'EVA_RATE': 0.2560340999938121, 'ANTS': 3}. Best is trial 0 with value: 0.22022036401235834.\u001b[0m\n",
      "\u001b[32m[I 2022-05-26 20:31:10,071]\u001b[0m Trial 1 finished with value: 0.21202897211383617 and parameters: {'ITERATIONS': 2, 'Q': 0.3762735179674864, 'EVA_RATE': 0.4420504072026997, 'ANTS': 4}. Best is trial 0 with value: 0.22022036401235834.\u001b[0m\n"
     ]
    },
    {
     "name": "stdout",
     "output_type": "stream",
     "text": [
      "           Date    Returns      Risk     Ratio\n",
      "0    2021-01-01  20.812991  6.905090  2.495694\n",
      "1    2021-01-04  20.574005  7.037955  2.414623\n",
      "2    2021-01-05  21.652565  7.046567  2.564733\n",
      "3    2021-01-06  21.859558  7.094556  2.576561\n",
      "4    2021-01-07  21.504652  7.347479  2.439565\n",
      "..          ...        ...       ...       ...\n",
      "266  2022-01-28  -4.438603  8.445200 -0.949487\n",
      "267  2022-01-31  -4.748092  8.428206 -0.988122\n",
      "268  2022-02-01  -4.303689  8.586606 -0.918138\n",
      "269  2022-02-02  -1.263277  8.848533 -0.547354\n",
      "270  2022-02-03  -1.244940  8.590666 -0.561649\n",
      "\n",
      "[271 rows x 4 columns]\n"
     ]
    },
    {
     "name": "stderr",
     "output_type": "stream",
     "text": [
      "\u001b[32m[I 2022-05-26 20:31:10,237]\u001b[0m A new study created in memory with name: no-name-2d21e23a-6be2-4f9f-ac5a-d3787d8d5f1b\u001b[0m\n",
      "\u001b[32m[I 2022-05-26 20:31:10,303]\u001b[0m Trial 0 finished with value: 0.22176574808136512 and parameters: {'ITERATIONS': 5, 'Q': 0.13473362970061847, 'EVA_RATE': 0.43170712302367864, 'ANTS': 2}. Best is trial 0 with value: 0.22176574808136512.\u001b[0m\n",
      "\u001b[32m[I 2022-05-26 20:31:10,361]\u001b[0m Trial 1 finished with value: 0.2306539959117419 and parameters: {'ITERATIONS': 2, 'Q': 0.24416097583985652, 'EVA_RATE': 0.6332107450903959, 'ANTS': 4}. Best is trial 1 with value: 0.2306539959117419.\u001b[0m\n"
     ]
    },
    {
     "name": "stdout",
     "output_type": "stream",
     "text": [
      "           Date    Returns      Risk     Ratio\n",
      "0    2021-01-01  20.812991  6.905090  2.495694\n",
      "1    2021-01-04  20.574005  7.037955  2.414623\n",
      "2    2021-01-05  21.652565  7.046567  2.564733\n",
      "3    2021-01-06  21.859558  7.094556  2.576561\n",
      "4    2021-01-07  21.504652  7.347479  2.439565\n",
      "..          ...        ...       ...       ...\n",
      "267  2022-01-31  -4.748092  8.428206 -0.988122\n",
      "268  2022-02-01  -4.303689  8.586606 -0.918138\n",
      "269  2022-02-02  -1.263277  8.848533 -0.547354\n",
      "270  2022-02-03  -1.244940  8.590666 -0.561649\n",
      "271  2022-02-04  -1.577869  8.592254 -0.600293\n",
      "\n",
      "[272 rows x 4 columns]\n"
     ]
    },
    {
     "name": "stderr",
     "output_type": "stream",
     "text": [
      "\u001b[32m[I 2022-05-26 20:31:10,488]\u001b[0m A new study created in memory with name: no-name-e5d397d7-6dfc-4787-bbb5-b174d52adc3f\u001b[0m\n",
      "\u001b[32m[I 2022-05-26 20:31:10,587]\u001b[0m Trial 0 finished with value: 0.2342720590844829 and parameters: {'ITERATIONS': 3, 'Q': 0.6619243660996614, 'EVA_RATE': 0.11808772727482256, 'ANTS': 5}. Best is trial 0 with value: 0.2342720590844829.\u001b[0m\n",
      "\u001b[32m[I 2022-05-26 20:31:10,670]\u001b[0m Trial 1 finished with value: 0.252430260409222 and parameters: {'ITERATIONS': 5, 'Q': 0.3865175949419617, 'EVA_RATE': 0.2907223387523933, 'ANTS': 2}. Best is trial 1 with value: 0.252430260409222.\u001b[0m\n"
     ]
    },
    {
     "name": "stdout",
     "output_type": "stream",
     "text": [
      "           Date    Returns      Risk     Ratio\n",
      "0    2021-01-01  20.812991  6.905090  2.495694\n",
      "1    2021-01-04  20.574005  7.037955  2.414623\n",
      "2    2021-01-05  21.652565  7.046567  2.564733\n",
      "3    2021-01-06  21.859558  7.094556  2.576561\n",
      "4    2021-01-07  21.504652  7.347479  2.439565\n",
      "..          ...        ...       ...       ...\n",
      "268  2022-02-01  -4.303689  8.586606 -0.918138\n",
      "269  2022-02-02  -1.263277  8.848533 -0.547354\n",
      "270  2022-02-03  -1.244940  8.590666 -0.561649\n",
      "271  2022-02-04  -1.577869  8.592254 -0.600293\n",
      "272  2022-02-07  -2.225735  8.883338 -0.653553\n",
      "\n",
      "[273 rows x 4 columns]\n"
     ]
    },
    {
     "name": "stderr",
     "output_type": "stream",
     "text": [
      "\u001b[32m[I 2022-05-26 20:31:10,894]\u001b[0m A new study created in memory with name: no-name-c049d4c1-34fb-4bf2-ab06-bb18ef742bee\u001b[0m\n",
      "\u001b[32m[I 2022-05-26 20:31:10,961]\u001b[0m Trial 0 finished with value: 0.23712862969264528 and parameters: {'ITERATIONS': 2, 'Q': 0.122968977611694, 'EVA_RATE': 0.6842326998105771, 'ANTS': 2}. Best is trial 0 with value: 0.23712862969264528.\u001b[0m\n",
      "\u001b[32m[I 2022-05-26 20:31:11,022]\u001b[0m Trial 1 finished with value: 0.2060810977044771 and parameters: {'ITERATIONS': 3, 'Q': 0.7579425847851826, 'EVA_RATE': 0.42245150033668044, 'ANTS': 3}. Best is trial 0 with value: 0.23712862969264528.\u001b[0m\n"
     ]
    },
    {
     "name": "stdout",
     "output_type": "stream",
     "text": [
      "           Date    Returns      Risk     Ratio\n",
      "0    2021-01-01  20.812991  6.905090  2.495694\n",
      "1    2021-01-04  20.574005  7.037955  2.414623\n",
      "2    2021-01-05  21.652565  7.046567  2.564733\n",
      "3    2021-01-06  21.859558  7.094556  2.576561\n",
      "4    2021-01-07  21.504652  7.347479  2.439565\n",
      "..          ...        ...       ...       ...\n",
      "269  2022-02-02  -1.263277  8.848533 -0.547354\n",
      "270  2022-02-03  -1.244940  8.590666 -0.561649\n",
      "271  2022-02-04  -1.577869  8.592254 -0.600293\n",
      "272  2022-02-07  -2.225735  8.883338 -0.653553\n",
      "273  2022-02-08  -3.896302  8.754736 -0.853972\n",
      "\n",
      "[274 rows x 4 columns]\n"
     ]
    },
    {
     "name": "stderr",
     "output_type": "stream",
     "text": [
      "\u001b[32m[I 2022-05-26 20:31:11,187]\u001b[0m A new study created in memory with name: no-name-d3f8c854-6d8a-4ebe-92d4-4b6abcf175d5\u001b[0m\n",
      "\u001b[32m[I 2022-05-26 20:31:11,264]\u001b[0m Trial 0 finished with value: 0.2356741873644889 and parameters: {'ITERATIONS': 2, 'Q': 0.8159496388443944, 'EVA_RATE': 0.8807902922337569, 'ANTS': 5}. Best is trial 0 with value: 0.2356741873644889.\u001b[0m\n"
     ]
    },
    {
     "name": "stdout",
     "output_type": "stream",
     "text": [
      "           Date    Returns      Risk     Ratio\n",
      "0    2021-01-01  20.812991  6.905090  2.495694\n",
      "1    2021-01-04  20.574005  7.037955  2.414623\n",
      "2    2021-01-05  21.652565  7.046567  2.564733\n",
      "3    2021-01-06  21.859558  7.094556  2.576561\n",
      "4    2021-01-07  21.504652  7.347479  2.439565\n",
      "..          ...        ...       ...       ...\n",
      "270  2022-02-03  -1.244940  8.590666 -0.561649\n",
      "271  2022-02-04  -1.577869  8.592254 -0.600293\n",
      "272  2022-02-07  -2.225735  8.883338 -0.653553\n",
      "273  2022-02-08  -3.896302  8.754736 -0.853972\n",
      "274  2022-02-09  -2.623392  8.737802 -0.709949\n",
      "\n",
      "[275 rows x 4 columns]\n"
     ]
    },
    {
     "name": "stderr",
     "output_type": "stream",
     "text": [
      "\u001b[32m[I 2022-05-26 20:31:11,381]\u001b[0m Trial 1 finished with value: 0.24162340687220904 and parameters: {'ITERATIONS': 3, 'Q': 0.12406450671749485, 'EVA_RATE': 0.45011224482566226, 'ANTS': 5}. Best is trial 1 with value: 0.24162340687220904.\u001b[0m\n",
      "\u001b[32m[I 2022-05-26 20:31:11,535]\u001b[0m A new study created in memory with name: no-name-f0b6d7f3-f1b2-42eb-b712-fdec5edf2e13\u001b[0m\n",
      "\u001b[32m[I 2022-05-26 20:31:11,620]\u001b[0m Trial 0 finished with value: 0.23149405180812588 and parameters: {'ITERATIONS': 4, 'Q': 0.1492475420079836, 'EVA_RATE': 0.20793226630035794, 'ANTS': 5}. Best is trial 0 with value: 0.23149405180812588.\u001b[0m\n",
      "\u001b[32m[I 2022-05-26 20:31:11,705]\u001b[0m Trial 1 finished with value: 0.2350478197442783 and parameters: {'ITERATIONS': 3, 'Q': 0.23929298992250114, 'EVA_RATE': 0.12656098860548573, 'ANTS': 5}. Best is trial 1 with value: 0.2350478197442783.\u001b[0m\n"
     ]
    },
    {
     "name": "stdout",
     "output_type": "stream",
     "text": [
      "           Date    Returns      Risk     Ratio\n",
      "0    2021-01-01  20.812991  6.905090  2.495694\n",
      "1    2021-01-04  20.574005  7.037955  2.414623\n",
      "2    2021-01-05  21.652565  7.046567  2.564733\n",
      "3    2021-01-06  21.859558  7.094556  2.576561\n",
      "4    2021-01-07  21.504652  7.347479  2.439565\n",
      "..          ...        ...       ...       ...\n",
      "271  2022-02-04  -1.577869  8.592254 -0.600293\n",
      "272  2022-02-07  -2.225735  8.883338 -0.653553\n",
      "273  2022-02-08  -3.896302  8.754736 -0.853972\n",
      "274  2022-02-09  -2.623392  8.737802 -0.709949\n",
      "275  2022-02-10  -1.026499  9.128651 -0.504620\n",
      "\n",
      "[276 rows x 4 columns]\n"
     ]
    },
    {
     "name": "stderr",
     "output_type": "stream",
     "text": [
      "\u001b[32m[I 2022-05-26 20:31:11,931]\u001b[0m A new study created in memory with name: no-name-e3275cfd-0616-4851-8679-dc10d742ed76\u001b[0m\n",
      "\u001b[32m[I 2022-05-26 20:31:12,001]\u001b[0m Trial 0 finished with value: 0.2461357302649445 and parameters: {'ITERATIONS': 5, 'Q': 0.9120607262268735, 'EVA_RATE': 0.35168055493013484, 'ANTS': 2}. Best is trial 0 with value: 0.2461357302649445.\u001b[0m\n",
      "\u001b[32m[I 2022-05-26 20:31:12,078]\u001b[0m Trial 1 finished with value: 0.24275064152752876 and parameters: {'ITERATIONS': 5, 'Q': 0.7430224475324186, 'EVA_RATE': 0.7372535095043092, 'ANTS': 3}. Best is trial 0 with value: 0.2461357302649445.\u001b[0m\n"
     ]
    },
    {
     "name": "stdout",
     "output_type": "stream",
     "text": [
      "           Date    Returns      Risk     Ratio\n",
      "0    2021-01-01  20.812991  6.905090  2.495694\n",
      "1    2021-01-04  20.574005  7.037955  2.414623\n",
      "2    2021-01-05  21.652565  7.046567  2.564733\n",
      "3    2021-01-06  21.859558  7.094556  2.576561\n",
      "4    2021-01-07  21.504652  7.347479  2.439565\n",
      "..          ...        ...       ...       ...\n",
      "272  2022-02-07  -2.225735  8.883338 -0.653553\n",
      "273  2022-02-08  -3.896302  8.754736 -0.853972\n",
      "274  2022-02-09  -2.623392  8.737802 -0.709949\n",
      "275  2022-02-10  -1.026499  9.128651 -0.504620\n",
      "276  2022-02-11  -1.516358  8.952357 -0.569276\n",
      "\n",
      "[277 rows x 4 columns]\n"
     ]
    },
    {
     "name": "stderr",
     "output_type": "stream",
     "text": [
      "\u001b[32m[I 2022-05-26 20:31:12,235]\u001b[0m A new study created in memory with name: no-name-3dec153f-1579-4877-bb54-fc104a2ddcb6\u001b[0m\n",
      "\u001b[32m[I 2022-05-26 20:31:12,337]\u001b[0m Trial 0 finished with value: 0.20971285478225868 and parameters: {'ITERATIONS': 2, 'Q': 0.5472222366769597, 'EVA_RATE': 0.350468153752701, 'ANTS': 5}. Best is trial 0 with value: 0.20971285478225868.\u001b[0m\n",
      "\u001b[32m[I 2022-05-26 20:31:12,402]\u001b[0m Trial 1 finished with value: 0.20614837220629886 and parameters: {'ITERATIONS': 2, 'Q': 0.8442505953184097, 'EVA_RATE': 0.6107762771433983, 'ANTS': 4}. Best is trial 0 with value: 0.20971285478225868.\u001b[0m\n"
     ]
    },
    {
     "name": "stdout",
     "output_type": "stream",
     "text": [
      "           Date    Returns      Risk     Ratio\n",
      "0    2021-01-01  20.812991  6.905090  2.495694\n",
      "1    2021-01-04  20.574005  7.037955  2.414623\n",
      "2    2021-01-05  21.652565  7.046567  2.564733\n",
      "3    2021-01-06  21.859558  7.094556  2.576561\n",
      "4    2021-01-07  21.504652  7.347479  2.439565\n",
      "..          ...        ...       ...       ...\n",
      "273  2022-02-08  -3.896302  8.754736 -0.853972\n",
      "274  2022-02-09  -2.623392  8.737802 -0.709949\n",
      "275  2022-02-10  -1.026499  9.128651 -0.504620\n",
      "276  2022-02-11  -1.516358  8.952357 -0.569276\n",
      "277  2022-02-14  -3.729626  9.005878 -0.811651\n",
      "\n",
      "[278 rows x 4 columns]\n"
     ]
    },
    {
     "name": "stderr",
     "output_type": "stream",
     "text": [
      "\u001b[32m[I 2022-05-26 20:31:12,577]\u001b[0m A new study created in memory with name: no-name-41d1b8e5-0d10-4fce-8426-994bd88f823a\u001b[0m\n",
      "\u001b[32m[I 2022-05-26 20:31:12,671]\u001b[0m Trial 0 finished with value: 0.21079514767256768 and parameters: {'ITERATIONS': 2, 'Q': 0.8930177636932304, 'EVA_RATE': 0.8689143141792208, 'ANTS': 3}. Best is trial 0 with value: 0.21079514767256768.\u001b[0m\n",
      "\u001b[32m[I 2022-05-26 20:31:12,718]\u001b[0m Trial 1 finished with value: 0.23265707526097293 and parameters: {'ITERATIONS': 5, 'Q': 0.5972853055439613, 'EVA_RATE': 0.5223999683805078, 'ANTS': 2}. Best is trial 1 with value: 0.23265707526097293.\u001b[0m\n"
     ]
    },
    {
     "name": "stdout",
     "output_type": "stream",
     "text": [
      "           Date    Returns      Risk     Ratio\n",
      "0    2021-01-01  20.812991  6.905090  2.495694\n",
      "1    2021-01-04  20.574005  7.037955  2.414623\n",
      "2    2021-01-05  21.652565  7.046567  2.564733\n",
      "3    2021-01-06  21.859558  7.094556  2.576561\n",
      "4    2021-01-07  21.504652  7.347479  2.439565\n",
      "..          ...        ...       ...       ...\n",
      "274  2022-02-09  -2.623392  8.737802 -0.709949\n",
      "275  2022-02-10  -1.026499  9.128651 -0.504620\n",
      "276  2022-02-11  -1.516358  8.952357 -0.569276\n",
      "277  2022-02-14  -3.729626  9.005878 -0.811651\n",
      "278  2022-02-15  -4.045494  9.462388 -0.805874\n",
      "\n",
      "[279 rows x 4 columns]\n"
     ]
    },
    {
     "name": "stderr",
     "output_type": "stream",
     "text": [
      "\u001b[32m[I 2022-05-26 20:31:12,927]\u001b[0m A new study created in memory with name: no-name-976bede8-af59-43b5-b5cc-f48d0401471d\u001b[0m\n",
      "\u001b[32m[I 2022-05-26 20:31:12,992]\u001b[0m Trial 0 finished with value: 0.22239259398554354 and parameters: {'ITERATIONS': 2, 'Q': 0.6152308868188925, 'EVA_RATE': 0.8238426760646875, 'ANTS': 2}. Best is trial 0 with value: 0.22239259398554354.\u001b[0m\n",
      "\u001b[32m[I 2022-05-26 20:31:13,071]\u001b[0m Trial 1 finished with value: 0.235159771378745 and parameters: {'ITERATIONS': 4, 'Q': 0.3156977275059403, 'EVA_RATE': 0.9257042098547641, 'ANTS': 2}. Best is trial 1 with value: 0.235159771378745.\u001b[0m\n"
     ]
    },
    {
     "name": "stdout",
     "output_type": "stream",
     "text": [
      "           Date    Returns      Risk     Ratio\n",
      "0    2021-01-01  20.812991  6.905090  2.495694\n",
      "1    2021-01-04  20.574005  7.037955  2.414623\n",
      "2    2021-01-05  21.652565  7.046567  2.564733\n",
      "3    2021-01-06  21.859558  7.094556  2.576561\n",
      "4    2021-01-07  21.504652  7.347479  2.439565\n",
      "..          ...        ...       ...       ...\n",
      "275  2022-02-10  -1.026499  9.128651 -0.504620\n",
      "276  2022-02-11  -1.516358  8.952357 -0.569276\n",
      "277  2022-02-14  -3.729626  9.005878 -0.811651\n",
      "278  2022-02-15  -4.045494  9.462388 -0.805874\n",
      "279  2022-02-16  -1.810271  9.922236 -0.543252\n",
      "\n",
      "[280 rows x 4 columns]\n"
     ]
    },
    {
     "name": "stderr",
     "output_type": "stream",
     "text": [
      "\u001b[32m[I 2022-05-26 20:31:13,296]\u001b[0m A new study created in memory with name: no-name-34d13ec4-25e2-4a84-8c76-fd8eab7f9676\u001b[0m\n",
      "\u001b[32m[I 2022-05-26 20:31:13,419]\u001b[0m Trial 0 finished with value: 0.22465216823481837 and parameters: {'ITERATIONS': 5, 'Q': 0.9211775012706251, 'EVA_RATE': 0.23356705029917707, 'ANTS': 5}. Best is trial 0 with value: 0.22465216823481837.\u001b[0m\n"
     ]
    },
    {
     "name": "stdout",
     "output_type": "stream",
     "text": [
      "           Date    Returns      Risk     Ratio\n",
      "0    2021-01-01  20.812991  6.905090  2.495694\n",
      "1    2021-01-04  20.574005  7.037955  2.414623\n",
      "2    2021-01-05  21.652565  7.046567  2.564733\n",
      "3    2021-01-06  21.859558  7.094556  2.576561\n",
      "4    2021-01-07  21.504652  7.347479  2.439565\n",
      "..          ...        ...       ...       ...\n",
      "276  2022-02-11  -1.516358  8.952357 -0.569276\n",
      "277  2022-02-14  -3.729626  9.005878 -0.811651\n",
      "278  2022-02-15  -4.045494  9.462388 -0.805874\n",
      "279  2022-02-16  -1.810271  9.922236 -0.543252\n",
      "280  2022-02-17  -1.705179  9.526008 -0.554816\n",
      "\n",
      "[281 rows x 4 columns]\n"
     ]
    },
    {
     "name": "stderr",
     "output_type": "stream",
     "text": [
      "\u001b[32m[I 2022-05-26 20:31:13,488]\u001b[0m Trial 1 finished with value: 0.20878478151886593 and parameters: {'ITERATIONS': 2, 'Q': 0.45571125142043856, 'EVA_RATE': 0.6573929621158023, 'ANTS': 4}. Best is trial 0 with value: 0.22465216823481837.\u001b[0m\n",
      "\u001b[32m[I 2022-05-26 20:31:13,714]\u001b[0m A new study created in memory with name: no-name-ed256bc8-99c6-4b2c-bd7c-277fc335b7e5\u001b[0m\n",
      "\u001b[32m[I 2022-05-26 20:31:13,789]\u001b[0m Trial 0 finished with value: 0.21806871510569228 and parameters: {'ITERATIONS': 3, 'Q': 0.9488041233588806, 'EVA_RATE': 0.9035775253224627, 'ANTS': 5}. Best is trial 0 with value: 0.21806871510569228.\u001b[0m\n",
      "\u001b[32m[I 2022-05-26 20:31:13,874]\u001b[0m Trial 1 finished with value: 0.23024022163712962 and parameters: {'ITERATIONS': 5, 'Q': 0.7203155282305616, 'EVA_RATE': 0.43082074327256104, 'ANTS': 4}. Best is trial 1 with value: 0.23024022163712962.\u001b[0m\n"
     ]
    },
    {
     "name": "stdout",
     "output_type": "stream",
     "text": [
      "           Date    Returns       Risk     Ratio\n",
      "0    2021-01-01  20.812991   6.905090  2.495694\n",
      "1    2021-01-04  20.574005   7.037955  2.414623\n",
      "2    2021-01-05  21.652565   7.046567  2.564733\n",
      "3    2021-01-06  21.859558   7.094556  2.576561\n",
      "4    2021-01-07  21.504652   7.347479  2.439565\n",
      "..          ...        ...        ...       ...\n",
      "277  2022-02-14  -3.729626   9.005878 -0.811651\n",
      "278  2022-02-15  -4.045494   9.462388 -0.805874\n",
      "279  2022-02-16  -1.810271   9.922236 -0.543252\n",
      "280  2022-02-17  -1.705179   9.526008 -0.554816\n",
      "281  2022-02-18   0.660564  10.064400 -0.290076\n",
      "\n",
      "[282 rows x 4 columns]\n"
     ]
    },
    {
     "name": "stderr",
     "output_type": "stream",
     "text": [
      "\u001b[32m[I 2022-05-26 20:31:14,036]\u001b[0m A new study created in memory with name: no-name-75a7db3e-acc0-4d23-a11c-b0ee84768229\u001b[0m\n",
      "\u001b[32m[I 2022-05-26 20:31:14,120]\u001b[0m Trial 0 finished with value: 0.23805182388449336 and parameters: {'ITERATIONS': 5, 'Q': 0.8311804587623879, 'EVA_RATE': 0.4375202395219422, 'ANTS': 3}. Best is trial 0 with value: 0.23805182388449336.\u001b[0m\n",
      "\u001b[32m[I 2022-05-26 20:31:14,172]\u001b[0m Trial 1 finished with value: 0.2232852824620635 and parameters: {'ITERATIONS': 4, 'Q': 0.43071503978640335, 'EVA_RATE': 0.6905644741598104, 'ANTS': 2}. Best is trial 0 with value: 0.23805182388449336.\u001b[0m\n"
     ]
    },
    {
     "name": "stdout",
     "output_type": "stream",
     "text": [
      "           Date    Returns       Risk     Ratio\n",
      "0    2021-01-01  20.812991   6.905090  2.495694\n",
      "1    2021-01-04  20.574005   7.037955  2.414623\n",
      "2    2021-01-05  21.652565   7.046567  2.564733\n",
      "3    2021-01-06  21.859558   7.094556  2.576561\n",
      "4    2021-01-07  21.504652   7.347479  2.439565\n",
      "..          ...        ...        ...       ...\n",
      "278  2022-02-15  -4.045494   9.462388 -0.805874\n",
      "279  2022-02-16  -1.810271   9.922236 -0.543252\n",
      "280  2022-02-17  -1.705179   9.526008 -0.554816\n",
      "281  2022-02-18   0.660564  10.064400 -0.290076\n",
      "282  2022-02-21  -0.892376   9.716073 -0.460307\n",
      "\n",
      "[283 rows x 4 columns]\n"
     ]
    },
    {
     "name": "stderr",
     "output_type": "stream",
     "text": [
      "\u001b[32m[I 2022-05-26 20:31:14,352]\u001b[0m A new study created in memory with name: no-name-9feeda7d-f172-4c9d-ad52-c4a72f1af3a7\u001b[0m\n",
      "\u001b[32m[I 2022-05-26 20:31:14,430]\u001b[0m Trial 0 finished with value: 0.2220186344257055 and parameters: {'ITERATIONS': 5, 'Q': 0.8557240925273142, 'EVA_RATE': 0.1427328501317153, 'ANTS': 3}. Best is trial 0 with value: 0.2220186344257055.\u001b[0m\n",
      "\u001b[32m[I 2022-05-26 20:31:14,497]\u001b[0m Trial 1 finished with value: 0.21541003541867762 and parameters: {'ITERATIONS': 4, 'Q': 0.13513357295294434, 'EVA_RATE': 0.4990947394277948, 'ANTS': 3}. Best is trial 0 with value: 0.2220186344257055.\u001b[0m\n"
     ]
    },
    {
     "name": "stdout",
     "output_type": "stream",
     "text": [
      "           Date    Returns       Risk     Ratio\n",
      "0    2021-01-01  20.812991   6.905090  2.495694\n",
      "1    2021-01-04  20.574005   7.037955  2.414623\n",
      "2    2021-01-05  21.652565   7.046567  2.564733\n",
      "3    2021-01-06  21.859558   7.094556  2.576561\n",
      "4    2021-01-07  21.504652   7.347479  2.439565\n",
      "..          ...        ...        ...       ...\n",
      "279  2022-02-16  -1.810271   9.922236 -0.543252\n",
      "280  2022-02-17  -1.705179   9.526008 -0.554816\n",
      "281  2022-02-18   0.660564  10.064400 -0.290076\n",
      "282  2022-02-21  -0.892376   9.716073 -0.460307\n",
      "283  2022-02-22  -1.219596   9.185117 -0.522541\n",
      "\n",
      "[284 rows x 4 columns]\n"
     ]
    },
    {
     "name": "stderr",
     "output_type": "stream",
     "text": [
      "\u001b[32m[I 2022-05-26 20:31:14,670]\u001b[0m A new study created in memory with name: no-name-056b1703-f94d-45ba-9659-434c22c33788\u001b[0m\n",
      "\u001b[32m[I 2022-05-26 20:31:14,769]\u001b[0m Trial 0 finished with value: 0.22078075199412725 and parameters: {'ITERATIONS': 2, 'Q': 0.17461609823012386, 'EVA_RATE': 0.14705187653743174, 'ANTS': 5}. Best is trial 0 with value: 0.22078075199412725.\u001b[0m\n",
      "\u001b[32m[I 2022-05-26 20:31:14,852]\u001b[0m Trial 1 finished with value: 0.21960366342209273 and parameters: {'ITERATIONS': 2, 'Q': 0.36302081923087415, 'EVA_RATE': 0.5520286181309364, 'ANTS': 3}. Best is trial 0 with value: 0.22078075199412725.\u001b[0m\n"
     ]
    },
    {
     "name": "stdout",
     "output_type": "stream",
     "text": [
      "           Date    Returns       Risk     Ratio\n",
      "0    2021-01-01  20.812991   6.905090  2.495694\n",
      "1    2021-01-04  20.574005   7.037955  2.414623\n",
      "2    2021-01-05  21.652565   7.046567  2.564733\n",
      "3    2021-01-06  21.859558   7.094556  2.576561\n",
      "4    2021-01-07  21.504652   7.347479  2.439565\n",
      "..          ...        ...        ...       ...\n",
      "280  2022-02-17  -1.705179   9.526008 -0.554816\n",
      "281  2022-02-18   0.660564  10.064400 -0.290076\n",
      "282  2022-02-21  -0.892376   9.716073 -0.460307\n",
      "283  2022-02-22  -1.219596   9.185117 -0.522541\n",
      "284  2022-02-23  -2.228729   9.538656 -0.608967\n",
      "\n",
      "[285 rows x 4 columns]\n"
     ]
    },
    {
     "name": "stderr",
     "output_type": "stream",
     "text": [
      "\u001b[32m[I 2022-05-26 20:31:15,001]\u001b[0m A new study created in memory with name: no-name-413b9b4c-796d-411c-ba99-5aaa81797c42\u001b[0m\n",
      "\u001b[32m[I 2022-05-26 20:31:15,089]\u001b[0m Trial 0 finished with value: 0.21194932775513625 and parameters: {'ITERATIONS': 4, 'Q': 0.5576793416659642, 'EVA_RATE': 0.45959403193961135, 'ANTS': 2}. Best is trial 0 with value: 0.21194932775513625.\u001b[0m\n",
      "\u001b[32m[I 2022-05-26 20:31:15,153]\u001b[0m Trial 1 finished with value: 0.23164112438975556 and parameters: {'ITERATIONS': 4, 'Q': 0.2467252904265648, 'EVA_RATE': 0.26172762508237774, 'ANTS': 2}. Best is trial 1 with value: 0.23164112438975556.\u001b[0m\n"
     ]
    },
    {
     "name": "stdout",
     "output_type": "stream",
     "text": [
      "           Date    Returns       Risk     Ratio\n",
      "0    2021-01-01  20.812991   6.905090  2.495694\n",
      "1    2021-01-04  20.574005   7.037955  2.414623\n",
      "2    2021-01-05  21.652565   7.046567  2.564733\n",
      "3    2021-01-06  21.859558   7.094556  2.576561\n",
      "4    2021-01-07  21.504652   7.347479  2.439565\n",
      "..          ...        ...        ...       ...\n",
      "281  2022-02-18   0.660564  10.064400 -0.290076\n",
      "282  2022-02-21  -0.892376   9.716073 -0.460307\n",
      "283  2022-02-22  -1.219596   9.185117 -0.522541\n",
      "284  2022-02-23  -2.228729   9.538656 -0.608967\n",
      "285  2022-02-24  -0.275718   9.098951 -0.423754\n",
      "\n",
      "[286 rows x 4 columns]\n"
     ]
    },
    {
     "name": "stderr",
     "output_type": "stream",
     "text": [
      "\u001b[32m[I 2022-05-26 20:31:15,326]\u001b[0m A new study created in memory with name: no-name-dff0197a-2e3c-4278-93dd-5f378de4e0c0\u001b[0m\n",
      "\u001b[32m[I 2022-05-26 20:31:15,416]\u001b[0m Trial 0 finished with value: 0.2311885095747792 and parameters: {'ITERATIONS': 2, 'Q': 0.24767159921277782, 'EVA_RATE': 0.4722772876785327, 'ANTS': 3}. Best is trial 0 with value: 0.2311885095747792.\u001b[0m\n",
      "\u001b[32m[I 2022-05-26 20:31:15,498]\u001b[0m Trial 1 finished with value: 0.20972968183180368 and parameters: {'ITERATIONS': 3, 'Q': 0.7980927287086617, 'EVA_RATE': 0.6290438033937039, 'ANTS': 5}. Best is trial 0 with value: 0.2311885095747792.\u001b[0m\n"
     ]
    },
    {
     "name": "stdout",
     "output_type": "stream",
     "text": [
      "           Date    Returns       Risk     Ratio\n",
      "0    2021-01-01  20.812991   6.905090  2.495694\n",
      "1    2021-01-04  20.574005   7.037955  2.414623\n",
      "2    2021-01-05  21.652565   7.046567  2.564733\n",
      "3    2021-01-06  21.859558   7.094556  2.576561\n",
      "4    2021-01-07  21.504652   7.347479  2.439565\n",
      "..          ...        ...        ...       ...\n",
      "282  2022-02-21  -0.892376   9.716073 -0.460307\n",
      "283  2022-02-22  -1.219596   9.185117 -0.522541\n",
      "284  2022-02-23  -2.228729   9.538656 -0.608967\n",
      "285  2022-02-24  -0.275718   9.098951 -0.423754\n",
      "286  2022-02-25  -3.650118  10.568513 -0.684119\n",
      "\n",
      "[287 rows x 4 columns]\n"
     ]
    },
    {
     "name": "stderr",
     "output_type": "stream",
     "text": [
      "\u001b[32m[I 2022-05-26 20:31:15,649]\u001b[0m A new study created in memory with name: no-name-61a4d2a8-ee3b-4f4e-8af3-20b611c8ffce\u001b[0m\n",
      "\u001b[32m[I 2022-05-26 20:31:15,747]\u001b[0m Trial 0 finished with value: 0.22749240770752352 and parameters: {'ITERATIONS': 2, 'Q': 0.9279214810171911, 'EVA_RATE': 0.12478826924110933, 'ANTS': 4}. Best is trial 0 with value: 0.22749240770752352.\u001b[0m\n",
      "\u001b[32m[I 2022-05-26 20:31:15,826]\u001b[0m Trial 1 finished with value: 0.2590287719960405 and parameters: {'ITERATIONS': 5, 'Q': 0.37882472180770377, 'EVA_RATE': 0.16547969016653236, 'ANTS': 2}. Best is trial 1 with value: 0.2590287719960405.\u001b[0m\n"
     ]
    },
    {
     "name": "stdout",
     "output_type": "stream",
     "text": [
      "           Date    Returns       Risk     Ratio\n",
      "0    2021-01-01  20.812991   6.905090  2.495694\n",
      "1    2021-01-04  20.574005   7.037955  2.414623\n",
      "2    2021-01-05  21.652565   7.046567  2.564733\n",
      "3    2021-01-06  21.859558   7.094556  2.576561\n",
      "4    2021-01-07  21.504652   7.347479  2.439565\n",
      "..          ...        ...        ...       ...\n",
      "283  2022-02-22  -1.219596   9.185117 -0.522541\n",
      "284  2022-02-23  -2.228729   9.538656 -0.608967\n",
      "285  2022-02-24  -0.275718   9.098951 -0.423754\n",
      "286  2022-02-25  -3.650118  10.568513 -0.684119\n",
      "287  2022-02-28  -2.763310  10.909346 -0.581456\n",
      "\n",
      "[288 rows x 4 columns]\n"
     ]
    },
    {
     "name": "stderr",
     "output_type": "stream",
     "text": [
      "\u001b[32m[I 2022-05-26 20:31:15,968]\u001b[0m A new study created in memory with name: no-name-4fef3d3c-ea0b-4451-bea4-1f577c574edf\u001b[0m\n",
      "\u001b[32m[I 2022-05-26 20:31:16,043]\u001b[0m Trial 0 finished with value: 0.23847460525399042 and parameters: {'ITERATIONS': 5, 'Q': 0.6565325742695828, 'EVA_RATE': 0.8953138118435684, 'ANTS': 3}. Best is trial 0 with value: 0.23847460525399042.\u001b[0m\n",
      "\u001b[32m[I 2022-05-26 20:31:16,089]\u001b[0m Trial 1 finished with value: 0.2391554056195093 and parameters: {'ITERATIONS': 3, 'Q': 0.13154033699447873, 'EVA_RATE': 0.5626184892499042, 'ANTS': 2}. Best is trial 1 with value: 0.2391554056195093.\u001b[0m\n"
     ]
    },
    {
     "name": "stdout",
     "output_type": "stream",
     "text": [
      "           Date    Returns       Risk     Ratio\n",
      "0    2021-01-01  20.812991   6.905090  2.495694\n",
      "1    2021-01-04  20.574005   7.037955  2.414623\n",
      "2    2021-01-05  21.652565   7.046567  2.564733\n",
      "3    2021-01-06  21.859558   7.094556  2.576561\n",
      "4    2021-01-07  21.504652   7.347479  2.439565\n",
      "..          ...        ...        ...       ...\n",
      "284  2022-02-23  -2.228729   9.538656 -0.608967\n",
      "285  2022-02-24  -0.275718   9.098951 -0.423754\n",
      "286  2022-02-25  -3.650118  10.568513 -0.684119\n",
      "287  2022-02-28  -2.763310  10.909346 -0.581456\n",
      "288  2022-03-02  -0.009438  11.256039 -0.318890\n",
      "\n",
      "[289 rows x 4 columns]\n"
     ]
    },
    {
     "name": "stderr",
     "output_type": "stream",
     "text": [
      "\u001b[32m[I 2022-05-26 20:31:16,254]\u001b[0m A new study created in memory with name: no-name-1b09ae31-4b07-42b0-af8d-b714a22c001e\u001b[0m\n",
      "\u001b[32m[I 2022-05-26 20:31:16,319]\u001b[0m Trial 0 finished with value: 0.20060038257275128 and parameters: {'ITERATIONS': 4, 'Q': 0.7824721850212003, 'EVA_RATE': 0.7398257407653062, 'ANTS': 2}. Best is trial 0 with value: 0.20060038257275128.\u001b[0m\n",
      "\u001b[32m[I 2022-05-26 20:31:16,386]\u001b[0m Trial 1 finished with value: 0.22425656449340314 and parameters: {'ITERATIONS': 3, 'Q': 0.8994486201212282, 'EVA_RATE': 0.3146307525579253, 'ANTS': 3}. Best is trial 1 with value: 0.22425656449340314.\u001b[0m\n"
     ]
    },
    {
     "name": "stdout",
     "output_type": "stream",
     "text": [
      "           Date    Returns       Risk     Ratio\n",
      "0    2021-01-01  20.812991   6.905090  2.495694\n",
      "1    2021-01-04  20.574005   7.037955  2.414623\n",
      "2    2021-01-05  21.652565   7.046567  2.564733\n",
      "3    2021-01-06  21.859558   7.094556  2.576561\n",
      "4    2021-01-07  21.504652   7.347479  2.439565\n",
      "..          ...        ...        ...       ...\n",
      "285  2022-02-24  -0.275718   9.098951 -0.423754\n",
      "286  2022-02-25  -3.650118  10.568513 -0.684119\n",
      "287  2022-02-28  -2.763310  10.909346 -0.581456\n",
      "288  2022-03-02  -0.009438  11.256039 -0.318890\n",
      "289  2022-03-03  -1.632368  11.398607 -0.457281\n",
      "\n",
      "[290 rows x 4 columns]\n"
     ]
    },
    {
     "name": "stderr",
     "output_type": "stream",
     "text": [
      "\u001b[32m[I 2022-05-26 20:31:16,569]\u001b[0m A new study created in memory with name: no-name-b9ab24f5-5bdc-41be-b742-94adad6fcb7b\u001b[0m\n",
      "\u001b[32m[I 2022-05-26 20:31:16,669]\u001b[0m Trial 0 finished with value: 0.25009324916170206 and parameters: {'ITERATIONS': 5, 'Q': 0.19637490659233098, 'EVA_RATE': 0.1509804141610777, 'ANTS': 5}. Best is trial 0 with value: 0.25009324916170206.\u001b[0m\n",
      "\u001b[32m[I 2022-05-26 20:31:16,736]\u001b[0m Trial 1 finished with value: 0.21513421520587417 and parameters: {'ITERATIONS': 2, 'Q': 0.8444226841088366, 'EVA_RATE': 0.6920961732963619, 'ANTS': 2}. Best is trial 0 with value: 0.25009324916170206.\u001b[0m\n"
     ]
    },
    {
     "name": "stdout",
     "output_type": "stream",
     "text": [
      "           Date    Returns       Risk     Ratio\n",
      "0    2021-01-01  20.812991   6.905090  2.495694\n",
      "1    2021-01-04  20.574005   7.037955  2.414623\n",
      "2    2021-01-05  21.652565   7.046567  2.564733\n",
      "3    2021-01-06  21.859558   7.094556  2.576561\n",
      "4    2021-01-07  21.504652   7.347479  2.439565\n",
      "..          ...        ...        ...       ...\n",
      "286  2022-02-25  -3.650118  10.568513 -0.684119\n",
      "287  2022-02-28  -2.763310  10.909346 -0.581456\n",
      "288  2022-03-02  -0.009438  11.256039 -0.318890\n",
      "289  2022-03-03  -1.632368  11.398607 -0.457281\n",
      "290  2022-03-04  -1.498809  10.414481 -0.487668\n",
      "\n",
      "[291 rows x 4 columns]\n"
     ]
    },
    {
     "name": "stderr",
     "output_type": "stream",
     "text": [
      "\u001b[32m[I 2022-05-26 20:31:16,953]\u001b[0m A new study created in memory with name: no-name-e319e15b-ef4e-47a3-98b4-2f76fae5c205\u001b[0m\n",
      "\u001b[32m[I 2022-05-26 20:31:17,030]\u001b[0m Trial 0 finished with value: 0.21025347303446207 and parameters: {'ITERATIONS': 3, 'Q': 0.17614194028866026, 'EVA_RATE': 0.7945402898215012, 'ANTS': 2}. Best is trial 0 with value: 0.21025347303446207.\u001b[0m\n",
      "\u001b[32m[I 2022-05-26 20:31:17,104]\u001b[0m Trial 1 finished with value: 0.22220510927300735 and parameters: {'ITERATIONS': 4, 'Q': 0.9098786423892105, 'EVA_RATE': 0.3442837866930194, 'ANTS': 2}. Best is trial 1 with value: 0.22220510927300735.\u001b[0m\n"
     ]
    },
    {
     "name": "stdout",
     "output_type": "stream",
     "text": [
      "           Date    Returns       Risk     Ratio\n",
      "0    2021-01-01  20.812991   6.905090  2.495694\n",
      "1    2021-01-04  20.574005   7.037955  2.414623\n",
      "2    2021-01-05  21.652565   7.046567  2.564733\n",
      "3    2021-01-06  21.859558   7.094556  2.576561\n",
      "4    2021-01-07  21.504652   7.347479  2.439565\n",
      "..          ...        ...        ...       ...\n",
      "287  2022-02-28  -2.763310  10.909346 -0.581456\n",
      "288  2022-03-02  -0.009438  11.256039 -0.318890\n",
      "289  2022-03-03  -1.632368  11.398607 -0.457281\n",
      "290  2022-03-04  -1.498809  10.414481 -0.487668\n",
      "291  2022-03-07  -0.370313  10.655311 -0.370737\n",
      "\n",
      "[292 rows x 4 columns]\n"
     ]
    },
    {
     "name": "stderr",
     "output_type": "stream",
     "text": [
      "\u001b[32m[I 2022-05-26 20:31:17,235]\u001b[0m A new study created in memory with name: no-name-83e8ea51-6e46-4cb9-a269-89b2cf824d61\u001b[0m\n",
      "\u001b[32m[I 2022-05-26 20:31:17,287]\u001b[0m Trial 0 finished with value: 0.23117236069945804 and parameters: {'ITERATIONS': 5, 'Q': 0.3247608001381559, 'EVA_RATE': 0.6516231333673693, 'ANTS': 2}. Best is trial 0 with value: 0.23117236069945804.\u001b[0m\n",
      "\u001b[32m[I 2022-05-26 20:31:17,336]\u001b[0m Trial 1 finished with value: 0.20926340227338547 and parameters: {'ITERATIONS': 2, 'Q': 0.3349672044412486, 'EVA_RATE': 0.9913099886815974, 'ANTS': 2}. Best is trial 0 with value: 0.23117236069945804.\u001b[0m\n"
     ]
    },
    {
     "name": "stdout",
     "output_type": "stream",
     "text": [
      "           Date    Returns       Risk     Ratio\n",
      "0    2021-01-01  20.812991   6.905090  2.495694\n",
      "1    2021-01-04  20.574005   7.037955  2.414623\n",
      "2    2021-01-05  21.652565   7.046567  2.564733\n",
      "3    2021-01-06  21.859558   7.094556  2.576561\n",
      "4    2021-01-07  21.504652   7.347479  2.439565\n",
      "..          ...        ...        ...       ...\n",
      "288  2022-03-02  -0.009438  11.256039 -0.318890\n",
      "289  2022-03-03  -1.632368  11.398607 -0.457281\n",
      "290  2022-03-04  -1.498809  10.414481 -0.487668\n",
      "291  2022-03-07  -0.370313  10.655311 -0.370737\n",
      "292  2022-03-08  -5.163418   9.868615 -0.885982\n",
      "\n",
      "[293 rows x 4 columns]\n"
     ]
    },
    {
     "name": "stderr",
     "output_type": "stream",
     "text": [
      "\u001b[32m[I 2022-05-26 20:31:17,497]\u001b[0m A new study created in memory with name: no-name-16af182e-7579-4ffd-8158-0f946a0a74d3\u001b[0m\n",
      "\u001b[32m[I 2022-05-26 20:31:17,586]\u001b[0m Trial 0 finished with value: 0.228326225388894 and parameters: {'ITERATIONS': 4, 'Q': 0.47801944427418763, 'EVA_RATE': 0.46623707886064714, 'ANTS': 3}. Best is trial 0 with value: 0.228326225388894.\u001b[0m\n"
     ]
    },
    {
     "name": "stdout",
     "output_type": "stream",
     "text": [
      "           Date    Returns       Risk     Ratio\n",
      "0    2021-01-01  20.812991   6.905090  2.495694\n",
      "1    2021-01-04  20.574005   7.037955  2.414623\n",
      "2    2021-01-05  21.652565   7.046567  2.564733\n",
      "3    2021-01-06  21.859558   7.094556  2.576561\n",
      "4    2021-01-07  21.504652   7.347479  2.439565\n",
      "..          ...        ...        ...       ...\n",
      "289  2022-03-03  -1.632368  11.398607 -0.457281\n",
      "290  2022-03-04  -1.498809  10.414481 -0.487668\n",
      "291  2022-03-07  -0.370313  10.655311 -0.370737\n",
      "292  2022-03-08  -5.163418   9.868615 -0.885982\n",
      "293  2022-03-09  -5.872766  10.858052 -0.870577\n",
      "\n",
      "[294 rows x 4 columns]\n"
     ]
    },
    {
     "name": "stderr",
     "output_type": "stream",
     "text": [
      "\u001b[32m[I 2022-05-26 20:31:17,711]\u001b[0m Trial 1 finished with value: 0.23216720836373064 and parameters: {'ITERATIONS': 5, 'Q': 0.24675090821338716, 'EVA_RATE': 0.2967753573091191, 'ANTS': 5}. Best is trial 1 with value: 0.23216720836373064.\u001b[0m\n",
      "\u001b[32m[I 2022-05-26 20:31:17,954]\u001b[0m A new study created in memory with name: no-name-31fa30e9-9039-4088-9dab-5be43a8ef90a\u001b[0m\n",
      "\u001b[32m[I 2022-05-26 20:31:18,076]\u001b[0m Trial 0 finished with value: 0.22220562857703166 and parameters: {'ITERATIONS': 5, 'Q': 0.2669200494228062, 'EVA_RATE': 0.3564884914837123, 'ANTS': 5}. Best is trial 0 with value: 0.22220562857703166.\u001b[0m\n",
      "\u001b[32m[I 2022-05-26 20:31:18,146]\u001b[0m Trial 1 finished with value: 0.23276166651601418 and parameters: {'ITERATIONS': 2, 'Q': 0.5828040837130618, 'EVA_RATE': 0.16089474320417385, 'ANTS': 2}. Best is trial 1 with value: 0.23276166651601418.\u001b[0m\n"
     ]
    },
    {
     "name": "stdout",
     "output_type": "stream",
     "text": [
      "           Date    Returns       Risk     Ratio\n",
      "0    2021-01-01  20.812991   6.905090  2.495694\n",
      "1    2021-01-04  20.574005   7.037955  2.414623\n",
      "2    2021-01-05  21.652565   7.046567  2.564733\n",
      "3    2021-01-06  21.859558   7.094556  2.576561\n",
      "4    2021-01-07  21.504652   7.347479  2.439565\n",
      "..          ...        ...        ...       ...\n",
      "290  2022-03-04  -1.498809  10.414481 -0.487668\n",
      "291  2022-03-07  -0.370313  10.655311 -0.370737\n",
      "292  2022-03-08  -5.163418   9.868615 -0.885982\n",
      "293  2022-03-09  -5.872766  10.858052 -0.870577\n",
      "294  2022-03-10  -3.242033  10.866974 -0.627777\n",
      "\n",
      "[295 rows x 4 columns]\n"
     ]
    },
    {
     "name": "stderr",
     "output_type": "stream",
     "text": [
      "\u001b[32m[I 2022-05-26 20:31:18,345]\u001b[0m A new study created in memory with name: no-name-19961aff-f0fc-433b-9c8c-3288a4677c63\u001b[0m\n",
      "\u001b[32m[I 2022-05-26 20:31:18,412]\u001b[0m Trial 0 finished with value: 0.2179180065629573 and parameters: {'ITERATIONS': 5, 'Q': 0.752086058366682, 'EVA_RATE': 0.8181832207551324, 'ANTS': 2}. Best is trial 0 with value: 0.2179180065629573.\u001b[0m\n",
      "\u001b[32m[I 2022-05-26 20:31:18,469]\u001b[0m Trial 1 finished with value: 0.21006736041263283 and parameters: {'ITERATIONS': 3, 'Q': 0.24668558845917044, 'EVA_RATE': 0.596276013221032, 'ANTS': 2}. Best is trial 0 with value: 0.2179180065629573.\u001b[0m\n"
     ]
    },
    {
     "name": "stdout",
     "output_type": "stream",
     "text": [
      "           Date    Returns       Risk     Ratio\n",
      "0    2021-01-01  20.812991   6.905090  2.495694\n",
      "1    2021-01-04  20.574005   7.037955  2.414623\n",
      "2    2021-01-05  21.652565   7.046567  2.564733\n",
      "3    2021-01-06  21.859558   7.094556  2.576561\n",
      "4    2021-01-07  21.504652   7.347479  2.439565\n",
      "..          ...        ...        ...       ...\n",
      "291  2022-03-07  -0.370313  10.655311 -0.370737\n",
      "292  2022-03-08  -5.163418   9.868615 -0.885982\n",
      "293  2022-03-09  -5.872766  10.858052 -0.870577\n",
      "294  2022-03-10  -3.242033  10.866974 -0.627777\n",
      "295  2022-03-11  -2.597764  10.989067 -0.562174\n",
      "\n",
      "[296 rows x 4 columns]\n"
     ]
    },
    {
     "name": "stderr",
     "output_type": "stream",
     "text": [
      "\u001b[32m[I 2022-05-26 20:31:18,677]\u001b[0m A new study created in memory with name: no-name-968ef925-a3a2-444e-9810-cd520c4e6c42\u001b[0m\n",
      "\u001b[32m[I 2022-05-26 20:31:18,750]\u001b[0m Trial 0 finished with value: 0.23521506690733598 and parameters: {'ITERATIONS': 4, 'Q': 0.7159726317752344, 'EVA_RATE': 0.43547436941333495, 'ANTS': 3}. Best is trial 0 with value: 0.23521506690733598.\u001b[0m\n",
      "\u001b[32m[I 2022-05-26 20:31:18,810]\u001b[0m Trial 1 finished with value: 0.21490944386589103 and parameters: {'ITERATIONS': 5, 'Q': 0.14098514590595984, 'EVA_RATE': 0.9199890179087876, 'ANTS': 2}. Best is trial 0 with value: 0.23521506690733598.\u001b[0m\n"
     ]
    },
    {
     "name": "stdout",
     "output_type": "stream",
     "text": [
      "           Date    Returns       Risk     Ratio\n",
      "0    2021-01-01  20.812991   6.905090  2.495694\n",
      "1    2021-01-04  20.574005   7.037955  2.414623\n",
      "2    2021-01-05  21.652565   7.046567  2.564733\n",
      "3    2021-01-06  21.859558   7.094556  2.576561\n",
      "4    2021-01-07  21.504652   7.347479  2.439565\n",
      "..          ...        ...        ...       ...\n",
      "292  2022-03-08  -5.163418   9.868615 -0.885982\n",
      "293  2022-03-09  -5.872766  10.858052 -0.870577\n",
      "294  2022-03-10  -3.242033  10.866974 -0.627777\n",
      "295  2022-03-11  -2.597764  10.989067 -0.562174\n",
      "296  2022-03-14  -1.649579  10.586822 -0.493971\n",
      "\n",
      "[297 rows x 4 columns]\n"
     ]
    },
    {
     "name": "stderr",
     "output_type": "stream",
     "text": [
      "\u001b[32m[I 2022-05-26 20:31:18,940]\u001b[0m A new study created in memory with name: no-name-721421eb-ebbd-4fc1-80f0-6e4a16ea3f18\u001b[0m\n",
      "\u001b[32m[I 2022-05-26 20:31:19,034]\u001b[0m Trial 0 finished with value: 0.25080774388051064 and parameters: {'ITERATIONS': 5, 'Q': 0.1983336542902227, 'EVA_RATE': 0.6355887340157304, 'ANTS': 4}. Best is trial 0 with value: 0.25080774388051064.\u001b[0m\n",
      "\u001b[32m[I 2022-05-26 20:31:19,132]\u001b[0m Trial 1 finished with value: 0.242155693612608 and parameters: {'ITERATIONS': 3, 'Q': 0.14751114300352294, 'EVA_RATE': 0.33813474779929864, 'ANTS': 5}. Best is trial 0 with value: 0.25080774388051064.\u001b[0m\n"
     ]
    },
    {
     "name": "stdout",
     "output_type": "stream",
     "text": [
      "           Date    Returns       Risk     Ratio\n",
      "0    2021-01-01  20.812991   6.905090  2.495694\n",
      "1    2021-01-04  20.574005   7.037955  2.414623\n",
      "2    2021-01-05  21.652565   7.046567  2.564733\n",
      "3    2021-01-06  21.859558   7.094556  2.576561\n",
      "4    2021-01-07  21.504652   7.347479  2.439565\n",
      "..          ...        ...        ...       ...\n",
      "293  2022-03-09  -5.872766  10.858052 -0.870577\n",
      "294  2022-03-10  -3.242033  10.866974 -0.627777\n",
      "295  2022-03-11  -2.597764  10.989067 -0.562174\n",
      "296  2022-03-14  -1.649579  10.586822 -0.493971\n",
      "297  2022-03-15  -0.131178  11.438220 -0.324454\n",
      "\n",
      "[298 rows x 4 columns]\n"
     ]
    },
    {
     "name": "stderr",
     "output_type": "stream",
     "text": [
      "\u001b[32m[I 2022-05-26 20:31:19,348]\u001b[0m A new study created in memory with name: no-name-6ee434f1-bcb7-4ea1-a58c-d97a98f5d963\u001b[0m\n",
      "\u001b[32m[I 2022-05-26 20:31:19,442]\u001b[0m Trial 0 finished with value: 0.24133766911263965 and parameters: {'ITERATIONS': 5, 'Q': 0.12145026780835273, 'EVA_RATE': 0.5877314122521644, 'ANTS': 4}. Best is trial 0 with value: 0.24133766911263965.\u001b[0m\n",
      "\u001b[32m[I 2022-05-26 20:31:19,514]\u001b[0m Trial 1 finished with value: 0.22900639895556965 and parameters: {'ITERATIONS': 5, 'Q': 0.14266485958973693, 'EVA_RATE': 0.9826506445340153, 'ANTS': 5}. Best is trial 0 with value: 0.24133766911263965.\u001b[0m\n"
     ]
    },
    {
     "name": "stdout",
     "output_type": "stream",
     "text": [
      "           Date    Returns       Risk     Ratio\n",
      "0    2021-01-01  20.812991   6.905090  2.495694\n",
      "1    2021-01-04  20.574005   7.037955  2.414623\n",
      "2    2021-01-05  21.652565   7.046567  2.564733\n",
      "3    2021-01-06  21.859558   7.094556  2.576561\n",
      "4    2021-01-07  21.504652   7.347479  2.439565\n",
      "..          ...        ...        ...       ...\n",
      "294  2022-03-10  -3.242033  10.866974 -0.627777\n",
      "295  2022-03-11  -2.597764  10.989067 -0.562174\n",
      "296  2022-03-14  -1.649579  10.586822 -0.493971\n",
      "297  2022-03-15  -0.131178  11.438220 -0.324454\n",
      "298  2022-03-16  -1.209238  10.371207 -0.461782\n",
      "\n",
      "[299 rows x 4 columns]\n"
     ]
    },
    {
     "name": "stderr",
     "output_type": "stream",
     "text": [
      "\u001b[32m[I 2022-05-26 20:31:19,719]\u001b[0m A new study created in memory with name: no-name-cd4410ef-9588-4ee2-8ae1-3ed2595220ea\u001b[0m\n",
      "\u001b[32m[I 2022-05-26 20:31:19,801]\u001b[0m Trial 0 finished with value: 0.2114845945083433 and parameters: {'ITERATIONS': 3, 'Q': 0.20886509336735912, 'EVA_RATE': 0.4245748724184186, 'ANTS': 3}. Best is trial 0 with value: 0.2114845945083433.\u001b[0m\n",
      "\u001b[32m[I 2022-05-26 20:31:19,866]\u001b[0m Trial 1 finished with value: 0.21537076335350527 and parameters: {'ITERATIONS': 2, 'Q': 0.34363861769725346, 'EVA_RATE': 0.9024709832096878, 'ANTS': 4}. Best is trial 1 with value: 0.21537076335350527.\u001b[0m\n"
     ]
    },
    {
     "name": "stdout",
     "output_type": "stream",
     "text": [
      "           Date    Returns       Risk     Ratio\n",
      "0    2021-01-01  20.812991   6.905090  2.495694\n",
      "1    2021-01-04  20.574005   7.037955  2.414623\n",
      "2    2021-01-05  21.652565   7.046567  2.564733\n",
      "3    2021-01-06  21.859558   7.094556  2.576561\n",
      "4    2021-01-07  21.504652   7.347479  2.439565\n",
      "..          ...        ...        ...       ...\n",
      "295  2022-03-11  -2.597764  10.989067 -0.562174\n",
      "296  2022-03-14  -1.649579  10.586822 -0.493971\n",
      "297  2022-03-15  -0.131178  11.438220 -0.324454\n",
      "298  2022-03-16  -1.209238  10.371207 -0.461782\n",
      "299  2022-03-17   0.898075  11.033429 -0.243073\n",
      "\n",
      "[300 rows x 4 columns]\n"
     ]
    },
    {
     "name": "stderr",
     "output_type": "stream",
     "text": [
      "\u001b[32m[I 2022-05-26 20:31:20,085]\u001b[0m A new study created in memory with name: no-name-78e717ea-8910-4abd-8822-1c17ddb1e2e7\u001b[0m\n",
      "\u001b[32m[I 2022-05-26 20:31:20,153]\u001b[0m Trial 0 finished with value: 0.1858630825438799 and parameters: {'ITERATIONS': 2, 'Q': 0.43019569514689093, 'EVA_RATE': 0.15662462093474389, 'ANTS': 3}. Best is trial 0 with value: 0.1858630825438799.\u001b[0m\n",
      "\u001b[32m[I 2022-05-26 20:31:20,211]\u001b[0m Trial 1 finished with value: 0.23153014820664275 and parameters: {'ITERATIONS': 2, 'Q': 0.11109732630689906, 'EVA_RATE': 0.5348526814168726, 'ANTS': 2}. Best is trial 1 with value: 0.23153014820664275.\u001b[0m\n"
     ]
    },
    {
     "name": "stdout",
     "output_type": "stream",
     "text": [
      "           Date    Returns       Risk     Ratio\n",
      "0    2021-01-01  20.812991   6.905090  2.495694\n",
      "1    2021-01-04  20.574005   7.037955  2.414623\n",
      "2    2021-01-05  21.652565   7.046567  2.564733\n",
      "3    2021-01-06  21.859558   7.094556  2.576561\n",
      "4    2021-01-07  21.504652   7.347479  2.439565\n",
      "..          ...        ...        ...       ...\n",
      "296  2022-03-14  -1.649579  10.586822 -0.493971\n",
      "297  2022-03-15  -0.131178  11.438220 -0.324454\n",
      "298  2022-03-16  -1.209238  10.371207 -0.461782\n",
      "299  2022-03-17   0.898075  11.033429 -0.243073\n",
      "300  2022-03-21   3.317139  11.065246 -0.023756\n",
      "\n",
      "[301 rows x 4 columns]\n"
     ]
    },
    {
     "name": "stderr",
     "output_type": "stream",
     "text": [
      "\u001b[32m[I 2022-05-26 20:31:20,411]\u001b[0m A new study created in memory with name: no-name-77848cd0-c83b-4c2a-a14d-2f8dce25ee10\u001b[0m\n",
      "\u001b[32m[I 2022-05-26 20:31:20,469]\u001b[0m Trial 0 finished with value: 0.26711143388526065 and parameters: {'ITERATIONS': 3, 'Q': 0.27905027646229463, 'EVA_RATE': 0.518690100261727, 'ANTS': 3}. Best is trial 0 with value: 0.26711143388526065.\u001b[0m\n",
      "\u001b[32m[I 2022-05-26 20:31:20,565]\u001b[0m Trial 1 finished with value: 0.2391156450100768 and parameters: {'ITERATIONS': 3, 'Q': 0.15134488037000085, 'EVA_RATE': 0.1511573761048186, 'ANTS': 5}. Best is trial 0 with value: 0.26711143388526065.\u001b[0m\n"
     ]
    },
    {
     "name": "stdout",
     "output_type": "stream",
     "text": [
      "           Date    Returns       Risk     Ratio\n",
      "0    2021-01-01  20.812991   6.905090  2.495694\n",
      "1    2021-01-04  20.574005   7.037955  2.414623\n",
      "2    2021-01-05  21.652565   7.046567  2.564733\n",
      "3    2021-01-06  21.859558   7.094556  2.576561\n",
      "4    2021-01-07  21.504652   7.347479  2.439565\n",
      "..          ...        ...        ...       ...\n",
      "297  2022-03-15  -0.131178  11.438220 -0.324454\n",
      "298  2022-03-16  -1.209238  10.371207 -0.461782\n",
      "299  2022-03-17   0.898075  11.033429 -0.243073\n",
      "300  2022-03-21   3.317139  11.065246 -0.023756\n",
      "301  2022-03-22   4.799555  11.685938  0.104361\n",
      "\n",
      "[302 rows x 4 columns]\n"
     ]
    },
    {
     "name": "stderr",
     "output_type": "stream",
     "text": [
      "\u001b[32m[I 2022-05-26 20:31:20,742]\u001b[0m A new study created in memory with name: no-name-5132f2af-0345-4a6c-a585-ded61cd8c29f\u001b[0m\n",
      "\u001b[32m[I 2022-05-26 20:31:20,808]\u001b[0m Trial 0 finished with value: 0.21429907711456264 and parameters: {'ITERATIONS': 5, 'Q': 0.9207140133541706, 'EVA_RATE': 0.976941193604148, 'ANTS': 2}. Best is trial 0 with value: 0.21429907711456264.\u001b[0m\n",
      "\u001b[32m[I 2022-05-26 20:31:20,883]\u001b[0m Trial 1 finished with value: 0.21756036778641252 and parameters: {'ITERATIONS': 5, 'Q': 0.47839552305994226, 'EVA_RATE': 0.972845934201127, 'ANTS': 5}. Best is trial 1 with value: 0.21756036778641252.\u001b[0m\n"
     ]
    },
    {
     "name": "stdout",
     "output_type": "stream",
     "text": [
      "           Date    Returns       Risk     Ratio\n",
      "0    2021-01-01  20.812991   6.905090  2.495694\n",
      "1    2021-01-04  20.574005   7.037955  2.414623\n",
      "2    2021-01-05  21.652565   7.046567  2.564733\n",
      "3    2021-01-06  21.859558   7.094556  2.576561\n",
      "4    2021-01-07  21.504652   7.347479  2.439565\n",
      "..          ...        ...        ...       ...\n",
      "298  2022-03-16  -1.209238  10.371207 -0.461782\n",
      "299  2022-03-17   0.898075  11.033429 -0.243073\n",
      "300  2022-03-21   3.317139  11.065246 -0.023756\n",
      "301  2022-03-22   4.799555  11.685938  0.104361\n",
      "302  2022-03-23   2.930106  10.858209 -0.059853\n",
      "\n",
      "[303 rows x 4 columns]\n"
     ]
    },
    {
     "name": "stderr",
     "output_type": "stream",
     "text": [
      "\u001b[32m[I 2022-05-26 20:31:21,083]\u001b[0m A new study created in memory with name: no-name-f60c4c03-7d2d-4fa7-ba84-931e1a594d6d\u001b[0m\n",
      "\u001b[32m[I 2022-05-26 20:31:21,167]\u001b[0m Trial 0 finished with value: 0.22304773926827628 and parameters: {'ITERATIONS': 4, 'Q': 0.9982530927483246, 'EVA_RATE': 0.5124995014038899, 'ANTS': 3}. Best is trial 0 with value: 0.22304773926827628.\u001b[0m\n",
      "\u001b[32m[I 2022-05-26 20:31:21,245]\u001b[0m Trial 1 finished with value: 0.20492538442268804 and parameters: {'ITERATIONS': 2, 'Q': 0.5305412844648413, 'EVA_RATE': 0.7557902012129445, 'ANTS': 3}. Best is trial 0 with value: 0.22304773926827628.\u001b[0m\n"
     ]
    },
    {
     "name": "stdout",
     "output_type": "stream",
     "text": [
      "           Date    Returns       Risk     Ratio\n",
      "0    2021-01-01  20.812991   6.905090  2.495694\n",
      "1    2021-01-04  20.574005   7.037955  2.414623\n",
      "2    2021-01-05  21.652565   7.046567  2.564733\n",
      "3    2021-01-06  21.859558   7.094556  2.576561\n",
      "4    2021-01-07  21.504652   7.347479  2.439565\n",
      "..          ...        ...        ...       ...\n",
      "299  2022-03-17   0.898075  11.033429 -0.243073\n",
      "300  2022-03-21   3.317139  11.065246 -0.023756\n",
      "301  2022-03-22   4.799555  11.685938  0.104361\n",
      "302  2022-03-23   2.930106  10.858209 -0.059853\n",
      "303  2022-03-24   2.263628  10.847095 -0.121357\n",
      "\n",
      "[304 rows x 4 columns]\n"
     ]
    },
    {
     "name": "stderr",
     "output_type": "stream",
     "text": [
      "\u001b[32m[I 2022-05-26 20:31:21,429]\u001b[0m A new study created in memory with name: no-name-c9929b44-66f2-4b3e-9f40-aaa5e2c4d5bb\u001b[0m\n",
      "\u001b[32m[I 2022-05-26 20:31:21,517]\u001b[0m Trial 0 finished with value: 0.24586193654578933 and parameters: {'ITERATIONS': 4, 'Q': 0.9725350288500931, 'EVA_RATE': 0.7615508041721354, 'ANTS': 3}. Best is trial 0 with value: 0.24586193654578933.\u001b[0m\n"
     ]
    },
    {
     "name": "stdout",
     "output_type": "stream",
     "text": [
      "           Date    Returns       Risk     Ratio\n",
      "0    2021-01-01  20.812991   6.905090  2.495694\n",
      "1    2021-01-04  20.574005   7.037955  2.414623\n",
      "2    2021-01-05  21.652565   7.046567  2.564733\n",
      "3    2021-01-06  21.859558   7.094556  2.576561\n",
      "4    2021-01-07  21.504652   7.347479  2.439565\n",
      "..          ...        ...        ...       ...\n",
      "300  2022-03-21   3.317139  11.065246 -0.023756\n",
      "301  2022-03-22   4.799555  11.685938  0.104361\n",
      "302  2022-03-23   2.930106  10.858209 -0.059853\n",
      "303  2022-03-24   2.263628  10.847095 -0.121357\n",
      "304  2022-03-25   0.845436  11.139296 -0.245488\n",
      "\n",
      "[305 rows x 4 columns]\n"
     ]
    },
    {
     "name": "stderr",
     "output_type": "stream",
     "text": [
      "\u001b[32m[I 2022-05-26 20:31:21,631]\u001b[0m Trial 1 finished with value: 0.23352095472372206 and parameters: {'ITERATIONS': 5, 'Q': 0.8052221066013688, 'EVA_RATE': 0.6601733425739766, 'ANTS': 5}. Best is trial 0 with value: 0.24586193654578933.\u001b[0m\n",
      "\u001b[32m[I 2022-05-26 20:31:21,800]\u001b[0m A new study created in memory with name: no-name-b9abbf70-a533-4b45-a570-7e0df4c32b79\u001b[0m\n",
      "\u001b[32m[I 2022-05-26 20:31:21,880]\u001b[0m Trial 0 finished with value: 0.2524025331595734 and parameters: {'ITERATIONS': 4, 'Q': 0.3823887172017084, 'EVA_RATE': 0.7733548181862225, 'ANTS': 2}. Best is trial 0 with value: 0.2524025331595734.\u001b[0m\n",
      "\u001b[32m[I 2022-05-26 20:31:21,955]\u001b[0m Trial 1 finished with value: 0.24237291724448523 and parameters: {'ITERATIONS': 5, 'Q': 0.13642625380762835, 'EVA_RATE': 0.2783054049732461, 'ANTS': 2}. Best is trial 0 with value: 0.2524025331595734.\u001b[0m\n"
     ]
    },
    {
     "name": "stdout",
     "output_type": "stream",
     "text": [
      "           Date    Returns       Risk     Ratio\n",
      "0    2021-01-01  20.812991   6.905090  2.495694\n",
      "1    2021-01-04  20.574005   7.037955  2.414623\n",
      "2    2021-01-05  21.652565   7.046567  2.564733\n",
      "3    2021-01-06  21.859558   7.094556  2.576561\n",
      "4    2021-01-07  21.504652   7.347479  2.439565\n",
      "..          ...        ...        ...       ...\n",
      "301  2022-03-22   4.799555  11.685938  0.104361\n",
      "302  2022-03-23   2.930106  10.858209 -0.059853\n",
      "303  2022-03-24   2.263628  10.847095 -0.121357\n",
      "304  2022-03-25   0.845436  11.139296 -0.245488\n",
      "305  2022-03-28   1.475579  10.924662 -0.192630\n",
      "\n",
      "[306 rows x 4 columns]\n"
     ]
    },
    {
     "name": "stderr",
     "output_type": "stream",
     "text": [
      "\u001b[32m[I 2022-05-26 20:31:22,115]\u001b[0m A new study created in memory with name: no-name-83bbcc70-be82-481d-9942-92e389bf6e2c\u001b[0m\n",
      "\u001b[32m[I 2022-05-26 20:31:22,245]\u001b[0m Trial 0 finished with value: 0.22652736307738172 and parameters: {'ITERATIONS': 4, 'Q': 0.11447858577074564, 'EVA_RATE': 0.8166244111161366, 'ANTS': 5}. Best is trial 0 with value: 0.22652736307738172.\u001b[0m\n"
     ]
    },
    {
     "name": "stdout",
     "output_type": "stream",
     "text": [
      "           Date    Returns       Risk     Ratio\n",
      "0    2021-01-01  20.812991   6.905090  2.495694\n",
      "1    2021-01-04  20.574005   7.037955  2.414623\n",
      "2    2021-01-05  21.652565   7.046567  2.564733\n",
      "3    2021-01-06  21.859558   7.094556  2.576561\n",
      "4    2021-01-07  21.504652   7.347479  2.439565\n",
      "..          ...        ...        ...       ...\n",
      "302  2022-03-23   2.930106  10.858209 -0.059853\n",
      "303  2022-03-24   2.263628  10.847095 -0.121357\n",
      "304  2022-03-25   0.845436  11.139296 -0.245488\n",
      "305  2022-03-28   1.475579  10.924662 -0.192630\n",
      "306  2022-03-29   1.862187  10.183890 -0.168679\n",
      "\n",
      "[307 rows x 4 columns]\n"
     ]
    },
    {
     "name": "stderr",
     "output_type": "stream",
     "text": [
      "\u001b[32m[I 2022-05-26 20:31:22,321]\u001b[0m Trial 1 finished with value: 0.24748627743246174 and parameters: {'ITERATIONS': 5, 'Q': 0.14909582691406603, 'EVA_RATE': 0.6181984407861112, 'ANTS': 3}. Best is trial 1 with value: 0.24748627743246174.\u001b[0m\n",
      "\u001b[32m[I 2022-05-26 20:31:22,478]\u001b[0m A new study created in memory with name: no-name-c6cb5d5a-46a8-4c15-8c24-6b3a5b5a71c2\u001b[0m\n",
      "\u001b[32m[I 2022-05-26 20:31:22,564]\u001b[0m Trial 0 finished with value: 0.2101393503539588 and parameters: {'ITERATIONS': 5, 'Q': 0.20290699137082274, 'EVA_RATE': 0.8783370053494871, 'ANTS': 5}. Best is trial 0 with value: 0.2101393503539588.\u001b[0m\n",
      "\u001b[32m[I 2022-05-26 20:31:22,622]\u001b[0m Trial 1 finished with value: 0.21771501245727906 and parameters: {'ITERATIONS': 2, 'Q': 0.6683737989430479, 'EVA_RATE': 0.2759758143121222, 'ANTS': 3}. Best is trial 1 with value: 0.21771501245727906.\u001b[0m\n"
     ]
    },
    {
     "name": "stdout",
     "output_type": "stream",
     "text": [
      "           Date    Returns       Risk     Ratio\n",
      "0    2021-01-01  20.812991   6.905090  2.495694\n",
      "1    2021-01-04  20.574005   7.037955  2.414623\n",
      "2    2021-01-05  21.652565   7.046567  2.564733\n",
      "3    2021-01-06  21.859558   7.094556  2.576561\n",
      "4    2021-01-07  21.504652   7.347479  2.439565\n",
      "..          ...        ...        ...       ...\n",
      "303  2022-03-24   2.263628  10.847095 -0.121357\n",
      "304  2022-03-25   0.845436  11.139296 -0.245488\n",
      "305  2022-03-28   1.475579  10.924662 -0.192630\n",
      "306  2022-03-29   1.862187  10.183890 -0.168679\n",
      "307  2022-03-30   1.101809  11.025492 -0.224769\n",
      "\n",
      "[308 rows x 4 columns]\n"
     ]
    },
    {
     "ename": "IndexError",
     "evalue": "positional indexers are out-of-bounds",
     "output_type": "error",
     "traceback": [
      "\u001b[1;31m---------------------------------------------------------------------------\u001b[0m",
      "\u001b[1;31mIndexError\u001b[0m                                Traceback (most recent call last)",
      "\u001b[1;32m~\\anaconda3\\lib\\site-packages\\pandas\\core\\indexing.py\u001b[0m in \u001b[0;36m_get_list_axis\u001b[1;34m(self, key, axis)\u001b[0m\n\u001b[0;32m   2109\u001b[0m         \u001b[1;32mtry\u001b[0m\u001b[1;33m:\u001b[0m\u001b[1;33m\u001b[0m\u001b[1;33m\u001b[0m\u001b[0m\n\u001b[1;32m-> 2110\u001b[1;33m             \u001b[1;32mreturn\u001b[0m \u001b[0mself\u001b[0m\u001b[1;33m.\u001b[0m\u001b[0mobj\u001b[0m\u001b[1;33m.\u001b[0m\u001b[0m_take_with_is_copy\u001b[0m\u001b[1;33m(\u001b[0m\u001b[0mkey\u001b[0m\u001b[1;33m,\u001b[0m \u001b[0maxis\u001b[0m\u001b[1;33m=\u001b[0m\u001b[0maxis\u001b[0m\u001b[1;33m)\u001b[0m\u001b[1;33m\u001b[0m\u001b[1;33m\u001b[0m\u001b[0m\n\u001b[0m\u001b[0;32m   2111\u001b[0m         \u001b[1;32mexcept\u001b[0m \u001b[0mIndexError\u001b[0m\u001b[1;33m:\u001b[0m\u001b[1;33m\u001b[0m\u001b[1;33m\u001b[0m\u001b[0m\n",
      "\u001b[1;32m~\\anaconda3\\lib\\site-packages\\pandas\\core\\generic.py\u001b[0m in \u001b[0;36m_take_with_is_copy\u001b[1;34m(self, indices, axis, **kwargs)\u001b[0m\n\u001b[0;32m   3408\u001b[0m         \"\"\"\n\u001b[1;32m-> 3409\u001b[1;33m         \u001b[0mresult\u001b[0m \u001b[1;33m=\u001b[0m \u001b[0mself\u001b[0m\u001b[1;33m.\u001b[0m\u001b[0mtake\u001b[0m\u001b[1;33m(\u001b[0m\u001b[0mindices\u001b[0m\u001b[1;33m=\u001b[0m\u001b[0mindices\u001b[0m\u001b[1;33m,\u001b[0m \u001b[0maxis\u001b[0m\u001b[1;33m=\u001b[0m\u001b[0maxis\u001b[0m\u001b[1;33m,\u001b[0m \u001b[1;33m**\u001b[0m\u001b[0mkwargs\u001b[0m\u001b[1;33m)\u001b[0m\u001b[1;33m\u001b[0m\u001b[1;33m\u001b[0m\u001b[0m\n\u001b[0m\u001b[0;32m   3410\u001b[0m         \u001b[1;31m# Maybe set copy if we didn't actually change the index.\u001b[0m\u001b[1;33m\u001b[0m\u001b[1;33m\u001b[0m\u001b[1;33m\u001b[0m\u001b[0m\n",
      "\u001b[1;32m~\\anaconda3\\lib\\site-packages\\pandas\\core\\generic.py\u001b[0m in \u001b[0;36mtake\u001b[1;34m(self, indices, axis, is_copy, **kwargs)\u001b[0m\n\u001b[0;32m   3394\u001b[0m         new_data = self._data.take(\n\u001b[1;32m-> 3395\u001b[1;33m             \u001b[0mindices\u001b[0m\u001b[1;33m,\u001b[0m \u001b[0maxis\u001b[0m\u001b[1;33m=\u001b[0m\u001b[0mself\u001b[0m\u001b[1;33m.\u001b[0m\u001b[0m_get_block_manager_axis\u001b[0m\u001b[1;33m(\u001b[0m\u001b[0maxis\u001b[0m\u001b[1;33m)\u001b[0m\u001b[1;33m,\u001b[0m \u001b[0mverify\u001b[0m\u001b[1;33m=\u001b[0m\u001b[1;32mTrue\u001b[0m\u001b[1;33m\u001b[0m\u001b[1;33m\u001b[0m\u001b[0m\n\u001b[0m\u001b[0;32m   3396\u001b[0m         )\n",
      "\u001b[1;32m~\\anaconda3\\lib\\site-packages\\pandas\\core\\internals\\managers.py\u001b[0m in \u001b[0;36mtake\u001b[1;34m(self, indexer, axis, verify, convert)\u001b[0m\n\u001b[0;32m   1385\u001b[0m         \u001b[1;32mif\u001b[0m \u001b[0mconvert\u001b[0m\u001b[1;33m:\u001b[0m\u001b[1;33m\u001b[0m\u001b[1;33m\u001b[0m\u001b[0m\n\u001b[1;32m-> 1386\u001b[1;33m             \u001b[0mindexer\u001b[0m \u001b[1;33m=\u001b[0m \u001b[0mmaybe_convert_indices\u001b[0m\u001b[1;33m(\u001b[0m\u001b[0mindexer\u001b[0m\u001b[1;33m,\u001b[0m \u001b[0mn\u001b[0m\u001b[1;33m)\u001b[0m\u001b[1;33m\u001b[0m\u001b[1;33m\u001b[0m\u001b[0m\n\u001b[0m\u001b[0;32m   1387\u001b[0m \u001b[1;33m\u001b[0m\u001b[0m\n",
      "\u001b[1;32m~\\anaconda3\\lib\\site-packages\\pandas\\core\\indexers.py\u001b[0m in \u001b[0;36mmaybe_convert_indices\u001b[1;34m(indices, n)\u001b[0m\n\u001b[0;32m    211\u001b[0m     \u001b[1;32mif\u001b[0m \u001b[0mmask\u001b[0m\u001b[1;33m.\u001b[0m\u001b[0many\u001b[0m\u001b[1;33m(\u001b[0m\u001b[1;33m)\u001b[0m\u001b[1;33m:\u001b[0m\u001b[1;33m\u001b[0m\u001b[1;33m\u001b[0m\u001b[0m\n\u001b[1;32m--> 212\u001b[1;33m         \u001b[1;32mraise\u001b[0m \u001b[0mIndexError\u001b[0m\u001b[1;33m(\u001b[0m\u001b[1;34m\"indices are out-of-bounds\"\u001b[0m\u001b[1;33m)\u001b[0m\u001b[1;33m\u001b[0m\u001b[1;33m\u001b[0m\u001b[0m\n\u001b[0m\u001b[0;32m    213\u001b[0m     \u001b[1;32mreturn\u001b[0m \u001b[0mindices\u001b[0m\u001b[1;33m\u001b[0m\u001b[1;33m\u001b[0m\u001b[0m\n",
      "\u001b[1;31mIndexError\u001b[0m: indices are out-of-bounds",
      "\nDuring handling of the above exception, another exception occurred:\n",
      "\u001b[1;31mIndexError\u001b[0m                                Traceback (most recent call last)",
      "\u001b[1;32m<ipython-input-20-bcd19d3603a2>\u001b[0m in \u001b[0;36m<module>\u001b[1;34m\u001b[0m\n\u001b[0;32m     11\u001b[0m     \u001b[0mANTS\u001b[0m \u001b[1;33m=\u001b[0m \u001b[0mbest\u001b[0m\u001b[1;33m[\u001b[0m\u001b[1;34m'ANTS'\u001b[0m\u001b[1;33m]\u001b[0m\u001b[1;33m\u001b[0m\u001b[1;33m\u001b[0m\u001b[0m\n\u001b[0;32m     12\u001b[0m     \u001b[0minputweights\u001b[0m\u001b[1;33m=\u001b[0m\u001b[0mantcolony_sharpe_weights\u001b[0m\u001b[1;33m(\u001b[0m\u001b[0mITERATIONS\u001b[0m\u001b[1;33m,\u001b[0m\u001b[0mQ\u001b[0m\u001b[1;33m,\u001b[0m\u001b[0mEVA_RATE\u001b[0m\u001b[1;33m,\u001b[0m\u001b[0mANTS\u001b[0m\u001b[1;33m,\u001b[0m\u001b[0mdf\u001b[0m\u001b[1;33m.\u001b[0m\u001b[0miloc\u001b[0m\u001b[1;33m[\u001b[0m\u001b[0mstart_date_index\u001b[0m\u001b[1;33m]\u001b[0m\u001b[1;33m.\u001b[0m\u001b[0mDate\u001b[0m\u001b[1;33m.\u001b[0m\u001b[0mvalues\u001b[0m\u001b[1;33m[\u001b[0m\u001b[1;36m0\u001b[0m\u001b[1;33m]\u001b[0m\u001b[1;33m,\u001b[0m\u001b[0mdf\u001b[0m\u001b[1;33m.\u001b[0m\u001b[0miloc\u001b[0m\u001b[1;33m[\u001b[0m\u001b[0mend_date_index\u001b[0m\u001b[1;33m]\u001b[0m\u001b[1;33m.\u001b[0m\u001b[0mDate\u001b[0m\u001b[1;33m.\u001b[0m\u001b[0mvalues\u001b[0m\u001b[1;33m[\u001b[0m\u001b[1;36m0\u001b[0m\u001b[1;33m]\u001b[0m\u001b[1;33m,\u001b[0m\u001b[0maco_sharpe\u001b[0m\u001b[1;33m)\u001b[0m\u001b[1;33m\u001b[0m\u001b[1;33m\u001b[0m\u001b[0m\n\u001b[1;32m---> 13\u001b[1;33m     \u001b[0maco_sharpe\u001b[0m\u001b[1;33m=\u001b[0m\u001b[0mACO_Sharpe_lookback\u001b[0m\u001b[1;33m(\u001b[0m\u001b[0mdf\u001b[0m\u001b[1;33m.\u001b[0m\u001b[0miloc\u001b[0m\u001b[1;33m[\u001b[0m\u001b[0mstart_date_lookback_index\u001b[0m\u001b[1;33m]\u001b[0m\u001b[1;33m.\u001b[0m\u001b[0mDate\u001b[0m\u001b[1;33m.\u001b[0m\u001b[0mvalues\u001b[0m\u001b[1;33m[\u001b[0m\u001b[1;36m0\u001b[0m\u001b[1;33m]\u001b[0m\u001b[1;33m,\u001b[0m\u001b[0mdf\u001b[0m\u001b[1;33m.\u001b[0m\u001b[0miloc\u001b[0m\u001b[1;33m[\u001b[0m\u001b[0mend_date_lookback_index\u001b[0m\u001b[1;33m]\u001b[0m\u001b[1;33m.\u001b[0m\u001b[0mDate\u001b[0m\u001b[1;33m.\u001b[0m\u001b[0mvalues\u001b[0m\u001b[1;33m[\u001b[0m\u001b[1;36m0\u001b[0m\u001b[1;33m]\u001b[0m\u001b[1;33m,\u001b[0m\u001b[0mdf\u001b[0m\u001b[1;33m.\u001b[0m\u001b[0miloc\u001b[0m\u001b[1;33m[\u001b[0m\u001b[0mend_date_lookback_index\u001b[0m\u001b[1;33m+\u001b[0m\u001b[1;36m1\u001b[0m\u001b[1;33m]\u001b[0m\u001b[1;33m.\u001b[0m\u001b[0mDate\u001b[0m\u001b[1;33m.\u001b[0m\u001b[0mvalues\u001b[0m\u001b[1;33m[\u001b[0m\u001b[1;36m0\u001b[0m\u001b[1;33m]\u001b[0m\u001b[1;33m,\u001b[0m\u001b[0maco_sharpe\u001b[0m\u001b[1;33m,\u001b[0m\u001b[0minputweights\u001b[0m\u001b[1;33m)\u001b[0m\u001b[1;33m\u001b[0m\u001b[1;33m\u001b[0m\u001b[0m\n\u001b[0m\u001b[0;32m     14\u001b[0m     \u001b[0mstart_date_lookback_index\u001b[0m\u001b[1;33m+=\u001b[0m\u001b[1;36m1\u001b[0m\u001b[1;33m\u001b[0m\u001b[1;33m\u001b[0m\u001b[0m\n\u001b[0;32m     15\u001b[0m     \u001b[0mend_date_lookback_index\u001b[0m\u001b[1;33m+=\u001b[0m\u001b[1;36m1\u001b[0m\u001b[1;33m\u001b[0m\u001b[1;33m\u001b[0m\u001b[0m\n",
      "\u001b[1;32m~\\anaconda3\\lib\\site-packages\\pandas\\core\\indexing.py\u001b[0m in \u001b[0;36m__getitem__\u001b[1;34m(self, key)\u001b[0m\n\u001b[0;32m   1765\u001b[0m \u001b[1;33m\u001b[0m\u001b[0m\n\u001b[0;32m   1766\u001b[0m             \u001b[0mmaybe_callable\u001b[0m \u001b[1;33m=\u001b[0m \u001b[0mcom\u001b[0m\u001b[1;33m.\u001b[0m\u001b[0mapply_if_callable\u001b[0m\u001b[1;33m(\u001b[0m\u001b[0mkey\u001b[0m\u001b[1;33m,\u001b[0m \u001b[0mself\u001b[0m\u001b[1;33m.\u001b[0m\u001b[0mobj\u001b[0m\u001b[1;33m)\u001b[0m\u001b[1;33m\u001b[0m\u001b[1;33m\u001b[0m\u001b[0m\n\u001b[1;32m-> 1767\u001b[1;33m             \u001b[1;32mreturn\u001b[0m \u001b[0mself\u001b[0m\u001b[1;33m.\u001b[0m\u001b[0m_getitem_axis\u001b[0m\u001b[1;33m(\u001b[0m\u001b[0mmaybe_callable\u001b[0m\u001b[1;33m,\u001b[0m \u001b[0maxis\u001b[0m\u001b[1;33m=\u001b[0m\u001b[0maxis\u001b[0m\u001b[1;33m)\u001b[0m\u001b[1;33m\u001b[0m\u001b[1;33m\u001b[0m\u001b[0m\n\u001b[0m\u001b[0;32m   1768\u001b[0m \u001b[1;33m\u001b[0m\u001b[0m\n\u001b[0;32m   1769\u001b[0m     \u001b[1;32mdef\u001b[0m \u001b[0m_is_scalar_access\u001b[0m\u001b[1;33m(\u001b[0m\u001b[0mself\u001b[0m\u001b[1;33m,\u001b[0m \u001b[0mkey\u001b[0m\u001b[1;33m:\u001b[0m \u001b[0mTuple\u001b[0m\u001b[1;33m)\u001b[0m\u001b[1;33m:\u001b[0m\u001b[1;33m\u001b[0m\u001b[1;33m\u001b[0m\u001b[0m\n",
      "\u001b[1;32m~\\anaconda3\\lib\\site-packages\\pandas\\core\\indexing.py\u001b[0m in \u001b[0;36m_getitem_axis\u001b[1;34m(self, key, axis)\u001b[0m\n\u001b[0;32m   2126\u001b[0m         \u001b[1;31m# a list of integers\u001b[0m\u001b[1;33m\u001b[0m\u001b[1;33m\u001b[0m\u001b[1;33m\u001b[0m\u001b[0m\n\u001b[0;32m   2127\u001b[0m         \u001b[1;32melif\u001b[0m \u001b[0mis_list_like_indexer\u001b[0m\u001b[1;33m(\u001b[0m\u001b[0mkey\u001b[0m\u001b[1;33m)\u001b[0m\u001b[1;33m:\u001b[0m\u001b[1;33m\u001b[0m\u001b[1;33m\u001b[0m\u001b[0m\n\u001b[1;32m-> 2128\u001b[1;33m             \u001b[1;32mreturn\u001b[0m \u001b[0mself\u001b[0m\u001b[1;33m.\u001b[0m\u001b[0m_get_list_axis\u001b[0m\u001b[1;33m(\u001b[0m\u001b[0mkey\u001b[0m\u001b[1;33m,\u001b[0m \u001b[0maxis\u001b[0m\u001b[1;33m=\u001b[0m\u001b[0maxis\u001b[0m\u001b[1;33m)\u001b[0m\u001b[1;33m\u001b[0m\u001b[1;33m\u001b[0m\u001b[0m\n\u001b[0m\u001b[0;32m   2129\u001b[0m \u001b[1;33m\u001b[0m\u001b[0m\n\u001b[0;32m   2130\u001b[0m         \u001b[1;31m# a single integer\u001b[0m\u001b[1;33m\u001b[0m\u001b[1;33m\u001b[0m\u001b[1;33m\u001b[0m\u001b[0m\n",
      "\u001b[1;32m~\\anaconda3\\lib\\site-packages\\pandas\\core\\indexing.py\u001b[0m in \u001b[0;36m_get_list_axis\u001b[1;34m(self, key, axis)\u001b[0m\n\u001b[0;32m   2111\u001b[0m         \u001b[1;32mexcept\u001b[0m \u001b[0mIndexError\u001b[0m\u001b[1;33m:\u001b[0m\u001b[1;33m\u001b[0m\u001b[1;33m\u001b[0m\u001b[0m\n\u001b[0;32m   2112\u001b[0m             \u001b[1;31m# re-raise with different error message\u001b[0m\u001b[1;33m\u001b[0m\u001b[1;33m\u001b[0m\u001b[1;33m\u001b[0m\u001b[0m\n\u001b[1;32m-> 2113\u001b[1;33m             \u001b[1;32mraise\u001b[0m \u001b[0mIndexError\u001b[0m\u001b[1;33m(\u001b[0m\u001b[1;34m\"positional indexers are out-of-bounds\"\u001b[0m\u001b[1;33m)\u001b[0m\u001b[1;33m\u001b[0m\u001b[1;33m\u001b[0m\u001b[0m\n\u001b[0m\u001b[0;32m   2114\u001b[0m \u001b[1;33m\u001b[0m\u001b[0m\n\u001b[0;32m   2115\u001b[0m     \u001b[1;32mdef\u001b[0m \u001b[0m_getitem_axis\u001b[0m\u001b[1;33m(\u001b[0m\u001b[0mself\u001b[0m\u001b[1;33m,\u001b[0m \u001b[0mkey\u001b[0m\u001b[1;33m,\u001b[0m \u001b[0maxis\u001b[0m\u001b[1;33m:\u001b[0m \u001b[0mint\u001b[0m\u001b[1;33m)\u001b[0m\u001b[1;33m:\u001b[0m\u001b[1;33m\u001b[0m\u001b[1;33m\u001b[0m\u001b[0m\n",
      "\u001b[1;31mIndexError\u001b[0m: positional indexers are out-of-bounds"
     ]
    }
   ],
   "source": [
    "while df.iloc[end_date_index].Date.values[0]:\n",
    "    sharpe_study = optuna.create_study(direction='maximize')\n",
    "    sharpe_study.optimize(objective, n_trials=2)#50\n",
    "    sh_hptuning = sharpe_study.trials_dataframe()\n",
    "    #sh_hptuning.to_csv(\"/home/pn_kumar/Karthik/staticlookback30/ACO_sharpe_hps.csv\")\n",
    "    sh_hptuning.to_csv(\"aco_dy_try.csv\")\n",
    "    best = sharpe_study.best_params\n",
    "    ITERATIONS = int(best['ITERATIONS'])\n",
    "    Q = best['Q']\n",
    "    EVA_RATE = best['EVA_RATE']\n",
    "    ANTS = best['ANTS']\n",
    "    inputweights=antcolony_sharpe_weights(ITERATIONS,Q,EVA_RATE,ANTS,df.iloc[start_date_index].Date.values[0],df.iloc[end_date_index].Date.values[0],aco_sharpe)\n",
    "    aco_sharpe=ACO_Sharpe_lookback(df.iloc[start_date_lookback_index].Date.values[0],df.iloc[end_date_lookback_index].Date.values[0],df.iloc[end_date_lookback_index+1].Date.values[0],aco_sharpe,inputweights)\n",
    "    start_date_lookback_index+=1\n",
    "    end_date_lookback_index+=1\n",
    "    start_date_index+=1\n",
    "    end_date_index+=1"
   ]
  },
  {
   "cell_type": "code",
   "execution_count": 22,
   "metadata": {},
   "outputs": [],
   "source": [
    "aco_sharpe.to_csv('mvo_sharpe_dynamic.csv')"
   ]
  },
  {
   "cell_type": "code",
   "execution_count": 24,
   "metadata": {},
   "outputs": [
    {
     "data": {
      "text/plain": [
       "[<matplotlib.lines.Line2D at 0x26bae828388>]"
      ]
     },
     "execution_count": 24,
     "metadata": {},
     "output_type": "execute_result"
    },
    {
     "data": {
      "image/png": "[encoded data removed]",
      "text/plain": [
       "<Figure size 432x288 with 1 Axes>"
      ]
     },
     "metadata": {
      "needs_background": "light"
     },
     "output_type": "display_data"
    }
   ],
   "source": [
    "import matplotlib.pyplot as plt\n",
    "plt.plot(aco_sharpe.Returns)"
   ]
  },
  {
   "cell_type": "code",
   "execution_count": null,
   "metadata": {},
   "outputs": [],
   "source": []
  },
  {
   "cell_type": "code",
   "execution_count": null,
   "metadata": {},
   "outputs": [],
   "source": []
  }
 ],
 "metadata": {
  "kernelspec": {
   "display_name": "Python 3",
   "language": "python",
   "name": "python3"
  },
  "language_info": {
   "codemirror_mode": {
    "name": "ipython",
    "version": 3
   },
   "file_extension": ".py",
   "mimetype": "text/x-python",
   "name": "python",
   "nbconvert_exporter": "python",
   "pygments_lexer": "ipython3",
   "version": "3.7.6"
  }
 },
 "nbformat": 4,
 "nbformat_minor": 4
}
