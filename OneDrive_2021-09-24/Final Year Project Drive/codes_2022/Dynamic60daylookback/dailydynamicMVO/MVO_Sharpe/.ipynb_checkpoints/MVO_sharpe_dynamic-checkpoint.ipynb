{
 "cells": [
  {
   "cell_type": "code",
   "execution_count": 1,
   "metadata": {},
   "outputs": [],
   "source": [
    "import pandas as pd\n",
    "import numpy as np\n",
    "import matplotlib.pyplot as plt"
   ]
  },
  {
   "cell_type": "code",
   "execution_count": 2,
   "metadata": {},
   "outputs": [],
   "source": [
    "df = pd.read_csv('n50.csv')"
   ]
  },
  {
   "cell_type": "code",
   "execution_count": 3,
   "metadata": {},
   "outputs": [],
   "source": [
    "def number_of_years(y):  # calculates the number of years of the dataset\n",
    "    p = y.index[0]  # date of first row in the dataset (datetime format)\n",
    "    q = y.index[len(y) - 1]  # date of last row in the dataset  (datetime format)\n",
    "    return ((q - p).days + 1) / 365  # the difference give the number of total days (not trading days) over the total number of years in the dataset"
   ]
  },
  {
   "cell_type": "code",
   "execution_count": 4,
   "metadata": {},
   "outputs": [],
   "source": [
    "def ratio(a, b, c):  # function to calculate ratio i.e. \"(returns-(risk_free_rate))/deviation\"\n",
    "    return (a - c) / b  # a => annual return, c => risk_free_rate, b => deviation (standard for sharpe, semi for sortino)\n"
   ]
  },
  {
   "cell_type": "code",
   "execution_count": 5,
   "metadata": {},
   "outputs": [],
   "source": [
    "def BALANCE(weights):\n",
    "  #Making sure the total sum of the weights eual to 1\n",
    "  weights = [w/sum(weights) for w in weights] \n",
    "  # Making sure all weights represent proportions that add up to 1\n",
    "  return weights\n"
   ]
  },
  {
   "cell_type": "code",
   "execution_count": 6,
   "metadata": {},
   "outputs": [],
   "source": [
    "mvo_sortino=pd.DataFrame(columns=['Date', 'Returns', 'Risk','Ratio'])\n",
    "inputweights=[]"
   ]
  },
  {
   "cell_type": "code",
   "execution_count": 7,
   "metadata": {},
   "outputs": [],
   "source": [
    "def MVO_Sortino(start_date,end_date,mvo_sortino):\n",
    "    df = pd.read_csv('n50.csv', parse_dates=['Date'], index_col='Date')\n",
    "    df=df.loc[start_date:end_date]\n",
    "    tdf = df.copy()  # deep copy\n",
    "    df.reset_index(drop=True, inplace=True)\n",
    "    #trading_days = len(df) / number_of_years(tdf)\n",
    "    trading_days=1\n",
    "    returnsh = df.pct_change()  # Here, returnsh would mean return considered for sharpe ratio\n",
    "    returnsh.fillna(0, inplace=True)  # calculating daily returns of the stocks in the portfolio\n",
    "    returnso = returnsh.copy()  # this cell considers only NEGATIVE returns so as to calculate sortino ratio\n",
    "    for cols in returnso.columns.tolist():\n",
    "        for i in range(0, len(df)):\n",
    "            if returnso[cols][i] > 0:\n",
    "                returnso[cols][i] = 0  \n",
    "    covmatso = returnso.cov() * trading_days\n",
    "    num_portfolios = 50000                   #initializing number of portfolios to 50000; referred from Wang et al (2020) (science direct)\n",
    "    num_assets = len(df.columns)              #initializing number of stocks/assets considered in the portfolio\n",
    "    risk_free_rate = 0.0358/364\n",
    "    portfolio_returns = []                    #initializing an empty list for portfolio returns\n",
    "    portfolio_volatility =[]                  #initializing an empty list for portfolio risk\n",
    "    stock_weights =[]                         #initializing an empty list for portfolio weights\n",
    "    sortino =[]          \n",
    "    for single_portfolio in range(5):\n",
    "        weights = np.random.random(num_assets)\n",
    "        weights /= np.sum(weights)                                    #No Short Selling Allowed => weights add up to 1   \"x = x+y\" => \"x+=y\"    weights = weights/np.sum(weights)  \n",
    "        returns_temp = np.sum(returnsh.mean()*weights)*trading_days   #calculating annulaised portfolio return\n",
    "        varso=np.dot(weights.T,np.dot(covmatso,weights))\n",
    "        semi_temp = np.sqrt(varso)\n",
    "        sotemp = ratio(returns_temp,semi_temp,risk_free_rate)   #calculating sharpe ratio\n",
    "        portfolio_returns.append(returns_temp)                       \n",
    "        portfolio_volatility.append(semi_temp)\n",
    "        stock_weights.append(weights)\n",
    "        sortino.append(sotemp)\n",
    "    portfolio = {'Returns' : portfolio_returns, 'Standard Deviation' : portfolio_volatility, 'Sortino Ratio' : sortino}\n",
    "    for counter,symbol in enumerate(df.columns):\n",
    "        portfolio[symbol + \" Weight\"] = [Weight[counter] for Weight in stock_weights]\n",
    "    pc = pd.DataFrame(portfolio)\n",
    "    pc.loc[:, :] *= 100\n",
    "    pc['Sortino Ratio']=pc['Sortino Ratio']/100 \n",
    "    max_sortino=pc['Sortino Ratio'].max()                                             #Best optimised portfolio wrt sharpe ratio\n",
    "    max_sortino_portfolio=pc.loc[pc['Sortino Ratio'] == max_sortino]\n",
    "    max_weights=max_sortino_portfolio.values\n",
    "    max_weights=max_weights[0][3:]\n",
    "    return max_weights"
   ]
  },
  {
   "cell_type": "code",
   "execution_count": 8,
   "metadata": {},
   "outputs": [],
   "source": [
    "def MVO_Sortino_lookback(start_date,end_date,deciding_date,mvo_sortino,inputweights):\n",
    "    mvo_sortino_list=[]\n",
    "    df = pd.read_csv('n50.csv', parse_dates=['Date'], index_col='Date')\n",
    "    df=df.loc[start_date:end_date]\n",
    "    tdf = df.copy()  # deep copy\n",
    "    df.reset_index(drop=True, inplace=True)\n",
    "    #trading_days = len(df) / number_of_years(tdf)\n",
    "    trading_days=1\n",
    "    returnsh = df.pct_change()  # Here, returnsh would mean return considered for sharpe ratio\n",
    "    returnsh.fillna(0, inplace=True)  # calculating daily returns of the stocks in the portfolio\n",
    "    returnso = returnsh.copy()  # this cell considers only NEGATIVE returns so as to calculate sortino ratio\n",
    "    for cols in returnso.columns.tolist():\n",
    "        for i in range(0, len(df)):\n",
    "            if returnso[cols][i] > 0:\n",
    "                returnso[cols][i] = 0  \n",
    "    covmatsh = returnsh.cov() * trading_days  # Annualised covariance matrix calculated wrt returnsh i.e. used to calculate sharpe ratio\n",
    "    covmatso = returnso.cov() * trading_days  # Annualised covariance matrix calculated wrt returnso i.e. used to calculate sortino ratio\n",
    "    num_assets = len(df.columns)  # initializing number of stocks/assets considered in the portfolio\n",
    "    risk_free_rate = 0.0358/364  # initializing risk free rate that will be used in calculating both the ratios (absolute value)\n",
    "# referred from url: https://www.rbi.org.in/Scripts/BS_NSDPDisplay.aspx?param=4&Id=24292\n",
    "# In the above url, the 364 (1 year) day treasury bill is 3.58% , when taken absolute value => 0.0358\n",
    "# (improved)\n",
    "\n",
    "# 2021_chen etal_Mean–variance portfolio optimization using machine learning-based stock price prediction\n",
    "# Repeat the process 50,000times. From a statistical point of view, 50,000 random portfolios cover most possible portfolios with different weights and aresufficiently representative\n",
    "\n",
    "    global_war_sortino=[]\n",
    "    sortino_portfolio_return=[]\n",
    "    sortino_portfolio_risk=[]\n",
    "    sortino_portfolio_soratio=[]\n",
    "    sortino_portfolio_stockWeights=[]\n",
    "    fitness=0\n",
    "    weights=np.array(BALANCE(np.array(inputweights)))\n",
    "    returns_temp = np.sum(returnso.mean()*weights)*trading_days \n",
    "    varso=np.dot(weights.T,np.dot(covmatso,weights))   \n",
    "    semi_temp = np.sqrt(varso)      \n",
    "    fitness = ratio(returns_temp,semi_temp,risk_free_rate)\n",
    "    sortino_portfolio_return.append(returns_temp)\n",
    "    sortino_portfolio_risk.append(semi_temp)\n",
    "    sortino_portfolio_soratio.append(fitness)\n",
    "    sortino_portfolio_stockWeights.append(weights)\n",
    "    sortino_portfolio = {'Returns' : sortino_portfolio_return, 'Semi Deviation' : sortino_portfolio_risk,  'Sortino Ratio' : sortino_portfolio_soratio}  \n",
    "    for counter,symbol in enumerate(df.columns):\n",
    "      sortino_portfolio[symbol + \" Weight\"] = [Weight[counter] for Weight in sortino_portfolio_stockWeights]\n",
    "    sortino_pc = pd.DataFrame(sortino_portfolio)\n",
    "    sortino_optimal=sortino_pc.iloc[sortino_pc['Sortino Ratio'].idxmax()]\n",
    "    sortino_optimal=sortino_optimal.to_frame()\n",
    "    sortino_optimal=sortino_optimal.transpose()\n",
    "    sortino_optimal.loc[:, :] *= 100\n",
    "    sortino_optimal.loc[:, 'Sortino Ratio'] /= 100\n",
    "    to_append=[deciding_date,sortino_optimal['Returns'].values[0],sortino_optimal['Semi Deviation'].values[0],sortino_optimal['Sortino Ratio'].values[0]]\n",
    "    mvo_sortino_series = pd.Series(to_append, index = mvo_sortino.columns)\n",
    "    mvo_sortino = mvo_sortino.append(mvo_sortino_series, ignore_index=True)\n",
    "    sortino_optimal.to_csv(str(deciding_date)+\"sortino_optimal.csv\")\n",
    "    print(mvo_sortino)\n",
    "    return mvo_sortino\n"
   ]
  },
  {
   "cell_type": "code",
   "execution_count": 9,
   "metadata": {},
   "outputs": [],
   "source": [
    "start_date=\"2016-01-01\""
   ]
  },
  {
   "cell_type": "code",
   "execution_count": 10,
   "metadata": {
    "pycharm": {
     "name": "#%%\n"
    }
   },
   "outputs": [],
   "source": [
    "start_date_index=df.index[df['Date'] == start_date]"
   ]
  },
  {
   "cell_type": "code",
   "execution_count": 11,
   "metadata": {
    "pycharm": {
     "name": "#%%\n"
    }
   },
   "outputs": [],
   "source": [
    "end_date=\"2020-09-30\""
   ]
  },
  {
   "cell_type": "code",
   "execution_count": 12,
   "metadata": {
    "pycharm": {
     "name": "#%%\n"
    }
   },
   "outputs": [],
   "source": [
    "end_date_index=df.index[df['Date']== end_date]"
   ]
  },
  {
   "cell_type": "code",
   "execution_count": 13,
   "metadata": {
    "pycharm": {
     "name": "#%%\n"
    }
   },
   "outputs": [],
   "source": [
    "start_date_lookback=\"2020-10-01\""
   ]
  },
  {
   "cell_type": "code",
   "execution_count": 14,
   "metadata": {
    "pycharm": {
     "name": "#%%\n"
    }
   },
   "outputs": [],
   "source": [
    "start_date_lookback_index=df.index[df['Date'] == start_date_lookback]"
   ]
  },
  {
   "cell_type": "code",
   "execution_count": 15,
   "metadata": {
    "pycharm": {
     "name": "#%%\n"
    }
   },
   "outputs": [],
   "source": [
    "end_date_lookback=\"2020-12-31\""
   ]
  },
  {
   "cell_type": "code",
   "execution_count": 16,
   "metadata": {
    "pycharm": {
     "name": "#%%\n"
    }
   },
   "outputs": [],
   "source": [
    "end_date_lookback_index=df.index[df['Date']== end_date_lookback]\n"
   ]
  },
  {
   "cell_type": "code",
   "execution_count": null,
   "metadata": {},
   "outputs": [
    {
     "name": "stdout",
     "output_type": "stream",
     "text": [
      "         Date   Returns      Risk     Ratio\n",
      "0  2021-01-01 -0.518264  0.546391 -0.966523\n",
      "         Date   Returns      Risk     Ratio\n",
      "0  2021-01-01 -0.518264  0.546391 -0.966523\n",
      "1  2021-01-04 -0.531365  0.528569 -1.023897\n",
      "         Date   Returns      Risk     Ratio\n",
      "0  2021-01-01 -0.518264  0.546391 -0.966523\n",
      "1  2021-01-04 -0.531365  0.528569 -1.023897\n",
      "2  2021-01-05 -0.496069  0.529476 -0.955481\n",
      "         Date   Returns      Risk     Ratio\n",
      "0  2021-01-01 -0.518264  0.546391 -0.966523\n",
      "1  2021-01-04 -0.531365  0.528569 -1.023897\n",
      "2  2021-01-05 -0.496069  0.529476 -0.955481\n",
      "3  2021-01-06 -0.507286  0.540639 -0.956500\n",
      "         Date   Returns      Risk     Ratio\n",
      "0  2021-01-01 -0.518264  0.546391 -0.966523\n",
      "1  2021-01-04 -0.531365  0.528569 -1.023897\n",
      "2  2021-01-05 -0.496069  0.529476 -0.955481\n",
      "3  2021-01-06 -0.507286  0.540639 -0.956500\n",
      "4  2021-01-07 -0.493766  0.527722 -0.954292\n",
      "         Date   Returns      Risk     Ratio\n",
      "0  2021-01-01 -0.518264  0.546391 -0.966523\n",
      "1  2021-01-04 -0.531365  0.528569 -1.023897\n",
      "2  2021-01-05 -0.496069  0.529476 -0.955481\n",
      "3  2021-01-06 -0.507286  0.540639 -0.956500\n",
      "4  2021-01-07 -0.493766  0.527722 -0.954292\n",
      "5  2021-01-08 -0.509529  0.548839 -0.946296\n",
      "         Date   Returns      Risk     Ratio\n",
      "0  2021-01-01 -0.518264  0.546391 -0.966523\n",
      "1  2021-01-04 -0.531365  0.528569 -1.023897\n",
      "2  2021-01-05 -0.496069  0.529476 -0.955481\n",
      "3  2021-01-06 -0.507286  0.540639 -0.956500\n",
      "4  2021-01-07 -0.493766  0.527722 -0.954292\n",
      "5  2021-01-08 -0.509529  0.548839 -0.946296\n",
      "6  2021-01-11 -0.547907  0.602066 -0.926380\n",
      "         Date   Returns      Risk     Ratio\n",
      "0  2021-01-01 -0.518264  0.546391 -0.966523\n",
      "1  2021-01-04 -0.531365  0.528569 -1.023897\n",
      "2  2021-01-05 -0.496069  0.529476 -0.955481\n",
      "3  2021-01-06 -0.507286  0.540639 -0.956500\n",
      "4  2021-01-07 -0.493766  0.527722 -0.954292\n",
      "5  2021-01-08 -0.509529  0.548839 -0.946296\n",
      "6  2021-01-11 -0.547907  0.602066 -0.926380\n",
      "7  2021-01-12 -0.528885  0.581082 -0.927097\n"
     ]
    }
   ],
   "source": [
    "while df.iloc[end_date_index].Date.values[0]:\n",
    "    inputweights=MVO_Sortino(df.iloc[start_date_index].Date.values[0],df.iloc[end_date_index].Date.values[0],mvo_sortino)\n",
    "    mvo_sortino=MVO_Sortino_lookback(df.iloc[start_date_lookback_index].Date.values[0],df.iloc[end_date_lookback_index].Date.values[0],df.iloc[end_date_lookback_index+1].Date.values[0],mvo_sortino,inputweights)\n",
    "    start_date_lookback_index+=1\n",
    "    end_date_lookback_index+=1\n",
    "    start_date_index+=1\n",
    "    end_date_index+=1"
   ]
  },
  {
   "cell_type": "code",
   "execution_count": null,
   "metadata": {},
   "outputs": [],
   "source": [
    "mvo_sortino.to_csv('mvo_sortino.csv')"
   ]
  },
  {
   "cell_type": "code",
   "execution_count": null,
   "metadata": {},
   "outputs": [],
   "source": []
  }
 ],
 "metadata": {
  "kernelspec": {
   "display_name": "Python 3",
   "language": "python",
   "name": "python3"
  },
  "language_info": {
   "codemirror_mode": {
    "name": "ipython",
    "version": 3
   },
   "file_extension": ".py",
   "mimetype": "text/x-python",
   "name": "python",
   "nbconvert_exporter": "python",
   "pygments_lexer": "ipython3",
   "version": "3.7.6"
  }
 },
 "nbformat": 4,
 "nbformat_minor": 4
}
