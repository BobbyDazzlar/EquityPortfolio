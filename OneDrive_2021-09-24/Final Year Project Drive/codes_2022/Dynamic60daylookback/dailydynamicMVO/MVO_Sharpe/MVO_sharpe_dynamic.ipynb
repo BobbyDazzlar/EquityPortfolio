{
 "cells": [
  {
   "cell_type": "code",
   "execution_count": 1,
   "metadata": {
    "id": "s-lgOBxeXP22"
   },
   "outputs": [],
   "source": [
    "import pandas as pd\n",
    "import numpy as np\n",
    "import matplotlib.pyplot as plt\n",
    "import seaborn as sns"
   ]
  },
  {
   "cell_type": "code",
   "execution_count": 3,
   "metadata": {
    "id": "D09GZZOWgT1l"
   },
   "outputs": [],
   "source": [
    "def number_of_years(y):        #calculates the number of years of the dataset\n",
    "  p=y.index[0]                 #date of first row in the dataset (datetime format)\n",
    "  q=y.index[len(y)-1]          #date of last row in the dataset  (datetime format)\n",
    "  return ((q-p).days+1)/365           #the difference give the number of total days (not trading days) over the total number of years in the dataset"
   ]
  },
  {
   "cell_type": "code",
   "execution_count": 6,
   "metadata": {
    "id": "qxy4cC3uX_i4"
   },
   "outputs": [],
   "source": [
    "# returnso=returnsh.copy()                  #this cell considers only NEGATIVE returns so as to calculate sortino ratio\n",
    "# for cols in returnso.columns.tolist():\n",
    "#     for i in range(0,len(df)):\n",
    "#       if returnso[cols][i] > 0:\n",
    "#         returnso[cols][i]=0               #Here, returnso would mean return considered for sortino ratio"
   ]
  },
  {
   "cell_type": "code",
   "execution_count": 8,
   "metadata": {
    "id": "j3oj3W-riM2U"
   },
   "outputs": [],
   "source": [
    "num_portfolios =5 #50000                   #initializing number of portfolios to 50000; referred from Wang et al (2020) (science direct)\n",
    "num_assets = len(df.columns)              #initializing number of stocks/assets considered in the portfolio\n",
    "risk_free_rate = 0.0358                   #initializing risk free rate that will be used in calculating both the ratios (absolute value)\n",
    "#referred from url: https://www.rbi.org.in/Scripts/BS_NSDPDisplay.aspx?param=4&Id=24292\n",
    "#In the above url, the 364 (1 year) day treasury bill is 3.58% , when taken absolute value => 0.0358\n",
    "# (improved)"
   ]
  },
  {
   "cell_type": "code",
   "execution_count": 9,
   "metadata": {},
   "outputs": [],
   "source": [
    "#2021_chen etal_Mean–variance portfolio optimization using machine learning-based stock price prediction\n",
    "#Repeat the process 50,000times. From a statistical point of view, 50,000 random portfolios cover most possible portfolios with different weights and aresufficiently representative"
   ]
  },
  {
   "cell_type": "code",
   "execution_count": 10,
   "metadata": {
    "id": "QjDb76cn3ROe"
   },
   "outputs": [],
   "source": [
    "portfolio_returns = []                    #initializing an empty list for portfolio returns\n",
    "portfolio_volatility =[]                  #initializing an empty list for portfolio risk\n",
    "stock_weights =[]                         #initializing an empty list for portfolio weights\n",
    "#semi_deviation =[]                        #initializing an empty list for portfolio semi-deviation\n",
    "sharpe =[]                                #initializing an empty list for portfolio sharpe ratio\n",
    "#sortino =[]                               #initializing an empty list for portfolio sortino ratio"
   ]
  },
  {
   "cell_type": "code",
   "execution_count": 11,
   "metadata": {
    "id": "vNaM1Eiy7C8I"
   },
   "outputs": [],
   "source": [
    "def ratio(a,b,c):                         #function to calculate ratio i.e. \"(returns-(risk_free_rate))/deviation\"\n",
    "  return (a-c)/b                          #a => annual return, c => risk_free_rate, b => deviation (standard for sharpe, semi for sortino)"
   ]
  },
  {
   "cell_type": "code",
   "execution_count": 16,
   "metadata": {
    "id": "7a7NcnCu3eSL"
   },
   "outputs": [],
   "source": [
    "def MVO_Sharpe(T_start_date,T_end_date,deciding_date,mvo_sharpe,lb_start_date,lb_end_date)\n",
    "    df=pd.read_csv('n50.csv',parse_dates=['Date'],index_col='Date')\n",
    "    df = df.loc[T_start_date : T_end_date]   #Since 2016-01-01, 5y(1238rows till 2020-12-31), + year 2021's rows\n",
    "    tdf=df.copy()                  #deep copy\n",
    "    df.reset_index(drop=True, inplace=True)\n",
    "    trading_days=len(df)/number_of_years(tdf) \n",
    "    returnsh=df.pct_change()                  #Here, returnsh would mean return considered for sharpe ratio\n",
    "    returnsh.fillna(0,inplace=True)\n",
    "    covmatsh=returnsh.cov()*trading_days\n",
    "\n",
    "    for single_portfolio in range(num_portfolios):                  #iterating forloop for 50000 times to generate 50000 portfolios\n",
    "      weights = np.random.random(num_assets)                        #initializing random weights\n",
    "      weights /= np.sum(weights)                                    #No Short Selling Allowed => weights add up to 1   \"x = x+y\" => \"x+=y\"    weights = weights/np.sum(weights)  \n",
    "      returns_temp = np.sum(returnsh.mean()*weights)*trading_days   #calculating annulaised portfolio return\n",
    "      varsh=np.dot(weights.T,np.dot(covmatsh,weights))              #calculating portfolio varience wrt calculating sharpe ratio\n",
    "      #varso=np.dot(weights.T,np.dot(covmatso,weights))              #calculating portfolio varience wrt calculating sortino ratio\n",
    "      volatility_temp = np.sqrt(varsh)                              #portfolio risk\n",
    "      #semi_temp = np.sqrt(varso)                                    #portfolio semi-deviation\n",
    "      shtemp = ratio(returns_temp,volatility_temp,risk_free_rate)   #calculating sharpe ratio\n",
    "      #sotemp = ratio(returns_temp,semi_temp,risk_free_rate)         #calculating sortino ratio\n",
    "      portfolio_returns.append(returns_temp)                       \n",
    "      portfolio_volatility.append(volatility_temp)\n",
    "      stock_weights.append(weights)\n",
    "      sharpe.append(shtemp)\n",
    "      #sortino.append(sotemp)\n",
    "      #semi_deviation.append(semi_temp)\n",
    "    portfolio = {'Returns' : portfolio_returns, 'Standard Deviation' : portfolio_volatility, 'Sharpe Ratio' : sharpe}\n",
    "    for counter,symbol in enumerate(df.columns):\n",
    "      portfolio[symbol + \" Weight\"] = [Weight[counter] for Weight in stock_weights] \n",
    "    pc = pd.DataFrame(portfolio)\n",
    "    pc=pc*100                                       #Converting everything to percentage\n",
    "    pc['Sharpe Ratio']=pc['Sharpe Ratio']/100       #leaving ratios as it is\n",
    "    max_sharpe=pc['Sharpe Ratio'].max()                                             #Best optimised portfolio wrt sharpe ratio\n",
    "    max_sharpe_portfolio=pc.loc[pc['Sharpe Ratio'] == max_sharpe]\n",
    "    #max_sharpe_portfolio.to_csv(\"Sharpe_MVO_dy_date.csv\")\n",
    "    opt_W=max_sharpe_portfolio.iloc[:,3:]\n",
    "    opt_W=np.array(opt_W)\n",
    "\n",
    "    #using opt weigths dynamically\n",
    "    opt_W=np.array(opt_W)\n",
    "\n",
    "    mvo_sharpe_list=[]\n",
    "    df = pd.read_csv('n50.csv', parse_dates=['Date'], index_col='Date')\n",
    "    df=df.loc[lb_start_date:lb_end_date]\n",
    "    tdf = df.copy()  # deep copy\n",
    "    df.reset_index(drop=True, inplace=True)\n",
    "    trading_days = len(df) / number_of_years(tdf)\n",
    "    #trading_days=1\n",
    "    returnsh = df.pct_change()  # Here, returnsh would mean return considered for sharpe ratio\n",
    "    returnsh.fillna(0, inplace=True)  # calculating daily returns of the stocks in the portfolio \n",
    "    covmatsh = returnsh.cov() * trading_days  # Annualised covariance matrix calculated wrt returnsh i.e. used to calculate sharpe ratio\n",
    "    num_assets = len(df.columns)  # initializing number of stocks/assets considered in the portfolio\n",
    "    risk_free_rate = 0.0358  #initializing risk free rate that will be used in calculating both the ratios (absolute value)\n",
    "    # referred from url: https://www.rbi.org.in/Scripts/BS_NSDPDisplay.aspx?param=4&Id=24292\n",
    "    # In the above url, the 364 (1 year) day treasury bill is 3.58% , when taken absolute value => 0.0358\n",
    "    # (improved)\n",
    "    global_war_sharpe=[]\n",
    "    sharpe_portfolio_return=[]\n",
    "    sharpe_portfolio_risk=[]\n",
    "    sharpe_portfolio_shratio=[]\n",
    "    sharpe_portfolio_stockWeights=[]\n",
    "    fitness=0\n",
    "    weights=opt_W\n",
    "    weights/=np.sum(opt_W)\n",
    "    returns_temp = np.sum(returnsh.mean()*weights)*trading_days \n",
    "    varsh=np.dot(weights.T,np.dot(covmatsh,weights))   \n",
    "    volatility_temp = np.sqrt(varsh)      \n",
    "    fitness = ratio(returns_temp,volatility_temp,risk_free_rate)\n",
    "    sharpe_portfolio_return.append(returns_temp)\n",
    "    sharpe_portfolio_risk.append(volatility_temp)\n",
    "    sharpe_portfolio_shratio.append(fitness)\n",
    "    sharpe_portfolio_stockWeights.append(weights)\n",
    "    sharpe_portfolio = {'Returns' : sharpe_portfolio_return, 'Standard Deviation' : sharpe_portfolio_risk,  'Sharpe Ratio' : sharpe_portfolio_shratio}  \n",
    "    for counter,symbol in enumerate(df.columns):\n",
    "      sharpe_portfolio[symbol + \" Weight\"] = [Weight[counter] for Weight in sharpe_portfolio_stockWeights]\n",
    "    sharpe_pc = pd.DataFrame(sharpe_portfolio)\n",
    "    sharpe_optimal=sharpe_pc.iloc[sharpe_pc['Sharpe Ratio'].idxmax()]\n",
    "    sharpe_optimal=sharpe_optimal.to_frame()\n",
    "    sharpe_optimal=sharpe_optimal.transpose()\n",
    "    sharpe_optimal.loc[:, :] *= 100\n",
    "    sharpe_optimal.loc[:, 'Sharpe Ratio'] /= 100\n",
    "    to_append=[deciding_date,sharpe_optimal['Returns'].values[0],sharpe_optimal['Standard Deviation'].values[0],sharpe_optimal['Sharpe Ratio'].values[0]]\n",
    "    mvo_sharpe_series = pd.Series(to_append, index = mvo_sharpe.columns)\n",
    "    mvo_sharpe = mvo_sharpe.append(mvo_sharpe_series, ignore_index=True)\n",
    "    sharpe_optimal.to_csv(str(deciding_date)+\"sharpe_optimal.csv\")\n",
    "    return mvo_sharpe\n"
   ]
  },
  {
   "cell_type": "code",
   "execution_count": null,
   "metadata": {},
   "outputs": [],
   "source": [
    "lb_start_date_index=df.index[df['Date'] == \"2020-10-01\"] "
   ]
  },
  {
   "cell_type": "code",
   "execution_count": null,
   "metadata": {},
   "outputs": [],
   "source": [
    "lb_end_date_index=df.index[df['Date']== \"2020-12-31\"]"
   ]
  },
  {
   "cell_type": "code",
   "execution_count": null,
   "metadata": {},
   "outputs": [],
   "source": [
    "T_start_date_index=df.index[df['Date']==\"2016-01-01\"]"
   ]
  },
  {
   "cell_type": "code",
   "execution_count": null,
   "metadata": {},
   "outputs": [],
   "source": [
    "T_end_date_index=df.index[df['Date']==\"2020-09-30\"]"
   ]
  },
  {
   "cell_type": "code",
   "execution_count": null,
   "metadata": {},
   "outputs": [],
   "source": [
    "lb_start_date=\"2020-10-01\"\n",
    "lb_end_date=\"2020-12-31\"\n",
    "T_start_date=\"2016-01-01\"\n",
    "T_end_date=\"2020-09-30\""
   ]
  },
  {
   "cell_type": "code",
   "execution_count": null,
   "metadata": {},
   "outputs": [],
   "source": [
    "while df.iloc[end_date_index].Date.values[0]:\n",
    "    mvo_sharpe=MVO_Sharpe(df.iloc[T_start_date_index].Date.values[0],df.iloc[T_end_date_index].Date.values[0],\n",
    "                          df.iloc[end_date_index+1].Date.values[0],mvo_sharpe,\n",
    "                          df.iloc[lb_start_date_index].Date.values[0],df.iloc[lb_end_date_index].Date.values[0])\n",
    "    lb_start_date_index+=1\n",
    "    lb_end_date_index+=1\n",
    "    T_start_date_index+=1\n",
    "    T_end_date_index+=1"
   ]
  },
  {
   "cell_type": "code",
   "execution_count": 18,
   "metadata": {},
   "outputs": [
    {
     "data": {
      "text/plain": [
       "array([[0.90683447, 2.73032598, 2.41099729, 1.94431416, 1.09265762,\n",
       "        8.2095824 , 1.20431415, 4.43309277, 1.03764767, 4.72604414,\n",
       "        6.36985198, 1.89841337, 4.6416579 , 7.16667295, 4.12908314,\n",
       "        7.00292116, 8.8294108 , 5.80183083, 3.40098081, 5.00633234,\n",
       "        8.99704253, 2.58928725, 1.74780949, 3.72289478]])"
      ]
     },
     "execution_count": 18,
     "metadata": {},
     "output_type": "execute_result"
    }
   ],
   "source": [
    "opt_W=np.array(opt_W)\n",
    "opt_W"
   ]
  }
 ],
 "metadata": {
  "colab": {
   "collapsed_sections": [],
   "name": "MV_model.ipynb",
   "provenance": []
  },
  "kernelspec": {
   "display_name": "Python 3",
   "language": "python",
   "name": "python3"
  },
  "language_info": {
   "codemirror_mode": {
    "name": "ipython",
    "version": 3
   },
   "file_extension": ".py",
   "mimetype": "text/x-python",
   "name": "python",
   "nbconvert_exporter": "python",
   "pygments_lexer": "ipython3",
   "version": "3.7.6"
  }
 },
 "nbformat": 4,
 "nbformat_minor": 4
}
