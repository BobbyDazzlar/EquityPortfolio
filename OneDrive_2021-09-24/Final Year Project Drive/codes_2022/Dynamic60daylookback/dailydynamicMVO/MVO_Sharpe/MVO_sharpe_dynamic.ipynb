{
 "cells": [
  {
   "cell_type": "code",
   "execution_count": 50,
   "metadata": {
    "id": "s-lgOBxeXP22"
   },
   "outputs": [],
   "source": [
    "import pandas as pd\n",
    "import numpy as np\n",
    "import matplotlib.pyplot as plt\n",
    "import seaborn as sns"
   ]
  },
  {
   "cell_type": "code",
   "execution_count": 51,
   "metadata": {
    "id": "D09GZZOWgT1l"
   },
   "outputs": [],
   "source": [
    "def number_of_years(y):        #calculates the number of years of the dataset\n",
    "  p=y.index[0]                 #date of first row in the dataset (datetime format)\n",
    "  q=y.index[len(y)-1]          #date of last row in the dataset  (datetime format)\n",
    "  return ((q-p).days+1)/365           #the difference give the number of total days (not trading days) over the total number of years in the dataset"
   ]
  },
  {
   "cell_type": "code",
   "execution_count": 52,
   "metadata": {
    "id": "qxy4cC3uX_i4"
   },
   "outputs": [],
   "source": [
    "# returnso=returnsh.copy()                  #this cell considers only NEGATIVE returns so as to calculate sortino ratio\n",
    "# for cols in returnso.columns.tolist():\n",
    "#     for i in range(0,len(df)):\n",
    "#       if returnso[cols][i] > 0:\n",
    "#         returnso[cols][i]=0               #Here, returnso would mean return considered for sortino ratio"
   ]
  },
  {
   "cell_type": "code",
   "execution_count": 53,
   "metadata": {
    "id": "j3oj3W-riM2U"
   },
   "outputs": [],
   "source": [
    "num_portfolios = 5 #50000                   \n",
    "#initializing number of portfolios to 50000; referred from Wang et al (2020)(science direct)\n",
    "#num_assets = len(df.columns)              #initializing number of stocks/assets considered in the portfolio\n",
    "risk_free_rate = 0.0358                   #initializing risk free rate that will be used in calculating both the ratios (absolute value)\n",
    "#referred from url: https://www.rbi.org.in/Scripts/BS_NSDPDisplay.aspx?param=4&Id=24292\n",
    "#In the above url, the 364 (1 year) day treasury bill is 3.58% , when taken absolute value => 0.0358\n",
    "# (improved)"
   ]
  },
  {
   "cell_type": "code",
   "execution_count": 54,
   "metadata": {},
   "outputs": [],
   "source": [
    "#2021_chen etal_Mean–variance portfolio optimization using machine learning-based stock price prediction\n",
    "#Repeat the process 50,000times. From a statistical point of view, 50,000 random portfolios cover most possible portfolios with different weights and aresufficiently representative"
   ]
  },
  {
   "cell_type": "code",
   "execution_count": 55,
   "metadata": {
    "id": "QjDb76cn3ROe"
   },
   "outputs": [],
   "source": [
    "portfolio_returns = []                    #initializing an empty list for portfolio returns\n",
    "portfolio_volatility =[]                  #initializing an empty list for portfolio risk\n",
    "stock_weights =[]                         #initializing an empty list for portfolio weights\n",
    "#semi_deviation =[]                        #initializing an empty list for portfolio semi-deviation\n",
    "sharpe =[]                                #initializing an empty list for portfolio sharpe ratio\n",
    "#sortino =[]                               #initializing an empty list for portfolio sortino ratio"
   ]
  },
  {
   "cell_type": "code",
   "execution_count": 56,
   "metadata": {
    "id": "vNaM1Eiy7C8I"
   },
   "outputs": [],
   "source": [
    "def ratio(a,b,c):                         #function to calculate ratio i.e. \"(returns-(risk_free_rate))/deviation\"\n",
    "  return (a-c)/b                          #a => annual return, c => risk_free_rate, b => deviation (standard for sharpe, semi for sortino)"
   ]
  },
  {
   "cell_type": "code",
   "execution_count": 57,
   "metadata": {},
   "outputs": [],
   "source": [
    "def BALANCE(weights):\n",
    "  #Making sure the total sum of the weights eual to 1\n",
    "  weights = [w/sum(weights) for w in weights] \n",
    "  # Making sure all weights represent proportions that add up to 1\n",
    "  return weights"
   ]
  },
  {
   "cell_type": "code",
   "execution_count": 58,
   "metadata": {
    "id": "7a7NcnCu3eSL"
   },
   "outputs": [],
   "source": [
    "def MVO_Sharpe(T_start_date,T_end_date,deciding_date,mvo_sharpe,\n",
    "               lb_start_date,lb_end_date):\n",
    "    df=pd.read_csv('n50.csv',parse_dates=['Date'],index_col='Date')\n",
    "    df = df.loc[T_start_date : T_end_date]   #Since 2016-01-01, 5y(1238rows till 2020-12-31), + year 2021's rows\n",
    "    tdf=df.copy()                  #deep copy\n",
    "    df.reset_index(drop=True, inplace=True)\n",
    "    trading_days=len(df)/number_of_years(tdf) \n",
    "    returnsh=df.pct_change()                  #Here, returnsh would mean return considered for sharpe ratio\n",
    "    returnsh.fillna(0,inplace=True)\n",
    "    covmatsh=returnsh.cov()*trading_days\n",
    "    num_assets = len(df.columns)\n",
    "    for single_portfolio in range(num_portfolios):                  #iterating forloop for 50000 times to generate 50000 portfolios\n",
    "      weights = np.random.random(num_assets)                        #initializing random weights\n",
    "      weights /= np.sum(weights)                                    #No Short Selling Allowed => weights add up to 1   \"x = x+y\" => \"x+=y\"    weights = weights/np.sum(weights)  \n",
    "      returns_temp = np.sum(returnsh.mean()*weights)*trading_days   #calculating annulaised portfolio return\n",
    "      varsh=np.dot(weights.T,np.dot(covmatsh,weights))              #calculating portfolio varience wrt calculating sharpe ratio\n",
    "      #varso=np.dot(weights.T,np.dot(covmatso,weights))              #calculating portfolio varience wrt calculating sortino ratio\n",
    "      volatility_temp = np.sqrt(varsh)                              #portfolio risk\n",
    "      #semi_temp = np.sqrt(varso)                                    #portfolio semi-deviation\n",
    "      shtemp = ratio(returns_temp,volatility_temp,risk_free_rate)   #calculating sharpe ratio\n",
    "      #sotemp = ratio(returns_temp,semi_temp,risk_free_rate)         #calculating sortino ratio\n",
    "      portfolio_returns.append(returns_temp)                       \n",
    "      portfolio_volatility.append(volatility_temp)\n",
    "      stock_weights.append(weights)\n",
    "      sharpe.append(shtemp)\n",
    "      #sortino.append(sotemp)\n",
    "      #semi_deviation.append(semi_temp)\n",
    "    portfolio = {'Returns' : portfolio_returns, 'Standard Deviation' : portfolio_volatility, 'Sharpe Ratio' : sharpe}\n",
    "    for counter,symbol in enumerate(df.columns):\n",
    "      portfolio[symbol + \" Weight\"] = [Weight[counter] for Weight in stock_weights] \n",
    "    pc = pd.DataFrame(portfolio)\n",
    "    pc=pc*100                                       #Converting everything to percentage\n",
    "    pc['Sharpe Ratio']=pc['Sharpe Ratio']/100       #leaving ratios as it is\n",
    "    max_sharpe=pc['Sharpe Ratio'].max()                                             #Best optimised portfolio wrt sharpe ratio\n",
    "    max_sharpe_portfolio=pc.loc[pc['Sharpe Ratio'] == max_sharpe]\n",
    "    #max_sharpe_portfolio.to_csv(\"Sharpe_MVO_dy_date.csv\")\n",
    "    opt_W=max_sharpe_portfolio.iloc[:,3:]\n",
    "    opt_W=np.array(opt_W)\n",
    "\n",
    "    #using opt weigths dynamically\n",
    "    opt_W=np.array(opt_W)\n",
    "\n",
    "#     mvo_sharpe_list=[]\n",
    "#     df = pd.read_csv('n50.csv', parse_dates=['Date'], index_col='Date')\n",
    "#     df=df.loc[lb_start_date:lb_end_date]\n",
    "#     tdf = df.copy()  # deep copy\n",
    "#     df.reset_index(drop=True, inplace=True)\n",
    "#     trading_days = len(df) / number_of_years(tdf)\n",
    "#     #trading_days=1\n",
    "#     returnsh = df.pct_change()  # Here, returnsh would mean return considered for sharpe ratio\n",
    "#     returnsh.fillna(0, inplace=True)  # calculating daily returns of the stocks in the portfolio\n",
    "#     print(returnsh.mean())\n",
    "#     covmatsh = returnsh.cov() * trading_days  # Annualised covariance matrix calculated wrt returnsh i.e. used to calculate sharpe ratio\n",
    "#     num_assets = len(df.columns)  # initializing number of stocks/assets considered in the portfolio\n",
    "#     #risk_free_rate = 0.0358  #initializing risk free rate that will be used in calculating both the ratios (absolute value)\n",
    "#     # referred from url: https://www.rbi.org.in/Scripts/BS_NSDPDisplay.aspx?param=4&Id=24292\n",
    "#     # In the above url, the 364 (1 year) day treasury bill is 3.58% , when taken absolute value => 0.0358\n",
    "#     # (improved)\n",
    "#     global_war_sharpe=[]\n",
    "#     sharpe_portfolio_return=[]\n",
    "#     sharpe_portfolio_risk=[]\n",
    "#     sharpe_portfolio_shratio=[]\n",
    "#     sharpe_portfolio_stockWeights=[]\n",
    "#     fitness=0\n",
    "#     weights=opt_W\n",
    "#     weights/=np.sum(weights)\n",
    "#     print(weights)\n",
    "#     returns_temp = np.sum(returnsh.mean()*weights)*trading_days \n",
    "#     varsh=np.dot(weights.T,np.dot(covmatsh,weights))   \n",
    "#     volatility_temp = np.sqrt(varsh)      \n",
    "#     fitness = ratio(returns_temp,volatility_temp,risk_free_rate)\n",
    "#     sharpe_portfolio_return.append(returns_temp)\n",
    "#     sharpe_portfolio_risk.append(volatility_temp)\n",
    "#     sharpe_portfolio_shratio.append(fitness)\n",
    "#     sharpe_portfolio_stockWeights.append(weights)\n",
    "#     sharpe_portfolio = {'Returns' : sharpe_portfolio_return, 'Standard Deviation' : sharpe_portfolio_risk,  'Sharpe Ratio' : sharpe_portfolio_shratio}  \n",
    "#     for counter,symbol in enumerate(df.columns):\n",
    "#       sharpe_portfolio[symbol + \" Weight\"] = [Weight[counter] for Weight in sharpe_portfolio_stockWeights]\n",
    "#     sharpe_pc = pd.DataFrame(sharpe_portfolio)\n",
    "#     sharpe_optimal=sharpe_pc.iloc[sharpe_pc['Sharpe Ratio'].idxmax()]\n",
    "#     sharpe_optimal=sharpe_optimal.to_frame()\n",
    "#     sharpe_optimal=sharpe_optimal.transpose()\n",
    "#     sharpe_optimal.loc[:, :] *= 100\n",
    "#     sharpe_optimal.loc[:, 'Sharpe Ratio'] /= 100\n",
    "#     to_append=[deciding_date,sharpe_optimal['Returns'].values[0],sharpe_optimal['Standard Deviation'].values[0],sharpe_optimal['Sharpe Ratio'].values[0]]\n",
    "#     mvo_sharpe_series = pd.Series(to_append, index = mvo_sharpe.columns)\n",
    "#     mvo_sharpe = mvo_sharpe.append(mvo_sharpe_series, ignore_index=True)\n",
    "#     sharpe_optimal.to_csv(str(deciding_date)+\"sharpe_optimal.csv\")\n",
    "    mvo_sharpe=opt_weights(lb_start_date,lb_end_date,mvo_sharpe,opt_W)\n",
    "    return mvo_sharpe\n"
   ]
  },
  {
   "cell_type": "code",
   "execution_count": 59,
   "metadata": {},
   "outputs": [],
   "source": [
    "def opt_weights(lb_start_date,lb_end_date,mvo_sharpe,opt_W):\n",
    "    mvo_sharpe_list=[]\n",
    "    df = pd.read_csv('n50.csv', parse_dates=['Date'], index_col='Date')\n",
    "    df=df.loc[lb_start_date:lb_end_date]\n",
    "    tdf = df.copy()  # deep copy\n",
    "    df.reset_index(drop=True, inplace=True)\n",
    "    trading_days = len(df) / number_of_years(tdf)\n",
    "    #trading_days=1\n",
    "    returnsh = df.pct_change()  # Here, returnsh would mean return considered for sharpe ratio\n",
    "    returnsh.fillna(0, inplace=True)  # calculating daily returns of the stocks in the portfolio\n",
    "    #print(returnsh.mean())\n",
    "    covmatsh = returnsh.cov() * trading_days  # Annualised covariance matrix calculated wrt returnsh i.e. used to calculate sharpe ratio\n",
    "    num_assets = len(df.columns)  # initializing number of stocks/assets considered in the portfolio\n",
    "    risk_free_rate = 0.0358  #initializing risk free rate that will be used in calculating both the ratios (absolute value)\n",
    "    # referred from url: https://www.rbi.org.in/Scripts/BS_NSDPDisplay.aspx?param=4&Id=24292\n",
    "    # In the above url, the 364 (1 year) day treasury bill is 3.58% , when taken absolute value => 0.0358\n",
    "    # (improved)\n",
    "    global_war_sharpe=[]\n",
    "    sharpe_portfolio_return=[]\n",
    "    sharpe_portfolio_risk=[]\n",
    "    sharpe_portfolio_shratio=[]\n",
    "    sharpe_portfolio_stockWeights=[]\n",
    "    fitness=0\n",
    "    weights=opt_W\n",
    "    weights/=np.sum(weights)\n",
    "    #print(weights)\n",
    "    returns_temp = np.sum(returnsh.mean()*weights)*trading_days \n",
    "    varsh=np.dot(weights.T,np.dot(covmatsh,weights))   \n",
    "    volatility_temp = np.sqrt(varsh)      \n",
    "    fitness = ratio(returns_temp,volatility_temp,risk_free_rate)\n",
    "    sharpe_portfolio_return.append(returns_temp)\n",
    "    sharpe_portfolio_risk.append(volatility_temp)\n",
    "    sharpe_portfolio_shratio.append(fitness)\n",
    "    sharpe_portfolio_stockWeights.append(weights)\n",
    "    sharpe_portfolio = {'Returns' : sharpe_portfolio_return, 'Standard Deviation' : sharpe_portfolio_risk,  'Sharpe Ratio' : sharpe_portfolio_shratio}  \n",
    "    for counter,symbol in enumerate(df.columns):\n",
    "      sharpe_portfolio[symbol + \" Weight\"] = [Weight[counter] for Weight in sharpe_portfolio_stockWeights]\n",
    "    sharpe_pc = pd.DataFrame(sharpe_portfolio)\n",
    "    sharpe_optimal=sharpe_pc.iloc[sharpe_pc['Sharpe Ratio'].idxmax()]\n",
    "    sharpe_optimal=sharpe_optimal.to_frame()\n",
    "    sharpe_optimal=sharpe_optimal.transpose()\n",
    "    sharpe_optimal.loc[:, :] *= 100\n",
    "    sharpe_optimal.loc[:, 'Sharpe Ratio'] /= 100\n",
    "    to_append=[deciding_date,sharpe_optimal['Returns'].values[0],sharpe_optimal['Standard Deviation'].values[0],sharpe_optimal['Sharpe Ratio'].values[0]]\n",
    "    mvo_sharpe_series = pd.Series(to_append, index = mvo_sharpe.columns)\n",
    "    mvo_sharpe = mvo_sharpe.append(mvo_sharpe_series, ignore_index=True)\n",
    "    sharpe_optimal.to_csv(str(deciding_date)+\"sharpe_optimal.csv\")\n",
    "    return mvo_sharpe"
   ]
  },
  {
   "cell_type": "code",
   "execution_count": 60,
   "metadata": {},
   "outputs": [],
   "source": [
    "mvo_sharpe=pd.DataFrame(columns=['Date', 'Returns', 'Risk','Ratio'])"
   ]
  },
  {
   "cell_type": "code",
   "execution_count": 61,
   "metadata": {},
   "outputs": [
    {
     "data": {
      "text/plain": [
       "Index(['Date', 'Returns', 'Risk', 'Ratio'], dtype='object')"
      ]
     },
     "execution_count": 61,
     "metadata": {},
     "output_type": "execute_result"
    }
   ],
   "source": [
    "mvo_sharpe.columns"
   ]
  },
  {
   "cell_type": "code",
   "execution_count": 62,
   "metadata": {},
   "outputs": [],
   "source": [
    "d = pd.read_csv('n50.csv')"
   ]
  },
  {
   "cell_type": "code",
   "execution_count": 63,
   "metadata": {},
   "outputs": [],
   "source": [
    "lb_start_date_index=d.index[d['Date'] == \"2020-10-01\"] "
   ]
  },
  {
   "cell_type": "code",
   "execution_count": 64,
   "metadata": {},
   "outputs": [],
   "source": [
    "lb_end_date_index=d.index[d['Date']== \"2020-12-31\"]"
   ]
  },
  {
   "cell_type": "code",
   "execution_count": 65,
   "metadata": {},
   "outputs": [],
   "source": [
    "T_start_date_index=d.index[d['Date']==\"2016-01-01\"]"
   ]
  },
  {
   "cell_type": "code",
   "execution_count": 66,
   "metadata": {},
   "outputs": [],
   "source": [
    "T_end_date_index=d.index[d['Date']==\"2020-09-30\"]"
   ]
  },
  {
   "cell_type": "code",
   "execution_count": 67,
   "metadata": {},
   "outputs": [],
   "source": [
    "lb_start_date=\"2020-10-01\"\n",
    "lb_end_date=\"2020-12-31\"\n",
    "T_start_date=\"2016-01-01\"\n",
    "T_end_date=\"2020-09-30\""
   ]
  },
  {
   "cell_type": "code",
   "execution_count": 68,
   "metadata": {},
   "outputs": [
    {
     "ename": "ValueError",
     "evalue": "Length of passed values is 1, index implies 24.",
     "output_type": "error",
     "traceback": [
      "\u001b[1;31m---------------------------------------------------------------------------\u001b[0m",
      "\u001b[1;31mValueError\u001b[0m                                Traceback (most recent call last)",
      "\u001b[1;32m<ipython-input-68-fdef51d9b548>\u001b[0m in \u001b[0;36m<module>\u001b[1;34m\u001b[0m\n\u001b[0;32m      2\u001b[0m     mvo_sharpe=MVO_Sharpe(d.iloc[T_start_date_index].Date.values[0],d.iloc[T_end_date_index].Date.values[0],\n\u001b[0;32m      3\u001b[0m                           \u001b[0md\u001b[0m\u001b[1;33m.\u001b[0m\u001b[0miloc\u001b[0m\u001b[1;33m[\u001b[0m\u001b[0mlb_end_date_index\u001b[0m\u001b[1;33m+\u001b[0m\u001b[1;36m1\u001b[0m\u001b[1;33m]\u001b[0m\u001b[1;33m.\u001b[0m\u001b[0mDate\u001b[0m\u001b[1;33m.\u001b[0m\u001b[0mvalues\u001b[0m\u001b[1;33m[\u001b[0m\u001b[1;36m0\u001b[0m\u001b[1;33m]\u001b[0m\u001b[1;33m,\u001b[0m\u001b[0mmvo_sharpe\u001b[0m\u001b[1;33m,\u001b[0m\u001b[1;33m\u001b[0m\u001b[1;33m\u001b[0m\u001b[0m\n\u001b[1;32m----> 4\u001b[1;33m                           d.iloc[lb_start_date_index].Date.values[0],d.iloc[lb_end_date_index].Date.values[0])\n\u001b[0m\u001b[0;32m      5\u001b[0m     \u001b[0mlb_start_date_index\u001b[0m\u001b[1;33m+=\u001b[0m\u001b[1;36m1\u001b[0m\u001b[1;33m\u001b[0m\u001b[1;33m\u001b[0m\u001b[0m\n\u001b[0;32m      6\u001b[0m     \u001b[0mlb_end_date_index\u001b[0m\u001b[1;33m+=\u001b[0m\u001b[1;36m1\u001b[0m\u001b[1;33m\u001b[0m\u001b[1;33m\u001b[0m\u001b[0m\n",
      "\u001b[1;32m<ipython-input-58-65de7a4b7da3>\u001b[0m in \u001b[0;36mMVO_Sharpe\u001b[1;34m(T_start_date, T_end_date, deciding_date, mvo_sharpe, lb_start_date, lb_end_date)\u001b[0m\n\u001b[0;32m     87\u001b[0m \u001b[1;31m#     mvo_sharpe = mvo_sharpe.append(mvo_sharpe_series, ignore_index=True)\u001b[0m\u001b[1;33m\u001b[0m\u001b[1;33m\u001b[0m\u001b[1;33m\u001b[0m\u001b[0m\n\u001b[0;32m     88\u001b[0m \u001b[1;31m#     sharpe_optimal.to_csv(str(deciding_date)+\"sharpe_optimal.csv\")\u001b[0m\u001b[1;33m\u001b[0m\u001b[1;33m\u001b[0m\u001b[1;33m\u001b[0m\u001b[0m\n\u001b[1;32m---> 89\u001b[1;33m     \u001b[0mmvo_sharpe\u001b[0m\u001b[1;33m=\u001b[0m\u001b[0mopt_weights\u001b[0m\u001b[1;33m(\u001b[0m\u001b[0mlb_start_date\u001b[0m\u001b[1;33m,\u001b[0m\u001b[0mlb_end_date\u001b[0m\u001b[1;33m,\u001b[0m\u001b[0mmvo_sharpe\u001b[0m\u001b[1;33m,\u001b[0m\u001b[0mopt_W\u001b[0m\u001b[1;33m)\u001b[0m\u001b[1;33m\u001b[0m\u001b[1;33m\u001b[0m\u001b[0m\n\u001b[0m\u001b[0;32m     90\u001b[0m     \u001b[1;32mreturn\u001b[0m \u001b[0mmvo_sharpe\u001b[0m\u001b[1;33m\u001b[0m\u001b[1;33m\u001b[0m\u001b[0m\n",
      "\u001b[1;32m<ipython-input-59-c01b3dafaba0>\u001b[0m in \u001b[0;36mopt_weights\u001b[1;34m(lb_start_date, lb_end_date, mvo_sharpe, opt_W)\u001b[0m\n\u001b[0;32m     25\u001b[0m     \u001b[0mweights\u001b[0m\u001b[1;33m/=\u001b[0m\u001b[0mnp\u001b[0m\u001b[1;33m.\u001b[0m\u001b[0msum\u001b[0m\u001b[1;33m(\u001b[0m\u001b[0mweights\u001b[0m\u001b[1;33m)\u001b[0m\u001b[1;33m\u001b[0m\u001b[1;33m\u001b[0m\u001b[0m\n\u001b[0;32m     26\u001b[0m     \u001b[1;31m#print(weights)\u001b[0m\u001b[1;33m\u001b[0m\u001b[1;33m\u001b[0m\u001b[1;33m\u001b[0m\u001b[0m\n\u001b[1;32m---> 27\u001b[1;33m     \u001b[0mreturns_temp\u001b[0m \u001b[1;33m=\u001b[0m \u001b[0mnp\u001b[0m\u001b[1;33m.\u001b[0m\u001b[0msum\u001b[0m\u001b[1;33m(\u001b[0m\u001b[0mreturnsh\u001b[0m\u001b[1;33m.\u001b[0m\u001b[0mmean\u001b[0m\u001b[1;33m(\u001b[0m\u001b[1;33m)\u001b[0m\u001b[1;33m*\u001b[0m\u001b[0mweights\u001b[0m\u001b[1;33m)\u001b[0m\u001b[1;33m*\u001b[0m\u001b[0mtrading_days\u001b[0m\u001b[1;33m\u001b[0m\u001b[1;33m\u001b[0m\u001b[0m\n\u001b[0m\u001b[0;32m     28\u001b[0m     \u001b[0mvarsh\u001b[0m\u001b[1;33m=\u001b[0m\u001b[0mnp\u001b[0m\u001b[1;33m.\u001b[0m\u001b[0mdot\u001b[0m\u001b[1;33m(\u001b[0m\u001b[0mweights\u001b[0m\u001b[1;33m.\u001b[0m\u001b[0mT\u001b[0m\u001b[1;33m,\u001b[0m\u001b[0mnp\u001b[0m\u001b[1;33m.\u001b[0m\u001b[0mdot\u001b[0m\u001b[1;33m(\u001b[0m\u001b[0mcovmatsh\u001b[0m\u001b[1;33m,\u001b[0m\u001b[0mweights\u001b[0m\u001b[1;33m)\u001b[0m\u001b[1;33m)\u001b[0m\u001b[1;33m\u001b[0m\u001b[1;33m\u001b[0m\u001b[0m\n\u001b[0;32m     29\u001b[0m     \u001b[0mvolatility_temp\u001b[0m \u001b[1;33m=\u001b[0m \u001b[0mnp\u001b[0m\u001b[1;33m.\u001b[0m\u001b[0msqrt\u001b[0m\u001b[1;33m(\u001b[0m\u001b[0mvarsh\u001b[0m\u001b[1;33m)\u001b[0m\u001b[1;33m\u001b[0m\u001b[1;33m\u001b[0m\u001b[0m\n",
      "\u001b[1;32m~\\anaconda3\\lib\\site-packages\\pandas\\core\\ops\\common.py\u001b[0m in \u001b[0;36mnew_method\u001b[1;34m(self, other)\u001b[0m\n\u001b[0;32m     62\u001b[0m         \u001b[0mother\u001b[0m \u001b[1;33m=\u001b[0m \u001b[0mitem_from_zerodim\u001b[0m\u001b[1;33m(\u001b[0m\u001b[0mother\u001b[0m\u001b[1;33m)\u001b[0m\u001b[1;33m\u001b[0m\u001b[1;33m\u001b[0m\u001b[0m\n\u001b[0;32m     63\u001b[0m \u001b[1;33m\u001b[0m\u001b[0m\n\u001b[1;32m---> 64\u001b[1;33m         \u001b[1;32mreturn\u001b[0m \u001b[0mmethod\u001b[0m\u001b[1;33m(\u001b[0m\u001b[0mself\u001b[0m\u001b[1;33m,\u001b[0m \u001b[0mother\u001b[0m\u001b[1;33m)\u001b[0m\u001b[1;33m\u001b[0m\u001b[1;33m\u001b[0m\u001b[0m\n\u001b[0m\u001b[0;32m     65\u001b[0m \u001b[1;33m\u001b[0m\u001b[0m\n\u001b[0;32m     66\u001b[0m     \u001b[1;32mreturn\u001b[0m \u001b[0mnew_method\u001b[0m\u001b[1;33m\u001b[0m\u001b[1;33m\u001b[0m\u001b[0m\n",
      "\u001b[1;32m~\\anaconda3\\lib\\site-packages\\pandas\\core\\ops\\__init__.py\u001b[0m in \u001b[0;36mwrapper\u001b[1;34m(left, right)\u001b[0m\n\u001b[0;32m    500\u001b[0m         \u001b[0mresult\u001b[0m \u001b[1;33m=\u001b[0m \u001b[0marithmetic_op\u001b[0m\u001b[1;33m(\u001b[0m\u001b[0mlvalues\u001b[0m\u001b[1;33m,\u001b[0m \u001b[0mrvalues\u001b[0m\u001b[1;33m,\u001b[0m \u001b[0mop\u001b[0m\u001b[1;33m,\u001b[0m \u001b[0mstr_rep\u001b[0m\u001b[1;33m)\u001b[0m\u001b[1;33m\u001b[0m\u001b[1;33m\u001b[0m\u001b[0m\n\u001b[0;32m    501\u001b[0m \u001b[1;33m\u001b[0m\u001b[0m\n\u001b[1;32m--> 502\u001b[1;33m         \u001b[1;32mreturn\u001b[0m \u001b[0m_construct_result\u001b[0m\u001b[1;33m(\u001b[0m\u001b[0mleft\u001b[0m\u001b[1;33m,\u001b[0m \u001b[0mresult\u001b[0m\u001b[1;33m,\u001b[0m \u001b[0mindex\u001b[0m\u001b[1;33m=\u001b[0m\u001b[0mleft\u001b[0m\u001b[1;33m.\u001b[0m\u001b[0mindex\u001b[0m\u001b[1;33m,\u001b[0m \u001b[0mname\u001b[0m\u001b[1;33m=\u001b[0m\u001b[0mres_name\u001b[0m\u001b[1;33m)\u001b[0m\u001b[1;33m\u001b[0m\u001b[1;33m\u001b[0m\u001b[0m\n\u001b[0m\u001b[0;32m    503\u001b[0m \u001b[1;33m\u001b[0m\u001b[0m\n\u001b[0;32m    504\u001b[0m     \u001b[0mwrapper\u001b[0m\u001b[1;33m.\u001b[0m\u001b[0m__name__\u001b[0m \u001b[1;33m=\u001b[0m \u001b[0mop_name\u001b[0m\u001b[1;33m\u001b[0m\u001b[1;33m\u001b[0m\u001b[0m\n",
      "\u001b[1;32m~\\anaconda3\\lib\\site-packages\\pandas\\core\\ops\\__init__.py\u001b[0m in \u001b[0;36m_construct_result\u001b[1;34m(left, result, index, name)\u001b[0m\n\u001b[0;32m    473\u001b[0m     \u001b[1;31m# We do not pass dtype to ensure that the Series constructor\u001b[0m\u001b[1;33m\u001b[0m\u001b[1;33m\u001b[0m\u001b[1;33m\u001b[0m\u001b[0m\n\u001b[0;32m    474\u001b[0m     \u001b[1;31m#  does inference in the case where `result` has object-dtype.\u001b[0m\u001b[1;33m\u001b[0m\u001b[1;33m\u001b[0m\u001b[1;33m\u001b[0m\u001b[0m\n\u001b[1;32m--> 475\u001b[1;33m     \u001b[0mout\u001b[0m \u001b[1;33m=\u001b[0m \u001b[0mleft\u001b[0m\u001b[1;33m.\u001b[0m\u001b[0m_constructor\u001b[0m\u001b[1;33m(\u001b[0m\u001b[0mresult\u001b[0m\u001b[1;33m,\u001b[0m \u001b[0mindex\u001b[0m\u001b[1;33m=\u001b[0m\u001b[0mindex\u001b[0m\u001b[1;33m)\u001b[0m\u001b[1;33m\u001b[0m\u001b[1;33m\u001b[0m\u001b[0m\n\u001b[0m\u001b[0;32m    476\u001b[0m     \u001b[0mout\u001b[0m \u001b[1;33m=\u001b[0m \u001b[0mout\u001b[0m\u001b[1;33m.\u001b[0m\u001b[0m__finalize__\u001b[0m\u001b[1;33m(\u001b[0m\u001b[0mleft\u001b[0m\u001b[1;33m)\u001b[0m\u001b[1;33m\u001b[0m\u001b[1;33m\u001b[0m\u001b[0m\n\u001b[0;32m    477\u001b[0m \u001b[1;33m\u001b[0m\u001b[0m\n",
      "\u001b[1;32m~\\anaconda3\\lib\\site-packages\\pandas\\core\\series.py\u001b[0m in \u001b[0;36m__init__\u001b[1;34m(self, data, index, dtype, name, copy, fastpath)\u001b[0m\n\u001b[0;32m    290\u001b[0m                     \u001b[1;32mif\u001b[0m \u001b[0mlen\u001b[0m\u001b[1;33m(\u001b[0m\u001b[0mindex\u001b[0m\u001b[1;33m)\u001b[0m \u001b[1;33m!=\u001b[0m \u001b[0mlen\u001b[0m\u001b[1;33m(\u001b[0m\u001b[0mdata\u001b[0m\u001b[1;33m)\u001b[0m\u001b[1;33m:\u001b[0m\u001b[1;33m\u001b[0m\u001b[1;33m\u001b[0m\u001b[0m\n\u001b[0;32m    291\u001b[0m                         raise ValueError(\n\u001b[1;32m--> 292\u001b[1;33m                             \u001b[1;34mf\"Length of passed values is {len(data)}, \"\u001b[0m\u001b[1;33m\u001b[0m\u001b[1;33m\u001b[0m\u001b[0m\n\u001b[0m\u001b[0;32m    293\u001b[0m                             \u001b[1;34mf\"index implies {len(index)}.\"\u001b[0m\u001b[1;33m\u001b[0m\u001b[1;33m\u001b[0m\u001b[0m\n\u001b[0;32m    294\u001b[0m                         )\n",
      "\u001b[1;31mValueError\u001b[0m: Length of passed values is 1, index implies 24."
     ]
    }
   ],
   "source": [
    "while d.iloc[lb_end_date_index].Date.values[0]:\n",
    "    mvo_sharpe=MVO_Sharpe(d.iloc[T_start_date_index].Date.values[0],d.iloc[T_end_date_index].Date.values[0],\n",
    "                          d.iloc[lb_end_date_index+1].Date.values[0],mvo_sharpe,\n",
    "                          d.iloc[lb_start_date_index].Date.values[0],d.iloc[lb_end_date_index].Date.values[0])\n",
    "    lb_start_date_index+=1\n",
    "    lb_end_date_index+=1\n",
    "    T_start_date_index+=1\n",
    "    T_end_date_index+=1"
   ]
  },
  {
   "cell_type": "code",
   "execution_count": 18,
   "metadata": {},
   "outputs": [
    {
     "data": {
      "text/plain": [
       "array([[0.90683447, 2.73032598, 2.41099729, 1.94431416, 1.09265762,\n",
       "        8.2095824 , 1.20431415, 4.43309277, 1.03764767, 4.72604414,\n",
       "        6.36985198, 1.89841337, 4.6416579 , 7.16667295, 4.12908314,\n",
       "        7.00292116, 8.8294108 , 5.80183083, 3.40098081, 5.00633234,\n",
       "        8.99704253, 2.58928725, 1.74780949, 3.72289478]])"
      ]
     },
     "execution_count": 18,
     "metadata": {},
     "output_type": "execute_result"
    }
   ],
   "source": [
    "opt_W=np.array(opt_W)\n",
    "opt_W"
   ]
  },
  {
   "cell_type": "code",
   "execution_count": 42,
   "metadata": {},
   "outputs": [],
   "source": [
    "weights = np.random.random(24)                        #initializing random weights\n",
    "weights /= np.sum(weights)"
   ]
  },
  {
   "cell_type": "code",
   "execution_count": 43,
   "metadata": {},
   "outputs": [
    {
     "data": {
      "text/plain": [
       "array([0.0643612 , 0.06881888, 0.00447627, 0.01521786, 0.06908016,\n",
       "       0.0713528 , 0.04182763, 0.01240953, 0.06691203, 0.04421839,\n",
       "       0.00646025, 0.04151897, 0.04060393, 0.071993  , 0.027007  ,\n",
       "       0.07311908, 0.05606695, 0.00454425, 0.00055393, 0.05716736,\n",
       "       0.03438861, 0.04151828, 0.02378936, 0.06259429])"
      ]
     },
     "execution_count": 43,
     "metadata": {},
     "output_type": "execute_result"
    }
   ],
   "source": [
    "weights"
   ]
  },
  {
   "cell_type": "code",
   "execution_count": 44,
   "metadata": {},
   "outputs": [
    {
     "data": {
      "text/plain": [
       "array([0.0643612 , 0.06881888, 0.00447627, 0.01521786, 0.06908016,\n",
       "       0.0713528 , 0.04182763, 0.01240953, 0.06691203, 0.04421839,\n",
       "       0.00646025, 0.04151897, 0.04060393, 0.071993  , 0.027007  ,\n",
       "       0.07311908, 0.05606695, 0.00454425, 0.00055393, 0.05716736,\n",
       "       0.03438861, 0.04151828, 0.02378936, 0.06259429])"
      ]
     },
     "execution_count": 44,
     "metadata": {},
     "output_type": "execute_result"
    }
   ],
   "source": [
    "opt=weights*4\n",
    "opt/=np.sum(opt)\n",
    "opt"
   ]
  },
  {
   "cell_type": "code",
   "execution_count": 45,
   "metadata": {},
   "outputs": [
    {
     "data": {
      "text/plain": [
       "41.0"
      ]
     },
     "execution_count": 45,
     "metadata": {},
     "output_type": "execute_result"
    }
   ],
   "source": [
    "returns_temp = np.sum(41*weights)\n",
    "returns_temp"
   ]
  },
  {
   "cell_type": "code",
   "execution_count": 46,
   "metadata": {},
   "outputs": [
    {
     "data": {
      "text/plain": [
       "array([0.0643612 , 0.06881888, 0.00447627, 0.01521786, 0.06908016,\n",
       "       0.0713528 , 0.04182763, 0.01240953, 0.06691203, 0.04421839,\n",
       "       0.00646025, 0.04151897, 0.04060393, 0.071993  , 0.027007  ,\n",
       "       0.07311908, 0.05606695, 0.00454425, 0.00055393, 0.05716736,\n",
       "       0.03438861, 0.04151828, 0.02378936, 0.06259429])"
      ]
     },
     "execution_count": 46,
     "metadata": {},
     "output_type": "execute_result"
    }
   ],
   "source": [
    "weights"
   ]
  },
  {
   "cell_type": "code",
   "execution_count": 47,
   "metadata": {},
   "outputs": [],
   "source": [
    "t=pd.read_csv(\"n50.csv\",parse_dates=['Date'],index_col=\"Date\")\n",
    "returnsh=t.pct_change()\n"
   ]
  },
  {
   "cell_type": "code",
   "execution_count": 49,
   "metadata": {},
   "outputs": [
    {
     "data": {
      "text/plain": [
       "ADANIPORTS    0.000978\n",
       "ASIANPAINT    0.000975\n",
       "BAJFINANCE    0.001943\n",
       "BAJAJFINSV    0.001668\n",
       "BRITANNIA     0.000666\n",
       "DIVISLAB      0.001151\n",
       "GRASIM        0.000916\n",
       "HCLTECH       0.000883\n",
       "HDFCBANK      0.000784\n",
       "HINDALCO      0.001638\n",
       "HINDUNILVR    0.000720\n",
       "ICICIBANK     0.001010\n",
       "INFY          0.001052\n",
       "JSWSTEEL      0.001599\n",
       "NESTLEIND     0.000883\n",
       "POWERGRID     0.000766\n",
       "RELIANCE      0.001285\n",
       "TCS           0.000933\n",
       "TATACONSUM    0.001352\n",
       "TATASTEEL     0.001473\n",
       "TECHM         0.000976\n",
       "TITAN         0.001518\n",
       "UPL           0.000935\n",
       "WIPRO         0.000843\n",
       "dtype: float64"
      ]
     },
     "execution_count": 49,
     "metadata": {},
     "output_type": "execute_result"
    }
   ],
   "source": [
    "returnsh.mean()"
   ]
  },
  {
   "cell_type": "code",
   "execution_count": null,
   "metadata": {},
   "outputs": [],
   "source": []
  }
 ],
 "metadata": {
  "colab": {
   "collapsed_sections": [],
   "name": "MV_model.ipynb",
   "provenance": []
  },
  "kernelspec": {
   "display_name": "Python 3",
   "language": "python",
   "name": "python3"
  },
  "language_info": {
   "codemirror_mode": {
    "name": "ipython",
    "version": 3
   },
   "file_extension": ".py",
   "mimetype": "text/x-python",
   "name": "python",
   "nbconvert_exporter": "python",
   "pygments_lexer": "ipython3",
   "version": "3.7.6"
  }
 },
 "nbformat": 4,
 "nbformat_minor": 4
}
