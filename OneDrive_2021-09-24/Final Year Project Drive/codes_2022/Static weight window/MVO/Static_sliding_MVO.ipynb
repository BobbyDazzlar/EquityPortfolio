{
 "cells": [
  {
   "cell_type": "code",
   "execution_count": 1,
   "metadata": {},
   "outputs": [],
   "source": [
    "import pandas as pd\n",
    "import numpy as np\n",
    "import seaborn as sns\n",
    "import matplotlib.pyplot as plt\n",
    "%matplotlib inline"
   ]
  },
  {
   "cell_type": "code",
   "execution_count": 2,
   "metadata": {},
   "outputs": [],
   "source": [
    "df=pd.read_csv('n50_filtered_1_march.csv',parse_dates=['Date'],index_col='Date')\n",
    "df = df.loc[\"2016-01-01\" :\"2020-12-31\" ]   #Since 2016-01-01, 5y(1238rows till 2020-12-31), + year 2021's rows\n",
    "tdf=df.copy()                  #deep copy\n",
    "df.reset_index(drop=True, inplace=True)"
   ]
  },
  {
   "cell_type": "code",
   "execution_count": 3,
   "metadata": {},
   "outputs": [],
   "source": [
    "def number_of_years(y):        #calculates the number of years of the dataset\n",
    "  p=y.index[0]                 #date of first row in the dataset (datetime format)\n",
    "  q=y.index[len(y)-1]          #date of last row in the dataset  (datetime format)\n",
    "  return ((q-p).days+1)/365           #the difference give the number of total days (not trading days) over the total number of years in the dataset"
   ]
  },
  {
   "cell_type": "code",
   "execution_count": 4,
   "metadata": {},
   "outputs": [],
   "source": [
    "trading_days=len(df)/number_of_years(tdf)                       #Trading days per year (automated)"
   ]
  },
  {
   "cell_type": "code",
   "execution_count": 5,
   "metadata": {},
   "outputs": [],
   "source": [
    "returnsh=df.pct_change()                  #Here, returnsh would mean return considered for sharpe ratio\n",
    "returnsh.fillna(0,inplace=True)           #calculating daily returns of the stocks in the portfolio"
   ]
  },
  {
   "cell_type": "code",
   "execution_count": 6,
   "metadata": {},
   "outputs": [],
   "source": [
    "returnso=returnsh.copy()                  #this cell considers only NEGATIVE returns so as to calculate sortino ratio\n",
    "for cols in returnso.columns.tolist():\n",
    "    for i in range(0,len(df)):\n",
    "      if returnso[cols][i] > 0:\n",
    "        returnso[cols][i]=0               #Here, returnso would mean return considered for sortino ratio"
   ]
  },
  {
   "cell_type": "code",
   "execution_count": 7,
   "metadata": {},
   "outputs": [],
   "source": [
    "covmatsh=returnsh.cov()*trading_days      #Annualised covariance matrix calculated wrt returnsh i.e. used to calculate sharpe ratio\n",
    "covmatso=returnso.cov()*trading_days      #Annualised covariance matrix calculated wrt returnso i.e. used to calculate sortino ratio"
   ]
  },
  {
   "cell_type": "code",
   "execution_count": 8,
   "metadata": {},
   "outputs": [],
   "source": [
    "num_portfolios = 50000                   #initializing number of portfolios to 50000; referred from Wang et al (2020) (science direct)\n",
    "num_assets = len(df.columns)              #initializing number of stocks/assets considered in the portfolio\n",
    "risk_free_rate = 0.0358                   #initializing risk free rate that will be used in calculating both the ratios (absolute value)\n",
    "#referred from url: https://www.rbi.org.in/Scripts/BS_NSDPDisplay.aspx?param=4&Id=24292\n",
    "#In the above url, the 364 (1 year) day treasury bill is 3.58% , when taken absolute value => 0.0358\n",
    "# (improved)\n",
    "#2021_chen etal_Mean–variance portfolio optimization using machine learning-based stock price prediction\n",
    "#Repeat the process 50,000times. From a statistical point of view, 50,000 random portfolios cover most possible portfolios with different weights and aresufficiently representative"
   ]
  },
  {
   "cell_type": "code",
   "execution_count": 9,
   "metadata": {},
   "outputs": [],
   "source": [
    "portfolio_returns = []                    #initializing an empty list for portfolio returns\n",
    "portfolio_volatility =[]                  #initializing an empty list for portfolio risk\n",
    "stock_weights =[]                         #initializing an empty list for portfolio weights\n",
    "semi_deviation =[]                        #initializing an empty list for portfolio semi-deviation\n",
    "sharpe =[]                                #initializing an empty list for portfolio sharpe ratio\n",
    "sortino =[]                               #initializing an empty list for portfolio sortino ratio"
   ]
  },
  {
   "cell_type": "code",
   "execution_count": 10,
   "metadata": {},
   "outputs": [],
   "source": [
    "def ratio(a,b,c):                         #function to calculate ratio i.e. \"(returns-(risk_free_rate))/deviation\"\n",
    "  return (a-c)/b                          #a => annual return, c => risk_free_rate, b => deviation (standard for sharpe, semi for sortino)"
   ]
  },
  {
   "cell_type": "code",
   "execution_count": 11,
   "metadata": {},
   "outputs": [],
   "source": [
    "for single_portfolio in range(num_portfolios):                  #iterating forloop for 50000 times to generate 50000 portfolios\n",
    "  weights = np.random.random(num_assets)                        #initializing random weights\n",
    "  weights /= np.sum(weights)                                    #No Short Selling Allowed => weights add up to 1   \"x = x+y\" => \"x+=y\"    weights = weights/np.sum(weights)  \n",
    "  returns_temp = np.sum(returnsh.mean()*weights)*trading_days   #calculating annulaised portfolio return\n",
    "  varsh=np.dot(weights.T,np.dot(covmatsh,weights))              #calculating portfolio varience wrt calculating sharpe ratio\n",
    "  varso=np.dot(weights.T,np.dot(covmatso,weights))              #calculating portfolio varience wrt calculating sortino ratio\n",
    "  volatility_temp = np.sqrt(varsh)                              #portfolio risk\n",
    "  semi_temp = np.sqrt(varso)                                    #portfolio semi-deviation\n",
    "  shtemp = ratio(returns_temp,volatility_temp,risk_free_rate)   #calculating sharpe ratio\n",
    "  sotemp = ratio(returns_temp,semi_temp,risk_free_rate)         #calculating sortino ratio\n",
    "  portfolio_returns.append(returns_temp)                       \n",
    "  portfolio_volatility.append(volatility_temp)\n",
    "  stock_weights.append(weights)\n",
    "  sharpe.append(shtemp)\n",
    "  sortino.append(sotemp)\n",
    "  semi_deviation.append(semi_temp)"
   ]
  },
  {
   "cell_type": "code",
   "execution_count": 12,
   "metadata": {},
   "outputs": [],
   "source": [
    "portfolio = {'Returns' : portfolio_returns, 'Standard Deviation' : portfolio_volatility, 'Semi-Deviation' : semi_deviation, 'Sharpe Ratio' : sharpe, \n",
    "             'Sortino Ratio' : sortino}    \n",
    "#here, 'portfolio' is a dictionary which will be used to create dataframe where each row will be a portfolio"
   ]
  },
  {
   "cell_type": "code",
   "execution_count": 13,
   "metadata": {},
   "outputs": [],
   "source": [
    "for counter,symbol in enumerate(df.columns):\n",
    "  portfolio[symbol + \" Weight\"] = [Weight[counter] for Weight in stock_weights] \n",
    "#to the dictionary (named 'portfolio'), weights for each symbol are added in so as to be displayed in the dataframe"
   ]
  },
  {
   "cell_type": "code",
   "execution_count": 14,
   "metadata": {},
   "outputs": [],
   "source": [
    "pc = pd.DataFrame(portfolio)         #making the final dataframe where data of 50000 portfolios is appended (subject to be saved, whose code is to be written)"
   ]
  },
  {
   "cell_type": "code",
   "execution_count": 15,
   "metadata": {},
   "outputs": [],
   "source": [
    "pc=pc*100                                       #Converting everything to percentage\n",
    "pc['Sharpe Ratio']=pc['Sharpe Ratio']/100       #leaving ratios as it is\n",
    "pc['Sortino Ratio']=pc['Sortino Ratio']/100\n",
    "pc1=pc.copy()"
   ]
  },
  {
   "cell_type": "code",
   "execution_count": 16,
   "metadata": {},
   "outputs": [],
   "source": [
    "pc.to_csv('expected_portfolios_by_MVO.csv')"
   ]
  },
  {
   "cell_type": "code",
   "execution_count": 17,
   "metadata": {},
   "outputs": [],
   "source": [
    "pc_sharpe=pc.drop(columns=['Sortino Ratio','Semi-Deviation'])\n",
    "max_sharpe=pc_sharpe['Sharpe Ratio'].max()                                             #Best optimised portfolio wrt sharpe ratio\n",
    "max_sharpe_portfolio=pc_sharpe.loc[pc_sharpe['Sharpe Ratio'] == max_sharpe]\n",
    "\n",
    "max_sharpe_portfolio.to_csv(\"Static_Expected_Sharpe_MVO.csv\")"
   ]
  },
  {
   "cell_type": "code",
   "execution_count": 19,
   "metadata": {},
   "outputs": [],
   "source": [
    "pc_sortino=pc1.drop(columns=['Sharpe Ratio','Standard Deviation'])\n",
    "max_sortino=pc_sortino['Sortino Ratio'].max()                                             #Best optimised portfolio wrt sharpe ratio\n",
    "max_sortino_portfolio=pc_sortino.loc[pc_sortino['Sortino Ratio'] == max_sortino]\n",
    "\n",
    "max_sortino_portfolio.to_csv(\"Static_Expected_Sortino_MVO.csv\")"
   ]
  },
  {
   "cell_type": "code",
   "execution_count": null,
   "metadata": {},
   "outputs": [],
   "source": []
  }
 ],
 "metadata": {
  "kernelspec": {
   "display_name": "Python 3",
   "language": "python",
   "name": "python3"
  },
  "language_info": {
   "codemirror_mode": {
    "name": "ipython",
    "version": 3
   },
   "file_extension": ".py",
   "mimetype": "text/x-python",
   "name": "python",
   "nbconvert_exporter": "python",
   "pygments_lexer": "ipython3",
   "version": "3.7.6"
  }
 },
 "nbformat": 4,
 "nbformat_minor": 4
}
