{
 "cells": [
  {
   "cell_type": "code",
   "execution_count": 1,
   "metadata": {
    "pycharm": {
     "is_executing": true,
     "name": "#%%\n"
    }
   },
   "outputs": [],
   "source": [
    "import pandas as pd\n",
    "import numpy as np\n",
    "import random\n",
    "import math\n",
    "import optuna"
   ]
  },
  {
   "cell_type": "code",
   "execution_count": 2,
   "metadata": {
    "pycharm": {
     "is_executing": true,
     "name": "#%%\n"
    }
   },
   "outputs": [],
   "source": [
    "def BALANCE(weights):\n",
    "    #Making sure the total sum of the weights eual to 1\n",
    "    weights = [w/sum(weights) for w in weights] # Making sure all weights represent proportions that add up to 1\n",
    "    return weights"
   ]
  },
  {
   "cell_type": "code",
   "execution_count": 3,
   "metadata": {
    "pycharm": {
     "is_executing": true,
     "name": "#%%\n"
    }
   },
   "outputs": [],
   "source": [
    "def ratio(a,b,c):                         #function to calculate ratio i.e. \"(returns-(risk_free_rate))/deviation\"\n",
    "    #calculating sharpe ratio\n",
    "    return (a-c)/b"
   ]
  },
  {
   "cell_type": "code",
   "execution_count": 4,
   "metadata": {
    "pycharm": {
     "is_executing": true,
     "name": "#%%\n"
    }
   },
   "outputs": [],
   "source": [
    "def number_of_years(y):        #calculates the number of years of the dataset\n",
    "  p=y.index[0]                 #date of first row in the dataset (datetime format)\n",
    "  q=y.index[len(y)-1]          #date of last row in the dataset  (datetime format)\n",
    "  return ((q-p).days+1)/365"
   ]
  },
  {
   "cell_type": "code",
   "execution_count": 5,
   "metadata": {
    "pycharm": {
     "is_executing": true,
     "name": "#%%\n"
    }
   },
   "outputs": [],
   "source": [
    "df=pd.read_csv('n50.csv',parse_dates=['Date'],index_col='Date')  #Importing Dataset\n",
    "df = df.loc[\"2016-01-01\" : ]   #Since 2016-01-01, 5y(1234rows till 2020-12-31)\n",
    "tdf=df.copy()                  #deep copy\n",
    "df.reset_index(drop=True, inplace=True)"
   ]
  },
  {
   "cell_type": "code",
   "execution_count": 6,
   "metadata": {
    "pycharm": {
     "is_executing": true,
     "name": "#%%\n"
    }
   },
   "outputs": [],
   "source": [
    "\n",
    "def antcolonyHPTuning(ITERATIONS,Q,EVA_RATE,ANTS):\n",
    "\n",
    "    df = pd.read_csv('n50.csv', parse_dates=['Date'], index_col='Date')  # Importing Dataset\n",
    "    df = df.loc['2016-01-01':]  # Since 2016-01-01, 5y(1234rows till 2020-12-31)\n",
    "    tdf = df.copy()  # deep copy\n",
    "    df.reset_index(drop=True, inplace=True)\n",
    "\n",
    "    trading_days = len(df) / number_of_years(tdf)\n",
    "\n",
    "    returnsh = df.pct_change()  # Here, returnsh would mean return considered for sharpe ratio\n",
    "    returnsh.fillna(0, inplace=True)  # calculating daily returns of the stocks in the portfolio\n",
    "\n",
    "    returnso = returnsh.copy()  # this cell considers only NEGATIVE returns so as to calculate sortino ratio\n",
    "    for cols in returnso.columns.tolist():\n",
    "        for i in range(0, len(df)):\n",
    "            if returnso[cols][i] > 0:\n",
    "                returnso[cols][i] = 0\n",
    "\n",
    "            # Here, returnso would mean return considered for sortino ratio\n",
    "\n",
    "    covmatsh = returnsh.cov() * trading_days\n",
    "    covmatso = returnso.cov() * trading_days\n",
    "\n",
    "    risk_free_rate = 0.0358\n",
    "    stocks = df.shape[1]\n",
    "\n",
    "    global_warr_sortino = []\n",
    "    global_war_sharpe = []\n",
    "\n",
    "    pbest = -1\n",
    "\n",
    "# Initializing the current fitness value\n",
    "\n",
    "    fitness = 0\n",
    "\n",
    "# for each iteration\n",
    "\n",
    "    for iteration in range(ITERATIONS):\n",
    "\n",
    "    # PREPARAING THE PHEROMONE MATRIX WHERE THE COLS=STOCKS AND  ROWS=ANTS\n",
    "\n",
    "        pheromon = [[0] * stocks for i in range(ANTS + 1)]  # why (ants+1)?The last ant can update the pheromone values in the last row\n",
    "\n",
    "    # Initializing the pheromone status\n",
    "\n",
    "        for i in range(len(pheromon[0])):\n",
    "            pheromon[0][i] = random.randint(1, 15)  # When input stocks varies, this needs to vary accordingly.(Divide number of stocks / 2)\n",
    "\n",
    "    # copying the values and storing it in temp_pher\n",
    "\n",
    "        temp_pher = pheromon[0]\n",
    "\n",
    "    # Making sure that the total amount of pheromone equals 1\n",
    "\n",
    "        weights = np.array(BALANCE(temp_pher))\n",
    "\n",
    "    # calculating annulaised portfolio return\n",
    "\n",
    "        returns_temp = np.sum(returnsh.mean() * weights) * trading_days\n",
    "\n",
    "    # print(returns_temp)\n",
    "\n",
    "    # calculating portfolio varience wrt calculating sharpe ratio\n",
    "\n",
    "        varsh = np.dot(weights.T, np.dot(covmatsh, weights))\n",
    "\n",
    "    # print(varsh)\n",
    "\n",
    "    # portfolio risk\n",
    "\n",
    "        volatility_temp = np.sqrt(varsh)\n",
    "\n",
    "    # Calculating fitness value(ie sharpe ratio)\n",
    "\n",
    "        fitness = ratio(returns_temp, volatility_temp, risk_free_rate)\n",
    "\n",
    "    # Initializing the intial fitness value as the best fitness value(pbest)\n",
    "\n",
    "        if pbest == -1:\n",
    "            pbest = fitness\n",
    "\n",
    "    # list\n",
    "\n",
    "        path = []\n",
    "\n",
    "    # for each ant\n",
    "\n",
    "        for ant in range(ANTS - 1):\n",
    "\n",
    "        # find the total pheromone\n",
    "        # print(\"Pheronome: \",pheromon[ant])\n",
    "\n",
    "            total = sum(pheromon[ant])\n",
    "\n",
    "        # print(\"Total: \",total)\n",
    "\n",
    "        # Initializing probability\n",
    "\n",
    "            probability = (pheromon[ant])[:]\n",
    "\n",
    "        # print(\"Probability: \",probability)\n",
    "\n",
    "        # finding probability of each stocks pheromone\n",
    "\n",
    "            for p in range(len(probability)):\n",
    "                probability[p] = probability[p] / total\n",
    "\n",
    "        # Trying to select stocks in decreasing order based on their pheromone level and storing the stock order in a list(path)\n",
    "\n",
    "            for stock in range(stocks):\n",
    "                select = probability.index(max(probability))\n",
    "                probability[select] = -math.inf\n",
    "                path.append(select)\n",
    "\n",
    "            # print(\"Path: \",path)\n",
    "\n",
    "        # Updating the pheromone level of each stock for the next ant\n",
    "        # Formula: old pheromone level * (1-eva_rate) + Q * (fitness/pbest) where Q is fixed amount of pheromone\n",
    "\n",
    "            for s in path:\n",
    "                pheromon[ant + 1][s] = pheromon[ant][s] * (1\n",
    "                        - EVA_RATE) + Q * (fitness / pbest)\n",
    "\n",
    "        # making sure that the updated pheromon adds upto 1\n",
    "\n",
    "            temp_pher = pheromon[ant + 1]\n",
    "            weights = np.array(BALANCE(temp_pher))\n",
    "            returns_temp = np.sum(returnsh.mean() * weights) \\\n",
    "                * trading_days  # calculating annulaised portfolio return\n",
    "            varsh = np.dot(weights.T, np.dot(covmatsh, weights))  # calculating portfolio varience wrt calculating sharpe ratio\n",
    "            volatility_temp = np.sqrt(varsh)  # portfolio risk\n",
    "            fitness = ratio(returns_temp, volatility_temp,\n",
    "                            risk_free_rate)  # calculating sharpe ratio\n",
    "\n",
    "        # print(fitness)\n",
    "        # comparing the old fitness value with the updated fitness value\n",
    "\n",
    "            if fitness > pbest:\n",
    "\n",
    "            # if the updated fitness value is better than the previous, change pbest to present fitness value\n",
    "\n",
    "                pbest = fitness\n",
    "\n",
    "            # print(pbest)\n",
    "            # remembering the weights of the best portfolio\n",
    "\n",
    "                global_warr_sharpe = weights.tolist()\n",
    "\n",
    "        # print(\"Global warr sharpe: \",global_warr_sharpe)\n",
    "\n",
    "    return pbest\n"
   ]
  },
  {
   "cell_type": "code",
   "execution_count": 7,
   "metadata": {
    "pycharm": {
     "is_executing": true,
     "name": "#%%\n"
    }
   },
   "outputs": [],
   "source": [
    "def objective(trial):\n",
    "    ITERATIONS=trial.suggest_uniform('ITERATIONS',10,50)\n",
    "    EVA_RATE=trial.suggest_uniform('EVA_RATE',0.1,1)\n",
    "    Q=trial.suggest_uniform('Q',0.1,1)\n",
    "    ANTS=trial.suggest_uniform('ANTS',10,20)\n",
    "    return antcolonyHPTuning(int(ITERATIONS),Q,EVA_RATE,int(ANTS))"
   ]
  },
  {
   "cell_type": "code",
   "execution_count": 8,
   "metadata": {
    "pycharm": {
     "is_executing": true,
     "name": "#%%\n"
    }
   },
   "outputs": [
    {
     "name": "stderr",
     "output_type": "stream",
     "text": [
      "\u001B[32m[I 2021-11-19 21:47:21,914]\u001B[0m A new study created in memory with name: no-name-1a06788c-f1ef-4a2c-82e1-ee1c300e53f5\u001B[0m\n",
      "\u001B[32m[I 2021-11-19 21:47:23,236]\u001B[0m Trial 0 finished with value: 1.3536411050741 and parameters: {'ITERATIONS': 28.182098283449687, 'EVA_RATE': 0.3693514084350943, 'Q': 0.33121728084146795, 'ANTS': 14.352237083912406}. Best is trial 0 with value: 1.3536411050741.\u001B[0m\n",
      "\u001B[32m[I 2021-11-19 21:47:24,408]\u001B[0m Trial 1 finished with value: 1.351116985840663 and parameters: {'ITERATIONS': 22.150733623162246, 'EVA_RATE': 0.9325234273797488, 'Q': 0.8120433617796824, 'ANTS': 10.987303964101539}. Best is trial 0 with value: 1.3536411050741.\u001B[0m\n",
      "\u001B[32m[I 2021-11-19 21:47:25,742]\u001B[0m Trial 2 finished with value: 1.3711038032056169 and parameters: {'ITERATIONS': 32.782942377080275, 'EVA_RATE': 0.6221089103313002, 'Q': 0.424557999090716, 'ANTS': 14.125364868665942}. Best is trial 2 with value: 1.3711038032056169.\u001B[0m\n",
      "\u001B[32m[I 2021-11-19 21:47:26,896]\u001B[0m Trial 3 finished with value: 1.3182339074816203 and parameters: {'ITERATIONS': 16.707751359012214, 'EVA_RATE': 0.5315749633906804, 'Q': 0.2079839701797901, 'ANTS': 15.019093274827803}. Best is trial 2 with value: 1.3711038032056169.\u001B[0m\n",
      "\u001B[32m[I 2021-11-19 21:47:28,384]\u001B[0m Trial 4 finished with value: 1.3603223985973785 and parameters: {'ITERATIONS': 45.23444989502525, 'EVA_RATE': 0.46850988267075366, 'Q': 0.8889137613460677, 'ANTS': 14.29208812911806}. Best is trial 2 with value: 1.3711038032056169.\u001B[0m\n",
      "\u001B[32m[I 2021-11-19 21:47:29,613]\u001B[0m Trial 5 finished with value: 1.3294748212408163 and parameters: {'ITERATIONS': 27.466960989096826, 'EVA_RATE': 0.7438778149159991, 'Q': 0.2731870457114689, 'ANTS': 14.726489548243505}. Best is trial 2 with value: 1.3711038032056169.\u001B[0m\n",
      "\u001B[32m[I 2021-11-19 21:47:30,709]\u001B[0m Trial 6 finished with value: 1.356155862099995 and parameters: {'ITERATIONS': 16.886358163323678, 'EVA_RATE': 0.8508728911999399, 'Q': 0.38310786291441234, 'ANTS': 12.504643561401384}. Best is trial 2 with value: 1.3711038032056169.\u001B[0m\n",
      "\u001B[32m[I 2021-11-19 21:47:32,365]\u001B[0m Trial 7 finished with value: 1.3752573299536068 and parameters: {'ITERATIONS': 42.99937302402503, 'EVA_RATE': 0.35726363484743007, 'Q': 0.9045494598694991, 'ANTS': 19.05780950477379}. Best is trial 7 with value: 1.3752573299536068.\u001B[0m\n",
      "\u001B[32m[I 2021-11-19 21:47:33,578]\u001B[0m Trial 8 finished with value: 1.3981924378348622 and parameters: {'ITERATIONS': 36.70936386604793, 'EVA_RATE': 0.1016457195654718, 'Q': 0.1619195710339478, 'ANTS': 10.616811587154958}. Best is trial 8 with value: 1.3981924378348622.\u001B[0m\n",
      "\u001B[32m[I 2021-11-19 21:47:34,756]\u001B[0m Trial 9 finished with value: 1.315148285141095 and parameters: {'ITERATIONS': 20.738670029462956, 'EVA_RATE': 0.23495989719350374, 'Q': 0.5897638222124073, 'ANTS': 14.222155052642517}. Best is trial 8 with value: 1.3981924378348622.\u001B[0m\n"
     ]
    }
   ],
   "source": [
    "study=optuna.create_study(direction='maximize')\n",
    "study.optimize(objective,n_trials=10)\n"
   ]
  },
  {
   "cell_type": "code",
   "execution_count": 9,
   "metadata": {
    "pycharm": {
     "is_executing": true,
     "name": "#%%\n"
    }
   },
   "outputs": [],
   "source": [
    "best=study.best_params"
   ]
  },
  {
   "cell_type": "code",
   "execution_count": 10,
   "metadata": {
    "pycharm": {
     "is_executing": true
    }
   },
   "outputs": [
    {
     "data": {
      "text/plain": [
       "{'ITERATIONS': 36.70936386604793,\n",
       " 'EVA_RATE': 0.1016457195654718,\n",
       " 'Q': 0.1619195710339478,\n",
       " 'ANTS': 10.616811587154958}"
      ]
     },
     "execution_count": 10,
     "metadata": {},
     "output_type": "execute_result"
    }
   ],
   "source": [
    "best"
   ]
  },
  {
   "cell_type": "code",
   "execution_count": 11,
   "metadata": {
    "pycharm": {
     "is_executing": true,
     "name": "#%%\n"
    }
   },
   "outputs": [],
   "source": [
    "ITERATIONS=int(best['ITERATIONS'])\n",
    "Q=best['Q']\n",
    "EVA_RATE=best['EVA_RATE']\n",
    "ANTS=int(best['ANTS'])\n"
   ]
  },
  {
   "cell_type": "code",
   "execution_count": 12,
   "metadata": {
    "pycharm": {
     "is_executing": true,
     "name": "#%%\n"
    }
   },
   "outputs": [],
   "source": [
    "def ACO_Sharpe(ITERATIONS,Q,EVA_RATE,ANTS):\n",
    "\n",
    "    top_portfolios = []\n",
    "    df = pd.read_csv('n50.csv', parse_dates=['Date'], index_col='Date')  # Importing Dataset\n",
    "    df = df.loc['2016-01-01':]  # Since 2016-01-01, 5y(1234rows till 2020-12-31)\n",
    "    tdf = df.copy()  # deep copy\n",
    "    df.reset_index(drop=True, inplace=True)\n",
    "\n",
    "    trading_days = len(df) / number_of_years(tdf)\n",
    "\n",
    "    returnsh = df.pct_change()  # Here, returnsh would mean return considered for sharpe ratio\n",
    "    returnsh.fillna(0, inplace=True)  # calculating daily returns of the stocks in the portfolio\n",
    "\n",
    "    returnso = returnsh.copy()  # this cell considers only NEGATIVE returns so as to calculate sortino ratio\n",
    "    for cols in returnso.columns.tolist():\n",
    "        for i in range(0, len(df)):\n",
    "            if returnso[cols][i] > 0:\n",
    "                returnso[cols][i] = 0\n",
    "\n",
    "            # Here, returnso would mean return considered for sortino ratio\n",
    "\n",
    "    covmatsh = returnsh.cov() * trading_days\n",
    "    covmatso = returnso.cov() * trading_days\n",
    "\n",
    "    risk_free_rate = 0.0358\n",
    "    stocks = df.shape[1]\n",
    "\n",
    "    global_warr_sortino = []\n",
    "    global_warr_sharpe = []\n",
    "\n",
    "    pbest = -1\n",
    "\n",
    "# Initializing the current fitness value\n",
    "\n",
    "    fitness = 0\n",
    "\n",
    "# for each iteration\n",
    "\n",
    "    for iteration in range(ITERATIONS):\n",
    "\n",
    "    # PREPARAING THE PHEROMONE MATRIX WHERE THE COLS=STOCKS AND  ROWS=ANTS\n",
    "\n",
    "        pheromon = [[0] * stocks for i in range(ANTS + 1)]  # why (ants+1)?The last ant can update the pheromone values in the last row\n",
    "\n",
    "    # Initializing the pheromone status\n",
    "\n",
    "        for i in range(len(pheromon[0])):\n",
    "            pheromon[0][i] = random.randint(1, 15)  # When input stocks varies, this needs to vary accordingly.(Divide number of stocks / 2)\n",
    "\n",
    "    # copying the values and storing it in temp_pher\n",
    "\n",
    "        temp_pher = pheromon[0]\n",
    "\n",
    "    # Making sure that the total amount of pheromone equals 1\n",
    "\n",
    "        weights = np.array(BALANCE(temp_pher))\n",
    "\n",
    "    # calculating annulaised portfolio return\n",
    "\n",
    "        returns_temp = np.sum(returnsh.mean() * weights) * trading_days\n",
    "\n",
    "    # print(returns_temp)\n",
    "\n",
    "    # calculating portfolio varience wrt calculating sharpe ratio\n",
    "\n",
    "        varsh = np.dot(weights.T, np.dot(covmatsh, weights))\n",
    "\n",
    "    # print(varsh)\n",
    "\n",
    "    # portfolio risk\n",
    "\n",
    "        volatility_temp = np.sqrt(varsh)\n",
    "\n",
    "    # Calculating fitness value(ie sharpe ratio)\n",
    "\n",
    "        fitness = ratio(returns_temp, volatility_temp, risk_free_rate)\n",
    "\n",
    "    # Initializing the intial fitness value as the best fitness value(pbest)\n",
    "\n",
    "        if pbest == -1:\n",
    "            pbest = fitness\n",
    "\n",
    "    # list\n",
    "\n",
    "        path = []\n",
    "\n",
    "    # for each ant\n",
    "\n",
    "        for ant in range(ANTS - 1):\n",
    "\n",
    "        # find the total pheromone\n",
    "        # print(\"Pheronome: \",pheromon[ant])\n",
    "\n",
    "            total = sum(pheromon[ant])\n",
    "\n",
    "        # print(\"Total: \",total)\n",
    "\n",
    "        # Initializing probability\n",
    "\n",
    "            probability = (pheromon[ant])[:]\n",
    "\n",
    "        # print(\"Probability: \",probability)\n",
    "\n",
    "        # finding probability of each stocks pheromone\n",
    "\n",
    "            for p in range(len(probability)):\n",
    "                probability[p] = probability[p] / total\n",
    "\n",
    "        # Trying to select stocks in decreasing order based on their pheromone level and storing the stock order in a list(path)\n",
    "\n",
    "            for stock in range(stocks):\n",
    "                select = probability.index(max(probability))\n",
    "                probability[select] = -math.inf\n",
    "                path.append(select)\n",
    "\n",
    "            # print(\"Path: \",path)\n",
    "\n",
    "        # Updating the pheromone level of each stock for the next ant\n",
    "        # Formula: old pheromone level * (1-eva_rate) + Q * (fitness/pbest) where Q is fixed amount of pheromone\n",
    "\n",
    "            for s in path:\n",
    "                pheromon[ant + 1][s] = pheromon[ant][s] * (1\n",
    "                        - EVA_RATE) + Q * (fitness / pbest)\n",
    "\n",
    "        # making sure that the updated pheromon adds upto 1\n",
    "\n",
    "            temp_pher = pheromon[ant + 1]\n",
    "            weights = np.array(BALANCE(temp_pher))\n",
    "            returns_temp = np.sum(returnsh.mean() * weights) \\\n",
    "                * trading_days  # calculating annulaised portfolio return\n",
    "            varsh = np.dot(weights.T, np.dot(covmatsh, weights))  # calculating portfolio varience wrt calculating sharpe ratio\n",
    "            volatility_temp = np.sqrt(varsh)  # portfolio risk\n",
    "            fitness = ratio(returns_temp, volatility_temp,\n",
    "                            risk_free_rate)  # calculating sharpe ratio\n",
    "\n",
    "        # print(fitness)\n",
    "        # comparing the old fitness value with the updated fitness value\n",
    "\n",
    "            if fitness > pbest:\n",
    "\n",
    "            # if the updated fitness value is better than the previous, change pbest to present fitness value\n",
    "\n",
    "                pbest = fitness\n",
    "\n",
    "                # portfolio content\n",
    "\n",
    "                portfolio_returns = returns_temp\n",
    "                portfolio_risk = volatility_temp\n",
    "                portfolio_sharpe = fitness\n",
    "                portfolio_array = [portfolio_returns,portfolio_risk,portfolio_sharpe,weights.tolist()]\n",
    "                top_portfolios.append(portfolio_array)\n",
    "\n",
    "            # print(pbest)\n",
    "            # remembering the weights of the best portfolio\n",
    "                # global_warr_sharpe=weights.tolist()\n",
    "        # print(\"Global warr sharpe: \",global_warr_sharpe)\n",
    "\n",
    "    return top_portfolios\n"
   ]
  },
  {
   "cell_type": "code",
   "execution_count": 13,
   "metadata": {
    "pycharm": {
     "is_executing": true,
     "name": "#%%\n"
    },
    "scrolled": true
   },
   "outputs": [],
   "source": [
    "top_portfolios_sharpe=ACO_Sharpe(ITERATIONS,Q,EVA_RATE,ANTS)\n",
    "#top_portfolios=antcolony_optimization(200,0.1,0.63,300)"
   ]
  },
  {
   "cell_type": "code",
   "execution_count": 14,
   "metadata": {
    "pycharm": {
     "is_executing": true
    }
   },
   "outputs": [
    {
     "ename": "ValueError",
     "evalue": "Length of values (4) does not match length of index (12)",
     "output_type": "error",
     "traceback": [
      "\u001B[1;31m---------------------------------------------------------------------------\u001B[0m",
      "\u001B[1;31mValueError\u001B[0m                                Traceback (most recent call last)",
      "\u001B[1;32m~\\AppData\\Local\\Temp/ipykernel_24428/1940524347.py\u001B[0m in \u001B[0;36m<module>\u001B[1;34m\u001B[0m\n\u001B[0;32m      2\u001B[0m \u001B[0mtop_portfolios_sharpe_df\u001B[0m\u001B[1;33m=\u001B[0m\u001B[0mpd\u001B[0m\u001B[1;33m.\u001B[0m\u001B[0mDataFrame\u001B[0m\u001B[1;33m(\u001B[0m\u001B[0mtop_portfolios_sharpe\u001B[0m\u001B[1;33m,\u001B[0m\u001B[0mcolumns\u001B[0m\u001B[1;33m=\u001B[0m\u001B[1;33m[\u001B[0m\u001B[1;34m'Returns'\u001B[0m\u001B[1;33m,\u001B[0m\u001B[1;34m'Risk'\u001B[0m\u001B[1;33m,\u001B[0m\u001B[1;34m'Sharpe'\u001B[0m\u001B[1;33m,\u001B[0m\u001B[1;34m'Weights'\u001B[0m\u001B[1;33m]\u001B[0m\u001B[1;33m)\u001B[0m\u001B[1;33m\u001B[0m\u001B[1;33m\u001B[0m\u001B[0m\n\u001B[0;32m      3\u001B[0m \u001B[1;32mfor\u001B[0m \u001B[0mcounter\u001B[0m\u001B[1;33m,\u001B[0m\u001B[0msymbol\u001B[0m \u001B[1;32min\u001B[0m \u001B[0menumerate\u001B[0m\u001B[1;33m(\u001B[0m\u001B[0mdf\u001B[0m\u001B[1;33m.\u001B[0m\u001B[0mcolumns\u001B[0m\u001B[1;33m)\u001B[0m\u001B[1;33m:\u001B[0m\u001B[1;33m\u001B[0m\u001B[1;33m\u001B[0m\u001B[0m\n\u001B[1;32m----> 4\u001B[1;33m   \u001B[0mtop_portfolios_sharpe_df\u001B[0m\u001B[1;33m[\u001B[0m\u001B[0msymbol\u001B[0m \u001B[1;33m+\u001B[0m \u001B[1;34m\" Weight\"\u001B[0m\u001B[1;33m]\u001B[0m \u001B[1;33m=\u001B[0m \u001B[1;33m[\u001B[0m\u001B[0mWeight\u001B[0m\u001B[1;33m[\u001B[0m\u001B[0mcounter\u001B[0m\u001B[1;33m]\u001B[0m \u001B[1;32mfor\u001B[0m \u001B[0mWeight\u001B[0m \u001B[1;32min\u001B[0m \u001B[0mtop_portfolios_sharpe_df\u001B[0m\u001B[1;33m]\u001B[0m\u001B[1;33m\u001B[0m\u001B[1;33m\u001B[0m\u001B[0m\n\u001B[0m",
      "\u001B[1;32mc:\\users\\dell\\appdata\\local\\programs\\python\\python39\\lib\\site-packages\\pandas\\core\\frame.py\u001B[0m in \u001B[0;36m__setitem__\u001B[1;34m(self, key, value)\u001B[0m\n\u001B[0;32m   3610\u001B[0m         \u001B[1;32melse\u001B[0m\u001B[1;33m:\u001B[0m\u001B[1;33m\u001B[0m\u001B[1;33m\u001B[0m\u001B[0m\n\u001B[0;32m   3611\u001B[0m             \u001B[1;31m# set column\u001B[0m\u001B[1;33m\u001B[0m\u001B[1;33m\u001B[0m\u001B[1;33m\u001B[0m\u001B[0m\n\u001B[1;32m-> 3612\u001B[1;33m             \u001B[0mself\u001B[0m\u001B[1;33m.\u001B[0m\u001B[0m_set_item\u001B[0m\u001B[1;33m(\u001B[0m\u001B[0mkey\u001B[0m\u001B[1;33m,\u001B[0m \u001B[0mvalue\u001B[0m\u001B[1;33m)\u001B[0m\u001B[1;33m\u001B[0m\u001B[1;33m\u001B[0m\u001B[0m\n\u001B[0m\u001B[0;32m   3613\u001B[0m \u001B[1;33m\u001B[0m\u001B[0m\n\u001B[0;32m   3614\u001B[0m     \u001B[1;32mdef\u001B[0m \u001B[0m_setitem_slice\u001B[0m\u001B[1;33m(\u001B[0m\u001B[0mself\u001B[0m\u001B[1;33m,\u001B[0m \u001B[0mkey\u001B[0m\u001B[1;33m:\u001B[0m \u001B[0mslice\u001B[0m\u001B[1;33m,\u001B[0m \u001B[0mvalue\u001B[0m\u001B[1;33m)\u001B[0m\u001B[1;33m:\u001B[0m\u001B[1;33m\u001B[0m\u001B[1;33m\u001B[0m\u001B[0m\n",
      "\u001B[1;32mc:\\users\\dell\\appdata\\local\\programs\\python\\python39\\lib\\site-packages\\pandas\\core\\frame.py\u001B[0m in \u001B[0;36m_set_item\u001B[1;34m(self, key, value)\u001B[0m\n\u001B[0;32m   3782\u001B[0m         \u001B[0mensure\u001B[0m \u001B[0mhomogeneity\u001B[0m\u001B[1;33m.\u001B[0m\u001B[1;33m\u001B[0m\u001B[1;33m\u001B[0m\u001B[0m\n\u001B[0;32m   3783\u001B[0m         \"\"\"\n\u001B[1;32m-> 3784\u001B[1;33m         \u001B[0mvalue\u001B[0m \u001B[1;33m=\u001B[0m \u001B[0mself\u001B[0m\u001B[1;33m.\u001B[0m\u001B[0m_sanitize_column\u001B[0m\u001B[1;33m(\u001B[0m\u001B[0mvalue\u001B[0m\u001B[1;33m)\u001B[0m\u001B[1;33m\u001B[0m\u001B[1;33m\u001B[0m\u001B[0m\n\u001B[0m\u001B[0;32m   3785\u001B[0m \u001B[1;33m\u001B[0m\u001B[0m\n\u001B[0;32m   3786\u001B[0m         if (\n",
      "\u001B[1;32mc:\\users\\dell\\appdata\\local\\programs\\python\\python39\\lib\\site-packages\\pandas\\core\\frame.py\u001B[0m in \u001B[0;36m_sanitize_column\u001B[1;34m(self, value)\u001B[0m\n\u001B[0;32m   4507\u001B[0m \u001B[1;33m\u001B[0m\u001B[0m\n\u001B[0;32m   4508\u001B[0m         \u001B[1;32mif\u001B[0m \u001B[0mis_list_like\u001B[0m\u001B[1;33m(\u001B[0m\u001B[0mvalue\u001B[0m\u001B[1;33m)\u001B[0m\u001B[1;33m:\u001B[0m\u001B[1;33m\u001B[0m\u001B[1;33m\u001B[0m\u001B[0m\n\u001B[1;32m-> 4509\u001B[1;33m             \u001B[0mcom\u001B[0m\u001B[1;33m.\u001B[0m\u001B[0mrequire_length_match\u001B[0m\u001B[1;33m(\u001B[0m\u001B[0mvalue\u001B[0m\u001B[1;33m,\u001B[0m \u001B[0mself\u001B[0m\u001B[1;33m.\u001B[0m\u001B[0mindex\u001B[0m\u001B[1;33m)\u001B[0m\u001B[1;33m\u001B[0m\u001B[1;33m\u001B[0m\u001B[0m\n\u001B[0m\u001B[0;32m   4510\u001B[0m         \u001B[1;32mreturn\u001B[0m \u001B[0msanitize_array\u001B[0m\u001B[1;33m(\u001B[0m\u001B[0mvalue\u001B[0m\u001B[1;33m,\u001B[0m \u001B[0mself\u001B[0m\u001B[1;33m.\u001B[0m\u001B[0mindex\u001B[0m\u001B[1;33m,\u001B[0m \u001B[0mcopy\u001B[0m\u001B[1;33m=\u001B[0m\u001B[1;32mTrue\u001B[0m\u001B[1;33m,\u001B[0m \u001B[0mallow_2d\u001B[0m\u001B[1;33m=\u001B[0m\u001B[1;32mTrue\u001B[0m\u001B[1;33m)\u001B[0m\u001B[1;33m\u001B[0m\u001B[1;33m\u001B[0m\u001B[0m\n\u001B[0;32m   4511\u001B[0m \u001B[1;33m\u001B[0m\u001B[0m\n",
      "\u001B[1;32mc:\\users\\dell\\appdata\\local\\programs\\python\\python39\\lib\\site-packages\\pandas\\core\\common.py\u001B[0m in \u001B[0;36mrequire_length_match\u001B[1;34m(data, index)\u001B[0m\n\u001B[0;32m    529\u001B[0m     \"\"\"\n\u001B[0;32m    530\u001B[0m     \u001B[1;32mif\u001B[0m \u001B[0mlen\u001B[0m\u001B[1;33m(\u001B[0m\u001B[0mdata\u001B[0m\u001B[1;33m)\u001B[0m \u001B[1;33m!=\u001B[0m \u001B[0mlen\u001B[0m\u001B[1;33m(\u001B[0m\u001B[0mindex\u001B[0m\u001B[1;33m)\u001B[0m\u001B[1;33m:\u001B[0m\u001B[1;33m\u001B[0m\u001B[1;33m\u001B[0m\u001B[0m\n\u001B[1;32m--> 531\u001B[1;33m         raise ValueError(\n\u001B[0m\u001B[0;32m    532\u001B[0m             \u001B[1;34m\"Length of values \"\u001B[0m\u001B[1;33m\u001B[0m\u001B[1;33m\u001B[0m\u001B[0m\n\u001B[0;32m    533\u001B[0m             \u001B[1;34mf\"({len(data)}) \"\u001B[0m\u001B[1;33m\u001B[0m\u001B[1;33m\u001B[0m\u001B[0m\n",
      "\u001B[1;31mValueError\u001B[0m: Length of values (4) does not match length of index (12)"
     ]
    }
   ],
   "source": [
    "#top_portfolios_sharpe_df=pd.DataFrame(top_portfolios_sharpe[0:2],columns=['Returns','Risk','Sharpe ratio'])\n",
    "top_portfolios_sharpe_df=pd.DataFrame(top_portfolios_sharpe,columns=['Returns','Risk','Sharpe','Weights'])\n",
    "for counter,symbol in enumerate(df.columns):\n",
    "  top_portfolios_sharpe_df[symbol + \" Weight\"] = [Weight[counter] for Weight in top_portfolios_sharpe_df]"
   ]
  },
  {
   "cell_type": "code",
   "execution_count": null,
   "metadata": {
    "pycharm": {
     "is_executing": true
    }
   },
   "outputs": [],
   "source": [
    "top_portfolios_sharpe_df"
   ]
  },
  {
   "cell_type": "code",
   "execution_count": null,
   "metadata": {
    "pycharm": {
     "is_executing": true
    }
   },
   "outputs": [],
   "source": [
    "#sorting portfolio based on sharpe ratio\n",
    "top_portfolios_sharpe.sort(key=lambda x:x[3],reverse=True)\n"
   ]
  },
  {
   "cell_type": "code",
   "execution_count": null,
   "metadata": {
    "pycharm": {
     "is_executing": true
    },
    "scrolled": true
   },
   "outputs": [],
   "source": [
    "#index of portfolio parameters \n",
    "weights_index=0\n",
    "return_index=1\n",
    "risk_index=2\n",
    "sharpe_index=3\n",
    "\n",
    "\n",
    "iter_portfolio=10 if len(top_portfolios_sharpe)>10 else len(top_portfolios_sharpe)\n",
    "        \n",
    "for i in range(0,iter_portfolio):\n",
    "  if(i==0):\n",
    "    names=df.columns\n",
    "    j=0\n",
    "    print(\"******** OPTIMAL PORTFOLIO *********\\n\")\n",
    "    print(\"************ WEIGHTS *************\")\n",
    "    for x in (names):\n",
    "      print(\"{} -> {} %\".format(x,top_portfolios_sharpe[i][weights_index][j]*100))\n",
    "      j+=1\n",
    "    print(\"\\n\")\n",
    "    print(\"***** OPTIMAL PORTFOLIO COMPONENTS *****\")\n",
    "    print(\"Returns -> {} %\".format(top_portfolios_sharpe[i][return_index]*100))\n",
    "    print(\"Risk -> {} %\".format(top_portfolios_sharpe[i][risk_index]*100))\n",
    "    print(\"Sharpe Ratio -> {}\".format(top_portfolios_sharpe[i][sharpe_index]))\n",
    "    print(\"\\n\")\n",
    "  else:\n",
    "    print(\"\\n******* PORTFOLIO {}. ******\".format(i+1))\n",
    "    names=df.columns\n",
    "    print(\"Returns -> {} %\".format(top_portfolios_sharpe[i][return_index]*100))\n",
    "    print(\"Risk -> {} %\".format(top_portfolios_sharpe[i][risk_index]*100))\n",
    "    print(\"Sharpe Ratio -> {}\".format(top_portfolios_sharpe[i][sharpe_index]))\n",
    "\n",
    "\n"
   ]
  },
  {
   "cell_type": "code",
   "execution_count": null,
   "metadata": {
    "pycharm": {
     "is_executing": true
    }
   },
   "outputs": [],
   "source": [
    "def ACO_Sortino(ITERATIONS,Q,EVA_RATE,ANTS):\n",
    "    pbest=-1\n",
    "    fitness=0\n",
    "    top_portfolios_sortino=[]\n",
    "    df=pd.read_csv('n50.csv',parse_dates=['Date'],index_col='Date')  #Importing Dataset\n",
    "    df = df.loc[\"2016-01-01\" : ]   #Since 2016-01-01, 5y(1234rows till 2020-12-31)\n",
    "    tdf=df.copy()                  #deep copy\n",
    "    df.reset_index(drop=True, inplace=True)\n",
    "\n",
    "    trading_days=len(df)/number_of_years(tdf)\n",
    "\n",
    "\n",
    "    returnsh=df.pct_change()                  #Here, returnsh would mean return considered for sharpe ratio\n",
    "    returnsh.fillna(0,inplace=True)           #calculating daily returns of the stocks in the portfolio\n",
    "\n",
    "    returnso=returnsh.copy()                  #this cell considers only NEGATIVE returns so as to calculate sortino ratio\n",
    "    for cols in returnso.columns.tolist():\n",
    "        for i in range(0,len(df)):\n",
    "            if returnso[cols][i] > 0:\n",
    "                returnso[cols][i]=0\n",
    "            #Here, returnso would mean return considered for sortino ratio\n",
    "\n",
    "    covmatso=returnso.cov()*trading_days\n",
    "\n",
    "    risk_free_rate = 0.0358\n",
    "    stocks=df.shape[1]\n",
    "\n",
    "    global_warr_sharpe=[]\n",
    "    for iteration in range(ITERATIONS):\n",
    "        pheromon=[[0]*stocks for i in range(ANTS+1)]\n",
    "        for i in range(len(pheromon[0])):\n",
    "            pheromon[0][i]=random.randint(1,15)\n",
    "        temp_pher=pheromon[0]\n",
    "        weights=np.array(BALANCE(temp_pher))\n",
    "        returns_temp = np.sum(returnsh.mean()*weights)*trading_days\n",
    "        varso=np.dot(weights.T,np.dot(covmatso,weights))\n",
    "        semi_temp = np.sqrt(varso)\n",
    "        fitness = ratio(returns_temp,semi_temp,risk_free_rate)\n",
    "        if pbest==-1:\n",
    "            pbest=fitness\n",
    "        path=[]\n",
    "        for ant in range(ANTS-1):\n",
    "            total=sum(pheromon[ant])\n",
    "            probability=pheromon[ant][:]\n",
    "            for p in range(len(probability)):\n",
    "                probability[p]=(probability[p]/total)\n",
    "            for stock in range(stocks):\n",
    "                select=probability.index(max(probability))\n",
    "                probability[select]=-math.inf\n",
    "                path.append(select)\n",
    "            for s in path:\n",
    "                pheromon[ant+1][s]=pheromon[ant][s]*(1-EVA_RATE)+Q*(fitness/pbest)\n",
    "            temp_pher=pheromon[ant+1]\n",
    "            weights=np.array(BALANCE(temp_pher))\n",
    "            returns_temp = np.sum(returnsh.mean()*weights)*trading_days\n",
    "            varso=np.dot(weights.T,np.dot(covmatso,weights))\n",
    "            semi_temp = np.sqrt(varso)\n",
    "            fitness = ratio(returns_temp,semi_temp,risk_free_rate)\n",
    "            if(fitness>pbest):\n",
    "                pbest=fitness\n",
    "                portfolio_returns=returns_temp\n",
    "                portfolio_risk=semi_temp\n",
    "                portfolio_sortino=fitness\n",
    "                portfolio_array=[weights.tolist(),portfolio_returns,portfolio_risk,portfolio_sortino]\n",
    "                top_portfolios_sortino.append(portfolio_array)\n",
    "    return top_portfolios_sortino\n"
   ]
  },
  {
   "cell_type": "code",
   "execution_count": null,
   "metadata": {
    "pycharm": {
     "is_executing": true
    }
   },
   "outputs": [],
   "source": [
    "top_portfolios_sortino=ACO_Sortino(ITERATIONS,Q,EVA_RATE,ANTS)"
   ]
  },
  {
   "cell_type": "code",
   "execution_count": null,
   "metadata": {
    "pycharm": {
     "is_executing": true
    }
   },
   "outputs": [],
   "source": [
    "top_portfolios_sortino.sort(key=lambda x:x[3],reverse=True)"
   ]
  },
  {
   "cell_type": "code",
   "execution_count": null,
   "metadata": {
    "pycharm": {
     "is_executing": true
    }
   },
   "outputs": [],
   "source": [
    "#index of portfolio parameters \n",
    "weights_index=0\n",
    "return_index=1\n",
    "risk_index=2\n",
    "sharpe_index=3\n",
    "\n",
    "\n",
    "iter_portfolio=10 if len(top_portfolios_sortino)>10 else len(top_portfolios_sortino)\n",
    "        \n",
    "for i in range(0,iter_portfolio):\n",
    "  if(i==0):\n",
    "    names=df.columns\n",
    "    j=0\n",
    "    print(\"******** OPTIMAL PORTFOLIO *********\\n\")\n",
    "    print(\"************ WEIGHTS *************\")\n",
    "    for x in (names):\n",
    "      print(\"{} -> {} %\".format(x,top_portfolios_sortino[i][weights_index][j]*100))\n",
    "      j+=1\n",
    "    print(\"\\n\")\n",
    "    print(\"***** OPTIMAL PORTFOLIO COMPONENTS *****\")\n",
    "    print(\"Returns -> {} %\".format(top_portfolios_sortino[i][return_index]*100))\n",
    "    print(\"Risk -> {} %\".format(top_portfolios_sortino[i][risk_index]*100))\n",
    "    print(\"Sortino Ratio -> {}\".format(top_portfolios_sortino[i][sharpe_index]))\n",
    "    print(\"\\n\")\n",
    "  else:\n",
    "    print(\"\\n******* PORTFOLIO {}. ******\".format(i+1))\n",
    "    names=df.columns\n",
    "    print(\"Returns -> {} %\".format(top_portfolios_sortino[i][return_index]*100))\n",
    "    print(\"Risk -> {} %\".format(top_portfolios_sortino[i][risk_index]*100))\n",
    "    print(\"Sortino Ratio -> {}\".format(top_portfolios_sortino[i][sharpe_index]))"
   ]
  }
 ],
 "metadata": {
  "kernelspec": {
   "display_name": "Python 3 (ipykernel)",
   "language": "python",
   "name": "python3"
  },
  "language_info": {
   "codemirror_mode": {
    "name": "ipython",
    "version": 3
   },
   "file_extension": ".py",
   "mimetype": "text/x-python",
   "name": "python",
   "nbconvert_exporter": "python",
   "pygments_lexer": "ipython3",
   "version": "3.9.6"
  }
 },
 "nbformat": 4,
 "nbformat_minor": 1
}