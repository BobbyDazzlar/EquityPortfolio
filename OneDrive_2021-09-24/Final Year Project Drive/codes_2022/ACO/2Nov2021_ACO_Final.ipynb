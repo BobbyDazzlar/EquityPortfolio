{
 "cells": [
  {
   "cell_type": "code",
   "execution_count": 1,
   "metadata": {
    "id": "9Nro5RzJ6hMl",
    "pycharm": {
     "is_executing": true
    }
   },
   "outputs": [],
   "source": [
    "import optuna\n",
    "import joblib\n",
    "import pandas as pd\n",
    "import numpy as np\n",
    "import random\n",
    "import math"
   ]
  },
  {
   "cell_type": "code",
   "execution_count": 2,
   "metadata": {
    "id": "Cy-Di43uOPkW"
   },
   "outputs": [],
   "source": [
    "def BALANCE(weights):\n",
    "  #Making sure the total sum of the weights eual to 1\n",
    "  weights = [w/sum(weights) for w in weights] \n",
    "  # Making sure all weights represent proportions that add up to 1\n",
    "  return weights"
   ]
  },
  {
   "cell_type": "code",
   "execution_count": 3,
   "metadata": {
    "id": "TvMpzcufOPiU"
   },
   "outputs": [],
   "source": [
    "def ratio(a,b,c):                       \n",
    "  #function to calculate ratio i.e. \"(returns-(risk_free_rate))/deviation\"\n",
    "  #calculating sharpe ratio\n",
    "  return (a-c)/b"
   ]
  },
  {
   "cell_type": "code",
   "execution_count": 4,
   "metadata": {
    "id": "8Z4xIIVEOPf5"
   },
   "outputs": [],
   "source": [
    "def number_of_years(y):#calculates the number of years of the dataset\n",
    "  p=y.index[0]         #date of first row in the dataset (datetime format)\n",
    "  q=y.index[len(y)-1]  #date of last row in the dataset  (datetime format)\n",
    "  return ((q-p).days+1)/365"
   ]
  },
  {
   "cell_type": "code",
   "execution_count": 5,
   "metadata": {
    "id": "BGMVmkDBOPdu"
   },
   "outputs": [],
   "source": [
    "df=pd.read_csv(\"n50.csv\",parse_dates=['Date'],index_col='Date')  #Importing Dataset\n",
    "df = df.loc[\"2016-01-01\" : ]   #Since 2016-01-01, 5y(1234rows till 2020-12-31)\n",
    "tdf=df.copy()                  #deep copy\n",
    "df.reset_index(drop=True, inplace=True)\n",
    "col=list(df.columns)"
   ]
  },
  {
   "cell_type": "code",
   "execution_count": 6,
   "metadata": {
    "id": "dIqD9wxzOPbc"
   },
   "outputs": [],
   "source": [
    "trading_days=len(df)/number_of_years(tdf) "
   ]
  },
  {
   "cell_type": "code",
   "execution_count": 7,
   "metadata": {
    "id": "TLHm2sI4OPZF"
   },
   "outputs": [],
   "source": [
    "returnsh=df.pct_change()                  \n",
    "#Here, returnsh would mean return considered for sharpe ratio\n",
    "returnsh.fillna(0,inplace=True)"
   ]
  },
  {
   "cell_type": "code",
   "execution_count": 8,
   "metadata": {
    "colab": {
     "base_uri": "https://localhost:8080/",
     "height": 197
    },
    "id": "P02rmZVsYMbN",
    "outputId": "1b3b00c4-157a-4af9-80a0-111bbec30067"
   },
   "outputs": [],
   "source": [
    "returnso = returnsh.copy()  # this cell considers only NEGATIVE returns so as to calculate sortino ratio\n",
    "for cols in returnso.columns.tolist():\n",
    "  for i in range(0, len(df)):\n",
    "    if returnso[cols][i] > 0:\n",
    "      returnso[cols][i] = 0\n"
   ]
  },
  {
   "cell_type": "code",
   "execution_count": 9,
   "metadata": {
    "id": "K7eZR3WXOPWk"
   },
   "outputs": [],
   "source": [
    "covmatsh=returnsh.cov()*trading_days     \n",
    "#Annualised covariance matrix calculated wrt returnsh i.e. used to calculate sharpe ratio\n",
    "covmatso = returnso.cov() * trading_days"
   ]
  },
  {
   "cell_type": "code",
   "execution_count": 10,
   "metadata": {
    "id": "6pUgs_cIOPUM"
   },
   "outputs": [],
   "source": [
    "risk_free_rate = 0.0358 #initializing risk free rate that will be used in calculating both the ratios (absolute value)\n",
    "#referred from url: https://www.rbi.org.in/Scripts/BS_NSDPDisplay.aspx?param=4&Id=24292\n",
    "#In the above url, the 364 (1 year) day treasury bill is 3.58% , when taken absolute value => 0.0358\n",
    "# (improved)"
   ]
  },
  {
   "cell_type": "code",
   "execution_count": 11,
   "metadata": {
    "colab": {
     "base_uri": "https://localhost:8080/"
    },
    "id": "psIfrFk-OPP1",
    "outputId": "386c7e68-7d24-41b4-9f4c-dd88a74a518a"
   },
   "outputs": [
    {
     "data": {
      "text/plain": [
       "22"
      ]
     },
     "execution_count": 11,
     "metadata": {},
     "output_type": "execute_result"
    }
   ],
   "source": [
    "df\n",
    "stocks=df.shape[1]\n",
    "stocks"
   ]
  },
  {
   "cell_type": "markdown",
   "metadata": {
    "id": "9m65O3q0mlwr"
   },
   "source": [
    "# Sharpe\n"
   ]
  },
  {
   "cell_type": "code",
   "execution_count": 12,
   "metadata": {
    "id": "jPjytXKYOPFC"
   },
   "outputs": [],
   "source": [
    "def ACO_Tuning_Sharpe(ITERATIONS,Q,EVA_RATE,ANTS):\n",
    "    sharpe_pbest=-1\n",
    "    #Initializing sharpe_pbest(the best fitness value   SHARPE)\n",
    "    #Initializing the current fitness value\n",
    "    fitness=0\n",
    "    #for each iteration\n",
    "    for iteration in range(ITERATIONS):\n",
    "        \n",
    "        #PREPARAING THE PHEROMONE MATRIX WHERE THE COLS=STOCKS AND  ROWS=ANTS\n",
    "        pheromon=[[0]*stocks for i in range(ANTS+1)]#why (ants+1)?The last ant can update the pheromone values in the last row\n",
    "        \n",
    "        # Initializing the pheromone status \n",
    "        for i in range(len(pheromon[0])):\n",
    "            pheromon[0][i]=random.randint(1,15)   #When input stocks varies, this needs to vary accordingly.(Divide number of stocks / 2)\n",
    "        \n",
    "        #copying the values and storing it in temp_pher\n",
    "        temp_pher=pheromon[0]\n",
    "        \n",
    "        #Making sure that the total amount of pheromone equals 1 \n",
    "        weights=np.array(BALANCE(temp_pher))\n",
    "        \n",
    "        #calculating annulaised portfolio return\n",
    "        returns_temp = np.sum(returnsh.mean()*weights)*trading_days \n",
    "        \n",
    "        #calculating portfolio varience wrt calculating sharpe ratio\n",
    "        varsh=np.dot(weights.T,np.dot(covmatsh,weights))   \n",
    "        \n",
    "        #portfolio risk\n",
    "        volatility_temp = np.sqrt(varsh)      \n",
    "        \n",
    "        #Calculating fitness value(ie sharpe ratio)\n",
    "        fitness = ratio(returns_temp,volatility_temp,risk_free_rate)\n",
    "        \n",
    "        #Initializing the intial fitness value as the best fitness value(sharpe_pbest)\n",
    "        if sharpe_pbest==-1:\n",
    "            sharpe_pbest=fitness\n",
    "        \n",
    "        #list\n",
    "        path=[]\n",
    "      \n",
    "        #for each ant\n",
    "        for ant in range(ANTS-1):\n",
    "            \n",
    "            #find the total pheromone \n",
    "            total=sum(pheromon[ant])\n",
    "            \n",
    "            #Initializing probability\n",
    "            probability=pheromon[ant][:] \n",
    "            \n",
    "            #finding probability of each stocks pheromone \n",
    "            for p in range(len(probability)):\n",
    "                probability[p]=(probability[p]/total)\n",
    "                \n",
    "            #Trying to select stocks in decreasing order based on their pheromone level and storing the stock order in a list(path)\n",
    "            for stock in range(stocks):\n",
    "                select=probability.index(max(probability))\n",
    "                probability[select]=-math.inf\n",
    "                path.append(select)\n",
    "            \n",
    "            #Updating the pheromone level of each stock for the next ant \n",
    "            #Formula: old pheromone level * (1-eva_rate) + Q * (fitness/sharpe_pbest) where Q is fixed amount of pheromone\n",
    "            for s in path:\n",
    "                pheromon[ant+1][s]=pheromon[ant][s]*(1-EVA_RATE)+Q*(fitness/sharpe_pbest)\n",
    "            \n",
    "            \n",
    "            #making sure that the updated pheromon adds upto 1\n",
    "            temp_pher=pheromon[ant+1]\n",
    "            weights=np.array(BALANCE(temp_pher))\n",
    "            returns_temp = np.sum(returnsh.mean()*weights)*trading_days   #calculating annulaised portfolio return\n",
    "            varsh=np.dot(weights.T,np.dot(covmatsh,weights))              #calculating portfolio varience wrt calculating sharpe ratio\n",
    "            volatility_temp = np.sqrt(varsh)                              #portfolio risk\n",
    "            fitness = ratio(returns_temp,volatility_temp,risk_free_rate)  #calculating sharpe ratio\n",
    "            \n",
    "            #comparing the old fitness value with the updated fitness value\n",
    "            # explore on scape condition paper ref\n",
    "            if(fitness>sharpe_pbest):\n",
    "                \n",
    "                #if the updated fitness value is better than the previous, change sharpe_pbest to present fitness value\n",
    "                sharpe_pbest=fitness\n",
    "                \n",
    "                #remembering the weights of the best portfolio\n",
    "                global_warr_sharpe=weights.tolist()\n",
    "        #sharpe_portfolio_return.append(returns_temp)\n",
    "        #sharpe_portfolio_risk.append(volatility_temp)\n",
    "        #sharpe_portfolio_shratio.append(fitness)\n",
    "        #sharpe_portfolio_stockWeights.append(weights)\n",
    "    return sharpe_pbest\n"
   ]
  },
  {
   "cell_type": "code",
   "execution_count": 13,
   "metadata": {
    "id": "6XX9KAEeOO7s"
   },
   "outputs": [],
   "source": [
    "#literature survey in excel file\n",
    "def objective(trial):\n",
    "    ITERATIONS=trial.suggest_int('ITERATIONS',2,50)\n",
    "    Q=trial.suggest_float('Q',0.1,1.0)\n",
    "    EVA_RATE=trial.suggest_float('EVA_RATE',0.4,1.00)\n",
    "    ANTS=trial.suggest_int('ANTS',2,50)\n",
    "    return ACO_Tuning_Sharpe(int(ITERATIONS),Q,EVA_RATE,int(ANTS))"
   ]
  },
  {
   "cell_type": "code",
   "execution_count": 14,
   "metadata": {
    "colab": {
     "base_uri": "https://localhost:8080/"
    },
    "id": "rV1Mp3bKRTnb",
    "outputId": "40e2a321-670b-4246-d9ee-e58c3d61a7d6"
   },
   "outputs": [
    {
     "name": "stderr",
     "output_type": "stream",
     "text": [
      "\u001b[32m[I 2021-11-10 22:24:23,507]\u001b[0m A new study created in memory with name: no-name-6778ecb9-eeab-4026-bc1a-94ae97225b9e\u001b[0m\n",
      "\u001b[32m[I 2021-11-10 22:24:24,366]\u001b[0m Trial 0 finished with value: 1.3689401814885522 and parameters: {'ITERATIONS': 50, 'Q': 0.4349965449415898, 'EVA_RATE': 0.4725639291018401, 'ANTS': 18}. Best is trial 0 with value: 1.3689401814885522.\u001b[0m\n",
      "\u001b[32m[I 2021-11-10 22:24:26,941]\u001b[0m Trial 1 finished with value: 1.3694560259703015 and parameters: {'ITERATIONS': 42, 'Q': 0.1250887419687947, 'EVA_RATE': 0.6292454358107941, 'ANTS': 46}. Best is trial 1 with value: 1.3694560259703015.\u001b[0m\n",
      "\u001b[32m[I 2021-11-10 22:24:29,320]\u001b[0m Trial 2 finished with value: 1.3639131097506152 and parameters: {'ITERATIONS': 44, 'Q': 0.16301405824400778, 'EVA_RATE': 0.6745539239284368, 'ANTS': 44}. Best is trial 1 with value: 1.3694560259703015.\u001b[0m\n",
      "\u001b[32m[I 2021-11-10 22:24:29,540]\u001b[0m Trial 3 finished with value: 1.3673298523985398 and parameters: {'ITERATIONS': 14, 'Q': 0.3576960372058071, 'EVA_RATE': 0.8513754677564092, 'ANTS': 16}. Best is trial 1 with value: 1.3694560259703015.\u001b[0m\n",
      "\u001b[32m[I 2021-11-10 22:24:30,322]\u001b[0m Trial 4 finished with value: 1.3359455682517207 and parameters: {'ITERATIONS': 40, 'Q': 0.34050113611836413, 'EVA_RATE': 0.956193406319213, 'ANTS': 21}. Best is trial 1 with value: 1.3694560259703015.\u001b[0m\n",
      "\u001b[32m[I 2021-11-10 22:24:31,209]\u001b[0m Trial 5 finished with value: 1.3322110264278852 and parameters: {'ITERATIONS': 29, 'Q': 0.7208110852820506, 'EVA_RATE': 0.7220897103434598, 'ANTS': 30}. Best is trial 1 with value: 1.3694560259703015.\u001b[0m\n",
      "\u001b[32m[I 2021-11-10 22:24:32,846]\u001b[0m Trial 6 finished with value: 1.3643133426731422 and parameters: {'ITERATIONS': 30, 'Q': 0.4945726639547794, 'EVA_RATE': 0.4281591329740009, 'ANTS': 47}. Best is trial 1 with value: 1.3694560259703015.\u001b[0m\n",
      "\u001b[32m[I 2021-11-10 22:24:33,133]\u001b[0m Trial 7 finished with value: 1.3426571575881079 and parameters: {'ITERATIONS': 29, 'Q': 0.48256096042535856, 'EVA_RATE': 0.7521168697432146, 'ANTS': 11}. Best is trial 1 with value: 1.3694560259703015.\u001b[0m\n",
      "\u001b[32m[I 2021-11-10 22:24:33,188]\u001b[0m Trial 8 finished with value: 1.348873111301925 and parameters: {'ITERATIONS': 21, 'Q': 0.22960984001089713, 'EVA_RATE': 0.7408312403415209, 'ANTS': 3}. Best is trial 1 with value: 1.3694560259703015.\u001b[0m\n",
      "\u001b[32m[I 2021-11-10 22:24:33,596]\u001b[0m Trial 9 finished with value: 1.3530971299667316 and parameters: {'ITERATIONS': 20, 'Q': 0.7173344586185604, 'EVA_RATE': 0.410051837867183, 'ANTS': 21}. Best is trial 1 with value: 1.3694560259703015.\u001b[0m\n"
     ]
    }
   ],
   "source": [
    "sharpe_study=optuna.create_study(direction='maximize')\n",
    "sharpe_study.optimize(objective,n_trials=10)"
   ]
  },
  {
   "cell_type": "code",
   "execution_count": 15,
   "metadata": {
    "colab": {
     "base_uri": "https://localhost:8080/"
    },
    "id": "_3mk8pPPRTlO",
    "outputId": "ec6211c3-8984-4020-e340-cc9d1576b7c9"
   },
   "outputs": [
    {
     "data": {
      "text/plain": [
       "{'ITERATIONS': 42,\n",
       " 'Q': 0.1250887419687947,\n",
       " 'EVA_RATE': 0.6292454358107941,\n",
       " 'ANTS': 46}"
      ]
     },
     "execution_count": 15,
     "metadata": {},
     "output_type": "execute_result"
    }
   ],
   "source": [
    "sh_hptuning=sharpe_study.trials_dataframe()\n",
    "sh_hptuning.to_csv(\"sharpe_trial0.csv\")\n",
    "best=sharpe_study.best_params\n",
    "best"
   ]
  },
  {
   "cell_type": "code",
   "execution_count": 16,
   "metadata": {
    "colab": {
     "base_uri": "https://localhost:8080/"
    },
    "id": "E2_7Q1OpRThr",
    "outputId": "c6aa0900-880e-47f4-e727-72da0402ba5b"
   },
   "outputs": [
    {
     "data": {
      "text/plain": [
       "42"
      ]
     },
     "execution_count": 16,
     "metadata": {},
     "output_type": "execute_result"
    }
   ],
   "source": [
    "ITERATIONS=int(best['ITERATIONS'])\n",
    "Q=best['Q']\n",
    "EVA_RATE=best['EVA_RATE']\n",
    "ANTS=int(best['ANTS'])\n",
    "ITERATIONS"
   ]
  },
  {
   "cell_type": "code",
   "execution_count": 17,
   "metadata": {
    "id": "x2KmTXbjsZEL"
   },
   "outputs": [],
   "source": [
    "global_warr_sortino=[]\n",
    "global_war_sharpe=[]\n",
    "sharpe_portfolio_return=[]\n",
    "sharpe_portfolio_risk=[]\n",
    "sharpe_portfolio_shratio=[]\n",
    "sharpe_portfolio_stockWeights=[]"
   ]
  },
  {
   "cell_type": "code",
   "execution_count": 18,
   "metadata": {
    "id": "iH7x-tm0Ufc_"
   },
   "outputs": [],
   "source": [
    "def ACO_Sharpe(ITERATIONS,Q,EVA_RATE,ANTS):\n",
    "    sharpe_pbest=-1\n",
    "\n",
    "    #Initializing sharpe_pbest(the best fitness value   SHARPE)\n",
    "    #Initializing the current fitness value\n",
    "    fitness=0\n",
    "    #for each iteration\n",
    "    for iteration in range(ITERATIONS):\n",
    "        \n",
    "        #PREPARAING THE PHEROMONE MATRIX WHERE THE COLS=STOCKS AND  ROWS=ANTS\n",
    "        pheromon=[[0]*stocks for i in range(ANTS+1)]#why (ants+1)?The last ant can update the pheromone values in the last row\n",
    "        \n",
    "        # Initializing the pheromone status \n",
    "        for i in range(len(pheromon[0])):\n",
    "            pheromon[0][i]=random.randint(1,15)   #When input stocks varies, this needs to vary accordingly.(Divide number of stocks / 2)\n",
    "        \n",
    "        #copying the values and storing it in temp_pher\n",
    "        temp_pher=pheromon[0]\n",
    "        \n",
    "        #Making sure that the total amount of pheromone equals 1 \n",
    "        weights=np.array(BALANCE(temp_pher))\n",
    "        \n",
    "        #calculating annulaised portfolio return\n",
    "        returns_temp = np.sum(returnsh.mean()*weights)*trading_days \n",
    "        \n",
    "        #calculating portfolio varience wrt calculating sharpe ratio\n",
    "        varsh=np.dot(weights.T,np.dot(covmatsh,weights))   \n",
    "        \n",
    "        #portfolio risk\n",
    "        volatility_temp = np.sqrt(varsh)      \n",
    "        \n",
    "        #Calculating fitness value(ie sharpe ratio)\n",
    "        fitness = ratio(returns_temp,volatility_temp,risk_free_rate)\n",
    "        \n",
    "        #Initializing the intial fitness value as the best fitness value(sharpe_pbest)\n",
    "        if sharpe_pbest==-1:\n",
    "            sharpe_pbest=fitness\n",
    "        \n",
    "        #list\n",
    "        path=[]\n",
    "      \n",
    "        #for each ant\n",
    "        for ant in range(ANTS-1):\n",
    "            \n",
    "            #find the total pheromone \n",
    "            total=sum(pheromon[ant])\n",
    "            \n",
    "            #Initializing probability\n",
    "            probability=pheromon[ant][:] \n",
    "            \n",
    "            #finding probability of each stocks pheromone \n",
    "            for p in range(len(probability)):\n",
    "                probability[p]=(probability[p]/total)\n",
    "                \n",
    "            #Trying to select stocks in decreasing order based on their pheromone level and storing the stock order in a list(path)\n",
    "            for stock in range(stocks):\n",
    "                select=probability.index(max(probability))\n",
    "                probability[select]=-math.inf\n",
    "                path.append(select)\n",
    "            \n",
    "            #Updating the pheromone level of each stock for the next ant \n",
    "            #Formula: old pheromone level * (1-eva_rate) + Q * (fitness/sharpe_pbest) where Q is fixed amount of pheromone\n",
    "            for s in path:\n",
    "                pheromon[ant+1][s]=pheromon[ant][s]*(1-EVA_RATE)+Q*(fitness/sharpe_pbest)\n",
    "            \n",
    "            \n",
    "            #making sure that the updated pheromon adds upto 1\n",
    "            temp_pher=pheromon[ant+1]\n",
    "            weights=np.array(BALANCE(temp_pher))\n",
    "            returns_temp = np.sum(returnsh.mean()*weights)*trading_days   #calculating annulaised portfolio return\n",
    "            varsh=np.dot(weights.T,np.dot(covmatsh,weights))              #calculating portfolio varience wrt calculating sharpe ratio\n",
    "            volatility_temp = np.sqrt(varsh)                              #portfolio risk\n",
    "            fitness = ratio(returns_temp,volatility_temp,risk_free_rate)  #calculating sharpe ratio\n",
    "            \n",
    "            #comparing the old fitness value with the updated fitness value\n",
    "            # explore on scape condition paper ref\n",
    "            if(fitness>sharpe_pbest):\n",
    "                \n",
    "                #if the updated fitness value is better than the previous, change sharpe_pbest to present fitness value\n",
    "                sharpe_pbest=fitness\n",
    "                \n",
    "                #remembering the weights of the best portfolio\n",
    "                global_warr_sharpe=weights.tolist()\n",
    "        sharpe_portfolio_return.append(returns_temp)\n",
    "        sharpe_portfolio_risk.append(volatility_temp)\n",
    "        sharpe_portfolio_shratio.append(fitness)\n",
    "        sharpe_portfolio_stockWeights.append(weights)\n",
    "    return (sharpe_pbest,sharpe_portfolio_return,sharpe_portfolio_risk,sharpe_portfolio_shratio,sharpe_portfolio_stockWeights)\n"
   ]
  },
  {
   "cell_type": "code",
   "execution_count": 19,
   "metadata": {
    "id": "qG9sZOK8RTez"
   },
   "outputs": [],
   "source": [
    "tuned=ACO_Sharpe(ITERATIONS,Q,EVA_RATE,ANTS)"
   ]
  },
  {
   "cell_type": "code",
   "execution_count": 20,
   "metadata": {},
   "outputs": [
    {
     "data": {
      "text/plain": [
       "[0.2742980533591938,\n",
       " 0.2742980533591937,\n",
       " 0.2742980533591937,\n",
       " 0.27429805335919366,\n",
       " 0.2742980533591937,\n",
       " 0.2742980533591937,\n",
       " 0.27429805335919366,\n",
       " 0.27429805335919366,\n",
       " 0.27429805335919366,\n",
       " 0.27429805335919366,\n",
       " 0.2742980533591937,\n",
       " 0.27429805335919366,\n",
       " 0.27429805335919366,\n",
       " 0.27429805335919366,\n",
       " 0.27429805335919366,\n",
       " 0.27429805335919366,\n",
       " 0.27429805335919366,\n",
       " 0.2742980533591937,\n",
       " 0.2742980533591937,\n",
       " 0.27429805335919366,\n",
       " 0.2742980533591937,\n",
       " 0.27429805335919366,\n",
       " 0.2742980533591937,\n",
       " 0.2742980533591937,\n",
       " 0.2742980533591937,\n",
       " 0.27429805335919366,\n",
       " 0.2742980533591937,\n",
       " 0.27429805335919366,\n",
       " 0.2742980533591937,\n",
       " 0.2742980533591937,\n",
       " 0.2742980533591937,\n",
       " 0.2742980533591937,\n",
       " 0.27429805335919366,\n",
       " 0.2742980533591937,\n",
       " 0.2742980533591937,\n",
       " 0.27429805335919366,\n",
       " 0.27429805335919366,\n",
       " 0.27429805335919366,\n",
       " 0.2742980533591937,\n",
       " 0.2742980533591937,\n",
       " 0.2742980533591937,\n",
       " 0.2742980533591937]"
      ]
     },
     "execution_count": 20,
     "metadata": {},
     "output_type": "execute_result"
    }
   ],
   "source": [
    "sharpe_portfolio_return"
   ]
  },
  {
   "cell_type": "code",
   "execution_count": 21,
   "metadata": {
    "colab": {
     "base_uri": "https://localhost:8080/",
     "height": 824
    },
    "id": "qVbCiA47RTcU",
    "outputId": "0f082cbb-fb6d-485e-b5f1-d249dd021048"
   },
   "outputs": [
    {
     "data": {
      "text/html": [
       "<div>\n",
       "<style scoped>\n",
       "    .dataframe tbody tr th:only-of-type {\n",
       "        vertical-align: middle;\n",
       "    }\n",
       "\n",
       "    .dataframe tbody tr th {\n",
       "        vertical-align: top;\n",
       "    }\n",
       "\n",
       "    .dataframe thead th {\n",
       "        text-align: right;\n",
       "    }\n",
       "</style>\n",
       "<table border=\"1\" class=\"dataframe\">\n",
       "  <thead>\n",
       "    <tr style=\"text-align: right;\">\n",
       "      <th></th>\n",
       "      <th>0</th>\n",
       "    </tr>\n",
       "  </thead>\n",
       "  <tbody>\n",
       "    <tr>\n",
       "      <th>Returns</th>\n",
       "      <td>0.274298</td>\n",
       "    </tr>\n",
       "    <tr>\n",
       "      <th>Standard Deviation</th>\n",
       "      <td>0.183314</td>\n",
       "    </tr>\n",
       "    <tr>\n",
       "      <th>Sharpe Ratio</th>\n",
       "      <td>1.301039</td>\n",
       "    </tr>\n",
       "    <tr>\n",
       "      <th>ASIANPAINT Weight</th>\n",
       "      <td>0.045455</td>\n",
       "    </tr>\n",
       "    <tr>\n",
       "      <th>BAJFINANCE Weight</th>\n",
       "      <td>0.045455</td>\n",
       "    </tr>\n",
       "    <tr>\n",
       "      <th>BAJAJFINSV Weight</th>\n",
       "      <td>0.045455</td>\n",
       "    </tr>\n",
       "    <tr>\n",
       "      <th>BRITANNIA Weight</th>\n",
       "      <td>0.045455</td>\n",
       "    </tr>\n",
       "    <tr>\n",
       "      <th>DIVISLAB Weight</th>\n",
       "      <td>0.045455</td>\n",
       "    </tr>\n",
       "    <tr>\n",
       "      <th>HCLTECH Weight</th>\n",
       "      <td>0.045455</td>\n",
       "    </tr>\n",
       "    <tr>\n",
       "      <th>HDFCBANK Weight</th>\n",
       "      <td>0.045455</td>\n",
       "    </tr>\n",
       "    <tr>\n",
       "      <th>HINDALCO Weight</th>\n",
       "      <td>0.045455</td>\n",
       "    </tr>\n",
       "    <tr>\n",
       "      <th>HINDUNILVR Weight</th>\n",
       "      <td>0.045455</td>\n",
       "    </tr>\n",
       "    <tr>\n",
       "      <th>HDFC Weight</th>\n",
       "      <td>0.045455</td>\n",
       "    </tr>\n",
       "    <tr>\n",
       "      <th>ICICIBANK Weight</th>\n",
       "      <td>0.045455</td>\n",
       "    </tr>\n",
       "    <tr>\n",
       "      <th>INFY Weight</th>\n",
       "      <td>0.045455</td>\n",
       "    </tr>\n",
       "    <tr>\n",
       "      <th>JSWSTEEL Weight</th>\n",
       "      <td>0.045455</td>\n",
       "    </tr>\n",
       "    <tr>\n",
       "      <th>KOTAKBANK Weight</th>\n",
       "      <td>0.045455</td>\n",
       "    </tr>\n",
       "    <tr>\n",
       "      <th>NESTLEIND Weight</th>\n",
       "      <td>0.045455</td>\n",
       "    </tr>\n",
       "    <tr>\n",
       "      <th>RELIANCE Weight</th>\n",
       "      <td>0.045455</td>\n",
       "    </tr>\n",
       "    <tr>\n",
       "      <th>SHREECEM Weight</th>\n",
       "      <td>0.045455</td>\n",
       "    </tr>\n",
       "    <tr>\n",
       "      <th>TCS Weight</th>\n",
       "      <td>0.045455</td>\n",
       "    </tr>\n",
       "    <tr>\n",
       "      <th>TATASTEEL Weight</th>\n",
       "      <td>0.045455</td>\n",
       "    </tr>\n",
       "    <tr>\n",
       "      <th>TECHM Weight</th>\n",
       "      <td>0.045455</td>\n",
       "    </tr>\n",
       "    <tr>\n",
       "      <th>TITAN Weight</th>\n",
       "      <td>0.045455</td>\n",
       "    </tr>\n",
       "    <tr>\n",
       "      <th>WIPRO Weight</th>\n",
       "      <td>0.045455</td>\n",
       "    </tr>\n",
       "  </tbody>\n",
       "</table>\n",
       "</div>"
      ],
      "text/plain": [
       "                           0\n",
       "Returns             0.274298\n",
       "Standard Deviation  0.183314\n",
       "Sharpe Ratio        1.301039\n",
       "ASIANPAINT Weight   0.045455\n",
       "BAJFINANCE Weight   0.045455\n",
       "BAJAJFINSV Weight   0.045455\n",
       "BRITANNIA Weight    0.045455\n",
       "DIVISLAB Weight     0.045455\n",
       "HCLTECH Weight      0.045455\n",
       "HDFCBANK Weight     0.045455\n",
       "HINDALCO Weight     0.045455\n",
       "HINDUNILVR Weight   0.045455\n",
       "HDFC Weight         0.045455\n",
       "ICICIBANK Weight    0.045455\n",
       "INFY Weight         0.045455\n",
       "JSWSTEEL Weight     0.045455\n",
       "KOTAKBANK Weight    0.045455\n",
       "NESTLEIND Weight    0.045455\n",
       "RELIANCE Weight     0.045455\n",
       "SHREECEM Weight     0.045455\n",
       "TCS Weight          0.045455\n",
       "TATASTEEL Weight    0.045455\n",
       "TECHM Weight        0.045455\n",
       "TITAN Weight        0.045455\n",
       "WIPRO Weight        0.045455"
      ]
     },
     "execution_count": 21,
     "metadata": {},
     "output_type": "execute_result"
    }
   ],
   "source": [
    "sharpe_portfolio = {'Returns' : sharpe_portfolio_return, 'Standard Deviation' : sharpe_portfolio_risk,  'Sharpe Ratio' : sharpe_portfolio_shratio}  \n",
    "\n",
    "for counter,symbol in enumerate(df.columns):\n",
    "  sharpe_portfolio[symbol + \" Weight\"] = [Weight[counter] for Weight in sharpe_portfolio_stockWeights]\n",
    "sharpe_pc = pd.DataFrame(sharpe_portfolio)\n",
    "sharpe_optimal=sharpe_pc.iloc[sharpe_pc['Sharpe Ratio'].idxmax()]\n",
    "sharpe_optimal=pd.DataFrame(sharpe_optimal)\n",
    "sharpe_optimal.to_csv(\"sharpe_optimal.csv\")\n",
    "\n",
    "sharpe_optimal"
   ]
  },
  {
   "cell_type": "markdown",
   "metadata": {
    "id": "LFI_c_tuvy_g"
   },
   "source": [
    "# not sort"
   ]
  },
  {
   "cell_type": "code",
   "execution_count": 22,
   "metadata": {
    "id": "ZCvjDzWFRTSE"
   },
   "outputs": [],
   "source": [
    "sharpe_unsort_top=sharpe_pc.iloc[:,0:3].head(10)\n",
    "sharpe_unsort_top.to_csv(\"sharpe_unsort_top.csv\")"
   ]
  },
  {
   "cell_type": "code",
   "execution_count": 23,
   "metadata": {
    "id": "ocbF5D5G_NZj"
   },
   "outputs": [],
   "source": [
    "sharpe_unsort_top_all=sharpe_pc.head(10)\n",
    "sharpe_unsort_top_all.to_csv(\"sharpe_unsort_top_all.csv\")"
   ]
  },
  {
   "cell_type": "code",
   "execution_count": 24,
   "metadata": {
    "id": "IMrBXTLBU50K"
   },
   "outputs": [],
   "source": [
    "sharpe_unsort_bottom=sharpe_pc.iloc[:,0:3].tail(10)\n",
    "sharpe_unsort_bottom.to_csv(\"sharpe_unsort_bottom.csv\")"
   ]
  },
  {
   "cell_type": "code",
   "execution_count": 25,
   "metadata": {
    "id": "Wx7-xNaR_YYL"
   },
   "outputs": [],
   "source": [
    "sharpe_unsort_bottom_all=sharpe_pc.tail(10)\n",
    "sharpe_unsort_bottom_all.to_csv(\"sharpe_unsort_bottom_all.csv\")"
   ]
  },
  {
   "cell_type": "code",
   "execution_count": 26,
   "metadata": {
    "id": "P8s7oOOWU5xa"
   },
   "outputs": [],
   "source": [
    "sharpe_pc.to_csv('sharpe_ACO_portfolio.csv')\n",
    "\n",
    "sharpe_pc_sort=sharpe_pc.copy()\n"
   ]
  },
  {
   "cell_type": "markdown",
   "metadata": {
    "id": "NFRpZQNqv7Lg"
   },
   "source": [
    "# sort"
   ]
  },
  {
   "cell_type": "code",
   "execution_count": 27,
   "metadata": {
    "id": "LFoHn_qptWBR"
   },
   "outputs": [],
   "source": [
    "sharpe_pc_sort.sort_values(by=['Sharpe Ratio'],ascending=False,inplace=True)\n",
    "sharpe_pc_sort.to_csv(\"sharpe_porfolio_sort.csv\")"
   ]
  },
  {
   "cell_type": "code",
   "execution_count": 28,
   "metadata": {
    "colab": {
     "base_uri": "https://localhost:8080/",
     "height": 390
    },
    "id": "YTaRZNxauQoC",
    "outputId": "4ffff4a9-bdc3-4b7b-e8c4-cc4502e3a241"
   },
   "outputs": [
    {
     "data": {
      "text/html": [
       "<div>\n",
       "<style scoped>\n",
       "    .dataframe tbody tr th:only-of-type {\n",
       "        vertical-align: middle;\n",
       "    }\n",
       "\n",
       "    .dataframe tbody tr th {\n",
       "        vertical-align: top;\n",
       "    }\n",
       "\n",
       "    .dataframe thead th {\n",
       "        text-align: right;\n",
       "    }\n",
       "</style>\n",
       "<table border=\"1\" class=\"dataframe\">\n",
       "  <thead>\n",
       "    <tr style=\"text-align: right;\">\n",
       "      <th></th>\n",
       "      <th>Returns</th>\n",
       "      <th>Standard Deviation</th>\n",
       "      <th>Sharpe Ratio</th>\n",
       "    </tr>\n",
       "  </thead>\n",
       "  <tbody>\n",
       "    <tr>\n",
       "      <th>29</th>\n",
       "      <td>0.274298</td>\n",
       "      <td>0.183314</td>\n",
       "      <td>1.301039</td>\n",
       "    </tr>\n",
       "    <tr>\n",
       "      <th>1</th>\n",
       "      <td>0.274298</td>\n",
       "      <td>0.183314</td>\n",
       "      <td>1.301039</td>\n",
       "    </tr>\n",
       "    <tr>\n",
       "      <th>22</th>\n",
       "      <td>0.274298</td>\n",
       "      <td>0.183314</td>\n",
       "      <td>1.301039</td>\n",
       "    </tr>\n",
       "    <tr>\n",
       "      <th>23</th>\n",
       "      <td>0.274298</td>\n",
       "      <td>0.183314</td>\n",
       "      <td>1.301039</td>\n",
       "    </tr>\n",
       "    <tr>\n",
       "      <th>24</th>\n",
       "      <td>0.274298</td>\n",
       "      <td>0.183314</td>\n",
       "      <td>1.301039</td>\n",
       "    </tr>\n",
       "    <tr>\n",
       "      <th>26</th>\n",
       "      <td>0.274298</td>\n",
       "      <td>0.183314</td>\n",
       "      <td>1.301039</td>\n",
       "    </tr>\n",
       "    <tr>\n",
       "      <th>28</th>\n",
       "      <td>0.274298</td>\n",
       "      <td>0.183314</td>\n",
       "      <td>1.301039</td>\n",
       "    </tr>\n",
       "    <tr>\n",
       "      <th>30</th>\n",
       "      <td>0.274298</td>\n",
       "      <td>0.183314</td>\n",
       "      <td>1.301039</td>\n",
       "    </tr>\n",
       "    <tr>\n",
       "      <th>18</th>\n",
       "      <td>0.274298</td>\n",
       "      <td>0.183314</td>\n",
       "      <td>1.301039</td>\n",
       "    </tr>\n",
       "    <tr>\n",
       "      <th>31</th>\n",
       "      <td>0.274298</td>\n",
       "      <td>0.183314</td>\n",
       "      <td>1.301039</td>\n",
       "    </tr>\n",
       "    <tr>\n",
       "      <th>33</th>\n",
       "      <td>0.274298</td>\n",
       "      <td>0.183314</td>\n",
       "      <td>1.301039</td>\n",
       "    </tr>\n",
       "  </tbody>\n",
       "</table>\n",
       "</div>"
      ],
      "text/plain": [
       "     Returns  Standard Deviation  Sharpe Ratio\n",
       "29  0.274298            0.183314      1.301039\n",
       "1   0.274298            0.183314      1.301039\n",
       "22  0.274298            0.183314      1.301039\n",
       "23  0.274298            0.183314      1.301039\n",
       "24  0.274298            0.183314      1.301039\n",
       "26  0.274298            0.183314      1.301039\n",
       "28  0.274298            0.183314      1.301039\n",
       "30  0.274298            0.183314      1.301039\n",
       "18  0.274298            0.183314      1.301039\n",
       "31  0.274298            0.183314      1.301039\n",
       "33  0.274298            0.183314      1.301039"
      ]
     },
     "execution_count": 28,
     "metadata": {},
     "output_type": "execute_result"
    }
   ],
   "source": [
    "sharpe_sort_top=sharpe_pc_sort.iloc[1:,0:3].head(11)\n",
    "sharpe_sort_top.to_csv(\"sharpe_sort_top.csv\")\n",
    "sharpe_sort_top"
   ]
  },
  {
   "cell_type": "code",
   "execution_count": 29,
   "metadata": {
    "colab": {
     "base_uri": "https://localhost:8080/",
     "height": 427
    },
    "id": "15uAxKORuQgK",
    "outputId": "abbd547c-78ae-4c40-d748-650709e9a3d6"
   },
   "outputs": [
    {
     "data": {
      "text/html": [
       "<div>\n",
       "<style scoped>\n",
       "    .dataframe tbody tr th:only-of-type {\n",
       "        vertical-align: middle;\n",
       "    }\n",
       "\n",
       "    .dataframe tbody tr th {\n",
       "        vertical-align: top;\n",
       "    }\n",
       "\n",
       "    .dataframe thead th {\n",
       "        text-align: right;\n",
       "    }\n",
       "</style>\n",
       "<table border=\"1\" class=\"dataframe\">\n",
       "  <thead>\n",
       "    <tr style=\"text-align: right;\">\n",
       "      <th></th>\n",
       "      <th>Returns</th>\n",
       "      <th>Standard Deviation</th>\n",
       "      <th>Sharpe Ratio</th>\n",
       "      <th>ASIANPAINT Weight</th>\n",
       "      <th>BAJFINANCE Weight</th>\n",
       "      <th>BAJAJFINSV Weight</th>\n",
       "      <th>BRITANNIA Weight</th>\n",
       "      <th>DIVISLAB Weight</th>\n",
       "      <th>HCLTECH Weight</th>\n",
       "      <th>HDFCBANK Weight</th>\n",
       "      <th>...</th>\n",
       "      <th>JSWSTEEL Weight</th>\n",
       "      <th>KOTAKBANK Weight</th>\n",
       "      <th>NESTLEIND Weight</th>\n",
       "      <th>RELIANCE Weight</th>\n",
       "      <th>SHREECEM Weight</th>\n",
       "      <th>TCS Weight</th>\n",
       "      <th>TATASTEEL Weight</th>\n",
       "      <th>TECHM Weight</th>\n",
       "      <th>TITAN Weight</th>\n",
       "      <th>WIPRO Weight</th>\n",
       "    </tr>\n",
       "  </thead>\n",
       "  <tbody>\n",
       "    <tr>\n",
       "      <th>29</th>\n",
       "      <td>0.274298</td>\n",
       "      <td>0.183314</td>\n",
       "      <td>1.301039</td>\n",
       "      <td>0.045455</td>\n",
       "      <td>0.045455</td>\n",
       "      <td>0.045455</td>\n",
       "      <td>0.045455</td>\n",
       "      <td>0.045455</td>\n",
       "      <td>0.045455</td>\n",
       "      <td>0.045455</td>\n",
       "      <td>...</td>\n",
       "      <td>0.045455</td>\n",
       "      <td>0.045455</td>\n",
       "      <td>0.045455</td>\n",
       "      <td>0.045455</td>\n",
       "      <td>0.045455</td>\n",
       "      <td>0.045455</td>\n",
       "      <td>0.045455</td>\n",
       "      <td>0.045455</td>\n",
       "      <td>0.045455</td>\n",
       "      <td>0.045455</td>\n",
       "    </tr>\n",
       "    <tr>\n",
       "      <th>1</th>\n",
       "      <td>0.274298</td>\n",
       "      <td>0.183314</td>\n",
       "      <td>1.301039</td>\n",
       "      <td>0.045455</td>\n",
       "      <td>0.045455</td>\n",
       "      <td>0.045455</td>\n",
       "      <td>0.045455</td>\n",
       "      <td>0.045455</td>\n",
       "      <td>0.045455</td>\n",
       "      <td>0.045455</td>\n",
       "      <td>...</td>\n",
       "      <td>0.045455</td>\n",
       "      <td>0.045455</td>\n",
       "      <td>0.045455</td>\n",
       "      <td>0.045455</td>\n",
       "      <td>0.045455</td>\n",
       "      <td>0.045455</td>\n",
       "      <td>0.045455</td>\n",
       "      <td>0.045455</td>\n",
       "      <td>0.045455</td>\n",
       "      <td>0.045455</td>\n",
       "    </tr>\n",
       "    <tr>\n",
       "      <th>22</th>\n",
       "      <td>0.274298</td>\n",
       "      <td>0.183314</td>\n",
       "      <td>1.301039</td>\n",
       "      <td>0.045455</td>\n",
       "      <td>0.045455</td>\n",
       "      <td>0.045455</td>\n",
       "      <td>0.045455</td>\n",
       "      <td>0.045455</td>\n",
       "      <td>0.045455</td>\n",
       "      <td>0.045455</td>\n",
       "      <td>...</td>\n",
       "      <td>0.045455</td>\n",
       "      <td>0.045455</td>\n",
       "      <td>0.045455</td>\n",
       "      <td>0.045455</td>\n",
       "      <td>0.045455</td>\n",
       "      <td>0.045455</td>\n",
       "      <td>0.045455</td>\n",
       "      <td>0.045455</td>\n",
       "      <td>0.045455</td>\n",
       "      <td>0.045455</td>\n",
       "    </tr>\n",
       "    <tr>\n",
       "      <th>23</th>\n",
       "      <td>0.274298</td>\n",
       "      <td>0.183314</td>\n",
       "      <td>1.301039</td>\n",
       "      <td>0.045455</td>\n",
       "      <td>0.045455</td>\n",
       "      <td>0.045455</td>\n",
       "      <td>0.045455</td>\n",
       "      <td>0.045455</td>\n",
       "      <td>0.045455</td>\n",
       "      <td>0.045455</td>\n",
       "      <td>...</td>\n",
       "      <td>0.045455</td>\n",
       "      <td>0.045455</td>\n",
       "      <td>0.045455</td>\n",
       "      <td>0.045455</td>\n",
       "      <td>0.045455</td>\n",
       "      <td>0.045455</td>\n",
       "      <td>0.045455</td>\n",
       "      <td>0.045455</td>\n",
       "      <td>0.045455</td>\n",
       "      <td>0.045455</td>\n",
       "    </tr>\n",
       "    <tr>\n",
       "      <th>24</th>\n",
       "      <td>0.274298</td>\n",
       "      <td>0.183314</td>\n",
       "      <td>1.301039</td>\n",
       "      <td>0.045455</td>\n",
       "      <td>0.045455</td>\n",
       "      <td>0.045455</td>\n",
       "      <td>0.045455</td>\n",
       "      <td>0.045455</td>\n",
       "      <td>0.045455</td>\n",
       "      <td>0.045455</td>\n",
       "      <td>...</td>\n",
       "      <td>0.045455</td>\n",
       "      <td>0.045455</td>\n",
       "      <td>0.045455</td>\n",
       "      <td>0.045455</td>\n",
       "      <td>0.045455</td>\n",
       "      <td>0.045455</td>\n",
       "      <td>0.045455</td>\n",
       "      <td>0.045455</td>\n",
       "      <td>0.045455</td>\n",
       "      <td>0.045455</td>\n",
       "    </tr>\n",
       "    <tr>\n",
       "      <th>26</th>\n",
       "      <td>0.274298</td>\n",
       "      <td>0.183314</td>\n",
       "      <td>1.301039</td>\n",
       "      <td>0.045455</td>\n",
       "      <td>0.045455</td>\n",
       "      <td>0.045455</td>\n",
       "      <td>0.045455</td>\n",
       "      <td>0.045455</td>\n",
       "      <td>0.045455</td>\n",
       "      <td>0.045455</td>\n",
       "      <td>...</td>\n",
       "      <td>0.045455</td>\n",
       "      <td>0.045455</td>\n",
       "      <td>0.045455</td>\n",
       "      <td>0.045455</td>\n",
       "      <td>0.045455</td>\n",
       "      <td>0.045455</td>\n",
       "      <td>0.045455</td>\n",
       "      <td>0.045455</td>\n",
       "      <td>0.045455</td>\n",
       "      <td>0.045455</td>\n",
       "    </tr>\n",
       "    <tr>\n",
       "      <th>28</th>\n",
       "      <td>0.274298</td>\n",
       "      <td>0.183314</td>\n",
       "      <td>1.301039</td>\n",
       "      <td>0.045455</td>\n",
       "      <td>0.045455</td>\n",
       "      <td>0.045455</td>\n",
       "      <td>0.045455</td>\n",
       "      <td>0.045455</td>\n",
       "      <td>0.045455</td>\n",
       "      <td>0.045455</td>\n",
       "      <td>...</td>\n",
       "      <td>0.045455</td>\n",
       "      <td>0.045455</td>\n",
       "      <td>0.045455</td>\n",
       "      <td>0.045455</td>\n",
       "      <td>0.045455</td>\n",
       "      <td>0.045455</td>\n",
       "      <td>0.045455</td>\n",
       "      <td>0.045455</td>\n",
       "      <td>0.045455</td>\n",
       "      <td>0.045455</td>\n",
       "    </tr>\n",
       "    <tr>\n",
       "      <th>30</th>\n",
       "      <td>0.274298</td>\n",
       "      <td>0.183314</td>\n",
       "      <td>1.301039</td>\n",
       "      <td>0.045455</td>\n",
       "      <td>0.045455</td>\n",
       "      <td>0.045455</td>\n",
       "      <td>0.045455</td>\n",
       "      <td>0.045455</td>\n",
       "      <td>0.045455</td>\n",
       "      <td>0.045455</td>\n",
       "      <td>...</td>\n",
       "      <td>0.045455</td>\n",
       "      <td>0.045455</td>\n",
       "      <td>0.045455</td>\n",
       "      <td>0.045455</td>\n",
       "      <td>0.045455</td>\n",
       "      <td>0.045455</td>\n",
       "      <td>0.045455</td>\n",
       "      <td>0.045455</td>\n",
       "      <td>0.045455</td>\n",
       "      <td>0.045455</td>\n",
       "    </tr>\n",
       "    <tr>\n",
       "      <th>18</th>\n",
       "      <td>0.274298</td>\n",
       "      <td>0.183314</td>\n",
       "      <td>1.301039</td>\n",
       "      <td>0.045455</td>\n",
       "      <td>0.045455</td>\n",
       "      <td>0.045455</td>\n",
       "      <td>0.045455</td>\n",
       "      <td>0.045455</td>\n",
       "      <td>0.045455</td>\n",
       "      <td>0.045455</td>\n",
       "      <td>...</td>\n",
       "      <td>0.045455</td>\n",
       "      <td>0.045455</td>\n",
       "      <td>0.045455</td>\n",
       "      <td>0.045455</td>\n",
       "      <td>0.045455</td>\n",
       "      <td>0.045455</td>\n",
       "      <td>0.045455</td>\n",
       "      <td>0.045455</td>\n",
       "      <td>0.045455</td>\n",
       "      <td>0.045455</td>\n",
       "    </tr>\n",
       "    <tr>\n",
       "      <th>31</th>\n",
       "      <td>0.274298</td>\n",
       "      <td>0.183314</td>\n",
       "      <td>1.301039</td>\n",
       "      <td>0.045455</td>\n",
       "      <td>0.045455</td>\n",
       "      <td>0.045455</td>\n",
       "      <td>0.045455</td>\n",
       "      <td>0.045455</td>\n",
       "      <td>0.045455</td>\n",
       "      <td>0.045455</td>\n",
       "      <td>...</td>\n",
       "      <td>0.045455</td>\n",
       "      <td>0.045455</td>\n",
       "      <td>0.045455</td>\n",
       "      <td>0.045455</td>\n",
       "      <td>0.045455</td>\n",
       "      <td>0.045455</td>\n",
       "      <td>0.045455</td>\n",
       "      <td>0.045455</td>\n",
       "      <td>0.045455</td>\n",
       "      <td>0.045455</td>\n",
       "    </tr>\n",
       "    <tr>\n",
       "      <th>33</th>\n",
       "      <td>0.274298</td>\n",
       "      <td>0.183314</td>\n",
       "      <td>1.301039</td>\n",
       "      <td>0.045455</td>\n",
       "      <td>0.045455</td>\n",
       "      <td>0.045455</td>\n",
       "      <td>0.045455</td>\n",
       "      <td>0.045455</td>\n",
       "      <td>0.045455</td>\n",
       "      <td>0.045455</td>\n",
       "      <td>...</td>\n",
       "      <td>0.045455</td>\n",
       "      <td>0.045455</td>\n",
       "      <td>0.045455</td>\n",
       "      <td>0.045455</td>\n",
       "      <td>0.045455</td>\n",
       "      <td>0.045455</td>\n",
       "      <td>0.045455</td>\n",
       "      <td>0.045455</td>\n",
       "      <td>0.045455</td>\n",
       "      <td>0.045455</td>\n",
       "    </tr>\n",
       "  </tbody>\n",
       "</table>\n",
       "<p>11 rows × 25 columns</p>\n",
       "</div>"
      ],
      "text/plain": [
       "     Returns  Standard Deviation  Sharpe Ratio  ASIANPAINT Weight  \\\n",
       "29  0.274298            0.183314      1.301039           0.045455   \n",
       "1   0.274298            0.183314      1.301039           0.045455   \n",
       "22  0.274298            0.183314      1.301039           0.045455   \n",
       "23  0.274298            0.183314      1.301039           0.045455   \n",
       "24  0.274298            0.183314      1.301039           0.045455   \n",
       "26  0.274298            0.183314      1.301039           0.045455   \n",
       "28  0.274298            0.183314      1.301039           0.045455   \n",
       "30  0.274298            0.183314      1.301039           0.045455   \n",
       "18  0.274298            0.183314      1.301039           0.045455   \n",
       "31  0.274298            0.183314      1.301039           0.045455   \n",
       "33  0.274298            0.183314      1.301039           0.045455   \n",
       "\n",
       "    BAJFINANCE Weight  BAJAJFINSV Weight  BRITANNIA Weight  DIVISLAB Weight  \\\n",
       "29           0.045455           0.045455          0.045455         0.045455   \n",
       "1            0.045455           0.045455          0.045455         0.045455   \n",
       "22           0.045455           0.045455          0.045455         0.045455   \n",
       "23           0.045455           0.045455          0.045455         0.045455   \n",
       "24           0.045455           0.045455          0.045455         0.045455   \n",
       "26           0.045455           0.045455          0.045455         0.045455   \n",
       "28           0.045455           0.045455          0.045455         0.045455   \n",
       "30           0.045455           0.045455          0.045455         0.045455   \n",
       "18           0.045455           0.045455          0.045455         0.045455   \n",
       "31           0.045455           0.045455          0.045455         0.045455   \n",
       "33           0.045455           0.045455          0.045455         0.045455   \n",
       "\n",
       "    HCLTECH Weight  HDFCBANK Weight  ...  JSWSTEEL Weight  KOTAKBANK Weight  \\\n",
       "29        0.045455         0.045455  ...         0.045455          0.045455   \n",
       "1         0.045455         0.045455  ...         0.045455          0.045455   \n",
       "22        0.045455         0.045455  ...         0.045455          0.045455   \n",
       "23        0.045455         0.045455  ...         0.045455          0.045455   \n",
       "24        0.045455         0.045455  ...         0.045455          0.045455   \n",
       "26        0.045455         0.045455  ...         0.045455          0.045455   \n",
       "28        0.045455         0.045455  ...         0.045455          0.045455   \n",
       "30        0.045455         0.045455  ...         0.045455          0.045455   \n",
       "18        0.045455         0.045455  ...         0.045455          0.045455   \n",
       "31        0.045455         0.045455  ...         0.045455          0.045455   \n",
       "33        0.045455         0.045455  ...         0.045455          0.045455   \n",
       "\n",
       "    NESTLEIND Weight  RELIANCE Weight  SHREECEM Weight  TCS Weight  \\\n",
       "29          0.045455         0.045455         0.045455    0.045455   \n",
       "1           0.045455         0.045455         0.045455    0.045455   \n",
       "22          0.045455         0.045455         0.045455    0.045455   \n",
       "23          0.045455         0.045455         0.045455    0.045455   \n",
       "24          0.045455         0.045455         0.045455    0.045455   \n",
       "26          0.045455         0.045455         0.045455    0.045455   \n",
       "28          0.045455         0.045455         0.045455    0.045455   \n",
       "30          0.045455         0.045455         0.045455    0.045455   \n",
       "18          0.045455         0.045455         0.045455    0.045455   \n",
       "31          0.045455         0.045455         0.045455    0.045455   \n",
       "33          0.045455         0.045455         0.045455    0.045455   \n",
       "\n",
       "    TATASTEEL Weight  TECHM Weight  TITAN Weight  WIPRO Weight  \n",
       "29          0.045455      0.045455      0.045455      0.045455  \n",
       "1           0.045455      0.045455      0.045455      0.045455  \n",
       "22          0.045455      0.045455      0.045455      0.045455  \n",
       "23          0.045455      0.045455      0.045455      0.045455  \n",
       "24          0.045455      0.045455      0.045455      0.045455  \n",
       "26          0.045455      0.045455      0.045455      0.045455  \n",
       "28          0.045455      0.045455      0.045455      0.045455  \n",
       "30          0.045455      0.045455      0.045455      0.045455  \n",
       "18          0.045455      0.045455      0.045455      0.045455  \n",
       "31          0.045455      0.045455      0.045455      0.045455  \n",
       "33          0.045455      0.045455      0.045455      0.045455  \n",
       "\n",
       "[11 rows x 25 columns]"
      ]
     },
     "execution_count": 29,
     "metadata": {},
     "output_type": "execute_result"
    }
   ],
   "source": [
    "sharpe_sort_top_all=sharpe_pc_sort.iloc[1:,0:].head(11)\n",
    "sharpe_sort_top_all.to_csv(\"sharpe_sort_top_all.csv\")\n",
    "sharpe_sort_top_all"
   ]
  },
  {
   "cell_type": "code",
   "execution_count": 30,
   "metadata": {
    "colab": {
     "base_uri": "https://localhost:8080/",
     "height": 359
    },
    "id": "Oz-ijO2XuQXi",
    "outputId": "3ff469ca-3dce-4dc2-c4bf-b6017f905de6"
   },
   "outputs": [
    {
     "data": {
      "text/html": [
       "<div>\n",
       "<style scoped>\n",
       "    .dataframe tbody tr th:only-of-type {\n",
       "        vertical-align: middle;\n",
       "    }\n",
       "\n",
       "    .dataframe tbody tr th {\n",
       "        vertical-align: top;\n",
       "    }\n",
       "\n",
       "    .dataframe thead th {\n",
       "        text-align: right;\n",
       "    }\n",
       "</style>\n",
       "<table border=\"1\" class=\"dataframe\">\n",
       "  <thead>\n",
       "    <tr style=\"text-align: right;\">\n",
       "      <th></th>\n",
       "      <th>Returns</th>\n",
       "      <th>Standard Deviation</th>\n",
       "      <th>Sharpe Ratio</th>\n",
       "    </tr>\n",
       "  </thead>\n",
       "  <tbody>\n",
       "    <tr>\n",
       "      <th>9</th>\n",
       "      <td>0.274298</td>\n",
       "      <td>0.183314</td>\n",
       "      <td>1.301039</td>\n",
       "    </tr>\n",
       "    <tr>\n",
       "      <th>27</th>\n",
       "      <td>0.274298</td>\n",
       "      <td>0.183314</td>\n",
       "      <td>1.301039</td>\n",
       "    </tr>\n",
       "    <tr>\n",
       "      <th>11</th>\n",
       "      <td>0.274298</td>\n",
       "      <td>0.183314</td>\n",
       "      <td>1.301039</td>\n",
       "    </tr>\n",
       "    <tr>\n",
       "      <th>25</th>\n",
       "      <td>0.274298</td>\n",
       "      <td>0.183314</td>\n",
       "      <td>1.301039</td>\n",
       "    </tr>\n",
       "    <tr>\n",
       "      <th>12</th>\n",
       "      <td>0.274298</td>\n",
       "      <td>0.183314</td>\n",
       "      <td>1.301039</td>\n",
       "    </tr>\n",
       "    <tr>\n",
       "      <th>13</th>\n",
       "      <td>0.274298</td>\n",
       "      <td>0.183314</td>\n",
       "      <td>1.301039</td>\n",
       "    </tr>\n",
       "    <tr>\n",
       "      <th>14</th>\n",
       "      <td>0.274298</td>\n",
       "      <td>0.183314</td>\n",
       "      <td>1.301039</td>\n",
       "    </tr>\n",
       "    <tr>\n",
       "      <th>15</th>\n",
       "      <td>0.274298</td>\n",
       "      <td>0.183314</td>\n",
       "      <td>1.301039</td>\n",
       "    </tr>\n",
       "    <tr>\n",
       "      <th>16</th>\n",
       "      <td>0.274298</td>\n",
       "      <td>0.183314</td>\n",
       "      <td>1.301039</td>\n",
       "    </tr>\n",
       "    <tr>\n",
       "      <th>21</th>\n",
       "      <td>0.274298</td>\n",
       "      <td>0.183314</td>\n",
       "      <td>1.301039</td>\n",
       "    </tr>\n",
       "  </tbody>\n",
       "</table>\n",
       "</div>"
      ],
      "text/plain": [
       "     Returns  Standard Deviation  Sharpe Ratio\n",
       "9   0.274298            0.183314      1.301039\n",
       "27  0.274298            0.183314      1.301039\n",
       "11  0.274298            0.183314      1.301039\n",
       "25  0.274298            0.183314      1.301039\n",
       "12  0.274298            0.183314      1.301039\n",
       "13  0.274298            0.183314      1.301039\n",
       "14  0.274298            0.183314      1.301039\n",
       "15  0.274298            0.183314      1.301039\n",
       "16  0.274298            0.183314      1.301039\n",
       "21  0.274298            0.183314      1.301039"
      ]
     },
     "execution_count": 30,
     "metadata": {},
     "output_type": "execute_result"
    }
   ],
   "source": [
    "sharpe_sort_bottom=sharpe_pc_sort.iloc[:,0:3].tail(10)\n",
    "sharpe_sort_bottom.to_csv(\"sharpe_sort_bottom.csv\")\n",
    "sharpe_sort_bottom"
   ]
  },
  {
   "cell_type": "code",
   "execution_count": 31,
   "metadata": {
    "colab": {
     "base_uri": "https://localhost:8080/",
     "height": 359
    },
    "id": "Br2oiE3-wqBQ",
    "outputId": "fba3d56c-a8e2-4fde-8c63-d6a569528a73"
   },
   "outputs": [
    {
     "data": {
      "text/html": [
       "<div>\n",
       "<style scoped>\n",
       "    .dataframe tbody tr th:only-of-type {\n",
       "        vertical-align: middle;\n",
       "    }\n",
       "\n",
       "    .dataframe tbody tr th {\n",
       "        vertical-align: top;\n",
       "    }\n",
       "\n",
       "    .dataframe thead th {\n",
       "        text-align: right;\n",
       "    }\n",
       "</style>\n",
       "<table border=\"1\" class=\"dataframe\">\n",
       "  <thead>\n",
       "    <tr style=\"text-align: right;\">\n",
       "      <th></th>\n",
       "      <th>Returns</th>\n",
       "      <th>Standard Deviation</th>\n",
       "      <th>Sharpe Ratio</th>\n",
       "    </tr>\n",
       "  </thead>\n",
       "  <tbody>\n",
       "    <tr>\n",
       "      <th>9</th>\n",
       "      <td>0.274298</td>\n",
       "      <td>0.183314</td>\n",
       "      <td>1.301039</td>\n",
       "    </tr>\n",
       "    <tr>\n",
       "      <th>27</th>\n",
       "      <td>0.274298</td>\n",
       "      <td>0.183314</td>\n",
       "      <td>1.301039</td>\n",
       "    </tr>\n",
       "    <tr>\n",
       "      <th>11</th>\n",
       "      <td>0.274298</td>\n",
       "      <td>0.183314</td>\n",
       "      <td>1.301039</td>\n",
       "    </tr>\n",
       "    <tr>\n",
       "      <th>25</th>\n",
       "      <td>0.274298</td>\n",
       "      <td>0.183314</td>\n",
       "      <td>1.301039</td>\n",
       "    </tr>\n",
       "    <tr>\n",
       "      <th>12</th>\n",
       "      <td>0.274298</td>\n",
       "      <td>0.183314</td>\n",
       "      <td>1.301039</td>\n",
       "    </tr>\n",
       "    <tr>\n",
       "      <th>13</th>\n",
       "      <td>0.274298</td>\n",
       "      <td>0.183314</td>\n",
       "      <td>1.301039</td>\n",
       "    </tr>\n",
       "    <tr>\n",
       "      <th>14</th>\n",
       "      <td>0.274298</td>\n",
       "      <td>0.183314</td>\n",
       "      <td>1.301039</td>\n",
       "    </tr>\n",
       "    <tr>\n",
       "      <th>15</th>\n",
       "      <td>0.274298</td>\n",
       "      <td>0.183314</td>\n",
       "      <td>1.301039</td>\n",
       "    </tr>\n",
       "    <tr>\n",
       "      <th>16</th>\n",
       "      <td>0.274298</td>\n",
       "      <td>0.183314</td>\n",
       "      <td>1.301039</td>\n",
       "    </tr>\n",
       "    <tr>\n",
       "      <th>21</th>\n",
       "      <td>0.274298</td>\n",
       "      <td>0.183314</td>\n",
       "      <td>1.301039</td>\n",
       "    </tr>\n",
       "  </tbody>\n",
       "</table>\n",
       "</div>"
      ],
      "text/plain": [
       "     Returns  Standard Deviation  Sharpe Ratio\n",
       "9   0.274298            0.183314      1.301039\n",
       "27  0.274298            0.183314      1.301039\n",
       "11  0.274298            0.183314      1.301039\n",
       "25  0.274298            0.183314      1.301039\n",
       "12  0.274298            0.183314      1.301039\n",
       "13  0.274298            0.183314      1.301039\n",
       "14  0.274298            0.183314      1.301039\n",
       "15  0.274298            0.183314      1.301039\n",
       "16  0.274298            0.183314      1.301039\n",
       "21  0.274298            0.183314      1.301039"
      ]
     },
     "execution_count": 31,
     "metadata": {},
     "output_type": "execute_result"
    }
   ],
   "source": [
    "sharpe_sort_bottom_all=sharpe_pc_sort.iloc[:,0:3].tail(10)\n",
    "sharpe_sort_bottom_all.to_csv(\"sharpe_sort_bottom_all.csv\")\n",
    "sharpe_sort_bottom_all"
   ]
  },
  {
   "cell_type": "markdown",
   "metadata": {
    "id": "m0ugVp-dw1EI"
   },
   "source": [
    "# Sortino"
   ]
  },
  {
   "cell_type": "code",
   "execution_count": 32,
   "metadata": {
    "id": "JGKJM8olw3ZQ"
   },
   "outputs": [],
   "source": [
    "def antcolony_tuning_sortino(ITERATIONS,Q,EVA_RATE,ANTS):\n",
    "    sortino_pbest=-1\n",
    "    #Initializing sortino_pbest(the best fitness value   SHARPE)\n",
    "    #Initializing the current fitness value\n",
    "    fitness=0\n",
    "    #for each iteration\n",
    "    for iteration in range(ITERATIONS):\n",
    "        \n",
    "        #PREPARAING THE PHEROMONE MATRIX WHERE THE COLS=STOCKS AND  ROWS=ANTS\n",
    "        pheromon=[[0]*stocks for i in range(ANTS+1)]#why (ants+1)?The last ant can update the pheromone values in the last row\n",
    "        \n",
    "        # Initializing the pheromone status \n",
    "        for i in range(len(pheromon[0])):\n",
    "            pheromon[0][i]=random.randint(1,15)   #When input stocks varies, this needs to vary accordingly.(Divide number of stocks / 2)\n",
    "        \n",
    "        #copying the values and storing it in temp_pher\n",
    "        temp_pher=pheromon[0]\n",
    "        \n",
    "        #Making sure that the total amount of pheromone equals 1 \n",
    "        weights=np.array(BALANCE(temp_pher))\n",
    "        \n",
    "        #calculating annulaised portfolio return\n",
    "        returns_temp = np.sum(returnsh.mean()*weights)*trading_days \n",
    "        \n",
    "        #calculating portfolio varience wrt calculating sharpe ratio\n",
    "        varso=np.dot(weights.T,np.dot(covmatso,weights))   \n",
    "        \n",
    "        #portfolio risk\n",
    "        volatility_temp = np.sqrt(varso)      \n",
    "        \n",
    "        #Calculating fitness value(ie sortino ratio)\n",
    "        fitness = ratio(returns_temp,volatility_temp,risk_free_rate)\n",
    "        \n",
    "        #Initializing the intial fitness value as the best fitness value(sortino_pbest)\n",
    "        if sortino_pbest==-1:\n",
    "            sortino_pbest=fitness\n",
    "        \n",
    "        #list\n",
    "        path=[]\n",
    "      \n",
    "        #for each ant\n",
    "        for ant in range(ANTS-1):\n",
    "            \n",
    "            #find the total pheromone \n",
    "            total=sum(pheromon[ant])\n",
    "            \n",
    "            #Initializing probability\n",
    "            probability=pheromon[ant][:] \n",
    "            \n",
    "            #finding probability of each stocks pheromone \n",
    "            for p in range(len(probability)):\n",
    "                probability[p]=(probability[p]/total)\n",
    "                \n",
    "            #Trying to select stocks in decreasing order based on their pheromone level and storing the stock order in a list(path)\n",
    "            for stock in range(stocks):\n",
    "                select=probability.index(max(probability))\n",
    "                probability[select]=-math.inf\n",
    "                path.append(select)\n",
    "            \n",
    "            #Updating the pheromone level of each stock for the next ant \n",
    "            #Formula: old pheromone level * (1-eva_rate) + Q * (fitness/pbest) where Q is fixed amount of pheromone\n",
    "            for s in path:\n",
    "                pheromon[ant+1][s]=pheromon[ant][s]*(1-EVA_RATE)+Q*(fitness/sortino_pbest)\n",
    "            \n",
    "            \n",
    "            #making sure that the updated pheromon adds upto 1\n",
    "            temp_pher=pheromon[ant+1]\n",
    "            weights=np.array(BALANCE(temp_pher))\n",
    "            returns_temp = np.sum(returnsh.mean()*weights)*trading_days   #calculating annulaised portfolio return\n",
    "            varso=np.dot(weights.T,np.dot(covmatso,weights))              #calculating portfolio varience wrt calculating sharpe ratio\n",
    "            volatility_temp = np.sqrt(varso)                              #portfolio risk\n",
    "            fitness = ratio(returns_temp,volatility_temp,risk_free_rate)  #calculating sharpe ratio\n",
    "            \n",
    "            #comparing the old fitness value with the updated fitness value\n",
    "            # explore on scape condition paper ref\n",
    "            if(fitness>sortino_pbest):\n",
    "                \n",
    "                #if the updated fitness value is better than the previous, change sortino_pbest to present fitness value\n",
    "                sortino_pbest=fitness\n",
    "                \n",
    "                #remembering the weights of the best portfolio\n",
    "                global_warr_sortino=weights.tolist()\n",
    "        #sortino_portfolio_return.append(returns_temp)\n",
    "        #sortino_portfolio_risk.append(volatility_temp)\n",
    "        #sortino_portfolio_soratio.append(fitness)\n",
    "        #sortino_portfolio_stockWeights.append(weights)\n",
    "    return sortino_pbest\n"
   ]
  },
  {
   "cell_type": "code",
   "execution_count": 33,
   "metadata": {
    "id": "aWAFN4jOw3Wn"
   },
   "outputs": [],
   "source": [
    "def objective(trial):\n",
    "    ITERATIONS=trial.suggest_int('ITERATIONS',2,500)#range is temp,earlier (1,1000)\n",
    "    Q=trial.suggest_float('Q',0.0,1.0)\n",
    "    EVA_RATE=trial.suggest_float('EVA_RATE',0.00,1.00)\n",
    "    ANTS=trial.suggest_int('ANTS',2,500)#range is temp,earlier (1,1000)\n",
    "    return antcolony_tuning_sortino(int(ITERATIONS),Q,EVA_RATE,int(ANTS))\n"
   ]
  },
  {
   "cell_type": "code",
   "execution_count": null,
   "metadata": {
    "colab": {
     "base_uri": "https://localhost:8080/"
    },
    "id": "q114MVf8w3UQ",
    "outputId": "da83de4b-ebc4-4071-ba0e-c6f2a79c7a86"
   },
   "outputs": [
    {
     "name": "stderr",
     "output_type": "stream",
     "text": [
      "\u001b[32m[I 2021-11-10 22:24:38,498]\u001b[0m A new study created in memory with name: no-name-cdb66b4d-e9b7-47a5-8c60-0e45128d5f8d\u001b[0m\n",
      "\u001b[32m[I 2021-11-10 22:25:31,572]\u001b[0m Trial 0 finished with value: 2.156809509401908 and parameters: {'ITERATIONS': 50, 'Q': 0.16210223704381732, 'EVA_RATE': 0.23834597438469673, 'ANTS': 332}. Best is trial 0 with value: 2.156809509401908.\u001b[0m\n",
      "\u001b[32m[I 2021-11-10 22:35:58,477]\u001b[0m Trial 1 finished with value: 2.2163196386785575 and parameters: {'ITERATIONS': 257, 'Q': 0.441130487838729, 'EVA_RATE': 0.551246876066232, 'ANTS': 493}. Best is trial 1 with value: 2.2163196386785575.\u001b[0m\n"
     ]
    }
   ],
   "source": [
    "sortino_study=optuna.create_study(direction='maximize')\n",
    "sortino_study.optimize(objective,n_trials=5)"
   ]
  },
  {
   "cell_type": "code",
   "execution_count": null,
   "metadata": {
    "colab": {
     "base_uri": "https://localhost:8080/"
    },
    "id": "EIv9yt61w3SH",
    "outputId": "c911aca8-4509-4fbd-8874-1829297d58d4"
   },
   "outputs": [],
   "source": [
    "hptuning=sortino_study.trials_dataframe()\n",
    "hptuning.to_csv(\"sortino_trial0.csv\")\n",
    "best=sortino_study.best_params\n",
    "best"
   ]
  },
  {
   "cell_type": "code",
   "execution_count": null,
   "metadata": {
    "id": "y8g56Q94SbpQ"
   },
   "outputs": [],
   "source": [
    "global_warr_sortino=[]\n",
    "sortino_portfolio_return=[]\n",
    "sortino_portfolio_risk=[]\n",
    "sortino_portfolio_soratio=[]\n",
    "sortino_portfolio_stockWeights=[]"
   ]
  },
  {
   "cell_type": "code",
   "execution_count": null,
   "metadata": {
    "id": "sPd1McTGspPx"
   },
   "outputs": [],
   "source": [
    "def antcolony_sortino(ITERATIONS,Q,EVA_RATE,ANTS):\n",
    "    sortino_pbest=-1\n",
    "    #Initializing sortino_pbest(the best fitness value   SHARPE)\n",
    "    #Initializing the current fitness value\n",
    "    fitness=0\n",
    "    #for each iteration\n",
    "    for iteration in range(ITERATIONS):\n",
    "        \n",
    "        #PREPARAING THE PHEROMONE MATRIX WHERE THE COLS=STOCKS AND  ROWS=ANTS\n",
    "        pheromon=[[0]*stocks for i in range(ANTS+1)]#why (ants+1)?The last ant can update the pheromone values in the last row\n",
    "        \n",
    "        # Initializing the pheromone status \n",
    "        for i in range(len(pheromon[0])):\n",
    "            pheromon[0][i]=random.randint(1,15)   #When input stocks varies, this needs to vary accordingly.(Divide number of stocks / 2)\n",
    "        \n",
    "        #copying the values and storing it in temp_pher\n",
    "        temp_pher=pheromon[0]\n",
    "        \n",
    "        #Making sure that the total amount of pheromone equals 1 \n",
    "        weights=np.array(BALANCE(temp_pher))\n",
    "        \n",
    "        #calculating annulaised portfolio return\n",
    "        returns_temp = np.sum(returnsh.mean()*weights)*trading_days \n",
    "        \n",
    "        #calculating portfolio varience wrt calculating sharpe ratio\n",
    "        varso=np.dot(weights.T,np.dot(covmatso,weights))   \n",
    "        \n",
    "        #portfolio risk\n",
    "        volatility_temp = np.sqrt(varso)      \n",
    "        \n",
    "        #Calculating fitness value(ie sortino ratio)\n",
    "        fitness = ratio(returns_temp,volatility_temp,risk_free_rate)\n",
    "        \n",
    "        #Initializing the intial fitness value as the best fitness value(sortino_pbest)\n",
    "        if sortino_pbest==-1:\n",
    "            sortino_pbest=fitness\n",
    "        \n",
    "        #list\n",
    "        path=[]\n",
    "      \n",
    "        #for each ant\n",
    "        for ant in range(ANTS-1):\n",
    "            \n",
    "            #find the total pheromone \n",
    "            total=sum(pheromon[ant])\n",
    "            \n",
    "            #Initializing probability\n",
    "            probability=pheromon[ant][:] \n",
    "            \n",
    "            #finding probability of each stocks pheromone \n",
    "            for p in range(len(probability)):\n",
    "                probability[p]=(probability[p]/total)\n",
    "                \n",
    "            #Trying to select stocks in decreasing order based on their pheromone level and storing the stock order in a list(path)\n",
    "            for stock in range(stocks):\n",
    "                select=probability.index(max(probability))\n",
    "                probability[select]=-math.inf\n",
    "                path.append(select)\n",
    "            \n",
    "            #Updating the pheromone level of each stock for the next ant \n",
    "            #Formula: old pheromone level * (1-eva_rate) + Q * (fitness/pbest) where Q is fixed amount of pheromone\n",
    "            for s in path:\n",
    "                pheromon[ant+1][s]=pheromon[ant][s]*(1-EVA_RATE)+Q*(fitness/sortino_pbest)\n",
    "            \n",
    "            \n",
    "            #making sure that the updated pheromon adds upto 1\n",
    "            temp_pher=pheromon[ant+1]\n",
    "            weights=np.array(BALANCE(temp_pher))\n",
    "            returns_temp = np.sum(returnsh.mean()*weights)*trading_days   #calculating annulaised portfolio return\n",
    "            varso=np.dot(weights.T,np.dot(covmatso,weights))              #calculating portfolio varience wrt calculating sharpe ratio\n",
    "            volatility_temp = np.sqrt(varso)                              #portfolio risk\n",
    "            fitness = ratio(returns_temp,volatility_temp,risk_free_rate)  #calculating sharpe ratio\n",
    "            \n",
    "            #comparing the old fitness value with the updated fitness value\n",
    "            # explore on scape condition paper ref\n",
    "            if(fitness>sortino_pbest):\n",
    "                \n",
    "                #if the updated fitness value is better than the previous, change sortino_pbest to present fitness value\n",
    "                sortino_pbest=fitness\n",
    "                \n",
    "                #remembering the weights of the best portfolio\n",
    "                global_warr_sortino=weights.tolist()\n",
    "        sortino_portfolio_return.append(returns_temp)\n",
    "        sortino_portfolio_risk.append(volatility_temp)\n",
    "        sortino_portfolio_soratio.append(fitness)\n",
    "        sortino_portfolio_stockWeights.append(weights)\n",
    "    return sortino_pbest\n"
   ]
  },
  {
   "cell_type": "code",
   "execution_count": null,
   "metadata": {
    "id": "FOlVoCBsw3P_"
   },
   "outputs": [],
   "source": [
    "sortino_tuned=antcolony_sortino(ITERATIONS,Q,EVA_RATE,ANTS)"
   ]
  },
  {
   "cell_type": "code",
   "execution_count": null,
   "metadata": {
    "colab": {
     "base_uri": "https://localhost:8080/"
    },
    "id": "MlnQ-ViJwMr4",
    "outputId": "3f7f1fbc-44e9-475f-b411-7bd9bdf27a43"
   },
   "outputs": [],
   "source": [
    "sortino_tuned"
   ]
  },
  {
   "cell_type": "code",
   "execution_count": null,
   "metadata": {
    "colab": {
     "base_uri": "https://localhost:8080/",
     "height": 824
    },
    "id": "fBLzqoDdw3Nn",
    "outputId": "7a2de095-626d-45b8-afdc-7f2de2ac2dbd"
   },
   "outputs": [],
   "source": [
    "sortino_portfolio = {'Returns' : sortino_portfolio_return, 'Standard Deviation' : sortino_portfolio_risk,  'Sortino Ratio' : sortino_portfolio_soratio}  \n",
    "\n",
    "for counter,symbol in enumerate(df.columns):\n",
    "  sortino_portfolio[symbol + \" Weight\"] = [Weight[counter] for Weight in sortino_portfolio_stockWeights]\n",
    "sortino_pc = pd.DataFrame(sortino_portfolio)\n",
    "sortino_optimal=sortino_pc.iloc[sortino_pc['Sortino Ratio'].idxmax()]\n",
    "sortino_optimal=pd.DataFrame(sortino_optimal)\n",
    "sortino_optimal.to_csv(\"sortino_optimal.csv\")\n",
    "sortino_optimal"
   ]
  },
  {
   "cell_type": "markdown",
   "metadata": {
    "id": "t69IyiAGy5tI"
   },
   "source": [
    "## not sort "
   ]
  },
  {
   "cell_type": "code",
   "execution_count": null,
   "metadata": {
    "id": "ov_yb_UOw3FZ"
   },
   "outputs": [],
   "source": [
    "sortino_unsort_top=sortino_pc.iloc[:,0:3].head(10)\n",
    "sortino_unsort_top.to_csv(\"sortino_unsort_top.csv\")"
   ]
  },
  {
   "cell_type": "code",
   "execution_count": null,
   "metadata": {
    "id": "SfJzakz-zKQ3"
   },
   "outputs": [],
   "source": [
    "sortino_unsort_top_all=sortino_pc.head(10)\n",
    "sortino_unsort_top_all.to_csv(\"sortino_unsort_top_all.csv\")"
   ]
  },
  {
   "cell_type": "code",
   "execution_count": null,
   "metadata": {
    "id": "_HEQurYqzKJp"
   },
   "outputs": [],
   "source": [
    "sortino_unsort_bottom=sortino_pc.iloc[:,0:3].tail(10)\n",
    "sortino_unsort_bottom.to_csv(\"sortino_unsort_bottom.csv\")"
   ]
  },
  {
   "cell_type": "code",
   "execution_count": null,
   "metadata": {
    "id": "CtDwcMm5zKFO"
   },
   "outputs": [],
   "source": [
    "sortino_unsort_bottom_all=sortino_pc.tail(10)\n",
    "sortino_unsort_bottom_all.to_csv(\"sortino_unsort_bottom_all.csv\")"
   ]
  },
  {
   "cell_type": "code",
   "execution_count": null,
   "metadata": {
    "id": "QPntUZC0zJ9w"
   },
   "outputs": [],
   "source": [
    "sortino_pc.to_csv('sortino_ACO_portfolio.csv')\n",
    "\n",
    "sortino_pc_sort=sortino_pc.copy()"
   ]
  },
  {
   "cell_type": "markdown",
   "metadata": {
    "id": "SEUMsz3Uzlif"
   },
   "source": [
    "## sort sortino"
   ]
  },
  {
   "cell_type": "code",
   "execution_count": null,
   "metadata": {
    "id": "-WIiV8GrznkJ"
   },
   "outputs": [],
   "source": [
    "sortino_pc_sort.sort_values(by=['Sortino Ratio'],ascending=False,inplace=True)\n",
    "sortino_pc_sort.to_csv(\"sortino_porfolio_sort.csv\")"
   ]
  },
  {
   "cell_type": "code",
   "execution_count": null,
   "metadata": {
    "colab": {
     "base_uri": "https://localhost:8080/",
     "height": 390
    },
    "id": "c6QE2ytEznbf",
    "outputId": "a10a4cf1-fdfb-4e88-d90d-fce911c17011"
   },
   "outputs": [],
   "source": [
    "sortino_sort_top=sortino_pc_sort.iloc[1:,0:3].head(11)\n",
    "sortino_sort_top.to_csv(\"sortino_sort_top.csv\")\n",
    "sortino_sort_top"
   ]
  },
  {
   "cell_type": "code",
   "execution_count": null,
   "metadata": {
    "colab": {
     "base_uri": "https://localhost:8080/",
     "height": 427
    },
    "id": "i9JoFzyxznY3",
    "outputId": "dd0a3671-efbd-4b77-a63b-84e93e69d9db"
   },
   "outputs": [],
   "source": [
    "sortino_sort_top_all=sortino_pc_sort.iloc[1:,0:].head(11)\n",
    "sortino_sort_top_all.to_csv(\"sortino_sort_top_all.csv\")\n",
    "sortino_sort_top_all"
   ]
  },
  {
   "cell_type": "code",
   "execution_count": null,
   "metadata": {
    "colab": {
     "base_uri": "https://localhost:8080/",
     "height": 359
    },
    "id": "CXeKj09vznV3",
    "outputId": "9d445f94-f897-4a43-8394-b62ce11fda00"
   },
   "outputs": [],
   "source": [
    "sortino_sort_bottom=sortino_pc_sort.iloc[:,0:3].tail(10)\n",
    "sortino_sort_bottom.to_csv(\"sortino_sort_bottom.csv\")\n",
    "sortino_sort_bottom"
   ]
  },
  {
   "cell_type": "code",
   "execution_count": null,
   "metadata": {
    "colab": {
     "base_uri": "https://localhost:8080/",
     "height": 359
    },
    "id": "A9el7xkHznOf",
    "outputId": "cc58cf56-2069-45f6-fa43-fdab6456656e"
   },
   "outputs": [],
   "source": [
    "sortino_sort_bottom_all=sortino_pc_sort.iloc[:,0:3].tail(10)\n",
    "sortino_sort_bottom_all.to_csv(\"sortino_sort_bottom_all.csv\")\n",
    "sortino_sort_bottom_all"
   ]
  },
  {
   "cell_type": "code",
   "execution_count": null,
   "metadata": {
    "id": "oSxav7O4U5qE"
   },
   "outputs": [],
   "source": [
    "\n",
    "#tables in word doc also(final table)\n"
   ]
  },
  {
   "cell_type": "code",
   "execution_count": null,
   "metadata": {
    "id": "P6bO4iFv6imK"
   },
   "outputs": [],
   "source": []
  },
  {
   "cell_type": "code",
   "execution_count": null,
   "metadata": {
    "id": "cm_OLqv2tSWx"
   },
   "outputs": [],
   "source": []
  }
 ],
 "metadata": {
  "colab": {
   "collapsed_sections": [
    "LFI_c_tuvy_g"
   ],
   "name": "2Nov2021_ACO_Final.ipynb",
   "provenance": []
  },
  "kernelspec": {
   "display_name": "Python 3 (ipykernel)",
   "language": "python",
   "name": "python3"
  },
  "language_info": {
   "codemirror_mode": {
    "name": "ipython",
    "version": 3
   },
   "file_extension": ".py",
   "mimetype": "text/x-python",
   "name": "python",
   "nbconvert_exporter": "python",
   "pygments_lexer": "ipython3",
   "version": "3.9.6"
  }
 },
 "nbformat": 4,
 "nbformat_minor": 4
}
