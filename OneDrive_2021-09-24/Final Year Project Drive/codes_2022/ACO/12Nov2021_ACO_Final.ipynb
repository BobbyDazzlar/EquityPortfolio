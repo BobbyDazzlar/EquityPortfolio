{
 "cells": [
  {
   "cell_type": "code",
   "execution_count": 1,
   "metadata": {
    "id": "uYLDqq786kLC",
    "jupyter": {
     "outputs_hidden": true
    }
   },
   "outputs": [
    {
     "name": "stdout",
     "output_type": "stream",
     "text": [
      "Requirement already satisfied: optuna in c:\\users\\dell\\appdata\\roaming\\python\\python39\\site-packages (2.10.0)\n",
      "Requirement already satisfied: cliff in c:\\users\\dell\\appdata\\roaming\\python\\python39\\site-packages (from optuna) (3.9.0)\n",
      "Requirement already satisfied: alembic in c:\\users\\dell\\appdata\\roaming\\python\\python39\\site-packages (from optuna) (1.7.4)\n",
      "Requirement already satisfied: cmaes>=0.8.2 in c:\\users\\dell\\appdata\\roaming\\python\\python39\\site-packages (from optuna) (0.8.2)\n",
      "Requirement already satisfied: sqlalchemy>=1.1.0 in c:\\users\\dell\\appdata\\roaming\\python\\python39\\site-packages (from optuna) (1.4.26)\n",
      "Requirement already satisfied: tqdm in c:\\users\\dell\\appdata\\local\\programs\\python\\python39\\lib\\site-packages (from optuna) (4.62.3)\n",
      "Requirement already satisfied: numpy in c:\\users\\dell\\appdata\\local\\programs\\python\\python39\\lib\\site-packages (from optuna) (1.19.5)\n",
      "Requirement already satisfied: colorlog in c:\\users\\dell\\appdata\\roaming\\python\\python39\\site-packages (from optuna) (6.5.0)\n",
      "Requirement already satisfied: packaging>=20.0 in c:\\users\\dell\\appdata\\local\\programs\\python\\python39\\lib\\site-packages (from optuna) (21.0)\n",
      "Requirement already satisfied: PyYAML in c:\\users\\dell\\appdata\\roaming\\python\\python39\\site-packages (from optuna) (6.0)\n",
      "Requirement already satisfied: scipy!=1.4.0 in c:\\users\\dell\\appdata\\local\\programs\\python\\python39\\lib\\site-packages (from optuna) (1.7.1)\n",
      "Requirement already satisfied: pyparsing>=2.0.2 in c:\\users\\dell\\appdata\\local\\programs\\python\\python39\\lib\\site-packages (from packaging>=20.0->optuna) (2.4.7)\n",
      "Requirement already satisfied: greenlet!=0.4.17 in c:\\users\\dell\\appdata\\roaming\\python\\python39\\site-packages (from sqlalchemy>=1.1.0->optuna) (1.1.2)\n",
      "Requirement already satisfied: Mako in c:\\users\\dell\\appdata\\roaming\\python\\python39\\site-packages (from alembic->optuna) (1.1.5)\n",
      "Requirement already satisfied: cmd2>=1.0.0 in c:\\users\\dell\\appdata\\roaming\\python\\python39\\site-packages (from cliff->optuna) (2.2.0)\n",
      "Requirement already satisfied: pbr!=2.1.0,>=2.0.0 in c:\\users\\dell\\appdata\\roaming\\python\\python39\\site-packages (from cliff->optuna) (5.6.0)\n",
      "Requirement already satisfied: stevedore>=2.0.1 in c:\\users\\dell\\appdata\\roaming\\python\\python39\\site-packages (from cliff->optuna) (3.5.0)\n",
      "Requirement already satisfied: PrettyTable>=0.7.2 in c:\\users\\dell\\appdata\\roaming\\python\\python39\\site-packages (from cliff->optuna) (2.2.1)\n",
      "Requirement already satisfied: autopage>=0.4.0 in c:\\users\\dell\\appdata\\roaming\\python\\python39\\site-packages (from cliff->optuna) (0.4.0)\n",
      "Requirement already satisfied: colorama in c:\\users\\dell\\appdata\\local\\programs\\python\\python39\\lib\\site-packages (from colorlog->optuna) (0.4.4)\n",
      "Requirement already satisfied: pyperclip>=1.6 in c:\\users\\dell\\appdata\\roaming\\python\\python39\\site-packages (from cmd2>=1.0.0->cliff->optuna) (1.8.2)\n",
      "Requirement already satisfied: pyreadline3 in c:\\users\\dell\\appdata\\roaming\\python\\python39\\site-packages (from cmd2>=1.0.0->cliff->optuna) (3.3)\n",
      "Requirement already satisfied: wcwidth>=0.1.7 in c:\\users\\dell\\appdata\\local\\programs\\python\\python39\\lib\\site-packages (from cmd2>=1.0.0->cliff->optuna) (0.2.5)\n",
      "Requirement already satisfied: attrs>=16.3.0 in c:\\users\\dell\\appdata\\local\\programs\\python\\python39\\lib\\site-packages (from cmd2>=1.0.0->cliff->optuna) (21.2.0)\n",
      "Requirement already satisfied: MarkupSafe>=0.9.2 in c:\\users\\dell\\appdata\\local\\programs\\python\\python39\\lib\\site-packages (from Mako->alembic->optuna) (2.0.1)\n"
     ]
    }
   ],
   "source": [
    "!pip install optuna\n",
    "#!pip install joblib"
   ]
  },
  {
   "cell_type": "code",
   "execution_count": 2,
   "metadata": {
    "id": "9Nro5RzJ6hMl"
   },
   "outputs": [],
   "source": [
    "import optuna\n",
    "import joblib\n",
    "import pandas as pd\n",
    "import numpy as np\n",
    "import random\n",
    "import math"
   ]
  },
  {
   "cell_type": "code",
   "execution_count": 3,
   "metadata": {
    "id": "Cy-Di43uOPkW"
   },
   "outputs": [],
   "source": [
    "def BALANCE(weights):\n",
    "  #Making sure the total sum of the weights eual to 1\n",
    "  weights = [w/sum(weights) for w in weights] \n",
    "  # Making sure all weights represent proportions that add up to 1\n",
    "  return weights"
   ]
  },
  {
   "cell_type": "code",
   "execution_count": 4,
   "metadata": {
    "id": "TvMpzcufOPiU"
   },
   "outputs": [],
   "source": [
    "def ratio(a,b,c):                       \n",
    "  #function to calculate ratio i.e. \"(returns-(risk_free_rate))/deviation\"\n",
    "  #calculating sharpe ratio\n",
    "  return (a-c)/b"
   ]
  },
  {
   "cell_type": "code",
   "execution_count": 5,
   "metadata": {
    "id": "8Z4xIIVEOPf5"
   },
   "outputs": [],
   "source": [
    "def number_of_years(y):#calculates the number of years of the dataset\n",
    "  p=y.index[0]         #date of first row in the dataset (datetime format)\n",
    "  q=y.index[len(y)-1]  #date of last row in the dataset  (datetime format)\n",
    "  return ((q-p).days+1)/365"
   ]
  },
  {
   "cell_type": "code",
   "execution_count": 6,
   "metadata": {
    "id": "BGMVmkDBOPdu"
   },
   "outputs": [],
   "source": [
    "df=pd.read_csv(\"n50.csv\",parse_dates=['Date'],index_col='Date')  #Importing Dataset\n",
    "df = df.loc[\"2016-01-01\" : ]   #Since 2016-01-01, 5y(1234rows till 2020-12-31)\n",
    "tdf=df.copy()                  #deep copy\n",
    "df.reset_index(drop=True, inplace=True)\n",
    "col=list(df.columns)"
   ]
  },
  {
   "cell_type": "code",
   "execution_count": 7,
   "metadata": {
    "id": "dIqD9wxzOPbc"
   },
   "outputs": [],
   "source": [
    "trading_days=len(df)/number_of_years(tdf) "
   ]
  },
  {
   "cell_type": "code",
   "execution_count": 8,
   "metadata": {
    "id": "TLHm2sI4OPZF"
   },
   "outputs": [],
   "source": [
    "returnsh=df.pct_change()                  \n",
    "#Here, returnsh would mean return considered for sharpe ratio\n",
    "returnsh.fillna(0,inplace=True)"
   ]
  },
  {
   "cell_type": "code",
   "execution_count": 9,
   "metadata": {
    "id": "P02rmZVsYMbN"
   },
   "outputs": [],
   "source": [
    "returnso = returnsh.copy()  # this cell considers only NEGATIVE returns so as to calculate sortino ratio\n",
    "for cols in returnso.columns.tolist():\n",
    "  for i in range(0, len(df)):\n",
    "    if returnso[cols][i] > 0:\n",
    "      returnso[cols][i] = 0\n"
   ]
  },
  {
   "cell_type": "code",
   "execution_count": 10,
   "metadata": {
    "id": "K7eZR3WXOPWk"
   },
   "outputs": [],
   "source": [
    "covmatsh=returnsh.cov()*trading_days     \n",
    "#Annualised covariance matrix calculated wrt returnsh i.e. used to calculate sharpe ratio\n",
    "covmatso = returnso.cov() * trading_days"
   ]
  },
  {
   "cell_type": "code",
   "execution_count": 11,
   "metadata": {
    "id": "6pUgs_cIOPUM"
   },
   "outputs": [],
   "source": [
    "risk_free_rate = 0.0358 #initializing risk free rate that will be used in calculating both the ratios (absolute value)\n",
    "#referred from url: https://www.rbi.org.in/Scripts/BS_NSDPDisplay.aspx?param=4&Id=24292\n",
    "#In the above url, the 364 (1 year) day treasury bill is 3.58% , when taken absolute value => 0.0358\n",
    "# (improved)"
   ]
  },
  {
   "cell_type": "code",
   "execution_count": 12,
   "metadata": {
    "colab": {
     "base_uri": "https://localhost:8080/"
    },
    "id": "psIfrFk-OPP1",
    "outputId": "405c0e32-4894-45d4-a8c3-5270dbff594f"
   },
   "outputs": [
    {
     "data": {
      "text/plain": [
       "22"
      ]
     },
     "execution_count": 12,
     "metadata": {},
     "output_type": "execute_result"
    }
   ],
   "source": [
    "df\n",
    "stocks=df.shape[1]\n",
    "stocks"
   ]
  },
  {
   "cell_type": "markdown",
   "metadata": {
    "id": "9m65O3q0mlwr"
   },
   "source": [
    "# Sharpe\n"
   ]
  },
  {
   "cell_type": "code",
   "execution_count": 13,
   "metadata": {
    "id": "jPjytXKYOPFC"
   },
   "outputs": [],
   "source": [
    "def antcolony_tuning_sharpe(ITERATIONS,Q,EVA_RATE,ANTS):\n",
    "    sharpe_pbest=-1\n",
    "    #Initializing sharpe_pbest(the best fitness value   SHARPE)\n",
    "    #Initializing the current fitness value\n",
    "    fitness=0\n",
    "    #for each iteration\n",
    "    for iteration in range(ITERATIONS):\n",
    "        \n",
    "        #PREPARAING THE PHEROMONE MATRIX WHERE THE COLS=STOCKS AND  ROWS=ANTS\n",
    "        pheromon=[[0]*stocks for i in range(ANTS+1)]#why (ants+1)?The last ant can update the pheromone values in the last row\n",
    "        \n",
    "        # Initializing the pheromone status \n",
    "        for i in range(len(pheromon[0])):\n",
    "            pheromon[0][i]=random.randint(1,15)   #When input stocks varies, this needs to vary accordingly.(Divide number of stocks / 2)\n",
    "        \n",
    "        #copying the values and storing it in temp_pher\n",
    "        temp_pher=pheromon[0]\n",
    "        \n",
    "        #Making sure that the total amount of pheromone equals 1 \n",
    "        weights=np.array(BALANCE(temp_pher))\n",
    "        \n",
    "        #calculating annulaised portfolio return\n",
    "        returns_temp = np.sum(returnsh.mean()*weights)*trading_days \n",
    "        \n",
    "        #calculating portfolio varience wrt calculating sharpe ratio\n",
    "        varsh=np.dot(weights.T,np.dot(covmatsh,weights))   \n",
    "        \n",
    "        #portfolio risk\n",
    "        volatility_temp = np.sqrt(varsh)      \n",
    "        \n",
    "        #Calculating fitness value(ie sharpe ratio)\n",
    "        fitness = ratio(returns_temp,volatility_temp,risk_free_rate)\n",
    "        \n",
    "        #Initializing the intial fitness value as the best fitness value(sharpe_pbest)\n",
    "        if sharpe_pbest==-1:\n",
    "            sharpe_pbest=fitness\n",
    "        \n",
    "        #list\n",
    "        path=[]\n",
    "      \n",
    "        #for each ant\n",
    "        for ant in range(ANTS-1):\n",
    "            \n",
    "            #find the total pheromone \n",
    "            total=sum(pheromon[ant])\n",
    "            \n",
    "            #Initializing probability\n",
    "            probability=pheromon[ant][:] \n",
    "            \n",
    "            #finding probability of each stocks pheromone \n",
    "            for p in range(len(probability)):\n",
    "                probability[p]=(probability[p]/total)\n",
    "                \n",
    "            #Trying to select stocks in decreasing order based on their pheromone level and storing the stock order in a list(path)\n",
    "            for stock in range(stocks):\n",
    "                select=probability.index(max(probability))\n",
    "                probability[select]=-math.inf\n",
    "                path.append(select)\n",
    "            \n",
    "            #Updating the pheromone level of each stock for the next ant \n",
    "            #Formula: old pheromone level * (1-eva_rate) + Q * (fitness/sharpe_pbest) where Q is fixed amount of pheromone\n",
    "            for s in path:\n",
    "                pheromon[ant+1][s]=pheromon[ant][s]*(1-EVA_RATE)+Q*(fitness/sharpe_pbest)\n",
    "            \n",
    "            \n",
    "            #making sure that the updated pheromon adds upto 1\n",
    "            temp_pher=pheromon[ant+1]\n",
    "            weights=np.array(BALANCE(temp_pher))\n",
    "            returns_temp = np.sum(returnsh.mean()*weights)*trading_days   #calculating annulaised portfolio return\n",
    "            varsh=np.dot(weights.T,np.dot(covmatsh,weights))              #calculating portfolio varience wrt calculating sharpe ratio\n",
    "            volatility_temp = np.sqrt(varsh)                              #portfolio risk\n",
    "            fitness = ratio(returns_temp,volatility_temp,risk_free_rate)  #calculating sharpe ratio\n",
    "            \n",
    "            #comparing the old fitness value with the updated fitness value\n",
    "            # explore on scape condition paper ref\n",
    "            if(fitness>sharpe_pbest):\n",
    "                \n",
    "                #if the updated fitness value is better than the previous, change sharpe_pbest to present fitness value\n",
    "                sharpe_pbest=fitness\n",
    "                \n",
    "                #remembering the weights of the best portfolio\n",
    "                global_warr_sharpe=weights.tolist()\n",
    "        #sharpe_portfolio_return.append(returns_temp)\n",
    "        #sharpe_portfolio_risk.append(volatility_temp)\n",
    "        #sharpe_portfolio_shratio.append(fitness)\n",
    "        #sharpe_portfolio_stockWeights.append(weights)\n",
    "    return sharpe_pbest\n"
   ]
  },
  {
   "cell_type": "code",
   "execution_count": 14,
   "metadata": {
    "id": "6XX9KAEeOO7s"
   },
   "outputs": [],
   "source": [
    "#hyperparameter values from literature survey excel sheet\n",
    "def objective(trial):\n",
    "    ITERATIONS=trial.suggest_int('ITERATIONS',2,500)\n",
    "    Q=trial.suggest_float('Q',0.1,1.0)\n",
    "    EVA_RATE=trial.suggest_float('EVA_RATE',0.1,1.00)\n",
    "    ANTS=trial.suggest_int('ANTS',2,500)\n",
    "    return antcolony_tuning_sharpe(int(ITERATIONS),Q,EVA_RATE,int(ANTS))"
   ]
  },
  {
   "cell_type": "code",
   "execution_count": null,
   "metadata": {
    "colab": {
     "base_uri": "https://localhost:8080/"
    },
    "id": "rV1Mp3bKRTnb",
    "outputId": "cede5341-61e6-4f05-c37b-be6a8868ad55"
   },
   "outputs": [
    {
     "name": "stderr",
     "output_type": "stream",
     "text": [
      "\u001B[32m[I 2021-11-22 23:56:08,549]\u001B[0m A new study created in memory with name: no-name-ab417f54-6b53-4217-ae00-f943b95e9a84\u001B[0m\n"
     ]
    }
   ],
   "source": [
    "sharpe_study=optuna.create_study(direction='maximize')\n",
    "sharpe_study.optimize(objective,n_trials=100)"
   ]
  },
  {
   "cell_type": "code",
   "execution_count": null,
   "metadata": {
    "colab": {
     "base_uri": "https://localhost:8080/"
    },
    "id": "_3mk8pPPRTlO",
    "outputId": "931e319d-7c13-4eb1-f0cc-33ed6fdae46f"
   },
   "outputs": [],
   "source": [
    "sh_hptuning=sharpe_study.trials_dataframe()\n",
    "sh_hptuning.to_csv(\"sharpe_trial0.csv\")\n",
    "best=sharpe_study.best_params\n",
    "best"
   ]
  },
  {
   "cell_type": "code",
   "execution_count": null,
   "metadata": {
    "id": "E2_7Q1OpRThr"
   },
   "outputs": [],
   "source": [
    "#value kept from tuned hyperparameter space\n",
    "ITERATIONS=419#int(best['ITERATIONS'])\n",
    "Q=0.0400026#best['Q']\n",
    "EVA_RATE=0.128567#best['EVA_RATE']\n",
    "ANTS=90#int(best['ANTS'])"
   ]
  },
  {
   "cell_type": "code",
   "execution_count": null,
   "metadata": {
    "id": "x2KmTXbjsZEL"
   },
   "outputs": [],
   "source": [
    "global_warr_sortino=[]\n",
    "global_war_sharpe=[]\n",
    "sharpe_portfolio_return=[]\n",
    "sharpe_portfolio_risk=[]\n",
    "sharpe_portfolio_shratio=[]\n",
    "sharpe_portfolio_stockWeights=[]"
   ]
  },
  {
   "cell_type": "code",
   "execution_count": null,
   "metadata": {
    "id": "iH7x-tm0Ufc_"
   },
   "outputs": [],
   "source": [
    "def antcolony_sharpe(ITERATIONS,Q,EVA_RATE,ANTS):\n",
    "    sharpe_pbest=-1\n",
    "    #Initializing sharpe_pbest(the best fitness value   SHARPE)\n",
    "    #Initializing the current fitness value\n",
    "    fitness=0\n",
    "    #for each iteration\n",
    "    for iteration in range(ITERATIONS):\n",
    "        \n",
    "        #PREPARAING THE PHEROMONE MATRIX WHERE THE COLS=STOCKS AND  ROWS=ANTS\n",
    "        pheromon=[[0]*stocks for i in range(ANTS+1)]#why (ants+1)?The last ant can update the pheromone values in the last row\n",
    "        \n",
    "        # Initializing the pheromone status \n",
    "        for i in range(len(pheromon[0])):\n",
    "            pheromon[0][i]=random.randint(1,15)   #When input stocks varies, this needs to vary accordingly.(Divide number of stocks / 2)\n",
    "        \n",
    "        #copying the values and storing it in temp_pher\n",
    "        temp_pher=pheromon[0]\n",
    "        \n",
    "        #Making sure that the total amount of pheromone equals 1 \n",
    "        weights=np.array(BALANCE(temp_pher))\n",
    "        \n",
    "        #calculating annulaised portfolio return\n",
    "        returns_temp = np.sum(returnsh.mean()*weights)*trading_days \n",
    "        \n",
    "        #calculating portfolio varience wrt calculating sharpe ratio\n",
    "        varsh=np.dot(weights.T,np.dot(covmatsh,weights))   \n",
    "        \n",
    "        #portfolio risk\n",
    "        volatility_temp = np.sqrt(varsh)      \n",
    "        \n",
    "        #Calculating fitness value(ie sharpe ratio)\n",
    "        fitness = ratio(returns_temp,volatility_temp,risk_free_rate)\n",
    "        \n",
    "        #Initializing the intial fitness value as the best fitness value(sharpe_pbest)\n",
    "        if sharpe_pbest==-1:\n",
    "            sharpe_pbest=fitness\n",
    "        \n",
    "        #list\n",
    "        path=[]\n",
    "      \n",
    "        #for each ant\n",
    "        for ant in range(ANTS-1):\n",
    "            \n",
    "            #find the total pheromone \n",
    "            total=sum(pheromon[ant])\n",
    "            \n",
    "            #Initializing probability\n",
    "            probability=pheromon[ant][:] \n",
    "            \n",
    "            #finding probability of each stocks pheromone \n",
    "            for p in range(len(probability)):\n",
    "                probability[p]=(probability[p]/total)\n",
    "                \n",
    "            #Trying to select stocks in decreasing order based on their pheromone level and storing the stock order in a list(path)\n",
    "            for stock in range(stocks):\n",
    "                select=probability.index(max(probability))\n",
    "                probability[select]=-math.inf\n",
    "                path.append(select)\n",
    "            \n",
    "            #Updating the pheromone level of each stock for the next ant \n",
    "            #Formula: old pheromone level * (1-eva_rate) + Q * (fitness/sharpe_pbest) where Q is fixed amount of pheromone\n",
    "            for s in path:\n",
    "                pheromon[ant+1][s]=pheromon[ant][s]*(1-EVA_RATE)+Q*(fitness/sharpe_pbest)\n",
    "            \n",
    "            \n",
    "            #making sure that the updated pheromon adds upto 1\n",
    "            temp_pher=pheromon[ant+1]\n",
    "            weights=np.array(BALANCE(temp_pher))\n",
    "            returns_temp = np.sum(returnsh.mean()*weights)*trading_days   #calculating annulaised portfolio return\n",
    "            varsh=np.dot(weights.T,np.dot(covmatsh,weights))              #calculating portfolio varience wrt calculating sharpe ratio\n",
    "            volatility_temp = np.sqrt(varsh)                              #portfolio risk\n",
    "            fitness = ratio(returns_temp,volatility_temp,risk_free_rate)  #calculating sharpe ratio\n",
    "            \n",
    "            #comparing the old fitness value with the updated fitness value\n",
    "            # explore on scape condition paper ref\n",
    "            if(fitness>sharpe_pbest):\n",
    "                \n",
    "                #if the updated fitness value is better than the previous, change sharpe_pbest to present fitness value\n",
    "                sharpe_pbest=fitness\n",
    "                \n",
    "                #remembering the weights of the best portfolio\n",
    "        \n",
    "                global_warr_sharpe=weights.tolist()\n",
    "            \n",
    "            sharpe_portfolio_return.append(returns_temp)\n",
    "            sharpe_portfolio_risk.append(volatility_temp)\n",
    "            sharpe_portfolio_shratio.append(fitness)\n",
    "            sharpe_portfolio_stockWeights.append(weights)\n",
    "        \n",
    "    return sharpe_pbest\n"
   ]
  },
  {
   "cell_type": "code",
   "execution_count": null,
   "metadata": {
    "id": "qG9sZOK8RTez"
   },
   "outputs": [],
   "source": [
    "tuned=antcolony_sharpe(ITERATIONS,Q,EVA_RATE,ANTS)"
   ]
  },
  {
   "cell_type": "code",
   "execution_count": null,
   "metadata": {
    "colab": {
     "base_uri": "https://localhost:8080/"
    },
    "id": "f_Wpz8C_dHf1",
    "outputId": "d6a82810-ce66-4eb0-b67e-9b332909aea2"
   },
   "outputs": [],
   "source": [
    "tuned"
   ]
  },
  {
   "cell_type": "code",
   "execution_count": null,
   "metadata": {
    "colab": {
     "base_uri": "https://localhost:8080/",
     "height": 824
    },
    "id": "qVbCiA47RTcU",
    "outputId": "5426e5b2-a0d5-4100-eb5f-c7566568ba1f"
   },
   "outputs": [],
   "source": [
    "sharpe_portfolio = {'Returns' : sharpe_portfolio_return, 'Standard Deviation' : sharpe_portfolio_risk,  'Sharpe Ratio' : sharpe_portfolio_shratio}  \n",
    "\n",
    "for counter,symbol in enumerate(df.columns):\n",
    "  sharpe_portfolio[symbol + \" Weight\"] = [Weight[counter] for Weight in sharpe_portfolio_stockWeights]\n",
    "sharpe_pc = pd.DataFrame(sharpe_portfolio)\n",
    "sharpe_optimal=sharpe_pc.iloc[sharpe_pc['Sharpe Ratio'].idxmax()]\n",
    "sharpe_optimal=pd.DataFrame(sharpe_optimal)\n",
    "sharpe_optimal.to_csv(\"sharpe_optimal.csv\")\n",
    "\n",
    "sharpe_optimal"
   ]
  },
  {
   "cell_type": "code",
   "execution_count": null,
   "metadata": {
    "colab": {
     "base_uri": "https://localhost:8080/"
    },
    "id": "HceeCMhV_JRN",
    "outputId": "da546498-9318-43e4-f30e-f80930bdf990"
   },
   "outputs": [],
   "source": [
    "sharpe_pc.shape"
   ]
  },
  {
   "cell_type": "markdown",
   "metadata": {
    "id": "LFI_c_tuvy_g"
   },
   "source": [
    "# Sharpe"
   ]
  },
  {
   "cell_type": "code",
   "execution_count": null,
   "metadata": {
    "colab": {
     "base_uri": "https://localhost:8080/",
     "height": 359
    },
    "id": "ZCvjDzWFRTSE",
    "outputId": "29c0903e-e3ad-499f-e6b6-52e4e97fe9d9"
   },
   "outputs": [],
   "source": [
    "sharpe_unsort_top=sharpe_pc.iloc[:,0:3].head(10)\n",
    "sharpe_unsort_top.to_csv(\"sharpe_unsort_top.csv\",)\n",
    "sharpe_unsort_top"
   ]
  },
  {
   "cell_type": "code",
   "execution_count": null,
   "metadata": {
    "colab": {
     "base_uri": "https://localhost:8080/",
     "height": 396
    },
    "id": "ocbF5D5G_NZj",
    "outputId": "acb2e2f9-2ed1-4231-9020-5455ce5f7279"
   },
   "outputs": [],
   "source": [
    "sharpe_unsort_top_all=sharpe_pc.head(10)\n",
    "sharpe_unsort_top_all.to_csv(\"sharpe_unsort_top_all.csv\")\n",
    "sharpe_unsort_top_all"
   ]
  },
  {
   "cell_type": "code",
   "execution_count": null,
   "metadata": {
    "colab": {
     "base_uri": "https://localhost:8080/",
     "height": 359
    },
    "id": "IMrBXTLBU50K",
    "outputId": "840d4bbc-20a3-40d3-e5fc-642e6a85bd47"
   },
   "outputs": [],
   "source": [
    "sharpe_unsort_bottom=sharpe_pc.iloc[:,0:3].tail(10)\n",
    "sharpe_unsort_bottom.to_csv(\"sharpe_unsort_bottom.csv\")\n",
    "sharpe_unsort_bottom"
   ]
  },
  {
   "cell_type": "code",
   "execution_count": null,
   "metadata": {
    "colab": {
     "base_uri": "https://localhost:8080/",
     "height": 396
    },
    "id": "Wx7-xNaR_YYL",
    "outputId": "1540eb7a-ca33-43d2-805c-6bfb2212a84f"
   },
   "outputs": [],
   "source": [
    "sharpe_unsort_bottom_all=sharpe_pc.tail(10)\n",
    "sharpe_unsort_bottom_all.to_csv(\"sharpe_unsort_bottom_all.csv\")\n",
    "sharpe_unsort_bottom_all"
   ]
  },
  {
   "cell_type": "code",
   "execution_count": null,
   "metadata": {
    "id": "P8s7oOOWU5xa"
   },
   "outputs": [],
   "source": [
    "sharpe_pc.to_csv('sharpe_ACO_portfolio.csv')\n",
    "\n",
    "sharpe_pc_sort=sharpe_pc.copy()\n"
   ]
  },
  {
   "cell_type": "markdown",
   "metadata": {
    "id": "NFRpZQNqv7Lg"
   },
   "source": [
    "# sort"
   ]
  },
  {
   "cell_type": "code",
   "execution_count": null,
   "metadata": {
    "id": "LFoHn_qptWBR"
   },
   "outputs": [],
   "source": [
    "sharpe_pc_sort.sort_values(by=['Sharpe Ratio'],ascending=False,inplace=True)\n",
    "sharpe_pc_sort.to_csv(\"sharpe_porfolio_sort.csv\")"
   ]
  },
  {
   "cell_type": "code",
   "execution_count": null,
   "metadata": {
    "colab": {
     "base_uri": "https://localhost:8080/",
     "height": 390
    },
    "id": "YTaRZNxauQoC",
    "outputId": "6b36db4a-1f7b-4ccb-e77c-f01eba353bbd"
   },
   "outputs": [],
   "source": [
    "sharpe_sort_top=sharpe_pc_sort.iloc[1:,0:3].head(11)\n",
    "sharpe_sort_top.to_csv(\"sharpe_sort_top.csv\")\n",
    "sharpe_sort_top"
   ]
  },
  {
   "cell_type": "code",
   "execution_count": null,
   "metadata": {
    "colab": {
     "base_uri": "https://localhost:8080/",
     "height": 427
    },
    "id": "15uAxKORuQgK",
    "outputId": "d3e5665c-16d5-442f-8ca8-7e2f10bc8057"
   },
   "outputs": [],
   "source": [
    "sharpe_sort_top_all=sharpe_pc_sort.iloc[1:,0:].head(11)\n",
    "sharpe_sort_top_all.to_csv(\"sharpe_sort_top_all.csv\")\n",
    "sharpe_sort_top_all"
   ]
  },
  {
   "cell_type": "code",
   "execution_count": null,
   "metadata": {
    "colab": {
     "base_uri": "https://localhost:8080/",
     "height": 359
    },
    "id": "Oz-ijO2XuQXi",
    "outputId": "d752a9e9-3e5f-4dc6-cdaa-48631a8eff95"
   },
   "outputs": [],
   "source": [
    "sharpe_sort_bottom=sharpe_pc_sort.iloc[:,0:3].tail(10)\n",
    "sharpe_sort_bottom.to_csv(\"sharpe_sort_bottom.csv\")\n",
    "sharpe_sort_bottom"
   ]
  },
  {
   "cell_type": "code",
   "execution_count": null,
   "metadata": {
    "colab": {
     "base_uri": "https://localhost:8080/",
     "height": 359
    },
    "id": "Br2oiE3-wqBQ",
    "outputId": "960df62a-ee3f-4751-808a-b50803cacf8e"
   },
   "outputs": [],
   "source": [
    "sharpe_sort_bottom_all=sharpe_pc_sort.iloc[:,0:3].tail(10)\n",
    "sharpe_sort_bottom_all.to_csv(\"sharpe_sort_bottom_all.csv\")\n",
    "sharpe_sort_bottom_all"
   ]
  },
  {
   "cell_type": "markdown",
   "metadata": {
    "id": "m0ugVp-dw1EI"
   },
   "source": [
    "# Sortino"
   ]
  },
  {
   "cell_type": "code",
   "execution_count": null,
   "metadata": {
    "id": "JGKJM8olw3ZQ"
   },
   "outputs": [],
   "source": [
    "def antcolony_tuning_sortino(ITERATIONS,Q,EVA_RATE,ANTS):\n",
    "    sortino_pbest=-1\n",
    "    #Initializing sortino_pbest(the best fitness value   SHARPE)\n",
    "    #Initializing the current fitness value\n",
    "    fitness=0\n",
    "    #for each iteration\n",
    "    for iteration in range(ITERATIONS):\n",
    "        \n",
    "        #PREPARAING THE PHEROMONE MATRIX WHERE THE COLS=STOCKS AND  ROWS=ANTS\n",
    "        pheromon=[[0]*stocks for i in range(ANTS+1)]#why (ants+1)?The last ant can update the pheromone values in the last row\n",
    "        \n",
    "        # Initializing the pheromone status \n",
    "        for i in range(len(pheromon[0])):\n",
    "            pheromon[0][i]=random.randint(1,15)   #When input stocks varies, this needs to vary accordingly.(Divide number of stocks / 2)\n",
    "        \n",
    "        #copying the values and storing it in temp_pher\n",
    "        temp_pher=pheromon[0]\n",
    "        \n",
    "        #Making sure that the total amount of pheromone equals 1 \n",
    "        weights=np.array(BALANCE(temp_pher))\n",
    "        \n",
    "        #calculating annulaised portfolio return\n",
    "        returns_temp = np.sum(returnsh.mean()*weights)*trading_days \n",
    "        \n",
    "        #calculating portfolio varience wrt calculating sharpe ratio\n",
    "        varso=np.dot(weights.T,np.dot(covmatso,weights))   \n",
    "        \n",
    "        #portfolio risk\n",
    "        volatility_temp = np.sqrt(varso)      \n",
    "        \n",
    "        #Calculating fitness value(ie sortino ratio)\n",
    "        fitness = ratio(returns_temp,volatility_temp,risk_free_rate)\n",
    "        \n",
    "        #Initializing the intial fitness value as the best fitness value(sortino_pbest)\n",
    "        if sortino_pbest==-1:\n",
    "            sortino_pbest=fitness\n",
    "        \n",
    "        #list\n",
    "        path=[]\n",
    "      \n",
    "        #for each ant\n",
    "        for ant in range(ANTS-1):\n",
    "            \n",
    "            #find the total pheromone \n",
    "            total=sum(pheromon[ant])\n",
    "            \n",
    "            #Initializing probability\n",
    "            probability=pheromon[ant][:] \n",
    "            \n",
    "            #finding probability of each stocks pheromone \n",
    "            for p in range(len(probability)):\n",
    "                probability[p]=(probability[p]/total)\n",
    "                \n",
    "            #Trying to select stocks in decreasing order based on their pheromone level and storing the stock order in a list(path)\n",
    "            for stock in range(stocks):\n",
    "                select=probability.index(max(probability))\n",
    "                probability[select]=-math.inf\n",
    "                path.append(select)\n",
    "            \n",
    "            #Updating the pheromone level of each stock for the next ant \n",
    "            #Formula: old pheromone level * (1-eva_rate) + Q * (fitness/pbest) where Q is fixed amount of pheromone\n",
    "            for s in path:\n",
    "                pheromon[ant+1][s]=pheromon[ant][s]*(1-EVA_RATE)+Q*(fitness/sortino_pbest)\n",
    "            \n",
    "            \n",
    "            #making sure that the updated pheromon adds upto 1\n",
    "            temp_pher=pheromon[ant+1]\n",
    "            weights=np.array(BALANCE(temp_pher))\n",
    "            returns_temp = np.sum(returnsh.mean()*weights)*trading_days   #calculating annulaised portfolio return\n",
    "            varso=np.dot(weights.T,np.dot(covmatso,weights))              #calculating portfolio varience wrt calculating sharpe ratio\n",
    "            volatility_temp = np.sqrt(varso)                              #portfolio risk\n",
    "            fitness = ratio(returns_temp,volatility_temp,risk_free_rate)  #calculating sharpe ratio\n",
    "            \n",
    "            #comparing the old fitness value with the updated fitness value\n",
    "            # explore on scape condition paper ref\n",
    "            if(fitness>sortino_pbest):\n",
    "                \n",
    "                #if the updated fitness value is better than the previous, change sortino_pbest to present fitness value\n",
    "                sortino_pbest=fitness\n",
    "                \n",
    "                #remembering the weights of the best portfolio\n",
    "                global_warr_sortino=weights.tolist()\n",
    "        #sortino_portfolio_return.append(returns_temp)\n",
    "        #sortino_portfolio_risk.append(volatility_temp)\n",
    "        #sortino_portfolio_soratio.append(fitness)\n",
    "        #sortino_portfolio_stockWeights.append(weights)\n",
    "    return sortino_pbest\n"
   ]
  },
  {
   "cell_type": "code",
   "execution_count": null,
   "metadata": {
    "id": "aWAFN4jOw3Wn"
   },
   "outputs": [],
   "source": [
    "#parameter values from excel sheet literature survey\n",
    "def objective(trial):\n",
    "    ITERATIONS=trial.suggest_int('ITERATIONS',2,550)\n",
    "    Q=trial.suggest_float('Q',0.0,1.0)\n",
    "    EVA_RATE=trial.suggest_float('EVA_RATE',0.00,1.00)\n",
    "    ANTS=trial.suggest_int('ANTS',2,550)\n",
    "    return antcolony_tuning_sortino(int(ITERATIONS),Q,EVA_RATE,int(ANTS))\n"
   ]
  },
  {
   "cell_type": "code",
   "execution_count": null,
   "metadata": {
    "colab": {
     "base_uri": "https://localhost:8080/"
    },
    "id": "q114MVf8w3UQ",
    "outputId": "da83de4b-ebc4-4071-ba0e-c6f2a79c7a86"
   },
   "outputs": [],
   "source": [
    "sortino_study=optuna.create_study(direction='maximize')\n",
    "sortino_study.optimize(objective,n_trials=100)"
   ]
  },
  {
   "cell_type": "code",
   "execution_count": null,
   "metadata": {
    "colab": {
     "base_uri": "https://localhost:8080/"
    },
    "id": "EIv9yt61w3SH",
    "outputId": "c911aca8-4509-4fbd-8874-1829297d58d4"
   },
   "outputs": [],
   "source": [
    "hptuning=sortino_study.trials_dataframe()\n",
    "hptuning.to_csv(\"sortino_trial0.csv\")\n",
    "best=sortino_study.best_params\n",
    "best"
   ]
  },
  {
   "cell_type": "code",
   "execution_count": null,
   "metadata": {
    "id": "ybqRRND_tKSR"
   },
   "outputs": [],
   "source": [
    "ITERATIONS=int(best['ITERATIONS'])\n",
    "Q=best['Q']\n",
    "EVA_RATE=best['EVA_RATE']\n",
    "ANTS=int(best['ANTS'])"
   ]
  },
  {
   "cell_type": "code",
   "execution_count": null,
   "metadata": {
    "id": "y8g56Q94SbpQ"
   },
   "outputs": [],
   "source": [
    "global_warr_sortino=[]\n",
    "sortino_portfolio_return=[]\n",
    "sortino_portfolio_risk=[]\n",
    "sortino_portfolio_soratio=[]\n",
    "sortino_portfolio_stockWeights=[]"
   ]
  },
  {
   "cell_type": "code",
   "execution_count": null,
   "metadata": {
    "id": "sPd1McTGspPx"
   },
   "outputs": [],
   "source": [
    "def antcolony_sortino(ITERATIONS,Q,EVA_RATE,ANTS):\n",
    "    sortino_pbest=-1\n",
    "    #Initializing sortino_pbest(the best fitness value   SHARPE)\n",
    "    #Initializing the current fitness value\n",
    "    fitness=0\n",
    "    #for each iteration\n",
    "    for iteration in range(ITERATIONS):\n",
    "        \n",
    "        #PREPARAING THE PHEROMONE MATRIX WHERE THE COLS=STOCKS AND  ROWS=ANTS\n",
    "        pheromon=[[0]*stocks for i in range(ANTS+1)]#why (ants+1)?The last ant can update the pheromone values in the last row\n",
    "        \n",
    "        # Initializing the pheromone status \n",
    "        for i in range(len(pheromon[0])):\n",
    "            pheromon[0][i]=random.randint(1,15)   #When input stocks varies, this needs to vary accordingly.(Divide number of stocks / 2)\n",
    "        \n",
    "        #copying the values and storing it in temp_pher\n",
    "        temp_pher=pheromon[0]\n",
    "        \n",
    "        #Making sure that the total amount of pheromone equals 1 \n",
    "        weights=np.array(BALANCE(temp_pher))\n",
    "        \n",
    "        #calculating annulaised portfolio return\n",
    "        returns_temp = np.sum(returnsh.mean()*weights)*trading_days \n",
    "        \n",
    "        #calculating portfolio varience wrt calculating sharpe ratio\n",
    "        varso=np.dot(weights.T,np.dot(covmatso,weights))   \n",
    "        \n",
    "        #portfolio risk\n",
    "        volatility_temp = np.sqrt(varso)      \n",
    "        \n",
    "        #Calculating fitness value(ie sortino ratio)\n",
    "        fitness = ratio(returns_temp,volatility_temp,risk_free_rate)\n",
    "        \n",
    "        #Initializing the intial fitness value as the best fitness value(sortino_pbest)\n",
    "        if sortino_pbest==-1:\n",
    "            sortino_pbest=fitness\n",
    "        \n",
    "        #list\n",
    "        path=[]\n",
    "      \n",
    "        #for each ant\n",
    "        for ant in range(ANTS-1):\n",
    "            \n",
    "            #find the total pheromone \n",
    "            total=sum(pheromon[ant])\n",
    "            \n",
    "            #Initializing probability\n",
    "            probability=pheromon[ant][:] \n",
    "            \n",
    "            #finding probability of each stocks pheromone \n",
    "            for p in range(len(probability)):\n",
    "                probability[p]=(probability[p]/total)\n",
    "                \n",
    "            #Trying to select stocks in decreasing order based on their pheromone level and storing the stock order in a list(path)\n",
    "            for stock in range(stocks):\n",
    "                select=probability.index(max(probability))\n",
    "                probability[select]=-math.inf\n",
    "                path.append(select)\n",
    "            \n",
    "            #Updating the pheromone level of each stock for the next ant \n",
    "            #Formula: old pheromone level * (1-eva_rate) + Q * (fitness/pbest) where Q is fixed amount of pheromone\n",
    "            for s in path:\n",
    "                pheromon[ant+1][s]=pheromon[ant][s]*(1-EVA_RATE)+Q*(fitness/sortino_pbest)\n",
    "            \n",
    "            \n",
    "            #making sure that the updated pheromon adds upto 1\n",
    "            temp_pher=pheromon[ant+1]\n",
    "            weights=np.array(BALANCE(temp_pher))\n",
    "            returns_temp = np.sum(returnsh.mean()*weights)*trading_days   #calculating annulaised portfolio return\n",
    "            varso=np.dot(weights.T,np.dot(covmatso,weights))              #calculating portfolio varience wrt calculating sharpe ratio\n",
    "            volatility_temp = np.sqrt(varso)                              #portfolio risk\n",
    "            fitness = ratio(returns_temp,volatility_temp,risk_free_rate)  #calculating sharpe ratio\n",
    "            \n",
    "            #comparing the old fitness value with the updated fitness value\n",
    "            # explore on scape condition paper ref\n",
    "            if(fitness>sortino_pbest):\n",
    "                \n",
    "                #if the updated fitness value is better than the previous, change sortino_pbest to present fitness value\n",
    "                sortino_pbest=fitness\n",
    "                \n",
    "                #remembering the weights of the best portfolio\n",
    "                global_warr_sortino=weights.tolist()\n",
    "            sortino_portfolio_return.append(returns_temp)\n",
    "            sortino_portfolio_risk.append(volatility_temp)\n",
    "            sortino_portfolio_soratio.append(fitness)\n",
    "            sortino_portfolio_stockWeights.append(weights)\n",
    "    return sortino_pbest\n"
   ]
  },
  {
   "cell_type": "code",
   "execution_count": null,
   "metadata": {
    "id": "FOlVoCBsw3P_"
   },
   "outputs": [],
   "source": [
    "sortino_tuned=antcolony_sortino(ITERATIONS,Q,EVA_RATE,ANTS)"
   ]
  },
  {
   "cell_type": "code",
   "execution_count": null,
   "metadata": {
    "colab": {
     "base_uri": "https://localhost:8080/"
    },
    "id": "MlnQ-ViJwMr4",
    "outputId": "496168c4-b707-49a9-d23e-cf6a02202052"
   },
   "outputs": [],
   "source": [
    "sortino_tuned"
   ]
  },
  {
   "cell_type": "code",
   "execution_count": null,
   "metadata": {
    "colab": {
     "base_uri": "https://localhost:8080/"
    },
    "id": "fBLzqoDdw3Nn",
    "outputId": "f35d02b0-9651-4f91-9fb6-db0f3bd48c3d"
   },
   "outputs": [],
   "source": [
    "sortino_portfolio = {'Returns' : sortino_portfolio_return, 'Standard Deviation' : sortino_portfolio_risk,  'Sortino Ratio' : sortino_portfolio_soratio}  \n",
    "\n",
    "for counter,symbol in enumerate(df.columns):\n",
    "  sortino_portfolio[symbol + \" Weight\"] = [Weight[counter] for Weight in sortino_portfolio_stockWeights]\n",
    "sortino_pc = pd.DataFrame(sortino_portfolio)\n",
    "sortino_optimal=sortino_pc.iloc[sortino_pc['Sortino Ratio'].idxmax()]\n",
    "sortino_optimal=pd.DataFrame(sortino_optimal)\n",
    "sortino_optimal.to_csv(\"sortino_optimal.csv\")\n",
    "sortino_optimal\n"
   ]
  },
  {
   "cell_type": "markdown",
   "metadata": {
    "id": "t69IyiAGy5tI"
   },
   "source": [
    "## not sort "
   ]
  },
  {
   "cell_type": "code",
   "execution_count": null,
   "metadata": {
    "id": "ov_yb_UOw3FZ"
   },
   "outputs": [],
   "source": [
    "sortino_unsort_top=sortino_pc.iloc[:,0:3].head(10)\n",
    "sortino_unsort_top.to_csv(\"sortino_unsort_top.csv\")"
   ]
  },
  {
   "cell_type": "code",
   "execution_count": null,
   "metadata": {
    "id": "SfJzakz-zKQ3"
   },
   "outputs": [],
   "source": [
    "sortino_unsort_top_all=sortino_pc.head(10)\n",
    "sortino_unsort_top_all.to_csv(\"sortino_unsort_top_all.csv\")"
   ]
  },
  {
   "cell_type": "code",
   "execution_count": null,
   "metadata": {
    "id": "_HEQurYqzKJp"
   },
   "outputs": [],
   "source": [
    "sortino_unsort_bottom=sortino_pc.iloc[:,0:3].tail(10)\n",
    "sortino_unsort_bottom.to_csv(\"sortino_unsort_bottom.csv\")"
   ]
  },
  {
   "cell_type": "code",
   "execution_count": null,
   "metadata": {
    "id": "CtDwcMm5zKFO"
   },
   "outputs": [],
   "source": [
    "sortino_unsort_bottom_all=sortino_pc.tail(10)\n",
    "sortino_unsort_bottom_all.to_csv(\"sortino_unsort_bottom_all.csv\")"
   ]
  },
  {
   "cell_type": "code",
   "execution_count": null,
   "metadata": {
    "id": "QPntUZC0zJ9w"
   },
   "outputs": [],
   "source": [
    "sortino_pc.to_csv('sortino_ACO_portfolio.csv')\n",
    "\n",
    "sortino_pc_sort=sortino_pc.copy()"
   ]
  },
  {
   "cell_type": "markdown",
   "metadata": {
    "id": "SEUMsz3Uzlif"
   },
   "source": [
    "## sort sortino"
   ]
  },
  {
   "cell_type": "code",
   "execution_count": null,
   "metadata": {
    "id": "-WIiV8GrznkJ"
   },
   "outputs": [],
   "source": [
    "sortino_pc_sort.sort_values(by=['Sortino Ratio'],ascending=False,inplace=True)\n",
    "sortino_pc_sort.to_csv(\"sortino_porfolio_sort.csv\")"
   ]
  },
  {
   "cell_type": "code",
   "execution_count": null,
   "metadata": {
    "colab": {
     "base_uri": "https://localhost:8080/",
     "height": 390
    },
    "id": "c6QE2ytEznbf",
    "outputId": "d33b6b54-e2e1-4665-f031-3353c1958688"
   },
   "outputs": [],
   "source": [
    "sortino_sort_top=sortino_pc_sort.iloc[1:,0:3].head(11)\n",
    "sortino_sort_top.to_csv(\"sortino_sort_top.csv\")\n",
    "sortino_sort_top"
   ]
  },
  {
   "cell_type": "code",
   "execution_count": null,
   "metadata": {
    "colab": {
     "base_uri": "https://localhost:8080/",
     "height": 427
    },
    "id": "i9JoFzyxznY3",
    "outputId": "7e093e9f-36a9-43a7-fb03-117e6853acfb"
   },
   "outputs": [],
   "source": [
    "sortino_sort_top_all=sortino_pc_sort.iloc[1:,0:].head(11)\n",
    "sortino_sort_top_all.to_csv(\"sortino_sort_top_all.csv\")\n",
    "sortino_sort_top_all"
   ]
  },
  {
   "cell_type": "code",
   "execution_count": null,
   "metadata": {
    "colab": {
     "base_uri": "https://localhost:8080/",
     "height": 359
    },
    "id": "CXeKj09vznV3",
    "outputId": "0733d9af-8307-44c4-a419-70abbbd95818"
   },
   "outputs": [],
   "source": [
    "sortino_sort_bottom=sortino_pc_sort.iloc[:,0:3].tail(10)\n",
    "sortino_sort_bottom.to_csv(\"sortino_sort_bottom.csv\")\n",
    "sortino_sort_bottom"
   ]
  },
  {
   "cell_type": "code",
   "execution_count": null,
   "metadata": {
    "colab": {
     "base_uri": "https://localhost:8080/",
     "height": 359
    },
    "id": "A9el7xkHznOf",
    "outputId": "26001122-ddc1-42ff-b5cc-4030b45b4a43"
   },
   "outputs": [],
   "source": [
    "sortino_sort_bottom_all=sortino_pc_sort.iloc[:,0:3].tail(10)\n",
    "sortino_sort_bottom_all.to_csv(\"sortino_sort_bottom_all.csv\")\n",
    "sortino_sort_bottom_all"
   ]
  },
  {
   "cell_type": "code",
   "execution_count": null,
   "metadata": {
    "id": "oSxav7O4U5qE"
   },
   "outputs": [],
   "source": [
    "\n",
    "#tables in word doc also(final table)\n"
   ]
  },
  {
   "cell_type": "code",
   "execution_count": null,
   "metadata": {
    "id": "P6bO4iFv6imK"
   },
   "outputs": [],
   "source": []
  },
  {
   "cell_type": "code",
   "execution_count": null,
   "metadata": {
    "id": "cm_OLqv2tSWx"
   },
   "outputs": [],
   "source": []
  }
 ],
 "metadata": {
  "colab": {
   "collapsed_sections": [],
   "name": "2Nov2021_ACO_Final.ipynb",
   "provenance": []
  },
  "kernelspec": {
   "display_name": "Python 3 (ipykernel)",
   "language": "python",
   "name": "python3"
  },
  "language_info": {
   "codemirror_mode": {
    "name": "ipython",
    "version": 3
   },
   "file_extension": ".py",
   "mimetype": "text/x-python",
   "name": "python",
   "nbconvert_exporter": "python",
   "pygments_lexer": "ipython3",
   "version": "3.9.6"
  }
 },
 "nbformat": 4,
 "nbformat_minor": 4
}