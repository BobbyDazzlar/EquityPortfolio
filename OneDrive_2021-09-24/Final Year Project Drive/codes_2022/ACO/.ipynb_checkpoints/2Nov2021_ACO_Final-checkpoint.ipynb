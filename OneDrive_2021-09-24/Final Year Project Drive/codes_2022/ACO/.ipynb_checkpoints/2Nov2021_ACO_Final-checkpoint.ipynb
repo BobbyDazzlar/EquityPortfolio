{
 "cells": [
  {
   "cell_type": "code",
   "execution_count": 1,
   "metadata": {
    "id": "uYLDqq786kLC"
   },
   "outputs": [
    {
     "name": "stdout",
     "output_type": "stream",
     "text": [
      "Requirement already satisfied: optuna in c:\\users\\dell\\appdata\\roaming\\python\\python39\\site-packages (2.10.0)\n",
      "Requirement already satisfied: colorlog in c:\\users\\dell\\appdata\\roaming\\python\\python39\\site-packages (from optuna) (6.5.0)\n",
      "Requirement already satisfied: scipy!=1.4.0 in c:\\users\\dell\\appdata\\local\\programs\\python\\python39\\lib\\site-packages (from optuna) (1.7.1)\n",
      "Requirement already satisfied: cmaes>=0.8.2 in c:\\users\\dell\\appdata\\roaming\\python\\python39\\site-packages (from optuna) (0.8.2)\n",
      "Requirement already satisfied: packaging>=20.0 in c:\\users\\dell\\appdata\\local\\programs\\python\\python39\\lib\\site-packages (from optuna) (21.0)\n",
      "Requirement already satisfied: PyYAML in c:\\users\\dell\\appdata\\roaming\\python\\python39\\site-packages (from optuna) (6.0)\n",
      "Requirement already satisfied: numpy in c:\\users\\dell\\appdata\\local\\programs\\python\\python39\\lib\\site-packages (from optuna) (1.19.5)\n",
      "Requirement already satisfied: cliff in c:\\users\\dell\\appdata\\roaming\\python\\python39\\site-packages (from optuna) (3.9.0)\n",
      "Requirement already satisfied: tqdm in c:\\users\\dell\\appdata\\local\\programs\\python\\python39\\lib\\site-packages (from optuna) (4.62.3)\n",
      "Requirement already satisfied: sqlalchemy>=1.1.0 in c:\\users\\dell\\appdata\\roaming\\python\\python39\\site-packages (from optuna) (1.4.26)\n",
      "Requirement already satisfied: alembic in c:\\users\\dell\\appdata\\roaming\\python\\python39\\site-packages (from optuna) (1.7.4)\n",
      "Requirement already satisfied: pyparsing>=2.0.2 in c:\\users\\dell\\appdata\\local\\programs\\python\\python39\\lib\\site-packages (from packaging>=20.0->optuna) (2.4.7)\n",
      "Requirement already satisfied: greenlet!=0.4.17 in c:\\users\\dell\\appdata\\roaming\\python\\python39\\site-packages (from sqlalchemy>=1.1.0->optuna) (1.1.2)\n",
      "Requirement already satisfied: Mako in c:\\users\\dell\\appdata\\roaming\\python\\python39\\site-packages (from alembic->optuna) (1.1.5)\n",
      "Requirement already satisfied: pbr!=2.1.0,>=2.0.0 in c:\\users\\dell\\appdata\\roaming\\python\\python39\\site-packages (from cliff->optuna) (5.6.0)\n",
      "Requirement already satisfied: autopage>=0.4.0 in c:\\users\\dell\\appdata\\roaming\\python\\python39\\site-packages (from cliff->optuna) (0.4.0)\n",
      "Requirement already satisfied: cmd2>=1.0.0 in c:\\users\\dell\\appdata\\roaming\\python\\python39\\site-packages (from cliff->optuna) (2.2.0)\n",
      "Requirement already satisfied: stevedore>=2.0.1 in c:\\users\\dell\\appdata\\roaming\\python\\python39\\site-packages (from cliff->optuna) (3.5.0)\n",
      "Requirement already satisfied: PrettyTable>=0.7.2 in c:\\users\\dell\\appdata\\roaming\\python\\python39\\site-packages (from cliff->optuna) (2.2.1)\n",
      "Requirement already satisfied: pyreadline3 in c:\\users\\dell\\appdata\\roaming\\python\\python39\\site-packages (from cmd2>=1.0.0->cliff->optuna) (3.3)\n",
      "Requirement already satisfied: wcwidth>=0.1.7 in c:\\users\\dell\\appdata\\local\\programs\\python\\python39\\lib\\site-packages (from cmd2>=1.0.0->cliff->optuna) (0.2.5)\n",
      "Requirement already satisfied: attrs>=16.3.0 in c:\\users\\dell\\appdata\\local\\programs\\python\\python39\\lib\\site-packages (from cmd2>=1.0.0->cliff->optuna) (21.2.0)\n",
      "Requirement already satisfied: colorama>=0.3.7 in c:\\users\\dell\\appdata\\local\\programs\\python\\python39\\lib\\site-packages (from cmd2>=1.0.0->cliff->optuna) (0.4.4)\n",
      "Requirement already satisfied: pyperclip>=1.6 in c:\\users\\dell\\appdata\\roaming\\python\\python39\\site-packages (from cmd2>=1.0.0->cliff->optuna) (1.8.2)\n",
      "Requirement already satisfied: MarkupSafe>=0.9.2 in c:\\users\\dell\\appdata\\local\\programs\\python\\python39\\lib\\site-packages (from Mako->alembic->optuna) (2.0.1)\n"
     ]
    },
    {
     "name": "stderr",
     "output_type": "stream",
     "text": [
      "WARNING: You are using pip version 21.1.3; however, version 21.3.1 is available.\n",
      "You should consider upgrading via the 'c:\\users\\dell\\appdata\\local\\programs\\python\\python39\\python.exe -m pip install --upgrade pip' command.\n"
     ]
    }
   ],
   "source": [
    "!pip install optuna\n",
    "#!pip install joblib"
   ]
  },
  {
   "cell_type": "code",
   "execution_count": 2,
   "metadata": {
    "id": "9Nro5RzJ6hMl",
    "pycharm": {
     "is_executing": true
    }
   },
   "outputs": [],
   "source": [
    "import optuna\n",
    "import joblib\n",
    "import pandas as pd\n",
    "import numpy as np\n",
    "import random\n",
    "import math"
   ]
  },
  {
   "cell_type": "code",
   "execution_count": 3,
   "metadata": {
    "id": "Cy-Di43uOPkW"
   },
   "outputs": [],
   "source": [
    "def BALANCE(weights):\n",
    "  #Making sure the total sum of the weights eual to 1\n",
    "  weights = [w/sum(weights) for w in weights] \n",
    "  # Making sure all weights represent proportions that add up to 1\n",
    "  return weights"
   ]
  },
  {
   "cell_type": "code",
   "execution_count": 4,
   "metadata": {
    "id": "TvMpzcufOPiU"
   },
   "outputs": [],
   "source": [
    "def ratio(a,b,c):                       \n",
    "  #function to calculate ratio i.e. \"(returns-(risk_free_rate))/deviation\"\n",
    "  #calculating sharpe ratio\n",
    "  return (a-c)/b"
   ]
  },
  {
   "cell_type": "code",
   "execution_count": 5,
   "metadata": {
    "id": "8Z4xIIVEOPf5"
   },
   "outputs": [],
   "source": [
    "def number_of_years(y):#calculates the number of years of the dataset\n",
    "  p=y.index[0]         #date of first row in the dataset (datetime format)\n",
    "  q=y.index[len(y)-1]  #date of last row in the dataset  (datetime format)\n",
    "  return ((q-p).days+1)/365"
   ]
  },
  {
   "cell_type": "code",
   "execution_count": 6,
   "metadata": {
    "id": "BGMVmkDBOPdu"
   },
   "outputs": [],
   "source": [
    "df=pd.read_csv(\"n50.csv\",parse_dates=['Date'],index_col='Date')  #Importing Dataset\n",
    "df = df.loc[\"2016-01-01\" : ]   #Since 2016-01-01, 5y(1234rows till 2020-12-31)\n",
    "tdf=df.copy()                  #deep copy\n",
    "df.reset_index(drop=True, inplace=True)\n",
    "col=list(df.columns)"
   ]
  },
  {
   "cell_type": "code",
   "execution_count": 7,
   "metadata": {
    "id": "dIqD9wxzOPbc"
   },
   "outputs": [],
   "source": [
    "trading_days=len(df)/number_of_years(tdf) "
   ]
  },
  {
   "cell_type": "code",
   "execution_count": 8,
   "metadata": {
    "id": "TLHm2sI4OPZF"
   },
   "outputs": [],
   "source": [
    "returnsh=df.pct_change()                  \n",
    "#Here, returnsh would mean return considered for sharpe ratio\n",
    "returnsh.fillna(0,inplace=True)"
   ]
  },
  {
   "cell_type": "code",
   "execution_count": 9,
   "metadata": {
    "colab": {
     "base_uri": "https://localhost:8080/",
     "height": 197
    },
    "id": "P02rmZVsYMbN",
    "outputId": "1b3b00c4-157a-4af9-80a0-111bbec30067"
   },
   "outputs": [],
   "source": [
    "returnso = returnsh.copy()  # this cell considers only NEGATIVE returns so as to calculate sortino ratio\n",
    "for cols in returnso.columns.tolist():\n",
    "  for i in range(0, len(df)):\n",
    "    if returnso[cols][i] > 0:\n",
    "      returnso[cols][i] = 0\n"
   ]
  },
  {
   "cell_type": "code",
   "execution_count": 10,
   "metadata": {
    "id": "K7eZR3WXOPWk"
   },
   "outputs": [],
   "source": [
    "covmatsh=returnsh.cov()*trading_days     \n",
    "#Annualised covariance matrix calculated wrt returnsh i.e. used to calculate sharpe ratio\n",
    "covmatso = returnso.cov() * trading_days"
   ]
  },
  {
   "cell_type": "code",
   "execution_count": 11,
   "metadata": {
    "id": "6pUgs_cIOPUM"
   },
   "outputs": [],
   "source": [
    "risk_free_rate = 0.0358 #initializing risk free rate that will be used in calculating both the ratios (absolute value)\n",
    "#referred from url: https://www.rbi.org.in/Scripts/BS_NSDPDisplay.aspx?param=4&Id=24292\n",
    "#In the above url, the 364 (1 year) day treasury bill is 3.58% , when taken absolute value => 0.0358\n",
    "# (improved)"
   ]
  },
  {
   "cell_type": "code",
   "execution_count": 12,
   "metadata": {
    "colab": {
     "base_uri": "https://localhost:8080/"
    },
    "id": "psIfrFk-OPP1",
    "outputId": "386c7e68-7d24-41b4-9f4c-dd88a74a518a"
   },
   "outputs": [
    {
     "data": {
      "text/plain": [
       "22"
      ]
     },
     "execution_count": 12,
     "metadata": {},
     "output_type": "execute_result"
    }
   ],
   "source": [
    "df\n",
    "stocks=df.shape[1]\n",
    "stocks"
   ]
  },
  {
   "cell_type": "markdown",
   "metadata": {
    "id": "9m65O3q0mlwr"
   },
   "source": [
    "# Sharpe\n"
   ]
  },
  {
   "cell_type": "code",
   "execution_count": 13,
   "metadata": {
    "id": "jPjytXKYOPFC"
   },
   "outputs": [],
   "source": [
    "def antcolony_tuning_sharpe(ITERATIONS,Q,EVA_RATE,ANTS):\n",
    "    sharpe_pbest=-1\n",
    "    #Initializing sharpe_pbest(the best fitness value   SHARPE)\n",
    "    #Initializing the current fitness value\n",
    "    fitness=0\n",
    "    #for each iteration\n",
    "    for iteration in range(ITERATIONS):\n",
    "        \n",
    "        #PREPARAING THE PHEROMONE MATRIX WHERE THE COLS=STOCKS AND  ROWS=ANTS\n",
    "        pheromon=[[0]*stocks for i in range(ANTS+1)]#why (ants+1)?The last ant can update the pheromone values in the last row\n",
    "        \n",
    "        # Initializing the pheromone status \n",
    "        for i in range(len(pheromon[0])):\n",
    "            pheromon[0][i]=random.randint(1,15)   #When input stocks varies, this needs to vary accordingly.(Divide number of stocks / 2)\n",
    "        \n",
    "        #copying the values and storing it in temp_pher\n",
    "        temp_pher=pheromon[0]\n",
    "        \n",
    "        #Making sure that the total amount of pheromone equals 1 \n",
    "        weights=np.array(BALANCE(temp_pher))\n",
    "        \n",
    "        #calculating annulaised portfolio return\n",
    "        returns_temp = np.sum(returnsh.mean()*weights)*trading_days \n",
    "        \n",
    "        #calculating portfolio varience wrt calculating sharpe ratio\n",
    "        varsh=np.dot(weights.T,np.dot(covmatsh,weights))   \n",
    "        \n",
    "        #portfolio risk\n",
    "        volatility_temp = np.sqrt(varsh)      \n",
    "        \n",
    "        #Calculating fitness value(ie sharpe ratio)\n",
    "        fitness = ratio(returns_temp,volatility_temp,risk_free_rate)\n",
    "        \n",
    "        #Initializing the intial fitness value as the best fitness value(sharpe_pbest)\n",
    "        if sharpe_pbest==-1:\n",
    "            sharpe_pbest=fitness\n",
    "        \n",
    "        #list\n",
    "        path=[]\n",
    "      \n",
    "        #for each ant\n",
    "        for ant in range(ANTS-1):\n",
    "            \n",
    "            #find the total pheromone \n",
    "            total=sum(pheromon[ant])\n",
    "            \n",
    "            #Initializing probability\n",
    "            probability=pheromon[ant][:] \n",
    "            \n",
    "            #finding probability of each stocks pheromone \n",
    "            for p in range(len(probability)):\n",
    "                probability[p]=(probability[p]/total)\n",
    "                \n",
    "            #Trying to select stocks in decreasing order based on their pheromone level and storing the stock order in a list(path)\n",
    "            for stock in range(stocks):\n",
    "                select=probability.index(max(probability))\n",
    "                probability[select]=-math.inf\n",
    "                path.append(select)\n",
    "            \n",
    "            #Updating the pheromone level of each stock for the next ant \n",
    "            #Formula: old pheromone level * (1-eva_rate) + Q * (fitness/sharpe_pbest) where Q is fixed amount of pheromone\n",
    "            for s in path:\n",
    "                pheromon[ant+1][s]=pheromon[ant][s]*(1-EVA_RATE)+Q*(fitness/sharpe_pbest)\n",
    "            \n",
    "            \n",
    "            #making sure that the updated pheromon adds upto 1\n",
    "            temp_pher=pheromon[ant+1]\n",
    "            weights=np.array(BALANCE(temp_pher))\n",
    "            returns_temp = np.sum(returnsh.mean()*weights)*trading_days   #calculating annulaised portfolio return\n",
    "            varsh=np.dot(weights.T,np.dot(covmatsh,weights))              #calculating portfolio varience wrt calculating sharpe ratio\n",
    "            volatility_temp = np.sqrt(varsh)                              #portfolio risk\n",
    "            fitness = ratio(returns_temp,volatility_temp,risk_free_rate)  #calculating sharpe ratio\n",
    "            \n",
    "            #comparing the old fitness value with the updated fitness value\n",
    "            # explore on scape condition paper ref\n",
    "            if(fitness>sharpe_pbest):\n",
    "                \n",
    "                #if the updated fitness value is better than the previous, change sharpe_pbest to present fitness value\n",
    "                sharpe_pbest=fitness\n",
    "                \n",
    "                #remembering the weights of the best portfolio\n",
    "                global_warr_sharpe=weights.tolist()\n",
    "        #sharpe_portfolio_return.append(returns_temp)\n",
    "        #sharpe_portfolio_risk.append(volatility_temp)\n",
    "        #sharpe_portfolio_shratio.append(fitness)\n",
    "        #sharpe_portfolio_stockWeights.append(weights)\n",
    "    return sharpe_pbest\n"
   ]
  },
  {
   "cell_type": "code",
   "execution_count": 14,
   "metadata": {
    "id": "6XX9KAEeOO7s"
   },
   "outputs": [],
   "source": [
    "#literature survey in excel file\n",
    "def objective(trial):\n",
    "    ITERATIONS=trial.suggest_int('ITERATIONS',2,50)\n",
    "    Q=trial.suggest_float('Q',0.0,1.0)\n",
    "    EVA_RATE=trial.suggest_float('EVA_RATE',0.00,1.00)\n",
    "    ANTS=trial.suggest_int('ANTS',2,50)\n",
    "    return antcolony_tuning_sharpe(int(ITERATIONS),Q,EVA_RATE,int(ANTS))"
   ]
  },
  {
   "cell_type": "code",
   "execution_count": 15,
   "metadata": {
    "colab": {
     "base_uri": "https://localhost:8080/"
    },
    "id": "rV1Mp3bKRTnb",
    "outputId": "40e2a321-670b-4246-d9ee-e58c3d61a7d6"
   },
   "outputs": [
    {
     "name": "stderr",
     "output_type": "stream",
     "text": [
      "\u001b[32m[I 2021-11-10 22:12:18,189]\u001b[0m A new study created in memory with name: no-name-17bbc7ee-d892-467d-a829-edbc96857a4b\u001b[0m\n",
      "\u001b[32m[I 2021-11-10 22:12:18,801]\u001b[0m Trial 0 finished with value: 1.3281239532687896 and parameters: {'ITERATIONS': 15, 'Q': 0.06845490334303184, 'EVA_RATE': 0.6002966809111031, 'ANTS': 40}. Best is trial 0 with value: 1.3281239532687896.\u001b[0m\n",
      "\u001b[32m[I 2021-11-10 22:12:18,876]\u001b[0m Trial 1 finished with value: 1.3280737693617701 and parameters: {'ITERATIONS': 7, 'Q': 0.13346737858919866, 'EVA_RATE': 0.6574429534294485, 'ANTS': 11}. Best is trial 0 with value: 1.3281239532687896.\u001b[0m\n",
      "\u001b[32m[I 2021-11-10 22:12:18,906]\u001b[0m Trial 2 finished with value: 1.3436334353419794 and parameters: {'ITERATIONS': 17, 'Q': 0.3232318069716974, 'EVA_RATE': 0.4704049108561016, 'ANTS': 2}. Best is trial 2 with value: 1.3436334353419794.\u001b[0m\n",
      "\u001b[32m[I 2021-11-10 22:12:19,018]\u001b[0m Trial 3 finished with value: 1.34094963961447 and parameters: {'ITERATIONS': 3, 'Q': 0.04313000238449549, 'EVA_RATE': 0.7787188767682985, 'ANTS': 33}. Best is trial 2 with value: 1.3436334353419794.\u001b[0m\n",
      "\u001b[32m[I 2021-11-10 22:12:19,069]\u001b[0m Trial 4 finished with value: 1.3154038081437855 and parameters: {'ITERATIONS': 29, 'Q': 0.851301029361433, 'EVA_RATE': 0.9759032723239758, 'ANTS': 2}. Best is trial 2 with value: 1.3436334353419794.\u001b[0m\n",
      "\u001b[32m[I 2021-11-10 22:12:19,741]\u001b[0m Trial 5 finished with value: 1.3551324654085095 and parameters: {'ITERATIONS': 18, 'Q': 0.2495768162268679, 'EVA_RATE': 0.1883939965384982, 'ANTS': 35}. Best is trial 5 with value: 1.3551324654085095.\u001b[0m\n",
      "\u001b[32m[I 2021-11-10 22:12:20,537]\u001b[0m Trial 6 finished with value: 1.3782785506334938 and parameters: {'ITERATIONS': 26, 'Q': 0.7272147358508196, 'EVA_RATE': 0.2198798426692803, 'ANTS': 33}. Best is trial 6 with value: 1.3782785506334938.\u001b[0m\n",
      "\u001b[32m[I 2021-11-10 22:12:21,000]\u001b[0m Trial 7 finished with value: 1.3505583738926064 and parameters: {'ITERATIONS': 37, 'Q': 0.5995353273642936, 'EVA_RATE': 0.01160711878085785, 'ANTS': 15}. Best is trial 6 with value: 1.3782785506334938.\u001b[0m\n",
      "\u001b[32m[I 2021-11-10 22:12:21,215]\u001b[0m Trial 8 finished with value: 1.353299012021152 and parameters: {'ITERATIONS': 38, 'Q': 0.6149598893864144, 'EVA_RATE': 0.5043507063471623, 'ANTS': 7}. Best is trial 6 with value: 1.3782785506334938.\u001b[0m\n",
      "\u001b[32m[I 2021-11-10 22:12:22,965]\u001b[0m Trial 9 finished with value: 1.3496037616741177 and parameters: {'ITERATIONS': 49, 'Q': 0.42802800193657076, 'EVA_RATE': 0.2428378055872369, 'ANTS': 36}. Best is trial 6 with value: 1.3782785506334938.\u001b[0m\n",
      "\u001b[32m[I 2021-11-10 22:12:24,575]\u001b[0m Trial 10 finished with value: 1.3769170782665132 and parameters: {'ITERATIONS': 30, 'Q': 0.9873519866960232, 'EVA_RATE': 0.2996253990943693, 'ANTS': 49}. Best is trial 6 with value: 1.3782785506334938.\u001b[0m\n",
      "\u001b[32m[I 2021-11-10 22:12:26,025]\u001b[0m Trial 11 finished with value: 1.367411264709015 and parameters: {'ITERATIONS': 28, 'Q': 0.9988978593097814, 'EVA_RATE': 0.29676529283607456, 'ANTS': 47}. Best is trial 6 with value: 1.3782785506334938.\u001b[0m\n",
      "\u001b[32m[I 2021-11-10 22:12:26,681]\u001b[0m Trial 12 finished with value: 1.3449034115324174 and parameters: {'ITERATIONS': 35, 'Q': 0.8015357038840951, 'EVA_RATE': 0.04707695783195992, 'ANTS': 21}. Best is trial 6 with value: 1.3782785506334938.\u001b[0m\n",
      "\u001b[32m[I 2021-11-10 22:12:27,975]\u001b[0m Trial 13 finished with value: 1.3400192650098115 and parameters: {'ITERATIONS': 24, 'Q': 0.9898598806195997, 'EVA_RATE': 0.38510887671324945, 'ANTS': 50}. Best is trial 6 with value: 1.3782785506334938.\u001b[0m\n",
      "\u001b[32m[I 2021-11-10 22:12:29,098]\u001b[0m Trial 14 finished with value: 1.362128713551369 and parameters: {'ITERATIONS': 48, 'Q': 0.7837346851376368, 'EVA_RATE': 0.15360669199685334, 'ANTS': 25}. Best is trial 6 with value: 1.3782785506334938.\u001b[0m\n",
      "\u001b[32m[I 2021-11-10 22:12:30,120]\u001b[0m Trial 15 finished with value: 1.3378124275232746 and parameters: {'ITERATIONS': 24, 'Q': 0.6786019897999772, 'EVA_RATE': 0.33019075030091993, 'ANTS': 42}. Best is trial 6 with value: 1.3782785506334938.\u001b[0m\n",
      "\u001b[32m[I 2021-11-10 22:12:31,296]\u001b[0m Trial 16 finished with value: 1.3540055031422626 and parameters: {'ITERATIONS': 43, 'Q': 0.879766653480802, 'EVA_RATE': 0.1505673415157446, 'ANTS': 30}. Best is trial 6 with value: 1.3782785506334938.\u001b[0m\n",
      "\u001b[32m[I 2021-11-10 22:12:32,844]\u001b[0m Trial 17 finished with value: 1.351536132739311 and parameters: {'ITERATIONS': 33, 'Q': 0.7239799088659495, 'EVA_RATE': 0.4235380006369887, 'ANTS': 44}. Best is trial 6 with value: 1.3782785506334938.\u001b[0m\n",
      "\u001b[32m[I 2021-11-10 22:12:33,270]\u001b[0m Trial 18 finished with value: 1.366156538979179 and parameters: {'ITERATIONS': 22, 'Q': 0.500699214604893, 'EVA_RATE': 0.10241336633385131, 'ANTS': 22}. Best is trial 6 with value: 1.3782785506334938.\u001b[0m\n",
      "\u001b[32m[I 2021-11-10 22:12:33,555]\u001b[0m Trial 19 finished with value: 1.3395924935887233 and parameters: {'ITERATIONS': 11, 'Q': 0.9185039644533856, 'EVA_RATE': 0.2624681512517454, 'ANTS': 28}. Best is trial 6 with value: 1.3782785506334938.\u001b[0m\n",
      "\u001b[32m[I 2021-11-10 22:12:35,111]\u001b[0m Trial 20 finished with value: 1.350947298097964 and parameters: {'ITERATIONS': 42, 'Q': 0.5267893676543854, 'EVA_RATE': 0.5650228284836316, 'ANTS': 38}. Best is trial 6 with value: 1.3782785506334938.\u001b[0m\n",
      "\u001b[32m[I 2021-11-10 22:12:36,647]\u001b[0m Trial 21 finished with value: 1.3415440749764245 and parameters: {'ITERATIONS': 29, 'Q': 0.9866299547435224, 'EVA_RATE': 0.3102106436416755, 'ANTS': 50}. Best is trial 6 with value: 1.3782785506334938.\u001b[0m\n",
      "\u001b[32m[I 2021-11-10 22:12:38,138]\u001b[0m Trial 22 finished with value: 1.3551002133286552 and parameters: {'ITERATIONS': 30, 'Q': 0.9267311697272795, 'EVA_RATE': 0.35538108937092006, 'ANTS': 46}. Best is trial 6 with value: 1.3782785506334938.\u001b[0m\n",
      "\u001b[32m[I 2021-11-10 22:12:39,055]\u001b[0m Trial 23 finished with value: 1.3294392503406802 and parameters: {'ITERATIONS': 20, 'Q': 0.7647541497814193, 'EVA_RATE': 0.2116011890463877, 'ANTS': 46}. Best is trial 6 with value: 1.3782785506334938.\u001b[0m\n",
      "\u001b[32m[I 2021-11-10 22:12:40,310]\u001b[0m Trial 24 finished with value: 1.3464183912055316 and parameters: {'ITERATIONS': 26, 'Q': 0.9919206497550964, 'EVA_RATE': 0.2800797080782406, 'ANTS': 47}. Best is trial 6 with value: 1.3782785506334938.\u001b[0m\n",
      "\u001b[32m[I 2021-11-10 22:12:41,579]\u001b[0m Trial 25 finished with value: 1.3336976337527768 and parameters: {'ITERATIONS': 32, 'Q': 0.8590919911883863, 'EVA_RATE': 0.11155230135311789, 'ANTS': 41}. Best is trial 6 with value: 1.3782785506334938.\u001b[0m\n",
      "\u001b[32m[I 2021-11-10 22:12:42,385]\u001b[0m Trial 26 finished with value: 1.354220085930725 and parameters: {'ITERATIONS': 27, 'Q': 0.6290162972052238, 'EVA_RATE': 0.40013550093004907, 'ANTS': 32}. Best is trial 6 with value: 1.3782785506334938.\u001b[0m\n",
      "\u001b[32m[I 2021-11-10 22:12:42,918]\u001b[0m Trial 27 finished with value: 1.3413780231816819 and parameters: {'ITERATIONS': 14, 'Q': 0.7173536474652218, 'EVA_RATE': 0.4871599057784167, 'ANTS': 39}. Best is trial 6 with value: 1.3782785506334938.\u001b[0m\n",
      "\u001b[32m[I 2021-11-10 22:12:44,629]\u001b[0m Trial 28 finished with value: 1.3375619255931501 and parameters: {'ITERATIONS': 33, 'Q': 0.91832686770478, 'EVA_RATE': 0.22623723162474974, 'ANTS': 50}. Best is trial 6 with value: 1.3782785506334938.\u001b[0m\n",
      "\u001b[32m[I 2021-11-10 22:12:46,301]\u001b[0m Trial 29 finished with value: 1.3538389874387255 and parameters: {'ITERATIONS': 40, 'Q': 0.8286887428005109, 'EVA_RATE': 0.629293973173704, 'ANTS': 43}. Best is trial 6 with value: 1.3782785506334938.\u001b[0m\n",
      "\u001b[32m[I 2021-11-10 22:12:46,602]\u001b[0m Trial 30 finished with value: 1.3689323509694025 and parameters: {'ITERATIONS': 21, 'Q': 0.40956458038962107, 'EVA_RATE': 0.07897555717409283, 'ANTS': 17}. Best is trial 6 with value: 1.3782785506334938.\u001b[0m\n",
      "\u001b[32m[I 2021-11-10 22:12:46,927]\u001b[0m Trial 31 finished with value: 1.345445758216371 and parameters: {'ITERATIONS': 22, 'Q': 0.39573542395793093, 'EVA_RATE': 0.06816764894115854, 'ANTS': 17}. Best is trial 6 with value: 1.3782785506334938.\u001b[0m\n",
      "\u001b[32m[I 2021-11-10 22:12:47,094]\u001b[0m Trial 32 finished with value: 1.3242273920006313 and parameters: {'ITERATIONS': 12, 'Q': 0.270838912446433, 'EVA_RATE': 0.15141414486828964, 'ANTS': 16}. Best is trial 6 with value: 1.3782785506334938.\u001b[0m\n",
      "\u001b[32m[I 2021-11-10 22:12:47,328]\u001b[0m Trial 33 finished with value: 1.3518172896573493 and parameters: {'ITERATIONS': 26, 'Q': 0.17742452577094708, 'EVA_RATE': 0.004507482251133815, 'ANTS': 11}. Best is trial 6 with value: 1.3782785506334938.\u001b[0m\n"
     ]
    },
    {
     "name": "stderr",
     "output_type": "stream",
     "text": [
      "\u001b[32m[I 2021-11-10 22:12:47,697]\u001b[0m Trial 34 finished with value: 1.35524099054157 and parameters: {'ITERATIONS': 17, 'Q': 0.3161469740507694, 'EVA_RATE': 0.29257594300718415, 'ANTS': 24}. Best is trial 6 with value: 1.3782785506334938.\u001b[0m\n",
      "\u001b[32m[I 2021-11-10 22:12:48,035]\u001b[0m Trial 35 finished with value: 1.3743449529056349 and parameters: {'ITERATIONS': 20, 'Q': 0.4140803944218825, 'EVA_RATE': 0.7166207985644114, 'ANTS': 19}. Best is trial 6 with value: 1.3782785506334938.\u001b[0m\n",
      "\u001b[32m[I 2021-11-10 22:12:48,160]\u001b[0m Trial 36 finished with value: 1.3484527375976967 and parameters: {'ITERATIONS': 7, 'Q': 0.3655090773055698, 'EVA_RATE': 0.8434622533967789, 'ANTS': 19}. Best is trial 6 with value: 1.3782785506334938.\u001b[0m\n",
      "\u001b[32m[I 2021-11-10 22:12:48,338]\u001b[0m Trial 37 finished with value: 1.355253866003212 and parameters: {'ITERATIONS': 19, 'Q': 0.45600401936970636, 'EVA_RATE': 0.7208018184146419, 'ANTS': 11}. Best is trial 6 with value: 1.3782785506334938.\u001b[0m\n",
      "\u001b[32m[I 2021-11-10 22:12:48,504]\u001b[0m Trial 38 finished with value: 1.346376955619537 and parameters: {'ITERATIONS': 15, 'Q': 0.5527316387266292, 'EVA_RATE': 0.9664425786842246, 'ANTS': 13}. Best is trial 6 with value: 1.3782785506334938.\u001b[0m\n",
      "\u001b[32m[I 2021-11-10 22:12:48,611]\u001b[0m Trial 39 finished with value: 1.364221771839875 and parameters: {'ITERATIONS': 21, 'Q': 0.08914690286519072, 'EVA_RATE': 0.5468477400301205, 'ANTS': 6}. Best is trial 6 with value: 1.3782785506334938.\u001b[0m\n",
      "\u001b[32m[I 2021-11-10 22:12:49,004]\u001b[0m Trial 40 finished with value: 1.3469300859056936 and parameters: {'ITERATIONS': 24, 'Q': 0.19565766380544364, 'EVA_RATE': 0.6892630488770871, 'ANTS': 19}. Best is trial 6 with value: 1.3782785506334938.\u001b[0m\n",
      "\u001b[32m[I 2021-11-10 22:12:49,684]\u001b[0m Trial 41 finished with value: 1.332186010831557 and parameters: {'ITERATIONS': 28, 'Q': 0.44212379289082887, 'EVA_RATE': 0.8420532505541907, 'ANTS': 27}. Best is trial 6 with value: 1.3782785506334938.\u001b[0m\n",
      "\u001b[32m[I 2021-11-10 22:12:50,614]\u001b[0m Trial 42 finished with value: 1.3500092785025648 and parameters: {'ITERATIONS': 30, 'Q': 0.33210122603318915, 'EVA_RATE': 0.43778863168538146, 'ANTS': 33}. Best is trial 6 with value: 1.3782785506334938.\u001b[0m\n",
      "\u001b[32m[I 2021-11-10 22:12:51,325]\u001b[0m Trial 43 finished with value: 1.373295782578543 and parameters: {'ITERATIONS': 35, 'Q': 0.5774033375431866, 'EVA_RATE': 0.05334717961618392, 'ANTS': 22}. Best is trial 6 with value: 1.3782785506334938.\u001b[0m\n",
      "\u001b[32m[I 2021-11-10 22:12:52,030]\u001b[0m Trial 44 finished with value: 1.370007164038822 and parameters: {'ITERATIONS': 36, 'Q': 0.5810409228365474, 'EVA_RATE': 0.058628870201398786, 'ANTS': 22}. Best is trial 6 with value: 1.3782785506334938.\u001b[0m\n",
      "\u001b[32m[I 2021-11-10 22:12:52,768]\u001b[0m Trial 45 finished with value: 1.3653025942538821 and parameters: {'ITERATIONS': 38, 'Q': 0.5752170136426699, 'EVA_RATE': 0.18565016213143254, 'ANTS': 22}. Best is trial 6 with value: 1.3782785506334938.\u001b[0m\n",
      "\u001b[32m[I 2021-11-10 22:12:53,643]\u001b[0m Trial 46 finished with value: 1.3366172204755764 and parameters: {'ITERATIONS': 34, 'Q': 0.6412438457969565, 'EVA_RATE': 0.0027943514032640615, 'ANTS': 29}. Best is trial 6 with value: 1.3782785506334938.\u001b[0m\n",
      "\u001b[32m[I 2021-11-10 22:12:54,386]\u001b[0m Trial 47 finished with value: 1.3274079406306136 and parameters: {'ITERATIONS': 36, 'Q': 0.6626020932902993, 'EVA_RATE': 0.05291661387935809, 'ANTS': 24}. Best is trial 6 with value: 1.3782785506334938.\u001b[0m\n",
      "\u001b[32m[I 2021-11-10 22:12:55,111]\u001b[0m Trial 48 finished with value: 1.346624111151516 and parameters: {'ITERATIONS': 46, 'Q': 0.5762679402730423, 'EVA_RATE': 0.1170109505166427, 'ANTS': 19}. Best is trial 6 with value: 1.3782785506334938.\u001b[0m\n",
      "\u001b[32m[I 2021-11-10 22:12:56,150]\u001b[0m Trial 49 finished with value: 1.3835237031636465 and parameters: {'ITERATIONS': 31, 'Q': 0.4971980171907631, 'EVA_RATE': 0.1616899488733872, 'ANTS': 36}. Best is trial 49 with value: 1.3835237031636465.\u001b[0m\n",
      "\u001b[32m[I 2021-11-10 22:12:57,223]\u001b[0m Trial 50 finished with value: 1.3452008124561419 and parameters: {'ITERATIONS': 32, 'Q': 0.48128303307807474, 'EVA_RATE': 0.17477117648978557, 'ANTS': 36}. Best is trial 49 with value: 1.3835237031636465.\u001b[0m\n",
      "\u001b[32m[I 2021-11-10 22:12:58,145]\u001b[0m Trial 51 finished with value: 1.3573524069227954 and parameters: {'ITERATIONS': 40, 'Q': 0.519190340811692, 'EVA_RATE': 0.2308867383993404, 'ANTS': 26}. Best is trial 49 with value: 1.3835237031636465.\u001b[0m\n",
      "\u001b[32m[I 2021-11-10 22:12:58,705]\u001b[0m Trial 52 finished with value: 1.3728049192533323 and parameters: {'ITERATIONS': 31, 'Q': 0.7147973733416891, 'EVA_RATE': 0.045452766300164635, 'ANTS': 21}. Best is trial 49 with value: 1.3835237031636465.\u001b[0m\n",
      "\u001b[32m[I 2021-11-10 22:12:59,577]\u001b[0m Trial 53 finished with value: 1.3488951944994856 and parameters: {'ITERATIONS': 30, 'Q': 0.7081764178559363, 'EVA_RATE': 0.1409493964371536, 'ANTS': 32}. Best is trial 49 with value: 1.3835237031636465.\u001b[0m\n",
      "\u001b[32m[I 2021-11-10 22:13:00,460]\u001b[0m Trial 54 finished with value: 1.3469165964681113 and parameters: {'ITERATIONS': 25, 'Q': 0.7599335927502733, 'EVA_RATE': 0.035513167353601854, 'ANTS': 34}. Best is trial 49 with value: 1.3835237031636465.\u001b[0m\n",
      "\u001b[32m[I 2021-11-10 22:13:01,306]\u001b[0m Trial 55 finished with value: 1.3275960899155366 and parameters: {'ITERATIONS': 31, 'Q': 0.8041486838342475, 'EVA_RATE': 0.3483713376413305, 'ANTS': 30}. Best is trial 49 with value: 1.3835237031636465.\u001b[0m\n",
      "\u001b[32m[I 2021-11-10 22:13:01,811]\u001b[0m Trial 56 finished with value: 1.3916986016880757 and parameters: {'ITERATIONS': 28, 'Q': 0.6833271649085786, 'EVA_RATE': 0.10723640917536874, 'ANTS': 20}. Best is trial 56 with value: 1.3916986016880757.\u001b[0m\n",
      "\u001b[32m[I 2021-11-10 22:13:02,995]\u001b[0m Trial 57 finished with value: 1.3473913307588763 and parameters: {'ITERATIONS': 34, 'Q': 0.6797613428253638, 'EVA_RATE': 0.20024660250722898, 'ANTS': 36}. Best is trial 56 with value: 1.3916986016880757.\u001b[0m\n",
      "\u001b[32m[I 2021-11-10 22:13:03,269]\u001b[0m Trial 58 finished with value: 1.35978846180806 and parameters: {'ITERATIONS': 23, 'Q': 0.48884292678257046, 'EVA_RATE': 0.2615225228755584, 'ANTS': 13}. Best is trial 56 with value: 1.3916986016880757.\u001b[0m\n",
      "\u001b[32m[I 2021-11-10 22:13:03,886]\u001b[0m Trial 59 finished with value: 1.3512731929811272 and parameters: {'ITERATIONS': 28, 'Q': 0.6166021945611297, 'EVA_RATE': 0.10095305651470193, 'ANTS': 24}. Best is trial 56 with value: 1.3916986016880757.\u001b[0m\n",
      "\u001b[32m[I 2021-11-10 22:13:04,629]\u001b[0m Trial 60 finished with value: 1.3474302699731007 and parameters: {'ITERATIONS': 26, 'Q': 0.5457103565249435, 'EVA_RATE': 0.13375406099573112, 'ANTS': 30}. Best is trial 56 with value: 1.3916986016880757.\u001b[0m\n",
      "\u001b[32m[I 2021-11-10 22:13:05,189]\u001b[0m Trial 61 finished with value: 1.3454981193096196 and parameters: {'ITERATIONS': 32, 'Q': 0.7334348991173812, 'EVA_RATE': 0.09767615222897245, 'ANTS': 20}. Best is trial 56 with value: 1.3916986016880757.\u001b[0m\n",
      "\u001b[32m[I 2021-11-10 22:13:05,512]\u001b[0m Trial 62 finished with value: 1.3564774034112632 and parameters: {'ITERATIONS': 28, 'Q': 0.003584057451776146, 'EVA_RATE': 0.027309421763914432, 'ANTS': 14}. Best is trial 56 with value: 1.3916986016880757.\u001b[0m\n",
      "\u001b[32m[I 2021-11-10 22:13:06,784]\u001b[0m Trial 63 finished with value: 1.3311093748262175 and parameters: {'ITERATIONS': 35, 'Q': 0.6795249660790187, 'EVA_RATE': 0.18917613448509246, 'ANTS': 38}. Best is trial 56 with value: 1.3916986016880757.\u001b[0m\n",
      "\u001b[32m[I 2021-11-10 22:13:07,345]\u001b[0m Trial 64 finished with value: 1.3648853144787219 and parameters: {'ITERATIONS': 31, 'Q': 0.8839505186465594, 'EVA_RATE': 0.07774721914501405, 'ANTS': 21}. Best is trial 56 with value: 1.3916986016880757.\u001b[0m\n",
      "\u001b[32m[I 2021-11-10 22:13:08,250]\u001b[0m Trial 65 finished with value: 1.3473522500131323 and parameters: {'ITERATIONS': 39, 'Q': 0.6448088811467572, 'EVA_RATE': 0.15586877287532114, 'ANTS': 26}. Best is trial 56 with value: 1.3916986016880757.\u001b[0m\n",
      "\u001b[32m[I 2021-11-10 22:13:08,671]\u001b[0m Trial 66 finished with value: 1.3755853843947212 and parameters: {'ITERATIONS': 29, 'Q': 0.6046612924752952, 'EVA_RATE': 0.248154608853214, 'ANTS': 17}. Best is trial 56 with value: 1.3916986016880757.\u001b[0m\n",
      "\u001b[32m[I 2021-11-10 22:13:09,044]\u001b[0m Trial 67 finished with value: 1.3325584014627105 and parameters: {'ITERATIONS': 25, 'Q': 0.9506643486455679, 'EVA_RATE': 0.31251727764116266, 'ANTS': 17}. Best is trial 56 with value: 1.3916986016880757.\u001b[0m\n"
     ]
    },
    {
     "name": "stderr",
     "output_type": "stream",
     "text": [
      "\u001b[32m[I 2021-11-10 22:13:09,206]\u001b[0m Trial 68 finished with value: 1.3672213634466204 and parameters: {'ITERATIONS': 23, 'Q': 0.603835574510261, 'EVA_RATE': 0.2502460486428201, 'ANTS': 8}. Best is trial 56 with value: 1.3916986016880757.\u001b[0m\n",
      "\u001b[32m[I 2021-11-10 22:13:10,361]\u001b[0m Trial 69 finished with value: 1.3411776664474293 and parameters: {'ITERATIONS': 29, 'Q': 0.45716067331726323, 'EVA_RATE': 0.5276527027635418, 'ANTS': 40}. Best is trial 56 with value: 1.3916986016880757.\u001b[0m\n",
      "\u001b[32m[I 2021-11-10 22:13:11,313]\u001b[0m Trial 70 finished with value: 1.3350794128193646 and parameters: {'ITERATIONS': 19, 'Q': 0.5277661424069687, 'EVA_RATE': 0.7624861768507214, 'ANTS': 48}. Best is trial 56 with value: 1.3916986016880757.\u001b[0m\n",
      "\u001b[32m[I 2021-11-10 22:13:11,878]\u001b[0m Trial 71 finished with value: 1.3575684183201235 and parameters: {'ITERATIONS': 27, 'Q': 0.7553159108500076, 'EVA_RATE': 0.23172705876334787, 'ANTS': 23}. Best is trial 56 with value: 1.3916986016880757.\u001b[0m\n",
      "\u001b[32m[I 2021-11-10 22:13:12,476]\u001b[0m Trial 72 finished with value: 1.3510734406068574 and parameters: {'ITERATIONS': 33, 'Q': 0.7039332054287633, 'EVA_RATE': 0.5872488461442256, 'ANTS': 18}. Best is trial 56 with value: 1.3916986016880757.\u001b[0m\n",
      "\u001b[32m[I 2021-11-10 22:13:12,532]\u001b[0m Trial 73 finished with value: 1.3287102731288416 and parameters: {'ITERATIONS': 2, 'Q': 0.823557622538349, 'EVA_RATE': 0.1698970571181314, 'ANTS': 21}. Best is trial 56 with value: 1.3916986016880757.\u001b[0m\n",
      "\u001b[32m[I 2021-11-10 22:13:12,991]\u001b[0m Trial 74 finished with value: 1.3830325857346915 and parameters: {'ITERATIONS': 30, 'Q': 0.5531513405189128, 'EVA_RATE': 0.1221221978687482, 'ANTS': 15}. Best is trial 56 with value: 1.3916986016880757.\u001b[0m\n",
      "\u001b[32m[I 2021-11-10 22:13:13,424]\u001b[0m Trial 75 finished with value: 1.3523543927021522 and parameters: {'ITERATIONS': 29, 'Q': 0.39946804686233595, 'EVA_RATE': 0.21106885234641962, 'ANTS': 15}. Best is trial 56 with value: 1.3916986016880757.\u001b[0m\n",
      "\u001b[32m[I 2021-11-10 22:13:13,732]\u001b[0m Trial 76 finished with value: 1.3442110242581666 and parameters: {'ITERATIONS': 34, 'Q': 0.5565205024050632, 'EVA_RATE': 0.12483664507588077, 'ANTS': 10}. Best is trial 56 with value: 1.3916986016880757.\u001b[0m\n",
      "\u001b[32m[I 2021-11-10 22:13:14,111]\u001b[0m Trial 77 finished with value: 1.3184168581874016 and parameters: {'ITERATIONS': 27, 'Q': 0.47951737251959564, 'EVA_RATE': 0.3659815998817004, 'ANTS': 15}. Best is trial 56 with value: 1.3916986016880757.\u001b[0m\n",
      "\u001b[32m[I 2021-11-10 22:13:15,740]\u001b[0m Trial 78 finished with value: 1.335128493724612 and parameters: {'ITERATIONS': 36, 'Q': 0.5154606350912597, 'EVA_RATE': 0.9276490075130047, 'ANTS': 43}. Best is trial 56 with value: 1.3916986016880757.\u001b[0m\n",
      "\u001b[32m[I 2021-11-10 22:13:16,085]\u001b[0m Trial 79 finished with value: 1.321898347118711 and parameters: {'ITERATIONS': 25, 'Q': 0.3751934777608609, 'EVA_RATE': 0.27567764806967715, 'ANTS': 16}. Best is trial 56 with value: 1.3916986016880757.\u001b[0m\n",
      "\u001b[32m[I 2021-11-10 22:13:16,754]\u001b[0m Trial 80 finished with value: 1.3444701340491656 and parameters: {'ITERATIONS': 42, 'Q': 0.5899428970280111, 'EVA_RATE': 0.32945874095967187, 'ANTS': 18}. Best is trial 56 with value: 1.3916986016880757.\u001b[0m\n",
      "\u001b[32m[I 2021-11-10 22:13:17,301]\u001b[0m Trial 81 finished with value: 1.3668266723399758 and parameters: {'ITERATIONS': 31, 'Q': 0.6386136156872524, 'EVA_RATE': 0.07451735976990881, 'ANTS': 20}. Best is trial 56 with value: 1.3916986016880757.\u001b[0m\n",
      "\u001b[32m[I 2021-11-10 22:13:17,831]\u001b[0m Trial 82 finished with value: 1.3603315192424046 and parameters: {'ITERATIONS': 30, 'Q': 0.6180177053035552, 'EVA_RATE': 0.033298049423701515, 'ANTS': 20}. Best is trial 56 with value: 1.3916986016880757.\u001b[0m\n",
      "\u001b[32m[I 2021-11-10 22:13:18,524]\u001b[0m Trial 83 finished with value: 1.3389181166990116 and parameters: {'ITERATIONS': 32, 'Q': 0.6696142352516511, 'EVA_RATE': 0.0999634666089578, 'ANTS': 25}. Best is trial 56 with value: 1.3916986016880757.\u001b[0m\n",
      "\u001b[32m[I 2021-11-10 22:13:19,110]\u001b[0m Trial 84 finished with value: 1.3434417131682719 and parameters: {'ITERATIONS': 29, 'Q': 0.4184037815024452, 'EVA_RATE': 0.46567463572689005, 'ANTS': 23}. Best is trial 56 with value: 1.3916986016880757.\u001b[0m\n",
      "\u001b[32m[I 2021-11-10 22:13:20,738]\u001b[0m Trial 85 finished with value: 1.3199597589238725 and parameters: {'ITERATIONS': 37, 'Q': 0.7416947940639512, 'EVA_RATE': 0.16066565100975844, 'ANTS': 45}. Best is trial 56 with value: 1.3916986016880757.\u001b[0m\n",
      "\u001b[32m[I 2021-11-10 22:13:21,033]\u001b[0m Trial 86 finished with value: 1.352924056532298 and parameters: {'ITERATIONS': 27, 'Q': 0.7861680141557216, 'EVA_RATE': 0.654048593877436, 'ANTS': 13}. Best is trial 56 with value: 1.3916986016880757.\u001b[0m\n",
      "\u001b[32m[I 2021-11-10 22:13:21,497]\u001b[0m Trial 87 finished with value: 1.3649934278738776 and parameters: {'ITERATIONS': 33, 'Q': 0.6943459941931067, 'EVA_RATE': 0.20745048074689287, 'ANTS': 17}. Best is trial 56 with value: 1.3916986016880757.\u001b[0m\n",
      "\u001b[32m[I 2021-11-10 22:13:22,264]\u001b[0m Trial 88 finished with value: 1.3353284430839019 and parameters: {'ITERATIONS': 31, 'Q': 0.5531184118975442, 'EVA_RATE': 0.05983422178012113, 'ANTS': 27}. Best is trial 56 with value: 1.3916986016880757.\u001b[0m\n",
      "\u001b[32m[I 2021-11-10 22:13:22,821]\u001b[0m Trial 89 finished with value: 1.3714218001074516 and parameters: {'ITERATIONS': 35, 'Q': 0.4564248239298779, 'EVA_RATE': 0.12763334649661612, 'ANTS': 18}. Best is trial 56 with value: 1.3916986016880757.\u001b[0m\n",
      "\u001b[32m[I 2021-11-10 22:13:23,405]\u001b[0m Trial 90 finished with value: 1.343666219814058 and parameters: {'ITERATIONS': 16, 'Q': 0.5918797291211697, 'EVA_RATE': 0.0909430654905248, 'ANTS': 38}. Best is trial 56 with value: 1.3916986016880757.\u001b[0m\n",
      "\u001b[32m[I 2021-11-10 22:13:24,026]\u001b[0m Trial 91 finished with value: 1.3609696054165332 and parameters: {'ITERATIONS': 34, 'Q': 0.46087466083896894, 'EVA_RATE': 0.1260016917607286, 'ANTS': 21}. Best is trial 56 with value: 1.3916986016880757.\u001b[0m\n",
      "\u001b[32m[I 2021-11-10 22:13:24,667]\u001b[0m Trial 92 finished with value: 1.3641554660891997 and parameters: {'ITERATIONS': 38, 'Q': 0.5119535685263512, 'EVA_RATE': 0.022851418056252404, 'ANTS': 18}. Best is trial 56 with value: 1.3916986016880757.\u001b[0m\n",
      "\u001b[32m[I 2021-11-10 22:13:25,131]\u001b[0m Trial 93 finished with value: 1.368111076412019 and parameters: {'ITERATIONS': 35, 'Q': 0.4326942077272639, 'EVA_RATE': 0.13980738314008725, 'ANTS': 16}. Best is trial 56 with value: 1.3916986016880757.\u001b[0m\n",
      "\u001b[32m[I 2021-11-10 22:13:25,777]\u001b[0m Trial 94 finished with value: 1.3405897765597354 and parameters: {'ITERATIONS': 30, 'Q': 0.3345689958301308, 'EVA_RATE': 0.18211835099128226, 'ANTS': 23}. Best is trial 56 with value: 1.3916986016880757.\u001b[0m\n",
      "\u001b[32m[I 2021-11-10 22:13:26,220]\u001b[0m Trial 95 finished with value: 1.3697913999816584 and parameters: {'ITERATIONS': 26, 'Q': 0.6560699360992805, 'EVA_RATE': 0.05570374742038166, 'ANTS': 19}. Best is trial 56 with value: 1.3916986016880757.\u001b[0m\n",
      "\u001b[32m[I 2021-11-10 22:13:26,555]\u001b[0m Trial 96 finished with value: 1.352419798605581 and parameters: {'ITERATIONS': 33, 'Q': 0.5369101585130427, 'EVA_RATE': 0.24097212328652107, 'ANTS': 12}. Best is trial 56 with value: 1.3916986016880757.\u001b[0m\n",
      "\u001b[32m[I 2021-11-10 22:13:26,908]\u001b[0m Trial 97 finished with value: 1.3567914087336095 and parameters: {'ITERATIONS': 28, 'Q': 0.36754600661232995, 'EVA_RATE': 0.11846285587907328, 'ANTS': 14}. Best is trial 56 with value: 1.3916986016880757.\u001b[0m\n",
      "\u001b[32m[I 2021-11-10 22:13:27,342]\u001b[0m Trial 98 finished with value: 1.3595787690332397 and parameters: {'ITERATIONS': 23, 'Q': 0.5612795364607963, 'EVA_RATE': 0.2882608841635019, 'ANTS': 21}. Best is trial 56 with value: 1.3916986016880757.\u001b[0m\n",
      "\u001b[32m[I 2021-11-10 22:13:27,918]\u001b[0m Trial 99 finished with value: 1.334750970771327 and parameters: {'ITERATIONS': 21, 'Q': 0.4837080073038966, 'EVA_RATE': 0.07778486846229875, 'ANTS': 28}. Best is trial 56 with value: 1.3916986016880757.\u001b[0m\n"
     ]
    }
   ],
   "source": [
    "sharpe_study=optuna.create_study(direction='maximize')\n",
    "sharpe_study.optimize(objective,n_trials=100)"
   ]
  },
  {
   "cell_type": "code",
   "execution_count": 16,
   "metadata": {
    "colab": {
     "base_uri": "https://localhost:8080/"
    },
    "id": "_3mk8pPPRTlO",
    "outputId": "ec6211c3-8984-4020-e340-cc9d1576b7c9"
   },
   "outputs": [
    {
     "data": {
      "text/plain": [
       "{'ITERATIONS': 28,\n",
       " 'Q': 0.6833271649085786,\n",
       " 'EVA_RATE': 0.10723640917536874,\n",
       " 'ANTS': 20}"
      ]
     },
     "execution_count": 16,
     "metadata": {},
     "output_type": "execute_result"
    }
   ],
   "source": [
    "sh_hptuning=sharpe_study.trials_dataframe()\n",
    "sh_hptuning.to_csv(\"sharpe_trial0.csv\")\n",
    "best=sharpe_study.best_params\n",
    "best"
   ]
  },
  {
   "cell_type": "code",
   "execution_count": 17,
   "metadata": {
    "colab": {
     "base_uri": "https://localhost:8080/"
    },
    "id": "E2_7Q1OpRThr",
    "outputId": "c6aa0900-880e-47f4-e727-72da0402ba5b"
   },
   "outputs": [
    {
     "data": {
      "text/plain": [
       "419"
      ]
     },
     "execution_count": 17,
     "metadata": {},
     "output_type": "execute_result"
    }
   ],
   "source": [
    "ITERATIONS=419#int(best['ITERATIONS'])\n",
    "Q=0.0400026#best['Q']\n",
    "EVA_RATE=0.128567#best['EVA_RATE']\n",
    "ANTS=90#int(best['ANTS'])\n",
    "ITERATIONS"
   ]
  },
  {
   "cell_type": "code",
   "execution_count": 18,
   "metadata": {
    "id": "x2KmTXbjsZEL"
   },
   "outputs": [],
   "source": [
    "global_warr_sortino=[]\n",
    "global_war_sharpe=[]\n",
    "sharpe_portfolio_return=[]\n",
    "sharpe_portfolio_risk=[]\n",
    "sharpe_portfolio_shratio=[]\n",
    "sharpe_portfolio_stockWeights=[]"
   ]
  },
  {
   "cell_type": "code",
   "execution_count": 19,
   "metadata": {
    "id": "iH7x-tm0Ufc_"
   },
   "outputs": [],
   "source": [
    "def antcolony_sharpe(ITERATIONS,Q,EVA_RATE,ANTS):\n",
    "    sharpe_pbest=-1\n",
    "\n",
    "    #Initializing sharpe_pbest(the best fitness value   SHARPE)\n",
    "    #Initializing the current fitness value\n",
    "    fitness=0\n",
    "    #for each iteration\n",
    "    for iteration in range(ITERATIONS):\n",
    "        \n",
    "        #PREPARAING THE PHEROMONE MATRIX WHERE THE COLS=STOCKS AND  ROWS=ANTS\n",
    "        pheromon=[[0]*stocks for i in range(ANTS+1)]#why (ants+1)?The last ant can update the pheromone values in the last row\n",
    "        \n",
    "        # Initializing the pheromone status \n",
    "        for i in range(len(pheromon[0])):\n",
    "            pheromon[0][i]=random.randint(1,15)   #When input stocks varies, this needs to vary accordingly.(Divide number of stocks / 2)\n",
    "        \n",
    "        #copying the values and storing it in temp_pher\n",
    "        temp_pher=pheromon[0]\n",
    "        \n",
    "        #Making sure that the total amount of pheromone equals 1 \n",
    "        weights=np.array(BALANCE(temp_pher))\n",
    "        \n",
    "        #calculating annulaised portfolio return\n",
    "        returns_temp = np.sum(returnsh.mean()*weights)*trading_days \n",
    "        \n",
    "        #calculating portfolio varience wrt calculating sharpe ratio\n",
    "        varsh=np.dot(weights.T,np.dot(covmatsh,weights))   \n",
    "        \n",
    "        #portfolio risk\n",
    "        volatility_temp = np.sqrt(varsh)      \n",
    "        \n",
    "        #Calculating fitness value(ie sharpe ratio)\n",
    "        fitness = ratio(returns_temp,volatility_temp,risk_free_rate)\n",
    "        \n",
    "        #Initializing the intial fitness value as the best fitness value(sharpe_pbest)\n",
    "        if sharpe_pbest==-1:\n",
    "            sharpe_pbest=fitness\n",
    "        \n",
    "        #list\n",
    "        path=[]\n",
    "      \n",
    "        #for each ant\n",
    "        for ant in range(ANTS-1):\n",
    "            \n",
    "            #find the total pheromone \n",
    "            total=sum(pheromon[ant])\n",
    "            \n",
    "            #Initializing probability\n",
    "            probability=pheromon[ant][:] \n",
    "            \n",
    "            #finding probability of each stocks pheromone \n",
    "            for p in range(len(probability)):\n",
    "                probability[p]=(probability[p]/total)\n",
    "                \n",
    "            #Trying to select stocks in decreasing order based on their pheromone level and storing the stock order in a list(path)\n",
    "            for stock in range(stocks):\n",
    "                select=probability.index(max(probability))\n",
    "                probability[select]=-math.inf\n",
    "                path.append(select)\n",
    "            \n",
    "            #Updating the pheromone level of each stock for the next ant \n",
    "            #Formula: old pheromone level * (1-eva_rate) + Q * (fitness/sharpe_pbest) where Q is fixed amount of pheromone\n",
    "            for s in path:\n",
    "                pheromon[ant+1][s]=pheromon[ant][s]*(1-EVA_RATE)+Q*(fitness/sharpe_pbest)\n",
    "            \n",
    "            \n",
    "            #making sure that the updated pheromon adds upto 1\n",
    "            temp_pher=pheromon[ant+1]\n",
    "            weights=np.array(BALANCE(temp_pher))\n",
    "            returns_temp = np.sum(returnsh.mean()*weights)*trading_days   #calculating annulaised portfolio return\n",
    "            varsh=np.dot(weights.T,np.dot(covmatsh,weights))              #calculating portfolio varience wrt calculating sharpe ratio\n",
    "            volatility_temp = np.sqrt(varsh)                              #portfolio risk\n",
    "            fitness = ratio(returns_temp,volatility_temp,risk_free_rate)  #calculating sharpe ratio\n",
    "            \n",
    "            #comparing the old fitness value with the updated fitness value\n",
    "            # explore on scape condition paper ref\n",
    "            if(fitness>sharpe_pbest):\n",
    "                \n",
    "                #if the updated fitness value is better than the previous, change sharpe_pbest to present fitness value\n",
    "                sharpe_pbest=fitness\n",
    "                \n",
    "                #remembering the weights of the best portfolio\n",
    "                global_warr_sharpe=weights.tolist()\n",
    "        sharpe_portfolio_return.append(returns_temp)\n",
    "        sharpe_portfolio_risk.append(volatility_temp)\n",
    "        sharpe_portfolio_shratio.append(fitness)\n",
    "        sharpe_portfolio_stockWeights.append(weights)\n",
    "    return (sharpe_pbest,sharpe_portfolio_return,sharpe_portfolio_risk,sharpe_portfolio_shratio,sharpe_portfolio_stockWeights)\n"
   ]
  },
  {
   "cell_type": "code",
   "execution_count": null,
   "metadata": {},
   "outputs": [],
   "source": []
  },
  {
   "cell_type": "code",
   "execution_count": null,
   "metadata": {
    "id": "qG9sZOK8RTez"
   },
   "outputs": [],
   "source": [
    "tuned=antcolony_sharpe(ITERATIONS,Q,EVA_RATE,ANTS)"
   ]
  },
  {
   "cell_type": "code",
   "execution_count": null,
   "metadata": {
    "colab": {
     "base_uri": "https://localhost:8080/"
    },
    "id": "f_Wpz8C_dHf1",
    "outputId": "fd9b49c9-f220-42ff-ae18-f0421c41f47a"
   },
   "outputs": [],
   "source": [
    "tuned"
   ]
  },
  {
   "cell_type": "code",
   "execution_count": null,
   "metadata": {},
   "outputs": [],
   "source": [
    "sharpe_portfolio_return"
   ]
  },
  {
   "cell_type": "code",
   "execution_count": null,
   "metadata": {
    "colab": {
     "base_uri": "https://localhost:8080/",
     "height": 824
    },
    "id": "qVbCiA47RTcU",
    "outputId": "0f082cbb-fb6d-485e-b5f1-d249dd021048"
   },
   "outputs": [],
   "source": [
    "sharpe_portfolio = {'Returns' : sharpe_portfolio_return, 'Standard Deviation' : sharpe_portfolio_risk,  'Sharpe Ratio' : sharpe_portfolio_shratio}  \n",
    "\n",
    "for counter,symbol in enumerate(df.columns):\n",
    "  sharpe_portfolio[symbol + \" Weight\"] = [Weight[counter] for Weight in sharpe_portfolio_stockWeights]\n",
    "sharpe_pc = pd.DataFrame(sharpe_portfolio)\n",
    "sharpe_optimal=sharpe_pc.iloc[sharpe_pc['Sharpe Ratio'].idxmax()]\n",
    "sharpe_optimal=pd.DataFrame(sharpe_optimal)\n",
    "sharpe_optimal.to_csv(\"sharpe_optimal.csv\")\n",
    "\n",
    "sharpe_optimal"
   ]
  },
  {
   "cell_type": "markdown",
   "metadata": {
    "id": "LFI_c_tuvy_g"
   },
   "source": [
    "# not sort"
   ]
  },
  {
   "cell_type": "code",
   "execution_count": null,
   "metadata": {
    "id": "ZCvjDzWFRTSE"
   },
   "outputs": [],
   "source": [
    "sharpe_unsort_top=sharpe_pc.iloc[:,0:3].head(10)\n",
    "sharpe_unsort_top.to_csv(\"sharpe_unsort_top.csv\")"
   ]
  },
  {
   "cell_type": "code",
   "execution_count": null,
   "metadata": {
    "id": "ocbF5D5G_NZj"
   },
   "outputs": [],
   "source": [
    "sharpe_unsort_top_all=sharpe_pc.head(10)\n",
    "sharpe_unsort_top_all.to_csv(\"sharpe_unsort_top_all.csv\")"
   ]
  },
  {
   "cell_type": "code",
   "execution_count": null,
   "metadata": {
    "id": "IMrBXTLBU50K"
   },
   "outputs": [],
   "source": [
    "sharpe_unsort_bottom=sharpe_pc.iloc[:,0:3].tail(10)\n",
    "sharpe_unsort_bottom.to_csv(\"sharpe_unsort_bottom.csv\")"
   ]
  },
  {
   "cell_type": "code",
   "execution_count": null,
   "metadata": {
    "id": "Wx7-xNaR_YYL"
   },
   "outputs": [],
   "source": [
    "sharpe_unsort_bottom_all=sharpe_pc.tail(10)\n",
    "sharpe_unsort_bottom_all.to_csv(\"sharpe_unsort_bottom_all.csv\")"
   ]
  },
  {
   "cell_type": "code",
   "execution_count": null,
   "metadata": {
    "id": "P8s7oOOWU5xa"
   },
   "outputs": [],
   "source": [
    "sharpe_pc.to_csv('sharpe_ACO_portfolio.csv')\n",
    "\n",
    "sharpe_pc_sort=sharpe_pc.copy()\n"
   ]
  },
  {
   "cell_type": "markdown",
   "metadata": {
    "id": "NFRpZQNqv7Lg"
   },
   "source": [
    "# sort"
   ]
  },
  {
   "cell_type": "code",
   "execution_count": null,
   "metadata": {
    "id": "LFoHn_qptWBR"
   },
   "outputs": [],
   "source": [
    "sharpe_pc_sort.sort_values(by=['Sharpe Ratio'],ascending=False,inplace=True)\n",
    "sharpe_pc_sort.to_csv(\"sharpe_porfolio_sort.csv\")"
   ]
  },
  {
   "cell_type": "code",
   "execution_count": null,
   "metadata": {
    "colab": {
     "base_uri": "https://localhost:8080/",
     "height": 390
    },
    "id": "YTaRZNxauQoC",
    "outputId": "4ffff4a9-bdc3-4b7b-e8c4-cc4502e3a241"
   },
   "outputs": [],
   "source": [
    "sharpe_sort_top=sharpe_pc_sort.iloc[1:,0:3].head(11)\n",
    "sharpe_sort_top.to_csv(\"sharpe_sort_top.csv\")\n",
    "sharpe_sort_top"
   ]
  },
  {
   "cell_type": "code",
   "execution_count": null,
   "metadata": {
    "colab": {
     "base_uri": "https://localhost:8080/",
     "height": 427
    },
    "id": "15uAxKORuQgK",
    "outputId": "abbd547c-78ae-4c40-d748-650709e9a3d6"
   },
   "outputs": [],
   "source": [
    "sharpe_sort_top_all=sharpe_pc_sort.iloc[1:,0:].head(11)\n",
    "sharpe_sort_top_all.to_csv(\"sharpe_sort_top_all.csv\")\n",
    "sharpe_sort_top_all"
   ]
  },
  {
   "cell_type": "code",
   "execution_count": null,
   "metadata": {
    "colab": {
     "base_uri": "https://localhost:8080/",
     "height": 359
    },
    "id": "Oz-ijO2XuQXi",
    "outputId": "3ff469ca-3dce-4dc2-c4bf-b6017f905de6"
   },
   "outputs": [],
   "source": [
    "sharpe_sort_bottom=sharpe_pc_sort.iloc[:,0:3].tail(10)\n",
    "sharpe_sort_bottom.to_csv(\"sharpe_sort_bottom.csv\")\n",
    "sharpe_sort_bottom"
   ]
  },
  {
   "cell_type": "code",
   "execution_count": null,
   "metadata": {
    "colab": {
     "base_uri": "https://localhost:8080/",
     "height": 359
    },
    "id": "Br2oiE3-wqBQ",
    "outputId": "fba3d56c-a8e2-4fde-8c63-d6a569528a73"
   },
   "outputs": [],
   "source": [
    "sharpe_sort_bottom_all=sharpe_pc_sort.iloc[:,0:3].tail(10)\n",
    "sharpe_sort_bottom_all.to_csv(\"sharpe_sort_bottom_all.csv\")\n",
    "sharpe_sort_bottom_all"
   ]
  },
  {
   "cell_type": "markdown",
   "metadata": {
    "id": "m0ugVp-dw1EI"
   },
   "source": [
    "# Sortino"
   ]
  },
  {
   "cell_type": "code",
   "execution_count": null,
   "metadata": {
    "id": "JGKJM8olw3ZQ"
   },
   "outputs": [],
   "source": [
    "def antcolony_tuning_sortino(ITERATIONS,Q,EVA_RATE,ANTS):\n",
    "    sortino_pbest=-1\n",
    "    #Initializing sortino_pbest(the best fitness value   SHARPE)\n",
    "    #Initializing the current fitness value\n",
    "    fitness=0\n",
    "    #for each iteration\n",
    "    for iteration in range(ITERATIONS):\n",
    "        \n",
    "        #PREPARAING THE PHEROMONE MATRIX WHERE THE COLS=STOCKS AND  ROWS=ANTS\n",
    "        pheromon=[[0]*stocks for i in range(ANTS+1)]#why (ants+1)?The last ant can update the pheromone values in the last row\n",
    "        \n",
    "        # Initializing the pheromone status \n",
    "        for i in range(len(pheromon[0])):\n",
    "            pheromon[0][i]=random.randint(1,15)   #When input stocks varies, this needs to vary accordingly.(Divide number of stocks / 2)\n",
    "        \n",
    "        #copying the values and storing it in temp_pher\n",
    "        temp_pher=pheromon[0]\n",
    "        \n",
    "        #Making sure that the total amount of pheromone equals 1 \n",
    "        weights=np.array(BALANCE(temp_pher))\n",
    "        \n",
    "        #calculating annulaised portfolio return\n",
    "        returns_temp = np.sum(returnsh.mean()*weights)*trading_days \n",
    "        \n",
    "        #calculating portfolio varience wrt calculating sharpe ratio\n",
    "        varso=np.dot(weights.T,np.dot(covmatso,weights))   \n",
    "        \n",
    "        #portfolio risk\n",
    "        volatility_temp = np.sqrt(varso)      \n",
    "        \n",
    "        #Calculating fitness value(ie sortino ratio)\n",
    "        fitness = ratio(returns_temp,volatility_temp,risk_free_rate)\n",
    "        \n",
    "        #Initializing the intial fitness value as the best fitness value(sortino_pbest)\n",
    "        if sortino_pbest==-1:\n",
    "            sortino_pbest=fitness\n",
    "        \n",
    "        #list\n",
    "        path=[]\n",
    "      \n",
    "        #for each ant\n",
    "        for ant in range(ANTS-1):\n",
    "            \n",
    "            #find the total pheromone \n",
    "            total=sum(pheromon[ant])\n",
    "            \n",
    "            #Initializing probability\n",
    "            probability=pheromon[ant][:] \n",
    "            \n",
    "            #finding probability of each stocks pheromone \n",
    "            for p in range(len(probability)):\n",
    "                probability[p]=(probability[p]/total)\n",
    "                \n",
    "            #Trying to select stocks in decreasing order based on their pheromone level and storing the stock order in a list(path)\n",
    "            for stock in range(stocks):\n",
    "                select=probability.index(max(probability))\n",
    "                probability[select]=-math.inf\n",
    "                path.append(select)\n",
    "            \n",
    "            #Updating the pheromone level of each stock for the next ant \n",
    "            #Formula: old pheromone level * (1-eva_rate) + Q * (fitness/pbest) where Q is fixed amount of pheromone\n",
    "            for s in path:\n",
    "                pheromon[ant+1][s]=pheromon[ant][s]*(1-EVA_RATE)+Q*(fitness/sortino_pbest)\n",
    "            \n",
    "            \n",
    "            #making sure that the updated pheromon adds upto 1\n",
    "            temp_pher=pheromon[ant+1]\n",
    "            weights=np.array(BALANCE(temp_pher))\n",
    "            returns_temp = np.sum(returnsh.mean()*weights)*trading_days   #calculating annulaised portfolio return\n",
    "            varso=np.dot(weights.T,np.dot(covmatso,weights))              #calculating portfolio varience wrt calculating sharpe ratio\n",
    "            volatility_temp = np.sqrt(varso)                              #portfolio risk\n",
    "            fitness = ratio(returns_temp,volatility_temp,risk_free_rate)  #calculating sharpe ratio\n",
    "            \n",
    "            #comparing the old fitness value with the updated fitness value\n",
    "            # explore on scape condition paper ref\n",
    "            if(fitness>sortino_pbest):\n",
    "                \n",
    "                #if the updated fitness value is better than the previous, change sortino_pbest to present fitness value\n",
    "                sortino_pbest=fitness\n",
    "                \n",
    "                #remembering the weights of the best portfolio\n",
    "                global_warr_sortino=weights.tolist()\n",
    "        #sortino_portfolio_return.append(returns_temp)\n",
    "        #sortino_portfolio_risk.append(volatility_temp)\n",
    "        #sortino_portfolio_soratio.append(fitness)\n",
    "        #sortino_portfolio_stockWeights.append(weights)\n",
    "    return sortino_pbest\n"
   ]
  },
  {
   "cell_type": "code",
   "execution_count": null,
   "metadata": {
    "id": "aWAFN4jOw3Wn"
   },
   "outputs": [],
   "source": [
    "def objective(trial):\n",
    "    ITERATIONS=trial.suggest_int('ITERATIONS',2,500)#range is temp,earlier (1,1000)\n",
    "    Q=trial.suggest_float('Q',0.0,1.0)\n",
    "    EVA_RATE=trial.suggest_float('EVA_RATE',0.00,1.00)\n",
    "    ANTS=trial.suggest_int('ANTS',2,500)#range is temp,earlier (1,1000)\n",
    "    return antcolony_tuning_sortino(int(ITERATIONS),Q,EVA_RATE,int(ANTS))\n"
   ]
  },
  {
   "cell_type": "code",
   "execution_count": null,
   "metadata": {
    "colab": {
     "base_uri": "https://localhost:8080/"
    },
    "id": "q114MVf8w3UQ",
    "outputId": "da83de4b-ebc4-4071-ba0e-c6f2a79c7a86"
   },
   "outputs": [],
   "source": [
    "sortino_study=optuna.create_study(direction='maximize')\n",
    "sortino_study.optimize(objective,n_trials=5)"
   ]
  },
  {
   "cell_type": "code",
   "execution_count": null,
   "metadata": {
    "colab": {
     "base_uri": "https://localhost:8080/"
    },
    "id": "EIv9yt61w3SH",
    "outputId": "c911aca8-4509-4fbd-8874-1829297d58d4"
   },
   "outputs": [],
   "source": [
    "hptuning=sortino_study.trials_dataframe()\n",
    "hptuning.to_csv(\"sortino_trial0.csv\")\n",
    "best=sortino_study.best_params\n",
    "best"
   ]
  },
  {
   "cell_type": "code",
   "execution_count": null,
   "metadata": {
    "id": "y8g56Q94SbpQ"
   },
   "outputs": [],
   "source": [
    "global_warr_sortino=[]\n",
    "sortino_portfolio_return=[]\n",
    "sortino_portfolio_risk=[]\n",
    "sortino_portfolio_soratio=[]\n",
    "sortino_portfolio_stockWeights=[]"
   ]
  },
  {
   "cell_type": "code",
   "execution_count": null,
   "metadata": {
    "id": "sPd1McTGspPx"
   },
   "outputs": [],
   "source": [
    "def antcolony_sortino(ITERATIONS,Q,EVA_RATE,ANTS):\n",
    "    sortino_pbest=-1\n",
    "    #Initializing sortino_pbest(the best fitness value   SHARPE)\n",
    "    #Initializing the current fitness value\n",
    "    fitness=0\n",
    "    #for each iteration\n",
    "    for iteration in range(ITERATIONS):\n",
    "        \n",
    "        #PREPARAING THE PHEROMONE MATRIX WHERE THE COLS=STOCKS AND  ROWS=ANTS\n",
    "        pheromon=[[0]*stocks for i in range(ANTS+1)]#why (ants+1)?The last ant can update the pheromone values in the last row\n",
    "        \n",
    "        # Initializing the pheromone status \n",
    "        for i in range(len(pheromon[0])):\n",
    "            pheromon[0][i]=random.randint(1,15)   #When input stocks varies, this needs to vary accordingly.(Divide number of stocks / 2)\n",
    "        \n",
    "        #copying the values and storing it in temp_pher\n",
    "        temp_pher=pheromon[0]\n",
    "        \n",
    "        #Making sure that the total amount of pheromone equals 1 \n",
    "        weights=np.array(BALANCE(temp_pher))\n",
    "        \n",
    "        #calculating annulaised portfolio return\n",
    "        returns_temp = np.sum(returnsh.mean()*weights)*trading_days \n",
    "        \n",
    "        #calculating portfolio varience wrt calculating sharpe ratio\n",
    "        varso=np.dot(weights.T,np.dot(covmatso,weights))   \n",
    "        \n",
    "        #portfolio risk\n",
    "        volatility_temp = np.sqrt(varso)      \n",
    "        \n",
    "        #Calculating fitness value(ie sortino ratio)\n",
    "        fitness = ratio(returns_temp,volatility_temp,risk_free_rate)\n",
    "        \n",
    "        #Initializing the intial fitness value as the best fitness value(sortino_pbest)\n",
    "        if sortino_pbest==-1:\n",
    "            sortino_pbest=fitness\n",
    "        \n",
    "        #list\n",
    "        path=[]\n",
    "      \n",
    "        #for each ant\n",
    "        for ant in range(ANTS-1):\n",
    "            \n",
    "            #find the total pheromone \n",
    "            total=sum(pheromon[ant])\n",
    "            \n",
    "            #Initializing probability\n",
    "            probability=pheromon[ant][:] \n",
    "            \n",
    "            #finding probability of each stocks pheromone \n",
    "            for p in range(len(probability)):\n",
    "                probability[p]=(probability[p]/total)\n",
    "                \n",
    "            #Trying to select stocks in decreasing order based on their pheromone level and storing the stock order in a list(path)\n",
    "            for stock in range(stocks):\n",
    "                select=probability.index(max(probability))\n",
    "                probability[select]=-math.inf\n",
    "                path.append(select)\n",
    "            \n",
    "            #Updating the pheromone level of each stock for the next ant \n",
    "            #Formula: old pheromone level * (1-eva_rate) + Q * (fitness/pbest) where Q is fixed amount of pheromone\n",
    "            for s in path:\n",
    "                pheromon[ant+1][s]=pheromon[ant][s]*(1-EVA_RATE)+Q*(fitness/sortino_pbest)\n",
    "            \n",
    "            \n",
    "            #making sure that the updated pheromon adds upto 1\n",
    "            temp_pher=pheromon[ant+1]\n",
    "            weights=np.array(BALANCE(temp_pher))\n",
    "            returns_temp = np.sum(returnsh.mean()*weights)*trading_days   #calculating annulaised portfolio return\n",
    "            varso=np.dot(weights.T,np.dot(covmatso,weights))              #calculating portfolio varience wrt calculating sharpe ratio\n",
    "            volatility_temp = np.sqrt(varso)                              #portfolio risk\n",
    "            fitness = ratio(returns_temp,volatility_temp,risk_free_rate)  #calculating sharpe ratio\n",
    "            \n",
    "            #comparing the old fitness value with the updated fitness value\n",
    "            # explore on scape condition paper ref\n",
    "            if(fitness>sortino_pbest):\n",
    "                \n",
    "                #if the updated fitness value is better than the previous, change sortino_pbest to present fitness value\n",
    "                sortino_pbest=fitness\n",
    "                \n",
    "                #remembering the weights of the best portfolio\n",
    "                global_warr_sortino=weights.tolist()\n",
    "        sortino_portfolio_return.append(returns_temp)\n",
    "        sortino_portfolio_risk.append(volatility_temp)\n",
    "        sortino_portfolio_soratio.append(fitness)\n",
    "        sortino_portfolio_stockWeights.append(weights)\n",
    "    return sortino_pbest\n"
   ]
  },
  {
   "cell_type": "code",
   "execution_count": null,
   "metadata": {
    "id": "FOlVoCBsw3P_"
   },
   "outputs": [],
   "source": [
    "sortino_tuned=antcolony_sortino(ITERATIONS,Q,EVA_RATE,ANTS)"
   ]
  },
  {
   "cell_type": "code",
   "execution_count": null,
   "metadata": {
    "colab": {
     "base_uri": "https://localhost:8080/"
    },
    "id": "MlnQ-ViJwMr4",
    "outputId": "3f7f1fbc-44e9-475f-b411-7bd9bdf27a43"
   },
   "outputs": [],
   "source": [
    "sortino_tuned"
   ]
  },
  {
   "cell_type": "code",
   "execution_count": null,
   "metadata": {
    "colab": {
     "base_uri": "https://localhost:8080/",
     "height": 824
    },
    "id": "fBLzqoDdw3Nn",
    "outputId": "7a2de095-626d-45b8-afdc-7f2de2ac2dbd"
   },
   "outputs": [],
   "source": [
    "sortino_portfolio = {'Returns' : sortino_portfolio_return, 'Standard Deviation' : sortino_portfolio_risk,  'Sortino Ratio' : sortino_portfolio_soratio}  \n",
    "\n",
    "for counter,symbol in enumerate(df.columns):\n",
    "  sortino_portfolio[symbol + \" Weight\"] = [Weight[counter] for Weight in sortino_portfolio_stockWeights]\n",
    "sortino_pc = pd.DataFrame(sortino_portfolio)\n",
    "sortino_optimal=sortino_pc.iloc[sortino_pc['Sortino Ratio'].idxmax()]\n",
    "sortino_optimal=pd.DataFrame(sortino_optimal)\n",
    "sortino_optimal.to_csv(\"sortino_optimal.csv\")\n",
    "sortino_optimal"
   ]
  },
  {
   "cell_type": "markdown",
   "metadata": {
    "id": "t69IyiAGy5tI"
   },
   "source": [
    "## not sort "
   ]
  },
  {
   "cell_type": "code",
   "execution_count": null,
   "metadata": {
    "id": "ov_yb_UOw3FZ"
   },
   "outputs": [],
   "source": [
    "sortino_unsort_top=sortino_pc.iloc[:,0:3].head(10)\n",
    "sortino_unsort_top.to_csv(\"sortino_unsort_top.csv\")"
   ]
  },
  {
   "cell_type": "code",
   "execution_count": null,
   "metadata": {
    "id": "SfJzakz-zKQ3"
   },
   "outputs": [],
   "source": [
    "sortino_unsort_top_all=sortino_pc.head(10)\n",
    "sortino_unsort_top_all.to_csv(\"sortino_unsort_top_all.csv\")"
   ]
  },
  {
   "cell_type": "code",
   "execution_count": null,
   "metadata": {
    "id": "_HEQurYqzKJp"
   },
   "outputs": [],
   "source": [
    "sortino_unsort_bottom=sortino_pc.iloc[:,0:3].tail(10)\n",
    "sortino_unsort_bottom.to_csv(\"sortino_unsort_bottom.csv\")"
   ]
  },
  {
   "cell_type": "code",
   "execution_count": null,
   "metadata": {
    "id": "CtDwcMm5zKFO"
   },
   "outputs": [],
   "source": [
    "sortino_unsort_bottom_all=sortino_pc.tail(10)\n",
    "sortino_unsort_bottom_all.to_csv(\"sortino_unsort_bottom_all.csv\")"
   ]
  },
  {
   "cell_type": "code",
   "execution_count": null,
   "metadata": {
    "id": "QPntUZC0zJ9w"
   },
   "outputs": [],
   "source": [
    "sortino_pc.to_csv('sortino_ACO_portfolio.csv')\n",
    "\n",
    "sortino_pc_sort=sortino_pc.copy()"
   ]
  },
  {
   "cell_type": "markdown",
   "metadata": {
    "id": "SEUMsz3Uzlif"
   },
   "source": [
    "## sort sortino"
   ]
  },
  {
   "cell_type": "code",
   "execution_count": null,
   "metadata": {
    "id": "-WIiV8GrznkJ"
   },
   "outputs": [],
   "source": [
    "sortino_pc_sort.sort_values(by=['Sortino Ratio'],ascending=False,inplace=True)\n",
    "sortino_pc_sort.to_csv(\"sortino_porfolio_sort.csv\")"
   ]
  },
  {
   "cell_type": "code",
   "execution_count": null,
   "metadata": {
    "colab": {
     "base_uri": "https://localhost:8080/",
     "height": 390
    },
    "id": "c6QE2ytEznbf",
    "outputId": "a10a4cf1-fdfb-4e88-d90d-fce911c17011"
   },
   "outputs": [],
   "source": [
    "sortino_sort_top=sortino_pc_sort.iloc[1:,0:3].head(11)\n",
    "sortino_sort_top.to_csv(\"sortino_sort_top.csv\")\n",
    "sortino_sort_top"
   ]
  },
  {
   "cell_type": "code",
   "execution_count": null,
   "metadata": {
    "colab": {
     "base_uri": "https://localhost:8080/",
     "height": 427
    },
    "id": "i9JoFzyxznY3",
    "outputId": "dd0a3671-efbd-4b77-a63b-84e93e69d9db"
   },
   "outputs": [],
   "source": [
    "sortino_sort_top_all=sortino_pc_sort.iloc[1:,0:].head(11)\n",
    "sortino_sort_top_all.to_csv(\"sortino_sort_top_all.csv\")\n",
    "sortino_sort_top_all"
   ]
  },
  {
   "cell_type": "code",
   "execution_count": null,
   "metadata": {
    "colab": {
     "base_uri": "https://localhost:8080/",
     "height": 359
    },
    "id": "CXeKj09vznV3",
    "outputId": "9d445f94-f897-4a43-8394-b62ce11fda00"
   },
   "outputs": [],
   "source": [
    "sortino_sort_bottom=sortino_pc_sort.iloc[:,0:3].tail(10)\n",
    "sortino_sort_bottom.to_csv(\"sortino_sort_bottom.csv\")\n",
    "sortino_sort_bottom"
   ]
  },
  {
   "cell_type": "code",
   "execution_count": null,
   "metadata": {
    "colab": {
     "base_uri": "https://localhost:8080/",
     "height": 359
    },
    "id": "A9el7xkHznOf",
    "outputId": "cc58cf56-2069-45f6-fa43-fdab6456656e"
   },
   "outputs": [],
   "source": [
    "sortino_sort_bottom_all=sortino_pc_sort.iloc[:,0:3].tail(10)\n",
    "sortino_sort_bottom_all.to_csv(\"sortino_sort_bottom_all.csv\")\n",
    "sortino_sort_bottom_all"
   ]
  },
  {
   "cell_type": "code",
   "execution_count": null,
   "metadata": {
    "id": "oSxav7O4U5qE"
   },
   "outputs": [],
   "source": [
    "\n",
    "#tables in word doc also(final table)\n"
   ]
  },
  {
   "cell_type": "code",
   "execution_count": null,
   "metadata": {
    "id": "P6bO4iFv6imK"
   },
   "outputs": [],
   "source": []
  },
  {
   "cell_type": "code",
   "execution_count": null,
   "metadata": {
    "id": "cm_OLqv2tSWx"
   },
   "outputs": [],
   "source": []
  }
 ],
 "metadata": {
  "colab": {
   "collapsed_sections": [
    "LFI_c_tuvy_g"
   ],
   "name": "2Nov2021_ACO_Final.ipynb",
   "provenance": []
  },
  "kernelspec": {
   "display_name": "Python 3 (ipykernel)",
   "language": "python",
   "name": "python3"
  },
  "language_info": {
   "codemirror_mode": {
    "name": "ipython",
    "version": 3
   },
   "file_extension": ".py",
   "mimetype": "text/x-python",
   "name": "python",
   "nbconvert_exporter": "python",
   "pygments_lexer": "ipython3",
   "version": "3.9.6"
  }
 },
 "nbformat": 4,
 "nbformat_minor": 4
}
