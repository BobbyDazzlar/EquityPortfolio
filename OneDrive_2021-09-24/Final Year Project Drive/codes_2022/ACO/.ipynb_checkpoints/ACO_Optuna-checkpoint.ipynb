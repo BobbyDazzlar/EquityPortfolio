{
 "cells": [
  {
   "cell_type": "code",
   "execution_count": 1,
   "metadata": {
    "pycharm": {
     "name": "#%%\n"
    }
   },
   "outputs": [],
   "source": [
    "import pandas as pd\n",
    "import numpy as np\n",
    "import random\n",
    "import math\n",
    "import optuna"
   ]
  },
  {
   "cell_type": "code",
   "execution_count": 2,
   "metadata": {
    "pycharm": {
     "name": "#%%\n"
    }
   },
   "outputs": [],
   "source": [
    "def BALANCE(weights):\n",
    "    #Making sure the total sum of the weights eual to 1\n",
    "    weights = [w/sum(weights) for w in weights] # Making sure all weights represent proportions that add up to 1\n",
    "    return weights"
   ]
  },
  {
   "cell_type": "code",
   "execution_count": 3,
   "metadata": {
    "pycharm": {
     "name": "#%%\n"
    }
   },
   "outputs": [],
   "source": [
    "def ratio(a,b,c):                         #function to calculate ratio i.e. \"(returns-(risk_free_rate))/deviation\"\n",
    "    #calculating sharpe ratio\n",
    "    return (a-c)/b"
   ]
  },
  {
   "cell_type": "code",
   "execution_count": 4,
   "metadata": {
    "pycharm": {
     "name": "#%%\n"
    }
   },
   "outputs": [],
   "source": [
    "def number_of_years(y):        #calculates the number of years of the dataset\n",
    "  p=y.index[0]                 #date of first row in the dataset (datetime format)\n",
    "  q=y.index[len(y)-1]          #date of last row in the dataset  (datetime format)\n",
    "  return ((q-p).days+1)/365"
   ]
  },
  {
   "cell_type": "code",
   "execution_count": 5,
   "metadata": {
    "pycharm": {
     "name": "#%%\n"
    }
   },
   "outputs": [],
   "source": [
    "df=pd.read_csv('n50.csv',parse_dates=['Date'],index_col='Date')  #Importing Dataset\n",
    "df = df.loc[\"2016-01-01\" : ]   #Since 2016-01-01, 5y(1234rows till 2020-12-31)\n",
    "tdf=df.copy()                  #deep copy\n",
    "df.reset_index(drop=True, inplace=True)"
   ]
  },
  {
   "cell_type": "code",
   "execution_count": 6,
   "metadata": {
    "pycharm": {
     "name": "#%%\n"
    }
   },
   "outputs": [],
   "source": [
    "\n",
    "def antcolonyHPTuning(ITERATIONS,Q,EVA_RATE,ANTS):\n",
    "\n",
    "    df = pd.read_csv('n50.csv', parse_dates=['Date'], index_col='Date')  # Importing Dataset\n",
    "    df = df.loc['2016-01-01':]  # Since 2016-01-01, 5y(1234rows till 2020-12-31)\n",
    "    tdf = df.copy()  # deep copy\n",
    "    df.reset_index(drop=True, inplace=True)\n",
    "\n",
    "    trading_days = len(df) / number_of_years(tdf)\n",
    "\n",
    "    returnsh = df.pct_change()  # Here, returnsh would mean return considered for sharpe ratio\n",
    "    returnsh.fillna(0, inplace=True)  # calculating daily returns of the stocks in the portfolio\n",
    "\n",
    "    returnso = returnsh.copy()  # this cell considers only NEGATIVE returns so as to calculate sortino ratio\n",
    "    for cols in returnso.columns.tolist():\n",
    "        for i in range(0, len(df)):\n",
    "            if returnso[cols][i] > 0:\n",
    "                returnso[cols][i] = 0\n",
    "\n",
    "            # Here, returnso would mean return considered for sortino ratio\n",
    "\n",
    "    covmatsh = returnsh.cov() * trading_days\n",
    "    covmatso = returnso.cov() * trading_days\n",
    "\n",
    "    risk_free_rate = 0.0358\n",
    "    stocks = df.shape[1]\n",
    "\n",
    "    global_warr_sortino = []\n",
    "    global_war_sharpe = []\n",
    "\n",
    "    pbest = -1\n",
    "\n",
    "# Initializing the current fitness value\n",
    "\n",
    "    fitness = 0\n",
    "\n",
    "# for each iteration\n",
    "\n",
    "    for iteration in range(ITERATIONS):\n",
    "\n",
    "    # PREPARAING THE PHEROMONE MATRIX WHERE THE COLS=STOCKS AND  ROWS=ANTS\n",
    "\n",
    "        pheromon = [[0] * stocks for i in range(ANTS + 1)]  # why (ants+1)?The last ant can update the pheromone values in the last row\n",
    "\n",
    "    # Initializing the pheromone status\n",
    "\n",
    "        for i in range(len(pheromon[0])):\n",
    "            pheromon[0][i] = random.randint(1, 15)  # When input stocks varies, this needs to vary accordingly.(Divide number of stocks / 2)\n",
    "\n",
    "    # copying the values and storing it in temp_pher\n",
    "\n",
    "        temp_pher = pheromon[0]\n",
    "\n",
    "    # Making sure that the total amount of pheromone equals 1\n",
    "\n",
    "        weights = np.array(BALANCE(temp_pher))\n",
    "\n",
    "    # calculating annulaised portfolio return\n",
    "\n",
    "        returns_temp = np.sum(returnsh.mean() * weights) * trading_days\n",
    "\n",
    "    # print(returns_temp)\n",
    "\n",
    "    # calculating portfolio varience wrt calculating sharpe ratio\n",
    "\n",
    "        varsh = np.dot(weights.T, np.dot(covmatsh, weights))\n",
    "\n",
    "    # print(varsh)\n",
    "\n",
    "    # portfolio risk\n",
    "\n",
    "        volatility_temp = np.sqrt(varsh)\n",
    "\n",
    "    # Calculating fitness value(ie sharpe ratio)\n",
    "\n",
    "        fitness = ratio(returns_temp, volatility_temp, risk_free_rate)\n",
    "\n",
    "    # Initializing the intial fitness value as the best fitness value(pbest)\n",
    "\n",
    "        if pbest == -1:\n",
    "            pbest = fitness\n",
    "\n",
    "    # list\n",
    "\n",
    "        path = []\n",
    "\n",
    "    # for each ant\n",
    "\n",
    "        for ant in range(ANTS - 1):\n",
    "\n",
    "        # find the total pheromone\n",
    "        # print(\"Pheronome: \",pheromon[ant])\n",
    "\n",
    "            total = sum(pheromon[ant])\n",
    "\n",
    "        # print(\"Total: \",total)\n",
    "\n",
    "        # Initializing probability\n",
    "\n",
    "            probability = (pheromon[ant])[:]\n",
    "\n",
    "        # print(\"Probability: \",probability)\n",
    "\n",
    "        # finding probability of each stocks pheromone\n",
    "\n",
    "            for p in range(len(probability)):\n",
    "                probability[p] = probability[p] / total\n",
    "\n",
    "        # Trying to select stocks in decreasing order based on their pheromone level and storing the stock order in a list(path)\n",
    "\n",
    "            for stock in range(stocks):\n",
    "                select = probability.index(max(probability))\n",
    "                probability[select] = -math.inf\n",
    "                path.append(select)\n",
    "\n",
    "            # print(\"Path: \",path)\n",
    "\n",
    "        # Updating the pheromone level of each stock for the next ant\n",
    "        # Formula: old pheromone level * (1-eva_rate) + Q * (fitness/pbest) where Q is fixed amount of pheromone\n",
    "\n",
    "            for s in path:\n",
    "                pheromon[ant + 1][s] = pheromon[ant][s] * (1\n",
    "                        - EVA_RATE) + Q * (fitness / pbest)\n",
    "\n",
    "        # making sure that the updated pheromon adds upto 1\n",
    "\n",
    "            temp_pher = pheromon[ant + 1]\n",
    "            weights = np.array(BALANCE(temp_pher))\n",
    "            returns_temp = np.sum(returnsh.mean() * weights) \\\n",
    "                * trading_days  # calculating annulaised portfolio return\n",
    "            varsh = np.dot(weights.T, np.dot(covmatsh, weights))  # calculating portfolio varience wrt calculating sharpe ratio\n",
    "            volatility_temp = np.sqrt(varsh)  # portfolio risk\n",
    "            fitness = ratio(returns_temp, volatility_temp,\n",
    "                            risk_free_rate)  # calculating sharpe ratio\n",
    "\n",
    "        # print(fitness)\n",
    "        # comparing the old fitness value with the updated fitness value\n",
    "\n",
    "            if fitness > pbest:\n",
    "\n",
    "            # if the updated fitness value is better than the previous, change pbest to present fitness value\n",
    "\n",
    "                pbest = fitness\n",
    "\n",
    "            # print(pbest)\n",
    "            # remembering the weights of the best portfolio\n",
    "\n",
    "                global_warr_sharpe = weights.tolist()\n",
    "\n",
    "        # print(\"Global warr sharpe: \",global_warr_sharpe)\n",
    "\n",
    "    return pbest\n"
   ]
  },
  {
   "cell_type": "code",
   "execution_count": 7,
   "metadata": {
    "pycharm": {
     "name": "#%%\n"
    }
   },
   "outputs": [],
   "source": [
    "def objective(trial):\n",
    "    ITERATIONS=trial.suggest_uniform('ITERATIONS',10,30)\n",
    "    EVA_RATE=trial.suggest_uniform('EVA_RATE',0.1,1)\n",
    "    Q=trial.suggest_uniform('Q',0.1,1)\n",
    "    ANTS=trial.suggest_uniform('ANTS',10,20)\n",
    "    return antcolonyHPTuning(int(ITERATIONS),Q,EVA_RATE,int(ANTS))"
   ]
  },
  {
   "cell_type": "code",
   "execution_count": null,
   "metadata": {
    "pycharm": {
     "name": "#%%\n"
    }
   },
   "outputs": [
    {
     "name": "stderr",
     "output_type": "stream",
     "text": [
      "\u001b[32m[I 2021-11-10 22:43:12,983]\u001b[0m A new study created in memory with name: no-name-bb969f1b-4f13-442e-8f93-03d45e960889\u001b[0m\n"
     ]
    }
   ],
   "source": [
    "study=optuna.create_study(direction='maximize')\n",
    "study.optimize(objective,n_trials=10)\n"
   ]
  },
  {
   "cell_type": "code",
   "execution_count": null,
   "metadata": {
    "pycharm": {
     "name": "#%%\n"
    }
   },
   "outputs": [],
   "source": [
    "best=study.best_params"
   ]
  },
  {
   "cell_type": "code",
   "execution_count": null,
   "metadata": {},
   "outputs": [],
   "source": [
    "best"
   ]
  },
  {
   "cell_type": "code",
   "execution_count": null,
   "metadata": {
    "pycharm": {
     "name": "#%%\n"
    }
   },
   "outputs": [],
   "source": [
    "ITERATIONS=int(best['ITERATIONS'])\n",
    "Q=best['Q']\n",
    "EVA_RATE=best['EVA_RATE']\n",
    "ANTS=int(best['ANTS'])\n"
   ]
  },
  {
   "cell_type": "code",
   "execution_count": null,
   "metadata": {
    "pycharm": {
     "name": "#%%\n"
    }
   },
   "outputs": [],
   "source": [
    "def ACO_Sharpe(ITERATIONS,Q,EVA_RATE,ANTS):\n",
    "\n",
    "    top_portfolios = []\n",
    "    df = pd.read_csv('n50.csv', parse_dates=['Date'], index_col='Date')  # Importing Dataset\n",
    "    df = df.loc['2016-01-01':]  # Since 2016-01-01, 5y(1234rows till 2020-12-31)\n",
    "    tdf = df.copy()  # deep copy\n",
    "    df.reset_index(drop=True, inplace=True)\n",
    "\n",
    "    trading_days = len(df) / number_of_years(tdf)\n",
    "\n",
    "    returnsh = df.pct_change()  # Here, returnsh would mean return considered for sharpe ratio\n",
    "    returnsh.fillna(0, inplace=True)  # calculating daily returns of the stocks in the portfolio\n",
    "\n",
    "    returnso = returnsh.copy()  # this cell considers only NEGATIVE returns so as to calculate sortino ratio\n",
    "    for cols in returnso.columns.tolist():\n",
    "        for i in range(0, len(df)):\n",
    "            if returnso[cols][i] > 0:\n",
    "                returnso[cols][i] = 0\n",
    "\n",
    "            # Here, returnso would mean return considered for sortino ratio\n",
    "\n",
    "    covmatsh = returnsh.cov() * trading_days\n",
    "    covmatso = returnso.cov() * trading_days\n",
    "\n",
    "    risk_free_rate = 0.0358\n",
    "    stocks = df.shape[1]\n",
    "\n",
    "    global_warr_sortino = []\n",
    "    global_warr_sharpe = []\n",
    "\n",
    "    pbest = -1\n",
    "\n",
    "# Initializing the current fitness value\n",
    "\n",
    "    fitness = 0\n",
    "\n",
    "# for each iteration\n",
    "\n",
    "    for iteration in range(ITERATIONS):\n",
    "\n",
    "    # PREPARAING THE PHEROMONE MATRIX WHERE THE COLS=STOCKS AND  ROWS=ANTS\n",
    "\n",
    "        pheromon = [[0] * stocks for i in range(ANTS + 1)]  # why (ants+1)?The last ant can update the pheromone values in the last row\n",
    "\n",
    "    # Initializing the pheromone status\n",
    "\n",
    "        for i in range(len(pheromon[0])):\n",
    "            pheromon[0][i] = random.randint(1, 15)  # When input stocks varies, this needs to vary accordingly.(Divide number of stocks / 2)\n",
    "\n",
    "    # copying the values and storing it in temp_pher\n",
    "\n",
    "        temp_pher = pheromon[0]\n",
    "\n",
    "    # Making sure that the total amount of pheromone equals 1\n",
    "\n",
    "        weights = np.array(BALANCE(temp_pher))\n",
    "\n",
    "    # calculating annulaised portfolio return\n",
    "\n",
    "        returns_temp = np.sum(returnsh.mean() * weights) * trading_days\n",
    "\n",
    "    # print(returns_temp)\n",
    "\n",
    "    # calculating portfolio varience wrt calculating sharpe ratio\n",
    "\n",
    "        varsh = np.dot(weights.T, np.dot(covmatsh, weights))\n",
    "\n",
    "    # print(varsh)\n",
    "\n",
    "    # portfolio risk\n",
    "\n",
    "        volatility_temp = np.sqrt(varsh)\n",
    "\n",
    "    # Calculating fitness value(ie sharpe ratio)\n",
    "\n",
    "        fitness = ratio(returns_temp, volatility_temp, risk_free_rate)\n",
    "\n",
    "    # Initializing the intial fitness value as the best fitness value(pbest)\n",
    "\n",
    "        if pbest == -1:\n",
    "            pbest = fitness\n",
    "\n",
    "    # list\n",
    "\n",
    "        path = []\n",
    "\n",
    "    # for each ant\n",
    "\n",
    "        for ant in range(ANTS - 1):\n",
    "\n",
    "        # find the total pheromone\n",
    "        # print(\"Pheronome: \",pheromon[ant])\n",
    "\n",
    "            total = sum(pheromon[ant])\n",
    "\n",
    "        # print(\"Total: \",total)\n",
    "\n",
    "        # Initializing probability\n",
    "\n",
    "            probability = (pheromon[ant])[:]\n",
    "\n",
    "        # print(\"Probability: \",probability)\n",
    "\n",
    "        # finding probability of each stocks pheromone\n",
    "\n",
    "            for p in range(len(probability)):\n",
    "                probability[p] = probability[p] / total\n",
    "\n",
    "        # Trying to select stocks in decreasing order based on their pheromone level and storing the stock order in a list(path)\n",
    "\n",
    "            for stock in range(stocks):\n",
    "                select = probability.index(max(probability))\n",
    "                probability[select] = -math.inf\n",
    "                path.append(select)\n",
    "\n",
    "            # print(\"Path: \",path)\n",
    "\n",
    "        # Updating the pheromone level of each stock for the next ant\n",
    "        # Formula: old pheromone level * (1-eva_rate) + Q * (fitness/pbest) where Q is fixed amount of pheromone\n",
    "\n",
    "            for s in path:\n",
    "                pheromon[ant + 1][s] = pheromon[ant][s] * (1\n",
    "                        - EVA_RATE) + Q * (fitness / pbest)\n",
    "\n",
    "        # making sure that the updated pheromon adds upto 1\n",
    "\n",
    "            temp_pher = pheromon[ant + 1]\n",
    "            weights = np.array(BALANCE(temp_pher))\n",
    "            returns_temp = np.sum(returnsh.mean() * weights) \\\n",
    "                * trading_days  # calculating annulaised portfolio return\n",
    "            varsh = np.dot(weights.T, np.dot(covmatsh, weights))  # calculating portfolio varience wrt calculating sharpe ratio\n",
    "            volatility_temp = np.sqrt(varsh)  # portfolio risk\n",
    "            fitness = ratio(returns_temp, volatility_temp,\n",
    "                            risk_free_rate)  # calculating sharpe ratio\n",
    "\n",
    "        # print(fitness)\n",
    "        # comparing the old fitness value with the updated fitness value\n",
    "\n",
    "            if fitness > pbest:\n",
    "\n",
    "            # if the updated fitness value is better than the previous, change pbest to present fitness value\n",
    "\n",
    "                pbest = fitness\n",
    "\n",
    "                # portfolio content\n",
    "\n",
    "                portfolio_returns = returns_temp\n",
    "                portfolio_risk = volatility_temp\n",
    "                portfolio_sharpe = fitness\n",
    "                portfolio_array = [portfolio_returns,portfolio_risk,portfolio_sharpe,weights.tolist()]\n",
    "                top_portfolios.append(portfolio_array)\n",
    "\n",
    "            # print(pbest)\n",
    "            # remembering the weights of the best portfolio\n",
    "                # global_warr_sharpe=weights.tolist()\n",
    "        # print(\"Global warr sharpe: \",global_warr_sharpe)\n",
    "\n",
    "    return top_portfolios\n"
   ]
  },
  {
   "cell_type": "code",
   "execution_count": null,
   "metadata": {
    "pycharm": {
     "name": "#%%\n"
    },
    "scrolled": true
   },
   "outputs": [],
   "source": [
    "top_portfolios_sharpe=ACO_Sharpe(ITERATIONS,Q,EVA_RATE,ANTS)\n",
    "#top_portfolios=antcolony_optimization(200,0.1,0.63,300)"
   ]
  },
  {
   "cell_type": "code",
   "execution_count": null,
   "metadata": {},
   "outputs": [],
   "source": [
    "top_portfolios_sharpe_df=df.Dataframe(top_portfolios_sharpe[0:2],columns=['Returns','Risk','Sharpe ratio'])"
   ]
  },
  {
   "cell_type": "code",
   "execution_count": null,
   "metadata": {},
   "outputs": [],
   "source": [
    "top_portfolios_sharpe_df"
   ]
  },
  {
   "cell_type": "code",
   "execution_count": null,
   "metadata": {},
   "outputs": [],
   "source": [
    "#sorting portfolio based on sharpe ratio\n",
    "top_portfolios_sharpe.sort(key=lambda x:x[3],reverse=True)\n"
   ]
  },
  {
   "cell_type": "code",
   "execution_count": null,
   "metadata": {
    "scrolled": true
   },
   "outputs": [],
   "source": [
    "#index of portfolio parameters \n",
    "weights_index=0\n",
    "return_index=1\n",
    "risk_index=2\n",
    "sharpe_index=3\n",
    "\n",
    "\n",
    "iter_portfolio=10 if len(top_portfolios_sharpe)>10 else len(top_portfolios_sharpe)\n",
    "        \n",
    "for i in range(0,iter_portfolio):\n",
    "  if(i==0):\n",
    "    names=df.columns\n",
    "    j=0\n",
    "    print(\"******** OPTIMAL PORTFOLIO *********\\n\")\n",
    "    print(\"************ WEIGHTS *************\")\n",
    "    for x in (names):\n",
    "      print(\"{} -> {} %\".format(x,top_portfolios_sharpe[i][weights_index][j]*100))\n",
    "      j+=1\n",
    "    print(\"\\n\")\n",
    "    print(\"***** OPTIMAL PORTFOLIO COMPONENTS *****\")\n",
    "    print(\"Returns -> {} %\".format(top_portfolios_sharpe[i][return_index]*100))\n",
    "    print(\"Risk -> {} %\".format(top_portfolios_sharpe[i][risk_index]*100))\n",
    "    print(\"Sharpe Ratio -> {}\".format(top_portfolios_sharpe[i][sharpe_index]))\n",
    "    print(\"\\n\")\n",
    "  else:\n",
    "    print(\"\\n******* PORTFOLIO {}. ******\".format(i+1))\n",
    "    names=df.columns\n",
    "    print(\"Returns -> {} %\".format(top_portfolios_sharpe[i][return_index]*100))\n",
    "    print(\"Risk -> {} %\".format(top_portfolios_sharpe[i][risk_index]*100))\n",
    "    print(\"Sharpe Ratio -> {}\".format(top_portfolios_sharpe[i][sharpe_index]))\n",
    "\n",
    "\n"
   ]
  },
  {
   "cell_type": "code",
   "execution_count": null,
   "metadata": {},
   "outputs": [],
   "source": [
    "def ACO_Sortino(ITERATIONS,Q,EVA_RATE,ANTS):\n",
    "    pbest=-1\n",
    "    fitness=0\n",
    "    top_portfolios_sortino=[]\n",
    "    df=pd.read_csv('n50.csv',parse_dates=['Date'],index_col='Date')  #Importing Dataset\n",
    "    df = df.loc[\"2016-01-01\" : ]   #Since 2016-01-01, 5y(1234rows till 2020-12-31)\n",
    "    tdf=df.copy()                  #deep copy\n",
    "    df.reset_index(drop=True, inplace=True)\n",
    "\n",
    "    trading_days=len(df)/number_of_years(tdf)\n",
    "\n",
    "\n",
    "    returnsh=df.pct_change()                  #Here, returnsh would mean return considered for sharpe ratio\n",
    "    returnsh.fillna(0,inplace=True)           #calculating daily returns of the stocks in the portfolio\n",
    "\n",
    "    returnso=returnsh.copy()                  #this cell considers only NEGATIVE returns so as to calculate sortino ratio\n",
    "    for cols in returnso.columns.tolist():\n",
    "        for i in range(0,len(df)):\n",
    "            if returnso[cols][i] > 0:\n",
    "                returnso[cols][i]=0\n",
    "            #Here, returnso would mean return considered for sortino ratio\n",
    "\n",
    "    covmatso=returnso.cov()*trading_days\n",
    "\n",
    "    risk_free_rate = 0.0358\n",
    "    stocks=df.shape[1]\n",
    "\n",
    "    global_warr_sharpe=[]\n",
    "    for iteration in range(ITERATIONS):\n",
    "        pheromon=[[0]*stocks for i in range(ANTS+1)]\n",
    "        for i in range(len(pheromon[0])):\n",
    "            pheromon[0][i]=random.randint(1,15)\n",
    "        temp_pher=pheromon[0]\n",
    "        weights=np.array(BALANCE(temp_pher))\n",
    "        returns_temp = np.sum(returnsh.mean()*weights)*trading_days\n",
    "        varso=np.dot(weights.T,np.dot(covmatso,weights))\n",
    "        semi_temp = np.sqrt(varso)\n",
    "        fitness = ratio(returns_temp,semi_temp,risk_free_rate)\n",
    "        if pbest==-1:\n",
    "            pbest=fitness\n",
    "        path=[]\n",
    "        for ant in range(ANTS-1):\n",
    "            total=sum(pheromon[ant])\n",
    "            probability=pheromon[ant][:]\n",
    "            for p in range(len(probability)):\n",
    "                probability[p]=(probability[p]/total)\n",
    "            for stock in range(stocks):\n",
    "                select=probability.index(max(probability))\n",
    "                probability[select]=-math.inf\n",
    "                path.append(select)\n",
    "            for s in path:\n",
    "                pheromon[ant+1][s]=pheromon[ant][s]*(1-EVA_RATE)+Q*(fitness/pbest)\n",
    "            temp_pher=pheromon[ant+1]\n",
    "            weights=np.array(BALANCE(temp_pher))\n",
    "            returns_temp = np.sum(returnsh.mean()*weights)*trading_days\n",
    "            varso=np.dot(weights.T,np.dot(covmatso,weights))\n",
    "            semi_temp = np.sqrt(varso)\n",
    "            fitness = ratio(returns_temp,semi_temp,risk_free_rate)\n",
    "            if(fitness>pbest):\n",
    "                pbest=fitness\n",
    "                portfolio_returns=returns_temp\n",
    "                portfolio_risk=semi_temp\n",
    "                portfolio_sortino=fitness\n",
    "                portfolio_array=[weights.tolist(),portfolio_returns,portfolio_risk,portfolio_sortino]\n",
    "                top_portfolios_sortino.append(portfolio_array)\n",
    "    return top_portfolios_sortino\n"
   ]
  },
  {
   "cell_type": "code",
   "execution_count": null,
   "metadata": {},
   "outputs": [],
   "source": [
    "top_portfolios_sortino=ACO_Sortino(ITERATIONS,Q,EVA_RATE,ANTS)"
   ]
  },
  {
   "cell_type": "code",
   "execution_count": null,
   "metadata": {},
   "outputs": [],
   "source": [
    "top_portfolios_sortino.sort(key=lambda x:x[3],reverse=True)"
   ]
  },
  {
   "cell_type": "code",
   "execution_count": null,
   "metadata": {},
   "outputs": [],
   "source": [
    "#index of portfolio parameters \n",
    "weights_index=0\n",
    "return_index=1\n",
    "risk_index=2\n",
    "sharpe_index=3\n",
    "\n",
    "\n",
    "iter_portfolio=10 if len(top_portfolios_sortino)>10 else len(top_portfolios_sortino)\n",
    "        \n",
    "for i in range(0,iter_portfolio):\n",
    "  if(i==0):\n",
    "    names=df.columns\n",
    "    j=0\n",
    "    print(\"******** OPTIMAL PORTFOLIO *********\\n\")\n",
    "    print(\"************ WEIGHTS *************\")\n",
    "    for x in (names):\n",
    "      print(\"{} -> {} %\".format(x,top_portfolios_sortino[i][weights_index][j]*100))\n",
    "      j+=1\n",
    "    print(\"\\n\")\n",
    "    print(\"***** OPTIMAL PORTFOLIO COMPONENTS *****\")\n",
    "    print(\"Returns -> {} %\".format(top_portfolios_sortino[i][return_index]*100))\n",
    "    print(\"Risk -> {} %\".format(top_portfolios_sortino[i][risk_index]*100))\n",
    "    print(\"Sortino Ratio -> {}\".format(top_portfolios_sortino[i][sharpe_index]))\n",
    "    print(\"\\n\")\n",
    "  else:\n",
    "    print(\"\\n******* PORTFOLIO {}. ******\".format(i+1))\n",
    "    names=df.columns\n",
    "    print(\"Returns -> {} %\".format(top_portfolios_sortino[i][return_index]*100))\n",
    "    print(\"Risk -> {} %\".format(top_portfolios_sortino[i][risk_index]*100))\n",
    "    print(\"Sortino Ratio -> {}\".format(top_portfolios_sortino[i][sharpe_index]))"
   ]
  }
 ],
 "metadata": {
  "kernelspec": {
   "display_name": "Python 3 (ipykernel)",
   "language": "python",
   "name": "python3"
  },
  "language_info": {
   "codemirror_mode": {
    "name": "ipython",
    "version": 3
   },
   "file_extension": ".py",
   "mimetype": "text/x-python",
   "name": "python",
   "nbconvert_exporter": "python",
   "pygments_lexer": "ipython3",
   "version": "3.9.6"
  }
 },
 "nbformat": 4,
 "nbformat_minor": 1
}
