{
 "cells": [
  {
   "cell_type": "code",
   "execution_count": 1,
   "metadata": {
    "pycharm": {
     "name": "#%%\n"
    }
   },
   "outputs": [],
   "source": [
    "import pandas as pd\n",
    "import numpy as np\n",
    "import random\n",
    "import math\n",
    "import optuna\n",
    "import matplotlib.pyplot as plt"
   ]
  },
  {
   "cell_type": "code",
   "execution_count": 2,
   "metadata": {
    "pycharm": {
     "name": "#%%\n"
    }
   },
   "outputs": [],
   "source": [
    "def BALANCE(weights):\n",
    "    #Making sure the total sum of the weights eual to 1\n",
    "    weights = [w/sum(weights) for w in weights] # Making sure all weights represent proportions that add up to 1\n",
    "    return weights"
   ]
  },
  {
   "cell_type": "code",
   "execution_count": 3,
   "metadata": {
    "pycharm": {
     "name": "#%%\n"
    }
   },
   "outputs": [],
   "source": [
    "def ratio(a,b,c):                         #function to calculate ratio i.e. \"(returns-(risk_free_rate))/deviation\"\n",
    "    #calculating sharpe ratio\n",
    "    return (a-c)/b"
   ]
  },
  {
   "cell_type": "code",
   "execution_count": 4,
   "metadata": {
    "pycharm": {
     "name": "#%%\n"
    }
   },
   "outputs": [],
   "source": [
    "def number_of_years(y):        #calculates the number of years of the dataset\n",
    "  p=y.index[0]                 #date of first row in the dataset (datetime format)\n",
    "  q=y.index[len(y)-1]          #date of last row in the dataset  (datetime format)\n",
    "  return ((q-p).days+1)/365"
   ]
  },
  {
   "cell_type": "code",
   "execution_count": 5,
   "metadata": {
    "pycharm": {
     "name": "#%%\n"
    }
   },
   "outputs": [],
   "source": [
    "df=pd.read_csv('n50.csv',parse_dates=['Date'],index_col='Date')  #Importing Dataset\n",
    "df = df.loc[\"2016-01-01\" : ]   #Since 2016-01-01, 5y(1234rows till 2020-12-31)\n",
    "tdf=df.copy()                  #deep copy\n",
    "df.reset_index(drop=True, inplace=True)"
   ]
  },
  {
   "cell_type": "code",
   "execution_count": 6,
   "metadata": {},
   "outputs": [],
   "source": [
    "ANTS=[20,10,9,100,20,10]\n",
    "Q=[0.5,1,0.1,1,0.8]\n",
    "EVA_RATE=[0.35,0.7,0.5,0.1,0.1]\n",
    "ITERATIONS=[150,150,150,100,388]"
   ]
  },
  {
   "cell_type": "code",
   "execution_count": 7,
   "metadata": {
    "pycharm": {
     "name": "#%%\n"
    }
   },
   "outputs": [],
   "source": [
    "def antcolony(ITERATIONS,Q,EVA_RATE,ANTS):\n",
    "\n",
    "\n",
    "    df=pd.read_csv('n50.csv',parse_dates=['Date'],index_col='Date')  #Importing Dataset\n",
    "    df = df.loc[\"2016-01-01\" : ]   #Since 2016-01-01, 5y(1234rows till 2020-12-31)\n",
    "    tdf=df.copy()                  #deep copy\n",
    "    df.reset_index(drop=True, inplace=True)\n",
    "\n",
    "    trading_days=len(df)/number_of_years(tdf)\n",
    "\n",
    "\n",
    "    returnsh=df.pct_change()                  #Here, returnsh would mean return considered for sharpe ratio\n",
    "    returnsh.fillna(0,inplace=True)           #calculating daily returns of the stocks in the portfolio\n",
    "\n",
    "    returnso=returnsh.copy()                  #this cell considers only NEGATIVE returns so as to calculate sortino ratio\n",
    "    for cols in returnso.columns.tolist():\n",
    "        for i in range(0,len(df)):\n",
    "            if returnso[cols][i] > 0:\n",
    "                returnso[cols][i]=0\n",
    "            #Here, returnso would mean return considered for sortino ratio\n",
    "\n",
    "\n",
    "    covmatsh=returnsh.cov()*trading_days\n",
    "    covmatso=returnso.cov()*trading_days\n",
    "\n",
    "    risk_free_rate = 0.0358\n",
    "    stocks=df.shape[1]\n",
    "\n",
    "    global_warr_sortino=[]\n",
    "    global_war_sharpe=[]\n",
    "\n",
    "    pbest=-1\n",
    "#Initializing the current fitness value\n",
    "    fitness=0\n",
    "\n",
    "\n",
    "#for each iteration\n",
    "    for iteration in range(ITERATIONS):\n",
    "\n",
    "    #PREPARAING THE PHEROMONE MATRIX WHERE THE COLS=STOCKS AND  ROWS=ANTS\n",
    "        pheromon=[[0]*stocks for i in range(ANTS+1)]#why (ants+1)?The last ant can update the pheromone values in the last row\n",
    "\n",
    "    # Initializing the pheromone status\n",
    "        for i in range(len(pheromon[0])):\n",
    "            pheromon[0][i]=random.randint(1,15)   #When input stocks varies, this needs to vary accordingly.(Divide number of stocks / 2)\n",
    "\n",
    "    #copying the values and storing it in temp_pher\n",
    "        temp_pher=pheromon[0]\n",
    "\n",
    "    #Making sure that the total amount of pheromone equals 1\n",
    "        weights=np.array(BALANCE(temp_pher))\n",
    "\n",
    "    #calculating annulaised portfolio return\n",
    "        returns_temp = np.sum(returnsh.mean()*weights)*trading_days\n",
    "    #print(returns_temp)\n",
    "\n",
    "    #calculating portfolio varience wrt calculating sharpe ratio\n",
    "        varsh=np.dot(weights.T,np.dot(covmatsh,weights))\n",
    "    #print(varsh)\n",
    "\n",
    "    #portfolio risk\n",
    "        volatility_temp = np.sqrt(varsh)\n",
    "\n",
    "    #Calculating fitness value(ie sharpe ratio)\n",
    "        fitness = ratio(returns_temp,volatility_temp,risk_free_rate)\n",
    "\n",
    "    #Initializing the intial fitness value as the best fitness value(pbest)\n",
    "        if pbest==-1:\n",
    "             pbest=fitness\n",
    "\n",
    "    #list\n",
    "        path=[]\n",
    "\n",
    "    #for each ant\n",
    "        for ant in range(ANTS-1):\n",
    "\n",
    "        #find the total pheromone\n",
    "        #print(\"Pheronome: \",pheromon[ant])\n",
    "            total=sum(pheromon[ant])\n",
    "        #print(\"Total: \",total)\n",
    "\n",
    "        #Initializing probability\n",
    "            probability=pheromon[ant][:]\n",
    "        #print(\"Probability: \",probability)\n",
    "\n",
    "        #finding probability of each stocks pheromone\n",
    "            for p in range(len(probability)):\n",
    "                probability[p]=(probability[p]/total)\n",
    "\n",
    "        #Trying to select stocks in decreasing order based on their pheromone level and storing the stock order in a list(path)\n",
    "            for stock in range(stocks):\n",
    "                select=probability.index(max(probability))\n",
    "                probability[select]=-math.inf\n",
    "                path.append(select)\n",
    "            #print(\"Path: \",path)\n",
    "\n",
    "\n",
    "        #Updating the pheromone level of each stock for the next ant\n",
    "        #Formula: old pheromone level * (1-eva_rate) + Q * (fitness/pbest) where Q is fixed amount of pheromone\n",
    "            for s in path:\n",
    "                pheromon[ant+1][s]=pheromon[ant][s]*(1-EVA_RATE)+Q*(fitness/pbest)\n",
    "\n",
    "\n",
    "        #making sure that the updated pheromon adds upto 1\n",
    "            temp_pher=pheromon[ant+1]\n",
    "            weights=np.array(BALANCE(temp_pher))\n",
    "            returns_temp = np.sum(returnsh.mean()*weights)*trading_days   #calculating annulaised portfolio return\n",
    "            varsh=np.dot(weights.T,np.dot(covmatsh,weights))              #calculating portfolio varience wrt calculating sharpe ratio\n",
    "            volatility_temp = np.sqrt(varsh)                              #portfolio risk\n",
    "            fitness = ratio(returns_temp,volatility_temp,risk_free_rate)  #calculating sharpe ratio\n",
    "        #print(fitness)\n",
    "        #comparing the old fitness value with the updated fitness value\n",
    "            if(fitness>pbest):\n",
    "\n",
    "            #if the updated fitness value is better than the previous, change pbest to present fitness value\n",
    "                pbest=fitness\n",
    "            #print(pbest)\n",
    "            #remembering the weights of the best portfolio\n",
    "                global_warr_sharpe=weights.tolist()\n",
    "        #print(\"Global warr sharpe: \",global_warr_sharpe)\n",
    "    return pbest"
   ]
  },
  {
   "cell_type": "code",
   "execution_count": null,
   "metadata": {},
   "outputs": [],
   "source": [
    "sharpe=antcolony(500,0.01,0.1,168)"
   ]
  }
 ],
 "metadata": {
  "kernelspec": {
   "display_name": "Python 3 (ipykernel)",
   "language": "python",
   "name": "python3"
  },
  "language_info": {
   "codemirror_mode": {
    "name": "ipython",
    "version": 3
   },
   "file_extension": ".py",
   "mimetype": "text/x-python",
   "name": "python",
   "nbconvert_exporter": "python",
   "pygments_lexer": "ipython3",
   "version": "3.9.6"
  }
 },
 "nbformat": 4,
 "nbformat_minor": 1
}
