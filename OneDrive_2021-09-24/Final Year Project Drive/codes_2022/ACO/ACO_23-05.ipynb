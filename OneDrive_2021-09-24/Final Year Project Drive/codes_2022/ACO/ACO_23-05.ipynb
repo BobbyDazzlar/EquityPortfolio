{
 "cells": [
  {
   "cell_type": "markdown",
   "metadata": {},
   "source": [
    "## ANT COLONY OPTIMIZATION"
   ]
  },
  {
   "cell_type": "code",
   "execution_count": 1,
   "metadata": {},
   "outputs": [
    {
     "ename": "KeyboardInterrupt",
     "evalue": "",
     "output_type": "error",
     "traceback": [
      "\u001B[1;31m---------------------------------------------------------------------------\u001B[0m",
      "\u001B[1;31mKeyboardInterrupt\u001B[0m                         Traceback (most recent call last)",
      "\u001B[1;32m~\\AppData\\Local\\Temp/ipykernel_22364/404984226.py\u001B[0m in \u001B[0;36m<module>\u001B[1;34m\u001B[0m\n\u001B[1;32m----> 1\u001B[1;33m \u001B[1;32mimport\u001B[0m \u001B[0mpandas\u001B[0m \u001B[1;32mas\u001B[0m \u001B[0mpd\u001B[0m\u001B[1;33m\u001B[0m\u001B[1;33m\u001B[0m\u001B[0m\n\u001B[0m\u001B[0;32m      2\u001B[0m \u001B[1;32mimport\u001B[0m \u001B[0mnumpy\u001B[0m \u001B[1;32mas\u001B[0m \u001B[0mnp\u001B[0m\u001B[1;33m\u001B[0m\u001B[1;33m\u001B[0m\u001B[0m\n\u001B[0;32m      3\u001B[0m \u001B[1;32mimport\u001B[0m \u001B[0mrandom\u001B[0m\u001B[1;33m\u001B[0m\u001B[1;33m\u001B[0m\u001B[0m\n\u001B[0;32m      4\u001B[0m \u001B[1;32mimport\u001B[0m \u001B[0mmath\u001B[0m\u001B[1;33m\u001B[0m\u001B[1;33m\u001B[0m\u001B[0m\n\u001B[0;32m      5\u001B[0m \u001B[1;33m\u001B[0m\u001B[0m\n",
      "\u001B[1;32mc:\\users\\dell\\appdata\\local\\programs\\python\\python39\\lib\\site-packages\\pandas\\__init__.py\u001B[0m in \u001B[0;36m<module>\u001B[1;34m\u001B[0m\n\u001B[0;32m     20\u001B[0m \u001B[1;33m\u001B[0m\u001B[0m\n\u001B[0;32m     21\u001B[0m \u001B[1;31m# numpy compat\u001B[0m\u001B[1;33m\u001B[0m\u001B[1;33m\u001B[0m\u001B[1;33m\u001B[0m\u001B[0m\n\u001B[1;32m---> 22\u001B[1;33m from pandas.compat import (\n\u001B[0m\u001B[0;32m     23\u001B[0m     \u001B[0mnp_version_under1p18\u001B[0m \u001B[1;32mas\u001B[0m \u001B[0m_np_version_under1p18\u001B[0m\u001B[1;33m,\u001B[0m\u001B[1;33m\u001B[0m\u001B[1;33m\u001B[0m\u001B[0m\n\u001B[0;32m     24\u001B[0m     \u001B[0mis_numpy_dev\u001B[0m \u001B[1;32mas\u001B[0m \u001B[0m_is_numpy_dev\u001B[0m\u001B[1;33m,\u001B[0m\u001B[1;33m\u001B[0m\u001B[1;33m\u001B[0m\u001B[0m\n",
      "\u001B[1;32mc:\\users\\dell\\appdata\\local\\programs\\python\\python39\\lib\\site-packages\\pandas\\compat\\__init__.py\u001B[0m in \u001B[0;36m<module>\u001B[1;34m\u001B[0m\n\u001B[0;32m     13\u001B[0m \u001B[1;33m\u001B[0m\u001B[0m\n\u001B[0;32m     14\u001B[0m \u001B[1;32mfrom\u001B[0m \u001B[0mpandas\u001B[0m\u001B[1;33m.\u001B[0m\u001B[0m_typing\u001B[0m \u001B[1;32mimport\u001B[0m \u001B[0mF\u001B[0m\u001B[1;33m\u001B[0m\u001B[1;33m\u001B[0m\u001B[0m\n\u001B[1;32m---> 15\u001B[1;33m from pandas.compat.numpy import (\n\u001B[0m\u001B[0;32m     16\u001B[0m     \u001B[0mis_numpy_dev\u001B[0m\u001B[1;33m,\u001B[0m\u001B[1;33m\u001B[0m\u001B[1;33m\u001B[0m\u001B[0m\n\u001B[0;32m     17\u001B[0m     \u001B[0mnp_array_datetime64_compat\u001B[0m\u001B[1;33m,\u001B[0m\u001B[1;33m\u001B[0m\u001B[1;33m\u001B[0m\u001B[0m\n",
      "\u001B[1;32mc:\\users\\dell\\appdata\\local\\programs\\python\\python39\\lib\\site-packages\\pandas\\compat\\numpy\\__init__.py\u001B[0m in \u001B[0;36m<module>\u001B[1;34m\u001B[0m\n\u001B[0;32m      5\u001B[0m \u001B[1;32mimport\u001B[0m \u001B[0mnumpy\u001B[0m \u001B[1;32mas\u001B[0m \u001B[0mnp\u001B[0m\u001B[1;33m\u001B[0m\u001B[1;33m\u001B[0m\u001B[0m\n\u001B[0;32m      6\u001B[0m \u001B[1;33m\u001B[0m\u001B[0m\n\u001B[1;32m----> 7\u001B[1;33m \u001B[1;32mfrom\u001B[0m \u001B[0mpandas\u001B[0m\u001B[1;33m.\u001B[0m\u001B[0mutil\u001B[0m\u001B[1;33m.\u001B[0m\u001B[0mversion\u001B[0m \u001B[1;32mimport\u001B[0m \u001B[0mVersion\u001B[0m\u001B[1;33m\u001B[0m\u001B[1;33m\u001B[0m\u001B[0m\n\u001B[0m\u001B[0;32m      8\u001B[0m \u001B[1;33m\u001B[0m\u001B[0m\n\u001B[0;32m      9\u001B[0m \u001B[1;31m# numpy versioning\u001B[0m\u001B[1;33m\u001B[0m\u001B[1;33m\u001B[0m\u001B[1;33m\u001B[0m\u001B[0m\n",
      "\u001B[1;32mc:\\users\\dell\\appdata\\local\\programs\\python\\python39\\lib\\site-packages\\pandas\\util\\__init__.py\u001B[0m in \u001B[0;36m<module>\u001B[1;34m\u001B[0m\n\u001B[1;32m----> 1\u001B[1;33m from pandas.util._decorators import (  # noqa\n\u001B[0m\u001B[0;32m      2\u001B[0m     \u001B[0mAppender\u001B[0m\u001B[1;33m,\u001B[0m\u001B[1;33m\u001B[0m\u001B[1;33m\u001B[0m\u001B[0m\n\u001B[0;32m      3\u001B[0m     \u001B[0mSubstitution\u001B[0m\u001B[1;33m,\u001B[0m\u001B[1;33m\u001B[0m\u001B[1;33m\u001B[0m\u001B[0m\n\u001B[0;32m      4\u001B[0m     \u001B[0mcache_readonly\u001B[0m\u001B[1;33m,\u001B[0m\u001B[1;33m\u001B[0m\u001B[1;33m\u001B[0m\u001B[0m\n\u001B[0;32m      5\u001B[0m )\n",
      "\u001B[1;32mc:\\users\\dell\\appdata\\local\\programs\\python\\python39\\lib\\site-packages\\pandas\\util\\_decorators.py\u001B[0m in \u001B[0;36m<module>\u001B[1;34m\u001B[0m\n\u001B[0;32m     12\u001B[0m \u001B[1;32mimport\u001B[0m \u001B[0mwarnings\u001B[0m\u001B[1;33m\u001B[0m\u001B[1;33m\u001B[0m\u001B[0m\n\u001B[0;32m     13\u001B[0m \u001B[1;33m\u001B[0m\u001B[0m\n\u001B[1;32m---> 14\u001B[1;33m \u001B[1;32mfrom\u001B[0m \u001B[0mpandas\u001B[0m\u001B[1;33m.\u001B[0m\u001B[0m_libs\u001B[0m\u001B[1;33m.\u001B[0m\u001B[0mproperties\u001B[0m \u001B[1;32mimport\u001B[0m \u001B[0mcache_readonly\u001B[0m  \u001B[1;31m# noqa\u001B[0m\u001B[1;33m\u001B[0m\u001B[1;33m\u001B[0m\u001B[0m\n\u001B[0m\u001B[0;32m     15\u001B[0m \u001B[1;32mfrom\u001B[0m \u001B[0mpandas\u001B[0m\u001B[1;33m.\u001B[0m\u001B[0m_typing\u001B[0m \u001B[1;32mimport\u001B[0m \u001B[0mF\u001B[0m\u001B[1;33m\u001B[0m\u001B[1;33m\u001B[0m\u001B[0m\n\u001B[0;32m     16\u001B[0m \u001B[1;33m\u001B[0m\u001B[0m\n",
      "\u001B[1;32mc:\\users\\dell\\appdata\\local\\programs\\python\\python39\\lib\\site-packages\\pandas\\_libs\\__init__.py\u001B[0m in \u001B[0;36m<module>\u001B[1;34m\u001B[0m\n\u001B[0;32m     11\u001B[0m \u001B[1;33m\u001B[0m\u001B[0m\n\u001B[0;32m     12\u001B[0m \u001B[1;33m\u001B[0m\u001B[0m\n\u001B[1;32m---> 13\u001B[1;33m \u001B[1;32mfrom\u001B[0m \u001B[0mpandas\u001B[0m\u001B[1;33m.\u001B[0m\u001B[0m_libs\u001B[0m\u001B[1;33m.\u001B[0m\u001B[0minterval\u001B[0m \u001B[1;32mimport\u001B[0m \u001B[0mInterval\u001B[0m\u001B[1;33m\u001B[0m\u001B[1;33m\u001B[0m\u001B[0m\n\u001B[0m\u001B[0;32m     14\u001B[0m from pandas._libs.tslibs import (\n\u001B[0;32m     15\u001B[0m     \u001B[0mNaT\u001B[0m\u001B[1;33m,\u001B[0m\u001B[1;33m\u001B[0m\u001B[1;33m\u001B[0m\u001B[0m\n",
      "\u001B[1;32mc:\\users\\dell\\appdata\\local\\programs\\python\\python39\\lib\\site-packages\\pandas\\_libs\\interval.pyx\u001B[0m in \u001B[0;36minit pandas._libs.interval\u001B[1;34m()\u001B[0m\n",
      "\u001B[1;32mc:\\users\\dell\\appdata\\local\\programs\\python\\python39\\lib\\site-packages\\pandas\\_libs\\hashtable.pyx\u001B[0m in \u001B[0;36minit pandas._libs.hashtable\u001B[1;34m()\u001B[0m\n",
      "\u001B[1;32mc:\\users\\dell\\appdata\\local\\programs\\python\\python39\\lib\\site-packages\\pandas\\_libs\\missing.pyx\u001B[0m in \u001B[0;36minit pandas._libs.missing\u001B[1;34m()\u001B[0m\n",
      "\u001B[1;32mc:\\users\\dell\\appdata\\local\\programs\\python\\python39\\lib\\site-packages\\pandas\\_libs\\tslibs\\__init__.py\u001B[0m in \u001B[0;36m<module>\u001B[1;34m\u001B[0m\n\u001B[0;32m     29\u001B[0m \u001B[1;33m\u001B[0m\u001B[0m\n\u001B[0;32m     30\u001B[0m \u001B[1;32mfrom\u001B[0m \u001B[0mpandas\u001B[0m\u001B[1;33m.\u001B[0m\u001B[0m_libs\u001B[0m\u001B[1;33m.\u001B[0m\u001B[0mtslibs\u001B[0m \u001B[1;32mimport\u001B[0m \u001B[0mdtypes\u001B[0m\u001B[1;33m\u001B[0m\u001B[1;33m\u001B[0m\u001B[0m\n\u001B[1;32m---> 31\u001B[1;33m from pandas._libs.tslibs.conversion import (\n\u001B[0m\u001B[0;32m     32\u001B[0m     \u001B[0mOutOfBoundsTimedelta\u001B[0m\u001B[1;33m,\u001B[0m\u001B[1;33m\u001B[0m\u001B[1;33m\u001B[0m\u001B[0m\n\u001B[0;32m     33\u001B[0m     \u001B[0mlocalize_pydatetime\u001B[0m\u001B[1;33m,\u001B[0m\u001B[1;33m\u001B[0m\u001B[1;33m\u001B[0m\u001B[0m\n",
      "\u001B[1;32mc:\\users\\dell\\appdata\\local\\programs\\python\\python39\\lib\\site-packages\\pandas\\_libs\\tslibs\\conversion.pyx\u001B[0m in \u001B[0;36minit pandas._libs.tslibs.conversion\u001B[1;34m()\u001B[0m\n",
      "\u001B[1;32mc:\\users\\dell\\appdata\\local\\programs\\python\\python39\\lib\\site-packages\\pandas\\_libs\\tslibs\\parsing.pyx\u001B[0m in \u001B[0;36minit pandas._libs.tslibs.parsing\u001B[1;34m()\u001B[0m\n",
      "\u001B[1;32mc:\\users\\dell\\appdata\\local\\programs\\python\\python39\\lib\\site-packages\\pandas\\_libs\\tslibs\\offsets.pyx\u001B[0m in \u001B[0;36minit pandas._libs.tslibs.offsets\u001B[1;34m()\u001B[0m\n",
      "\u001B[1;32mc:\\users\\dell\\appdata\\local\\programs\\python\\python39\\lib\\importlib\\_bootstrap.py\u001B[0m in \u001B[0;36mparent\u001B[1;34m(self)\u001B[0m\n",
      "\u001B[1;31mKeyboardInterrupt\u001B[0m: "
     ]
    }
   ],
   "source": [
    "import pandas as pd\n",
    "import numpy as np\n",
    "import random\n",
    "import math\n",
    "\n"
   ]
  },
  {
   "cell_type": "code",
   "execution_count": 2,
   "metadata": {},
   "outputs": [],
   "source": [
    "df=pd.read_csv('n50.csv',parse_dates=['Date'],index_col='Date')  #Importing Dataset\n",
    "df = df.loc[\"2016-01-01\" : ]   #Since 2016-01-01, 5y(1234rows till 2020-12-31)\n",
    "tdf=df.copy()                  #deep copy\n",
    "df.reset_index(drop=True, inplace=True)"
   ]
  },
  {
   "cell_type": "code",
   "execution_count": 3,
   "metadata": {},
   "outputs": [],
   "source": [
    "def number_of_years(y):        #calculates the number of years of the dataset\n",
    "  p=y.index[0]                 #date of first row in the dataset (datetime format)\n",
    "  q=y.index[len(y)-1]          #date of last row in the dataset  (datetime format)\n",
    "  return ((q-p).days+1)/365           #the difference give the number of total days (not trading days) over the total number of years in the dataset"
   ]
  },
  {
   "cell_type": "code",
   "execution_count": 4,
   "metadata": {},
   "outputs": [],
   "source": [
    "trading_days=len(df)/number_of_years(tdf)                       #Trading days per year (automated)"
   ]
  },
  {
   "cell_type": "code",
   "execution_count": 5,
   "metadata": {},
   "outputs": [],
   "source": [
    "returnsh=df.pct_change()                  #Here, returnsh would mean return considered for sharpe ratio\n",
    "returnsh.fillna(0,inplace=True)           #calculating daily returns of the stocks in the portfolio"
   ]
  },
  {
   "cell_type": "code",
   "execution_count": 6,
   "metadata": {},
   "outputs": [],
   "source": [
    "returnso=returnsh.copy()                  #this cell considers only NEGATIVE returns so as to calculate sortino ratio\n",
    "for cols in returnso.columns.tolist():\n",
    "    for i in range(0,len(df)):\n",
    "        if returnso[cols][i] > 0:\n",
    "            returnso[cols][i]=0   \n",
    "            #Here, returnso would mean return considered for sortino ratio"
   ]
  },
  {
   "cell_type": "code",
   "execution_count": 7,
   "metadata": {},
   "outputs": [],
   "source": [
    "covmatsh=returnsh.cov()*trading_days      #Annualised covariance matrix calculated wrt returnsh i.e. used to calculate sharpe ratio\n",
    "covmatso=returnso.cov()*trading_days      #Annualised covariance matrix calculated wrt returnso i.e. used to calculate sortino ratio"
   ]
  },
  {
   "cell_type": "code",
   "execution_count": 8,
   "metadata": {},
   "outputs": [],
   "source": [
    "risk_free_rate = 0.0358                   #initializing risk free rate that will be used in calculating both the ratios (absolute value)\n",
    "#referred from url: https://www.rbi.org.in/Scripts/BS_NSDPDisplay.aspx?param=4&Id=24292\n",
    "#In the above url, the 364 (1 year) day treasury bill is 3.58% , when taken absolute value => 0.0358\n",
    "# (improved)"
   ]
  },
  {
   "cell_type": "code",
   "execution_count": 9,
   "metadata": {},
   "outputs": [
    {
     "data": {
      "text/plain": [
       "22"
      ]
     },
     "execution_count": 9,
     "metadata": {},
     "output_type": "execute_result"
    }
   ],
   "source": [
    "df\n",
    "stocks=df.shape[1]\n",
    "stocks"
   ]
  },
  {
   "cell_type": "code",
   "execution_count": 10,
   "metadata": {},
   "outputs": [],
   "source": [
    "global_warr_sortino=[]\n",
    "global_war_sharpe=[]"
   ]
  },
  {
   "cell_type": "code",
   "execution_count": 11,
   "metadata": {},
   "outputs": [],
   "source": [
    "#No of times we want to run the algorithm\n",
    "#ITERATIONS=500      #Search for Indian Market. IMPORTANT (Perform Trials and look for optimal value)#$#$#$#$#$#$#$#\n",
    "\n",
    "ITERATIONS=20\n",
    "\n",
    "#Constant<Fixed amount pheromone>\n",
    "Q=0.1\n",
    "#Evaporation rate\n",
    "EVA_RATE=0.1       #Search for Indian Market. IMPORTANT (Perform Trials and look for optimal value)#$#$#$#$#$#$#$#\n",
    "#No of ants\n",
    "#ANTS=168            #Search for Indian Market. IMPORTANT (Perform Trials and look for optimal value)#$#$#$#$#$#$#$#\n",
    "ANTS=50\n",
    "#Ant Colony Optimization Approach to Portfolio Optimization – A Lingo Companion Kambiz Forqandoost Haqiqi and Tohid Kazemi"
   ]
  },
  {
   "cell_type": "code",
   "execution_count": 12,
   "metadata": {},
   "outputs": [],
   "source": [
    "def BALANCE(weights):\n",
    "    #Making sure the total sum of the weights eual to 1\n",
    "    weights = [w/sum(weights) for w in weights] # Making sure all weights represent proportions that add up to 1\n",
    "    return weights"
   ]
  },
  {
   "cell_type": "code",
   "execution_count": 13,
   "metadata": {},
   "outputs": [],
   "source": [
    "def ratio(a,b,c):                         #function to calculate ratio i.e. \"(returns-(risk_free_rate))/deviation\"\n",
    "    #calculating sharpe ratio\n",
    "    return (a-c)/b                          #a => annual return, b =>deviation (standard for sharpe, semi for sortino) , c =>risk_free_rate "
   ]
  },
  {
   "cell_type": "code",
   "execution_count": 14,
   "metadata": {},
   "outputs": [
    {
     "name": "stdout",
     "output_type": "stream",
     "text": [
      "1.2254255679559707\n",
      "1.2268213031415944\n",
      "1.2283152786302292\n",
      "1.2299089498717979\n",
      "1.231602759752605\n",
      "1.2333959887303465\n",
      "1.2352866175902726\n",
      "1.2372712115006863\n",
      "1.2393448345643345\n",
      "1.241501003950222\n",
      "1.2437316917974088\n",
      "1.2460273813173115\n",
      "1.2483771808835298\n",
      "1.2507689965038262\n",
      "1.2531897591575651\n",
      "1.2556256994069044\n",
      "1.2580626578807026\n",
      "1.2604864171346335\n",
      "1.2628830384054803\n",
      "1.2652391861771068\n",
      "1.267542424361754\n",
      "1.2697814701785084\n",
      "1.2719463952040293\n",
      "1.2740287671665356\n",
      "1.276021730375404\n",
      "1.2779200267605724\n",
      "1.2797199629538185\n",
      "1.281419331419431\n",
      "1.283017295220618\n",
      "1.28451424661068\n",
      "1.285911649391315\n",
      "1.2872118740776821\n",
      "1.2884180335707927\n",
      "1.2895338254747064\n",
      "1.290563385589849\n",
      "1.2915111556017906\n",
      "1.2923817666576054\n",
      "1.2931799394273131\n",
      "1.2939104003994342\n",
      "1.2945778135458403\n",
      "1.2951867260849643\n",
      "1.295741526839026\n",
      "1.2962464155835105\n",
      "1.2967053817907654\n",
      "1.2971221912435946\n",
      "1.2975003791138697\n",
      "1.2978432482453797\n",
      "1.298153871534607\n",
      "1.2984350974571544\n",
      "1.2984888123219036\n",
      "1.2987424231640503\n",
      "1.29900270665449\n",
      "1.299267870918942\n",
      "1.2995358605586533\n",
      "1.2998043848650453\n",
      "1.3000709601911067\n",
      "1.3003329662783965\n",
      "1.3005877152198837\n",
      "1.300832530534594\n",
      "1.301064832669634\n",
      "1.3012822262796386\n",
      "1.3014825840126343\n",
      "1.3016641213773787\n",
      "1.3018254576489285\n",
      "1.3019656586829629\n",
      "1.3020842588720765\n",
      "1.3021812611359018\n",
      "1.3022571155920561\n",
      "1.3023126791940902\n",
      "1.3023491599569228\n",
      "1.302368050283903\n",
      "1.3023710542988471\n",
      "1.3137569783920409\n",
      "1.3213213689870233\n",
      "1.3491064793473246\n"
     ]
    }
   ],
   "source": [
    "#Initializing pbest(the best fitness value   SHARPE)\n",
    "pbest=-1\n",
    "#Initializing the current fitness value\n",
    "fitness=0\n",
    "\n",
    "#for each iteration\n",
    "for iteration in range(ITERATIONS):\n",
    "    \n",
    "    #PREPARAING THE PHEROMONE MATRIX WHERE THE COLS=STOCKS AND  ROWS=ANTS\n",
    "    pheromon=[[0]*stocks for i in range(ANTS+1)]#why (ants+1)?The last ant can update the pheromone values in the last row\n",
    "    \n",
    "    # Initializing the pheromone status \n",
    "    for i in range(len(pheromon[0])):\n",
    "        pheromon[0][i]=random.randint(1,15)   #When input stocks varies, this needs to vary accordingly.(Divide number of stocks / 2)\n",
    "    \n",
    "    #copying the values and storing it in temp_pher\n",
    "    temp_pher=pheromon[0]\n",
    "    \n",
    "    #Making sure that the total amount of pheromone equals 1 \n",
    "    weights=np.array(BALANCE(temp_pher))\n",
    "        \n",
    "    #calculating annulaised portfolio return\n",
    "    returns_temp = np.sum(returnsh.mean()*weights)*trading_days \n",
    "    #print(returns_temp)\n",
    "    \n",
    "    #calculating portfolio varience wrt calculating sharpe ratio\n",
    "    varsh=np.dot(weights.T,np.dot(covmatsh,weights)) \n",
    "    #print(varsh)\n",
    "    \n",
    "    #portfolio risk\n",
    "    volatility_temp = np.sqrt(varsh)      \n",
    "    \n",
    "    #Calculating fitness value(ie sharpe ratio)\n",
    "    fitness = ratio(returns_temp,volatility_temp,risk_free_rate)\n",
    "    \n",
    "    #Initializing the intial fitness value as the best fitness value(pbest)\n",
    "    if pbest==-1:\n",
    "         pbest=fitness\n",
    "    \n",
    "    #list\n",
    "    path=[]\n",
    "   \n",
    "    #for each ant\n",
    "    for ant in range(ANTS-1):\n",
    "        \n",
    "        #find the total pheromone \n",
    "        #print(\"Pheronome: \",pheromon[ant])\n",
    "        total=sum(pheromon[ant])\n",
    "        #print(\"Total: \",total)\n",
    "    \n",
    "        #Initializing probability\n",
    "        probability=pheromon[ant][:]\n",
    "        #print(\"Probability: \",probability)\n",
    "        \n",
    "        #finding probability of each stocks pheromone \n",
    "        for p in range(len(probability)):\n",
    "            probability[p]=(probability[p]/total)\n",
    "            \n",
    "        #Trying to select stocks in decreasing order based on their pheromone level and storing the stock order in a list(path)\n",
    "        for stock in range(stocks):\n",
    "            select=probability.index(max(probability))\n",
    "            probability[select]=-math.inf\n",
    "            path.append(select)\n",
    "            #print(\"Path: \",path)\n",
    "            \n",
    "        \n",
    "        #Updating the pheromone level of each stock for the next ant \n",
    "        #Formula: old pheromone level * (1-eva_rate) + Q * (fitness/pbest) where Q is fixed amount of pheromone\n",
    "        for s in path:\n",
    "            pheromon[ant+1][s]=pheromon[ant][s]*(1-EVA_RATE)+Q*(fitness/pbest)\n",
    "        \n",
    "        \n",
    "        #making sure that the updated pheromon adds upto 1\n",
    "        temp_pher=pheromon[ant+1]\n",
    "        weights=np.array(BALANCE(temp_pher))\n",
    "        returns_temp = np.sum(returnsh.mean()*weights)*trading_days   #calculating annulaised portfolio return\n",
    "        varsh=np.dot(weights.T,np.dot(covmatsh,weights))              #calculating portfolio varience wrt calculating sharpe ratio\n",
    "        volatility_temp = np.sqrt(varsh)                              #portfolio risk\n",
    "        fitness = ratio(returns_temp,volatility_temp,risk_free_rate)  #calculating sharpe ratio\n",
    "        #comparing the old fitness value with the updated fitness value\n",
    "        if(fitness>pbest):\n",
    "            \n",
    "            #if the updated fitness value is better than the previous, change pbest to present fitness value\n",
    "            pbest=fitness\n",
    "            print(pbest)\n",
    "            #remembering the weights of the best portfolio\n",
    "            global_warr_sharpe=weights.tolist()\n",
    "        #print(\"Global warr sharpe: \",global_warr_sharpe)\n"
   ]
  },
  {
   "cell_type": "code",
   "execution_count": 15,
   "metadata": {},
   "outputs": [
    {
     "name": "stdout",
     "output_type": "stream",
     "text": [
      "ASIANPAINT -> 3.387035264362897 %\n",
      "BAJFINANCE -> 7.265221553234944 %\n",
      "BAJAJFINSV -> 3.9410618770589037 %\n",
      "BRITANNIA -> 4.49508848975491 %\n",
      "DIVISLAB -> 2.278982038970884 %\n",
      "HCLTECH -> 3.387035264362897 %\n",
      "HDFCBANK -> 3.9410618770589037 %\n",
      "HINDALCO -> 2.83300865166689 %\n",
      "HINDUNILVR -> 7.265221553234944 %\n",
      "HDFC -> 2.83300865166689 %\n",
      "ICICIBANK -> 0.6169022008828642 %\n",
      "INFY -> 3.387035264362897 %\n",
      "JSWSTEEL -> 6.157168327842929 %\n",
      "KOTAKBANK -> 0.6169022008828642 %\n",
      "NESTLEIND -> 5.049115102450917 %\n",
      "RELIANCE -> 8.373274778626955 %\n",
      "SHREECEM -> 6.711194940538936 %\n",
      "TCS -> 3.387035264362897 %\n",
      "TATASTEEL -> 3.9410618770589037 %\n",
      "TECHM -> 8.373274778626955 %\n",
      "TITAN -> 5.603141715146923 %\n",
      "WIPRO -> 6.157168327842929 %\n"
     ]
    }
   ],
   "source": [
    "names=df.columns\n",
    "j=0\n",
    "for i in (names):\n",
    "    print(\"{} -> {} %\".format(i,global_warr_sharpe[j]*100))\n",
    "    j+=1"
   ]
  },
  {
   "cell_type": "code",
   "execution_count": 16,
   "metadata": {},
   "outputs": [
    {
     "name": "stdout",
     "output_type": "stream",
     "text": [
      "Sharpe Ratio:  1.3491064793473246\n"
     ]
    }
   ],
   "source": [
    "weights=np.array(global_warr_sharpe)\n",
    "returns_temp = np.sum(returnsh.mean()*weights)*trading_days   #calculating annulaised portfolio return\n",
    "varsh=np.dot(weights.T,np.dot(covmatsh,weights))              #calculating portfolio varience wrt calculating sharpe ratio\n",
    "volatility_temp = np.sqrt(varsh)                              #portfolio risk\n",
    "fitness = ratio(returns_temp,volatility_temp,risk_free_rate)  #calculating sharpe ratio\n",
    "print(\"Sharpe Ratio: \",fitness)"
   ]
  },
  {
   "cell_type": "code",
   "execution_count": 17,
   "metadata": {
    "pycharm": {
     "is_executing": true
    }
   },
   "outputs": [
    {
     "name": "stdout",
     "output_type": "stream",
     "text": [
      "0.2701457630710407\n",
      "0.2657747371427953\n",
      "0.27548706770547987\n",
      "0.28035219783242016\n",
      "0.2911787692648987\n",
      "0.2891254929362958\n",
      "0.2740494695332606\n",
      "0.2837055632366366\n",
      "0.28631119271128364\n",
      "0.2800245320550164\n",
      "0.2796224101596918\n",
      "0.2762691973104403\n",
      "0.2665306831265507\n",
      "0.26403144823288005\n",
      "0.26286713180807736\n",
      "0.2755529942244773\n",
      "0.30351606948595555\n",
      "0.2859383145106997\n",
      "0.2675744327317647\n",
      "0.2826856335174921\n"
     ]
    }
   ],
   "source": [
    "#Initializing pbest(the best fitness value    SORTINO)\n",
    "pbest=-1\n",
    "#Initializing the current fitness value\n",
    "fitness=0\n",
    "\n",
    "#for each iteration\n",
    "for iteration in range(ITERATIONS):\n",
    "    \n",
    "    #PREPARAING THE PREROMON MATRIX WHERE THE COLS=STOCKS AND  ROWS=ANTS\n",
    "    pheromon=[[0]*stocks for i in range(ANTS)]\n",
    "    for i in range(len(pheromon[0])):\n",
    "        pheromon[0][i]=random.randint(1,15)\n",
    "\n",
    "    temp_pher=pheromon[0]\n",
    "    weights=np.array(BALANCE(temp_pher))\n",
    "    returns_temp = np.sum(returnsh.mean()*weights)*trading_days   #calculating annulaised portfolio return\n",
    "    varso=np.dot(weights.T,np.dot(covmatso,weights))              #calculating portfolio varience wrt calculating sortino ratio\n",
    "    semi_temp = np.sqrt(varso)                                    #portfolio semi-deviation\n",
    "    fitness = ratio(returns_temp,semi_temp,risk_free_rate)  #calculating Sortino ratio\n",
    "    if pbest==-1:\n",
    "         pbest=fitness\n",
    "    \n",
    "    path=[]\n",
    "   \n",
    "    \n",
    "   \n",
    "    for ant in range(ANTS-1):\n",
    "        total=sum(pheromon[ant])\n",
    "        probability=pheromon[ant][:]\n",
    "        for p in range(len(probability)):\n",
    "            probability[p]=(probability[p]/total)\n",
    "        for stock in range(stocks):\n",
    "            select=probability.index(max(probability))\n",
    "            probability[select]=-math.inf\n",
    "            path.append(select)\n",
    "        \n",
    "            \n",
    "        for s in path:\n",
    "            pheromon[ant+1][s]=pheromon[ant][s]*(1-EVA_RATE)+Q*(fitness/pbest)\n",
    "            \n",
    "        temp_pher=pheromon[ant+1]\n",
    "        weights=np.array(BALANCE(temp_pher))\n",
    "        returns_temp = np.sum(returnsh.mean()*weights)*trading_days   #calculating annulaised portfolio return\n",
    "        varso=np.dot(weights.T,np.dot(covmatso,weights))              #calculating portfolio varience wrt calculating sortino ratio\n",
    "        semi_temp = np.sqrt(varso)                                    #portfolio semi-deviation\n",
    "        fitness = ratio(returns_temp,semi_temp,risk_free_rate)  #calculating Sortino ratio\n",
    "        if(fitness>pbest):\n",
    "            pbest=fitness\n",
    "            #print(pbest)\n",
    "            global_warr_sortino=weights.tolist()"
   ]
  },
  {
   "cell_type": "code",
   "execution_count": 18,
   "metadata": {
    "pycharm": {
     "is_executing": true
    }
   },
   "outputs": [
    {
     "name": "stdout",
     "output_type": "stream",
     "text": [
      "ASIANPAINT -> 3.052584047600274 %\n",
      "BAJFINANCE -> 9.02406603901736 %\n",
      "BAJAJFINSV -> 6.635473242450525 %\n",
      "BRITANNIA -> 1.2611394501751478 %\n",
      "DIVISLAB -> 7.829769640733944 %\n",
      "HCLTECH -> 1.2611394501751478 %\n",
      "HDFCBANK -> 1.8582876493168567 %\n",
      "HINDALCO -> 7.829769640733944 %\n",
      "HINDUNILVR -> 3.649732246741983 %\n",
      "HDFC -> 0.6639912510334394 %\n",
      "ICICIBANK -> 3.649732246741983 %\n",
      "INFY -> 1.8582876493168567 %\n",
      "JSWSTEEL -> 5.441176844167108 %\n",
      "KOTAKBANK -> 7.232621441592234 %\n",
      "NESTLEIND -> 3.649732246741983 %\n",
      "RELIANCE -> 3.649732246741983 %\n",
      "SHREECEM -> 3.649732246741983 %\n",
      "TCS -> 4.8440286450254 %\n",
      "TATASTEEL -> 8.426917839875651 %\n",
      "TECHM -> 5.441176844167108 %\n",
      "TITAN -> 2.4554358484585657 %\n",
      "WIPRO -> 6.635473242450525 %\n"
     ]
    }
   ],
   "source": [
    "\n",
    "names=df.columns\n",
    "j=0\n",
    "for i in (names):\n",
    "    print(\"{} -> {} %\".format(i,global_warr_sortino[j]*100))\n",
    "    j+=1"
   ]
  },
  {
   "cell_type": "code",
   "execution_count": 19,
   "metadata": {
    "pycharm": {
     "is_executing": true
    }
   },
   "outputs": [
    {
     "name": "stdout",
     "output_type": "stream",
     "text": [
      "Sortino Ratio:  2.135681157724758\n"
     ]
    }
   ],
   "source": [
    "weights=np.array(global_warr_sortino)\n",
    "returns_temp = np.sum(returnsh.mean()*weights)*trading_days   #calculating annulaised portfolio return\n",
    "varso=np.dot(weights.T,np.dot(covmatso,weights))              #calculating portfolio varience wrt calculating sortino ratio\n",
    "semi_temp = np.sqrt(varso)                                    #portfolio semi-deviation\n",
    "fitness = ratio(returns_temp,semi_temp,risk_free_rate)        #calculating Sortino ratio\n",
    "print(\"Sortino Ratio: \",fitness)"
   ]
  }
 ],
 "metadata": {
  "kernelspec": {
   "display_name": "Python 3 (ipykernel)",
   "language": "python",
   "name": "python3"
  },
  "language_info": {
   "codemirror_mode": {
    "name": "ipython",
    "version": 3
   },
   "file_extension": ".py",
   "mimetype": "text/x-python",
   "name": "python",
   "nbconvert_exporter": "python",
   "pygments_lexer": "ipython3",
   "version": "3.9.6"
  }
 },
 "nbformat": 4,
 "nbformat_minor": 4
}