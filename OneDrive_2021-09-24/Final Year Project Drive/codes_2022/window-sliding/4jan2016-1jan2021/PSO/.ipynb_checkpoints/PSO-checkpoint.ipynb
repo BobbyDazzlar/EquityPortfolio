{
 "cells": [
  {
   "cell_type": "code",
   "execution_count": 1,
   "metadata": {},
   "outputs": [],
   "source": [
    "import pandas as pd\n",
    "import numpy as np\n",
    "import random\n",
    "import optuna"
   ]
  },
  {
   "cell_type": "code",
   "execution_count": 2,
   "metadata": {
    "pycharm": {
     "name": "#%%\n"
    }
   },
   "outputs": [],
   "source": [
    "df = pd.read_csv(\"n50.csv\")\n",
    "\n",
    "row = 0\n",
    "for date in range(len(df['Date'])):\n",
    "    if df['Date'][date] != \"2021-01-01\":\n",
    "        row += 1\n",
    "    else:\n",
    "        row += 1\n",
    "        break\n",
    "df1 = df.iloc[:row, :]\n",
    "## INDEXING THE ASSETS\n",
    "\n",
    "\n",
    "df1 = list(df1.iloc[-1:])[1:]\n",
    "stock_names = {}\n",
    "for i in range(len(df1)):\n",
    "    stock_names[df1[i]] = i + 1"
   ]
  },
  {
   "cell_type": "code",
   "execution_count": 3,
   "metadata": {
    "pycharm": {
     "name": "#%%\n"
    }
   },
   "outputs": [],
   "source": [
    "n50 = pd.read_csv('n50.csv', parse_dates=['Date'], index_col='Date')\n",
    "n50 = n50.iloc[:row, :]\n"
   ]
  },
  {
   "cell_type": "code",
   "execution_count": 4,
   "metadata": {
    "pycharm": {
     "name": "#%%"
    }
   },
   "outputs": [
    {
     "data": {
      "text/plain": [
       "['ASIANPAINT',\n",
       " 'BAJFINANCE',\n",
       " 'BAJAJFINSV',\n",
       " 'BRITANNIA',\n",
       " 'DIVISLAB',\n",
       " 'GRASIM',\n",
       " 'HCLTECH',\n",
       " 'HDFCBANK',\n",
       " 'HINDALCO',\n",
       " 'HINDUNILVR',\n",
       " 'ICICIBANK',\n",
       " 'INFY',\n",
       " 'JSWSTEEL',\n",
       " 'LT',\n",
       " 'NESTLEIND',\n",
       " 'POWERGRID',\n",
       " 'RELIANCE',\n",
       " 'TCS',\n",
       " 'TATACONSUM',\n",
       " 'TATASTEEL',\n",
       " 'TECHM',\n",
       " 'TITAN',\n",
       " 'ULTRACEMCO',\n",
       " 'WIPRO']"
      ]
     },
     "execution_count": 4,
     "metadata": {},
     "output_type": "execute_result"
    }
   ],
   "source": [
    "df1"
   ]
  },
  {
   "cell_type": "code",
   "execution_count": 5,
   "metadata": {},
   "outputs": [
    {
     "data": {
      "text/plain": [
       "1235"
      ]
     },
     "execution_count": 5,
     "metadata": {},
     "output_type": "execute_result"
    }
   ],
   "source": [
    "row"
   ]
  },
  {
   "cell_type": "code",
   "execution_count": null,
   "metadata": {},
   "outputs": [],
   "source": []
  }
 ],
 "metadata": {
  "kernelspec": {
   "display_name": "Python 3 (ipykernel)",
   "language": "python",
   "name": "python3"
  },
  "language_info": {
   "codemirror_mode": {
    "name": "ipython",
    "version": 3
   },
   "file_extension": ".py",
   "mimetype": "text/x-python",
   "name": "python",
   "nbconvert_exporter": "python",
   "pygments_lexer": "ipython3",
   "version": "3.9.6"
  }
 },
 "nbformat": 4,
 "nbformat_minor": 1
}
