{
 "cells": [
  {
   "cell_type": "markdown",
   "metadata": {},
   "source": [
    "# MVO weights(sharpe/sortino)\n",
    "4.57606371261345,9.67698598407907,2.8816471398668,3.76280675093989,6.10005496604961,1.14708159257701,1.63996379334881,3.36411165704113,2.00796787062891,9.13229658964017,1.37274941345458,2.38654278474067,6.25880838891221,2.14733058728827,9.76228755822564,2.01419193025687,7.83900398874845,7.72870344184099,2.27786673057532,3.33226384976688,1.03163727917332,7.21709695950646,0.606271511043036,1.73626551968245"
   ]
  },
  {
   "cell_type": "code",
   "execution_count": 1,
   "metadata": {
    "id": "s-lgOBxeXP22"
   },
   "outputs": [],
   "source": [
    "import pandas as pd\n",
    "import numpy as np\n",
    "import seaborn as sns\n",
    "import matplotlib.pyplot as plt\n",
    "%matplotlib inline"
   ]
  },
  {
   "cell_type": "code",
   "execution_count": 2,
   "metadata": {
    "id": "xKidKyP7XbmM"
   },
   "outputs": [],
   "source": [
    "df=pd.read_csv('Filtered_n50.csv',parse_dates=['Date'],index_col='Date')\n",
    "df = df.loc[\"2021-01-01\" : \"2021-12-31\"]   #Since 2016-01-01, 5y(1238rows till 2020-12-31), + year 2021's rows\n",
    "tdf=df.copy()                  #deep copy\n",
    "df.reset_index(drop=True, inplace=True)"
   ]
  },
  {
   "cell_type": "code",
   "execution_count": 3,
   "metadata": {},
   "outputs": [
    {
     "data": {
      "text/html": [
       "<div>\n",
       "<style scoped>\n",
       "    .dataframe tbody tr th:only-of-type {\n",
       "        vertical-align: middle;\n",
       "    }\n",
       "\n",
       "    .dataframe tbody tr th {\n",
       "        vertical-align: top;\n",
       "    }\n",
       "\n",
       "    .dataframe thead th {\n",
       "        text-align: right;\n",
       "    }\n",
       "</style>\n",
       "<table border=\"1\" class=\"dataframe\">\n",
       "  <thead>\n",
       "    <tr style=\"text-align: right;\">\n",
       "      <th></th>\n",
       "      <th>ASIANPAINT</th>\n",
       "      <th>BAJFINANCE</th>\n",
       "      <th>BAJAJFINSV</th>\n",
       "      <th>BRITANNIA</th>\n",
       "      <th>DIVISLAB</th>\n",
       "      <th>GRASIM</th>\n",
       "      <th>HCLTECH</th>\n",
       "      <th>HDFCBANK</th>\n",
       "      <th>HINDALCO</th>\n",
       "      <th>HINDUNILVR</th>\n",
       "      <th>...</th>\n",
       "      <th>NESTLEIND</th>\n",
       "      <th>POWERGRID</th>\n",
       "      <th>RELIANCE</th>\n",
       "      <th>TCS</th>\n",
       "      <th>TATACONSUM</th>\n",
       "      <th>TATASTEEL</th>\n",
       "      <th>TECHM</th>\n",
       "      <th>TITAN</th>\n",
       "      <th>ULTRACEMCO</th>\n",
       "      <th>WIPRO</th>\n",
       "    </tr>\n",
       "  </thead>\n",
       "  <tbody>\n",
       "    <tr>\n",
       "      <th>0</th>\n",
       "      <td>2758.620117</td>\n",
       "      <td>5271.631836</td>\n",
       "      <td>8868.299805</td>\n",
       "      <td>3496.736084</td>\n",
       "      <td>3833.336182</td>\n",
       "      <td>930.914917</td>\n",
       "      <td>923.280396</td>\n",
       "      <td>1418.909058</td>\n",
       "      <td>236.712418</td>\n",
       "      <td>2355.920898</td>\n",
       "      <td>...</td>\n",
       "      <td>18242.900391</td>\n",
       "      <td>135.132904</td>\n",
       "      <td>1981.126831</td>\n",
       "      <td>2891.489258</td>\n",
       "      <td>598.033997</td>\n",
       "      <td>629.023438</td>\n",
       "      <td>942.992554</td>\n",
       "      <td>1554.869995</td>\n",
       "      <td>5265.106934</td>\n",
       "      <td>387.229431</td>\n",
       "    </tr>\n",
       "    <tr>\n",
       "      <th>1</th>\n",
       "      <td>2736.903320</td>\n",
       "      <td>5207.785156</td>\n",
       "      <td>8896.592773</td>\n",
       "      <td>3482.132812</td>\n",
       "      <td>3846.482422</td>\n",
       "      <td>961.882263</td>\n",
       "      <td>952.324219</td>\n",
       "      <td>1409.897949</td>\n",
       "      <td>252.552826</td>\n",
       "      <td>2394.354492</td>\n",
       "      <td>...</td>\n",
       "      <td>18170.970703</td>\n",
       "      <td>134.384140</td>\n",
       "      <td>1984.466064</td>\n",
       "      <td>3001.293213</td>\n",
       "      <td>600.519592</td>\n",
       "      <td>677.831238</td>\n",
       "      <td>966.134644</td>\n",
       "      <td>1547.188477</td>\n",
       "      <td>5301.330566</td>\n",
       "      <td>395.510803</td>\n",
       "    </tr>\n",
       "    <tr>\n",
       "      <th>2</th>\n",
       "      <td>2776.808350</td>\n",
       "      <td>5110.741699</td>\n",
       "      <td>8818.710938</td>\n",
       "      <td>3480.368896</td>\n",
       "      <td>3826.414795</td>\n",
       "      <td>958.740601</td>\n",
       "      <td>962.960571</td>\n",
       "      <td>1420.551758</td>\n",
       "      <td>248.580322</td>\n",
       "      <td>2418.086182</td>\n",
       "      <td>...</td>\n",
       "      <td>18349.240234</td>\n",
       "      <td>134.063232</td>\n",
       "      <td>1959.795410</td>\n",
       "      <td>3054.170898</td>\n",
       "      <td>606.037598</td>\n",
       "      <td>665.653748</td>\n",
       "      <td>967.966675</td>\n",
       "      <td>1567.190430</td>\n",
       "      <td>5315.262207</td>\n",
       "      <td>405.388580</td>\n",
       "    </tr>\n",
       "    <tr>\n",
       "      <th>3</th>\n",
       "      <td>2788.238281</td>\n",
       "      <td>5022.184570</td>\n",
       "      <td>8784.219727</td>\n",
       "      <td>3469.195801</td>\n",
       "      <td>3864.010498</td>\n",
       "      <td>981.978577</td>\n",
       "      <td>950.187134</td>\n",
       "      <td>1414.428345</td>\n",
       "      <td>257.270172</td>\n",
       "      <td>2385.276611</td>\n",
       "      <td>...</td>\n",
       "      <td>18306.724609</td>\n",
       "      <td>139.875015</td>\n",
       "      <td>1908.111694</td>\n",
       "      <td>3013.191895</td>\n",
       "      <td>601.464111</td>\n",
       "      <td>668.832581</td>\n",
       "      <td>961.506287</td>\n",
       "      <td>1568.836426</td>\n",
       "      <td>5421.892090</td>\n",
       "      <td>405.488373</td>\n",
       "    </tr>\n",
       "    <tr>\n",
       "      <th>4</th>\n",
       "      <td>2775.218262</td>\n",
       "      <td>5072.803223</td>\n",
       "      <td>8985.821289</td>\n",
       "      <td>3482.034912</td>\n",
       "      <td>3787.524170</td>\n",
       "      <td>991.203918</td>\n",
       "      <td>934.985291</td>\n",
       "      <td>1410.146851</td>\n",
       "      <td>271.025024</td>\n",
       "      <td>2337.468506</td>\n",
       "      <td>...</td>\n",
       "      <td>17923.144531</td>\n",
       "      <td>140.516815</td>\n",
       "      <td>1905.021729</td>\n",
       "      <td>2994.726562</td>\n",
       "      <td>597.387695</td>\n",
       "      <td>706.978943</td>\n",
       "      <td>959.192017</td>\n",
       "      <td>1538.658813</td>\n",
       "      <td>5371.736816</td>\n",
       "      <td>405.837585</td>\n",
       "    </tr>\n",
       "    <tr>\n",
       "      <th>...</th>\n",
       "      <td>...</td>\n",
       "      <td>...</td>\n",
       "      <td>...</td>\n",
       "      <td>...</td>\n",
       "      <td>...</td>\n",
       "      <td>...</td>\n",
       "      <td>...</td>\n",
       "      <td>...</td>\n",
       "      <td>...</td>\n",
       "      <td>...</td>\n",
       "      <td>...</td>\n",
       "      <td>...</td>\n",
       "      <td>...</td>\n",
       "      <td>...</td>\n",
       "      <td>...</td>\n",
       "      <td>...</td>\n",
       "      <td>...</td>\n",
       "      <td>...</td>\n",
       "      <td>...</td>\n",
       "      <td>...</td>\n",
       "      <td>...</td>\n",
       "    </tr>\n",
       "    <tr>\n",
       "      <th>243</th>\n",
       "      <td>3272.399902</td>\n",
       "      <td>6890.750000</td>\n",
       "      <td>16013.099609</td>\n",
       "      <td>3513.199951</td>\n",
       "      <td>4473.200195</td>\n",
       "      <td>1602.550049</td>\n",
       "      <td>1267.199951</td>\n",
       "      <td>1450.800049</td>\n",
       "      <td>452.799988</td>\n",
       "      <td>2301.399902</td>\n",
       "      <td>...</td>\n",
       "      <td>19302.349609</td>\n",
       "      <td>206.100006</td>\n",
       "      <td>2370.250000</td>\n",
       "      <td>3689.616699</td>\n",
       "      <td>718.500000</td>\n",
       "      <td>1121.800049</td>\n",
       "      <td>1785.000000</td>\n",
       "      <td>2331.300049</td>\n",
       "      <td>7245.049805</td>\n",
       "      <td>699.599976</td>\n",
       "    </tr>\n",
       "    <tr>\n",
       "      <th>244</th>\n",
       "      <td>3368.199951</td>\n",
       "      <td>6906.649902</td>\n",
       "      <td>16100.849609</td>\n",
       "      <td>3550.649902</td>\n",
       "      <td>4525.350098</td>\n",
       "      <td>1621.949951</td>\n",
       "      <td>1283.900024</td>\n",
       "      <td>1460.800049</td>\n",
       "      <td>458.149994</td>\n",
       "      <td>2309.100098</td>\n",
       "      <td>...</td>\n",
       "      <td>19355.000000</td>\n",
       "      <td>205.600006</td>\n",
       "      <td>2398.399902</td>\n",
       "      <td>3700.048340</td>\n",
       "      <td>726.950012</td>\n",
       "      <td>1127.449951</td>\n",
       "      <td>1806.099976</td>\n",
       "      <td>2379.850098</td>\n",
       "      <td>7406.100098</td>\n",
       "      <td>705.450012</td>\n",
       "    </tr>\n",
       "    <tr>\n",
       "      <th>245</th>\n",
       "      <td>3367.449951</td>\n",
       "      <td>6911.649902</td>\n",
       "      <td>16249.049805</td>\n",
       "      <td>3559.600098</td>\n",
       "      <td>4621.600098</td>\n",
       "      <td>1604.650024</td>\n",
       "      <td>1291.900024</td>\n",
       "      <td>1453.849976</td>\n",
       "      <td>454.250000</td>\n",
       "      <td>2306.850098</td>\n",
       "      <td>...</td>\n",
       "      <td>19399.650391</td>\n",
       "      <td>204.600006</td>\n",
       "      <td>2402.500000</td>\n",
       "      <td>3688.218994</td>\n",
       "      <td>726.650024</td>\n",
       "      <td>1116.250000</td>\n",
       "      <td>1786.849976</td>\n",
       "      <td>2402.149902</td>\n",
       "      <td>7420.950195</td>\n",
       "      <td>703.700012</td>\n",
       "    </tr>\n",
       "    <tr>\n",
       "      <th>246</th>\n",
       "      <td>3365.699951</td>\n",
       "      <td>6871.100098</td>\n",
       "      <td>16167.549805</td>\n",
       "      <td>3573.899902</td>\n",
       "      <td>4627.899902</td>\n",
       "      <td>1593.650024</td>\n",
       "      <td>1317.050049</td>\n",
       "      <td>1461.500000</td>\n",
       "      <td>449.649994</td>\n",
       "      <td>2325.600098</td>\n",
       "      <td>...</td>\n",
       "      <td>19406.550781</td>\n",
       "      <td>205.350006</td>\n",
       "      <td>2359.100098</td>\n",
       "      <td>3727.200684</td>\n",
       "      <td>728.000000</td>\n",
       "      <td>1101.000000</td>\n",
       "      <td>1799.949951</td>\n",
       "      <td>2437.300049</td>\n",
       "      <td>7397.200195</td>\n",
       "      <td>714.099976</td>\n",
       "    </tr>\n",
       "    <tr>\n",
       "      <th>247</th>\n",
       "      <td>3382.949951</td>\n",
       "      <td>6977.299805</td>\n",
       "      <td>16406.199219</td>\n",
       "      <td>3606.000000</td>\n",
       "      <td>4678.200195</td>\n",
       "      <td>1622.250000</td>\n",
       "      <td>1319.099976</td>\n",
       "      <td>1479.400024</td>\n",
       "      <td>475.549988</td>\n",
       "      <td>2360.149902</td>\n",
       "      <td>...</td>\n",
       "      <td>19705.699219</td>\n",
       "      <td>204.399994</td>\n",
       "      <td>2368.149902</td>\n",
       "      <td>3731.792725</td>\n",
       "      <td>743.450012</td>\n",
       "      <td>1111.449951</td>\n",
       "      <td>1790.550049</td>\n",
       "      <td>2522.399902</td>\n",
       "      <td>7591.049805</td>\n",
       "      <td>715.349976</td>\n",
       "    </tr>\n",
       "  </tbody>\n",
       "</table>\n",
       "<p>248 rows × 24 columns</p>\n",
       "</div>"
      ],
      "text/plain": [
       "      ASIANPAINT   BAJFINANCE    BAJAJFINSV    BRITANNIA     DIVISLAB  \\\n",
       "0    2758.620117  5271.631836   8868.299805  3496.736084  3833.336182   \n",
       "1    2736.903320  5207.785156   8896.592773  3482.132812  3846.482422   \n",
       "2    2776.808350  5110.741699   8818.710938  3480.368896  3826.414795   \n",
       "3    2788.238281  5022.184570   8784.219727  3469.195801  3864.010498   \n",
       "4    2775.218262  5072.803223   8985.821289  3482.034912  3787.524170   \n",
       "..           ...          ...           ...          ...          ...   \n",
       "243  3272.399902  6890.750000  16013.099609  3513.199951  4473.200195   \n",
       "244  3368.199951  6906.649902  16100.849609  3550.649902  4525.350098   \n",
       "245  3367.449951  6911.649902  16249.049805  3559.600098  4621.600098   \n",
       "246  3365.699951  6871.100098  16167.549805  3573.899902  4627.899902   \n",
       "247  3382.949951  6977.299805  16406.199219  3606.000000  4678.200195   \n",
       "\n",
       "          GRASIM      HCLTECH     HDFCBANK    HINDALCO   HINDUNILVR  ...  \\\n",
       "0     930.914917   923.280396  1418.909058  236.712418  2355.920898  ...   \n",
       "1     961.882263   952.324219  1409.897949  252.552826  2394.354492  ...   \n",
       "2     958.740601   962.960571  1420.551758  248.580322  2418.086182  ...   \n",
       "3     981.978577   950.187134  1414.428345  257.270172  2385.276611  ...   \n",
       "4     991.203918   934.985291  1410.146851  271.025024  2337.468506  ...   \n",
       "..           ...          ...          ...         ...          ...  ...   \n",
       "243  1602.550049  1267.199951  1450.800049  452.799988  2301.399902  ...   \n",
       "244  1621.949951  1283.900024  1460.800049  458.149994  2309.100098  ...   \n",
       "245  1604.650024  1291.900024  1453.849976  454.250000  2306.850098  ...   \n",
       "246  1593.650024  1317.050049  1461.500000  449.649994  2325.600098  ...   \n",
       "247  1622.250000  1319.099976  1479.400024  475.549988  2360.149902  ...   \n",
       "\n",
       "        NESTLEIND   POWERGRID     RELIANCE          TCS  TATACONSUM  \\\n",
       "0    18242.900391  135.132904  1981.126831  2891.489258  598.033997   \n",
       "1    18170.970703  134.384140  1984.466064  3001.293213  600.519592   \n",
       "2    18349.240234  134.063232  1959.795410  3054.170898  606.037598   \n",
       "3    18306.724609  139.875015  1908.111694  3013.191895  601.464111   \n",
       "4    17923.144531  140.516815  1905.021729  2994.726562  597.387695   \n",
       "..            ...         ...          ...          ...         ...   \n",
       "243  19302.349609  206.100006  2370.250000  3689.616699  718.500000   \n",
       "244  19355.000000  205.600006  2398.399902  3700.048340  726.950012   \n",
       "245  19399.650391  204.600006  2402.500000  3688.218994  726.650024   \n",
       "246  19406.550781  205.350006  2359.100098  3727.200684  728.000000   \n",
       "247  19705.699219  204.399994  2368.149902  3731.792725  743.450012   \n",
       "\n",
       "       TATASTEEL        TECHM        TITAN   ULTRACEMCO       WIPRO  \n",
       "0     629.023438   942.992554  1554.869995  5265.106934  387.229431  \n",
       "1     677.831238   966.134644  1547.188477  5301.330566  395.510803  \n",
       "2     665.653748   967.966675  1567.190430  5315.262207  405.388580  \n",
       "3     668.832581   961.506287  1568.836426  5421.892090  405.488373  \n",
       "4     706.978943   959.192017  1538.658813  5371.736816  405.837585  \n",
       "..           ...          ...          ...          ...         ...  \n",
       "243  1121.800049  1785.000000  2331.300049  7245.049805  699.599976  \n",
       "244  1127.449951  1806.099976  2379.850098  7406.100098  705.450012  \n",
       "245  1116.250000  1786.849976  2402.149902  7420.950195  703.700012  \n",
       "246  1101.000000  1799.949951  2437.300049  7397.200195  714.099976  \n",
       "247  1111.449951  1790.550049  2522.399902  7591.049805  715.349976  \n",
       "\n",
       "[248 rows x 24 columns]"
      ]
     },
     "execution_count": 3,
     "metadata": {},
     "output_type": "execute_result"
    }
   ],
   "source": [
    "df"
   ]
  },
  {
   "cell_type": "code",
   "execution_count": 4,
   "metadata": {
    "id": "D09GZZOWgT1l"
   },
   "outputs": [],
   "source": [
    "def number_of_years(y):        #calculates the number of years of the dataset\n",
    "  p=y.index[0]                 #date of first row in the dataset (datetime format)\n",
    "  q=y.index[len(y)-1]          #date of last row in the dataset  (datetime format)\n",
    "  return ((q-p).days+1)/365           #the difference give the number of total days (not trading days) over the total number of years in the dataset"
   ]
  },
  {
   "cell_type": "code",
   "execution_count": 5,
   "metadata": {
    "id": "18cZaIsOfe4f"
   },
   "outputs": [],
   "source": [
    "trading_days=len(df)/number_of_years(tdf)                       #Trading days per year (automated)"
   ]
  },
  {
   "cell_type": "code",
   "execution_count": 6,
   "metadata": {
    "id": "5Cvf_5eWXveC"
   },
   "outputs": [],
   "source": [
    "returnsh=df.pct_change()                  #Here, returnsh would mean return considered for sharpe ratio\n",
    "returnsh.fillna(0,inplace=True)           #calculating daily returns of the stocks in the portfolio"
   ]
  },
  {
   "cell_type": "code",
   "execution_count": 7,
   "metadata": {
    "id": "qxy4cC3uX_i4"
   },
   "outputs": [],
   "source": [
    "returnso=returnsh.copy()                  #this cell considers only NEGATIVE returns so as to calculate sortino ratio\n",
    "for cols in returnso.columns.tolist():\n",
    "    for i in range(0,len(df)):\n",
    "      if returnso[cols][i] > 0:\n",
    "        returnso[cols][i]=0               #Here, returnso would mean return considered for sortino ratio"
   ]
  },
  {
   "cell_type": "code",
   "execution_count": 8,
   "metadata": {
    "id": "-QVl69gSZfGk"
   },
   "outputs": [],
   "source": [
    "covmatsh=returnsh.cov()*trading_days      #Annualised covariance matrix calculated wrt returnsh i.e. used to calculate sharpe ratio\n",
    "covmatso=returnso.cov()*trading_days      #Annualised covariance matrix calculated wrt returnso i.e. used to calculate sortino ratio"
   ]
  },
  {
   "cell_type": "code",
   "execution_count": 9,
   "metadata": {
    "id": "j3oj3W-riM2U"
   },
   "outputs": [],
   "source": [
    "num_portfolios = 1                   #initializing number of portfolios to 50000; referred from Wang et al (2020) (science direct)\n",
    "num_assets = len(df.columns)              #initializing number of stocks/assets considered in the portfolio\n",
    "risk_free_rate = 0.0358                   #initializing risk free rate that will be used in calculating both the ratios (absolute value)\n",
    "#referred from url: https://www.rbi.org.in/Scripts/BS_NSDPDisplay.aspx?param=4&Id=24292\n",
    "#In the above url, the 364 (1 year) day treasury bill is 3.58% , when taken absolute value => 0.0358\n",
    "# (improved)"
   ]
  },
  {
   "cell_type": "code",
   "execution_count": 10,
   "metadata": {},
   "outputs": [],
   "source": [
    "#2021_chen etal_Mean–variance portfolio optimization using machine learning-based stock price prediction\n",
    "#Repeat the process 50,000times. From a statistical point of view, 50,000 random portfolios cover most possible portfolios with different weights and aresufficiently representative"
   ]
  },
  {
   "cell_type": "code",
   "execution_count": 11,
   "metadata": {
    "id": "QjDb76cn3ROe"
   },
   "outputs": [],
   "source": [
    "portfolio_returns = []                    #initializing an empty list for portfolio returns\n",
    "portfolio_volatility =[]                  #initializing an empty list for portfolio risk\n",
    "stock_weights =[]                         #initializing an empty list for portfolio weights\n",
    "semi_deviation =[]                        #initializing an empty list for portfolio semi-deviation\n",
    "sharpe =[]                                #initializing an empty list for portfolio sharpe ratio\n",
    "sortino =[]                               #initializing an empty list for portfolio sortino ratio"
   ]
  },
  {
   "cell_type": "code",
   "execution_count": 12,
   "metadata": {
    "id": "vNaM1Eiy7C8I"
   },
   "outputs": [],
   "source": [
    "def ratio(a,b,c):                         #function to calculate ratio i.e. \"(returns-(risk_free_rate))/deviation\"\n",
    "  return (a-c)/b                          #a => annual return, c => risk_free_rate, b => deviation (standard for sharpe, semi for sortino)"
   ]
  },
  {
   "cell_type": "code",
   "execution_count": 13,
   "metadata": {
    "id": "7a7NcnCu3eSL"
   },
   "outputs": [],
   "source": [
    "             #iterating forloop for 50000 times to generate 50000 portfolios\n",
    "weights = [4.57606371261345,9.67698598407907,2.8816471398668,3.76280675093989,6.10005496604961,\n",
    "           1.14708159257701,1.63996379334881,3.36411165704113,2.00796787062891,\n",
    "           9.13229658964017,1.37274941345458,2.38654278474067,6.25880838891221,2.14733058728827,\n",
    "           9.76228755822564,2.01419193025687,7.83900398874845,7.72870344184099,2.27786673057532,\n",
    "           3.33226384976688,1.03163727917332,7.21709695950646,0.606271511043036,1.73626551968245]                       #initializing random weights\n",
    "weights /= np.sum(weights)                                    #No Short Selling Allowed => weights add up to 1   \"x = x+y\" => \"x+=y\"    weights = weights/np.sum(weights)  \n",
    "returns_temp = np.sum(returnsh.mean()*weights)*trading_days   #calculating annulaised portfolio return\n",
    "varsh=np.dot(weights.T,np.dot(covmatsh,weights))              #calculating portfolio varience wrt calculating sharpe ratio\n",
    "varso=np.dot(weights.T,np.dot(covmatso,weights))              #calculating portfolio varience wrt calculating sortino ratio\n",
    "volatility_temp = np.sqrt(varsh)                              #portfolio risk\n",
    "semi_temp = np.sqrt(varso)                                    #portfolio semi-deviation\n",
    "shtemp = ratio(returns_temp,volatility_temp,risk_free_rate)   #calculating sharpe ratio\n",
    "sotemp = ratio(returns_temp,semi_temp,risk_free_rate)         #calculating sortino ratio\n",
    "portfolio_returns.append(returns_temp)                       \n",
    "portfolio_volatility.append(volatility_temp)\n",
    "stock_weights.append(weights)\n",
    "sharpe.append(shtemp)\n",
    "sortino.append(sotemp)\n",
    "semi_deviation.append(semi_temp)"
   ]
  },
  {
   "cell_type": "code",
   "execution_count": 14,
   "metadata": {
    "id": "TYQlju2K4Ntj"
   },
   "outputs": [],
   "source": [
    "portfolio = {'Returns' : portfolio_returns, 'Standard Deviation' : portfolio_volatility, 'Semi-Deviation' : semi_deviation, 'Sharpe Ratio' : sharpe, \n",
    "             'Sortino Ratio' : sortino}    \n",
    "#here, 'portfolio' is a dictionary which will be used to create dataframe where each row will be a portfolio"
   ]
  },
  {
   "cell_type": "code",
   "execution_count": 15,
   "metadata": {
    "id": "ldUZ6FpZ4Wav"
   },
   "outputs": [],
   "source": [
    "for counter,symbol in enumerate(df.columns):\n",
    "  portfolio[symbol + \" Weight\"] = [Weight[counter] for Weight in stock_weights] \n",
    "#to the dictionary (named 'portfolio'), weights for each symbol are added in so as to be displayed in the dataframe"
   ]
  },
  {
   "cell_type": "code",
   "execution_count": 16,
   "metadata": {
    "id": "upQ50rlk4fIK"
   },
   "outputs": [],
   "source": [
    "pc = pd.DataFrame(portfolio)         #making the final dataframe where data of 50000 portfolios is appended (subject to be saved, whose code is to be written)"
   ]
  },
  {
   "cell_type": "code",
   "execution_count": 17,
   "metadata": {
    "id": "uoxqrDxpwJrT"
   },
   "outputs": [],
   "source": [
    "pc=pc*100                                       #Converting everything to percentage\n",
    "pc['Sharpe Ratio']=pc['Sharpe Ratio']/100       #leaving ratios as it is\n",
    "pc['Sortino Ratio']=pc['Sortino Ratio']/100"
   ]
  },
  {
   "cell_type": "code",
   "execution_count": 18,
   "metadata": {},
   "outputs": [
    {
     "data": {
      "text/html": [
       "<div>\n",
       "<style scoped>\n",
       "    .dataframe tbody tr th:only-of-type {\n",
       "        vertical-align: middle;\n",
       "    }\n",
       "\n",
       "    .dataframe tbody tr th {\n",
       "        vertical-align: top;\n",
       "    }\n",
       "\n",
       "    .dataframe thead th {\n",
       "        text-align: right;\n",
       "    }\n",
       "</style>\n",
       "<table border=\"1\" class=\"dataframe\">\n",
       "  <thead>\n",
       "    <tr style=\"text-align: right;\">\n",
       "      <th></th>\n",
       "      <th>Returns</th>\n",
       "      <th>Standard Deviation</th>\n",
       "      <th>Semi-Deviation</th>\n",
       "      <th>Sharpe Ratio</th>\n",
       "      <th>Sortino Ratio</th>\n",
       "      <th>ASIANPAINT Weight</th>\n",
       "      <th>BAJFINANCE Weight</th>\n",
       "      <th>BAJAJFINSV Weight</th>\n",
       "      <th>BRITANNIA Weight</th>\n",
       "      <th>DIVISLAB Weight</th>\n",
       "      <th>...</th>\n",
       "      <th>NESTLEIND Weight</th>\n",
       "      <th>POWERGRID Weight</th>\n",
       "      <th>RELIANCE Weight</th>\n",
       "      <th>TCS Weight</th>\n",
       "      <th>TATACONSUM Weight</th>\n",
       "      <th>TATASTEEL Weight</th>\n",
       "      <th>TECHM Weight</th>\n",
       "      <th>TITAN Weight</th>\n",
       "      <th>ULTRACEMCO Weight</th>\n",
       "      <th>WIPRO Weight</th>\n",
       "    </tr>\n",
       "  </thead>\n",
       "  <tbody>\n",
       "    <tr>\n",
       "      <th>0</th>\n",
       "      <td>31.685745</td>\n",
       "      <td>14.562339</td>\n",
       "      <td>8.069578</td>\n",
       "      <td>1.93003</td>\n",
       "      <td>3.482926</td>\n",
       "      <td>4.576064</td>\n",
       "      <td>9.676986</td>\n",
       "      <td>2.881647</td>\n",
       "      <td>3.762807</td>\n",
       "      <td>6.100055</td>\n",
       "      <td>...</td>\n",
       "      <td>9.762288</td>\n",
       "      <td>2.014192</td>\n",
       "      <td>7.839004</td>\n",
       "      <td>7.728703</td>\n",
       "      <td>2.277867</td>\n",
       "      <td>3.332264</td>\n",
       "      <td>1.031637</td>\n",
       "      <td>7.217097</td>\n",
       "      <td>0.606272</td>\n",
       "      <td>1.736266</td>\n",
       "    </tr>\n",
       "  </tbody>\n",
       "</table>\n",
       "<p>1 rows × 29 columns</p>\n",
       "</div>"
      ],
      "text/plain": [
       "     Returns  Standard Deviation  Semi-Deviation  Sharpe Ratio  Sortino Ratio  \\\n",
       "0  31.685745           14.562339        8.069578       1.93003       3.482926   \n",
       "\n",
       "   ASIANPAINT Weight  BAJFINANCE Weight  BAJAJFINSV Weight  BRITANNIA Weight  \\\n",
       "0           4.576064           9.676986           2.881647          3.762807   \n",
       "\n",
       "   DIVISLAB Weight  ...  NESTLEIND Weight  POWERGRID Weight  RELIANCE Weight  \\\n",
       "0         6.100055  ...          9.762288          2.014192         7.839004   \n",
       "\n",
       "   TCS Weight  TATACONSUM Weight  TATASTEEL Weight  TECHM Weight  \\\n",
       "0    7.728703           2.277867          3.332264      1.031637   \n",
       "\n",
       "   TITAN Weight  ULTRACEMCO Weight  WIPRO Weight  \n",
       "0      7.217097           0.606272      1.736266  \n",
       "\n",
       "[1 rows x 29 columns]"
      ]
     },
     "execution_count": 18,
     "metadata": {},
     "output_type": "execute_result"
    }
   ],
   "source": [
    "pc"
   ]
  },
  {
   "cell_type": "code",
   "execution_count": 19,
   "metadata": {
    "id": "FEDWneNnv5SX"
   },
   "outputs": [],
   "source": [
    "pc.to_csv(\"Filtered_MVO_2021_summary.csv\")"
   ]
  },
  {
   "cell_type": "code",
   "execution_count": 19,
   "metadata": {
    "colab": {
     "base_uri": "https://localhost:8080/",
     "height": 117
    },
    "executionInfo": {
     "elapsed": 424,
     "status": "ok",
     "timestamp": 1621600636249,
     "user": {
      "displayName": "Dhiraj Patidar",
      "photoUrl": "",
      "userId": "01911352281812304855"
     },
     "user_tz": -330
    },
    "id": "7ns3vwlIiihQ",
    "outputId": "84b1912f-7c68-4fcc-b132-c73f14566e93"
   },
   "outputs": [
    {
     "data": {
      "text/html": [
       "<div>\n",
       "<style scoped>\n",
       "    .dataframe tbody tr th:only-of-type {\n",
       "        vertical-align: middle;\n",
       "    }\n",
       "\n",
       "    .dataframe tbody tr th {\n",
       "        vertical-align: top;\n",
       "    }\n",
       "\n",
       "    .dataframe thead th {\n",
       "        text-align: right;\n",
       "    }\n",
       "</style>\n",
       "<table border=\"1\" class=\"dataframe\">\n",
       "  <thead>\n",
       "    <tr style=\"text-align: right;\">\n",
       "      <th></th>\n",
       "      <th>Returns</th>\n",
       "      <th>Standard Deviation</th>\n",
       "      <th>Semi-Deviation</th>\n",
       "      <th>Sharpe Ratio</th>\n",
       "      <th>Sortino Ratio</th>\n",
       "      <th>Adj Close Weight</th>\n",
       "    </tr>\n",
       "  </thead>\n",
       "  <tbody>\n",
       "    <tr>\n",
       "      <th>0</th>\n",
       "      <td>13.339271</td>\n",
       "      <td>17.98775</td>\n",
       "      <td>12.072388</td>\n",
       "      <td>0.542551</td>\n",
       "      <td>0.808396</td>\n",
       "      <td>100.0</td>\n",
       "    </tr>\n",
       "  </tbody>\n",
       "</table>\n",
       "</div>"
      ],
      "text/plain": [
       "     Returns  Standard Deviation  Semi-Deviation  Sharpe Ratio  Sortino Ratio  \\\n",
       "0  13.339271            17.98775       12.072388      0.542551       0.808396   \n",
       "\n",
       "   Adj Close Weight  \n",
       "0             100.0  "
      ]
     },
     "execution_count": 19,
     "metadata": {},
     "output_type": "execute_result"
    }
   ],
   "source": [
    "max_sharpe=pc['Sharpe Ratio'].max()                                             #Best optimised portfolio wrt sharpe ratio\n",
    "max_sharpe_portfolio=pc.loc[pc['Sharpe Ratio'] == max_sharpe]\n",
    "max_sharpe_portfolio"
   ]
  },
  {
   "cell_type": "code",
   "execution_count": 20,
   "metadata": {
    "colab": {
     "base_uri": "https://localhost:8080/",
     "height": 117
    },
    "executionInfo": {
     "elapsed": 10,
     "status": "ok",
     "timestamp": 1621600636250,
     "user": {
      "displayName": "Dhiraj Patidar",
      "photoUrl": "",
      "userId": "01911352281812304855"
     },
     "user_tz": -330
    },
    "id": "UC-kxQbux5jc",
    "outputId": "88f6ad88-af94-469b-ac2d-20c125254bba"
   },
   "outputs": [
    {
     "data": {
      "text/html": [
       "<div>\n",
       "<style scoped>\n",
       "    .dataframe tbody tr th:only-of-type {\n",
       "        vertical-align: middle;\n",
       "    }\n",
       "\n",
       "    .dataframe tbody tr th {\n",
       "        vertical-align: top;\n",
       "    }\n",
       "\n",
       "    .dataframe thead th {\n",
       "        text-align: right;\n",
       "    }\n",
       "</style>\n",
       "<table border=\"1\" class=\"dataframe\">\n",
       "  <thead>\n",
       "    <tr style=\"text-align: right;\">\n",
       "      <th></th>\n",
       "      <th>Returns</th>\n",
       "      <th>Standard Deviation</th>\n",
       "      <th>Semi-Deviation</th>\n",
       "      <th>Sharpe Ratio</th>\n",
       "      <th>Sortino Ratio</th>\n",
       "      <th>Adj Close Weight</th>\n",
       "    </tr>\n",
       "  </thead>\n",
       "  <tbody>\n",
       "    <tr>\n",
       "      <th>0</th>\n",
       "      <td>13.339271</td>\n",
       "      <td>17.98775</td>\n",
       "      <td>12.072388</td>\n",
       "      <td>0.542551</td>\n",
       "      <td>0.808396</td>\n",
       "      <td>100.0</td>\n",
       "    </tr>\n",
       "  </tbody>\n",
       "</table>\n",
       "</div>"
      ],
      "text/plain": [
       "     Returns  Standard Deviation  Semi-Deviation  Sharpe Ratio  Sortino Ratio  \\\n",
       "0  13.339271            17.98775       12.072388      0.542551       0.808396   \n",
       "\n",
       "   Adj Close Weight  \n",
       "0             100.0  "
      ]
     },
     "execution_count": 20,
     "metadata": {},
     "output_type": "execute_result"
    }
   ],
   "source": [
    "max_sortino=pc['Sortino Ratio'].max()                                            #Best optimised portfolio wrt sortino ratio\n",
    "max_sortino_portfolio=pc.loc[pc['Sortino Ratio'] == max_sortino]\n",
    "max_sortino_portfolio"
   ]
  },
  {
   "cell_type": "code",
   "execution_count": 21,
   "metadata": {
    "id": "z98t-uDoHI6_"
   },
   "outputs": [],
   "source": [
    "#code for visualization is to be written"
   ]
  },
  {
   "cell_type": "code",
   "execution_count": 65,
   "metadata": {},
   "outputs": [],
   "source": [
    "pc_sharpe=pc.drop(columns=['Sortino Ratio','Semi-Deviation'])"
   ]
  },
  {
   "cell_type": "code",
   "execution_count": 73,
   "metadata": {},
   "outputs": [],
   "source": [
    "sharpe_optimal_portfolio.to_csv('Sharpe_Optimal_MV.csv')"
   ]
  },
  {
   "cell_type": "code",
   "execution_count": 74,
   "metadata": {},
   "outputs": [
    {
     "data": {
      "text/html": [
       "<div>\n",
       "<style scoped>\n",
       "    .dataframe tbody tr th:only-of-type {\n",
       "        vertical-align: middle;\n",
       "    }\n",
       "\n",
       "    .dataframe tbody tr th {\n",
       "        vertical-align: top;\n",
       "    }\n",
       "\n",
       "    .dataframe thead th {\n",
       "        text-align: right;\n",
       "    }\n",
       "</style>\n",
       "<table border=\"1\" class=\"dataframe\">\n",
       "  <thead>\n",
       "    <tr style=\"text-align: right;\">\n",
       "      <th></th>\n",
       "      <th>0</th>\n",
       "    </tr>\n",
       "  </thead>\n",
       "  <tbody>\n",
       "    <tr>\n",
       "      <th>Returns</th>\n",
       "      <td>13.339271</td>\n",
       "    </tr>\n",
       "    <tr>\n",
       "      <th>Standard Deviation</th>\n",
       "      <td>17.987750</td>\n",
       "    </tr>\n",
       "    <tr>\n",
       "      <th>Sharpe Ratio</th>\n",
       "      <td>0.542551</td>\n",
       "    </tr>\n",
       "    <tr>\n",
       "      <th>Adj Close Weight</th>\n",
       "      <td>100.000000</td>\n",
       "    </tr>\n",
       "  </tbody>\n",
       "</table>\n",
       "</div>"
      ],
      "text/plain": [
       "                             0\n",
       "Returns              13.339271\n",
       "Standard Deviation   17.987750\n",
       "Sharpe Ratio          0.542551\n",
       "Adj Close Weight    100.000000"
      ]
     },
     "execution_count": 74,
     "metadata": {},
     "output_type": "execute_result"
    }
   ],
   "source": [
    "sharpe_optimal_portfolio.T"
   ]
  },
  {
   "cell_type": "code",
   "execution_count": 75,
   "metadata": {},
   "outputs": [],
   "source": [
    "pc_sortino=pc.drop(columns=['Sharpe Ratio','Standard Deviation'])"
   ]
  },
  {
   "cell_type": "code",
   "execution_count": 83,
   "metadata": {},
   "outputs": [],
   "source": [
    "sortino_optimal_portfolio.to_csv('Sortino_Optimal_MV.csv')"
   ]
  },
  {
   "cell_type": "code",
   "execution_count": 84,
   "metadata": {},
   "outputs": [
    {
     "data": {
      "text/html": [
       "<div>\n",
       "<style scoped>\n",
       "    .dataframe tbody tr th:only-of-type {\n",
       "        vertical-align: middle;\n",
       "    }\n",
       "\n",
       "    .dataframe tbody tr th {\n",
       "        vertical-align: top;\n",
       "    }\n",
       "\n",
       "    .dataframe thead th {\n",
       "        text-align: right;\n",
       "    }\n",
       "</style>\n",
       "<table border=\"1\" class=\"dataframe\">\n",
       "  <thead>\n",
       "    <tr style=\"text-align: right;\">\n",
       "      <th></th>\n",
       "      <th>0</th>\n",
       "    </tr>\n",
       "  </thead>\n",
       "  <tbody>\n",
       "    <tr>\n",
       "      <th>Returns</th>\n",
       "      <td>13.339271</td>\n",
       "    </tr>\n",
       "    <tr>\n",
       "      <th>Semi-Deviation</th>\n",
       "      <td>12.072388</td>\n",
       "    </tr>\n",
       "    <tr>\n",
       "      <th>Sortino Ratio</th>\n",
       "      <td>0.808396</td>\n",
       "    </tr>\n",
       "    <tr>\n",
       "      <th>Adj Close Weight</th>\n",
       "      <td>100.000000</td>\n",
       "    </tr>\n",
       "  </tbody>\n",
       "</table>\n",
       "</div>"
      ],
      "text/plain": [
       "                           0\n",
       "Returns            13.339271\n",
       "Semi-Deviation     12.072388\n",
       "Sortino Ratio       0.808396\n",
       "Adj Close Weight  100.000000"
      ]
     },
     "execution_count": 84,
     "metadata": {},
     "output_type": "execute_result"
    }
   ],
   "source": [
    "sortino_optimal_portfolio.T"
   ]
  },
  {
   "cell_type": "code",
   "execution_count": null,
   "metadata": {},
   "outputs": [],
   "source": []
  }
 ],
 "metadata": {
  "colab": {
   "collapsed_sections": [],
   "name": "MV_model.ipynb",
   "provenance": []
  },
  "kernelspec": {
   "display_name": "Python 3",
   "language": "python",
   "name": "python3"
  },
  "language_info": {
   "codemirror_mode": {
    "name": "ipython",
    "version": 3
   },
   "file_extension": ".py",
   "mimetype": "text/x-python",
   "name": "python",
   "nbconvert_exporter": "python",
   "pygments_lexer": "ipython3",
   "version": "3.7.6"
  }
 },
 "nbformat": 4,
 "nbformat_minor": 4
}
